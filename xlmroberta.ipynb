{
 "cells": [
  {
   "cell_type": "markdown",
   "id": "aee7ec87-d449-43ab-838a-2867b9986036",
   "metadata": {
    "id": "aee7ec87-d449-43ab-838a-2867b9986036"
   },
   "source": [
    "# Task 1: Subjectivity in News Articles"
   ]
  },
  {
   "cell_type": "markdown",
   "id": "6e1fc62d-9b04-4147-b715-b5160a450172",
   "metadata": {
    "id": "6e1fc62d-9b04-4147-b715-b5160a450172"
   },
   "source": [
    "## Task Description"
   ]
  },
  {
   "cell_type": "markdown",
   "id": "be8d832e-c55d-4c4e-a915-3c4ffbf45527",
   "metadata": {
    "id": "be8d832e-c55d-4c4e-a915-3c4ffbf45527"
   },
   "source": [
    "Systems are challenged to distinguish whether a sentence from a news article expresses the subjective view of the author behind it or presents an objective view on the covered topic instead.\n",
    "This is a binary classification tasks in which systems have to identify whether a text sequence (a sentence or a paragraph) is subjective (SUBJ) or objective (OBJ).\n",
    "The task comprises three settings:\n",
    "\n",
    "* Monolingual: train and test on data in a given language L\n",
    "\n",
    "* Multilingual: train and test on data comprising several languages\n",
    "\n",
    "* Zero-shot: train on several languages and test on unseen languages\n",
    "\n",
    "### Contents of the Task 1 Directory\n",
    "\n",
    "* Main folder: data\n",
    "\n",
    "  Contains a subfolder for each language which contain the data as TSV format with .tsv extension (train_LANG.tsv, dev_LANG.tsv, dev_test_LANG.tsv, test_LANG.tsv). As LANG we used standard language code for each language.\n",
    "\n",
    "* Main folder: baseline\n",
    "\n",
    "  Contains a single file, baseline.py, used to train a baseline and provide predictions.\n",
    "\n",
    "* Main folder: scorer\n",
    "\n",
    "  Contains a single file, evaluate.py, that checks the format of a submission and evaluate the various metrics.\n",
    "\n",
    "### Input Data Format\n",
    "The data will be provided as a TSV file with three columns:\n",
    "\n",
    "    sentence_id  sentence  label\n",
    "\n",
    "Where:\n",
    "\n",
    "* sentence_id: sentence id for a given sentence in a news article\n",
    "\n",
    "* sentence: sentence's text\n",
    "\n",
    "* label: OBJ and SUBJ\n",
    "\n",
    "\n",
    "Examples:\n",
    "\n",
    "    b9e1635a-72aa-467f-86d6-f56ef09f62c3  Gone are the days when they led the world in recession-busting SUBJ\n",
    "    f99b5143-70d2-494a-a2f5-c68f10d09d0a  The trend is expected to reverse as soon as next month.  OBJ\n",
    "\n",
    "### Output Data Format\n",
    "The output must be a TSV format with two columns: sentence_id and label.\n",
    "\n",
    "### Evaluation Metrics\n",
    "This task is evaluated as a classification task. We will use the F1-macro measure for the ranking of teams.\n",
    "We will also measure Precision, Recall, and F1 of the SUBJ class and the macro-averaged scores.\n",
    "\n",
    "\n",
    "### Scorers\n",
    "To evaluate the output of your model which should be in the output format required, please run the script below:\n",
    "\n",
    "    python evaluate.py -g dev_truth.tsv -p dev_predicted.tsv\n",
    "\n",
    "where dev_predicted.tsv is the output of your model on the dev set, and dev_truth.tsv is the golden label file provided by us.\n",
    "The file can be used also to validate the format of the submission, simply use the provided test file as gold data.\n",
    "The evaluation will not be performed, but the format of your input will be checked.\n",
    "\n",
    "### Baselines\n",
    "The script to train the baseline is provided in the related directory.\n",
    "The script can be run as follow:\n",
    "\n",
    "    python baseline.py -trp train_data.tsv -ttp dev_data.tsv\n",
    "\n",
    "where train_data.tsv is the file to be used for training and dev_data.tsv is the file on which doing the prediction.\n",
    "The baseline is a logistic regressor trained on a Sentence-BERT multilingual representation of the data."
   ]
  },
  {
   "cell_type": "markdown",
   "id": "87e6f77f-93cb-4da1-b047-4b5d26a8ec84",
   "metadata": {
    "id": "87e6f77f-93cb-4da1-b047-4b5d26a8ec84"
   },
   "source": [
    "## Data Loading"
   ]
  },
  {
   "cell_type": "code",
   "execution_count": null,
   "id": "z7Rmzm5IB6oC",
   "metadata": {
    "colab": {
     "base_uri": "https://localhost:8080/"
    },
    "id": "z7Rmzm5IB6oC",
    "outputId": "5245b0c2-4ceb-43a9-e98b-4c76f7765cd3"
   },
   "outputs": [
    {
     "name": "stdout",
     "output_type": "stream",
     "text": [
      "Reading package lists... Done\n",
      "Building dependency tree... Done\n",
      "Reading state information... Done\n",
      "git-lfs is already the newest version (3.0.2-1ubuntu0.3).\n",
      "0 upgraded, 0 newly installed, 0 to remove and 35 not upgraded.\n"
     ]
    }
   ],
   "source": [
    "!apt-get install git-lfs -y"
   ]
  },
  {
   "cell_type": "code",
   "execution_count": null,
   "id": "orAEyXZWB3uU",
   "metadata": {
    "colab": {
     "base_uri": "https://localhost:8080/"
    },
    "id": "orAEyXZWB3uU",
    "outputId": "a4f28d77-33e1-42d1-8005-7f02d8bf3a4d"
   },
   "outputs": [
    {
     "name": "stdout",
     "output_type": "stream",
     "text": [
      "Cloning into 'clef2025-checkthat-lab'...\n",
      "remote: Enumerating objects: 862, done.\u001b[K\n",
      "remote: Counting objects: 100% (841/841), done.\u001b[K\n",
      "remote: Compressing objects: 100% (422/422), done.\u001b[K\n",
      "remote: Total 862 (delta 410), reused 831 (delta 406), pack-reused 21 (from 1)\u001b[K\n",
      "Receiving objects: 100% (862/862), 78.96 MiB | 12.75 MiB/s, done.\n",
      "Resolving deltas: 100% (414/414), done.\n",
      "Updating files: 100% (181/181), done.\n"
     ]
    }
   ],
   "source": [
    "!git clone https://gitlab.com/checkthat_lab/clef2025-checkthat-lab.git"
   ]
  },
  {
   "cell_type": "code",
   "execution_count": null,
   "id": "f97e05a6-3fb6-48c8-840a-72b1984c30b8",
   "metadata": {
    "id": "f97e05a6-3fb6-48c8-840a-72b1984c30b8"
   },
   "outputs": [],
   "source": [
    "# !pip install pandas"
   ]
  },
  {
   "cell_type": "code",
   "execution_count": null,
   "id": "JoxRrnoGB_NH",
   "metadata": {
    "id": "JoxRrnoGB_NH"
   },
   "outputs": [],
   "source": [
    "DATA_PATH = \"clef2025-checkthat-lab/task1/data\"\n",
    "SCORER_PATH = \"clef2025-checkthat-lab/task1/scorer\""
   ]
  },
  {
   "cell_type": "code",
   "execution_count": null,
   "id": "6e0a5b06-78a2-41f1-bfb2-53ce7ec88db0",
   "metadata": {},
   "outputs": [],
   "source": [
    "DATA_PATH = \"data\"\n",
    "SCORER_PATH = \"scorer\""
   ]
  },
  {
   "cell_type": "code",
   "execution_count": null,
   "id": "929c7d52-6438-4722-a13c-e6a46806b33a",
   "metadata": {
    "id": "929c7d52-6438-4722-a13c-e6a46806b33a"
   },
   "outputs": [],
   "source": [
    "import pandas as pd"
   ]
  },
  {
   "cell_type": "code",
   "execution_count": null,
   "id": "a8f91dd1-a5de-4669-80b8-0af805e19297",
   "metadata": {
    "id": "a8f91dd1-a5de-4669-80b8-0af805e19297"
   },
   "outputs": [],
   "source": [
    "# ARABIC\n",
    "train_path = f'{DATA_PATH}/arabic/train_ar.tsv'\n",
    "dev_path = f'{DATA_PATH}/arabic/dev_ar.tsv'\n",
    "\n",
    "df_train_ar = pd.read_csv(train_path, sep='\\t')\n",
    "df_dev_ar = pd.read_csv(dev_path, sep='\\t')\n",
    "\n",
    "# BULGARIAN\n",
    "train_path = f'{DATA_PATH}/bulgarian/train_bg.tsv'\n",
    "dev_path = f'{DATA_PATH}/bulgarian/dev_bg.tsv'\n",
    "\n",
    "df_train_bg = pd.read_csv(train_path, sep='\\t')\n",
    "df_dev_bg = pd.read_csv(dev_path, sep='\\t')\n",
    "\n",
    "# ENGLISH\n",
    "train_path = f'{DATA_PATH}/english/train_en.tsv'\n",
    "dev_path = f'{DATA_PATH}/english/dev_en.tsv'\n",
    "\n",
    "df_train_en = pd.read_csv(train_path, sep='\\t')\n",
    "df_dev_en = pd.read_csv(dev_path, sep='\\t')\n",
    "\n",
    "# GERMAN\n",
    "train_path = f'{DATA_PATH}/german/train_de.tsv'\n",
    "dev_path = f'{DATA_PATH}/german/dev_de.tsv'\n",
    "\n",
    "df_train_de = pd.read_csv(train_path, sep='\\t')\n",
    "df_dev_de = pd.read_csv(dev_path, sep='\\t')\n",
    "\n",
    "# ITALIAN\n",
    "train_path = f'{DATA_PATH}/italian/train_it.tsv'\n",
    "dev_path = f'{DATA_PATH}/italian/dev_it.tsv'\n",
    "\n",
    "df_train_it = pd.read_csv(train_path, sep='\\t')\n",
    "df_dev_it = pd.read_csv(dev_path, sep='\\t')\n",
    "\n",
    "# MONOLINGUAL - TEST ON ENGLISH AND ITALIAN\n",
    "test_path = f'{DATA_PATH}/english/test_en_labeled.tsv'\n",
    "df_test_en = pd.read_csv(test_path, sep='\\t')\n",
    "\n",
    "test_path = f'{DATA_PATH}/italian/test_it_labeled.tsv'\n",
    "df_test_it = pd.read_csv(test_path, sep='\\t')\n",
    "\n",
    "# MULTILINGUAL - TEST ON ARABIC, BULGARIAN, ENGLISH, GERMAN AND ITALIAN\n",
    "test_path = f'{DATA_PATH}/multilingual/test_multilingual_labeled.tsv'\n",
    "\n",
    "df_test_multi = pd.read_csv(test_path, sep='\\t')\n",
    "\n",
    "# ZERO-SHOT - TEST ON GREEK, POLISH, ROMANIAN AND UKRAINIAN\n",
    "test_path = f'{DATA_PATH}/greek/test_gr_labeled.tsv'\n",
    "df_test_gr = pd.read_csv(test_path, sep='\\t')\n",
    "\n",
    "test_path = f'{DATA_PATH}/polish/test_pol_labeled.tsv'\n",
    "df_test_pol = pd.read_csv(test_path, sep='\\t')\n",
    "\n",
    "test_path = f'{DATA_PATH}/romanian/test_ro_labeled.tsv'\n",
    "df_test_ro = pd.read_csv(test_path, sep='\\t')\n",
    "\n",
    "test_path = f'{DATA_PATH}/ukrainian/test_ukr_labeled.tsv'\n",
    "df_test_ukr = pd.read_csv(test_path, sep='\\t')"
   ]
  },
  {
   "cell_type": "code",
   "execution_count": null,
   "id": "956e8470-1242-423a-9cb6-da57c6b80efb",
   "metadata": {
    "colab": {
     "base_uri": "https://localhost:8080/"
    },
    "id": "956e8470-1242-423a-9cb6-da57c6b80efb",
    "outputId": "f1260800-a1f2-4855-9e6b-2e50e72995d3"
   },
   "outputs": [
    {
     "name": "stderr",
     "output_type": "stream",
     "text": [
      "<ipython-input-128-42071ef08fce>:12: SettingWithCopyWarning: \n",
      "A value is trying to be set on a copy of a slice from a DataFrame.\n",
      "Try using .loc[row_indexer,col_indexer] = value instead\n",
      "\n",
      "See the caveats in the documentation: https://pandas.pydata.org/pandas-docs/stable/user_guide/indexing.html#returning-a-view-versus-a-copy\n",
      "  df_train_en['label'] = df_train_en['label'].map({'OBJ': 1, 'SUBJ': 0})\n",
      "<ipython-input-128-42071ef08fce>:13: SettingWithCopyWarning: \n",
      "A value is trying to be set on a copy of a slice from a DataFrame.\n",
      "Try using .loc[row_indexer,col_indexer] = value instead\n",
      "\n",
      "See the caveats in the documentation: https://pandas.pydata.org/pandas-docs/stable/user_guide/indexing.html#returning-a-view-versus-a-copy\n",
      "  df_dev_en['label'] = df_dev_en['label'].map({'OBJ': 1, 'SUBJ': 0})\n"
     ]
    }
   ],
   "source": [
    "# Keep only the required columns\n",
    "df_train_en = df_train_en[['sentence_id', 'sentence', 'label']]\n",
    "df_dev_en = df_dev_en[['sentence_id', 'sentence', 'label']]\n",
    "\n",
    "# Encode labels: OBJ -> 1, SUBJ -> 0\n",
    "df_train_ar['label'] = df_train_ar['label'].map({'OBJ': 1, 'SUBJ': 0})\n",
    "df_dev_ar['label'] = df_dev_ar['label'].map({'OBJ': 1, 'SUBJ': 0})\n",
    "\n",
    "df_train_bg['label'] = df_train_bg['label'].map({'OBJ': 1, 'SUBJ': 0})\n",
    "df_dev_bg['label'] = df_dev_bg['label'].map({'OBJ': 1, 'SUBJ': 0})\n",
    "\n",
    "df_train_en['label'] = df_train_en['label'].map({'OBJ': 1, 'SUBJ': 0})\n",
    "df_dev_en['label'] = df_dev_en['label'].map({'OBJ': 1, 'SUBJ': 0})\n",
    "df_test_en['label'] = df_test_en['label'].map({'OBJ': 1, 'SUBJ': 0})\n",
    "\n",
    "df_train_de['label'] = df_train_de['label'].map({'OBJ': 1, 'SUBJ': 0})\n",
    "df_dev_de['label'] = df_dev_de['label'].map({'OBJ': 1, 'SUBJ': 0})\n",
    "\n",
    "df_train_it['label'] = df_train_it['label'].map({'OBJ': 1, 'SUBJ': 0})\n",
    "df_dev_it['label'] = df_dev_it['label'].map({'OBJ': 1, 'SUBJ': 0})\n",
    "df_test_it['label'] = df_test_it['label'].map({'OBJ': 1, 'SUBJ': 0})\n",
    "\n",
    "df_test_multi['label'] = df_test_multi['label'].map({'OBJ': 1, 'SUBJ': 0})\n",
    "\n",
    "df_test_gr['label'] = df_test_gr['label'].map({'OBJ': 1, 'SUBJ': 0})\n",
    "\n",
    "df_test_pol['label'] = df_test_pol['label'].map({'OBJ': 1, 'SUBJ': 0})\n",
    "\n",
    "df_test_ro['label'] = df_test_ro['label'].map({'OBJ': 1, 'SUBJ': 0})\n",
    "\n",
    "df_test_ukr['label'] = df_test_ukr['label'].map({'OBJ': 1, 'SUBJ': 0})"
   ]
  },
  {
   "cell_type": "code",
   "execution_count": null,
   "id": "48d593e4-7aa1-4264-ae2f-270116f8571a",
   "metadata": {
    "id": "48d593e4-7aa1-4264-ae2f-270116f8571a"
   },
   "outputs": [],
   "source": [
    "def print_shape(df1, df2, df3):\n",
    "    \"\"\"\n",
    "    Utility function to print the shape of the three dataframes\n",
    "    \"\"\"\n",
    "    if df1 is not None:\n",
    "        print(\"Train dataframe:    {} rows and {} columns\".format(df1.shape[0], df1.shape[1]))\n",
    "    if df2 is not None:\n",
    "        print(\"Dev dataframe:       {} rows and {} columns\".format(df2.shape[0], df2.shape[1]))\n",
    "    if df3 is not None:\n",
    "        print(\"Test dataframe:      {} rows and {} columns\".format(df3.shape[0], df3.shape[1]))\n",
    "    print(\"--------------------------------------------\")"
   ]
  },
  {
   "cell_type": "code",
   "execution_count": null,
   "id": "5b86540b-c9c2-4e64-81ac-28b65a2b592b",
   "metadata": {
    "colab": {
     "base_uri": "https://localhost:8080/"
    },
    "id": "5b86540b-c9c2-4e64-81ac-28b65a2b592b",
    "outputId": "33a946f2-7e31-49f5-8526-6cae739c4667"
   },
   "outputs": [
    {
     "name": "stdout",
     "output_type": "stream",
     "text": [
      "ARABIC\n",
      "Train dataframe:    2446 rows and 3 columns\n",
      "Dev dataframe:       467 rows and 3 columns\n",
      "--------------------------------------------\n",
      "BULGARIAN\n",
      "Train dataframe:    691 rows and 3 columns\n",
      "Dev dataframe:       306 rows and 3 columns\n",
      "--------------------------------------------\n",
      "ENGLISH\n",
      "Train dataframe:    830 rows and 3 columns\n",
      "Dev dataframe:       462 rows and 3 columns\n",
      "Test dataframe:      300 rows and 3 columns\n",
      "--------------------------------------------\n",
      "GERMAN\n",
      "Train dataframe:    800 rows and 3 columns\n",
      "Dev dataframe:       491 rows and 3 columns\n",
      "--------------------------------------------\n",
      "ITALIAN\n",
      "Train dataframe:    1613 rows and 3 columns\n",
      "Dev dataframe:       667 rows and 3 columns\n",
      "Test dataframe:      299 rows and 3 columns\n",
      "--------------------------------------------\n",
      "MULTILINGUAL\n",
      "Test dataframe:      1982 rows and 3 columns\n",
      "--------------------------------------------\n",
      "GREEK\n",
      "Test dataframe:      284 rows and 3 columns\n",
      "--------------------------------------------\n",
      "POLISH\n",
      "Test dataframe:      351 rows and 3 columns\n",
      "--------------------------------------------\n",
      "ROMANIAN\n",
      "Test dataframe:      206 rows and 3 columns\n",
      "--------------------------------------------\n",
      "UKRAINIAN\n",
      "Test dataframe:      297 rows and 3 columns\n",
      "--------------------------------------------\n"
     ]
    }
   ],
   "source": [
    "print(\"ARABIC\")\n",
    "print_shape(df_train_ar, df_dev_ar, None)\n",
    "print(\"BULGARIAN\")\n",
    "print_shape(df_train_bg, df_dev_bg, None)\n",
    "print(\"ENGLISH\")\n",
    "print_shape(df_train_en, df_dev_en, df_test_en)\n",
    "print(\"GERMAN\")\n",
    "print_shape(df_train_de, df_dev_de, None)\n",
    "print(\"ITALIAN\")\n",
    "print_shape(df_train_it, df_dev_it, df_test_it)\n",
    "print(\"MULTILINGUAL\")\n",
    "print_shape(None, None, df_test_multi)\n",
    "print(\"GREEK\")\n",
    "print_shape(None, None, df_test_gr)\n",
    "print(\"POLISH\")\n",
    "print_shape(None, None, df_test_pol)\n",
    "print(\"ROMANIAN\")\n",
    "print_shape(None, None, df_test_ro)\n",
    "print(\"UKRAINIAN\")\n",
    "print_shape(None, None, df_test_ukr)"
   ]
  },
  {
   "cell_type": "code",
   "execution_count": null,
   "id": "8ebff4fe-418f-4c84-b600-4726fde0082e",
   "metadata": {
    "id": "8ebff4fe-418f-4c84-b600-4726fde0082e"
   },
   "outputs": [],
   "source": [
    "# Keep the original sentence for error analysis\n",
    "original_sentence_en = df_test_en[\"sentence\"]\n",
    "# Keep the original sentence for error analysis\n",
    "original_sentence_it = df_test_it[\"sentence\"]"
   ]
  },
  {
   "cell_type": "markdown",
   "id": "iUFKhQyuL-IQ",
   "metadata": {
    "id": "iUFKhQyuL-IQ"
   },
   "source": [
    "### Utils"
   ]
  },
  {
   "cell_type": "code",
   "execution_count": null,
   "id": "d02eb092-62f5-4fd4-b741-ae9d112175f5",
   "metadata": {
    "id": "d02eb092-62f5-4fd4-b741-ae9d112175f5"
   },
   "outputs": [],
   "source": [
    "def plot_confusion_matrix(model, results):\n",
    "    cm = confusion_matrix(results[\"true_label\"], results[\"predicted_label\"], labels=[0, 1])\n",
    "    cmd = ConfusionMatrixDisplay(cm, display_labels=[\"Subjective\", \"Objective\"])\n",
    "    cmd.plot(cmap=\"Blues\")\n",
    "    plt.xlabel('Predicted Label', fontsize=18, labelpad=14)\n",
    "    plt.ylabel('True Label', fontsize=18, labelpad=14)\n",
    "    plt.xticks(fontsize=14)\n",
    "    plt.yticks(fontsize=14)\n",
    "#    plt.title(f\"{model}: Confusion Matrix\")\n",
    "#    plt.savefig(f\"outputs/cm_{model}.png\", bbox_inches='tight')\n",
    "    plt.show()\n",
    "\n",
    "    cm = confusion_matrix(results[\"true_label\"], results[\"predicted_label\"], labels=[0, 1], normalize='all')\n",
    "    cmd = ConfusionMatrixDisplay(cm, display_labels=[\"Subjective\", \"Objective\"])\n",
    "    cmd.plot(cmap=\"Blues\")\n",
    "    plt.xlabel('Predicted Label', fontsize=18, labelpad=14)\n",
    "    plt.ylabel('True Label', fontsize=18, labelpad=14)\n",
    "    plt.xticks(fontsize=14)\n",
    "    plt.yticks(fontsize=14)\n",
    "#    plt.title(f\"{model}: Normalized Confusion Matrix\")\n",
    "#    plt.savefig(f\"outputs/cm_{model}_norm.png\", bbox_inches='tight')\n",
    "    plt.show()\n",
    "\n",
    "def plot_precision_recall_curve(model, precision, recall, average_precision):\n",
    "    # Plot the Precision-Recall curve\n",
    "    plt.figure()\n",
    "    plt.step(recall, precision, color='b', alpha=0.2, where='post')\n",
    "    plt.fill_between(recall, precision, step='post', alpha=0.2, color='b')\n",
    "    plt.xlabel('Recall')\n",
    "    plt.ylabel('Precision')\n",
    "    plt.title(f'{model}: Precision-Recall Curve (AP = {average_precision:.2f})')\n",
    "    # plt.savefig(f\"outputs/pr_curve_{model}.png\")\n",
    "    plt.show()"
   ]
  },
  {
   "cell_type": "markdown",
   "id": "dd247422-f7b5-4c36-9902-1ffa63e0bae7",
   "metadata": {
    "id": "dd247422-f7b5-4c36-9902-1ffa63e0bae7"
   },
   "source": [
    "## Solution 1: Transformer"
   ]
  },
  {
   "cell_type": "markdown",
   "id": "e0eae923-21b7-433d-8c09-2e793f56d30c",
   "metadata": {
    "id": "e0eae923-21b7-433d-8c09-2e793f56d30c"
   },
   "source": [
    "### Utils"
   ]
  },
  {
   "cell_type": "code",
   "execution_count": null,
   "id": "3baf96a5-d69c-49a5-8149-479312910895",
   "metadata": {
    "id": "3baf96a5-d69c-49a5-8149-479312910895"
   },
   "outputs": [],
   "source": [
    "# !pip install transformers\n",
    "# !pip install datasets\n",
    "# !pip install accelerate -U\n",
    "# !pip install evaluate\n",
    "# !pip install bitsandbytes\n",
    "# !pip install tf-keras\n",
    "# !pip install sentencepiece\n",
    "# !pip install sentence_transformers"
   ]
  },
  {
   "cell_type": "code",
   "execution_count": null,
   "id": "af16334d-c3f6-4e63-b4fd-14e54934ea68",
   "metadata": {
    "id": "af16334d-c3f6-4e63-b4fd-14e54934ea68"
   },
   "outputs": [],
   "source": [
    "import evaluate\n",
    "import matplotlib.pyplot as plt\n",
    "import numpy as np\n",
    "import os\n",
    "import seaborn as sns\n",
    "import shutil\n",
    "import torch\n",
    "\n",
    "from datasets import Dataset\n",
    "from transformers import (\n",
    "    XLMRobertaTokenizer,\n",
    "    XLMRobertaForSequenceClassification,\n",
    "    Trainer,\n",
    "    TrainingArguments,\n",
    "    DataCollatorWithPadding\n",
    ")\n",
    "from sklearn.metrics import classification_report\n",
    "from sklearn.metrics import confusion_matrix, ConfusionMatrixDisplay\n",
    "from sklearn.metrics import precision_recall_curve, average_precision_score, auc"
   ]
  },
  {
   "cell_type": "code",
   "execution_count": null,
   "id": "6b6b1d5f-7aad-449e-b794-5a5843b4ba4c",
   "metadata": {
    "colab": {
     "base_uri": "https://localhost:8080/",
     "height": 173,
     "referenced_widgets": [
      "e69292bb9cc74abe967bf50b1cdf7d80",
      "b51bd50c997a490f9618ddbc6a99ab85",
      "b7c7f283c4f24bbea9e703fe8c47bdf9",
      "96c99842ae0a4ab19bb7675e12e90ee1",
      "31c072ab6ce043b586dc72fb59ab5773",
      "a1c941a602164277943cb5ab7689ebc5",
      "b3c2371fe1ce4b05a3694e78b4ad3446",
      "b0e7f34430ba415c8246efb6c9c87d63",
      "e05be42d87a149ea9add5c73e2dae774",
      "26b034b829e04a5481fb5dac2d018909",
      "5de57e22141e483c97542bda39c7c46c"
     ]
    },
    "id": "6b6b1d5f-7aad-449e-b794-5a5843b4ba4c",
    "outputId": "c1c3feb1-9b0e-42d3-b4f8-904a6248c1e6"
   },
   "outputs": [
    {
     "name": "stderr",
     "output_type": "stream",
     "text": [
      "/usr/local/lib/python3.11/dist-packages/huggingface_hub/utils/_auth.py:94: UserWarning: \n",
      "The secret `HF_TOKEN` does not exist in your Colab secrets.\n",
      "To authenticate with the Hugging Face Hub, create a token in your settings tab (https://huggingface.co/settings/tokens), set it as secret in your Google Colab and restart your session.\n",
      "You will be able to reuse this secret in all of your notebooks.\n",
      "Please note that authentication is recommended but still optional to access public models or datasets.\n",
      "  warnings.warn(\n"
     ]
    },
    {
     "data": {
      "application/vnd.jupyter.widget-view+json": {
       "model_id": "e69292bb9cc74abe967bf50b1cdf7d80",
       "version_major": 2,
       "version_minor": 0
      },
      "text/plain": [
       "Downloading builder script:   0%|          | 0.00/6.79k [00:00<?, ?B/s]"
      ]
     },
     "metadata": {},
     "output_type": "display_data"
    }
   ],
   "source": [
    "def preprocess_function(examples):\n",
    "    return tokenizer(examples[\"sentence\"], truncation=True, padding=True)\n",
    "\n",
    "# Metrics\n",
    "f1_metric = evaluate.load(\"f1\")\n",
    "def compute_metrics(eval_pred):\n",
    "    logits, labels = eval_pred\n",
    "    preds = np.argmax(logits, axis=-1)\n",
    "    result = f1_metric.compute(predictions=preds, references=labels, average=\"macro\")\n",
    "    return {\"f1_macro\": result[\"f1\"]}"
   ]
  },
  {
   "cell_type": "code",
   "execution_count": null,
   "id": "bWDeOVb3_Yya",
   "metadata": {
    "colab": {
     "base_uri": "https://localhost:8080/"
    },
    "id": "bWDeOVb3_Yya",
    "outputId": "3c3d40a7-1010-45b3-8f30-f112dd4923e3"
   },
   "outputs": [
    {
     "name": "stdout",
     "output_type": "stream",
     "text": [
      "GPU is available: Tesla T4\n"
     ]
    }
   ],
   "source": [
    "import torch\n",
    "\n",
    "if torch.cuda.is_available():\n",
    "    print(f\"GPU is available: {torch.cuda.get_device_name(0)}\")\n",
    "else:\n",
    "    print(\"GPU not available.\")"
   ]
  },
  {
   "cell_type": "markdown",
   "id": "82806704-06b2-4141-8544-b080e8245e3c",
   "metadata": {
    "id": "82806704-06b2-4141-8544-b080e8245e3c"
   },
   "source": [
    "### Monolingual"
   ]
  },
  {
   "cell_type": "markdown",
   "id": "04e18a9d-1ccf-4dd8-9b7f-6d9cfadd2c19",
   "metadata": {
    "id": "04e18a9d-1ccf-4dd8-9b7f-6d9cfadd2c19"
   },
   "source": [
    "#### English"
   ]
  },
  {
   "cell_type": "code",
   "execution_count": null,
   "id": "1cc0b29d-b4e8-43b5-94c3-7f39503c6c9a",
   "metadata": {
    "id": "1cc0b29d-b4e8-43b5-94c3-7f39503c6c9a"
   },
   "outputs": [],
   "source": [
    "dataset_train = Dataset.from_pandas(df_train_en)\n",
    "dataset_val = Dataset.from_pandas(df_dev_en)\n",
    "dataset_test = Dataset.from_pandas(df_test_en)"
   ]
  },
  {
   "cell_type": "code",
   "execution_count": null,
   "id": "198a117a-6127-458a-b509-33c82aef076d",
   "metadata": {
    "colab": {
     "base_uri": "https://localhost:8080/",
     "height": 241,
     "referenced_widgets": [
      "f2aed72279524bc48fb05ffa6594ae66",
      "b391315a70934df1a0ba2d5737166556",
      "d9d611cbcd5e41d29a3de29da7911603",
      "1b46311a295242cd97fdfebb0de7da3d",
      "3db342d434a544bc9a1b0ea0ed1c6e10",
      "0e919c9b095d4e6696dcb2ae8baf2942",
      "8021e1ce6ae94672a897fe3f34b4008e",
      "a4b22a7b585f4db3ac31c2822f2c0469",
      "93dacdedd712453aa0904ad557e68ac9",
      "8e0c2490721444eca4f7186ca499c382",
      "8a4a978bd03b48adb3d6b3fb12130cbe",
      "fd2fdb54354845c7aeebf0cb2cb44fc2",
      "a89f450b45934bcfb2688600230e7bf6",
      "85001b7fca914ee1bafc90f72798430e",
      "1499e1da896242a1b43d7b24981eb5aa",
      "4b5f9c1ce14644e7a681f8a3dc4125b0",
      "d193bc16c3154c308031a60fd839bf16",
      "11a018a91ca94e43a27df277f4af1ee8",
      "59f71c758d8348b4a1d3bc795fc7a6a8",
      "ed9a96e810354799bbca8904fb24c406",
      "0f648594396948d6a9949457115352e4",
      "e7ff3e95bd244fa1af05b2134d90229a",
      "8e5f0c0c3af649eeb61e306ef88b1d27",
      "136193e17b344f50bb2d21fd669cfe87",
      "1f01c698cd964762b70c3686e4255ac9",
      "4f83bab5b836409db048272dcd08590c",
      "58d8fcb98175439a91972599296efe81",
      "f6f5dfcc22e34d8db3243d9c0bdb6119",
      "359fd83210be43a1b8aa5e39294c873f",
      "14fc6edc563e4d848a429881cf6fc001",
      "e6a93854e8714a82bbc8e41da2f234d6",
      "1abcda6ebf994a6bbbd50201dc1a38e1",
      "3f07362a183f4851999d586315bef3d0",
      "5788695335ce4d45a62cd6d07fc68f6f",
      "bbf17939d2df4858bd07925c5b27838a",
      "085632015e724260875bd5df76ea1e01",
      "c16a97fc6cc54429bc76954b95e4e754",
      "8baf04012e654546b2fd144a344be1bf",
      "f22f106e02b843c0b89ac53bb59a8482",
      "1fe0821fb05f4fa8aac60fb00132cd4b",
      "f760a8d5d7b14d318dd7d9318740e24a",
      "dc2247ef23cd4b9e91fe857fbaa1877b",
      "cf449d181f0149e9af8fe1a1e4141214",
      "2946057d1388435abdf573e39cde68df",
      "4fb9392e550248a1a9d13f4895e3233e",
      "271bf058a5aa49a0b1ddd4e88321e662",
      "8cc0e7cef2d94acbaf2d8624a68e347f",
      "66dc3522755d40a1add0126a56178e5f",
      "633a4d91cfcf4dd79176ea6c4243c96e",
      "36b0897601694c008cd69fdea899e084",
      "eb51b4268dce46a384bb30861df273ed",
      "b91b9b06e0a049be84ad7c25644f5a0e",
      "9d48a715ffd048c08d7984ac989d1ad5",
      "a2dbf899e8b84928abf69b67eb15a2b5",
      "2b56d74d6b9044f985b3e44084630e3d",
      "5e7f3ca34705486c912c2e8a678bc270",
      "d87a67ec58254726a6c8ce793f624ab4",
      "c18f4a9d7c544b0eb81d689366cf46c8",
      "b13521261c0e4783a348e5165fdad7f4",
      "8c9b159e6e764a3f8f4076e63bcf4d23",
      "cf2cd7944ea34b2a9bcae14ec5e54db2",
      "eafdc9f9e73841538534d5d08c6b0276",
      "c3e0b707e0504f509642c7b019b35f27",
      "e685b2393f3a4bc990bf55e35d60136f",
      "0fd500ab38c74c4ab4cbc186faf09000",
      "2e55b1209a52463fb31e7b4f5b1096c0",
      "1b98909710484698a1e4bbc61deb151e",
      "fc84074a775348a3be98e0d073c32659",
      "cd8e86d626eb44efb999146b6731f6ba",
      "26bed29d93b0462b8e760272b51bc2f3",
      "9d0bfc37330f4aa5b763ef71086e85e1",
      "c6faa5e91b804f7ab15a9907dbf05768",
      "b25deeb5633d48c6a67c3d4d464b19a2",
      "56fa1b476710463cb49ce15cea64b534",
      "65e225ea1fab49d3af7c64f896c27fde",
      "9311bb2602854ad2bb6e85eb7dcf7468",
      "4c9b45e82a7d44bb91946ab60eb72048"
     ]
    },
    "id": "198a117a-6127-458a-b509-33c82aef076d",
    "outputId": "2372fe2f-f969-495c-cdfd-6868ae2313a0"
   },
   "outputs": [
    {
     "data": {
      "application/vnd.jupyter.widget-view+json": {
       "model_id": "f2aed72279524bc48fb05ffa6594ae66",
       "version_major": 2,
       "version_minor": 0
      },
      "text/plain": [
       "tokenizer_config.json:   0%|          | 0.00/25.0 [00:00<?, ?B/s]"
      ]
     },
     "metadata": {},
     "output_type": "display_data"
    },
    {
     "data": {
      "application/vnd.jupyter.widget-view+json": {
       "model_id": "fd2fdb54354845c7aeebf0cb2cb44fc2",
       "version_major": 2,
       "version_minor": 0
      },
      "text/plain": [
       "sentencepiece.bpe.model:   0%|          | 0.00/5.07M [00:00<?, ?B/s]"
      ]
     },
     "metadata": {},
     "output_type": "display_data"
    },
    {
     "data": {
      "application/vnd.jupyter.widget-view+json": {
       "model_id": "8e5f0c0c3af649eeb61e306ef88b1d27",
       "version_major": 2,
       "version_minor": 0
      },
      "text/plain": [
       "tokenizer.json:   0%|          | 0.00/9.10M [00:00<?, ?B/s]"
      ]
     },
     "metadata": {},
     "output_type": "display_data"
    },
    {
     "data": {
      "application/vnd.jupyter.widget-view+json": {
       "model_id": "5788695335ce4d45a62cd6d07fc68f6f",
       "version_major": 2,
       "version_minor": 0
      },
      "text/plain": [
       "config.json:   0%|          | 0.00/615 [00:00<?, ?B/s]"
      ]
     },
     "metadata": {},
     "output_type": "display_data"
    },
    {
     "data": {
      "application/vnd.jupyter.widget-view+json": {
       "model_id": "4fb9392e550248a1a9d13f4895e3233e",
       "version_major": 2,
       "version_minor": 0
      },
      "text/plain": [
       "Map:   0%|          | 0/830 [00:00<?, ? examples/s]"
      ]
     },
     "metadata": {},
     "output_type": "display_data"
    },
    {
     "data": {
      "application/vnd.jupyter.widget-view+json": {
       "model_id": "5e7f3ca34705486c912c2e8a678bc270",
       "version_major": 2,
       "version_minor": 0
      },
      "text/plain": [
       "Map:   0%|          | 0/462 [00:00<?, ? examples/s]"
      ]
     },
     "metadata": {},
     "output_type": "display_data"
    },
    {
     "data": {
      "application/vnd.jupyter.widget-view+json": {
       "model_id": "1b98909710484698a1e4bbc61deb151e",
       "version_major": 2,
       "version_minor": 0
      },
      "text/plain": [
       "Map:   0%|          | 0/300 [00:00<?, ? examples/s]"
      ]
     },
     "metadata": {},
     "output_type": "display_data"
    }
   ],
   "source": [
    "# Load tokenizer\n",
    "tokenizer = XLMRobertaTokenizer.from_pretrained(\"xlm-roberta-base\")\n",
    "\n",
    "tokenized_train = dataset_train.map(preprocess_function, batched=True)\n",
    "tokenized_val = dataset_val.map(preprocess_function, batched=True)\n",
    "tokenized_test = dataset_test.map(preprocess_function, batched=True)"
   ]
  },
  {
   "cell_type": "code",
   "execution_count": null,
   "id": "d39472c2-a8f2-4493-b815-f360616fa2d5",
   "metadata": {
    "colab": {
     "base_uri": "https://localhost:8080/",
     "height": 138,
     "referenced_widgets": [
      "b01044a33694473391dd0278cf29ced7",
      "7c4471d4cc854902b742714066b1dbcb",
      "d9c1d83268e04d09abb18a008d806cba",
      "86e8afc11b8642bdb6ac90c985bc827d",
      "41dc33cd631b433fa5dd082ad0e592f7",
      "39049a819bf44e5dbb848d898abaf0c7",
      "0d3dd472448540a0a0f9cf36a0556426",
      "07f92293e60249f0bfdf64dd45bf7dea",
      "794602ff07a64a87a09efa26f8eb7842",
      "5da0d70c4b71400b929a6e98e741b814",
      "274738377c514f85909439c6ec8c101c"
     ]
    },
    "id": "d39472c2-a8f2-4493-b815-f360616fa2d5",
    "outputId": "c5048448-d828-4be7-a24a-d30b26992725"
   },
   "outputs": [
    {
     "name": "stderr",
     "output_type": "stream",
     "text": [
      "Xet Storage is enabled for this repo, but the 'hf_xet' package is not installed. Falling back to regular HTTP download. For better performance, install the package with: `pip install huggingface_hub[hf_xet]` or `pip install hf_xet`\n",
      "WARNING:huggingface_hub.file_download:Xet Storage is enabled for this repo, but the 'hf_xet' package is not installed. Falling back to regular HTTP download. For better performance, install the package with: `pip install huggingface_hub[hf_xet]` or `pip install hf_xet`\n"
     ]
    },
    {
     "data": {
      "application/vnd.jupyter.widget-view+json": {
       "model_id": "b01044a33694473391dd0278cf29ced7",
       "version_major": 2,
       "version_minor": 0
      },
      "text/plain": [
       "model.safetensors:   0%|          | 0.00/1.12G [00:00<?, ?B/s]"
      ]
     },
     "metadata": {},
     "output_type": "display_data"
    },
    {
     "name": "stderr",
     "output_type": "stream",
     "text": [
      "Some weights of XLMRobertaForSequenceClassification were not initialized from the model checkpoint at xlm-roberta-base and are newly initialized: ['classifier.dense.bias', 'classifier.dense.weight', 'classifier.out_proj.bias', 'classifier.out_proj.weight']\n",
      "You should probably TRAIN this model on a down-stream task to be able to use it for predictions and inference.\n"
     ]
    }
   ],
   "source": [
    "# Load model\n",
    "model = XLMRobertaForSequenceClassification.from_pretrained(\"xlm-roberta-base\", num_labels=2)"
   ]
  },
  {
   "cell_type": "code",
   "execution_count": null,
   "id": "031455a1-033b-453d-845a-d92540302d4e",
   "metadata": {
    "id": "031455a1-033b-453d-845a-d92540302d4e"
   },
   "outputs": [],
   "source": [
    "# Training Arguments\n",
    "training_args = TrainingArguments(\n",
    "    output_dir=\"results\",\n",
    "    eval_strategy=\"epoch\",\n",
    "    save_strategy=\"epoch\",\n",
    "    logging_dir=\"logs\",\n",
    "    learning_rate=2e-5,\n",
    "    per_device_train_batch_size=16,\n",
    "    per_device_eval_batch_size=16,\n",
    "    num_train_epochs=3,\n",
    "    weight_decay=0.01,\n",
    "    load_best_model_at_end=True,\n",
    "    metric_for_best_model=\"f1_macro\",\n",
    "    report_to=\"none\",\n",
    ")"
   ]
  },
  {
   "cell_type": "code",
   "execution_count": null,
   "id": "eaa3fe75-0432-41d1-b6bc-1ef2c86177c7",
   "metadata": {
    "id": "eaa3fe75-0432-41d1-b6bc-1ef2c86177c7"
   },
   "outputs": [],
   "source": [
    "# Data collator for dynamic padding\n",
    "data_collator = DataCollatorWithPadding(tokenizer=tokenizer)"
   ]
  },
  {
   "cell_type": "code",
   "execution_count": null,
   "id": "b3b782d2-094c-49af-995e-cf2255db07a5",
   "metadata": {
    "id": "b3b782d2-094c-49af-995e-cf2255db07a5"
   },
   "outputs": [],
   "source": [
    "# Trainer\n",
    "trainer = Trainer(\n",
    "    model=model,\n",
    "    args=training_args,\n",
    "    train_dataset=tokenized_train,\n",
    "    eval_dataset=tokenized_val,\n",
    "    processing_class=tokenizer,\n",
    "    data_collator=data_collator,\n",
    "    compute_metrics=compute_metrics\n",
    ")"
   ]
  },
  {
   "cell_type": "code",
   "execution_count": null,
   "id": "1f1fc150-5ddd-4ef9-b2b7-16edf971d0c6",
   "metadata": {
    "id": "1f1fc150-5ddd-4ef9-b2b7-16edf971d0c6"
   },
   "outputs": [],
   "source": [
    "log_dir = \"logs\"\n",
    "\n",
    "if os.path.exists(log_dir):\n",
    "    shutil.rmtree(log_dir)  # Remove old logs entirely"
   ]
  },
  {
   "cell_type": "code",
   "execution_count": null,
   "id": "031f31f7-3cf3-4535-adce-eff71c871a8f",
   "metadata": {
    "colab": {
     "base_uri": "https://localhost:8080/",
     "height": 204
    },
    "id": "031f31f7-3cf3-4535-adce-eff71c871a8f",
    "outputId": "c20c8e2f-bd3e-45b2-b699-61cddbc1f03a"
   },
   "outputs": [
    {
     "data": {
      "text/html": [
       "\n",
       "    <div>\n",
       "      \n",
       "      <progress value='156' max='156' style='width:300px; height:20px; vertical-align: middle;'></progress>\n",
       "      [156/156 03:44, Epoch 3/3]\n",
       "    </div>\n",
       "    <table border=\"1\" class=\"dataframe\">\n",
       "  <thead>\n",
       " <tr style=\"text-align: left;\">\n",
       "      <th>Epoch</th>\n",
       "      <th>Training Loss</th>\n",
       "      <th>Validation Loss</th>\n",
       "      <th>F1 Macro</th>\n",
       "    </tr>\n",
       "  </thead>\n",
       "  <tbody>\n",
       "    <tr>\n",
       "      <td>1</td>\n",
       "      <td>No log</td>\n",
       "      <td>0.727539</td>\n",
       "      <td>0.324561</td>\n",
       "    </tr>\n",
       "    <tr>\n",
       "      <td>2</td>\n",
       "      <td>No log</td>\n",
       "      <td>0.668240</td>\n",
       "      <td>0.331726</td>\n",
       "    </tr>\n",
       "    <tr>\n",
       "      <td>3</td>\n",
       "      <td>No log</td>\n",
       "      <td>0.650690</td>\n",
       "      <td>0.676194</td>\n",
       "    </tr>\n",
       "  </tbody>\n",
       "</table><p>"
      ],
      "text/plain": [
       "<IPython.core.display.HTML object>"
      ]
     },
     "metadata": {},
     "output_type": "display_data"
    },
    {
     "data": {
      "text/plain": [
       "TrainOutput(global_step=156, training_loss=0.5720555232121394, metrics={'train_runtime': 225.8711, 'train_samples_per_second': 11.024, 'train_steps_per_second': 0.691, 'total_flos': 202174123827600.0, 'train_loss': 0.5720555232121394, 'epoch': 3.0})"
      ]
     },
     "execution_count": 32,
     "metadata": {},
     "output_type": "execute_result"
    }
   ],
   "source": [
    "# Training\n",
    "trainer.train()"
   ]
  },
  {
   "cell_type": "code",
   "execution_count": null,
   "id": "07951cb5-5dc8-4715-9abf-d3604252dbea",
   "metadata": {
    "colab": {
     "base_uri": "https://localhost:8080/",
     "height": 74
    },
    "id": "07951cb5-5dc8-4715-9abf-d3604252dbea",
    "outputId": "4e1b4574-c340-4a12-9eda-22598d728ee1"
   },
   "outputs": [
    {
     "data": {
      "text/html": [
       "\n",
       "    <div>\n",
       "      \n",
       "      <progress value='29' max='29' style='width:300px; height:20px; vertical-align: middle;'></progress>\n",
       "      [29/29 00:02]\n",
       "    </div>\n",
       "    "
      ],
      "text/plain": [
       "<IPython.core.display.HTML object>"
      ]
     },
     "metadata": {},
     "output_type": "display_data"
    },
    {
     "name": "stdout",
     "output_type": "stream",
     "text": [
      "Validation Metrics: {'eval_loss': 0.650690495967865, 'eval_f1_macro': 0.6761937906932904, 'eval_runtime': 2.3505, 'eval_samples_per_second': 196.551, 'eval_steps_per_second': 12.338, 'epoch': 3.0}\n"
     ]
    }
   ],
   "source": [
    "# Evaluation\n",
    "val_metrics = trainer.evaluate()\n",
    "print(\"Validation Metrics:\", val_metrics)"
   ]
  },
  {
   "cell_type": "code",
   "execution_count": null,
   "id": "5cc54841-73c9-48c2-bc45-cf4e7de861ba",
   "metadata": {
    "id": "5cc54841-73c9-48c2-bc45-cf4e7de861ba"
   },
   "outputs": [],
   "source": [
    "# Save model\n",
    "trainer.save_model(\"xlm-roberta-subjectivity-en\")"
   ]
  },
  {
   "cell_type": "code",
   "execution_count": null,
   "id": "1c94d49a-90dd-41d3-bf05-bd28bfc93559",
   "metadata": {
    "colab": {
     "base_uri": "https://localhost:8080/",
     "height": 17
    },
    "id": "1c94d49a-90dd-41d3-bf05-bd28bfc93559",
    "outputId": "2f465d9a-6c26-43de-f7e2-a76e80e170e5"
   },
   "outputs": [
    {
     "data": {
      "text/html": [],
      "text/plain": [
       "<IPython.core.display.HTML object>"
      ]
     },
     "metadata": {},
     "output_type": "display_data"
    }
   ],
   "source": [
    "# Test Evaluation\n",
    "predictions = trainer.predict(tokenized_test)\n",
    "pred_labels = np.argmax(predictions.predictions, axis=1)\n",
    "\n",
    "submission = pd.DataFrame({\n",
    "    \"sentence_id\": df_test_en[\"sentence_id\"],\n",
    "    \"label\": [\"OBJ\" if l == 1 else \"SUBJ\" for l in pred_labels]\n",
    "})\n",
    "submission.to_csv(\"mono_en_test_predictions.tsv\", sep=\"\\t\", index=False)"
   ]
  },
  {
   "cell_type": "code",
   "execution_count": null,
   "id": "91ac66f9-9d06-41d1-8507-ae106ef0d802",
   "metadata": {
    "colab": {
     "base_uri": "https://localhost:8080/"
    },
    "id": "91ac66f9-9d06-41d1-8507-ae106ef0d802",
    "outputId": "134adf6b-b297-4ae5-aa02-4212254e8314"
   },
   "outputs": [
    {
     "name": "stdout",
     "output_type": "stream",
     "text": [
      "INFO : The file is properly formatted\n",
      "INFO : Started evaluating results for Task 1...\n",
      "INFO : \n",
      "            macro-F1: 0.6035\n",
      "            macro-P: 0.6155\n",
      "            macro-R: 0.5986\n",
      "            \n",
      "            SUBJ-F1: 0.4079\n",
      "            SUBJ-P: 0.4627\n",
      "            SUBJ-R: 0.3647\n",
      "            \n",
      "            accuracy: 0.7000\n",
      "        \n"
     ]
    }
   ],
   "source": [
    "# Run scorer\n",
    "# !python scorer/evaluate.py -g data/english/test_en_labeled.tsv -p mono_en_test_predictions.tsv\n",
    "!python clef2025-checkthat-lab/task1/scorer/evaluate.py \\\n",
    "    -g clef2025-checkthat-lab/task1/data/english/test_en_labeled.tsv \\\n",
    "    -p mono_en_test_predictions.tsv"
   ]
  },
  {
   "cell_type": "markdown",
   "id": "C6xHVTH-IM2d",
   "metadata": {
    "id": "C6xHVTH-IM2d"
   },
   "source": [
    "#### Error Analysis"
   ]
  },
  {
   "cell_type": "code",
   "execution_count": null,
   "id": "l3_9WKOcJDCy",
   "metadata": {
    "id": "l3_9WKOcJDCy"
   },
   "outputs": [],
   "source": [
    "test_predictions, test_labels = predictions.predictions, predictions.label_ids"
   ]
  },
  {
   "cell_type": "code",
   "execution_count": null,
   "id": "6jxqPhA9G6cD",
   "metadata": {
    "id": "6jxqPhA9G6cD"
   },
   "outputs": [],
   "source": [
    "# Convert predictions and labels to pandas DataFrame (Transformer)\n",
    "test_results = pd.DataFrame({\n",
    "    \"sentence\": df_test_en[\"sentence\"],\n",
    "    \"true_label\": test_labels,\n",
    "    \"predicted_label\": pred_labels\n",
    "})\n",
    "\n",
    "# Add a column to classify error types\n",
    "test_results[\"error_type\"] = np.where(\n",
    "    test_results[\"true_label\"] == test_results[\"predicted_label\"],\n",
    "    \"Correct\",\n",
    "    np.where(\n",
    "        (test_results[\"true_label\"] == 1) & (test_results[\"predicted_label\"] == 0),\n",
    "        \"False Negative\",\n",
    "        \"False Positive\"\n",
    "    )\n",
    ")"
   ]
  },
  {
   "cell_type": "code",
   "execution_count": null,
   "id": "N3WgtgD3G_EC",
   "metadata": {
    "colab": {
     "base_uri": "https://localhost:8080/"
    },
    "id": "N3WgtgD3G_EC",
    "outputId": "5f1d5df1-dbd2-4d67-e428-390815eeddb6"
   },
   "outputs": [
    {
     "name": "stdout",
     "output_type": "stream",
     "text": [
      "Number of False Positives (Transformer): 54\n",
      "\n",
      "EXAMPLES:\n",
      "\n",
      "\tThat sounds worryingly similar to the vainglorious delivery timetable once claimed during the sorry saga called HS2.\n",
      "\n",
      "\tIf Timbaland releases a number one hit soon, we can get the full 2006 experience again.\n",
      "\n",
      "\tHostile fire was instant, will be continuous for years ahead and comes from several camps with which Labour has wanted to be friendly.\n",
      "\n",
      "\tsince the US failed to confront it head-on during the Bay of Pigs invasion, it has instead kept Cuba in stasis, trapped in that moment before the celebrations can truly begin.\n",
      "\n",
      "\tI suspect that the Net Zero Secretary thinks that resignation would be a pointless gesture of opposition to something that may well not happen and certainly not anytime soon.\n",
      "\n",
      "\tBoth are young, charismatic, intelligent women seen as modernisers within their respective parties.\n",
      "\n",
      "\tThe release this week of the new Chinese artificial intelligence (AI) tool, DeepSeek-R1, is one such moment.\n",
      "\n",
      "\tShe complains of an ‘illness’, though we’re not sure whether it’s physical or mental: it seems porous, like it has seeped into every cell of her body.\n",
      "\n",
      "\tCuba Sí, Bloqueo No\n",
      "\n",
      "\tHS2 was not a failure because it included a tunnel or because it attempted to protect animal life; it failed because rail privatisation stripped the UK of the skills and public capacity to develop large-scale projects.\n",
      "\n"
     ]
    }
   ],
   "source": [
    "false_positives = test_results[test_results[\"error_type\"] == \"False Positive\"]\n",
    "print(f\"Number of False Positives (xlm-roberta): {false_positives.shape[0]}\")\n",
    "print(\"\\nEXAMPLES:\\n\")\n",
    "for ex in false_positives.head(10).sentence:\n",
    "    print(f\"\\t{ex}\\n\")"
   ]
  },
  {
   "cell_type": "code",
   "execution_count": null,
   "id": "z_4PZ3wYHBHr",
   "metadata": {
    "colab": {
     "base_uri": "https://localhost:8080/"
    },
    "id": "z_4PZ3wYHBHr",
    "outputId": "e615a229-758b-4fb3-c78f-284747b3d6f0"
   },
   "outputs": [
    {
     "name": "stdout",
     "output_type": "stream",
     "text": [
      "Number of False Negatives (Transformer): 36\n",
      "\n",
      "EXAMPLES:\n",
      "\n",
      "\tBut Andersson is adamant that what she calls ‘red green’ politics is the only way forward — for both pragmatic and ideological reasons.\n",
      "\n",
      "\tLabour’s plan for growth — with deregulation and corporate-driven projects at its core — runs the risk of deepening inequality and handing over national infrastructure to private profit.\n",
      "\n",
      "\tIf investors can be found to stump up that kind of cash, they will want a return.\n",
      "\n",
      "\tBut here we can really see what these parties do when they are in power.\n",
      "\n",
      "\tThe \"warrior prince won more than most\", but \"even he could not meet the full price of justice\".\n",
      "\n",
      "\tAnd because of everything that has happened [with the far-right government], we now have a lot in common in terms of policy.\n",
      "\n",
      "\tThe fuel for the far right comes from disillusionment.\n",
      "\n",
      "\tIt is wishing into existence a UK ‘Silicon Valley’ in Oxford and Cambridge, dogged by infighting, trying to get a controversial Heathrow expansion over the line, and leaning into right-wing thinktanks’ demands for planning liberalisation.\n",
      "\n",
      "\tThis stems from their belief in business as the primary agents of growth, and in turn their method: asking CEOs what they want and then trying to do it.\n",
      "\n",
      "\tThe last Labour government instituted these technocratic structures; the Coalition rolled them back.\n",
      "\n"
     ]
    }
   ],
   "source": [
    "false_negatives = test_results[test_results[\"error_type\"] == \"False Negative\"]\n",
    "print(f\"Number of False Negatives (xlm-roberta): {false_negatives.shape[0]}\")\n",
    "print(\"\\nEXAMPLES:\\n\")\n",
    "for ex in false_negatives.head(10).sentence:\n",
    "    print(f\"\\t{ex}\\n\")"
   ]
  },
  {
   "cell_type": "code",
   "execution_count": null,
   "id": "0T8cyTh7HX6m",
   "metadata": {
    "colab": {
     "base_uri": "https://localhost:8080/",
     "height": 939
    },
    "id": "0T8cyTh7HX6m",
    "outputId": "e58b7ebb-bc21-4a58-fe99-cf6e827ce061"
   },
   "outputs": [
    {
     "data": {
      "image/png": "[encoded data removed]",
      "text/plain": [
       "<Figure size 640x480 with 2 Axes>"
      ]
     },
     "metadata": {},
     "output_type": "display_data"
    },
    {
     "data": {
      "image/png": "[encoded data removed]",
      "text/plain": [
       "<Figure size 640x480 with 2 Axes>"
      ]
     },
     "metadata": {},
     "output_type": "display_data"
    }
   ],
   "source": [
    "plot_confusion_matrix(\"xlm-roberta\", test_results)"
   ]
  },
  {
   "cell_type": "code",
   "execution_count": null,
   "id": "4uGux18rHlIa",
   "metadata": {
    "colab": {
     "base_uri": "https://localhost:8080/",
     "height": 472
    },
    "id": "4uGux18rHlIa",
    "outputId": "3ca2b903-9c5a-4cbc-8c31-5469dafec5bd"
   },
   "outputs": [
    {
     "data": {
      "image/png": "[encoded data removed]",
      "text/plain": [
       "<Figure size 640x480 with 1 Axes>"
      ]
     },
     "metadata": {},
     "output_type": "display_data"
    }
   ],
   "source": [
    "precision, recall, thresholds = precision_recall_curve(test_labels, test_predictions[:, 1])\n",
    "average_precision = average_precision_score(test_labels, test_predictions[:, 1])\n",
    "\n",
    "# Plot the Precision-Recall curve\n",
    "plot_precision_recall_curve(\"xlm-roberta\", precision, recall, average_precision)"
   ]
  },
  {
   "cell_type": "markdown",
   "id": "c9355524-9627-4924-9da0-fd20277af3c7",
   "metadata": {
    "id": "c9355524-9627-4924-9da0-fd20277af3c7"
   },
   "source": [
    "#### Italian"
   ]
  },
  {
   "cell_type": "code",
   "execution_count": null,
   "id": "e3b55102-5f77-4b82-a5df-4dfc402d3b60",
   "metadata": {
    "id": "e3b55102-5f77-4b82-a5df-4dfc402d3b60"
   },
   "outputs": [],
   "source": [
    "dataset_train = Dataset.from_pandas(df_train_it)\n",
    "dataset_val = Dataset.from_pandas(df_dev_it)\n",
    "dataset_test = Dataset.from_pandas(df_test_it)"
   ]
  },
  {
   "cell_type": "code",
   "execution_count": null,
   "id": "46f3f382-2aeb-4739-8ba8-70095d9ef8b8",
   "metadata": {
    "colab": {
     "base_uri": "https://localhost:8080/",
     "height": 113,
     "referenced_widgets": [
      "5fbf51900b014443a286b07c76563abf",
      "3713a59df8914907871b823a3bc9f031",
      "1926998f35ca495cb296f4966e4188d6",
      "f9f597731067494689ee9caa050dfd0c",
      "d2a0394d3b4146bdbcb88d3a56a5abd6",
      "354ba27fcd404893878f6e3fd25233d6",
      "08d28c1f930045f489afcb7de0a519b7",
      "a3b99a29a1614bdea5aee18dc7df1eaf",
      "d58f0f2d7bd7434091b8d34b40a1721f",
      "4dece1c77eb4492da1e476c30830b981",
      "2e05a36c0a394fa7807eed5d62ba7e13",
      "641c1628036948db9fa7554b1682912e",
      "0237394d02c0442b88655e273d7390af",
      "05329ea338a84696ad31466f54b3dc43",
      "6ae10d702df941df9d0be1398839714d",
      "7dad52098e4b42f3b5df0b3892599bf8",
      "7c2d36394a8c49c1b793be37df636503",
      "226277c63f60417493b7751021a38215",
      "a6030159cc5d444a8da2c8039df05fdf",
      "530bd805365142208e7d779cbdae5be6",
      "184494ae8e814f5fabb56f4483699f80",
      "668406cfcd864c8f98f289dcab193736",
      "a754378c28af4b6e8012b9ca54ba3c13",
      "aae06b6c319e4d22a89b355ecf4e0947",
      "5ed3049fda8b4da2bc4b2faa2fc75a41",
      "6e2aba3b7fee42fc8b1d2ecf1070cacc",
      "8053de83b6f746d1a2441b8b6cb9596c",
      "87be4ee03e4048ecb8226a92f8c8256d",
      "b21a124392b448f6917231c5695bf4e1",
      "52f60b9c6c8c4f24b3124e149ee7b16a",
      "bbcb78684804408d97a1ebd487e66c0c",
      "0506872a33144d67acc5b9819a30397c",
      "5481f0d48c9945d2b44ed23e0869f382"
     ]
    },
    "id": "46f3f382-2aeb-4739-8ba8-70095d9ef8b8",
    "outputId": "0116a3c7-34ce-40d2-f5cf-16eddcaa9148"
   },
   "outputs": [
    {
     "data": {
      "application/vnd.jupyter.widget-view+json": {
       "model_id": "5fbf51900b014443a286b07c76563abf",
       "version_major": 2,
       "version_minor": 0
      },
      "text/plain": [
       "Map:   0%|          | 0/1613 [00:00<?, ? examples/s]"
      ]
     },
     "metadata": {},
     "output_type": "display_data"
    },
    {
     "data": {
      "application/vnd.jupyter.widget-view+json": {
       "model_id": "641c1628036948db9fa7554b1682912e",
       "version_major": 2,
       "version_minor": 0
      },
      "text/plain": [
       "Map:   0%|          | 0/667 [00:00<?, ? examples/s]"
      ]
     },
     "metadata": {},
     "output_type": "display_data"
    },
    {
     "data": {
      "application/vnd.jupyter.widget-view+json": {
       "model_id": "a754378c28af4b6e8012b9ca54ba3c13",
       "version_major": 2,
       "version_minor": 0
      },
      "text/plain": [
       "Map:   0%|          | 0/299 [00:00<?, ? examples/s]"
      ]
     },
     "metadata": {},
     "output_type": "display_data"
    }
   ],
   "source": [
    "# Tokenization\n",
    "tokenized_train = dataset_train.map(preprocess_function, batched=True)\n",
    "tokenized_val = dataset_val.map(preprocess_function, batched=True)\n",
    "tokenized_test = dataset_test.map(preprocess_function, batched=True)"
   ]
  },
  {
   "cell_type": "code",
   "execution_count": null,
   "id": "14feb79e-c38d-4d7e-98dc-eb432de87699",
   "metadata": {
    "id": "14feb79e-c38d-4d7e-98dc-eb432de87699"
   },
   "outputs": [],
   "source": [
    "# Trainer\n",
    "trainer = Trainer(\n",
    "    model=model,\n",
    "    args=training_args,\n",
    "    train_dataset=tokenized_train,\n",
    "    eval_dataset=tokenized_val,\n",
    "    processing_class=tokenizer,\n",
    "    data_collator=data_collator,\n",
    "    compute_metrics=compute_metrics\n",
    ")"
   ]
  },
  {
   "cell_type": "code",
   "execution_count": null,
   "id": "d0c100c6-c7b7-4e21-aa85-ca925daba7f6",
   "metadata": {
    "colab": {
     "base_uri": "https://localhost:8080/",
     "height": 204
    },
    "id": "d0c100c6-c7b7-4e21-aa85-ca925daba7f6",
    "outputId": "3148c32f-186f-4dbf-9fa3-254764a9eb8d"
   },
   "outputs": [
    {
     "data": {
      "text/html": [
       "\n",
       "    <div>\n",
       "      \n",
       "      <progress value='303' max='303' style='width:300px; height:20px; vertical-align: middle;'></progress>\n",
       "      [303/303 07:35, Epoch 3/3]\n",
       "    </div>\n",
       "    <table border=\"1\" class=\"dataframe\">\n",
       "  <thead>\n",
       " <tr style=\"text-align: left;\">\n",
       "      <th>Epoch</th>\n",
       "      <th>Training Loss</th>\n",
       "      <th>Validation Loss</th>\n",
       "      <th>F1 Macro</th>\n",
       "    </tr>\n",
       "  </thead>\n",
       "  <tbody>\n",
       "    <tr>\n",
       "      <td>1</td>\n",
       "      <td>No log</td>\n",
       "      <td>0.488611</td>\n",
       "      <td>0.634755</td>\n",
       "    </tr>\n",
       "    <tr>\n",
       "      <td>2</td>\n",
       "      <td>No log</td>\n",
       "      <td>0.463409</td>\n",
       "      <td>0.720439</td>\n",
       "    </tr>\n",
       "    <tr>\n",
       "      <td>3</td>\n",
       "      <td>No log</td>\n",
       "      <td>0.466842</td>\n",
       "      <td>0.742891</td>\n",
       "    </tr>\n",
       "  </tbody>\n",
       "</table><p>"
      ],
      "text/plain": [
       "<IPython.core.display.HTML object>"
      ]
     },
     "metadata": {},
     "output_type": "display_data"
    },
    {
     "data": {
      "text/plain": [
       "TrainOutput(global_step=303, training_loss=0.41217718344710447, metrics={'train_runtime': 455.9891, 'train_samples_per_second': 10.612, 'train_steps_per_second': 0.664, 'total_flos': 335705553866700.0, 'train_loss': 0.41217718344710447, 'epoch': 3.0})"
      ]
     },
     "execution_count": 62,
     "metadata": {},
     "output_type": "execute_result"
    }
   ],
   "source": [
    "# Training\n",
    "trainer.train()"
   ]
  },
  {
   "cell_type": "code",
   "execution_count": null,
   "id": "89119ae9-00fc-4275-965f-d8d0cf31c9b3",
   "metadata": {
    "id": "89119ae9-00fc-4275-965f-d8d0cf31c9b3"
   },
   "outputs": [],
   "source": [
    "log_dir = \"logs\"\n",
    "\n",
    "if os.path.exists(log_dir):\n",
    "    shutil.rmtree(log_dir)  # Remove old logs entirely"
   ]
  },
  {
   "cell_type": "code",
   "execution_count": null,
   "id": "050f8f3f-f71c-46e3-b67c-dfd126ec40cb",
   "metadata": {
    "colab": {
     "base_uri": "https://localhost:8080/",
     "height": 74
    },
    "id": "050f8f3f-f71c-46e3-b67c-dfd126ec40cb",
    "outputId": "db257072-65e9-47f2-e4ed-7dfa72dab6f2"
   },
   "outputs": [
    {
     "data": {
      "text/html": [
       "\n",
       "    <div>\n",
       "      \n",
       "      <progress value='42' max='42' style='width:300px; height:20px; vertical-align: middle;'></progress>\n",
       "      [42/42 00:08]\n",
       "    </div>\n",
       "    "
      ],
      "text/plain": [
       "<IPython.core.display.HTML object>"
      ]
     },
     "metadata": {},
     "output_type": "display_data"
    },
    {
     "name": "stdout",
     "output_type": "stream",
     "text": [
      "Validation Metrics: {'eval_loss': 0.46684199571609497, 'eval_f1_macro': 0.7428912596766106, 'eval_runtime': 8.4969, 'eval_samples_per_second': 78.5, 'eval_steps_per_second': 4.943, 'epoch': 3.0}\n"
     ]
    }
   ],
   "source": [
    "# Evaluation\n",
    "val_metrics = trainer.evaluate()\n",
    "print(\"Validation Metrics:\", val_metrics)"
   ]
  },
  {
   "cell_type": "code",
   "execution_count": null,
   "id": "8741f522-b1b2-4d51-9c41-a7422e5f0db9",
   "metadata": {
    "id": "8741f522-b1b2-4d51-9c41-a7422e5f0db9"
   },
   "outputs": [],
   "source": [
    "# Save model\n",
    "trainer.save_model(\"xlm-roberta-subjectivity-it\")"
   ]
  },
  {
   "cell_type": "code",
   "execution_count": null,
   "id": "6e0f02bb-359b-460a-9b9a-77bf1ed84cc6",
   "metadata": {
    "colab": {
     "base_uri": "https://localhost:8080/",
     "height": 17
    },
    "id": "6e0f02bb-359b-460a-9b9a-77bf1ed84cc6",
    "outputId": "d583bf8e-6c92-43ed-e5c7-0353eacf7397"
   },
   "outputs": [
    {
     "data": {
      "text/html": [],
      "text/plain": [
       "<IPython.core.display.HTML object>"
      ]
     },
     "metadata": {},
     "output_type": "display_data"
    }
   ],
   "source": [
    "# Test Evaluation\n",
    "predictions = trainer.predict(tokenized_test)\n",
    "pred_labels = np.argmax(predictions.predictions, axis=1)\n",
    "\n",
    "submission = pd.DataFrame({\n",
    "    \"sentence_id\": df_test_it[\"sentence_id\"],\n",
    "    \"label\": [\"OBJ\" if l == 1 else \"SUBJ\" for l in pred_labels]\n",
    "})\n",
    "submission.to_csv(\"mono_it_test_predictions.tsv\", sep=\"\\t\", index=False)"
   ]
  },
  {
   "cell_type": "code",
   "execution_count": null,
   "id": "20934fc6-916d-4d8d-bfc2-dd5f9d0d6160",
   "metadata": {
    "colab": {
     "base_uri": "https://localhost:8080/"
    },
    "id": "20934fc6-916d-4d8d-bfc2-dd5f9d0d6160",
    "outputId": "d382eaaa-9080-4f7e-cf89-9bff3f5085d3"
   },
   "outputs": [
    {
     "name": "stdout",
     "output_type": "stream",
     "text": [
      "INFO : The file is properly formatted\n",
      "INFO : Started evaluating results for Task 1...\n",
      "INFO : \n",
      "            macro-F1: 0.7326\n",
      "            macro-P: 0.7440\n",
      "            macro-R: 0.7261\n",
      "            \n",
      "            SUBJ-F1: 0.6432\n",
      "            SUBJ-P: 0.6957\n",
      "            SUBJ-R: 0.5981\n",
      "            \n",
      "            accuracy: 0.7625\n",
      "        \n"
     ]
    }
   ],
   "source": [
    "# Run scorer\n",
    "# !python scorer/evaluate.py -g data/italian/test_it_labeled.tsv -p mono_it_test_predictions.tsv\n",
    "!python clef2025-checkthat-lab/task1/scorer/evaluate.py \\\n",
    "    -g clef2025-checkthat-lab/task1/data/italian/test_it_labeled.tsv \\\n",
    "    -p mono_it_test_predictions.tsv"
   ]
  },
  {
   "cell_type": "markdown",
   "id": "kZqqr-bLMdYR",
   "metadata": {
    "id": "kZqqr-bLMdYR"
   },
   "source": [
    "#### Error Analysis"
   ]
  },
  {
   "cell_type": "code",
   "execution_count": null,
   "id": "2XDk2ArgMc44",
   "metadata": {
    "id": "2XDk2ArgMc44"
   },
   "outputs": [],
   "source": [
    "test_predictions, test_labels = predictions.predictions, predictions.label_ids"
   ]
  },
  {
   "cell_type": "code",
   "execution_count": null,
   "id": "zV-K-N2GMwkw",
   "metadata": {
    "id": "zV-K-N2GMwkw"
   },
   "outputs": [],
   "source": [
    "# Convert predictions and labels to pandas DataFrame (Transformer)\n",
    "test_results = pd.DataFrame({\n",
    "    \"sentence\": df_test_it[\"sentence\"],\n",
    "    \"true_label\": test_labels,\n",
    "    \"predicted_label\": pred_labels\n",
    "})\n",
    "\n",
    "# Add a column to classify error types\n",
    "test_results[\"error_type\"] = np.where(\n",
    "    test_results[\"true_label\"] == test_results[\"predicted_label\"],\n",
    "    \"Correct\",\n",
    "    np.where(\n",
    "        (test_results[\"true_label\"] == 1) & (test_results[\"predicted_label\"] == 0),\n",
    "        \"False Negative\",\n",
    "        \"False Positive\"\n",
    "    )\n",
    ")"
   ]
  },
  {
   "cell_type": "code",
   "execution_count": null,
   "id": "IdEqILAkMwcd",
   "metadata": {
    "colab": {
     "base_uri": "https://localhost:8080/"
    },
    "id": "IdEqILAkMwcd",
    "outputId": "16bac69a-f301-4b8c-9902-68eae0cd30c2"
   },
   "outputs": [
    {
     "name": "stdout",
     "output_type": "stream",
     "text": [
      "Number of False Positives (xlm-roberta): 43\n",
      "\n",
      "EXAMPLES:\n",
      "\n",
      "\tTempo al tempo vedremo.\n",
      "\n",
      "\tL'ostentazione della burineria e servizi montani penosi.\n",
      "\n",
      "\tPoi il leader M5S è durissimo con il ministro Nordio:\n",
      "\n",
      "\tConte infanga Meloni?\n",
      "\n",
      "\t@779 le dolomiti del Brenta la sera con sole che scende in fondo alla val Rendena crea un tramonto montano rosa ed arancione che non ha eguali al mondo.\n",
      "\n",
      "\tPoi fatte le olimpiadi verrà abbondonata.\n",
      "\n",
      "\tSi tratta di un contributo consistente, ma non essenziale:\n",
      "\n",
      "\tIl sindaco Gianluca Lorenzi (domani a Milano per la festa dei -365 giorni alle Olimpiadi) si toglie un sassolino dalla scarpa («Tutti esaltavano il ghiaccio naturale di St. Moritz e volevano spostare i Giochi lì, ma la prova di Coppa del Mondo è stata appena cancellata per il caldo») e poi delinea un cronoprogramma super ambizioso:\n",
      "\n",
      "\tCapisco le polemiche, i soldi in gioco sono tanti, ma se c’è un luogo nelle Alpi che merita una pista è Cortina con i suoi cent’anni di tradizione bobbistica».\n",
      "\n",
      "\tl’offerta di Lake Placid che aveva ingolosito il Cio e umiliato noi italiani (viaggi e alberghi per gli Usa regalati dagli zii d’America, premiazione a New York) è respinta al mittente, i Giochi 2026 saranno tutti tricolori.\n",
      "\n"
     ]
    }
   ],
   "source": [
    "false_positives = test_results[test_results[\"error_type\"] == \"False Positive\"]\n",
    "print(f\"Number of False Positives (xlm-roberta): {false_positives.shape[0]}\")\n",
    "print(\"\\nEXAMPLES:\\n\")\n",
    "for ex in false_positives.head(10).sentence:\n",
    "    print(f\"\\t{ex}\\n\")"
   ]
  },
  {
   "cell_type": "code",
   "execution_count": null,
   "id": "DF53wxzZMwVG",
   "metadata": {
    "colab": {
     "base_uri": "https://localhost:8080/"
    },
    "id": "DF53wxzZMwVG",
    "outputId": "d5435ac7-f8b1-4a8f-d563-a3298d8e45cf"
   },
   "outputs": [
    {
     "name": "stdout",
     "output_type": "stream",
     "text": [
      "Number of False Negatives (xlm-roberta): 28\n",
      "\n",
      "EXAMPLES:\n",
      "\n",
      "\tLa paura di chiamare le persone con il loro nome\n",
      "\n",
      "\til fatto che esistano \"posti per ricchi\"?\n",
      "\n",
      "\tDare del tu e chiamarsi per nome, a seconda del contesto, della relazione esistente tra i parlanti, e di molti altri fattori variabili, possono essere un modo per esprimere empatia oppure un modo di interloquire inappropriato e irrispettoso.\n",
      "\n",
      "\tMeno di 100 anni fa, le donne non potevano votare, e sembrava normale, nello stesso modo in cui oggi sembra normale vedere un autobus nel traffico.\n",
      "\n",
      "\tIn questo quadro di competizione e guerra che coinvolge innanzitutto il mercato energetico, la narrazione Italiana costruita dal Governo Meloni sulla “sicurezza energetica” si inserisce perfettamente.\n",
      "\n",
      "\tE' quindi ipotizzabile che si assista a una fase in cui oro e dollaro si muovono nella stessa direzione, senza necessariamente influenzarsi a vicenda.\n",
      "\n",
      "\tTuttavia, questa relazione si è notevolmente attenuata.\n",
      "\n",
      "\tL’attitudine a darsi del tu e chiamarsi per nome più spesso che in passato non implica che sia sempre appropriato e inoffensivo farlo\n",
      "\n",
      "\tLa spesa che non c'è\n",
      "\n",
      "\tSarebbe quindi una coalizione contro cui la Svizzera non avrebbe interesse a combattere.\n",
      "\n"
     ]
    }
   ],
   "source": [
    "false_negatives = test_results[test_results[\"error_type\"] == \"False Negative\"]\n",
    "print(f\"Number of False Negatives (xlm-roberta): {false_negatives.shape[0]}\")\n",
    "print(\"\\nEXAMPLES:\\n\")\n",
    "for ex in false_negatives.head(10).sentence:\n",
    "    print(f\"\\t{ex}\\n\")"
   ]
  },
  {
   "cell_type": "code",
   "execution_count": null,
   "id": "C9qeY_WvMwMy",
   "metadata": {
    "colab": {
     "base_uri": "https://localhost:8080/",
     "height": 939
    },
    "id": "C9qeY_WvMwMy",
    "outputId": "dd8eb24f-e3e3-4ac0-822c-cfde21c4a768"
   },
   "outputs": [
    {
     "data": {
      "image/png": "[encoded data removed]",
      "text/plain": [
       "<Figure size 640x480 with 2 Axes>"
      ]
     },
     "metadata": {},
     "output_type": "display_data"
    },
    {
     "data": {
      "image/png": "[encoded data removed]",
      "text/plain": [
       "<Figure size 640x480 with 2 Axes>"
      ]
     },
     "metadata": {},
     "output_type": "display_data"
    }
   ],
   "source": [
    "plot_confusion_matrix(\"xlm-roberta\", test_results)"
   ]
  },
  {
   "cell_type": "code",
   "execution_count": null,
   "id": "WEx1RdcPMwFL",
   "metadata": {
    "colab": {
     "base_uri": "https://localhost:8080/",
     "height": 472
    },
    "id": "WEx1RdcPMwFL",
    "outputId": "6b71e5be-7aca-4370-adff-5365bcb7af2c"
   },
   "outputs": [
    {
     "data": {
      "image/png": "[encoded data removed]",
      "text/plain": [
       "<Figure size 640x480 with 1 Axes>"
      ]
     },
     "metadata": {},
     "output_type": "display_data"
    }
   ],
   "source": [
    "precision, recall, thresholds = precision_recall_curve(test_labels, test_predictions[:, 1])\n",
    "average_precision = average_precision_score(test_labels, test_predictions[:, 1])\n",
    "\n",
    "# Plot the Precision-Recall curve\n",
    "plot_precision_recall_curve(\"xlm-roberta\", precision, recall, average_precision)"
   ]
  },
  {
   "cell_type": "markdown",
   "id": "a2f6df95-c02d-438f-83df-e868227dc048",
   "metadata": {
    "id": "a2f6df95-c02d-438f-83df-e868227dc048"
   },
   "source": [
    "### Multilungual"
   ]
  },
  {
   "cell_type": "code",
   "execution_count": null,
   "id": "f29026c5-6a8d-4176-a0e4-46ced3d3ed28",
   "metadata": {
    "id": "f29026c5-6a8d-4176-a0e4-46ced3d3ed28"
   },
   "outputs": [],
   "source": [
    "# Combine Multilingual Training Data\n",
    "df_train_multi = pd.concat([df_train_ar, df_train_bg, df_train_en, df_train_de, df_train_it])\n",
    "df_dev_multi = pd.concat([df_dev_ar, df_dev_bg, df_dev_en, df_dev_de, df_dev_it])"
   ]
  },
  {
   "cell_type": "code",
   "execution_count": null,
   "id": "de8c9563-d44f-4247-84bb-0089f373cd68",
   "metadata": {
    "id": "de8c9563-d44f-4247-84bb-0089f373cd68"
   },
   "outputs": [],
   "source": [
    "dataset_train = Dataset.from_pandas(df_train_multi)\n",
    "dataset_val = Dataset.from_pandas(df_dev_multi)\n",
    "dataset_test = Dataset.from_pandas(df_test_multi)"
   ]
  },
  {
   "cell_type": "code",
   "execution_count": null,
   "id": "24a96301-0307-47a2-a170-7ae3dd9a54c5",
   "metadata": {
    "colab": {
     "base_uri": "https://localhost:8080/",
     "height": 113,
     "referenced_widgets": [
      "77567919655446ec98e6ac9caef34c7d",
      "8c554734b7244157951b357a99829e35",
      "8d5871db9bd147ccb597fd9ce484bf83",
      "02464f7a14054d6c955baaa068088dc3",
      "182af86c27ec44808451d1b2e8f54a10",
      "4c2f41d046704540a8e8a7887d558d79",
      "493fa219bffb4226bdf4f880fa864a01",
      "bf688d1d557b48cda702c9ab9bae108b",
      "54b6292a951d490faffd07d0f44cdfed",
      "cb7dab84c76c4ac0ab718004f1bcabb6",
      "9464a60778d94158849f78d9e2ab5b85",
      "bcea8e7d4e134cd788f423c1d08edf2f",
      "d02d682b8f9544c7a9e9e8527200568b",
      "913d6e15cda946f2bd92c9bb1475de1c",
      "a5bb2cedc48240d2ac5653ba345e558f",
      "f908caa1af5643ce9280c6d8ded09bb8",
      "2c0f6e616249433fb4f37e1846ae1cbd",
      "23736461c4714bec86ca320eb8739f7e",
      "329bf6965a0a41fd8af9d01f4f3d8f4b",
      "9ed5628fba9f40d3ae75f17d4333f281",
      "2b5e511772904d98ac2734c26fa736a1",
      "863b22b83c22493d9c883b579f5cd8a4",
      "e1a3621f72a840e28c94b1678b44d520",
      "01bd4c7e12bc41c484dde9c25b5283c7",
      "69c4cce74e2a440e9474b59b105c7e17",
      "5fb313ddc50e418292df5a37749638bf",
      "a8330ce9f9c54db0835771005f9d1dd6",
      "c2990bc3b7e848e58472108be0ca657e",
      "94fa2d1e8b2f44db89c98f47a37e5f04",
      "28289819ecae4004844c392a895d48e3",
      "d28d5d3a7e594718940f12408d04dcee",
      "73881247554f44f791a1eb75eeab5a7c",
      "a0ed9769ffee4cfe84577cbd185f11ac"
     ]
    },
    "id": "24a96301-0307-47a2-a170-7ae3dd9a54c5",
    "outputId": "39ed3b27-e743-4426-8e5d-8569ddb23838"
   },
   "outputs": [
    {
     "data": {
      "application/vnd.jupyter.widget-view+json": {
       "model_id": "77567919655446ec98e6ac9caef34c7d",
       "version_major": 2,
       "version_minor": 0
      },
      "text/plain": [
       "Map:   0%|          | 0/6380 [00:00<?, ? examples/s]"
      ]
     },
     "metadata": {},
     "output_type": "display_data"
    },
    {
     "data": {
      "application/vnd.jupyter.widget-view+json": {
       "model_id": "bcea8e7d4e134cd788f423c1d08edf2f",
       "version_major": 2,
       "version_minor": 0
      },
      "text/plain": [
       "Map:   0%|          | 0/2393 [00:00<?, ? examples/s]"
      ]
     },
     "metadata": {},
     "output_type": "display_data"
    },
    {
     "data": {
      "application/vnd.jupyter.widget-view+json": {
       "model_id": "e1a3621f72a840e28c94b1678b44d520",
       "version_major": 2,
       "version_minor": 0
      },
      "text/plain": [
       "Map:   0%|          | 0/1982 [00:00<?, ? examples/s]"
      ]
     },
     "metadata": {},
     "output_type": "display_data"
    }
   ],
   "source": [
    "# Tokenization\n",
    "tokenized_train = dataset_train.map(preprocess_function, batched=True)\n",
    "tokenized_val = dataset_val.map(preprocess_function, batched=True)\n",
    "tokenized_test = dataset_test.map(preprocess_function, batched=True)"
   ]
  },
  {
   "cell_type": "code",
   "execution_count": null,
   "id": "506b79e3-5db9-4ae9-84e1-06f502586a9b",
   "metadata": {
    "colab": {
     "base_uri": "https://localhost:8080/"
    },
    "id": "506b79e3-5db9-4ae9-84e1-06f502586a9b",
    "outputId": "248ab2e1-eef6-4642-aa92-29851d8626cd"
   },
   "outputs": [
    {
     "name": "stderr",
     "output_type": "stream",
     "text": [
      "<ipython-input-77-eb8653a7a6bc>:2: FutureWarning: `tokenizer` is deprecated and will be removed in version 5.0.0 for `Trainer.__init__`. Use `processing_class` instead.\n",
      "  trainer = Trainer(\n"
     ]
    }
   ],
   "source": [
    "# Trainer\n",
    "trainer = Trainer(\n",
    "    model=model,\n",
    "    args=training_args,\n",
    "    train_dataset=tokenized_train,\n",
    "    eval_dataset=tokenized_val,\n",
    "    tokenizer=tokenizer,\n",
    "    data_collator=data_collator,\n",
    "    compute_metrics=compute_metrics\n",
    ")"
   ]
  },
  {
   "cell_type": "code",
   "execution_count": null,
   "id": "ddf11308-3b68-4033-be94-7f94f6d69665",
   "metadata": {
    "colab": {
     "base_uri": "https://localhost:8080/",
     "height": 204
    },
    "id": "ddf11308-3b68-4033-be94-7f94f6d69665",
    "outputId": "1d3004e1-e242-40f7-e295-3e8047bd7497"
   },
   "outputs": [
    {
     "data": {
      "text/html": [
       "\n",
       "    <div>\n",
       "      \n",
       "      <progress value='1197' max='1197' style='width:300px; height:20px; vertical-align: middle;'></progress>\n",
       "      [1197/1197 37:13, Epoch 3/3]\n",
       "    </div>\n",
       "    <table border=\"1\" class=\"dataframe\">\n",
       "  <thead>\n",
       " <tr style=\"text-align: left;\">\n",
       "      <th>Epoch</th>\n",
       "      <th>Training Loss</th>\n",
       "      <th>Validation Loss</th>\n",
       "      <th>F1 Macro</th>\n",
       "    </tr>\n",
       "  </thead>\n",
       "  <tbody>\n",
       "    <tr>\n",
       "      <td>1</td>\n",
       "      <td>No log</td>\n",
       "      <td>0.553464</td>\n",
       "      <td>0.705134</td>\n",
       "    </tr>\n",
       "    <tr>\n",
       "      <td>2</td>\n",
       "      <td>0.545900</td>\n",
       "      <td>0.590689</td>\n",
       "      <td>0.728296</td>\n",
       "    </tr>\n",
       "    <tr>\n",
       "      <td>3</td>\n",
       "      <td>0.426200</td>\n",
       "      <td>0.702441</td>\n",
       "      <td>0.728766</td>\n",
       "    </tr>\n",
       "  </tbody>\n",
       "</table><p>"
      ],
      "text/plain": [
       "<IPython.core.display.HTML object>"
      ]
     },
     "metadata": {},
     "output_type": "display_data"
    },
    {
     "data": {
      "text/plain": [
       "TrainOutput(global_step=1197, training_loss=0.4675774697771447, metrics={'train_runtime': 2235.0836, 'train_samples_per_second': 8.563, 'train_steps_per_second': 0.536, 'total_flos': 5027188934779200.0, 'train_loss': 0.4675774697771447, 'epoch': 3.0})"
      ]
     },
     "execution_count": 78,
     "metadata": {},
     "output_type": "execute_result"
    }
   ],
   "source": [
    "# Training\n",
    "trainer.train()"
   ]
  },
  {
   "cell_type": "code",
   "execution_count": null,
   "id": "69e459fa-b305-40bd-859e-1a803f02d7bd",
   "metadata": {
    "id": "69e459fa-b305-40bd-859e-1a803f02d7bd"
   },
   "outputs": [],
   "source": [
    "log_dir = \"logs\"\n",
    "\n",
    "if os.path.exists(log_dir):\n",
    "    shutil.rmtree(log_dir)  # Remove old logs entirely"
   ]
  },
  {
   "cell_type": "code",
   "execution_count": null,
   "id": "72d59f8c-9ec0-46b1-90a3-3015d7b1ac36",
   "metadata": {
    "colab": {
     "base_uri": "https://localhost:8080/",
     "height": 74
    },
    "id": "72d59f8c-9ec0-46b1-90a3-3015d7b1ac36",
    "outputId": "974b6f2c-0875-474d-e251-da44a1af89f8"
   },
   "outputs": [
    {
     "data": {
      "text/html": [
       "\n",
       "    <div>\n",
       "      \n",
       "      <progress value='150' max='150' style='width:300px; height:20px; vertical-align: middle;'></progress>\n",
       "      [150/150 00:27]\n",
       "    </div>\n",
       "    "
      ],
      "text/plain": [
       "<IPython.core.display.HTML object>"
      ]
     },
     "metadata": {},
     "output_type": "display_data"
    },
    {
     "name": "stdout",
     "output_type": "stream",
     "text": [
      "Validation Metrics: {'eval_loss': 0.7024405002593994, 'eval_f1_macro': 0.7287655706173292, 'eval_runtime': 27.5887, 'eval_samples_per_second': 86.739, 'eval_steps_per_second': 5.437, 'epoch': 3.0}\n"
     ]
    }
   ],
   "source": [
    "# Evaluation\n",
    "val_metrics = trainer.evaluate()\n",
    "print(\"Validation Metrics:\", val_metrics)"
   ]
  },
  {
   "cell_type": "code",
   "execution_count": null,
   "id": "524e36c3-f10c-47ff-94de-958898da5e7d",
   "metadata": {
    "id": "524e36c3-f10c-47ff-94de-958898da5e7d"
   },
   "outputs": [],
   "source": [
    "# Save model\n",
    "trainer.save_model(\"xlm-roberta-subjectivity-multi\")"
   ]
  },
  {
   "cell_type": "code",
   "execution_count": null,
   "id": "6ce9cc7e-3956-4299-a470-72d70d00b0d2",
   "metadata": {
    "colab": {
     "base_uri": "https://localhost:8080/",
     "height": 17
    },
    "id": "6ce9cc7e-3956-4299-a470-72d70d00b0d2",
    "outputId": "729ba71f-de45-45e7-e39e-fa699bd2e2ab"
   },
   "outputs": [
    {
     "data": {
      "text/html": [],
      "text/plain": [
       "<IPython.core.display.HTML object>"
      ]
     },
     "metadata": {},
     "output_type": "display_data"
    }
   ],
   "source": [
    "# Multilingual Test Predictions\n",
    "predictions = trainer.predict(tokenized_test)\n",
    "pred_labels = np.argmax(predictions.predictions, axis=1)\n",
    "\n",
    "submission = pd.DataFrame({\n",
    "    \"sentence_id\": df_test_multi[\"sentence_id\"],\n",
    "    \"label\": [\"OBJ\" if l == 1 else \"SUBJ\" for l in pred_labels]\n",
    "})\n",
    "submission.to_csv(\"multilingual_test_predictions.tsv\", sep=\"\\t\", index=False)"
   ]
  },
  {
   "cell_type": "code",
   "execution_count": null,
   "id": "e188784d-9493-48d0-9e1b-4fb8d391e5bb",
   "metadata": {
    "colab": {
     "base_uri": "https://localhost:8080/"
    },
    "id": "e188784d-9493-48d0-9e1b-4fb8d391e5bb",
    "outputId": "3c213bc4-1bbd-4847-bbfb-0ece5b9854a4"
   },
   "outputs": [
    {
     "name": "stdout",
     "output_type": "stream",
     "text": [
      "INFO : The file is properly formatted\n",
      "INFO : Started evaluating results for Task 1...\n",
      "INFO : \n",
      "            macro-F1: 0.6838\n",
      "            macro-P: 0.7112\n",
      "            macro-R: 0.6728\n",
      "            \n",
      "            SUBJ-F1: 0.5383\n",
      "            SUBJ-P: 0.6386\n",
      "            SUBJ-R: 0.4653\n",
      "            \n",
      "            accuracy: 0.7508\n",
      "        \n"
     ]
    }
   ],
   "source": [
    "# Run scorer\n",
    "# !python scorer/evaluate.py -g data/multilingual/test_multilingual_labeled.tsv -p multilingual_test_predictions.tsv\n",
    "!python clef2025-checkthat-lab/task1/scorer/evaluate.py \\\n",
    "    -g clef2025-checkthat-lab/task1/data/multilingual/test_multilingual_labeled.tsv \\\n",
    "    -p multilingual_test_predictions.tsv"
   ]
  },
  {
   "cell_type": "markdown",
   "id": "ZscyDjGcPP8p",
   "metadata": {
    "id": "ZscyDjGcPP8p"
   },
   "source": [
    "#### Error Analysis"
   ]
  },
  {
   "cell_type": "code",
   "execution_count": null,
   "id": "YdvDKMoKPDO6",
   "metadata": {
    "id": "YdvDKMoKPDO6"
   },
   "outputs": [],
   "source": [
    "test_predictions, test_labels = predictions.predictions, predictions.label_ids"
   ]
  },
  {
   "cell_type": "code",
   "execution_count": null,
   "id": "V8phXTHFPWzb",
   "metadata": {
    "id": "V8phXTHFPWzb"
   },
   "outputs": [],
   "source": [
    "# Convert predictions and labels to pandas DataFrame (Transformer)\n",
    "test_results = pd.DataFrame({\n",
    "    \"sentence\": df_test_multi[\"sentence\"],\n",
    "    \"true_label\": test_labels,\n",
    "    \"predicted_label\": pred_labels\n",
    "})\n",
    "\n",
    "# Add a column to classify error types\n",
    "test_results[\"error_type\"] = np.where(\n",
    "    test_results[\"true_label\"] == test_results[\"predicted_label\"],\n",
    "    \"Correct\",\n",
    "    np.where(\n",
    "        (test_results[\"true_label\"] == 1) & (test_results[\"predicted_label\"] == 0),\n",
    "        \"False Negative\",\n",
    "        \"False Positive\"\n",
    "    )\n",
    ")"
   ]
  },
  {
   "cell_type": "code",
   "execution_count": null,
   "id": "NEwxVmBQPZRJ",
   "metadata": {
    "colab": {
     "base_uri": "https://localhost:8080/"
    },
    "id": "NEwxVmBQPZRJ",
    "outputId": "67101a13-dd00-4c1d-ca98-e3223f0e6d3e"
   },
   "outputs": [
    {
     "name": "stdout",
     "output_type": "stream",
     "text": [
      "Number of False Positives (xlm-roberta): 331\n",
      "\n",
      "EXAMPLES:\n",
      "\n",
      "\tTo these unhappy groups, we can add a third.\n",
      "\n",
      "\tEcco ad esempio che la Regione Liguria, guidata dalla destra, ha pensato bene di stanziare 220mila euro per un progetto di educazione allaffettività nelle parrocchie e negli oratori.\n",
      "\n",
      "\tويتطرق عمار إلى التأثيرات المحتملة لموقف ماسك ،  أن ذلك الموقف قد يفاقم التوتر بين واشنطن وبرلين ، خاصة في ظل حساسية المرحلة الحالية مع اقتراب الانتخابات في ألمانيا.\n",
      "\n",
      "\tLone shoppers lined the aisles in preparation for a Government-mandated 24-hour indoors, with several baskets piled with more food, booze and toilet rolls than any household could conceivably need during such a short time.\n",
      "\n",
      "\tويبدو أن مستوى الدوري الإنجليزي بشكل عام ونسق مانشستر يونايتد القوي هو السبب الأول في تعثر خطوات المجبري في فريق الشياطين الحمر وعدم قدرته على إثبات نفسه حتى ضمن التشكيلة الاحتياطية بحسب رأي المدير الفني السابق للاتحاد التونسي لكرة القدم كمال القلصي.\n",
      "\n",
      "\tعلى سبيل المثال ، أصبحت بكين تتوقع من زعماء العالم النامي الموافقة  على مبادرة الأمن العالمي ، التي تتعارض مبادئها مع المثل العليا والممارسات في الشؤون الدولية التي تفضلها الولايات المتحدة وحلفاؤها.\n",
      "\n",
      "\tThe release this week of the new Chinese artificial intelligence (AI) tool, DeepSeek-R1, is one such moment.\n",
      "\n",
      "\tوأضاف الركابي : تزداد مخاوف المستثمرين والشركات بزيادة الضرائب ما يؤثر  على الربحية.\n",
      "\n",
      "\tSia chiaro:\n",
      "\n",
      "\tومثال على ذلك السياسات الحمائية التي ينوي اتباعها في فرض الرسوم الجمركية على جميع المنتجات المستوردة من الخارج ، وخاصة من الصين ، إذ ينوي فرض رسوم تصل إلى 60 بالمئة.\n",
      "\n"
     ]
    }
   ],
   "source": [
    "false_positives = test_results[test_results[\"error_type\"] == \"False Positive\"]\n",
    "print(f\"Number of False Positives (xlm-roberta): {false_positives.shape[0]}\")\n",
    "print(\"\\nEXAMPLES:\\n\")\n",
    "for ex in false_positives.head(10).sentence:\n",
    "    print(f\"\\t{ex}\\n\")"
   ]
  },
  {
   "cell_type": "code",
   "execution_count": null,
   "id": "1HARItR9PZm6",
   "metadata": {
    "colab": {
     "base_uri": "https://localhost:8080/"
    },
    "id": "1HARItR9PZm6",
    "outputId": "b699c019-16df-4e64-c248-1ea469e6bc2a"
   },
   "outputs": [
    {
     "name": "stdout",
     "output_type": "stream",
     "text": [
      "Number of False Negatives (xlm-roberta): 163\n",
      "\n",
      "EXAMPLES:\n",
      "\n",
      "\tأخبار ذات صلة \" تيشاع بآف \".\n",
      "\n",
      "\tThe fuel for the far right comes from disillusionment.\n",
      "\n",
      "\tوأبلغ كبار المسؤولين الإسرائيليين الولايات المتحدة أنهم يخططون لاستهداف مواقع عسكرية.\n",
      "\n",
      "\tويبدو أنه يرى روسيا كمواطنة حاسمة في هذا المسعى.\n",
      "\n",
      "\tRemarkable breakthroughs have ensued:\n",
      "\n",
      "\tReading about post-revolutionary cities, one often learns about the tension between the anticipation of the people and the dilapidation around them.\n",
      "\n",
      "\tإذ تقول المستشارة إن المحافظين تركوا لها فجوة قدرها 22 مليار جنيه إسترليني في ميزانية هذا العام تحتاج إلى سدها من أجل إصلاح أسس الاقتصاد.\n",
      "\n",
      "\tI started writing fiction again for the first time in more than a decade, and it felt incredible.\n",
      "\n",
      "\tيمكنك تحديد مجالات تقليل التكاليف.\n",
      "\n",
      "\t«Caro compagno, dammi pure del lei».\n",
      "\n"
     ]
    }
   ],
   "source": [
    "false_negatives = test_results[test_results[\"error_type\"] == \"False Negative\"]\n",
    "print(f\"Number of False Negatives (xlm-roberta): {false_negatives.shape[0]}\")\n",
    "print(\"\\nEXAMPLES:\\n\")\n",
    "for ex in false_negatives.head(10).sentence:\n",
    "    print(f\"\\t{ex}\\n\")"
   ]
  },
  {
   "cell_type": "code",
   "execution_count": null,
   "id": "uEvnBn32PZ2a",
   "metadata": {
    "colab": {
     "base_uri": "https://localhost:8080/",
     "height": 947
    },
    "id": "uEvnBn32PZ2a",
    "outputId": "9eb3f96c-0b14-4209-c408-90534ec36dcf"
   },
   "outputs": [
    {
     "data": {
      "image/png": "[encoded data removed]",
      "text/plain": [
       "<Figure size 640x480 with 2 Axes>"
      ]
     },
     "metadata": {},
     "output_type": "display_data"
    },
    {
     "data": {
      "image/png": "[encoded data removed]",
      "text/plain": [
       "<Figure size 640x480 with 2 Axes>"
      ]
     },
     "metadata": {},
     "output_type": "display_data"
    }
   ],
   "source": [
    "plot_confusion_matrix(\"xlm-roberta\", test_results)"
   ]
  },
  {
   "cell_type": "code",
   "execution_count": null,
   "id": "8bK5eBLWPaGh",
   "metadata": {
    "colab": {
     "base_uri": "https://localhost:8080/",
     "height": 472
    },
    "id": "8bK5eBLWPaGh",
    "outputId": "f72b281d-cdcb-4b2e-dd75-33d106cd7018"
   },
   "outputs": [
    {
     "data": {
      "image/png": "[encoded data removed]",
      "text/plain": [
       "<Figure size 640x480 with 1 Axes>"
      ]
     },
     "metadata": {},
     "output_type": "display_data"
    }
   ],
   "source": [
    "precision, recall, thresholds = precision_recall_curve(test_labels, test_predictions[:, 1])\n",
    "average_precision = average_precision_score(test_labels, test_predictions[:, 1])\n",
    "\n",
    "# Plot the Precision-Recall curve\n",
    "plot_precision_recall_curve(\"xlm-roberta\", precision, recall, average_precision)"
   ]
  },
  {
   "cell_type": "markdown",
   "id": "87f5127d-f5d9-4369-a056-598679ff6da7",
   "metadata": {
    "id": "87f5127d-f5d9-4369-a056-598679ff6da7"
   },
   "source": [
    "### Zero-Shot"
   ]
  },
  {
   "cell_type": "code",
   "execution_count": null,
   "id": "0E2tZ6iPQZCc",
   "metadata": {
    "id": "0E2tZ6iPQZCc"
   },
   "outputs": [],
   "source": [
    "# GREEK"
   ]
  },
  {
   "cell_type": "code",
   "execution_count": null,
   "id": "SuzPCALvbv4k",
   "metadata": {
    "id": "SuzPCALvbv4k"
   },
   "outputs": [],
   "source": [
    "# During testing we found that two examples are classified as \"Uncertain\", so we decided to not consider these results."
   ]
  },
  {
   "cell_type": "code",
   "execution_count": null,
   "id": "TbpDl24xQaok",
   "metadata": {
    "id": "TbpDl24xQaok"
   },
   "outputs": [],
   "source": [
    "# POLISH"
   ]
  },
  {
   "cell_type": "code",
   "execution_count": null,
   "id": "7ygEnCEqQ7ZD",
   "metadata": {
    "colab": {
     "base_uri": "https://localhost:8080/",
     "height": 275,
     "referenced_widgets": [
      "a3eb9c2d32ca448c98548e1753acf5c7",
      "e2415a2e3163494cae118289d9afe91f",
      "3d26710196304dc28014d186d56dab0b",
      "a50d71ddc8d144ddbe3a17f2123e19c6",
      "0c3cc314548441b3b80c9e712c6f622f",
      "aef61e8d053d4198b98ed1883cb5db3f",
      "37e35e7a0b8b4d81a64e4bfa8db44874",
      "bb439f636ca94c12b65bbc14566e8d06",
      "068e0f0fc35f4ba385eb0499fe666717",
      "f982fbd40ff84106a999a6c89bc79cfe",
      "c0890ba1593e44da96f624a8d9ba70d5"
     ]
    },
    "id": "7ygEnCEqQ7ZD",
    "outputId": "caf221c0-e753-4a74-8ff6-fd86916be9fc"
   },
   "outputs": [
    {
     "data": {
      "application/vnd.jupyter.widget-view+json": {
       "model_id": "a3eb9c2d32ca448c98548e1753acf5c7",
       "version_major": 2,
       "version_minor": 0
      },
      "text/plain": [
       "Map:   0%|          | 0/351 [00:00<?, ? examples/s]"
      ]
     },
     "metadata": {},
     "output_type": "display_data"
    },
    {
     "data": {
      "text/html": [],
      "text/plain": [
       "<IPython.core.display.HTML object>"
      ]
     },
     "metadata": {},
     "output_type": "display_data"
    },
    {
     "name": "stdout",
     "output_type": "stream",
     "text": [
      "INFO : The file is properly formatted\n",
      "INFO : Started evaluating results for Task 1...\n",
      "INFO : \n",
      "            macro-F1: 0.5809\n",
      "            macro-P: 0.7722\n",
      "            macro-R: 0.6225\n",
      "            \n",
      "            SUBJ-F1: 0.4078\n",
      "            SUBJ-P: 0.9333\n",
      "            SUBJ-R: 0.2609\n",
      "            \n",
      "            accuracy: 0.6524\n",
      "        \n"
     ]
    }
   ],
   "source": [
    "dataset_test = Dataset.from_pandas(df_test_pol)\n",
    "tokenized_test = dataset_test.map(preprocess_function, batched=True)\n",
    "\n",
    "predictions = trainer.predict(tokenized_test)\n",
    "pred_labels = np.argmax(predictions.predictions, axis=1)\n",
    "\n",
    "submission = pd.DataFrame({\n",
    "    \"sentence_id\": df_test_pol[\"sentence_id\"],\n",
    "    \"label\": [\"OBJ\" if l == 1 else \"SUBJ\" for l in pred_labels]\n",
    "})\n",
    "submission_path = \"zero_shot_pol_predictions.tsv\"\n",
    "submission.to_csv(submission_path, sep=\"\\t\", index=False)\n",
    "\n",
    "ground_truth_path = \"clef2025-checkthat-lab/task1/data/polish/test_pol_labeled.tsv\"\n",
    "!python clef2025-checkthat-lab/task1/scorer/evaluate.py -g {ground_truth_path} -p {submission_path}"
   ]
  },
  {
   "cell_type": "code",
   "execution_count": null,
   "id": "KTo7HBvyTGQS",
   "metadata": {
    "id": "KTo7HBvyTGQS"
   },
   "outputs": [],
   "source": [
    "test_predictions, test_labels = predictions.predictions, predictions.label_ids\n",
    "\n",
    "# Convert predictions and labels to pandas DataFrame (Transformer)\n",
    "test_results = pd.DataFrame({\n",
    "    \"sentence\": df_test_pol[\"sentence\"],\n",
    "    \"true_label\": test_labels,\n",
    "    \"predicted_label\": pred_labels\n",
    "})\n",
    "\n",
    "# Add a column to classify error types\n",
    "test_results[\"error_type\"] = np.where(\n",
    "    test_results[\"true_label\"] == test_results[\"predicted_label\"],\n",
    "    \"Correct\",\n",
    "    np.where(\n",
    "        (test_results[\"true_label\"] == 1) & (test_results[\"predicted_label\"] == 0),\n",
    "        \"False Negative\",\n",
    "        \"False Positive\"\n",
    "    )\n",
    ")"
   ]
  },
  {
   "cell_type": "code",
   "execution_count": null,
   "id": "YRP4CSqZS6j2",
   "metadata": {
    "colab": {
     "base_uri": "https://localhost:8080/",
     "height": 939
    },
    "id": "YRP4CSqZS6j2",
    "outputId": "688013ec-f868-4fe9-f053-cc07c67832b8"
   },
   "outputs": [
    {
     "data": {
      "image/png": "[encoded data removed]",
      "text/plain": [
       "<Figure size 640x480 with 2 Axes>"
      ]
     },
     "metadata": {},
     "output_type": "display_data"
    },
    {
     "data": {
      "image/png": "[encoded data removed]",
      "text/plain": [
       "<Figure size 640x480 with 2 Axes>"
      ]
     },
     "metadata": {},
     "output_type": "display_data"
    }
   ],
   "source": [
    "plot_confusion_matrix(\"xlm-roberta\", test_results)"
   ]
  },
  {
   "cell_type": "code",
   "execution_count": null,
   "id": "tB1g9D94TSTY",
   "metadata": {
    "colab": {
     "base_uri": "https://localhost:8080/",
     "height": 472
    },
    "id": "tB1g9D94TSTY",
    "outputId": "ecbeef66-359d-4b91-8495-d4100e79c5ad"
   },
   "outputs": [
    {
     "data": {
      "image/png": "[encoded data removed]",
      "text/plain": [
       "<Figure size 640x480 with 1 Axes>"
      ]
     },
     "metadata": {},
     "output_type": "display_data"
    }
   ],
   "source": [
    "precision, recall, thresholds = precision_recall_curve(test_labels, test_predictions[:, 1])\n",
    "average_precision = average_precision_score(test_labels, test_predictions[:, 1])\n",
    "\n",
    "# Plot the Precision-Recall curve\n",
    "plot_precision_recall_curve(\"xlm-roberta\", precision, recall, average_precision)"
   ]
  },
  {
   "cell_type": "code",
   "execution_count": null,
   "id": "iX3uxmoPQbwk",
   "metadata": {
    "id": "iX3uxmoPQbwk"
   },
   "outputs": [],
   "source": [
    "# ROMANIAN"
   ]
  },
  {
   "cell_type": "code",
   "execution_count": null,
   "id": "xUJn4nmaQ7sU",
   "metadata": {
    "colab": {
     "base_uri": "https://localhost:8080/",
     "height": 275,
     "referenced_widgets": [
      "e27b721496c74d9e8b6d66c30c3d5334",
      "6c0455db525d4dba88c97e76ed7bcc8d",
      "fc9e0fc8ee2f46c0b90e8fd786f32a84",
      "6c6f5068ed9342ca8aa5aca0d21c5764",
      "23a3bd2886444a01a40d5286db0e8e25",
      "6aa2143fb6be4b738851139c51b5d777",
      "57792a600ba742519f3fe86cfd4ed100",
      "27150459d7e24c889ef9d3ddba7dec9e",
      "8a9191d271f4426b9e79debb341c90ae",
      "eeb3ef656bed43428ae07743a942ea76",
      "c072bfdb951247558ee354f4197be3e3"
     ]
    },
    "id": "xUJn4nmaQ7sU",
    "outputId": "0c8a7238-275a-4bea-97fe-c500d4d26581"
   },
   "outputs": [
    {
     "data": {
      "application/vnd.jupyter.widget-view+json": {
       "model_id": "e27b721496c74d9e8b6d66c30c3d5334",
       "version_major": 2,
       "version_minor": 0
      },
      "text/plain": [
       "Map:   0%|          | 0/206 [00:00<?, ? examples/s]"
      ]
     },
     "metadata": {},
     "output_type": "display_data"
    },
    {
     "data": {
      "text/html": [],
      "text/plain": [
       "<IPython.core.display.HTML object>"
      ]
     },
     "metadata": {},
     "output_type": "display_data"
    },
    {
     "name": "stdout",
     "output_type": "stream",
     "text": [
      "INFO : The file is properly formatted\n",
      "INFO : Started evaluating results for Task 1...\n",
      "INFO : \n",
      "            macro-F1: 0.7866\n",
      "            macro-P: 0.7748\n",
      "            macro-R: 0.8036\n",
      "            \n",
      "            SUBJ-F1: 0.6903\n",
      "            SUBJ-P: 0.6393\n",
      "            SUBJ-R: 0.7500\n",
      "            \n",
      "            accuracy: 0.8301\n",
      "        \n"
     ]
    }
   ],
   "source": [
    "dataset_test = Dataset.from_pandas(df_test_ro)\n",
    "tokenized_test = dataset_test.map(preprocess_function, batched=True)\n",
    "\n",
    "predictions = trainer.predict(tokenized_test)\n",
    "pred_labels = np.argmax(predictions.predictions, axis=1)\n",
    "\n",
    "submission = pd.DataFrame({\n",
    "    \"sentence_id\": df_test_ro[\"sentence_id\"],\n",
    "    \"label\": [\"OBJ\" if l == 1 else \"SUBJ\" for l in pred_labels]\n",
    "})\n",
    "submission_path = \"zero_shot_ro_predictions.tsv\"\n",
    "submission.to_csv(submission_path, sep=\"\\t\", index=False)\n",
    "\n",
    "ground_truth_path = \"clef2025-checkthat-lab/task1/data/romanian/test_ro_labeled.tsv\"\n",
    "!python clef2025-checkthat-lab/task1/scorer/evaluate.py -g {ground_truth_path} -p {submission_path}"
   ]
  },
  {
   "cell_type": "code",
   "execution_count": null,
   "id": "vzICwksWTHNd",
   "metadata": {
    "id": "vzICwksWTHNd"
   },
   "outputs": [],
   "source": [
    "test_predictions, test_labels = predictions.predictions, predictions.label_ids\n",
    "\n",
    "# Convert predictions and labels to pandas DataFrame (Transformer)\n",
    "test_results = pd.DataFrame({\n",
    "    \"sentence\": df_test_ro[\"sentence\"],\n",
    "    \"true_label\": test_labels,\n",
    "    \"predicted_label\": pred_labels\n",
    "})\n",
    "\n",
    "# Add a column to classify error types\n",
    "test_results[\"error_type\"] = np.where(\n",
    "    test_results[\"true_label\"] == test_results[\"predicted_label\"],\n",
    "    \"Correct\",\n",
    "    np.where(\n",
    "        (test_results[\"true_label\"] == 1) & (test_results[\"predicted_label\"] == 0),\n",
    "        \"False Negative\",\n",
    "        \"False Positive\"\n",
    "    )\n",
    ")"
   ]
  },
  {
   "cell_type": "code",
   "execution_count": null,
   "id": "SAQsdYFLTLgK",
   "metadata": {
    "colab": {
     "base_uri": "https://localhost:8080/",
     "height": 939
    },
    "id": "SAQsdYFLTLgK",
    "outputId": "4867a942-14ff-449c-e84a-112b0cd0c3d0"
   },
   "outputs": [
    {
     "data": {
      "image/png": "[encoded data removed]",
      "text/plain": [
       "<Figure size 640x480 with 2 Axes>"
      ]
     },
     "metadata": {},
     "output_type": "display_data"
    },
    {
     "data": {
      "image/png": "[encoded data removed]",
      "text/plain": [
       "<Figure size 640x480 with 2 Axes>"
      ]
     },
     "metadata": {},
     "output_type": "display_data"
    }
   ],
   "source": [
    "plot_confusion_matrix(\"xlm-roberta\", test_results)"
   ]
  },
  {
   "cell_type": "code",
   "execution_count": null,
   "id": "p-c1X6JqTTKq",
   "metadata": {
    "colab": {
     "base_uri": "https://localhost:8080/",
     "height": 472
    },
    "id": "p-c1X6JqTTKq",
    "outputId": "df94a29c-16f6-4d29-89d7-b7cee180138f"
   },
   "outputs": [
    {
     "data": {
      "image/png": "[encoded data removed]",
      "text/plain": [
       "<Figure size 640x480 with 1 Axes>"
      ]
     },
     "metadata": {},
     "output_type": "display_data"
    }
   ],
   "source": [
    "precision, recall, thresholds = precision_recall_curve(test_labels, test_predictions[:, 1])\n",
    "average_precision = average_precision_score(test_labels, test_predictions[:, 1])\n",
    "\n",
    "# Plot the Precision-Recall curve\n",
    "plot_precision_recall_curve(\"xlm-roberta\", precision, recall, average_precision)"
   ]
  },
  {
   "cell_type": "code",
   "execution_count": null,
   "id": "9b2NiKKdQbho",
   "metadata": {
    "id": "9b2NiKKdQbho"
   },
   "outputs": [],
   "source": [
    "# UKRAINIAN"
   ]
  },
  {
   "cell_type": "code",
   "execution_count": null,
   "id": "f7bad2f5-d362-4594-8c55-e08ce725bd25",
   "metadata": {
    "colab": {
     "base_uri": "https://localhost:8080/",
     "height": 275,
     "referenced_widgets": [
      "98ead2a23be44158aae09dd223690ee4",
      "cf4e827eb9304aa5b497becc491cdd0a",
      "e0fc5067f1ed4c2f9d395b9471419cfa",
      "50e2cc2cd15a47f3aff8cf1ba2a822e5",
      "a341925de57e48f48aeca535e160c19f",
      "f0bc67dc50f14fc28097ccdc3d99747d",
      "92309212379c4c069ec3af5704141c98",
      "3d9638e990e442618c7b8f383c6a497b",
      "c3abac73fae1437f9c0114a45f16d95b",
      "f543b3356f54467287c6bede709fcee9",
      "58b4e0aa2ffc4d7a82504abddf65ba01"
     ]
    },
    "id": "f7bad2f5-d362-4594-8c55-e08ce725bd25",
    "outputId": "80d403e9-9e0f-4514-8e38-c7d2d7792976"
   },
   "outputs": [
    {
     "data": {
      "application/vnd.jupyter.widget-view+json": {
       "model_id": "98ead2a23be44158aae09dd223690ee4",
       "version_major": 2,
       "version_minor": 0
      },
      "text/plain": [
       "Map:   0%|          | 0/297 [00:00<?, ? examples/s]"
      ]
     },
     "metadata": {},
     "output_type": "display_data"
    },
    {
     "data": {
      "text/html": [],
      "text/plain": [
       "<IPython.core.display.HTML object>"
      ]
     },
     "metadata": {},
     "output_type": "display_data"
    },
    {
     "name": "stdout",
     "output_type": "stream",
     "text": [
      "INFO : The file is properly formatted\n",
      "INFO : Started evaluating results for Task 1...\n",
      "INFO : \n",
      "            macro-F1: 0.6243\n",
      "            macro-P: 0.6210\n",
      "            macro-R: 0.6446\n",
      "            \n",
      "            SUBJ-F1: 0.4839\n",
      "            SUBJ-P: 0.4167\n",
      "            SUBJ-R: 0.5769\n",
      "            \n",
      "            accuracy: 0.6768\n",
      "        \n"
     ]
    }
   ],
   "source": [
    "dataset_test = Dataset.from_pandas(df_test_ukr)\n",
    "tokenized_test = dataset_test.map(preprocess_function, batched=True)\n",
    "\n",
    "predictions = trainer.predict(tokenized_test)\n",
    "pred_labels = np.argmax(predictions.predictions, axis=1)\n",
    "\n",
    "submission = pd.DataFrame({\n",
    "    \"sentence_id\": df_test_ukr[\"sentence_id\"],\n",
    "    \"label\": [\"OBJ\" if l == 1 else \"SUBJ\" for l in pred_labels]\n",
    "})\n",
    "submission_path = \"zero_shot_ukr_predictions.tsv\"\n",
    "submission.to_csv(submission_path, sep=\"\\t\", index=False)\n",
    "\n",
    "ground_truth_path = \"clef2025-checkthat-lab/task1/data/ukrainian/test_ukr_labeled.tsv\"\n",
    "!python clef2025-checkthat-lab/task1/scorer/evaluate.py -g {ground_truth_path} -p {submission_path}"
   ]
  },
  {
   "cell_type": "code",
   "execution_count": null,
   "id": "1BLVtCiWTH_I",
   "metadata": {
    "id": "1BLVtCiWTH_I"
   },
   "outputs": [],
   "source": [
    "test_predictions, test_labels = predictions.predictions, predictions.label_ids\n",
    "\n",
    "# Convert predictions and labels to pandas DataFrame (Transformer)\n",
    "test_results = pd.DataFrame({\n",
    "    \"sentence\": df_test_ukr[\"sentence\"],\n",
    "    \"true_label\": test_labels,\n",
    "    \"predicted_label\": pred_labels\n",
    "})\n",
    "\n",
    "# Add a column to classify error types\n",
    "test_results[\"error_type\"] = np.where(\n",
    "    test_results[\"true_label\"] == test_results[\"predicted_label\"],\n",
    "    \"Correct\",\n",
    "    np.where(\n",
    "        (test_results[\"true_label\"] == 1) & (test_results[\"predicted_label\"] == 0),\n",
    "        \"False Negative\",\n",
    "        \"False Positive\"\n",
    "    )\n",
    ")"
   ]
  },
  {
   "cell_type": "code",
   "execution_count": null,
   "id": "HH5-wgq1TMYd",
   "metadata": {
    "colab": {
     "base_uri": "https://localhost:8080/",
     "height": 939
    },
    "id": "HH5-wgq1TMYd",
    "outputId": "0502383c-2a31-4e9d-ddb4-87732872ef30"
   },
   "outputs": [
    {
     "data": {
      "image/png": "[encoded data removed]",
      "text/plain": [
       "<Figure size 640x480 with 2 Axes>"
      ]
     },
     "metadata": {},
     "output_type": "display_data"
    },
    {
     "data": {
      "image/png": "[encoded data removed]",
      "text/plain": [
       "<Figure size 640x480 with 2 Axes>"
      ]
     },
     "metadata": {},
     "output_type": "display_data"
    }
   ],
   "source": [
    "plot_confusion_matrix(\"xlm-roberta\", test_results)"
   ]
  },
  {
   "cell_type": "code",
   "execution_count": null,
   "id": "uukbd1CbTT3h",
   "metadata": {
    "colab": {
     "base_uri": "https://localhost:8080/",
     "height": 472
    },
    "id": "uukbd1CbTT3h",
    "outputId": "7d5f6cff-6ace-4fcb-b62d-9d63ec0a888f"
   },
   "outputs": [
    {
     "data": {
      "image/png": "[encoded data removed]",
      "text/plain": [
       "<Figure size 640x480 with 1 Axes>"
      ]
     },
     "metadata": {},
     "output_type": "display_data"
    }
   ],
   "source": [
    "precision, recall, thresholds = precision_recall_curve(test_labels, test_predictions[:, 1])\n",
    "average_precision = average_precision_score(test_labels, test_predictions[:, 1])\n",
    "\n",
    "# Plot the Precision-Recall curve\n",
    "plot_precision_recall_curve(\"xlm-roberta\", precision, recall, average_precision)"
   ]
  },
  {
   "cell_type": "markdown",
   "id": "aT_da9preClg",
   "metadata": {
    "id": "aT_da9preClg"
   },
   "source": [
    "## Solution Download"
   ]
  },
  {
   "cell_type": "code",
   "execution_count": null,
   "id": "8M5OgY4jeB-z",
   "metadata": {
    "colab": {
     "base_uri": "https://localhost:8080/"
    },
    "id": "8M5OgY4jeB-z",
    "outputId": "a95ec751-f575-488e-8371-e47d534bcc75"
   },
   "outputs": [
    {
     "name": "stdout",
     "output_type": "stream",
     "text": [
      "  adding: xlm-roberta-subjectivity-en/ (stored 0%)\n",
      "  adding: xlm-roberta-subjectivity-en/training_args.bin (deflated 52%)\n",
      "  adding: xlm-roberta-subjectivity-en/model.safetensors (deflated 29%)\n",
      "  adding: xlm-roberta-subjectivity-en/special_tokens_map.json (deflated 52%)\n",
      "  adding: xlm-roberta-subjectivity-en/tokenizer_config.json (deflated 76%)\n",
      "  adding: xlm-roberta-subjectivity-en/sentencepiece.bpe.model (deflated 49%)\n",
      "  adding: xlm-roberta-subjectivity-en/config.json (deflated 50%)\n",
      "  adding: xlm-roberta-subjectivity-it/ (stored 0%)\n",
      "  adding: xlm-roberta-subjectivity-it/training_args.bin (deflated 52%)\n",
      "  adding: xlm-roberta-subjectivity-it/model.safetensors (deflated 28%)\n",
      "  adding: xlm-roberta-subjectivity-it/special_tokens_map.json (deflated 52%)\n",
      "  adding: xlm-roberta-subjectivity-it/tokenizer_config.json (deflated 76%)\n",
      "  adding: xlm-roberta-subjectivity-it/sentencepiece.bpe.model (deflated 49%)\n",
      "  adding: xlm-roberta-subjectivity-it/config.json (deflated 50%)\n",
      "  adding: xlm-roberta-subjectivity-multi/ (stored 0%)\n",
      "  adding: xlm-roberta-subjectivity-multi/training_args.bin (deflated 52%)\n",
      "  adding: xlm-roberta-subjectivity-multi/model.safetensors (deflated 26%)\n",
      "  adding: xlm-roberta-subjectivity-multi/special_tokens_map.json (deflated 52%)\n",
      "  adding: xlm-roberta-subjectivity-multi/tokenizer_config.json (deflated 76%)\n",
      "  adding: xlm-roberta-subjectivity-multi/sentencepiece.bpe.model (deflated 49%)\n",
      "  adding: xlm-roberta-subjectivity-multi/config.json (deflated 50%)\n"
     ]
    }
   ],
   "source": [
    "!zip -r xlm_roberta_models.zip xlm-roberta-subjectivity-en xlm-roberta-subjectivity-it xlm-roberta-subjectivity-multi"
   ]
  },
  {
   "cell_type": "code",
   "execution_count": null,
   "id": "W0TVn2HKeIQY",
   "metadata": {
    "colab": {
     "base_uri": "https://localhost:8080/"
    },
    "id": "W0TVn2HKeIQY",
    "outputId": "c855b9ac-df8a-487a-986e-6f9d58316602"
   },
   "outputs": [
    {
     "name": "stdout",
     "output_type": "stream",
     "text": [
      "  adding: mono_en_test_predictions.tsv (deflated 46%)\n",
      "  adding: mono_it_test_predictions.tsv (deflated 45%)\n",
      "  adding: multilingual_test_predictions.tsv (deflated 45%)\n",
      "  adding: zero_shot_gr_predictions.tsv (deflated 45%)\n",
      "  adding: zero_shot_pol_predictions.tsv (deflated 46%)\n",
      "  adding: zero_shot_ro_predictions.tsv (deflated 45%)\n",
      "  adding: zero_shot_ukr_predictions.tsv (deflated 46%)\n"
     ]
    }
   ],
   "source": [
    "!zip prediction_files.zip \\\n",
    "mono_en_test_predictions.tsv \\\n",
    "mono_it_test_predictions.tsv \\\n",
    "multilingual_test_predictions.tsv \\\n",
    "zero_shot_gr_predictions.tsv \\\n",
    "zero_shot_pol_predictions.tsv \\\n",
    "zero_shot_ro_predictions.tsv \\\n",
    "zero_shot_ukr_predictions.tsv"
   ]
  },
  {
   "cell_type": "code",
   "execution_count": null,
   "id": "oZeLka5beK_z",
   "metadata": {
    "colab": {
     "base_uri": "https://localhost:8080/",
     "height": 17
    },
    "id": "oZeLka5beK_z",
    "outputId": "d1833ccc-09ca-4a3b-9045-5c67c2a352c1"
   },
   "outputs": [
    {
     "data": {
      "application/javascript": [
       "\n",
       "    async function download(id, filename, size) {\n",
       "      if (!google.colab.kernel.accessAllowed) {\n",
       "        return;\n",
       "      }\n",
       "      const div = document.createElement('div');\n",
       "      const label = document.createElement('label');\n",
       "      label.textContent = `Downloading \"${filename}\": `;\n",
       "      div.appendChild(label);\n",
       "      const progress = document.createElement('progress');\n",
       "      progress.max = size;\n",
       "      div.appendChild(progress);\n",
       "      document.body.appendChild(div);\n",
       "\n",
       "      const buffers = [];\n",
       "      let downloaded = 0;\n",
       "\n",
       "      const channel = await google.colab.kernel.comms.open(id);\n",
       "      // Send a message to notify the kernel that we're ready.\n",
       "      channel.send({})\n",
       "\n",
       "      for await (const message of channel.messages) {\n",
       "        // Send a message to notify the kernel that we're ready.\n",
       "        channel.send({})\n",
       "        if (message.buffers) {\n",
       "          for (const buffer of message.buffers) {\n",
       "            buffers.push(buffer);\n",
       "            downloaded += buffer.byteLength;\n",
       "            progress.value = downloaded;\n",
       "          }\n",
       "        }\n",
       "      }\n",
       "      const blob = new Blob(buffers, {type: 'application/binary'});\n",
       "      const a = document.createElement('a');\n",
       "      a.href = window.URL.createObjectURL(blob);\n",
       "      a.download = filename;\n",
       "      div.appendChild(a);\n",
       "      a.click();\n",
       "      div.remove();\n",
       "    }\n",
       "  "
      ],
      "text/plain": [
       "<IPython.core.display.Javascript object>"
      ]
     },
     "metadata": {},
     "output_type": "display_data"
    },
    {
     "data": {
      "application/javascript": [
       "download(\"download_629ad124-56b6-433d-9441-918861cf33b0\", \"xlm_roberta_models.zip\", 2410889309)"
      ],
      "text/plain": [
       "<IPython.core.display.Javascript object>"
      ]
     },
     "metadata": {},
     "output_type": "display_data"
    },
    {
     "data": {
      "application/javascript": [
       "\n",
       "    async function download(id, filename, size) {\n",
       "      if (!google.colab.kernel.accessAllowed) {\n",
       "        return;\n",
       "      }\n",
       "      const div = document.createElement('div');\n",
       "      const label = document.createElement('label');\n",
       "      label.textContent = `Downloading \"${filename}\": `;\n",
       "      div.appendChild(label);\n",
       "      const progress = document.createElement('progress');\n",
       "      progress.max = size;\n",
       "      div.appendChild(progress);\n",
       "      document.body.appendChild(div);\n",
       "\n",
       "      const buffers = [];\n",
       "      let downloaded = 0;\n",
       "\n",
       "      const channel = await google.colab.kernel.comms.open(id);\n",
       "      // Send a message to notify the kernel that we're ready.\n",
       "      channel.send({})\n",
       "\n",
       "      for await (const message of channel.messages) {\n",
       "        // Send a message to notify the kernel that we're ready.\n",
       "        channel.send({})\n",
       "        if (message.buffers) {\n",
       "          for (const buffer of message.buffers) {\n",
       "            buffers.push(buffer);\n",
       "            downloaded += buffer.byteLength;\n",
       "            progress.value = downloaded;\n",
       "          }\n",
       "        }\n",
       "      }\n",
       "      const blob = new Blob(buffers, {type: 'application/binary'});\n",
       "      const a = document.createElement('a');\n",
       "      a.href = window.URL.createObjectURL(blob);\n",
       "      a.download = filename;\n",
       "      div.appendChild(a);\n",
       "      a.click();\n",
       "      div.remove();\n",
       "    }\n",
       "  "
      ],
      "text/plain": [
       "<IPython.core.display.Javascript object>"
      ]
     },
     "metadata": {},
     "output_type": "display_data"
    },
    {
     "data": {
      "application/javascript": [
       "download(\"download_f006444d-4851-4734-8647-cc20f250a946\", \"prediction_files.zip\", 83982)"
      ],
      "text/plain": [
       "<IPython.core.display.Javascript object>"
      ]
     },
     "metadata": {},
     "output_type": "display_data"
    }
   ],
   "source": [
    "from google.colab import files\n",
    "\n",
    "# Download the zipped folders\n",
    "files.download(\"xlm_roberta_models.zip\")\n",
    "\n",
    "# Download the zipped predictions\n",
    "files.download(\"prediction_files.zip\")\n"
   ]
  }
 ],
 "metadata": {
  "accelerator": "GPU",
  "colab": {
   "gpuType": "T4",
   "provenance": []
  },
  "kernelspec": {
   "display_name": "Python 3.10 (Custom)",
   "language": "python",
   "name": "py310"
  },
  "language_info": {
   "codemirror_mode": {
    "name": "ipython",
    "version": 3
   },
   "file_extension": ".py",
   "mimetype": "text/x-python",
   "name": "python",
   "nbconvert_exporter": "python",
   "pygments_lexer": "ipython3",
   "version": "3.10.9"
  },
  "widgets": {
   "application/vnd.jupyter.widget-state+json": {
    "01bd4c7e12bc41c484dde9c25b5283c7": {
     "model_module": "@jupyter-widgets/controls",
     "model_module_version": "1.5.0",
     "model_name": "HTMLModel",
     "state": {
      "_dom_classes": [],
      "_model_module": "@jupyter-widgets/controls",
      "_model_module_version": "1.5.0",
      "_model_name": "HTMLModel",
      "_view_count": null,
      "_view_module": "@jupyter-widgets/controls",
      "_view_module_version": "1.5.0",
      "_view_name": "HTMLView",
      "description": "",
      "description_tooltip": null,
      "layout": "IPY_MODEL_c2990bc3b7e848e58472108be0ca657e",
      "placeholder": "​",
      "style": "IPY_MODEL_94fa2d1e8b2f44db89c98f47a37e5f04",
      "value": "Map: 100%"
     }
    },
    "0237394d02c0442b88655e273d7390af": {
     "model_module": "@jupyter-widgets/controls",
     "model_module_version": "1.5.0",
     "model_name": "HTMLModel",
     "state": {
      "_dom_classes": [],
      "_model_module": "@jupyter-widgets/controls",
      "_model_module_version": "1.5.0",
      "_model_name": "HTMLModel",
      "_view_count": null,
      "_view_module": "@jupyter-widgets/controls",
      "_view_module_version": "1.5.0",
      "_view_name": "HTMLView",
      "description": "",
      "description_tooltip": null,
      "layout": "IPY_MODEL_7c2d36394a8c49c1b793be37df636503",
      "placeholder": "​",
      "style": "IPY_MODEL_226277c63f60417493b7751021a38215",
      "value": "Map: 100%"
     }
    },
    "02464f7a14054d6c955baaa068088dc3": {
     "model_module": "@jupyter-widgets/controls",
     "model_module_version": "1.5.0",
     "model_name": "HTMLModel",
     "state": {
      "_dom_classes": [],
      "_model_module": "@jupyter-widgets/controls",
      "_model_module_version": "1.5.0",
      "_model_name": "HTMLModel",
      "_view_count": null,
      "_view_module": "@jupyter-widgets/controls",
      "_view_module_version": "1.5.0",
      "_view_name": "HTMLView",
      "description": "",
      "description_tooltip": null,
      "layout": "IPY_MODEL_cb7dab84c76c4ac0ab718004f1bcabb6",
      "placeholder": "​",
      "style": "IPY_MODEL_9464a60778d94158849f78d9e2ab5b85",
      "value": " 6380/6380 [00:01&lt;00:00, 3852.12 examples/s]"
     }
    },
    "0506872a33144d67acc5b9819a30397c": {
     "model_module": "@jupyter-widgets/base",
     "model_module_version": "1.2.0",
     "model_name": "LayoutModel",
     "state": {
      "_model_module": "@jupyter-widgets/base",
      "_model_module_version": "1.2.0",
      "_model_name": "LayoutModel",
      "_view_count": null,
      "_view_module": "@jupyter-widgets/base",
      "_view_module_version": "1.2.0",
      "_view_name": "LayoutView",
      "align_content": null,
      "align_items": null,
      "align_self": null,
      "border": null,
      "bottom": null,
      "display": null,
      "flex": null,
      "flex_flow": null,
      "grid_area": null,
      "grid_auto_columns": null,
      "grid_auto_flow": null,
      "grid_auto_rows": null,
      "grid_column": null,
      "grid_gap": null,
      "grid_row": null,
      "grid_template_areas": null,
      "grid_template_columns": null,
      "grid_template_rows": null,
      "height": null,
      "justify_content": null,
      "justify_items": null,
      "left": null,
      "margin": null,
      "max_height": null,
      "max_width": null,
      "min_height": null,
      "min_width": null,
      "object_fit": null,
      "object_position": null,
      "order": null,
      "overflow": null,
      "overflow_x": null,
      "overflow_y": null,
      "padding": null,
      "right": null,
      "top": null,
      "visibility": null,
      "width": null
     }
    },
    "05329ea338a84696ad31466f54b3dc43": {
     "model_module": "@jupyter-widgets/controls",
     "model_module_version": "1.5.0",
     "model_name": "FloatProgressModel",
     "state": {
      "_dom_classes": [],
      "_model_module": "@jupyter-widgets/controls",
      "_model_module_version": "1.5.0",
      "_model_name": "FloatProgressModel",
      "_view_count": null,
      "_view_module": "@jupyter-widgets/controls",
      "_view_module_version": "1.5.0",
      "_view_name": "ProgressView",
      "bar_style": "success",
      "description": "",
      "description_tooltip": null,
      "layout": "IPY_MODEL_a6030159cc5d444a8da2c8039df05fdf",
      "max": 667,
      "min": 0,
      "orientation": "horizontal",
      "style": "IPY_MODEL_530bd805365142208e7d779cbdae5be6",
      "value": 667
     }
    },
    "068e0f0fc35f4ba385eb0499fe666717": {
     "model_module": "@jupyter-widgets/controls",
     "model_module_version": "1.5.0",
     "model_name": "ProgressStyleModel",
     "state": {
      "_model_module": "@jupyter-widgets/controls",
      "_model_module_version": "1.5.0",
      "_model_name": "ProgressStyleModel",
      "_view_count": null,
      "_view_module": "@jupyter-widgets/base",
      "_view_module_version": "1.2.0",
      "_view_name": "StyleView",
      "bar_color": null,
      "description_width": ""
     }
    },
    "07f92293e60249f0bfdf64dd45bf7dea": {
     "model_module": "@jupyter-widgets/base",
     "model_module_version": "1.2.0",
     "model_name": "LayoutModel",
     "state": {
      "_model_module": "@jupyter-widgets/base",
      "_model_module_version": "1.2.0",
      "_model_name": "LayoutModel",
      "_view_count": null,
      "_view_module": "@jupyter-widgets/base",
      "_view_module_version": "1.2.0",
      "_view_name": "LayoutView",
      "align_content": null,
      "align_items": null,
      "align_self": null,
      "border": null,
      "bottom": null,
      "display": null,
      "flex": null,
      "flex_flow": null,
      "grid_area": null,
      "grid_auto_columns": null,
      "grid_auto_flow": null,
      "grid_auto_rows": null,
      "grid_column": null,
      "grid_gap": null,
      "grid_row": null,
      "grid_template_areas": null,
      "grid_template_columns": null,
      "grid_template_rows": null,
      "height": null,
      "justify_content": null,
      "justify_items": null,
      "left": null,
      "margin": null,
      "max_height": null,
      "max_width": null,
      "min_height": null,
      "min_width": null,
      "object_fit": null,
      "object_position": null,
      "order": null,
      "overflow": null,
      "overflow_x": null,
      "overflow_y": null,
      "padding": null,
      "right": null,
      "top": null,
      "visibility": null,
      "width": null
     }
    },
    "085632015e724260875bd5df76ea1e01": {
     "model_module": "@jupyter-widgets/controls",
     "model_module_version": "1.5.0",
     "model_name": "FloatProgressModel",
     "state": {
      "_dom_classes": [],
      "_model_module": "@jupyter-widgets/controls",
      "_model_module_version": "1.5.0",
      "_model_name": "FloatProgressModel",
      "_view_count": null,
      "_view_module": "@jupyter-widgets/controls",
      "_view_module_version": "1.5.0",
      "_view_name": "ProgressView",
      "bar_style": "success",
      "description": "",
      "description_tooltip": null,
      "layout": "IPY_MODEL_f760a8d5d7b14d318dd7d9318740e24a",
      "max": 615,
      "min": 0,
      "orientation": "horizontal",
      "style": "IPY_MODEL_dc2247ef23cd4b9e91fe857fbaa1877b",
      "value": 615
     }
    },
    "08d28c1f930045f489afcb7de0a519b7": {
     "model_module": "@jupyter-widgets/controls",
     "model_module_version": "1.5.0",
     "model_name": "DescriptionStyleModel",
     "state": {
      "_model_module": "@jupyter-widgets/controls",
      "_model_module_version": "1.5.0",
      "_model_name": "DescriptionStyleModel",
      "_view_count": null,
      "_view_module": "@jupyter-widgets/base",
      "_view_module_version": "1.2.0",
      "_view_name": "StyleView",
      "description_width": ""
     }
    },
    "0c3cc314548441b3b80c9e712c6f622f": {
     "model_module": "@jupyter-widgets/base",
     "model_module_version": "1.2.0",
     "model_name": "LayoutModel",
     "state": {
      "_model_module": "@jupyter-widgets/base",
      "_model_module_version": "1.2.0",
      "_model_name": "LayoutModel",
      "_view_count": null,
      "_view_module": "@jupyter-widgets/base",
      "_view_module_version": "1.2.0",
      "_view_name": "LayoutView",
      "align_content": null,
      "align_items": null,
      "align_self": null,
      "border": null,
      "bottom": null,
      "display": null,
      "flex": null,
      "flex_flow": null,
      "grid_area": null,
      "grid_auto_columns": null,
      "grid_auto_flow": null,
      "grid_auto_rows": null,
      "grid_column": null,
      "grid_gap": null,
      "grid_row": null,
      "grid_template_areas": null,
      "grid_template_columns": null,
      "grid_template_rows": null,
      "height": null,
      "justify_content": null,
      "justify_items": null,
      "left": null,
      "margin": null,
      "max_height": null,
      "max_width": null,
      "min_height": null,
      "min_width": null,
      "object_fit": null,
      "object_position": null,
      "order": null,
      "overflow": null,
      "overflow_x": null,
      "overflow_y": null,
      "padding": null,
      "right": null,
      "top": null,
      "visibility": null,
      "width": null
     }
    },
    "0d3dd472448540a0a0f9cf36a0556426": {
     "model_module": "@jupyter-widgets/controls",
     "model_module_version": "1.5.0",
     "model_name": "DescriptionStyleModel",
     "state": {
      "_model_module": "@jupyter-widgets/controls",
      "_model_module_version": "1.5.0",
      "_model_name": "DescriptionStyleModel",
      "_view_count": null,
      "_view_module": "@jupyter-widgets/base",
      "_view_module_version": "1.2.0",
      "_view_name": "StyleView",
      "description_width": ""
     }
    },
    "0e919c9b095d4e6696dcb2ae8baf2942": {
     "model_module": "@jupyter-widgets/base",
     "model_module_version": "1.2.0",
     "model_name": "LayoutModel",
     "state": {
      "_model_module": "@jupyter-widgets/base",
      "_model_module_version": "1.2.0",
      "_model_name": "LayoutModel",
      "_view_count": null,
      "_view_module": "@jupyter-widgets/base",
      "_view_module_version": "1.2.0",
      "_view_name": "LayoutView",
      "align_content": null,
      "align_items": null,
      "align_self": null,
      "border": null,
      "bottom": null,
      "display": null,
      "flex": null,
      "flex_flow": null,
      "grid_area": null,
      "grid_auto_columns": null,
      "grid_auto_flow": null,
      "grid_auto_rows": null,
      "grid_column": null,
      "grid_gap": null,
      "grid_row": null,
      "grid_template_areas": null,
      "grid_template_columns": null,
      "grid_template_rows": null,
      "height": null,
      "justify_content": null,
      "justify_items": null,
      "left": null,
      "margin": null,
      "max_height": null,
      "max_width": null,
      "min_height": null,
      "min_width": null,
      "object_fit": null,
      "object_position": null,
      "order": null,
      "overflow": null,
      "overflow_x": null,
      "overflow_y": null,
      "padding": null,
      "right": null,
      "top": null,
      "visibility": null,
      "width": null
     }
    },
    "0f1e52d966d44e48aaf2ac773d3a807a": {
     "model_module": "@jupyter-widgets/controls",
     "model_module_version": "1.5.0",
     "model_name": "DescriptionStyleModel",
     "state": {
      "_model_module": "@jupyter-widgets/controls",
      "_model_module_version": "1.5.0",
      "_model_name": "DescriptionStyleModel",
      "_view_count": null,
      "_view_module": "@jupyter-widgets/base",
      "_view_module_version": "1.2.0",
      "_view_name": "StyleView",
      "description_width": ""
     }
    },
    "0f648594396948d6a9949457115352e4": {
     "model_module": "@jupyter-widgets/base",
     "model_module_version": "1.2.0",
     "model_name": "LayoutModel",
     "state": {
      "_model_module": "@jupyter-widgets/base",
      "_model_module_version": "1.2.0",
      "_model_name": "LayoutModel",
      "_view_count": null,
      "_view_module": "@jupyter-widgets/base",
      "_view_module_version": "1.2.0",
      "_view_name": "LayoutView",
      "align_content": null,
      "align_items": null,
      "align_self": null,
      "border": null,
      "bottom": null,
      "display": null,
      "flex": null,
      "flex_flow": null,
      "grid_area": null,
      "grid_auto_columns": null,
      "grid_auto_flow": null,
      "grid_auto_rows": null,
      "grid_column": null,
      "grid_gap": null,
      "grid_row": null,
      "grid_template_areas": null,
      "grid_template_columns": null,
      "grid_template_rows": null,
      "height": null,
      "justify_content": null,
      "justify_items": null,
      "left": null,
      "margin": null,
      "max_height": null,
      "max_width": null,
      "min_height": null,
      "min_width": null,
      "object_fit": null,
      "object_position": null,
      "order": null,
      "overflow": null,
      "overflow_x": null,
      "overflow_y": null,
      "padding": null,
      "right": null,
      "top": null,
      "visibility": null,
      "width": null
     }
    },
    "0fd500ab38c74c4ab4cbc186faf09000": {
     "model_module": "@jupyter-widgets/base",
     "model_module_version": "1.2.0",
     "model_name": "LayoutModel",
     "state": {
      "_model_module": "@jupyter-widgets/base",
      "_model_module_version": "1.2.0",
      "_model_name": "LayoutModel",
      "_view_count": null,
      "_view_module": "@jupyter-widgets/base",
      "_view_module_version": "1.2.0",
      "_view_name": "LayoutView",
      "align_content": null,
      "align_items": null,
      "align_self": null,
      "border": null,
      "bottom": null,
      "display": null,
      "flex": null,
      "flex_flow": null,
      "grid_area": null,
      "grid_auto_columns": null,
      "grid_auto_flow": null,
      "grid_auto_rows": null,
      "grid_column": null,
      "grid_gap": null,
      "grid_row": null,
      "grid_template_areas": null,
      "grid_template_columns": null,
      "grid_template_rows": null,
      "height": null,
      "justify_content": null,
      "justify_items": null,
      "left": null,
      "margin": null,
      "max_height": null,
      "max_width": null,
      "min_height": null,
      "min_width": null,
      "object_fit": null,
      "object_position": null,
      "order": null,
      "overflow": null,
      "overflow_x": null,
      "overflow_y": null,
      "padding": null,
      "right": null,
      "top": null,
      "visibility": null,
      "width": null
     }
    },
    "11a018a91ca94e43a27df277f4af1ee8": {
     "model_module": "@jupyter-widgets/controls",
     "model_module_version": "1.5.0",
     "model_name": "DescriptionStyleModel",
     "state": {
      "_model_module": "@jupyter-widgets/controls",
      "_model_module_version": "1.5.0",
      "_model_name": "DescriptionStyleModel",
      "_view_count": null,
      "_view_module": "@jupyter-widgets/base",
      "_view_module_version": "1.2.0",
      "_view_name": "StyleView",
      "description_width": ""
     }
    },
    "136193e17b344f50bb2d21fd669cfe87": {
     "model_module": "@jupyter-widgets/controls",
     "model_module_version": "1.5.0",
     "model_name": "HTMLModel",
     "state": {
      "_dom_classes": [],
      "_model_module": "@jupyter-widgets/controls",
      "_model_module_version": "1.5.0",
      "_model_name": "HTMLModel",
      "_view_count": null,
      "_view_module": "@jupyter-widgets/controls",
      "_view_module_version": "1.5.0",
      "_view_name": "HTMLView",
      "description": "",
      "description_tooltip": null,
      "layout": "IPY_MODEL_f6f5dfcc22e34d8db3243d9c0bdb6119",
      "placeholder": "​",
      "style": "IPY_MODEL_359fd83210be43a1b8aa5e39294c873f",
      "value": "tokenizer.json: 100%"
     }
    },
    "1499e1da896242a1b43d7b24981eb5aa": {
     "model_module": "@jupyter-widgets/controls",
     "model_module_version": "1.5.0",
     "model_name": "HTMLModel",
     "state": {
      "_dom_classes": [],
      "_model_module": "@jupyter-widgets/controls",
      "_model_module_version": "1.5.0",
      "_model_name": "HTMLModel",
      "_view_count": null,
      "_view_module": "@jupyter-widgets/controls",
      "_view_module_version": "1.5.0",
      "_view_name": "HTMLView",
      "description": "",
      "description_tooltip": null,
      "layout": "IPY_MODEL_0f648594396948d6a9949457115352e4",
      "placeholder": "​",
      "style": "IPY_MODEL_e7ff3e95bd244fa1af05b2134d90229a",
      "value": " 5.07M/5.07M [00:00&lt;00:00, 11.0MB/s]"
     }
    },
    "14fc6edc563e4d848a429881cf6fc001": {
     "model_module": "@jupyter-widgets/base",
     "model_module_version": "1.2.0",
     "model_name": "LayoutModel",
     "state": {
      "_model_module": "@jupyter-widgets/base",
      "_model_module_version": "1.2.0",
      "_model_name": "LayoutModel",
      "_view_count": null,
      "_view_module": "@jupyter-widgets/base",
      "_view_module_version": "1.2.0",
      "_view_name": "LayoutView",
      "align_content": null,
      "align_items": null,
      "align_self": null,
      "border": null,
      "bottom": null,
      "display": null,
      "flex": null,
      "flex_flow": null,
      "grid_area": null,
      "grid_auto_columns": null,
      "grid_auto_flow": null,
      "grid_auto_rows": null,
      "grid_column": null,
      "grid_gap": null,
      "grid_row": null,
      "grid_template_areas": null,
      "grid_template_columns": null,
      "grid_template_rows": null,
      "height": null,
      "justify_content": null,
      "justify_items": null,
      "left": null,
      "margin": null,
      "max_height": null,
      "max_width": null,
      "min_height": null,
      "min_width": null,
      "object_fit": null,
      "object_position": null,
      "order": null,
      "overflow": null,
      "overflow_x": null,
      "overflow_y": null,
      "padding": null,
      "right": null,
      "top": null,
      "visibility": null,
      "width": null
     }
    },
    "182af86c27ec44808451d1b2e8f54a10": {
     "model_module": "@jupyter-widgets/base",
     "model_module_version": "1.2.0",
     "model_name": "LayoutModel",
     "state": {
      "_model_module": "@jupyter-widgets/base",
      "_model_module_version": "1.2.0",
      "_model_name": "LayoutModel",
      "_view_count": null,
      "_view_module": "@jupyter-widgets/base",
      "_view_module_version": "1.2.0",
      "_view_name": "LayoutView",
      "align_content": null,
      "align_items": null,
      "align_self": null,
      "border": null,
      "bottom": null,
      "display": null,
      "flex": null,
      "flex_flow": null,
      "grid_area": null,
      "grid_auto_columns": null,
      "grid_auto_flow": null,
      "grid_auto_rows": null,
      "grid_column": null,
      "grid_gap": null,
      "grid_row": null,
      "grid_template_areas": null,
      "grid_template_columns": null,
      "grid_template_rows": null,
      "height": null,
      "justify_content": null,
      "justify_items": null,
      "left": null,
      "margin": null,
      "max_height": null,
      "max_width": null,
      "min_height": null,
      "min_width": null,
      "object_fit": null,
      "object_position": null,
      "order": null,
      "overflow": null,
      "overflow_x": null,
      "overflow_y": null,
      "padding": null,
      "right": null,
      "top": null,
      "visibility": null,
      "width": null
     }
    },
    "184494ae8e814f5fabb56f4483699f80": {
     "model_module": "@jupyter-widgets/base",
     "model_module_version": "1.2.0",
     "model_name": "LayoutModel",
     "state": {
      "_model_module": "@jupyter-widgets/base",
      "_model_module_version": "1.2.0",
      "_model_name": "LayoutModel",
      "_view_count": null,
      "_view_module": "@jupyter-widgets/base",
      "_view_module_version": "1.2.0",
      "_view_name": "LayoutView",
      "align_content": null,
      "align_items": null,
      "align_self": null,
      "border": null,
      "bottom": null,
      "display": null,
      "flex": null,
      "flex_flow": null,
      "grid_area": null,
      "grid_auto_columns": null,
      "grid_auto_flow": null,
      "grid_auto_rows": null,
      "grid_column": null,
      "grid_gap": null,
      "grid_row": null,
      "grid_template_areas": null,
      "grid_template_columns": null,
      "grid_template_rows": null,
      "height": null,
      "justify_content": null,
      "justify_items": null,
      "left": null,
      "margin": null,
      "max_height": null,
      "max_width": null,
      "min_height": null,
      "min_width": null,
      "object_fit": null,
      "object_position": null,
      "order": null,
      "overflow": null,
      "overflow_x": null,
      "overflow_y": null,
      "padding": null,
      "right": null,
      "top": null,
      "visibility": null,
      "width": null
     }
    },
    "18d38986771d4124963dbbafbb8424c7": {
     "model_module": "@jupyter-widgets/base",
     "model_module_version": "1.2.0",
     "model_name": "LayoutModel",
     "state": {
      "_model_module": "@jupyter-widgets/base",
      "_model_module_version": "1.2.0",
      "_model_name": "LayoutModel",
      "_view_count": null,
      "_view_module": "@jupyter-widgets/base",
      "_view_module_version": "1.2.0",
      "_view_name": "LayoutView",
      "align_content": null,
      "align_items": null,
      "align_self": null,
      "border": null,
      "bottom": null,
      "display": null,
      "flex": null,
      "flex_flow": null,
      "grid_area": null,
      "grid_auto_columns": null,
      "grid_auto_flow": null,
      "grid_auto_rows": null,
      "grid_column": null,
      "grid_gap": null,
      "grid_row": null,
      "grid_template_areas": null,
      "grid_template_columns": null,
      "grid_template_rows": null,
      "height": null,
      "justify_content": null,
      "justify_items": null,
      "left": null,
      "margin": null,
      "max_height": null,
      "max_width": null,
      "min_height": null,
      "min_width": null,
      "object_fit": null,
      "object_position": null,
      "order": null,
      "overflow": null,
      "overflow_x": null,
      "overflow_y": null,
      "padding": null,
      "right": null,
      "top": null,
      "visibility": null,
      "width": null
     }
    },
    "1926998f35ca495cb296f4966e4188d6": {
     "model_module": "@jupyter-widgets/controls",
     "model_module_version": "1.5.0",
     "model_name": "FloatProgressModel",
     "state": {
      "_dom_classes": [],
      "_model_module": "@jupyter-widgets/controls",
      "_model_module_version": "1.5.0",
      "_model_name": "FloatProgressModel",
      "_view_count": null,
      "_view_module": "@jupyter-widgets/controls",
      "_view_module_version": "1.5.0",
      "_view_name": "ProgressView",
      "bar_style": "success",
      "description": "",
      "description_tooltip": null,
      "layout": "IPY_MODEL_a3b99a29a1614bdea5aee18dc7df1eaf",
      "max": 1613,
      "min": 0,
      "orientation": "horizontal",
      "style": "IPY_MODEL_d58f0f2d7bd7434091b8d34b40a1721f",
      "value": 1613
     }
    },
    "1abcda6ebf994a6bbbd50201dc1a38e1": {
     "model_module": "@jupyter-widgets/base",
     "model_module_version": "1.2.0",
     "model_name": "LayoutModel",
     "state": {
      "_model_module": "@jupyter-widgets/base",
      "_model_module_version": "1.2.0",
      "_model_name": "LayoutModel",
      "_view_count": null,
      "_view_module": "@jupyter-widgets/base",
      "_view_module_version": "1.2.0",
      "_view_name": "LayoutView",
      "align_content": null,
      "align_items": null,
      "align_self": null,
      "border": null,
      "bottom": null,
      "display": null,
      "flex": null,
      "flex_flow": null,
      "grid_area": null,
      "grid_auto_columns": null,
      "grid_auto_flow": null,
      "grid_auto_rows": null,
      "grid_column": null,
      "grid_gap": null,
      "grid_row": null,
      "grid_template_areas": null,
      "grid_template_columns": null,
      "grid_template_rows": null,
      "height": null,
      "justify_content": null,
      "justify_items": null,
      "left": null,
      "margin": null,
      "max_height": null,
      "max_width": null,
      "min_height": null,
      "min_width": null,
      "object_fit": null,
      "object_position": null,
      "order": null,
      "overflow": null,
      "overflow_x": null,
      "overflow_y": null,
      "padding": null,
      "right": null,
      "top": null,
      "visibility": null,
      "width": null
     }
    },
    "1b46311a295242cd97fdfebb0de7da3d": {
     "model_module": "@jupyter-widgets/controls",
     "model_module_version": "1.5.0",
     "model_name": "HTMLModel",
     "state": {
      "_dom_classes": [],
      "_model_module": "@jupyter-widgets/controls",
      "_model_module_version": "1.5.0",
      "_model_name": "HTMLModel",
      "_view_count": null,
      "_view_module": "@jupyter-widgets/controls",
      "_view_module_version": "1.5.0",
      "_view_name": "HTMLView",
      "description": "",
      "description_tooltip": null,
      "layout": "IPY_MODEL_8e0c2490721444eca4f7186ca499c382",
      "placeholder": "​",
      "style": "IPY_MODEL_8a4a978bd03b48adb3d6b3fb12130cbe",
      "value": " 25.0/25.0 [00:00&lt;00:00, 2.56kB/s]"
     }
    },
    "1b98909710484698a1e4bbc61deb151e": {
     "model_module": "@jupyter-widgets/controls",
     "model_module_version": "1.5.0",
     "model_name": "HBoxModel",
     "state": {
      "_dom_classes": [],
      "_model_module": "@jupyter-widgets/controls",
      "_model_module_version": "1.5.0",
      "_model_name": "HBoxModel",
      "_view_count": null,
      "_view_module": "@jupyter-widgets/controls",
      "_view_module_version": "1.5.0",
      "_view_name": "HBoxView",
      "box_style": "",
      "children": [
       "IPY_MODEL_fc84074a775348a3be98e0d073c32659",
       "IPY_MODEL_cd8e86d626eb44efb999146b6731f6ba",
       "IPY_MODEL_26bed29d93b0462b8e760272b51bc2f3"
      ],
      "layout": "IPY_MODEL_9d0bfc37330f4aa5b763ef71086e85e1"
     }
    },
    "1f01c698cd964762b70c3686e4255ac9": {
     "model_module": "@jupyter-widgets/controls",
     "model_module_version": "1.5.0",
     "model_name": "FloatProgressModel",
     "state": {
      "_dom_classes": [],
      "_model_module": "@jupyter-widgets/controls",
      "_model_module_version": "1.5.0",
      "_model_name": "FloatProgressModel",
      "_view_count": null,
      "_view_module": "@jupyter-widgets/controls",
      "_view_module_version": "1.5.0",
      "_view_name": "ProgressView",
      "bar_style": "success",
      "description": "",
      "description_tooltip": null,
      "layout": "IPY_MODEL_14fc6edc563e4d848a429881cf6fc001",
      "max": 9096718,
      "min": 0,
      "orientation": "horizontal",
      "style": "IPY_MODEL_e6a93854e8714a82bbc8e41da2f234d6",
      "value": 9096718
     }
    },
    "1fe0821fb05f4fa8aac60fb00132cd4b": {
     "model_module": "@jupyter-widgets/controls",
     "model_module_version": "1.5.0",
     "model_name": "DescriptionStyleModel",
     "state": {
      "_model_module": "@jupyter-widgets/controls",
      "_model_module_version": "1.5.0",
      "_model_name": "DescriptionStyleModel",
      "_view_count": null,
      "_view_module": "@jupyter-widgets/base",
      "_view_module_version": "1.2.0",
      "_view_name": "StyleView",
      "description_width": ""
     }
    },
    "208edce4e95d409aa89d0558d6e24624": {
     "model_module": "@jupyter-widgets/base",
     "model_module_version": "1.2.0",
     "model_name": "LayoutModel",
     "state": {
      "_model_module": "@jupyter-widgets/base",
      "_model_module_version": "1.2.0",
      "_model_name": "LayoutModel",
      "_view_count": null,
      "_view_module": "@jupyter-widgets/base",
      "_view_module_version": "1.2.0",
      "_view_name": "LayoutView",
      "align_content": null,
      "align_items": null,
      "align_self": null,
      "border": null,
      "bottom": null,
      "display": null,
      "flex": null,
      "flex_flow": null,
      "grid_area": null,
      "grid_auto_columns": null,
      "grid_auto_flow": null,
      "grid_auto_rows": null,
      "grid_column": null,
      "grid_gap": null,
      "grid_row": null,
      "grid_template_areas": null,
      "grid_template_columns": null,
      "grid_template_rows": null,
      "height": null,
      "justify_content": null,
      "justify_items": null,
      "left": null,
      "margin": null,
      "max_height": null,
      "max_width": null,
      "min_height": null,
      "min_width": null,
      "object_fit": null,
      "object_position": null,
      "order": null,
      "overflow": null,
      "overflow_x": null,
      "overflow_y": null,
      "padding": null,
      "right": null,
      "top": null,
      "visibility": null,
      "width": null
     }
    },
    "226277c63f60417493b7751021a38215": {
     "model_module": "@jupyter-widgets/controls",
     "model_module_version": "1.5.0",
     "model_name": "DescriptionStyleModel",
     "state": {
      "_model_module": "@jupyter-widgets/controls",
      "_model_module_version": "1.5.0",
      "_model_name": "DescriptionStyleModel",
      "_view_count": null,
      "_view_module": "@jupyter-widgets/base",
      "_view_module_version": "1.2.0",
      "_view_name": "StyleView",
      "description_width": ""
     }
    },
    "23736461c4714bec86ca320eb8739f7e": {
     "model_module": "@jupyter-widgets/controls",
     "model_module_version": "1.5.0",
     "model_name": "DescriptionStyleModel",
     "state": {
      "_model_module": "@jupyter-widgets/controls",
      "_model_module_version": "1.5.0",
      "_model_name": "DescriptionStyleModel",
      "_view_count": null,
      "_view_module": "@jupyter-widgets/base",
      "_view_module_version": "1.2.0",
      "_view_name": "StyleView",
      "description_width": ""
     }
    },
    "23a3bd2886444a01a40d5286db0e8e25": {
     "model_module": "@jupyter-widgets/base",
     "model_module_version": "1.2.0",
     "model_name": "LayoutModel",
     "state": {
      "_model_module": "@jupyter-widgets/base",
      "_model_module_version": "1.2.0",
      "_model_name": "LayoutModel",
      "_view_count": null,
      "_view_module": "@jupyter-widgets/base",
      "_view_module_version": "1.2.0",
      "_view_name": "LayoutView",
      "align_content": null,
      "align_items": null,
      "align_self": null,
      "border": null,
      "bottom": null,
      "display": null,
      "flex": null,
      "flex_flow": null,
      "grid_area": null,
      "grid_auto_columns": null,
      "grid_auto_flow": null,
      "grid_auto_rows": null,
      "grid_column": null,
      "grid_gap": null,
      "grid_row": null,
      "grid_template_areas": null,
      "grid_template_columns": null,
      "grid_template_rows": null,
      "height": null,
      "justify_content": null,
      "justify_items": null,
      "left": null,
      "margin": null,
      "max_height": null,
      "max_width": null,
      "min_height": null,
      "min_width": null,
      "object_fit": null,
      "object_position": null,
      "order": null,
      "overflow": null,
      "overflow_x": null,
      "overflow_y": null,
      "padding": null,
      "right": null,
      "top": null,
      "visibility": null,
      "width": null
     }
    },
    "23b6e329f1ad4f038051eaaa6d9b4149": {
     "model_module": "@jupyter-widgets/base",
     "model_module_version": "1.2.0",
     "model_name": "LayoutModel",
     "state": {
      "_model_module": "@jupyter-widgets/base",
      "_model_module_version": "1.2.0",
      "_model_name": "LayoutModel",
      "_view_count": null,
      "_view_module": "@jupyter-widgets/base",
      "_view_module_version": "1.2.0",
      "_view_name": "LayoutView",
      "align_content": null,
      "align_items": null,
      "align_self": null,
      "border": null,
      "bottom": null,
      "display": null,
      "flex": null,
      "flex_flow": null,
      "grid_area": null,
      "grid_auto_columns": null,
      "grid_auto_flow": null,
      "grid_auto_rows": null,
      "grid_column": null,
      "grid_gap": null,
      "grid_row": null,
      "grid_template_areas": null,
      "grid_template_columns": null,
      "grid_template_rows": null,
      "height": null,
      "justify_content": null,
      "justify_items": null,
      "left": null,
      "margin": null,
      "max_height": null,
      "max_width": null,
      "min_height": null,
      "min_width": null,
      "object_fit": null,
      "object_position": null,
      "order": null,
      "overflow": null,
      "overflow_x": null,
      "overflow_y": null,
      "padding": null,
      "right": null,
      "top": null,
      "visibility": null,
      "width": null
     }
    },
    "26b034b829e04a5481fb5dac2d018909": {
     "model_module": "@jupyter-widgets/base",
     "model_module_version": "1.2.0",
     "model_name": "LayoutModel",
     "state": {
      "_model_module": "@jupyter-widgets/base",
      "_model_module_version": "1.2.0",
      "_model_name": "LayoutModel",
      "_view_count": null,
      "_view_module": "@jupyter-widgets/base",
      "_view_module_version": "1.2.0",
      "_view_name": "LayoutView",
      "align_content": null,
      "align_items": null,
      "align_self": null,
      "border": null,
      "bottom": null,
      "display": null,
      "flex": null,
      "flex_flow": null,
      "grid_area": null,
      "grid_auto_columns": null,
      "grid_auto_flow": null,
      "grid_auto_rows": null,
      "grid_column": null,
      "grid_gap": null,
      "grid_row": null,
      "grid_template_areas": null,
      "grid_template_columns": null,
      "grid_template_rows": null,
      "height": null,
      "justify_content": null,
      "justify_items": null,
      "left": null,
      "margin": null,
      "max_height": null,
      "max_width": null,
      "min_height": null,
      "min_width": null,
      "object_fit": null,
      "object_position": null,
      "order": null,
      "overflow": null,
      "overflow_x": null,
      "overflow_y": null,
      "padding": null,
      "right": null,
      "top": null,
      "visibility": null,
      "width": null
     }
    },
    "26bed29d93b0462b8e760272b51bc2f3": {
     "model_module": "@jupyter-widgets/controls",
     "model_module_version": "1.5.0",
     "model_name": "HTMLModel",
     "state": {
      "_dom_classes": [],
      "_model_module": "@jupyter-widgets/controls",
      "_model_module_version": "1.5.0",
      "_model_name": "HTMLModel",
      "_view_count": null,
      "_view_module": "@jupyter-widgets/controls",
      "_view_module_version": "1.5.0",
      "_view_name": "HTMLView",
      "description": "",
      "description_tooltip": null,
      "layout": "IPY_MODEL_9311bb2602854ad2bb6e85eb7dcf7468",
      "placeholder": "​",
      "style": "IPY_MODEL_4c9b45e82a7d44bb91946ab60eb72048",
      "value": " 300/300 [00:00&lt;00:00, 3448.32 examples/s]"
     }
    },
    "27150459d7e24c889ef9d3ddba7dec9e": {
     "model_module": "@jupyter-widgets/base",
     "model_module_version": "1.2.0",
     "model_name": "LayoutModel",
     "state": {
      "_model_module": "@jupyter-widgets/base",
      "_model_module_version": "1.2.0",
      "_model_name": "LayoutModel",
      "_view_count": null,
      "_view_module": "@jupyter-widgets/base",
      "_view_module_version": "1.2.0",
      "_view_name": "LayoutView",
      "align_content": null,
      "align_items": null,
      "align_self": null,
      "border": null,
      "bottom": null,
      "display": null,
      "flex": null,
      "flex_flow": null,
      "grid_area": null,
      "grid_auto_columns": null,
      "grid_auto_flow": null,
      "grid_auto_rows": null,
      "grid_column": null,
      "grid_gap": null,
      "grid_row": null,
      "grid_template_areas": null,
      "grid_template_columns": null,
      "grid_template_rows": null,
      "height": null,
      "justify_content": null,
      "justify_items": null,
      "left": null,
      "margin": null,
      "max_height": null,
      "max_width": null,
      "min_height": null,
      "min_width": null,
      "object_fit": null,
      "object_position": null,
      "order": null,
      "overflow": null,
      "overflow_x": null,
      "overflow_y": null,
      "padding": null,
      "right": null,
      "top": null,
      "visibility": null,
      "width": null
     }
    },
    "271bf058a5aa49a0b1ddd4e88321e662": {
     "model_module": "@jupyter-widgets/controls",
     "model_module_version": "1.5.0",
     "model_name": "HTMLModel",
     "state": {
      "_dom_classes": [],
      "_model_module": "@jupyter-widgets/controls",
      "_model_module_version": "1.5.0",
      "_model_name": "HTMLModel",
      "_view_count": null,
      "_view_module": "@jupyter-widgets/controls",
      "_view_module_version": "1.5.0",
      "_view_name": "HTMLView",
      "description": "",
      "description_tooltip": null,
      "layout": "IPY_MODEL_36b0897601694c008cd69fdea899e084",
      "placeholder": "​",
      "style": "IPY_MODEL_eb51b4268dce46a384bb30861df273ed",
      "value": "Map: 100%"
     }
    },
    "274738377c514f85909439c6ec8c101c": {
     "model_module": "@jupyter-widgets/controls",
     "model_module_version": "1.5.0",
     "model_name": "DescriptionStyleModel",
     "state": {
      "_model_module": "@jupyter-widgets/controls",
      "_model_module_version": "1.5.0",
      "_model_name": "DescriptionStyleModel",
      "_view_count": null,
      "_view_module": "@jupyter-widgets/base",
      "_view_module_version": "1.2.0",
      "_view_name": "StyleView",
      "description_width": ""
     }
    },
    "28289819ecae4004844c392a895d48e3": {
     "model_module": "@jupyter-widgets/base",
     "model_module_version": "1.2.0",
     "model_name": "LayoutModel",
     "state": {
      "_model_module": "@jupyter-widgets/base",
      "_model_module_version": "1.2.0",
      "_model_name": "LayoutModel",
      "_view_count": null,
      "_view_module": "@jupyter-widgets/base",
      "_view_module_version": "1.2.0",
      "_view_name": "LayoutView",
      "align_content": null,
      "align_items": null,
      "align_self": null,
      "border": null,
      "bottom": null,
      "display": null,
      "flex": null,
      "flex_flow": null,
      "grid_area": null,
      "grid_auto_columns": null,
      "grid_auto_flow": null,
      "grid_auto_rows": null,
      "grid_column": null,
      "grid_gap": null,
      "grid_row": null,
      "grid_template_areas": null,
      "grid_template_columns": null,
      "grid_template_rows": null,
      "height": null,
      "justify_content": null,
      "justify_items": null,
      "left": null,
      "margin": null,
      "max_height": null,
      "max_width": null,
      "min_height": null,
      "min_width": null,
      "object_fit": null,
      "object_position": null,
      "order": null,
      "overflow": null,
      "overflow_x": null,
      "overflow_y": null,
      "padding": null,
      "right": null,
      "top": null,
      "visibility": null,
      "width": null
     }
    },
    "2946057d1388435abdf573e39cde68df": {
     "model_module": "@jupyter-widgets/controls",
     "model_module_version": "1.5.0",
     "model_name": "DescriptionStyleModel",
     "state": {
      "_model_module": "@jupyter-widgets/controls",
      "_model_module_version": "1.5.0",
      "_model_name": "DescriptionStyleModel",
      "_view_count": null,
      "_view_module": "@jupyter-widgets/base",
      "_view_module_version": "1.2.0",
      "_view_name": "StyleView",
      "description_width": ""
     }
    },
    "2b56d74d6b9044f985b3e44084630e3d": {
     "model_module": "@jupyter-widgets/controls",
     "model_module_version": "1.5.0",
     "model_name": "DescriptionStyleModel",
     "state": {
      "_model_module": "@jupyter-widgets/controls",
      "_model_module_version": "1.5.0",
      "_model_name": "DescriptionStyleModel",
      "_view_count": null,
      "_view_module": "@jupyter-widgets/base",
      "_view_module_version": "1.2.0",
      "_view_name": "StyleView",
      "description_width": ""
     }
    },
    "2b5e511772904d98ac2734c26fa736a1": {
     "model_module": "@jupyter-widgets/base",
     "model_module_version": "1.2.0",
     "model_name": "LayoutModel",
     "state": {
      "_model_module": "@jupyter-widgets/base",
      "_model_module_version": "1.2.0",
      "_model_name": "LayoutModel",
      "_view_count": null,
      "_view_module": "@jupyter-widgets/base",
      "_view_module_version": "1.2.0",
      "_view_name": "LayoutView",
      "align_content": null,
      "align_items": null,
      "align_self": null,
      "border": null,
      "bottom": null,
      "display": null,
      "flex": null,
      "flex_flow": null,
      "grid_area": null,
      "grid_auto_columns": null,
      "grid_auto_flow": null,
      "grid_auto_rows": null,
      "grid_column": null,
      "grid_gap": null,
      "grid_row": null,
      "grid_template_areas": null,
      "grid_template_columns": null,
      "grid_template_rows": null,
      "height": null,
      "justify_content": null,
      "justify_items": null,
      "left": null,
      "margin": null,
      "max_height": null,
      "max_width": null,
      "min_height": null,
      "min_width": null,
      "object_fit": null,
      "object_position": null,
      "order": null,
      "overflow": null,
      "overflow_x": null,
      "overflow_y": null,
      "padding": null,
      "right": null,
      "top": null,
      "visibility": null,
      "width": null
     }
    },
    "2c0f6e616249433fb4f37e1846ae1cbd": {
     "model_module": "@jupyter-widgets/base",
     "model_module_version": "1.2.0",
     "model_name": "LayoutModel",
     "state": {
      "_model_module": "@jupyter-widgets/base",
      "_model_module_version": "1.2.0",
      "_model_name": "LayoutModel",
      "_view_count": null,
      "_view_module": "@jupyter-widgets/base",
      "_view_module_version": "1.2.0",
      "_view_name": "LayoutView",
      "align_content": null,
      "align_items": null,
      "align_self": null,
      "border": null,
      "bottom": null,
      "display": null,
      "flex": null,
      "flex_flow": null,
      "grid_area": null,
      "grid_auto_columns": null,
      "grid_auto_flow": null,
      "grid_auto_rows": null,
      "grid_column": null,
      "grid_gap": null,
      "grid_row": null,
      "grid_template_areas": null,
      "grid_template_columns": null,
      "grid_template_rows": null,
      "height": null,
      "justify_content": null,
      "justify_items": null,
      "left": null,
      "margin": null,
      "max_height": null,
      "max_width": null,
      "min_height": null,
      "min_width": null,
      "object_fit": null,
      "object_position": null,
      "order": null,
      "overflow": null,
      "overflow_x": null,
      "overflow_y": null,
      "padding": null,
      "right": null,
      "top": null,
      "visibility": null,
      "width": null
     }
    },
    "2e05a36c0a394fa7807eed5d62ba7e13": {
     "model_module": "@jupyter-widgets/controls",
     "model_module_version": "1.5.0",
     "model_name": "DescriptionStyleModel",
     "state": {
      "_model_module": "@jupyter-widgets/controls",
      "_model_module_version": "1.5.0",
      "_model_name": "DescriptionStyleModel",
      "_view_count": null,
      "_view_module": "@jupyter-widgets/base",
      "_view_module_version": "1.2.0",
      "_view_name": "StyleView",
      "description_width": ""
     }
    },
    "2e55b1209a52463fb31e7b4f5b1096c0": {
     "model_module": "@jupyter-widgets/controls",
     "model_module_version": "1.5.0",
     "model_name": "DescriptionStyleModel",
     "state": {
      "_model_module": "@jupyter-widgets/controls",
      "_model_module_version": "1.5.0",
      "_model_name": "DescriptionStyleModel",
      "_view_count": null,
      "_view_module": "@jupyter-widgets/base",
      "_view_module_version": "1.2.0",
      "_view_name": "StyleView",
      "description_width": ""
     }
    },
    "31c072ab6ce043b586dc72fb59ab5773": {
     "model_module": "@jupyter-widgets/base",
     "model_module_version": "1.2.0",
     "model_name": "LayoutModel",
     "state": {
      "_model_module": "@jupyter-widgets/base",
      "_model_module_version": "1.2.0",
      "_model_name": "LayoutModel",
      "_view_count": null,
      "_view_module": "@jupyter-widgets/base",
      "_view_module_version": "1.2.0",
      "_view_name": "LayoutView",
      "align_content": null,
      "align_items": null,
      "align_self": null,
      "border": null,
      "bottom": null,
      "display": null,
      "flex": null,
      "flex_flow": null,
      "grid_area": null,
      "grid_auto_columns": null,
      "grid_auto_flow": null,
      "grid_auto_rows": null,
      "grid_column": null,
      "grid_gap": null,
      "grid_row": null,
      "grid_template_areas": null,
      "grid_template_columns": null,
      "grid_template_rows": null,
      "height": null,
      "justify_content": null,
      "justify_items": null,
      "left": null,
      "margin": null,
      "max_height": null,
      "max_width": null,
      "min_height": null,
      "min_width": null,
      "object_fit": null,
      "object_position": null,
      "order": null,
      "overflow": null,
      "overflow_x": null,
      "overflow_y": null,
      "padding": null,
      "right": null,
      "top": null,
      "visibility": null,
      "width": null
     }
    },
    "329bf6965a0a41fd8af9d01f4f3d8f4b": {
     "model_module": "@jupyter-widgets/base",
     "model_module_version": "1.2.0",
     "model_name": "LayoutModel",
     "state": {
      "_model_module": "@jupyter-widgets/base",
      "_model_module_version": "1.2.0",
      "_model_name": "LayoutModel",
      "_view_count": null,
      "_view_module": "@jupyter-widgets/base",
      "_view_module_version": "1.2.0",
      "_view_name": "LayoutView",
      "align_content": null,
      "align_items": null,
      "align_self": null,
      "border": null,
      "bottom": null,
      "display": null,
      "flex": null,
      "flex_flow": null,
      "grid_area": null,
      "grid_auto_columns": null,
      "grid_auto_flow": null,
      "grid_auto_rows": null,
      "grid_column": null,
      "grid_gap": null,
      "grid_row": null,
      "grid_template_areas": null,
      "grid_template_columns": null,
      "grid_template_rows": null,
      "height": null,
      "justify_content": null,
      "justify_items": null,
      "left": null,
      "margin": null,
      "max_height": null,
      "max_width": null,
      "min_height": null,
      "min_width": null,
      "object_fit": null,
      "object_position": null,
      "order": null,
      "overflow": null,
      "overflow_x": null,
      "overflow_y": null,
      "padding": null,
      "right": null,
      "top": null,
      "visibility": null,
      "width": null
     }
    },
    "354ba27fcd404893878f6e3fd25233d6": {
     "model_module": "@jupyter-widgets/base",
     "model_module_version": "1.2.0",
     "model_name": "LayoutModel",
     "state": {
      "_model_module": "@jupyter-widgets/base",
      "_model_module_version": "1.2.0",
      "_model_name": "LayoutModel",
      "_view_count": null,
      "_view_module": "@jupyter-widgets/base",
      "_view_module_version": "1.2.0",
      "_view_name": "LayoutView",
      "align_content": null,
      "align_items": null,
      "align_self": null,
      "border": null,
      "bottom": null,
      "display": null,
      "flex": null,
      "flex_flow": null,
      "grid_area": null,
      "grid_auto_columns": null,
      "grid_auto_flow": null,
      "grid_auto_rows": null,
      "grid_column": null,
      "grid_gap": null,
      "grid_row": null,
      "grid_template_areas": null,
      "grid_template_columns": null,
      "grid_template_rows": null,
      "height": null,
      "justify_content": null,
      "justify_items": null,
      "left": null,
      "margin": null,
      "max_height": null,
      "max_width": null,
      "min_height": null,
      "min_width": null,
      "object_fit": null,
      "object_position": null,
      "order": null,
      "overflow": null,
      "overflow_x": null,
      "overflow_y": null,
      "padding": null,
      "right": null,
      "top": null,
      "visibility": null,
      "width": null
     }
    },
    "359fd83210be43a1b8aa5e39294c873f": {
     "model_module": "@jupyter-widgets/controls",
     "model_module_version": "1.5.0",
     "model_name": "DescriptionStyleModel",
     "state": {
      "_model_module": "@jupyter-widgets/controls",
      "_model_module_version": "1.5.0",
      "_model_name": "DescriptionStyleModel",
      "_view_count": null,
      "_view_module": "@jupyter-widgets/base",
      "_view_module_version": "1.2.0",
      "_view_name": "StyleView",
      "description_width": ""
     }
    },
    "36b0897601694c008cd69fdea899e084": {
     "model_module": "@jupyter-widgets/base",
     "model_module_version": "1.2.0",
     "model_name": "LayoutModel",
     "state": {
      "_model_module": "@jupyter-widgets/base",
      "_model_module_version": "1.2.0",
      "_model_name": "LayoutModel",
      "_view_count": null,
      "_view_module": "@jupyter-widgets/base",
      "_view_module_version": "1.2.0",
      "_view_name": "LayoutView",
      "align_content": null,
      "align_items": null,
      "align_self": null,
      "border": null,
      "bottom": null,
      "display": null,
      "flex": null,
      "flex_flow": null,
      "grid_area": null,
      "grid_auto_columns": null,
      "grid_auto_flow": null,
      "grid_auto_rows": null,
      "grid_column": null,
      "grid_gap": null,
      "grid_row": null,
      "grid_template_areas": null,
      "grid_template_columns": null,
      "grid_template_rows": null,
      "height": null,
      "justify_content": null,
      "justify_items": null,
      "left": null,
      "margin": null,
      "max_height": null,
      "max_width": null,
      "min_height": null,
      "min_width": null,
      "object_fit": null,
      "object_position": null,
      "order": null,
      "overflow": null,
      "overflow_x": null,
      "overflow_y": null,
      "padding": null,
      "right": null,
      "top": null,
      "visibility": null,
      "width": null
     }
    },
    "3713a59df8914907871b823a3bc9f031": {
     "model_module": "@jupyter-widgets/controls",
     "model_module_version": "1.5.0",
     "model_name": "HTMLModel",
     "state": {
      "_dom_classes": [],
      "_model_module": "@jupyter-widgets/controls",
      "_model_module_version": "1.5.0",
      "_model_name": "HTMLModel",
      "_view_count": null,
      "_view_module": "@jupyter-widgets/controls",
      "_view_module_version": "1.5.0",
      "_view_name": "HTMLView",
      "description": "",
      "description_tooltip": null,
      "layout": "IPY_MODEL_354ba27fcd404893878f6e3fd25233d6",
      "placeholder": "​",
      "style": "IPY_MODEL_08d28c1f930045f489afcb7de0a519b7",
      "value": "Map: 100%"
     }
    },
    "37e35e7a0b8b4d81a64e4bfa8db44874": {
     "model_module": "@jupyter-widgets/controls",
     "model_module_version": "1.5.0",
     "model_name": "DescriptionStyleModel",
     "state": {
      "_model_module": "@jupyter-widgets/controls",
      "_model_module_version": "1.5.0",
      "_model_name": "DescriptionStyleModel",
      "_view_count": null,
      "_view_module": "@jupyter-widgets/base",
      "_view_module_version": "1.2.0",
      "_view_name": "StyleView",
      "description_width": ""
     }
    },
    "39049a819bf44e5dbb848d898abaf0c7": {
     "model_module": "@jupyter-widgets/base",
     "model_module_version": "1.2.0",
     "model_name": "LayoutModel",
     "state": {
      "_model_module": "@jupyter-widgets/base",
      "_model_module_version": "1.2.0",
      "_model_name": "LayoutModel",
      "_view_count": null,
      "_view_module": "@jupyter-widgets/base",
      "_view_module_version": "1.2.0",
      "_view_name": "LayoutView",
      "align_content": null,
      "align_items": null,
      "align_self": null,
      "border": null,
      "bottom": null,
      "display": null,
      "flex": null,
      "flex_flow": null,
      "grid_area": null,
      "grid_auto_columns": null,
      "grid_auto_flow": null,
      "grid_auto_rows": null,
      "grid_column": null,
      "grid_gap": null,
      "grid_row": null,
      "grid_template_areas": null,
      "grid_template_columns": null,
      "grid_template_rows": null,
      "height": null,
      "justify_content": null,
      "justify_items": null,
      "left": null,
      "margin": null,
      "max_height": null,
      "max_width": null,
      "min_height": null,
      "min_width": null,
      "object_fit": null,
      "object_position": null,
      "order": null,
      "overflow": null,
      "overflow_x": null,
      "overflow_y": null,
      "padding": null,
      "right": null,
      "top": null,
      "visibility": null,
      "width": null
     }
    },
    "3d26710196304dc28014d186d56dab0b": {
     "model_module": "@jupyter-widgets/controls",
     "model_module_version": "1.5.0",
     "model_name": "FloatProgressModel",
     "state": {
      "_dom_classes": [],
      "_model_module": "@jupyter-widgets/controls",
      "_model_module_version": "1.5.0",
      "_model_name": "FloatProgressModel",
      "_view_count": null,
      "_view_module": "@jupyter-widgets/controls",
      "_view_module_version": "1.5.0",
      "_view_name": "ProgressView",
      "bar_style": "success",
      "description": "",
      "description_tooltip": null,
      "layout": "IPY_MODEL_bb439f636ca94c12b65bbc14566e8d06",
      "max": 351,
      "min": 0,
      "orientation": "horizontal",
      "style": "IPY_MODEL_068e0f0fc35f4ba385eb0499fe666717",
      "value": 351
     }
    },
    "3d9638e990e442618c7b8f383c6a497b": {
     "model_module": "@jupyter-widgets/base",
     "model_module_version": "1.2.0",
     "model_name": "LayoutModel",
     "state": {
      "_model_module": "@jupyter-widgets/base",
      "_model_module_version": "1.2.0",
      "_model_name": "LayoutModel",
      "_view_count": null,
      "_view_module": "@jupyter-widgets/base",
      "_view_module_version": "1.2.0",
      "_view_name": "LayoutView",
      "align_content": null,
      "align_items": null,
      "align_self": null,
      "border": null,
      "bottom": null,
      "display": null,
      "flex": null,
      "flex_flow": null,
      "grid_area": null,
      "grid_auto_columns": null,
      "grid_auto_flow": null,
      "grid_auto_rows": null,
      "grid_column": null,
      "grid_gap": null,
      "grid_row": null,
      "grid_template_areas": null,
      "grid_template_columns": null,
      "grid_template_rows": null,
      "height": null,
      "justify_content": null,
      "justify_items": null,
      "left": null,
      "margin": null,
      "max_height": null,
      "max_width": null,
      "min_height": null,
      "min_width": null,
      "object_fit": null,
      "object_position": null,
      "order": null,
      "overflow": null,
      "overflow_x": null,
      "overflow_y": null,
      "padding": null,
      "right": null,
      "top": null,
      "visibility": null,
      "width": null
     }
    },
    "3db342d434a544bc9a1b0ea0ed1c6e10": {
     "model_module": "@jupyter-widgets/base",
     "model_module_version": "1.2.0",
     "model_name": "LayoutModel",
     "state": {
      "_model_module": "@jupyter-widgets/base",
      "_model_module_version": "1.2.0",
      "_model_name": "LayoutModel",
      "_view_count": null,
      "_view_module": "@jupyter-widgets/base",
      "_view_module_version": "1.2.0",
      "_view_name": "LayoutView",
      "align_content": null,
      "align_items": null,
      "align_self": null,
      "border": null,
      "bottom": null,
      "display": null,
      "flex": null,
      "flex_flow": null,
      "grid_area": null,
      "grid_auto_columns": null,
      "grid_auto_flow": null,
      "grid_auto_rows": null,
      "grid_column": null,
      "grid_gap": null,
      "grid_row": null,
      "grid_template_areas": null,
      "grid_template_columns": null,
      "grid_template_rows": null,
      "height": null,
      "justify_content": null,
      "justify_items": null,
      "left": null,
      "margin": null,
      "max_height": null,
      "max_width": null,
      "min_height": null,
      "min_width": null,
      "object_fit": null,
      "object_position": null,
      "order": null,
      "overflow": null,
      "overflow_x": null,
      "overflow_y": null,
      "padding": null,
      "right": null,
      "top": null,
      "visibility": null,
      "width": null
     }
    },
    "3f07362a183f4851999d586315bef3d0": {
     "model_module": "@jupyter-widgets/controls",
     "model_module_version": "1.5.0",
     "model_name": "DescriptionStyleModel",
     "state": {
      "_model_module": "@jupyter-widgets/controls",
      "_model_module_version": "1.5.0",
      "_model_name": "DescriptionStyleModel",
      "_view_count": null,
      "_view_module": "@jupyter-widgets/base",
      "_view_module_version": "1.2.0",
      "_view_name": "StyleView",
      "description_width": ""
     }
    },
    "41dc33cd631b433fa5dd082ad0e592f7": {
     "model_module": "@jupyter-widgets/base",
     "model_module_version": "1.2.0",
     "model_name": "LayoutModel",
     "state": {
      "_model_module": "@jupyter-widgets/base",
      "_model_module_version": "1.2.0",
      "_model_name": "LayoutModel",
      "_view_count": null,
      "_view_module": "@jupyter-widgets/base",
      "_view_module_version": "1.2.0",
      "_view_name": "LayoutView",
      "align_content": null,
      "align_items": null,
      "align_self": null,
      "border": null,
      "bottom": null,
      "display": null,
      "flex": null,
      "flex_flow": null,
      "grid_area": null,
      "grid_auto_columns": null,
      "grid_auto_flow": null,
      "grid_auto_rows": null,
      "grid_column": null,
      "grid_gap": null,
      "grid_row": null,
      "grid_template_areas": null,
      "grid_template_columns": null,
      "grid_template_rows": null,
      "height": null,
      "justify_content": null,
      "justify_items": null,
      "left": null,
      "margin": null,
      "max_height": null,
      "max_width": null,
      "min_height": null,
      "min_width": null,
      "object_fit": null,
      "object_position": null,
      "order": null,
      "overflow": null,
      "overflow_x": null,
      "overflow_y": null,
      "padding": null,
      "right": null,
      "top": null,
      "visibility": null,
      "width": null
     }
    },
    "493fa219bffb4226bdf4f880fa864a01": {
     "model_module": "@jupyter-widgets/controls",
     "model_module_version": "1.5.0",
     "model_name": "DescriptionStyleModel",
     "state": {
      "_model_module": "@jupyter-widgets/controls",
      "_model_module_version": "1.5.0",
      "_model_name": "DescriptionStyleModel",
      "_view_count": null,
      "_view_module": "@jupyter-widgets/base",
      "_view_module_version": "1.2.0",
      "_view_name": "StyleView",
      "description_width": ""
     }
    },
    "4b5f9c1ce14644e7a681f8a3dc4125b0": {
     "model_module": "@jupyter-widgets/base",
     "model_module_version": "1.2.0",
     "model_name": "LayoutModel",
     "state": {
      "_model_module": "@jupyter-widgets/base",
      "_model_module_version": "1.2.0",
      "_model_name": "LayoutModel",
      "_view_count": null,
      "_view_module": "@jupyter-widgets/base",
      "_view_module_version": "1.2.0",
      "_view_name": "LayoutView",
      "align_content": null,
      "align_items": null,
      "align_self": null,
      "border": null,
      "bottom": null,
      "display": null,
      "flex": null,
      "flex_flow": null,
      "grid_area": null,
      "grid_auto_columns": null,
      "grid_auto_flow": null,
      "grid_auto_rows": null,
      "grid_column": null,
      "grid_gap": null,
      "grid_row": null,
      "grid_template_areas": null,
      "grid_template_columns": null,
      "grid_template_rows": null,
      "height": null,
      "justify_content": null,
      "justify_items": null,
      "left": null,
      "margin": null,
      "max_height": null,
      "max_width": null,
      "min_height": null,
      "min_width": null,
      "object_fit": null,
      "object_position": null,
      "order": null,
      "overflow": null,
      "overflow_x": null,
      "overflow_y": null,
      "padding": null,
      "right": null,
      "top": null,
      "visibility": null,
      "width": null
     }
    },
    "4c2f41d046704540a8e8a7887d558d79": {
     "model_module": "@jupyter-widgets/base",
     "model_module_version": "1.2.0",
     "model_name": "LayoutModel",
     "state": {
      "_model_module": "@jupyter-widgets/base",
      "_model_module_version": "1.2.0",
      "_model_name": "LayoutModel",
      "_view_count": null,
      "_view_module": "@jupyter-widgets/base",
      "_view_module_version": "1.2.0",
      "_view_name": "LayoutView",
      "align_content": null,
      "align_items": null,
      "align_self": null,
      "border": null,
      "bottom": null,
      "display": null,
      "flex": null,
      "flex_flow": null,
      "grid_area": null,
      "grid_auto_columns": null,
      "grid_auto_flow": null,
      "grid_auto_rows": null,
      "grid_column": null,
      "grid_gap": null,
      "grid_row": null,
      "grid_template_areas": null,
      "grid_template_columns": null,
      "grid_template_rows": null,
      "height": null,
      "justify_content": null,
      "justify_items": null,
      "left": null,
      "margin": null,
      "max_height": null,
      "max_width": null,
      "min_height": null,
      "min_width": null,
      "object_fit": null,
      "object_position": null,
      "order": null,
      "overflow": null,
      "overflow_x": null,
      "overflow_y": null,
      "padding": null,
      "right": null,
      "top": null,
      "visibility": null,
      "width": null
     }
    },
    "4c9b45e82a7d44bb91946ab60eb72048": {
     "model_module": "@jupyter-widgets/controls",
     "model_module_version": "1.5.0",
     "model_name": "DescriptionStyleModel",
     "state": {
      "_model_module": "@jupyter-widgets/controls",
      "_model_module_version": "1.5.0",
      "_model_name": "DescriptionStyleModel",
      "_view_count": null,
      "_view_module": "@jupyter-widgets/base",
      "_view_module_version": "1.2.0",
      "_view_name": "StyleView",
      "description_width": ""
     }
    },
    "4dece1c77eb4492da1e476c30830b981": {
     "model_module": "@jupyter-widgets/base",
     "model_module_version": "1.2.0",
     "model_name": "LayoutModel",
     "state": {
      "_model_module": "@jupyter-widgets/base",
      "_model_module_version": "1.2.0",
      "_model_name": "LayoutModel",
      "_view_count": null,
      "_view_module": "@jupyter-widgets/base",
      "_view_module_version": "1.2.0",
      "_view_name": "LayoutView",
      "align_content": null,
      "align_items": null,
      "align_self": null,
      "border": null,
      "bottom": null,
      "display": null,
      "flex": null,
      "flex_flow": null,
      "grid_area": null,
      "grid_auto_columns": null,
      "grid_auto_flow": null,
      "grid_auto_rows": null,
      "grid_column": null,
      "grid_gap": null,
      "grid_row": null,
      "grid_template_areas": null,
      "grid_template_columns": null,
      "grid_template_rows": null,
      "height": null,
      "justify_content": null,
      "justify_items": null,
      "left": null,
      "margin": null,
      "max_height": null,
      "max_width": null,
      "min_height": null,
      "min_width": null,
      "object_fit": null,
      "object_position": null,
      "order": null,
      "overflow": null,
      "overflow_x": null,
      "overflow_y": null,
      "padding": null,
      "right": null,
      "top": null,
      "visibility": null,
      "width": null
     }
    },
    "4f83bab5b836409db048272dcd08590c": {
     "model_module": "@jupyter-widgets/controls",
     "model_module_version": "1.5.0",
     "model_name": "HTMLModel",
     "state": {
      "_dom_classes": [],
      "_model_module": "@jupyter-widgets/controls",
      "_model_module_version": "1.5.0",
      "_model_name": "HTMLModel",
      "_view_count": null,
      "_view_module": "@jupyter-widgets/controls",
      "_view_module_version": "1.5.0",
      "_view_name": "HTMLView",
      "description": "",
      "description_tooltip": null,
      "layout": "IPY_MODEL_1abcda6ebf994a6bbbd50201dc1a38e1",
      "placeholder": "​",
      "style": "IPY_MODEL_3f07362a183f4851999d586315bef3d0",
      "value": " 9.10M/9.10M [00:00&lt;00:00, 13.6MB/s]"
     }
    },
    "4fb9392e550248a1a9d13f4895e3233e": {
     "model_module": "@jupyter-widgets/controls",
     "model_module_version": "1.5.0",
     "model_name": "HBoxModel",
     "state": {
      "_dom_classes": [],
      "_model_module": "@jupyter-widgets/controls",
      "_model_module_version": "1.5.0",
      "_model_name": "HBoxModel",
      "_view_count": null,
      "_view_module": "@jupyter-widgets/controls",
      "_view_module_version": "1.5.0",
      "_view_name": "HBoxView",
      "box_style": "",
      "children": [
       "IPY_MODEL_271bf058a5aa49a0b1ddd4e88321e662",
       "IPY_MODEL_8cc0e7cef2d94acbaf2d8624a68e347f",
       "IPY_MODEL_66dc3522755d40a1add0126a56178e5f"
      ],
      "layout": "IPY_MODEL_633a4d91cfcf4dd79176ea6c4243c96e"
     }
    },
    "50e2cc2cd15a47f3aff8cf1ba2a822e5": {
     "model_module": "@jupyter-widgets/controls",
     "model_module_version": "1.5.0",
     "model_name": "HTMLModel",
     "state": {
      "_dom_classes": [],
      "_model_module": "@jupyter-widgets/controls",
      "_model_module_version": "1.5.0",
      "_model_name": "HTMLModel",
      "_view_count": null,
      "_view_module": "@jupyter-widgets/controls",
      "_view_module_version": "1.5.0",
      "_view_name": "HTMLView",
      "description": "",
      "description_tooltip": null,
      "layout": "IPY_MODEL_f543b3356f54467287c6bede709fcee9",
      "placeholder": "​",
      "style": "IPY_MODEL_58b4e0aa2ffc4d7a82504abddf65ba01",
      "value": " 297/297 [00:00&lt;00:00, 2327.11 examples/s]"
     }
    },
    "52f60b9c6c8c4f24b3124e149ee7b16a": {
     "model_module": "@jupyter-widgets/base",
     "model_module_version": "1.2.0",
     "model_name": "LayoutModel",
     "state": {
      "_model_module": "@jupyter-widgets/base",
      "_model_module_version": "1.2.0",
      "_model_name": "LayoutModel",
      "_view_count": null,
      "_view_module": "@jupyter-widgets/base",
      "_view_module_version": "1.2.0",
      "_view_name": "LayoutView",
      "align_content": null,
      "align_items": null,
      "align_self": null,
      "border": null,
      "bottom": null,
      "display": null,
      "flex": null,
      "flex_flow": null,
      "grid_area": null,
      "grid_auto_columns": null,
      "grid_auto_flow": null,
      "grid_auto_rows": null,
      "grid_column": null,
      "grid_gap": null,
      "grid_row": null,
      "grid_template_areas": null,
      "grid_template_columns": null,
      "grid_template_rows": null,
      "height": null,
      "justify_content": null,
      "justify_items": null,
      "left": null,
      "margin": null,
      "max_height": null,
      "max_width": null,
      "min_height": null,
      "min_width": null,
      "object_fit": null,
      "object_position": null,
      "order": null,
      "overflow": null,
      "overflow_x": null,
      "overflow_y": null,
      "padding": null,
      "right": null,
      "top": null,
      "visibility": null,
      "width": null
     }
    },
    "530bd805365142208e7d779cbdae5be6": {
     "model_module": "@jupyter-widgets/controls",
     "model_module_version": "1.5.0",
     "model_name": "ProgressStyleModel",
     "state": {
      "_model_module": "@jupyter-widgets/controls",
      "_model_module_version": "1.5.0",
      "_model_name": "ProgressStyleModel",
      "_view_count": null,
      "_view_module": "@jupyter-widgets/base",
      "_view_module_version": "1.2.0",
      "_view_name": "StyleView",
      "bar_color": null,
      "description_width": ""
     }
    },
    "5481f0d48c9945d2b44ed23e0869f382": {
     "model_module": "@jupyter-widgets/controls",
     "model_module_version": "1.5.0",
     "model_name": "DescriptionStyleModel",
     "state": {
      "_model_module": "@jupyter-widgets/controls",
      "_model_module_version": "1.5.0",
      "_model_name": "DescriptionStyleModel",
      "_view_count": null,
      "_view_module": "@jupyter-widgets/base",
      "_view_module_version": "1.2.0",
      "_view_name": "StyleView",
      "description_width": ""
     }
    },
    "54b6292a951d490faffd07d0f44cdfed": {
     "model_module": "@jupyter-widgets/controls",
     "model_module_version": "1.5.0",
     "model_name": "ProgressStyleModel",
     "state": {
      "_model_module": "@jupyter-widgets/controls",
      "_model_module_version": "1.5.0",
      "_model_name": "ProgressStyleModel",
      "_view_count": null,
      "_view_module": "@jupyter-widgets/base",
      "_view_module_version": "1.2.0",
      "_view_name": "StyleView",
      "bar_color": null,
      "description_width": ""
     }
    },
    "56fa1b476710463cb49ce15cea64b534": {
     "model_module": "@jupyter-widgets/base",
     "model_module_version": "1.2.0",
     "model_name": "LayoutModel",
     "state": {
      "_model_module": "@jupyter-widgets/base",
      "_model_module_version": "1.2.0",
      "_model_name": "LayoutModel",
      "_view_count": null,
      "_view_module": "@jupyter-widgets/base",
      "_view_module_version": "1.2.0",
      "_view_name": "LayoutView",
      "align_content": null,
      "align_items": null,
      "align_self": null,
      "border": null,
      "bottom": null,
      "display": null,
      "flex": null,
      "flex_flow": null,
      "grid_area": null,
      "grid_auto_columns": null,
      "grid_auto_flow": null,
      "grid_auto_rows": null,
      "grid_column": null,
      "grid_gap": null,
      "grid_row": null,
      "grid_template_areas": null,
      "grid_template_columns": null,
      "grid_template_rows": null,
      "height": null,
      "justify_content": null,
      "justify_items": null,
      "left": null,
      "margin": null,
      "max_height": null,
      "max_width": null,
      "min_height": null,
      "min_width": null,
      "object_fit": null,
      "object_position": null,
      "order": null,
      "overflow": null,
      "overflow_x": null,
      "overflow_y": null,
      "padding": null,
      "right": null,
      "top": null,
      "visibility": null,
      "width": null
     }
    },
    "57792a600ba742519f3fe86cfd4ed100": {
     "model_module": "@jupyter-widgets/controls",
     "model_module_version": "1.5.0",
     "model_name": "DescriptionStyleModel",
     "state": {
      "_model_module": "@jupyter-widgets/controls",
      "_model_module_version": "1.5.0",
      "_model_name": "DescriptionStyleModel",
      "_view_count": null,
      "_view_module": "@jupyter-widgets/base",
      "_view_module_version": "1.2.0",
      "_view_name": "StyleView",
      "description_width": ""
     }
    },
    "5788695335ce4d45a62cd6d07fc68f6f": {
     "model_module": "@jupyter-widgets/controls",
     "model_module_version": "1.5.0",
     "model_name": "HBoxModel",
     "state": {
      "_dom_classes": [],
      "_model_module": "@jupyter-widgets/controls",
      "_model_module_version": "1.5.0",
      "_model_name": "HBoxModel",
      "_view_count": null,
      "_view_module": "@jupyter-widgets/controls",
      "_view_module_version": "1.5.0",
      "_view_name": "HBoxView",
      "box_style": "",
      "children": [
       "IPY_MODEL_bbf17939d2df4858bd07925c5b27838a",
       "IPY_MODEL_085632015e724260875bd5df76ea1e01",
       "IPY_MODEL_c16a97fc6cc54429bc76954b95e4e754"
      ],
      "layout": "IPY_MODEL_8baf04012e654546b2fd144a344be1bf"
     }
    },
    "58b4e0aa2ffc4d7a82504abddf65ba01": {
     "model_module": "@jupyter-widgets/controls",
     "model_module_version": "1.5.0",
     "model_name": "DescriptionStyleModel",
     "state": {
      "_model_module": "@jupyter-widgets/controls",
      "_model_module_version": "1.5.0",
      "_model_name": "DescriptionStyleModel",
      "_view_count": null,
      "_view_module": "@jupyter-widgets/base",
      "_view_module_version": "1.2.0",
      "_view_name": "StyleView",
      "description_width": ""
     }
    },
    "58d8fcb98175439a91972599296efe81": {
     "model_module": "@jupyter-widgets/base",
     "model_module_version": "1.2.0",
     "model_name": "LayoutModel",
     "state": {
      "_model_module": "@jupyter-widgets/base",
      "_model_module_version": "1.2.0",
      "_model_name": "LayoutModel",
      "_view_count": null,
      "_view_module": "@jupyter-widgets/base",
      "_view_module_version": "1.2.0",
      "_view_name": "LayoutView",
      "align_content": null,
      "align_items": null,
      "align_self": null,
      "border": null,
      "bottom": null,
      "display": null,
      "flex": null,
      "flex_flow": null,
      "grid_area": null,
      "grid_auto_columns": null,
      "grid_auto_flow": null,
      "grid_auto_rows": null,
      "grid_column": null,
      "grid_gap": null,
      "grid_row": null,
      "grid_template_areas": null,
      "grid_template_columns": null,
      "grid_template_rows": null,
      "height": null,
      "justify_content": null,
      "justify_items": null,
      "left": null,
      "margin": null,
      "max_height": null,
      "max_width": null,
      "min_height": null,
      "min_width": null,
      "object_fit": null,
      "object_position": null,
      "order": null,
      "overflow": null,
      "overflow_x": null,
      "overflow_y": null,
      "padding": null,
      "right": null,
      "top": null,
      "visibility": null,
      "width": null
     }
    },
    "59f71c758d8348b4a1d3bc795fc7a6a8": {
     "model_module": "@jupyter-widgets/base",
     "model_module_version": "1.2.0",
     "model_name": "LayoutModel",
     "state": {
      "_model_module": "@jupyter-widgets/base",
      "_model_module_version": "1.2.0",
      "_model_name": "LayoutModel",
      "_view_count": null,
      "_view_module": "@jupyter-widgets/base",
      "_view_module_version": "1.2.0",
      "_view_name": "LayoutView",
      "align_content": null,
      "align_items": null,
      "align_self": null,
      "border": null,
      "bottom": null,
      "display": null,
      "flex": null,
      "flex_flow": null,
      "grid_area": null,
      "grid_auto_columns": null,
      "grid_auto_flow": null,
      "grid_auto_rows": null,
      "grid_column": null,
      "grid_gap": null,
      "grid_row": null,
      "grid_template_areas": null,
      "grid_template_columns": null,
      "grid_template_rows": null,
      "height": null,
      "justify_content": null,
      "justify_items": null,
      "left": null,
      "margin": null,
      "max_height": null,
      "max_width": null,
      "min_height": null,
      "min_width": null,
      "object_fit": null,
      "object_position": null,
      "order": null,
      "overflow": null,
      "overflow_x": null,
      "overflow_y": null,
      "padding": null,
      "right": null,
      "top": null,
      "visibility": null,
      "width": null
     }
    },
    "5da0d70c4b71400b929a6e98e741b814": {
     "model_module": "@jupyter-widgets/base",
     "model_module_version": "1.2.0",
     "model_name": "LayoutModel",
     "state": {
      "_model_module": "@jupyter-widgets/base",
      "_model_module_version": "1.2.0",
      "_model_name": "LayoutModel",
      "_view_count": null,
      "_view_module": "@jupyter-widgets/base",
      "_view_module_version": "1.2.0",
      "_view_name": "LayoutView",
      "align_content": null,
      "align_items": null,
      "align_self": null,
      "border": null,
      "bottom": null,
      "display": null,
      "flex": null,
      "flex_flow": null,
      "grid_area": null,
      "grid_auto_columns": null,
      "grid_auto_flow": null,
      "grid_auto_rows": null,
      "grid_column": null,
      "grid_gap": null,
      "grid_row": null,
      "grid_template_areas": null,
      "grid_template_columns": null,
      "grid_template_rows": null,
      "height": null,
      "justify_content": null,
      "justify_items": null,
      "left": null,
      "margin": null,
      "max_height": null,
      "max_width": null,
      "min_height": null,
      "min_width": null,
      "object_fit": null,
      "object_position": null,
      "order": null,
      "overflow": null,
      "overflow_x": null,
      "overflow_y": null,
      "padding": null,
      "right": null,
      "top": null,
      "visibility": null,
      "width": null
     }
    },
    "5de57e22141e483c97542bda39c7c46c": {
     "model_module": "@jupyter-widgets/controls",
     "model_module_version": "1.5.0",
     "model_name": "DescriptionStyleModel",
     "state": {
      "_model_module": "@jupyter-widgets/controls",
      "_model_module_version": "1.5.0",
      "_model_name": "DescriptionStyleModel",
      "_view_count": null,
      "_view_module": "@jupyter-widgets/base",
      "_view_module_version": "1.2.0",
      "_view_name": "StyleView",
      "description_width": ""
     }
    },
    "5e7f3ca34705486c912c2e8a678bc270": {
     "model_module": "@jupyter-widgets/controls",
     "model_module_version": "1.5.0",
     "model_name": "HBoxModel",
     "state": {
      "_dom_classes": [],
      "_model_module": "@jupyter-widgets/controls",
      "_model_module_version": "1.5.0",
      "_model_name": "HBoxModel",
      "_view_count": null,
      "_view_module": "@jupyter-widgets/controls",
      "_view_module_version": "1.5.0",
      "_view_name": "HBoxView",
      "box_style": "",
      "children": [
       "IPY_MODEL_d87a67ec58254726a6c8ce793f624ab4",
       "IPY_MODEL_c18f4a9d7c544b0eb81d689366cf46c8",
       "IPY_MODEL_b13521261c0e4783a348e5165fdad7f4"
      ],
      "layout": "IPY_MODEL_8c9b159e6e764a3f8f4076e63bcf4d23"
     }
    },
    "5ed3049fda8b4da2bc4b2faa2fc75a41": {
     "model_module": "@jupyter-widgets/controls",
     "model_module_version": "1.5.0",
     "model_name": "FloatProgressModel",
     "state": {
      "_dom_classes": [],
      "_model_module": "@jupyter-widgets/controls",
      "_model_module_version": "1.5.0",
      "_model_name": "FloatProgressModel",
      "_view_count": null,
      "_view_module": "@jupyter-widgets/controls",
      "_view_module_version": "1.5.0",
      "_view_name": "ProgressView",
      "bar_style": "success",
      "description": "",
      "description_tooltip": null,
      "layout": "IPY_MODEL_52f60b9c6c8c4f24b3124e149ee7b16a",
      "max": 299,
      "min": 0,
      "orientation": "horizontal",
      "style": "IPY_MODEL_bbcb78684804408d97a1ebd487e66c0c",
      "value": 299
     }
    },
    "5fb313ddc50e418292df5a37749638bf": {
     "model_module": "@jupyter-widgets/controls",
     "model_module_version": "1.5.0",
     "model_name": "HTMLModel",
     "state": {
      "_dom_classes": [],
      "_model_module": "@jupyter-widgets/controls",
      "_model_module_version": "1.5.0",
      "_model_name": "HTMLModel",
      "_view_count": null,
      "_view_module": "@jupyter-widgets/controls",
      "_view_module_version": "1.5.0",
      "_view_name": "HTMLView",
      "description": "",
      "description_tooltip": null,
      "layout": "IPY_MODEL_73881247554f44f791a1eb75eeab5a7c",
      "placeholder": "​",
      "style": "IPY_MODEL_a0ed9769ffee4cfe84577cbd185f11ac",
      "value": " 1982/1982 [00:00&lt;00:00, 2406.22 examples/s]"
     }
    },
    "5fbf51900b014443a286b07c76563abf": {
     "model_module": "@jupyter-widgets/controls",
     "model_module_version": "1.5.0",
     "model_name": "HBoxModel",
     "state": {
      "_dom_classes": [],
      "_model_module": "@jupyter-widgets/controls",
      "_model_module_version": "1.5.0",
      "_model_name": "HBoxModel",
      "_view_count": null,
      "_view_module": "@jupyter-widgets/controls",
      "_view_module_version": "1.5.0",
      "_view_name": "HBoxView",
      "box_style": "",
      "children": [
       "IPY_MODEL_3713a59df8914907871b823a3bc9f031",
       "IPY_MODEL_1926998f35ca495cb296f4966e4188d6",
       "IPY_MODEL_f9f597731067494689ee9caa050dfd0c"
      ],
      "layout": "IPY_MODEL_d2a0394d3b4146bdbcb88d3a56a5abd6"
     }
    },
    "633a4d91cfcf4dd79176ea6c4243c96e": {
     "model_module": "@jupyter-widgets/base",
     "model_module_version": "1.2.0",
     "model_name": "LayoutModel",
     "state": {
      "_model_module": "@jupyter-widgets/base",
      "_model_module_version": "1.2.0",
      "_model_name": "LayoutModel",
      "_view_count": null,
      "_view_module": "@jupyter-widgets/base",
      "_view_module_version": "1.2.0",
      "_view_name": "LayoutView",
      "align_content": null,
      "align_items": null,
      "align_self": null,
      "border": null,
      "bottom": null,
      "display": null,
      "flex": null,
      "flex_flow": null,
      "grid_area": null,
      "grid_auto_columns": null,
      "grid_auto_flow": null,
      "grid_auto_rows": null,
      "grid_column": null,
      "grid_gap": null,
      "grid_row": null,
      "grid_template_areas": null,
      "grid_template_columns": null,
      "grid_template_rows": null,
      "height": null,
      "justify_content": null,
      "justify_items": null,
      "left": null,
      "margin": null,
      "max_height": null,
      "max_width": null,
      "min_height": null,
      "min_width": null,
      "object_fit": null,
      "object_position": null,
      "order": null,
      "overflow": null,
      "overflow_x": null,
      "overflow_y": null,
      "padding": null,
      "right": null,
      "top": null,
      "visibility": null,
      "width": null
     }
    },
    "641c1628036948db9fa7554b1682912e": {
     "model_module": "@jupyter-widgets/controls",
     "model_module_version": "1.5.0",
     "model_name": "HBoxModel",
     "state": {
      "_dom_classes": [],
      "_model_module": "@jupyter-widgets/controls",
      "_model_module_version": "1.5.0",
      "_model_name": "HBoxModel",
      "_view_count": null,
      "_view_module": "@jupyter-widgets/controls",
      "_view_module_version": "1.5.0",
      "_view_name": "HBoxView",
      "box_style": "",
      "children": [
       "IPY_MODEL_0237394d02c0442b88655e273d7390af",
       "IPY_MODEL_05329ea338a84696ad31466f54b3dc43",
       "IPY_MODEL_6ae10d702df941df9d0be1398839714d"
      ],
      "layout": "IPY_MODEL_7dad52098e4b42f3b5df0b3892599bf8"
     }
    },
    "653df2bf1a3042f184ee2c6d6d2b89d9": {
     "model_module": "@jupyter-widgets/controls",
     "model_module_version": "1.5.0",
     "model_name": "DescriptionStyleModel",
     "state": {
      "_model_module": "@jupyter-widgets/controls",
      "_model_module_version": "1.5.0",
      "_model_name": "DescriptionStyleModel",
      "_view_count": null,
      "_view_module": "@jupyter-widgets/base",
      "_view_module_version": "1.2.0",
      "_view_name": "StyleView",
      "description_width": ""
     }
    },
    "65e225ea1fab49d3af7c64f896c27fde": {
     "model_module": "@jupyter-widgets/controls",
     "model_module_version": "1.5.0",
     "model_name": "ProgressStyleModel",
     "state": {
      "_model_module": "@jupyter-widgets/controls",
      "_model_module_version": "1.5.0",
      "_model_name": "ProgressStyleModel",
      "_view_count": null,
      "_view_module": "@jupyter-widgets/base",
      "_view_module_version": "1.2.0",
      "_view_name": "StyleView",
      "bar_color": null,
      "description_width": ""
     }
    },
    "668406cfcd864c8f98f289dcab193736": {
     "model_module": "@jupyter-widgets/controls",
     "model_module_version": "1.5.0",
     "model_name": "DescriptionStyleModel",
     "state": {
      "_model_module": "@jupyter-widgets/controls",
      "_model_module_version": "1.5.0",
      "_model_name": "DescriptionStyleModel",
      "_view_count": null,
      "_view_module": "@jupyter-widgets/base",
      "_view_module_version": "1.2.0",
      "_view_name": "StyleView",
      "description_width": ""
     }
    },
    "66dc3522755d40a1add0126a56178e5f": {
     "model_module": "@jupyter-widgets/controls",
     "model_module_version": "1.5.0",
     "model_name": "HTMLModel",
     "state": {
      "_dom_classes": [],
      "_model_module": "@jupyter-widgets/controls",
      "_model_module_version": "1.5.0",
      "_model_name": "HTMLModel",
      "_view_count": null,
      "_view_module": "@jupyter-widgets/controls",
      "_view_module_version": "1.5.0",
      "_view_name": "HTMLView",
      "description": "",
      "description_tooltip": null,
      "layout": "IPY_MODEL_a2dbf899e8b84928abf69b67eb15a2b5",
      "placeholder": "​",
      "style": "IPY_MODEL_2b56d74d6b9044f985b3e44084630e3d",
      "value": " 830/830 [00:00&lt;00:00, 3581.82 examples/s]"
     }
    },
    "69aa1a7f0dc647cab27c19a2097283dc": {
     "model_module": "@jupyter-widgets/controls",
     "model_module_version": "1.5.0",
     "model_name": "HTMLModel",
     "state": {
      "_dom_classes": [],
      "_model_module": "@jupyter-widgets/controls",
      "_model_module_version": "1.5.0",
      "_model_name": "HTMLModel",
      "_view_count": null,
      "_view_module": "@jupyter-widgets/controls",
      "_view_module_version": "1.5.0",
      "_view_name": "HTMLView",
      "description": "",
      "description_tooltip": null,
      "layout": "IPY_MODEL_23b6e329f1ad4f038051eaaa6d9b4149",
      "placeholder": "​",
      "style": "IPY_MODEL_0f1e52d966d44e48aaf2ac773d3a807a",
      "value": " 282/282 [00:00&lt;00:00, 1638.62 examples/s]"
     }
    },
    "69c4cce74e2a440e9474b59b105c7e17": {
     "model_module": "@jupyter-widgets/controls",
     "model_module_version": "1.5.0",
     "model_name": "FloatProgressModel",
     "state": {
      "_dom_classes": [],
      "_model_module": "@jupyter-widgets/controls",
      "_model_module_version": "1.5.0",
      "_model_name": "FloatProgressModel",
      "_view_count": null,
      "_view_module": "@jupyter-widgets/controls",
      "_view_module_version": "1.5.0",
      "_view_name": "ProgressView",
      "bar_style": "success",
      "description": "",
      "description_tooltip": null,
      "layout": "IPY_MODEL_28289819ecae4004844c392a895d48e3",
      "max": 1982,
      "min": 0,
      "orientation": "horizontal",
      "style": "IPY_MODEL_d28d5d3a7e594718940f12408d04dcee",
      "value": 1982
     }
    },
    "6aa2143fb6be4b738851139c51b5d777": {
     "model_module": "@jupyter-widgets/base",
     "model_module_version": "1.2.0",
     "model_name": "LayoutModel",
     "state": {
      "_model_module": "@jupyter-widgets/base",
      "_model_module_version": "1.2.0",
      "_model_name": "LayoutModel",
      "_view_count": null,
      "_view_module": "@jupyter-widgets/base",
      "_view_module_version": "1.2.0",
      "_view_name": "LayoutView",
      "align_content": null,
      "align_items": null,
      "align_self": null,
      "border": null,
      "bottom": null,
      "display": null,
      "flex": null,
      "flex_flow": null,
      "grid_area": null,
      "grid_auto_columns": null,
      "grid_auto_flow": null,
      "grid_auto_rows": null,
      "grid_column": null,
      "grid_gap": null,
      "grid_row": null,
      "grid_template_areas": null,
      "grid_template_columns": null,
      "grid_template_rows": null,
      "height": null,
      "justify_content": null,
      "justify_items": null,
      "left": null,
      "margin": null,
      "max_height": null,
      "max_width": null,
      "min_height": null,
      "min_width": null,
      "object_fit": null,
      "object_position": null,
      "order": null,
      "overflow": null,
      "overflow_x": null,
      "overflow_y": null,
      "padding": null,
      "right": null,
      "top": null,
      "visibility": null,
      "width": null
     }
    },
    "6ae10d702df941df9d0be1398839714d": {
     "model_module": "@jupyter-widgets/controls",
     "model_module_version": "1.5.0",
     "model_name": "HTMLModel",
     "state": {
      "_dom_classes": [],
      "_model_module": "@jupyter-widgets/controls",
      "_model_module_version": "1.5.0",
      "_model_name": "HTMLModel",
      "_view_count": null,
      "_view_module": "@jupyter-widgets/controls",
      "_view_module_version": "1.5.0",
      "_view_name": "HTMLView",
      "description": "",
      "description_tooltip": null,
      "layout": "IPY_MODEL_184494ae8e814f5fabb56f4483699f80",
      "placeholder": "​",
      "style": "IPY_MODEL_668406cfcd864c8f98f289dcab193736",
      "value": " 667/667 [00:00&lt;00:00, 1895.67 examples/s]"
     }
    },
    "6c0455db525d4dba88c97e76ed7bcc8d": {
     "model_module": "@jupyter-widgets/controls",
     "model_module_version": "1.5.0",
     "model_name": "HTMLModel",
     "state": {
      "_dom_classes": [],
      "_model_module": "@jupyter-widgets/controls",
      "_model_module_version": "1.5.0",
      "_model_name": "HTMLModel",
      "_view_count": null,
      "_view_module": "@jupyter-widgets/controls",
      "_view_module_version": "1.5.0",
      "_view_name": "HTMLView",
      "description": "",
      "description_tooltip": null,
      "layout": "IPY_MODEL_6aa2143fb6be4b738851139c51b5d777",
      "placeholder": "​",
      "style": "IPY_MODEL_57792a600ba742519f3fe86cfd4ed100",
      "value": "Map: 100%"
     }
    },
    "6c6f5068ed9342ca8aa5aca0d21c5764": {
     "model_module": "@jupyter-widgets/controls",
     "model_module_version": "1.5.0",
     "model_name": "HTMLModel",
     "state": {
      "_dom_classes": [],
      "_model_module": "@jupyter-widgets/controls",
      "_model_module_version": "1.5.0",
      "_model_name": "HTMLModel",
      "_view_count": null,
      "_view_module": "@jupyter-widgets/controls",
      "_view_module_version": "1.5.0",
      "_view_name": "HTMLView",
      "description": "",
      "description_tooltip": null,
      "layout": "IPY_MODEL_eeb3ef656bed43428ae07743a942ea76",
      "placeholder": "​",
      "style": "IPY_MODEL_c072bfdb951247558ee354f4197be3e3",
      "value": " 206/206 [00:00&lt;00:00, 2702.96 examples/s]"
     }
    },
    "6e2aba3b7fee42fc8b1d2ecf1070cacc": {
     "model_module": "@jupyter-widgets/controls",
     "model_module_version": "1.5.0",
     "model_name": "HTMLModel",
     "state": {
      "_dom_classes": [],
      "_model_module": "@jupyter-widgets/controls",
      "_model_module_version": "1.5.0",
      "_model_name": "HTMLModel",
      "_view_count": null,
      "_view_module": "@jupyter-widgets/controls",
      "_view_module_version": "1.5.0",
      "_view_name": "HTMLView",
      "description": "",
      "description_tooltip": null,
      "layout": "IPY_MODEL_0506872a33144d67acc5b9819a30397c",
      "placeholder": "​",
      "style": "IPY_MODEL_5481f0d48c9945d2b44ed23e0869f382",
      "value": " 299/299 [00:00&lt;00:00, 2387.72 examples/s]"
     }
    },
    "73881247554f44f791a1eb75eeab5a7c": {
     "model_module": "@jupyter-widgets/base",
     "model_module_version": "1.2.0",
     "model_name": "LayoutModel",
     "state": {
      "_model_module": "@jupyter-widgets/base",
      "_model_module_version": "1.2.0",
      "_model_name": "LayoutModel",
      "_view_count": null,
      "_view_module": "@jupyter-widgets/base",
      "_view_module_version": "1.2.0",
      "_view_name": "LayoutView",
      "align_content": null,
      "align_items": null,
      "align_self": null,
      "border": null,
      "bottom": null,
      "display": null,
      "flex": null,
      "flex_flow": null,
      "grid_area": null,
      "grid_auto_columns": null,
      "grid_auto_flow": null,
      "grid_auto_rows": null,
      "grid_column": null,
      "grid_gap": null,
      "grid_row": null,
      "grid_template_areas": null,
      "grid_template_columns": null,
      "grid_template_rows": null,
      "height": null,
      "justify_content": null,
      "justify_items": null,
      "left": null,
      "margin": null,
      "max_height": null,
      "max_width": null,
      "min_height": null,
      "min_width": null,
      "object_fit": null,
      "object_position": null,
      "order": null,
      "overflow": null,
      "overflow_x": null,
      "overflow_y": null,
      "padding": null,
      "right": null,
      "top": null,
      "visibility": null,
      "width": null
     }
    },
    "77567919655446ec98e6ac9caef34c7d": {
     "model_module": "@jupyter-widgets/controls",
     "model_module_version": "1.5.0",
     "model_name": "HBoxModel",
     "state": {
      "_dom_classes": [],
      "_model_module": "@jupyter-widgets/controls",
      "_model_module_version": "1.5.0",
      "_model_name": "HBoxModel",
      "_view_count": null,
      "_view_module": "@jupyter-widgets/controls",
      "_view_module_version": "1.5.0",
      "_view_name": "HBoxView",
      "box_style": "",
      "children": [
       "IPY_MODEL_8c554734b7244157951b357a99829e35",
       "IPY_MODEL_8d5871db9bd147ccb597fd9ce484bf83",
       "IPY_MODEL_02464f7a14054d6c955baaa068088dc3"
      ],
      "layout": "IPY_MODEL_182af86c27ec44808451d1b2e8f54a10"
     }
    },
    "794602ff07a64a87a09efa26f8eb7842": {
     "model_module": "@jupyter-widgets/controls",
     "model_module_version": "1.5.0",
     "model_name": "ProgressStyleModel",
     "state": {
      "_model_module": "@jupyter-widgets/controls",
      "_model_module_version": "1.5.0",
      "_model_name": "ProgressStyleModel",
      "_view_count": null,
      "_view_module": "@jupyter-widgets/base",
      "_view_module_version": "1.2.0",
      "_view_name": "StyleView",
      "bar_color": null,
      "description_width": ""
     }
    },
    "7c2d36394a8c49c1b793be37df636503": {
     "model_module": "@jupyter-widgets/base",
     "model_module_version": "1.2.0",
     "model_name": "LayoutModel",
     "state": {
      "_model_module": "@jupyter-widgets/base",
      "_model_module_version": "1.2.0",
      "_model_name": "LayoutModel",
      "_view_count": null,
      "_view_module": "@jupyter-widgets/base",
      "_view_module_version": "1.2.0",
      "_view_name": "LayoutView",
      "align_content": null,
      "align_items": null,
      "align_self": null,
      "border": null,
      "bottom": null,
      "display": null,
      "flex": null,
      "flex_flow": null,
      "grid_area": null,
      "grid_auto_columns": null,
      "grid_auto_flow": null,
      "grid_auto_rows": null,
      "grid_column": null,
      "grid_gap": null,
      "grid_row": null,
      "grid_template_areas": null,
      "grid_template_columns": null,
      "grid_template_rows": null,
      "height": null,
      "justify_content": null,
      "justify_items": null,
      "left": null,
      "margin": null,
      "max_height": null,
      "max_width": null,
      "min_height": null,
      "min_width": null,
      "object_fit": null,
      "object_position": null,
      "order": null,
      "overflow": null,
      "overflow_x": null,
      "overflow_y": null,
      "padding": null,
      "right": null,
      "top": null,
      "visibility": null,
      "width": null
     }
    },
    "7c4471d4cc854902b742714066b1dbcb": {
     "model_module": "@jupyter-widgets/controls",
     "model_module_version": "1.5.0",
     "model_name": "HTMLModel",
     "state": {
      "_dom_classes": [],
      "_model_module": "@jupyter-widgets/controls",
      "_model_module_version": "1.5.0",
      "_model_name": "HTMLModel",
      "_view_count": null,
      "_view_module": "@jupyter-widgets/controls",
      "_view_module_version": "1.5.0",
      "_view_name": "HTMLView",
      "description": "",
      "description_tooltip": null,
      "layout": "IPY_MODEL_39049a819bf44e5dbb848d898abaf0c7",
      "placeholder": "​",
      "style": "IPY_MODEL_0d3dd472448540a0a0f9cf36a0556426",
      "value": "model.safetensors: 100%"
     }
    },
    "7dad52098e4b42f3b5df0b3892599bf8": {
     "model_module": "@jupyter-widgets/base",
     "model_module_version": "1.2.0",
     "model_name": "LayoutModel",
     "state": {
      "_model_module": "@jupyter-widgets/base",
      "_model_module_version": "1.2.0",
      "_model_name": "LayoutModel",
      "_view_count": null,
      "_view_module": "@jupyter-widgets/base",
      "_view_module_version": "1.2.0",
      "_view_name": "LayoutView",
      "align_content": null,
      "align_items": null,
      "align_self": null,
      "border": null,
      "bottom": null,
      "display": null,
      "flex": null,
      "flex_flow": null,
      "grid_area": null,
      "grid_auto_columns": null,
      "grid_auto_flow": null,
      "grid_auto_rows": null,
      "grid_column": null,
      "grid_gap": null,
      "grid_row": null,
      "grid_template_areas": null,
      "grid_template_columns": null,
      "grid_template_rows": null,
      "height": null,
      "justify_content": null,
      "justify_items": null,
      "left": null,
      "margin": null,
      "max_height": null,
      "max_width": null,
      "min_height": null,
      "min_width": null,
      "object_fit": null,
      "object_position": null,
      "order": null,
      "overflow": null,
      "overflow_x": null,
      "overflow_y": null,
      "padding": null,
      "right": null,
      "top": null,
      "visibility": null,
      "width": null
     }
    },
    "8021e1ce6ae94672a897fe3f34b4008e": {
     "model_module": "@jupyter-widgets/controls",
     "model_module_version": "1.5.0",
     "model_name": "DescriptionStyleModel",
     "state": {
      "_model_module": "@jupyter-widgets/controls",
      "_model_module_version": "1.5.0",
      "_model_name": "DescriptionStyleModel",
      "_view_count": null,
      "_view_module": "@jupyter-widgets/base",
      "_view_module_version": "1.2.0",
      "_view_name": "StyleView",
      "description_width": ""
     }
    },
    "8053de83b6f746d1a2441b8b6cb9596c": {
     "model_module": "@jupyter-widgets/base",
     "model_module_version": "1.2.0",
     "model_name": "LayoutModel",
     "state": {
      "_model_module": "@jupyter-widgets/base",
      "_model_module_version": "1.2.0",
      "_model_name": "LayoutModel",
      "_view_count": null,
      "_view_module": "@jupyter-widgets/base",
      "_view_module_version": "1.2.0",
      "_view_name": "LayoutView",
      "align_content": null,
      "align_items": null,
      "align_self": null,
      "border": null,
      "bottom": null,
      "display": null,
      "flex": null,
      "flex_flow": null,
      "grid_area": null,
      "grid_auto_columns": null,
      "grid_auto_flow": null,
      "grid_auto_rows": null,
      "grid_column": null,
      "grid_gap": null,
      "grid_row": null,
      "grid_template_areas": null,
      "grid_template_columns": null,
      "grid_template_rows": null,
      "height": null,
      "justify_content": null,
      "justify_items": null,
      "left": null,
      "margin": null,
      "max_height": null,
      "max_width": null,
      "min_height": null,
      "min_width": null,
      "object_fit": null,
      "object_position": null,
      "order": null,
      "overflow": null,
      "overflow_x": null,
      "overflow_y": null,
      "padding": null,
      "right": null,
      "top": null,
      "visibility": null,
      "width": null
     }
    },
    "85001b7fca914ee1bafc90f72798430e": {
     "model_module": "@jupyter-widgets/controls",
     "model_module_version": "1.5.0",
     "model_name": "FloatProgressModel",
     "state": {
      "_dom_classes": [],
      "_model_module": "@jupyter-widgets/controls",
      "_model_module_version": "1.5.0",
      "_model_name": "FloatProgressModel",
      "_view_count": null,
      "_view_module": "@jupyter-widgets/controls",
      "_view_module_version": "1.5.0",
      "_view_name": "ProgressView",
      "bar_style": "success",
      "description": "",
      "description_tooltip": null,
      "layout": "IPY_MODEL_59f71c758d8348b4a1d3bc795fc7a6a8",
      "max": 5069051,
      "min": 0,
      "orientation": "horizontal",
      "style": "IPY_MODEL_ed9a96e810354799bbca8904fb24c406",
      "value": 5069051
     }
    },
    "863b22b83c22493d9c883b579f5cd8a4": {
     "model_module": "@jupyter-widgets/controls",
     "model_module_version": "1.5.0",
     "model_name": "DescriptionStyleModel",
     "state": {
      "_model_module": "@jupyter-widgets/controls",
      "_model_module_version": "1.5.0",
      "_model_name": "DescriptionStyleModel",
      "_view_count": null,
      "_view_module": "@jupyter-widgets/base",
      "_view_module_version": "1.2.0",
      "_view_name": "StyleView",
      "description_width": ""
     }
    },
    "86e8afc11b8642bdb6ac90c985bc827d": {
     "model_module": "@jupyter-widgets/controls",
     "model_module_version": "1.5.0",
     "model_name": "HTMLModel",
     "state": {
      "_dom_classes": [],
      "_model_module": "@jupyter-widgets/controls",
      "_model_module_version": "1.5.0",
      "_model_name": "HTMLModel",
      "_view_count": null,
      "_view_module": "@jupyter-widgets/controls",
      "_view_module_version": "1.5.0",
      "_view_name": "HTMLView",
      "description": "",
      "description_tooltip": null,
      "layout": "IPY_MODEL_5da0d70c4b71400b929a6e98e741b814",
      "placeholder": "​",
      "style": "IPY_MODEL_274738377c514f85909439c6ec8c101c",
      "value": " 1.12G/1.12G [00:05&lt;00:00, 225MB/s]"
     }
    },
    "87be4ee03e4048ecb8226a92f8c8256d": {
     "model_module": "@jupyter-widgets/base",
     "model_module_version": "1.2.0",
     "model_name": "LayoutModel",
     "state": {
      "_model_module": "@jupyter-widgets/base",
      "_model_module_version": "1.2.0",
      "_model_name": "LayoutModel",
      "_view_count": null,
      "_view_module": "@jupyter-widgets/base",
      "_view_module_version": "1.2.0",
      "_view_name": "LayoutView",
      "align_content": null,
      "align_items": null,
      "align_self": null,
      "border": null,
      "bottom": null,
      "display": null,
      "flex": null,
      "flex_flow": null,
      "grid_area": null,
      "grid_auto_columns": null,
      "grid_auto_flow": null,
      "grid_auto_rows": null,
      "grid_column": null,
      "grid_gap": null,
      "grid_row": null,
      "grid_template_areas": null,
      "grid_template_columns": null,
      "grid_template_rows": null,
      "height": null,
      "justify_content": null,
      "justify_items": null,
      "left": null,
      "margin": null,
      "max_height": null,
      "max_width": null,
      "min_height": null,
      "min_width": null,
      "object_fit": null,
      "object_position": null,
      "order": null,
      "overflow": null,
      "overflow_x": null,
      "overflow_y": null,
      "padding": null,
      "right": null,
      "top": null,
      "visibility": null,
      "width": null
     }
    },
    "8a4a978bd03b48adb3d6b3fb12130cbe": {
     "model_module": "@jupyter-widgets/controls",
     "model_module_version": "1.5.0",
     "model_name": "DescriptionStyleModel",
     "state": {
      "_model_module": "@jupyter-widgets/controls",
      "_model_module_version": "1.5.0",
      "_model_name": "DescriptionStyleModel",
      "_view_count": null,
      "_view_module": "@jupyter-widgets/base",
      "_view_module_version": "1.2.0",
      "_view_name": "StyleView",
      "description_width": ""
     }
    },
    "8a9191d271f4426b9e79debb341c90ae": {
     "model_module": "@jupyter-widgets/controls",
     "model_module_version": "1.5.0",
     "model_name": "ProgressStyleModel",
     "state": {
      "_model_module": "@jupyter-widgets/controls",
      "_model_module_version": "1.5.0",
      "_model_name": "ProgressStyleModel",
      "_view_count": null,
      "_view_module": "@jupyter-widgets/base",
      "_view_module_version": "1.2.0",
      "_view_name": "StyleView",
      "bar_color": null,
      "description_width": ""
     }
    },
    "8baf04012e654546b2fd144a344be1bf": {
     "model_module": "@jupyter-widgets/base",
     "model_module_version": "1.2.0",
     "model_name": "LayoutModel",
     "state": {
      "_model_module": "@jupyter-widgets/base",
      "_model_module_version": "1.2.0",
      "_model_name": "LayoutModel",
      "_view_count": null,
      "_view_module": "@jupyter-widgets/base",
      "_view_module_version": "1.2.0",
      "_view_name": "LayoutView",
      "align_content": null,
      "align_items": null,
      "align_self": null,
      "border": null,
      "bottom": null,
      "display": null,
      "flex": null,
      "flex_flow": null,
      "grid_area": null,
      "grid_auto_columns": null,
      "grid_auto_flow": null,
      "grid_auto_rows": null,
      "grid_column": null,
      "grid_gap": null,
      "grid_row": null,
      "grid_template_areas": null,
      "grid_template_columns": null,
      "grid_template_rows": null,
      "height": null,
      "justify_content": null,
      "justify_items": null,
      "left": null,
      "margin": null,
      "max_height": null,
      "max_width": null,
      "min_height": null,
      "min_width": null,
      "object_fit": null,
      "object_position": null,
      "order": null,
      "overflow": null,
      "overflow_x": null,
      "overflow_y": null,
      "padding": null,
      "right": null,
      "top": null,
      "visibility": null,
      "width": null
     }
    },
    "8c554734b7244157951b357a99829e35": {
     "model_module": "@jupyter-widgets/controls",
     "model_module_version": "1.5.0",
     "model_name": "HTMLModel",
     "state": {
      "_dom_classes": [],
      "_model_module": "@jupyter-widgets/controls",
      "_model_module_version": "1.5.0",
      "_model_name": "HTMLModel",
      "_view_count": null,
      "_view_module": "@jupyter-widgets/controls",
      "_view_module_version": "1.5.0",
      "_view_name": "HTMLView",
      "description": "",
      "description_tooltip": null,
      "layout": "IPY_MODEL_4c2f41d046704540a8e8a7887d558d79",
      "placeholder": "​",
      "style": "IPY_MODEL_493fa219bffb4226bdf4f880fa864a01",
      "value": "Map: 100%"
     }
    },
    "8c9b159e6e764a3f8f4076e63bcf4d23": {
     "model_module": "@jupyter-widgets/base",
     "model_module_version": "1.2.0",
     "model_name": "LayoutModel",
     "state": {
      "_model_module": "@jupyter-widgets/base",
      "_model_module_version": "1.2.0",
      "_model_name": "LayoutModel",
      "_view_count": null,
      "_view_module": "@jupyter-widgets/base",
      "_view_module_version": "1.2.0",
      "_view_name": "LayoutView",
      "align_content": null,
      "align_items": null,
      "align_self": null,
      "border": null,
      "bottom": null,
      "display": null,
      "flex": null,
      "flex_flow": null,
      "grid_area": null,
      "grid_auto_columns": null,
      "grid_auto_flow": null,
      "grid_auto_rows": null,
      "grid_column": null,
      "grid_gap": null,
      "grid_row": null,
      "grid_template_areas": null,
      "grid_template_columns": null,
      "grid_template_rows": null,
      "height": null,
      "justify_content": null,
      "justify_items": null,
      "left": null,
      "margin": null,
      "max_height": null,
      "max_width": null,
      "min_height": null,
      "min_width": null,
      "object_fit": null,
      "object_position": null,
      "order": null,
      "overflow": null,
      "overflow_x": null,
      "overflow_y": null,
      "padding": null,
      "right": null,
      "top": null,
      "visibility": null,
      "width": null
     }
    },
    "8cc0e7cef2d94acbaf2d8624a68e347f": {
     "model_module": "@jupyter-widgets/controls",
     "model_module_version": "1.5.0",
     "model_name": "FloatProgressModel",
     "state": {
      "_dom_classes": [],
      "_model_module": "@jupyter-widgets/controls",
      "_model_module_version": "1.5.0",
      "_model_name": "FloatProgressModel",
      "_view_count": null,
      "_view_module": "@jupyter-widgets/controls",
      "_view_module_version": "1.5.0",
      "_view_name": "ProgressView",
      "bar_style": "success",
      "description": "",
      "description_tooltip": null,
      "layout": "IPY_MODEL_b91b9b06e0a049be84ad7c25644f5a0e",
      "max": 830,
      "min": 0,
      "orientation": "horizontal",
      "style": "IPY_MODEL_9d48a715ffd048c08d7984ac989d1ad5",
      "value": 830
     }
    },
    "8d5871db9bd147ccb597fd9ce484bf83": {
     "model_module": "@jupyter-widgets/controls",
     "model_module_version": "1.5.0",
     "model_name": "FloatProgressModel",
     "state": {
      "_dom_classes": [],
      "_model_module": "@jupyter-widgets/controls",
      "_model_module_version": "1.5.0",
      "_model_name": "FloatProgressModel",
      "_view_count": null,
      "_view_module": "@jupyter-widgets/controls",
      "_view_module_version": "1.5.0",
      "_view_name": "ProgressView",
      "bar_style": "success",
      "description": "",
      "description_tooltip": null,
      "layout": "IPY_MODEL_bf688d1d557b48cda702c9ab9bae108b",
      "max": 6380,
      "min": 0,
      "orientation": "horizontal",
      "style": "IPY_MODEL_54b6292a951d490faffd07d0f44cdfed",
      "value": 6380
     }
    },
    "8e0c2490721444eca4f7186ca499c382": {
     "model_module": "@jupyter-widgets/base",
     "model_module_version": "1.2.0",
     "model_name": "LayoutModel",
     "state": {
      "_model_module": "@jupyter-widgets/base",
      "_model_module_version": "1.2.0",
      "_model_name": "LayoutModel",
      "_view_count": null,
      "_view_module": "@jupyter-widgets/base",
      "_view_module_version": "1.2.0",
      "_view_name": "LayoutView",
      "align_content": null,
      "align_items": null,
      "align_self": null,
      "border": null,
      "bottom": null,
      "display": null,
      "flex": null,
      "flex_flow": null,
      "grid_area": null,
      "grid_auto_columns": null,
      "grid_auto_flow": null,
      "grid_auto_rows": null,
      "grid_column": null,
      "grid_gap": null,
      "grid_row": null,
      "grid_template_areas": null,
      "grid_template_columns": null,
      "grid_template_rows": null,
      "height": null,
      "justify_content": null,
      "justify_items": null,
      "left": null,
      "margin": null,
      "max_height": null,
      "max_width": null,
      "min_height": null,
      "min_width": null,
      "object_fit": null,
      "object_position": null,
      "order": null,
      "overflow": null,
      "overflow_x": null,
      "overflow_y": null,
      "padding": null,
      "right": null,
      "top": null,
      "visibility": null,
      "width": null
     }
    },
    "8e5f0c0c3af649eeb61e306ef88b1d27": {
     "model_module": "@jupyter-widgets/controls",
     "model_module_version": "1.5.0",
     "model_name": "HBoxModel",
     "state": {
      "_dom_classes": [],
      "_model_module": "@jupyter-widgets/controls",
      "_model_module_version": "1.5.0",
      "_model_name": "HBoxModel",
      "_view_count": null,
      "_view_module": "@jupyter-widgets/controls",
      "_view_module_version": "1.5.0",
      "_view_name": "HBoxView",
      "box_style": "",
      "children": [
       "IPY_MODEL_136193e17b344f50bb2d21fd669cfe87",
       "IPY_MODEL_1f01c698cd964762b70c3686e4255ac9",
       "IPY_MODEL_4f83bab5b836409db048272dcd08590c"
      ],
      "layout": "IPY_MODEL_58d8fcb98175439a91972599296efe81"
     }
    },
    "913d6e15cda946f2bd92c9bb1475de1c": {
     "model_module": "@jupyter-widgets/controls",
     "model_module_version": "1.5.0",
     "model_name": "FloatProgressModel",
     "state": {
      "_dom_classes": [],
      "_model_module": "@jupyter-widgets/controls",
      "_model_module_version": "1.5.0",
      "_model_name": "FloatProgressModel",
      "_view_count": null,
      "_view_module": "@jupyter-widgets/controls",
      "_view_module_version": "1.5.0",
      "_view_name": "ProgressView",
      "bar_style": "success",
      "description": "",
      "description_tooltip": null,
      "layout": "IPY_MODEL_329bf6965a0a41fd8af9d01f4f3d8f4b",
      "max": 2393,
      "min": 0,
      "orientation": "horizontal",
      "style": "IPY_MODEL_9ed5628fba9f40d3ae75f17d4333f281",
      "value": 2393
     }
    },
    "92309212379c4c069ec3af5704141c98": {
     "model_module": "@jupyter-widgets/controls",
     "model_module_version": "1.5.0",
     "model_name": "DescriptionStyleModel",
     "state": {
      "_model_module": "@jupyter-widgets/controls",
      "_model_module_version": "1.5.0",
      "_model_name": "DescriptionStyleModel",
      "_view_count": null,
      "_view_module": "@jupyter-widgets/base",
      "_view_module_version": "1.2.0",
      "_view_name": "StyleView",
      "description_width": ""
     }
    },
    "9311bb2602854ad2bb6e85eb7dcf7468": {
     "model_module": "@jupyter-widgets/base",
     "model_module_version": "1.2.0",
     "model_name": "LayoutModel",
     "state": {
      "_model_module": "@jupyter-widgets/base",
      "_model_module_version": "1.2.0",
      "_model_name": "LayoutModel",
      "_view_count": null,
      "_view_module": "@jupyter-widgets/base",
      "_view_module_version": "1.2.0",
      "_view_name": "LayoutView",
      "align_content": null,
      "align_items": null,
      "align_self": null,
      "border": null,
      "bottom": null,
      "display": null,
      "flex": null,
      "flex_flow": null,
      "grid_area": null,
      "grid_auto_columns": null,
      "grid_auto_flow": null,
      "grid_auto_rows": null,
      "grid_column": null,
      "grid_gap": null,
      "grid_row": null,
      "grid_template_areas": null,
      "grid_template_columns": null,
      "grid_template_rows": null,
      "height": null,
      "justify_content": null,
      "justify_items": null,
      "left": null,
      "margin": null,
      "max_height": null,
      "max_width": null,
      "min_height": null,
      "min_width": null,
      "object_fit": null,
      "object_position": null,
      "order": null,
      "overflow": null,
      "overflow_x": null,
      "overflow_y": null,
      "padding": null,
      "right": null,
      "top": null,
      "visibility": null,
      "width": null
     }
    },
    "93dacdedd712453aa0904ad557e68ac9": {
     "model_module": "@jupyter-widgets/controls",
     "model_module_version": "1.5.0",
     "model_name": "ProgressStyleModel",
     "state": {
      "_model_module": "@jupyter-widgets/controls",
      "_model_module_version": "1.5.0",
      "_model_name": "ProgressStyleModel",
      "_view_count": null,
      "_view_module": "@jupyter-widgets/base",
      "_view_module_version": "1.2.0",
      "_view_name": "StyleView",
      "bar_color": null,
      "description_width": ""
     }
    },
    "9464a60778d94158849f78d9e2ab5b85": {
     "model_module": "@jupyter-widgets/controls",
     "model_module_version": "1.5.0",
     "model_name": "DescriptionStyleModel",
     "state": {
      "_model_module": "@jupyter-widgets/controls",
      "_model_module_version": "1.5.0",
      "_model_name": "DescriptionStyleModel",
      "_view_count": null,
      "_view_module": "@jupyter-widgets/base",
      "_view_module_version": "1.2.0",
      "_view_name": "StyleView",
      "description_width": ""
     }
    },
    "94fa2d1e8b2f44db89c98f47a37e5f04": {
     "model_module": "@jupyter-widgets/controls",
     "model_module_version": "1.5.0",
     "model_name": "DescriptionStyleModel",
     "state": {
      "_model_module": "@jupyter-widgets/controls",
      "_model_module_version": "1.5.0",
      "_model_name": "DescriptionStyleModel",
      "_view_count": null,
      "_view_module": "@jupyter-widgets/base",
      "_view_module_version": "1.2.0",
      "_view_name": "StyleView",
      "description_width": ""
     }
    },
    "96c99842ae0a4ab19bb7675e12e90ee1": {
     "model_module": "@jupyter-widgets/controls",
     "model_module_version": "1.5.0",
     "model_name": "HTMLModel",
     "state": {
      "_dom_classes": [],
      "_model_module": "@jupyter-widgets/controls",
      "_model_module_version": "1.5.0",
      "_model_name": "HTMLModel",
      "_view_count": null,
      "_view_module": "@jupyter-widgets/controls",
      "_view_module_version": "1.5.0",
      "_view_name": "HTMLView",
      "description": "",
      "description_tooltip": null,
      "layout": "IPY_MODEL_26b034b829e04a5481fb5dac2d018909",
      "placeholder": "​",
      "style": "IPY_MODEL_5de57e22141e483c97542bda39c7c46c",
      "value": " 6.79k/6.79k [00:00&lt;00:00, 340kB/s]"
     }
    },
    "98ead2a23be44158aae09dd223690ee4": {
     "model_module": "@jupyter-widgets/controls",
     "model_module_version": "1.5.0",
     "model_name": "HBoxModel",
     "state": {
      "_dom_classes": [],
      "_model_module": "@jupyter-widgets/controls",
      "_model_module_version": "1.5.0",
      "_model_name": "HBoxModel",
      "_view_count": null,
      "_view_module": "@jupyter-widgets/controls",
      "_view_module_version": "1.5.0",
      "_view_name": "HBoxView",
      "box_style": "",
      "children": [
       "IPY_MODEL_cf4e827eb9304aa5b497becc491cdd0a",
       "IPY_MODEL_e0fc5067f1ed4c2f9d395b9471419cfa",
       "IPY_MODEL_50e2cc2cd15a47f3aff8cf1ba2a822e5"
      ],
      "layout": "IPY_MODEL_a341925de57e48f48aeca535e160c19f"
     }
    },
    "9d0bfc37330f4aa5b763ef71086e85e1": {
     "model_module": "@jupyter-widgets/base",
     "model_module_version": "1.2.0",
     "model_name": "LayoutModel",
     "state": {
      "_model_module": "@jupyter-widgets/base",
      "_model_module_version": "1.2.0",
      "_model_name": "LayoutModel",
      "_view_count": null,
      "_view_module": "@jupyter-widgets/base",
      "_view_module_version": "1.2.0",
      "_view_name": "LayoutView",
      "align_content": null,
      "align_items": null,
      "align_self": null,
      "border": null,
      "bottom": null,
      "display": null,
      "flex": null,
      "flex_flow": null,
      "grid_area": null,
      "grid_auto_columns": null,
      "grid_auto_flow": null,
      "grid_auto_rows": null,
      "grid_column": null,
      "grid_gap": null,
      "grid_row": null,
      "grid_template_areas": null,
      "grid_template_columns": null,
      "grid_template_rows": null,
      "height": null,
      "justify_content": null,
      "justify_items": null,
      "left": null,
      "margin": null,
      "max_height": null,
      "max_width": null,
      "min_height": null,
      "min_width": null,
      "object_fit": null,
      "object_position": null,
      "order": null,
      "overflow": null,
      "overflow_x": null,
      "overflow_y": null,
      "padding": null,
      "right": null,
      "top": null,
      "visibility": null,
      "width": null
     }
    },
    "9d48a715ffd048c08d7984ac989d1ad5": {
     "model_module": "@jupyter-widgets/controls",
     "model_module_version": "1.5.0",
     "model_name": "ProgressStyleModel",
     "state": {
      "_model_module": "@jupyter-widgets/controls",
      "_model_module_version": "1.5.0",
      "_model_name": "ProgressStyleModel",
      "_view_count": null,
      "_view_module": "@jupyter-widgets/base",
      "_view_module_version": "1.2.0",
      "_view_name": "StyleView",
      "bar_color": null,
      "description_width": ""
     }
    },
    "9ed5628fba9f40d3ae75f17d4333f281": {
     "model_module": "@jupyter-widgets/controls",
     "model_module_version": "1.5.0",
     "model_name": "ProgressStyleModel",
     "state": {
      "_model_module": "@jupyter-widgets/controls",
      "_model_module_version": "1.5.0",
      "_model_name": "ProgressStyleModel",
      "_view_count": null,
      "_view_module": "@jupyter-widgets/base",
      "_view_module_version": "1.2.0",
      "_view_name": "StyleView",
      "bar_color": null,
      "description_width": ""
     }
    },
    "a0ed9769ffee4cfe84577cbd185f11ac": {
     "model_module": "@jupyter-widgets/controls",
     "model_module_version": "1.5.0",
     "model_name": "DescriptionStyleModel",
     "state": {
      "_model_module": "@jupyter-widgets/controls",
      "_model_module_version": "1.5.0",
      "_model_name": "DescriptionStyleModel",
      "_view_count": null,
      "_view_module": "@jupyter-widgets/base",
      "_view_module_version": "1.2.0",
      "_view_name": "StyleView",
      "description_width": ""
     }
    },
    "a1c941a602164277943cb5ab7689ebc5": {
     "model_module": "@jupyter-widgets/base",
     "model_module_version": "1.2.0",
     "model_name": "LayoutModel",
     "state": {
      "_model_module": "@jupyter-widgets/base",
      "_model_module_version": "1.2.0",
      "_model_name": "LayoutModel",
      "_view_count": null,
      "_view_module": "@jupyter-widgets/base",
      "_view_module_version": "1.2.0",
      "_view_name": "LayoutView",
      "align_content": null,
      "align_items": null,
      "align_self": null,
      "border": null,
      "bottom": null,
      "display": null,
      "flex": null,
      "flex_flow": null,
      "grid_area": null,
      "grid_auto_columns": null,
      "grid_auto_flow": null,
      "grid_auto_rows": null,
      "grid_column": null,
      "grid_gap": null,
      "grid_row": null,
      "grid_template_areas": null,
      "grid_template_columns": null,
      "grid_template_rows": null,
      "height": null,
      "justify_content": null,
      "justify_items": null,
      "left": null,
      "margin": null,
      "max_height": null,
      "max_width": null,
      "min_height": null,
      "min_width": null,
      "object_fit": null,
      "object_position": null,
      "order": null,
      "overflow": null,
      "overflow_x": null,
      "overflow_y": null,
      "padding": null,
      "right": null,
      "top": null,
      "visibility": null,
      "width": null
     }
    },
    "a2dbf899e8b84928abf69b67eb15a2b5": {
     "model_module": "@jupyter-widgets/base",
     "model_module_version": "1.2.0",
     "model_name": "LayoutModel",
     "state": {
      "_model_module": "@jupyter-widgets/base",
      "_model_module_version": "1.2.0",
      "_model_name": "LayoutModel",
      "_view_count": null,
      "_view_module": "@jupyter-widgets/base",
      "_view_module_version": "1.2.0",
      "_view_name": "LayoutView",
      "align_content": null,
      "align_items": null,
      "align_self": null,
      "border": null,
      "bottom": null,
      "display": null,
      "flex": null,
      "flex_flow": null,
      "grid_area": null,
      "grid_auto_columns": null,
      "grid_auto_flow": null,
      "grid_auto_rows": null,
      "grid_column": null,
      "grid_gap": null,
      "grid_row": null,
      "grid_template_areas": null,
      "grid_template_columns": null,
      "grid_template_rows": null,
      "height": null,
      "justify_content": null,
      "justify_items": null,
      "left": null,
      "margin": null,
      "max_height": null,
      "max_width": null,
      "min_height": null,
      "min_width": null,
      "object_fit": null,
      "object_position": null,
      "order": null,
      "overflow": null,
      "overflow_x": null,
      "overflow_y": null,
      "padding": null,
      "right": null,
      "top": null,
      "visibility": null,
      "width": null
     }
    },
    "a341925de57e48f48aeca535e160c19f": {
     "model_module": "@jupyter-widgets/base",
     "model_module_version": "1.2.0",
     "model_name": "LayoutModel",
     "state": {
      "_model_module": "@jupyter-widgets/base",
      "_model_module_version": "1.2.0",
      "_model_name": "LayoutModel",
      "_view_count": null,
      "_view_module": "@jupyter-widgets/base",
      "_view_module_version": "1.2.0",
      "_view_name": "LayoutView",
      "align_content": null,
      "align_items": null,
      "align_self": null,
      "border": null,
      "bottom": null,
      "display": null,
      "flex": null,
      "flex_flow": null,
      "grid_area": null,
      "grid_auto_columns": null,
      "grid_auto_flow": null,
      "grid_auto_rows": null,
      "grid_column": null,
      "grid_gap": null,
      "grid_row": null,
      "grid_template_areas": null,
      "grid_template_columns": null,
      "grid_template_rows": null,
      "height": null,
      "justify_content": null,
      "justify_items": null,
      "left": null,
      "margin": null,
      "max_height": null,
      "max_width": null,
      "min_height": null,
      "min_width": null,
      "object_fit": null,
      "object_position": null,
      "order": null,
      "overflow": null,
      "overflow_x": null,
      "overflow_y": null,
      "padding": null,
      "right": null,
      "top": null,
      "visibility": null,
      "width": null
     }
    },
    "a3b99a29a1614bdea5aee18dc7df1eaf": {
     "model_module": "@jupyter-widgets/base",
     "model_module_version": "1.2.0",
     "model_name": "LayoutModel",
     "state": {
      "_model_module": "@jupyter-widgets/base",
      "_model_module_version": "1.2.0",
      "_model_name": "LayoutModel",
      "_view_count": null,
      "_view_module": "@jupyter-widgets/base",
      "_view_module_version": "1.2.0",
      "_view_name": "LayoutView",
      "align_content": null,
      "align_items": null,
      "align_self": null,
      "border": null,
      "bottom": null,
      "display": null,
      "flex": null,
      "flex_flow": null,
      "grid_area": null,
      "grid_auto_columns": null,
      "grid_auto_flow": null,
      "grid_auto_rows": null,
      "grid_column": null,
      "grid_gap": null,
      "grid_row": null,
      "grid_template_areas": null,
      "grid_template_columns": null,
      "grid_template_rows": null,
      "height": null,
      "justify_content": null,
      "justify_items": null,
      "left": null,
      "margin": null,
      "max_height": null,
      "max_width": null,
      "min_height": null,
      "min_width": null,
      "object_fit": null,
      "object_position": null,
      "order": null,
      "overflow": null,
      "overflow_x": null,
      "overflow_y": null,
      "padding": null,
      "right": null,
      "top": null,
      "visibility": null,
      "width": null
     }
    },
    "a3eb9c2d32ca448c98548e1753acf5c7": {
     "model_module": "@jupyter-widgets/controls",
     "model_module_version": "1.5.0",
     "model_name": "HBoxModel",
     "state": {
      "_dom_classes": [],
      "_model_module": "@jupyter-widgets/controls",
      "_model_module_version": "1.5.0",
      "_model_name": "HBoxModel",
      "_view_count": null,
      "_view_module": "@jupyter-widgets/controls",
      "_view_module_version": "1.5.0",
      "_view_name": "HBoxView",
      "box_style": "",
      "children": [
       "IPY_MODEL_e2415a2e3163494cae118289d9afe91f",
       "IPY_MODEL_3d26710196304dc28014d186d56dab0b",
       "IPY_MODEL_a50d71ddc8d144ddbe3a17f2123e19c6"
      ],
      "layout": "IPY_MODEL_0c3cc314548441b3b80c9e712c6f622f"
     }
    },
    "a4b22a7b585f4db3ac31c2822f2c0469": {
     "model_module": "@jupyter-widgets/base",
     "model_module_version": "1.2.0",
     "model_name": "LayoutModel",
     "state": {
      "_model_module": "@jupyter-widgets/base",
      "_model_module_version": "1.2.0",
      "_model_name": "LayoutModel",
      "_view_count": null,
      "_view_module": "@jupyter-widgets/base",
      "_view_module_version": "1.2.0",
      "_view_name": "LayoutView",
      "align_content": null,
      "align_items": null,
      "align_self": null,
      "border": null,
      "bottom": null,
      "display": null,
      "flex": null,
      "flex_flow": null,
      "grid_area": null,
      "grid_auto_columns": null,
      "grid_auto_flow": null,
      "grid_auto_rows": null,
      "grid_column": null,
      "grid_gap": null,
      "grid_row": null,
      "grid_template_areas": null,
      "grid_template_columns": null,
      "grid_template_rows": null,
      "height": null,
      "justify_content": null,
      "justify_items": null,
      "left": null,
      "margin": null,
      "max_height": null,
      "max_width": null,
      "min_height": null,
      "min_width": null,
      "object_fit": null,
      "object_position": null,
      "order": null,
      "overflow": null,
      "overflow_x": null,
      "overflow_y": null,
      "padding": null,
      "right": null,
      "top": null,
      "visibility": null,
      "width": null
     }
    },
    "a50d71ddc8d144ddbe3a17f2123e19c6": {
     "model_module": "@jupyter-widgets/controls",
     "model_module_version": "1.5.0",
     "model_name": "HTMLModel",
     "state": {
      "_dom_classes": [],
      "_model_module": "@jupyter-widgets/controls",
      "_model_module_version": "1.5.0",
      "_model_name": "HTMLModel",
      "_view_count": null,
      "_view_module": "@jupyter-widgets/controls",
      "_view_module_version": "1.5.0",
      "_view_name": "HTMLView",
      "description": "",
      "description_tooltip": null,
      "layout": "IPY_MODEL_f982fbd40ff84106a999a6c89bc79cfe",
      "placeholder": "​",
      "style": "IPY_MODEL_c0890ba1593e44da96f624a8d9ba70d5",
      "value": " 351/351 [00:00&lt;00:00, 3817.65 examples/s]"
     }
    },
    "a5bb2cedc48240d2ac5653ba345e558f": {
     "model_module": "@jupyter-widgets/controls",
     "model_module_version": "1.5.0",
     "model_name": "HTMLModel",
     "state": {
      "_dom_classes": [],
      "_model_module": "@jupyter-widgets/controls",
      "_model_module_version": "1.5.0",
      "_model_name": "HTMLModel",
      "_view_count": null,
      "_view_module": "@jupyter-widgets/controls",
      "_view_module_version": "1.5.0",
      "_view_name": "HTMLView",
      "description": "",
      "description_tooltip": null,
      "layout": "IPY_MODEL_2b5e511772904d98ac2734c26fa736a1",
      "placeholder": "​",
      "style": "IPY_MODEL_863b22b83c22493d9c883b579f5cd8a4",
      "value": " 2393/2393 [00:01&lt;00:00, 2281.75 examples/s]"
     }
    },
    "a6030159cc5d444a8da2c8039df05fdf": {
     "model_module": "@jupyter-widgets/base",
     "model_module_version": "1.2.0",
     "model_name": "LayoutModel",
     "state": {
      "_model_module": "@jupyter-widgets/base",
      "_model_module_version": "1.2.0",
      "_model_name": "LayoutModel",
      "_view_count": null,
      "_view_module": "@jupyter-widgets/base",
      "_view_module_version": "1.2.0",
      "_view_name": "LayoutView",
      "align_content": null,
      "align_items": null,
      "align_self": null,
      "border": null,
      "bottom": null,
      "display": null,
      "flex": null,
      "flex_flow": null,
      "grid_area": null,
      "grid_auto_columns": null,
      "grid_auto_flow": null,
      "grid_auto_rows": null,
      "grid_column": null,
      "grid_gap": null,
      "grid_row": null,
      "grid_template_areas": null,
      "grid_template_columns": null,
      "grid_template_rows": null,
      "height": null,
      "justify_content": null,
      "justify_items": null,
      "left": null,
      "margin": null,
      "max_height": null,
      "max_width": null,
      "min_height": null,
      "min_width": null,
      "object_fit": null,
      "object_position": null,
      "order": null,
      "overflow": null,
      "overflow_x": null,
      "overflow_y": null,
      "padding": null,
      "right": null,
      "top": null,
      "visibility": null,
      "width": null
     }
    },
    "a754378c28af4b6e8012b9ca54ba3c13": {
     "model_module": "@jupyter-widgets/controls",
     "model_module_version": "1.5.0",
     "model_name": "HBoxModel",
     "state": {
      "_dom_classes": [],
      "_model_module": "@jupyter-widgets/controls",
      "_model_module_version": "1.5.0",
      "_model_name": "HBoxModel",
      "_view_count": null,
      "_view_module": "@jupyter-widgets/controls",
      "_view_module_version": "1.5.0",
      "_view_name": "HBoxView",
      "box_style": "",
      "children": [
       "IPY_MODEL_aae06b6c319e4d22a89b355ecf4e0947",
       "IPY_MODEL_5ed3049fda8b4da2bc4b2faa2fc75a41",
       "IPY_MODEL_6e2aba3b7fee42fc8b1d2ecf1070cacc"
      ],
      "layout": "IPY_MODEL_8053de83b6f746d1a2441b8b6cb9596c"
     }
    },
    "a8330ce9f9c54db0835771005f9d1dd6": {
     "model_module": "@jupyter-widgets/base",
     "model_module_version": "1.2.0",
     "model_name": "LayoutModel",
     "state": {
      "_model_module": "@jupyter-widgets/base",
      "_model_module_version": "1.2.0",
      "_model_name": "LayoutModel",
      "_view_count": null,
      "_view_module": "@jupyter-widgets/base",
      "_view_module_version": "1.2.0",
      "_view_name": "LayoutView",
      "align_content": null,
      "align_items": null,
      "align_self": null,
      "border": null,
      "bottom": null,
      "display": null,
      "flex": null,
      "flex_flow": null,
      "grid_area": null,
      "grid_auto_columns": null,
      "grid_auto_flow": null,
      "grid_auto_rows": null,
      "grid_column": null,
      "grid_gap": null,
      "grid_row": null,
      "grid_template_areas": null,
      "grid_template_columns": null,
      "grid_template_rows": null,
      "height": null,
      "justify_content": null,
      "justify_items": null,
      "left": null,
      "margin": null,
      "max_height": null,
      "max_width": null,
      "min_height": null,
      "min_width": null,
      "object_fit": null,
      "object_position": null,
      "order": null,
      "overflow": null,
      "overflow_x": null,
      "overflow_y": null,
      "padding": null,
      "right": null,
      "top": null,
      "visibility": null,
      "width": null
     }
    },
    "a89f450b45934bcfb2688600230e7bf6": {
     "model_module": "@jupyter-widgets/controls",
     "model_module_version": "1.5.0",
     "model_name": "HTMLModel",
     "state": {
      "_dom_classes": [],
      "_model_module": "@jupyter-widgets/controls",
      "_model_module_version": "1.5.0",
      "_model_name": "HTMLModel",
      "_view_count": null,
      "_view_module": "@jupyter-widgets/controls",
      "_view_module_version": "1.5.0",
      "_view_name": "HTMLView",
      "description": "",
      "description_tooltip": null,
      "layout": "IPY_MODEL_d193bc16c3154c308031a60fd839bf16",
      "placeholder": "​",
      "style": "IPY_MODEL_11a018a91ca94e43a27df277f4af1ee8",
      "value": "sentencepiece.bpe.model: 100%"
     }
    },
    "aae06b6c319e4d22a89b355ecf4e0947": {
     "model_module": "@jupyter-widgets/controls",
     "model_module_version": "1.5.0",
     "model_name": "HTMLModel",
     "state": {
      "_dom_classes": [],
      "_model_module": "@jupyter-widgets/controls",
      "_model_module_version": "1.5.0",
      "_model_name": "HTMLModel",
      "_view_count": null,
      "_view_module": "@jupyter-widgets/controls",
      "_view_module_version": "1.5.0",
      "_view_name": "HTMLView",
      "description": "",
      "description_tooltip": null,
      "layout": "IPY_MODEL_87be4ee03e4048ecb8226a92f8c8256d",
      "placeholder": "​",
      "style": "IPY_MODEL_b21a124392b448f6917231c5695bf4e1",
      "value": "Map: 100%"
     }
    },
    "aef61e8d053d4198b98ed1883cb5db3f": {
     "model_module": "@jupyter-widgets/base",
     "model_module_version": "1.2.0",
     "model_name": "LayoutModel",
     "state": {
      "_model_module": "@jupyter-widgets/base",
      "_model_module_version": "1.2.0",
      "_model_name": "LayoutModel",
      "_view_count": null,
      "_view_module": "@jupyter-widgets/base",
      "_view_module_version": "1.2.0",
      "_view_name": "LayoutView",
      "align_content": null,
      "align_items": null,
      "align_self": null,
      "border": null,
      "bottom": null,
      "display": null,
      "flex": null,
      "flex_flow": null,
      "grid_area": null,
      "grid_auto_columns": null,
      "grid_auto_flow": null,
      "grid_auto_rows": null,
      "grid_column": null,
      "grid_gap": null,
      "grid_row": null,
      "grid_template_areas": null,
      "grid_template_columns": null,
      "grid_template_rows": null,
      "height": null,
      "justify_content": null,
      "justify_items": null,
      "left": null,
      "margin": null,
      "max_height": null,
      "max_width": null,
      "min_height": null,
      "min_width": null,
      "object_fit": null,
      "object_position": null,
      "order": null,
      "overflow": null,
      "overflow_x": null,
      "overflow_y": null,
      "padding": null,
      "right": null,
      "top": null,
      "visibility": null,
      "width": null
     }
    },
    "b01044a33694473391dd0278cf29ced7": {
     "model_module": "@jupyter-widgets/controls",
     "model_module_version": "1.5.0",
     "model_name": "HBoxModel",
     "state": {
      "_dom_classes": [],
      "_model_module": "@jupyter-widgets/controls",
      "_model_module_version": "1.5.0",
      "_model_name": "HBoxModel",
      "_view_count": null,
      "_view_module": "@jupyter-widgets/controls",
      "_view_module_version": "1.5.0",
      "_view_name": "HBoxView",
      "box_style": "",
      "children": [
       "IPY_MODEL_7c4471d4cc854902b742714066b1dbcb",
       "IPY_MODEL_d9c1d83268e04d09abb18a008d806cba",
       "IPY_MODEL_86e8afc11b8642bdb6ac90c985bc827d"
      ],
      "layout": "IPY_MODEL_41dc33cd631b433fa5dd082ad0e592f7"
     }
    },
    "b0e7f34430ba415c8246efb6c9c87d63": {
     "model_module": "@jupyter-widgets/base",
     "model_module_version": "1.2.0",
     "model_name": "LayoutModel",
     "state": {
      "_model_module": "@jupyter-widgets/base",
      "_model_module_version": "1.2.0",
      "_model_name": "LayoutModel",
      "_view_count": null,
      "_view_module": "@jupyter-widgets/base",
      "_view_module_version": "1.2.0",
      "_view_name": "LayoutView",
      "align_content": null,
      "align_items": null,
      "align_self": null,
      "border": null,
      "bottom": null,
      "display": null,
      "flex": null,
      "flex_flow": null,
      "grid_area": null,
      "grid_auto_columns": null,
      "grid_auto_flow": null,
      "grid_auto_rows": null,
      "grid_column": null,
      "grid_gap": null,
      "grid_row": null,
      "grid_template_areas": null,
      "grid_template_columns": null,
      "grid_template_rows": null,
      "height": null,
      "justify_content": null,
      "justify_items": null,
      "left": null,
      "margin": null,
      "max_height": null,
      "max_width": null,
      "min_height": null,
      "min_width": null,
      "object_fit": null,
      "object_position": null,
      "order": null,
      "overflow": null,
      "overflow_x": null,
      "overflow_y": null,
      "padding": null,
      "right": null,
      "top": null,
      "visibility": null,
      "width": null
     }
    },
    "b13521261c0e4783a348e5165fdad7f4": {
     "model_module": "@jupyter-widgets/controls",
     "model_module_version": "1.5.0",
     "model_name": "HTMLModel",
     "state": {
      "_dom_classes": [],
      "_model_module": "@jupyter-widgets/controls",
      "_model_module_version": "1.5.0",
      "_model_name": "HTMLModel",
      "_view_count": null,
      "_view_module": "@jupyter-widgets/controls",
      "_view_module_version": "1.5.0",
      "_view_name": "HTMLView",
      "description": "",
      "description_tooltip": null,
      "layout": "IPY_MODEL_0fd500ab38c74c4ab4cbc186faf09000",
      "placeholder": "​",
      "style": "IPY_MODEL_2e55b1209a52463fb31e7b4f5b1096c0",
      "value": " 462/462 [00:00&lt;00:00, 3637.77 examples/s]"
     }
    },
    "b21a124392b448f6917231c5695bf4e1": {
     "model_module": "@jupyter-widgets/controls",
     "model_module_version": "1.5.0",
     "model_name": "DescriptionStyleModel",
     "state": {
      "_model_module": "@jupyter-widgets/controls",
      "_model_module_version": "1.5.0",
      "_model_name": "DescriptionStyleModel",
      "_view_count": null,
      "_view_module": "@jupyter-widgets/base",
      "_view_module_version": "1.2.0",
      "_view_name": "StyleView",
      "description_width": ""
     }
    },
    "b25deeb5633d48c6a67c3d4d464b19a2": {
     "model_module": "@jupyter-widgets/controls",
     "model_module_version": "1.5.0",
     "model_name": "DescriptionStyleModel",
     "state": {
      "_model_module": "@jupyter-widgets/controls",
      "_model_module_version": "1.5.0",
      "_model_name": "DescriptionStyleModel",
      "_view_count": null,
      "_view_module": "@jupyter-widgets/base",
      "_view_module_version": "1.2.0",
      "_view_name": "StyleView",
      "description_width": ""
     }
    },
    "b391315a70934df1a0ba2d5737166556": {
     "model_module": "@jupyter-widgets/controls",
     "model_module_version": "1.5.0",
     "model_name": "HTMLModel",
     "state": {
      "_dom_classes": [],
      "_model_module": "@jupyter-widgets/controls",
      "_model_module_version": "1.5.0",
      "_model_name": "HTMLModel",
      "_view_count": null,
      "_view_module": "@jupyter-widgets/controls",
      "_view_module_version": "1.5.0",
      "_view_name": "HTMLView",
      "description": "",
      "description_tooltip": null,
      "layout": "IPY_MODEL_0e919c9b095d4e6696dcb2ae8baf2942",
      "placeholder": "​",
      "style": "IPY_MODEL_8021e1ce6ae94672a897fe3f34b4008e",
      "value": "tokenizer_config.json: 100%"
     }
    },
    "b3c2371fe1ce4b05a3694e78b4ad3446": {
     "model_module": "@jupyter-widgets/controls",
     "model_module_version": "1.5.0",
     "model_name": "DescriptionStyleModel",
     "state": {
      "_model_module": "@jupyter-widgets/controls",
      "_model_module_version": "1.5.0",
      "_model_name": "DescriptionStyleModel",
      "_view_count": null,
      "_view_module": "@jupyter-widgets/base",
      "_view_module_version": "1.2.0",
      "_view_name": "StyleView",
      "description_width": ""
     }
    },
    "b51bd50c997a490f9618ddbc6a99ab85": {
     "model_module": "@jupyter-widgets/controls",
     "model_module_version": "1.5.0",
     "model_name": "HTMLModel",
     "state": {
      "_dom_classes": [],
      "_model_module": "@jupyter-widgets/controls",
      "_model_module_version": "1.5.0",
      "_model_name": "HTMLModel",
      "_view_count": null,
      "_view_module": "@jupyter-widgets/controls",
      "_view_module_version": "1.5.0",
      "_view_name": "HTMLView",
      "description": "",
      "description_tooltip": null,
      "layout": "IPY_MODEL_a1c941a602164277943cb5ab7689ebc5",
      "placeholder": "​",
      "style": "IPY_MODEL_b3c2371fe1ce4b05a3694e78b4ad3446",
      "value": "Downloading builder script: 100%"
     }
    },
    "b7c7f283c4f24bbea9e703fe8c47bdf9": {
     "model_module": "@jupyter-widgets/controls",
     "model_module_version": "1.5.0",
     "model_name": "FloatProgressModel",
     "state": {
      "_dom_classes": [],
      "_model_module": "@jupyter-widgets/controls",
      "_model_module_version": "1.5.0",
      "_model_name": "FloatProgressModel",
      "_view_count": null,
      "_view_module": "@jupyter-widgets/controls",
      "_view_module_version": "1.5.0",
      "_view_name": "ProgressView",
      "bar_style": "success",
      "description": "",
      "description_tooltip": null,
      "layout": "IPY_MODEL_b0e7f34430ba415c8246efb6c9c87d63",
      "max": 6785,
      "min": 0,
      "orientation": "horizontal",
      "style": "IPY_MODEL_e05be42d87a149ea9add5c73e2dae774",
      "value": 6785
     }
    },
    "b91b9b06e0a049be84ad7c25644f5a0e": {
     "model_module": "@jupyter-widgets/base",
     "model_module_version": "1.2.0",
     "model_name": "LayoutModel",
     "state": {
      "_model_module": "@jupyter-widgets/base",
      "_model_module_version": "1.2.0",
      "_model_name": "LayoutModel",
      "_view_count": null,
      "_view_module": "@jupyter-widgets/base",
      "_view_module_version": "1.2.0",
      "_view_name": "LayoutView",
      "align_content": null,
      "align_items": null,
      "align_self": null,
      "border": null,
      "bottom": null,
      "display": null,
      "flex": null,
      "flex_flow": null,
      "grid_area": null,
      "grid_auto_columns": null,
      "grid_auto_flow": null,
      "grid_auto_rows": null,
      "grid_column": null,
      "grid_gap": null,
      "grid_row": null,
      "grid_template_areas": null,
      "grid_template_columns": null,
      "grid_template_rows": null,
      "height": null,
      "justify_content": null,
      "justify_items": null,
      "left": null,
      "margin": null,
      "max_height": null,
      "max_width": null,
      "min_height": null,
      "min_width": null,
      "object_fit": null,
      "object_position": null,
      "order": null,
      "overflow": null,
      "overflow_x": null,
      "overflow_y": null,
      "padding": null,
      "right": null,
      "top": null,
      "visibility": null,
      "width": null
     }
    },
    "b9c799fae48c45fe9c745c52b9e0c8b0": {
     "model_module": "@jupyter-widgets/controls",
     "model_module_version": "1.5.0",
     "model_name": "FloatProgressModel",
     "state": {
      "_dom_classes": [],
      "_model_module": "@jupyter-widgets/controls",
      "_model_module_version": "1.5.0",
      "_model_name": "FloatProgressModel",
      "_view_count": null,
      "_view_module": "@jupyter-widgets/controls",
      "_view_module_version": "1.5.0",
      "_view_name": "ProgressView",
      "bar_style": "success",
      "description": "",
      "description_tooltip": null,
      "layout": "IPY_MODEL_18d38986771d4124963dbbafbb8424c7",
      "max": 282,
      "min": 0,
      "orientation": "horizontal",
      "style": "IPY_MODEL_ba60853fcca64530950ebf07953e6224",
      "value": 282
     }
    },
    "ba60853fcca64530950ebf07953e6224": {
     "model_module": "@jupyter-widgets/controls",
     "model_module_version": "1.5.0",
     "model_name": "ProgressStyleModel",
     "state": {
      "_model_module": "@jupyter-widgets/controls",
      "_model_module_version": "1.5.0",
      "_model_name": "ProgressStyleModel",
      "_view_count": null,
      "_view_module": "@jupyter-widgets/base",
      "_view_module_version": "1.2.0",
      "_view_name": "StyleView",
      "bar_color": null,
      "description_width": ""
     }
    },
    "bb439f636ca94c12b65bbc14566e8d06": {
     "model_module": "@jupyter-widgets/base",
     "model_module_version": "1.2.0",
     "model_name": "LayoutModel",
     "state": {
      "_model_module": "@jupyter-widgets/base",
      "_model_module_version": "1.2.0",
      "_model_name": "LayoutModel",
      "_view_count": null,
      "_view_module": "@jupyter-widgets/base",
      "_view_module_version": "1.2.0",
      "_view_name": "LayoutView",
      "align_content": null,
      "align_items": null,
      "align_self": null,
      "border": null,
      "bottom": null,
      "display": null,
      "flex": null,
      "flex_flow": null,
      "grid_area": null,
      "grid_auto_columns": null,
      "grid_auto_flow": null,
      "grid_auto_rows": null,
      "grid_column": null,
      "grid_gap": null,
      "grid_row": null,
      "grid_template_areas": null,
      "grid_template_columns": null,
      "grid_template_rows": null,
      "height": null,
      "justify_content": null,
      "justify_items": null,
      "left": null,
      "margin": null,
      "max_height": null,
      "max_width": null,
      "min_height": null,
      "min_width": null,
      "object_fit": null,
      "object_position": null,
      "order": null,
      "overflow": null,
      "overflow_x": null,
      "overflow_y": null,
      "padding": null,
      "right": null,
      "top": null,
      "visibility": null,
      "width": null
     }
    },
    "bbcb78684804408d97a1ebd487e66c0c": {
     "model_module": "@jupyter-widgets/controls",
     "model_module_version": "1.5.0",
     "model_name": "ProgressStyleModel",
     "state": {
      "_model_module": "@jupyter-widgets/controls",
      "_model_module_version": "1.5.0",
      "_model_name": "ProgressStyleModel",
      "_view_count": null,
      "_view_module": "@jupyter-widgets/base",
      "_view_module_version": "1.2.0",
      "_view_name": "StyleView",
      "bar_color": null,
      "description_width": ""
     }
    },
    "bbf17939d2df4858bd07925c5b27838a": {
     "model_module": "@jupyter-widgets/controls",
     "model_module_version": "1.5.0",
     "model_name": "HTMLModel",
     "state": {
      "_dom_classes": [],
      "_model_module": "@jupyter-widgets/controls",
      "_model_module_version": "1.5.0",
      "_model_name": "HTMLModel",
      "_view_count": null,
      "_view_module": "@jupyter-widgets/controls",
      "_view_module_version": "1.5.0",
      "_view_name": "HTMLView",
      "description": "",
      "description_tooltip": null,
      "layout": "IPY_MODEL_f22f106e02b843c0b89ac53bb59a8482",
      "placeholder": "​",
      "style": "IPY_MODEL_1fe0821fb05f4fa8aac60fb00132cd4b",
      "value": "config.json: 100%"
     }
    },
    "bcea8e7d4e134cd788f423c1d08edf2f": {
     "model_module": "@jupyter-widgets/controls",
     "model_module_version": "1.5.0",
     "model_name": "HBoxModel",
     "state": {
      "_dom_classes": [],
      "_model_module": "@jupyter-widgets/controls",
      "_model_module_version": "1.5.0",
      "_model_name": "HBoxModel",
      "_view_count": null,
      "_view_module": "@jupyter-widgets/controls",
      "_view_module_version": "1.5.0",
      "_view_name": "HBoxView",
      "box_style": "",
      "children": [
       "IPY_MODEL_d02d682b8f9544c7a9e9e8527200568b",
       "IPY_MODEL_913d6e15cda946f2bd92c9bb1475de1c",
       "IPY_MODEL_a5bb2cedc48240d2ac5653ba345e558f"
      ],
      "layout": "IPY_MODEL_f908caa1af5643ce9280c6d8ded09bb8"
     }
    },
    "bf688d1d557b48cda702c9ab9bae108b": {
     "model_module": "@jupyter-widgets/base",
     "model_module_version": "1.2.0",
     "model_name": "LayoutModel",
     "state": {
      "_model_module": "@jupyter-widgets/base",
      "_model_module_version": "1.2.0",
      "_model_name": "LayoutModel",
      "_view_count": null,
      "_view_module": "@jupyter-widgets/base",
      "_view_module_version": "1.2.0",
      "_view_name": "LayoutView",
      "align_content": null,
      "align_items": null,
      "align_self": null,
      "border": null,
      "bottom": null,
      "display": null,
      "flex": null,
      "flex_flow": null,
      "grid_area": null,
      "grid_auto_columns": null,
      "grid_auto_flow": null,
      "grid_auto_rows": null,
      "grid_column": null,
      "grid_gap": null,
      "grid_row": null,
      "grid_template_areas": null,
      "grid_template_columns": null,
      "grid_template_rows": null,
      "height": null,
      "justify_content": null,
      "justify_items": null,
      "left": null,
      "margin": null,
      "max_height": null,
      "max_width": null,
      "min_height": null,
      "min_width": null,
      "object_fit": null,
      "object_position": null,
      "order": null,
      "overflow": null,
      "overflow_x": null,
      "overflow_y": null,
      "padding": null,
      "right": null,
      "top": null,
      "visibility": null,
      "width": null
     }
    },
    "c072bfdb951247558ee354f4197be3e3": {
     "model_module": "@jupyter-widgets/controls",
     "model_module_version": "1.5.0",
     "model_name": "DescriptionStyleModel",
     "state": {
      "_model_module": "@jupyter-widgets/controls",
      "_model_module_version": "1.5.0",
      "_model_name": "DescriptionStyleModel",
      "_view_count": null,
      "_view_module": "@jupyter-widgets/base",
      "_view_module_version": "1.2.0",
      "_view_name": "StyleView",
      "description_width": ""
     }
    },
    "c0890ba1593e44da96f624a8d9ba70d5": {
     "model_module": "@jupyter-widgets/controls",
     "model_module_version": "1.5.0",
     "model_name": "DescriptionStyleModel",
     "state": {
      "_model_module": "@jupyter-widgets/controls",
      "_model_module_version": "1.5.0",
      "_model_name": "DescriptionStyleModel",
      "_view_count": null,
      "_view_module": "@jupyter-widgets/base",
      "_view_module_version": "1.2.0",
      "_view_name": "StyleView",
      "description_width": ""
     }
    },
    "c16a97fc6cc54429bc76954b95e4e754": {
     "model_module": "@jupyter-widgets/controls",
     "model_module_version": "1.5.0",
     "model_name": "HTMLModel",
     "state": {
      "_dom_classes": [],
      "_model_module": "@jupyter-widgets/controls",
      "_model_module_version": "1.5.0",
      "_model_name": "HTMLModel",
      "_view_count": null,
      "_view_module": "@jupyter-widgets/controls",
      "_view_module_version": "1.5.0",
      "_view_name": "HTMLView",
      "description": "",
      "description_tooltip": null,
      "layout": "IPY_MODEL_cf449d181f0149e9af8fe1a1e4141214",
      "placeholder": "​",
      "style": "IPY_MODEL_2946057d1388435abdf573e39cde68df",
      "value": " 615/615 [00:00&lt;00:00, 42.8kB/s]"
     }
    },
    "c18f4a9d7c544b0eb81d689366cf46c8": {
     "model_module": "@jupyter-widgets/controls",
     "model_module_version": "1.5.0",
     "model_name": "FloatProgressModel",
     "state": {
      "_dom_classes": [],
      "_model_module": "@jupyter-widgets/controls",
      "_model_module_version": "1.5.0",
      "_model_name": "FloatProgressModel",
      "_view_count": null,
      "_view_module": "@jupyter-widgets/controls",
      "_view_module_version": "1.5.0",
      "_view_name": "ProgressView",
      "bar_style": "success",
      "description": "",
      "description_tooltip": null,
      "layout": "IPY_MODEL_c3e0b707e0504f509642c7b019b35f27",
      "max": 462,
      "min": 0,
      "orientation": "horizontal",
      "style": "IPY_MODEL_e685b2393f3a4bc990bf55e35d60136f",
      "value": 462
     }
    },
    "c2990bc3b7e848e58472108be0ca657e": {
     "model_module": "@jupyter-widgets/base",
     "model_module_version": "1.2.0",
     "model_name": "LayoutModel",
     "state": {
      "_model_module": "@jupyter-widgets/base",
      "_model_module_version": "1.2.0",
      "_model_name": "LayoutModel",
      "_view_count": null,
      "_view_module": "@jupyter-widgets/base",
      "_view_module_version": "1.2.0",
      "_view_name": "LayoutView",
      "align_content": null,
      "align_items": null,
      "align_self": null,
      "border": null,
      "bottom": null,
      "display": null,
      "flex": null,
      "flex_flow": null,
      "grid_area": null,
      "grid_auto_columns": null,
      "grid_auto_flow": null,
      "grid_auto_rows": null,
      "grid_column": null,
      "grid_gap": null,
      "grid_row": null,
      "grid_template_areas": null,
      "grid_template_columns": null,
      "grid_template_rows": null,
      "height": null,
      "justify_content": null,
      "justify_items": null,
      "left": null,
      "margin": null,
      "max_height": null,
      "max_width": null,
      "min_height": null,
      "min_width": null,
      "object_fit": null,
      "object_position": null,
      "order": null,
      "overflow": null,
      "overflow_x": null,
      "overflow_y": null,
      "padding": null,
      "right": null,
      "top": null,
      "visibility": null,
      "width": null
     }
    },
    "c3abac73fae1437f9c0114a45f16d95b": {
     "model_module": "@jupyter-widgets/controls",
     "model_module_version": "1.5.0",
     "model_name": "ProgressStyleModel",
     "state": {
      "_model_module": "@jupyter-widgets/controls",
      "_model_module_version": "1.5.0",
      "_model_name": "ProgressStyleModel",
      "_view_count": null,
      "_view_module": "@jupyter-widgets/base",
      "_view_module_version": "1.2.0",
      "_view_name": "StyleView",
      "bar_color": null,
      "description_width": ""
     }
    },
    "c3e0b707e0504f509642c7b019b35f27": {
     "model_module": "@jupyter-widgets/base",
     "model_module_version": "1.2.0",
     "model_name": "LayoutModel",
     "state": {
      "_model_module": "@jupyter-widgets/base",
      "_model_module_version": "1.2.0",
      "_model_name": "LayoutModel",
      "_view_count": null,
      "_view_module": "@jupyter-widgets/base",
      "_view_module_version": "1.2.0",
      "_view_name": "LayoutView",
      "align_content": null,
      "align_items": null,
      "align_self": null,
      "border": null,
      "bottom": null,
      "display": null,
      "flex": null,
      "flex_flow": null,
      "grid_area": null,
      "grid_auto_columns": null,
      "grid_auto_flow": null,
      "grid_auto_rows": null,
      "grid_column": null,
      "grid_gap": null,
      "grid_row": null,
      "grid_template_areas": null,
      "grid_template_columns": null,
      "grid_template_rows": null,
      "height": null,
      "justify_content": null,
      "justify_items": null,
      "left": null,
      "margin": null,
      "max_height": null,
      "max_width": null,
      "min_height": null,
      "min_width": null,
      "object_fit": null,
      "object_position": null,
      "order": null,
      "overflow": null,
      "overflow_x": null,
      "overflow_y": null,
      "padding": null,
      "right": null,
      "top": null,
      "visibility": null,
      "width": null
     }
    },
    "c6faa5e91b804f7ab15a9907dbf05768": {
     "model_module": "@jupyter-widgets/base",
     "model_module_version": "1.2.0",
     "model_name": "LayoutModel",
     "state": {
      "_model_module": "@jupyter-widgets/base",
      "_model_module_version": "1.2.0",
      "_model_name": "LayoutModel",
      "_view_count": null,
      "_view_module": "@jupyter-widgets/base",
      "_view_module_version": "1.2.0",
      "_view_name": "LayoutView",
      "align_content": null,
      "align_items": null,
      "align_self": null,
      "border": null,
      "bottom": null,
      "display": null,
      "flex": null,
      "flex_flow": null,
      "grid_area": null,
      "grid_auto_columns": null,
      "grid_auto_flow": null,
      "grid_auto_rows": null,
      "grid_column": null,
      "grid_gap": null,
      "grid_row": null,
      "grid_template_areas": null,
      "grid_template_columns": null,
      "grid_template_rows": null,
      "height": null,
      "justify_content": null,
      "justify_items": null,
      "left": null,
      "margin": null,
      "max_height": null,
      "max_width": null,
      "min_height": null,
      "min_width": null,
      "object_fit": null,
      "object_position": null,
      "order": null,
      "overflow": null,
      "overflow_x": null,
      "overflow_y": null,
      "padding": null,
      "right": null,
      "top": null,
      "visibility": null,
      "width": null
     }
    },
    "cb7dab84c76c4ac0ab718004f1bcabb6": {
     "model_module": "@jupyter-widgets/base",
     "model_module_version": "1.2.0",
     "model_name": "LayoutModel",
     "state": {
      "_model_module": "@jupyter-widgets/base",
      "_model_module_version": "1.2.0",
      "_model_name": "LayoutModel",
      "_view_count": null,
      "_view_module": "@jupyter-widgets/base",
      "_view_module_version": "1.2.0",
      "_view_name": "LayoutView",
      "align_content": null,
      "align_items": null,
      "align_self": null,
      "border": null,
      "bottom": null,
      "display": null,
      "flex": null,
      "flex_flow": null,
      "grid_area": null,
      "grid_auto_columns": null,
      "grid_auto_flow": null,
      "grid_auto_rows": null,
      "grid_column": null,
      "grid_gap": null,
      "grid_row": null,
      "grid_template_areas": null,
      "grid_template_columns": null,
      "grid_template_rows": null,
      "height": null,
      "justify_content": null,
      "justify_items": null,
      "left": null,
      "margin": null,
      "max_height": null,
      "max_width": null,
      "min_height": null,
      "min_width": null,
      "object_fit": null,
      "object_position": null,
      "order": null,
      "overflow": null,
      "overflow_x": null,
      "overflow_y": null,
      "padding": null,
      "right": null,
      "top": null,
      "visibility": null,
      "width": null
     }
    },
    "cd8e86d626eb44efb999146b6731f6ba": {
     "model_module": "@jupyter-widgets/controls",
     "model_module_version": "1.5.0",
     "model_name": "FloatProgressModel",
     "state": {
      "_dom_classes": [],
      "_model_module": "@jupyter-widgets/controls",
      "_model_module_version": "1.5.0",
      "_model_name": "FloatProgressModel",
      "_view_count": null,
      "_view_module": "@jupyter-widgets/controls",
      "_view_module_version": "1.5.0",
      "_view_name": "ProgressView",
      "bar_style": "success",
      "description": "",
      "description_tooltip": null,
      "layout": "IPY_MODEL_56fa1b476710463cb49ce15cea64b534",
      "max": 300,
      "min": 0,
      "orientation": "horizontal",
      "style": "IPY_MODEL_65e225ea1fab49d3af7c64f896c27fde",
      "value": 300
     }
    },
    "cf2cd7944ea34b2a9bcae14ec5e54db2": {
     "model_module": "@jupyter-widgets/base",
     "model_module_version": "1.2.0",
     "model_name": "LayoutModel",
     "state": {
      "_model_module": "@jupyter-widgets/base",
      "_model_module_version": "1.2.0",
      "_model_name": "LayoutModel",
      "_view_count": null,
      "_view_module": "@jupyter-widgets/base",
      "_view_module_version": "1.2.0",
      "_view_name": "LayoutView",
      "align_content": null,
      "align_items": null,
      "align_self": null,
      "border": null,
      "bottom": null,
      "display": null,
      "flex": null,
      "flex_flow": null,
      "grid_area": null,
      "grid_auto_columns": null,
      "grid_auto_flow": null,
      "grid_auto_rows": null,
      "grid_column": null,
      "grid_gap": null,
      "grid_row": null,
      "grid_template_areas": null,
      "grid_template_columns": null,
      "grid_template_rows": null,
      "height": null,
      "justify_content": null,
      "justify_items": null,
      "left": null,
      "margin": null,
      "max_height": null,
      "max_width": null,
      "min_height": null,
      "min_width": null,
      "object_fit": null,
      "object_position": null,
      "order": null,
      "overflow": null,
      "overflow_x": null,
      "overflow_y": null,
      "padding": null,
      "right": null,
      "top": null,
      "visibility": null,
      "width": null
     }
    },
    "cf449d181f0149e9af8fe1a1e4141214": {
     "model_module": "@jupyter-widgets/base",
     "model_module_version": "1.2.0",
     "model_name": "LayoutModel",
     "state": {
      "_model_module": "@jupyter-widgets/base",
      "_model_module_version": "1.2.0",
      "_model_name": "LayoutModel",
      "_view_count": null,
      "_view_module": "@jupyter-widgets/base",
      "_view_module_version": "1.2.0",
      "_view_name": "LayoutView",
      "align_content": null,
      "align_items": null,
      "align_self": null,
      "border": null,
      "bottom": null,
      "display": null,
      "flex": null,
      "flex_flow": null,
      "grid_area": null,
      "grid_auto_columns": null,
      "grid_auto_flow": null,
      "grid_auto_rows": null,
      "grid_column": null,
      "grid_gap": null,
      "grid_row": null,
      "grid_template_areas": null,
      "grid_template_columns": null,
      "grid_template_rows": null,
      "height": null,
      "justify_content": null,
      "justify_items": null,
      "left": null,
      "margin": null,
      "max_height": null,
      "max_width": null,
      "min_height": null,
      "min_width": null,
      "object_fit": null,
      "object_position": null,
      "order": null,
      "overflow": null,
      "overflow_x": null,
      "overflow_y": null,
      "padding": null,
      "right": null,
      "top": null,
      "visibility": null,
      "width": null
     }
    },
    "cf4e827eb9304aa5b497becc491cdd0a": {
     "model_module": "@jupyter-widgets/controls",
     "model_module_version": "1.5.0",
     "model_name": "HTMLModel",
     "state": {
      "_dom_classes": [],
      "_model_module": "@jupyter-widgets/controls",
      "_model_module_version": "1.5.0",
      "_model_name": "HTMLModel",
      "_view_count": null,
      "_view_module": "@jupyter-widgets/controls",
      "_view_module_version": "1.5.0",
      "_view_name": "HTMLView",
      "description": "",
      "description_tooltip": null,
      "layout": "IPY_MODEL_f0bc67dc50f14fc28097ccdc3d99747d",
      "placeholder": "​",
      "style": "IPY_MODEL_92309212379c4c069ec3af5704141c98",
      "value": "Map: 100%"
     }
    },
    "d02d682b8f9544c7a9e9e8527200568b": {
     "model_module": "@jupyter-widgets/controls",
     "model_module_version": "1.5.0",
     "model_name": "HTMLModel",
     "state": {
      "_dom_classes": [],
      "_model_module": "@jupyter-widgets/controls",
      "_model_module_version": "1.5.0",
      "_model_name": "HTMLModel",
      "_view_count": null,
      "_view_module": "@jupyter-widgets/controls",
      "_view_module_version": "1.5.0",
      "_view_name": "HTMLView",
      "description": "",
      "description_tooltip": null,
      "layout": "IPY_MODEL_2c0f6e616249433fb4f37e1846ae1cbd",
      "placeholder": "​",
      "style": "IPY_MODEL_23736461c4714bec86ca320eb8739f7e",
      "value": "Map: 100%"
     }
    },
    "d193bc16c3154c308031a60fd839bf16": {
     "model_module": "@jupyter-widgets/base",
     "model_module_version": "1.2.0",
     "model_name": "LayoutModel",
     "state": {
      "_model_module": "@jupyter-widgets/base",
      "_model_module_version": "1.2.0",
      "_model_name": "LayoutModel",
      "_view_count": null,
      "_view_module": "@jupyter-widgets/base",
      "_view_module_version": "1.2.0",
      "_view_name": "LayoutView",
      "align_content": null,
      "align_items": null,
      "align_self": null,
      "border": null,
      "bottom": null,
      "display": null,
      "flex": null,
      "flex_flow": null,
      "grid_area": null,
      "grid_auto_columns": null,
      "grid_auto_flow": null,
      "grid_auto_rows": null,
      "grid_column": null,
      "grid_gap": null,
      "grid_row": null,
      "grid_template_areas": null,
      "grid_template_columns": null,
      "grid_template_rows": null,
      "height": null,
      "justify_content": null,
      "justify_items": null,
      "left": null,
      "margin": null,
      "max_height": null,
      "max_width": null,
      "min_height": null,
      "min_width": null,
      "object_fit": null,
      "object_position": null,
      "order": null,
      "overflow": null,
      "overflow_x": null,
      "overflow_y": null,
      "padding": null,
      "right": null,
      "top": null,
      "visibility": null,
      "width": null
     }
    },
    "d28d5d3a7e594718940f12408d04dcee": {
     "model_module": "@jupyter-widgets/controls",
     "model_module_version": "1.5.0",
     "model_name": "ProgressStyleModel",
     "state": {
      "_model_module": "@jupyter-widgets/controls",
      "_model_module_version": "1.5.0",
      "_model_name": "ProgressStyleModel",
      "_view_count": null,
      "_view_module": "@jupyter-widgets/base",
      "_view_module_version": "1.2.0",
      "_view_name": "StyleView",
      "bar_color": null,
      "description_width": ""
     }
    },
    "d2a0394d3b4146bdbcb88d3a56a5abd6": {
     "model_module": "@jupyter-widgets/base",
     "model_module_version": "1.2.0",
     "model_name": "LayoutModel",
     "state": {
      "_model_module": "@jupyter-widgets/base",
      "_model_module_version": "1.2.0",
      "_model_name": "LayoutModel",
      "_view_count": null,
      "_view_module": "@jupyter-widgets/base",
      "_view_module_version": "1.2.0",
      "_view_name": "LayoutView",
      "align_content": null,
      "align_items": null,
      "align_self": null,
      "border": null,
      "bottom": null,
      "display": null,
      "flex": null,
      "flex_flow": null,
      "grid_area": null,
      "grid_auto_columns": null,
      "grid_auto_flow": null,
      "grid_auto_rows": null,
      "grid_column": null,
      "grid_gap": null,
      "grid_row": null,
      "grid_template_areas": null,
      "grid_template_columns": null,
      "grid_template_rows": null,
      "height": null,
      "justify_content": null,
      "justify_items": null,
      "left": null,
      "margin": null,
      "max_height": null,
      "max_width": null,
      "min_height": null,
      "min_width": null,
      "object_fit": null,
      "object_position": null,
      "order": null,
      "overflow": null,
      "overflow_x": null,
      "overflow_y": null,
      "padding": null,
      "right": null,
      "top": null,
      "visibility": null,
      "width": null
     }
    },
    "d58f0f2d7bd7434091b8d34b40a1721f": {
     "model_module": "@jupyter-widgets/controls",
     "model_module_version": "1.5.0",
     "model_name": "ProgressStyleModel",
     "state": {
      "_model_module": "@jupyter-widgets/controls",
      "_model_module_version": "1.5.0",
      "_model_name": "ProgressStyleModel",
      "_view_count": null,
      "_view_module": "@jupyter-widgets/base",
      "_view_module_version": "1.2.0",
      "_view_name": "StyleView",
      "bar_color": null,
      "description_width": ""
     }
    },
    "d87a67ec58254726a6c8ce793f624ab4": {
     "model_module": "@jupyter-widgets/controls",
     "model_module_version": "1.5.0",
     "model_name": "HTMLModel",
     "state": {
      "_dom_classes": [],
      "_model_module": "@jupyter-widgets/controls",
      "_model_module_version": "1.5.0",
      "_model_name": "HTMLModel",
      "_view_count": null,
      "_view_module": "@jupyter-widgets/controls",
      "_view_module_version": "1.5.0",
      "_view_name": "HTMLView",
      "description": "",
      "description_tooltip": null,
      "layout": "IPY_MODEL_cf2cd7944ea34b2a9bcae14ec5e54db2",
      "placeholder": "​",
      "style": "IPY_MODEL_eafdc9f9e73841538534d5d08c6b0276",
      "value": "Map: 100%"
     }
    },
    "d9c1d83268e04d09abb18a008d806cba": {
     "model_module": "@jupyter-widgets/controls",
     "model_module_version": "1.5.0",
     "model_name": "FloatProgressModel",
     "state": {
      "_dom_classes": [],
      "_model_module": "@jupyter-widgets/controls",
      "_model_module_version": "1.5.0",
      "_model_name": "FloatProgressModel",
      "_view_count": null,
      "_view_module": "@jupyter-widgets/controls",
      "_view_module_version": "1.5.0",
      "_view_name": "ProgressView",
      "bar_style": "success",
      "description": "",
      "description_tooltip": null,
      "layout": "IPY_MODEL_07f92293e60249f0bfdf64dd45bf7dea",
      "max": 1115567652,
      "min": 0,
      "orientation": "horizontal",
      "style": "IPY_MODEL_794602ff07a64a87a09efa26f8eb7842",
      "value": 1115567652
     }
    },
    "d9d611cbcd5e41d29a3de29da7911603": {
     "model_module": "@jupyter-widgets/controls",
     "model_module_version": "1.5.0",
     "model_name": "FloatProgressModel",
     "state": {
      "_dom_classes": [],
      "_model_module": "@jupyter-widgets/controls",
      "_model_module_version": "1.5.0",
      "_model_name": "FloatProgressModel",
      "_view_count": null,
      "_view_module": "@jupyter-widgets/controls",
      "_view_module_version": "1.5.0",
      "_view_name": "ProgressView",
      "bar_style": "success",
      "description": "",
      "description_tooltip": null,
      "layout": "IPY_MODEL_a4b22a7b585f4db3ac31c2822f2c0469",
      "max": 25,
      "min": 0,
      "orientation": "horizontal",
      "style": "IPY_MODEL_93dacdedd712453aa0904ad557e68ac9",
      "value": 25
     }
    },
    "dc2247ef23cd4b9e91fe857fbaa1877b": {
     "model_module": "@jupyter-widgets/controls",
     "model_module_version": "1.5.0",
     "model_name": "ProgressStyleModel",
     "state": {
      "_model_module": "@jupyter-widgets/controls",
      "_model_module_version": "1.5.0",
      "_model_name": "ProgressStyleModel",
      "_view_count": null,
      "_view_module": "@jupyter-widgets/base",
      "_view_module_version": "1.2.0",
      "_view_name": "StyleView",
      "bar_color": null,
      "description_width": ""
     }
    },
    "dcfb4747f2d34e478e44970102361655": {
     "model_module": "@jupyter-widgets/base",
     "model_module_version": "1.2.0",
     "model_name": "LayoutModel",
     "state": {
      "_model_module": "@jupyter-widgets/base",
      "_model_module_version": "1.2.0",
      "_model_name": "LayoutModel",
      "_view_count": null,
      "_view_module": "@jupyter-widgets/base",
      "_view_module_version": "1.2.0",
      "_view_name": "LayoutView",
      "align_content": null,
      "align_items": null,
      "align_self": null,
      "border": null,
      "bottom": null,
      "display": null,
      "flex": null,
      "flex_flow": null,
      "grid_area": null,
      "grid_auto_columns": null,
      "grid_auto_flow": null,
      "grid_auto_rows": null,
      "grid_column": null,
      "grid_gap": null,
      "grid_row": null,
      "grid_template_areas": null,
      "grid_template_columns": null,
      "grid_template_rows": null,
      "height": null,
      "justify_content": null,
      "justify_items": null,
      "left": null,
      "margin": null,
      "max_height": null,
      "max_width": null,
      "min_height": null,
      "min_width": null,
      "object_fit": null,
      "object_position": null,
      "order": null,
      "overflow": null,
      "overflow_x": null,
      "overflow_y": null,
      "padding": null,
      "right": null,
      "top": null,
      "visibility": null,
      "width": null
     }
    },
    "e05be42d87a149ea9add5c73e2dae774": {
     "model_module": "@jupyter-widgets/controls",
     "model_module_version": "1.5.0",
     "model_name": "ProgressStyleModel",
     "state": {
      "_model_module": "@jupyter-widgets/controls",
      "_model_module_version": "1.5.0",
      "_model_name": "ProgressStyleModel",
      "_view_count": null,
      "_view_module": "@jupyter-widgets/base",
      "_view_module_version": "1.2.0",
      "_view_name": "StyleView",
      "bar_color": null,
      "description_width": ""
     }
    },
    "e0fc5067f1ed4c2f9d395b9471419cfa": {
     "model_module": "@jupyter-widgets/controls",
     "model_module_version": "1.5.0",
     "model_name": "FloatProgressModel",
     "state": {
      "_dom_classes": [],
      "_model_module": "@jupyter-widgets/controls",
      "_model_module_version": "1.5.0",
      "_model_name": "FloatProgressModel",
      "_view_count": null,
      "_view_module": "@jupyter-widgets/controls",
      "_view_module_version": "1.5.0",
      "_view_name": "ProgressView",
      "bar_style": "success",
      "description": "",
      "description_tooltip": null,
      "layout": "IPY_MODEL_3d9638e990e442618c7b8f383c6a497b",
      "max": 297,
      "min": 0,
      "orientation": "horizontal",
      "style": "IPY_MODEL_c3abac73fae1437f9c0114a45f16d95b",
      "value": 297
     }
    },
    "e1a3621f72a840e28c94b1678b44d520": {
     "model_module": "@jupyter-widgets/controls",
     "model_module_version": "1.5.0",
     "model_name": "HBoxModel",
     "state": {
      "_dom_classes": [],
      "_model_module": "@jupyter-widgets/controls",
      "_model_module_version": "1.5.0",
      "_model_name": "HBoxModel",
      "_view_count": null,
      "_view_module": "@jupyter-widgets/controls",
      "_view_module_version": "1.5.0",
      "_view_name": "HBoxView",
      "box_style": "",
      "children": [
       "IPY_MODEL_01bd4c7e12bc41c484dde9c25b5283c7",
       "IPY_MODEL_69c4cce74e2a440e9474b59b105c7e17",
       "IPY_MODEL_5fb313ddc50e418292df5a37749638bf"
      ],
      "layout": "IPY_MODEL_a8330ce9f9c54db0835771005f9d1dd6"
     }
    },
    "e2415a2e3163494cae118289d9afe91f": {
     "model_module": "@jupyter-widgets/controls",
     "model_module_version": "1.5.0",
     "model_name": "HTMLModel",
     "state": {
      "_dom_classes": [],
      "_model_module": "@jupyter-widgets/controls",
      "_model_module_version": "1.5.0",
      "_model_name": "HTMLModel",
      "_view_count": null,
      "_view_module": "@jupyter-widgets/controls",
      "_view_module_version": "1.5.0",
      "_view_name": "HTMLView",
      "description": "",
      "description_tooltip": null,
      "layout": "IPY_MODEL_aef61e8d053d4198b98ed1883cb5db3f",
      "placeholder": "​",
      "style": "IPY_MODEL_37e35e7a0b8b4d81a64e4bfa8db44874",
      "value": "Map: 100%"
     }
    },
    "e27b721496c74d9e8b6d66c30c3d5334": {
     "model_module": "@jupyter-widgets/controls",
     "model_module_version": "1.5.0",
     "model_name": "HBoxModel",
     "state": {
      "_dom_classes": [],
      "_model_module": "@jupyter-widgets/controls",
      "_model_module_version": "1.5.0",
      "_model_name": "HBoxModel",
      "_view_count": null,
      "_view_module": "@jupyter-widgets/controls",
      "_view_module_version": "1.5.0",
      "_view_name": "HBoxView",
      "box_style": "",
      "children": [
       "IPY_MODEL_6c0455db525d4dba88c97e76ed7bcc8d",
       "IPY_MODEL_fc9e0fc8ee2f46c0b90e8fd786f32a84",
       "IPY_MODEL_6c6f5068ed9342ca8aa5aca0d21c5764"
      ],
      "layout": "IPY_MODEL_23a3bd2886444a01a40d5286db0e8e25"
     }
    },
    "e685b2393f3a4bc990bf55e35d60136f": {
     "model_module": "@jupyter-widgets/controls",
     "model_module_version": "1.5.0",
     "model_name": "ProgressStyleModel",
     "state": {
      "_model_module": "@jupyter-widgets/controls",
      "_model_module_version": "1.5.0",
      "_model_name": "ProgressStyleModel",
      "_view_count": null,
      "_view_module": "@jupyter-widgets/base",
      "_view_module_version": "1.2.0",
      "_view_name": "StyleView",
      "bar_color": null,
      "description_width": ""
     }
    },
    "e69292bb9cc74abe967bf50b1cdf7d80": {
     "model_module": "@jupyter-widgets/controls",
     "model_module_version": "1.5.0",
     "model_name": "HBoxModel",
     "state": {
      "_dom_classes": [],
      "_model_module": "@jupyter-widgets/controls",
      "_model_module_version": "1.5.0",
      "_model_name": "HBoxModel",
      "_view_count": null,
      "_view_module": "@jupyter-widgets/controls",
      "_view_module_version": "1.5.0",
      "_view_name": "HBoxView",
      "box_style": "",
      "children": [
       "IPY_MODEL_b51bd50c997a490f9618ddbc6a99ab85",
       "IPY_MODEL_b7c7f283c4f24bbea9e703fe8c47bdf9",
       "IPY_MODEL_96c99842ae0a4ab19bb7675e12e90ee1"
      ],
      "layout": "IPY_MODEL_31c072ab6ce043b586dc72fb59ab5773"
     }
    },
    "e6a93854e8714a82bbc8e41da2f234d6": {
     "model_module": "@jupyter-widgets/controls",
     "model_module_version": "1.5.0",
     "model_name": "ProgressStyleModel",
     "state": {
      "_model_module": "@jupyter-widgets/controls",
      "_model_module_version": "1.5.0",
      "_model_name": "ProgressStyleModel",
      "_view_count": null,
      "_view_module": "@jupyter-widgets/base",
      "_view_module_version": "1.2.0",
      "_view_name": "StyleView",
      "bar_color": null,
      "description_width": ""
     }
    },
    "e7ff3e95bd244fa1af05b2134d90229a": {
     "model_module": "@jupyter-widgets/controls",
     "model_module_version": "1.5.0",
     "model_name": "DescriptionStyleModel",
     "state": {
      "_model_module": "@jupyter-widgets/controls",
      "_model_module_version": "1.5.0",
      "_model_name": "DescriptionStyleModel",
      "_view_count": null,
      "_view_module": "@jupyter-widgets/base",
      "_view_module_version": "1.2.0",
      "_view_name": "StyleView",
      "description_width": ""
     }
    },
    "eafdc9f9e73841538534d5d08c6b0276": {
     "model_module": "@jupyter-widgets/controls",
     "model_module_version": "1.5.0",
     "model_name": "DescriptionStyleModel",
     "state": {
      "_model_module": "@jupyter-widgets/controls",
      "_model_module_version": "1.5.0",
      "_model_name": "DescriptionStyleModel",
      "_view_count": null,
      "_view_module": "@jupyter-widgets/base",
      "_view_module_version": "1.2.0",
      "_view_name": "StyleView",
      "description_width": ""
     }
    },
    "eb51b4268dce46a384bb30861df273ed": {
     "model_module": "@jupyter-widgets/controls",
     "model_module_version": "1.5.0",
     "model_name": "DescriptionStyleModel",
     "state": {
      "_model_module": "@jupyter-widgets/controls",
      "_model_module_version": "1.5.0",
      "_model_name": "DescriptionStyleModel",
      "_view_count": null,
      "_view_module": "@jupyter-widgets/base",
      "_view_module_version": "1.2.0",
      "_view_name": "StyleView",
      "description_width": ""
     }
    },
    "ed9a96e810354799bbca8904fb24c406": {
     "model_module": "@jupyter-widgets/controls",
     "model_module_version": "1.5.0",
     "model_name": "ProgressStyleModel",
     "state": {
      "_model_module": "@jupyter-widgets/controls",
      "_model_module_version": "1.5.0",
      "_model_name": "ProgressStyleModel",
      "_view_count": null,
      "_view_module": "@jupyter-widgets/base",
      "_view_module_version": "1.2.0",
      "_view_name": "StyleView",
      "bar_color": null,
      "description_width": ""
     }
    },
    "eeb3ef656bed43428ae07743a942ea76": {
     "model_module": "@jupyter-widgets/base",
     "model_module_version": "1.2.0",
     "model_name": "LayoutModel",
     "state": {
      "_model_module": "@jupyter-widgets/base",
      "_model_module_version": "1.2.0",
      "_model_name": "LayoutModel",
      "_view_count": null,
      "_view_module": "@jupyter-widgets/base",
      "_view_module_version": "1.2.0",
      "_view_name": "LayoutView",
      "align_content": null,
      "align_items": null,
      "align_self": null,
      "border": null,
      "bottom": null,
      "display": null,
      "flex": null,
      "flex_flow": null,
      "grid_area": null,
      "grid_auto_columns": null,
      "grid_auto_flow": null,
      "grid_auto_rows": null,
      "grid_column": null,
      "grid_gap": null,
      "grid_row": null,
      "grid_template_areas": null,
      "grid_template_columns": null,
      "grid_template_rows": null,
      "height": null,
      "justify_content": null,
      "justify_items": null,
      "left": null,
      "margin": null,
      "max_height": null,
      "max_width": null,
      "min_height": null,
      "min_width": null,
      "object_fit": null,
      "object_position": null,
      "order": null,
      "overflow": null,
      "overflow_x": null,
      "overflow_y": null,
      "padding": null,
      "right": null,
      "top": null,
      "visibility": null,
      "width": null
     }
    },
    "f0bc67dc50f14fc28097ccdc3d99747d": {
     "model_module": "@jupyter-widgets/base",
     "model_module_version": "1.2.0",
     "model_name": "LayoutModel",
     "state": {
      "_model_module": "@jupyter-widgets/base",
      "_model_module_version": "1.2.0",
      "_model_name": "LayoutModel",
      "_view_count": null,
      "_view_module": "@jupyter-widgets/base",
      "_view_module_version": "1.2.0",
      "_view_name": "LayoutView",
      "align_content": null,
      "align_items": null,
      "align_self": null,
      "border": null,
      "bottom": null,
      "display": null,
      "flex": null,
      "flex_flow": null,
      "grid_area": null,
      "grid_auto_columns": null,
      "grid_auto_flow": null,
      "grid_auto_rows": null,
      "grid_column": null,
      "grid_gap": null,
      "grid_row": null,
      "grid_template_areas": null,
      "grid_template_columns": null,
      "grid_template_rows": null,
      "height": null,
      "justify_content": null,
      "justify_items": null,
      "left": null,
      "margin": null,
      "max_height": null,
      "max_width": null,
      "min_height": null,
      "min_width": null,
      "object_fit": null,
      "object_position": null,
      "order": null,
      "overflow": null,
      "overflow_x": null,
      "overflow_y": null,
      "padding": null,
      "right": null,
      "top": null,
      "visibility": null,
      "width": null
     }
    },
    "f22f106e02b843c0b89ac53bb59a8482": {
     "model_module": "@jupyter-widgets/base",
     "model_module_version": "1.2.0",
     "model_name": "LayoutModel",
     "state": {
      "_model_module": "@jupyter-widgets/base",
      "_model_module_version": "1.2.0",
      "_model_name": "LayoutModel",
      "_view_count": null,
      "_view_module": "@jupyter-widgets/base",
      "_view_module_version": "1.2.0",
      "_view_name": "LayoutView",
      "align_content": null,
      "align_items": null,
      "align_self": null,
      "border": null,
      "bottom": null,
      "display": null,
      "flex": null,
      "flex_flow": null,
      "grid_area": null,
      "grid_auto_columns": null,
      "grid_auto_flow": null,
      "grid_auto_rows": null,
      "grid_column": null,
      "grid_gap": null,
      "grid_row": null,
      "grid_template_areas": null,
      "grid_template_columns": null,
      "grid_template_rows": null,
      "height": null,
      "justify_content": null,
      "justify_items": null,
      "left": null,
      "margin": null,
      "max_height": null,
      "max_width": null,
      "min_height": null,
      "min_width": null,
      "object_fit": null,
      "object_position": null,
      "order": null,
      "overflow": null,
      "overflow_x": null,
      "overflow_y": null,
      "padding": null,
      "right": null,
      "top": null,
      "visibility": null,
      "width": null
     }
    },
    "f2aed72279524bc48fb05ffa6594ae66": {
     "model_module": "@jupyter-widgets/controls",
     "model_module_version": "1.5.0",
     "model_name": "HBoxModel",
     "state": {
      "_dom_classes": [],
      "_model_module": "@jupyter-widgets/controls",
      "_model_module_version": "1.5.0",
      "_model_name": "HBoxModel",
      "_view_count": null,
      "_view_module": "@jupyter-widgets/controls",
      "_view_module_version": "1.5.0",
      "_view_name": "HBoxView",
      "box_style": "",
      "children": [
       "IPY_MODEL_b391315a70934df1a0ba2d5737166556",
       "IPY_MODEL_d9d611cbcd5e41d29a3de29da7911603",
       "IPY_MODEL_1b46311a295242cd97fdfebb0de7da3d"
      ],
      "layout": "IPY_MODEL_3db342d434a544bc9a1b0ea0ed1c6e10"
     }
    },
    "f543b3356f54467287c6bede709fcee9": {
     "model_module": "@jupyter-widgets/base",
     "model_module_version": "1.2.0",
     "model_name": "LayoutModel",
     "state": {
      "_model_module": "@jupyter-widgets/base",
      "_model_module_version": "1.2.0",
      "_model_name": "LayoutModel",
      "_view_count": null,
      "_view_module": "@jupyter-widgets/base",
      "_view_module_version": "1.2.0",
      "_view_name": "LayoutView",
      "align_content": null,
      "align_items": null,
      "align_self": null,
      "border": null,
      "bottom": null,
      "display": null,
      "flex": null,
      "flex_flow": null,
      "grid_area": null,
      "grid_auto_columns": null,
      "grid_auto_flow": null,
      "grid_auto_rows": null,
      "grid_column": null,
      "grid_gap": null,
      "grid_row": null,
      "grid_template_areas": null,
      "grid_template_columns": null,
      "grid_template_rows": null,
      "height": null,
      "justify_content": null,
      "justify_items": null,
      "left": null,
      "margin": null,
      "max_height": null,
      "max_width": null,
      "min_height": null,
      "min_width": null,
      "object_fit": null,
      "object_position": null,
      "order": null,
      "overflow": null,
      "overflow_x": null,
      "overflow_y": null,
      "padding": null,
      "right": null,
      "top": null,
      "visibility": null,
      "width": null
     }
    },
    "f6f5dfcc22e34d8db3243d9c0bdb6119": {
     "model_module": "@jupyter-widgets/base",
     "model_module_version": "1.2.0",
     "model_name": "LayoutModel",
     "state": {
      "_model_module": "@jupyter-widgets/base",
      "_model_module_version": "1.2.0",
      "_model_name": "LayoutModel",
      "_view_count": null,
      "_view_module": "@jupyter-widgets/base",
      "_view_module_version": "1.2.0",
      "_view_name": "LayoutView",
      "align_content": null,
      "align_items": null,
      "align_self": null,
      "border": null,
      "bottom": null,
      "display": null,
      "flex": null,
      "flex_flow": null,
      "grid_area": null,
      "grid_auto_columns": null,
      "grid_auto_flow": null,
      "grid_auto_rows": null,
      "grid_column": null,
      "grid_gap": null,
      "grid_row": null,
      "grid_template_areas": null,
      "grid_template_columns": null,
      "grid_template_rows": null,
      "height": null,
      "justify_content": null,
      "justify_items": null,
      "left": null,
      "margin": null,
      "max_height": null,
      "max_width": null,
      "min_height": null,
      "min_width": null,
      "object_fit": null,
      "object_position": null,
      "order": null,
      "overflow": null,
      "overflow_x": null,
      "overflow_y": null,
      "padding": null,
      "right": null,
      "top": null,
      "visibility": null,
      "width": null
     }
    },
    "f760a8d5d7b14d318dd7d9318740e24a": {
     "model_module": "@jupyter-widgets/base",
     "model_module_version": "1.2.0",
     "model_name": "LayoutModel",
     "state": {
      "_model_module": "@jupyter-widgets/base",
      "_model_module_version": "1.2.0",
      "_model_name": "LayoutModel",
      "_view_count": null,
      "_view_module": "@jupyter-widgets/base",
      "_view_module_version": "1.2.0",
      "_view_name": "LayoutView",
      "align_content": null,
      "align_items": null,
      "align_self": null,
      "border": null,
      "bottom": null,
      "display": null,
      "flex": null,
      "flex_flow": null,
      "grid_area": null,
      "grid_auto_columns": null,
      "grid_auto_flow": null,
      "grid_auto_rows": null,
      "grid_column": null,
      "grid_gap": null,
      "grid_row": null,
      "grid_template_areas": null,
      "grid_template_columns": null,
      "grid_template_rows": null,
      "height": null,
      "justify_content": null,
      "justify_items": null,
      "left": null,
      "margin": null,
      "max_height": null,
      "max_width": null,
      "min_height": null,
      "min_width": null,
      "object_fit": null,
      "object_position": null,
      "order": null,
      "overflow": null,
      "overflow_x": null,
      "overflow_y": null,
      "padding": null,
      "right": null,
      "top": null,
      "visibility": null,
      "width": null
     }
    },
    "f87f9a170c2d435ea77883ca11db7645": {
     "model_module": "@jupyter-widgets/controls",
     "model_module_version": "1.5.0",
     "model_name": "HTMLModel",
     "state": {
      "_dom_classes": [],
      "_model_module": "@jupyter-widgets/controls",
      "_model_module_version": "1.5.0",
      "_model_name": "HTMLModel",
      "_view_count": null,
      "_view_module": "@jupyter-widgets/controls",
      "_view_module_version": "1.5.0",
      "_view_name": "HTMLView",
      "description": "",
      "description_tooltip": null,
      "layout": "IPY_MODEL_208edce4e95d409aa89d0558d6e24624",
      "placeholder": "​",
      "style": "IPY_MODEL_653df2bf1a3042f184ee2c6d6d2b89d9",
      "value": "Map: 100%"
     }
    },
    "f908caa1af5643ce9280c6d8ded09bb8": {
     "model_module": "@jupyter-widgets/base",
     "model_module_version": "1.2.0",
     "model_name": "LayoutModel",
     "state": {
      "_model_module": "@jupyter-widgets/base",
      "_model_module_version": "1.2.0",
      "_model_name": "LayoutModel",
      "_view_count": null,
      "_view_module": "@jupyter-widgets/base",
      "_view_module_version": "1.2.0",
      "_view_name": "LayoutView",
      "align_content": null,
      "align_items": null,
      "align_self": null,
      "border": null,
      "bottom": null,
      "display": null,
      "flex": null,
      "flex_flow": null,
      "grid_area": null,
      "grid_auto_columns": null,
      "grid_auto_flow": null,
      "grid_auto_rows": null,
      "grid_column": null,
      "grid_gap": null,
      "grid_row": null,
      "grid_template_areas": null,
      "grid_template_columns": null,
      "grid_template_rows": null,
      "height": null,
      "justify_content": null,
      "justify_items": null,
      "left": null,
      "margin": null,
      "max_height": null,
      "max_width": null,
      "min_height": null,
      "min_width": null,
      "object_fit": null,
      "object_position": null,
      "order": null,
      "overflow": null,
      "overflow_x": null,
      "overflow_y": null,
      "padding": null,
      "right": null,
      "top": null,
      "visibility": null,
      "width": null
     }
    },
    "f982fbd40ff84106a999a6c89bc79cfe": {
     "model_module": "@jupyter-widgets/base",
     "model_module_version": "1.2.0",
     "model_name": "LayoutModel",
     "state": {
      "_model_module": "@jupyter-widgets/base",
      "_model_module_version": "1.2.0",
      "_model_name": "LayoutModel",
      "_view_count": null,
      "_view_module": "@jupyter-widgets/base",
      "_view_module_version": "1.2.0",
      "_view_name": "LayoutView",
      "align_content": null,
      "align_items": null,
      "align_self": null,
      "border": null,
      "bottom": null,
      "display": null,
      "flex": null,
      "flex_flow": null,
      "grid_area": null,
      "grid_auto_columns": null,
      "grid_auto_flow": null,
      "grid_auto_rows": null,
      "grid_column": null,
      "grid_gap": null,
      "grid_row": null,
      "grid_template_areas": null,
      "grid_template_columns": null,
      "grid_template_rows": null,
      "height": null,
      "justify_content": null,
      "justify_items": null,
      "left": null,
      "margin": null,
      "max_height": null,
      "max_width": null,
      "min_height": null,
      "min_width": null,
      "object_fit": null,
      "object_position": null,
      "order": null,
      "overflow": null,
      "overflow_x": null,
      "overflow_y": null,
      "padding": null,
      "right": null,
      "top": null,
      "visibility": null,
      "width": null
     }
    },
    "f9f597731067494689ee9caa050dfd0c": {
     "model_module": "@jupyter-widgets/controls",
     "model_module_version": "1.5.0",
     "model_name": "HTMLModel",
     "state": {
      "_dom_classes": [],
      "_model_module": "@jupyter-widgets/controls",
      "_model_module_version": "1.5.0",
      "_model_name": "HTMLModel",
      "_view_count": null,
      "_view_module": "@jupyter-widgets/controls",
      "_view_module_version": "1.5.0",
      "_view_name": "HTMLView",
      "description": "",
      "description_tooltip": null,
      "layout": "IPY_MODEL_4dece1c77eb4492da1e476c30830b981",
      "placeholder": "​",
      "style": "IPY_MODEL_2e05a36c0a394fa7807eed5d62ba7e13",
      "value": " 1613/1613 [00:00&lt;00:00, 2429.17 examples/s]"
     }
    },
    "fc84074a775348a3be98e0d073c32659": {
     "model_module": "@jupyter-widgets/controls",
     "model_module_version": "1.5.0",
     "model_name": "HTMLModel",
     "state": {
      "_dom_classes": [],
      "_model_module": "@jupyter-widgets/controls",
      "_model_module_version": "1.5.0",
      "_model_name": "HTMLModel",
      "_view_count": null,
      "_view_module": "@jupyter-widgets/controls",
      "_view_module_version": "1.5.0",
      "_view_name": "HTMLView",
      "description": "",
      "description_tooltip": null,
      "layout": "IPY_MODEL_c6faa5e91b804f7ab15a9907dbf05768",
      "placeholder": "​",
      "style": "IPY_MODEL_b25deeb5633d48c6a67c3d4d464b19a2",
      "value": "Map: 100%"
     }
    },
    "fc9e0fc8ee2f46c0b90e8fd786f32a84": {
     "model_module": "@jupyter-widgets/controls",
     "model_module_version": "1.5.0",
     "model_name": "FloatProgressModel",
     "state": {
      "_dom_classes": [],
      "_model_module": "@jupyter-widgets/controls",
      "_model_module_version": "1.5.0",
      "_model_name": "FloatProgressModel",
      "_view_count": null,
      "_view_module": "@jupyter-widgets/controls",
      "_view_module_version": "1.5.0",
      "_view_name": "ProgressView",
      "bar_style": "success",
      "description": "",
      "description_tooltip": null,
      "layout": "IPY_MODEL_27150459d7e24c889ef9d3ddba7dec9e",
      "max": 206,
      "min": 0,
      "orientation": "horizontal",
      "style": "IPY_MODEL_8a9191d271f4426b9e79debb341c90ae",
      "value": 206
     }
    },
    "fcc60328158d4bf190fcd1aa6c69ddb8": {
     "model_module": "@jupyter-widgets/controls",
     "model_module_version": "1.5.0",
     "model_name": "HBoxModel",
     "state": {
      "_dom_classes": [],
      "_model_module": "@jupyter-widgets/controls",
      "_model_module_version": "1.5.0",
      "_model_name": "HBoxModel",
      "_view_count": null,
      "_view_module": "@jupyter-widgets/controls",
      "_view_module_version": "1.5.0",
      "_view_name": "HBoxView",
      "box_style": "",
      "children": [
       "IPY_MODEL_f87f9a170c2d435ea77883ca11db7645",
       "IPY_MODEL_b9c799fae48c45fe9c745c52b9e0c8b0",
       "IPY_MODEL_69aa1a7f0dc647cab27c19a2097283dc"
      ],
      "layout": "IPY_MODEL_dcfb4747f2d34e478e44970102361655"
     }
    },
    "fd2fdb54354845c7aeebf0cb2cb44fc2": {
     "model_module": "@jupyter-widgets/controls",
     "model_module_version": "1.5.0",
     "model_name": "HBoxModel",
     "state": {
      "_dom_classes": [],
      "_model_module": "@jupyter-widgets/controls",
      "_model_module_version": "1.5.0",
      "_model_name": "HBoxModel",
      "_view_count": null,
      "_view_module": "@jupyter-widgets/controls",
      "_view_module_version": "1.5.0",
      "_view_name": "HBoxView",
      "box_style": "",
      "children": [
       "IPY_MODEL_a89f450b45934bcfb2688600230e7bf6",
       "IPY_MODEL_85001b7fca914ee1bafc90f72798430e",
       "IPY_MODEL_1499e1da896242a1b43d7b24981eb5aa"
      ],
      "layout": "IPY_MODEL_4b5f9c1ce14644e7a681f8a3dc4125b0"
     }
    }
   }
  }
 },
 "nbformat": 4,
 "nbformat_minor": 5
}
