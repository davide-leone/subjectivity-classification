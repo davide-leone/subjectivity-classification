{
 "cells": [
  {
   "cell_type": "markdown",
   "id": "aee7ec87-d449-43ab-838a-2867b9986036",
   "metadata": {
    "id": "aee7ec87-d449-43ab-838a-2867b9986036"
   },
   "source": [
    "# Task 1: Subjectivity in News Articles"
   ]
  },
  {
   "cell_type": "markdown",
   "id": "6e1fc62d-9b04-4147-b715-b5160a450172",
   "metadata": {
    "id": "6e1fc62d-9b04-4147-b715-b5160a450172"
   },
   "source": [
    "## Task Description"
   ]
  },
  {
   "cell_type": "markdown",
   "id": "be8d832e-c55d-4c4e-a915-3c4ffbf45527",
   "metadata": {
    "id": "be8d832e-c55d-4c4e-a915-3c4ffbf45527"
   },
   "source": [
    "Systems are challenged to distinguish whether a sentence from a news article expresses the subjective view of the author behind it or presents an objective view on the covered topic instead.\n",
    "This is a binary classification tasks in which systems have to identify whether a text sequence (a sentence or a paragraph) is subjective (SUBJ) or objective (OBJ).\n",
    "The task comprises three settings:\n",
    "\n",
    "* Monolingual: train and test on data in a given language L\n",
    "\n",
    "* Multilingual: train and test on data comprising several languages\n",
    "\n",
    "* Zero-shot: train on several languages and test on unseen languages\n",
    "\n",
    "### Contents of the Task 1 Directory\n",
    "\n",
    "* Main folder: data\n",
    "\n",
    "  Contains a subfolder for each language which contain the data as TSV format with .tsv extension (train_LANG.tsv, dev_LANG.tsv, dev_test_LANG.tsv, test_LANG.tsv). As LANG we used standard language code for each language.\n",
    "\n",
    "* Main folder: baseline\n",
    "\n",
    "  Contains a single file, baseline.py, used to train a baseline and provide predictions.\n",
    "\n",
    "* Main folder: scorer\n",
    "\n",
    "  Contains a single file, evaluate.py, that checks the format of a submission and evaluate the various metrics.\n",
    "\n",
    "### Input Data Format\n",
    "The data will be provided as a TSV file with three columns:\n",
    "\n",
    "    sentence_id  sentence  label\n",
    "\n",
    "Where:\n",
    "\n",
    "* sentence_id: sentence id for a given sentence in a news article\n",
    "\n",
    "* sentence: sentence's text\n",
    "\n",
    "* label: OBJ and SUBJ\n",
    "\n",
    "\n",
    "Examples:\n",
    "\n",
    "    b9e1635a-72aa-467f-86d6-f56ef09f62c3  Gone are the days when they led the world in recession-busting SUBJ\n",
    "    f99b5143-70d2-494a-a2f5-c68f10d09d0a  The trend is expected to reverse as soon as next month.  OBJ\n",
    "\n",
    "### Output Data Format\n",
    "The output must be a TSV format with two columns: sentence_id and label.\n",
    "\n",
    "### Evaluation Metrics\n",
    "This task is evaluated as a classification task. We will use the F1-macro measure for the ranking of teams.\n",
    "We will also measure Precision, Recall, and F1 of the SUBJ class and the macro-averaged scores.\n",
    "\n",
    "\n",
    "### Scorers\n",
    "To evaluate the output of your model which should be in the output format required, please run the script below:\n",
    "\n",
    "    python evaluate.py -g dev_truth.tsv -p dev_predicted.tsv\n",
    "\n",
    "where dev_predicted.tsv is the output of your model on the dev set, and dev_truth.tsv is the golden label file provided by us.\n",
    "The file can be used also to validate the format of the submission, simply use the provided test file as gold data.\n",
    "The evaluation will not be performed, but the format of your input will be checked.\n",
    "\n",
    "### Baselines\n",
    "The script to train the baseline is provided in the related directory.\n",
    "The script can be run as follow:\n",
    "\n",
    "    python baseline.py -trp train_data.tsv -ttp dev_data.tsv\n",
    "\n",
    "where train_data.tsv is the file to be used for training and dev_data.tsv is the file on which doing the prediction.\n",
    "The baseline is a logistic regressor trained on a Sentence-BERT multilingual representation of the data."
   ]
  },
  {
   "cell_type": "markdown",
   "id": "87e6f77f-93cb-4da1-b047-4b5d26a8ec84",
   "metadata": {
    "id": "87e6f77f-93cb-4da1-b047-4b5d26a8ec84"
   },
   "source": [
    "## Data Loading"
   ]
  },
  {
   "cell_type": "code",
   "execution_count": 1,
   "id": "z7Rmzm5IB6oC",
   "metadata": {
    "colab": {
     "base_uri": "https://localhost:8080/"
    },
    "id": "z7Rmzm5IB6oC",
    "outputId": "aca7fa11-fccc-4b56-a6af-b6c2022adce0"
   },
   "outputs": [
    {
     "name": "stdout",
     "output_type": "stream",
     "text": [
      "Reading package lists... Done\n",
      "Building dependency tree... Done\n",
      "Reading state information... Done\n",
      "git-lfs is already the newest version (3.0.2-1ubuntu0.3).\n",
      "0 upgraded, 0 newly installed, 0 to remove and 35 not upgraded.\n"
     ]
    }
   ],
   "source": [
    "!apt-get install git-lfs -y"
   ]
  },
  {
   "cell_type": "code",
   "execution_count": 2,
   "id": "orAEyXZWB3uU",
   "metadata": {
    "colab": {
     "base_uri": "https://localhost:8080/"
    },
    "id": "orAEyXZWB3uU",
    "outputId": "bfeaa369-0398-4892-868e-5c820db51e79"
   },
   "outputs": [
    {
     "name": "stdout",
     "output_type": "stream",
     "text": [
      "Cloning into 'clef2025-checkthat-lab'...\n",
      "remote: Enumerating objects: 866, done.\u001b[K\n",
      "remote: Counting objects: 100% (845/845), done.\u001b[K\n",
      "remote: Compressing objects: 100% (426/426), done.\u001b[K\n",
      "remote: Total 866 (delta 413), reused 829 (delta 406), pack-reused 21 (from 1)\u001b[K\n",
      "Receiving objects: 100% (866/866), 78.96 MiB | 11.97 MiB/s, done.\n",
      "Resolving deltas: 100% (417/417), done.\n",
      "Updating files: 100% (181/181), done.\n"
     ]
    }
   ],
   "source": [
    "!git clone https://gitlab.com/checkthat_lab/clef2025-checkthat-lab.git"
   ]
  },
  {
   "cell_type": "code",
   "execution_count": 3,
   "id": "f97e05a6-3fb6-48c8-840a-72b1984c30b8",
   "metadata": {
    "id": "f97e05a6-3fb6-48c8-840a-72b1984c30b8"
   },
   "outputs": [],
   "source": [
    "# !pip install pandas"
   ]
  },
  {
   "cell_type": "code",
   "execution_count": 4,
   "id": "JoxRrnoGB_NH",
   "metadata": {
    "id": "JoxRrnoGB_NH"
   },
   "outputs": [],
   "source": [
    "DATA_PATH = \"clef2025-checkthat-lab/task1/data\"\n",
    "SCORER_PATH = \"clef2025-checkthat-lab/task1/scorer\""
   ]
  },
  {
   "cell_type": "code",
   "execution_count": 5,
   "id": "929c7d52-6438-4722-a13c-e6a46806b33a",
   "metadata": {
    "id": "929c7d52-6438-4722-a13c-e6a46806b33a"
   },
   "outputs": [],
   "source": [
    "import pandas as pd"
   ]
  },
  {
   "cell_type": "code",
   "execution_count": 6,
   "id": "a8f91dd1-a5de-4669-80b8-0af805e19297",
   "metadata": {
    "id": "a8f91dd1-a5de-4669-80b8-0af805e19297"
   },
   "outputs": [],
   "source": [
    "# ARABIC\n",
    "train_path = f'{DATA_PATH}/arabic/train_ar.tsv'\n",
    "dev_path = f'{DATA_PATH}/arabic/dev_ar.tsv'\n",
    "\n",
    "df_train_ar = pd.read_csv(train_path, sep='\\t')\n",
    "df_dev_ar = pd.read_csv(dev_path, sep='\\t')\n",
    "\n",
    "# BULGARIAN\n",
    "train_path = f'{DATA_PATH}/bulgarian/train_bg.tsv'\n",
    "dev_path = f'{DATA_PATH}/bulgarian/dev_bg.tsv'\n",
    "\n",
    "df_train_bg = pd.read_csv(train_path, sep='\\t')\n",
    "df_dev_bg = pd.read_csv(dev_path, sep='\\t')\n",
    "\n",
    "# ENGLISH\n",
    "train_path = f'{DATA_PATH}/english/train_en.tsv'\n",
    "dev_path = f'{DATA_PATH}/english/dev_en.tsv'\n",
    "\n",
    "df_train_en = pd.read_csv(train_path, sep='\\t')\n",
    "df_dev_en = pd.read_csv(dev_path, sep='\\t')\n",
    "\n",
    "# GERMAN\n",
    "train_path = f'{DATA_PATH}/german/train_de.tsv'\n",
    "dev_path = f'{DATA_PATH}/german/dev_de.tsv'\n",
    "\n",
    "df_train_de = pd.read_csv(train_path, sep='\\t')\n",
    "df_dev_de = pd.read_csv(dev_path, sep='\\t')\n",
    "\n",
    "# ITALIAN\n",
    "train_path = f'{DATA_PATH}/italian/train_it.tsv'\n",
    "dev_path = f'{DATA_PATH}/italian/dev_it.tsv'\n",
    "\n",
    "df_train_it = pd.read_csv(train_path, sep='\\t')\n",
    "df_dev_it = pd.read_csv(dev_path, sep='\\t')\n",
    "\n",
    "# MONOLINGUAL - TEST ON ENGLISH AND ITALIAN\n",
    "test_path = f'{DATA_PATH}/english/test_en_labeled.tsv'\n",
    "df_test_en = pd.read_csv(test_path, sep='\\t')\n",
    "\n",
    "test_path = f'{DATA_PATH}/italian/test_it_labeled.tsv'\n",
    "df_test_it = pd.read_csv(test_path, sep='\\t')\n",
    "\n",
    "# MULTILINGUAL - TEST ON ARABIC, BULGARIAN, ENGLISH, GERMAN AND ITALIAN\n",
    "test_path = f'{DATA_PATH}/multilingual/test_multilingual_labeled.tsv'\n",
    "\n",
    "df_test_multi = pd.read_csv(test_path, sep='\\t')\n",
    "\n",
    "# ZERO-SHOT - TEST ON GREEK, POLISH, ROMANIAN AND UKRAINIAN\n",
    "test_path = f'{DATA_PATH}/greek/test_gr_labeled.tsv'\n",
    "df_test_gr = pd.read_csv(test_path, sep='\\t')\n",
    "\n",
    "test_path = f'{DATA_PATH}/polish/test_pol_labeled.tsv'\n",
    "df_test_pol = pd.read_csv(test_path, sep='\\t')\n",
    "\n",
    "test_path = f'{DATA_PATH}/romanian/test_ro_labeled.tsv'\n",
    "df_test_ro = pd.read_csv(test_path, sep='\\t')\n",
    "\n",
    "test_path = f'{DATA_PATH}/ukrainian/test_ukr_labeled.tsv'\n",
    "df_test_ukr = pd.read_csv(test_path, sep='\\t')"
   ]
  },
  {
   "cell_type": "code",
   "execution_count": 7,
   "id": "956e8470-1242-423a-9cb6-da57c6b80efb",
   "metadata": {
    "id": "956e8470-1242-423a-9cb6-da57c6b80efb"
   },
   "outputs": [],
   "source": [
    "# Keep only the required columns\n",
    "df_train_en = df_train_en[['sentence_id', 'sentence', 'label']]\n",
    "df_dev_en = df_dev_en[['sentence_id', 'sentence', 'label']]\n",
    "\n",
    "# Encode labels: OBJ -> 1, SUBJ -> 0\n",
    "df_train_ar['label'] = df_train_ar['label'].map({'OBJ': 1, 'SUBJ': 0})\n",
    "df_dev_ar['label'] = df_dev_ar['label'].map({'OBJ': 1, 'SUBJ': 0})\n",
    "\n",
    "df_train_bg['label'] = df_train_bg['label'].map({'OBJ': 1, 'SUBJ': 0})\n",
    "df_dev_bg['label'] = df_dev_bg['label'].map({'OBJ': 1, 'SUBJ': 0})\n",
    "\n",
    "df_train_en['label'] = df_train_en['label'].map({'OBJ': 1, 'SUBJ': 0})\n",
    "df_dev_en['label'] = df_dev_en['label'].map({'OBJ': 1, 'SUBJ': 0})\n",
    "df_test_en['label'] = df_test_en['label'].map({'OBJ': 1, 'SUBJ': 0})\n",
    "\n",
    "df_train_de['label'] = df_train_de['label'].map({'OBJ': 1, 'SUBJ': 0})\n",
    "df_dev_de['label'] = df_dev_de['label'].map({'OBJ': 1, 'SUBJ': 0})\n",
    "\n",
    "df_train_it['label'] = df_train_it['label'].map({'OBJ': 1, 'SUBJ': 0})\n",
    "df_dev_it['label'] = df_dev_it['label'].map({'OBJ': 1, 'SUBJ': 0})\n",
    "df_test_it['label'] = df_test_it['label'].map({'OBJ': 1, 'SUBJ': 0})\n",
    "\n",
    "df_test_multi['label'] = df_test_multi['label'].map({'OBJ': 1, 'SUBJ': 0})\n",
    "\n",
    "df_test_gr['label'] = df_test_gr['label'].map({'OBJ': 1, 'SUBJ': 0})\n",
    "\n",
    "df_test_pol['label'] = df_test_pol['label'].map({'OBJ': 1, 'SUBJ': 0})\n",
    "\n",
    "df_test_ro['label'] = df_test_ro['label'].map({'OBJ': 1, 'SUBJ': 0})\n",
    "\n",
    "df_test_ukr['label'] = df_test_ukr['label'].map({'OBJ': 1, 'SUBJ': 0})"
   ]
  },
  {
   "cell_type": "code",
   "execution_count": 8,
   "id": "48d593e4-7aa1-4264-ae2f-270116f8571a",
   "metadata": {
    "id": "48d593e4-7aa1-4264-ae2f-270116f8571a"
   },
   "outputs": [],
   "source": [
    "def print_shape(df1, df2, df3):\n",
    "    \"\"\"\n",
    "    Utility function to print the shape of the three dataframes\n",
    "    \"\"\"\n",
    "    if df1 is not None:\n",
    "        print(\"Train dataframe:    {} rows and {} columns\".format(df1.shape[0], df1.shape[1]))\n",
    "    if df2 is not None:\n",
    "        print(\"Dev dataframe:       {} rows and {} columns\".format(df2.shape[0], df2.shape[1]))\n",
    "    if df3 is not None:\n",
    "        print(\"Test dataframe:      {} rows and {} columns\".format(df3.shape[0], df3.shape[1]))\n",
    "    print(\"--------------------------------------------\")"
   ]
  },
  {
   "cell_type": "code",
   "execution_count": 9,
   "id": "5b86540b-c9c2-4e64-81ac-28b65a2b592b",
   "metadata": {
    "colab": {
     "base_uri": "https://localhost:8080/"
    },
    "id": "5b86540b-c9c2-4e64-81ac-28b65a2b592b",
    "outputId": "14588c00-c852-472f-ac21-f3cdc0eda609"
   },
   "outputs": [
    {
     "name": "stdout",
     "output_type": "stream",
     "text": [
      "ARABIC\n",
      "Train dataframe:    2446 rows and 3 columns\n",
      "Dev dataframe:       467 rows and 3 columns\n",
      "--------------------------------------------\n",
      "BULGARIAN\n",
      "Train dataframe:    691 rows and 3 columns\n",
      "Dev dataframe:       306 rows and 3 columns\n",
      "--------------------------------------------\n",
      "ENGLISH\n",
      "Train dataframe:    830 rows and 3 columns\n",
      "Dev dataframe:       462 rows and 3 columns\n",
      "Test dataframe:      300 rows and 3 columns\n",
      "--------------------------------------------\n",
      "GERMAN\n",
      "Train dataframe:    800 rows and 3 columns\n",
      "Dev dataframe:       491 rows and 3 columns\n",
      "--------------------------------------------\n",
      "ITALIAN\n",
      "Train dataframe:    1613 rows and 3 columns\n",
      "Dev dataframe:       667 rows and 3 columns\n",
      "Test dataframe:      299 rows and 3 columns\n",
      "--------------------------------------------\n",
      "MULTILINGUAL\n",
      "Test dataframe:      1982 rows and 3 columns\n",
      "--------------------------------------------\n",
      "GREEK\n",
      "Test dataframe:      284 rows and 3 columns\n",
      "--------------------------------------------\n",
      "POLISH\n",
      "Test dataframe:      351 rows and 3 columns\n",
      "--------------------------------------------\n",
      "ROMANIAN\n",
      "Test dataframe:      206 rows and 3 columns\n",
      "--------------------------------------------\n",
      "UKRAINIAN\n",
      "Test dataframe:      297 rows and 3 columns\n",
      "--------------------------------------------\n"
     ]
    }
   ],
   "source": [
    "print(\"ARABIC\")\n",
    "print_shape(df_train_ar, df_dev_ar, None)\n",
    "print(\"BULGARIAN\")\n",
    "print_shape(df_train_bg, df_dev_bg, None)\n",
    "print(\"ENGLISH\")\n",
    "print_shape(df_train_en, df_dev_en, df_test_en)\n",
    "print(\"GERMAN\")\n",
    "print_shape(df_train_de, df_dev_de, None)\n",
    "print(\"ITALIAN\")\n",
    "print_shape(df_train_it, df_dev_it, df_test_it)\n",
    "print(\"MULTILINGUAL\")\n",
    "print_shape(None, None, df_test_multi)\n",
    "print(\"GREEK\")\n",
    "print_shape(None, None, df_test_gr)\n",
    "print(\"POLISH\")\n",
    "print_shape(None, None, df_test_pol)\n",
    "print(\"ROMANIAN\")\n",
    "print_shape(None, None, df_test_ro)\n",
    "print(\"UKRAINIAN\")\n",
    "print_shape(None, None, df_test_ukr)"
   ]
  },
  {
   "cell_type": "code",
   "execution_count": 10,
   "id": "8ebff4fe-418f-4c84-b600-4726fde0082e",
   "metadata": {
    "id": "8ebff4fe-418f-4c84-b600-4726fde0082e"
   },
   "outputs": [],
   "source": [
    "# Keep the original sentence for error analysis\n",
    "original_sentence_en = df_test_en[\"sentence\"]\n",
    "# Keep the original sentence for error analysis\n",
    "original_sentence_it = df_test_it[\"sentence\"]"
   ]
  },
  {
   "cell_type": "markdown",
   "id": "iUFKhQyuL-IQ",
   "metadata": {
    "id": "iUFKhQyuL-IQ"
   },
   "source": [
    "### Utils"
   ]
  },
  {
   "cell_type": "code",
   "execution_count": 11,
   "id": "d02eb092-62f5-4fd4-b741-ae9d112175f5",
   "metadata": {
    "id": "d02eb092-62f5-4fd4-b741-ae9d112175f5"
   },
   "outputs": [],
   "source": [
    "def plot_confusion_matrix(model, results):\n",
    "    cm = confusion_matrix(results[\"true_label\"], results[\"predicted_label\"], labels=[0, 1])\n",
    "    cmd = ConfusionMatrixDisplay(cm, display_labels=[\"Subjective\", \"Objective\"])\n",
    "    cmd.plot(cmap=\"Blues\")\n",
    "    plt.xlabel('Predicted Label', fontsize=18, labelpad=14)\n",
    "    plt.ylabel('True Label', fontsize=18, labelpad=14)\n",
    "    plt.xticks(fontsize=14)\n",
    "    plt.yticks(fontsize=14)\n",
    "#    plt.title(f\"{model}: Confusion Matrix\")\n",
    "#    plt.savefig(f\"outputs/cm_{model}.png\", bbox_inches='tight')\n",
    "    plt.show()\n",
    "\n",
    "    cm = confusion_matrix(results[\"true_label\"], results[\"predicted_label\"], labels=[0, 1], normalize='all')\n",
    "    cmd = ConfusionMatrixDisplay(cm, display_labels=[\"Subjective\", \"Objective\"])\n",
    "    cmd.plot(cmap=\"Blues\")\n",
    "    plt.xlabel('Predicted Label', fontsize=18, labelpad=14)\n",
    "    plt.ylabel('True Label', fontsize=18, labelpad=14)\n",
    "    plt.xticks(fontsize=14)\n",
    "    plt.yticks(fontsize=14)\n",
    "#    plt.title(f\"{model}: Normalized Confusion Matrix\")\n",
    "#    plt.savefig(f\"outputs/cm_{model}_norm.png\", bbox_inches='tight')\n",
    "    plt.show()\n",
    "\n",
    "def plot_precision_recall_curve(model, precision, recall, average_precision):\n",
    "    # Plot the Precision-Recall curve\n",
    "    plt.figure()\n",
    "    plt.step(recall, precision, color='b', alpha=0.2, where='post')\n",
    "    plt.fill_between(recall, precision, step='post', alpha=0.2, color='b')\n",
    "    plt.xlabel('Recall')\n",
    "    plt.ylabel('Precision')\n",
    "    plt.title(f'{model}: Precision-Recall Curve (AP = {average_precision:.2f})')\n",
    "    # plt.savefig(f\"outputs/pr_curve_{model}.png\")\n",
    "    plt.show()"
   ]
  },
  {
   "cell_type": "markdown",
   "id": "dd247422-f7b5-4c36-9902-1ffa63e0bae7",
   "metadata": {
    "id": "dd247422-f7b5-4c36-9902-1ffa63e0bae7"
   },
   "source": [
    "## Solution 1: Transformer"
   ]
  },
  {
   "cell_type": "markdown",
   "id": "e0eae923-21b7-433d-8c09-2e793f56d30c",
   "metadata": {
    "id": "e0eae923-21b7-433d-8c09-2e793f56d30c"
   },
   "source": [
    "### Utils"
   ]
  },
  {
   "cell_type": "code",
   "execution_count": 12,
   "id": "3baf96a5-d69c-49a5-8149-479312910895",
   "metadata": {
    "colab": {
     "base_uri": "https://localhost:8080/"
    },
    "id": "3baf96a5-d69c-49a5-8149-479312910895",
    "outputId": "dca05a89-3d2d-4632-c2c6-130e7e0291c2"
   },
   "outputs": [
    {
     "name": "stdout",
     "output_type": "stream",
     "text": [
      "Collecting evaluate\n",
      "  Downloading evaluate-0.4.3-py3-none-any.whl.metadata (9.2 kB)\n",
      "Requirement already satisfied: datasets>=2.0.0 in /usr/local/lib/python3.11/dist-packages (from evaluate) (2.14.4)\n",
      "Requirement already satisfied: numpy>=1.17 in /usr/local/lib/python3.11/dist-packages (from evaluate) (2.0.2)\n",
      "Requirement already satisfied: dill in /usr/local/lib/python3.11/dist-packages (from evaluate) (0.3.7)\n",
      "Requirement already satisfied: pandas in /usr/local/lib/python3.11/dist-packages (from evaluate) (2.2.2)\n",
      "Requirement already satisfied: requests>=2.19.0 in /usr/local/lib/python3.11/dist-packages (from evaluate) (2.32.3)\n",
      "Requirement already satisfied: tqdm>=4.62.1 in /usr/local/lib/python3.11/dist-packages (from evaluate) (4.67.1)\n",
      "Requirement already satisfied: xxhash in /usr/local/lib/python3.11/dist-packages (from evaluate) (3.5.0)\n",
      "Requirement already satisfied: multiprocess in /usr/local/lib/python3.11/dist-packages (from evaluate) (0.70.15)\n",
      "Requirement already satisfied: fsspec>=2021.05.0 in /usr/local/lib/python3.11/dist-packages (from fsspec[http]>=2021.05.0->evaluate) (2025.3.2)\n",
      "Requirement already satisfied: huggingface-hub>=0.7.0 in /usr/local/lib/python3.11/dist-packages (from evaluate) (0.31.4)\n",
      "Requirement already satisfied: packaging in /usr/local/lib/python3.11/dist-packages (from evaluate) (24.2)\n",
      "Requirement already satisfied: pyarrow>=8.0.0 in /usr/local/lib/python3.11/dist-packages (from datasets>=2.0.0->evaluate) (18.1.0)\n",
      "Requirement already satisfied: aiohttp in /usr/local/lib/python3.11/dist-packages (from datasets>=2.0.0->evaluate) (3.11.15)\n",
      "Requirement already satisfied: pyyaml>=5.1 in /usr/local/lib/python3.11/dist-packages (from datasets>=2.0.0->evaluate) (6.0.2)\n",
      "Requirement already satisfied: filelock in /usr/local/lib/python3.11/dist-packages (from huggingface-hub>=0.7.0->evaluate) (3.18.0)\n",
      "Requirement already satisfied: typing-extensions>=3.7.4.3 in /usr/local/lib/python3.11/dist-packages (from huggingface-hub>=0.7.0->evaluate) (4.13.2)\n",
      "Requirement already satisfied: charset-normalizer<4,>=2 in /usr/local/lib/python3.11/dist-packages (from requests>=2.19.0->evaluate) (3.4.2)\n",
      "Requirement already satisfied: idna<4,>=2.5 in /usr/local/lib/python3.11/dist-packages (from requests>=2.19.0->evaluate) (3.10)\n",
      "Requirement already satisfied: urllib3<3,>=1.21.1 in /usr/local/lib/python3.11/dist-packages (from requests>=2.19.0->evaluate) (2.4.0)\n",
      "Requirement already satisfied: certifi>=2017.4.17 in /usr/local/lib/python3.11/dist-packages (from requests>=2.19.0->evaluate) (2025.4.26)\n",
      "Requirement already satisfied: python-dateutil>=2.8.2 in /usr/local/lib/python3.11/dist-packages (from pandas->evaluate) (2.9.0.post0)\n",
      "Requirement already satisfied: pytz>=2020.1 in /usr/local/lib/python3.11/dist-packages (from pandas->evaluate) (2025.2)\n",
      "Requirement already satisfied: tzdata>=2022.7 in /usr/local/lib/python3.11/dist-packages (from pandas->evaluate) (2025.2)\n",
      "Requirement already satisfied: aiohappyeyeballs>=2.3.0 in /usr/local/lib/python3.11/dist-packages (from aiohttp->datasets>=2.0.0->evaluate) (2.6.1)\n",
      "Requirement already satisfied: aiosignal>=1.1.2 in /usr/local/lib/python3.11/dist-packages (from aiohttp->datasets>=2.0.0->evaluate) (1.3.2)\n",
      "Requirement already satisfied: attrs>=17.3.0 in /usr/local/lib/python3.11/dist-packages (from aiohttp->datasets>=2.0.0->evaluate) (25.3.0)\n",
      "Requirement already satisfied: frozenlist>=1.1.1 in /usr/local/lib/python3.11/dist-packages (from aiohttp->datasets>=2.0.0->evaluate) (1.6.0)\n",
      "Requirement already satisfied: multidict<7.0,>=4.5 in /usr/local/lib/python3.11/dist-packages (from aiohttp->datasets>=2.0.0->evaluate) (6.4.4)\n",
      "Requirement already satisfied: propcache>=0.2.0 in /usr/local/lib/python3.11/dist-packages (from aiohttp->datasets>=2.0.0->evaluate) (0.3.1)\n",
      "Requirement already satisfied: yarl<2.0,>=1.17.0 in /usr/local/lib/python3.11/dist-packages (from aiohttp->datasets>=2.0.0->evaluate) (1.20.0)\n",
      "Requirement already satisfied: six>=1.5 in /usr/local/lib/python3.11/dist-packages (from python-dateutil>=2.8.2->pandas->evaluate) (1.17.0)\n",
      "Downloading evaluate-0.4.3-py3-none-any.whl (84 kB)\n",
      "\u001b[2K   \u001b[90m━━━━━━━━━━━━━━━━━━━━━━━━━━━━━━━━━━━━━━━━\u001b[0m \u001b[32m84.0/84.0 kB\u001b[0m \u001b[31m8.1 MB/s\u001b[0m eta \u001b[36m0:00:00\u001b[0m\n",
      "\u001b[?25hInstalling collected packages: evaluate\n",
      "Successfully installed evaluate-0.4.3\n"
     ]
    }
   ],
   "source": [
    "# !pip install transformers\n",
    "# !pip install datasets\n",
    "# !pip install accelerate -U\n",
    "!pip install evaluate\n",
    "# !pip install bitsandbytes\n",
    "# !pip install tf-keras\n",
    "# !pip install sentencepiece\n",
    "# !pip install sentence_transformers"
   ]
  },
  {
   "cell_type": "code",
   "execution_count": 13,
   "id": "af16334d-c3f6-4e63-b4fd-14e54934ea68",
   "metadata": {
    "id": "af16334d-c3f6-4e63-b4fd-14e54934ea68"
   },
   "outputs": [],
   "source": [
    "import evaluate\n",
    "import matplotlib.pyplot as plt\n",
    "import numpy as np\n",
    "import os\n",
    "import seaborn as sns\n",
    "import shutil\n",
    "import torch\n",
    "\n",
    "from datasets import Dataset\n",
    "from transformers import (\n",
    "    AutoTokenizer,\n",
    "    AutoModelForSequenceClassification,\n",
    "    Trainer,\n",
    "    TrainingArguments,\n",
    "    DataCollatorWithPadding\n",
    ")\n",
    "from sklearn.metrics import classification_report\n",
    "from sklearn.metrics import confusion_matrix, ConfusionMatrixDisplay\n",
    "from sklearn.metrics import precision_recall_curve, average_precision_score, auc"
   ]
  },
  {
   "cell_type": "code",
   "execution_count": 14,
   "id": "6b6b1d5f-7aad-449e-b794-5a5843b4ba4c",
   "metadata": {
    "colab": {
     "base_uri": "https://localhost:8080/",
     "height": 173,
     "referenced_widgets": [
      "6ecd1ba5a9db4a86a6587d6a52c3597a",
      "e8d9d72a733f4cf6883c3cd7b6251fd1",
      "feed95d0dd8d4c4291fee64035ea4b53",
      "489ab72113ea438688b3608ef8f4cbd5",
      "b8849bfc34c04d29a17e43d7419659e5",
      "3fec019251a44b88868e43bd9954c245",
      "d0468df42e3a461faa62e565030ac1c3",
      "8cadbe06597544a6a7135f866cca83c3",
      "231127cf6436412cb2a1fd49a728c44e",
      "625353714dd746ddaf3fe3733c68007f",
      "37818b840a5646d783270db3c5e25258"
     ]
    },
    "id": "6b6b1d5f-7aad-449e-b794-5a5843b4ba4c",
    "outputId": "a4f8d9d3-14f7-4460-99ef-251380659312"
   },
   "outputs": [
    {
     "name": "stderr",
     "output_type": "stream",
     "text": [
      "/usr/local/lib/python3.11/dist-packages/huggingface_hub/utils/_auth.py:94: UserWarning: \n",
      "The secret `HF_TOKEN` does not exist in your Colab secrets.\n",
      "To authenticate with the Hugging Face Hub, create a token in your settings tab (https://huggingface.co/settings/tokens), set it as secret in your Google Colab and restart your session.\n",
      "You will be able to reuse this secret in all of your notebooks.\n",
      "Please note that authentication is recommended but still optional to access public models or datasets.\n",
      "  warnings.warn(\n"
     ]
    },
    {
     "data": {
      "application/vnd.jupyter.widget-view+json": {
       "model_id": "6ecd1ba5a9db4a86a6587d6a52c3597a",
       "version_major": 2,
       "version_minor": 0
      },
      "text/plain": [
       "Downloading builder script:   0%|          | 0.00/6.79k [00:00<?, ?B/s]"
      ]
     },
     "metadata": {},
     "output_type": "display_data"
    }
   ],
   "source": [
    "def preprocess_function(examples):\n",
    "    return tokenizer(examples[\"sentence\"], truncation=True, padding=True)\n",
    "\n",
    "# Metrics\n",
    "f1_metric = evaluate.load(\"f1\")\n",
    "def compute_metrics(eval_pred):\n",
    "    logits, labels = eval_pred\n",
    "    preds = np.argmax(logits, axis=-1)\n",
    "    result = f1_metric.compute(predictions=preds, references=labels, average=\"macro\")\n",
    "    return {\"f1_macro\": result[\"f1\"]}"
   ]
  },
  {
   "cell_type": "code",
   "execution_count": 15,
   "id": "bWDeOVb3_Yya",
   "metadata": {
    "colab": {
     "base_uri": "https://localhost:8080/"
    },
    "id": "bWDeOVb3_Yya",
    "outputId": "d34bba2e-257a-4090-cf59-fa9b00468dcd"
   },
   "outputs": [
    {
     "name": "stdout",
     "output_type": "stream",
     "text": [
      "GPU is available: Tesla T4\n"
     ]
    }
   ],
   "source": [
    "import torch\n",
    "\n",
    "if torch.cuda.is_available():\n",
    "    print(f\"GPU is available: {torch.cuda.get_device_name(0)}\")\n",
    "else:\n",
    "    print(\"GPU not available.\")"
   ]
  },
  {
   "cell_type": "markdown",
   "id": "82806704-06b2-4141-8544-b080e8245e3c",
   "metadata": {
    "id": "82806704-06b2-4141-8544-b080e8245e3c"
   },
   "source": [
    "### Monolingual"
   ]
  },
  {
   "cell_type": "markdown",
   "id": "04e18a9d-1ccf-4dd8-9b7f-6d9cfadd2c19",
   "metadata": {
    "id": "04e18a9d-1ccf-4dd8-9b7f-6d9cfadd2c19"
   },
   "source": [
    "#### English"
   ]
  },
  {
   "cell_type": "code",
   "execution_count": 16,
   "id": "1cc0b29d-b4e8-43b5-94c3-7f39503c6c9a",
   "metadata": {
    "id": "1cc0b29d-b4e8-43b5-94c3-7f39503c6c9a"
   },
   "outputs": [],
   "source": [
    "dataset_train = Dataset.from_pandas(df_train_en)\n",
    "dataset_val = Dataset.from_pandas(df_dev_en)\n",
    "dataset_test = Dataset.from_pandas(df_test_en)"
   ]
  },
  {
   "cell_type": "code",
   "execution_count": 17,
   "id": "198a117a-6127-458a-b509-33c82aef076d",
   "metadata": {
    "colab": {
     "base_uri": "https://localhost:8080/",
     "height": 278,
     "referenced_widgets": [
      "ec5f5a5926114f0a942c79836610c0a4",
      "3ec99f76ef6b4609a6e48152b314ebb6",
      "2609c6d44a8f4fa48fef2522f4dc54a7",
      "e96f4b5b6d704b33b37728a49b695035",
      "4aba5df7402e4a889893a67b02961a7d",
      "3e6cf322ccd04ca0bb1c942f9fa087ca",
      "eb417af6aadc499da905e9a3ede13883",
      "e75e518b248d44d9a806a73de74661fb",
      "8a4393183a794c79ae49ae7d46b288b4",
      "ca69a7e650494e6b950131f8450f3c08",
      "5d73a46635954da8890da416addc5639",
      "84b50e1b077243dabfd64735e9ef2c58",
      "b77cf4c807af4179b530d30cb96ae4a7",
      "f0c807d14673402aafe0092366be6c3f",
      "35e87628df514c4aba5fc9685fe248af",
      "f9a6fbfc0cf44c41beb2e34e393ca3c6",
      "2ae72059f95e4c1bb893d9ccdb58794e",
      "80a67c8977224637a188c8dbf27638a0",
      "4f04ec1f9c1d4b66baae9374e5e360ae",
      "b90269361d9b4b4d874265229a2a97c2",
      "999a0c31b60e4c66bf93ca2422713b96",
      "ec3ada95a2b841b59683898147a7675e",
      "7742e1eb959f46a7b41f707d53d3b87f",
      "7d52f8bbc7c64e87bc9c1c6864b09c40",
      "c602950bbc844b3599a166b2860f337d",
      "7bbc3ac1cd2b4b7c85bf186af8133173",
      "cbcec34588814373ae62d84373beeb84",
      "c116e370c0c6470986cb79ef06a87e5e",
      "7d584f6c8077424b82c589317c762b76",
      "f0c2fe59e5244e76878553aa6475676b",
      "81812e329dea4a7790e27237910e86df",
      "6302dd91c76f422da64c23a85e8aecbb",
      "168024f26d2c44d4b57fd868a9567734",
      "d2b03ca689d5492a87673fcd838c1750",
      "c6a373762e1d47278e522c885d7b0bf0",
      "8d763aace00c4846ad96ecbef3772400",
      "ca403e30c4714c7d8adf31c99f328cbd",
      "4739486c3cea48daabaf49197133498c",
      "9bf0cd200a2b41d88e7e470607293761",
      "ed0286fd912644bbaad7e77a473079b4",
      "1ec406408c9c446c9d1419cd13c9f4c2",
      "6715480233b44197bbd7ec1e1e063ac0",
      "bf04561e10d74ccd8a8505c0f213e6c5",
      "142f2451e5984ecda96f05c78b6b2f68",
      "58a26f3846574eb9bd4e290aeba0d8a0",
      "b9c752fe12534687a8754a5dd07f1f31",
      "39522112cc6645f981c2aab59fc3ff39",
      "8999828e8fd443148186ba4244c1e649",
      "33e8d102aa52407ca37c33c774685519",
      "7f7e9442e71d444dbfb3b9ea06fb0eaf",
      "6bf24be637284d878f59d4eb21f2d9b8",
      "ce6fefea0e18428bb1f66dca2250c5f3",
      "027100329e684b8da78e0591b1d660dc",
      "87992569e38d4bbf8bae1929c1b5c9af",
      "81baf450acf54410824af2cc78742645",
      "449678b6eca8469abe63f4f50ed7e0f1",
      "abaed3eeb9f44cd59521fc13c579e58a",
      "a83367482cc1470a98226fc8af385b21",
      "8d4ac6d4bbdf4a849f9adb04d47aadd4",
      "0ce26055de76455dbe30109fba14063d",
      "6a03c906652b4987922e7ebcf1479bbe",
      "2734e3ca01354feb9484acf4c84c214a",
      "bf86d3a4a06f41a6b480018e102a1af7",
      "12bd38346f8a4007ac6eec40c9355798",
      "f22020e46a0b493cb1c75fb78a636f8e",
      "299f2a474bff41cdb85d87ffd43be181",
      "b0a8c6abfb394166b93d48f6fbf7927b",
      "0ca2980228d14083a07c3e7c64a1c30f",
      "8dbfd3768490411c909db9a119f74b62",
      "d651ae1a71b94b86a6f663554df26402",
      "00b1f327049e41c5b25098abe69332d6",
      "a4f241d811b043ef854f3df1e9ce241c",
      "33be584e8f784d309494076e48e463cc",
      "064357d4e9ea45f49dec29b032f21fbe",
      "4f3a64503dcf47de935ed93caccccdf2",
      "9e8c7acb6d4c4c51a4051444296b7f79",
      "32db09088a484950bd7ff1fcb394c073"
     ]
    },
    "id": "198a117a-6127-458a-b509-33c82aef076d",
    "outputId": "db7aebba-d4ea-4009-ca58-0b02d978eea0"
   },
   "outputs": [
    {
     "data": {
      "application/vnd.jupyter.widget-view+json": {
       "model_id": "ec5f5a5926114f0a942c79836610c0a4",
       "version_major": 2,
       "version_minor": 0
      },
      "text/plain": [
       "tokenizer_config.json:   0%|          | 0.00/2.00 [00:00<?, ?B/s]"
      ]
     },
     "metadata": {},
     "output_type": "display_data"
    },
    {
     "data": {
      "application/vnd.jupyter.widget-view+json": {
       "model_id": "84b50e1b077243dabfd64735e9ef2c58",
       "version_major": 2,
       "version_minor": 0
      },
      "text/plain": [
       "config.json:   0%|          | 0.00/430 [00:00<?, ?B/s]"
      ]
     },
     "metadata": {},
     "output_type": "display_data"
    },
    {
     "data": {
      "application/vnd.jupyter.widget-view+json": {
       "model_id": "7742e1eb959f46a7b41f707d53d3b87f",
       "version_major": 2,
       "version_minor": 0
      },
      "text/plain": [
       "sentencepiece.bpe.model:   0%|          | 0.00/5.07M [00:00<?, ?B/s]"
      ]
     },
     "metadata": {},
     "output_type": "display_data"
    },
    {
     "data": {
      "application/vnd.jupyter.widget-view+json": {
       "model_id": "d2b03ca689d5492a87673fcd838c1750",
       "version_major": 2,
       "version_minor": 0
      },
      "text/plain": [
       "special_tokens_map.json:   0%|          | 0.00/150 [00:00<?, ?B/s]"
      ]
     },
     "metadata": {},
     "output_type": "display_data"
    },
    {
     "data": {
      "application/vnd.jupyter.widget-view+json": {
       "model_id": "58a26f3846574eb9bd4e290aeba0d8a0",
       "version_major": 2,
       "version_minor": 0
      },
      "text/plain": [
       "Map:   0%|          | 0/830 [00:00<?, ? examples/s]"
      ]
     },
     "metadata": {},
     "output_type": "display_data"
    },
    {
     "name": "stderr",
     "output_type": "stream",
     "text": [
      "Asking to truncate to max_length but no maximum length is provided and the model has no predefined maximum length. Default to no truncation.\n"
     ]
    },
    {
     "data": {
      "application/vnd.jupyter.widget-view+json": {
       "model_id": "449678b6eca8469abe63f4f50ed7e0f1",
       "version_major": 2,
       "version_minor": 0
      },
      "text/plain": [
       "Map:   0%|          | 0/462 [00:00<?, ? examples/s]"
      ]
     },
     "metadata": {},
     "output_type": "display_data"
    },
    {
     "data": {
      "application/vnd.jupyter.widget-view+json": {
       "model_id": "b0a8c6abfb394166b93d48f6fbf7927b",
       "version_major": 2,
       "version_minor": 0
      },
      "text/plain": [
       "Map:   0%|          | 0/300 [00:00<?, ? examples/s]"
      ]
     },
     "metadata": {},
     "output_type": "display_data"
    }
   ],
   "source": [
    "# Load tokenizer\n",
    "tokenizer = AutoTokenizer.from_pretrained(\"microsoft/Multilingual-MiniLM-L12-H384\")\n",
    "\n",
    "tokenized_train = dataset_train.map(preprocess_function, batched=True)\n",
    "tokenized_val = dataset_val.map(preprocess_function, batched=True)\n",
    "tokenized_test = dataset_test.map(preprocess_function, batched=True)"
   ]
  },
  {
   "cell_type": "code",
   "execution_count": 18,
   "id": "d39472c2-a8f2-4493-b815-f360616fa2d5",
   "metadata": {
    "colab": {
     "base_uri": "https://localhost:8080/",
     "height": 104,
     "referenced_widgets": [
      "a19642a0f83a48eab55444bff7fac6f4",
      "24acccdefd3f4211a8a0a79e0d7581e5",
      "bb272e12ee164d3a9a63bc9d28c39550",
      "6c31ecba88594f69b8c16c4d83745bad",
      "a1495d26bc0a4740b2962044a45f19ed",
      "cf33dabfafba44de9a72b791f7c06605",
      "d86b0c4946f94a81b3458a7eb56004a6",
      "ed6ab580f17e4c13819bc42527705a0a",
      "d4c6e8ccc8b144d2b957c626f91e86ef",
      "01c269649f5547dabd444b817cd53f02",
      "5eab7215e00d40109b83196e1dc3d66d"
     ]
    },
    "id": "d39472c2-a8f2-4493-b815-f360616fa2d5",
    "outputId": "dbc714d8-b93d-4f74-cecb-1e11c5f8d17d"
   },
   "outputs": [
    {
     "data": {
      "application/vnd.jupyter.widget-view+json": {
       "model_id": "a19642a0f83a48eab55444bff7fac6f4",
       "version_major": 2,
       "version_minor": 0
      },
      "text/plain": [
       "pytorch_model.bin:   0%|          | 0.00/471M [00:00<?, ?B/s]"
      ]
     },
     "metadata": {},
     "output_type": "display_data"
    },
    {
     "name": "stderr",
     "output_type": "stream",
     "text": [
      "Some weights of BertForSequenceClassification were not initialized from the model checkpoint at microsoft/Multilingual-MiniLM-L12-H384 and are newly initialized: ['classifier.bias', 'classifier.weight']\n",
      "You should probably TRAIN this model on a down-stream task to be able to use it for predictions and inference.\n"
     ]
    }
   ],
   "source": [
    "# Load model\n",
    "model = AutoModelForSequenceClassification.from_pretrained(\"microsoft/Multilingual-MiniLM-L12-H384\", num_labels=2)"
   ]
  },
  {
   "cell_type": "code",
   "execution_count": 19,
   "id": "031455a1-033b-453d-845a-d92540302d4e",
   "metadata": {
    "id": "031455a1-033b-453d-845a-d92540302d4e"
   },
   "outputs": [],
   "source": [
    "# Training Arguments\n",
    "training_args = TrainingArguments(\n",
    "    output_dir=\"results\",\n",
    "    eval_strategy=\"epoch\",\n",
    "    save_strategy=\"epoch\",\n",
    "    logging_dir=\"logs\",\n",
    "    learning_rate=2e-5,\n",
    "    per_device_train_batch_size=16,\n",
    "    per_device_eval_batch_size=16,\n",
    "    num_train_epochs=3,\n",
    "    weight_decay=0.01,\n",
    "    load_best_model_at_end=True,\n",
    "    metric_for_best_model=\"f1_macro\",\n",
    "    report_to=\"none\",\n",
    ")"
   ]
  },
  {
   "cell_type": "code",
   "execution_count": 20,
   "id": "eaa3fe75-0432-41d1-b6bc-1ef2c86177c7",
   "metadata": {
    "id": "eaa3fe75-0432-41d1-b6bc-1ef2c86177c7"
   },
   "outputs": [],
   "source": [
    "# Data collator for dynamic padding\n",
    "data_collator = DataCollatorWithPadding(tokenizer=tokenizer)"
   ]
  },
  {
   "cell_type": "code",
   "execution_count": 21,
   "id": "b3b782d2-094c-49af-995e-cf2255db07a5",
   "metadata": {
    "id": "b3b782d2-094c-49af-995e-cf2255db07a5"
   },
   "outputs": [],
   "source": [
    "# Trainer\n",
    "trainer = Trainer(\n",
    "    model=model,\n",
    "    args=training_args,\n",
    "    train_dataset=tokenized_train,\n",
    "    eval_dataset=tokenized_val,\n",
    "    processing_class=tokenizer,\n",
    "    data_collator=data_collator,\n",
    "    compute_metrics=compute_metrics\n",
    ")"
   ]
  },
  {
   "cell_type": "code",
   "execution_count": 22,
   "id": "1f1fc150-5ddd-4ef9-b2b7-16edf971d0c6",
   "metadata": {
    "id": "1f1fc150-5ddd-4ef9-b2b7-16edf971d0c6"
   },
   "outputs": [],
   "source": [
    "log_dir = \"logs\"\n",
    "\n",
    "if os.path.exists(log_dir):\n",
    "    shutil.rmtree(log_dir)  # Remove old logs entirely"
   ]
  },
  {
   "cell_type": "code",
   "execution_count": 23,
   "id": "031f31f7-3cf3-4535-adce-eff71c871a8f",
   "metadata": {
    "colab": {
     "base_uri": "https://localhost:8080/",
     "height": 253,
     "referenced_widgets": [
      "f96a0cdded1347fcb052173c090cd218",
      "45e9c2b773e2499bbc206829f6625ca8",
      "3b49614bc3f646a78ac6ac99f1f1b9a1",
      "b63ebcaf0c8542869deb987b2b2907a2",
      "164b370336bd43cb8db3682981422729",
      "28180e24424e4ca393a59b38e535b7c7",
      "67a709e2a80f4fda9a26a1830f230cae",
      "21f339d671f84095b746a059d65c8cf5",
      "a2e08ee644b94d17bef5ecde973bbbe7",
      "c295bff7b1f54e08aecc41df22dda3bd",
      "1fc252106f1242b09ef21878d001c36d"
     ]
    },
    "id": "031f31f7-3cf3-4535-adce-eff71c871a8f",
    "outputId": "921f87cb-c275-49cf-a498-9b737893fad5"
   },
   "outputs": [
    {
     "data": {
      "application/vnd.jupyter.widget-view+json": {
       "model_id": "f96a0cdded1347fcb052173c090cd218",
       "version_major": 2,
       "version_minor": 0
      },
      "text/plain": [
       "model.safetensors:   0%|          | 0.00/471M [00:00<?, ?B/s]"
      ]
     },
     "metadata": {},
     "output_type": "display_data"
    },
    {
     "data": {
      "text/html": [
       "\n",
       "    <div>\n",
       "      \n",
       "      <progress value='156' max='156' style='width:300px; height:20px; vertical-align: middle;'></progress>\n",
       "      [156/156 01:19, Epoch 3/3]\n",
       "    </div>\n",
       "    <table border=\"1\" class=\"dataframe\">\n",
       "  <thead>\n",
       " <tr style=\"text-align: left;\">\n",
       "      <th>Epoch</th>\n",
       "      <th>Training Loss</th>\n",
       "      <th>Validation Loss</th>\n",
       "      <th>F1 Macro</th>\n",
       "    </tr>\n",
       "  </thead>\n",
       "  <tbody>\n",
       "    <tr>\n",
       "      <td>1</td>\n",
       "      <td>No log</td>\n",
       "      <td>0.721468</td>\n",
       "      <td>0.324561</td>\n",
       "    </tr>\n",
       "    <tr>\n",
       "      <td>2</td>\n",
       "      <td>No log</td>\n",
       "      <td>0.581985</td>\n",
       "      <td>0.736101</td>\n",
       "    </tr>\n",
       "    <tr>\n",
       "      <td>3</td>\n",
       "      <td>No log</td>\n",
       "      <td>0.586698</td>\n",
       "      <td>0.750351</td>\n",
       "    </tr>\n",
       "  </tbody>\n",
       "</table><p>"
      ],
      "text/plain": [
       "<IPython.core.display.HTML object>"
      ]
     },
     "metadata": {},
     "output_type": "display_data"
    },
    {
     "data": {
      "text/plain": [
       "TrainOutput(global_step=156, training_loss=0.5809972225091397, metrics={'train_runtime': 82.3107, 'train_samples_per_second': 30.251, 'train_steps_per_second': 1.895, 'total_flos': 50616502891920.0, 'train_loss': 0.5809972225091397, 'epoch': 3.0})"
      ]
     },
     "execution_count": 23,
     "metadata": {},
     "output_type": "execute_result"
    }
   ],
   "source": [
    "# Training\n",
    "trainer.train()"
   ]
  },
  {
   "cell_type": "code",
   "execution_count": 24,
   "id": "07951cb5-5dc8-4715-9abf-d3604252dbea",
   "metadata": {
    "colab": {
     "base_uri": "https://localhost:8080/",
     "height": 74
    },
    "id": "07951cb5-5dc8-4715-9abf-d3604252dbea",
    "outputId": "29df41cc-6db5-47f3-ec34-3e1582d1bcff"
   },
   "outputs": [
    {
     "data": {
      "text/html": [
       "\n",
       "    <div>\n",
       "      \n",
       "      <progress value='29' max='29' style='width:300px; height:20px; vertical-align: middle;'></progress>\n",
       "      [29/29 00:00]\n",
       "    </div>\n",
       "    "
      ],
      "text/plain": [
       "<IPython.core.display.HTML object>"
      ]
     },
     "metadata": {},
     "output_type": "display_data"
    },
    {
     "name": "stdout",
     "output_type": "stream",
     "text": [
      "Validation Metrics: {'eval_loss': 0.5866976380348206, 'eval_f1_macro': 0.7503512374365071, 'eval_runtime': 0.836, 'eval_samples_per_second': 552.662, 'eval_steps_per_second': 34.691, 'epoch': 3.0}\n"
     ]
    }
   ],
   "source": [
    "# Evaluation\n",
    "val_metrics = trainer.evaluate()\n",
    "print(\"Validation Metrics:\", val_metrics)"
   ]
  },
  {
   "cell_type": "code",
   "execution_count": 25,
   "id": "5cc54841-73c9-48c2-bc45-cf4e7de861ba",
   "metadata": {
    "id": "5cc54841-73c9-48c2-bc45-cf4e7de861ba"
   },
   "outputs": [],
   "source": [
    "# Save model\n",
    "trainer.save_model(\"minilm-subjectivity-en\")"
   ]
  },
  {
   "cell_type": "code",
   "execution_count": 26,
   "id": "1c94d49a-90dd-41d3-bf05-bd28bfc93559",
   "metadata": {
    "colab": {
     "base_uri": "https://localhost:8080/",
     "height": 17
    },
    "id": "1c94d49a-90dd-41d3-bf05-bd28bfc93559",
    "outputId": "2424486b-5494-40e2-ca00-97827a7b2bd2"
   },
   "outputs": [
    {
     "data": {
      "text/html": [],
      "text/plain": [
       "<IPython.core.display.HTML object>"
      ]
     },
     "metadata": {},
     "output_type": "display_data"
    }
   ],
   "source": [
    "# Test Evaluation\n",
    "predictions = trainer.predict(tokenized_test)\n",
    "pred_labels = np.argmax(predictions.predictions, axis=1)\n",
    "\n",
    "submission = pd.DataFrame({\n",
    "    \"sentence_id\": df_test_en[\"sentence_id\"],\n",
    "    \"label\": [\"OBJ\" if l == 1 else \"SUBJ\" for l in pred_labels]\n",
    "})\n",
    "submission.to_csv(\"mono_en_test_predictions.tsv\", sep=\"\\t\", index=False)"
   ]
  },
  {
   "cell_type": "code",
   "execution_count": 27,
   "id": "91ac66f9-9d06-41d1-8507-ae106ef0d802",
   "metadata": {
    "colab": {
     "base_uri": "https://localhost:8080/"
    },
    "id": "91ac66f9-9d06-41d1-8507-ae106ef0d802",
    "outputId": "ebb1decd-9f27-4382-bd2a-81874bd169ac"
   },
   "outputs": [
    {
     "name": "stdout",
     "output_type": "stream",
     "text": [
      "INFO : The file is properly formatted\n",
      "INFO : Started evaluating results for Task 1...\n",
      "INFO : \n",
      "            macro-F1: 0.5688\n",
      "            macro-P: 0.5676\n",
      "            macro-R: 0.5747\n",
      "            \n",
      "            SUBJ-F1: 0.4064\n",
      "            SUBJ-P: 0.3725\n",
      "            SUBJ-R: 0.4471\n",
      "            \n",
      "            accuracy: 0.6300\n",
      "        \n"
     ]
    }
   ],
   "source": [
    "# Run scorer\n",
    "# !python scorer/evaluate.py -g data/english/test_en_labeled.tsv -p mono_en_test_predictions.tsv\n",
    "!python clef2025-checkthat-lab/task1/scorer/evaluate.py \\\n",
    "    -g clef2025-checkthat-lab/task1/data/english/test_en_labeled.tsv \\\n",
    "    -p mono_en_test_predictions.tsv"
   ]
  },
  {
   "cell_type": "markdown",
   "id": "C6xHVTH-IM2d",
   "metadata": {
    "id": "C6xHVTH-IM2d"
   },
   "source": [
    "#### Error Analysis"
   ]
  },
  {
   "cell_type": "code",
   "execution_count": 28,
   "id": "l3_9WKOcJDCy",
   "metadata": {
    "id": "l3_9WKOcJDCy"
   },
   "outputs": [],
   "source": [
    "test_predictions, test_labels = predictions.predictions, predictions.label_ids"
   ]
  },
  {
   "cell_type": "code",
   "execution_count": 29,
   "id": "6jxqPhA9G6cD",
   "metadata": {
    "id": "6jxqPhA9G6cD"
   },
   "outputs": [],
   "source": [
    "# Convert predictions and labels to pandas DataFrame (Transformer)\n",
    "test_results = pd.DataFrame({\n",
    "    \"sentence\": df_test_en[\"sentence\"],\n",
    "    \"true_label\": test_labels,\n",
    "    \"predicted_label\": pred_labels\n",
    "})\n",
    "\n",
    "# Add a column to classify error types\n",
    "test_results[\"error_type\"] = np.where(\n",
    "    test_results[\"true_label\"] == test_results[\"predicted_label\"],\n",
    "    \"Correct\",\n",
    "    np.where(\n",
    "        (test_results[\"true_label\"] == 1) & (test_results[\"predicted_label\"] == 0),\n",
    "        \"False Negative\",\n",
    "        \"False Positive\"\n",
    "    )\n",
    ")"
   ]
  },
  {
   "cell_type": "code",
   "execution_count": 30,
   "id": "N3WgtgD3G_EC",
   "metadata": {
    "colab": {
     "base_uri": "https://localhost:8080/"
    },
    "id": "N3WgtgD3G_EC",
    "outputId": "7edc192d-dea8-4e47-fac2-a9640ab9bf01"
   },
   "outputs": [
    {
     "name": "stdout",
     "output_type": "stream",
     "text": [
      "Number of False Positives (minilm): 47\n",
      "\n",
      "EXAMPLES:\n",
      "\n",
      "\tThat sounds worryingly similar to the vainglorious delivery timetable once claimed during the sorry saga called HS2.\n",
      "\n",
      "\tIf Timbaland releases a number one hit soon, we can get the full 2006 experience again.\n",
      "\n",
      "\tShe is treating opposition as a compliment to her steely determination to implement her new doctrine of growth-at-any-cost.\n",
      "\n",
      "\tHostile fire was instant, will be continuous for years ahead and comes from several camps with which Labour has wanted to be friendly.\n",
      "\n",
      "\tA serious rebuilding programme would scare those who have the Chancellor’s ear.\n",
      "\n",
      "\tBoth are young, charismatic, intelligent women seen as modernisers within their respective parties.\n",
      "\n",
      "\tFor the incandescent environmentalists, Heathrow is a litmus test of whether or not the government is authentically committed to addressing the climate crisis.\n",
      "\n",
      "\tThe release this week of the new Chinese artificial intelligence (AI) tool, DeepSeek-R1, is one such moment.\n",
      "\n",
      "\tCuba Sí, Bloqueo No\n",
      "\n",
      "\tThese examples are indicative, however, of what Labour could actually be doing — rebuilding state capacity after decades of austerity and privatisation.\n",
      "\n"
     ]
    }
   ],
   "source": [
    "false_positives = test_results[test_results[\"error_type\"] == \"False Positive\"]\n",
    "print(f\"Number of False Positives (minilm): {false_positives.shape[0]}\")\n",
    "print(\"\\nEXAMPLES:\\n\")\n",
    "for ex in false_positives.head(10).sentence:\n",
    "    print(f\"\\t{ex}\\n\")"
   ]
  },
  {
   "cell_type": "code",
   "execution_count": 31,
   "id": "z_4PZ3wYHBHr",
   "metadata": {
    "colab": {
     "base_uri": "https://localhost:8080/"
    },
    "id": "z_4PZ3wYHBHr",
    "outputId": "634b888d-3d57-4caa-992b-89e70d432985"
   },
   "outputs": [
    {
     "name": "stdout",
     "output_type": "stream",
     "text": [
      "Number of False Negatives (minilm): 64\n",
      "\n",
      "EXAMPLES:\n",
      "\n",
      "\tBut Andersson is adamant that what she calls ‘red green’ politics is the only way forward — for both pragmatic and ideological reasons.\n",
      "\n",
      "\tI need  no, crave  more silence in my life.\n",
      "\n",
      "\tBut thanks to the policies of successive right-wing governments, Andersson argues this characterisation is no longer justified.\n",
      "\n",
      "\tBut she is adamant that the European left has to put aside its differences and try to work together.\n",
      "\n",
      "\tOne researcher has even gone so far as to describe our sound obsession as “aural litter”: “If you could see what you hear, it would look like piles and piles of McDonald’s wrappers, just thrown out the window as we go driving down the road.”\n",
      "\n",
      "\t‘We have done the work of creating a modern left alternative for as many voters as possible.\n",
      "\n",
      "\tI would soothe my loneliness and isolation in the evenings by playing endless hours of Law & Order: Special Victims Unit just for the ambient sound – the comfort of Detectives Olivia Benson and Elliot Stabler bringing criminals of the worst kind to justice.\n",
      "\n",
      "\tYou don’t need to share Cuba’s ideology or be a socialist, he said; if you defend Cuba’s right to exist free from the blockade and US coercion, ‘everyone is welcome.’\n",
      "\n",
      "\tThey tended to be led by developers rather than by the public.\n",
      "\n",
      "\tAnother opponent then is still a dissenter now.\n",
      "\n"
     ]
    }
   ],
   "source": [
    "false_negatives = test_results[test_results[\"error_type\"] == \"False Negative\"]\n",
    "print(f\"Number of False Negatives (minilm): {false_negatives.shape[0]}\")\n",
    "print(\"\\nEXAMPLES:\\n\")\n",
    "for ex in false_negatives.head(10).sentence:\n",
    "    print(f\"\\t{ex}\\n\")"
   ]
  },
  {
   "cell_type": "code",
   "execution_count": 32,
   "id": "0T8cyTh7HX6m",
   "metadata": {
    "colab": {
     "base_uri": "https://localhost:8080/",
     "height": 941
    },
    "id": "0T8cyTh7HX6m",
    "outputId": "40bd09ee-7812-4335-e333-c08fee1513cb"
   },
   "outputs": [
    {
     "data": {
      "image/png": "[encoded data removed]",
      "text/plain": [
       "<Figure size 640x480 with 2 Axes>"
      ]
     },
     "metadata": {},
     "output_type": "display_data"
    },
    {
     "data": {
      "image/png": "[encoded data removed]",
      "text/plain": [
       "<Figure size 640x480 with 2 Axes>"
      ]
     },
     "metadata": {},
     "output_type": "display_data"
    }
   ],
   "source": [
    "plot_confusion_matrix(\"minilm\", test_results)"
   ]
  },
  {
   "cell_type": "code",
   "execution_count": 33,
   "id": "4uGux18rHlIa",
   "metadata": {
    "colab": {
     "base_uri": "https://localhost:8080/",
     "height": 472
    },
    "id": "4uGux18rHlIa",
    "outputId": "ba94fd2b-bfe8-4e54-a014-a8f48767d9cd"
   },
   "outputs": [
    {
     "data": {
      "image/png": "[encoded data removed]",
      "text/plain": [
       "<Figure size 640x480 with 1 Axes>"
      ]
     },
     "metadata": {},
     "output_type": "display_data"
    }
   ],
   "source": [
    "precision, recall, thresholds = precision_recall_curve(test_labels, test_predictions[:, 1])\n",
    "average_precision = average_precision_score(test_labels, test_predictions[:, 1])\n",
    "\n",
    "# Plot the Precision-Recall curve\n",
    "plot_precision_recall_curve(\"minilm\", precision, recall, average_precision)"
   ]
  },
  {
   "cell_type": "markdown",
   "id": "c9355524-9627-4924-9da0-fd20277af3c7",
   "metadata": {
    "id": "c9355524-9627-4924-9da0-fd20277af3c7"
   },
   "source": [
    "#### Italian"
   ]
  },
  {
   "cell_type": "code",
   "execution_count": 34,
   "id": "e3b55102-5f77-4b82-a5df-4dfc402d3b60",
   "metadata": {
    "id": "e3b55102-5f77-4b82-a5df-4dfc402d3b60"
   },
   "outputs": [],
   "source": [
    "dataset_train = Dataset.from_pandas(df_train_it)\n",
    "dataset_val = Dataset.from_pandas(df_dev_it)\n",
    "dataset_test = Dataset.from_pandas(df_test_it)"
   ]
  },
  {
   "cell_type": "code",
   "execution_count": 35,
   "id": "46f3f382-2aeb-4739-8ba8-70095d9ef8b8",
   "metadata": {
    "colab": {
     "base_uri": "https://localhost:8080/",
     "height": 113,
     "referenced_widgets": [
      "eed6bca123f04e22b47ef95725c7f8a7",
      "21fd31062755449eb970520286fc8f4a",
      "91d89ae99ad3412dbeae5ea0b4e14270",
      "390ad994c3544fa4a85da171de3af5ca",
      "6ac7929f62344119a65071892ea5d954",
      "60396ddcbb664ff98f9427da8d2d8f55",
      "6687ffe104444e4080ea9f9f8a8ca43d",
      "546dd753cbaa4d5994a8d8179feff74b",
      "24e29ebd0e9949ab94c18c068f997f60",
      "a2fb6d72511c47bf97d3ec34b78a989b",
      "6484607211a048d38e1484c70cee70f4",
      "bffc8f7debbc46038e92b0c84fc0bf2d",
      "ac00c6ba052d46bea3a3a146a5acecb4",
      "31fefba0699d46868c1ce8d66fd0e407",
      "954d850e5ad640f1b8a8b18d12bed6e6",
      "c3777836478943ea83da2e681fdfd266",
      "1010cedf00b54c6c9baa398d3cb8fbf8",
      "2c97caeae29f483abec97ffa9cb594f2",
      "6788bff2968a4cb7959a21b3f1f9c34d",
      "56f9830151874aaea71393d3ffa6e1d6",
      "3bc4d44cd4524eee9728f1b4985a9740",
      "1ad9392f8354479d8b8057c2c0a30a7c",
      "f5529081234449e595f49b7d27ac953b",
      "56f36363f81b44db815dcfa374a6de24",
      "d4ae65f128024f9eba223115db168086",
      "7a5a9144b769488981dbe5424da260f3",
      "ba92cf6435ea4fe5ba4c1f14feabfa89",
      "b7c4b3ca1f554184960111983a56f707",
      "ee55591eb5e24671a806726597ab4684",
      "23a3af9af1f8430c9642c7afb59861d1",
      "77957b919d104c669d786f32d4058bc8",
      "3a133fafe17a41e9b1ad0bc3dcd9af62",
      "d2d78565c98149179a0a214ee9984669"
     ]
    },
    "id": "46f3f382-2aeb-4739-8ba8-70095d9ef8b8",
    "outputId": "f77dd871-b848-417c-a82f-0e2b4be55fff"
   },
   "outputs": [
    {
     "data": {
      "application/vnd.jupyter.widget-view+json": {
       "model_id": "eed6bca123f04e22b47ef95725c7f8a7",
       "version_major": 2,
       "version_minor": 0
      },
      "text/plain": [
       "Map:   0%|          | 0/1613 [00:00<?, ? examples/s]"
      ]
     },
     "metadata": {},
     "output_type": "display_data"
    },
    {
     "data": {
      "application/vnd.jupyter.widget-view+json": {
       "model_id": "bffc8f7debbc46038e92b0c84fc0bf2d",
       "version_major": 2,
       "version_minor": 0
      },
      "text/plain": [
       "Map:   0%|          | 0/667 [00:00<?, ? examples/s]"
      ]
     },
     "metadata": {},
     "output_type": "display_data"
    },
    {
     "data": {
      "application/vnd.jupyter.widget-view+json": {
       "model_id": "f5529081234449e595f49b7d27ac953b",
       "version_major": 2,
       "version_minor": 0
      },
      "text/plain": [
       "Map:   0%|          | 0/299 [00:00<?, ? examples/s]"
      ]
     },
     "metadata": {},
     "output_type": "display_data"
    }
   ],
   "source": [
    "# Tokenization\n",
    "tokenized_train = dataset_train.map(preprocess_function, batched=True)\n",
    "tokenized_val = dataset_val.map(preprocess_function, batched=True)\n",
    "tokenized_test = dataset_test.map(preprocess_function, batched=True)"
   ]
  },
  {
   "cell_type": "code",
   "execution_count": 36,
   "id": "14feb79e-c38d-4d7e-98dc-eb432de87699",
   "metadata": {
    "id": "14feb79e-c38d-4d7e-98dc-eb432de87699"
   },
   "outputs": [],
   "source": [
    "# Trainer\n",
    "trainer = Trainer(\n",
    "    model=model,\n",
    "    args=training_args,\n",
    "    train_dataset=tokenized_train,\n",
    "    eval_dataset=tokenized_val,\n",
    "    processing_class=tokenizer,\n",
    "    data_collator=data_collator,\n",
    "    compute_metrics=compute_metrics\n",
    ")"
   ]
  },
  {
   "cell_type": "code",
   "execution_count": 37,
   "id": "d0c100c6-c7b7-4e21-aa85-ca925daba7f6",
   "metadata": {
    "colab": {
     "base_uri": "https://localhost:8080/",
     "height": 221
    },
    "id": "d0c100c6-c7b7-4e21-aa85-ca925daba7f6",
    "outputId": "c3fa6e71-94df-4b86-8826-c54ceee4657a"
   },
   "outputs": [
    {
     "data": {
      "text/html": [
       "\n",
       "    <div>\n",
       "      \n",
       "      <progress value='303' max='303' style='width:300px; height:20px; vertical-align: middle;'></progress>\n",
       "      [303/303 02:05, Epoch 3/3]\n",
       "    </div>\n",
       "    <table border=\"1\" class=\"dataframe\">\n",
       "  <thead>\n",
       " <tr style=\"text-align: left;\">\n",
       "      <th>Epoch</th>\n",
       "      <th>Training Loss</th>\n",
       "      <th>Validation Loss</th>\n",
       "      <th>F1 Macro</th>\n",
       "    </tr>\n",
       "  </thead>\n",
       "  <tbody>\n",
       "    <tr>\n",
       "      <td>1</td>\n",
       "      <td>No log</td>\n",
       "      <td>0.466508</td>\n",
       "      <td>0.701745</td>\n",
       "    </tr>\n",
       "    <tr>\n",
       "      <td>2</td>\n",
       "      <td>No log</td>\n",
       "      <td>0.457739</td>\n",
       "      <td>0.739496</td>\n",
       "    </tr>\n",
       "    <tr>\n",
       "      <td>3</td>\n",
       "      <td>No log</td>\n",
       "      <td>0.464060</td>\n",
       "      <td>0.736395</td>\n",
       "    </tr>\n",
       "  </tbody>\n",
       "</table><p>"
      ],
      "text/plain": [
       "<IPython.core.display.HTML object>"
      ]
     },
     "metadata": {},
     "output_type": "display_data"
    },
    {
     "data": {
      "text/plain": [
       "TrainOutput(global_step=303, training_loss=0.42885033132219474, metrics={'train_runtime': 125.7567, 'train_samples_per_second': 38.479, 'train_steps_per_second': 2.409, 'total_flos': 84047556712140.0, 'train_loss': 0.42885033132219474, 'epoch': 3.0})"
      ]
     },
     "execution_count": 37,
     "metadata": {},
     "output_type": "execute_result"
    }
   ],
   "source": [
    "# Training\n",
    "trainer.train()"
   ]
  },
  {
   "cell_type": "code",
   "execution_count": 38,
   "id": "89119ae9-00fc-4275-965f-d8d0cf31c9b3",
   "metadata": {
    "id": "89119ae9-00fc-4275-965f-d8d0cf31c9b3"
   },
   "outputs": [],
   "source": [
    "log_dir = \"logs\"\n",
    "\n",
    "if os.path.exists(log_dir):\n",
    "    shutil.rmtree(log_dir)  # Remove old logs entirely"
   ]
  },
  {
   "cell_type": "code",
   "execution_count": 39,
   "id": "050f8f3f-f71c-46e3-b67c-dfd126ec40cb",
   "metadata": {
    "colab": {
     "base_uri": "https://localhost:8080/",
     "height": 74
    },
    "id": "050f8f3f-f71c-46e3-b67c-dfd126ec40cb",
    "outputId": "22fa5faa-93c6-4301-9643-9f4f5ecdc580"
   },
   "outputs": [
    {
     "data": {
      "text/html": [
       "\n",
       "    <div>\n",
       "      \n",
       "      <progress value='42' max='42' style='width:300px; height:20px; vertical-align: middle;'></progress>\n",
       "      [42/42 00:02]\n",
       "    </div>\n",
       "    "
      ],
      "text/plain": [
       "<IPython.core.display.HTML object>"
      ]
     },
     "metadata": {},
     "output_type": "display_data"
    },
    {
     "name": "stdout",
     "output_type": "stream",
     "text": [
      "Validation Metrics: {'eval_loss': 0.45773938298225403, 'eval_f1_macro': 0.7394955915774064, 'eval_runtime': 2.932, 'eval_samples_per_second': 227.492, 'eval_steps_per_second': 14.325, 'epoch': 3.0}\n"
     ]
    }
   ],
   "source": [
    "# Evaluation\n",
    "val_metrics = trainer.evaluate()\n",
    "print(\"Validation Metrics:\", val_metrics)"
   ]
  },
  {
   "cell_type": "code",
   "execution_count": 40,
   "id": "8741f522-b1b2-4d51-9c41-a7422e5f0db9",
   "metadata": {
    "id": "8741f522-b1b2-4d51-9c41-a7422e5f0db9"
   },
   "outputs": [],
   "source": [
    "# Save model\n",
    "trainer.save_model(\"minilm-subjectivity-it\")"
   ]
  },
  {
   "cell_type": "code",
   "execution_count": 41,
   "id": "6e0f02bb-359b-460a-9b9a-77bf1ed84cc6",
   "metadata": {
    "colab": {
     "base_uri": "https://localhost:8080/",
     "height": 17
    },
    "id": "6e0f02bb-359b-460a-9b9a-77bf1ed84cc6",
    "outputId": "eac253d7-d4b2-48e4-a4a1-70beee58f00c"
   },
   "outputs": [
    {
     "data": {
      "text/html": [],
      "text/plain": [
       "<IPython.core.display.HTML object>"
      ]
     },
     "metadata": {},
     "output_type": "display_data"
    }
   ],
   "source": [
    "# Test Evaluation\n",
    "predictions = trainer.predict(tokenized_test)\n",
    "pred_labels = np.argmax(predictions.predictions, axis=1)\n",
    "\n",
    "submission = pd.DataFrame({\n",
    "    \"sentence_id\": df_test_it[\"sentence_id\"],\n",
    "    \"label\": [\"OBJ\" if l == 1 else \"SUBJ\" for l in pred_labels]\n",
    "})\n",
    "submission.to_csv(\"mono_it_test_predictions.tsv\", sep=\"\\t\", index=False)"
   ]
  },
  {
   "cell_type": "code",
   "execution_count": 42,
   "id": "20934fc6-916d-4d8d-bfc2-dd5f9d0d6160",
   "metadata": {
    "colab": {
     "base_uri": "https://localhost:8080/"
    },
    "id": "20934fc6-916d-4d8d-bfc2-dd5f9d0d6160",
    "outputId": "833712af-e1fa-4e0f-8c9b-760029695fa4"
   },
   "outputs": [
    {
     "name": "stdout",
     "output_type": "stream",
     "text": [
      "INFO : The file is properly formatted\n",
      "INFO : Started evaluating results for Task 1...\n",
      "INFO : \n",
      "            macro-F1: 0.7371\n",
      "            macro-P: 0.7475\n",
      "            macro-R: 0.7308\n",
      "            \n",
      "            SUBJ-F1: 0.6500\n",
      "            SUBJ-P: 0.6989\n",
      "            SUBJ-R: 0.6075\n",
      "            \n",
      "            accuracy: 0.7659\n",
      "        \n"
     ]
    }
   ],
   "source": [
    "# Run scorer\n",
    "# !python scorer/evaluate.py -g data/italian/test_it_labeled.tsv -p mono_it_test_predictions.tsv\n",
    "!python clef2025-checkthat-lab/task1/scorer/evaluate.py \\\n",
    "    -g clef2025-checkthat-lab/task1/data/italian/test_it_labeled.tsv \\\n",
    "    -p mono_it_test_predictions.tsv"
   ]
  },
  {
   "cell_type": "markdown",
   "id": "kZqqr-bLMdYR",
   "metadata": {
    "id": "kZqqr-bLMdYR"
   },
   "source": [
    "#### Error Analysis"
   ]
  },
  {
   "cell_type": "code",
   "execution_count": 43,
   "id": "2XDk2ArgMc44",
   "metadata": {
    "id": "2XDk2ArgMc44"
   },
   "outputs": [],
   "source": [
    "test_predictions, test_labels = predictions.predictions, predictions.label_ids"
   ]
  },
  {
   "cell_type": "code",
   "execution_count": 44,
   "id": "zV-K-N2GMwkw",
   "metadata": {
    "id": "zV-K-N2GMwkw"
   },
   "outputs": [],
   "source": [
    "# Convert predictions and labels to pandas DataFrame (Transformer)\n",
    "test_results = pd.DataFrame({\n",
    "    \"sentence\": df_test_it[\"sentence\"],\n",
    "    \"true_label\": test_labels,\n",
    "    \"predicted_label\": pred_labels\n",
    "})\n",
    "\n",
    "# Add a column to classify error types\n",
    "test_results[\"error_type\"] = np.where(\n",
    "    test_results[\"true_label\"] == test_results[\"predicted_label\"],\n",
    "    \"Correct\",\n",
    "    np.where(\n",
    "        (test_results[\"true_label\"] == 1) & (test_results[\"predicted_label\"] == 0),\n",
    "        \"False Negative\",\n",
    "        \"False Positive\"\n",
    "    )\n",
    ")"
   ]
  },
  {
   "cell_type": "code",
   "execution_count": 45,
   "id": "IdEqILAkMwcd",
   "metadata": {
    "colab": {
     "base_uri": "https://localhost:8080/"
    },
    "id": "IdEqILAkMwcd",
    "outputId": "6ac316fa-43be-4d2c-f424-f39ef4aafea1"
   },
   "outputs": [
    {
     "name": "stdout",
     "output_type": "stream",
     "text": [
      "Number of False Positives (minilm): 42\n",
      "\n",
      "EXAMPLES:\n",
      "\n",
      "\tTempo al tempo vedremo.\n",
      "\n",
      "\tL'ostentazione della burineria e servizi montani penosi.\n",
      "\n",
      "\tPoi il leader M5S è durissimo con il ministro Nordio:\n",
      "\n",
      "\tConte infanga Meloni?\n",
      "\n",
      "\tIl Repower-EU ha provato a tracciare la rotta in merito all’indipendenza energetica, che tutto è tranne che autosufficienza dell’UE.\n",
      "\n",
      "\tPoi fatte le olimpiadi verrà abbondonata.\n",
      "\n",
      "\tIl sindaco Gianluca Lorenzi (domani a Milano per la festa dei -365 giorni alle Olimpiadi) si toglie un sassolino dalla scarpa («Tutti esaltavano il ghiaccio naturale di St. Moritz e volevano spostare i Giochi lì, ma la prova di Coppa del Mondo è stata appena cancellata per il caldo») e poi delinea un cronoprogramma super ambizioso:\n",
      "\n",
      "\tCapisco le polemiche, i soldi in gioco sono tanti, ma se c’è un luogo nelle Alpi che merita una pista è Cortina con i suoi cent’anni di tradizione bobbistica».\n",
      "\n",
      "\tl’offerta di Lake Placid che aveva ingolosito il Cio e umiliato noi italiani (viaggi e alberghi per gli Usa regalati dagli zii d’America, premiazione a New York) è respinta al mittente, i Giochi 2026 saranno tutti tricolori.\n",
      "\n",
      "\tIl fronte delle opposizioni va durissimo all'attacco della premier Giorgia Meloni e del governo nel dibattito alla Camera dopo le informative dei ministri Carlo Nordio e Matteo Piantedosi sul caso Almasri.\n",
      "\n"
     ]
    }
   ],
   "source": [
    "false_positives = test_results[test_results[\"error_type\"] == \"False Positive\"]\n",
    "print(f\"Number of False Positives (minilm): {false_positives.shape[0]}\")\n",
    "print(\"\\nEXAMPLES:\\n\")\n",
    "for ex in false_positives.head(10).sentence:\n",
    "    print(f\"\\t{ex}\\n\")"
   ]
  },
  {
   "cell_type": "code",
   "execution_count": 46,
   "id": "DF53wxzZMwVG",
   "metadata": {
    "colab": {
     "base_uri": "https://localhost:8080/"
    },
    "id": "DF53wxzZMwVG",
    "outputId": "7398d162-0a04-4756-ce15-604c7c10c6d4"
   },
   "outputs": [
    {
     "name": "stdout",
     "output_type": "stream",
     "text": [
      "Number of False Negatives (minilm): 28\n",
      "\n",
      "EXAMPLES:\n",
      "\n",
      "\tMAGI - Riccardo Magi di Più Europa è sarcastico.\n",
      "\n",
      "\tMa setacciando fra i vari settori di investimento, la spesa effettiva rilevata è ben più bassa.\n",
      "\n",
      "\tDare del tu e chiamarsi per nome, a seconda del contesto, della relazione esistente tra i parlanti, e di molti altri fattori variabili, possono essere un modo per esprimere empatia oppure un modo di interloquire inappropriato e irrispettoso.\n",
      "\n",
      "\tMeno di 100 anni fa, le donne non potevano votare, e sembrava normale, nello stesso modo in cui oggi sembra normale vedere un autobus nel traffico.\n",
      "\n",
      "\tIn questo quadro di competizione e guerra che coinvolge innanzitutto il mercato energetico, la narrazione Italiana costruita dal Governo Meloni sulla “sicurezza energetica” si inserisce perfettamente.\n",
      "\n",
      "\tE' quindi ipotizzabile che si assista a una fase in cui oro e dollaro si muovono nella stessa direzione, senza necessariamente influenzarsi a vicenda.\n",
      "\n",
      "\tTuttavia, questa relazione si è notevolmente attenuata.\n",
      "\n",
      "\tL’attitudine a darsi del tu e chiamarsi per nome più spesso che in passato non implica che sia sempre appropriato e inoffensivo farlo\n",
      "\n",
      "\tLa spesa che non c'è\n",
      "\n",
      "\tquando il dollaro si rafforza, loro tende a indebolirsi.\n",
      "\n"
     ]
    }
   ],
   "source": [
    "false_negatives = test_results[test_results[\"error_type\"] == \"False Negative\"]\n",
    "print(f\"Number of False Negatives (minilm): {false_negatives.shape[0]}\")\n",
    "print(\"\\nEXAMPLES:\\n\")\n",
    "for ex in false_negatives.head(10).sentence:\n",
    "    print(f\"\\t{ex}\\n\")"
   ]
  },
  {
   "cell_type": "code",
   "execution_count": 47,
   "id": "C9qeY_WvMwMy",
   "metadata": {
    "colab": {
     "base_uri": "https://localhost:8080/",
     "height": 939
    },
    "id": "C9qeY_WvMwMy",
    "outputId": "da6719b5-26f3-4e8d-c5a9-c52e6c816ed2"
   },
   "outputs": [
    {
     "data": {
      "image/png": "[encoded data removed]",
      "text/plain": [
       "<Figure size 640x480 with 2 Axes>"
      ]
     },
     "metadata": {},
     "output_type": "display_data"
    },
    {
     "data": {
      "image/png": "[encoded data removed]",
      "text/plain": [
       "<Figure size 640x480 with 2 Axes>"
      ]
     },
     "metadata": {},
     "output_type": "display_data"
    }
   ],
   "source": [
    "plot_confusion_matrix(\"minilm\", test_results)"
   ]
  },
  {
   "cell_type": "code",
   "execution_count": 48,
   "id": "WEx1RdcPMwFL",
   "metadata": {
    "colab": {
     "base_uri": "https://localhost:8080/",
     "height": 472
    },
    "id": "WEx1RdcPMwFL",
    "outputId": "e67e9bd9-d820-4707-8c7a-f94ed189af26"
   },
   "outputs": [
    {
     "data": {
      "image/png": "[encoded data removed]",
      "text/plain": [
       "<Figure size 640x480 with 1 Axes>"
      ]
     },
     "metadata": {},
     "output_type": "display_data"
    }
   ],
   "source": [
    "precision, recall, thresholds = precision_recall_curve(test_labels, test_predictions[:, 1])\n",
    "average_precision = average_precision_score(test_labels, test_predictions[:, 1])\n",
    "\n",
    "# Plot the Precision-Recall curve\n",
    "plot_precision_recall_curve(\"minilm\", precision, recall, average_precision)"
   ]
  },
  {
   "cell_type": "markdown",
   "id": "a2f6df95-c02d-438f-83df-e868227dc048",
   "metadata": {
    "id": "a2f6df95-c02d-438f-83df-e868227dc048"
   },
   "source": [
    "### Multilungual"
   ]
  },
  {
   "cell_type": "code",
   "execution_count": 56,
   "id": "f29026c5-6a8d-4176-a0e4-46ced3d3ed28",
   "metadata": {
    "id": "f29026c5-6a8d-4176-a0e4-46ced3d3ed28"
   },
   "outputs": [],
   "source": [
    "# Combine Multilingual Training Data\n",
    "df_train_multi = pd.concat([df_train_ar, df_train_bg, df_train_en, df_train_de, df_train_it])\n",
    "df_dev_multi = pd.concat([df_dev_ar, df_dev_bg, df_dev_en, df_dev_de, df_dev_it])"
   ]
  },
  {
   "cell_type": "code",
   "execution_count": 57,
   "id": "de8c9563-d44f-4247-84bb-0089f373cd68",
   "metadata": {
    "id": "de8c9563-d44f-4247-84bb-0089f373cd68"
   },
   "outputs": [],
   "source": [
    "dataset_train = Dataset.from_pandas(df_train_multi)\n",
    "dataset_val = Dataset.from_pandas(df_dev_multi)\n",
    "dataset_test = Dataset.from_pandas(df_test_multi)"
   ]
  },
  {
   "cell_type": "code",
   "execution_count": 58,
   "id": "NxENZo0scdC6",
   "metadata": {
    "id": "NxENZo0scdC6"
   },
   "outputs": [],
   "source": [
    "def preprocess_function_with_max_length(examples):\n",
    "        return tokenizer(examples[\"sentence\"], truncation=True, padding=\"max_length\", max_length=512) # You can adjust max_length"
   ]
  },
  {
   "cell_type": "code",
   "execution_count": 59,
   "id": "24a96301-0307-47a2-a170-7ae3dd9a54c5",
   "metadata": {
    "colab": {
     "base_uri": "https://localhost:8080/",
     "height": 113,
     "referenced_widgets": [
      "41ea8e4f5c274a0fbf707405ce080e36",
      "00b789dbdae54374940798cb0a4b2daf",
      "655e272adcdc48cd84ed0684868831f4",
      "4ddb5210c9344e188cd510777f09b5f2",
      "3791794d44974eba81a1db0959f38d24",
      "e68917bb01f24709a108d9cfae4617cb",
      "e97d4c3eccdd44078684bfd3dd072094",
      "48fbcb6f1abf4bc3b534723d4104b5f3",
      "2eecb7a0c7594692bcd8dc6e900552fd",
      "9563e8dc56be4d0691289f94406a3a17",
      "48dc1550e91643d09cd33da984287496",
      "e0e3746d68ec426ea72b628777e69e65",
      "01a0b2b71c894f08ab6887a14c0c44be",
      "da9c40c3e60e4a2591e4e4d5b27caa4c",
      "f9687beaab574d5899e135559bcd709b",
      "373a6581ee434185b0b19b8bee301718",
      "934a7bd12e55497fb2e98ced8d6307ea",
      "6c43877a19454bcfb040e578a65b93b8",
      "06b773ab73714c31abcf23f47e1b1b0a",
      "ee3e88eff0f04daf96d103e29bb3551d",
      "4cafb82ce4ec43f497809b393bc7a9f7",
      "38bd787a124e4a4c966ee38837dbce45",
      "69567e73debc483ba00654ef6addef34",
      "c40806dc375c4919b502b78f304bbe3a",
      "21aa41aa0a254b9e8eb61723f3f7d21c",
      "a00f8e5e866640bf89a656f48f638609",
      "ee50cceda6e24aa0a6cbbb2476563f73",
      "b1fc1805a5e84731857cbcb4360c3b73",
      "9ce46ef8bd444489907c644ceb7dca3b",
      "85b34ed5e1eb4335b2351e6981d7464a",
      "09bb75bc0b9a49ba83e9b8a208a924b6",
      "9d25ab13bc574827b542bdd8834a4eab",
      "cb0e3af61e3d4c0997564cef916a2637"
     ]
    },
    "id": "24a96301-0307-47a2-a170-7ae3dd9a54c5",
    "outputId": "b9699fad-9dfd-4b68-e479-76154cbaad53"
   },
   "outputs": [
    {
     "data": {
      "application/vnd.jupyter.widget-view+json": {
       "model_id": "41ea8e4f5c274a0fbf707405ce080e36",
       "version_major": 2,
       "version_minor": 0
      },
      "text/plain": [
       "Map:   0%|          | 0/6380 [00:00<?, ? examples/s]"
      ]
     },
     "metadata": {},
     "output_type": "display_data"
    },
    {
     "data": {
      "application/vnd.jupyter.widget-view+json": {
       "model_id": "e0e3746d68ec426ea72b628777e69e65",
       "version_major": 2,
       "version_minor": 0
      },
      "text/plain": [
       "Map:   0%|          | 0/2393 [00:00<?, ? examples/s]"
      ]
     },
     "metadata": {},
     "output_type": "display_data"
    },
    {
     "data": {
      "application/vnd.jupyter.widget-view+json": {
       "model_id": "69567e73debc483ba00654ef6addef34",
       "version_major": 2,
       "version_minor": 0
      },
      "text/plain": [
       "Map:   0%|          | 0/1982 [00:00<?, ? examples/s]"
      ]
     },
     "metadata": {},
     "output_type": "display_data"
    }
   ],
   "source": [
    "# Tokenization\n",
    "tokenized_train = dataset_train.map(preprocess_function_with_max_length, batched=True)\n",
    "tokenized_val = dataset_val.map(preprocess_function_with_max_length, batched=True)\n",
    "tokenized_test = dataset_test.map(preprocess_function_with_max_length, batched=True)"
   ]
  },
  {
   "cell_type": "code",
   "execution_count": 60,
   "id": "506b79e3-5db9-4ae9-84e1-06f502586a9b",
   "metadata": {
    "id": "506b79e3-5db9-4ae9-84e1-06f502586a9b"
   },
   "outputs": [],
   "source": [
    "# Trainer\n",
    "trainer = Trainer(\n",
    "    model=model,\n",
    "    args=training_args,\n",
    "    train_dataset=tokenized_train,\n",
    "    eval_dataset=tokenized_val,\n",
    "    processing_class=tokenizer,\n",
    "    data_collator=data_collator,\n",
    "    compute_metrics=compute_metrics\n",
    ")"
   ]
  },
  {
   "cell_type": "code",
   "execution_count": 61,
   "id": "ddf11308-3b68-4033-be94-7f94f6d69665",
   "metadata": {
    "colab": {
     "base_uri": "https://localhost:8080/",
     "height": 221
    },
    "id": "ddf11308-3b68-4033-be94-7f94f6d69665",
    "outputId": "a378822e-3e44-4494-d08c-70f8ea1a3a7d"
   },
   "outputs": [
    {
     "data": {
      "text/html": [
       "\n",
       "    <div>\n",
       "      \n",
       "      <progress value='1197' max='1197' style='width:300px; height:20px; vertical-align: middle;'></progress>\n",
       "      [1197/1197 15:47, Epoch 3/3]\n",
       "    </div>\n",
       "    <table border=\"1\" class=\"dataframe\">\n",
       "  <thead>\n",
       " <tr style=\"text-align: left;\">\n",
       "      <th>Epoch</th>\n",
       "      <th>Training Loss</th>\n",
       "      <th>Validation Loss</th>\n",
       "      <th>F1 Macro</th>\n",
       "    </tr>\n",
       "  </thead>\n",
       "  <tbody>\n",
       "    <tr>\n",
       "      <td>1</td>\n",
       "      <td>No log</td>\n",
       "      <td>0.545753</td>\n",
       "      <td>0.702316</td>\n",
       "    </tr>\n",
       "    <tr>\n",
       "      <td>2</td>\n",
       "      <td>0.554400</td>\n",
       "      <td>0.529292</td>\n",
       "      <td>0.716566</td>\n",
       "    </tr>\n",
       "    <tr>\n",
       "      <td>3</td>\n",
       "      <td>0.471400</td>\n",
       "      <td>0.564612</td>\n",
       "      <td>0.715551</td>\n",
       "    </tr>\n",
       "  </tbody>\n",
       "</table><p>"
      ],
      "text/plain": [
       "<IPython.core.display.HTML object>"
      ]
     },
     "metadata": {},
     "output_type": "display_data"
    },
    {
     "data": {
      "text/plain": [
       "TrainOutput(global_step=1197, training_loss=0.4998464687924238, metrics={'train_runtime': 948.7619, 'train_samples_per_second': 20.174, 'train_steps_per_second': 1.262, 'total_flos': 1260804054343680.0, 'train_loss': 0.4998464687924238, 'epoch': 3.0})"
      ]
     },
     "execution_count": 61,
     "metadata": {},
     "output_type": "execute_result"
    }
   ],
   "source": [
    "# Training\n",
    "trainer.train()"
   ]
  },
  {
   "cell_type": "code",
   "execution_count": 62,
   "id": "69e459fa-b305-40bd-859e-1a803f02d7bd",
   "metadata": {
    "id": "69e459fa-b305-40bd-859e-1a803f02d7bd"
   },
   "outputs": [],
   "source": [
    "log_dir = \"logs\"\n",
    "\n",
    "if os.path.exists(log_dir):\n",
    "    shutil.rmtree(log_dir)  # Remove old logs entirely"
   ]
  },
  {
   "cell_type": "code",
   "execution_count": 63,
   "id": "72d59f8c-9ec0-46b1-90a3-3015d7b1ac36",
   "metadata": {
    "colab": {
     "base_uri": "https://localhost:8080/",
     "height": 74
    },
    "id": "72d59f8c-9ec0-46b1-90a3-3015d7b1ac36",
    "outputId": "b4ebed5c-1b4d-4b50-c549-84a3caa38877"
   },
   "outputs": [
    {
     "data": {
      "text/html": [
       "\n",
       "    <div>\n",
       "      \n",
       "      <progress value='150' max='150' style='width:300px; height:20px; vertical-align: middle;'></progress>\n",
       "      [150/150 00:23]\n",
       "    </div>\n",
       "    "
      ],
      "text/plain": [
       "<IPython.core.display.HTML object>"
      ]
     },
     "metadata": {},
     "output_type": "display_data"
    },
    {
     "name": "stdout",
     "output_type": "stream",
     "text": [
      "Validation Metrics: {'eval_loss': 0.5292919874191284, 'eval_f1_macro': 0.7165664517776413, 'eval_runtime': 24.0002, 'eval_samples_per_second': 99.708, 'eval_steps_per_second': 6.25, 'epoch': 3.0}\n"
     ]
    }
   ],
   "source": [
    "# Evaluation\n",
    "val_metrics = trainer.evaluate()\n",
    "print(\"Validation Metrics:\", val_metrics)"
   ]
  },
  {
   "cell_type": "code",
   "execution_count": 64,
   "id": "524e36c3-f10c-47ff-94de-958898da5e7d",
   "metadata": {
    "id": "524e36c3-f10c-47ff-94de-958898da5e7d"
   },
   "outputs": [],
   "source": [
    "# Save model\n",
    "trainer.save_model(\"minilm-subjectivity-multi\")"
   ]
  },
  {
   "cell_type": "code",
   "execution_count": 65,
   "id": "6ce9cc7e-3956-4299-a470-72d70d00b0d2",
   "metadata": {
    "colab": {
     "base_uri": "https://localhost:8080/",
     "height": 17
    },
    "id": "6ce9cc7e-3956-4299-a470-72d70d00b0d2",
    "outputId": "ab0cfffb-a303-433c-c70c-697e90eed07f"
   },
   "outputs": [
    {
     "data": {
      "text/html": [],
      "text/plain": [
       "<IPython.core.display.HTML object>"
      ]
     },
     "metadata": {},
     "output_type": "display_data"
    }
   ],
   "source": [
    "# Multilingual Test Predictions\n",
    "predictions = trainer.predict(tokenized_test)\n",
    "pred_labels = np.argmax(predictions.predictions, axis=1)\n",
    "\n",
    "submission = pd.DataFrame({\n",
    "    \"sentence_id\": df_test_multi[\"sentence_id\"],\n",
    "    \"label\": [\"OBJ\" if l == 1 else \"SUBJ\" for l in pred_labels]\n",
    "})\n",
    "submission.to_csv(\"multilingual_test_predictions.tsv\", sep=\"\\t\", index=False)"
   ]
  },
  {
   "cell_type": "code",
   "execution_count": 66,
   "id": "e188784d-9493-48d0-9e1b-4fb8d391e5bb",
   "metadata": {
    "colab": {
     "base_uri": "https://localhost:8080/"
    },
    "id": "e188784d-9493-48d0-9e1b-4fb8d391e5bb",
    "outputId": "8bbabf5c-56af-41a9-8c3f-7fa2252f62c4"
   },
   "outputs": [
    {
     "name": "stdout",
     "output_type": "stream",
     "text": [
      "INFO : The file is properly formatted\n",
      "INFO : Started evaluating results for Task 1...\n",
      "INFO : \n",
      "            macro-F1: 0.6598\n",
      "            macro-P: 0.7089\n",
      "            macro-R: 0.6486\n",
      "            \n",
      "            SUBJ-F1: 0.4899\n",
      "            SUBJ-P: 0.6515\n",
      "            SUBJ-R: 0.3926\n",
      "            \n",
      "            accuracy: 0.7447\n",
      "        \n"
     ]
    }
   ],
   "source": [
    "# Run scorer\n",
    "# !python scorer/evaluate.py -g data/multilingual/test_multilingual_labeled.tsv -p multilingual_test_predictions.tsv\n",
    "!python clef2025-checkthat-lab/task1/scorer/evaluate.py \\\n",
    "    -g clef2025-checkthat-lab/task1/data/multilingual/test_multilingual_labeled.tsv \\\n",
    "    -p multilingual_test_predictions.tsv"
   ]
  },
  {
   "cell_type": "markdown",
   "id": "ZscyDjGcPP8p",
   "metadata": {
    "id": "ZscyDjGcPP8p"
   },
   "source": [
    "#### Error Analysis"
   ]
  },
  {
   "cell_type": "code",
   "execution_count": 67,
   "id": "YdvDKMoKPDO6",
   "metadata": {
    "id": "YdvDKMoKPDO6"
   },
   "outputs": [],
   "source": [
    "test_predictions, test_labels = predictions.predictions, predictions.label_ids"
   ]
  },
  {
   "cell_type": "code",
   "execution_count": 68,
   "id": "V8phXTHFPWzb",
   "metadata": {
    "id": "V8phXTHFPWzb"
   },
   "outputs": [],
   "source": [
    "# Convert predictions and labels to pandas DataFrame (Transformer)\n",
    "test_results = pd.DataFrame({\n",
    "    \"sentence\": df_test_multi[\"sentence\"],\n",
    "    \"true_label\": test_labels,\n",
    "    \"predicted_label\": pred_labels\n",
    "})\n",
    "\n",
    "# Add a column to classify error types\n",
    "test_results[\"error_type\"] = np.where(\n",
    "    test_results[\"true_label\"] == test_results[\"predicted_label\"],\n",
    "    \"Correct\",\n",
    "    np.where(\n",
    "        (test_results[\"true_label\"] == 1) & (test_results[\"predicted_label\"] == 0),\n",
    "        \"False Negative\",\n",
    "        \"False Positive\"\n",
    "    )\n",
    ")"
   ]
  },
  {
   "cell_type": "code",
   "execution_count": 69,
   "id": "NEwxVmBQPZRJ",
   "metadata": {
    "colab": {
     "base_uri": "https://localhost:8080/"
    },
    "id": "NEwxVmBQPZRJ",
    "outputId": "253e6f31-fbbf-4dca-81c2-eeb13e5df39e"
   },
   "outputs": [
    {
     "name": "stdout",
     "output_type": "stream",
     "text": [
      "Number of False Positives (minilm): 376\n",
      "\n",
      "EXAMPLES:\n",
      "\n",
      "\tTo these unhappy groups, we can add a third.\n",
      "\n",
      "\tهل يصمد الاقتصاد الإيراني أمام حرب مع إسرائيل ؟\n",
      "\n",
      "\tEcco ad esempio che la Regione Liguria, guidata dalla destra, ha pensato bene di stanziare 220mila euro per un progetto di educazione allaffettività nelle parrocchie e negli oratori.\n",
      "\n",
      "\tويتطرق عمار إلى التأثيرات المحتملة لموقف ماسك ،  أن ذلك الموقف قد يفاقم التوتر بين واشنطن وبرلين ، خاصة في ظل حساسية المرحلة الحالية مع اقتراب الانتخابات في ألمانيا.\n",
      "\n",
      "\tAlles dank eines experimentellen Impfstoffs, der nur für den Notfall zugelassen ist.\n",
      "\n",
      "\tLone shoppers lined the aisles in preparation for a Government-mandated 24-hour indoors, with several baskets piled with more food, booze and toilet rolls than any household could conceivably need during such a short time.\n",
      "\n",
      "\tويبدو أن مستوى الدوري الإنجليزي بشكل عام ونسق مانشستر يونايتد القوي هو السبب الأول في تعثر خطوات المجبري في فريق الشياطين الحمر وعدم قدرته على إثبات نفسه حتى ضمن التشكيلة الاحتياطية بحسب رأي المدير الفني السابق للاتحاد التونسي لكرة القدم كمال القلصي.\n",
      "\n",
      "\tعلى سبيل المثال ، أصبحت بكين تتوقع من زعماء العالم النامي الموافقة  على مبادرة الأمن العالمي ، التي تتعارض مبادئها مع المثل العليا والممارسات في الشؤون الدولية التي تفضلها الولايات المتحدة وحلفاؤها.\n",
      "\n",
      "\tThe release this week of the new Chinese artificial intelligence (AI) tool, DeepSeek-R1, is one such moment.\n",
      "\n",
      "\tوأضاف الركابي : تزداد مخاوف المستثمرين والشركات بزيادة الضرائب ما يؤثر  على الربحية.\n",
      "\n"
     ]
    }
   ],
   "source": [
    "false_positives = test_results[test_results[\"error_type\"] == \"False Positive\"]\n",
    "print(f\"Number of False Positives (minilm): {false_positives.shape[0]}\")\n",
    "print(\"\\nEXAMPLES:\\n\")\n",
    "for ex in false_positives.head(10).sentence:\n",
    "    print(f\"\\t{ex}\\n\")"
   ]
  },
  {
   "cell_type": "code",
   "execution_count": 70,
   "id": "1HARItR9PZm6",
   "metadata": {
    "colab": {
     "base_uri": "https://localhost:8080/"
    },
    "id": "1HARItR9PZm6",
    "outputId": "09c99d80-811d-4462-9f4f-fb83d30afa15"
   },
   "outputs": [
    {
     "name": "stdout",
     "output_type": "stream",
     "text": [
      "Number of False Negatives (minilm): 130\n",
      "\n",
      "EXAMPLES:\n",
      "\n",
      "\tDas Fälschen von Totenscheinen kann als Ordnungswidrigkeit oder Falschbeurkundung nach §271 StGB angesehen werden.\n",
      "\n",
      "\tFrom the lack of vision, the lack of hope.\n",
      "\n",
      "\tواشنطن وباريس تدعوان إلى \" أقصى درجات ضبط النفس \" في المنطقة تخوفات.\n",
      "\n",
      "\tويبدو أنه يرى روسيا كمواطنة حاسمة في هذا المسعى.\n",
      "\n",
      "\tAnche per effetto dellinfluenza dellinglese, il tu e i verbi alla seconda persona singolare sono da sempre le forme dominanti dellitaliano su Internet e nei contesti digitali.\n",
      "\n",
      "\tYet nothing really changes.\n",
      "\n",
      "\tأخبار ذات صلة اتهام دول وتجاهل أخرى.\n",
      "\n",
      "\tأخبار ذات صلة إحاطة مهمة من فريق الأمن القومي لبايدن وهارس.\n",
      "\n",
      "\tهل هي طموحات توسعية غير مسبوقة ، أم أنها مجرد أدوات تفاوضية تثير الجدل الإعلامي وتضغط على الخصوم لتحقيق مكاسب ؟\n",
      "\n",
      "\tThey’ve imposed historic cuts to social security and healthcare and implemented a lot of highly criticised right-wing labour market reforms.\n",
      "\n"
     ]
    }
   ],
   "source": [
    "false_negatives = test_results[test_results[\"error_type\"] == \"False Negative\"]\n",
    "print(f\"Number of False Negatives (minilm): {false_negatives.shape[0]}\")\n",
    "print(\"\\nEXAMPLES:\\n\")\n",
    "for ex in false_negatives.head(10).sentence:\n",
    "    print(f\"\\t{ex}\\n\")"
   ]
  },
  {
   "cell_type": "code",
   "execution_count": 71,
   "id": "uEvnBn32PZ2a",
   "metadata": {
    "colab": {
     "base_uri": "https://localhost:8080/",
     "height": 939
    },
    "id": "uEvnBn32PZ2a",
    "outputId": "138ed629-8572-4fdc-e4cd-2fa7ddf38a40"
   },
   "outputs": [
    {
     "data": {
      "image/png": "[encoded data removed]",
      "text/plain": [
       "<Figure size 640x480 with 2 Axes>"
      ]
     },
     "metadata": {},
     "output_type": "display_data"
    },
    {
     "data": {
      "image/png": "[encoded data removed]",
      "text/plain": [
       "<Figure size 640x480 with 2 Axes>"
      ]
     },
     "metadata": {},
     "output_type": "display_data"
    }
   ],
   "source": [
    "plot_confusion_matrix(\"minilm\", test_results)"
   ]
  },
  {
   "cell_type": "code",
   "execution_count": 72,
   "id": "8bK5eBLWPaGh",
   "metadata": {
    "colab": {
     "base_uri": "https://localhost:8080/",
     "height": 472
    },
    "id": "8bK5eBLWPaGh",
    "outputId": "504aca6f-bbcc-4b97-a563-f71590fc0d17"
   },
   "outputs": [
    {
     "data": {
      "image/png": "[encoded data removed]",
      "text/plain": [
       "<Figure size 640x480 with 1 Axes>"
      ]
     },
     "metadata": {},
     "output_type": "display_data"
    }
   ],
   "source": [
    "precision, recall, thresholds = precision_recall_curve(test_labels, test_predictions[:, 1])\n",
    "average_precision = average_precision_score(test_labels, test_predictions[:, 1])\n",
    "\n",
    "# Plot the Precision-Recall curve\n",
    "plot_precision_recall_curve(\"minilm\", precision, recall, average_precision)"
   ]
  },
  {
   "cell_type": "markdown",
   "id": "87f5127d-f5d9-4369-a056-598679ff6da7",
   "metadata": {
    "id": "87f5127d-f5d9-4369-a056-598679ff6da7"
   },
   "source": [
    "### Zero-Shot"
   ]
  },
  {
   "cell_type": "code",
   "execution_count": 73,
   "id": "0E2tZ6iPQZCc",
   "metadata": {
    "id": "0E2tZ6iPQZCc"
   },
   "outputs": [],
   "source": [
    "# GREEK"
   ]
  },
  {
   "cell_type": "code",
   "execution_count": 74,
   "id": "SuzPCALvbv4k",
   "metadata": {
    "id": "SuzPCALvbv4k"
   },
   "outputs": [],
   "source": [
    "# During testing we found that two examples are classified as \"Uncertain\", so we decided to not consider these results."
   ]
  },
  {
   "cell_type": "code",
   "execution_count": 83,
   "id": "TbpDl24xQaok",
   "metadata": {
    "id": "TbpDl24xQaok"
   },
   "outputs": [],
   "source": [
    "# POLISH"
   ]
  },
  {
   "cell_type": "code",
   "execution_count": 84,
   "id": "7ygEnCEqQ7ZD",
   "metadata": {
    "colab": {
     "base_uri": "https://localhost:8080/",
     "height": 275,
     "referenced_widgets": [
      "51bb120141384889a5dc62d4a77923c8",
      "870664b10a1b4ddb95e0ce06c25cc1e5",
      "69b0e72485234687807fa15f2324ff9d",
      "f21a073ee94d4d85b19111b91308c172",
      "13eefa0f2723401a9ffcd91addb2670d",
      "4512fc9a627f42928a37ee1373d5aaa9",
      "e05084b014b240fb841b64cffc384c9a",
      "367750b437bb400dbf0e810138a7fa1f",
      "0213039f308b4ccfb42833d18238a279",
      "fec8e0638080458686b50f833ab27f08",
      "c0b9fe3328c943f1be2d45f51220de50"
     ]
    },
    "id": "7ygEnCEqQ7ZD",
    "outputId": "e91aa7da-9aa1-4f9c-caba-e4b9c4ed1b18"
   },
   "outputs": [
    {
     "data": {
      "application/vnd.jupyter.widget-view+json": {
       "model_id": "51bb120141384889a5dc62d4a77923c8",
       "version_major": 2,
       "version_minor": 0
      },
      "text/plain": [
       "Map:   0%|          | 0/351 [00:00<?, ? examples/s]"
      ]
     },
     "metadata": {},
     "output_type": "display_data"
    },
    {
     "data": {
      "text/html": [],
      "text/plain": [
       "<IPython.core.display.HTML object>"
      ]
     },
     "metadata": {},
     "output_type": "display_data"
    },
    {
     "name": "stdout",
     "output_type": "stream",
     "text": [
      "INFO : The file is properly formatted\n",
      "INFO : Started evaluating results for Task 1...\n",
      "INFO : \n",
      "            macro-F1: 0.5519\n",
      "            macro-P: 0.7861\n",
      "            macro-R: 0.6061\n",
      "            \n",
      "            SUBJ-F1: 0.3553\n",
      "            SUBJ-P: 0.9722\n",
      "            SUBJ-R: 0.2174\n",
      "            \n",
      "            accuracy: 0.6382\n",
      "        \n"
     ]
    }
   ],
   "source": [
    "dataset_test = Dataset.from_pandas(df_test_pol)\n",
    "tokenized_test = dataset_test.map(preprocess_function, batched=True)\n",
    "\n",
    "predictions = trainer.predict(tokenized_test)\n",
    "pred_labels = np.argmax(predictions.predictions, axis=1)\n",
    "\n",
    "submission = pd.DataFrame({\n",
    "    \"sentence_id\": df_test_pol[\"sentence_id\"],\n",
    "    \"label\": [\"OBJ\" if l == 1 else \"SUBJ\" for l in pred_labels]\n",
    "})\n",
    "submission_path = \"zero_shot_pol_predictions.tsv\"\n",
    "submission.to_csv(submission_path, sep=\"\\t\", index=False)\n",
    "\n",
    "ground_truth_path = \"clef2025-checkthat-lab/task1/data/polish/test_pol_labeled.tsv\"\n",
    "!python clef2025-checkthat-lab/task1/scorer/evaluate.py -g {ground_truth_path} -p {submission_path}"
   ]
  },
  {
   "cell_type": "code",
   "execution_count": 85,
   "id": "KTo7HBvyTGQS",
   "metadata": {
    "id": "KTo7HBvyTGQS"
   },
   "outputs": [],
   "source": [
    "test_predictions, test_labels = predictions.predictions, predictions.label_ids\n",
    "\n",
    "# Convert predictions and labels to pandas DataFrame (Transformer)\n",
    "test_results = pd.DataFrame({\n",
    "    \"sentence\": df_test_pol[\"sentence\"],\n",
    "    \"true_label\": test_labels,\n",
    "    \"predicted_label\": pred_labels\n",
    "})\n",
    "\n",
    "# Add a column to classify error types\n",
    "test_results[\"error_type\"] = np.where(\n",
    "    test_results[\"true_label\"] == test_results[\"predicted_label\"],\n",
    "    \"Correct\",\n",
    "    np.where(\n",
    "        (test_results[\"true_label\"] == 1) & (test_results[\"predicted_label\"] == 0),\n",
    "        \"False Negative\",\n",
    "        \"False Positive\"\n",
    "    )\n",
    ")"
   ]
  },
  {
   "cell_type": "code",
   "execution_count": 86,
   "id": "YRP4CSqZS6j2",
   "metadata": {
    "colab": {
     "base_uri": "https://localhost:8080/",
     "height": 939
    },
    "id": "YRP4CSqZS6j2",
    "outputId": "22141483-e2e2-47fd-df1d-b0b2ba7690c8"
   },
   "outputs": [
    {
     "data": {
      "image/png": "[encoded data removed]",
      "text/plain": [
       "<Figure size 640x480 with 2 Axes>"
      ]
     },
     "metadata": {},
     "output_type": "display_data"
    },
    {
     "data": {
      "image/png": "[encoded data removed]",
      "text/plain": [
       "<Figure size 640x480 with 2 Axes>"
      ]
     },
     "metadata": {},
     "output_type": "display_data"
    }
   ],
   "source": [
    "plot_confusion_matrix(\"minilm\", test_results)"
   ]
  },
  {
   "cell_type": "code",
   "execution_count": 87,
   "id": "tB1g9D94TSTY",
   "metadata": {
    "colab": {
     "base_uri": "https://localhost:8080/",
     "height": 472
    },
    "id": "tB1g9D94TSTY",
    "outputId": "f3672a8d-445a-4d5f-b325-7c131e383417"
   },
   "outputs": [
    {
     "data": {
      "image/png": "[encoded data removed]",
      "text/plain": [
       "<Figure size 640x480 with 1 Axes>"
      ]
     },
     "metadata": {},
     "output_type": "display_data"
    }
   ],
   "source": [
    "precision, recall, thresholds = precision_recall_curve(test_labels, test_predictions[:, 1])\n",
    "average_precision = average_precision_score(test_labels, test_predictions[:, 1])\n",
    "\n",
    "# Plot the Precision-Recall curve\n",
    "plot_precision_recall_curve(\"minilm\", precision, recall, average_precision)"
   ]
  },
  {
   "cell_type": "code",
   "execution_count": 88,
   "id": "iX3uxmoPQbwk",
   "metadata": {
    "id": "iX3uxmoPQbwk"
   },
   "outputs": [],
   "source": [
    "# ROMANIAN"
   ]
  },
  {
   "cell_type": "code",
   "execution_count": 89,
   "id": "xUJn4nmaQ7sU",
   "metadata": {
    "colab": {
     "base_uri": "https://localhost:8080/",
     "height": 275,
     "referenced_widgets": [
      "fec829c2563547beb87a513b4124971a",
      "bded1eea79db4026ab3e7a5f99d31237",
      "a8bd05e31ef843588275ac9ecfddd05b",
      "6634b9eefef647468781c853e0f25db4",
      "827d337f12d8421da44d56f4409f15b6",
      "0cde3c70a92a4e33b67140a0f0ab0fbe",
      "f053e2b668364c629bdbab80a607459f",
      "9734713fbdc44c2fad7d442f55b57d82",
      "5d7489ea44a944c6a06ac26da3fb5af7",
      "6a3bc936c62f4566be07b6ecadb94ba1",
      "a7abc5ad984f4f89ab017bb51630ec2e"
     ]
    },
    "id": "xUJn4nmaQ7sU",
    "outputId": "88f27e1e-d1d9-4ae7-e4d7-461abfcb5e86"
   },
   "outputs": [
    {
     "data": {
      "application/vnd.jupyter.widget-view+json": {
       "model_id": "fec829c2563547beb87a513b4124971a",
       "version_major": 2,
       "version_minor": 0
      },
      "text/plain": [
       "Map:   0%|          | 0/206 [00:00<?, ? examples/s]"
      ]
     },
     "metadata": {},
     "output_type": "display_data"
    },
    {
     "data": {
      "text/html": [],
      "text/plain": [
       "<IPython.core.display.HTML object>"
      ]
     },
     "metadata": {},
     "output_type": "display_data"
    },
    {
     "name": "stdout",
     "output_type": "stream",
     "text": [
      "INFO : The file is properly formatted\n",
      "INFO : Started evaluating results for Task 1...\n",
      "INFO : \n",
      "            macro-F1: 0.7673\n",
      "            macro-P: 0.7775\n",
      "            macro-R: 0.7590\n",
      "            \n",
      "            SUBJ-F1: 0.6465\n",
      "            SUBJ-P: 0.6809\n",
      "            SUBJ-R: 0.6154\n",
      "            \n",
      "            accuracy: 0.8301\n",
      "        \n"
     ]
    }
   ],
   "source": [
    "dataset_test = Dataset.from_pandas(df_test_ro)\n",
    "tokenized_test = dataset_test.map(preprocess_function, batched=True)\n",
    "\n",
    "predictions = trainer.predict(tokenized_test)\n",
    "pred_labels = np.argmax(predictions.predictions, axis=1)\n",
    "\n",
    "submission = pd.DataFrame({\n",
    "    \"sentence_id\": df_test_ro[\"sentence_id\"],\n",
    "    \"label\": [\"OBJ\" if l == 1 else \"SUBJ\" for l in pred_labels]\n",
    "})\n",
    "submission_path = \"zero_shot_ro_predictions.tsv\"\n",
    "submission.to_csv(submission_path, sep=\"\\t\", index=False)\n",
    "\n",
    "ground_truth_path = \"clef2025-checkthat-lab/task1/data/romanian/test_ro_labeled.tsv\"\n",
    "!python clef2025-checkthat-lab/task1/scorer/evaluate.py -g {ground_truth_path} -p {submission_path}"
   ]
  },
  {
   "cell_type": "code",
   "execution_count": 90,
   "id": "vzICwksWTHNd",
   "metadata": {
    "id": "vzICwksWTHNd"
   },
   "outputs": [],
   "source": [
    "test_predictions, test_labels = predictions.predictions, predictions.label_ids\n",
    "\n",
    "# Convert predictions and labels to pandas DataFrame (Transformer)\n",
    "test_results = pd.DataFrame({\n",
    "    \"sentence\": df_test_ro[\"sentence\"],\n",
    "    \"true_label\": test_labels,\n",
    "    \"predicted_label\": pred_labels\n",
    "})\n",
    "\n",
    "# Add a column to classify error types\n",
    "test_results[\"error_type\"] = np.where(\n",
    "    test_results[\"true_label\"] == test_results[\"predicted_label\"],\n",
    "    \"Correct\",\n",
    "    np.where(\n",
    "        (test_results[\"true_label\"] == 1) & (test_results[\"predicted_label\"] == 0),\n",
    "        \"False Negative\",\n",
    "        \"False Positive\"\n",
    "    )\n",
    ")"
   ]
  },
  {
   "cell_type": "code",
   "execution_count": 91,
   "id": "SAQsdYFLTLgK",
   "metadata": {
    "colab": {
     "base_uri": "https://localhost:8080/",
     "height": 939
    },
    "id": "SAQsdYFLTLgK",
    "outputId": "63b25a46-ad45-468c-801f-eca0950b8404"
   },
   "outputs": [
    {
     "data": {
      "image/png": "[encoded data removed]",
      "text/plain": [
       "<Figure size 640x480 with 2 Axes>"
      ]
     },
     "metadata": {},
     "output_type": "display_data"
    },
    {
     "data": {
      "image/png": "[encoded data removed]",
      "text/plain": [
       "<Figure size 640x480 with 2 Axes>"
      ]
     },
     "metadata": {},
     "output_type": "display_data"
    }
   ],
   "source": [
    "plot_confusion_matrix(\"minilm\", test_results)"
   ]
  },
  {
   "cell_type": "code",
   "execution_count": 92,
   "id": "p-c1X6JqTTKq",
   "metadata": {
    "colab": {
     "base_uri": "https://localhost:8080/",
     "height": 472
    },
    "id": "p-c1X6JqTTKq",
    "outputId": "d8cc34b9-c130-4681-b094-1f962b84e318"
   },
   "outputs": [
    {
     "data": {
      "image/png": "[encoded data removed]",
      "text/plain": [
       "<Figure size 640x480 with 1 Axes>"
      ]
     },
     "metadata": {},
     "output_type": "display_data"
    }
   ],
   "source": [
    "precision, recall, thresholds = precision_recall_curve(test_labels, test_predictions[:, 1])\n",
    "average_precision = average_precision_score(test_labels, test_predictions[:, 1])\n",
    "\n",
    "# Plot the Precision-Recall curve\n",
    "plot_precision_recall_curve(\"minilm\", precision, recall, average_precision)"
   ]
  },
  {
   "cell_type": "code",
   "execution_count": 93,
   "id": "9b2NiKKdQbho",
   "metadata": {
    "id": "9b2NiKKdQbho"
   },
   "outputs": [],
   "source": [
    "# UKRAINIAN"
   ]
  },
  {
   "cell_type": "code",
   "execution_count": 94,
   "id": "f7bad2f5-d362-4594-8c55-e08ce725bd25",
   "metadata": {
    "colab": {
     "base_uri": "https://localhost:8080/",
     "height": 275,
     "referenced_widgets": [
      "c0cb859246e64c848578b55bd2bfcb50",
      "ab938873b38940f788fe2dcfad6a304e",
      "1047e880367548d4989920900b6eb1bc",
      "5d73b3ea542941478212cce510eea462",
      "d4e93f91ffc34ce38ee8da3dff9bb411",
      "7b83b591426d4e9fa368509a5ce5e887",
      "76f8720858bd4e1ab6a00872c3cb4613",
      "e169dec77eaa4c3b97b29a6f2a022dbd",
      "789328f97fa64db8b4d535e48c6b4ffc",
      "69bdaa58cf4440b7a477d32f94e06eec",
      "ef1b2b6d21694a1e93e6c72b7c0fd820"
     ]
    },
    "id": "f7bad2f5-d362-4594-8c55-e08ce725bd25",
    "outputId": "e8944ca7-eaa6-426a-9df9-e0849e013e0c"
   },
   "outputs": [
    {
     "data": {
      "application/vnd.jupyter.widget-view+json": {
       "model_id": "c0cb859246e64c848578b55bd2bfcb50",
       "version_major": 2,
       "version_minor": 0
      },
      "text/plain": [
       "Map:   0%|          | 0/297 [00:00<?, ? examples/s]"
      ]
     },
     "metadata": {},
     "output_type": "display_data"
    },
    {
     "data": {
      "text/html": [],
      "text/plain": [
       "<IPython.core.display.HTML object>"
      ]
     },
     "metadata": {},
     "output_type": "display_data"
    },
    {
     "name": "stdout",
     "output_type": "stream",
     "text": [
      "INFO : The file is properly formatted\n",
      "INFO : Started evaluating results for Task 1...\n",
      "INFO : \n",
      "            macro-F1: 0.6122\n",
      "            macro-P: 0.6086\n",
      "            macro-R: 0.6258\n",
      "            \n",
      "            SUBJ-F1: 0.4581\n",
      "            SUBJ-P: 0.4059\n",
      "            SUBJ-R: 0.5256\n",
      "            \n",
      "            accuracy: 0.6734\n",
      "        \n"
     ]
    }
   ],
   "source": [
    "dataset_test = Dataset.from_pandas(df_test_ukr)\n",
    "tokenized_test = dataset_test.map(preprocess_function, batched=True)\n",
    "\n",
    "predictions = trainer.predict(tokenized_test)\n",
    "pred_labels = np.argmax(predictions.predictions, axis=1)\n",
    "\n",
    "submission = pd.DataFrame({\n",
    "    \"sentence_id\": df_test_ukr[\"sentence_id\"],\n",
    "    \"label\": [\"OBJ\" if l == 1 else \"SUBJ\" for l in pred_labels]\n",
    "})\n",
    "submission_path = \"zero_shot_ukr_predictions.tsv\"\n",
    "submission.to_csv(submission_path, sep=\"\\t\", index=False)\n",
    "\n",
    "ground_truth_path = \"clef2025-checkthat-lab/task1/data/ukrainian/test_ukr_labeled.tsv\"\n",
    "!python clef2025-checkthat-lab/task1/scorer/evaluate.py -g {ground_truth_path} -p {submission_path}"
   ]
  },
  {
   "cell_type": "code",
   "execution_count": 95,
   "id": "1BLVtCiWTH_I",
   "metadata": {
    "id": "1BLVtCiWTH_I"
   },
   "outputs": [],
   "source": [
    "test_predictions, test_labels = predictions.predictions, predictions.label_ids\n",
    "\n",
    "# Convert predictions and labels to pandas DataFrame (Transformer)\n",
    "test_results = pd.DataFrame({\n",
    "    \"sentence\": df_test_ukr[\"sentence\"],\n",
    "    \"true_label\": test_labels,\n",
    "    \"predicted_label\": pred_labels\n",
    "})\n",
    "\n",
    "# Add a column to classify error types\n",
    "test_results[\"error_type\"] = np.where(\n",
    "    test_results[\"true_label\"] == test_results[\"predicted_label\"],\n",
    "    \"Correct\",\n",
    "    np.where(\n",
    "        (test_results[\"true_label\"] == 1) & (test_results[\"predicted_label\"] == 0),\n",
    "        \"False Negative\",\n",
    "        \"False Positive\"\n",
    "    )\n",
    ")"
   ]
  },
  {
   "cell_type": "code",
   "execution_count": 96,
   "id": "HH5-wgq1TMYd",
   "metadata": {
    "colab": {
     "base_uri": "https://localhost:8080/",
     "height": 939
    },
    "id": "HH5-wgq1TMYd",
    "outputId": "7758ca76-4504-419f-c059-6ef203a164cb"
   },
   "outputs": [
    {
     "data": {
      "image/png": "[encoded data removed]",
      "text/plain": [
       "<Figure size 640x480 with 2 Axes>"
      ]
     },
     "metadata": {},
     "output_type": "display_data"
    },
    {
     "data": {
      "image/png": "[encoded data removed]",
      "text/plain": [
       "<Figure size 640x480 with 2 Axes>"
      ]
     },
     "metadata": {},
     "output_type": "display_data"
    }
   ],
   "source": [
    "plot_confusion_matrix(\"minilm\", test_results)"
   ]
  },
  {
   "cell_type": "code",
   "execution_count": 97,
   "id": "uukbd1CbTT3h",
   "metadata": {
    "colab": {
     "base_uri": "https://localhost:8080/",
     "height": 472
    },
    "id": "uukbd1CbTT3h",
    "outputId": "4db45649-60b2-41b8-8bea-79b21715a8c2"
   },
   "outputs": [
    {
     "data": {
      "image/png": "[encoded data removed]",
      "text/plain": [
       "<Figure size 640x480 with 1 Axes>"
      ]
     },
     "metadata": {},
     "output_type": "display_data"
    }
   ],
   "source": [
    "precision, recall, thresholds = precision_recall_curve(test_labels, test_predictions[:, 1])\n",
    "average_precision = average_precision_score(test_labels, test_predictions[:, 1])\n",
    "\n",
    "# Plot the Precision-Recall curve\n",
    "plot_precision_recall_curve(\"minilm\", precision, recall, average_precision)"
   ]
  },
  {
   "cell_type": "markdown",
   "id": "aT_da9preClg",
   "metadata": {
    "id": "aT_da9preClg"
   },
   "source": [
    "## Solution Download"
   ]
  },
  {
   "cell_type": "code",
   "execution_count": 98,
   "id": "8M5OgY4jeB-z",
   "metadata": {
    "colab": {
     "base_uri": "https://localhost:8080/"
    },
    "id": "8M5OgY4jeB-z",
    "outputId": "0d735402-7509-483c-cd43-048e904d2f5a"
   },
   "outputs": [
    {
     "name": "stdout",
     "output_type": "stream",
     "text": [
      "  adding: minilm-subjectivity-en/ (stored 0%)\n",
      "  adding: minilm-subjectivity-en/special_tokens_map.json (deflated 52%)\n",
      "  adding: minilm-subjectivity-en/sentencepiece.bpe.model (deflated 49%)\n",
      "  adding: minilm-subjectivity-en/tokenizer_config.json (deflated 76%)\n",
      "  adding: minilm-subjectivity-en/model.safetensors (deflated 31%)\n",
      "  adding: minilm-subjectivity-en/training_args.bin (deflated 52%)\n",
      "  adding: minilm-subjectivity-en/config.json (deflated 50%)\n",
      "  adding: minilm-subjectivity-en/tokenizer.json (deflated 76%)\n",
      "  adding: minilm-subjectivity-it/ (stored 0%)\n",
      "  adding: minilm-subjectivity-it/special_tokens_map.json (deflated 52%)\n",
      "  adding: minilm-subjectivity-it/sentencepiece.bpe.model (deflated 49%)\n",
      "  adding: minilm-subjectivity-it/tokenizer_config.json (deflated 76%)\n",
      "  adding: minilm-subjectivity-it/model.safetensors (deflated 31%)\n",
      "  adding: minilm-subjectivity-it/training_args.bin (deflated 52%)\n",
      "  adding: minilm-subjectivity-it/config.json (deflated 50%)\n",
      "  adding: minilm-subjectivity-it/tokenizer.json (deflated 76%)\n",
      "  adding: minilm-subjectivity-multi/ (stored 0%)\n",
      "  adding: minilm-subjectivity-multi/special_tokens_map.json (deflated 52%)\n",
      "  adding: minilm-subjectivity-multi/sentencepiece.bpe.model (deflated 49%)\n",
      "  adding: minilm-subjectivity-multi/tokenizer_config.json (deflated 76%)\n",
      "  adding: minilm-subjectivity-multi/model.safetensors (deflated 28%)\n",
      "  adding: minilm-subjectivity-multi/training_args.bin (deflated 52%)\n",
      "  adding: minilm-subjectivity-multi/config.json (deflated 50%)\n",
      "  adding: minilm-subjectivity-multi/tokenizer.json (deflated 76%)\n"
     ]
    }
   ],
   "source": [
    "!zip -r minilm_models.zip minilm-subjectivity-en minilm-subjectivity-it minilm-subjectivity-multi"
   ]
  },
  {
   "cell_type": "code",
   "execution_count": 99,
   "id": "W0TVn2HKeIQY",
   "metadata": {
    "colab": {
     "base_uri": "https://localhost:8080/"
    },
    "id": "W0TVn2HKeIQY",
    "outputId": "a7a644b7-c03d-4bd1-b908-f1bb57878c18"
   },
   "outputs": [
    {
     "name": "stdout",
     "output_type": "stream",
     "text": [
      "  adding: mono_en_test_predictions.tsv (deflated 46%)\n",
      "  adding: mono_it_test_predictions.tsv (deflated 45%)\n",
      "  adding: multilingual_test_predictions.tsv (deflated 45%)\n",
      "  adding: zero_shot_gr_predictions.tsv (deflated 45%)\n",
      "  adding: zero_shot_pol_predictions.tsv (deflated 46%)\n",
      "  adding: zero_shot_ro_predictions.tsv (deflated 45%)\n",
      "  adding: zero_shot_ukr_predictions.tsv (deflated 46%)\n"
     ]
    }
   ],
   "source": [
    "!zip minilm_predictions.zip \\\n",
    "mono_en_test_predictions.tsv \\\n",
    "mono_it_test_predictions.tsv \\\n",
    "multilingual_test_predictions.tsv \\\n",
    "zero_shot_gr_predictions.tsv \\\n",
    "zero_shot_pol_predictions.tsv \\\n",
    "zero_shot_ro_predictions.tsv \\\n",
    "zero_shot_ukr_predictions.tsv"
   ]
  },
  {
   "cell_type": "code",
   "execution_count": 100,
   "id": "oZeLka5beK_z",
   "metadata": {
    "colab": {
     "base_uri": "https://localhost:8080/",
     "height": 17
    },
    "id": "oZeLka5beK_z",
    "outputId": "79b76580-1196-4b1a-cd22-88fb07fc4ba1"
   },
   "outputs": [
    {
     "data": {
      "application/javascript": [
       "\n",
       "    async function download(id, filename, size) {\n",
       "      if (!google.colab.kernel.accessAllowed) {\n",
       "        return;\n",
       "      }\n",
       "      const div = document.createElement('div');\n",
       "      const label = document.createElement('label');\n",
       "      label.textContent = `Downloading \"${filename}\": `;\n",
       "      div.appendChild(label);\n",
       "      const progress = document.createElement('progress');\n",
       "      progress.max = size;\n",
       "      div.appendChild(progress);\n",
       "      document.body.appendChild(div);\n",
       "\n",
       "      const buffers = [];\n",
       "      let downloaded = 0;\n",
       "\n",
       "      const channel = await google.colab.kernel.comms.open(id);\n",
       "      // Send a message to notify the kernel that we're ready.\n",
       "      channel.send({})\n",
       "\n",
       "      for await (const message of channel.messages) {\n",
       "        // Send a message to notify the kernel that we're ready.\n",
       "        channel.send({})\n",
       "        if (message.buffers) {\n",
       "          for (const buffer of message.buffers) {\n",
       "            buffers.push(buffer);\n",
       "            downloaded += buffer.byteLength;\n",
       "            progress.value = downloaded;\n",
       "          }\n",
       "        }\n",
       "      }\n",
       "      const blob = new Blob(buffers, {type: 'application/binary'});\n",
       "      const a = document.createElement('a');\n",
       "      a.href = window.URL.createObjectURL(blob);\n",
       "      a.download = filename;\n",
       "      div.appendChild(a);\n",
       "      a.click();\n",
       "      div.remove();\n",
       "    }\n",
       "  "
      ],
      "text/plain": [
       "<IPython.core.display.Javascript object>"
      ]
     },
     "metadata": {},
     "output_type": "display_data"
    },
    {
     "data": {
      "application/javascript": [
       "download(\"download_1e8aba1a-aec2-46a2-a05a-455ea93d08de\", \"minilm_models.zip\", 1006987629)"
      ],
      "text/plain": [
       "<IPython.core.display.Javascript object>"
      ]
     },
     "metadata": {},
     "output_type": "display_data"
    },
    {
     "data": {
      "application/javascript": [
       "\n",
       "    async function download(id, filename, size) {\n",
       "      if (!google.colab.kernel.accessAllowed) {\n",
       "        return;\n",
       "      }\n",
       "      const div = document.createElement('div');\n",
       "      const label = document.createElement('label');\n",
       "      label.textContent = `Downloading \"${filename}\": `;\n",
       "      div.appendChild(label);\n",
       "      const progress = document.createElement('progress');\n",
       "      progress.max = size;\n",
       "      div.appendChild(progress);\n",
       "      document.body.appendChild(div);\n",
       "\n",
       "      const buffers = [];\n",
       "      let downloaded = 0;\n",
       "\n",
       "      const channel = await google.colab.kernel.comms.open(id);\n",
       "      // Send a message to notify the kernel that we're ready.\n",
       "      channel.send({})\n",
       "\n",
       "      for await (const message of channel.messages) {\n",
       "        // Send a message to notify the kernel that we're ready.\n",
       "        channel.send({})\n",
       "        if (message.buffers) {\n",
       "          for (const buffer of message.buffers) {\n",
       "            buffers.push(buffer);\n",
       "            downloaded += buffer.byteLength;\n",
       "            progress.value = downloaded;\n",
       "          }\n",
       "        }\n",
       "      }\n",
       "      const blob = new Blob(buffers, {type: 'application/binary'});\n",
       "      const a = document.createElement('a');\n",
       "      a.href = window.URL.createObjectURL(blob);\n",
       "      a.download = filename;\n",
       "      div.appendChild(a);\n",
       "      a.click();\n",
       "      div.remove();\n",
       "    }\n",
       "  "
      ],
      "text/plain": [
       "<IPython.core.display.Javascript object>"
      ]
     },
     "metadata": {},
     "output_type": "display_data"
    },
    {
     "data": {
      "application/javascript": [
       "download(\"download_08bfa6ca-1743-4ac6-928c-bc39d712e6b5\", \"minilm_predictions.zip\", 83973)"
      ],
      "text/plain": [
       "<IPython.core.display.Javascript object>"
      ]
     },
     "metadata": {},
     "output_type": "display_data"
    }
   ],
   "source": [
    "from google.colab import files\n",
    "\n",
    "# Download the zipped folders\n",
    "files.download(\"minilm_models.zip\")\n",
    "\n",
    "# Download the zipped predictions\n",
    "files.download(\"minilm_predictions.zip\")\n"
   ]
  },
  {
   "cell_type": "code",
   "execution_count": null,
   "id": "sB0otkCCxhIR",
   "metadata": {
    "id": "sB0otkCCxhIR"
   },
   "outputs": [],
   "source": []
  }
 ],
 "metadata": {
  "accelerator": "GPU",
  "colab": {
   "gpuType": "T4",
   "provenance": []
  },
  "kernelspec": {
   "display_name": "Python 3 (ipykernel)",
   "language": "python",
   "name": "python3"
  },
  "language_info": {
   "codemirror_mode": {
    "name": "ipython",
    "version": 3
   },
   "file_extension": ".py",
   "mimetype": "text/x-python",
   "name": "python",
   "nbconvert_exporter": "python",
   "pygments_lexer": "ipython3",
   "version": "3.13.2"
  },
  "widgets": {
   "application/vnd.jupyter.widget-state+json": {
    "00b1f327049e41c5b25098abe69332d6": {
     "model_module": "@jupyter-widgets/base",
     "model_module_version": "1.2.0",
     "model_name": "LayoutModel",
     "state": {
      "_model_module": "@jupyter-widgets/base",
      "_model_module_version": "1.2.0",
      "_model_name": "LayoutModel",
      "_view_count": null,
      "_view_module": "@jupyter-widgets/base",
      "_view_module_version": "1.2.0",
      "_view_name": "LayoutView",
      "align_content": null,
      "align_items": null,
      "align_self": null,
      "border": null,
      "bottom": null,
      "display": null,
      "flex": null,
      "flex_flow": null,
      "grid_area": null,
      "grid_auto_columns": null,
      "grid_auto_flow": null,
      "grid_auto_rows": null,
      "grid_column": null,
      "grid_gap": null,
      "grid_row": null,
      "grid_template_areas": null,
      "grid_template_columns": null,
      "grid_template_rows": null,
      "height": null,
      "justify_content": null,
      "justify_items": null,
      "left": null,
      "margin": null,
      "max_height": null,
      "max_width": null,
      "min_height": null,
      "min_width": null,
      "object_fit": null,
      "object_position": null,
      "order": null,
      "overflow": null,
      "overflow_x": null,
      "overflow_y": null,
      "padding": null,
      "right": null,
      "top": null,
      "visibility": null,
      "width": null
     }
    },
    "00b789dbdae54374940798cb0a4b2daf": {
     "model_module": "@jupyter-widgets/controls",
     "model_module_version": "1.5.0",
     "model_name": "HTMLModel",
     "state": {
      "_dom_classes": [],
      "_model_module": "@jupyter-widgets/controls",
      "_model_module_version": "1.5.0",
      "_model_name": "HTMLModel",
      "_view_count": null,
      "_view_module": "@jupyter-widgets/controls",
      "_view_module_version": "1.5.0",
      "_view_name": "HTMLView",
      "description": "",
      "description_tooltip": null,
      "layout": "IPY_MODEL_e68917bb01f24709a108d9cfae4617cb",
      "placeholder": "​",
      "style": "IPY_MODEL_e97d4c3eccdd44078684bfd3dd072094",
      "value": "Map: 100%"
     }
    },
    "01a0b2b71c894f08ab6887a14c0c44be": {
     "model_module": "@jupyter-widgets/controls",
     "model_module_version": "1.5.0",
     "model_name": "HTMLModel",
     "state": {
      "_dom_classes": [],
      "_model_module": "@jupyter-widgets/controls",
      "_model_module_version": "1.5.0",
      "_model_name": "HTMLModel",
      "_view_count": null,
      "_view_module": "@jupyter-widgets/controls",
      "_view_module_version": "1.5.0",
      "_view_name": "HTMLView",
      "description": "",
      "description_tooltip": null,
      "layout": "IPY_MODEL_934a7bd12e55497fb2e98ced8d6307ea",
      "placeholder": "​",
      "style": "IPY_MODEL_6c43877a19454bcfb040e578a65b93b8",
      "value": "Map: 100%"
     }
    },
    "01c269649f5547dabd444b817cd53f02": {
     "model_module": "@jupyter-widgets/base",
     "model_module_version": "1.2.0",
     "model_name": "LayoutModel",
     "state": {
      "_model_module": "@jupyter-widgets/base",
      "_model_module_version": "1.2.0",
      "_model_name": "LayoutModel",
      "_view_count": null,
      "_view_module": "@jupyter-widgets/base",
      "_view_module_version": "1.2.0",
      "_view_name": "LayoutView",
      "align_content": null,
      "align_items": null,
      "align_self": null,
      "border": null,
      "bottom": null,
      "display": null,
      "flex": null,
      "flex_flow": null,
      "grid_area": null,
      "grid_auto_columns": null,
      "grid_auto_flow": null,
      "grid_auto_rows": null,
      "grid_column": null,
      "grid_gap": null,
      "grid_row": null,
      "grid_template_areas": null,
      "grid_template_columns": null,
      "grid_template_rows": null,
      "height": null,
      "justify_content": null,
      "justify_items": null,
      "left": null,
      "margin": null,
      "max_height": null,
      "max_width": null,
      "min_height": null,
      "min_width": null,
      "object_fit": null,
      "object_position": null,
      "order": null,
      "overflow": null,
      "overflow_x": null,
      "overflow_y": null,
      "padding": null,
      "right": null,
      "top": null,
      "visibility": null,
      "width": null
     }
    },
    "0213039f308b4ccfb42833d18238a279": {
     "model_module": "@jupyter-widgets/controls",
     "model_module_version": "1.5.0",
     "model_name": "ProgressStyleModel",
     "state": {
      "_model_module": "@jupyter-widgets/controls",
      "_model_module_version": "1.5.0",
      "_model_name": "ProgressStyleModel",
      "_view_count": null,
      "_view_module": "@jupyter-widgets/base",
      "_view_module_version": "1.2.0",
      "_view_name": "StyleView",
      "bar_color": null,
      "description_width": ""
     }
    },
    "027100329e684b8da78e0591b1d660dc": {
     "model_module": "@jupyter-widgets/controls",
     "model_module_version": "1.5.0",
     "model_name": "ProgressStyleModel",
     "state": {
      "_model_module": "@jupyter-widgets/controls",
      "_model_module_version": "1.5.0",
      "_model_name": "ProgressStyleModel",
      "_view_count": null,
      "_view_module": "@jupyter-widgets/base",
      "_view_module_version": "1.2.0",
      "_view_name": "StyleView",
      "bar_color": null,
      "description_width": ""
     }
    },
    "064357d4e9ea45f49dec29b032f21fbe": {
     "model_module": "@jupyter-widgets/base",
     "model_module_version": "1.2.0",
     "model_name": "LayoutModel",
     "state": {
      "_model_module": "@jupyter-widgets/base",
      "_model_module_version": "1.2.0",
      "_model_name": "LayoutModel",
      "_view_count": null,
      "_view_module": "@jupyter-widgets/base",
      "_view_module_version": "1.2.0",
      "_view_name": "LayoutView",
      "align_content": null,
      "align_items": null,
      "align_self": null,
      "border": null,
      "bottom": null,
      "display": null,
      "flex": null,
      "flex_flow": null,
      "grid_area": null,
      "grid_auto_columns": null,
      "grid_auto_flow": null,
      "grid_auto_rows": null,
      "grid_column": null,
      "grid_gap": null,
      "grid_row": null,
      "grid_template_areas": null,
      "grid_template_columns": null,
      "grid_template_rows": null,
      "height": null,
      "justify_content": null,
      "justify_items": null,
      "left": null,
      "margin": null,
      "max_height": null,
      "max_width": null,
      "min_height": null,
      "min_width": null,
      "object_fit": null,
      "object_position": null,
      "order": null,
      "overflow": null,
      "overflow_x": null,
      "overflow_y": null,
      "padding": null,
      "right": null,
      "top": null,
      "visibility": null,
      "width": null
     }
    },
    "06b773ab73714c31abcf23f47e1b1b0a": {
     "model_module": "@jupyter-widgets/base",
     "model_module_version": "1.2.0",
     "model_name": "LayoutModel",
     "state": {
      "_model_module": "@jupyter-widgets/base",
      "_model_module_version": "1.2.0",
      "_model_name": "LayoutModel",
      "_view_count": null,
      "_view_module": "@jupyter-widgets/base",
      "_view_module_version": "1.2.0",
      "_view_name": "LayoutView",
      "align_content": null,
      "align_items": null,
      "align_self": null,
      "border": null,
      "bottom": null,
      "display": null,
      "flex": null,
      "flex_flow": null,
      "grid_area": null,
      "grid_auto_columns": null,
      "grid_auto_flow": null,
      "grid_auto_rows": null,
      "grid_column": null,
      "grid_gap": null,
      "grid_row": null,
      "grid_template_areas": null,
      "grid_template_columns": null,
      "grid_template_rows": null,
      "height": null,
      "justify_content": null,
      "justify_items": null,
      "left": null,
      "margin": null,
      "max_height": null,
      "max_width": null,
      "min_height": null,
      "min_width": null,
      "object_fit": null,
      "object_position": null,
      "order": null,
      "overflow": null,
      "overflow_x": null,
      "overflow_y": null,
      "padding": null,
      "right": null,
      "top": null,
      "visibility": null,
      "width": null
     }
    },
    "0719d6b047894caa8ca3489d878845ba": {
     "model_module": "@jupyter-widgets/controls",
     "model_module_version": "1.5.0",
     "model_name": "DescriptionStyleModel",
     "state": {
      "_model_module": "@jupyter-widgets/controls",
      "_model_module_version": "1.5.0",
      "_model_name": "DescriptionStyleModel",
      "_view_count": null,
      "_view_module": "@jupyter-widgets/base",
      "_view_module_version": "1.2.0",
      "_view_name": "StyleView",
      "description_width": ""
     }
    },
    "09bb75bc0b9a49ba83e9b8a208a924b6": {
     "model_module": "@jupyter-widgets/controls",
     "model_module_version": "1.5.0",
     "model_name": "ProgressStyleModel",
     "state": {
      "_model_module": "@jupyter-widgets/controls",
      "_model_module_version": "1.5.0",
      "_model_name": "ProgressStyleModel",
      "_view_count": null,
      "_view_module": "@jupyter-widgets/base",
      "_view_module_version": "1.2.0",
      "_view_name": "StyleView",
      "bar_color": null,
      "description_width": ""
     }
    },
    "0ca2980228d14083a07c3e7c64a1c30f": {
     "model_module": "@jupyter-widgets/controls",
     "model_module_version": "1.5.0",
     "model_name": "HTMLModel",
     "state": {
      "_dom_classes": [],
      "_model_module": "@jupyter-widgets/controls",
      "_model_module_version": "1.5.0",
      "_model_name": "HTMLModel",
      "_view_count": null,
      "_view_module": "@jupyter-widgets/controls",
      "_view_module_version": "1.5.0",
      "_view_name": "HTMLView",
      "description": "",
      "description_tooltip": null,
      "layout": "IPY_MODEL_a4f241d811b043ef854f3df1e9ce241c",
      "placeholder": "​",
      "style": "IPY_MODEL_33be584e8f784d309494076e48e463cc",
      "value": "Map: 100%"
     }
    },
    "0cde3c70a92a4e33b67140a0f0ab0fbe": {
     "model_module": "@jupyter-widgets/base",
     "model_module_version": "1.2.0",
     "model_name": "LayoutModel",
     "state": {
      "_model_module": "@jupyter-widgets/base",
      "_model_module_version": "1.2.0",
      "_model_name": "LayoutModel",
      "_view_count": null,
      "_view_module": "@jupyter-widgets/base",
      "_view_module_version": "1.2.0",
      "_view_name": "LayoutView",
      "align_content": null,
      "align_items": null,
      "align_self": null,
      "border": null,
      "bottom": null,
      "display": null,
      "flex": null,
      "flex_flow": null,
      "grid_area": null,
      "grid_auto_columns": null,
      "grid_auto_flow": null,
      "grid_auto_rows": null,
      "grid_column": null,
      "grid_gap": null,
      "grid_row": null,
      "grid_template_areas": null,
      "grid_template_columns": null,
      "grid_template_rows": null,
      "height": null,
      "justify_content": null,
      "justify_items": null,
      "left": null,
      "margin": null,
      "max_height": null,
      "max_width": null,
      "min_height": null,
      "min_width": null,
      "object_fit": null,
      "object_position": null,
      "order": null,
      "overflow": null,
      "overflow_x": null,
      "overflow_y": null,
      "padding": null,
      "right": null,
      "top": null,
      "visibility": null,
      "width": null
     }
    },
    "0ce26055de76455dbe30109fba14063d": {
     "model_module": "@jupyter-widgets/base",
     "model_module_version": "1.2.0",
     "model_name": "LayoutModel",
     "state": {
      "_model_module": "@jupyter-widgets/base",
      "_model_module_version": "1.2.0",
      "_model_name": "LayoutModel",
      "_view_count": null,
      "_view_module": "@jupyter-widgets/base",
      "_view_module_version": "1.2.0",
      "_view_name": "LayoutView",
      "align_content": null,
      "align_items": null,
      "align_self": null,
      "border": null,
      "bottom": null,
      "display": null,
      "flex": null,
      "flex_flow": null,
      "grid_area": null,
      "grid_auto_columns": null,
      "grid_auto_flow": null,
      "grid_auto_rows": null,
      "grid_column": null,
      "grid_gap": null,
      "grid_row": null,
      "grid_template_areas": null,
      "grid_template_columns": null,
      "grid_template_rows": null,
      "height": null,
      "justify_content": null,
      "justify_items": null,
      "left": null,
      "margin": null,
      "max_height": null,
      "max_width": null,
      "min_height": null,
      "min_width": null,
      "object_fit": null,
      "object_position": null,
      "order": null,
      "overflow": null,
      "overflow_x": null,
      "overflow_y": null,
      "padding": null,
      "right": null,
      "top": null,
      "visibility": null,
      "width": null
     }
    },
    "1010cedf00b54c6c9baa398d3cb8fbf8": {
     "model_module": "@jupyter-widgets/base",
     "model_module_version": "1.2.0",
     "model_name": "LayoutModel",
     "state": {
      "_model_module": "@jupyter-widgets/base",
      "_model_module_version": "1.2.0",
      "_model_name": "LayoutModel",
      "_view_count": null,
      "_view_module": "@jupyter-widgets/base",
      "_view_module_version": "1.2.0",
      "_view_name": "LayoutView",
      "align_content": null,
      "align_items": null,
      "align_self": null,
      "border": null,
      "bottom": null,
      "display": null,
      "flex": null,
      "flex_flow": null,
      "grid_area": null,
      "grid_auto_columns": null,
      "grid_auto_flow": null,
      "grid_auto_rows": null,
      "grid_column": null,
      "grid_gap": null,
      "grid_row": null,
      "grid_template_areas": null,
      "grid_template_columns": null,
      "grid_template_rows": null,
      "height": null,
      "justify_content": null,
      "justify_items": null,
      "left": null,
      "margin": null,
      "max_height": null,
      "max_width": null,
      "min_height": null,
      "min_width": null,
      "object_fit": null,
      "object_position": null,
      "order": null,
      "overflow": null,
      "overflow_x": null,
      "overflow_y": null,
      "padding": null,
      "right": null,
      "top": null,
      "visibility": null,
      "width": null
     }
    },
    "1047e880367548d4989920900b6eb1bc": {
     "model_module": "@jupyter-widgets/controls",
     "model_module_version": "1.5.0",
     "model_name": "FloatProgressModel",
     "state": {
      "_dom_classes": [],
      "_model_module": "@jupyter-widgets/controls",
      "_model_module_version": "1.5.0",
      "_model_name": "FloatProgressModel",
      "_view_count": null,
      "_view_module": "@jupyter-widgets/controls",
      "_view_module_version": "1.5.0",
      "_view_name": "ProgressView",
      "bar_style": "success",
      "description": "",
      "description_tooltip": null,
      "layout": "IPY_MODEL_e169dec77eaa4c3b97b29a6f2a022dbd",
      "max": 297,
      "min": 0,
      "orientation": "horizontal",
      "style": "IPY_MODEL_789328f97fa64db8b4d535e48c6b4ffc",
      "value": 297
     }
    },
    "12bd38346f8a4007ac6eec40c9355798": {
     "model_module": "@jupyter-widgets/controls",
     "model_module_version": "1.5.0",
     "model_name": "ProgressStyleModel",
     "state": {
      "_model_module": "@jupyter-widgets/controls",
      "_model_module_version": "1.5.0",
      "_model_name": "ProgressStyleModel",
      "_view_count": null,
      "_view_module": "@jupyter-widgets/base",
      "_view_module_version": "1.2.0",
      "_view_name": "StyleView",
      "bar_color": null,
      "description_width": ""
     }
    },
    "13eefa0f2723401a9ffcd91addb2670d": {
     "model_module": "@jupyter-widgets/base",
     "model_module_version": "1.2.0",
     "model_name": "LayoutModel",
     "state": {
      "_model_module": "@jupyter-widgets/base",
      "_model_module_version": "1.2.0",
      "_model_name": "LayoutModel",
      "_view_count": null,
      "_view_module": "@jupyter-widgets/base",
      "_view_module_version": "1.2.0",
      "_view_name": "LayoutView",
      "align_content": null,
      "align_items": null,
      "align_self": null,
      "border": null,
      "bottom": null,
      "display": null,
      "flex": null,
      "flex_flow": null,
      "grid_area": null,
      "grid_auto_columns": null,
      "grid_auto_flow": null,
      "grid_auto_rows": null,
      "grid_column": null,
      "grid_gap": null,
      "grid_row": null,
      "grid_template_areas": null,
      "grid_template_columns": null,
      "grid_template_rows": null,
      "height": null,
      "justify_content": null,
      "justify_items": null,
      "left": null,
      "margin": null,
      "max_height": null,
      "max_width": null,
      "min_height": null,
      "min_width": null,
      "object_fit": null,
      "object_position": null,
      "order": null,
      "overflow": null,
      "overflow_x": null,
      "overflow_y": null,
      "padding": null,
      "right": null,
      "top": null,
      "visibility": null,
      "width": null
     }
    },
    "142f2451e5984ecda96f05c78b6b2f68": {
     "model_module": "@jupyter-widgets/controls",
     "model_module_version": "1.5.0",
     "model_name": "DescriptionStyleModel",
     "state": {
      "_model_module": "@jupyter-widgets/controls",
      "_model_module_version": "1.5.0",
      "_model_name": "DescriptionStyleModel",
      "_view_count": null,
      "_view_module": "@jupyter-widgets/base",
      "_view_module_version": "1.2.0",
      "_view_name": "StyleView",
      "description_width": ""
     }
    },
    "164b370336bd43cb8db3682981422729": {
     "model_module": "@jupyter-widgets/base",
     "model_module_version": "1.2.0",
     "model_name": "LayoutModel",
     "state": {
      "_model_module": "@jupyter-widgets/base",
      "_model_module_version": "1.2.0",
      "_model_name": "LayoutModel",
      "_view_count": null,
      "_view_module": "@jupyter-widgets/base",
      "_view_module_version": "1.2.0",
      "_view_name": "LayoutView",
      "align_content": null,
      "align_items": null,
      "align_self": null,
      "border": null,
      "bottom": null,
      "display": null,
      "flex": null,
      "flex_flow": null,
      "grid_area": null,
      "grid_auto_columns": null,
      "grid_auto_flow": null,
      "grid_auto_rows": null,
      "grid_column": null,
      "grid_gap": null,
      "grid_row": null,
      "grid_template_areas": null,
      "grid_template_columns": null,
      "grid_template_rows": null,
      "height": null,
      "justify_content": null,
      "justify_items": null,
      "left": null,
      "margin": null,
      "max_height": null,
      "max_width": null,
      "min_height": null,
      "min_width": null,
      "object_fit": null,
      "object_position": null,
      "order": null,
      "overflow": null,
      "overflow_x": null,
      "overflow_y": null,
      "padding": null,
      "right": null,
      "top": null,
      "visibility": null,
      "width": null
     }
    },
    "168024f26d2c44d4b57fd868a9567734": {
     "model_module": "@jupyter-widgets/controls",
     "model_module_version": "1.5.0",
     "model_name": "DescriptionStyleModel",
     "state": {
      "_model_module": "@jupyter-widgets/controls",
      "_model_module_version": "1.5.0",
      "_model_name": "DescriptionStyleModel",
      "_view_count": null,
      "_view_module": "@jupyter-widgets/base",
      "_view_module_version": "1.2.0",
      "_view_name": "StyleView",
      "description_width": ""
     }
    },
    "176b298390124f4baf5cbec86f3b0ec8": {
     "model_module": "@jupyter-widgets/controls",
     "model_module_version": "1.5.0",
     "model_name": "HTMLModel",
     "state": {
      "_dom_classes": [],
      "_model_module": "@jupyter-widgets/controls",
      "_model_module_version": "1.5.0",
      "_model_name": "HTMLModel",
      "_view_count": null,
      "_view_module": "@jupyter-widgets/controls",
      "_view_module_version": "1.5.0",
      "_view_name": "HTMLView",
      "description": "",
      "description_tooltip": null,
      "layout": "IPY_MODEL_51d1da86e1074b4b9ecff681fde078d1",
      "placeholder": "​",
      "style": "IPY_MODEL_0719d6b047894caa8ca3489d878845ba",
      "value": "Map: 100%"
     }
    },
    "1ad9392f8354479d8b8057c2c0a30a7c": {
     "model_module": "@jupyter-widgets/controls",
     "model_module_version": "1.5.0",
     "model_name": "DescriptionStyleModel",
     "state": {
      "_model_module": "@jupyter-widgets/controls",
      "_model_module_version": "1.5.0",
      "_model_name": "DescriptionStyleModel",
      "_view_count": null,
      "_view_module": "@jupyter-widgets/base",
      "_view_module_version": "1.2.0",
      "_view_name": "StyleView",
      "description_width": ""
     }
    },
    "1ec406408c9c446c9d1419cd13c9f4c2": {
     "model_module": "@jupyter-widgets/base",
     "model_module_version": "1.2.0",
     "model_name": "LayoutModel",
     "state": {
      "_model_module": "@jupyter-widgets/base",
      "_model_module_version": "1.2.0",
      "_model_name": "LayoutModel",
      "_view_count": null,
      "_view_module": "@jupyter-widgets/base",
      "_view_module_version": "1.2.0",
      "_view_name": "LayoutView",
      "align_content": null,
      "align_items": null,
      "align_self": null,
      "border": null,
      "bottom": null,
      "display": null,
      "flex": null,
      "flex_flow": null,
      "grid_area": null,
      "grid_auto_columns": null,
      "grid_auto_flow": null,
      "grid_auto_rows": null,
      "grid_column": null,
      "grid_gap": null,
      "grid_row": null,
      "grid_template_areas": null,
      "grid_template_columns": null,
      "grid_template_rows": null,
      "height": null,
      "justify_content": null,
      "justify_items": null,
      "left": null,
      "margin": null,
      "max_height": null,
      "max_width": null,
      "min_height": null,
      "min_width": null,
      "object_fit": null,
      "object_position": null,
      "order": null,
      "overflow": null,
      "overflow_x": null,
      "overflow_y": null,
      "padding": null,
      "right": null,
      "top": null,
      "visibility": null,
      "width": null
     }
    },
    "1fc252106f1242b09ef21878d001c36d": {
     "model_module": "@jupyter-widgets/controls",
     "model_module_version": "1.5.0",
     "model_name": "DescriptionStyleModel",
     "state": {
      "_model_module": "@jupyter-widgets/controls",
      "_model_module_version": "1.5.0",
      "_model_name": "DescriptionStyleModel",
      "_view_count": null,
      "_view_module": "@jupyter-widgets/base",
      "_view_module_version": "1.2.0",
      "_view_name": "StyleView",
      "description_width": ""
     }
    },
    "21aa41aa0a254b9e8eb61723f3f7d21c": {
     "model_module": "@jupyter-widgets/controls",
     "model_module_version": "1.5.0",
     "model_name": "FloatProgressModel",
     "state": {
      "_dom_classes": [],
      "_model_module": "@jupyter-widgets/controls",
      "_model_module_version": "1.5.0",
      "_model_name": "FloatProgressModel",
      "_view_count": null,
      "_view_module": "@jupyter-widgets/controls",
      "_view_module_version": "1.5.0",
      "_view_name": "ProgressView",
      "bar_style": "success",
      "description": "",
      "description_tooltip": null,
      "layout": "IPY_MODEL_85b34ed5e1eb4335b2351e6981d7464a",
      "max": 1982,
      "min": 0,
      "orientation": "horizontal",
      "style": "IPY_MODEL_09bb75bc0b9a49ba83e9b8a208a924b6",
      "value": 1982
     }
    },
    "21f339d671f84095b746a059d65c8cf5": {
     "model_module": "@jupyter-widgets/base",
     "model_module_version": "1.2.0",
     "model_name": "LayoutModel",
     "state": {
      "_model_module": "@jupyter-widgets/base",
      "_model_module_version": "1.2.0",
      "_model_name": "LayoutModel",
      "_view_count": null,
      "_view_module": "@jupyter-widgets/base",
      "_view_module_version": "1.2.0",
      "_view_name": "LayoutView",
      "align_content": null,
      "align_items": null,
      "align_self": null,
      "border": null,
      "bottom": null,
      "display": null,
      "flex": null,
      "flex_flow": null,
      "grid_area": null,
      "grid_auto_columns": null,
      "grid_auto_flow": null,
      "grid_auto_rows": null,
      "grid_column": null,
      "grid_gap": null,
      "grid_row": null,
      "grid_template_areas": null,
      "grid_template_columns": null,
      "grid_template_rows": null,
      "height": null,
      "justify_content": null,
      "justify_items": null,
      "left": null,
      "margin": null,
      "max_height": null,
      "max_width": null,
      "min_height": null,
      "min_width": null,
      "object_fit": null,
      "object_position": null,
      "order": null,
      "overflow": null,
      "overflow_x": null,
      "overflow_y": null,
      "padding": null,
      "right": null,
      "top": null,
      "visibility": null,
      "width": null
     }
    },
    "21fd31062755449eb970520286fc8f4a": {
     "model_module": "@jupyter-widgets/controls",
     "model_module_version": "1.5.0",
     "model_name": "HTMLModel",
     "state": {
      "_dom_classes": [],
      "_model_module": "@jupyter-widgets/controls",
      "_model_module_version": "1.5.0",
      "_model_name": "HTMLModel",
      "_view_count": null,
      "_view_module": "@jupyter-widgets/controls",
      "_view_module_version": "1.5.0",
      "_view_name": "HTMLView",
      "description": "",
      "description_tooltip": null,
      "layout": "IPY_MODEL_60396ddcbb664ff98f9427da8d2d8f55",
      "placeholder": "​",
      "style": "IPY_MODEL_6687ffe104444e4080ea9f9f8a8ca43d",
      "value": "Map: 100%"
     }
    },
    "231127cf6436412cb2a1fd49a728c44e": {
     "model_module": "@jupyter-widgets/controls",
     "model_module_version": "1.5.0",
     "model_name": "ProgressStyleModel",
     "state": {
      "_model_module": "@jupyter-widgets/controls",
      "_model_module_version": "1.5.0",
      "_model_name": "ProgressStyleModel",
      "_view_count": null,
      "_view_module": "@jupyter-widgets/base",
      "_view_module_version": "1.2.0",
      "_view_name": "StyleView",
      "bar_color": null,
      "description_width": ""
     }
    },
    "23a3af9af1f8430c9642c7afb59861d1": {
     "model_module": "@jupyter-widgets/base",
     "model_module_version": "1.2.0",
     "model_name": "LayoutModel",
     "state": {
      "_model_module": "@jupyter-widgets/base",
      "_model_module_version": "1.2.0",
      "_model_name": "LayoutModel",
      "_view_count": null,
      "_view_module": "@jupyter-widgets/base",
      "_view_module_version": "1.2.0",
      "_view_name": "LayoutView",
      "align_content": null,
      "align_items": null,
      "align_self": null,
      "border": null,
      "bottom": null,
      "display": null,
      "flex": null,
      "flex_flow": null,
      "grid_area": null,
      "grid_auto_columns": null,
      "grid_auto_flow": null,
      "grid_auto_rows": null,
      "grid_column": null,
      "grid_gap": null,
      "grid_row": null,
      "grid_template_areas": null,
      "grid_template_columns": null,
      "grid_template_rows": null,
      "height": null,
      "justify_content": null,
      "justify_items": null,
      "left": null,
      "margin": null,
      "max_height": null,
      "max_width": null,
      "min_height": null,
      "min_width": null,
      "object_fit": null,
      "object_position": null,
      "order": null,
      "overflow": null,
      "overflow_x": null,
      "overflow_y": null,
      "padding": null,
      "right": null,
      "top": null,
      "visibility": null,
      "width": null
     }
    },
    "24acccdefd3f4211a8a0a79e0d7581e5": {
     "model_module": "@jupyter-widgets/controls",
     "model_module_version": "1.5.0",
     "model_name": "HTMLModel",
     "state": {
      "_dom_classes": [],
      "_model_module": "@jupyter-widgets/controls",
      "_model_module_version": "1.5.0",
      "_model_name": "HTMLModel",
      "_view_count": null,
      "_view_module": "@jupyter-widgets/controls",
      "_view_module_version": "1.5.0",
      "_view_name": "HTMLView",
      "description": "",
      "description_tooltip": null,
      "layout": "IPY_MODEL_cf33dabfafba44de9a72b791f7c06605",
      "placeholder": "​",
      "style": "IPY_MODEL_d86b0c4946f94a81b3458a7eb56004a6",
      "value": "pytorch_model.bin: 100%"
     }
    },
    "24e29ebd0e9949ab94c18c068f997f60": {
     "model_module": "@jupyter-widgets/controls",
     "model_module_version": "1.5.0",
     "model_name": "ProgressStyleModel",
     "state": {
      "_model_module": "@jupyter-widgets/controls",
      "_model_module_version": "1.5.0",
      "_model_name": "ProgressStyleModel",
      "_view_count": null,
      "_view_module": "@jupyter-widgets/base",
      "_view_module_version": "1.2.0",
      "_view_name": "StyleView",
      "bar_color": null,
      "description_width": ""
     }
    },
    "2609c6d44a8f4fa48fef2522f4dc54a7": {
     "model_module": "@jupyter-widgets/controls",
     "model_module_version": "1.5.0",
     "model_name": "FloatProgressModel",
     "state": {
      "_dom_classes": [],
      "_model_module": "@jupyter-widgets/controls",
      "_model_module_version": "1.5.0",
      "_model_name": "FloatProgressModel",
      "_view_count": null,
      "_view_module": "@jupyter-widgets/controls",
      "_view_module_version": "1.5.0",
      "_view_name": "ProgressView",
      "bar_style": "success",
      "description": "",
      "description_tooltip": null,
      "layout": "IPY_MODEL_e75e518b248d44d9a806a73de74661fb",
      "max": 2,
      "min": 0,
      "orientation": "horizontal",
      "style": "IPY_MODEL_8a4393183a794c79ae49ae7d46b288b4",
      "value": 2
     }
    },
    "2734e3ca01354feb9484acf4c84c214a": {
     "model_module": "@jupyter-widgets/controls",
     "model_module_version": "1.5.0",
     "model_name": "DescriptionStyleModel",
     "state": {
      "_model_module": "@jupyter-widgets/controls",
      "_model_module_version": "1.5.0",
      "_model_name": "DescriptionStyleModel",
      "_view_count": null,
      "_view_module": "@jupyter-widgets/base",
      "_view_module_version": "1.2.0",
      "_view_name": "StyleView",
      "description_width": ""
     }
    },
    "28180e24424e4ca393a59b38e535b7c7": {
     "model_module": "@jupyter-widgets/base",
     "model_module_version": "1.2.0",
     "model_name": "LayoutModel",
     "state": {
      "_model_module": "@jupyter-widgets/base",
      "_model_module_version": "1.2.0",
      "_model_name": "LayoutModel",
      "_view_count": null,
      "_view_module": "@jupyter-widgets/base",
      "_view_module_version": "1.2.0",
      "_view_name": "LayoutView",
      "align_content": null,
      "align_items": null,
      "align_self": null,
      "border": null,
      "bottom": null,
      "display": null,
      "flex": null,
      "flex_flow": null,
      "grid_area": null,
      "grid_auto_columns": null,
      "grid_auto_flow": null,
      "grid_auto_rows": null,
      "grid_column": null,
      "grid_gap": null,
      "grid_row": null,
      "grid_template_areas": null,
      "grid_template_columns": null,
      "grid_template_rows": null,
      "height": null,
      "justify_content": null,
      "justify_items": null,
      "left": null,
      "margin": null,
      "max_height": null,
      "max_width": null,
      "min_height": null,
      "min_width": null,
      "object_fit": null,
      "object_position": null,
      "order": null,
      "overflow": null,
      "overflow_x": null,
      "overflow_y": null,
      "padding": null,
      "right": null,
      "top": null,
      "visibility": null,
      "width": null
     }
    },
    "299f2a474bff41cdb85d87ffd43be181": {
     "model_module": "@jupyter-widgets/controls",
     "model_module_version": "1.5.0",
     "model_name": "DescriptionStyleModel",
     "state": {
      "_model_module": "@jupyter-widgets/controls",
      "_model_module_version": "1.5.0",
      "_model_name": "DescriptionStyleModel",
      "_view_count": null,
      "_view_module": "@jupyter-widgets/base",
      "_view_module_version": "1.2.0",
      "_view_name": "StyleView",
      "description_width": ""
     }
    },
    "2ae72059f95e4c1bb893d9ccdb58794e": {
     "model_module": "@jupyter-widgets/base",
     "model_module_version": "1.2.0",
     "model_name": "LayoutModel",
     "state": {
      "_model_module": "@jupyter-widgets/base",
      "_model_module_version": "1.2.0",
      "_model_name": "LayoutModel",
      "_view_count": null,
      "_view_module": "@jupyter-widgets/base",
      "_view_module_version": "1.2.0",
      "_view_name": "LayoutView",
      "align_content": null,
      "align_items": null,
      "align_self": null,
      "border": null,
      "bottom": null,
      "display": null,
      "flex": null,
      "flex_flow": null,
      "grid_area": null,
      "grid_auto_columns": null,
      "grid_auto_flow": null,
      "grid_auto_rows": null,
      "grid_column": null,
      "grid_gap": null,
      "grid_row": null,
      "grid_template_areas": null,
      "grid_template_columns": null,
      "grid_template_rows": null,
      "height": null,
      "justify_content": null,
      "justify_items": null,
      "left": null,
      "margin": null,
      "max_height": null,
      "max_width": null,
      "min_height": null,
      "min_width": null,
      "object_fit": null,
      "object_position": null,
      "order": null,
      "overflow": null,
      "overflow_x": null,
      "overflow_y": null,
      "padding": null,
      "right": null,
      "top": null,
      "visibility": null,
      "width": null
     }
    },
    "2c97caeae29f483abec97ffa9cb594f2": {
     "model_module": "@jupyter-widgets/controls",
     "model_module_version": "1.5.0",
     "model_name": "DescriptionStyleModel",
     "state": {
      "_model_module": "@jupyter-widgets/controls",
      "_model_module_version": "1.5.0",
      "_model_name": "DescriptionStyleModel",
      "_view_count": null,
      "_view_module": "@jupyter-widgets/base",
      "_view_module_version": "1.2.0",
      "_view_name": "StyleView",
      "description_width": ""
     }
    },
    "2eecb7a0c7594692bcd8dc6e900552fd": {
     "model_module": "@jupyter-widgets/controls",
     "model_module_version": "1.5.0",
     "model_name": "ProgressStyleModel",
     "state": {
      "_model_module": "@jupyter-widgets/controls",
      "_model_module_version": "1.5.0",
      "_model_name": "ProgressStyleModel",
      "_view_count": null,
      "_view_module": "@jupyter-widgets/base",
      "_view_module_version": "1.2.0",
      "_view_name": "StyleView",
      "bar_color": null,
      "description_width": ""
     }
    },
    "31fefba0699d46868c1ce8d66fd0e407": {
     "model_module": "@jupyter-widgets/controls",
     "model_module_version": "1.5.0",
     "model_name": "FloatProgressModel",
     "state": {
      "_dom_classes": [],
      "_model_module": "@jupyter-widgets/controls",
      "_model_module_version": "1.5.0",
      "_model_name": "FloatProgressModel",
      "_view_count": null,
      "_view_module": "@jupyter-widgets/controls",
      "_view_module_version": "1.5.0",
      "_view_name": "ProgressView",
      "bar_style": "success",
      "description": "",
      "description_tooltip": null,
      "layout": "IPY_MODEL_6788bff2968a4cb7959a21b3f1f9c34d",
      "max": 667,
      "min": 0,
      "orientation": "horizontal",
      "style": "IPY_MODEL_56f9830151874aaea71393d3ffa6e1d6",
      "value": 667
     }
    },
    "32db09088a484950bd7ff1fcb394c073": {
     "model_module": "@jupyter-widgets/controls",
     "model_module_version": "1.5.0",
     "model_name": "DescriptionStyleModel",
     "state": {
      "_model_module": "@jupyter-widgets/controls",
      "_model_module_version": "1.5.0",
      "_model_name": "DescriptionStyleModel",
      "_view_count": null,
      "_view_module": "@jupyter-widgets/base",
      "_view_module_version": "1.2.0",
      "_view_name": "StyleView",
      "description_width": ""
     }
    },
    "33be584e8f784d309494076e48e463cc": {
     "model_module": "@jupyter-widgets/controls",
     "model_module_version": "1.5.0",
     "model_name": "DescriptionStyleModel",
     "state": {
      "_model_module": "@jupyter-widgets/controls",
      "_model_module_version": "1.5.0",
      "_model_name": "DescriptionStyleModel",
      "_view_count": null,
      "_view_module": "@jupyter-widgets/base",
      "_view_module_version": "1.2.0",
      "_view_name": "StyleView",
      "description_width": ""
     }
    },
    "33e8d102aa52407ca37c33c774685519": {
     "model_module": "@jupyter-widgets/base",
     "model_module_version": "1.2.0",
     "model_name": "LayoutModel",
     "state": {
      "_model_module": "@jupyter-widgets/base",
      "_model_module_version": "1.2.0",
      "_model_name": "LayoutModel",
      "_view_count": null,
      "_view_module": "@jupyter-widgets/base",
      "_view_module_version": "1.2.0",
      "_view_name": "LayoutView",
      "align_content": null,
      "align_items": null,
      "align_self": null,
      "border": null,
      "bottom": null,
      "display": null,
      "flex": null,
      "flex_flow": null,
      "grid_area": null,
      "grid_auto_columns": null,
      "grid_auto_flow": null,
      "grid_auto_rows": null,
      "grid_column": null,
      "grid_gap": null,
      "grid_row": null,
      "grid_template_areas": null,
      "grid_template_columns": null,
      "grid_template_rows": null,
      "height": null,
      "justify_content": null,
      "justify_items": null,
      "left": null,
      "margin": null,
      "max_height": null,
      "max_width": null,
      "min_height": null,
      "min_width": null,
      "object_fit": null,
      "object_position": null,
      "order": null,
      "overflow": null,
      "overflow_x": null,
      "overflow_y": null,
      "padding": null,
      "right": null,
      "top": null,
      "visibility": null,
      "width": null
     }
    },
    "35e87628df514c4aba5fc9685fe248af": {
     "model_module": "@jupyter-widgets/controls",
     "model_module_version": "1.5.0",
     "model_name": "HTMLModel",
     "state": {
      "_dom_classes": [],
      "_model_module": "@jupyter-widgets/controls",
      "_model_module_version": "1.5.0",
      "_model_name": "HTMLModel",
      "_view_count": null,
      "_view_module": "@jupyter-widgets/controls",
      "_view_module_version": "1.5.0",
      "_view_name": "HTMLView",
      "description": "",
      "description_tooltip": null,
      "layout": "IPY_MODEL_999a0c31b60e4c66bf93ca2422713b96",
      "placeholder": "​",
      "style": "IPY_MODEL_ec3ada95a2b841b59683898147a7675e",
      "value": " 430/430 [00:00&lt;00:00, 27.7kB/s]"
     }
    },
    "367750b437bb400dbf0e810138a7fa1f": {
     "model_module": "@jupyter-widgets/base",
     "model_module_version": "1.2.0",
     "model_name": "LayoutModel",
     "state": {
      "_model_module": "@jupyter-widgets/base",
      "_model_module_version": "1.2.0",
      "_model_name": "LayoutModel",
      "_view_count": null,
      "_view_module": "@jupyter-widgets/base",
      "_view_module_version": "1.2.0",
      "_view_name": "LayoutView",
      "align_content": null,
      "align_items": null,
      "align_self": null,
      "border": null,
      "bottom": null,
      "display": null,
      "flex": null,
      "flex_flow": null,
      "grid_area": null,
      "grid_auto_columns": null,
      "grid_auto_flow": null,
      "grid_auto_rows": null,
      "grid_column": null,
      "grid_gap": null,
      "grid_row": null,
      "grid_template_areas": null,
      "grid_template_columns": null,
      "grid_template_rows": null,
      "height": null,
      "justify_content": null,
      "justify_items": null,
      "left": null,
      "margin": null,
      "max_height": null,
      "max_width": null,
      "min_height": null,
      "min_width": null,
      "object_fit": null,
      "object_position": null,
      "order": null,
      "overflow": null,
      "overflow_x": null,
      "overflow_y": null,
      "padding": null,
      "right": null,
      "top": null,
      "visibility": null,
      "width": null
     }
    },
    "373a6581ee434185b0b19b8bee301718": {
     "model_module": "@jupyter-widgets/base",
     "model_module_version": "1.2.0",
     "model_name": "LayoutModel",
     "state": {
      "_model_module": "@jupyter-widgets/base",
      "_model_module_version": "1.2.0",
      "_model_name": "LayoutModel",
      "_view_count": null,
      "_view_module": "@jupyter-widgets/base",
      "_view_module_version": "1.2.0",
      "_view_name": "LayoutView",
      "align_content": null,
      "align_items": null,
      "align_self": null,
      "border": null,
      "bottom": null,
      "display": null,
      "flex": null,
      "flex_flow": null,
      "grid_area": null,
      "grid_auto_columns": null,
      "grid_auto_flow": null,
      "grid_auto_rows": null,
      "grid_column": null,
      "grid_gap": null,
      "grid_row": null,
      "grid_template_areas": null,
      "grid_template_columns": null,
      "grid_template_rows": null,
      "height": null,
      "justify_content": null,
      "justify_items": null,
      "left": null,
      "margin": null,
      "max_height": null,
      "max_width": null,
      "min_height": null,
      "min_width": null,
      "object_fit": null,
      "object_position": null,
      "order": null,
      "overflow": null,
      "overflow_x": null,
      "overflow_y": null,
      "padding": null,
      "right": null,
      "top": null,
      "visibility": null,
      "width": null
     }
    },
    "37818b840a5646d783270db3c5e25258": {
     "model_module": "@jupyter-widgets/controls",
     "model_module_version": "1.5.0",
     "model_name": "DescriptionStyleModel",
     "state": {
      "_model_module": "@jupyter-widgets/controls",
      "_model_module_version": "1.5.0",
      "_model_name": "DescriptionStyleModel",
      "_view_count": null,
      "_view_module": "@jupyter-widgets/base",
      "_view_module_version": "1.2.0",
      "_view_name": "StyleView",
      "description_width": ""
     }
    },
    "3791794d44974eba81a1db0959f38d24": {
     "model_module": "@jupyter-widgets/base",
     "model_module_version": "1.2.0",
     "model_name": "LayoutModel",
     "state": {
      "_model_module": "@jupyter-widgets/base",
      "_model_module_version": "1.2.0",
      "_model_name": "LayoutModel",
      "_view_count": null,
      "_view_module": "@jupyter-widgets/base",
      "_view_module_version": "1.2.0",
      "_view_name": "LayoutView",
      "align_content": null,
      "align_items": null,
      "align_self": null,
      "border": null,
      "bottom": null,
      "display": null,
      "flex": null,
      "flex_flow": null,
      "grid_area": null,
      "grid_auto_columns": null,
      "grid_auto_flow": null,
      "grid_auto_rows": null,
      "grid_column": null,
      "grid_gap": null,
      "grid_row": null,
      "grid_template_areas": null,
      "grid_template_columns": null,
      "grid_template_rows": null,
      "height": null,
      "justify_content": null,
      "justify_items": null,
      "left": null,
      "margin": null,
      "max_height": null,
      "max_width": null,
      "min_height": null,
      "min_width": null,
      "object_fit": null,
      "object_position": null,
      "order": null,
      "overflow": null,
      "overflow_x": null,
      "overflow_y": null,
      "padding": null,
      "right": null,
      "top": null,
      "visibility": null,
      "width": null
     }
    },
    "38bd787a124e4a4c966ee38837dbce45": {
     "model_module": "@jupyter-widgets/controls",
     "model_module_version": "1.5.0",
     "model_name": "DescriptionStyleModel",
     "state": {
      "_model_module": "@jupyter-widgets/controls",
      "_model_module_version": "1.5.0",
      "_model_name": "DescriptionStyleModel",
      "_view_count": null,
      "_view_module": "@jupyter-widgets/base",
      "_view_module_version": "1.2.0",
      "_view_name": "StyleView",
      "description_width": ""
     }
    },
    "390ad994c3544fa4a85da171de3af5ca": {
     "model_module": "@jupyter-widgets/controls",
     "model_module_version": "1.5.0",
     "model_name": "HTMLModel",
     "state": {
      "_dom_classes": [],
      "_model_module": "@jupyter-widgets/controls",
      "_model_module_version": "1.5.0",
      "_model_name": "HTMLModel",
      "_view_count": null,
      "_view_module": "@jupyter-widgets/controls",
      "_view_module_version": "1.5.0",
      "_view_name": "HTMLView",
      "description": "",
      "description_tooltip": null,
      "layout": "IPY_MODEL_a2fb6d72511c47bf97d3ec34b78a989b",
      "placeholder": "​",
      "style": "IPY_MODEL_6484607211a048d38e1484c70cee70f4",
      "value": " 1613/1613 [00:00&lt;00:00, 3261.45 examples/s]"
     }
    },
    "39522112cc6645f981c2aab59fc3ff39": {
     "model_module": "@jupyter-widgets/controls",
     "model_module_version": "1.5.0",
     "model_name": "FloatProgressModel",
     "state": {
      "_dom_classes": [],
      "_model_module": "@jupyter-widgets/controls",
      "_model_module_version": "1.5.0",
      "_model_name": "FloatProgressModel",
      "_view_count": null,
      "_view_module": "@jupyter-widgets/controls",
      "_view_module_version": "1.5.0",
      "_view_name": "ProgressView",
      "bar_style": "success",
      "description": "",
      "description_tooltip": null,
      "layout": "IPY_MODEL_ce6fefea0e18428bb1f66dca2250c5f3",
      "max": 830,
      "min": 0,
      "orientation": "horizontal",
      "style": "IPY_MODEL_027100329e684b8da78e0591b1d660dc",
      "value": 830
     }
    },
    "3a133fafe17a41e9b1ad0bc3dcd9af62": {
     "model_module": "@jupyter-widgets/base",
     "model_module_version": "1.2.0",
     "model_name": "LayoutModel",
     "state": {
      "_model_module": "@jupyter-widgets/base",
      "_model_module_version": "1.2.0",
      "_model_name": "LayoutModel",
      "_view_count": null,
      "_view_module": "@jupyter-widgets/base",
      "_view_module_version": "1.2.0",
      "_view_name": "LayoutView",
      "align_content": null,
      "align_items": null,
      "align_self": null,
      "border": null,
      "bottom": null,
      "display": null,
      "flex": null,
      "flex_flow": null,
      "grid_area": null,
      "grid_auto_columns": null,
      "grid_auto_flow": null,
      "grid_auto_rows": null,
      "grid_column": null,
      "grid_gap": null,
      "grid_row": null,
      "grid_template_areas": null,
      "grid_template_columns": null,
      "grid_template_rows": null,
      "height": null,
      "justify_content": null,
      "justify_items": null,
      "left": null,
      "margin": null,
      "max_height": null,
      "max_width": null,
      "min_height": null,
      "min_width": null,
      "object_fit": null,
      "object_position": null,
      "order": null,
      "overflow": null,
      "overflow_x": null,
      "overflow_y": null,
      "padding": null,
      "right": null,
      "top": null,
      "visibility": null,
      "width": null
     }
    },
    "3b49614bc3f646a78ac6ac99f1f1b9a1": {
     "model_module": "@jupyter-widgets/controls",
     "model_module_version": "1.5.0",
     "model_name": "FloatProgressModel",
     "state": {
      "_dom_classes": [],
      "_model_module": "@jupyter-widgets/controls",
      "_model_module_version": "1.5.0",
      "_model_name": "FloatProgressModel",
      "_view_count": null,
      "_view_module": "@jupyter-widgets/controls",
      "_view_module_version": "1.5.0",
      "_view_name": "ProgressView",
      "bar_style": "success",
      "description": "",
      "description_tooltip": null,
      "layout": "IPY_MODEL_21f339d671f84095b746a059d65c8cf5",
      "max": 470637416,
      "min": 0,
      "orientation": "horizontal",
      "style": "IPY_MODEL_a2e08ee644b94d17bef5ecde973bbbe7",
      "value": 470637416
     }
    },
    "3bc4d44cd4524eee9728f1b4985a9740": {
     "model_module": "@jupyter-widgets/base",
     "model_module_version": "1.2.0",
     "model_name": "LayoutModel",
     "state": {
      "_model_module": "@jupyter-widgets/base",
      "_model_module_version": "1.2.0",
      "_model_name": "LayoutModel",
      "_view_count": null,
      "_view_module": "@jupyter-widgets/base",
      "_view_module_version": "1.2.0",
      "_view_name": "LayoutView",
      "align_content": null,
      "align_items": null,
      "align_self": null,
      "border": null,
      "bottom": null,
      "display": null,
      "flex": null,
      "flex_flow": null,
      "grid_area": null,
      "grid_auto_columns": null,
      "grid_auto_flow": null,
      "grid_auto_rows": null,
      "grid_column": null,
      "grid_gap": null,
      "grid_row": null,
      "grid_template_areas": null,
      "grid_template_columns": null,
      "grid_template_rows": null,
      "height": null,
      "justify_content": null,
      "justify_items": null,
      "left": null,
      "margin": null,
      "max_height": null,
      "max_width": null,
      "min_height": null,
      "min_width": null,
      "object_fit": null,
      "object_position": null,
      "order": null,
      "overflow": null,
      "overflow_x": null,
      "overflow_y": null,
      "padding": null,
      "right": null,
      "top": null,
      "visibility": null,
      "width": null
     }
    },
    "3e6cf322ccd04ca0bb1c942f9fa087ca": {
     "model_module": "@jupyter-widgets/base",
     "model_module_version": "1.2.0",
     "model_name": "LayoutModel",
     "state": {
      "_model_module": "@jupyter-widgets/base",
      "_model_module_version": "1.2.0",
      "_model_name": "LayoutModel",
      "_view_count": null,
      "_view_module": "@jupyter-widgets/base",
      "_view_module_version": "1.2.0",
      "_view_name": "LayoutView",
      "align_content": null,
      "align_items": null,
      "align_self": null,
      "border": null,
      "bottom": null,
      "display": null,
      "flex": null,
      "flex_flow": null,
      "grid_area": null,
      "grid_auto_columns": null,
      "grid_auto_flow": null,
      "grid_auto_rows": null,
      "grid_column": null,
      "grid_gap": null,
      "grid_row": null,
      "grid_template_areas": null,
      "grid_template_columns": null,
      "grid_template_rows": null,
      "height": null,
      "justify_content": null,
      "justify_items": null,
      "left": null,
      "margin": null,
      "max_height": null,
      "max_width": null,
      "min_height": null,
      "min_width": null,
      "object_fit": null,
      "object_position": null,
      "order": null,
      "overflow": null,
      "overflow_x": null,
      "overflow_y": null,
      "padding": null,
      "right": null,
      "top": null,
      "visibility": null,
      "width": null
     }
    },
    "3ec99f76ef6b4609a6e48152b314ebb6": {
     "model_module": "@jupyter-widgets/controls",
     "model_module_version": "1.5.0",
     "model_name": "HTMLModel",
     "state": {
      "_dom_classes": [],
      "_model_module": "@jupyter-widgets/controls",
      "_model_module_version": "1.5.0",
      "_model_name": "HTMLModel",
      "_view_count": null,
      "_view_module": "@jupyter-widgets/controls",
      "_view_module_version": "1.5.0",
      "_view_name": "HTMLView",
      "description": "",
      "description_tooltip": null,
      "layout": "IPY_MODEL_3e6cf322ccd04ca0bb1c942f9fa087ca",
      "placeholder": "​",
      "style": "IPY_MODEL_eb417af6aadc499da905e9a3ede13883",
      "value": "tokenizer_config.json: 100%"
     }
    },
    "3fec019251a44b88868e43bd9954c245": {
     "model_module": "@jupyter-widgets/base",
     "model_module_version": "1.2.0",
     "model_name": "LayoutModel",
     "state": {
      "_model_module": "@jupyter-widgets/base",
      "_model_module_version": "1.2.0",
      "_model_name": "LayoutModel",
      "_view_count": null,
      "_view_module": "@jupyter-widgets/base",
      "_view_module_version": "1.2.0",
      "_view_name": "LayoutView",
      "align_content": null,
      "align_items": null,
      "align_self": null,
      "border": null,
      "bottom": null,
      "display": null,
      "flex": null,
      "flex_flow": null,
      "grid_area": null,
      "grid_auto_columns": null,
      "grid_auto_flow": null,
      "grid_auto_rows": null,
      "grid_column": null,
      "grid_gap": null,
      "grid_row": null,
      "grid_template_areas": null,
      "grid_template_columns": null,
      "grid_template_rows": null,
      "height": null,
      "justify_content": null,
      "justify_items": null,
      "left": null,
      "margin": null,
      "max_height": null,
      "max_width": null,
      "min_height": null,
      "min_width": null,
      "object_fit": null,
      "object_position": null,
      "order": null,
      "overflow": null,
      "overflow_x": null,
      "overflow_y": null,
      "padding": null,
      "right": null,
      "top": null,
      "visibility": null,
      "width": null
     }
    },
    "41ea8e4f5c274a0fbf707405ce080e36": {
     "model_module": "@jupyter-widgets/controls",
     "model_module_version": "1.5.0",
     "model_name": "HBoxModel",
     "state": {
      "_dom_classes": [],
      "_model_module": "@jupyter-widgets/controls",
      "_model_module_version": "1.5.0",
      "_model_name": "HBoxModel",
      "_view_count": null,
      "_view_module": "@jupyter-widgets/controls",
      "_view_module_version": "1.5.0",
      "_view_name": "HBoxView",
      "box_style": "",
      "children": [
       "IPY_MODEL_00b789dbdae54374940798cb0a4b2daf",
       "IPY_MODEL_655e272adcdc48cd84ed0684868831f4",
       "IPY_MODEL_4ddb5210c9344e188cd510777f09b5f2"
      ],
      "layout": "IPY_MODEL_3791794d44974eba81a1db0959f38d24"
     }
    },
    "449678b6eca8469abe63f4f50ed7e0f1": {
     "model_module": "@jupyter-widgets/controls",
     "model_module_version": "1.5.0",
     "model_name": "HBoxModel",
     "state": {
      "_dom_classes": [],
      "_model_module": "@jupyter-widgets/controls",
      "_model_module_version": "1.5.0",
      "_model_name": "HBoxModel",
      "_view_count": null,
      "_view_module": "@jupyter-widgets/controls",
      "_view_module_version": "1.5.0",
      "_view_name": "HBoxView",
      "box_style": "",
      "children": [
       "IPY_MODEL_abaed3eeb9f44cd59521fc13c579e58a",
       "IPY_MODEL_a83367482cc1470a98226fc8af385b21",
       "IPY_MODEL_8d4ac6d4bbdf4a849f9adb04d47aadd4"
      ],
      "layout": "IPY_MODEL_0ce26055de76455dbe30109fba14063d"
     }
    },
    "4512fc9a627f42928a37ee1373d5aaa9": {
     "model_module": "@jupyter-widgets/base",
     "model_module_version": "1.2.0",
     "model_name": "LayoutModel",
     "state": {
      "_model_module": "@jupyter-widgets/base",
      "_model_module_version": "1.2.0",
      "_model_name": "LayoutModel",
      "_view_count": null,
      "_view_module": "@jupyter-widgets/base",
      "_view_module_version": "1.2.0",
      "_view_name": "LayoutView",
      "align_content": null,
      "align_items": null,
      "align_self": null,
      "border": null,
      "bottom": null,
      "display": null,
      "flex": null,
      "flex_flow": null,
      "grid_area": null,
      "grid_auto_columns": null,
      "grid_auto_flow": null,
      "grid_auto_rows": null,
      "grid_column": null,
      "grid_gap": null,
      "grid_row": null,
      "grid_template_areas": null,
      "grid_template_columns": null,
      "grid_template_rows": null,
      "height": null,
      "justify_content": null,
      "justify_items": null,
      "left": null,
      "margin": null,
      "max_height": null,
      "max_width": null,
      "min_height": null,
      "min_width": null,
      "object_fit": null,
      "object_position": null,
      "order": null,
      "overflow": null,
      "overflow_x": null,
      "overflow_y": null,
      "padding": null,
      "right": null,
      "top": null,
      "visibility": null,
      "width": null
     }
    },
    "45e9c2b773e2499bbc206829f6625ca8": {
     "model_module": "@jupyter-widgets/controls",
     "model_module_version": "1.5.0",
     "model_name": "HTMLModel",
     "state": {
      "_dom_classes": [],
      "_model_module": "@jupyter-widgets/controls",
      "_model_module_version": "1.5.0",
      "_model_name": "HTMLModel",
      "_view_count": null,
      "_view_module": "@jupyter-widgets/controls",
      "_view_module_version": "1.5.0",
      "_view_name": "HTMLView",
      "description": "",
      "description_tooltip": null,
      "layout": "IPY_MODEL_28180e24424e4ca393a59b38e535b7c7",
      "placeholder": "​",
      "style": "IPY_MODEL_67a709e2a80f4fda9a26a1830f230cae",
      "value": "model.safetensors: 100%"
     }
    },
    "4739486c3cea48daabaf49197133498c": {
     "model_module": "@jupyter-widgets/base",
     "model_module_version": "1.2.0",
     "model_name": "LayoutModel",
     "state": {
      "_model_module": "@jupyter-widgets/base",
      "_model_module_version": "1.2.0",
      "_model_name": "LayoutModel",
      "_view_count": null,
      "_view_module": "@jupyter-widgets/base",
      "_view_module_version": "1.2.0",
      "_view_name": "LayoutView",
      "align_content": null,
      "align_items": null,
      "align_self": null,
      "border": null,
      "bottom": null,
      "display": null,
      "flex": null,
      "flex_flow": null,
      "grid_area": null,
      "grid_auto_columns": null,
      "grid_auto_flow": null,
      "grid_auto_rows": null,
      "grid_column": null,
      "grid_gap": null,
      "grid_row": null,
      "grid_template_areas": null,
      "grid_template_columns": null,
      "grid_template_rows": null,
      "height": null,
      "justify_content": null,
      "justify_items": null,
      "left": null,
      "margin": null,
      "max_height": null,
      "max_width": null,
      "min_height": null,
      "min_width": null,
      "object_fit": null,
      "object_position": null,
      "order": null,
      "overflow": null,
      "overflow_x": null,
      "overflow_y": null,
      "padding": null,
      "right": null,
      "top": null,
      "visibility": null,
      "width": null
     }
    },
    "489ab72113ea438688b3608ef8f4cbd5": {
     "model_module": "@jupyter-widgets/controls",
     "model_module_version": "1.5.0",
     "model_name": "HTMLModel",
     "state": {
      "_dom_classes": [],
      "_model_module": "@jupyter-widgets/controls",
      "_model_module_version": "1.5.0",
      "_model_name": "HTMLModel",
      "_view_count": null,
      "_view_module": "@jupyter-widgets/controls",
      "_view_module_version": "1.5.0",
      "_view_name": "HTMLView",
      "description": "",
      "description_tooltip": null,
      "layout": "IPY_MODEL_625353714dd746ddaf3fe3733c68007f",
      "placeholder": "​",
      "style": "IPY_MODEL_37818b840a5646d783270db3c5e25258",
      "value": " 6.79k/6.79k [00:00&lt;00:00, 489kB/s]"
     }
    },
    "48dc1550e91643d09cd33da984287496": {
     "model_module": "@jupyter-widgets/controls",
     "model_module_version": "1.5.0",
     "model_name": "DescriptionStyleModel",
     "state": {
      "_model_module": "@jupyter-widgets/controls",
      "_model_module_version": "1.5.0",
      "_model_name": "DescriptionStyleModel",
      "_view_count": null,
      "_view_module": "@jupyter-widgets/base",
      "_view_module_version": "1.2.0",
      "_view_name": "StyleView",
      "description_width": ""
     }
    },
    "48fbcb6f1abf4bc3b534723d4104b5f3": {
     "model_module": "@jupyter-widgets/base",
     "model_module_version": "1.2.0",
     "model_name": "LayoutModel",
     "state": {
      "_model_module": "@jupyter-widgets/base",
      "_model_module_version": "1.2.0",
      "_model_name": "LayoutModel",
      "_view_count": null,
      "_view_module": "@jupyter-widgets/base",
      "_view_module_version": "1.2.0",
      "_view_name": "LayoutView",
      "align_content": null,
      "align_items": null,
      "align_self": null,
      "border": null,
      "bottom": null,
      "display": null,
      "flex": null,
      "flex_flow": null,
      "grid_area": null,
      "grid_auto_columns": null,
      "grid_auto_flow": null,
      "grid_auto_rows": null,
      "grid_column": null,
      "grid_gap": null,
      "grid_row": null,
      "grid_template_areas": null,
      "grid_template_columns": null,
      "grid_template_rows": null,
      "height": null,
      "justify_content": null,
      "justify_items": null,
      "left": null,
      "margin": null,
      "max_height": null,
      "max_width": null,
      "min_height": null,
      "min_width": null,
      "object_fit": null,
      "object_position": null,
      "order": null,
      "overflow": null,
      "overflow_x": null,
      "overflow_y": null,
      "padding": null,
      "right": null,
      "top": null,
      "visibility": null,
      "width": null
     }
    },
    "4aba5df7402e4a889893a67b02961a7d": {
     "model_module": "@jupyter-widgets/base",
     "model_module_version": "1.2.0",
     "model_name": "LayoutModel",
     "state": {
      "_model_module": "@jupyter-widgets/base",
      "_model_module_version": "1.2.0",
      "_model_name": "LayoutModel",
      "_view_count": null,
      "_view_module": "@jupyter-widgets/base",
      "_view_module_version": "1.2.0",
      "_view_name": "LayoutView",
      "align_content": null,
      "align_items": null,
      "align_self": null,
      "border": null,
      "bottom": null,
      "display": null,
      "flex": null,
      "flex_flow": null,
      "grid_area": null,
      "grid_auto_columns": null,
      "grid_auto_flow": null,
      "grid_auto_rows": null,
      "grid_column": null,
      "grid_gap": null,
      "grid_row": null,
      "grid_template_areas": null,
      "grid_template_columns": null,
      "grid_template_rows": null,
      "height": null,
      "justify_content": null,
      "justify_items": null,
      "left": null,
      "margin": null,
      "max_height": null,
      "max_width": null,
      "min_height": null,
      "min_width": null,
      "object_fit": null,
      "object_position": null,
      "order": null,
      "overflow": null,
      "overflow_x": null,
      "overflow_y": null,
      "padding": null,
      "right": null,
      "top": null,
      "visibility": null,
      "width": null
     }
    },
    "4cafb82ce4ec43f497809b393bc7a9f7": {
     "model_module": "@jupyter-widgets/base",
     "model_module_version": "1.2.0",
     "model_name": "LayoutModel",
     "state": {
      "_model_module": "@jupyter-widgets/base",
      "_model_module_version": "1.2.0",
      "_model_name": "LayoutModel",
      "_view_count": null,
      "_view_module": "@jupyter-widgets/base",
      "_view_module_version": "1.2.0",
      "_view_name": "LayoutView",
      "align_content": null,
      "align_items": null,
      "align_self": null,
      "border": null,
      "bottom": null,
      "display": null,
      "flex": null,
      "flex_flow": null,
      "grid_area": null,
      "grid_auto_columns": null,
      "grid_auto_flow": null,
      "grid_auto_rows": null,
      "grid_column": null,
      "grid_gap": null,
      "grid_row": null,
      "grid_template_areas": null,
      "grid_template_columns": null,
      "grid_template_rows": null,
      "height": null,
      "justify_content": null,
      "justify_items": null,
      "left": null,
      "margin": null,
      "max_height": null,
      "max_width": null,
      "min_height": null,
      "min_width": null,
      "object_fit": null,
      "object_position": null,
      "order": null,
      "overflow": null,
      "overflow_x": null,
      "overflow_y": null,
      "padding": null,
      "right": null,
      "top": null,
      "visibility": null,
      "width": null
     }
    },
    "4ddb5210c9344e188cd510777f09b5f2": {
     "model_module": "@jupyter-widgets/controls",
     "model_module_version": "1.5.0",
     "model_name": "HTMLModel",
     "state": {
      "_dom_classes": [],
      "_model_module": "@jupyter-widgets/controls",
      "_model_module_version": "1.5.0",
      "_model_name": "HTMLModel",
      "_view_count": null,
      "_view_module": "@jupyter-widgets/controls",
      "_view_module_version": "1.5.0",
      "_view_name": "HTMLView",
      "description": "",
      "description_tooltip": null,
      "layout": "IPY_MODEL_9563e8dc56be4d0691289f94406a3a17",
      "placeholder": "​",
      "style": "IPY_MODEL_48dc1550e91643d09cd33da984287496",
      "value": " 6380/6380 [00:02&lt;00:00, 2545.86 examples/s]"
     }
    },
    "4f04ec1f9c1d4b66baae9374e5e360ae": {
     "model_module": "@jupyter-widgets/base",
     "model_module_version": "1.2.0",
     "model_name": "LayoutModel",
     "state": {
      "_model_module": "@jupyter-widgets/base",
      "_model_module_version": "1.2.0",
      "_model_name": "LayoutModel",
      "_view_count": null,
      "_view_module": "@jupyter-widgets/base",
      "_view_module_version": "1.2.0",
      "_view_name": "LayoutView",
      "align_content": null,
      "align_items": null,
      "align_self": null,
      "border": null,
      "bottom": null,
      "display": null,
      "flex": null,
      "flex_flow": null,
      "grid_area": null,
      "grid_auto_columns": null,
      "grid_auto_flow": null,
      "grid_auto_rows": null,
      "grid_column": null,
      "grid_gap": null,
      "grid_row": null,
      "grid_template_areas": null,
      "grid_template_columns": null,
      "grid_template_rows": null,
      "height": null,
      "justify_content": null,
      "justify_items": null,
      "left": null,
      "margin": null,
      "max_height": null,
      "max_width": null,
      "min_height": null,
      "min_width": null,
      "object_fit": null,
      "object_position": null,
      "order": null,
      "overflow": null,
      "overflow_x": null,
      "overflow_y": null,
      "padding": null,
      "right": null,
      "top": null,
      "visibility": null,
      "width": null
     }
    },
    "4f3a64503dcf47de935ed93caccccdf2": {
     "model_module": "@jupyter-widgets/controls",
     "model_module_version": "1.5.0",
     "model_name": "ProgressStyleModel",
     "state": {
      "_model_module": "@jupyter-widgets/controls",
      "_model_module_version": "1.5.0",
      "_model_name": "ProgressStyleModel",
      "_view_count": null,
      "_view_module": "@jupyter-widgets/base",
      "_view_module_version": "1.2.0",
      "_view_name": "StyleView",
      "bar_color": null,
      "description_width": ""
     }
    },
    "51bb120141384889a5dc62d4a77923c8": {
     "model_module": "@jupyter-widgets/controls",
     "model_module_version": "1.5.0",
     "model_name": "HBoxModel",
     "state": {
      "_dom_classes": [],
      "_model_module": "@jupyter-widgets/controls",
      "_model_module_version": "1.5.0",
      "_model_name": "HBoxModel",
      "_view_count": null,
      "_view_module": "@jupyter-widgets/controls",
      "_view_module_version": "1.5.0",
      "_view_name": "HBoxView",
      "box_style": "",
      "children": [
       "IPY_MODEL_870664b10a1b4ddb95e0ce06c25cc1e5",
       "IPY_MODEL_69b0e72485234687807fa15f2324ff9d",
       "IPY_MODEL_f21a073ee94d4d85b19111b91308c172"
      ],
      "layout": "IPY_MODEL_13eefa0f2723401a9ffcd91addb2670d"
     }
    },
    "51d1da86e1074b4b9ecff681fde078d1": {
     "model_module": "@jupyter-widgets/base",
     "model_module_version": "1.2.0",
     "model_name": "LayoutModel",
     "state": {
      "_model_module": "@jupyter-widgets/base",
      "_model_module_version": "1.2.0",
      "_model_name": "LayoutModel",
      "_view_count": null,
      "_view_module": "@jupyter-widgets/base",
      "_view_module_version": "1.2.0",
      "_view_name": "LayoutView",
      "align_content": null,
      "align_items": null,
      "align_self": null,
      "border": null,
      "bottom": null,
      "display": null,
      "flex": null,
      "flex_flow": null,
      "grid_area": null,
      "grid_auto_columns": null,
      "grid_auto_flow": null,
      "grid_auto_rows": null,
      "grid_column": null,
      "grid_gap": null,
      "grid_row": null,
      "grid_template_areas": null,
      "grid_template_columns": null,
      "grid_template_rows": null,
      "height": null,
      "justify_content": null,
      "justify_items": null,
      "left": null,
      "margin": null,
      "max_height": null,
      "max_width": null,
      "min_height": null,
      "min_width": null,
      "object_fit": null,
      "object_position": null,
      "order": null,
      "overflow": null,
      "overflow_x": null,
      "overflow_y": null,
      "padding": null,
      "right": null,
      "top": null,
      "visibility": null,
      "width": null
     }
    },
    "546dd753cbaa4d5994a8d8179feff74b": {
     "model_module": "@jupyter-widgets/base",
     "model_module_version": "1.2.0",
     "model_name": "LayoutModel",
     "state": {
      "_model_module": "@jupyter-widgets/base",
      "_model_module_version": "1.2.0",
      "_model_name": "LayoutModel",
      "_view_count": null,
      "_view_module": "@jupyter-widgets/base",
      "_view_module_version": "1.2.0",
      "_view_name": "LayoutView",
      "align_content": null,
      "align_items": null,
      "align_self": null,
      "border": null,
      "bottom": null,
      "display": null,
      "flex": null,
      "flex_flow": null,
      "grid_area": null,
      "grid_auto_columns": null,
      "grid_auto_flow": null,
      "grid_auto_rows": null,
      "grid_column": null,
      "grid_gap": null,
      "grid_row": null,
      "grid_template_areas": null,
      "grid_template_columns": null,
      "grid_template_rows": null,
      "height": null,
      "justify_content": null,
      "justify_items": null,
      "left": null,
      "margin": null,
      "max_height": null,
      "max_width": null,
      "min_height": null,
      "min_width": null,
      "object_fit": null,
      "object_position": null,
      "order": null,
      "overflow": null,
      "overflow_x": null,
      "overflow_y": null,
      "padding": null,
      "right": null,
      "top": null,
      "visibility": null,
      "width": null
     }
    },
    "56f36363f81b44db815dcfa374a6de24": {
     "model_module": "@jupyter-widgets/controls",
     "model_module_version": "1.5.0",
     "model_name": "HTMLModel",
     "state": {
      "_dom_classes": [],
      "_model_module": "@jupyter-widgets/controls",
      "_model_module_version": "1.5.0",
      "_model_name": "HTMLModel",
      "_view_count": null,
      "_view_module": "@jupyter-widgets/controls",
      "_view_module_version": "1.5.0",
      "_view_name": "HTMLView",
      "description": "",
      "description_tooltip": null,
      "layout": "IPY_MODEL_b7c4b3ca1f554184960111983a56f707",
      "placeholder": "​",
      "style": "IPY_MODEL_ee55591eb5e24671a806726597ab4684",
      "value": "Map: 100%"
     }
    },
    "56f9830151874aaea71393d3ffa6e1d6": {
     "model_module": "@jupyter-widgets/controls",
     "model_module_version": "1.5.0",
     "model_name": "ProgressStyleModel",
     "state": {
      "_model_module": "@jupyter-widgets/controls",
      "_model_module_version": "1.5.0",
      "_model_name": "ProgressStyleModel",
      "_view_count": null,
      "_view_module": "@jupyter-widgets/base",
      "_view_module_version": "1.2.0",
      "_view_name": "StyleView",
      "bar_color": null,
      "description_width": ""
     }
    },
    "58a26f3846574eb9bd4e290aeba0d8a0": {
     "model_module": "@jupyter-widgets/controls",
     "model_module_version": "1.5.0",
     "model_name": "HBoxModel",
     "state": {
      "_dom_classes": [],
      "_model_module": "@jupyter-widgets/controls",
      "_model_module_version": "1.5.0",
      "_model_name": "HBoxModel",
      "_view_count": null,
      "_view_module": "@jupyter-widgets/controls",
      "_view_module_version": "1.5.0",
      "_view_name": "HBoxView",
      "box_style": "",
      "children": [
       "IPY_MODEL_b9c752fe12534687a8754a5dd07f1f31",
       "IPY_MODEL_39522112cc6645f981c2aab59fc3ff39",
       "IPY_MODEL_8999828e8fd443148186ba4244c1e649"
      ],
      "layout": "IPY_MODEL_33e8d102aa52407ca37c33c774685519"
     }
    },
    "598e803358d3430d8546b3b65e69ebda": {
     "model_module": "@jupyter-widgets/controls",
     "model_module_version": "1.5.0",
     "model_name": "ProgressStyleModel",
     "state": {
      "_model_module": "@jupyter-widgets/controls",
      "_model_module_version": "1.5.0",
      "_model_name": "ProgressStyleModel",
      "_view_count": null,
      "_view_module": "@jupyter-widgets/base",
      "_view_module_version": "1.2.0",
      "_view_name": "StyleView",
      "bar_color": null,
      "description_width": ""
     }
    },
    "5bb3fa2138a94150820011c6d0602e28": {
     "model_module": "@jupyter-widgets/controls",
     "model_module_version": "1.5.0",
     "model_name": "FloatProgressModel",
     "state": {
      "_dom_classes": [],
      "_model_module": "@jupyter-widgets/controls",
      "_model_module_version": "1.5.0",
      "_model_name": "FloatProgressModel",
      "_view_count": null,
      "_view_module": "@jupyter-widgets/controls",
      "_view_module_version": "1.5.0",
      "_view_name": "ProgressView",
      "bar_style": "success",
      "description": "",
      "description_tooltip": null,
      "layout": "IPY_MODEL_dac4e1fc5e0a4ae489b5ceea6b527bf1",
      "max": 282,
      "min": 0,
      "orientation": "horizontal",
      "style": "IPY_MODEL_598e803358d3430d8546b3b65e69ebda",
      "value": 282
     }
    },
    "5d73a46635954da8890da416addc5639": {
     "model_module": "@jupyter-widgets/controls",
     "model_module_version": "1.5.0",
     "model_name": "DescriptionStyleModel",
     "state": {
      "_model_module": "@jupyter-widgets/controls",
      "_model_module_version": "1.5.0",
      "_model_name": "DescriptionStyleModel",
      "_view_count": null,
      "_view_module": "@jupyter-widgets/base",
      "_view_module_version": "1.2.0",
      "_view_name": "StyleView",
      "description_width": ""
     }
    },
    "5d73b3ea542941478212cce510eea462": {
     "model_module": "@jupyter-widgets/controls",
     "model_module_version": "1.5.0",
     "model_name": "HTMLModel",
     "state": {
      "_dom_classes": [],
      "_model_module": "@jupyter-widgets/controls",
      "_model_module_version": "1.5.0",
      "_model_name": "HTMLModel",
      "_view_count": null,
      "_view_module": "@jupyter-widgets/controls",
      "_view_module_version": "1.5.0",
      "_view_name": "HTMLView",
      "description": "",
      "description_tooltip": null,
      "layout": "IPY_MODEL_69bdaa58cf4440b7a477d32f94e06eec",
      "placeholder": "​",
      "style": "IPY_MODEL_ef1b2b6d21694a1e93e6c72b7c0fd820",
      "value": " 297/297 [00:00&lt;00:00, 3466.35 examples/s]"
     }
    },
    "5d7489ea44a944c6a06ac26da3fb5af7": {
     "model_module": "@jupyter-widgets/controls",
     "model_module_version": "1.5.0",
     "model_name": "ProgressStyleModel",
     "state": {
      "_model_module": "@jupyter-widgets/controls",
      "_model_module_version": "1.5.0",
      "_model_name": "ProgressStyleModel",
      "_view_count": null,
      "_view_module": "@jupyter-widgets/base",
      "_view_module_version": "1.2.0",
      "_view_name": "StyleView",
      "bar_color": null,
      "description_width": ""
     }
    },
    "5eab7215e00d40109b83196e1dc3d66d": {
     "model_module": "@jupyter-widgets/controls",
     "model_module_version": "1.5.0",
     "model_name": "DescriptionStyleModel",
     "state": {
      "_model_module": "@jupyter-widgets/controls",
      "_model_module_version": "1.5.0",
      "_model_name": "DescriptionStyleModel",
      "_view_count": null,
      "_view_module": "@jupyter-widgets/base",
      "_view_module_version": "1.2.0",
      "_view_name": "StyleView",
      "description_width": ""
     }
    },
    "60396ddcbb664ff98f9427da8d2d8f55": {
     "model_module": "@jupyter-widgets/base",
     "model_module_version": "1.2.0",
     "model_name": "LayoutModel",
     "state": {
      "_model_module": "@jupyter-widgets/base",
      "_model_module_version": "1.2.0",
      "_model_name": "LayoutModel",
      "_view_count": null,
      "_view_module": "@jupyter-widgets/base",
      "_view_module_version": "1.2.0",
      "_view_name": "LayoutView",
      "align_content": null,
      "align_items": null,
      "align_self": null,
      "border": null,
      "bottom": null,
      "display": null,
      "flex": null,
      "flex_flow": null,
      "grid_area": null,
      "grid_auto_columns": null,
      "grid_auto_flow": null,
      "grid_auto_rows": null,
      "grid_column": null,
      "grid_gap": null,
      "grid_row": null,
      "grid_template_areas": null,
      "grid_template_columns": null,
      "grid_template_rows": null,
      "height": null,
      "justify_content": null,
      "justify_items": null,
      "left": null,
      "margin": null,
      "max_height": null,
      "max_width": null,
      "min_height": null,
      "min_width": null,
      "object_fit": null,
      "object_position": null,
      "order": null,
      "overflow": null,
      "overflow_x": null,
      "overflow_y": null,
      "padding": null,
      "right": null,
      "top": null,
      "visibility": null,
      "width": null
     }
    },
    "625353714dd746ddaf3fe3733c68007f": {
     "model_module": "@jupyter-widgets/base",
     "model_module_version": "1.2.0",
     "model_name": "LayoutModel",
     "state": {
      "_model_module": "@jupyter-widgets/base",
      "_model_module_version": "1.2.0",
      "_model_name": "LayoutModel",
      "_view_count": null,
      "_view_module": "@jupyter-widgets/base",
      "_view_module_version": "1.2.0",
      "_view_name": "LayoutView",
      "align_content": null,
      "align_items": null,
      "align_self": null,
      "border": null,
      "bottom": null,
      "display": null,
      "flex": null,
      "flex_flow": null,
      "grid_area": null,
      "grid_auto_columns": null,
      "grid_auto_flow": null,
      "grid_auto_rows": null,
      "grid_column": null,
      "grid_gap": null,
      "grid_row": null,
      "grid_template_areas": null,
      "grid_template_columns": null,
      "grid_template_rows": null,
      "height": null,
      "justify_content": null,
      "justify_items": null,
      "left": null,
      "margin": null,
      "max_height": null,
      "max_width": null,
      "min_height": null,
      "min_width": null,
      "object_fit": null,
      "object_position": null,
      "order": null,
      "overflow": null,
      "overflow_x": null,
      "overflow_y": null,
      "padding": null,
      "right": null,
      "top": null,
      "visibility": null,
      "width": null
     }
    },
    "6302dd91c76f422da64c23a85e8aecbb": {
     "model_module": "@jupyter-widgets/base",
     "model_module_version": "1.2.0",
     "model_name": "LayoutModel",
     "state": {
      "_model_module": "@jupyter-widgets/base",
      "_model_module_version": "1.2.0",
      "_model_name": "LayoutModel",
      "_view_count": null,
      "_view_module": "@jupyter-widgets/base",
      "_view_module_version": "1.2.0",
      "_view_name": "LayoutView",
      "align_content": null,
      "align_items": null,
      "align_self": null,
      "border": null,
      "bottom": null,
      "display": null,
      "flex": null,
      "flex_flow": null,
      "grid_area": null,
      "grid_auto_columns": null,
      "grid_auto_flow": null,
      "grid_auto_rows": null,
      "grid_column": null,
      "grid_gap": null,
      "grid_row": null,
      "grid_template_areas": null,
      "grid_template_columns": null,
      "grid_template_rows": null,
      "height": null,
      "justify_content": null,
      "justify_items": null,
      "left": null,
      "margin": null,
      "max_height": null,
      "max_width": null,
      "min_height": null,
      "min_width": null,
      "object_fit": null,
      "object_position": null,
      "order": null,
      "overflow": null,
      "overflow_x": null,
      "overflow_y": null,
      "padding": null,
      "right": null,
      "top": null,
      "visibility": null,
      "width": null
     }
    },
    "6484607211a048d38e1484c70cee70f4": {
     "model_module": "@jupyter-widgets/controls",
     "model_module_version": "1.5.0",
     "model_name": "DescriptionStyleModel",
     "state": {
      "_model_module": "@jupyter-widgets/controls",
      "_model_module_version": "1.5.0",
      "_model_name": "DescriptionStyleModel",
      "_view_count": null,
      "_view_module": "@jupyter-widgets/base",
      "_view_module_version": "1.2.0",
      "_view_name": "StyleView",
      "description_width": ""
     }
    },
    "655e272adcdc48cd84ed0684868831f4": {
     "model_module": "@jupyter-widgets/controls",
     "model_module_version": "1.5.0",
     "model_name": "FloatProgressModel",
     "state": {
      "_dom_classes": [],
      "_model_module": "@jupyter-widgets/controls",
      "_model_module_version": "1.5.0",
      "_model_name": "FloatProgressModel",
      "_view_count": null,
      "_view_module": "@jupyter-widgets/controls",
      "_view_module_version": "1.5.0",
      "_view_name": "ProgressView",
      "bar_style": "success",
      "description": "",
      "description_tooltip": null,
      "layout": "IPY_MODEL_48fbcb6f1abf4bc3b534723d4104b5f3",
      "max": 6380,
      "min": 0,
      "orientation": "horizontal",
      "style": "IPY_MODEL_2eecb7a0c7594692bcd8dc6e900552fd",
      "value": 6380
     }
    },
    "6634b9eefef647468781c853e0f25db4": {
     "model_module": "@jupyter-widgets/controls",
     "model_module_version": "1.5.0",
     "model_name": "HTMLModel",
     "state": {
      "_dom_classes": [],
      "_model_module": "@jupyter-widgets/controls",
      "_model_module_version": "1.5.0",
      "_model_name": "HTMLModel",
      "_view_count": null,
      "_view_module": "@jupyter-widgets/controls",
      "_view_module_version": "1.5.0",
      "_view_name": "HTMLView",
      "description": "",
      "description_tooltip": null,
      "layout": "IPY_MODEL_6a3bc936c62f4566be07b6ecadb94ba1",
      "placeholder": "​",
      "style": "IPY_MODEL_a7abc5ad984f4f89ab017bb51630ec2e",
      "value": " 206/206 [00:00&lt;00:00, 2944.30 examples/s]"
     }
    },
    "6687ffe104444e4080ea9f9f8a8ca43d": {
     "model_module": "@jupyter-widgets/controls",
     "model_module_version": "1.5.0",
     "model_name": "DescriptionStyleModel",
     "state": {
      "_model_module": "@jupyter-widgets/controls",
      "_model_module_version": "1.5.0",
      "_model_name": "DescriptionStyleModel",
      "_view_count": null,
      "_view_module": "@jupyter-widgets/base",
      "_view_module_version": "1.2.0",
      "_view_name": "StyleView",
      "description_width": ""
     }
    },
    "6715480233b44197bbd7ec1e1e063ac0": {
     "model_module": "@jupyter-widgets/controls",
     "model_module_version": "1.5.0",
     "model_name": "ProgressStyleModel",
     "state": {
      "_model_module": "@jupyter-widgets/controls",
      "_model_module_version": "1.5.0",
      "_model_name": "ProgressStyleModel",
      "_view_count": null,
      "_view_module": "@jupyter-widgets/base",
      "_view_module_version": "1.2.0",
      "_view_name": "StyleView",
      "bar_color": null,
      "description_width": ""
     }
    },
    "6788bff2968a4cb7959a21b3f1f9c34d": {
     "model_module": "@jupyter-widgets/base",
     "model_module_version": "1.2.0",
     "model_name": "LayoutModel",
     "state": {
      "_model_module": "@jupyter-widgets/base",
      "_model_module_version": "1.2.0",
      "_model_name": "LayoutModel",
      "_view_count": null,
      "_view_module": "@jupyter-widgets/base",
      "_view_module_version": "1.2.0",
      "_view_name": "LayoutView",
      "align_content": null,
      "align_items": null,
      "align_self": null,
      "border": null,
      "bottom": null,
      "display": null,
      "flex": null,
      "flex_flow": null,
      "grid_area": null,
      "grid_auto_columns": null,
      "grid_auto_flow": null,
      "grid_auto_rows": null,
      "grid_column": null,
      "grid_gap": null,
      "grid_row": null,
      "grid_template_areas": null,
      "grid_template_columns": null,
      "grid_template_rows": null,
      "height": null,
      "justify_content": null,
      "justify_items": null,
      "left": null,
      "margin": null,
      "max_height": null,
      "max_width": null,
      "min_height": null,
      "min_width": null,
      "object_fit": null,
      "object_position": null,
      "order": null,
      "overflow": null,
      "overflow_x": null,
      "overflow_y": null,
      "padding": null,
      "right": null,
      "top": null,
      "visibility": null,
      "width": null
     }
    },
    "67a709e2a80f4fda9a26a1830f230cae": {
     "model_module": "@jupyter-widgets/controls",
     "model_module_version": "1.5.0",
     "model_name": "DescriptionStyleModel",
     "state": {
      "_model_module": "@jupyter-widgets/controls",
      "_model_module_version": "1.5.0",
      "_model_name": "DescriptionStyleModel",
      "_view_count": null,
      "_view_module": "@jupyter-widgets/base",
      "_view_module_version": "1.2.0",
      "_view_name": "StyleView",
      "description_width": ""
     }
    },
    "69567e73debc483ba00654ef6addef34": {
     "model_module": "@jupyter-widgets/controls",
     "model_module_version": "1.5.0",
     "model_name": "HBoxModel",
     "state": {
      "_dom_classes": [],
      "_model_module": "@jupyter-widgets/controls",
      "_model_module_version": "1.5.0",
      "_model_name": "HBoxModel",
      "_view_count": null,
      "_view_module": "@jupyter-widgets/controls",
      "_view_module_version": "1.5.0",
      "_view_name": "HBoxView",
      "box_style": "",
      "children": [
       "IPY_MODEL_c40806dc375c4919b502b78f304bbe3a",
       "IPY_MODEL_21aa41aa0a254b9e8eb61723f3f7d21c",
       "IPY_MODEL_a00f8e5e866640bf89a656f48f638609"
      ],
      "layout": "IPY_MODEL_ee50cceda6e24aa0a6cbbb2476563f73"
     }
    },
    "69b0e72485234687807fa15f2324ff9d": {
     "model_module": "@jupyter-widgets/controls",
     "model_module_version": "1.5.0",
     "model_name": "FloatProgressModel",
     "state": {
      "_dom_classes": [],
      "_model_module": "@jupyter-widgets/controls",
      "_model_module_version": "1.5.0",
      "_model_name": "FloatProgressModel",
      "_view_count": null,
      "_view_module": "@jupyter-widgets/controls",
      "_view_module_version": "1.5.0",
      "_view_name": "ProgressView",
      "bar_style": "success",
      "description": "",
      "description_tooltip": null,
      "layout": "IPY_MODEL_367750b437bb400dbf0e810138a7fa1f",
      "max": 351,
      "min": 0,
      "orientation": "horizontal",
      "style": "IPY_MODEL_0213039f308b4ccfb42833d18238a279",
      "value": 351
     }
    },
    "69bdaa58cf4440b7a477d32f94e06eec": {
     "model_module": "@jupyter-widgets/base",
     "model_module_version": "1.2.0",
     "model_name": "LayoutModel",
     "state": {
      "_model_module": "@jupyter-widgets/base",
      "_model_module_version": "1.2.0",
      "_model_name": "LayoutModel",
      "_view_count": null,
      "_view_module": "@jupyter-widgets/base",
      "_view_module_version": "1.2.0",
      "_view_name": "LayoutView",
      "align_content": null,
      "align_items": null,
      "align_self": null,
      "border": null,
      "bottom": null,
      "display": null,
      "flex": null,
      "flex_flow": null,
      "grid_area": null,
      "grid_auto_columns": null,
      "grid_auto_flow": null,
      "grid_auto_rows": null,
      "grid_column": null,
      "grid_gap": null,
      "grid_row": null,
      "grid_template_areas": null,
      "grid_template_columns": null,
      "grid_template_rows": null,
      "height": null,
      "justify_content": null,
      "justify_items": null,
      "left": null,
      "margin": null,
      "max_height": null,
      "max_width": null,
      "min_height": null,
      "min_width": null,
      "object_fit": null,
      "object_position": null,
      "order": null,
      "overflow": null,
      "overflow_x": null,
      "overflow_y": null,
      "padding": null,
      "right": null,
      "top": null,
      "visibility": null,
      "width": null
     }
    },
    "6a03c906652b4987922e7ebcf1479bbe": {
     "model_module": "@jupyter-widgets/base",
     "model_module_version": "1.2.0",
     "model_name": "LayoutModel",
     "state": {
      "_model_module": "@jupyter-widgets/base",
      "_model_module_version": "1.2.0",
      "_model_name": "LayoutModel",
      "_view_count": null,
      "_view_module": "@jupyter-widgets/base",
      "_view_module_version": "1.2.0",
      "_view_name": "LayoutView",
      "align_content": null,
      "align_items": null,
      "align_self": null,
      "border": null,
      "bottom": null,
      "display": null,
      "flex": null,
      "flex_flow": null,
      "grid_area": null,
      "grid_auto_columns": null,
      "grid_auto_flow": null,
      "grid_auto_rows": null,
      "grid_column": null,
      "grid_gap": null,
      "grid_row": null,
      "grid_template_areas": null,
      "grid_template_columns": null,
      "grid_template_rows": null,
      "height": null,
      "justify_content": null,
      "justify_items": null,
      "left": null,
      "margin": null,
      "max_height": null,
      "max_width": null,
      "min_height": null,
      "min_width": null,
      "object_fit": null,
      "object_position": null,
      "order": null,
      "overflow": null,
      "overflow_x": null,
      "overflow_y": null,
      "padding": null,
      "right": null,
      "top": null,
      "visibility": null,
      "width": null
     }
    },
    "6a3bc936c62f4566be07b6ecadb94ba1": {
     "model_module": "@jupyter-widgets/base",
     "model_module_version": "1.2.0",
     "model_name": "LayoutModel",
     "state": {
      "_model_module": "@jupyter-widgets/base",
      "_model_module_version": "1.2.0",
      "_model_name": "LayoutModel",
      "_view_count": null,
      "_view_module": "@jupyter-widgets/base",
      "_view_module_version": "1.2.0",
      "_view_name": "LayoutView",
      "align_content": null,
      "align_items": null,
      "align_self": null,
      "border": null,
      "bottom": null,
      "display": null,
      "flex": null,
      "flex_flow": null,
      "grid_area": null,
      "grid_auto_columns": null,
      "grid_auto_flow": null,
      "grid_auto_rows": null,
      "grid_column": null,
      "grid_gap": null,
      "grid_row": null,
      "grid_template_areas": null,
      "grid_template_columns": null,
      "grid_template_rows": null,
      "height": null,
      "justify_content": null,
      "justify_items": null,
      "left": null,
      "margin": null,
      "max_height": null,
      "max_width": null,
      "min_height": null,
      "min_width": null,
      "object_fit": null,
      "object_position": null,
      "order": null,
      "overflow": null,
      "overflow_x": null,
      "overflow_y": null,
      "padding": null,
      "right": null,
      "top": null,
      "visibility": null,
      "width": null
     }
    },
    "6ac7929f62344119a65071892ea5d954": {
     "model_module": "@jupyter-widgets/base",
     "model_module_version": "1.2.0",
     "model_name": "LayoutModel",
     "state": {
      "_model_module": "@jupyter-widgets/base",
      "_model_module_version": "1.2.0",
      "_model_name": "LayoutModel",
      "_view_count": null,
      "_view_module": "@jupyter-widgets/base",
      "_view_module_version": "1.2.0",
      "_view_name": "LayoutView",
      "align_content": null,
      "align_items": null,
      "align_self": null,
      "border": null,
      "bottom": null,
      "display": null,
      "flex": null,
      "flex_flow": null,
      "grid_area": null,
      "grid_auto_columns": null,
      "grid_auto_flow": null,
      "grid_auto_rows": null,
      "grid_column": null,
      "grid_gap": null,
      "grid_row": null,
      "grid_template_areas": null,
      "grid_template_columns": null,
      "grid_template_rows": null,
      "height": null,
      "justify_content": null,
      "justify_items": null,
      "left": null,
      "margin": null,
      "max_height": null,
      "max_width": null,
      "min_height": null,
      "min_width": null,
      "object_fit": null,
      "object_position": null,
      "order": null,
      "overflow": null,
      "overflow_x": null,
      "overflow_y": null,
      "padding": null,
      "right": null,
      "top": null,
      "visibility": null,
      "width": null
     }
    },
    "6bf24be637284d878f59d4eb21f2d9b8": {
     "model_module": "@jupyter-widgets/controls",
     "model_module_version": "1.5.0",
     "model_name": "DescriptionStyleModel",
     "state": {
      "_model_module": "@jupyter-widgets/controls",
      "_model_module_version": "1.5.0",
      "_model_name": "DescriptionStyleModel",
      "_view_count": null,
      "_view_module": "@jupyter-widgets/base",
      "_view_module_version": "1.2.0",
      "_view_name": "StyleView",
      "description_width": ""
     }
    },
    "6c31ecba88594f69b8c16c4d83745bad": {
     "model_module": "@jupyter-widgets/controls",
     "model_module_version": "1.5.0",
     "model_name": "HTMLModel",
     "state": {
      "_dom_classes": [],
      "_model_module": "@jupyter-widgets/controls",
      "_model_module_version": "1.5.0",
      "_model_name": "HTMLModel",
      "_view_count": null,
      "_view_module": "@jupyter-widgets/controls",
      "_view_module_version": "1.5.0",
      "_view_name": "HTMLView",
      "description": "",
      "description_tooltip": null,
      "layout": "IPY_MODEL_01c269649f5547dabd444b817cd53f02",
      "placeholder": "​",
      "style": "IPY_MODEL_5eab7215e00d40109b83196e1dc3d66d",
      "value": " 471M/471M [00:02&lt;00:00, 223MB/s]"
     }
    },
    "6c43877a19454bcfb040e578a65b93b8": {
     "model_module": "@jupyter-widgets/controls",
     "model_module_version": "1.5.0",
     "model_name": "DescriptionStyleModel",
     "state": {
      "_model_module": "@jupyter-widgets/controls",
      "_model_module_version": "1.5.0",
      "_model_name": "DescriptionStyleModel",
      "_view_count": null,
      "_view_module": "@jupyter-widgets/base",
      "_view_module_version": "1.2.0",
      "_view_name": "StyleView",
      "description_width": ""
     }
    },
    "6ecd1ba5a9db4a86a6587d6a52c3597a": {
     "model_module": "@jupyter-widgets/controls",
     "model_module_version": "1.5.0",
     "model_name": "HBoxModel",
     "state": {
      "_dom_classes": [],
      "_model_module": "@jupyter-widgets/controls",
      "_model_module_version": "1.5.0",
      "_model_name": "HBoxModel",
      "_view_count": null,
      "_view_module": "@jupyter-widgets/controls",
      "_view_module_version": "1.5.0",
      "_view_name": "HBoxView",
      "box_style": "",
      "children": [
       "IPY_MODEL_e8d9d72a733f4cf6883c3cd7b6251fd1",
       "IPY_MODEL_feed95d0dd8d4c4291fee64035ea4b53",
       "IPY_MODEL_489ab72113ea438688b3608ef8f4cbd5"
      ],
      "layout": "IPY_MODEL_b8849bfc34c04d29a17e43d7419659e5"
     }
    },
    "7397efd321d9464fb2f905e7ca766339": {
     "model_module": "@jupyter-widgets/base",
     "model_module_version": "1.2.0",
     "model_name": "LayoutModel",
     "state": {
      "_model_module": "@jupyter-widgets/base",
      "_model_module_version": "1.2.0",
      "_model_name": "LayoutModel",
      "_view_count": null,
      "_view_module": "@jupyter-widgets/base",
      "_view_module_version": "1.2.0",
      "_view_name": "LayoutView",
      "align_content": null,
      "align_items": null,
      "align_self": null,
      "border": null,
      "bottom": null,
      "display": null,
      "flex": null,
      "flex_flow": null,
      "grid_area": null,
      "grid_auto_columns": null,
      "grid_auto_flow": null,
      "grid_auto_rows": null,
      "grid_column": null,
      "grid_gap": null,
      "grid_row": null,
      "grid_template_areas": null,
      "grid_template_columns": null,
      "grid_template_rows": null,
      "height": null,
      "justify_content": null,
      "justify_items": null,
      "left": null,
      "margin": null,
      "max_height": null,
      "max_width": null,
      "min_height": null,
      "min_width": null,
      "object_fit": null,
      "object_position": null,
      "order": null,
      "overflow": null,
      "overflow_x": null,
      "overflow_y": null,
      "padding": null,
      "right": null,
      "top": null,
      "visibility": null,
      "width": null
     }
    },
    "76f8720858bd4e1ab6a00872c3cb4613": {
     "model_module": "@jupyter-widgets/controls",
     "model_module_version": "1.5.0",
     "model_name": "DescriptionStyleModel",
     "state": {
      "_model_module": "@jupyter-widgets/controls",
      "_model_module_version": "1.5.0",
      "_model_name": "DescriptionStyleModel",
      "_view_count": null,
      "_view_module": "@jupyter-widgets/base",
      "_view_module_version": "1.2.0",
      "_view_name": "StyleView",
      "description_width": ""
     }
    },
    "7742e1eb959f46a7b41f707d53d3b87f": {
     "model_module": "@jupyter-widgets/controls",
     "model_module_version": "1.5.0",
     "model_name": "HBoxModel",
     "state": {
      "_dom_classes": [],
      "_model_module": "@jupyter-widgets/controls",
      "_model_module_version": "1.5.0",
      "_model_name": "HBoxModel",
      "_view_count": null,
      "_view_module": "@jupyter-widgets/controls",
      "_view_module_version": "1.5.0",
      "_view_name": "HBoxView",
      "box_style": "",
      "children": [
       "IPY_MODEL_7d52f8bbc7c64e87bc9c1c6864b09c40",
       "IPY_MODEL_c602950bbc844b3599a166b2860f337d",
       "IPY_MODEL_7bbc3ac1cd2b4b7c85bf186af8133173"
      ],
      "layout": "IPY_MODEL_cbcec34588814373ae62d84373beeb84"
     }
    },
    "77957b919d104c669d786f32d4058bc8": {
     "model_module": "@jupyter-widgets/controls",
     "model_module_version": "1.5.0",
     "model_name": "ProgressStyleModel",
     "state": {
      "_model_module": "@jupyter-widgets/controls",
      "_model_module_version": "1.5.0",
      "_model_name": "ProgressStyleModel",
      "_view_count": null,
      "_view_module": "@jupyter-widgets/base",
      "_view_module_version": "1.2.0",
      "_view_name": "StyleView",
      "bar_color": null,
      "description_width": ""
     }
    },
    "789328f97fa64db8b4d535e48c6b4ffc": {
     "model_module": "@jupyter-widgets/controls",
     "model_module_version": "1.5.0",
     "model_name": "ProgressStyleModel",
     "state": {
      "_model_module": "@jupyter-widgets/controls",
      "_model_module_version": "1.5.0",
      "_model_name": "ProgressStyleModel",
      "_view_count": null,
      "_view_module": "@jupyter-widgets/base",
      "_view_module_version": "1.2.0",
      "_view_name": "StyleView",
      "bar_color": null,
      "description_width": ""
     }
    },
    "7a5a9144b769488981dbe5424da260f3": {
     "model_module": "@jupyter-widgets/controls",
     "model_module_version": "1.5.0",
     "model_name": "HTMLModel",
     "state": {
      "_dom_classes": [],
      "_model_module": "@jupyter-widgets/controls",
      "_model_module_version": "1.5.0",
      "_model_name": "HTMLModel",
      "_view_count": null,
      "_view_module": "@jupyter-widgets/controls",
      "_view_module_version": "1.5.0",
      "_view_name": "HTMLView",
      "description": "",
      "description_tooltip": null,
      "layout": "IPY_MODEL_3a133fafe17a41e9b1ad0bc3dcd9af62",
      "placeholder": "​",
      "style": "IPY_MODEL_d2d78565c98149179a0a214ee9984669",
      "value": " 299/299 [00:00&lt;00:00, 2507.30 examples/s]"
     }
    },
    "7b83b591426d4e9fa368509a5ce5e887": {
     "model_module": "@jupyter-widgets/base",
     "model_module_version": "1.2.0",
     "model_name": "LayoutModel",
     "state": {
      "_model_module": "@jupyter-widgets/base",
      "_model_module_version": "1.2.0",
      "_model_name": "LayoutModel",
      "_view_count": null,
      "_view_module": "@jupyter-widgets/base",
      "_view_module_version": "1.2.0",
      "_view_name": "LayoutView",
      "align_content": null,
      "align_items": null,
      "align_self": null,
      "border": null,
      "bottom": null,
      "display": null,
      "flex": null,
      "flex_flow": null,
      "grid_area": null,
      "grid_auto_columns": null,
      "grid_auto_flow": null,
      "grid_auto_rows": null,
      "grid_column": null,
      "grid_gap": null,
      "grid_row": null,
      "grid_template_areas": null,
      "grid_template_columns": null,
      "grid_template_rows": null,
      "height": null,
      "justify_content": null,
      "justify_items": null,
      "left": null,
      "margin": null,
      "max_height": null,
      "max_width": null,
      "min_height": null,
      "min_width": null,
      "object_fit": null,
      "object_position": null,
      "order": null,
      "overflow": null,
      "overflow_x": null,
      "overflow_y": null,
      "padding": null,
      "right": null,
      "top": null,
      "visibility": null,
      "width": null
     }
    },
    "7bbc3ac1cd2b4b7c85bf186af8133173": {
     "model_module": "@jupyter-widgets/controls",
     "model_module_version": "1.5.0",
     "model_name": "HTMLModel",
     "state": {
      "_dom_classes": [],
      "_model_module": "@jupyter-widgets/controls",
      "_model_module_version": "1.5.0",
      "_model_name": "HTMLModel",
      "_view_count": null,
      "_view_module": "@jupyter-widgets/controls",
      "_view_module_version": "1.5.0",
      "_view_name": "HTMLView",
      "description": "",
      "description_tooltip": null,
      "layout": "IPY_MODEL_6302dd91c76f422da64c23a85e8aecbb",
      "placeholder": "​",
      "style": "IPY_MODEL_168024f26d2c44d4b57fd868a9567734",
      "value": " 5.07M/5.07M [00:00&lt;00:00, 5.81MB/s]"
     }
    },
    "7d52f8bbc7c64e87bc9c1c6864b09c40": {
     "model_module": "@jupyter-widgets/controls",
     "model_module_version": "1.5.0",
     "model_name": "HTMLModel",
     "state": {
      "_dom_classes": [],
      "_model_module": "@jupyter-widgets/controls",
      "_model_module_version": "1.5.0",
      "_model_name": "HTMLModel",
      "_view_count": null,
      "_view_module": "@jupyter-widgets/controls",
      "_view_module_version": "1.5.0",
      "_view_name": "HTMLView",
      "description": "",
      "description_tooltip": null,
      "layout": "IPY_MODEL_c116e370c0c6470986cb79ef06a87e5e",
      "placeholder": "​",
      "style": "IPY_MODEL_7d584f6c8077424b82c589317c762b76",
      "value": "sentencepiece.bpe.model: 100%"
     }
    },
    "7d584f6c8077424b82c589317c762b76": {
     "model_module": "@jupyter-widgets/controls",
     "model_module_version": "1.5.0",
     "model_name": "DescriptionStyleModel",
     "state": {
      "_model_module": "@jupyter-widgets/controls",
      "_model_module_version": "1.5.0",
      "_model_name": "DescriptionStyleModel",
      "_view_count": null,
      "_view_module": "@jupyter-widgets/base",
      "_view_module_version": "1.2.0",
      "_view_name": "StyleView",
      "description_width": ""
     }
    },
    "7f7e9442e71d444dbfb3b9ea06fb0eaf": {
     "model_module": "@jupyter-widgets/base",
     "model_module_version": "1.2.0",
     "model_name": "LayoutModel",
     "state": {
      "_model_module": "@jupyter-widgets/base",
      "_model_module_version": "1.2.0",
      "_model_name": "LayoutModel",
      "_view_count": null,
      "_view_module": "@jupyter-widgets/base",
      "_view_module_version": "1.2.0",
      "_view_name": "LayoutView",
      "align_content": null,
      "align_items": null,
      "align_self": null,
      "border": null,
      "bottom": null,
      "display": null,
      "flex": null,
      "flex_flow": null,
      "grid_area": null,
      "grid_auto_columns": null,
      "grid_auto_flow": null,
      "grid_auto_rows": null,
      "grid_column": null,
      "grid_gap": null,
      "grid_row": null,
      "grid_template_areas": null,
      "grid_template_columns": null,
      "grid_template_rows": null,
      "height": null,
      "justify_content": null,
      "justify_items": null,
      "left": null,
      "margin": null,
      "max_height": null,
      "max_width": null,
      "min_height": null,
      "min_width": null,
      "object_fit": null,
      "object_position": null,
      "order": null,
      "overflow": null,
      "overflow_x": null,
      "overflow_y": null,
      "padding": null,
      "right": null,
      "top": null,
      "visibility": null,
      "width": null
     }
    },
    "80a67c8977224637a188c8dbf27638a0": {
     "model_module": "@jupyter-widgets/controls",
     "model_module_version": "1.5.0",
     "model_name": "DescriptionStyleModel",
     "state": {
      "_model_module": "@jupyter-widgets/controls",
      "_model_module_version": "1.5.0",
      "_model_name": "DescriptionStyleModel",
      "_view_count": null,
      "_view_module": "@jupyter-widgets/base",
      "_view_module_version": "1.2.0",
      "_view_name": "StyleView",
      "description_width": ""
     }
    },
    "81812e329dea4a7790e27237910e86df": {
     "model_module": "@jupyter-widgets/controls",
     "model_module_version": "1.5.0",
     "model_name": "ProgressStyleModel",
     "state": {
      "_model_module": "@jupyter-widgets/controls",
      "_model_module_version": "1.5.0",
      "_model_name": "ProgressStyleModel",
      "_view_count": null,
      "_view_module": "@jupyter-widgets/base",
      "_view_module_version": "1.2.0",
      "_view_name": "StyleView",
      "bar_color": null,
      "description_width": ""
     }
    },
    "81baf450acf54410824af2cc78742645": {
     "model_module": "@jupyter-widgets/controls",
     "model_module_version": "1.5.0",
     "model_name": "DescriptionStyleModel",
     "state": {
      "_model_module": "@jupyter-widgets/controls",
      "_model_module_version": "1.5.0",
      "_model_name": "DescriptionStyleModel",
      "_view_count": null,
      "_view_module": "@jupyter-widgets/base",
      "_view_module_version": "1.2.0",
      "_view_name": "StyleView",
      "description_width": ""
     }
    },
    "827d337f12d8421da44d56f4409f15b6": {
     "model_module": "@jupyter-widgets/base",
     "model_module_version": "1.2.0",
     "model_name": "LayoutModel",
     "state": {
      "_model_module": "@jupyter-widgets/base",
      "_model_module_version": "1.2.0",
      "_model_name": "LayoutModel",
      "_view_count": null,
      "_view_module": "@jupyter-widgets/base",
      "_view_module_version": "1.2.0",
      "_view_name": "LayoutView",
      "align_content": null,
      "align_items": null,
      "align_self": null,
      "border": null,
      "bottom": null,
      "display": null,
      "flex": null,
      "flex_flow": null,
      "grid_area": null,
      "grid_auto_columns": null,
      "grid_auto_flow": null,
      "grid_auto_rows": null,
      "grid_column": null,
      "grid_gap": null,
      "grid_row": null,
      "grid_template_areas": null,
      "grid_template_columns": null,
      "grid_template_rows": null,
      "height": null,
      "justify_content": null,
      "justify_items": null,
      "left": null,
      "margin": null,
      "max_height": null,
      "max_width": null,
      "min_height": null,
      "min_width": null,
      "object_fit": null,
      "object_position": null,
      "order": null,
      "overflow": null,
      "overflow_x": null,
      "overflow_y": null,
      "padding": null,
      "right": null,
      "top": null,
      "visibility": null,
      "width": null
     }
    },
    "84b50e1b077243dabfd64735e9ef2c58": {
     "model_module": "@jupyter-widgets/controls",
     "model_module_version": "1.5.0",
     "model_name": "HBoxModel",
     "state": {
      "_dom_classes": [],
      "_model_module": "@jupyter-widgets/controls",
      "_model_module_version": "1.5.0",
      "_model_name": "HBoxModel",
      "_view_count": null,
      "_view_module": "@jupyter-widgets/controls",
      "_view_module_version": "1.5.0",
      "_view_name": "HBoxView",
      "box_style": "",
      "children": [
       "IPY_MODEL_b77cf4c807af4179b530d30cb96ae4a7",
       "IPY_MODEL_f0c807d14673402aafe0092366be6c3f",
       "IPY_MODEL_35e87628df514c4aba5fc9685fe248af"
      ],
      "layout": "IPY_MODEL_f9a6fbfc0cf44c41beb2e34e393ca3c6"
     }
    },
    "85b34ed5e1eb4335b2351e6981d7464a": {
     "model_module": "@jupyter-widgets/base",
     "model_module_version": "1.2.0",
     "model_name": "LayoutModel",
     "state": {
      "_model_module": "@jupyter-widgets/base",
      "_model_module_version": "1.2.0",
      "_model_name": "LayoutModel",
      "_view_count": null,
      "_view_module": "@jupyter-widgets/base",
      "_view_module_version": "1.2.0",
      "_view_name": "LayoutView",
      "align_content": null,
      "align_items": null,
      "align_self": null,
      "border": null,
      "bottom": null,
      "display": null,
      "flex": null,
      "flex_flow": null,
      "grid_area": null,
      "grid_auto_columns": null,
      "grid_auto_flow": null,
      "grid_auto_rows": null,
      "grid_column": null,
      "grid_gap": null,
      "grid_row": null,
      "grid_template_areas": null,
      "grid_template_columns": null,
      "grid_template_rows": null,
      "height": null,
      "justify_content": null,
      "justify_items": null,
      "left": null,
      "margin": null,
      "max_height": null,
      "max_width": null,
      "min_height": null,
      "min_width": null,
      "object_fit": null,
      "object_position": null,
      "order": null,
      "overflow": null,
      "overflow_x": null,
      "overflow_y": null,
      "padding": null,
      "right": null,
      "top": null,
      "visibility": null,
      "width": null
     }
    },
    "870664b10a1b4ddb95e0ce06c25cc1e5": {
     "model_module": "@jupyter-widgets/controls",
     "model_module_version": "1.5.0",
     "model_name": "HTMLModel",
     "state": {
      "_dom_classes": [],
      "_model_module": "@jupyter-widgets/controls",
      "_model_module_version": "1.5.0",
      "_model_name": "HTMLModel",
      "_view_count": null,
      "_view_module": "@jupyter-widgets/controls",
      "_view_module_version": "1.5.0",
      "_view_name": "HTMLView",
      "description": "",
      "description_tooltip": null,
      "layout": "IPY_MODEL_4512fc9a627f42928a37ee1373d5aaa9",
      "placeholder": "​",
      "style": "IPY_MODEL_e05084b014b240fb841b64cffc384c9a",
      "value": "Map: 100%"
     }
    },
    "87992569e38d4bbf8bae1929c1b5c9af": {
     "model_module": "@jupyter-widgets/base",
     "model_module_version": "1.2.0",
     "model_name": "LayoutModel",
     "state": {
      "_model_module": "@jupyter-widgets/base",
      "_model_module_version": "1.2.0",
      "_model_name": "LayoutModel",
      "_view_count": null,
      "_view_module": "@jupyter-widgets/base",
      "_view_module_version": "1.2.0",
      "_view_name": "LayoutView",
      "align_content": null,
      "align_items": null,
      "align_self": null,
      "border": null,
      "bottom": null,
      "display": null,
      "flex": null,
      "flex_flow": null,
      "grid_area": null,
      "grid_auto_columns": null,
      "grid_auto_flow": null,
      "grid_auto_rows": null,
      "grid_column": null,
      "grid_gap": null,
      "grid_row": null,
      "grid_template_areas": null,
      "grid_template_columns": null,
      "grid_template_rows": null,
      "height": null,
      "justify_content": null,
      "justify_items": null,
      "left": null,
      "margin": null,
      "max_height": null,
      "max_width": null,
      "min_height": null,
      "min_width": null,
      "object_fit": null,
      "object_position": null,
      "order": null,
      "overflow": null,
      "overflow_x": null,
      "overflow_y": null,
      "padding": null,
      "right": null,
      "top": null,
      "visibility": null,
      "width": null
     }
    },
    "8999828e8fd443148186ba4244c1e649": {
     "model_module": "@jupyter-widgets/controls",
     "model_module_version": "1.5.0",
     "model_name": "HTMLModel",
     "state": {
      "_dom_classes": [],
      "_model_module": "@jupyter-widgets/controls",
      "_model_module_version": "1.5.0",
      "_model_name": "HTMLModel",
      "_view_count": null,
      "_view_module": "@jupyter-widgets/controls",
      "_view_module_version": "1.5.0",
      "_view_name": "HTMLView",
      "description": "",
      "description_tooltip": null,
      "layout": "IPY_MODEL_87992569e38d4bbf8bae1929c1b5c9af",
      "placeholder": "​",
      "style": "IPY_MODEL_81baf450acf54410824af2cc78742645",
      "value": " 830/830 [00:00&lt;00:00, 1595.08 examples/s]"
     }
    },
    "8a4393183a794c79ae49ae7d46b288b4": {
     "model_module": "@jupyter-widgets/controls",
     "model_module_version": "1.5.0",
     "model_name": "ProgressStyleModel",
     "state": {
      "_model_module": "@jupyter-widgets/controls",
      "_model_module_version": "1.5.0",
      "_model_name": "ProgressStyleModel",
      "_view_count": null,
      "_view_module": "@jupyter-widgets/base",
      "_view_module_version": "1.2.0",
      "_view_name": "StyleView",
      "bar_color": null,
      "description_width": ""
     }
    },
    "8cadbe06597544a6a7135f866cca83c3": {
     "model_module": "@jupyter-widgets/base",
     "model_module_version": "1.2.0",
     "model_name": "LayoutModel",
     "state": {
      "_model_module": "@jupyter-widgets/base",
      "_model_module_version": "1.2.0",
      "_model_name": "LayoutModel",
      "_view_count": null,
      "_view_module": "@jupyter-widgets/base",
      "_view_module_version": "1.2.0",
      "_view_name": "LayoutView",
      "align_content": null,
      "align_items": null,
      "align_self": null,
      "border": null,
      "bottom": null,
      "display": null,
      "flex": null,
      "flex_flow": null,
      "grid_area": null,
      "grid_auto_columns": null,
      "grid_auto_flow": null,
      "grid_auto_rows": null,
      "grid_column": null,
      "grid_gap": null,
      "grid_row": null,
      "grid_template_areas": null,
      "grid_template_columns": null,
      "grid_template_rows": null,
      "height": null,
      "justify_content": null,
      "justify_items": null,
      "left": null,
      "margin": null,
      "max_height": null,
      "max_width": null,
      "min_height": null,
      "min_width": null,
      "object_fit": null,
      "object_position": null,
      "order": null,
      "overflow": null,
      "overflow_x": null,
      "overflow_y": null,
      "padding": null,
      "right": null,
      "top": null,
      "visibility": null,
      "width": null
     }
    },
    "8d4ac6d4bbdf4a849f9adb04d47aadd4": {
     "model_module": "@jupyter-widgets/controls",
     "model_module_version": "1.5.0",
     "model_name": "HTMLModel",
     "state": {
      "_dom_classes": [],
      "_model_module": "@jupyter-widgets/controls",
      "_model_module_version": "1.5.0",
      "_model_name": "HTMLModel",
      "_view_count": null,
      "_view_module": "@jupyter-widgets/controls",
      "_view_module_version": "1.5.0",
      "_view_name": "HTMLView",
      "description": "",
      "description_tooltip": null,
      "layout": "IPY_MODEL_f22020e46a0b493cb1c75fb78a636f8e",
      "placeholder": "​",
      "style": "IPY_MODEL_299f2a474bff41cdb85d87ffd43be181",
      "value": " 462/462 [00:00&lt;00:00, 2124.10 examples/s]"
     }
    },
    "8d763aace00c4846ad96ecbef3772400": {
     "model_module": "@jupyter-widgets/controls",
     "model_module_version": "1.5.0",
     "model_name": "FloatProgressModel",
     "state": {
      "_dom_classes": [],
      "_model_module": "@jupyter-widgets/controls",
      "_model_module_version": "1.5.0",
      "_model_name": "FloatProgressModel",
      "_view_count": null,
      "_view_module": "@jupyter-widgets/controls",
      "_view_module_version": "1.5.0",
      "_view_name": "ProgressView",
      "bar_style": "success",
      "description": "",
      "description_tooltip": null,
      "layout": "IPY_MODEL_1ec406408c9c446c9d1419cd13c9f4c2",
      "max": 150,
      "min": 0,
      "orientation": "horizontal",
      "style": "IPY_MODEL_6715480233b44197bbd7ec1e1e063ac0",
      "value": 150
     }
    },
    "8dbfd3768490411c909db9a119f74b62": {
     "model_module": "@jupyter-widgets/controls",
     "model_module_version": "1.5.0",
     "model_name": "FloatProgressModel",
     "state": {
      "_dom_classes": [],
      "_model_module": "@jupyter-widgets/controls",
      "_model_module_version": "1.5.0",
      "_model_name": "FloatProgressModel",
      "_view_count": null,
      "_view_module": "@jupyter-widgets/controls",
      "_view_module_version": "1.5.0",
      "_view_name": "ProgressView",
      "bar_style": "success",
      "description": "",
      "description_tooltip": null,
      "layout": "IPY_MODEL_064357d4e9ea45f49dec29b032f21fbe",
      "max": 300,
      "min": 0,
      "orientation": "horizontal",
      "style": "IPY_MODEL_4f3a64503dcf47de935ed93caccccdf2",
      "value": 300
     }
    },
    "91d89ae99ad3412dbeae5ea0b4e14270": {
     "model_module": "@jupyter-widgets/controls",
     "model_module_version": "1.5.0",
     "model_name": "FloatProgressModel",
     "state": {
      "_dom_classes": [],
      "_model_module": "@jupyter-widgets/controls",
      "_model_module_version": "1.5.0",
      "_model_name": "FloatProgressModel",
      "_view_count": null,
      "_view_module": "@jupyter-widgets/controls",
      "_view_module_version": "1.5.0",
      "_view_name": "ProgressView",
      "bar_style": "success",
      "description": "",
      "description_tooltip": null,
      "layout": "IPY_MODEL_546dd753cbaa4d5994a8d8179feff74b",
      "max": 1613,
      "min": 0,
      "orientation": "horizontal",
      "style": "IPY_MODEL_24e29ebd0e9949ab94c18c068f997f60",
      "value": 1613
     }
    },
    "934a7bd12e55497fb2e98ced8d6307ea": {
     "model_module": "@jupyter-widgets/base",
     "model_module_version": "1.2.0",
     "model_name": "LayoutModel",
     "state": {
      "_model_module": "@jupyter-widgets/base",
      "_model_module_version": "1.2.0",
      "_model_name": "LayoutModel",
      "_view_count": null,
      "_view_module": "@jupyter-widgets/base",
      "_view_module_version": "1.2.0",
      "_view_name": "LayoutView",
      "align_content": null,
      "align_items": null,
      "align_self": null,
      "border": null,
      "bottom": null,
      "display": null,
      "flex": null,
      "flex_flow": null,
      "grid_area": null,
      "grid_auto_columns": null,
      "grid_auto_flow": null,
      "grid_auto_rows": null,
      "grid_column": null,
      "grid_gap": null,
      "grid_row": null,
      "grid_template_areas": null,
      "grid_template_columns": null,
      "grid_template_rows": null,
      "height": null,
      "justify_content": null,
      "justify_items": null,
      "left": null,
      "margin": null,
      "max_height": null,
      "max_width": null,
      "min_height": null,
      "min_width": null,
      "object_fit": null,
      "object_position": null,
      "order": null,
      "overflow": null,
      "overflow_x": null,
      "overflow_y": null,
      "padding": null,
      "right": null,
      "top": null,
      "visibility": null,
      "width": null
     }
    },
    "954d850e5ad640f1b8a8b18d12bed6e6": {
     "model_module": "@jupyter-widgets/controls",
     "model_module_version": "1.5.0",
     "model_name": "HTMLModel",
     "state": {
      "_dom_classes": [],
      "_model_module": "@jupyter-widgets/controls",
      "_model_module_version": "1.5.0",
      "_model_name": "HTMLModel",
      "_view_count": null,
      "_view_module": "@jupyter-widgets/controls",
      "_view_module_version": "1.5.0",
      "_view_name": "HTMLView",
      "description": "",
      "description_tooltip": null,
      "layout": "IPY_MODEL_3bc4d44cd4524eee9728f1b4985a9740",
      "placeholder": "​",
      "style": "IPY_MODEL_1ad9392f8354479d8b8057c2c0a30a7c",
      "value": " 667/667 [00:00&lt;00:00, 2196.95 examples/s]"
     }
    },
    "9563e8dc56be4d0691289f94406a3a17": {
     "model_module": "@jupyter-widgets/base",
     "model_module_version": "1.2.0",
     "model_name": "LayoutModel",
     "state": {
      "_model_module": "@jupyter-widgets/base",
      "_model_module_version": "1.2.0",
      "_model_name": "LayoutModel",
      "_view_count": null,
      "_view_module": "@jupyter-widgets/base",
      "_view_module_version": "1.2.0",
      "_view_name": "LayoutView",
      "align_content": null,
      "align_items": null,
      "align_self": null,
      "border": null,
      "bottom": null,
      "display": null,
      "flex": null,
      "flex_flow": null,
      "grid_area": null,
      "grid_auto_columns": null,
      "grid_auto_flow": null,
      "grid_auto_rows": null,
      "grid_column": null,
      "grid_gap": null,
      "grid_row": null,
      "grid_template_areas": null,
      "grid_template_columns": null,
      "grid_template_rows": null,
      "height": null,
      "justify_content": null,
      "justify_items": null,
      "left": null,
      "margin": null,
      "max_height": null,
      "max_width": null,
      "min_height": null,
      "min_width": null,
      "object_fit": null,
      "object_position": null,
      "order": null,
      "overflow": null,
      "overflow_x": null,
      "overflow_y": null,
      "padding": null,
      "right": null,
      "top": null,
      "visibility": null,
      "width": null
     }
    },
    "9734713fbdc44c2fad7d442f55b57d82": {
     "model_module": "@jupyter-widgets/base",
     "model_module_version": "1.2.0",
     "model_name": "LayoutModel",
     "state": {
      "_model_module": "@jupyter-widgets/base",
      "_model_module_version": "1.2.0",
      "_model_name": "LayoutModel",
      "_view_count": null,
      "_view_module": "@jupyter-widgets/base",
      "_view_module_version": "1.2.0",
      "_view_name": "LayoutView",
      "align_content": null,
      "align_items": null,
      "align_self": null,
      "border": null,
      "bottom": null,
      "display": null,
      "flex": null,
      "flex_flow": null,
      "grid_area": null,
      "grid_auto_columns": null,
      "grid_auto_flow": null,
      "grid_auto_rows": null,
      "grid_column": null,
      "grid_gap": null,
      "grid_row": null,
      "grid_template_areas": null,
      "grid_template_columns": null,
      "grid_template_rows": null,
      "height": null,
      "justify_content": null,
      "justify_items": null,
      "left": null,
      "margin": null,
      "max_height": null,
      "max_width": null,
      "min_height": null,
      "min_width": null,
      "object_fit": null,
      "object_position": null,
      "order": null,
      "overflow": null,
      "overflow_x": null,
      "overflow_y": null,
      "padding": null,
      "right": null,
      "top": null,
      "visibility": null,
      "width": null
     }
    },
    "999a0c31b60e4c66bf93ca2422713b96": {
     "model_module": "@jupyter-widgets/base",
     "model_module_version": "1.2.0",
     "model_name": "LayoutModel",
     "state": {
      "_model_module": "@jupyter-widgets/base",
      "_model_module_version": "1.2.0",
      "_model_name": "LayoutModel",
      "_view_count": null,
      "_view_module": "@jupyter-widgets/base",
      "_view_module_version": "1.2.0",
      "_view_name": "LayoutView",
      "align_content": null,
      "align_items": null,
      "align_self": null,
      "border": null,
      "bottom": null,
      "display": null,
      "flex": null,
      "flex_flow": null,
      "grid_area": null,
      "grid_auto_columns": null,
      "grid_auto_flow": null,
      "grid_auto_rows": null,
      "grid_column": null,
      "grid_gap": null,
      "grid_row": null,
      "grid_template_areas": null,
      "grid_template_columns": null,
      "grid_template_rows": null,
      "height": null,
      "justify_content": null,
      "justify_items": null,
      "left": null,
      "margin": null,
      "max_height": null,
      "max_width": null,
      "min_height": null,
      "min_width": null,
      "object_fit": null,
      "object_position": null,
      "order": null,
      "overflow": null,
      "overflow_x": null,
      "overflow_y": null,
      "padding": null,
      "right": null,
      "top": null,
      "visibility": null,
      "width": null
     }
    },
    "9bf0cd200a2b41d88e7e470607293761": {
     "model_module": "@jupyter-widgets/base",
     "model_module_version": "1.2.0",
     "model_name": "LayoutModel",
     "state": {
      "_model_module": "@jupyter-widgets/base",
      "_model_module_version": "1.2.0",
      "_model_name": "LayoutModel",
      "_view_count": null,
      "_view_module": "@jupyter-widgets/base",
      "_view_module_version": "1.2.0",
      "_view_name": "LayoutView",
      "align_content": null,
      "align_items": null,
      "align_self": null,
      "border": null,
      "bottom": null,
      "display": null,
      "flex": null,
      "flex_flow": null,
      "grid_area": null,
      "grid_auto_columns": null,
      "grid_auto_flow": null,
      "grid_auto_rows": null,
      "grid_column": null,
      "grid_gap": null,
      "grid_row": null,
      "grid_template_areas": null,
      "grid_template_columns": null,
      "grid_template_rows": null,
      "height": null,
      "justify_content": null,
      "justify_items": null,
      "left": null,
      "margin": null,
      "max_height": null,
      "max_width": null,
      "min_height": null,
      "min_width": null,
      "object_fit": null,
      "object_position": null,
      "order": null,
      "overflow": null,
      "overflow_x": null,
      "overflow_y": null,
      "padding": null,
      "right": null,
      "top": null,
      "visibility": null,
      "width": null
     }
    },
    "9ce46ef8bd444489907c644ceb7dca3b": {
     "model_module": "@jupyter-widgets/controls",
     "model_module_version": "1.5.0",
     "model_name": "DescriptionStyleModel",
     "state": {
      "_model_module": "@jupyter-widgets/controls",
      "_model_module_version": "1.5.0",
      "_model_name": "DescriptionStyleModel",
      "_view_count": null,
      "_view_module": "@jupyter-widgets/base",
      "_view_module_version": "1.2.0",
      "_view_name": "StyleView",
      "description_width": ""
     }
    },
    "9d25ab13bc574827b542bdd8834a4eab": {
     "model_module": "@jupyter-widgets/base",
     "model_module_version": "1.2.0",
     "model_name": "LayoutModel",
     "state": {
      "_model_module": "@jupyter-widgets/base",
      "_model_module_version": "1.2.0",
      "_model_name": "LayoutModel",
      "_view_count": null,
      "_view_module": "@jupyter-widgets/base",
      "_view_module_version": "1.2.0",
      "_view_name": "LayoutView",
      "align_content": null,
      "align_items": null,
      "align_self": null,
      "border": null,
      "bottom": null,
      "display": null,
      "flex": null,
      "flex_flow": null,
      "grid_area": null,
      "grid_auto_columns": null,
      "grid_auto_flow": null,
      "grid_auto_rows": null,
      "grid_column": null,
      "grid_gap": null,
      "grid_row": null,
      "grid_template_areas": null,
      "grid_template_columns": null,
      "grid_template_rows": null,
      "height": null,
      "justify_content": null,
      "justify_items": null,
      "left": null,
      "margin": null,
      "max_height": null,
      "max_width": null,
      "min_height": null,
      "min_width": null,
      "object_fit": null,
      "object_position": null,
      "order": null,
      "overflow": null,
      "overflow_x": null,
      "overflow_y": null,
      "padding": null,
      "right": null,
      "top": null,
      "visibility": null,
      "width": null
     }
    },
    "9e8c7acb6d4c4c51a4051444296b7f79": {
     "model_module": "@jupyter-widgets/base",
     "model_module_version": "1.2.0",
     "model_name": "LayoutModel",
     "state": {
      "_model_module": "@jupyter-widgets/base",
      "_model_module_version": "1.2.0",
      "_model_name": "LayoutModel",
      "_view_count": null,
      "_view_module": "@jupyter-widgets/base",
      "_view_module_version": "1.2.0",
      "_view_name": "LayoutView",
      "align_content": null,
      "align_items": null,
      "align_self": null,
      "border": null,
      "bottom": null,
      "display": null,
      "flex": null,
      "flex_flow": null,
      "grid_area": null,
      "grid_auto_columns": null,
      "grid_auto_flow": null,
      "grid_auto_rows": null,
      "grid_column": null,
      "grid_gap": null,
      "grid_row": null,
      "grid_template_areas": null,
      "grid_template_columns": null,
      "grid_template_rows": null,
      "height": null,
      "justify_content": null,
      "justify_items": null,
      "left": null,
      "margin": null,
      "max_height": null,
      "max_width": null,
      "min_height": null,
      "min_width": null,
      "object_fit": null,
      "object_position": null,
      "order": null,
      "overflow": null,
      "overflow_x": null,
      "overflow_y": null,
      "padding": null,
      "right": null,
      "top": null,
      "visibility": null,
      "width": null
     }
    },
    "a00f8e5e866640bf89a656f48f638609": {
     "model_module": "@jupyter-widgets/controls",
     "model_module_version": "1.5.0",
     "model_name": "HTMLModel",
     "state": {
      "_dom_classes": [],
      "_model_module": "@jupyter-widgets/controls",
      "_model_module_version": "1.5.0",
      "_model_name": "HTMLModel",
      "_view_count": null,
      "_view_module": "@jupyter-widgets/controls",
      "_view_module_version": "1.5.0",
      "_view_name": "HTMLView",
      "description": "",
      "description_tooltip": null,
      "layout": "IPY_MODEL_9d25ab13bc574827b542bdd8834a4eab",
      "placeholder": "​",
      "style": "IPY_MODEL_cb0e3af61e3d4c0997564cef916a2637",
      "value": " 1982/1982 [00:01&lt;00:00, 1832.94 examples/s]"
     }
    },
    "a01096253d824fc7ada6e3343b19d744": {
     "model_module": "@jupyter-widgets/controls",
     "model_module_version": "1.5.0",
     "model_name": "HBoxModel",
     "state": {
      "_dom_classes": [],
      "_model_module": "@jupyter-widgets/controls",
      "_model_module_version": "1.5.0",
      "_model_name": "HBoxModel",
      "_view_count": null,
      "_view_module": "@jupyter-widgets/controls",
      "_view_module_version": "1.5.0",
      "_view_name": "HBoxView",
      "box_style": "",
      "children": [
       "IPY_MODEL_176b298390124f4baf5cbec86f3b0ec8",
       "IPY_MODEL_5bb3fa2138a94150820011c6d0602e28",
       "IPY_MODEL_dec70997585f4ed2aae9b9d9d0e99377"
      ],
      "layout": "IPY_MODEL_7397efd321d9464fb2f905e7ca766339"
     }
    },
    "a1495d26bc0a4740b2962044a45f19ed": {
     "model_module": "@jupyter-widgets/base",
     "model_module_version": "1.2.0",
     "model_name": "LayoutModel",
     "state": {
      "_model_module": "@jupyter-widgets/base",
      "_model_module_version": "1.2.0",
      "_model_name": "LayoutModel",
      "_view_count": null,
      "_view_module": "@jupyter-widgets/base",
      "_view_module_version": "1.2.0",
      "_view_name": "LayoutView",
      "align_content": null,
      "align_items": null,
      "align_self": null,
      "border": null,
      "bottom": null,
      "display": null,
      "flex": null,
      "flex_flow": null,
      "grid_area": null,
      "grid_auto_columns": null,
      "grid_auto_flow": null,
      "grid_auto_rows": null,
      "grid_column": null,
      "grid_gap": null,
      "grid_row": null,
      "grid_template_areas": null,
      "grid_template_columns": null,
      "grid_template_rows": null,
      "height": null,
      "justify_content": null,
      "justify_items": null,
      "left": null,
      "margin": null,
      "max_height": null,
      "max_width": null,
      "min_height": null,
      "min_width": null,
      "object_fit": null,
      "object_position": null,
      "order": null,
      "overflow": null,
      "overflow_x": null,
      "overflow_y": null,
      "padding": null,
      "right": null,
      "top": null,
      "visibility": null,
      "width": null
     }
    },
    "a19642a0f83a48eab55444bff7fac6f4": {
     "model_module": "@jupyter-widgets/controls",
     "model_module_version": "1.5.0",
     "model_name": "HBoxModel",
     "state": {
      "_dom_classes": [],
      "_model_module": "@jupyter-widgets/controls",
      "_model_module_version": "1.5.0",
      "_model_name": "HBoxModel",
      "_view_count": null,
      "_view_module": "@jupyter-widgets/controls",
      "_view_module_version": "1.5.0",
      "_view_name": "HBoxView",
      "box_style": "",
      "children": [
       "IPY_MODEL_24acccdefd3f4211a8a0a79e0d7581e5",
       "IPY_MODEL_bb272e12ee164d3a9a63bc9d28c39550",
       "IPY_MODEL_6c31ecba88594f69b8c16c4d83745bad"
      ],
      "layout": "IPY_MODEL_a1495d26bc0a4740b2962044a45f19ed"
     }
    },
    "a2e08ee644b94d17bef5ecde973bbbe7": {
     "model_module": "@jupyter-widgets/controls",
     "model_module_version": "1.5.0",
     "model_name": "ProgressStyleModel",
     "state": {
      "_model_module": "@jupyter-widgets/controls",
      "_model_module_version": "1.5.0",
      "_model_name": "ProgressStyleModel",
      "_view_count": null,
      "_view_module": "@jupyter-widgets/base",
      "_view_module_version": "1.2.0",
      "_view_name": "StyleView",
      "bar_color": null,
      "description_width": ""
     }
    },
    "a2fb6d72511c47bf97d3ec34b78a989b": {
     "model_module": "@jupyter-widgets/base",
     "model_module_version": "1.2.0",
     "model_name": "LayoutModel",
     "state": {
      "_model_module": "@jupyter-widgets/base",
      "_model_module_version": "1.2.0",
      "_model_name": "LayoutModel",
      "_view_count": null,
      "_view_module": "@jupyter-widgets/base",
      "_view_module_version": "1.2.0",
      "_view_name": "LayoutView",
      "align_content": null,
      "align_items": null,
      "align_self": null,
      "border": null,
      "bottom": null,
      "display": null,
      "flex": null,
      "flex_flow": null,
      "grid_area": null,
      "grid_auto_columns": null,
      "grid_auto_flow": null,
      "grid_auto_rows": null,
      "grid_column": null,
      "grid_gap": null,
      "grid_row": null,
      "grid_template_areas": null,
      "grid_template_columns": null,
      "grid_template_rows": null,
      "height": null,
      "justify_content": null,
      "justify_items": null,
      "left": null,
      "margin": null,
      "max_height": null,
      "max_width": null,
      "min_height": null,
      "min_width": null,
      "object_fit": null,
      "object_position": null,
      "order": null,
      "overflow": null,
      "overflow_x": null,
      "overflow_y": null,
      "padding": null,
      "right": null,
      "top": null,
      "visibility": null,
      "width": null
     }
    },
    "a4f241d811b043ef854f3df1e9ce241c": {
     "model_module": "@jupyter-widgets/base",
     "model_module_version": "1.2.0",
     "model_name": "LayoutModel",
     "state": {
      "_model_module": "@jupyter-widgets/base",
      "_model_module_version": "1.2.0",
      "_model_name": "LayoutModel",
      "_view_count": null,
      "_view_module": "@jupyter-widgets/base",
      "_view_module_version": "1.2.0",
      "_view_name": "LayoutView",
      "align_content": null,
      "align_items": null,
      "align_self": null,
      "border": null,
      "bottom": null,
      "display": null,
      "flex": null,
      "flex_flow": null,
      "grid_area": null,
      "grid_auto_columns": null,
      "grid_auto_flow": null,
      "grid_auto_rows": null,
      "grid_column": null,
      "grid_gap": null,
      "grid_row": null,
      "grid_template_areas": null,
      "grid_template_columns": null,
      "grid_template_rows": null,
      "height": null,
      "justify_content": null,
      "justify_items": null,
      "left": null,
      "margin": null,
      "max_height": null,
      "max_width": null,
      "min_height": null,
      "min_width": null,
      "object_fit": null,
      "object_position": null,
      "order": null,
      "overflow": null,
      "overflow_x": null,
      "overflow_y": null,
      "padding": null,
      "right": null,
      "top": null,
      "visibility": null,
      "width": null
     }
    },
    "a7abc5ad984f4f89ab017bb51630ec2e": {
     "model_module": "@jupyter-widgets/controls",
     "model_module_version": "1.5.0",
     "model_name": "DescriptionStyleModel",
     "state": {
      "_model_module": "@jupyter-widgets/controls",
      "_model_module_version": "1.5.0",
      "_model_name": "DescriptionStyleModel",
      "_view_count": null,
      "_view_module": "@jupyter-widgets/base",
      "_view_module_version": "1.2.0",
      "_view_name": "StyleView",
      "description_width": ""
     }
    },
    "a83367482cc1470a98226fc8af385b21": {
     "model_module": "@jupyter-widgets/controls",
     "model_module_version": "1.5.0",
     "model_name": "FloatProgressModel",
     "state": {
      "_dom_classes": [],
      "_model_module": "@jupyter-widgets/controls",
      "_model_module_version": "1.5.0",
      "_model_name": "FloatProgressModel",
      "_view_count": null,
      "_view_module": "@jupyter-widgets/controls",
      "_view_module_version": "1.5.0",
      "_view_name": "ProgressView",
      "bar_style": "success",
      "description": "",
      "description_tooltip": null,
      "layout": "IPY_MODEL_bf86d3a4a06f41a6b480018e102a1af7",
      "max": 462,
      "min": 0,
      "orientation": "horizontal",
      "style": "IPY_MODEL_12bd38346f8a4007ac6eec40c9355798",
      "value": 462
     }
    },
    "a8bd05e31ef843588275ac9ecfddd05b": {
     "model_module": "@jupyter-widgets/controls",
     "model_module_version": "1.5.0",
     "model_name": "FloatProgressModel",
     "state": {
      "_dom_classes": [],
      "_model_module": "@jupyter-widgets/controls",
      "_model_module_version": "1.5.0",
      "_model_name": "FloatProgressModel",
      "_view_count": null,
      "_view_module": "@jupyter-widgets/controls",
      "_view_module_version": "1.5.0",
      "_view_name": "ProgressView",
      "bar_style": "success",
      "description": "",
      "description_tooltip": null,
      "layout": "IPY_MODEL_9734713fbdc44c2fad7d442f55b57d82",
      "max": 206,
      "min": 0,
      "orientation": "horizontal",
      "style": "IPY_MODEL_5d7489ea44a944c6a06ac26da3fb5af7",
      "value": 206
     }
    },
    "ab938873b38940f788fe2dcfad6a304e": {
     "model_module": "@jupyter-widgets/controls",
     "model_module_version": "1.5.0",
     "model_name": "HTMLModel",
     "state": {
      "_dom_classes": [],
      "_model_module": "@jupyter-widgets/controls",
      "_model_module_version": "1.5.0",
      "_model_name": "HTMLModel",
      "_view_count": null,
      "_view_module": "@jupyter-widgets/controls",
      "_view_module_version": "1.5.0",
      "_view_name": "HTMLView",
      "description": "",
      "description_tooltip": null,
      "layout": "IPY_MODEL_7b83b591426d4e9fa368509a5ce5e887",
      "placeholder": "​",
      "style": "IPY_MODEL_76f8720858bd4e1ab6a00872c3cb4613",
      "value": "Map: 100%"
     }
    },
    "abaed3eeb9f44cd59521fc13c579e58a": {
     "model_module": "@jupyter-widgets/controls",
     "model_module_version": "1.5.0",
     "model_name": "HTMLModel",
     "state": {
      "_dom_classes": [],
      "_model_module": "@jupyter-widgets/controls",
      "_model_module_version": "1.5.0",
      "_model_name": "HTMLModel",
      "_view_count": null,
      "_view_module": "@jupyter-widgets/controls",
      "_view_module_version": "1.5.0",
      "_view_name": "HTMLView",
      "description": "",
      "description_tooltip": null,
      "layout": "IPY_MODEL_6a03c906652b4987922e7ebcf1479bbe",
      "placeholder": "​",
      "style": "IPY_MODEL_2734e3ca01354feb9484acf4c84c214a",
      "value": "Map: 100%"
     }
    },
    "ac00c6ba052d46bea3a3a146a5acecb4": {
     "model_module": "@jupyter-widgets/controls",
     "model_module_version": "1.5.0",
     "model_name": "HTMLModel",
     "state": {
      "_dom_classes": [],
      "_model_module": "@jupyter-widgets/controls",
      "_model_module_version": "1.5.0",
      "_model_name": "HTMLModel",
      "_view_count": null,
      "_view_module": "@jupyter-widgets/controls",
      "_view_module_version": "1.5.0",
      "_view_name": "HTMLView",
      "description": "",
      "description_tooltip": null,
      "layout": "IPY_MODEL_1010cedf00b54c6c9baa398d3cb8fbf8",
      "placeholder": "​",
      "style": "IPY_MODEL_2c97caeae29f483abec97ffa9cb594f2",
      "value": "Map: 100%"
     }
    },
    "b0a8c6abfb394166b93d48f6fbf7927b": {
     "model_module": "@jupyter-widgets/controls",
     "model_module_version": "1.5.0",
     "model_name": "HBoxModel",
     "state": {
      "_dom_classes": [],
      "_model_module": "@jupyter-widgets/controls",
      "_model_module_version": "1.5.0",
      "_model_name": "HBoxModel",
      "_view_count": null,
      "_view_module": "@jupyter-widgets/controls",
      "_view_module_version": "1.5.0",
      "_view_name": "HBoxView",
      "box_style": "",
      "children": [
       "IPY_MODEL_0ca2980228d14083a07c3e7c64a1c30f",
       "IPY_MODEL_8dbfd3768490411c909db9a119f74b62",
       "IPY_MODEL_d651ae1a71b94b86a6f663554df26402"
      ],
      "layout": "IPY_MODEL_00b1f327049e41c5b25098abe69332d6"
     }
    },
    "b1fc1805a5e84731857cbcb4360c3b73": {
     "model_module": "@jupyter-widgets/base",
     "model_module_version": "1.2.0",
     "model_name": "LayoutModel",
     "state": {
      "_model_module": "@jupyter-widgets/base",
      "_model_module_version": "1.2.0",
      "_model_name": "LayoutModel",
      "_view_count": null,
      "_view_module": "@jupyter-widgets/base",
      "_view_module_version": "1.2.0",
      "_view_name": "LayoutView",
      "align_content": null,
      "align_items": null,
      "align_self": null,
      "border": null,
      "bottom": null,
      "display": null,
      "flex": null,
      "flex_flow": null,
      "grid_area": null,
      "grid_auto_columns": null,
      "grid_auto_flow": null,
      "grid_auto_rows": null,
      "grid_column": null,
      "grid_gap": null,
      "grid_row": null,
      "grid_template_areas": null,
      "grid_template_columns": null,
      "grid_template_rows": null,
      "height": null,
      "justify_content": null,
      "justify_items": null,
      "left": null,
      "margin": null,
      "max_height": null,
      "max_width": null,
      "min_height": null,
      "min_width": null,
      "object_fit": null,
      "object_position": null,
      "order": null,
      "overflow": null,
      "overflow_x": null,
      "overflow_y": null,
      "padding": null,
      "right": null,
      "top": null,
      "visibility": null,
      "width": null
     }
    },
    "b63ebcaf0c8542869deb987b2b2907a2": {
     "model_module": "@jupyter-widgets/controls",
     "model_module_version": "1.5.0",
     "model_name": "HTMLModel",
     "state": {
      "_dom_classes": [],
      "_model_module": "@jupyter-widgets/controls",
      "_model_module_version": "1.5.0",
      "_model_name": "HTMLModel",
      "_view_count": null,
      "_view_module": "@jupyter-widgets/controls",
      "_view_module_version": "1.5.0",
      "_view_name": "HTMLView",
      "description": "",
      "description_tooltip": null,
      "layout": "IPY_MODEL_c295bff7b1f54e08aecc41df22dda3bd",
      "placeholder": "​",
      "style": "IPY_MODEL_1fc252106f1242b09ef21878d001c36d",
      "value": " 471M/471M [00:02&lt;00:00, 185MB/s]"
     }
    },
    "b77cf4c807af4179b530d30cb96ae4a7": {
     "model_module": "@jupyter-widgets/controls",
     "model_module_version": "1.5.0",
     "model_name": "HTMLModel",
     "state": {
      "_dom_classes": [],
      "_model_module": "@jupyter-widgets/controls",
      "_model_module_version": "1.5.0",
      "_model_name": "HTMLModel",
      "_view_count": null,
      "_view_module": "@jupyter-widgets/controls",
      "_view_module_version": "1.5.0",
      "_view_name": "HTMLView",
      "description": "",
      "description_tooltip": null,
      "layout": "IPY_MODEL_2ae72059f95e4c1bb893d9ccdb58794e",
      "placeholder": "​",
      "style": "IPY_MODEL_80a67c8977224637a188c8dbf27638a0",
      "value": "config.json: 100%"
     }
    },
    "b7c4b3ca1f554184960111983a56f707": {
     "model_module": "@jupyter-widgets/base",
     "model_module_version": "1.2.0",
     "model_name": "LayoutModel",
     "state": {
      "_model_module": "@jupyter-widgets/base",
      "_model_module_version": "1.2.0",
      "_model_name": "LayoutModel",
      "_view_count": null,
      "_view_module": "@jupyter-widgets/base",
      "_view_module_version": "1.2.0",
      "_view_name": "LayoutView",
      "align_content": null,
      "align_items": null,
      "align_self": null,
      "border": null,
      "bottom": null,
      "display": null,
      "flex": null,
      "flex_flow": null,
      "grid_area": null,
      "grid_auto_columns": null,
      "grid_auto_flow": null,
      "grid_auto_rows": null,
      "grid_column": null,
      "grid_gap": null,
      "grid_row": null,
      "grid_template_areas": null,
      "grid_template_columns": null,
      "grid_template_rows": null,
      "height": null,
      "justify_content": null,
      "justify_items": null,
      "left": null,
      "margin": null,
      "max_height": null,
      "max_width": null,
      "min_height": null,
      "min_width": null,
      "object_fit": null,
      "object_position": null,
      "order": null,
      "overflow": null,
      "overflow_x": null,
      "overflow_y": null,
      "padding": null,
      "right": null,
      "top": null,
      "visibility": null,
      "width": null
     }
    },
    "b8849bfc34c04d29a17e43d7419659e5": {
     "model_module": "@jupyter-widgets/base",
     "model_module_version": "1.2.0",
     "model_name": "LayoutModel",
     "state": {
      "_model_module": "@jupyter-widgets/base",
      "_model_module_version": "1.2.0",
      "_model_name": "LayoutModel",
      "_view_count": null,
      "_view_module": "@jupyter-widgets/base",
      "_view_module_version": "1.2.0",
      "_view_name": "LayoutView",
      "align_content": null,
      "align_items": null,
      "align_self": null,
      "border": null,
      "bottom": null,
      "display": null,
      "flex": null,
      "flex_flow": null,
      "grid_area": null,
      "grid_auto_columns": null,
      "grid_auto_flow": null,
      "grid_auto_rows": null,
      "grid_column": null,
      "grid_gap": null,
      "grid_row": null,
      "grid_template_areas": null,
      "grid_template_columns": null,
      "grid_template_rows": null,
      "height": null,
      "justify_content": null,
      "justify_items": null,
      "left": null,
      "margin": null,
      "max_height": null,
      "max_width": null,
      "min_height": null,
      "min_width": null,
      "object_fit": null,
      "object_position": null,
      "order": null,
      "overflow": null,
      "overflow_x": null,
      "overflow_y": null,
      "padding": null,
      "right": null,
      "top": null,
      "visibility": null,
      "width": null
     }
    },
    "b90269361d9b4b4d874265229a2a97c2": {
     "model_module": "@jupyter-widgets/controls",
     "model_module_version": "1.5.0",
     "model_name": "ProgressStyleModel",
     "state": {
      "_model_module": "@jupyter-widgets/controls",
      "_model_module_version": "1.5.0",
      "_model_name": "ProgressStyleModel",
      "_view_count": null,
      "_view_module": "@jupyter-widgets/base",
      "_view_module_version": "1.2.0",
      "_view_name": "StyleView",
      "bar_color": null,
      "description_width": ""
     }
    },
    "b9c752fe12534687a8754a5dd07f1f31": {
     "model_module": "@jupyter-widgets/controls",
     "model_module_version": "1.5.0",
     "model_name": "HTMLModel",
     "state": {
      "_dom_classes": [],
      "_model_module": "@jupyter-widgets/controls",
      "_model_module_version": "1.5.0",
      "_model_name": "HTMLModel",
      "_view_count": null,
      "_view_module": "@jupyter-widgets/controls",
      "_view_module_version": "1.5.0",
      "_view_name": "HTMLView",
      "description": "",
      "description_tooltip": null,
      "layout": "IPY_MODEL_7f7e9442e71d444dbfb3b9ea06fb0eaf",
      "placeholder": "​",
      "style": "IPY_MODEL_6bf24be637284d878f59d4eb21f2d9b8",
      "value": "Map: 100%"
     }
    },
    "ba92cf6435ea4fe5ba4c1f14feabfa89": {
     "model_module": "@jupyter-widgets/base",
     "model_module_version": "1.2.0",
     "model_name": "LayoutModel",
     "state": {
      "_model_module": "@jupyter-widgets/base",
      "_model_module_version": "1.2.0",
      "_model_name": "LayoutModel",
      "_view_count": null,
      "_view_module": "@jupyter-widgets/base",
      "_view_module_version": "1.2.0",
      "_view_name": "LayoutView",
      "align_content": null,
      "align_items": null,
      "align_self": null,
      "border": null,
      "bottom": null,
      "display": null,
      "flex": null,
      "flex_flow": null,
      "grid_area": null,
      "grid_auto_columns": null,
      "grid_auto_flow": null,
      "grid_auto_rows": null,
      "grid_column": null,
      "grid_gap": null,
      "grid_row": null,
      "grid_template_areas": null,
      "grid_template_columns": null,
      "grid_template_rows": null,
      "height": null,
      "justify_content": null,
      "justify_items": null,
      "left": null,
      "margin": null,
      "max_height": null,
      "max_width": null,
      "min_height": null,
      "min_width": null,
      "object_fit": null,
      "object_position": null,
      "order": null,
      "overflow": null,
      "overflow_x": null,
      "overflow_y": null,
      "padding": null,
      "right": null,
      "top": null,
      "visibility": null,
      "width": null
     }
    },
    "bb272e12ee164d3a9a63bc9d28c39550": {
     "model_module": "@jupyter-widgets/controls",
     "model_module_version": "1.5.0",
     "model_name": "FloatProgressModel",
     "state": {
      "_dom_classes": [],
      "_model_module": "@jupyter-widgets/controls",
      "_model_module_version": "1.5.0",
      "_model_name": "FloatProgressModel",
      "_view_count": null,
      "_view_module": "@jupyter-widgets/controls",
      "_view_module_version": "1.5.0",
      "_view_name": "ProgressView",
      "bar_style": "success",
      "description": "",
      "description_tooltip": null,
      "layout": "IPY_MODEL_ed6ab580f17e4c13819bc42527705a0a",
      "max": 470657952,
      "min": 0,
      "orientation": "horizontal",
      "style": "IPY_MODEL_d4c6e8ccc8b144d2b957c626f91e86ef",
      "value": 470657952
     }
    },
    "bded1eea79db4026ab3e7a5f99d31237": {
     "model_module": "@jupyter-widgets/controls",
     "model_module_version": "1.5.0",
     "model_name": "HTMLModel",
     "state": {
      "_dom_classes": [],
      "_model_module": "@jupyter-widgets/controls",
      "_model_module_version": "1.5.0",
      "_model_name": "HTMLModel",
      "_view_count": null,
      "_view_module": "@jupyter-widgets/controls",
      "_view_module_version": "1.5.0",
      "_view_name": "HTMLView",
      "description": "",
      "description_tooltip": null,
      "layout": "IPY_MODEL_0cde3c70a92a4e33b67140a0f0ab0fbe",
      "placeholder": "​",
      "style": "IPY_MODEL_f053e2b668364c629bdbab80a607459f",
      "value": "Map: 100%"
     }
    },
    "bf04561e10d74ccd8a8505c0f213e6c5": {
     "model_module": "@jupyter-widgets/base",
     "model_module_version": "1.2.0",
     "model_name": "LayoutModel",
     "state": {
      "_model_module": "@jupyter-widgets/base",
      "_model_module_version": "1.2.0",
      "_model_name": "LayoutModel",
      "_view_count": null,
      "_view_module": "@jupyter-widgets/base",
      "_view_module_version": "1.2.0",
      "_view_name": "LayoutView",
      "align_content": null,
      "align_items": null,
      "align_self": null,
      "border": null,
      "bottom": null,
      "display": null,
      "flex": null,
      "flex_flow": null,
      "grid_area": null,
      "grid_auto_columns": null,
      "grid_auto_flow": null,
      "grid_auto_rows": null,
      "grid_column": null,
      "grid_gap": null,
      "grid_row": null,
      "grid_template_areas": null,
      "grid_template_columns": null,
      "grid_template_rows": null,
      "height": null,
      "justify_content": null,
      "justify_items": null,
      "left": null,
      "margin": null,
      "max_height": null,
      "max_width": null,
      "min_height": null,
      "min_width": null,
      "object_fit": null,
      "object_position": null,
      "order": null,
      "overflow": null,
      "overflow_x": null,
      "overflow_y": null,
      "padding": null,
      "right": null,
      "top": null,
      "visibility": null,
      "width": null
     }
    },
    "bf86d3a4a06f41a6b480018e102a1af7": {
     "model_module": "@jupyter-widgets/base",
     "model_module_version": "1.2.0",
     "model_name": "LayoutModel",
     "state": {
      "_model_module": "@jupyter-widgets/base",
      "_model_module_version": "1.2.0",
      "_model_name": "LayoutModel",
      "_view_count": null,
      "_view_module": "@jupyter-widgets/base",
      "_view_module_version": "1.2.0",
      "_view_name": "LayoutView",
      "align_content": null,
      "align_items": null,
      "align_self": null,
      "border": null,
      "bottom": null,
      "display": null,
      "flex": null,
      "flex_flow": null,
      "grid_area": null,
      "grid_auto_columns": null,
      "grid_auto_flow": null,
      "grid_auto_rows": null,
      "grid_column": null,
      "grid_gap": null,
      "grid_row": null,
      "grid_template_areas": null,
      "grid_template_columns": null,
      "grid_template_rows": null,
      "height": null,
      "justify_content": null,
      "justify_items": null,
      "left": null,
      "margin": null,
      "max_height": null,
      "max_width": null,
      "min_height": null,
      "min_width": null,
      "object_fit": null,
      "object_position": null,
      "order": null,
      "overflow": null,
      "overflow_x": null,
      "overflow_y": null,
      "padding": null,
      "right": null,
      "top": null,
      "visibility": null,
      "width": null
     }
    },
    "bffc8f7debbc46038e92b0c84fc0bf2d": {
     "model_module": "@jupyter-widgets/controls",
     "model_module_version": "1.5.0",
     "model_name": "HBoxModel",
     "state": {
      "_dom_classes": [],
      "_model_module": "@jupyter-widgets/controls",
      "_model_module_version": "1.5.0",
      "_model_name": "HBoxModel",
      "_view_count": null,
      "_view_module": "@jupyter-widgets/controls",
      "_view_module_version": "1.5.0",
      "_view_name": "HBoxView",
      "box_style": "",
      "children": [
       "IPY_MODEL_ac00c6ba052d46bea3a3a146a5acecb4",
       "IPY_MODEL_31fefba0699d46868c1ce8d66fd0e407",
       "IPY_MODEL_954d850e5ad640f1b8a8b18d12bed6e6"
      ],
      "layout": "IPY_MODEL_c3777836478943ea83da2e681fdfd266"
     }
    },
    "c0b9fe3328c943f1be2d45f51220de50": {
     "model_module": "@jupyter-widgets/controls",
     "model_module_version": "1.5.0",
     "model_name": "DescriptionStyleModel",
     "state": {
      "_model_module": "@jupyter-widgets/controls",
      "_model_module_version": "1.5.0",
      "_model_name": "DescriptionStyleModel",
      "_view_count": null,
      "_view_module": "@jupyter-widgets/base",
      "_view_module_version": "1.2.0",
      "_view_name": "StyleView",
      "description_width": ""
     }
    },
    "c0cb859246e64c848578b55bd2bfcb50": {
     "model_module": "@jupyter-widgets/controls",
     "model_module_version": "1.5.0",
     "model_name": "HBoxModel",
     "state": {
      "_dom_classes": [],
      "_model_module": "@jupyter-widgets/controls",
      "_model_module_version": "1.5.0",
      "_model_name": "HBoxModel",
      "_view_count": null,
      "_view_module": "@jupyter-widgets/controls",
      "_view_module_version": "1.5.0",
      "_view_name": "HBoxView",
      "box_style": "",
      "children": [
       "IPY_MODEL_ab938873b38940f788fe2dcfad6a304e",
       "IPY_MODEL_1047e880367548d4989920900b6eb1bc",
       "IPY_MODEL_5d73b3ea542941478212cce510eea462"
      ],
      "layout": "IPY_MODEL_d4e93f91ffc34ce38ee8da3dff9bb411"
     }
    },
    "c116e370c0c6470986cb79ef06a87e5e": {
     "model_module": "@jupyter-widgets/base",
     "model_module_version": "1.2.0",
     "model_name": "LayoutModel",
     "state": {
      "_model_module": "@jupyter-widgets/base",
      "_model_module_version": "1.2.0",
      "_model_name": "LayoutModel",
      "_view_count": null,
      "_view_module": "@jupyter-widgets/base",
      "_view_module_version": "1.2.0",
      "_view_name": "LayoutView",
      "align_content": null,
      "align_items": null,
      "align_self": null,
      "border": null,
      "bottom": null,
      "display": null,
      "flex": null,
      "flex_flow": null,
      "grid_area": null,
      "grid_auto_columns": null,
      "grid_auto_flow": null,
      "grid_auto_rows": null,
      "grid_column": null,
      "grid_gap": null,
      "grid_row": null,
      "grid_template_areas": null,
      "grid_template_columns": null,
      "grid_template_rows": null,
      "height": null,
      "justify_content": null,
      "justify_items": null,
      "left": null,
      "margin": null,
      "max_height": null,
      "max_width": null,
      "min_height": null,
      "min_width": null,
      "object_fit": null,
      "object_position": null,
      "order": null,
      "overflow": null,
      "overflow_x": null,
      "overflow_y": null,
      "padding": null,
      "right": null,
      "top": null,
      "visibility": null,
      "width": null
     }
    },
    "c295bff7b1f54e08aecc41df22dda3bd": {
     "model_module": "@jupyter-widgets/base",
     "model_module_version": "1.2.0",
     "model_name": "LayoutModel",
     "state": {
      "_model_module": "@jupyter-widgets/base",
      "_model_module_version": "1.2.0",
      "_model_name": "LayoutModel",
      "_view_count": null,
      "_view_module": "@jupyter-widgets/base",
      "_view_module_version": "1.2.0",
      "_view_name": "LayoutView",
      "align_content": null,
      "align_items": null,
      "align_self": null,
      "border": null,
      "bottom": null,
      "display": null,
      "flex": null,
      "flex_flow": null,
      "grid_area": null,
      "grid_auto_columns": null,
      "grid_auto_flow": null,
      "grid_auto_rows": null,
      "grid_column": null,
      "grid_gap": null,
      "grid_row": null,
      "grid_template_areas": null,
      "grid_template_columns": null,
      "grid_template_rows": null,
      "height": null,
      "justify_content": null,
      "justify_items": null,
      "left": null,
      "margin": null,
      "max_height": null,
      "max_width": null,
      "min_height": null,
      "min_width": null,
      "object_fit": null,
      "object_position": null,
      "order": null,
      "overflow": null,
      "overflow_x": null,
      "overflow_y": null,
      "padding": null,
      "right": null,
      "top": null,
      "visibility": null,
      "width": null
     }
    },
    "c3777836478943ea83da2e681fdfd266": {
     "model_module": "@jupyter-widgets/base",
     "model_module_version": "1.2.0",
     "model_name": "LayoutModel",
     "state": {
      "_model_module": "@jupyter-widgets/base",
      "_model_module_version": "1.2.0",
      "_model_name": "LayoutModel",
      "_view_count": null,
      "_view_module": "@jupyter-widgets/base",
      "_view_module_version": "1.2.0",
      "_view_name": "LayoutView",
      "align_content": null,
      "align_items": null,
      "align_self": null,
      "border": null,
      "bottom": null,
      "display": null,
      "flex": null,
      "flex_flow": null,
      "grid_area": null,
      "grid_auto_columns": null,
      "grid_auto_flow": null,
      "grid_auto_rows": null,
      "grid_column": null,
      "grid_gap": null,
      "grid_row": null,
      "grid_template_areas": null,
      "grid_template_columns": null,
      "grid_template_rows": null,
      "height": null,
      "justify_content": null,
      "justify_items": null,
      "left": null,
      "margin": null,
      "max_height": null,
      "max_width": null,
      "min_height": null,
      "min_width": null,
      "object_fit": null,
      "object_position": null,
      "order": null,
      "overflow": null,
      "overflow_x": null,
      "overflow_y": null,
      "padding": null,
      "right": null,
      "top": null,
      "visibility": null,
      "width": null
     }
    },
    "c40806dc375c4919b502b78f304bbe3a": {
     "model_module": "@jupyter-widgets/controls",
     "model_module_version": "1.5.0",
     "model_name": "HTMLModel",
     "state": {
      "_dom_classes": [],
      "_model_module": "@jupyter-widgets/controls",
      "_model_module_version": "1.5.0",
      "_model_name": "HTMLModel",
      "_view_count": null,
      "_view_module": "@jupyter-widgets/controls",
      "_view_module_version": "1.5.0",
      "_view_name": "HTMLView",
      "description": "",
      "description_tooltip": null,
      "layout": "IPY_MODEL_b1fc1805a5e84731857cbcb4360c3b73",
      "placeholder": "​",
      "style": "IPY_MODEL_9ce46ef8bd444489907c644ceb7dca3b",
      "value": "Map: 100%"
     }
    },
    "c602950bbc844b3599a166b2860f337d": {
     "model_module": "@jupyter-widgets/controls",
     "model_module_version": "1.5.0",
     "model_name": "FloatProgressModel",
     "state": {
      "_dom_classes": [],
      "_model_module": "@jupyter-widgets/controls",
      "_model_module_version": "1.5.0",
      "_model_name": "FloatProgressModel",
      "_view_count": null,
      "_view_module": "@jupyter-widgets/controls",
      "_view_module_version": "1.5.0",
      "_view_name": "ProgressView",
      "bar_style": "success",
      "description": "",
      "description_tooltip": null,
      "layout": "IPY_MODEL_f0c2fe59e5244e76878553aa6475676b",
      "max": 5069051,
      "min": 0,
      "orientation": "horizontal",
      "style": "IPY_MODEL_81812e329dea4a7790e27237910e86df",
      "value": 5069051
     }
    },
    "c6a373762e1d47278e522c885d7b0bf0": {
     "model_module": "@jupyter-widgets/controls",
     "model_module_version": "1.5.0",
     "model_name": "HTMLModel",
     "state": {
      "_dom_classes": [],
      "_model_module": "@jupyter-widgets/controls",
      "_model_module_version": "1.5.0",
      "_model_name": "HTMLModel",
      "_view_count": null,
      "_view_module": "@jupyter-widgets/controls",
      "_view_module_version": "1.5.0",
      "_view_name": "HTMLView",
      "description": "",
      "description_tooltip": null,
      "layout": "IPY_MODEL_9bf0cd200a2b41d88e7e470607293761",
      "placeholder": "​",
      "style": "IPY_MODEL_ed0286fd912644bbaad7e77a473079b4",
      "value": "special_tokens_map.json: 100%"
     }
    },
    "ca403e30c4714c7d8adf31c99f328cbd": {
     "model_module": "@jupyter-widgets/controls",
     "model_module_version": "1.5.0",
     "model_name": "HTMLModel",
     "state": {
      "_dom_classes": [],
      "_model_module": "@jupyter-widgets/controls",
      "_model_module_version": "1.5.0",
      "_model_name": "HTMLModel",
      "_view_count": null,
      "_view_module": "@jupyter-widgets/controls",
      "_view_module_version": "1.5.0",
      "_view_name": "HTMLView",
      "description": "",
      "description_tooltip": null,
      "layout": "IPY_MODEL_bf04561e10d74ccd8a8505c0f213e6c5",
      "placeholder": "​",
      "style": "IPY_MODEL_142f2451e5984ecda96f05c78b6b2f68",
      "value": " 150/150 [00:00&lt;00:00, 5.91kB/s]"
     }
    },
    "ca69a7e650494e6b950131f8450f3c08": {
     "model_module": "@jupyter-widgets/base",
     "model_module_version": "1.2.0",
     "model_name": "LayoutModel",
     "state": {
      "_model_module": "@jupyter-widgets/base",
      "_model_module_version": "1.2.0",
      "_model_name": "LayoutModel",
      "_view_count": null,
      "_view_module": "@jupyter-widgets/base",
      "_view_module_version": "1.2.0",
      "_view_name": "LayoutView",
      "align_content": null,
      "align_items": null,
      "align_self": null,
      "border": null,
      "bottom": null,
      "display": null,
      "flex": null,
      "flex_flow": null,
      "grid_area": null,
      "grid_auto_columns": null,
      "grid_auto_flow": null,
      "grid_auto_rows": null,
      "grid_column": null,
      "grid_gap": null,
      "grid_row": null,
      "grid_template_areas": null,
      "grid_template_columns": null,
      "grid_template_rows": null,
      "height": null,
      "justify_content": null,
      "justify_items": null,
      "left": null,
      "margin": null,
      "max_height": null,
      "max_width": null,
      "min_height": null,
      "min_width": null,
      "object_fit": null,
      "object_position": null,
      "order": null,
      "overflow": null,
      "overflow_x": null,
      "overflow_y": null,
      "padding": null,
      "right": null,
      "top": null,
      "visibility": null,
      "width": null
     }
    },
    "cb0e3af61e3d4c0997564cef916a2637": {
     "model_module": "@jupyter-widgets/controls",
     "model_module_version": "1.5.0",
     "model_name": "DescriptionStyleModel",
     "state": {
      "_model_module": "@jupyter-widgets/controls",
      "_model_module_version": "1.5.0",
      "_model_name": "DescriptionStyleModel",
      "_view_count": null,
      "_view_module": "@jupyter-widgets/base",
      "_view_module_version": "1.2.0",
      "_view_name": "StyleView",
      "description_width": ""
     }
    },
    "cbcec34588814373ae62d84373beeb84": {
     "model_module": "@jupyter-widgets/base",
     "model_module_version": "1.2.0",
     "model_name": "LayoutModel",
     "state": {
      "_model_module": "@jupyter-widgets/base",
      "_model_module_version": "1.2.0",
      "_model_name": "LayoutModel",
      "_view_count": null,
      "_view_module": "@jupyter-widgets/base",
      "_view_module_version": "1.2.0",
      "_view_name": "LayoutView",
      "align_content": null,
      "align_items": null,
      "align_self": null,
      "border": null,
      "bottom": null,
      "display": null,
      "flex": null,
      "flex_flow": null,
      "grid_area": null,
      "grid_auto_columns": null,
      "grid_auto_flow": null,
      "grid_auto_rows": null,
      "grid_column": null,
      "grid_gap": null,
      "grid_row": null,
      "grid_template_areas": null,
      "grid_template_columns": null,
      "grid_template_rows": null,
      "height": null,
      "justify_content": null,
      "justify_items": null,
      "left": null,
      "margin": null,
      "max_height": null,
      "max_width": null,
      "min_height": null,
      "min_width": null,
      "object_fit": null,
      "object_position": null,
      "order": null,
      "overflow": null,
      "overflow_x": null,
      "overflow_y": null,
      "padding": null,
      "right": null,
      "top": null,
      "visibility": null,
      "width": null
     }
    },
    "ce6fefea0e18428bb1f66dca2250c5f3": {
     "model_module": "@jupyter-widgets/base",
     "model_module_version": "1.2.0",
     "model_name": "LayoutModel",
     "state": {
      "_model_module": "@jupyter-widgets/base",
      "_model_module_version": "1.2.0",
      "_model_name": "LayoutModel",
      "_view_count": null,
      "_view_module": "@jupyter-widgets/base",
      "_view_module_version": "1.2.0",
      "_view_name": "LayoutView",
      "align_content": null,
      "align_items": null,
      "align_self": null,
      "border": null,
      "bottom": null,
      "display": null,
      "flex": null,
      "flex_flow": null,
      "grid_area": null,
      "grid_auto_columns": null,
      "grid_auto_flow": null,
      "grid_auto_rows": null,
      "grid_column": null,
      "grid_gap": null,
      "grid_row": null,
      "grid_template_areas": null,
      "grid_template_columns": null,
      "grid_template_rows": null,
      "height": null,
      "justify_content": null,
      "justify_items": null,
      "left": null,
      "margin": null,
      "max_height": null,
      "max_width": null,
      "min_height": null,
      "min_width": null,
      "object_fit": null,
      "object_position": null,
      "order": null,
      "overflow": null,
      "overflow_x": null,
      "overflow_y": null,
      "padding": null,
      "right": null,
      "top": null,
      "visibility": null,
      "width": null
     }
    },
    "cf33dabfafba44de9a72b791f7c06605": {
     "model_module": "@jupyter-widgets/base",
     "model_module_version": "1.2.0",
     "model_name": "LayoutModel",
     "state": {
      "_model_module": "@jupyter-widgets/base",
      "_model_module_version": "1.2.0",
      "_model_name": "LayoutModel",
      "_view_count": null,
      "_view_module": "@jupyter-widgets/base",
      "_view_module_version": "1.2.0",
      "_view_name": "LayoutView",
      "align_content": null,
      "align_items": null,
      "align_self": null,
      "border": null,
      "bottom": null,
      "display": null,
      "flex": null,
      "flex_flow": null,
      "grid_area": null,
      "grid_auto_columns": null,
      "grid_auto_flow": null,
      "grid_auto_rows": null,
      "grid_column": null,
      "grid_gap": null,
      "grid_row": null,
      "grid_template_areas": null,
      "grid_template_columns": null,
      "grid_template_rows": null,
      "height": null,
      "justify_content": null,
      "justify_items": null,
      "left": null,
      "margin": null,
      "max_height": null,
      "max_width": null,
      "min_height": null,
      "min_width": null,
      "object_fit": null,
      "object_position": null,
      "order": null,
      "overflow": null,
      "overflow_x": null,
      "overflow_y": null,
      "padding": null,
      "right": null,
      "top": null,
      "visibility": null,
      "width": null
     }
    },
    "d0468df42e3a461faa62e565030ac1c3": {
     "model_module": "@jupyter-widgets/controls",
     "model_module_version": "1.5.0",
     "model_name": "DescriptionStyleModel",
     "state": {
      "_model_module": "@jupyter-widgets/controls",
      "_model_module_version": "1.5.0",
      "_model_name": "DescriptionStyleModel",
      "_view_count": null,
      "_view_module": "@jupyter-widgets/base",
      "_view_module_version": "1.2.0",
      "_view_name": "StyleView",
      "description_width": ""
     }
    },
    "d2b03ca689d5492a87673fcd838c1750": {
     "model_module": "@jupyter-widgets/controls",
     "model_module_version": "1.5.0",
     "model_name": "HBoxModel",
     "state": {
      "_dom_classes": [],
      "_model_module": "@jupyter-widgets/controls",
      "_model_module_version": "1.5.0",
      "_model_name": "HBoxModel",
      "_view_count": null,
      "_view_module": "@jupyter-widgets/controls",
      "_view_module_version": "1.5.0",
      "_view_name": "HBoxView",
      "box_style": "",
      "children": [
       "IPY_MODEL_c6a373762e1d47278e522c885d7b0bf0",
       "IPY_MODEL_8d763aace00c4846ad96ecbef3772400",
       "IPY_MODEL_ca403e30c4714c7d8adf31c99f328cbd"
      ],
      "layout": "IPY_MODEL_4739486c3cea48daabaf49197133498c"
     }
    },
    "d2d78565c98149179a0a214ee9984669": {
     "model_module": "@jupyter-widgets/controls",
     "model_module_version": "1.5.0",
     "model_name": "DescriptionStyleModel",
     "state": {
      "_model_module": "@jupyter-widgets/controls",
      "_model_module_version": "1.5.0",
      "_model_name": "DescriptionStyleModel",
      "_view_count": null,
      "_view_module": "@jupyter-widgets/base",
      "_view_module_version": "1.2.0",
      "_view_name": "StyleView",
      "description_width": ""
     }
    },
    "d4ae65f128024f9eba223115db168086": {
     "model_module": "@jupyter-widgets/controls",
     "model_module_version": "1.5.0",
     "model_name": "FloatProgressModel",
     "state": {
      "_dom_classes": [],
      "_model_module": "@jupyter-widgets/controls",
      "_model_module_version": "1.5.0",
      "_model_name": "FloatProgressModel",
      "_view_count": null,
      "_view_module": "@jupyter-widgets/controls",
      "_view_module_version": "1.5.0",
      "_view_name": "ProgressView",
      "bar_style": "success",
      "description": "",
      "description_tooltip": null,
      "layout": "IPY_MODEL_23a3af9af1f8430c9642c7afb59861d1",
      "max": 299,
      "min": 0,
      "orientation": "horizontal",
      "style": "IPY_MODEL_77957b919d104c669d786f32d4058bc8",
      "value": 299
     }
    },
    "d4c6e8ccc8b144d2b957c626f91e86ef": {
     "model_module": "@jupyter-widgets/controls",
     "model_module_version": "1.5.0",
     "model_name": "ProgressStyleModel",
     "state": {
      "_model_module": "@jupyter-widgets/controls",
      "_model_module_version": "1.5.0",
      "_model_name": "ProgressStyleModel",
      "_view_count": null,
      "_view_module": "@jupyter-widgets/base",
      "_view_module_version": "1.2.0",
      "_view_name": "StyleView",
      "bar_color": null,
      "description_width": ""
     }
    },
    "d4e93f91ffc34ce38ee8da3dff9bb411": {
     "model_module": "@jupyter-widgets/base",
     "model_module_version": "1.2.0",
     "model_name": "LayoutModel",
     "state": {
      "_model_module": "@jupyter-widgets/base",
      "_model_module_version": "1.2.0",
      "_model_name": "LayoutModel",
      "_view_count": null,
      "_view_module": "@jupyter-widgets/base",
      "_view_module_version": "1.2.0",
      "_view_name": "LayoutView",
      "align_content": null,
      "align_items": null,
      "align_self": null,
      "border": null,
      "bottom": null,
      "display": null,
      "flex": null,
      "flex_flow": null,
      "grid_area": null,
      "grid_auto_columns": null,
      "grid_auto_flow": null,
      "grid_auto_rows": null,
      "grid_column": null,
      "grid_gap": null,
      "grid_row": null,
      "grid_template_areas": null,
      "grid_template_columns": null,
      "grid_template_rows": null,
      "height": null,
      "justify_content": null,
      "justify_items": null,
      "left": null,
      "margin": null,
      "max_height": null,
      "max_width": null,
      "min_height": null,
      "min_width": null,
      "object_fit": null,
      "object_position": null,
      "order": null,
      "overflow": null,
      "overflow_x": null,
      "overflow_y": null,
      "padding": null,
      "right": null,
      "top": null,
      "visibility": null,
      "width": null
     }
    },
    "d651ae1a71b94b86a6f663554df26402": {
     "model_module": "@jupyter-widgets/controls",
     "model_module_version": "1.5.0",
     "model_name": "HTMLModel",
     "state": {
      "_dom_classes": [],
      "_model_module": "@jupyter-widgets/controls",
      "_model_module_version": "1.5.0",
      "_model_name": "HTMLModel",
      "_view_count": null,
      "_view_module": "@jupyter-widgets/controls",
      "_view_module_version": "1.5.0",
      "_view_name": "HTMLView",
      "description": "",
      "description_tooltip": null,
      "layout": "IPY_MODEL_9e8c7acb6d4c4c51a4051444296b7f79",
      "placeholder": "​",
      "style": "IPY_MODEL_32db09088a484950bd7ff1fcb394c073",
      "value": " 300/300 [00:00&lt;00:00, 1839.94 examples/s]"
     }
    },
    "d86b0c4946f94a81b3458a7eb56004a6": {
     "model_module": "@jupyter-widgets/controls",
     "model_module_version": "1.5.0",
     "model_name": "DescriptionStyleModel",
     "state": {
      "_model_module": "@jupyter-widgets/controls",
      "_model_module_version": "1.5.0",
      "_model_name": "DescriptionStyleModel",
      "_view_count": null,
      "_view_module": "@jupyter-widgets/base",
      "_view_module_version": "1.2.0",
      "_view_name": "StyleView",
      "description_width": ""
     }
    },
    "da9c40c3e60e4a2591e4e4d5b27caa4c": {
     "model_module": "@jupyter-widgets/controls",
     "model_module_version": "1.5.0",
     "model_name": "FloatProgressModel",
     "state": {
      "_dom_classes": [],
      "_model_module": "@jupyter-widgets/controls",
      "_model_module_version": "1.5.0",
      "_model_name": "FloatProgressModel",
      "_view_count": null,
      "_view_module": "@jupyter-widgets/controls",
      "_view_module_version": "1.5.0",
      "_view_name": "ProgressView",
      "bar_style": "success",
      "description": "",
      "description_tooltip": null,
      "layout": "IPY_MODEL_06b773ab73714c31abcf23f47e1b1b0a",
      "max": 2393,
      "min": 0,
      "orientation": "horizontal",
      "style": "IPY_MODEL_ee3e88eff0f04daf96d103e29bb3551d",
      "value": 2393
     }
    },
    "dac4e1fc5e0a4ae489b5ceea6b527bf1": {
     "model_module": "@jupyter-widgets/base",
     "model_module_version": "1.2.0",
     "model_name": "LayoutModel",
     "state": {
      "_model_module": "@jupyter-widgets/base",
      "_model_module_version": "1.2.0",
      "_model_name": "LayoutModel",
      "_view_count": null,
      "_view_module": "@jupyter-widgets/base",
      "_view_module_version": "1.2.0",
      "_view_name": "LayoutView",
      "align_content": null,
      "align_items": null,
      "align_self": null,
      "border": null,
      "bottom": null,
      "display": null,
      "flex": null,
      "flex_flow": null,
      "grid_area": null,
      "grid_auto_columns": null,
      "grid_auto_flow": null,
      "grid_auto_rows": null,
      "grid_column": null,
      "grid_gap": null,
      "grid_row": null,
      "grid_template_areas": null,
      "grid_template_columns": null,
      "grid_template_rows": null,
      "height": null,
      "justify_content": null,
      "justify_items": null,
      "left": null,
      "margin": null,
      "max_height": null,
      "max_width": null,
      "min_height": null,
      "min_width": null,
      "object_fit": null,
      "object_position": null,
      "order": null,
      "overflow": null,
      "overflow_x": null,
      "overflow_y": null,
      "padding": null,
      "right": null,
      "top": null,
      "visibility": null,
      "width": null
     }
    },
    "dc7b2da450cd4798ae8656c5e2d66a2f": {
     "model_module": "@jupyter-widgets/controls",
     "model_module_version": "1.5.0",
     "model_name": "DescriptionStyleModel",
     "state": {
      "_model_module": "@jupyter-widgets/controls",
      "_model_module_version": "1.5.0",
      "_model_name": "DescriptionStyleModel",
      "_view_count": null,
      "_view_module": "@jupyter-widgets/base",
      "_view_module_version": "1.2.0",
      "_view_name": "StyleView",
      "description_width": ""
     }
    },
    "dec70997585f4ed2aae9b9d9d0e99377": {
     "model_module": "@jupyter-widgets/controls",
     "model_module_version": "1.5.0",
     "model_name": "HTMLModel",
     "state": {
      "_dom_classes": [],
      "_model_module": "@jupyter-widgets/controls",
      "_model_module_version": "1.5.0",
      "_model_name": "HTMLModel",
      "_view_count": null,
      "_view_module": "@jupyter-widgets/controls",
      "_view_module_version": "1.5.0",
      "_view_name": "HTMLView",
      "description": "",
      "description_tooltip": null,
      "layout": "IPY_MODEL_e530d9870baf49f8999280914f19314b",
      "placeholder": "​",
      "style": "IPY_MODEL_dc7b2da450cd4798ae8656c5e2d66a2f",
      "value": " 282/282 [00:00&lt;00:00, 2810.21 examples/s]"
     }
    },
    "e05084b014b240fb841b64cffc384c9a": {
     "model_module": "@jupyter-widgets/controls",
     "model_module_version": "1.5.0",
     "model_name": "DescriptionStyleModel",
     "state": {
      "_model_module": "@jupyter-widgets/controls",
      "_model_module_version": "1.5.0",
      "_model_name": "DescriptionStyleModel",
      "_view_count": null,
      "_view_module": "@jupyter-widgets/base",
      "_view_module_version": "1.2.0",
      "_view_name": "StyleView",
      "description_width": ""
     }
    },
    "e0e3746d68ec426ea72b628777e69e65": {
     "model_module": "@jupyter-widgets/controls",
     "model_module_version": "1.5.0",
     "model_name": "HBoxModel",
     "state": {
      "_dom_classes": [],
      "_model_module": "@jupyter-widgets/controls",
      "_model_module_version": "1.5.0",
      "_model_name": "HBoxModel",
      "_view_count": null,
      "_view_module": "@jupyter-widgets/controls",
      "_view_module_version": "1.5.0",
      "_view_name": "HBoxView",
      "box_style": "",
      "children": [
       "IPY_MODEL_01a0b2b71c894f08ab6887a14c0c44be",
       "IPY_MODEL_da9c40c3e60e4a2591e4e4d5b27caa4c",
       "IPY_MODEL_f9687beaab574d5899e135559bcd709b"
      ],
      "layout": "IPY_MODEL_373a6581ee434185b0b19b8bee301718"
     }
    },
    "e169dec77eaa4c3b97b29a6f2a022dbd": {
     "model_module": "@jupyter-widgets/base",
     "model_module_version": "1.2.0",
     "model_name": "LayoutModel",
     "state": {
      "_model_module": "@jupyter-widgets/base",
      "_model_module_version": "1.2.0",
      "_model_name": "LayoutModel",
      "_view_count": null,
      "_view_module": "@jupyter-widgets/base",
      "_view_module_version": "1.2.0",
      "_view_name": "LayoutView",
      "align_content": null,
      "align_items": null,
      "align_self": null,
      "border": null,
      "bottom": null,
      "display": null,
      "flex": null,
      "flex_flow": null,
      "grid_area": null,
      "grid_auto_columns": null,
      "grid_auto_flow": null,
      "grid_auto_rows": null,
      "grid_column": null,
      "grid_gap": null,
      "grid_row": null,
      "grid_template_areas": null,
      "grid_template_columns": null,
      "grid_template_rows": null,
      "height": null,
      "justify_content": null,
      "justify_items": null,
      "left": null,
      "margin": null,
      "max_height": null,
      "max_width": null,
      "min_height": null,
      "min_width": null,
      "object_fit": null,
      "object_position": null,
      "order": null,
      "overflow": null,
      "overflow_x": null,
      "overflow_y": null,
      "padding": null,
      "right": null,
      "top": null,
      "visibility": null,
      "width": null
     }
    },
    "e530d9870baf49f8999280914f19314b": {
     "model_module": "@jupyter-widgets/base",
     "model_module_version": "1.2.0",
     "model_name": "LayoutModel",
     "state": {
      "_model_module": "@jupyter-widgets/base",
      "_model_module_version": "1.2.0",
      "_model_name": "LayoutModel",
      "_view_count": null,
      "_view_module": "@jupyter-widgets/base",
      "_view_module_version": "1.2.0",
      "_view_name": "LayoutView",
      "align_content": null,
      "align_items": null,
      "align_self": null,
      "border": null,
      "bottom": null,
      "display": null,
      "flex": null,
      "flex_flow": null,
      "grid_area": null,
      "grid_auto_columns": null,
      "grid_auto_flow": null,
      "grid_auto_rows": null,
      "grid_column": null,
      "grid_gap": null,
      "grid_row": null,
      "grid_template_areas": null,
      "grid_template_columns": null,
      "grid_template_rows": null,
      "height": null,
      "justify_content": null,
      "justify_items": null,
      "left": null,
      "margin": null,
      "max_height": null,
      "max_width": null,
      "min_height": null,
      "min_width": null,
      "object_fit": null,
      "object_position": null,
      "order": null,
      "overflow": null,
      "overflow_x": null,
      "overflow_y": null,
      "padding": null,
      "right": null,
      "top": null,
      "visibility": null,
      "width": null
     }
    },
    "e68917bb01f24709a108d9cfae4617cb": {
     "model_module": "@jupyter-widgets/base",
     "model_module_version": "1.2.0",
     "model_name": "LayoutModel",
     "state": {
      "_model_module": "@jupyter-widgets/base",
      "_model_module_version": "1.2.0",
      "_model_name": "LayoutModel",
      "_view_count": null,
      "_view_module": "@jupyter-widgets/base",
      "_view_module_version": "1.2.0",
      "_view_name": "LayoutView",
      "align_content": null,
      "align_items": null,
      "align_self": null,
      "border": null,
      "bottom": null,
      "display": null,
      "flex": null,
      "flex_flow": null,
      "grid_area": null,
      "grid_auto_columns": null,
      "grid_auto_flow": null,
      "grid_auto_rows": null,
      "grid_column": null,
      "grid_gap": null,
      "grid_row": null,
      "grid_template_areas": null,
      "grid_template_columns": null,
      "grid_template_rows": null,
      "height": null,
      "justify_content": null,
      "justify_items": null,
      "left": null,
      "margin": null,
      "max_height": null,
      "max_width": null,
      "min_height": null,
      "min_width": null,
      "object_fit": null,
      "object_position": null,
      "order": null,
      "overflow": null,
      "overflow_x": null,
      "overflow_y": null,
      "padding": null,
      "right": null,
      "top": null,
      "visibility": null,
      "width": null
     }
    },
    "e75e518b248d44d9a806a73de74661fb": {
     "model_module": "@jupyter-widgets/base",
     "model_module_version": "1.2.0",
     "model_name": "LayoutModel",
     "state": {
      "_model_module": "@jupyter-widgets/base",
      "_model_module_version": "1.2.0",
      "_model_name": "LayoutModel",
      "_view_count": null,
      "_view_module": "@jupyter-widgets/base",
      "_view_module_version": "1.2.0",
      "_view_name": "LayoutView",
      "align_content": null,
      "align_items": null,
      "align_self": null,
      "border": null,
      "bottom": null,
      "display": null,
      "flex": null,
      "flex_flow": null,
      "grid_area": null,
      "grid_auto_columns": null,
      "grid_auto_flow": null,
      "grid_auto_rows": null,
      "grid_column": null,
      "grid_gap": null,
      "grid_row": null,
      "grid_template_areas": null,
      "grid_template_columns": null,
      "grid_template_rows": null,
      "height": null,
      "justify_content": null,
      "justify_items": null,
      "left": null,
      "margin": null,
      "max_height": null,
      "max_width": null,
      "min_height": null,
      "min_width": null,
      "object_fit": null,
      "object_position": null,
      "order": null,
      "overflow": null,
      "overflow_x": null,
      "overflow_y": null,
      "padding": null,
      "right": null,
      "top": null,
      "visibility": null,
      "width": null
     }
    },
    "e8d9d72a733f4cf6883c3cd7b6251fd1": {
     "model_module": "@jupyter-widgets/controls",
     "model_module_version": "1.5.0",
     "model_name": "HTMLModel",
     "state": {
      "_dom_classes": [],
      "_model_module": "@jupyter-widgets/controls",
      "_model_module_version": "1.5.0",
      "_model_name": "HTMLModel",
      "_view_count": null,
      "_view_module": "@jupyter-widgets/controls",
      "_view_module_version": "1.5.0",
      "_view_name": "HTMLView",
      "description": "",
      "description_tooltip": null,
      "layout": "IPY_MODEL_3fec019251a44b88868e43bd9954c245",
      "placeholder": "​",
      "style": "IPY_MODEL_d0468df42e3a461faa62e565030ac1c3",
      "value": "Downloading builder script: 100%"
     }
    },
    "e96f4b5b6d704b33b37728a49b695035": {
     "model_module": "@jupyter-widgets/controls",
     "model_module_version": "1.5.0",
     "model_name": "HTMLModel",
     "state": {
      "_dom_classes": [],
      "_model_module": "@jupyter-widgets/controls",
      "_model_module_version": "1.5.0",
      "_model_name": "HTMLModel",
      "_view_count": null,
      "_view_module": "@jupyter-widgets/controls",
      "_view_module_version": "1.5.0",
      "_view_name": "HTMLView",
      "description": "",
      "description_tooltip": null,
      "layout": "IPY_MODEL_ca69a7e650494e6b950131f8450f3c08",
      "placeholder": "​",
      "style": "IPY_MODEL_5d73a46635954da8890da416addc5639",
      "value": " 2.00/2.00 [00:00&lt;00:00, 85.1B/s]"
     }
    },
    "e97d4c3eccdd44078684bfd3dd072094": {
     "model_module": "@jupyter-widgets/controls",
     "model_module_version": "1.5.0",
     "model_name": "DescriptionStyleModel",
     "state": {
      "_model_module": "@jupyter-widgets/controls",
      "_model_module_version": "1.5.0",
      "_model_name": "DescriptionStyleModel",
      "_view_count": null,
      "_view_module": "@jupyter-widgets/base",
      "_view_module_version": "1.2.0",
      "_view_name": "StyleView",
      "description_width": ""
     }
    },
    "eb417af6aadc499da905e9a3ede13883": {
     "model_module": "@jupyter-widgets/controls",
     "model_module_version": "1.5.0",
     "model_name": "DescriptionStyleModel",
     "state": {
      "_model_module": "@jupyter-widgets/controls",
      "_model_module_version": "1.5.0",
      "_model_name": "DescriptionStyleModel",
      "_view_count": null,
      "_view_module": "@jupyter-widgets/base",
      "_view_module_version": "1.2.0",
      "_view_name": "StyleView",
      "description_width": ""
     }
    },
    "ec3ada95a2b841b59683898147a7675e": {
     "model_module": "@jupyter-widgets/controls",
     "model_module_version": "1.5.0",
     "model_name": "DescriptionStyleModel",
     "state": {
      "_model_module": "@jupyter-widgets/controls",
      "_model_module_version": "1.5.0",
      "_model_name": "DescriptionStyleModel",
      "_view_count": null,
      "_view_module": "@jupyter-widgets/base",
      "_view_module_version": "1.2.0",
      "_view_name": "StyleView",
      "description_width": ""
     }
    },
    "ec5f5a5926114f0a942c79836610c0a4": {
     "model_module": "@jupyter-widgets/controls",
     "model_module_version": "1.5.0",
     "model_name": "HBoxModel",
     "state": {
      "_dom_classes": [],
      "_model_module": "@jupyter-widgets/controls",
      "_model_module_version": "1.5.0",
      "_model_name": "HBoxModel",
      "_view_count": null,
      "_view_module": "@jupyter-widgets/controls",
      "_view_module_version": "1.5.0",
      "_view_name": "HBoxView",
      "box_style": "",
      "children": [
       "IPY_MODEL_3ec99f76ef6b4609a6e48152b314ebb6",
       "IPY_MODEL_2609c6d44a8f4fa48fef2522f4dc54a7",
       "IPY_MODEL_e96f4b5b6d704b33b37728a49b695035"
      ],
      "layout": "IPY_MODEL_4aba5df7402e4a889893a67b02961a7d"
     }
    },
    "ed0286fd912644bbaad7e77a473079b4": {
     "model_module": "@jupyter-widgets/controls",
     "model_module_version": "1.5.0",
     "model_name": "DescriptionStyleModel",
     "state": {
      "_model_module": "@jupyter-widgets/controls",
      "_model_module_version": "1.5.0",
      "_model_name": "DescriptionStyleModel",
      "_view_count": null,
      "_view_module": "@jupyter-widgets/base",
      "_view_module_version": "1.2.0",
      "_view_name": "StyleView",
      "description_width": ""
     }
    },
    "ed6ab580f17e4c13819bc42527705a0a": {
     "model_module": "@jupyter-widgets/base",
     "model_module_version": "1.2.0",
     "model_name": "LayoutModel",
     "state": {
      "_model_module": "@jupyter-widgets/base",
      "_model_module_version": "1.2.0",
      "_model_name": "LayoutModel",
      "_view_count": null,
      "_view_module": "@jupyter-widgets/base",
      "_view_module_version": "1.2.0",
      "_view_name": "LayoutView",
      "align_content": null,
      "align_items": null,
      "align_self": null,
      "border": null,
      "bottom": null,
      "display": null,
      "flex": null,
      "flex_flow": null,
      "grid_area": null,
      "grid_auto_columns": null,
      "grid_auto_flow": null,
      "grid_auto_rows": null,
      "grid_column": null,
      "grid_gap": null,
      "grid_row": null,
      "grid_template_areas": null,
      "grid_template_columns": null,
      "grid_template_rows": null,
      "height": null,
      "justify_content": null,
      "justify_items": null,
      "left": null,
      "margin": null,
      "max_height": null,
      "max_width": null,
      "min_height": null,
      "min_width": null,
      "object_fit": null,
      "object_position": null,
      "order": null,
      "overflow": null,
      "overflow_x": null,
      "overflow_y": null,
      "padding": null,
      "right": null,
      "top": null,
      "visibility": null,
      "width": null
     }
    },
    "ee3e88eff0f04daf96d103e29bb3551d": {
     "model_module": "@jupyter-widgets/controls",
     "model_module_version": "1.5.0",
     "model_name": "ProgressStyleModel",
     "state": {
      "_model_module": "@jupyter-widgets/controls",
      "_model_module_version": "1.5.0",
      "_model_name": "ProgressStyleModel",
      "_view_count": null,
      "_view_module": "@jupyter-widgets/base",
      "_view_module_version": "1.2.0",
      "_view_name": "StyleView",
      "bar_color": null,
      "description_width": ""
     }
    },
    "ee50cceda6e24aa0a6cbbb2476563f73": {
     "model_module": "@jupyter-widgets/base",
     "model_module_version": "1.2.0",
     "model_name": "LayoutModel",
     "state": {
      "_model_module": "@jupyter-widgets/base",
      "_model_module_version": "1.2.0",
      "_model_name": "LayoutModel",
      "_view_count": null,
      "_view_module": "@jupyter-widgets/base",
      "_view_module_version": "1.2.0",
      "_view_name": "LayoutView",
      "align_content": null,
      "align_items": null,
      "align_self": null,
      "border": null,
      "bottom": null,
      "display": null,
      "flex": null,
      "flex_flow": null,
      "grid_area": null,
      "grid_auto_columns": null,
      "grid_auto_flow": null,
      "grid_auto_rows": null,
      "grid_column": null,
      "grid_gap": null,
      "grid_row": null,
      "grid_template_areas": null,
      "grid_template_columns": null,
      "grid_template_rows": null,
      "height": null,
      "justify_content": null,
      "justify_items": null,
      "left": null,
      "margin": null,
      "max_height": null,
      "max_width": null,
      "min_height": null,
      "min_width": null,
      "object_fit": null,
      "object_position": null,
      "order": null,
      "overflow": null,
      "overflow_x": null,
      "overflow_y": null,
      "padding": null,
      "right": null,
      "top": null,
      "visibility": null,
      "width": null
     }
    },
    "ee55591eb5e24671a806726597ab4684": {
     "model_module": "@jupyter-widgets/controls",
     "model_module_version": "1.5.0",
     "model_name": "DescriptionStyleModel",
     "state": {
      "_model_module": "@jupyter-widgets/controls",
      "_model_module_version": "1.5.0",
      "_model_name": "DescriptionStyleModel",
      "_view_count": null,
      "_view_module": "@jupyter-widgets/base",
      "_view_module_version": "1.2.0",
      "_view_name": "StyleView",
      "description_width": ""
     }
    },
    "eed6bca123f04e22b47ef95725c7f8a7": {
     "model_module": "@jupyter-widgets/controls",
     "model_module_version": "1.5.0",
     "model_name": "HBoxModel",
     "state": {
      "_dom_classes": [],
      "_model_module": "@jupyter-widgets/controls",
      "_model_module_version": "1.5.0",
      "_model_name": "HBoxModel",
      "_view_count": null,
      "_view_module": "@jupyter-widgets/controls",
      "_view_module_version": "1.5.0",
      "_view_name": "HBoxView",
      "box_style": "",
      "children": [
       "IPY_MODEL_21fd31062755449eb970520286fc8f4a",
       "IPY_MODEL_91d89ae99ad3412dbeae5ea0b4e14270",
       "IPY_MODEL_390ad994c3544fa4a85da171de3af5ca"
      ],
      "layout": "IPY_MODEL_6ac7929f62344119a65071892ea5d954"
     }
    },
    "ef1b2b6d21694a1e93e6c72b7c0fd820": {
     "model_module": "@jupyter-widgets/controls",
     "model_module_version": "1.5.0",
     "model_name": "DescriptionStyleModel",
     "state": {
      "_model_module": "@jupyter-widgets/controls",
      "_model_module_version": "1.5.0",
      "_model_name": "DescriptionStyleModel",
      "_view_count": null,
      "_view_module": "@jupyter-widgets/base",
      "_view_module_version": "1.2.0",
      "_view_name": "StyleView",
      "description_width": ""
     }
    },
    "f053e2b668364c629bdbab80a607459f": {
     "model_module": "@jupyter-widgets/controls",
     "model_module_version": "1.5.0",
     "model_name": "DescriptionStyleModel",
     "state": {
      "_model_module": "@jupyter-widgets/controls",
      "_model_module_version": "1.5.0",
      "_model_name": "DescriptionStyleModel",
      "_view_count": null,
      "_view_module": "@jupyter-widgets/base",
      "_view_module_version": "1.2.0",
      "_view_name": "StyleView",
      "description_width": ""
     }
    },
    "f0c2fe59e5244e76878553aa6475676b": {
     "model_module": "@jupyter-widgets/base",
     "model_module_version": "1.2.0",
     "model_name": "LayoutModel",
     "state": {
      "_model_module": "@jupyter-widgets/base",
      "_model_module_version": "1.2.0",
      "_model_name": "LayoutModel",
      "_view_count": null,
      "_view_module": "@jupyter-widgets/base",
      "_view_module_version": "1.2.0",
      "_view_name": "LayoutView",
      "align_content": null,
      "align_items": null,
      "align_self": null,
      "border": null,
      "bottom": null,
      "display": null,
      "flex": null,
      "flex_flow": null,
      "grid_area": null,
      "grid_auto_columns": null,
      "grid_auto_flow": null,
      "grid_auto_rows": null,
      "grid_column": null,
      "grid_gap": null,
      "grid_row": null,
      "grid_template_areas": null,
      "grid_template_columns": null,
      "grid_template_rows": null,
      "height": null,
      "justify_content": null,
      "justify_items": null,
      "left": null,
      "margin": null,
      "max_height": null,
      "max_width": null,
      "min_height": null,
      "min_width": null,
      "object_fit": null,
      "object_position": null,
      "order": null,
      "overflow": null,
      "overflow_x": null,
      "overflow_y": null,
      "padding": null,
      "right": null,
      "top": null,
      "visibility": null,
      "width": null
     }
    },
    "f0c807d14673402aafe0092366be6c3f": {
     "model_module": "@jupyter-widgets/controls",
     "model_module_version": "1.5.0",
     "model_name": "FloatProgressModel",
     "state": {
      "_dom_classes": [],
      "_model_module": "@jupyter-widgets/controls",
      "_model_module_version": "1.5.0",
      "_model_name": "FloatProgressModel",
      "_view_count": null,
      "_view_module": "@jupyter-widgets/controls",
      "_view_module_version": "1.5.0",
      "_view_name": "ProgressView",
      "bar_style": "success",
      "description": "",
      "description_tooltip": null,
      "layout": "IPY_MODEL_4f04ec1f9c1d4b66baae9374e5e360ae",
      "max": 430,
      "min": 0,
      "orientation": "horizontal",
      "style": "IPY_MODEL_b90269361d9b4b4d874265229a2a97c2",
      "value": 430
     }
    },
    "f21a073ee94d4d85b19111b91308c172": {
     "model_module": "@jupyter-widgets/controls",
     "model_module_version": "1.5.0",
     "model_name": "HTMLModel",
     "state": {
      "_dom_classes": [],
      "_model_module": "@jupyter-widgets/controls",
      "_model_module_version": "1.5.0",
      "_model_name": "HTMLModel",
      "_view_count": null,
      "_view_module": "@jupyter-widgets/controls",
      "_view_module_version": "1.5.0",
      "_view_name": "HTMLView",
      "description": "",
      "description_tooltip": null,
      "layout": "IPY_MODEL_fec8e0638080458686b50f833ab27f08",
      "placeholder": "​",
      "style": "IPY_MODEL_c0b9fe3328c943f1be2d45f51220de50",
      "value": " 351/351 [00:00&lt;00:00, 2480.71 examples/s]"
     }
    },
    "f22020e46a0b493cb1c75fb78a636f8e": {
     "model_module": "@jupyter-widgets/base",
     "model_module_version": "1.2.0",
     "model_name": "LayoutModel",
     "state": {
      "_model_module": "@jupyter-widgets/base",
      "_model_module_version": "1.2.0",
      "_model_name": "LayoutModel",
      "_view_count": null,
      "_view_module": "@jupyter-widgets/base",
      "_view_module_version": "1.2.0",
      "_view_name": "LayoutView",
      "align_content": null,
      "align_items": null,
      "align_self": null,
      "border": null,
      "bottom": null,
      "display": null,
      "flex": null,
      "flex_flow": null,
      "grid_area": null,
      "grid_auto_columns": null,
      "grid_auto_flow": null,
      "grid_auto_rows": null,
      "grid_column": null,
      "grid_gap": null,
      "grid_row": null,
      "grid_template_areas": null,
      "grid_template_columns": null,
      "grid_template_rows": null,
      "height": null,
      "justify_content": null,
      "justify_items": null,
      "left": null,
      "margin": null,
      "max_height": null,
      "max_width": null,
      "min_height": null,
      "min_width": null,
      "object_fit": null,
      "object_position": null,
      "order": null,
      "overflow": null,
      "overflow_x": null,
      "overflow_y": null,
      "padding": null,
      "right": null,
      "top": null,
      "visibility": null,
      "width": null
     }
    },
    "f5529081234449e595f49b7d27ac953b": {
     "model_module": "@jupyter-widgets/controls",
     "model_module_version": "1.5.0",
     "model_name": "HBoxModel",
     "state": {
      "_dom_classes": [],
      "_model_module": "@jupyter-widgets/controls",
      "_model_module_version": "1.5.0",
      "_model_name": "HBoxModel",
      "_view_count": null,
      "_view_module": "@jupyter-widgets/controls",
      "_view_module_version": "1.5.0",
      "_view_name": "HBoxView",
      "box_style": "",
      "children": [
       "IPY_MODEL_56f36363f81b44db815dcfa374a6de24",
       "IPY_MODEL_d4ae65f128024f9eba223115db168086",
       "IPY_MODEL_7a5a9144b769488981dbe5424da260f3"
      ],
      "layout": "IPY_MODEL_ba92cf6435ea4fe5ba4c1f14feabfa89"
     }
    },
    "f9687beaab574d5899e135559bcd709b": {
     "model_module": "@jupyter-widgets/controls",
     "model_module_version": "1.5.0",
     "model_name": "HTMLModel",
     "state": {
      "_dom_classes": [],
      "_model_module": "@jupyter-widgets/controls",
      "_model_module_version": "1.5.0",
      "_model_name": "HTMLModel",
      "_view_count": null,
      "_view_module": "@jupyter-widgets/controls",
      "_view_module_version": "1.5.0",
      "_view_name": "HTMLView",
      "description": "",
      "description_tooltip": null,
      "layout": "IPY_MODEL_4cafb82ce4ec43f497809b393bc7a9f7",
      "placeholder": "​",
      "style": "IPY_MODEL_38bd787a124e4a4c966ee38837dbce45",
      "value": " 2393/2393 [00:00&lt;00:00, 2685.42 examples/s]"
     }
    },
    "f96a0cdded1347fcb052173c090cd218": {
     "model_module": "@jupyter-widgets/controls",
     "model_module_version": "1.5.0",
     "model_name": "HBoxModel",
     "state": {
      "_dom_classes": [],
      "_model_module": "@jupyter-widgets/controls",
      "_model_module_version": "1.5.0",
      "_model_name": "HBoxModel",
      "_view_count": null,
      "_view_module": "@jupyter-widgets/controls",
      "_view_module_version": "1.5.0",
      "_view_name": "HBoxView",
      "box_style": "",
      "children": [
       "IPY_MODEL_45e9c2b773e2499bbc206829f6625ca8",
       "IPY_MODEL_3b49614bc3f646a78ac6ac99f1f1b9a1",
       "IPY_MODEL_b63ebcaf0c8542869deb987b2b2907a2"
      ],
      "layout": "IPY_MODEL_164b370336bd43cb8db3682981422729"
     }
    },
    "f9a6fbfc0cf44c41beb2e34e393ca3c6": {
     "model_module": "@jupyter-widgets/base",
     "model_module_version": "1.2.0",
     "model_name": "LayoutModel",
     "state": {
      "_model_module": "@jupyter-widgets/base",
      "_model_module_version": "1.2.0",
      "_model_name": "LayoutModel",
      "_view_count": null,
      "_view_module": "@jupyter-widgets/base",
      "_view_module_version": "1.2.0",
      "_view_name": "LayoutView",
      "align_content": null,
      "align_items": null,
      "align_self": null,
      "border": null,
      "bottom": null,
      "display": null,
      "flex": null,
      "flex_flow": null,
      "grid_area": null,
      "grid_auto_columns": null,
      "grid_auto_flow": null,
      "grid_auto_rows": null,
      "grid_column": null,
      "grid_gap": null,
      "grid_row": null,
      "grid_template_areas": null,
      "grid_template_columns": null,
      "grid_template_rows": null,
      "height": null,
      "justify_content": null,
      "justify_items": null,
      "left": null,
      "margin": null,
      "max_height": null,
      "max_width": null,
      "min_height": null,
      "min_width": null,
      "object_fit": null,
      "object_position": null,
      "order": null,
      "overflow": null,
      "overflow_x": null,
      "overflow_y": null,
      "padding": null,
      "right": null,
      "top": null,
      "visibility": null,
      "width": null
     }
    },
    "fec829c2563547beb87a513b4124971a": {
     "model_module": "@jupyter-widgets/controls",
     "model_module_version": "1.5.0",
     "model_name": "HBoxModel",
     "state": {
      "_dom_classes": [],
      "_model_module": "@jupyter-widgets/controls",
      "_model_module_version": "1.5.0",
      "_model_name": "HBoxModel",
      "_view_count": null,
      "_view_module": "@jupyter-widgets/controls",
      "_view_module_version": "1.5.0",
      "_view_name": "HBoxView",
      "box_style": "",
      "children": [
       "IPY_MODEL_bded1eea79db4026ab3e7a5f99d31237",
       "IPY_MODEL_a8bd05e31ef843588275ac9ecfddd05b",
       "IPY_MODEL_6634b9eefef647468781c853e0f25db4"
      ],
      "layout": "IPY_MODEL_827d337f12d8421da44d56f4409f15b6"
     }
    },
    "fec8e0638080458686b50f833ab27f08": {
     "model_module": "@jupyter-widgets/base",
     "model_module_version": "1.2.0",
     "model_name": "LayoutModel",
     "state": {
      "_model_module": "@jupyter-widgets/base",
      "_model_module_version": "1.2.0",
      "_model_name": "LayoutModel",
      "_view_count": null,
      "_view_module": "@jupyter-widgets/base",
      "_view_module_version": "1.2.0",
      "_view_name": "LayoutView",
      "align_content": null,
      "align_items": null,
      "align_self": null,
      "border": null,
      "bottom": null,
      "display": null,
      "flex": null,
      "flex_flow": null,
      "grid_area": null,
      "grid_auto_columns": null,
      "grid_auto_flow": null,
      "grid_auto_rows": null,
      "grid_column": null,
      "grid_gap": null,
      "grid_row": null,
      "grid_template_areas": null,
      "grid_template_columns": null,
      "grid_template_rows": null,
      "height": null,
      "justify_content": null,
      "justify_items": null,
      "left": null,
      "margin": null,
      "max_height": null,
      "max_width": null,
      "min_height": null,
      "min_width": null,
      "object_fit": null,
      "object_position": null,
      "order": null,
      "overflow": null,
      "overflow_x": null,
      "overflow_y": null,
      "padding": null,
      "right": null,
      "top": null,
      "visibility": null,
      "width": null
     }
    },
    "feed95d0dd8d4c4291fee64035ea4b53": {
     "model_module": "@jupyter-widgets/controls",
     "model_module_version": "1.5.0",
     "model_name": "FloatProgressModel",
     "state": {
      "_dom_classes": [],
      "_model_module": "@jupyter-widgets/controls",
      "_model_module_version": "1.5.0",
      "_model_name": "FloatProgressModel",
      "_view_count": null,
      "_view_module": "@jupyter-widgets/controls",
      "_view_module_version": "1.5.0",
      "_view_name": "ProgressView",
      "bar_style": "success",
      "description": "",
      "description_tooltip": null,
      "layout": "IPY_MODEL_8cadbe06597544a6a7135f866cca83c3",
      "max": 6785,
      "min": 0,
      "orientation": "horizontal",
      "style": "IPY_MODEL_231127cf6436412cb2a1fd49a728c44e",
      "value": 6785
     }
    }
   }
  }
 },
 "nbformat": 4,
 "nbformat_minor": 5
}
