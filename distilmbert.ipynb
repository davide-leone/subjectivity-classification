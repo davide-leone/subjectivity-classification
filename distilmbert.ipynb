{
 "cells": [
  {
   "cell_type": "markdown",
   "id": "aee7ec87-d449-43ab-838a-2867b9986036",
   "metadata": {
    "id": "aee7ec87-d449-43ab-838a-2867b9986036"
   },
   "source": [
    "# Task 1: Subjectivity in News Articles"
   ]
  },
  {
   "cell_type": "markdown",
   "id": "6e1fc62d-9b04-4147-b715-b5160a450172",
   "metadata": {
    "id": "6e1fc62d-9b04-4147-b715-b5160a450172"
   },
   "source": [
    "## Task Description"
   ]
  },
  {
   "cell_type": "markdown",
   "id": "be8d832e-c55d-4c4e-a915-3c4ffbf45527",
   "metadata": {
    "id": "be8d832e-c55d-4c4e-a915-3c4ffbf45527"
   },
   "source": [
    "Systems are challenged to distinguish whether a sentence from a news article expresses the subjective view of the author behind it or presents an objective view on the covered topic instead.\n",
    "This is a binary classification tasks in which systems have to identify whether a text sequence (a sentence or a paragraph) is subjective (SUBJ) or objective (OBJ).\n",
    "The task comprises three settings:\n",
    "\n",
    "* Monolingual: train and test on data in a given language L\n",
    "\n",
    "* Multilingual: train and test on data comprising several languages\n",
    "\n",
    "* Zero-shot: train on several languages and test on unseen languages\n",
    "\n",
    "### Contents of the Task 1 Directory\n",
    "\n",
    "* Main folder: data\n",
    "\n",
    "  Contains a subfolder for each language which contain the data as TSV format with .tsv extension (train_LANG.tsv, dev_LANG.tsv, dev_test_LANG.tsv, test_LANG.tsv). As LANG we used standard language code for each language.\n",
    "\n",
    "* Main folder: baseline\n",
    "\n",
    "  Contains a single file, baseline.py, used to train a baseline and provide predictions.\n",
    "\n",
    "* Main folder: scorer\n",
    "\n",
    "  Contains a single file, evaluate.py, that checks the format of a submission and evaluate the various metrics.\n",
    "\n",
    "### Input Data Format\n",
    "The data will be provided as a TSV file with three columns:\n",
    "\n",
    "    sentence_id  sentence  label\n",
    "\n",
    "Where:\n",
    "\n",
    "* sentence_id: sentence id for a given sentence in a news article\n",
    "\n",
    "* sentence: sentence's text\n",
    "\n",
    "* label: OBJ and SUBJ\n",
    "\n",
    "\n",
    "Examples:\n",
    "\n",
    "    b9e1635a-72aa-467f-86d6-f56ef09f62c3  Gone are the days when they led the world in recession-busting SUBJ\n",
    "    f99b5143-70d2-494a-a2f5-c68f10d09d0a  The trend is expected to reverse as soon as next month.  OBJ\n",
    "\n",
    "### Output Data Format\n",
    "The output must be a TSV format with two columns: sentence_id and label.\n",
    "\n",
    "### Evaluation Metrics\n",
    "This task is evaluated as a classification task. We will use the F1-macro measure for the ranking of teams.\n",
    "We will also measure Precision, Recall, and F1 of the SUBJ class and the macro-averaged scores.\n",
    "\n",
    "\n",
    "### Scorers\n",
    "To evaluate the output of your model which should be in the output format required, please run the script below:\n",
    "\n",
    "    python evaluate.py -g dev_truth.tsv -p dev_predicted.tsv\n",
    "\n",
    "where dev_predicted.tsv is the output of your model on the dev set, and dev_truth.tsv is the golden label file provided by us.\n",
    "The file can be used also to validate the format of the submission, simply use the provided test file as gold data.\n",
    "The evaluation will not be performed, but the format of your input will be checked.\n",
    "\n",
    "### Baselines\n",
    "The script to train the baseline is provided in the related directory.\n",
    "The script can be run as follow:\n",
    "\n",
    "    python baseline.py -trp train_data.tsv -ttp dev_data.tsv\n",
    "\n",
    "where train_data.tsv is the file to be used for training and dev_data.tsv is the file on which doing the prediction.\n",
    "The baseline is a logistic regressor trained on a Sentence-BERT multilingual representation of the data."
   ]
  },
  {
   "cell_type": "markdown",
   "id": "87e6f77f-93cb-4da1-b047-4b5d26a8ec84",
   "metadata": {
    "id": "87e6f77f-93cb-4da1-b047-4b5d26a8ec84"
   },
   "source": [
    "## Data Loading"
   ]
  },
  {
   "cell_type": "code",
   "execution_count": 1,
   "id": "z7Rmzm5IB6oC",
   "metadata": {
    "colab": {
     "base_uri": "https://localhost:8080/"
    },
    "id": "z7Rmzm5IB6oC",
    "outputId": "6679483f-e987-4b2b-fee2-00e16beb5966"
   },
   "outputs": [
    {
     "name": "stdout",
     "output_type": "stream",
     "text": [
      "Reading package lists... Done\n",
      "Building dependency tree... Done\n",
      "Reading state information... Done\n",
      "git-lfs is already the newest version (3.0.2-1ubuntu0.3).\n",
      "0 upgraded, 0 newly installed, 0 to remove and 35 not upgraded.\n"
     ]
    }
   ],
   "source": [
    "!apt-get install git-lfs -y"
   ]
  },
  {
   "cell_type": "code",
   "execution_count": 2,
   "id": "orAEyXZWB3uU",
   "metadata": {
    "colab": {
     "base_uri": "https://localhost:8080/"
    },
    "id": "orAEyXZWB3uU",
    "outputId": "76037ee2-9337-46fd-c2e5-70e84ac4378a"
   },
   "outputs": [
    {
     "name": "stdout",
     "output_type": "stream",
     "text": [
      "Cloning into 'clef2025-checkthat-lab'...\n",
      "remote: Enumerating objects: 862, done.\u001b[K\n",
      "remote: Counting objects: 100% (841/841), done.\u001b[K\n",
      "remote: Compressing objects: 100% (422/422), done.\u001b[K\n",
      "remote: Total 862 (delta 410), reused 831 (delta 406), pack-reused 21 (from 1)\u001b[K\n",
      "Receiving objects: 100% (862/862), 78.96 MiB | 12.04 MiB/s, done.\n",
      "Resolving deltas: 100% (414/414), done.\n",
      "Updating files: 100% (181/181), done.\n"
     ]
    }
   ],
   "source": [
    "!git clone https://gitlab.com/checkthat_lab/clef2025-checkthat-lab.git"
   ]
  },
  {
   "cell_type": "code",
   "execution_count": 3,
   "id": "f97e05a6-3fb6-48c8-840a-72b1984c30b8",
   "metadata": {
    "id": "f97e05a6-3fb6-48c8-840a-72b1984c30b8"
   },
   "outputs": [],
   "source": [
    "# !pip install pandas"
   ]
  },
  {
   "cell_type": "code",
   "execution_count": 4,
   "id": "JoxRrnoGB_NH",
   "metadata": {
    "id": "JoxRrnoGB_NH"
   },
   "outputs": [],
   "source": [
    "DATA_PATH = \"clef2025-checkthat-lab/task1/data\"\n",
    "SCORER_PATH = \"clef2025-checkthat-lab/task1/scorer\""
   ]
  },
  {
   "cell_type": "code",
   "execution_count": null,
   "id": "4a34a51f-8437-4472-b8a4-f645ce7ceca4",
   "metadata": {},
   "outputs": [],
   "source": [
    "DATA_PATH = \"data\"\n",
    "SCORER_PATH = \"scorer\""
   ]
  },
  {
   "cell_type": "code",
   "execution_count": 5,
   "id": "929c7d52-6438-4722-a13c-e6a46806b33a",
   "metadata": {
    "id": "929c7d52-6438-4722-a13c-e6a46806b33a"
   },
   "outputs": [],
   "source": [
    "import pandas as pd"
   ]
  },
  {
   "cell_type": "code",
   "execution_count": 6,
   "id": "a8f91dd1-a5de-4669-80b8-0af805e19297",
   "metadata": {
    "id": "a8f91dd1-a5de-4669-80b8-0af805e19297"
   },
   "outputs": [],
   "source": [
    "# ARABIC\n",
    "train_path = f'{DATA_PATH}/arabic/train_ar.tsv'\n",
    "dev_path = f'{DATA_PATH}/arabic/dev_ar.tsv'\n",
    "\n",
    "df_train_ar = pd.read_csv(train_path, sep='\\t')\n",
    "df_dev_ar = pd.read_csv(dev_path, sep='\\t')\n",
    "\n",
    "# BULGARIAN\n",
    "train_path = f'{DATA_PATH}/bulgarian/train_bg.tsv'\n",
    "dev_path = f'{DATA_PATH}/bulgarian/dev_bg.tsv'\n",
    "\n",
    "df_train_bg = pd.read_csv(train_path, sep='\\t')\n",
    "df_dev_bg = pd.read_csv(dev_path, sep='\\t')\n",
    "\n",
    "# ENGLISH\n",
    "train_path = f'{DATA_PATH}/english/train_en.tsv'\n",
    "dev_path = f'{DATA_PATH}/english/dev_en.tsv'\n",
    "\n",
    "df_train_en = pd.read_csv(train_path, sep='\\t')\n",
    "df_dev_en = pd.read_csv(dev_path, sep='\\t')\n",
    "\n",
    "# GERMAN\n",
    "train_path = f'{DATA_PATH}/german/train_de.tsv'\n",
    "dev_path = f'{DATA_PATH}/german/dev_de.tsv'\n",
    "\n",
    "df_train_de = pd.read_csv(train_path, sep='\\t')\n",
    "df_dev_de = pd.read_csv(dev_path, sep='\\t')\n",
    "\n",
    "# ITALIAN\n",
    "train_path = f'{DATA_PATH}/italian/train_it.tsv'\n",
    "dev_path = f'{DATA_PATH}/italian/dev_it.tsv'\n",
    "\n",
    "df_train_it = pd.read_csv(train_path, sep='\\t')\n",
    "df_dev_it = pd.read_csv(dev_path, sep='\\t')\n",
    "\n",
    "# MONOLINGUAL - TEST ON ENGLISH AND ITALIAN\n",
    "test_path = f'{DATA_PATH}/english/test_en_labeled.tsv'\n",
    "df_test_en = pd.read_csv(test_path, sep='\\t')\n",
    "\n",
    "test_path = f'{DATA_PATH}/italian/test_it_labeled.tsv'\n",
    "df_test_it = pd.read_csv(test_path, sep='\\t')\n",
    "\n",
    "# MULTILINGUAL - TEST ON ARABIC, BULGARIAN, ENGLISH, GERMAN AND ITALIAN\n",
    "test_path = f'{DATA_PATH}/multilingual/test_multilingual_labeled.tsv'\n",
    "\n",
    "df_test_multi = pd.read_csv(test_path, sep='\\t')\n",
    "\n",
    "# ZERO-SHOT - TEST ON GREEK, POLISH, ROMANIAN AND UKRAINIAN\n",
    "test_path = f'{DATA_PATH}/greek/test_gr_labeled.tsv'\n",
    "df_test_gr = pd.read_csv(test_path, sep='\\t')\n",
    "\n",
    "test_path = f'{DATA_PATH}/polish/test_pol_labeled.tsv'\n",
    "df_test_pol = pd.read_csv(test_path, sep='\\t')\n",
    "\n",
    "test_path = f'{DATA_PATH}/romanian/test_ro_labeled.tsv'\n",
    "df_test_ro = pd.read_csv(test_path, sep='\\t')\n",
    "\n",
    "test_path = f'{DATA_PATH}/ukrainian/test_ukr_labeled.tsv'\n",
    "df_test_ukr = pd.read_csv(test_path, sep='\\t')"
   ]
  },
  {
   "cell_type": "code",
   "execution_count": 7,
   "id": "956e8470-1242-423a-9cb6-da57c6b80efb",
   "metadata": {
    "colab": {
     "base_uri": "https://localhost:8080/"
    },
    "id": "956e8470-1242-423a-9cb6-da57c6b80efb",
    "outputId": "2f3fdfcf-8e83-4f23-c8d8-f4c3b07f690a"
   },
   "outputs": [
    {
     "name": "stderr",
     "output_type": "stream",
     "text": [
      "<ipython-input-7-42071ef08fce>:12: SettingWithCopyWarning: \n",
      "A value is trying to be set on a copy of a slice from a DataFrame.\n",
      "Try using .loc[row_indexer,col_indexer] = value instead\n",
      "\n",
      "See the caveats in the documentation: https://pandas.pydata.org/pandas-docs/stable/user_guide/indexing.html#returning-a-view-versus-a-copy\n",
      "  df_train_en['label'] = df_train_en['label'].map({'OBJ': 1, 'SUBJ': 0})\n",
      "<ipython-input-7-42071ef08fce>:13: SettingWithCopyWarning: \n",
      "A value is trying to be set on a copy of a slice from a DataFrame.\n",
      "Try using .loc[row_indexer,col_indexer] = value instead\n",
      "\n",
      "See the caveats in the documentation: https://pandas.pydata.org/pandas-docs/stable/user_guide/indexing.html#returning-a-view-versus-a-copy\n",
      "  df_dev_en['label'] = df_dev_en['label'].map({'OBJ': 1, 'SUBJ': 0})\n"
     ]
    }
   ],
   "source": [
    "# Keep only the required columns\n",
    "df_train_en = df_train_en[['sentence_id', 'sentence', 'label']]\n",
    "df_dev_en = df_dev_en[['sentence_id', 'sentence', 'label']]\n",
    "\n",
    "# Encode labels: OBJ -> 1, SUBJ -> 0\n",
    "df_train_ar['label'] = df_train_ar['label'].map({'OBJ': 1, 'SUBJ': 0})\n",
    "df_dev_ar['label'] = df_dev_ar['label'].map({'OBJ': 1, 'SUBJ': 0})\n",
    "\n",
    "df_train_bg['label'] = df_train_bg['label'].map({'OBJ': 1, 'SUBJ': 0})\n",
    "df_dev_bg['label'] = df_dev_bg['label'].map({'OBJ': 1, 'SUBJ': 0})\n",
    "\n",
    "df_train_en['label'] = df_train_en['label'].map({'OBJ': 1, 'SUBJ': 0})\n",
    "df_dev_en['label'] = df_dev_en['label'].map({'OBJ': 1, 'SUBJ': 0})\n",
    "df_test_en['label'] = df_test_en['label'].map({'OBJ': 1, 'SUBJ': 0})\n",
    "\n",
    "df_train_de['label'] = df_train_de['label'].map({'OBJ': 1, 'SUBJ': 0})\n",
    "df_dev_de['label'] = df_dev_de['label'].map({'OBJ': 1, 'SUBJ': 0})\n",
    "\n",
    "df_train_it['label'] = df_train_it['label'].map({'OBJ': 1, 'SUBJ': 0})\n",
    "df_dev_it['label'] = df_dev_it['label'].map({'OBJ': 1, 'SUBJ': 0})\n",
    "df_test_it['label'] = df_test_it['label'].map({'OBJ': 1, 'SUBJ': 0})\n",
    "\n",
    "df_test_multi['label'] = df_test_multi['label'].map({'OBJ': 1, 'SUBJ': 0})\n",
    "\n",
    "df_test_gr['label'] = df_test_gr['label'].map({'OBJ': 1, 'SUBJ': 0})\n",
    "\n",
    "df_test_pol['label'] = df_test_pol['label'].map({'OBJ': 1, 'SUBJ': 0})\n",
    "\n",
    "df_test_ro['label'] = df_test_ro['label'].map({'OBJ': 1, 'SUBJ': 0})\n",
    "\n",
    "df_test_ukr['label'] = df_test_ukr['label'].map({'OBJ': 1, 'SUBJ': 0})"
   ]
  },
  {
   "cell_type": "code",
   "execution_count": 8,
   "id": "48d593e4-7aa1-4264-ae2f-270116f8571a",
   "metadata": {
    "id": "48d593e4-7aa1-4264-ae2f-270116f8571a"
   },
   "outputs": [],
   "source": [
    "def print_shape(df1, df2, df3):\n",
    "    \"\"\"\n",
    "    Utility function to print the shape of the three dataframes\n",
    "    \"\"\"\n",
    "    if df1 is not None:\n",
    "        print(\"Train dataframe:    {} rows and {} columns\".format(df1.shape[0], df1.shape[1]))\n",
    "    if df2 is not None:\n",
    "        print(\"Dev dataframe:       {} rows and {} columns\".format(df2.shape[0], df2.shape[1]))\n",
    "    if df3 is not None:\n",
    "        print(\"Test dataframe:      {} rows and {} columns\".format(df3.shape[0], df3.shape[1]))\n",
    "    print(\"--------------------------------------------\")"
   ]
  },
  {
   "cell_type": "code",
   "execution_count": 9,
   "id": "5b86540b-c9c2-4e64-81ac-28b65a2b592b",
   "metadata": {
    "colab": {
     "base_uri": "https://localhost:8080/"
    },
    "id": "5b86540b-c9c2-4e64-81ac-28b65a2b592b",
    "outputId": "ccd4d6d2-d421-4f8b-e2b1-69b7db3c1e0e"
   },
   "outputs": [
    {
     "name": "stdout",
     "output_type": "stream",
     "text": [
      "ARABIC\n",
      "Train dataframe:    2446 rows and 3 columns\n",
      "Dev dataframe:       467 rows and 3 columns\n",
      "--------------------------------------------\n",
      "BULGARIAN\n",
      "Train dataframe:    691 rows and 3 columns\n",
      "Dev dataframe:       306 rows and 3 columns\n",
      "--------------------------------------------\n",
      "ENGLISH\n",
      "Train dataframe:    830 rows and 3 columns\n",
      "Dev dataframe:       462 rows and 3 columns\n",
      "Test dataframe:      300 rows and 3 columns\n",
      "--------------------------------------------\n",
      "GERMAN\n",
      "Train dataframe:    800 rows and 3 columns\n",
      "Dev dataframe:       491 rows and 3 columns\n",
      "--------------------------------------------\n",
      "ITALIAN\n",
      "Train dataframe:    1613 rows and 3 columns\n",
      "Dev dataframe:       667 rows and 3 columns\n",
      "Test dataframe:      299 rows and 3 columns\n",
      "--------------------------------------------\n",
      "MULTILINGUAL\n",
      "Test dataframe:      1982 rows and 3 columns\n",
      "--------------------------------------------\n",
      "GREEK\n",
      "Test dataframe:      284 rows and 3 columns\n",
      "--------------------------------------------\n",
      "POLISH\n",
      "Test dataframe:      351 rows and 3 columns\n",
      "--------------------------------------------\n",
      "ROMANIAN\n",
      "Test dataframe:      206 rows and 3 columns\n",
      "--------------------------------------------\n",
      "UKRAINIAN\n",
      "Test dataframe:      297 rows and 3 columns\n",
      "--------------------------------------------\n"
     ]
    }
   ],
   "source": [
    "print(\"ARABIC\")\n",
    "print_shape(df_train_ar, df_dev_ar, None)\n",
    "print(\"BULGARIAN\")\n",
    "print_shape(df_train_bg, df_dev_bg, None)\n",
    "print(\"ENGLISH\")\n",
    "print_shape(df_train_en, df_dev_en, df_test_en)\n",
    "print(\"GERMAN\")\n",
    "print_shape(df_train_de, df_dev_de, None)\n",
    "print(\"ITALIAN\")\n",
    "print_shape(df_train_it, df_dev_it, df_test_it)\n",
    "print(\"MULTILINGUAL\")\n",
    "print_shape(None, None, df_test_multi)\n",
    "print(\"GREEK\")\n",
    "print_shape(None, None, df_test_gr)\n",
    "print(\"POLISH\")\n",
    "print_shape(None, None, df_test_pol)\n",
    "print(\"ROMANIAN\")\n",
    "print_shape(None, None, df_test_ro)\n",
    "print(\"UKRAINIAN\")\n",
    "print_shape(None, None, df_test_ukr)"
   ]
  },
  {
   "cell_type": "code",
   "execution_count": 10,
   "id": "8ebff4fe-418f-4c84-b600-4726fde0082e",
   "metadata": {
    "id": "8ebff4fe-418f-4c84-b600-4726fde0082e"
   },
   "outputs": [],
   "source": [
    "# Keep the original sentence for error analysis\n",
    "original_sentence_en = df_test_en[\"sentence\"]\n",
    "# Keep the original sentence for error analysis\n",
    "original_sentence_it = df_test_it[\"sentence\"]"
   ]
  },
  {
   "cell_type": "markdown",
   "id": "iUFKhQyuL-IQ",
   "metadata": {
    "id": "iUFKhQyuL-IQ"
   },
   "source": [
    "### Utils"
   ]
  },
  {
   "cell_type": "code",
   "execution_count": 11,
   "id": "d02eb092-62f5-4fd4-b741-ae9d112175f5",
   "metadata": {
    "id": "d02eb092-62f5-4fd4-b741-ae9d112175f5"
   },
   "outputs": [],
   "source": [
    "def plot_confusion_matrix(model, results):\n",
    "    cm = confusion_matrix(results[\"true_label\"], results[\"predicted_label\"], labels=[0, 1])\n",
    "    cmd = ConfusionMatrixDisplay(cm, display_labels=[\"Subjective\", \"Objective\"])\n",
    "    cmd.plot(cmap=\"Blues\")\n",
    "    plt.xlabel('Predicted Label', fontsize=18, labelpad=14)\n",
    "    plt.ylabel('True Label', fontsize=18, labelpad=14)\n",
    "    plt.xticks(fontsize=14)\n",
    "    plt.yticks(fontsize=14)\n",
    "#    plt.title(f\"{model}: Confusion Matrix\")\n",
    "#    plt.savefig(f\"outputs/cm_{model}.png\", bbox_inches='tight')\n",
    "    plt.show()\n",
    "\n",
    "    cm = confusion_matrix(results[\"true_label\"], results[\"predicted_label\"], labels=[0, 1], normalize='all')\n",
    "    cmd = ConfusionMatrixDisplay(cm, display_labels=[\"Subjective\", \"Objective\"])\n",
    "    cmd.plot(cmap=\"Blues\")\n",
    "    plt.xlabel('Predicted Label', fontsize=18, labelpad=14)\n",
    "    plt.ylabel('True Label', fontsize=18, labelpad=14)\n",
    "    plt.xticks(fontsize=14)\n",
    "    plt.yticks(fontsize=14)\n",
    "#    plt.title(f\"{model}: Normalized Confusion Matrix\")\n",
    "#    plt.savefig(f\"outputs/cm_{model}_norm.png\", bbox_inches='tight')\n",
    "    plt.show()\n",
    "\n",
    "def plot_precision_recall_curve(model, precision, recall, average_precision):\n",
    "    # Plot the Precision-Recall curve\n",
    "    plt.figure()\n",
    "    plt.step(recall, precision, color='b', alpha=0.2, where='post')\n",
    "    plt.fill_between(recall, precision, step='post', alpha=0.2, color='b')\n",
    "    plt.xlabel('Recall')\n",
    "    plt.ylabel('Precision')\n",
    "    plt.title(f'{model}: Precision-Recall Curve (AP = {average_precision:.2f})')\n",
    "    # plt.savefig(f\"outputs/pr_curve_{model}.png\")\n",
    "    plt.show()"
   ]
  },
  {
   "cell_type": "markdown",
   "id": "dd247422-f7b5-4c36-9902-1ffa63e0bae7",
   "metadata": {
    "id": "dd247422-f7b5-4c36-9902-1ffa63e0bae7"
   },
   "source": [
    "## Solution 1: Transformer"
   ]
  },
  {
   "cell_type": "markdown",
   "id": "e0eae923-21b7-433d-8c09-2e793f56d30c",
   "metadata": {
    "id": "e0eae923-21b7-433d-8c09-2e793f56d30c"
   },
   "source": [
    "### Utils"
   ]
  },
  {
   "cell_type": "code",
   "execution_count": 12,
   "id": "3baf96a5-d69c-49a5-8149-479312910895",
   "metadata": {
    "colab": {
     "base_uri": "https://localhost:8080/"
    },
    "id": "3baf96a5-d69c-49a5-8149-479312910895",
    "outputId": "aa89d7df-3ca9-45a7-cf7a-f7f3bb7e0852"
   },
   "outputs": [
    {
     "name": "stdout",
     "output_type": "stream",
     "text": [
      "Collecting evaluate\n",
      "  Downloading evaluate-0.4.3-py3-none-any.whl.metadata (9.2 kB)\n",
      "Requirement already satisfied: datasets>=2.0.0 in /usr/local/lib/python3.11/dist-packages (from evaluate) (2.14.4)\n",
      "Requirement already satisfied: numpy>=1.17 in /usr/local/lib/python3.11/dist-packages (from evaluate) (2.0.2)\n",
      "Requirement already satisfied: dill in /usr/local/lib/python3.11/dist-packages (from evaluate) (0.3.7)\n",
      "Requirement already satisfied: pandas in /usr/local/lib/python3.11/dist-packages (from evaluate) (2.2.2)\n",
      "Requirement already satisfied: requests>=2.19.0 in /usr/local/lib/python3.11/dist-packages (from evaluate) (2.32.3)\n",
      "Requirement already satisfied: tqdm>=4.62.1 in /usr/local/lib/python3.11/dist-packages (from evaluate) (4.67.1)\n",
      "Requirement already satisfied: xxhash in /usr/local/lib/python3.11/dist-packages (from evaluate) (3.5.0)\n",
      "Requirement already satisfied: multiprocess in /usr/local/lib/python3.11/dist-packages (from evaluate) (0.70.15)\n",
      "Requirement already satisfied: fsspec>=2021.05.0 in /usr/local/lib/python3.11/dist-packages (from fsspec[http]>=2021.05.0->evaluate) (2025.3.2)\n",
      "Requirement already satisfied: huggingface-hub>=0.7.0 in /usr/local/lib/python3.11/dist-packages (from evaluate) (0.31.4)\n",
      "Requirement already satisfied: packaging in /usr/local/lib/python3.11/dist-packages (from evaluate) (24.2)\n",
      "Requirement already satisfied: pyarrow>=8.0.0 in /usr/local/lib/python3.11/dist-packages (from datasets>=2.0.0->evaluate) (18.1.0)\n",
      "Requirement already satisfied: aiohttp in /usr/local/lib/python3.11/dist-packages (from datasets>=2.0.0->evaluate) (3.11.15)\n",
      "Requirement already satisfied: pyyaml>=5.1 in /usr/local/lib/python3.11/dist-packages (from datasets>=2.0.0->evaluate) (6.0.2)\n",
      "Requirement already satisfied: filelock in /usr/local/lib/python3.11/dist-packages (from huggingface-hub>=0.7.0->evaluate) (3.18.0)\n",
      "Requirement already satisfied: typing-extensions>=3.7.4.3 in /usr/local/lib/python3.11/dist-packages (from huggingface-hub>=0.7.0->evaluate) (4.13.2)\n",
      "Requirement already satisfied: charset-normalizer<4,>=2 in /usr/local/lib/python3.11/dist-packages (from requests>=2.19.0->evaluate) (3.4.2)\n",
      "Requirement already satisfied: idna<4,>=2.5 in /usr/local/lib/python3.11/dist-packages (from requests>=2.19.0->evaluate) (3.10)\n",
      "Requirement already satisfied: urllib3<3,>=1.21.1 in /usr/local/lib/python3.11/dist-packages (from requests>=2.19.0->evaluate) (2.4.0)\n",
      "Requirement already satisfied: certifi>=2017.4.17 in /usr/local/lib/python3.11/dist-packages (from requests>=2.19.0->evaluate) (2025.4.26)\n",
      "Requirement already satisfied: python-dateutil>=2.8.2 in /usr/local/lib/python3.11/dist-packages (from pandas->evaluate) (2.9.0.post0)\n",
      "Requirement already satisfied: pytz>=2020.1 in /usr/local/lib/python3.11/dist-packages (from pandas->evaluate) (2025.2)\n",
      "Requirement already satisfied: tzdata>=2022.7 in /usr/local/lib/python3.11/dist-packages (from pandas->evaluate) (2025.2)\n",
      "Requirement already satisfied: aiohappyeyeballs>=2.3.0 in /usr/local/lib/python3.11/dist-packages (from aiohttp->datasets>=2.0.0->evaluate) (2.6.1)\n",
      "Requirement already satisfied: aiosignal>=1.1.2 in /usr/local/lib/python3.11/dist-packages (from aiohttp->datasets>=2.0.0->evaluate) (1.3.2)\n",
      "Requirement already satisfied: attrs>=17.3.0 in /usr/local/lib/python3.11/dist-packages (from aiohttp->datasets>=2.0.0->evaluate) (25.3.0)\n",
      "Requirement already satisfied: frozenlist>=1.1.1 in /usr/local/lib/python3.11/dist-packages (from aiohttp->datasets>=2.0.0->evaluate) (1.6.0)\n",
      "Requirement already satisfied: multidict<7.0,>=4.5 in /usr/local/lib/python3.11/dist-packages (from aiohttp->datasets>=2.0.0->evaluate) (6.4.4)\n",
      "Requirement already satisfied: propcache>=0.2.0 in /usr/local/lib/python3.11/dist-packages (from aiohttp->datasets>=2.0.0->evaluate) (0.3.1)\n",
      "Requirement already satisfied: yarl<2.0,>=1.17.0 in /usr/local/lib/python3.11/dist-packages (from aiohttp->datasets>=2.0.0->evaluate) (1.20.0)\n",
      "Requirement already satisfied: six>=1.5 in /usr/local/lib/python3.11/dist-packages (from python-dateutil>=2.8.2->pandas->evaluate) (1.17.0)\n",
      "Downloading evaluate-0.4.3-py3-none-any.whl (84 kB)\n",
      "\u001b[2K   \u001b[90m━━━━━━━━━━━━━━━━━━━━━━━━━━━━━━━━━━━━━━━━\u001b[0m \u001b[32m84.0/84.0 kB\u001b[0m \u001b[31m4.3 MB/s\u001b[0m eta \u001b[36m0:00:00\u001b[0m\n",
      "\u001b[?25hInstalling collected packages: evaluate\n",
      "Successfully installed evaluate-0.4.3\n"
     ]
    }
   ],
   "source": [
    "# !pip install transformers\n",
    "# !pip install datasets\n",
    "# !pip install accelerate -U\n",
    "!pip install evaluate\n",
    "# !pip install bitsandbytes\n",
    "# !pip install tf-keras\n",
    "# !pip install sentencepiece\n",
    "# !pip install sentence_transformers"
   ]
  },
  {
   "cell_type": "code",
   "execution_count": 13,
   "id": "af16334d-c3f6-4e63-b4fd-14e54934ea68",
   "metadata": {
    "id": "af16334d-c3f6-4e63-b4fd-14e54934ea68"
   },
   "outputs": [],
   "source": [
    "import evaluate\n",
    "import matplotlib.pyplot as plt\n",
    "import numpy as np\n",
    "import os\n",
    "import seaborn as sns\n",
    "import shutil\n",
    "import torch\n",
    "\n",
    "from datasets import Dataset\n",
    "from transformers import (\n",
    "    AutoTokenizer,\n",
    "    AutoModelForSequenceClassification,\n",
    "    Trainer,\n",
    "    TrainingArguments,\n",
    "    DataCollatorWithPadding\n",
    ")\n",
    "from sklearn.metrics import classification_report\n",
    "from sklearn.metrics import confusion_matrix, ConfusionMatrixDisplay\n",
    "from sklearn.metrics import precision_recall_curve, average_precision_score, auc"
   ]
  },
  {
   "cell_type": "code",
   "execution_count": 14,
   "id": "6b6b1d5f-7aad-449e-b794-5a5843b4ba4c",
   "metadata": {
    "colab": {
     "base_uri": "https://localhost:8080/",
     "height": 173,
     "referenced_widgets": [
      "c245fa11a9e647a89ef64aaa203d06d6",
      "f1f8d335417c48cda06b824566fb9e6b",
      "fcc325b56ad947aa8ec39ef771ec5593",
      "fc167b067ef247ab8cf66a09ecc8a6ee",
      "0288d9ef38dd4d598aaa4ce9d572e9b2",
      "9e3031cef9244699b769c52d913c0414",
      "e42f8558c3f7438f9c3fd6b1fe53f23d",
      "c27a377f33c14d498fe0cc40a2e3a80f",
      "8a875ca608a747468d006a9629af8179",
      "41f78634806b4c22af7c2ba5e9a71579",
      "99365f3ca008464eb08d839f49156354"
     ]
    },
    "id": "6b6b1d5f-7aad-449e-b794-5a5843b4ba4c",
    "outputId": "c824846d-7b32-43f8-cc0b-19f37d686a43"
   },
   "outputs": [
    {
     "name": "stderr",
     "output_type": "stream",
     "text": [
      "/usr/local/lib/python3.11/dist-packages/huggingface_hub/utils/_auth.py:94: UserWarning: \n",
      "The secret `HF_TOKEN` does not exist in your Colab secrets.\n",
      "To authenticate with the Hugging Face Hub, create a token in your settings tab (https://huggingface.co/settings/tokens), set it as secret in your Google Colab and restart your session.\n",
      "You will be able to reuse this secret in all of your notebooks.\n",
      "Please note that authentication is recommended but still optional to access public models or datasets.\n",
      "  warnings.warn(\n"
     ]
    },
    {
     "data": {
      "application/vnd.jupyter.widget-view+json": {
       "model_id": "c245fa11a9e647a89ef64aaa203d06d6",
       "version_major": 2,
       "version_minor": 0
      },
      "text/plain": [
       "Downloading builder script:   0%|          | 0.00/6.79k [00:00<?, ?B/s]"
      ]
     },
     "metadata": {},
     "output_type": "display_data"
    }
   ],
   "source": [
    "def preprocess_function(examples):\n",
    "    return tokenizer(examples[\"sentence\"], truncation=True, padding=True)\n",
    "\n",
    "# Metrics\n",
    "f1_metric = evaluate.load(\"f1\")\n",
    "def compute_metrics(eval_pred):\n",
    "    logits, labels = eval_pred\n",
    "    preds = np.argmax(logits, axis=-1)\n",
    "    result = f1_metric.compute(predictions=preds, references=labels, average=\"macro\")\n",
    "    return {\"f1_macro\": result[\"f1\"]}"
   ]
  },
  {
   "cell_type": "code",
   "execution_count": 15,
   "id": "bWDeOVb3_Yya",
   "metadata": {
    "colab": {
     "base_uri": "https://localhost:8080/"
    },
    "id": "bWDeOVb3_Yya",
    "outputId": "69ed4366-2c1d-4f52-9506-bbf74c52f13d"
   },
   "outputs": [
    {
     "name": "stdout",
     "output_type": "stream",
     "text": [
      "GPU is available: Tesla T4\n"
     ]
    }
   ],
   "source": [
    "import torch\n",
    "\n",
    "if torch.cuda.is_available():\n",
    "    print(f\"GPU is available: {torch.cuda.get_device_name(0)}\")\n",
    "else:\n",
    "    print(\"GPU not available.\")"
   ]
  },
  {
   "cell_type": "markdown",
   "id": "82806704-06b2-4141-8544-b080e8245e3c",
   "metadata": {
    "id": "82806704-06b2-4141-8544-b080e8245e3c"
   },
   "source": [
    "### Monolingual"
   ]
  },
  {
   "cell_type": "markdown",
   "id": "04e18a9d-1ccf-4dd8-9b7f-6d9cfadd2c19",
   "metadata": {
    "id": "04e18a9d-1ccf-4dd8-9b7f-6d9cfadd2c19"
   },
   "source": [
    "#### English"
   ]
  },
  {
   "cell_type": "code",
   "execution_count": 16,
   "id": "1cc0b29d-b4e8-43b5-94c3-7f39503c6c9a",
   "metadata": {
    "id": "1cc0b29d-b4e8-43b5-94c3-7f39503c6c9a"
   },
   "outputs": [],
   "source": [
    "dataset_train = Dataset.from_pandas(df_train_en)\n",
    "dataset_val = Dataset.from_pandas(df_dev_en)\n",
    "dataset_test = Dataset.from_pandas(df_test_en)"
   ]
  },
  {
   "cell_type": "code",
   "execution_count": 17,
   "id": "198a117a-6127-458a-b509-33c82aef076d",
   "metadata": {
    "colab": {
     "base_uri": "https://localhost:8080/",
     "height": 241,
     "referenced_widgets": [
      "35aa6eba74dd4b2e8a4d0bd1c41d3e4b",
      "9e9bacb4662d4f2eb514b44995b8d1d9",
      "e4ce3c7b95c445d3978edaf5a6714faa",
      "f00ecb8df9a44a949e34cbba0348c166",
      "946d111939c04c62a897b27fdfd828ff",
      "dd6d4ac82b61430f80ff47461035db49",
      "f29e1d719e7f45e684b9956f1886dfd5",
      "cf8bab278b5747bd96f680c756fa50b9",
      "d52e491a0b1048878cc7101cb3848d77",
      "cc95a555611e408ebe76342609a44fe4",
      "4e4df20bcde143e0b138723da511bd5b",
      "702149ee3909457b8ce4a47b82f7080b",
      "a99a70f7b7c74ee3941e591b95737d07",
      "6f0f34c77c754b87ab87ed0ea0d63ebc",
      "8b3aab31a0bb4bc4bdd2ea87e05d3dee",
      "eeb91dfcf0e14fe4ac58f2ecafdb39d3",
      "71f6598a46214c80b8c7ec3fbe59c2cd",
      "dcb0a5d2af4644cabb187a8734f5d976",
      "98a8e8cd9a844ab99e4b732553566e30",
      "397fcb88a30947b99efd52ab91c10e64",
      "838bf5cf6cf94c919ece23fc19a1e67e",
      "f2ab2e6483e44cb194a9c5f1e798d765",
      "cd3afefc92db49b39f6d3c7aa6f6a5d0",
      "b410578c22914de1884e75b83e11d662",
      "5520d1d5b8d645d7905002abe4e8843d",
      "f4c627b240cd44c9ac763773ab22db5c",
      "f85c5a29aa864e89ab0ceaf0f13804c2",
      "84a06ae0404945029b55232f947ff26e",
      "0058effdf457459a81511b71e8d46d41",
      "ddaefb468a24458888c43f688991bcee",
      "2cf63830be0e41d5b3185755fdb256b2",
      "fe208a748c2d4b8f8a02d67812485f31",
      "76cfe1c8f85c4ac9ad80a6dffed825b0",
      "2c744b66b40441379c9dca6994c04774",
      "41b5393ae64a4b538f708be6c77009e1",
      "2f955992ecce45b3ace04185594aa97b",
      "d012a2875e6a4815a02ea110858b7b09",
      "3dead54d88864998badc8cc4fdfcd0e0",
      "82dbe0d435a04d4f99fc7a6725b4b08d",
      "849d142812e7413e90fe885c41612288",
      "ff496238237340c2a42e1d329983dfc4",
      "077def9213174f1495e7b50e45af9fc5",
      "f7318637c92545b5a5720c144bbb808f",
      "9194856c0859425c882e5ceeb66b5f75",
      "b5bb875654e84ff696ca05d14d36e823",
      "c7b4cc234b08450db13dac08984a43c6",
      "cd01e307d1cc44a3a562c567a6448564",
      "ff238001caf14315a875987b799c78de",
      "eb785ed5e17e48488601ee5a82d114cb",
      "b3ed484bf6964a08887d11e3cd9774d0",
      "a566a8fdb847417185ce2c8e102d71bf",
      "3bab9a09763c4293b4718a24e5f9ebdf",
      "337990a984d04047ab1019f359785601",
      "ed5d00a360d944cdbdc86daf5f8439e8",
      "643cdaf7be8f4f0b9f628976cb1b8d89",
      "f85085c4157244a8956424444455a76c",
      "f8e6d941d83d49ae8064a8cab24546a8",
      "5a8035223106430c963d952b8c240701",
      "fe8f1e5f531f407f8a75f411918a7c2a",
      "956a3f4b0fe54906bbbba22e4631aa0a",
      "293af5555fbf45819c48946d2f4bd3b8",
      "29f17fb6755f465f9c65a5e2539b269d",
      "9db163ba4a9f49a78f8ee7277d2d5e20",
      "7dc678244a7041a4a1f2b43e6638b357",
      "9334654d7580478ba058fb0d6a0ede41",
      "935c89f7300e41a79ba003daf306c17a",
      "8fed714ed1ee49048827c3c41dee43a9",
      "887eaddaa0b548cead3ee673935757cb",
      "4c171e8752744fb4bf068ad2d52269f5",
      "653bee3110104812af937233ce5796e5",
      "049d5414303e4f53bc38b015322a760d",
      "1f995c9179c749a4a027f6213450fefc",
      "5e570567ba1349328c8f7299d1d668e6",
      "aeb7c6f8484e49638c082e21ce1ffc8d",
      "6fda3c6f76ef4db5a25a2f04bb61b3a7",
      "bb8ca3374f0a43ea8a202bcf72c473f1",
      "c4937334115b4d02892eec29cac80b8e"
     ]
    },
    "id": "198a117a-6127-458a-b509-33c82aef076d",
    "outputId": "f64a42dc-a120-44bb-8872-b37d57537ea6"
   },
   "outputs": [
    {
     "data": {
      "application/vnd.jupyter.widget-view+json": {
       "model_id": "35aa6eba74dd4b2e8a4d0bd1c41d3e4b",
       "version_major": 2,
       "version_minor": 0
      },
      "text/plain": [
       "tokenizer_config.json:   0%|          | 0.00/49.0 [00:00<?, ?B/s]"
      ]
     },
     "metadata": {},
     "output_type": "display_data"
    },
    {
     "data": {
      "application/vnd.jupyter.widget-view+json": {
       "model_id": "702149ee3909457b8ce4a47b82f7080b",
       "version_major": 2,
       "version_minor": 0
      },
      "text/plain": [
       "config.json:   0%|          | 0.00/466 [00:00<?, ?B/s]"
      ]
     },
     "metadata": {},
     "output_type": "display_data"
    },
    {
     "data": {
      "application/vnd.jupyter.widget-view+json": {
       "model_id": "cd3afefc92db49b39f6d3c7aa6f6a5d0",
       "version_major": 2,
       "version_minor": 0
      },
      "text/plain": [
       "vocab.txt:   0%|          | 0.00/996k [00:00<?, ?B/s]"
      ]
     },
     "metadata": {},
     "output_type": "display_data"
    },
    {
     "data": {
      "application/vnd.jupyter.widget-view+json": {
       "model_id": "2c744b66b40441379c9dca6994c04774",
       "version_major": 2,
       "version_minor": 0
      },
      "text/plain": [
       "tokenizer.json:   0%|          | 0.00/1.96M [00:00<?, ?B/s]"
      ]
     },
     "metadata": {},
     "output_type": "display_data"
    },
    {
     "data": {
      "application/vnd.jupyter.widget-view+json": {
       "model_id": "b5bb875654e84ff696ca05d14d36e823",
       "version_major": 2,
       "version_minor": 0
      },
      "text/plain": [
       "Map:   0%|          | 0/830 [00:00<?, ? examples/s]"
      ]
     },
     "metadata": {},
     "output_type": "display_data"
    },
    {
     "data": {
      "application/vnd.jupyter.widget-view+json": {
       "model_id": "f85085c4157244a8956424444455a76c",
       "version_major": 2,
       "version_minor": 0
      },
      "text/plain": [
       "Map:   0%|          | 0/462 [00:00<?, ? examples/s]"
      ]
     },
     "metadata": {},
     "output_type": "display_data"
    },
    {
     "data": {
      "application/vnd.jupyter.widget-view+json": {
       "model_id": "8fed714ed1ee49048827c3c41dee43a9",
       "version_major": 2,
       "version_minor": 0
      },
      "text/plain": [
       "Map:   0%|          | 0/300 [00:00<?, ? examples/s]"
      ]
     },
     "metadata": {},
     "output_type": "display_data"
    }
   ],
   "source": [
    "# Load tokenizer\n",
    "tokenizer = AutoTokenizer.from_pretrained(\"distilbert-base-multilingual-cased\")\n",
    "\n",
    "tokenized_train = dataset_train.map(preprocess_function, batched=True)\n",
    "tokenized_val = dataset_val.map(preprocess_function, batched=True)\n",
    "tokenized_test = dataset_test.map(preprocess_function, batched=True)"
   ]
  },
  {
   "cell_type": "code",
   "execution_count": 18,
   "id": "d39472c2-a8f2-4493-b815-f360616fa2d5",
   "metadata": {
    "colab": {
     "base_uri": "https://localhost:8080/",
     "height": 138,
     "referenced_widgets": [
      "51659342d06d4a78a3faeed263eb3e8a",
      "dfa224a289844c19a47900de6af51c0c",
      "df35b55370a24405af447dcdda74322b",
      "2d6ac5eb6c354be0bda26b90c38df9e5",
      "b7d33ffcf2294043ad725004f0416154",
      "2614a607bcab413198583c91cce20654",
      "e37b64f751d64fd6baf1395d5ef424a7",
      "dd241b749e6947459e309756532a1d0d",
      "56f9f47e441d45908e7c21d3989209e2",
      "72d06f574231404ea8d3cd5761f64a55",
      "6feb09320a7b42f6a421985b01cc3b52"
     ]
    },
    "id": "d39472c2-a8f2-4493-b815-f360616fa2d5",
    "outputId": "7b4c9b2b-c594-4daf-eaca-0dc58281ca1e"
   },
   "outputs": [
    {
     "name": "stderr",
     "output_type": "stream",
     "text": [
      "Xet Storage is enabled for this repo, but the 'hf_xet' package is not installed. Falling back to regular HTTP download. For better performance, install the package with: `pip install huggingface_hub[hf_xet]` or `pip install hf_xet`\n",
      "WARNING:huggingface_hub.file_download:Xet Storage is enabled for this repo, but the 'hf_xet' package is not installed. Falling back to regular HTTP download. For better performance, install the package with: `pip install huggingface_hub[hf_xet]` or `pip install hf_xet`\n"
     ]
    },
    {
     "data": {
      "application/vnd.jupyter.widget-view+json": {
       "model_id": "51659342d06d4a78a3faeed263eb3e8a",
       "version_major": 2,
       "version_minor": 0
      },
      "text/plain": [
       "model.safetensors:   0%|          | 0.00/542M [00:00<?, ?B/s]"
      ]
     },
     "metadata": {},
     "output_type": "display_data"
    },
    {
     "name": "stderr",
     "output_type": "stream",
     "text": [
      "Some weights of DistilBertForSequenceClassification were not initialized from the model checkpoint at distilbert-base-multilingual-cased and are newly initialized: ['classifier.bias', 'classifier.weight', 'pre_classifier.bias', 'pre_classifier.weight']\n",
      "You should probably TRAIN this model on a down-stream task to be able to use it for predictions and inference.\n"
     ]
    }
   ],
   "source": [
    "# Load model\n",
    "model = AutoModelForSequenceClassification.from_pretrained(\"distilbert-base-multilingual-cased\", num_labels=2)"
   ]
  },
  {
   "cell_type": "code",
   "execution_count": 19,
   "id": "031455a1-033b-453d-845a-d92540302d4e",
   "metadata": {
    "id": "031455a1-033b-453d-845a-d92540302d4e"
   },
   "outputs": [],
   "source": [
    "# Training Arguments\n",
    "training_args = TrainingArguments(\n",
    "    output_dir=\"results\",\n",
    "    eval_strategy=\"epoch\",\n",
    "    save_strategy=\"epoch\",\n",
    "    logging_dir=\"logs\",\n",
    "    learning_rate=2e-5,\n",
    "    per_device_train_batch_size=16,\n",
    "    per_device_eval_batch_size=16,\n",
    "    num_train_epochs=3,\n",
    "    weight_decay=0.01,\n",
    "    load_best_model_at_end=True,\n",
    "    metric_for_best_model=\"f1_macro\",\n",
    "    report_to=\"none\",\n",
    ")"
   ]
  },
  {
   "cell_type": "code",
   "execution_count": 20,
   "id": "eaa3fe75-0432-41d1-b6bc-1ef2c86177c7",
   "metadata": {
    "id": "eaa3fe75-0432-41d1-b6bc-1ef2c86177c7"
   },
   "outputs": [],
   "source": [
    "# Data collator for dynamic padding\n",
    "data_collator = DataCollatorWithPadding(tokenizer=tokenizer)"
   ]
  },
  {
   "cell_type": "code",
   "execution_count": 21,
   "id": "b3b782d2-094c-49af-995e-cf2255db07a5",
   "metadata": {
    "id": "b3b782d2-094c-49af-995e-cf2255db07a5"
   },
   "outputs": [],
   "source": [
    "# Trainer\n",
    "trainer = Trainer(\n",
    "    model=model,\n",
    "    args=training_args,\n",
    "    train_dataset=tokenized_train,\n",
    "    eval_dataset=tokenized_val,\n",
    "    processing_class=tokenizer,\n",
    "    data_collator=data_collator,\n",
    "    compute_metrics=compute_metrics\n",
    ")"
   ]
  },
  {
   "cell_type": "code",
   "execution_count": 22,
   "id": "1f1fc150-5ddd-4ef9-b2b7-16edf971d0c6",
   "metadata": {
    "id": "1f1fc150-5ddd-4ef9-b2b7-16edf971d0c6"
   },
   "outputs": [],
   "source": [
    "log_dir = \"logs\"\n",
    "\n",
    "if os.path.exists(log_dir):\n",
    "    shutil.rmtree(log_dir)  # Remove old logs entirely"
   ]
  },
  {
   "cell_type": "code",
   "execution_count": 23,
   "id": "031f31f7-3cf3-4535-adce-eff71c871a8f",
   "metadata": {
    "colab": {
     "base_uri": "https://localhost:8080/",
     "height": 204
    },
    "id": "031f31f7-3cf3-4535-adce-eff71c871a8f",
    "outputId": "166cce8b-f91c-4ff3-abfc-144ee8b37d1a"
   },
   "outputs": [
    {
     "data": {
      "text/html": [
       "\n",
       "    <div>\n",
       "      \n",
       "      <progress value='156' max='156' style='width:300px; height:20px; vertical-align: middle;'></progress>\n",
       "      [156/156 42:30, Epoch 3/3]\n",
       "    </div>\n",
       "    <table border=\"1\" class=\"dataframe\">\n",
       "  <thead>\n",
       " <tr style=\"text-align: left;\">\n",
       "      <th>Epoch</th>\n",
       "      <th>Training Loss</th>\n",
       "      <th>Validation Loss</th>\n",
       "      <th>F1 Macro</th>\n",
       "    </tr>\n",
       "  </thead>\n",
       "  <tbody>\n",
       "    <tr>\n",
       "      <td>1</td>\n",
       "      <td>No log</td>\n",
       "      <td>0.641177</td>\n",
       "      <td>0.660801</td>\n",
       "    </tr>\n",
       "    <tr>\n",
       "      <td>2</td>\n",
       "      <td>No log</td>\n",
       "      <td>0.557297</td>\n",
       "      <td>0.744610</td>\n",
       "    </tr>\n",
       "    <tr>\n",
       "      <td>3</td>\n",
       "      <td>No log</td>\n",
       "      <td>0.602015</td>\n",
       "      <td>0.723727</td>\n",
       "    </tr>\n",
       "  </tbody>\n",
       "</table><p>"
      ],
      "text/plain": [
       "<IPython.core.display.HTML object>"
      ]
     },
     "metadata": {},
     "output_type": "display_data"
    },
    {
     "data": {
      "text/plain": [
       "TrainOutput(global_step=156, training_loss=0.4562802926087991, metrics={'train_runtime': 2582.7149, 'train_samples_per_second': 0.964, 'train_steps_per_second': 0.06, 'total_flos': 101143515930840.0, 'train_loss': 0.4562802926087991, 'epoch': 3.0})"
      ]
     },
     "execution_count": 23,
     "metadata": {},
     "output_type": "execute_result"
    }
   ],
   "source": [
    "# Training\n",
    "trainer.train()"
   ]
  },
  {
   "cell_type": "code",
   "execution_count": 24,
   "id": "07951cb5-5dc8-4715-9abf-d3604252dbea",
   "metadata": {
    "colab": {
     "base_uri": "https://localhost:8080/",
     "height": 74
    },
    "id": "07951cb5-5dc8-4715-9abf-d3604252dbea",
    "outputId": "27a97c91-2001-41a4-9cec-ab1f21921708"
   },
   "outputs": [
    {
     "data": {
      "text/html": [
       "\n",
       "    <div>\n",
       "      \n",
       "      <progress value='29' max='29' style='width:300px; height:20px; vertical-align: middle;'></progress>\n",
       "      [29/29 01:06]\n",
       "    </div>\n",
       "    "
      ],
      "text/plain": [
       "<IPython.core.display.HTML object>"
      ]
     },
     "metadata": {},
     "output_type": "display_data"
    },
    {
     "name": "stdout",
     "output_type": "stream",
     "text": [
      "Validation Metrics: {'eval_loss': 0.55729740858078, 'eval_f1_macro': 0.7446102819237148, 'eval_runtime': 68.4005, 'eval_samples_per_second': 6.754, 'eval_steps_per_second': 0.424, 'epoch': 3.0}\n"
     ]
    }
   ],
   "source": [
    "# Evaluation\n",
    "val_metrics = trainer.evaluate()\n",
    "print(\"Validation Metrics:\", val_metrics)"
   ]
  },
  {
   "cell_type": "code",
   "execution_count": 25,
   "id": "5cc54841-73c9-48c2-bc45-cf4e7de861ba",
   "metadata": {
    "id": "5cc54841-73c9-48c2-bc45-cf4e7de861ba"
   },
   "outputs": [],
   "source": [
    "# Save model\n",
    "trainer.save_model(\"distilmbert-subjectivity-en\")"
   ]
  },
  {
   "cell_type": "code",
   "execution_count": 26,
   "id": "1c94d49a-90dd-41d3-bf05-bd28bfc93559",
   "metadata": {
    "colab": {
     "base_uri": "https://localhost:8080/",
     "height": 17
    },
    "id": "1c94d49a-90dd-41d3-bf05-bd28bfc93559",
    "outputId": "06912188-636f-4802-c41c-e644145fa5bc"
   },
   "outputs": [
    {
     "data": {
      "text/html": [],
      "text/plain": [
       "<IPython.core.display.HTML object>"
      ]
     },
     "metadata": {},
     "output_type": "display_data"
    }
   ],
   "source": [
    "# Test Evaluation\n",
    "predictions = trainer.predict(tokenized_test)\n",
    "pred_labels = np.argmax(predictions.predictions, axis=1)\n",
    "\n",
    "submission = pd.DataFrame({\n",
    "    \"sentence_id\": df_test_en[\"sentence_id\"],\n",
    "    \"label\": [\"OBJ\" if l == 1 else \"SUBJ\" for l in pred_labels]\n",
    "})\n",
    "submission.to_csv(\"mono_en_test_predictions.tsv\", sep=\"\\t\", index=False)"
   ]
  },
  {
   "cell_type": "code",
   "execution_count": 27,
   "id": "91ac66f9-9d06-41d1-8507-ae106ef0d802",
   "metadata": {
    "colab": {
     "base_uri": "https://localhost:8080/"
    },
    "id": "91ac66f9-9d06-41d1-8507-ae106ef0d802",
    "outputId": "2433da86-0172-4521-b5d4-2c3c276596ea"
   },
   "outputs": [
    {
     "name": "stdout",
     "output_type": "stream",
     "text": [
      "INFO : The file is properly formatted\n",
      "INFO : Started evaluating results for Task 1...\n",
      "INFO : \n",
      "            macro-F1: 0.6961\n",
      "            macro-P: 0.6894\n",
      "            macro-R: 0.7083\n",
      "            \n",
      "            SUBJ-F1: 0.5806\n",
      "            SUBJ-P: 0.5347\n",
      "            SUBJ-R: 0.6353\n",
      "            \n",
      "            accuracy: 0.7400\n",
      "        \n"
     ]
    }
   ],
   "source": [
    "# Run scorer\n",
    "# !python scorer/evaluate.py -g data/english/test_en_labeled.tsv -p mono_en_test_predictions.tsv\n",
    "!python clef2025-checkthat-lab/task1/scorer/evaluate.py \\\n",
    "    -g clef2025-checkthat-lab/task1/data/english/test_en_labeled.tsv \\\n",
    "    -p mono_en_test_predictions.tsv"
   ]
  },
  {
   "cell_type": "markdown",
   "id": "C6xHVTH-IM2d",
   "metadata": {
    "id": "C6xHVTH-IM2d"
   },
   "source": [
    "#### Error Analysis"
   ]
  },
  {
   "cell_type": "code",
   "execution_count": 28,
   "id": "l3_9WKOcJDCy",
   "metadata": {
    "id": "l3_9WKOcJDCy"
   },
   "outputs": [],
   "source": [
    "test_predictions, test_labels = predictions.predictions, predictions.label_ids"
   ]
  },
  {
   "cell_type": "code",
   "execution_count": 29,
   "id": "6jxqPhA9G6cD",
   "metadata": {
    "id": "6jxqPhA9G6cD"
   },
   "outputs": [],
   "source": [
    "# Convert predictions and labels to pandas DataFrame (Transformer)\n",
    "test_results = pd.DataFrame({\n",
    "    \"sentence\": df_test_en[\"sentence\"],\n",
    "    \"true_label\": test_labels,\n",
    "    \"predicted_label\": pred_labels\n",
    "})\n",
    "\n",
    "# Add a column to classify error types\n",
    "test_results[\"error_type\"] = np.where(\n",
    "    test_results[\"true_label\"] == test_results[\"predicted_label\"],\n",
    "    \"Correct\",\n",
    "    np.where(\n",
    "        (test_results[\"true_label\"] == 1) & (test_results[\"predicted_label\"] == 0),\n",
    "        \"False Negative\",\n",
    "        \"False Positive\"\n",
    "    )\n",
    ")"
   ]
  },
  {
   "cell_type": "code",
   "execution_count": 30,
   "id": "N3WgtgD3G_EC",
   "metadata": {
    "colab": {
     "base_uri": "https://localhost:8080/"
    },
    "id": "N3WgtgD3G_EC",
    "outputId": "490c80b7-5dc0-46a8-d03a-24a093bf7cb7"
   },
   "outputs": [
    {
     "name": "stdout",
     "output_type": "stream",
     "text": [
      "Number of False Positives (distilmbert): 31\n",
      "\n",
      "EXAMPLES:\n",
      "\n",
      "\tThat sounds worryingly similar to the vainglorious delivery timetable once claimed during the sorry saga called HS2.\n",
      "\n",
      "\tIf Timbaland releases a number one hit soon, we can get the full 2006 experience again.\n",
      "\n",
      "\tThe release this week of the new Chinese artificial intelligence (AI) tool, DeepSeek-R1, is one such moment.\n",
      "\n",
      "\tShe complains of an ‘illness’, though we’re not sure whether it’s physical or mental: it seems porous, like it has seeped into every cell of her body.\n",
      "\n",
      "\tCuba Sí, Bloqueo No\n",
      "\n",
      "\tHS2 was not a failure because it included a tunnel or because it attempted to protect animal life; it failed because rail privatisation stripped the UK of the skills and public capacity to develop large-scale projects.\n",
      "\n",
      "\tAndersson is rigidly focused on the ‘stuff people care about.’\n",
      "\n",
      "\tArbitrary cuts to migration, which Reeves touted in her speech, pose challenges for sectors where there are already labour shortages, including construction.\n",
      "\n",
      "\tThe only hope left now for transparency is if the police decide to reopen their investigation.\n",
      "\n",
      "\tIn his films set in the present day, Leighs characters are stewed in the societal rot of their time.\n",
      "\n"
     ]
    }
   ],
   "source": [
    "false_positives = test_results[test_results[\"error_type\"] == \"False Positive\"]\n",
    "print(f\"Number of False Positives (distilmbert): {false_positives.shape[0]}\")\n",
    "print(\"\\nEXAMPLES:\\n\")\n",
    "for ex in false_positives.head(10).sentence:\n",
    "    print(f\"\\t{ex}\\n\")"
   ]
  },
  {
   "cell_type": "code",
   "execution_count": 31,
   "id": "z_4PZ3wYHBHr",
   "metadata": {
    "colab": {
     "base_uri": "https://localhost:8080/"
    },
    "id": "z_4PZ3wYHBHr",
    "outputId": "efaec4d8-6a5a-4d4e-b7e0-c04c50b8907e"
   },
   "outputs": [
    {
     "name": "stdout",
     "output_type": "stream",
     "text": [
      "Number of False Negatives (distilmbert): 47\n",
      "\n",
      "EXAMPLES:\n",
      "\n",
      "\tBut Andersson is adamant that what she calls ‘red green’ politics is the only way forward — for both pragmatic and ideological reasons.\n",
      "\n",
      "\tI need  no, crave  more silence in my life.\n",
      "\n",
      "\tWalking through Havana, the scars of economic warfare are visible everywhere.\n",
      "\n",
      "\tBut she is adamant that the European left has to put aside its differences and try to work together.\n",
      "\n",
      "\tI would soothe my loneliness and isolation in the evenings by playing endless hours of Law & Order: Special Victims Unit just for the ambient sound – the comfort of Detectives Olivia Benson and Elliot Stabler bringing criminals of the worst kind to justice.\n",
      "\n",
      "\tAnother opponent then is still a dissenter now.\n",
      "\n",
      "\tIt must look elsewhere to make up for lost Russian gas.\n",
      "\n",
      "\tMany inside and outside Cuba describe it as genocidal, designed to stifle the Cuban people and serve as a warning to any nation considering alternative economic paths.\n",
      "\n",
      "\tBut here we can really see what these parties do when they are in power.\n",
      "\n",
      "\tYou might have read the quote Unemployment hurts governments, inflation kills them.\n",
      "\n"
     ]
    }
   ],
   "source": [
    "false_negatives = test_results[test_results[\"error_type\"] == \"False Negative\"]\n",
    "print(f\"Number of False Negatives (distilmbert): {false_negatives.shape[0]}\")\n",
    "print(\"\\nEXAMPLES:\\n\")\n",
    "for ex in false_negatives.head(10).sentence:\n",
    "    print(f\"\\t{ex}\\n\")"
   ]
  },
  {
   "cell_type": "code",
   "execution_count": 32,
   "id": "0T8cyTh7HX6m",
   "metadata": {
    "colab": {
     "base_uri": "https://localhost:8080/",
     "height": 939
    },
    "id": "0T8cyTh7HX6m",
    "outputId": "e4628678-8dea-4b17-93bf-ab689691a313"
   },
   "outputs": [
    {
     "data": {
      "image/png": "[encoded data removed]",
      "text/plain": [
       "<Figure size 640x480 with 2 Axes>"
      ]
     },
     "metadata": {},
     "output_type": "display_data"
    },
    {
     "data": {
      "image/png": "[encoded data removed]",
      "text/plain": [
       "<Figure size 640x480 with 2 Axes>"
      ]
     },
     "metadata": {},
     "output_type": "display_data"
    }
   ],
   "source": [
    "plot_confusion_matrix(\"distilmbert\", test_results)"
   ]
  },
  {
   "cell_type": "code",
   "execution_count": 33,
   "id": "4uGux18rHlIa",
   "metadata": {
    "colab": {
     "base_uri": "https://localhost:8080/",
     "height": 472
    },
    "id": "4uGux18rHlIa",
    "outputId": "2e96f38e-2316-4119-d213-d7abaa88b3cb"
   },
   "outputs": [
    {
     "data": {
      "image/png": "[encoded data removed]",
      "text/plain": [
       "<Figure size 640x480 with 1 Axes>"
      ]
     },
     "metadata": {},
     "output_type": "display_data"
    }
   ],
   "source": [
    "precision, recall, thresholds = precision_recall_curve(test_labels, test_predictions[:, 1])\n",
    "average_precision = average_precision_score(test_labels, test_predictions[:, 1])\n",
    "\n",
    "# Plot the Precision-Recall curve\n",
    "plot_precision_recall_curve(\"distilmbert\", precision, recall, average_precision)"
   ]
  },
  {
   "cell_type": "markdown",
   "id": "c9355524-9627-4924-9da0-fd20277af3c7",
   "metadata": {
    "id": "c9355524-9627-4924-9da0-fd20277af3c7"
   },
   "source": [
    "#### Italian"
   ]
  },
  {
   "cell_type": "code",
   "execution_count": 34,
   "id": "e3b55102-5f77-4b82-a5df-4dfc402d3b60",
   "metadata": {
    "id": "e3b55102-5f77-4b82-a5df-4dfc402d3b60"
   },
   "outputs": [],
   "source": [
    "dataset_train = Dataset.from_pandas(df_train_it)\n",
    "dataset_val = Dataset.from_pandas(df_dev_it)\n",
    "dataset_test = Dataset.from_pandas(df_test_it)"
   ]
  },
  {
   "cell_type": "code",
   "execution_count": 35,
   "id": "46f3f382-2aeb-4739-8ba8-70095d9ef8b8",
   "metadata": {
    "colab": {
     "base_uri": "https://localhost:8080/",
     "height": 113,
     "referenced_widgets": [
      "f9a08af8837b48f2839e20e5f9b69d4a",
      "e1bd6aba8b7549bfa00c792e62aa0503",
      "f7cc5c58d7244dbeb0ff5b02d6f111f2",
      "8cbf91f09559455bb391613f391d4f45",
      "d4d06a3a104b444ebca2734c60fa7705",
      "b8beeabe3ded444c89692305f505774a",
      "f8a65891582c44b79b8c113ba09d76dd",
      "d553374ce0074d7990a40d7e8bb300be",
      "0d270763cf5549189d861706c0bdc93b",
      "52e59751f26e445e9006b237c8f3808b",
      "5220de3b18864bb8a692d172107756bb",
      "97092133e8bd4dadb9fadc35af650768",
      "7473724c086a4e54bb7bdb5f61078b80",
      "cc4eea19dd054d42aec56cf0112b2c6e",
      "1ad0a0a75fa94ea8aaec43415ba34d0a",
      "10e87d54e69c44f1a59c57edc6f3e6ac",
      "b71ac4e762a546d99f1e5e32ff84442b",
      "d2d972404d394d9c84de1cb194c92429",
      "52de9186921f495ebf2af42d073a2b50",
      "ac25db6c023b474aa40ab6b4a9ab194a",
      "f49e505b56694ead847695f886709acf",
      "d103f8d490c74d309c235536efaec7a2",
      "105c67e884c048b8a60a4a14095e7e70",
      "443146c4c67b4577a270f17c582454fb",
      "23499aabb707413d8d43b01375a5c002",
      "fbbf8fd67c894d62bd80c0a4323c0ade",
      "d53f498aa02c40b8a82e8be842d5494d",
      "7f7ef7efd05045d5916308352e8efaef",
      "3ba1d31ea0904fd59bda20fb2012a2b2",
      "68eb9cad2b2b499c99e68765b0c25907",
      "e70b1d35ec534213a37c5ce791d9b4e5",
      "bc2133e4df074f4290be59f628d60b21",
      "bf38b0f5db41471a971d993b83be182b"
     ]
    },
    "id": "46f3f382-2aeb-4739-8ba8-70095d9ef8b8",
    "outputId": "158f9291-9219-480b-8fa8-6c9aec31471c"
   },
   "outputs": [
    {
     "data": {
      "application/vnd.jupyter.widget-view+json": {
       "model_id": "f9a08af8837b48f2839e20e5f9b69d4a",
       "version_major": 2,
       "version_minor": 0
      },
      "text/plain": [
       "Map:   0%|          | 0/1613 [00:00<?, ? examples/s]"
      ]
     },
     "metadata": {},
     "output_type": "display_data"
    },
    {
     "data": {
      "application/vnd.jupyter.widget-view+json": {
       "model_id": "97092133e8bd4dadb9fadc35af650768",
       "version_major": 2,
       "version_minor": 0
      },
      "text/plain": [
       "Map:   0%|          | 0/667 [00:00<?, ? examples/s]"
      ]
     },
     "metadata": {},
     "output_type": "display_data"
    },
    {
     "data": {
      "application/vnd.jupyter.widget-view+json": {
       "model_id": "105c67e884c048b8a60a4a14095e7e70",
       "version_major": 2,
       "version_minor": 0
      },
      "text/plain": [
       "Map:   0%|          | 0/299 [00:00<?, ? examples/s]"
      ]
     },
     "metadata": {},
     "output_type": "display_data"
    }
   ],
   "source": [
    "# Tokenization\n",
    "tokenized_train = dataset_train.map(preprocess_function, batched=True)\n",
    "tokenized_val = dataset_val.map(preprocess_function, batched=True)\n",
    "tokenized_test = dataset_test.map(preprocess_function, batched=True)"
   ]
  },
  {
   "cell_type": "code",
   "execution_count": 36,
   "id": "14feb79e-c38d-4d7e-98dc-eb432de87699",
   "metadata": {
    "id": "14feb79e-c38d-4d7e-98dc-eb432de87699"
   },
   "outputs": [],
   "source": [
    "# Trainer\n",
    "trainer = Trainer(\n",
    "    model=model,\n",
    "    args=training_args,\n",
    "    train_dataset=tokenized_train,\n",
    "    eval_dataset=tokenized_val,\n",
    "    processing_class=tokenizer,\n",
    "    data_collator=data_collator,\n",
    "    compute_metrics=compute_metrics\n",
    ")"
   ]
  },
  {
   "cell_type": "code",
   "execution_count": 37,
   "id": "d0c100c6-c7b7-4e21-aa85-ca925daba7f6",
   "metadata": {
    "colab": {
     "base_uri": "https://localhost:8080/",
     "height": 204
    },
    "id": "d0c100c6-c7b7-4e21-aa85-ca925daba7f6",
    "outputId": "e912b71f-f2ee-46fd-de40-ab3cdd385d78"
   },
   "outputs": [
    {
     "data": {
      "text/html": [
       "\n",
       "    <div>\n",
       "      \n",
       "      <progress value='303' max='303' style='width:300px; height:20px; vertical-align: middle;'></progress>\n",
       "      [303/303 1:25:16, Epoch 3/3]\n",
       "    </div>\n",
       "    <table border=\"1\" class=\"dataframe\">\n",
       "  <thead>\n",
       " <tr style=\"text-align: left;\">\n",
       "      <th>Epoch</th>\n",
       "      <th>Training Loss</th>\n",
       "      <th>Validation Loss</th>\n",
       "      <th>F1 Macro</th>\n",
       "    </tr>\n",
       "  </thead>\n",
       "  <tbody>\n",
       "    <tr>\n",
       "      <td>1</td>\n",
       "      <td>No log</td>\n",
       "      <td>0.471271</td>\n",
       "      <td>0.696496</td>\n",
       "    </tr>\n",
       "    <tr>\n",
       "      <td>2</td>\n",
       "      <td>No log</td>\n",
       "      <td>0.531301</td>\n",
       "      <td>0.704874</td>\n",
       "    </tr>\n",
       "    <tr>\n",
       "      <td>3</td>\n",
       "      <td>No log</td>\n",
       "      <td>0.584320</td>\n",
       "      <td>0.701144</td>\n",
       "    </tr>\n",
       "  </tbody>\n",
       "</table><p>"
      ],
      "text/plain": [
       "<IPython.core.display.HTML object>"
      ]
     },
     "metadata": {},
     "output_type": "display_data"
    },
    {
     "data": {
      "text/plain": [
       "TrainOutput(global_step=303, training_loss=0.3169108223993786, metrics={'train_runtime': 5130.8082, 'train_samples_per_second': 0.943, 'train_steps_per_second': 0.059, 'total_flos': 184039906422204.0, 'train_loss': 0.3169108223993786, 'epoch': 3.0})"
      ]
     },
     "execution_count": 37,
     "metadata": {},
     "output_type": "execute_result"
    }
   ],
   "source": [
    "# Training\n",
    "trainer.train()"
   ]
  },
  {
   "cell_type": "code",
   "execution_count": 38,
   "id": "89119ae9-00fc-4275-965f-d8d0cf31c9b3",
   "metadata": {
    "id": "89119ae9-00fc-4275-965f-d8d0cf31c9b3"
   },
   "outputs": [],
   "source": [
    "log_dir = \"logs\"\n",
    "\n",
    "if os.path.exists(log_dir):\n",
    "    shutil.rmtree(log_dir)  # Remove old logs entirely"
   ]
  },
  {
   "cell_type": "code",
   "execution_count": 39,
   "id": "050f8f3f-f71c-46e3-b67c-dfd126ec40cb",
   "metadata": {
    "colab": {
     "base_uri": "https://localhost:8080/",
     "height": 74
    },
    "id": "050f8f3f-f71c-46e3-b67c-dfd126ec40cb",
    "outputId": "eced3021-a1dc-47b9-8cdf-210993d51de9"
   },
   "outputs": [
    {
     "data": {
      "text/html": [
       "\n",
       "    <div>\n",
       "      \n",
       "      <progress value='42' max='42' style='width:300px; height:20px; vertical-align: middle;'></progress>\n",
       "      [42/42 04:28]\n",
       "    </div>\n",
       "    "
      ],
      "text/plain": [
       "<IPython.core.display.HTML object>"
      ]
     },
     "metadata": {},
     "output_type": "display_data"
    },
    {
     "name": "stdout",
     "output_type": "stream",
     "text": [
      "Validation Metrics: {'eval_loss': 0.5313012599945068, 'eval_f1_macro': 0.7048744120642002, 'eval_runtime': 274.2783, 'eval_samples_per_second': 2.432, 'eval_steps_per_second': 0.153, 'epoch': 3.0}\n"
     ]
    }
   ],
   "source": [
    "# Evaluation\n",
    "val_metrics = trainer.evaluate()\n",
    "print(\"Validation Metrics:\", val_metrics)"
   ]
  },
  {
   "cell_type": "code",
   "execution_count": 40,
   "id": "8741f522-b1b2-4d51-9c41-a7422e5f0db9",
   "metadata": {
    "id": "8741f522-b1b2-4d51-9c41-a7422e5f0db9"
   },
   "outputs": [],
   "source": [
    "# Save model\n",
    "trainer.save_model(\"distilmbert-subjectivity-it\")"
   ]
  },
  {
   "cell_type": "code",
   "execution_count": 41,
   "id": "6e0f02bb-359b-460a-9b9a-77bf1ed84cc6",
   "metadata": {
    "colab": {
     "base_uri": "https://localhost:8080/",
     "height": 17
    },
    "id": "6e0f02bb-359b-460a-9b9a-77bf1ed84cc6",
    "outputId": "9eeb4aa4-5cd7-4ff5-815c-1015f724fb33"
   },
   "outputs": [
    {
     "data": {
      "text/html": [],
      "text/plain": [
       "<IPython.core.display.HTML object>"
      ]
     },
     "metadata": {},
     "output_type": "display_data"
    }
   ],
   "source": [
    "# Test Evaluation\n",
    "predictions = trainer.predict(tokenized_test)\n",
    "pred_labels = np.argmax(predictions.predictions, axis=1)\n",
    "\n",
    "submission = pd.DataFrame({\n",
    "    \"sentence_id\": df_test_it[\"sentence_id\"],\n",
    "    \"label\": [\"OBJ\" if l == 1 else \"SUBJ\" for l in pred_labels]\n",
    "})\n",
    "submission.to_csv(\"mono_it_test_predictions.tsv\", sep=\"\\t\", index=False)"
   ]
  },
  {
   "cell_type": "code",
   "execution_count": 42,
   "id": "20934fc6-916d-4d8d-bfc2-dd5f9d0d6160",
   "metadata": {
    "colab": {
     "base_uri": "https://localhost:8080/"
    },
    "id": "20934fc6-916d-4d8d-bfc2-dd5f9d0d6160",
    "outputId": "d2383d20-2568-42c9-d089-06058ba51862"
   },
   "outputs": [
    {
     "name": "stdout",
     "output_type": "stream",
     "text": [
      "INFO : The file is properly formatted\n",
      "INFO : Started evaluating results for Task 1...\n",
      "INFO : \n",
      "            macro-F1: 0.6957\n",
      "            macro-P: 0.7213\n",
      "            macro-R: 0.6872\n",
      "            \n",
      "            SUBJ-F1: 0.5806\n",
      "            SUBJ-P: 0.6835\n",
      "            SUBJ-R: 0.5047\n",
      "            \n",
      "            accuracy: 0.7391\n",
      "        \n"
     ]
    }
   ],
   "source": [
    "# Run scorer\n",
    "# !python scorer/evaluate.py -g data/italian/test_it_labeled.tsv -p mono_it_test_predictions.tsv\n",
    "!python clef2025-checkthat-lab/task1/scorer/evaluate.py \\\n",
    "    -g clef2025-checkthat-lab/task1/data/italian/test_it_labeled.tsv \\\n",
    "    -p mono_it_test_predictions.tsv"
   ]
  },
  {
   "cell_type": "markdown",
   "id": "kZqqr-bLMdYR",
   "metadata": {
    "id": "kZqqr-bLMdYR"
   },
   "source": [
    "#### Error Analysis"
   ]
  },
  {
   "cell_type": "code",
   "execution_count": 43,
   "id": "2XDk2ArgMc44",
   "metadata": {
    "id": "2XDk2ArgMc44"
   },
   "outputs": [],
   "source": [
    "test_predictions, test_labels = predictions.predictions, predictions.label_ids"
   ]
  },
  {
   "cell_type": "code",
   "execution_count": 44,
   "id": "zV-K-N2GMwkw",
   "metadata": {
    "id": "zV-K-N2GMwkw"
   },
   "outputs": [],
   "source": [
    "# Convert predictions and labels to pandas DataFrame (Transformer)\n",
    "test_results = pd.DataFrame({\n",
    "    \"sentence\": df_test_it[\"sentence\"],\n",
    "    \"true_label\": test_labels,\n",
    "    \"predicted_label\": pred_labels\n",
    "})\n",
    "\n",
    "# Add a column to classify error types\n",
    "test_results[\"error_type\"] = np.where(\n",
    "    test_results[\"true_label\"] == test_results[\"predicted_label\"],\n",
    "    \"Correct\",\n",
    "    np.where(\n",
    "        (test_results[\"true_label\"] == 1) & (test_results[\"predicted_label\"] == 0),\n",
    "        \"False Negative\",\n",
    "        \"False Positive\"\n",
    "    )\n",
    ")"
   ]
  },
  {
   "cell_type": "code",
   "execution_count": 45,
   "id": "IdEqILAkMwcd",
   "metadata": {
    "colab": {
     "base_uri": "https://localhost:8080/"
    },
    "id": "IdEqILAkMwcd",
    "outputId": "58ef3db3-2109-4381-e9da-dd406d357b7c"
   },
   "outputs": [
    {
     "name": "stdout",
     "output_type": "stream",
     "text": [
      "Number of False Positives (distilmbert): 53\n",
      "\n",
      "EXAMPLES:\n",
      "\n",
      "\tNelle dolomiti c'è posto per tutti.\n",
      "\n",
      "\tL'ostentazione della burineria e servizi montani penosi.\n",
      "\n",
      "\tPoi il leader M5S è durissimo con il ministro Nordio:\n",
      "\n",
      "\tConte infanga Meloni?\n",
      "\n",
      "\tIl Repower-EU ha provato a tracciare la rotta in merito all’indipendenza energetica, che tutto è tranne che autosufficienza dell’UE.\n",
      "\n",
      "\t@779 le dolomiti del Brenta la sera con sole che scende in fondo alla val Rendena crea un tramonto montano rosa ed arancione che non ha eguali al mondo.\n",
      "\n",
      "\tPoi fatte le olimpiadi verrà abbondonata.\n",
      "\n",
      "\tSi tratta di un contributo consistente, ma non essenziale:\n",
      "\n",
      "\tLa maggior parte dei cittadini e delle società svizzere non ha niente da perdere dalla totale trasparenza finanziaria e di certo preferirebbe la fine dell’evasione fiscale offshore alle costanti critiche al proprio Paese.\n",
      "\n",
      "\tSaranno contenti gli italiani seguaci devoti di Trump.\n",
      "\n"
     ]
    }
   ],
   "source": [
    "false_positives = test_results[test_results[\"error_type\"] == \"False Positive\"]\n",
    "print(f\"Number of False Positives (distilmbert): {false_positives.shape[0]}\")\n",
    "print(\"\\nEXAMPLES:\\n\")\n",
    "for ex in false_positives.head(10).sentence:\n",
    "    print(f\"\\t{ex}\\n\")"
   ]
  },
  {
   "cell_type": "code",
   "execution_count": 46,
   "id": "DF53wxzZMwVG",
   "metadata": {
    "colab": {
     "base_uri": "https://localhost:8080/"
    },
    "id": "DF53wxzZMwVG",
    "outputId": "14b3d5e5-e304-4403-b430-03c3f2fced65"
   },
   "outputs": [
    {
     "name": "stdout",
     "output_type": "stream",
     "text": [
      "Number of False Negatives (distilmbert): 25\n",
      "\n",
      "EXAMPLES:\n",
      "\n",
      "\tDalla premier \"viltà istituzionale\".\n",
      "\n",
      "\tDare del tu e chiamarsi per nome, a seconda del contesto, della relazione esistente tra i parlanti, e di molti altri fattori variabili, possono essere un modo per esprimere empatia oppure un modo di interloquire inappropriato e irrispettoso.\n",
      "\n",
      "\tIn questo quadro di competizione e guerra che coinvolge innanzitutto il mercato energetico, la narrazione Italiana costruita dal Governo Meloni sulla “sicurezza energetica” si inserisce perfettamente.\n",
      "\n",
      "\tE' quindi ipotizzabile che si assista a una fase in cui oro e dollaro si muovono nella stessa direzione, senza necessariamente influenzarsi a vicenda.\n",
      "\n",
      "\tL’attitudine a darsi del tu e chiamarsi per nome più spesso che in passato non implica che sia sempre appropriato e inoffensivo farlo\n",
      "\n",
      "\tLa spesa che non c'è\n",
      "\n",
      "\tquando il dollaro si rafforza, loro tende a indebolirsi.\n",
      "\n",
      "\tSarebbe quindi una coalizione contro cui la Svizzera non avrebbe interesse a combattere.\n",
      "\n",
      "\tCortesia e rispetto sono qualità umane che si manifestano nei rapporti interpersonali in molti modi diversi.\n",
      "\n",
      "\tPrendono quasi niente e noi tutto, milioni di auto, enormi quantità di cibo e prodotti agricoli.\n",
      "\n"
     ]
    }
   ],
   "source": [
    "false_negatives = test_results[test_results[\"error_type\"] == \"False Negative\"]\n",
    "print(f\"Number of False Negatives (distilmbert): {false_negatives.shape[0]}\")\n",
    "print(\"\\nEXAMPLES:\\n\")\n",
    "for ex in false_negatives.head(10).sentence:\n",
    "    print(f\"\\t{ex}\\n\")"
   ]
  },
  {
   "cell_type": "code",
   "execution_count": 47,
   "id": "C9qeY_WvMwMy",
   "metadata": {
    "colab": {
     "base_uri": "https://localhost:8080/",
     "height": 939
    },
    "id": "C9qeY_WvMwMy",
    "outputId": "cc40ae01-c4ee-4501-959d-ee389c02ff74"
   },
   "outputs": [
    {
     "data": {
      "image/png": "[encoded data removed]",
      "text/plain": [
       "<Figure size 640x480 with 2 Axes>"
      ]
     },
     "metadata": {},
     "output_type": "display_data"
    },
    {
     "data": {
      "image/png": "[encoded data removed]",
      "text/plain": [
       "<Figure size 640x480 with 2 Axes>"
      ]
     },
     "metadata": {},
     "output_type": "display_data"
    }
   ],
   "source": [
    "plot_confusion_matrix(\"distilmbert\", test_results)"
   ]
  },
  {
   "cell_type": "code",
   "execution_count": 48,
   "id": "WEx1RdcPMwFL",
   "metadata": {
    "colab": {
     "base_uri": "https://localhost:8080/",
     "height": 472
    },
    "id": "WEx1RdcPMwFL",
    "outputId": "7d0c28e1-6677-476f-9057-9a5985e9487f"
   },
   "outputs": [
    {
     "data": {
      "image/png": "[encoded data removed]",
      "text/plain": [
       "<Figure size 640x480 with 1 Axes>"
      ]
     },
     "metadata": {},
     "output_type": "display_data"
    }
   ],
   "source": [
    "precision, recall, thresholds = precision_recall_curve(test_labels, test_predictions[:, 1])\n",
    "average_precision = average_precision_score(test_labels, test_predictions[:, 1])\n",
    "\n",
    "# Plot the Precision-Recall curve\n",
    "plot_precision_recall_curve(\"distilmbert\", precision, recall, average_precision)"
   ]
  },
  {
   "cell_type": "markdown",
   "id": "a2f6df95-c02d-438f-83df-e868227dc048",
   "metadata": {
    "id": "a2f6df95-c02d-438f-83df-e868227dc048"
   },
   "source": [
    "### Multilungual"
   ]
  },
  {
   "cell_type": "code",
   "execution_count": 21,
   "id": "f29026c5-6a8d-4176-a0e4-46ced3d3ed28",
   "metadata": {
    "id": "f29026c5-6a8d-4176-a0e4-46ced3d3ed28"
   },
   "outputs": [],
   "source": [
    "# Combine Multilingual Training Data\n",
    "df_train_multi = pd.concat([df_train_ar, df_train_bg, df_train_en, df_train_de, df_train_it])\n",
    "df_dev_multi = pd.concat([df_dev_ar, df_dev_bg, df_dev_en, df_dev_de, df_dev_it])"
   ]
  },
  {
   "cell_type": "code",
   "execution_count": 22,
   "id": "de8c9563-d44f-4247-84bb-0089f373cd68",
   "metadata": {
    "id": "de8c9563-d44f-4247-84bb-0089f373cd68"
   },
   "outputs": [],
   "source": [
    "dataset_train = Dataset.from_pandas(df_train_multi)\n",
    "dataset_val = Dataset.from_pandas(df_dev_multi)\n",
    "dataset_test = Dataset.from_pandas(df_test_multi)"
   ]
  },
  {
   "cell_type": "code",
   "execution_count": 23,
   "id": "24a96301-0307-47a2-a170-7ae3dd9a54c5",
   "metadata": {
    "colab": {
     "base_uri": "https://localhost:8080/",
     "height": 113,
     "referenced_widgets": [
      "53e3682e998e43a28bbad78a1b747015",
      "4d762862c8c341d08526d6f2728e5bf5",
      "246ae1c8e9df4bfca6030ce5afb811a9",
      "68f0e730572e45c6811fa1a31d2c7a33",
      "afbb016f96684941b7fa49d5c1984abd",
      "b79a3e03708d4e2b996e17acd9bf8545",
      "ba3bfe7423414820b1ad6c79feb437fa",
      "6dde9a5f84264d7b80106e4cd2859bbc",
      "5494270f026e4bf9b53e042838b333d6",
      "9c7df8a2b51b49c8b025929455b3adae",
      "74324f6a2f4843c3b5a93bc7342f2f99",
      "03089b64dab14211881ce54ab048f673",
      "b5a55ca142694b4dad24498ae359045f",
      "d8e564f3fa394c348e3d8f1dabc8279f",
      "1b02892581a04d8f9c71a5d724c10528",
      "3d3cb192b5434a84b16caeb680d0661d",
      "c946d5ac6caa414e95ec44199c5b5114",
      "b7240202562e4a3986b1b2acfb96ef08",
      "3b3985c11e0745b3af09451668671ecb",
      "6565dd484c4849c8a870d01bfa3b17e5",
      "65334b91d72145198c1067bb7dc5ccf6",
      "d0317bce53284066a0d7f0f4fe4ef575",
      "7b318e1c847c4b9b9f3594043bc98933",
      "5c30993d772a4c3c9fa0b2cfd5c92acb",
      "7a22091f10bc48d78c4653dba6fe73d4",
      "c7ca0af92db8426aa54d4b4d7de8b587",
      "cb30fbd0722848c5bfb398fbe51db32b",
      "108aecd60ab04b5b94c33eb440b3ec77",
      "563ac6d3bd094a25b31faaec626589b8",
      "de59cfc3b2f640f6942d1776e3cdc811",
      "d765642caeb74588a954a3fe24491bea",
      "37620d1fb2c34449b2088a01e36b9f28",
      "c81713915b824329ac1423db7ce8b166"
     ]
    },
    "id": "24a96301-0307-47a2-a170-7ae3dd9a54c5",
    "outputId": "35ffd6bf-7079-4cc4-dfc8-8c4d3c1b7aa9"
   },
   "outputs": [
    {
     "data": {
      "application/vnd.jupyter.widget-view+json": {
       "model_id": "53e3682e998e43a28bbad78a1b747015",
       "version_major": 2,
       "version_minor": 0
      },
      "text/plain": [
       "Map:   0%|          | 0/6380 [00:00<?, ? examples/s]"
      ]
     },
     "metadata": {},
     "output_type": "display_data"
    },
    {
     "data": {
      "application/vnd.jupyter.widget-view+json": {
       "model_id": "03089b64dab14211881ce54ab048f673",
       "version_major": 2,
       "version_minor": 0
      },
      "text/plain": [
       "Map:   0%|          | 0/2393 [00:00<?, ? examples/s]"
      ]
     },
     "metadata": {},
     "output_type": "display_data"
    },
    {
     "data": {
      "application/vnd.jupyter.widget-view+json": {
       "model_id": "7b318e1c847c4b9b9f3594043bc98933",
       "version_major": 2,
       "version_minor": 0
      },
      "text/plain": [
       "Map:   0%|          | 0/1982 [00:00<?, ? examples/s]"
      ]
     },
     "metadata": {},
     "output_type": "display_data"
    }
   ],
   "source": [
    "# Tokenization\n",
    "tokenized_train = dataset_train.map(preprocess_function, batched=True)\n",
    "tokenized_val = dataset_val.map(preprocess_function, batched=True)\n",
    "tokenized_test = dataset_test.map(preprocess_function, batched=True)"
   ]
  },
  {
   "cell_type": "code",
   "execution_count": 24,
   "id": "506b79e3-5db9-4ae9-84e1-06f502586a9b",
   "metadata": {
    "colab": {
     "base_uri": "https://localhost:8080/"
    },
    "id": "506b79e3-5db9-4ae9-84e1-06f502586a9b",
    "outputId": "3b70fd5f-e79d-4440-a168-6eaae9ae8af9"
   },
   "outputs": [
    {
     "name": "stderr",
     "output_type": "stream",
     "text": [
      "<ipython-input-24-eb8653a7a6bc>:2: FutureWarning: `tokenizer` is deprecated and will be removed in version 5.0.0 for `Trainer.__init__`. Use `processing_class` instead.\n",
      "  trainer = Trainer(\n"
     ]
    }
   ],
   "source": [
    "# Trainer\n",
    "trainer = Trainer(\n",
    "    model=model,\n",
    "    args=training_args,\n",
    "    train_dataset=tokenized_train,\n",
    "    eval_dataset=tokenized_val,\n",
    "    tokenizer=tokenizer,\n",
    "    data_collator=data_collator,\n",
    "    compute_metrics=compute_metrics\n",
    ")"
   ]
  },
  {
   "cell_type": "code",
   "execution_count": 25,
   "id": "ddf11308-3b68-4033-be94-7f94f6d69665",
   "metadata": {
    "colab": {
     "base_uri": "https://localhost:8080/",
     "height": 204
    },
    "id": "ddf11308-3b68-4033-be94-7f94f6d69665",
    "outputId": "b894cf22-314f-418d-e77e-df2fdaf44e4f"
   },
   "outputs": [
    {
     "data": {
      "text/html": [
       "\n",
       "    <div>\n",
       "      \n",
       "      <progress value='1197' max='1197' style='width:300px; height:20px; vertical-align: middle;'></progress>\n",
       "      [1197/1197 16:33, Epoch 3/3]\n",
       "    </div>\n",
       "    <table border=\"1\" class=\"dataframe\">\n",
       "  <thead>\n",
       " <tr style=\"text-align: left;\">\n",
       "      <th>Epoch</th>\n",
       "      <th>Training Loss</th>\n",
       "      <th>Validation Loss</th>\n",
       "      <th>F1 Macro</th>\n",
       "    </tr>\n",
       "  </thead>\n",
       "  <tbody>\n",
       "    <tr>\n",
       "      <td>1</td>\n",
       "      <td>No log</td>\n",
       "      <td>0.543569</td>\n",
       "      <td>0.693901</td>\n",
       "    </tr>\n",
       "    <tr>\n",
       "      <td>2</td>\n",
       "      <td>0.564300</td>\n",
       "      <td>0.606795</td>\n",
       "      <td>0.691821</td>\n",
       "    </tr>\n",
       "    <tr>\n",
       "      <td>3</td>\n",
       "      <td>0.428500</td>\n",
       "      <td>0.692638</td>\n",
       "      <td>0.689077</td>\n",
       "    </tr>\n",
       "  </tbody>\n",
       "</table><p>"
      ],
      "text/plain": [
       "<IPython.core.display.HTML object>"
      ]
     },
     "metadata": {},
     "output_type": "display_data"
    },
    {
     "data": {
      "text/plain": [
       "TrainOutput(global_step=1197, training_loss=0.4739040862348743, metrics={'train_runtime': 998.1324, 'train_samples_per_second': 19.176, 'train_steps_per_second': 1.199, 'total_flos': 2531153936669184.0, 'train_loss': 0.4739040862348743, 'epoch': 3.0})"
      ]
     },
     "execution_count": 25,
     "metadata": {},
     "output_type": "execute_result"
    }
   ],
   "source": [
    "# Training\n",
    "trainer.train()"
   ]
  },
  {
   "cell_type": "code",
   "execution_count": 26,
   "id": "69e459fa-b305-40bd-859e-1a803f02d7bd",
   "metadata": {
    "id": "69e459fa-b305-40bd-859e-1a803f02d7bd"
   },
   "outputs": [],
   "source": [
    "log_dir = \"logs\"\n",
    "\n",
    "if os.path.exists(log_dir):\n",
    "    shutil.rmtree(log_dir)  # Remove old logs entirely"
   ]
  },
  {
   "cell_type": "code",
   "execution_count": 27,
   "id": "72d59f8c-9ec0-46b1-90a3-3015d7b1ac36",
   "metadata": {
    "colab": {
     "base_uri": "https://localhost:8080/",
     "height": 74
    },
    "id": "72d59f8c-9ec0-46b1-90a3-3015d7b1ac36",
    "outputId": "6bf3aa0d-158d-4307-e558-95932597e267"
   },
   "outputs": [
    {
     "data": {
      "text/html": [
       "\n",
       "    <div>\n",
       "      \n",
       "      <progress value='150' max='150' style='width:300px; height:20px; vertical-align: middle;'></progress>\n",
       "      [150/150 00:15]\n",
       "    </div>\n",
       "    "
      ],
      "text/plain": [
       "<IPython.core.display.HTML object>"
      ]
     },
     "metadata": {},
     "output_type": "display_data"
    },
    {
     "name": "stdout",
     "output_type": "stream",
     "text": [
      "Validation Metrics: {'eval_loss': 0.5435693264007568, 'eval_f1_macro': 0.6939009043891916, 'eval_runtime': 15.8564, 'eval_samples_per_second': 150.917, 'eval_steps_per_second': 9.46, 'epoch': 3.0}\n"
     ]
    }
   ],
   "source": [
    "# Evaluation\n",
    "val_metrics = trainer.evaluate()\n",
    "print(\"Validation Metrics:\", val_metrics)"
   ]
  },
  {
   "cell_type": "code",
   "execution_count": 28,
   "id": "524e36c3-f10c-47ff-94de-958898da5e7d",
   "metadata": {
    "id": "524e36c3-f10c-47ff-94de-958898da5e7d"
   },
   "outputs": [],
   "source": [
    "# Save model\n",
    "trainer.save_model(\"distilmbert-subjectivity-multi\")"
   ]
  },
  {
   "cell_type": "code",
   "execution_count": 29,
   "id": "6ce9cc7e-3956-4299-a470-72d70d00b0d2",
   "metadata": {
    "colab": {
     "base_uri": "https://localhost:8080/",
     "height": 17
    },
    "id": "6ce9cc7e-3956-4299-a470-72d70d00b0d2",
    "outputId": "acad6498-3490-4085-edbb-6f3d12a3a755"
   },
   "outputs": [
    {
     "data": {
      "text/html": [],
      "text/plain": [
       "<IPython.core.display.HTML object>"
      ]
     },
     "metadata": {},
     "output_type": "display_data"
    }
   ],
   "source": [
    "# Multilingual Test Predictions\n",
    "predictions = trainer.predict(tokenized_test)\n",
    "pred_labels = np.argmax(predictions.predictions, axis=1)\n",
    "\n",
    "submission = pd.DataFrame({\n",
    "    \"sentence_id\": df_test_multi[\"sentence_id\"],\n",
    "    \"label\": [\"OBJ\" if l == 1 else \"SUBJ\" for l in pred_labels]\n",
    "})\n",
    "submission.to_csv(\"multilingual_test_predictions.tsv\", sep=\"\\t\", index=False)"
   ]
  },
  {
   "cell_type": "code",
   "execution_count": 30,
   "id": "e188784d-9493-48d0-9e1b-4fb8d391e5bb",
   "metadata": {
    "colab": {
     "base_uri": "https://localhost:8080/"
    },
    "id": "e188784d-9493-48d0-9e1b-4fb8d391e5bb",
    "outputId": "569e5e79-89ba-423f-fed9-37f0a96a9a1e"
   },
   "outputs": [
    {
     "name": "stdout",
     "output_type": "stream",
     "text": [
      "INFO : The file is properly formatted\n",
      "INFO : Started evaluating results for Task 1...\n",
      "INFO : \n",
      "            macro-F1: 0.6823\n",
      "            macro-P: 0.6963\n",
      "            macro-R: 0.6747\n",
      "            \n",
      "            SUBJ-F1: 0.5456\n",
      "            SUBJ-P: 0.6039\n",
      "            SUBJ-R: 0.4976\n",
      "            \n",
      "            accuracy: 0.7412\n",
      "        \n"
     ]
    }
   ],
   "source": [
    "# Run scorer\n",
    "# !python scorer/evaluate.py -g data/multilingual/test_multilingual_labeled.tsv -p multilingual_test_predictions.tsv\n",
    "!python clef2025-checkthat-lab/task1/scorer/evaluate.py \\\n",
    "    -g clef2025-checkthat-lab/task1/data/multilingual/test_multilingual_labeled.tsv \\\n",
    "    -p multilingual_test_predictions.tsv"
   ]
  },
  {
   "cell_type": "markdown",
   "id": "ZscyDjGcPP8p",
   "metadata": {
    "id": "ZscyDjGcPP8p"
   },
   "source": [
    "#### Error Analysis"
   ]
  },
  {
   "cell_type": "code",
   "execution_count": 31,
   "id": "YdvDKMoKPDO6",
   "metadata": {
    "id": "YdvDKMoKPDO6"
   },
   "outputs": [],
   "source": [
    "test_predictions, test_labels = predictions.predictions, predictions.label_ids"
   ]
  },
  {
   "cell_type": "code",
   "execution_count": 32,
   "id": "V8phXTHFPWzb",
   "metadata": {
    "id": "V8phXTHFPWzb"
   },
   "outputs": [],
   "source": [
    "# Convert predictions and labels to pandas DataFrame (Transformer)\n",
    "test_results = pd.DataFrame({\n",
    "    \"sentence\": df_test_multi[\"sentence\"],\n",
    "    \"true_label\": test_labels,\n",
    "    \"predicted_label\": pred_labels\n",
    "})\n",
    "\n",
    "# Add a column to classify error types\n",
    "test_results[\"error_type\"] = np.where(\n",
    "    test_results[\"true_label\"] == test_results[\"predicted_label\"],\n",
    "    \"Correct\",\n",
    "    np.where(\n",
    "        (test_results[\"true_label\"] == 1) & (test_results[\"predicted_label\"] == 0),\n",
    "        \"False Negative\",\n",
    "        \"False Positive\"\n",
    "    )\n",
    ")"
   ]
  },
  {
   "cell_type": "code",
   "execution_count": 33,
   "id": "NEwxVmBQPZRJ",
   "metadata": {
    "colab": {
     "base_uri": "https://localhost:8080/"
    },
    "id": "NEwxVmBQPZRJ",
    "outputId": "df8b3d33-c985-41a0-d1d1-17265f8b13a3"
   },
   "outputs": [
    {
     "name": "stdout",
     "output_type": "stream",
     "text": [
      "Number of False Positives (distilmbert): 311\n",
      "\n",
      "EXAMPLES:\n",
      "\n",
      "\tTo these unhappy groups, we can add a third.\n",
      "\n",
      "\tEcco ad esempio che la Regione Liguria, guidata dalla destra, ha pensato bene di stanziare 220mila euro per un progetto di educazione allaffettività nelle parrocchie e negli oratori.\n",
      "\n",
      "\tويتطرق عمار إلى التأثيرات المحتملة لموقف ماسك ،  أن ذلك الموقف قد يفاقم التوتر بين واشنطن وبرلين ، خاصة في ظل حساسية المرحلة الحالية مع اقتراب الانتخابات في ألمانيا.\n",
      "\n",
      "\tLone shoppers lined the aisles in preparation for a Government-mandated 24-hour indoors, with several baskets piled with more food, booze and toilet rolls than any household could conceivably need during such a short time.\n",
      "\n",
      "\tويبدو أن مستوى الدوري الإنجليزي بشكل عام ونسق مانشستر يونايتد القوي هو السبب الأول في تعثر خطوات المجبري في فريق الشياطين الحمر وعدم قدرته على إثبات نفسه حتى ضمن التشكيلة الاحتياطية بحسب رأي المدير الفني السابق للاتحاد التونسي لكرة القدم كمال القلصي.\n",
      "\n",
      "\tعلى سبيل المثال ، أصبحت بكين تتوقع من زعماء العالم النامي الموافقة  على مبادرة الأمن العالمي ، التي تتعارض مبادئها مع المثل العليا والممارسات في الشؤون الدولية التي تفضلها الولايات المتحدة وحلفاؤها.\n",
      "\n",
      "\tThe release this week of the new Chinese artificial intelligence (AI) tool, DeepSeek-R1, is one such moment.\n",
      "\n",
      "\tSia chiaro:\n",
      "\n",
      "\tومثال على ذلك السياسات الحمائية التي ينوي اتباعها في فرض الرسوم الجمركية على جميع المنتجات المستوردة من الخارج ، وخاصة من الصين ، إذ ينوي فرض رسوم تصل إلى 60 بالمئة.\n",
      "\n",
      "\tصحيح أن الدماء مازالت ساخنة ، والدمار هو العنوان الرئيس فى غزة ، إلا أنه من المهم جعل مراجعة ما جرى أولوية ، بل فرض عين.\n",
      "\n"
     ]
    }
   ],
   "source": [
    "false_positives = test_results[test_results[\"error_type\"] == \"False Positive\"]\n",
    "print(f\"Number of False Positives (distilmbert): {false_positives.shape[0]}\")\n",
    "print(\"\\nEXAMPLES:\\n\")\n",
    "for ex in false_positives.head(10).sentence:\n",
    "    print(f\"\\t{ex}\\n\")"
   ]
  },
  {
   "cell_type": "code",
   "execution_count": 34,
   "id": "1HARItR9PZm6",
   "metadata": {
    "colab": {
     "base_uri": "https://localhost:8080/"
    },
    "id": "1HARItR9PZm6",
    "outputId": "3a002865-330a-4170-c2b8-157e5f573269"
   },
   "outputs": [
    {
     "name": "stdout",
     "output_type": "stream",
     "text": [
      "Number of False Negatives (distilmbert): 202\n",
      "\n",
      "EXAMPLES:\n",
      "\n",
      "\tFrom the lack of vision, the lack of hope.\n",
      "\n",
      "\tDoch gäbe es bisher noch keine systematischen und vergleichbaren Studien zu dem Thema.\n",
      "\n",
      "\t إلى ترامب على أنه يمثل مصالح الشركات الكبرى بشكل أفضل ( 64 بالمئة مقابل 20 ) والأثرياء ( 67 بالمئة مقابل 19 ) بهامش أوسع.\n",
      "\n",
      "\tThe fuel for the far right comes from disillusionment.\n",
      "\n",
      "\tBack in the room he’s squatting in, he curls around himself, rejecting the world with his physicality.\n",
      "\n",
      "\tالتحول الذي يقوده شي لقد بدأ التحول في نهج شي يصبح واضحا مع اندلاع الحرب في أوكرانيا.\n",
      "\n",
      "\tويبدو أنه يرى روسيا كمواطنة حاسمة في هذا المسعى.\n",
      "\n",
      "\tI felt like I’d accomplished something creative for the first time in a long time.\n",
      "\n",
      "\tوهذه التحديات في صميم أولويات إيران خلال قمة البريكس الأولى المنعقدة  في روسيا.\n",
      "\n",
      "\tففي رام الله ، قال الفلسطينيون إنه لا فرق في سياسة الديمقراطي أو الجمهوري بشأن قضيتهم.\n",
      "\n"
     ]
    }
   ],
   "source": [
    "false_negatives = test_results[test_results[\"error_type\"] == \"False Negative\"]\n",
    "print(f\"Number of False Negatives (distilmbert): {false_negatives.shape[0]}\")\n",
    "print(\"\\nEXAMPLES:\\n\")\n",
    "for ex in false_negatives.head(10).sentence:\n",
    "    print(f\"\\t{ex}\\n\")"
   ]
  },
  {
   "cell_type": "code",
   "execution_count": 35,
   "id": "uEvnBn32PZ2a",
   "metadata": {
    "colab": {
     "base_uri": "https://localhost:8080/",
     "height": 939
    },
    "id": "uEvnBn32PZ2a",
    "outputId": "eb96f147-a99b-4c0c-8704-ffce14f349d9"
   },
   "outputs": [
    {
     "data": {
      "image/png": "[encoded data removed]",
      "text/plain": [
       "<Figure size 640x480 with 2 Axes>"
      ]
     },
     "metadata": {},
     "output_type": "display_data"
    },
    {
     "data": {
      "image/png": "[encoded data removed]",
      "text/plain": [
       "<Figure size 640x480 with 2 Axes>"
      ]
     },
     "metadata": {},
     "output_type": "display_data"
    }
   ],
   "source": [
    "plot_confusion_matrix(\"distilmbert\", test_results)"
   ]
  },
  {
   "cell_type": "code",
   "execution_count": 36,
   "id": "8bK5eBLWPaGh",
   "metadata": {
    "colab": {
     "base_uri": "https://localhost:8080/",
     "height": 472
    },
    "id": "8bK5eBLWPaGh",
    "outputId": "7ab3aeeb-c553-4e39-ce9c-d0a7511db6a0"
   },
   "outputs": [
    {
     "data": {
      "image/png": "[encoded data removed]",
      "text/plain": [
       "<Figure size 640x480 with 1 Axes>"
      ]
     },
     "metadata": {},
     "output_type": "display_data"
    }
   ],
   "source": [
    "precision, recall, thresholds = precision_recall_curve(test_labels, test_predictions[:, 1])\n",
    "average_precision = average_precision_score(test_labels, test_predictions[:, 1])\n",
    "\n",
    "# Plot the Precision-Recall curve\n",
    "plot_precision_recall_curve(\"distilmbert\", precision, recall, average_precision)"
   ]
  },
  {
   "cell_type": "markdown",
   "id": "87f5127d-f5d9-4369-a056-598679ff6da7",
   "metadata": {
    "id": "87f5127d-f5d9-4369-a056-598679ff6da7"
   },
   "source": [
    "### Zero-Shot"
   ]
  },
  {
   "cell_type": "code",
   "execution_count": 37,
   "id": "0E2tZ6iPQZCc",
   "metadata": {
    "id": "0E2tZ6iPQZCc"
   },
   "outputs": [],
   "source": [
    "# GREEK"
   ]
  },
  {
   "cell_type": "code",
   "execution_count": 38,
   "id": "SuzPCALvbv4k",
   "metadata": {
    "id": "SuzPCALvbv4k"
   },
   "outputs": [],
   "source": [
    "# During testing we found that two examples are classified as \"Uncertain\", so we decided to not consider these results."
   ]
  },
  {
   "cell_type": "code",
   "execution_count": 47,
   "id": "TbpDl24xQaok",
   "metadata": {
    "id": "TbpDl24xQaok"
   },
   "outputs": [],
   "source": [
    "# POLISH"
   ]
  },
  {
   "cell_type": "code",
   "execution_count": 48,
   "id": "7ygEnCEqQ7ZD",
   "metadata": {
    "colab": {
     "base_uri": "https://localhost:8080/",
     "height": 275,
     "referenced_widgets": [
      "aaf44f3540c5431ba221888a5d63aa1b",
      "d4ad774b9ecc40dbb03e1b17936f680f",
      "dc3c1bc01de64e2da0a45fb286b0cac6",
      "2b374d24e59f43ff90cc902d7ba1d57b",
      "b87a40a128844c7b802d75bde178e4a7",
      "dfa4860e94be42409936c04585fe4b9d",
      "31b3e7636f8245c293210b4ee6e0bee9",
      "a549414727014797831716c76e29f4a9",
      "1f362b84317d4fcaa9bc3ee4d292e305",
      "af7cd83d7a00495ebafb20b9edb56544",
      "5d1f7c17c1514d7cb2b65cd238f782a6"
     ]
    },
    "id": "7ygEnCEqQ7ZD",
    "outputId": "7fb3dd03-f8ba-4faf-e1dc-a5d4ceb33c01"
   },
   "outputs": [
    {
     "data": {
      "application/vnd.jupyter.widget-view+json": {
       "model_id": "aaf44f3540c5431ba221888a5d63aa1b",
       "version_major": 2,
       "version_minor": 0
      },
      "text/plain": [
       "Map:   0%|          | 0/351 [00:00<?, ? examples/s]"
      ]
     },
     "metadata": {},
     "output_type": "display_data"
    },
    {
     "data": {
      "text/html": [],
      "text/plain": [
       "<IPython.core.display.HTML object>"
      ]
     },
     "metadata": {},
     "output_type": "display_data"
    },
    {
     "name": "stdout",
     "output_type": "stream",
     "text": [
      "INFO : The file is properly formatted\n",
      "INFO : Started evaluating results for Task 1...\n",
      "INFO : \n",
      "            macro-F1: 0.6443\n",
      "            macro-P: 0.6811\n",
      "            macro-R: 0.6504\n",
      "            \n",
      "            SUBJ-F1: 0.5551\n",
      "            SUBJ-P: 0.7157\n",
      "            SUBJ-R: 0.4534\n",
      "            \n",
      "            accuracy: 0.6667\n",
      "        \n"
     ]
    }
   ],
   "source": [
    "dataset_test = Dataset.from_pandas(df_test_pol)\n",
    "tokenized_test = dataset_test.map(preprocess_function, batched=True)\n",
    "\n",
    "predictions = trainer.predict(tokenized_test)\n",
    "pred_labels = np.argmax(predictions.predictions, axis=1)\n",
    "\n",
    "submission = pd.DataFrame({\n",
    "    \"sentence_id\": df_test_pol[\"sentence_id\"],\n",
    "    \"label\": [\"OBJ\" if l == 1 else \"SUBJ\" for l in pred_labels]\n",
    "})\n",
    "submission_path = \"zero_shot_pol_predictions.tsv\"\n",
    "submission.to_csv(submission_path, sep=\"\\t\", index=False)\n",
    "\n",
    "ground_truth_path = \"clef2025-checkthat-lab/task1/data/polish/test_pol_labeled.tsv\"\n",
    "!python clef2025-checkthat-lab/task1/scorer/evaluate.py -g {ground_truth_path} -p {submission_path}"
   ]
  },
  {
   "cell_type": "code",
   "execution_count": 49,
   "id": "KTo7HBvyTGQS",
   "metadata": {
    "id": "KTo7HBvyTGQS"
   },
   "outputs": [],
   "source": [
    "test_predictions, test_labels = predictions.predictions, predictions.label_ids\n",
    "\n",
    "# Convert predictions and labels to pandas DataFrame (Transformer)\n",
    "test_results = pd.DataFrame({\n",
    "    \"sentence\": df_test_pol[\"sentence\"],\n",
    "    \"true_label\": test_labels,\n",
    "    \"predicted_label\": pred_labels\n",
    "})\n",
    "\n",
    "# Add a column to classify error types\n",
    "test_results[\"error_type\"] = np.where(\n",
    "    test_results[\"true_label\"] == test_results[\"predicted_label\"],\n",
    "    \"Correct\",\n",
    "    np.where(\n",
    "        (test_results[\"true_label\"] == 1) & (test_results[\"predicted_label\"] == 0),\n",
    "        \"False Negative\",\n",
    "        \"False Positive\"\n",
    "    )\n",
    ")"
   ]
  },
  {
   "cell_type": "code",
   "execution_count": 50,
   "id": "YRP4CSqZS6j2",
   "metadata": {
    "colab": {
     "base_uri": "https://localhost:8080/",
     "height": 942
    },
    "id": "YRP4CSqZS6j2",
    "outputId": "d42b13e4-1893-4cc3-88a7-520557f352b1"
   },
   "outputs": [
    {
     "data": {
      "image/png": "[encoded data removed]",
      "text/plain": [
       "<Figure size 640x480 with 2 Axes>"
      ]
     },
     "metadata": {},
     "output_type": "display_data"
    },
    {
     "data": {
      "image/png": "[encoded data removed]",
      "text/plain": [
       "<Figure size 640x480 with 2 Axes>"
      ]
     },
     "metadata": {},
     "output_type": "display_data"
    }
   ],
   "source": [
    "plot_confusion_matrix(\"distilmbert\", test_results)"
   ]
  },
  {
   "cell_type": "code",
   "execution_count": 51,
   "id": "tB1g9D94TSTY",
   "metadata": {
    "colab": {
     "base_uri": "https://localhost:8080/",
     "height": 472
    },
    "id": "tB1g9D94TSTY",
    "outputId": "5413eb14-1f16-45ff-d171-eea0d6155205"
   },
   "outputs": [
    {
     "data": {
      "image/png": "[encoded data removed]",
      "text/plain": [
       "<Figure size 640x480 with 1 Axes>"
      ]
     },
     "metadata": {},
     "output_type": "display_data"
    }
   ],
   "source": [
    "precision, recall, thresholds = precision_recall_curve(test_labels, test_predictions[:, 1])\n",
    "average_precision = average_precision_score(test_labels, test_predictions[:, 1])\n",
    "\n",
    "# Plot the Precision-Recall curve\n",
    "plot_precision_recall_curve(\"distilmbert\", precision, recall, average_precision)"
   ]
  },
  {
   "cell_type": "code",
   "execution_count": 52,
   "id": "iX3uxmoPQbwk",
   "metadata": {
    "id": "iX3uxmoPQbwk"
   },
   "outputs": [],
   "source": [
    "# ROMANIAN"
   ]
  },
  {
   "cell_type": "code",
   "execution_count": 53,
   "id": "xUJn4nmaQ7sU",
   "metadata": {
    "colab": {
     "base_uri": "https://localhost:8080/",
     "height": 275,
     "referenced_widgets": [
      "37788d9b74694626b9c03b36b099b490",
      "846679ed2feb43bf8fa85e5a7c9a86db",
      "ca8a8333042048a19f3a35dfd9417c8d",
      "54a59888fe2c4b3fa32a461cd44ea3a2",
      "b4d5d33dafc5441884b9e20c7d3ce852",
      "e0eb194321f64cef848690f1cb92c66d",
      "4551ca185b71401ba13363d729c00003",
      "d4674e9615b74615a55130d014baa89d",
      "1e71836ba78b47408cefeb022014de53",
      "3fb77d0c63e147c3a4d8384d48e92697",
      "40b6d88a4a7744ce9b46d373f3f4b4d1"
     ]
    },
    "id": "xUJn4nmaQ7sU",
    "outputId": "ffc91c10-c282-4912-dbb7-decf685573d0"
   },
   "outputs": [
    {
     "data": {
      "application/vnd.jupyter.widget-view+json": {
       "model_id": "37788d9b74694626b9c03b36b099b490",
       "version_major": 2,
       "version_minor": 0
      },
      "text/plain": [
       "Map:   0%|          | 0/206 [00:00<?, ? examples/s]"
      ]
     },
     "metadata": {},
     "output_type": "display_data"
    },
    {
     "data": {
      "text/html": [],
      "text/plain": [
       "<IPython.core.display.HTML object>"
      ]
     },
     "metadata": {},
     "output_type": "display_data"
    },
    {
     "name": "stdout",
     "output_type": "stream",
     "text": [
      "INFO : The file is properly formatted\n",
      "INFO : Started evaluating results for Task 1...\n",
      "INFO : \n",
      "            macro-F1: 0.7791\n",
      "            macro-P: 0.7743\n",
      "            macro-R: 0.7845\n",
      "            \n",
      "            SUBJ-F1: 0.6729\n",
      "            SUBJ-P: 0.6545\n",
      "            SUBJ-R: 0.6923\n",
      "            \n",
      "            accuracy: 0.8301\n",
      "        \n"
     ]
    }
   ],
   "source": [
    "dataset_test = Dataset.from_pandas(df_test_ro)\n",
    "tokenized_test = dataset_test.map(preprocess_function, batched=True)\n",
    "\n",
    "predictions = trainer.predict(tokenized_test)\n",
    "pred_labels = np.argmax(predictions.predictions, axis=1)\n",
    "\n",
    "submission = pd.DataFrame({\n",
    "    \"sentence_id\": df_test_ro[\"sentence_id\"],\n",
    "    \"label\": [\"OBJ\" if l == 1 else \"SUBJ\" for l in pred_labels]\n",
    "})\n",
    "submission_path = \"zero_shot_ro_predictions.tsv\"\n",
    "submission.to_csv(submission_path, sep=\"\\t\", index=False)\n",
    "\n",
    "ground_truth_path = \"clef2025-checkthat-lab/task1/data/romanian/test_ro_labeled.tsv\"\n",
    "!python clef2025-checkthat-lab/task1/scorer/evaluate.py -g {ground_truth_path} -p {submission_path}"
   ]
  },
  {
   "cell_type": "code",
   "execution_count": 54,
   "id": "vzICwksWTHNd",
   "metadata": {
    "id": "vzICwksWTHNd"
   },
   "outputs": [],
   "source": [
    "test_predictions, test_labels = predictions.predictions, predictions.label_ids\n",
    "\n",
    "# Convert predictions and labels to pandas DataFrame (Transformer)\n",
    "test_results = pd.DataFrame({\n",
    "    \"sentence\": df_test_ro[\"sentence\"],\n",
    "    \"true_label\": test_labels,\n",
    "    \"predicted_label\": pred_labels\n",
    "})\n",
    "\n",
    "# Add a column to classify error types\n",
    "test_results[\"error_type\"] = np.where(\n",
    "    test_results[\"true_label\"] == test_results[\"predicted_label\"],\n",
    "    \"Correct\",\n",
    "    np.where(\n",
    "        (test_results[\"true_label\"] == 1) & (test_results[\"predicted_label\"] == 0),\n",
    "        \"False Negative\",\n",
    "        \"False Positive\"\n",
    "    )\n",
    ")"
   ]
  },
  {
   "cell_type": "code",
   "execution_count": 55,
   "id": "SAQsdYFLTLgK",
   "metadata": {
    "colab": {
     "base_uri": "https://localhost:8080/",
     "height": 939
    },
    "id": "SAQsdYFLTLgK",
    "outputId": "9344bc0b-ae79-4929-ba6f-d125b9952240"
   },
   "outputs": [
    {
     "data": {
      "image/png": "[encoded data removed]",
      "text/plain": [
       "<Figure size 640x480 with 2 Axes>"
      ]
     },
     "metadata": {},
     "output_type": "display_data"
    },
    {
     "data": {
      "image/png": "[encoded data removed]",
      "text/plain": [
       "<Figure size 640x480 with 2 Axes>"
      ]
     },
     "metadata": {},
     "output_type": "display_data"
    }
   ],
   "source": [
    "plot_confusion_matrix(\"distilmbert\", test_results)"
   ]
  },
  {
   "cell_type": "code",
   "execution_count": 56,
   "id": "p-c1X6JqTTKq",
   "metadata": {
    "colab": {
     "base_uri": "https://localhost:8080/",
     "height": 472
    },
    "id": "p-c1X6JqTTKq",
    "outputId": "9ff06617-8453-4964-a937-d5e5c3df06ea"
   },
   "outputs": [
    {
     "data": {
      "image/png": "[encoded data removed]",
      "text/plain": [
       "<Figure size 640x480 with 1 Axes>"
      ]
     },
     "metadata": {},
     "output_type": "display_data"
    }
   ],
   "source": [
    "precision, recall, thresholds = precision_recall_curve(test_labels, test_predictions[:, 1])\n",
    "average_precision = average_precision_score(test_labels, test_predictions[:, 1])\n",
    "\n",
    "# Plot the Precision-Recall curve\n",
    "plot_precision_recall_curve(\"distilmbert\", precision, recall, average_precision)"
   ]
  },
  {
   "cell_type": "code",
   "execution_count": 57,
   "id": "9b2NiKKdQbho",
   "metadata": {
    "id": "9b2NiKKdQbho"
   },
   "outputs": [],
   "source": [
    "# UKRAINIAN"
   ]
  },
  {
   "cell_type": "code",
   "execution_count": 58,
   "id": "f7bad2f5-d362-4594-8c55-e08ce725bd25",
   "metadata": {
    "colab": {
     "base_uri": "https://localhost:8080/",
     "height": 275,
     "referenced_widgets": [
      "ee63ab83a571425b8e43bdb0fce3e9ec",
      "3bfe621551aa4daba1c908cb88bf973b",
      "b8e5d47f00074be6bc5f89af838da05c",
      "579a850685b844ca87a9b0af3d6fad7e",
      "eb00d062488b41f0afe3f2fbde1911e1",
      "1fa2a65276e94ee297fba5f3efc8cf6d",
      "bcce290f39b94eaaa795a29b845ff68a",
      "11d628f4083148e1bfb563abf2f0ebe7",
      "34d9666b7eee47b5888e97073f926cbb",
      "36f5696607ab477ab52226f178994bb3",
      "fb8afee6cfa04a349b9c317e5c3e3edb"
     ]
    },
    "id": "f7bad2f5-d362-4594-8c55-e08ce725bd25",
    "outputId": "bec00f6a-bdd7-4eeb-9fe0-1c56463a63c4"
   },
   "outputs": [
    {
     "data": {
      "application/vnd.jupyter.widget-view+json": {
       "model_id": "ee63ab83a571425b8e43bdb0fce3e9ec",
       "version_major": 2,
       "version_minor": 0
      },
      "text/plain": [
       "Map:   0%|          | 0/297 [00:00<?, ? examples/s]"
      ]
     },
     "metadata": {},
     "output_type": "display_data"
    },
    {
     "data": {
      "text/html": [],
      "text/plain": [
       "<IPython.core.display.HTML object>"
      ]
     },
     "metadata": {},
     "output_type": "display_data"
    },
    {
     "name": "stdout",
     "output_type": "stream",
     "text": [
      "INFO : The file is properly formatted\n",
      "INFO : Started evaluating results for Task 1...\n",
      "INFO : \n",
      "            macro-F1: 0.5854\n",
      "            macro-P: 0.5842\n",
      "            macro-R: 0.5993\n",
      "            \n",
      "            SUBJ-F1: 0.4262\n",
      "            SUBJ-P: 0.3714\n",
      "            SUBJ-R: 0.5000\n",
      "            \n",
      "            accuracy: 0.6465\n",
      "        \n"
     ]
    }
   ],
   "source": [
    "dataset_test = Dataset.from_pandas(df_test_ukr)\n",
    "tokenized_test = dataset_test.map(preprocess_function, batched=True)\n",
    "\n",
    "predictions = trainer.predict(tokenized_test)\n",
    "pred_labels = np.argmax(predictions.predictions, axis=1)\n",
    "\n",
    "submission = pd.DataFrame({\n",
    "    \"sentence_id\": df_test_ukr[\"sentence_id\"],\n",
    "    \"label\": [\"OBJ\" if l == 1 else \"SUBJ\" for l in pred_labels]\n",
    "})\n",
    "submission_path = \"zero_shot_ukr_predictions.tsv\"\n",
    "submission.to_csv(submission_path, sep=\"\\t\", index=False)\n",
    "\n",
    "ground_truth_path = \"clef2025-checkthat-lab/task1/data/ukrainian/test_ukr_labeled.tsv\"\n",
    "!python clef2025-checkthat-lab/task1/scorer/evaluate.py -g {ground_truth_path} -p {submission_path}"
   ]
  },
  {
   "cell_type": "code",
   "execution_count": 59,
   "id": "1BLVtCiWTH_I",
   "metadata": {
    "id": "1BLVtCiWTH_I"
   },
   "outputs": [],
   "source": [
    "test_predictions, test_labels = predictions.predictions, predictions.label_ids\n",
    "\n",
    "# Convert predictions and labels to pandas DataFrame (Transformer)\n",
    "test_results = pd.DataFrame({\n",
    "    \"sentence\": df_test_ukr[\"sentence\"],\n",
    "    \"true_label\": test_labels,\n",
    "    \"predicted_label\": pred_labels\n",
    "})\n",
    "\n",
    "# Add a column to classify error types\n",
    "test_results[\"error_type\"] = np.where(\n",
    "    test_results[\"true_label\"] == test_results[\"predicted_label\"],\n",
    "    \"Correct\",\n",
    "    np.where(\n",
    "        (test_results[\"true_label\"] == 1) & (test_results[\"predicted_label\"] == 0),\n",
    "        \"False Negative\",\n",
    "        \"False Positive\"\n",
    "    )\n",
    ")"
   ]
  },
  {
   "cell_type": "code",
   "execution_count": 60,
   "id": "HH5-wgq1TMYd",
   "metadata": {
    "colab": {
     "base_uri": "https://localhost:8080/",
     "height": 939
    },
    "id": "HH5-wgq1TMYd",
    "outputId": "45d1f365-1b31-437f-de11-3e010b3f0573"
   },
   "outputs": [
    {
     "data": {
      "image/png": "[encoded data removed]",
      "text/plain": [
       "<Figure size 640x480 with 2 Axes>"
      ]
     },
     "metadata": {},
     "output_type": "display_data"
    },
    {
     "data": {
      "image/png": "[encoded data removed]",
      "text/plain": [
       "<Figure size 640x480 with 2 Axes>"
      ]
     },
     "metadata": {},
     "output_type": "display_data"
    }
   ],
   "source": [
    "plot_confusion_matrix(\"distilmbert\", test_results)"
   ]
  },
  {
   "cell_type": "code",
   "execution_count": 61,
   "id": "uukbd1CbTT3h",
   "metadata": {
    "colab": {
     "base_uri": "https://localhost:8080/",
     "height": 472
    },
    "id": "uukbd1CbTT3h",
    "outputId": "fcf733ef-91c0-45dc-89e7-9447ebe9b9a9"
   },
   "outputs": [
    {
     "data": {
      "image/png": "[encoded data removed]",
      "text/plain": [
       "<Figure size 640x480 with 1 Axes>"
      ]
     },
     "metadata": {},
     "output_type": "display_data"
    }
   ],
   "source": [
    "precision, recall, thresholds = precision_recall_curve(test_labels, test_predictions[:, 1])\n",
    "average_precision = average_precision_score(test_labels, test_predictions[:, 1])\n",
    "\n",
    "# Plot the Precision-Recall curve\n",
    "plot_precision_recall_curve(\"distilmbert\", precision, recall, average_precision)"
   ]
  },
  {
   "cell_type": "markdown",
   "id": "aT_da9preClg",
   "metadata": {
    "id": "aT_da9preClg"
   },
   "source": [
    "## Solution Download"
   ]
  },
  {
   "cell_type": "code",
   "execution_count": 62,
   "id": "8M5OgY4jeB-z",
   "metadata": {
    "colab": {
     "base_uri": "https://localhost:8080/"
    },
    "id": "8M5OgY4jeB-z",
    "outputId": "e0639b50-a854-457b-9a48-542120489ce4"
   },
   "outputs": [
    {
     "name": "stdout",
     "output_type": "stream",
     "text": [
      "\tzip warning: name not matched: distilmbert-subjectivity-en\n",
      "\tzip warning: name not matched: distilmbert-subjectivity-it\n",
      "  adding: distilmbert-subjectivity-multi/ (stored 0%)\n",
      "  adding: distilmbert-subjectivity-multi/special_tokens_map.json (deflated 42%)\n",
      "  adding: distilmbert-subjectivity-multi/tokenizer_config.json (deflated 75%)\n",
      "  adding: distilmbert-subjectivity-multi/model.safetensors (deflated 7%)\n",
      "  adding: distilmbert-subjectivity-multi/training_args.bin (deflated 52%)\n",
      "  adding: distilmbert-subjectivity-multi/config.json (deflated 45%)\n",
      "  adding: distilmbert-subjectivity-multi/tokenizer.json (deflated 67%)\n",
      "  adding: distilmbert-subjectivity-multi/vocab.txt (deflated 45%)\n"
     ]
    }
   ],
   "source": [
    "!zip -r distilmbert_models.zip distilmbert-subjectivity-en distilmbert-subjectivity-it distilmbert-subjectivity-multi"
   ]
  },
  {
   "cell_type": "code",
   "execution_count": 63,
   "id": "W0TVn2HKeIQY",
   "metadata": {
    "colab": {
     "base_uri": "https://localhost:8080/"
    },
    "id": "W0TVn2HKeIQY",
    "outputId": "4138b62a-fb6b-4077-9996-586904391b18"
   },
   "outputs": [
    {
     "name": "stdout",
     "output_type": "stream",
     "text": [
      "\tzip warning: name not matched: mono_en_test_predictions.tsv\n",
      "\tzip warning: name not matched: mono_it_test_predictions.tsv\n",
      "  adding: multilingual_test_predictions.tsv (deflated 45%)\n",
      "  adding: zero_shot_gr_predictions.tsv (deflated 45%)\n",
      "  adding: zero_shot_pol_predictions.tsv (deflated 46%)\n",
      "  adding: zero_shot_ro_predictions.tsv (deflated 45%)\n",
      "  adding: zero_shot_ukr_predictions.tsv (deflated 46%)\n"
     ]
    }
   ],
   "source": [
    "!zip distilmbert_predictions.zip \\\n",
    "mono_en_test_predictions.tsv \\\n",
    "mono_it_test_predictions.tsv \\\n",
    "multilingual_test_predictions.tsv \\\n",
    "zero_shot_gr_predictions.tsv \\\n",
    "zero_shot_pol_predictions.tsv \\\n",
    "zero_shot_ro_predictions.tsv \\\n",
    "zero_shot_ukr_predictions.tsv"
   ]
  },
  {
   "cell_type": "code",
   "execution_count": 64,
   "id": "oZeLka5beK_z",
   "metadata": {
    "colab": {
     "base_uri": "https://localhost:8080/",
     "height": 17
    },
    "id": "oZeLka5beK_z",
    "outputId": "92c3611e-0c84-41f9-a159-6a44c43bc8d2"
   },
   "outputs": [
    {
     "data": {
      "application/javascript": [
       "\n",
       "    async function download(id, filename, size) {\n",
       "      if (!google.colab.kernel.accessAllowed) {\n",
       "        return;\n",
       "      }\n",
       "      const div = document.createElement('div');\n",
       "      const label = document.createElement('label');\n",
       "      label.textContent = `Downloading \"${filename}\": `;\n",
       "      div.appendChild(label);\n",
       "      const progress = document.createElement('progress');\n",
       "      progress.max = size;\n",
       "      div.appendChild(progress);\n",
       "      document.body.appendChild(div);\n",
       "\n",
       "      const buffers = [];\n",
       "      let downloaded = 0;\n",
       "\n",
       "      const channel = await google.colab.kernel.comms.open(id);\n",
       "      // Send a message to notify the kernel that we're ready.\n",
       "      channel.send({})\n",
       "\n",
       "      for await (const message of channel.messages) {\n",
       "        // Send a message to notify the kernel that we're ready.\n",
       "        channel.send({})\n",
       "        if (message.buffers) {\n",
       "          for (const buffer of message.buffers) {\n",
       "            buffers.push(buffer);\n",
       "            downloaded += buffer.byteLength;\n",
       "            progress.value = downloaded;\n",
       "          }\n",
       "        }\n",
       "      }\n",
       "      const blob = new Blob(buffers, {type: 'application/binary'});\n",
       "      const a = document.createElement('a');\n",
       "      a.href = window.URL.createObjectURL(blob);\n",
       "      a.download = filename;\n",
       "      div.appendChild(a);\n",
       "      a.click();\n",
       "      div.remove();\n",
       "    }\n",
       "  "
      ],
      "text/plain": [
       "<IPython.core.display.Javascript object>"
      ]
     },
     "metadata": {},
     "output_type": "display_data"
    },
    {
     "data": {
      "application/javascript": [
       "download(\"download_9aa74f5e-33dd-4ce8-8878-80df72bb2a85\", \"distilmbert_models.zip\", 502973133)"
      ],
      "text/plain": [
       "<IPython.core.display.Javascript object>"
      ]
     },
     "metadata": {},
     "output_type": "display_data"
    },
    {
     "data": {
      "application/javascript": [
       "\n",
       "    async function download(id, filename, size) {\n",
       "      if (!google.colab.kernel.accessAllowed) {\n",
       "        return;\n",
       "      }\n",
       "      const div = document.createElement('div');\n",
       "      const label = document.createElement('label');\n",
       "      label.textContent = `Downloading \"${filename}\": `;\n",
       "      div.appendChild(label);\n",
       "      const progress = document.createElement('progress');\n",
       "      progress.max = size;\n",
       "      div.appendChild(progress);\n",
       "      document.body.appendChild(div);\n",
       "\n",
       "      const buffers = [];\n",
       "      let downloaded = 0;\n",
       "\n",
       "      const channel = await google.colab.kernel.comms.open(id);\n",
       "      // Send a message to notify the kernel that we're ready.\n",
       "      channel.send({})\n",
       "\n",
       "      for await (const message of channel.messages) {\n",
       "        // Send a message to notify the kernel that we're ready.\n",
       "        channel.send({})\n",
       "        if (message.buffers) {\n",
       "          for (const buffer of message.buffers) {\n",
       "            buffers.push(buffer);\n",
       "            downloaded += buffer.byteLength;\n",
       "            progress.value = downloaded;\n",
       "          }\n",
       "        }\n",
       "      }\n",
       "      const blob = new Blob(buffers, {type: 'application/binary'});\n",
       "      const a = document.createElement('a');\n",
       "      a.href = window.URL.createObjectURL(blob);\n",
       "      a.download = filename;\n",
       "      div.appendChild(a);\n",
       "      a.click();\n",
       "      div.remove();\n",
       "    }\n",
       "  "
      ],
      "text/plain": [
       "<IPython.core.display.Javascript object>"
      ]
     },
     "metadata": {},
     "output_type": "display_data"
    },
    {
     "data": {
      "application/javascript": [
       "download(\"download_c4d715f1-d371-4ec9-b730-b29633454596\", \"distilmbert_predictions.zip\", 70194)"
      ],
      "text/plain": [
       "<IPython.core.display.Javascript object>"
      ]
     },
     "metadata": {},
     "output_type": "display_data"
    }
   ],
   "source": [
    "from google.colab import files\n",
    "\n",
    "# Download the zipped folders\n",
    "files.download(\"distilmbert_models.zip\")\n",
    "\n",
    "# Download the zipped predictions\n",
    "files.download(\"distilmbert_predictions.zip\")\n"
   ]
  },
  {
   "cell_type": "code",
   "execution_count": null,
   "id": "6jx6iG0Vf8kz",
   "metadata": {
    "id": "6jx6iG0Vf8kz"
   },
   "outputs": [],
   "source": []
  }
 ],
 "metadata": {
  "accelerator": "GPU",
  "colab": {
   "gpuType": "T4",
   "provenance": []
  },
  "kernelspec": {
   "display_name": "Python 3.10 (Custom)",
   "language": "python",
   "name": "py310"
  },
  "language_info": {
   "codemirror_mode": {
    "name": "ipython",
    "version": 3
   },
   "file_extension": ".py",
   "mimetype": "text/x-python",
   "name": "python",
   "nbconvert_exporter": "python",
   "pygments_lexer": "ipython3",
   "version": "3.10.9"
  },
  "widgets": {
   "application/vnd.jupyter.widget-state+json": {
    "0058effdf457459a81511b71e8d46d41": {
     "model_module": "@jupyter-widgets/controls",
     "model_module_version": "1.5.0",
     "model_name": "DescriptionStyleModel",
     "state": {
      "_model_module": "@jupyter-widgets/controls",
      "_model_module_version": "1.5.0",
      "_model_name": "DescriptionStyleModel",
      "_view_count": null,
      "_view_module": "@jupyter-widgets/base",
      "_view_module_version": "1.2.0",
      "_view_name": "StyleView",
      "description_width": ""
     }
    },
    "0288d9ef38dd4d598aaa4ce9d572e9b2": {
     "model_module": "@jupyter-widgets/base",
     "model_module_version": "1.2.0",
     "model_name": "LayoutModel",
     "state": {
      "_model_module": "@jupyter-widgets/base",
      "_model_module_version": "1.2.0",
      "_model_name": "LayoutModel",
      "_view_count": null,
      "_view_module": "@jupyter-widgets/base",
      "_view_module_version": "1.2.0",
      "_view_name": "LayoutView",
      "align_content": null,
      "align_items": null,
      "align_self": null,
      "border": null,
      "bottom": null,
      "display": null,
      "flex": null,
      "flex_flow": null,
      "grid_area": null,
      "grid_auto_columns": null,
      "grid_auto_flow": null,
      "grid_auto_rows": null,
      "grid_column": null,
      "grid_gap": null,
      "grid_row": null,
      "grid_template_areas": null,
      "grid_template_columns": null,
      "grid_template_rows": null,
      "height": null,
      "justify_content": null,
      "justify_items": null,
      "left": null,
      "margin": null,
      "max_height": null,
      "max_width": null,
      "min_height": null,
      "min_width": null,
      "object_fit": null,
      "object_position": null,
      "order": null,
      "overflow": null,
      "overflow_x": null,
      "overflow_y": null,
      "padding": null,
      "right": null,
      "top": null,
      "visibility": null,
      "width": null
     }
    },
    "03089b64dab14211881ce54ab048f673": {
     "model_module": "@jupyter-widgets/controls",
     "model_module_version": "1.5.0",
     "model_name": "HBoxModel",
     "state": {
      "_dom_classes": [],
      "_model_module": "@jupyter-widgets/controls",
      "_model_module_version": "1.5.0",
      "_model_name": "HBoxModel",
      "_view_count": null,
      "_view_module": "@jupyter-widgets/controls",
      "_view_module_version": "1.5.0",
      "_view_name": "HBoxView",
      "box_style": "",
      "children": [
       "IPY_MODEL_b5a55ca142694b4dad24498ae359045f",
       "IPY_MODEL_d8e564f3fa394c348e3d8f1dabc8279f",
       "IPY_MODEL_1b02892581a04d8f9c71a5d724c10528"
      ],
      "layout": "IPY_MODEL_3d3cb192b5434a84b16caeb680d0661d"
     }
    },
    "049d5414303e4f53bc38b015322a760d": {
     "model_module": "@jupyter-widgets/base",
     "model_module_version": "1.2.0",
     "model_name": "LayoutModel",
     "state": {
      "_model_module": "@jupyter-widgets/base",
      "_model_module_version": "1.2.0",
      "_model_name": "LayoutModel",
      "_view_count": null,
      "_view_module": "@jupyter-widgets/base",
      "_view_module_version": "1.2.0",
      "_view_name": "LayoutView",
      "align_content": null,
      "align_items": null,
      "align_self": null,
      "border": null,
      "bottom": null,
      "display": null,
      "flex": null,
      "flex_flow": null,
      "grid_area": null,
      "grid_auto_columns": null,
      "grid_auto_flow": null,
      "grid_auto_rows": null,
      "grid_column": null,
      "grid_gap": null,
      "grid_row": null,
      "grid_template_areas": null,
      "grid_template_columns": null,
      "grid_template_rows": null,
      "height": null,
      "justify_content": null,
      "justify_items": null,
      "left": null,
      "margin": null,
      "max_height": null,
      "max_width": null,
      "min_height": null,
      "min_width": null,
      "object_fit": null,
      "object_position": null,
      "order": null,
      "overflow": null,
      "overflow_x": null,
      "overflow_y": null,
      "padding": null,
      "right": null,
      "top": null,
      "visibility": null,
      "width": null
     }
    },
    "077def9213174f1495e7b50e45af9fc5": {
     "model_module": "@jupyter-widgets/controls",
     "model_module_version": "1.5.0",
     "model_name": "ProgressStyleModel",
     "state": {
      "_model_module": "@jupyter-widgets/controls",
      "_model_module_version": "1.5.0",
      "_model_name": "ProgressStyleModel",
      "_view_count": null,
      "_view_module": "@jupyter-widgets/base",
      "_view_module_version": "1.2.0",
      "_view_name": "StyleView",
      "bar_color": null,
      "description_width": ""
     }
    },
    "0d270763cf5549189d861706c0bdc93b": {
     "model_module": "@jupyter-widgets/controls",
     "model_module_version": "1.5.0",
     "model_name": "ProgressStyleModel",
     "state": {
      "_model_module": "@jupyter-widgets/controls",
      "_model_module_version": "1.5.0",
      "_model_name": "ProgressStyleModel",
      "_view_count": null,
      "_view_module": "@jupyter-widgets/base",
      "_view_module_version": "1.2.0",
      "_view_name": "StyleView",
      "bar_color": null,
      "description_width": ""
     }
    },
    "105c67e884c048b8a60a4a14095e7e70": {
     "model_module": "@jupyter-widgets/controls",
     "model_module_version": "1.5.0",
     "model_name": "HBoxModel",
     "state": {
      "_dom_classes": [],
      "_model_module": "@jupyter-widgets/controls",
      "_model_module_version": "1.5.0",
      "_model_name": "HBoxModel",
      "_view_count": null,
      "_view_module": "@jupyter-widgets/controls",
      "_view_module_version": "1.5.0",
      "_view_name": "HBoxView",
      "box_style": "",
      "children": [
       "IPY_MODEL_443146c4c67b4577a270f17c582454fb",
       "IPY_MODEL_23499aabb707413d8d43b01375a5c002",
       "IPY_MODEL_fbbf8fd67c894d62bd80c0a4323c0ade"
      ],
      "layout": "IPY_MODEL_d53f498aa02c40b8a82e8be842d5494d"
     }
    },
    "108aecd60ab04b5b94c33eb440b3ec77": {
     "model_module": "@jupyter-widgets/base",
     "model_module_version": "1.2.0",
     "model_name": "LayoutModel",
     "state": {
      "_model_module": "@jupyter-widgets/base",
      "_model_module_version": "1.2.0",
      "_model_name": "LayoutModel",
      "_view_count": null,
      "_view_module": "@jupyter-widgets/base",
      "_view_module_version": "1.2.0",
      "_view_name": "LayoutView",
      "align_content": null,
      "align_items": null,
      "align_self": null,
      "border": null,
      "bottom": null,
      "display": null,
      "flex": null,
      "flex_flow": null,
      "grid_area": null,
      "grid_auto_columns": null,
      "grid_auto_flow": null,
      "grid_auto_rows": null,
      "grid_column": null,
      "grid_gap": null,
      "grid_row": null,
      "grid_template_areas": null,
      "grid_template_columns": null,
      "grid_template_rows": null,
      "height": null,
      "justify_content": null,
      "justify_items": null,
      "left": null,
      "margin": null,
      "max_height": null,
      "max_width": null,
      "min_height": null,
      "min_width": null,
      "object_fit": null,
      "object_position": null,
      "order": null,
      "overflow": null,
      "overflow_x": null,
      "overflow_y": null,
      "padding": null,
      "right": null,
      "top": null,
      "visibility": null,
      "width": null
     }
    },
    "10e87d54e69c44f1a59c57edc6f3e6ac": {
     "model_module": "@jupyter-widgets/base",
     "model_module_version": "1.2.0",
     "model_name": "LayoutModel",
     "state": {
      "_model_module": "@jupyter-widgets/base",
      "_model_module_version": "1.2.0",
      "_model_name": "LayoutModel",
      "_view_count": null,
      "_view_module": "@jupyter-widgets/base",
      "_view_module_version": "1.2.0",
      "_view_name": "LayoutView",
      "align_content": null,
      "align_items": null,
      "align_self": null,
      "border": null,
      "bottom": null,
      "display": null,
      "flex": null,
      "flex_flow": null,
      "grid_area": null,
      "grid_auto_columns": null,
      "grid_auto_flow": null,
      "grid_auto_rows": null,
      "grid_column": null,
      "grid_gap": null,
      "grid_row": null,
      "grid_template_areas": null,
      "grid_template_columns": null,
      "grid_template_rows": null,
      "height": null,
      "justify_content": null,
      "justify_items": null,
      "left": null,
      "margin": null,
      "max_height": null,
      "max_width": null,
      "min_height": null,
      "min_width": null,
      "object_fit": null,
      "object_position": null,
      "order": null,
      "overflow": null,
      "overflow_x": null,
      "overflow_y": null,
      "padding": null,
      "right": null,
      "top": null,
      "visibility": null,
      "width": null
     }
    },
    "10f57b926f4441d2936c283a31a58fb9": {
     "model_module": "@jupyter-widgets/controls",
     "model_module_version": "1.5.0",
     "model_name": "HBoxModel",
     "state": {
      "_dom_classes": [],
      "_model_module": "@jupyter-widgets/controls",
      "_model_module_version": "1.5.0",
      "_model_name": "HBoxModel",
      "_view_count": null,
      "_view_module": "@jupyter-widgets/controls",
      "_view_module_version": "1.5.0",
      "_view_name": "HBoxView",
      "box_style": "",
      "children": [
       "IPY_MODEL_b3248be9df6d42b69df0ade321486a26",
       "IPY_MODEL_938004c3a6ce4847830da888e8cbb525",
       "IPY_MODEL_43f7773cfebd49b88fa6298fba1ccdc8"
      ],
      "layout": "IPY_MODEL_b91aacd07e16499aa7c8b03c639ef7c7"
     }
    },
    "11d628f4083148e1bfb563abf2f0ebe7": {
     "model_module": "@jupyter-widgets/base",
     "model_module_version": "1.2.0",
     "model_name": "LayoutModel",
     "state": {
      "_model_module": "@jupyter-widgets/base",
      "_model_module_version": "1.2.0",
      "_model_name": "LayoutModel",
      "_view_count": null,
      "_view_module": "@jupyter-widgets/base",
      "_view_module_version": "1.2.0",
      "_view_name": "LayoutView",
      "align_content": null,
      "align_items": null,
      "align_self": null,
      "border": null,
      "bottom": null,
      "display": null,
      "flex": null,
      "flex_flow": null,
      "grid_area": null,
      "grid_auto_columns": null,
      "grid_auto_flow": null,
      "grid_auto_rows": null,
      "grid_column": null,
      "grid_gap": null,
      "grid_row": null,
      "grid_template_areas": null,
      "grid_template_columns": null,
      "grid_template_rows": null,
      "height": null,
      "justify_content": null,
      "justify_items": null,
      "left": null,
      "margin": null,
      "max_height": null,
      "max_width": null,
      "min_height": null,
      "min_width": null,
      "object_fit": null,
      "object_position": null,
      "order": null,
      "overflow": null,
      "overflow_x": null,
      "overflow_y": null,
      "padding": null,
      "right": null,
      "top": null,
      "visibility": null,
      "width": null
     }
    },
    "1ad0a0a75fa94ea8aaec43415ba34d0a": {
     "model_module": "@jupyter-widgets/controls",
     "model_module_version": "1.5.0",
     "model_name": "HTMLModel",
     "state": {
      "_dom_classes": [],
      "_model_module": "@jupyter-widgets/controls",
      "_model_module_version": "1.5.0",
      "_model_name": "HTMLModel",
      "_view_count": null,
      "_view_module": "@jupyter-widgets/controls",
      "_view_module_version": "1.5.0",
      "_view_name": "HTMLView",
      "description": "",
      "description_tooltip": null,
      "layout": "IPY_MODEL_f49e505b56694ead847695f886709acf",
      "placeholder": "​",
      "style": "IPY_MODEL_d103f8d490c74d309c235536efaec7a2",
      "value": " 667/667 [00:00&lt;00:00, 3804.14 examples/s]"
     }
    },
    "1b02892581a04d8f9c71a5d724c10528": {
     "model_module": "@jupyter-widgets/controls",
     "model_module_version": "1.5.0",
     "model_name": "HTMLModel",
     "state": {
      "_dom_classes": [],
      "_model_module": "@jupyter-widgets/controls",
      "_model_module_version": "1.5.0",
      "_model_name": "HTMLModel",
      "_view_count": null,
      "_view_module": "@jupyter-widgets/controls",
      "_view_module_version": "1.5.0",
      "_view_name": "HTMLView",
      "description": "",
      "description_tooltip": null,
      "layout": "IPY_MODEL_65334b91d72145198c1067bb7dc5ccf6",
      "placeholder": "​",
      "style": "IPY_MODEL_d0317bce53284066a0d7f0f4fe4ef575",
      "value": " 2393/2393 [00:02&lt;00:00, 991.60 examples/s]"
     }
    },
    "1e71836ba78b47408cefeb022014de53": {
     "model_module": "@jupyter-widgets/controls",
     "model_module_version": "1.5.0",
     "model_name": "ProgressStyleModel",
     "state": {
      "_model_module": "@jupyter-widgets/controls",
      "_model_module_version": "1.5.0",
      "_model_name": "ProgressStyleModel",
      "_view_count": null,
      "_view_module": "@jupyter-widgets/base",
      "_view_module_version": "1.2.0",
      "_view_name": "StyleView",
      "bar_color": null,
      "description_width": ""
     }
    },
    "1f362b84317d4fcaa9bc3ee4d292e305": {
     "model_module": "@jupyter-widgets/controls",
     "model_module_version": "1.5.0",
     "model_name": "ProgressStyleModel",
     "state": {
      "_model_module": "@jupyter-widgets/controls",
      "_model_module_version": "1.5.0",
      "_model_name": "ProgressStyleModel",
      "_view_count": null,
      "_view_module": "@jupyter-widgets/base",
      "_view_module_version": "1.2.0",
      "_view_name": "StyleView",
      "bar_color": null,
      "description_width": ""
     }
    },
    "1f995c9179c749a4a027f6213450fefc": {
     "model_module": "@jupyter-widgets/base",
     "model_module_version": "1.2.0",
     "model_name": "LayoutModel",
     "state": {
      "_model_module": "@jupyter-widgets/base",
      "_model_module_version": "1.2.0",
      "_model_name": "LayoutModel",
      "_view_count": null,
      "_view_module": "@jupyter-widgets/base",
      "_view_module_version": "1.2.0",
      "_view_name": "LayoutView",
      "align_content": null,
      "align_items": null,
      "align_self": null,
      "border": null,
      "bottom": null,
      "display": null,
      "flex": null,
      "flex_flow": null,
      "grid_area": null,
      "grid_auto_columns": null,
      "grid_auto_flow": null,
      "grid_auto_rows": null,
      "grid_column": null,
      "grid_gap": null,
      "grid_row": null,
      "grid_template_areas": null,
      "grid_template_columns": null,
      "grid_template_rows": null,
      "height": null,
      "justify_content": null,
      "justify_items": null,
      "left": null,
      "margin": null,
      "max_height": null,
      "max_width": null,
      "min_height": null,
      "min_width": null,
      "object_fit": null,
      "object_position": null,
      "order": null,
      "overflow": null,
      "overflow_x": null,
      "overflow_y": null,
      "padding": null,
      "right": null,
      "top": null,
      "visibility": null,
      "width": null
     }
    },
    "1fa2a65276e94ee297fba5f3efc8cf6d": {
     "model_module": "@jupyter-widgets/base",
     "model_module_version": "1.2.0",
     "model_name": "LayoutModel",
     "state": {
      "_model_module": "@jupyter-widgets/base",
      "_model_module_version": "1.2.0",
      "_model_name": "LayoutModel",
      "_view_count": null,
      "_view_module": "@jupyter-widgets/base",
      "_view_module_version": "1.2.0",
      "_view_name": "LayoutView",
      "align_content": null,
      "align_items": null,
      "align_self": null,
      "border": null,
      "bottom": null,
      "display": null,
      "flex": null,
      "flex_flow": null,
      "grid_area": null,
      "grid_auto_columns": null,
      "grid_auto_flow": null,
      "grid_auto_rows": null,
      "grid_column": null,
      "grid_gap": null,
      "grid_row": null,
      "grid_template_areas": null,
      "grid_template_columns": null,
      "grid_template_rows": null,
      "height": null,
      "justify_content": null,
      "justify_items": null,
      "left": null,
      "margin": null,
      "max_height": null,
      "max_width": null,
      "min_height": null,
      "min_width": null,
      "object_fit": null,
      "object_position": null,
      "order": null,
      "overflow": null,
      "overflow_x": null,
      "overflow_y": null,
      "padding": null,
      "right": null,
      "top": null,
      "visibility": null,
      "width": null
     }
    },
    "23499aabb707413d8d43b01375a5c002": {
     "model_module": "@jupyter-widgets/controls",
     "model_module_version": "1.5.0",
     "model_name": "FloatProgressModel",
     "state": {
      "_dom_classes": [],
      "_model_module": "@jupyter-widgets/controls",
      "_model_module_version": "1.5.0",
      "_model_name": "FloatProgressModel",
      "_view_count": null,
      "_view_module": "@jupyter-widgets/controls",
      "_view_module_version": "1.5.0",
      "_view_name": "ProgressView",
      "bar_style": "success",
      "description": "",
      "description_tooltip": null,
      "layout": "IPY_MODEL_68eb9cad2b2b499c99e68765b0c25907",
      "max": 299,
      "min": 0,
      "orientation": "horizontal",
      "style": "IPY_MODEL_e70b1d35ec534213a37c5ce791d9b4e5",
      "value": 299
     }
    },
    "246ae1c8e9df4bfca6030ce5afb811a9": {
     "model_module": "@jupyter-widgets/controls",
     "model_module_version": "1.5.0",
     "model_name": "FloatProgressModel",
     "state": {
      "_dom_classes": [],
      "_model_module": "@jupyter-widgets/controls",
      "_model_module_version": "1.5.0",
      "_model_name": "FloatProgressModel",
      "_view_count": null,
      "_view_module": "@jupyter-widgets/controls",
      "_view_module_version": "1.5.0",
      "_view_name": "ProgressView",
      "bar_style": "success",
      "description": "",
      "description_tooltip": null,
      "layout": "IPY_MODEL_6dde9a5f84264d7b80106e4cd2859bbc",
      "max": 6380,
      "min": 0,
      "orientation": "horizontal",
      "style": "IPY_MODEL_5494270f026e4bf9b53e042838b333d6",
      "value": 6380
     }
    },
    "254dcaa9f0534b67833ed6c82ffafbb0": {
     "model_module": "@jupyter-widgets/base",
     "model_module_version": "1.2.0",
     "model_name": "LayoutModel",
     "state": {
      "_model_module": "@jupyter-widgets/base",
      "_model_module_version": "1.2.0",
      "_model_name": "LayoutModel",
      "_view_count": null,
      "_view_module": "@jupyter-widgets/base",
      "_view_module_version": "1.2.0",
      "_view_name": "LayoutView",
      "align_content": null,
      "align_items": null,
      "align_self": null,
      "border": null,
      "bottom": null,
      "display": null,
      "flex": null,
      "flex_flow": null,
      "grid_area": null,
      "grid_auto_columns": null,
      "grid_auto_flow": null,
      "grid_auto_rows": null,
      "grid_column": null,
      "grid_gap": null,
      "grid_row": null,
      "grid_template_areas": null,
      "grid_template_columns": null,
      "grid_template_rows": null,
      "height": null,
      "justify_content": null,
      "justify_items": null,
      "left": null,
      "margin": null,
      "max_height": null,
      "max_width": null,
      "min_height": null,
      "min_width": null,
      "object_fit": null,
      "object_position": null,
      "order": null,
      "overflow": null,
      "overflow_x": null,
      "overflow_y": null,
      "padding": null,
      "right": null,
      "top": null,
      "visibility": null,
      "width": null
     }
    },
    "2614a607bcab413198583c91cce20654": {
     "model_module": "@jupyter-widgets/base",
     "model_module_version": "1.2.0",
     "model_name": "LayoutModel",
     "state": {
      "_model_module": "@jupyter-widgets/base",
      "_model_module_version": "1.2.0",
      "_model_name": "LayoutModel",
      "_view_count": null,
      "_view_module": "@jupyter-widgets/base",
      "_view_module_version": "1.2.0",
      "_view_name": "LayoutView",
      "align_content": null,
      "align_items": null,
      "align_self": null,
      "border": null,
      "bottom": null,
      "display": null,
      "flex": null,
      "flex_flow": null,
      "grid_area": null,
      "grid_auto_columns": null,
      "grid_auto_flow": null,
      "grid_auto_rows": null,
      "grid_column": null,
      "grid_gap": null,
      "grid_row": null,
      "grid_template_areas": null,
      "grid_template_columns": null,
      "grid_template_rows": null,
      "height": null,
      "justify_content": null,
      "justify_items": null,
      "left": null,
      "margin": null,
      "max_height": null,
      "max_width": null,
      "min_height": null,
      "min_width": null,
      "object_fit": null,
      "object_position": null,
      "order": null,
      "overflow": null,
      "overflow_x": null,
      "overflow_y": null,
      "padding": null,
      "right": null,
      "top": null,
      "visibility": null,
      "width": null
     }
    },
    "293af5555fbf45819c48946d2f4bd3b8": {
     "model_module": "@jupyter-widgets/base",
     "model_module_version": "1.2.0",
     "model_name": "LayoutModel",
     "state": {
      "_model_module": "@jupyter-widgets/base",
      "_model_module_version": "1.2.0",
      "_model_name": "LayoutModel",
      "_view_count": null,
      "_view_module": "@jupyter-widgets/base",
      "_view_module_version": "1.2.0",
      "_view_name": "LayoutView",
      "align_content": null,
      "align_items": null,
      "align_self": null,
      "border": null,
      "bottom": null,
      "display": null,
      "flex": null,
      "flex_flow": null,
      "grid_area": null,
      "grid_auto_columns": null,
      "grid_auto_flow": null,
      "grid_auto_rows": null,
      "grid_column": null,
      "grid_gap": null,
      "grid_row": null,
      "grid_template_areas": null,
      "grid_template_columns": null,
      "grid_template_rows": null,
      "height": null,
      "justify_content": null,
      "justify_items": null,
      "left": null,
      "margin": null,
      "max_height": null,
      "max_width": null,
      "min_height": null,
      "min_width": null,
      "object_fit": null,
      "object_position": null,
      "order": null,
      "overflow": null,
      "overflow_x": null,
      "overflow_y": null,
      "padding": null,
      "right": null,
      "top": null,
      "visibility": null,
      "width": null
     }
    },
    "29f17fb6755f465f9c65a5e2539b269d": {
     "model_module": "@jupyter-widgets/controls",
     "model_module_version": "1.5.0",
     "model_name": "DescriptionStyleModel",
     "state": {
      "_model_module": "@jupyter-widgets/controls",
      "_model_module_version": "1.5.0",
      "_model_name": "DescriptionStyleModel",
      "_view_count": null,
      "_view_module": "@jupyter-widgets/base",
      "_view_module_version": "1.2.0",
      "_view_name": "StyleView",
      "description_width": ""
     }
    },
    "2b374d24e59f43ff90cc902d7ba1d57b": {
     "model_module": "@jupyter-widgets/controls",
     "model_module_version": "1.5.0",
     "model_name": "HTMLModel",
     "state": {
      "_dom_classes": [],
      "_model_module": "@jupyter-widgets/controls",
      "_model_module_version": "1.5.0",
      "_model_name": "HTMLModel",
      "_view_count": null,
      "_view_module": "@jupyter-widgets/controls",
      "_view_module_version": "1.5.0",
      "_view_name": "HTMLView",
      "description": "",
      "description_tooltip": null,
      "layout": "IPY_MODEL_af7cd83d7a00495ebafb20b9edb56544",
      "placeholder": "​",
      "style": "IPY_MODEL_5d1f7c17c1514d7cb2b65cd238f782a6",
      "value": " 351/351 [00:00&lt;00:00, 4755.06 examples/s]"
     }
    },
    "2c744b66b40441379c9dca6994c04774": {
     "model_module": "@jupyter-widgets/controls",
     "model_module_version": "1.5.0",
     "model_name": "HBoxModel",
     "state": {
      "_dom_classes": [],
      "_model_module": "@jupyter-widgets/controls",
      "_model_module_version": "1.5.0",
      "_model_name": "HBoxModel",
      "_view_count": null,
      "_view_module": "@jupyter-widgets/controls",
      "_view_module_version": "1.5.0",
      "_view_name": "HBoxView",
      "box_style": "",
      "children": [
       "IPY_MODEL_41b5393ae64a4b538f708be6c77009e1",
       "IPY_MODEL_2f955992ecce45b3ace04185594aa97b",
       "IPY_MODEL_d012a2875e6a4815a02ea110858b7b09"
      ],
      "layout": "IPY_MODEL_3dead54d88864998badc8cc4fdfcd0e0"
     }
    },
    "2cf63830be0e41d5b3185755fdb256b2": {
     "model_module": "@jupyter-widgets/controls",
     "model_module_version": "1.5.0",
     "model_name": "ProgressStyleModel",
     "state": {
      "_model_module": "@jupyter-widgets/controls",
      "_model_module_version": "1.5.0",
      "_model_name": "ProgressStyleModel",
      "_view_count": null,
      "_view_module": "@jupyter-widgets/base",
      "_view_module_version": "1.2.0",
      "_view_name": "StyleView",
      "bar_color": null,
      "description_width": ""
     }
    },
    "2d6ac5eb6c354be0bda26b90c38df9e5": {
     "model_module": "@jupyter-widgets/controls",
     "model_module_version": "1.5.0",
     "model_name": "HTMLModel",
     "state": {
      "_dom_classes": [],
      "_model_module": "@jupyter-widgets/controls",
      "_model_module_version": "1.5.0",
      "_model_name": "HTMLModel",
      "_view_count": null,
      "_view_module": "@jupyter-widgets/controls",
      "_view_module_version": "1.5.0",
      "_view_name": "HTMLView",
      "description": "",
      "description_tooltip": null,
      "layout": "IPY_MODEL_72d06f574231404ea8d3cd5761f64a55",
      "placeholder": "​",
      "style": "IPY_MODEL_6feb09320a7b42f6a421985b01cc3b52",
      "value": " 542M/542M [00:09&lt;00:00, 101MB/s]"
     }
    },
    "2f955992ecce45b3ace04185594aa97b": {
     "model_module": "@jupyter-widgets/controls",
     "model_module_version": "1.5.0",
     "model_name": "FloatProgressModel",
     "state": {
      "_dom_classes": [],
      "_model_module": "@jupyter-widgets/controls",
      "_model_module_version": "1.5.0",
      "_model_name": "FloatProgressModel",
      "_view_count": null,
      "_view_module": "@jupyter-widgets/controls",
      "_view_module_version": "1.5.0",
      "_view_name": "ProgressView",
      "bar_style": "success",
      "description": "",
      "description_tooltip": null,
      "layout": "IPY_MODEL_ff496238237340c2a42e1d329983dfc4",
      "max": 1961828,
      "min": 0,
      "orientation": "horizontal",
      "style": "IPY_MODEL_077def9213174f1495e7b50e45af9fc5",
      "value": 1961828
     }
    },
    "31b3e7636f8245c293210b4ee6e0bee9": {
     "model_module": "@jupyter-widgets/controls",
     "model_module_version": "1.5.0",
     "model_name": "DescriptionStyleModel",
     "state": {
      "_model_module": "@jupyter-widgets/controls",
      "_model_module_version": "1.5.0",
      "_model_name": "DescriptionStyleModel",
      "_view_count": null,
      "_view_module": "@jupyter-widgets/base",
      "_view_module_version": "1.2.0",
      "_view_name": "StyleView",
      "description_width": ""
     }
    },
    "337990a984d04047ab1019f359785601": {
     "model_module": "@jupyter-widgets/controls",
     "model_module_version": "1.5.0",
     "model_name": "ProgressStyleModel",
     "state": {
      "_model_module": "@jupyter-widgets/controls",
      "_model_module_version": "1.5.0",
      "_model_name": "ProgressStyleModel",
      "_view_count": null,
      "_view_module": "@jupyter-widgets/base",
      "_view_module_version": "1.2.0",
      "_view_name": "StyleView",
      "bar_color": null,
      "description_width": ""
     }
    },
    "34d9666b7eee47b5888e97073f926cbb": {
     "model_module": "@jupyter-widgets/controls",
     "model_module_version": "1.5.0",
     "model_name": "ProgressStyleModel",
     "state": {
      "_model_module": "@jupyter-widgets/controls",
      "_model_module_version": "1.5.0",
      "_model_name": "ProgressStyleModel",
      "_view_count": null,
      "_view_module": "@jupyter-widgets/base",
      "_view_module_version": "1.2.0",
      "_view_name": "StyleView",
      "bar_color": null,
      "description_width": ""
     }
    },
    "35aa6eba74dd4b2e8a4d0bd1c41d3e4b": {
     "model_module": "@jupyter-widgets/controls",
     "model_module_version": "1.5.0",
     "model_name": "HBoxModel",
     "state": {
      "_dom_classes": [],
      "_model_module": "@jupyter-widgets/controls",
      "_model_module_version": "1.5.0",
      "_model_name": "HBoxModel",
      "_view_count": null,
      "_view_module": "@jupyter-widgets/controls",
      "_view_module_version": "1.5.0",
      "_view_name": "HBoxView",
      "box_style": "",
      "children": [
       "IPY_MODEL_9e9bacb4662d4f2eb514b44995b8d1d9",
       "IPY_MODEL_e4ce3c7b95c445d3978edaf5a6714faa",
       "IPY_MODEL_f00ecb8df9a44a949e34cbba0348c166"
      ],
      "layout": "IPY_MODEL_946d111939c04c62a897b27fdfd828ff"
     }
    },
    "36f5696607ab477ab52226f178994bb3": {
     "model_module": "@jupyter-widgets/base",
     "model_module_version": "1.2.0",
     "model_name": "LayoutModel",
     "state": {
      "_model_module": "@jupyter-widgets/base",
      "_model_module_version": "1.2.0",
      "_model_name": "LayoutModel",
      "_view_count": null,
      "_view_module": "@jupyter-widgets/base",
      "_view_module_version": "1.2.0",
      "_view_name": "LayoutView",
      "align_content": null,
      "align_items": null,
      "align_self": null,
      "border": null,
      "bottom": null,
      "display": null,
      "flex": null,
      "flex_flow": null,
      "grid_area": null,
      "grid_auto_columns": null,
      "grid_auto_flow": null,
      "grid_auto_rows": null,
      "grid_column": null,
      "grid_gap": null,
      "grid_row": null,
      "grid_template_areas": null,
      "grid_template_columns": null,
      "grid_template_rows": null,
      "height": null,
      "justify_content": null,
      "justify_items": null,
      "left": null,
      "margin": null,
      "max_height": null,
      "max_width": null,
      "min_height": null,
      "min_width": null,
      "object_fit": null,
      "object_position": null,
      "order": null,
      "overflow": null,
      "overflow_x": null,
      "overflow_y": null,
      "padding": null,
      "right": null,
      "top": null,
      "visibility": null,
      "width": null
     }
    },
    "37620d1fb2c34449b2088a01e36b9f28": {
     "model_module": "@jupyter-widgets/base",
     "model_module_version": "1.2.0",
     "model_name": "LayoutModel",
     "state": {
      "_model_module": "@jupyter-widgets/base",
      "_model_module_version": "1.2.0",
      "_model_name": "LayoutModel",
      "_view_count": null,
      "_view_module": "@jupyter-widgets/base",
      "_view_module_version": "1.2.0",
      "_view_name": "LayoutView",
      "align_content": null,
      "align_items": null,
      "align_self": null,
      "border": null,
      "bottom": null,
      "display": null,
      "flex": null,
      "flex_flow": null,
      "grid_area": null,
      "grid_auto_columns": null,
      "grid_auto_flow": null,
      "grid_auto_rows": null,
      "grid_column": null,
      "grid_gap": null,
      "grid_row": null,
      "grid_template_areas": null,
      "grid_template_columns": null,
      "grid_template_rows": null,
      "height": null,
      "justify_content": null,
      "justify_items": null,
      "left": null,
      "margin": null,
      "max_height": null,
      "max_width": null,
      "min_height": null,
      "min_width": null,
      "object_fit": null,
      "object_position": null,
      "order": null,
      "overflow": null,
      "overflow_x": null,
      "overflow_y": null,
      "padding": null,
      "right": null,
      "top": null,
      "visibility": null,
      "width": null
     }
    },
    "37788d9b74694626b9c03b36b099b490": {
     "model_module": "@jupyter-widgets/controls",
     "model_module_version": "1.5.0",
     "model_name": "HBoxModel",
     "state": {
      "_dom_classes": [],
      "_model_module": "@jupyter-widgets/controls",
      "_model_module_version": "1.5.0",
      "_model_name": "HBoxModel",
      "_view_count": null,
      "_view_module": "@jupyter-widgets/controls",
      "_view_module_version": "1.5.0",
      "_view_name": "HBoxView",
      "box_style": "",
      "children": [
       "IPY_MODEL_846679ed2feb43bf8fa85e5a7c9a86db",
       "IPY_MODEL_ca8a8333042048a19f3a35dfd9417c8d",
       "IPY_MODEL_54a59888fe2c4b3fa32a461cd44ea3a2"
      ],
      "layout": "IPY_MODEL_b4d5d33dafc5441884b9e20c7d3ce852"
     }
    },
    "397fcb88a30947b99efd52ab91c10e64": {
     "model_module": "@jupyter-widgets/controls",
     "model_module_version": "1.5.0",
     "model_name": "ProgressStyleModel",
     "state": {
      "_model_module": "@jupyter-widgets/controls",
      "_model_module_version": "1.5.0",
      "_model_name": "ProgressStyleModel",
      "_view_count": null,
      "_view_module": "@jupyter-widgets/base",
      "_view_module_version": "1.2.0",
      "_view_name": "StyleView",
      "bar_color": null,
      "description_width": ""
     }
    },
    "3b3985c11e0745b3af09451668671ecb": {
     "model_module": "@jupyter-widgets/base",
     "model_module_version": "1.2.0",
     "model_name": "LayoutModel",
     "state": {
      "_model_module": "@jupyter-widgets/base",
      "_model_module_version": "1.2.0",
      "_model_name": "LayoutModel",
      "_view_count": null,
      "_view_module": "@jupyter-widgets/base",
      "_view_module_version": "1.2.0",
      "_view_name": "LayoutView",
      "align_content": null,
      "align_items": null,
      "align_self": null,
      "border": null,
      "bottom": null,
      "display": null,
      "flex": null,
      "flex_flow": null,
      "grid_area": null,
      "grid_auto_columns": null,
      "grid_auto_flow": null,
      "grid_auto_rows": null,
      "grid_column": null,
      "grid_gap": null,
      "grid_row": null,
      "grid_template_areas": null,
      "grid_template_columns": null,
      "grid_template_rows": null,
      "height": null,
      "justify_content": null,
      "justify_items": null,
      "left": null,
      "margin": null,
      "max_height": null,
      "max_width": null,
      "min_height": null,
      "min_width": null,
      "object_fit": null,
      "object_position": null,
      "order": null,
      "overflow": null,
      "overflow_x": null,
      "overflow_y": null,
      "padding": null,
      "right": null,
      "top": null,
      "visibility": null,
      "width": null
     }
    },
    "3ba1d31ea0904fd59bda20fb2012a2b2": {
     "model_module": "@jupyter-widgets/controls",
     "model_module_version": "1.5.0",
     "model_name": "DescriptionStyleModel",
     "state": {
      "_model_module": "@jupyter-widgets/controls",
      "_model_module_version": "1.5.0",
      "_model_name": "DescriptionStyleModel",
      "_view_count": null,
      "_view_module": "@jupyter-widgets/base",
      "_view_module_version": "1.2.0",
      "_view_name": "StyleView",
      "description_width": ""
     }
    },
    "3bab9a09763c4293b4718a24e5f9ebdf": {
     "model_module": "@jupyter-widgets/base",
     "model_module_version": "1.2.0",
     "model_name": "LayoutModel",
     "state": {
      "_model_module": "@jupyter-widgets/base",
      "_model_module_version": "1.2.0",
      "_model_name": "LayoutModel",
      "_view_count": null,
      "_view_module": "@jupyter-widgets/base",
      "_view_module_version": "1.2.0",
      "_view_name": "LayoutView",
      "align_content": null,
      "align_items": null,
      "align_self": null,
      "border": null,
      "bottom": null,
      "display": null,
      "flex": null,
      "flex_flow": null,
      "grid_area": null,
      "grid_auto_columns": null,
      "grid_auto_flow": null,
      "grid_auto_rows": null,
      "grid_column": null,
      "grid_gap": null,
      "grid_row": null,
      "grid_template_areas": null,
      "grid_template_columns": null,
      "grid_template_rows": null,
      "height": null,
      "justify_content": null,
      "justify_items": null,
      "left": null,
      "margin": null,
      "max_height": null,
      "max_width": null,
      "min_height": null,
      "min_width": null,
      "object_fit": null,
      "object_position": null,
      "order": null,
      "overflow": null,
      "overflow_x": null,
      "overflow_y": null,
      "padding": null,
      "right": null,
      "top": null,
      "visibility": null,
      "width": null
     }
    },
    "3bfe621551aa4daba1c908cb88bf973b": {
     "model_module": "@jupyter-widgets/controls",
     "model_module_version": "1.5.0",
     "model_name": "HTMLModel",
     "state": {
      "_dom_classes": [],
      "_model_module": "@jupyter-widgets/controls",
      "_model_module_version": "1.5.0",
      "_model_name": "HTMLModel",
      "_view_count": null,
      "_view_module": "@jupyter-widgets/controls",
      "_view_module_version": "1.5.0",
      "_view_name": "HTMLView",
      "description": "",
      "description_tooltip": null,
      "layout": "IPY_MODEL_1fa2a65276e94ee297fba5f3efc8cf6d",
      "placeholder": "​",
      "style": "IPY_MODEL_bcce290f39b94eaaa795a29b845ff68a",
      "value": "Map: 100%"
     }
    },
    "3d3cb192b5434a84b16caeb680d0661d": {
     "model_module": "@jupyter-widgets/base",
     "model_module_version": "1.2.0",
     "model_name": "LayoutModel",
     "state": {
      "_model_module": "@jupyter-widgets/base",
      "_model_module_version": "1.2.0",
      "_model_name": "LayoutModel",
      "_view_count": null,
      "_view_module": "@jupyter-widgets/base",
      "_view_module_version": "1.2.0",
      "_view_name": "LayoutView",
      "align_content": null,
      "align_items": null,
      "align_self": null,
      "border": null,
      "bottom": null,
      "display": null,
      "flex": null,
      "flex_flow": null,
      "grid_area": null,
      "grid_auto_columns": null,
      "grid_auto_flow": null,
      "grid_auto_rows": null,
      "grid_column": null,
      "grid_gap": null,
      "grid_row": null,
      "grid_template_areas": null,
      "grid_template_columns": null,
      "grid_template_rows": null,
      "height": null,
      "justify_content": null,
      "justify_items": null,
      "left": null,
      "margin": null,
      "max_height": null,
      "max_width": null,
      "min_height": null,
      "min_width": null,
      "object_fit": null,
      "object_position": null,
      "order": null,
      "overflow": null,
      "overflow_x": null,
      "overflow_y": null,
      "padding": null,
      "right": null,
      "top": null,
      "visibility": null,
      "width": null
     }
    },
    "3dead54d88864998badc8cc4fdfcd0e0": {
     "model_module": "@jupyter-widgets/base",
     "model_module_version": "1.2.0",
     "model_name": "LayoutModel",
     "state": {
      "_model_module": "@jupyter-widgets/base",
      "_model_module_version": "1.2.0",
      "_model_name": "LayoutModel",
      "_view_count": null,
      "_view_module": "@jupyter-widgets/base",
      "_view_module_version": "1.2.0",
      "_view_name": "LayoutView",
      "align_content": null,
      "align_items": null,
      "align_self": null,
      "border": null,
      "bottom": null,
      "display": null,
      "flex": null,
      "flex_flow": null,
      "grid_area": null,
      "grid_auto_columns": null,
      "grid_auto_flow": null,
      "grid_auto_rows": null,
      "grid_column": null,
      "grid_gap": null,
      "grid_row": null,
      "grid_template_areas": null,
      "grid_template_columns": null,
      "grid_template_rows": null,
      "height": null,
      "justify_content": null,
      "justify_items": null,
      "left": null,
      "margin": null,
      "max_height": null,
      "max_width": null,
      "min_height": null,
      "min_width": null,
      "object_fit": null,
      "object_position": null,
      "order": null,
      "overflow": null,
      "overflow_x": null,
      "overflow_y": null,
      "padding": null,
      "right": null,
      "top": null,
      "visibility": null,
      "width": null
     }
    },
    "3fb77d0c63e147c3a4d8384d48e92697": {
     "model_module": "@jupyter-widgets/base",
     "model_module_version": "1.2.0",
     "model_name": "LayoutModel",
     "state": {
      "_model_module": "@jupyter-widgets/base",
      "_model_module_version": "1.2.0",
      "_model_name": "LayoutModel",
      "_view_count": null,
      "_view_module": "@jupyter-widgets/base",
      "_view_module_version": "1.2.0",
      "_view_name": "LayoutView",
      "align_content": null,
      "align_items": null,
      "align_self": null,
      "border": null,
      "bottom": null,
      "display": null,
      "flex": null,
      "flex_flow": null,
      "grid_area": null,
      "grid_auto_columns": null,
      "grid_auto_flow": null,
      "grid_auto_rows": null,
      "grid_column": null,
      "grid_gap": null,
      "grid_row": null,
      "grid_template_areas": null,
      "grid_template_columns": null,
      "grid_template_rows": null,
      "height": null,
      "justify_content": null,
      "justify_items": null,
      "left": null,
      "margin": null,
      "max_height": null,
      "max_width": null,
      "min_height": null,
      "min_width": null,
      "object_fit": null,
      "object_position": null,
      "order": null,
      "overflow": null,
      "overflow_x": null,
      "overflow_y": null,
      "padding": null,
      "right": null,
      "top": null,
      "visibility": null,
      "width": null
     }
    },
    "40b6d88a4a7744ce9b46d373f3f4b4d1": {
     "model_module": "@jupyter-widgets/controls",
     "model_module_version": "1.5.0",
     "model_name": "DescriptionStyleModel",
     "state": {
      "_model_module": "@jupyter-widgets/controls",
      "_model_module_version": "1.5.0",
      "_model_name": "DescriptionStyleModel",
      "_view_count": null,
      "_view_module": "@jupyter-widgets/base",
      "_view_module_version": "1.2.0",
      "_view_name": "StyleView",
      "description_width": ""
     }
    },
    "41b5393ae64a4b538f708be6c77009e1": {
     "model_module": "@jupyter-widgets/controls",
     "model_module_version": "1.5.0",
     "model_name": "HTMLModel",
     "state": {
      "_dom_classes": [],
      "_model_module": "@jupyter-widgets/controls",
      "_model_module_version": "1.5.0",
      "_model_name": "HTMLModel",
      "_view_count": null,
      "_view_module": "@jupyter-widgets/controls",
      "_view_module_version": "1.5.0",
      "_view_name": "HTMLView",
      "description": "",
      "description_tooltip": null,
      "layout": "IPY_MODEL_82dbe0d435a04d4f99fc7a6725b4b08d",
      "placeholder": "​",
      "style": "IPY_MODEL_849d142812e7413e90fe885c41612288",
      "value": "tokenizer.json: 100%"
     }
    },
    "41f78634806b4c22af7c2ba5e9a71579": {
     "model_module": "@jupyter-widgets/base",
     "model_module_version": "1.2.0",
     "model_name": "LayoutModel",
     "state": {
      "_model_module": "@jupyter-widgets/base",
      "_model_module_version": "1.2.0",
      "_model_name": "LayoutModel",
      "_view_count": null,
      "_view_module": "@jupyter-widgets/base",
      "_view_module_version": "1.2.0",
      "_view_name": "LayoutView",
      "align_content": null,
      "align_items": null,
      "align_self": null,
      "border": null,
      "bottom": null,
      "display": null,
      "flex": null,
      "flex_flow": null,
      "grid_area": null,
      "grid_auto_columns": null,
      "grid_auto_flow": null,
      "grid_auto_rows": null,
      "grid_column": null,
      "grid_gap": null,
      "grid_row": null,
      "grid_template_areas": null,
      "grid_template_columns": null,
      "grid_template_rows": null,
      "height": null,
      "justify_content": null,
      "justify_items": null,
      "left": null,
      "margin": null,
      "max_height": null,
      "max_width": null,
      "min_height": null,
      "min_width": null,
      "object_fit": null,
      "object_position": null,
      "order": null,
      "overflow": null,
      "overflow_x": null,
      "overflow_y": null,
      "padding": null,
      "right": null,
      "top": null,
      "visibility": null,
      "width": null
     }
    },
    "43f7773cfebd49b88fa6298fba1ccdc8": {
     "model_module": "@jupyter-widgets/controls",
     "model_module_version": "1.5.0",
     "model_name": "HTMLModel",
     "state": {
      "_dom_classes": [],
      "_model_module": "@jupyter-widgets/controls",
      "_model_module_version": "1.5.0",
      "_model_name": "HTMLModel",
      "_view_count": null,
      "_view_module": "@jupyter-widgets/controls",
      "_view_module_version": "1.5.0",
      "_view_name": "HTMLView",
      "description": "",
      "description_tooltip": null,
      "layout": "IPY_MODEL_58a9996730a748da8abab8345c1fbb87",
      "placeholder": "​",
      "style": "IPY_MODEL_93522bab10c54d079b8f1d6b0a204ab0",
      "value": " 282/282 [00:00&lt;00:00, 3066.35 examples/s]"
     }
    },
    "443146c4c67b4577a270f17c582454fb": {
     "model_module": "@jupyter-widgets/controls",
     "model_module_version": "1.5.0",
     "model_name": "HTMLModel",
     "state": {
      "_dom_classes": [],
      "_model_module": "@jupyter-widgets/controls",
      "_model_module_version": "1.5.0",
      "_model_name": "HTMLModel",
      "_view_count": null,
      "_view_module": "@jupyter-widgets/controls",
      "_view_module_version": "1.5.0",
      "_view_name": "HTMLView",
      "description": "",
      "description_tooltip": null,
      "layout": "IPY_MODEL_7f7ef7efd05045d5916308352e8efaef",
      "placeholder": "​",
      "style": "IPY_MODEL_3ba1d31ea0904fd59bda20fb2012a2b2",
      "value": "Map: 100%"
     }
    },
    "4551ca185b71401ba13363d729c00003": {
     "model_module": "@jupyter-widgets/controls",
     "model_module_version": "1.5.0",
     "model_name": "DescriptionStyleModel",
     "state": {
      "_model_module": "@jupyter-widgets/controls",
      "_model_module_version": "1.5.0",
      "_model_name": "DescriptionStyleModel",
      "_view_count": null,
      "_view_module": "@jupyter-widgets/base",
      "_view_module_version": "1.2.0",
      "_view_name": "StyleView",
      "description_width": ""
     }
    },
    "4c171e8752744fb4bf068ad2d52269f5": {
     "model_module": "@jupyter-widgets/controls",
     "model_module_version": "1.5.0",
     "model_name": "FloatProgressModel",
     "state": {
      "_dom_classes": [],
      "_model_module": "@jupyter-widgets/controls",
      "_model_module_version": "1.5.0",
      "_model_name": "FloatProgressModel",
      "_view_count": null,
      "_view_module": "@jupyter-widgets/controls",
      "_view_module_version": "1.5.0",
      "_view_name": "ProgressView",
      "bar_style": "success",
      "description": "",
      "description_tooltip": null,
      "layout": "IPY_MODEL_aeb7c6f8484e49638c082e21ce1ffc8d",
      "max": 300,
      "min": 0,
      "orientation": "horizontal",
      "style": "IPY_MODEL_6fda3c6f76ef4db5a25a2f04bb61b3a7",
      "value": 300
     }
    },
    "4d762862c8c341d08526d6f2728e5bf5": {
     "model_module": "@jupyter-widgets/controls",
     "model_module_version": "1.5.0",
     "model_name": "HTMLModel",
     "state": {
      "_dom_classes": [],
      "_model_module": "@jupyter-widgets/controls",
      "_model_module_version": "1.5.0",
      "_model_name": "HTMLModel",
      "_view_count": null,
      "_view_module": "@jupyter-widgets/controls",
      "_view_module_version": "1.5.0",
      "_view_name": "HTMLView",
      "description": "",
      "description_tooltip": null,
      "layout": "IPY_MODEL_b79a3e03708d4e2b996e17acd9bf8545",
      "placeholder": "​",
      "style": "IPY_MODEL_ba3bfe7423414820b1ad6c79feb437fa",
      "value": "Map: 100%"
     }
    },
    "4e4df20bcde143e0b138723da511bd5b": {
     "model_module": "@jupyter-widgets/controls",
     "model_module_version": "1.5.0",
     "model_name": "DescriptionStyleModel",
     "state": {
      "_model_module": "@jupyter-widgets/controls",
      "_model_module_version": "1.5.0",
      "_model_name": "DescriptionStyleModel",
      "_view_count": null,
      "_view_module": "@jupyter-widgets/base",
      "_view_module_version": "1.2.0",
      "_view_name": "StyleView",
      "description_width": ""
     }
    },
    "51659342d06d4a78a3faeed263eb3e8a": {
     "model_module": "@jupyter-widgets/controls",
     "model_module_version": "1.5.0",
     "model_name": "HBoxModel",
     "state": {
      "_dom_classes": [],
      "_model_module": "@jupyter-widgets/controls",
      "_model_module_version": "1.5.0",
      "_model_name": "HBoxModel",
      "_view_count": null,
      "_view_module": "@jupyter-widgets/controls",
      "_view_module_version": "1.5.0",
      "_view_name": "HBoxView",
      "box_style": "",
      "children": [
       "IPY_MODEL_dfa224a289844c19a47900de6af51c0c",
       "IPY_MODEL_df35b55370a24405af447dcdda74322b",
       "IPY_MODEL_2d6ac5eb6c354be0bda26b90c38df9e5"
      ],
      "layout": "IPY_MODEL_b7d33ffcf2294043ad725004f0416154"
     }
    },
    "5220de3b18864bb8a692d172107756bb": {
     "model_module": "@jupyter-widgets/controls",
     "model_module_version": "1.5.0",
     "model_name": "DescriptionStyleModel",
     "state": {
      "_model_module": "@jupyter-widgets/controls",
      "_model_module_version": "1.5.0",
      "_model_name": "DescriptionStyleModel",
      "_view_count": null,
      "_view_module": "@jupyter-widgets/base",
      "_view_module_version": "1.2.0",
      "_view_name": "StyleView",
      "description_width": ""
     }
    },
    "52de9186921f495ebf2af42d073a2b50": {
     "model_module": "@jupyter-widgets/base",
     "model_module_version": "1.2.0",
     "model_name": "LayoutModel",
     "state": {
      "_model_module": "@jupyter-widgets/base",
      "_model_module_version": "1.2.0",
      "_model_name": "LayoutModel",
      "_view_count": null,
      "_view_module": "@jupyter-widgets/base",
      "_view_module_version": "1.2.0",
      "_view_name": "LayoutView",
      "align_content": null,
      "align_items": null,
      "align_self": null,
      "border": null,
      "bottom": null,
      "display": null,
      "flex": null,
      "flex_flow": null,
      "grid_area": null,
      "grid_auto_columns": null,
      "grid_auto_flow": null,
      "grid_auto_rows": null,
      "grid_column": null,
      "grid_gap": null,
      "grid_row": null,
      "grid_template_areas": null,
      "grid_template_columns": null,
      "grid_template_rows": null,
      "height": null,
      "justify_content": null,
      "justify_items": null,
      "left": null,
      "margin": null,
      "max_height": null,
      "max_width": null,
      "min_height": null,
      "min_width": null,
      "object_fit": null,
      "object_position": null,
      "order": null,
      "overflow": null,
      "overflow_x": null,
      "overflow_y": null,
      "padding": null,
      "right": null,
      "top": null,
      "visibility": null,
      "width": null
     }
    },
    "52e59751f26e445e9006b237c8f3808b": {
     "model_module": "@jupyter-widgets/base",
     "model_module_version": "1.2.0",
     "model_name": "LayoutModel",
     "state": {
      "_model_module": "@jupyter-widgets/base",
      "_model_module_version": "1.2.0",
      "_model_name": "LayoutModel",
      "_view_count": null,
      "_view_module": "@jupyter-widgets/base",
      "_view_module_version": "1.2.0",
      "_view_name": "LayoutView",
      "align_content": null,
      "align_items": null,
      "align_self": null,
      "border": null,
      "bottom": null,
      "display": null,
      "flex": null,
      "flex_flow": null,
      "grid_area": null,
      "grid_auto_columns": null,
      "grid_auto_flow": null,
      "grid_auto_rows": null,
      "grid_column": null,
      "grid_gap": null,
      "grid_row": null,
      "grid_template_areas": null,
      "grid_template_columns": null,
      "grid_template_rows": null,
      "height": null,
      "justify_content": null,
      "justify_items": null,
      "left": null,
      "margin": null,
      "max_height": null,
      "max_width": null,
      "min_height": null,
      "min_width": null,
      "object_fit": null,
      "object_position": null,
      "order": null,
      "overflow": null,
      "overflow_x": null,
      "overflow_y": null,
      "padding": null,
      "right": null,
      "top": null,
      "visibility": null,
      "width": null
     }
    },
    "53e3682e998e43a28bbad78a1b747015": {
     "model_module": "@jupyter-widgets/controls",
     "model_module_version": "1.5.0",
     "model_name": "HBoxModel",
     "state": {
      "_dom_classes": [],
      "_model_module": "@jupyter-widgets/controls",
      "_model_module_version": "1.5.0",
      "_model_name": "HBoxModel",
      "_view_count": null,
      "_view_module": "@jupyter-widgets/controls",
      "_view_module_version": "1.5.0",
      "_view_name": "HBoxView",
      "box_style": "",
      "children": [
       "IPY_MODEL_4d762862c8c341d08526d6f2728e5bf5",
       "IPY_MODEL_246ae1c8e9df4bfca6030ce5afb811a9",
       "IPY_MODEL_68f0e730572e45c6811fa1a31d2c7a33"
      ],
      "layout": "IPY_MODEL_afbb016f96684941b7fa49d5c1984abd"
     }
    },
    "5494270f026e4bf9b53e042838b333d6": {
     "model_module": "@jupyter-widgets/controls",
     "model_module_version": "1.5.0",
     "model_name": "ProgressStyleModel",
     "state": {
      "_model_module": "@jupyter-widgets/controls",
      "_model_module_version": "1.5.0",
      "_model_name": "ProgressStyleModel",
      "_view_count": null,
      "_view_module": "@jupyter-widgets/base",
      "_view_module_version": "1.2.0",
      "_view_name": "StyleView",
      "bar_color": null,
      "description_width": ""
     }
    },
    "54a59888fe2c4b3fa32a461cd44ea3a2": {
     "model_module": "@jupyter-widgets/controls",
     "model_module_version": "1.5.0",
     "model_name": "HTMLModel",
     "state": {
      "_dom_classes": [],
      "_model_module": "@jupyter-widgets/controls",
      "_model_module_version": "1.5.0",
      "_model_name": "HTMLModel",
      "_view_count": null,
      "_view_module": "@jupyter-widgets/controls",
      "_view_module_version": "1.5.0",
      "_view_name": "HTMLView",
      "description": "",
      "description_tooltip": null,
      "layout": "IPY_MODEL_3fb77d0c63e147c3a4d8384d48e92697",
      "placeholder": "​",
      "style": "IPY_MODEL_40b6d88a4a7744ce9b46d373f3f4b4d1",
      "value": " 206/206 [00:00&lt;00:00, 910.18 examples/s]"
     }
    },
    "5520d1d5b8d645d7905002abe4e8843d": {
     "model_module": "@jupyter-widgets/controls",
     "model_module_version": "1.5.0",
     "model_name": "FloatProgressModel",
     "state": {
      "_dom_classes": [],
      "_model_module": "@jupyter-widgets/controls",
      "_model_module_version": "1.5.0",
      "_model_name": "FloatProgressModel",
      "_view_count": null,
      "_view_module": "@jupyter-widgets/controls",
      "_view_module_version": "1.5.0",
      "_view_name": "ProgressView",
      "bar_style": "success",
      "description": "",
      "description_tooltip": null,
      "layout": "IPY_MODEL_ddaefb468a24458888c43f688991bcee",
      "max": 995526,
      "min": 0,
      "orientation": "horizontal",
      "style": "IPY_MODEL_2cf63830be0e41d5b3185755fdb256b2",
      "value": 995526
     }
    },
    "563ac6d3bd094a25b31faaec626589b8": {
     "model_module": "@jupyter-widgets/controls",
     "model_module_version": "1.5.0",
     "model_name": "DescriptionStyleModel",
     "state": {
      "_model_module": "@jupyter-widgets/controls",
      "_model_module_version": "1.5.0",
      "_model_name": "DescriptionStyleModel",
      "_view_count": null,
      "_view_module": "@jupyter-widgets/base",
      "_view_module_version": "1.2.0",
      "_view_name": "StyleView",
      "description_width": ""
     }
    },
    "56f9f47e441d45908e7c21d3989209e2": {
     "model_module": "@jupyter-widgets/controls",
     "model_module_version": "1.5.0",
     "model_name": "ProgressStyleModel",
     "state": {
      "_model_module": "@jupyter-widgets/controls",
      "_model_module_version": "1.5.0",
      "_model_name": "ProgressStyleModel",
      "_view_count": null,
      "_view_module": "@jupyter-widgets/base",
      "_view_module_version": "1.2.0",
      "_view_name": "StyleView",
      "bar_color": null,
      "description_width": ""
     }
    },
    "579a850685b844ca87a9b0af3d6fad7e": {
     "model_module": "@jupyter-widgets/controls",
     "model_module_version": "1.5.0",
     "model_name": "HTMLModel",
     "state": {
      "_dom_classes": [],
      "_model_module": "@jupyter-widgets/controls",
      "_model_module_version": "1.5.0",
      "_model_name": "HTMLModel",
      "_view_count": null,
      "_view_module": "@jupyter-widgets/controls",
      "_view_module_version": "1.5.0",
      "_view_name": "HTMLView",
      "description": "",
      "description_tooltip": null,
      "layout": "IPY_MODEL_36f5696607ab477ab52226f178994bb3",
      "placeholder": "​",
      "style": "IPY_MODEL_fb8afee6cfa04a349b9c317e5c3e3edb",
      "value": " 297/297 [00:00&lt;00:00, 4552.89 examples/s]"
     }
    },
    "58a9996730a748da8abab8345c1fbb87": {
     "model_module": "@jupyter-widgets/base",
     "model_module_version": "1.2.0",
     "model_name": "LayoutModel",
     "state": {
      "_model_module": "@jupyter-widgets/base",
      "_model_module_version": "1.2.0",
      "_model_name": "LayoutModel",
      "_view_count": null,
      "_view_module": "@jupyter-widgets/base",
      "_view_module_version": "1.2.0",
      "_view_name": "LayoutView",
      "align_content": null,
      "align_items": null,
      "align_self": null,
      "border": null,
      "bottom": null,
      "display": null,
      "flex": null,
      "flex_flow": null,
      "grid_area": null,
      "grid_auto_columns": null,
      "grid_auto_flow": null,
      "grid_auto_rows": null,
      "grid_column": null,
      "grid_gap": null,
      "grid_row": null,
      "grid_template_areas": null,
      "grid_template_columns": null,
      "grid_template_rows": null,
      "height": null,
      "justify_content": null,
      "justify_items": null,
      "left": null,
      "margin": null,
      "max_height": null,
      "max_width": null,
      "min_height": null,
      "min_width": null,
      "object_fit": null,
      "object_position": null,
      "order": null,
      "overflow": null,
      "overflow_x": null,
      "overflow_y": null,
      "padding": null,
      "right": null,
      "top": null,
      "visibility": null,
      "width": null
     }
    },
    "5a8035223106430c963d952b8c240701": {
     "model_module": "@jupyter-widgets/controls",
     "model_module_version": "1.5.0",
     "model_name": "FloatProgressModel",
     "state": {
      "_dom_classes": [],
      "_model_module": "@jupyter-widgets/controls",
      "_model_module_version": "1.5.0",
      "_model_name": "FloatProgressModel",
      "_view_count": null,
      "_view_module": "@jupyter-widgets/controls",
      "_view_module_version": "1.5.0",
      "_view_name": "ProgressView",
      "bar_style": "success",
      "description": "",
      "description_tooltip": null,
      "layout": "IPY_MODEL_9db163ba4a9f49a78f8ee7277d2d5e20",
      "max": 462,
      "min": 0,
      "orientation": "horizontal",
      "style": "IPY_MODEL_7dc678244a7041a4a1f2b43e6638b357",
      "value": 462
     }
    },
    "5c30993d772a4c3c9fa0b2cfd5c92acb": {
     "model_module": "@jupyter-widgets/controls",
     "model_module_version": "1.5.0",
     "model_name": "HTMLModel",
     "state": {
      "_dom_classes": [],
      "_model_module": "@jupyter-widgets/controls",
      "_model_module_version": "1.5.0",
      "_model_name": "HTMLModel",
      "_view_count": null,
      "_view_module": "@jupyter-widgets/controls",
      "_view_module_version": "1.5.0",
      "_view_name": "HTMLView",
      "description": "",
      "description_tooltip": null,
      "layout": "IPY_MODEL_108aecd60ab04b5b94c33eb440b3ec77",
      "placeholder": "​",
      "style": "IPY_MODEL_563ac6d3bd094a25b31faaec626589b8",
      "value": "Map: 100%"
     }
    },
    "5d1f7c17c1514d7cb2b65cd238f782a6": {
     "model_module": "@jupyter-widgets/controls",
     "model_module_version": "1.5.0",
     "model_name": "DescriptionStyleModel",
     "state": {
      "_model_module": "@jupyter-widgets/controls",
      "_model_module_version": "1.5.0",
      "_model_name": "DescriptionStyleModel",
      "_view_count": null,
      "_view_module": "@jupyter-widgets/base",
      "_view_module_version": "1.2.0",
      "_view_name": "StyleView",
      "description_width": ""
     }
    },
    "5e570567ba1349328c8f7299d1d668e6": {
     "model_module": "@jupyter-widgets/controls",
     "model_module_version": "1.5.0",
     "model_name": "DescriptionStyleModel",
     "state": {
      "_model_module": "@jupyter-widgets/controls",
      "_model_module_version": "1.5.0",
      "_model_name": "DescriptionStyleModel",
      "_view_count": null,
      "_view_module": "@jupyter-widgets/base",
      "_view_module_version": "1.2.0",
      "_view_name": "StyleView",
      "description_width": ""
     }
    },
    "643cdaf7be8f4f0b9f628976cb1b8d89": {
     "model_module": "@jupyter-widgets/controls",
     "model_module_version": "1.5.0",
     "model_name": "DescriptionStyleModel",
     "state": {
      "_model_module": "@jupyter-widgets/controls",
      "_model_module_version": "1.5.0",
      "_model_name": "DescriptionStyleModel",
      "_view_count": null,
      "_view_module": "@jupyter-widgets/base",
      "_view_module_version": "1.2.0",
      "_view_name": "StyleView",
      "description_width": ""
     }
    },
    "65334b91d72145198c1067bb7dc5ccf6": {
     "model_module": "@jupyter-widgets/base",
     "model_module_version": "1.2.0",
     "model_name": "LayoutModel",
     "state": {
      "_model_module": "@jupyter-widgets/base",
      "_model_module_version": "1.2.0",
      "_model_name": "LayoutModel",
      "_view_count": null,
      "_view_module": "@jupyter-widgets/base",
      "_view_module_version": "1.2.0",
      "_view_name": "LayoutView",
      "align_content": null,
      "align_items": null,
      "align_self": null,
      "border": null,
      "bottom": null,
      "display": null,
      "flex": null,
      "flex_flow": null,
      "grid_area": null,
      "grid_auto_columns": null,
      "grid_auto_flow": null,
      "grid_auto_rows": null,
      "grid_column": null,
      "grid_gap": null,
      "grid_row": null,
      "grid_template_areas": null,
      "grid_template_columns": null,
      "grid_template_rows": null,
      "height": null,
      "justify_content": null,
      "justify_items": null,
      "left": null,
      "margin": null,
      "max_height": null,
      "max_width": null,
      "min_height": null,
      "min_width": null,
      "object_fit": null,
      "object_position": null,
      "order": null,
      "overflow": null,
      "overflow_x": null,
      "overflow_y": null,
      "padding": null,
      "right": null,
      "top": null,
      "visibility": null,
      "width": null
     }
    },
    "653bee3110104812af937233ce5796e5": {
     "model_module": "@jupyter-widgets/controls",
     "model_module_version": "1.5.0",
     "model_name": "HTMLModel",
     "state": {
      "_dom_classes": [],
      "_model_module": "@jupyter-widgets/controls",
      "_model_module_version": "1.5.0",
      "_model_name": "HTMLModel",
      "_view_count": null,
      "_view_module": "@jupyter-widgets/controls",
      "_view_module_version": "1.5.0",
      "_view_name": "HTMLView",
      "description": "",
      "description_tooltip": null,
      "layout": "IPY_MODEL_bb8ca3374f0a43ea8a202bcf72c473f1",
      "placeholder": "​",
      "style": "IPY_MODEL_c4937334115b4d02892eec29cac80b8e",
      "value": " 300/300 [00:00&lt;00:00, 1487.87 examples/s]"
     }
    },
    "6565dd484c4849c8a870d01bfa3b17e5": {
     "model_module": "@jupyter-widgets/controls",
     "model_module_version": "1.5.0",
     "model_name": "ProgressStyleModel",
     "state": {
      "_model_module": "@jupyter-widgets/controls",
      "_model_module_version": "1.5.0",
      "_model_name": "ProgressStyleModel",
      "_view_count": null,
      "_view_module": "@jupyter-widgets/base",
      "_view_module_version": "1.2.0",
      "_view_name": "StyleView",
      "bar_color": null,
      "description_width": ""
     }
    },
    "68eb9cad2b2b499c99e68765b0c25907": {
     "model_module": "@jupyter-widgets/base",
     "model_module_version": "1.2.0",
     "model_name": "LayoutModel",
     "state": {
      "_model_module": "@jupyter-widgets/base",
      "_model_module_version": "1.2.0",
      "_model_name": "LayoutModel",
      "_view_count": null,
      "_view_module": "@jupyter-widgets/base",
      "_view_module_version": "1.2.0",
      "_view_name": "LayoutView",
      "align_content": null,
      "align_items": null,
      "align_self": null,
      "border": null,
      "bottom": null,
      "display": null,
      "flex": null,
      "flex_flow": null,
      "grid_area": null,
      "grid_auto_columns": null,
      "grid_auto_flow": null,
      "grid_auto_rows": null,
      "grid_column": null,
      "grid_gap": null,
      "grid_row": null,
      "grid_template_areas": null,
      "grid_template_columns": null,
      "grid_template_rows": null,
      "height": null,
      "justify_content": null,
      "justify_items": null,
      "left": null,
      "margin": null,
      "max_height": null,
      "max_width": null,
      "min_height": null,
      "min_width": null,
      "object_fit": null,
      "object_position": null,
      "order": null,
      "overflow": null,
      "overflow_x": null,
      "overflow_y": null,
      "padding": null,
      "right": null,
      "top": null,
      "visibility": null,
      "width": null
     }
    },
    "68f0e730572e45c6811fa1a31d2c7a33": {
     "model_module": "@jupyter-widgets/controls",
     "model_module_version": "1.5.0",
     "model_name": "HTMLModel",
     "state": {
      "_dom_classes": [],
      "_model_module": "@jupyter-widgets/controls",
      "_model_module_version": "1.5.0",
      "_model_name": "HTMLModel",
      "_view_count": null,
      "_view_module": "@jupyter-widgets/controls",
      "_view_module_version": "1.5.0",
      "_view_name": "HTMLView",
      "description": "",
      "description_tooltip": null,
      "layout": "IPY_MODEL_9c7df8a2b51b49c8b025929455b3adae",
      "placeholder": "​",
      "style": "IPY_MODEL_74324f6a2f4843c3b5a93bc7342f2f99",
      "value": " 6380/6380 [00:07&lt;00:00, 879.37 examples/s]"
     }
    },
    "6dde9a5f84264d7b80106e4cd2859bbc": {
     "model_module": "@jupyter-widgets/base",
     "model_module_version": "1.2.0",
     "model_name": "LayoutModel",
     "state": {
      "_model_module": "@jupyter-widgets/base",
      "_model_module_version": "1.2.0",
      "_model_name": "LayoutModel",
      "_view_count": null,
      "_view_module": "@jupyter-widgets/base",
      "_view_module_version": "1.2.0",
      "_view_name": "LayoutView",
      "align_content": null,
      "align_items": null,
      "align_self": null,
      "border": null,
      "bottom": null,
      "display": null,
      "flex": null,
      "flex_flow": null,
      "grid_area": null,
      "grid_auto_columns": null,
      "grid_auto_flow": null,
      "grid_auto_rows": null,
      "grid_column": null,
      "grid_gap": null,
      "grid_row": null,
      "grid_template_areas": null,
      "grid_template_columns": null,
      "grid_template_rows": null,
      "height": null,
      "justify_content": null,
      "justify_items": null,
      "left": null,
      "margin": null,
      "max_height": null,
      "max_width": null,
      "min_height": null,
      "min_width": null,
      "object_fit": null,
      "object_position": null,
      "order": null,
      "overflow": null,
      "overflow_x": null,
      "overflow_y": null,
      "padding": null,
      "right": null,
      "top": null,
      "visibility": null,
      "width": null
     }
    },
    "6f0f34c77c754b87ab87ed0ea0d63ebc": {
     "model_module": "@jupyter-widgets/controls",
     "model_module_version": "1.5.0",
     "model_name": "FloatProgressModel",
     "state": {
      "_dom_classes": [],
      "_model_module": "@jupyter-widgets/controls",
      "_model_module_version": "1.5.0",
      "_model_name": "FloatProgressModel",
      "_view_count": null,
      "_view_module": "@jupyter-widgets/controls",
      "_view_module_version": "1.5.0",
      "_view_name": "ProgressView",
      "bar_style": "success",
      "description": "",
      "description_tooltip": null,
      "layout": "IPY_MODEL_98a8e8cd9a844ab99e4b732553566e30",
      "max": 466,
      "min": 0,
      "orientation": "horizontal",
      "style": "IPY_MODEL_397fcb88a30947b99efd52ab91c10e64",
      "value": 466
     }
    },
    "6fda3c6f76ef4db5a25a2f04bb61b3a7": {
     "model_module": "@jupyter-widgets/controls",
     "model_module_version": "1.5.0",
     "model_name": "ProgressStyleModel",
     "state": {
      "_model_module": "@jupyter-widgets/controls",
      "_model_module_version": "1.5.0",
      "_model_name": "ProgressStyleModel",
      "_view_count": null,
      "_view_module": "@jupyter-widgets/base",
      "_view_module_version": "1.2.0",
      "_view_name": "StyleView",
      "bar_color": null,
      "description_width": ""
     }
    },
    "6feb09320a7b42f6a421985b01cc3b52": {
     "model_module": "@jupyter-widgets/controls",
     "model_module_version": "1.5.0",
     "model_name": "DescriptionStyleModel",
     "state": {
      "_model_module": "@jupyter-widgets/controls",
      "_model_module_version": "1.5.0",
      "_model_name": "DescriptionStyleModel",
      "_view_count": null,
      "_view_module": "@jupyter-widgets/base",
      "_view_module_version": "1.2.0",
      "_view_name": "StyleView",
      "description_width": ""
     }
    },
    "702149ee3909457b8ce4a47b82f7080b": {
     "model_module": "@jupyter-widgets/controls",
     "model_module_version": "1.5.0",
     "model_name": "HBoxModel",
     "state": {
      "_dom_classes": [],
      "_model_module": "@jupyter-widgets/controls",
      "_model_module_version": "1.5.0",
      "_model_name": "HBoxModel",
      "_view_count": null,
      "_view_module": "@jupyter-widgets/controls",
      "_view_module_version": "1.5.0",
      "_view_name": "HBoxView",
      "box_style": "",
      "children": [
       "IPY_MODEL_a99a70f7b7c74ee3941e591b95737d07",
       "IPY_MODEL_6f0f34c77c754b87ab87ed0ea0d63ebc",
       "IPY_MODEL_8b3aab31a0bb4bc4bdd2ea87e05d3dee"
      ],
      "layout": "IPY_MODEL_eeb91dfcf0e14fe4ac58f2ecafdb39d3"
     }
    },
    "71f6598a46214c80b8c7ec3fbe59c2cd": {
     "model_module": "@jupyter-widgets/base",
     "model_module_version": "1.2.0",
     "model_name": "LayoutModel",
     "state": {
      "_model_module": "@jupyter-widgets/base",
      "_model_module_version": "1.2.0",
      "_model_name": "LayoutModel",
      "_view_count": null,
      "_view_module": "@jupyter-widgets/base",
      "_view_module_version": "1.2.0",
      "_view_name": "LayoutView",
      "align_content": null,
      "align_items": null,
      "align_self": null,
      "border": null,
      "bottom": null,
      "display": null,
      "flex": null,
      "flex_flow": null,
      "grid_area": null,
      "grid_auto_columns": null,
      "grid_auto_flow": null,
      "grid_auto_rows": null,
      "grid_column": null,
      "grid_gap": null,
      "grid_row": null,
      "grid_template_areas": null,
      "grid_template_columns": null,
      "grid_template_rows": null,
      "height": null,
      "justify_content": null,
      "justify_items": null,
      "left": null,
      "margin": null,
      "max_height": null,
      "max_width": null,
      "min_height": null,
      "min_width": null,
      "object_fit": null,
      "object_position": null,
      "order": null,
      "overflow": null,
      "overflow_x": null,
      "overflow_y": null,
      "padding": null,
      "right": null,
      "top": null,
      "visibility": null,
      "width": null
     }
    },
    "72d06f574231404ea8d3cd5761f64a55": {
     "model_module": "@jupyter-widgets/base",
     "model_module_version": "1.2.0",
     "model_name": "LayoutModel",
     "state": {
      "_model_module": "@jupyter-widgets/base",
      "_model_module_version": "1.2.0",
      "_model_name": "LayoutModel",
      "_view_count": null,
      "_view_module": "@jupyter-widgets/base",
      "_view_module_version": "1.2.0",
      "_view_name": "LayoutView",
      "align_content": null,
      "align_items": null,
      "align_self": null,
      "border": null,
      "bottom": null,
      "display": null,
      "flex": null,
      "flex_flow": null,
      "grid_area": null,
      "grid_auto_columns": null,
      "grid_auto_flow": null,
      "grid_auto_rows": null,
      "grid_column": null,
      "grid_gap": null,
      "grid_row": null,
      "grid_template_areas": null,
      "grid_template_columns": null,
      "grid_template_rows": null,
      "height": null,
      "justify_content": null,
      "justify_items": null,
      "left": null,
      "margin": null,
      "max_height": null,
      "max_width": null,
      "min_height": null,
      "min_width": null,
      "object_fit": null,
      "object_position": null,
      "order": null,
      "overflow": null,
      "overflow_x": null,
      "overflow_y": null,
      "padding": null,
      "right": null,
      "top": null,
      "visibility": null,
      "width": null
     }
    },
    "74324f6a2f4843c3b5a93bc7342f2f99": {
     "model_module": "@jupyter-widgets/controls",
     "model_module_version": "1.5.0",
     "model_name": "DescriptionStyleModel",
     "state": {
      "_model_module": "@jupyter-widgets/controls",
      "_model_module_version": "1.5.0",
      "_model_name": "DescriptionStyleModel",
      "_view_count": null,
      "_view_module": "@jupyter-widgets/base",
      "_view_module_version": "1.2.0",
      "_view_name": "StyleView",
      "description_width": ""
     }
    },
    "7473724c086a4e54bb7bdb5f61078b80": {
     "model_module": "@jupyter-widgets/controls",
     "model_module_version": "1.5.0",
     "model_name": "HTMLModel",
     "state": {
      "_dom_classes": [],
      "_model_module": "@jupyter-widgets/controls",
      "_model_module_version": "1.5.0",
      "_model_name": "HTMLModel",
      "_view_count": null,
      "_view_module": "@jupyter-widgets/controls",
      "_view_module_version": "1.5.0",
      "_view_name": "HTMLView",
      "description": "",
      "description_tooltip": null,
      "layout": "IPY_MODEL_b71ac4e762a546d99f1e5e32ff84442b",
      "placeholder": "​",
      "style": "IPY_MODEL_d2d972404d394d9c84de1cb194c92429",
      "value": "Map: 100%"
     }
    },
    "76cfe1c8f85c4ac9ad80a6dffed825b0": {
     "model_module": "@jupyter-widgets/controls",
     "model_module_version": "1.5.0",
     "model_name": "DescriptionStyleModel",
     "state": {
      "_model_module": "@jupyter-widgets/controls",
      "_model_module_version": "1.5.0",
      "_model_name": "DescriptionStyleModel",
      "_view_count": null,
      "_view_module": "@jupyter-widgets/base",
      "_view_module_version": "1.2.0",
      "_view_name": "StyleView",
      "description_width": ""
     }
    },
    "788957a44e2841bf992da8a6b8b64a0d": {
     "model_module": "@jupyter-widgets/base",
     "model_module_version": "1.2.0",
     "model_name": "LayoutModel",
     "state": {
      "_model_module": "@jupyter-widgets/base",
      "_model_module_version": "1.2.0",
      "_model_name": "LayoutModel",
      "_view_count": null,
      "_view_module": "@jupyter-widgets/base",
      "_view_module_version": "1.2.0",
      "_view_name": "LayoutView",
      "align_content": null,
      "align_items": null,
      "align_self": null,
      "border": null,
      "bottom": null,
      "display": null,
      "flex": null,
      "flex_flow": null,
      "grid_area": null,
      "grid_auto_columns": null,
      "grid_auto_flow": null,
      "grid_auto_rows": null,
      "grid_column": null,
      "grid_gap": null,
      "grid_row": null,
      "grid_template_areas": null,
      "grid_template_columns": null,
      "grid_template_rows": null,
      "height": null,
      "justify_content": null,
      "justify_items": null,
      "left": null,
      "margin": null,
      "max_height": null,
      "max_width": null,
      "min_height": null,
      "min_width": null,
      "object_fit": null,
      "object_position": null,
      "order": null,
      "overflow": null,
      "overflow_x": null,
      "overflow_y": null,
      "padding": null,
      "right": null,
      "top": null,
      "visibility": null,
      "width": null
     }
    },
    "7a22091f10bc48d78c4653dba6fe73d4": {
     "model_module": "@jupyter-widgets/controls",
     "model_module_version": "1.5.0",
     "model_name": "FloatProgressModel",
     "state": {
      "_dom_classes": [],
      "_model_module": "@jupyter-widgets/controls",
      "_model_module_version": "1.5.0",
      "_model_name": "FloatProgressModel",
      "_view_count": null,
      "_view_module": "@jupyter-widgets/controls",
      "_view_module_version": "1.5.0",
      "_view_name": "ProgressView",
      "bar_style": "success",
      "description": "",
      "description_tooltip": null,
      "layout": "IPY_MODEL_de59cfc3b2f640f6942d1776e3cdc811",
      "max": 1982,
      "min": 0,
      "orientation": "horizontal",
      "style": "IPY_MODEL_d765642caeb74588a954a3fe24491bea",
      "value": 1982
     }
    },
    "7b318e1c847c4b9b9f3594043bc98933": {
     "model_module": "@jupyter-widgets/controls",
     "model_module_version": "1.5.0",
     "model_name": "HBoxModel",
     "state": {
      "_dom_classes": [],
      "_model_module": "@jupyter-widgets/controls",
      "_model_module_version": "1.5.0",
      "_model_name": "HBoxModel",
      "_view_count": null,
      "_view_module": "@jupyter-widgets/controls",
      "_view_module_version": "1.5.0",
      "_view_name": "HBoxView",
      "box_style": "",
      "children": [
       "IPY_MODEL_5c30993d772a4c3c9fa0b2cfd5c92acb",
       "IPY_MODEL_7a22091f10bc48d78c4653dba6fe73d4",
       "IPY_MODEL_c7ca0af92db8426aa54d4b4d7de8b587"
      ],
      "layout": "IPY_MODEL_cb30fbd0722848c5bfb398fbe51db32b"
     }
    },
    "7dc678244a7041a4a1f2b43e6638b357": {
     "model_module": "@jupyter-widgets/controls",
     "model_module_version": "1.5.0",
     "model_name": "ProgressStyleModel",
     "state": {
      "_model_module": "@jupyter-widgets/controls",
      "_model_module_version": "1.5.0",
      "_model_name": "ProgressStyleModel",
      "_view_count": null,
      "_view_module": "@jupyter-widgets/base",
      "_view_module_version": "1.2.0",
      "_view_name": "StyleView",
      "bar_color": null,
      "description_width": ""
     }
    },
    "7f7ef7efd05045d5916308352e8efaef": {
     "model_module": "@jupyter-widgets/base",
     "model_module_version": "1.2.0",
     "model_name": "LayoutModel",
     "state": {
      "_model_module": "@jupyter-widgets/base",
      "_model_module_version": "1.2.0",
      "_model_name": "LayoutModel",
      "_view_count": null,
      "_view_module": "@jupyter-widgets/base",
      "_view_module_version": "1.2.0",
      "_view_name": "LayoutView",
      "align_content": null,
      "align_items": null,
      "align_self": null,
      "border": null,
      "bottom": null,
      "display": null,
      "flex": null,
      "flex_flow": null,
      "grid_area": null,
      "grid_auto_columns": null,
      "grid_auto_flow": null,
      "grid_auto_rows": null,
      "grid_column": null,
      "grid_gap": null,
      "grid_row": null,
      "grid_template_areas": null,
      "grid_template_columns": null,
      "grid_template_rows": null,
      "height": null,
      "justify_content": null,
      "justify_items": null,
      "left": null,
      "margin": null,
      "max_height": null,
      "max_width": null,
      "min_height": null,
      "min_width": null,
      "object_fit": null,
      "object_position": null,
      "order": null,
      "overflow": null,
      "overflow_x": null,
      "overflow_y": null,
      "padding": null,
      "right": null,
      "top": null,
      "visibility": null,
      "width": null
     }
    },
    "82dbe0d435a04d4f99fc7a6725b4b08d": {
     "model_module": "@jupyter-widgets/base",
     "model_module_version": "1.2.0",
     "model_name": "LayoutModel",
     "state": {
      "_model_module": "@jupyter-widgets/base",
      "_model_module_version": "1.2.0",
      "_model_name": "LayoutModel",
      "_view_count": null,
      "_view_module": "@jupyter-widgets/base",
      "_view_module_version": "1.2.0",
      "_view_name": "LayoutView",
      "align_content": null,
      "align_items": null,
      "align_self": null,
      "border": null,
      "bottom": null,
      "display": null,
      "flex": null,
      "flex_flow": null,
      "grid_area": null,
      "grid_auto_columns": null,
      "grid_auto_flow": null,
      "grid_auto_rows": null,
      "grid_column": null,
      "grid_gap": null,
      "grid_row": null,
      "grid_template_areas": null,
      "grid_template_columns": null,
      "grid_template_rows": null,
      "height": null,
      "justify_content": null,
      "justify_items": null,
      "left": null,
      "margin": null,
      "max_height": null,
      "max_width": null,
      "min_height": null,
      "min_width": null,
      "object_fit": null,
      "object_position": null,
      "order": null,
      "overflow": null,
      "overflow_x": null,
      "overflow_y": null,
      "padding": null,
      "right": null,
      "top": null,
      "visibility": null,
      "width": null
     }
    },
    "838bf5cf6cf94c919ece23fc19a1e67e": {
     "model_module": "@jupyter-widgets/base",
     "model_module_version": "1.2.0",
     "model_name": "LayoutModel",
     "state": {
      "_model_module": "@jupyter-widgets/base",
      "_model_module_version": "1.2.0",
      "_model_name": "LayoutModel",
      "_view_count": null,
      "_view_module": "@jupyter-widgets/base",
      "_view_module_version": "1.2.0",
      "_view_name": "LayoutView",
      "align_content": null,
      "align_items": null,
      "align_self": null,
      "border": null,
      "bottom": null,
      "display": null,
      "flex": null,
      "flex_flow": null,
      "grid_area": null,
      "grid_auto_columns": null,
      "grid_auto_flow": null,
      "grid_auto_rows": null,
      "grid_column": null,
      "grid_gap": null,
      "grid_row": null,
      "grid_template_areas": null,
      "grid_template_columns": null,
      "grid_template_rows": null,
      "height": null,
      "justify_content": null,
      "justify_items": null,
      "left": null,
      "margin": null,
      "max_height": null,
      "max_width": null,
      "min_height": null,
      "min_width": null,
      "object_fit": null,
      "object_position": null,
      "order": null,
      "overflow": null,
      "overflow_x": null,
      "overflow_y": null,
      "padding": null,
      "right": null,
      "top": null,
      "visibility": null,
      "width": null
     }
    },
    "846679ed2feb43bf8fa85e5a7c9a86db": {
     "model_module": "@jupyter-widgets/controls",
     "model_module_version": "1.5.0",
     "model_name": "HTMLModel",
     "state": {
      "_dom_classes": [],
      "_model_module": "@jupyter-widgets/controls",
      "_model_module_version": "1.5.0",
      "_model_name": "HTMLModel",
      "_view_count": null,
      "_view_module": "@jupyter-widgets/controls",
      "_view_module_version": "1.5.0",
      "_view_name": "HTMLView",
      "description": "",
      "description_tooltip": null,
      "layout": "IPY_MODEL_e0eb194321f64cef848690f1cb92c66d",
      "placeholder": "​",
      "style": "IPY_MODEL_4551ca185b71401ba13363d729c00003",
      "value": "Map: 100%"
     }
    },
    "849d142812e7413e90fe885c41612288": {
     "model_module": "@jupyter-widgets/controls",
     "model_module_version": "1.5.0",
     "model_name": "DescriptionStyleModel",
     "state": {
      "_model_module": "@jupyter-widgets/controls",
      "_model_module_version": "1.5.0",
      "_model_name": "DescriptionStyleModel",
      "_view_count": null,
      "_view_module": "@jupyter-widgets/base",
      "_view_module_version": "1.2.0",
      "_view_name": "StyleView",
      "description_width": ""
     }
    },
    "84a06ae0404945029b55232f947ff26e": {
     "model_module": "@jupyter-widgets/base",
     "model_module_version": "1.2.0",
     "model_name": "LayoutModel",
     "state": {
      "_model_module": "@jupyter-widgets/base",
      "_model_module_version": "1.2.0",
      "_model_name": "LayoutModel",
      "_view_count": null,
      "_view_module": "@jupyter-widgets/base",
      "_view_module_version": "1.2.0",
      "_view_name": "LayoutView",
      "align_content": null,
      "align_items": null,
      "align_self": null,
      "border": null,
      "bottom": null,
      "display": null,
      "flex": null,
      "flex_flow": null,
      "grid_area": null,
      "grid_auto_columns": null,
      "grid_auto_flow": null,
      "grid_auto_rows": null,
      "grid_column": null,
      "grid_gap": null,
      "grid_row": null,
      "grid_template_areas": null,
      "grid_template_columns": null,
      "grid_template_rows": null,
      "height": null,
      "justify_content": null,
      "justify_items": null,
      "left": null,
      "margin": null,
      "max_height": null,
      "max_width": null,
      "min_height": null,
      "min_width": null,
      "object_fit": null,
      "object_position": null,
      "order": null,
      "overflow": null,
      "overflow_x": null,
      "overflow_y": null,
      "padding": null,
      "right": null,
      "top": null,
      "visibility": null,
      "width": null
     }
    },
    "887eaddaa0b548cead3ee673935757cb": {
     "model_module": "@jupyter-widgets/controls",
     "model_module_version": "1.5.0",
     "model_name": "HTMLModel",
     "state": {
      "_dom_classes": [],
      "_model_module": "@jupyter-widgets/controls",
      "_model_module_version": "1.5.0",
      "_model_name": "HTMLModel",
      "_view_count": null,
      "_view_module": "@jupyter-widgets/controls",
      "_view_module_version": "1.5.0",
      "_view_name": "HTMLView",
      "description": "",
      "description_tooltip": null,
      "layout": "IPY_MODEL_1f995c9179c749a4a027f6213450fefc",
      "placeholder": "​",
      "style": "IPY_MODEL_5e570567ba1349328c8f7299d1d668e6",
      "value": "Map: 100%"
     }
    },
    "8a875ca608a747468d006a9629af8179": {
     "model_module": "@jupyter-widgets/controls",
     "model_module_version": "1.5.0",
     "model_name": "ProgressStyleModel",
     "state": {
      "_model_module": "@jupyter-widgets/controls",
      "_model_module_version": "1.5.0",
      "_model_name": "ProgressStyleModel",
      "_view_count": null,
      "_view_module": "@jupyter-widgets/base",
      "_view_module_version": "1.2.0",
      "_view_name": "StyleView",
      "bar_color": null,
      "description_width": ""
     }
    },
    "8b3aab31a0bb4bc4bdd2ea87e05d3dee": {
     "model_module": "@jupyter-widgets/controls",
     "model_module_version": "1.5.0",
     "model_name": "HTMLModel",
     "state": {
      "_dom_classes": [],
      "_model_module": "@jupyter-widgets/controls",
      "_model_module_version": "1.5.0",
      "_model_name": "HTMLModel",
      "_view_count": null,
      "_view_module": "@jupyter-widgets/controls",
      "_view_module_version": "1.5.0",
      "_view_name": "HTMLView",
      "description": "",
      "description_tooltip": null,
      "layout": "IPY_MODEL_838bf5cf6cf94c919ece23fc19a1e67e",
      "placeholder": "​",
      "style": "IPY_MODEL_f2ab2e6483e44cb194a9c5f1e798d765",
      "value": " 466/466 [00:00&lt;00:00, 12.7kB/s]"
     }
    },
    "8cbf91f09559455bb391613f391d4f45": {
     "model_module": "@jupyter-widgets/controls",
     "model_module_version": "1.5.0",
     "model_name": "HTMLModel",
     "state": {
      "_dom_classes": [],
      "_model_module": "@jupyter-widgets/controls",
      "_model_module_version": "1.5.0",
      "_model_name": "HTMLModel",
      "_view_count": null,
      "_view_module": "@jupyter-widgets/controls",
      "_view_module_version": "1.5.0",
      "_view_name": "HTMLView",
      "description": "",
      "description_tooltip": null,
      "layout": "IPY_MODEL_52e59751f26e445e9006b237c8f3808b",
      "placeholder": "​",
      "style": "IPY_MODEL_5220de3b18864bb8a692d172107756bb",
      "value": " 1613/1613 [00:00&lt;00:00, 4995.23 examples/s]"
     }
    },
    "8fed714ed1ee49048827c3c41dee43a9": {
     "model_module": "@jupyter-widgets/controls",
     "model_module_version": "1.5.0",
     "model_name": "HBoxModel",
     "state": {
      "_dom_classes": [],
      "_model_module": "@jupyter-widgets/controls",
      "_model_module_version": "1.5.0",
      "_model_name": "HBoxModel",
      "_view_count": null,
      "_view_module": "@jupyter-widgets/controls",
      "_view_module_version": "1.5.0",
      "_view_name": "HBoxView",
      "box_style": "",
      "children": [
       "IPY_MODEL_887eaddaa0b548cead3ee673935757cb",
       "IPY_MODEL_4c171e8752744fb4bf068ad2d52269f5",
       "IPY_MODEL_653bee3110104812af937233ce5796e5"
      ],
      "layout": "IPY_MODEL_049d5414303e4f53bc38b015322a760d"
     }
    },
    "9194856c0859425c882e5ceeb66b5f75": {
     "model_module": "@jupyter-widgets/controls",
     "model_module_version": "1.5.0",
     "model_name": "DescriptionStyleModel",
     "state": {
      "_model_module": "@jupyter-widgets/controls",
      "_model_module_version": "1.5.0",
      "_model_name": "DescriptionStyleModel",
      "_view_count": null,
      "_view_module": "@jupyter-widgets/base",
      "_view_module_version": "1.2.0",
      "_view_name": "StyleView",
      "description_width": ""
     }
    },
    "9334654d7580478ba058fb0d6a0ede41": {
     "model_module": "@jupyter-widgets/base",
     "model_module_version": "1.2.0",
     "model_name": "LayoutModel",
     "state": {
      "_model_module": "@jupyter-widgets/base",
      "_model_module_version": "1.2.0",
      "_model_name": "LayoutModel",
      "_view_count": null,
      "_view_module": "@jupyter-widgets/base",
      "_view_module_version": "1.2.0",
      "_view_name": "LayoutView",
      "align_content": null,
      "align_items": null,
      "align_self": null,
      "border": null,
      "bottom": null,
      "display": null,
      "flex": null,
      "flex_flow": null,
      "grid_area": null,
      "grid_auto_columns": null,
      "grid_auto_flow": null,
      "grid_auto_rows": null,
      "grid_column": null,
      "grid_gap": null,
      "grid_row": null,
      "grid_template_areas": null,
      "grid_template_columns": null,
      "grid_template_rows": null,
      "height": null,
      "justify_content": null,
      "justify_items": null,
      "left": null,
      "margin": null,
      "max_height": null,
      "max_width": null,
      "min_height": null,
      "min_width": null,
      "object_fit": null,
      "object_position": null,
      "order": null,
      "overflow": null,
      "overflow_x": null,
      "overflow_y": null,
      "padding": null,
      "right": null,
      "top": null,
      "visibility": null,
      "width": null
     }
    },
    "93522bab10c54d079b8f1d6b0a204ab0": {
     "model_module": "@jupyter-widgets/controls",
     "model_module_version": "1.5.0",
     "model_name": "DescriptionStyleModel",
     "state": {
      "_model_module": "@jupyter-widgets/controls",
      "_model_module_version": "1.5.0",
      "_model_name": "DescriptionStyleModel",
      "_view_count": null,
      "_view_module": "@jupyter-widgets/base",
      "_view_module_version": "1.2.0",
      "_view_name": "StyleView",
      "description_width": ""
     }
    },
    "935c89f7300e41a79ba003daf306c17a": {
     "model_module": "@jupyter-widgets/controls",
     "model_module_version": "1.5.0",
     "model_name": "DescriptionStyleModel",
     "state": {
      "_model_module": "@jupyter-widgets/controls",
      "_model_module_version": "1.5.0",
      "_model_name": "DescriptionStyleModel",
      "_view_count": null,
      "_view_module": "@jupyter-widgets/base",
      "_view_module_version": "1.2.0",
      "_view_name": "StyleView",
      "description_width": ""
     }
    },
    "938004c3a6ce4847830da888e8cbb525": {
     "model_module": "@jupyter-widgets/controls",
     "model_module_version": "1.5.0",
     "model_name": "FloatProgressModel",
     "state": {
      "_dom_classes": [],
      "_model_module": "@jupyter-widgets/controls",
      "_model_module_version": "1.5.0",
      "_model_name": "FloatProgressModel",
      "_view_count": null,
      "_view_module": "@jupyter-widgets/controls",
      "_view_module_version": "1.5.0",
      "_view_name": "ProgressView",
      "bar_style": "success",
      "description": "",
      "description_tooltip": null,
      "layout": "IPY_MODEL_254dcaa9f0534b67833ed6c82ffafbb0",
      "max": 282,
      "min": 0,
      "orientation": "horizontal",
      "style": "IPY_MODEL_c0cfdbae9fc74bf2a3b017d54a85f48f",
      "value": 282
     }
    },
    "946d111939c04c62a897b27fdfd828ff": {
     "model_module": "@jupyter-widgets/base",
     "model_module_version": "1.2.0",
     "model_name": "LayoutModel",
     "state": {
      "_model_module": "@jupyter-widgets/base",
      "_model_module_version": "1.2.0",
      "_model_name": "LayoutModel",
      "_view_count": null,
      "_view_module": "@jupyter-widgets/base",
      "_view_module_version": "1.2.0",
      "_view_name": "LayoutView",
      "align_content": null,
      "align_items": null,
      "align_self": null,
      "border": null,
      "bottom": null,
      "display": null,
      "flex": null,
      "flex_flow": null,
      "grid_area": null,
      "grid_auto_columns": null,
      "grid_auto_flow": null,
      "grid_auto_rows": null,
      "grid_column": null,
      "grid_gap": null,
      "grid_row": null,
      "grid_template_areas": null,
      "grid_template_columns": null,
      "grid_template_rows": null,
      "height": null,
      "justify_content": null,
      "justify_items": null,
      "left": null,
      "margin": null,
      "max_height": null,
      "max_width": null,
      "min_height": null,
      "min_width": null,
      "object_fit": null,
      "object_position": null,
      "order": null,
      "overflow": null,
      "overflow_x": null,
      "overflow_y": null,
      "padding": null,
      "right": null,
      "top": null,
      "visibility": null,
      "width": null
     }
    },
    "956a3f4b0fe54906bbbba22e4631aa0a": {
     "model_module": "@jupyter-widgets/base",
     "model_module_version": "1.2.0",
     "model_name": "LayoutModel",
     "state": {
      "_model_module": "@jupyter-widgets/base",
      "_model_module_version": "1.2.0",
      "_model_name": "LayoutModel",
      "_view_count": null,
      "_view_module": "@jupyter-widgets/base",
      "_view_module_version": "1.2.0",
      "_view_name": "LayoutView",
      "align_content": null,
      "align_items": null,
      "align_self": null,
      "border": null,
      "bottom": null,
      "display": null,
      "flex": null,
      "flex_flow": null,
      "grid_area": null,
      "grid_auto_columns": null,
      "grid_auto_flow": null,
      "grid_auto_rows": null,
      "grid_column": null,
      "grid_gap": null,
      "grid_row": null,
      "grid_template_areas": null,
      "grid_template_columns": null,
      "grid_template_rows": null,
      "height": null,
      "justify_content": null,
      "justify_items": null,
      "left": null,
      "margin": null,
      "max_height": null,
      "max_width": null,
      "min_height": null,
      "min_width": null,
      "object_fit": null,
      "object_position": null,
      "order": null,
      "overflow": null,
      "overflow_x": null,
      "overflow_y": null,
      "padding": null,
      "right": null,
      "top": null,
      "visibility": null,
      "width": null
     }
    },
    "97092133e8bd4dadb9fadc35af650768": {
     "model_module": "@jupyter-widgets/controls",
     "model_module_version": "1.5.0",
     "model_name": "HBoxModel",
     "state": {
      "_dom_classes": [],
      "_model_module": "@jupyter-widgets/controls",
      "_model_module_version": "1.5.0",
      "_model_name": "HBoxModel",
      "_view_count": null,
      "_view_module": "@jupyter-widgets/controls",
      "_view_module_version": "1.5.0",
      "_view_name": "HBoxView",
      "box_style": "",
      "children": [
       "IPY_MODEL_7473724c086a4e54bb7bdb5f61078b80",
       "IPY_MODEL_cc4eea19dd054d42aec56cf0112b2c6e",
       "IPY_MODEL_1ad0a0a75fa94ea8aaec43415ba34d0a"
      ],
      "layout": "IPY_MODEL_10e87d54e69c44f1a59c57edc6f3e6ac"
     }
    },
    "98a8e8cd9a844ab99e4b732553566e30": {
     "model_module": "@jupyter-widgets/base",
     "model_module_version": "1.2.0",
     "model_name": "LayoutModel",
     "state": {
      "_model_module": "@jupyter-widgets/base",
      "_model_module_version": "1.2.0",
      "_model_name": "LayoutModel",
      "_view_count": null,
      "_view_module": "@jupyter-widgets/base",
      "_view_module_version": "1.2.0",
      "_view_name": "LayoutView",
      "align_content": null,
      "align_items": null,
      "align_self": null,
      "border": null,
      "bottom": null,
      "display": null,
      "flex": null,
      "flex_flow": null,
      "grid_area": null,
      "grid_auto_columns": null,
      "grid_auto_flow": null,
      "grid_auto_rows": null,
      "grid_column": null,
      "grid_gap": null,
      "grid_row": null,
      "grid_template_areas": null,
      "grid_template_columns": null,
      "grid_template_rows": null,
      "height": null,
      "justify_content": null,
      "justify_items": null,
      "left": null,
      "margin": null,
      "max_height": null,
      "max_width": null,
      "min_height": null,
      "min_width": null,
      "object_fit": null,
      "object_position": null,
      "order": null,
      "overflow": null,
      "overflow_x": null,
      "overflow_y": null,
      "padding": null,
      "right": null,
      "top": null,
      "visibility": null,
      "width": null
     }
    },
    "99365f3ca008464eb08d839f49156354": {
     "model_module": "@jupyter-widgets/controls",
     "model_module_version": "1.5.0",
     "model_name": "DescriptionStyleModel",
     "state": {
      "_model_module": "@jupyter-widgets/controls",
      "_model_module_version": "1.5.0",
      "_model_name": "DescriptionStyleModel",
      "_view_count": null,
      "_view_module": "@jupyter-widgets/base",
      "_view_module_version": "1.2.0",
      "_view_name": "StyleView",
      "description_width": ""
     }
    },
    "9c7df8a2b51b49c8b025929455b3adae": {
     "model_module": "@jupyter-widgets/base",
     "model_module_version": "1.2.0",
     "model_name": "LayoutModel",
     "state": {
      "_model_module": "@jupyter-widgets/base",
      "_model_module_version": "1.2.0",
      "_model_name": "LayoutModel",
      "_view_count": null,
      "_view_module": "@jupyter-widgets/base",
      "_view_module_version": "1.2.0",
      "_view_name": "LayoutView",
      "align_content": null,
      "align_items": null,
      "align_self": null,
      "border": null,
      "bottom": null,
      "display": null,
      "flex": null,
      "flex_flow": null,
      "grid_area": null,
      "grid_auto_columns": null,
      "grid_auto_flow": null,
      "grid_auto_rows": null,
      "grid_column": null,
      "grid_gap": null,
      "grid_row": null,
      "grid_template_areas": null,
      "grid_template_columns": null,
      "grid_template_rows": null,
      "height": null,
      "justify_content": null,
      "justify_items": null,
      "left": null,
      "margin": null,
      "max_height": null,
      "max_width": null,
      "min_height": null,
      "min_width": null,
      "object_fit": null,
      "object_position": null,
      "order": null,
      "overflow": null,
      "overflow_x": null,
      "overflow_y": null,
      "padding": null,
      "right": null,
      "top": null,
      "visibility": null,
      "width": null
     }
    },
    "9db163ba4a9f49a78f8ee7277d2d5e20": {
     "model_module": "@jupyter-widgets/base",
     "model_module_version": "1.2.0",
     "model_name": "LayoutModel",
     "state": {
      "_model_module": "@jupyter-widgets/base",
      "_model_module_version": "1.2.0",
      "_model_name": "LayoutModel",
      "_view_count": null,
      "_view_module": "@jupyter-widgets/base",
      "_view_module_version": "1.2.0",
      "_view_name": "LayoutView",
      "align_content": null,
      "align_items": null,
      "align_self": null,
      "border": null,
      "bottom": null,
      "display": null,
      "flex": null,
      "flex_flow": null,
      "grid_area": null,
      "grid_auto_columns": null,
      "grid_auto_flow": null,
      "grid_auto_rows": null,
      "grid_column": null,
      "grid_gap": null,
      "grid_row": null,
      "grid_template_areas": null,
      "grid_template_columns": null,
      "grid_template_rows": null,
      "height": null,
      "justify_content": null,
      "justify_items": null,
      "left": null,
      "margin": null,
      "max_height": null,
      "max_width": null,
      "min_height": null,
      "min_width": null,
      "object_fit": null,
      "object_position": null,
      "order": null,
      "overflow": null,
      "overflow_x": null,
      "overflow_y": null,
      "padding": null,
      "right": null,
      "top": null,
      "visibility": null,
      "width": null
     }
    },
    "9e3031cef9244699b769c52d913c0414": {
     "model_module": "@jupyter-widgets/base",
     "model_module_version": "1.2.0",
     "model_name": "LayoutModel",
     "state": {
      "_model_module": "@jupyter-widgets/base",
      "_model_module_version": "1.2.0",
      "_model_name": "LayoutModel",
      "_view_count": null,
      "_view_module": "@jupyter-widgets/base",
      "_view_module_version": "1.2.0",
      "_view_name": "LayoutView",
      "align_content": null,
      "align_items": null,
      "align_self": null,
      "border": null,
      "bottom": null,
      "display": null,
      "flex": null,
      "flex_flow": null,
      "grid_area": null,
      "grid_auto_columns": null,
      "grid_auto_flow": null,
      "grid_auto_rows": null,
      "grid_column": null,
      "grid_gap": null,
      "grid_row": null,
      "grid_template_areas": null,
      "grid_template_columns": null,
      "grid_template_rows": null,
      "height": null,
      "justify_content": null,
      "justify_items": null,
      "left": null,
      "margin": null,
      "max_height": null,
      "max_width": null,
      "min_height": null,
      "min_width": null,
      "object_fit": null,
      "object_position": null,
      "order": null,
      "overflow": null,
      "overflow_x": null,
      "overflow_y": null,
      "padding": null,
      "right": null,
      "top": null,
      "visibility": null,
      "width": null
     }
    },
    "9e9bacb4662d4f2eb514b44995b8d1d9": {
     "model_module": "@jupyter-widgets/controls",
     "model_module_version": "1.5.0",
     "model_name": "HTMLModel",
     "state": {
      "_dom_classes": [],
      "_model_module": "@jupyter-widgets/controls",
      "_model_module_version": "1.5.0",
      "_model_name": "HTMLModel",
      "_view_count": null,
      "_view_module": "@jupyter-widgets/controls",
      "_view_module_version": "1.5.0",
      "_view_name": "HTMLView",
      "description": "",
      "description_tooltip": null,
      "layout": "IPY_MODEL_dd6d4ac82b61430f80ff47461035db49",
      "placeholder": "​",
      "style": "IPY_MODEL_f29e1d719e7f45e684b9956f1886dfd5",
      "value": "tokenizer_config.json: 100%"
     }
    },
    "a549414727014797831716c76e29f4a9": {
     "model_module": "@jupyter-widgets/base",
     "model_module_version": "1.2.0",
     "model_name": "LayoutModel",
     "state": {
      "_model_module": "@jupyter-widgets/base",
      "_model_module_version": "1.2.0",
      "_model_name": "LayoutModel",
      "_view_count": null,
      "_view_module": "@jupyter-widgets/base",
      "_view_module_version": "1.2.0",
      "_view_name": "LayoutView",
      "align_content": null,
      "align_items": null,
      "align_self": null,
      "border": null,
      "bottom": null,
      "display": null,
      "flex": null,
      "flex_flow": null,
      "grid_area": null,
      "grid_auto_columns": null,
      "grid_auto_flow": null,
      "grid_auto_rows": null,
      "grid_column": null,
      "grid_gap": null,
      "grid_row": null,
      "grid_template_areas": null,
      "grid_template_columns": null,
      "grid_template_rows": null,
      "height": null,
      "justify_content": null,
      "justify_items": null,
      "left": null,
      "margin": null,
      "max_height": null,
      "max_width": null,
      "min_height": null,
      "min_width": null,
      "object_fit": null,
      "object_position": null,
      "order": null,
      "overflow": null,
      "overflow_x": null,
      "overflow_y": null,
      "padding": null,
      "right": null,
      "top": null,
      "visibility": null,
      "width": null
     }
    },
    "a566a8fdb847417185ce2c8e102d71bf": {
     "model_module": "@jupyter-widgets/controls",
     "model_module_version": "1.5.0",
     "model_name": "DescriptionStyleModel",
     "state": {
      "_model_module": "@jupyter-widgets/controls",
      "_model_module_version": "1.5.0",
      "_model_name": "DescriptionStyleModel",
      "_view_count": null,
      "_view_module": "@jupyter-widgets/base",
      "_view_module_version": "1.2.0",
      "_view_name": "StyleView",
      "description_width": ""
     }
    },
    "a99a70f7b7c74ee3941e591b95737d07": {
     "model_module": "@jupyter-widgets/controls",
     "model_module_version": "1.5.0",
     "model_name": "HTMLModel",
     "state": {
      "_dom_classes": [],
      "_model_module": "@jupyter-widgets/controls",
      "_model_module_version": "1.5.0",
      "_model_name": "HTMLModel",
      "_view_count": null,
      "_view_module": "@jupyter-widgets/controls",
      "_view_module_version": "1.5.0",
      "_view_name": "HTMLView",
      "description": "",
      "description_tooltip": null,
      "layout": "IPY_MODEL_71f6598a46214c80b8c7ec3fbe59c2cd",
      "placeholder": "​",
      "style": "IPY_MODEL_dcb0a5d2af4644cabb187a8734f5d976",
      "value": "config.json: 100%"
     }
    },
    "aaf44f3540c5431ba221888a5d63aa1b": {
     "model_module": "@jupyter-widgets/controls",
     "model_module_version": "1.5.0",
     "model_name": "HBoxModel",
     "state": {
      "_dom_classes": [],
      "_model_module": "@jupyter-widgets/controls",
      "_model_module_version": "1.5.0",
      "_model_name": "HBoxModel",
      "_view_count": null,
      "_view_module": "@jupyter-widgets/controls",
      "_view_module_version": "1.5.0",
      "_view_name": "HBoxView",
      "box_style": "",
      "children": [
       "IPY_MODEL_d4ad774b9ecc40dbb03e1b17936f680f",
       "IPY_MODEL_dc3c1bc01de64e2da0a45fb286b0cac6",
       "IPY_MODEL_2b374d24e59f43ff90cc902d7ba1d57b"
      ],
      "layout": "IPY_MODEL_b87a40a128844c7b802d75bde178e4a7"
     }
    },
    "ac25db6c023b474aa40ab6b4a9ab194a": {
     "model_module": "@jupyter-widgets/controls",
     "model_module_version": "1.5.0",
     "model_name": "ProgressStyleModel",
     "state": {
      "_model_module": "@jupyter-widgets/controls",
      "_model_module_version": "1.5.0",
      "_model_name": "ProgressStyleModel",
      "_view_count": null,
      "_view_module": "@jupyter-widgets/base",
      "_view_module_version": "1.2.0",
      "_view_name": "StyleView",
      "bar_color": null,
      "description_width": ""
     }
    },
    "aeb7c6f8484e49638c082e21ce1ffc8d": {
     "model_module": "@jupyter-widgets/base",
     "model_module_version": "1.2.0",
     "model_name": "LayoutModel",
     "state": {
      "_model_module": "@jupyter-widgets/base",
      "_model_module_version": "1.2.0",
      "_model_name": "LayoutModel",
      "_view_count": null,
      "_view_module": "@jupyter-widgets/base",
      "_view_module_version": "1.2.0",
      "_view_name": "LayoutView",
      "align_content": null,
      "align_items": null,
      "align_self": null,
      "border": null,
      "bottom": null,
      "display": null,
      "flex": null,
      "flex_flow": null,
      "grid_area": null,
      "grid_auto_columns": null,
      "grid_auto_flow": null,
      "grid_auto_rows": null,
      "grid_column": null,
      "grid_gap": null,
      "grid_row": null,
      "grid_template_areas": null,
      "grid_template_columns": null,
      "grid_template_rows": null,
      "height": null,
      "justify_content": null,
      "justify_items": null,
      "left": null,
      "margin": null,
      "max_height": null,
      "max_width": null,
      "min_height": null,
      "min_width": null,
      "object_fit": null,
      "object_position": null,
      "order": null,
      "overflow": null,
      "overflow_x": null,
      "overflow_y": null,
      "padding": null,
      "right": null,
      "top": null,
      "visibility": null,
      "width": null
     }
    },
    "af7cd83d7a00495ebafb20b9edb56544": {
     "model_module": "@jupyter-widgets/base",
     "model_module_version": "1.2.0",
     "model_name": "LayoutModel",
     "state": {
      "_model_module": "@jupyter-widgets/base",
      "_model_module_version": "1.2.0",
      "_model_name": "LayoutModel",
      "_view_count": null,
      "_view_module": "@jupyter-widgets/base",
      "_view_module_version": "1.2.0",
      "_view_name": "LayoutView",
      "align_content": null,
      "align_items": null,
      "align_self": null,
      "border": null,
      "bottom": null,
      "display": null,
      "flex": null,
      "flex_flow": null,
      "grid_area": null,
      "grid_auto_columns": null,
      "grid_auto_flow": null,
      "grid_auto_rows": null,
      "grid_column": null,
      "grid_gap": null,
      "grid_row": null,
      "grid_template_areas": null,
      "grid_template_columns": null,
      "grid_template_rows": null,
      "height": null,
      "justify_content": null,
      "justify_items": null,
      "left": null,
      "margin": null,
      "max_height": null,
      "max_width": null,
      "min_height": null,
      "min_width": null,
      "object_fit": null,
      "object_position": null,
      "order": null,
      "overflow": null,
      "overflow_x": null,
      "overflow_y": null,
      "padding": null,
      "right": null,
      "top": null,
      "visibility": null,
      "width": null
     }
    },
    "afbb016f96684941b7fa49d5c1984abd": {
     "model_module": "@jupyter-widgets/base",
     "model_module_version": "1.2.0",
     "model_name": "LayoutModel",
     "state": {
      "_model_module": "@jupyter-widgets/base",
      "_model_module_version": "1.2.0",
      "_model_name": "LayoutModel",
      "_view_count": null,
      "_view_module": "@jupyter-widgets/base",
      "_view_module_version": "1.2.0",
      "_view_name": "LayoutView",
      "align_content": null,
      "align_items": null,
      "align_self": null,
      "border": null,
      "bottom": null,
      "display": null,
      "flex": null,
      "flex_flow": null,
      "grid_area": null,
      "grid_auto_columns": null,
      "grid_auto_flow": null,
      "grid_auto_rows": null,
      "grid_column": null,
      "grid_gap": null,
      "grid_row": null,
      "grid_template_areas": null,
      "grid_template_columns": null,
      "grid_template_rows": null,
      "height": null,
      "justify_content": null,
      "justify_items": null,
      "left": null,
      "margin": null,
      "max_height": null,
      "max_width": null,
      "min_height": null,
      "min_width": null,
      "object_fit": null,
      "object_position": null,
      "order": null,
      "overflow": null,
      "overflow_x": null,
      "overflow_y": null,
      "padding": null,
      "right": null,
      "top": null,
      "visibility": null,
      "width": null
     }
    },
    "b3248be9df6d42b69df0ade321486a26": {
     "model_module": "@jupyter-widgets/controls",
     "model_module_version": "1.5.0",
     "model_name": "HTMLModel",
     "state": {
      "_dom_classes": [],
      "_model_module": "@jupyter-widgets/controls",
      "_model_module_version": "1.5.0",
      "_model_name": "HTMLModel",
      "_view_count": null,
      "_view_module": "@jupyter-widgets/controls",
      "_view_module_version": "1.5.0",
      "_view_name": "HTMLView",
      "description": "",
      "description_tooltip": null,
      "layout": "IPY_MODEL_788957a44e2841bf992da8a6b8b64a0d",
      "placeholder": "​",
      "style": "IPY_MODEL_e4125f8aa1d2458b83483c8f93fa132e",
      "value": "Map: 100%"
     }
    },
    "b3ed484bf6964a08887d11e3cd9774d0": {
     "model_module": "@jupyter-widgets/base",
     "model_module_version": "1.2.0",
     "model_name": "LayoutModel",
     "state": {
      "_model_module": "@jupyter-widgets/base",
      "_model_module_version": "1.2.0",
      "_model_name": "LayoutModel",
      "_view_count": null,
      "_view_module": "@jupyter-widgets/base",
      "_view_module_version": "1.2.0",
      "_view_name": "LayoutView",
      "align_content": null,
      "align_items": null,
      "align_self": null,
      "border": null,
      "bottom": null,
      "display": null,
      "flex": null,
      "flex_flow": null,
      "grid_area": null,
      "grid_auto_columns": null,
      "grid_auto_flow": null,
      "grid_auto_rows": null,
      "grid_column": null,
      "grid_gap": null,
      "grid_row": null,
      "grid_template_areas": null,
      "grid_template_columns": null,
      "grid_template_rows": null,
      "height": null,
      "justify_content": null,
      "justify_items": null,
      "left": null,
      "margin": null,
      "max_height": null,
      "max_width": null,
      "min_height": null,
      "min_width": null,
      "object_fit": null,
      "object_position": null,
      "order": null,
      "overflow": null,
      "overflow_x": null,
      "overflow_y": null,
      "padding": null,
      "right": null,
      "top": null,
      "visibility": null,
      "width": null
     }
    },
    "b410578c22914de1884e75b83e11d662": {
     "model_module": "@jupyter-widgets/controls",
     "model_module_version": "1.5.0",
     "model_name": "HTMLModel",
     "state": {
      "_dom_classes": [],
      "_model_module": "@jupyter-widgets/controls",
      "_model_module_version": "1.5.0",
      "_model_name": "HTMLModel",
      "_view_count": null,
      "_view_module": "@jupyter-widgets/controls",
      "_view_module_version": "1.5.0",
      "_view_name": "HTMLView",
      "description": "",
      "description_tooltip": null,
      "layout": "IPY_MODEL_84a06ae0404945029b55232f947ff26e",
      "placeholder": "​",
      "style": "IPY_MODEL_0058effdf457459a81511b71e8d46d41",
      "value": "vocab.txt: 100%"
     }
    },
    "b4d5d33dafc5441884b9e20c7d3ce852": {
     "model_module": "@jupyter-widgets/base",
     "model_module_version": "1.2.0",
     "model_name": "LayoutModel",
     "state": {
      "_model_module": "@jupyter-widgets/base",
      "_model_module_version": "1.2.0",
      "_model_name": "LayoutModel",
      "_view_count": null,
      "_view_module": "@jupyter-widgets/base",
      "_view_module_version": "1.2.0",
      "_view_name": "LayoutView",
      "align_content": null,
      "align_items": null,
      "align_self": null,
      "border": null,
      "bottom": null,
      "display": null,
      "flex": null,
      "flex_flow": null,
      "grid_area": null,
      "grid_auto_columns": null,
      "grid_auto_flow": null,
      "grid_auto_rows": null,
      "grid_column": null,
      "grid_gap": null,
      "grid_row": null,
      "grid_template_areas": null,
      "grid_template_columns": null,
      "grid_template_rows": null,
      "height": null,
      "justify_content": null,
      "justify_items": null,
      "left": null,
      "margin": null,
      "max_height": null,
      "max_width": null,
      "min_height": null,
      "min_width": null,
      "object_fit": null,
      "object_position": null,
      "order": null,
      "overflow": null,
      "overflow_x": null,
      "overflow_y": null,
      "padding": null,
      "right": null,
      "top": null,
      "visibility": null,
      "width": null
     }
    },
    "b5a55ca142694b4dad24498ae359045f": {
     "model_module": "@jupyter-widgets/controls",
     "model_module_version": "1.5.0",
     "model_name": "HTMLModel",
     "state": {
      "_dom_classes": [],
      "_model_module": "@jupyter-widgets/controls",
      "_model_module_version": "1.5.0",
      "_model_name": "HTMLModel",
      "_view_count": null,
      "_view_module": "@jupyter-widgets/controls",
      "_view_module_version": "1.5.0",
      "_view_name": "HTMLView",
      "description": "",
      "description_tooltip": null,
      "layout": "IPY_MODEL_c946d5ac6caa414e95ec44199c5b5114",
      "placeholder": "​",
      "style": "IPY_MODEL_b7240202562e4a3986b1b2acfb96ef08",
      "value": "Map: 100%"
     }
    },
    "b5bb875654e84ff696ca05d14d36e823": {
     "model_module": "@jupyter-widgets/controls",
     "model_module_version": "1.5.0",
     "model_name": "HBoxModel",
     "state": {
      "_dom_classes": [],
      "_model_module": "@jupyter-widgets/controls",
      "_model_module_version": "1.5.0",
      "_model_name": "HBoxModel",
      "_view_count": null,
      "_view_module": "@jupyter-widgets/controls",
      "_view_module_version": "1.5.0",
      "_view_name": "HBoxView",
      "box_style": "",
      "children": [
       "IPY_MODEL_c7b4cc234b08450db13dac08984a43c6",
       "IPY_MODEL_cd01e307d1cc44a3a562c567a6448564",
       "IPY_MODEL_ff238001caf14315a875987b799c78de"
      ],
      "layout": "IPY_MODEL_eb785ed5e17e48488601ee5a82d114cb"
     }
    },
    "b71ac4e762a546d99f1e5e32ff84442b": {
     "model_module": "@jupyter-widgets/base",
     "model_module_version": "1.2.0",
     "model_name": "LayoutModel",
     "state": {
      "_model_module": "@jupyter-widgets/base",
      "_model_module_version": "1.2.0",
      "_model_name": "LayoutModel",
      "_view_count": null,
      "_view_module": "@jupyter-widgets/base",
      "_view_module_version": "1.2.0",
      "_view_name": "LayoutView",
      "align_content": null,
      "align_items": null,
      "align_self": null,
      "border": null,
      "bottom": null,
      "display": null,
      "flex": null,
      "flex_flow": null,
      "grid_area": null,
      "grid_auto_columns": null,
      "grid_auto_flow": null,
      "grid_auto_rows": null,
      "grid_column": null,
      "grid_gap": null,
      "grid_row": null,
      "grid_template_areas": null,
      "grid_template_columns": null,
      "grid_template_rows": null,
      "height": null,
      "justify_content": null,
      "justify_items": null,
      "left": null,
      "margin": null,
      "max_height": null,
      "max_width": null,
      "min_height": null,
      "min_width": null,
      "object_fit": null,
      "object_position": null,
      "order": null,
      "overflow": null,
      "overflow_x": null,
      "overflow_y": null,
      "padding": null,
      "right": null,
      "top": null,
      "visibility": null,
      "width": null
     }
    },
    "b7240202562e4a3986b1b2acfb96ef08": {
     "model_module": "@jupyter-widgets/controls",
     "model_module_version": "1.5.0",
     "model_name": "DescriptionStyleModel",
     "state": {
      "_model_module": "@jupyter-widgets/controls",
      "_model_module_version": "1.5.0",
      "_model_name": "DescriptionStyleModel",
      "_view_count": null,
      "_view_module": "@jupyter-widgets/base",
      "_view_module_version": "1.2.0",
      "_view_name": "StyleView",
      "description_width": ""
     }
    },
    "b79a3e03708d4e2b996e17acd9bf8545": {
     "model_module": "@jupyter-widgets/base",
     "model_module_version": "1.2.0",
     "model_name": "LayoutModel",
     "state": {
      "_model_module": "@jupyter-widgets/base",
      "_model_module_version": "1.2.0",
      "_model_name": "LayoutModel",
      "_view_count": null,
      "_view_module": "@jupyter-widgets/base",
      "_view_module_version": "1.2.0",
      "_view_name": "LayoutView",
      "align_content": null,
      "align_items": null,
      "align_self": null,
      "border": null,
      "bottom": null,
      "display": null,
      "flex": null,
      "flex_flow": null,
      "grid_area": null,
      "grid_auto_columns": null,
      "grid_auto_flow": null,
      "grid_auto_rows": null,
      "grid_column": null,
      "grid_gap": null,
      "grid_row": null,
      "grid_template_areas": null,
      "grid_template_columns": null,
      "grid_template_rows": null,
      "height": null,
      "justify_content": null,
      "justify_items": null,
      "left": null,
      "margin": null,
      "max_height": null,
      "max_width": null,
      "min_height": null,
      "min_width": null,
      "object_fit": null,
      "object_position": null,
      "order": null,
      "overflow": null,
      "overflow_x": null,
      "overflow_y": null,
      "padding": null,
      "right": null,
      "top": null,
      "visibility": null,
      "width": null
     }
    },
    "b7d33ffcf2294043ad725004f0416154": {
     "model_module": "@jupyter-widgets/base",
     "model_module_version": "1.2.0",
     "model_name": "LayoutModel",
     "state": {
      "_model_module": "@jupyter-widgets/base",
      "_model_module_version": "1.2.0",
      "_model_name": "LayoutModel",
      "_view_count": null,
      "_view_module": "@jupyter-widgets/base",
      "_view_module_version": "1.2.0",
      "_view_name": "LayoutView",
      "align_content": null,
      "align_items": null,
      "align_self": null,
      "border": null,
      "bottom": null,
      "display": null,
      "flex": null,
      "flex_flow": null,
      "grid_area": null,
      "grid_auto_columns": null,
      "grid_auto_flow": null,
      "grid_auto_rows": null,
      "grid_column": null,
      "grid_gap": null,
      "grid_row": null,
      "grid_template_areas": null,
      "grid_template_columns": null,
      "grid_template_rows": null,
      "height": null,
      "justify_content": null,
      "justify_items": null,
      "left": null,
      "margin": null,
      "max_height": null,
      "max_width": null,
      "min_height": null,
      "min_width": null,
      "object_fit": null,
      "object_position": null,
      "order": null,
      "overflow": null,
      "overflow_x": null,
      "overflow_y": null,
      "padding": null,
      "right": null,
      "top": null,
      "visibility": null,
      "width": null
     }
    },
    "b87a40a128844c7b802d75bde178e4a7": {
     "model_module": "@jupyter-widgets/base",
     "model_module_version": "1.2.0",
     "model_name": "LayoutModel",
     "state": {
      "_model_module": "@jupyter-widgets/base",
      "_model_module_version": "1.2.0",
      "_model_name": "LayoutModel",
      "_view_count": null,
      "_view_module": "@jupyter-widgets/base",
      "_view_module_version": "1.2.0",
      "_view_name": "LayoutView",
      "align_content": null,
      "align_items": null,
      "align_self": null,
      "border": null,
      "bottom": null,
      "display": null,
      "flex": null,
      "flex_flow": null,
      "grid_area": null,
      "grid_auto_columns": null,
      "grid_auto_flow": null,
      "grid_auto_rows": null,
      "grid_column": null,
      "grid_gap": null,
      "grid_row": null,
      "grid_template_areas": null,
      "grid_template_columns": null,
      "grid_template_rows": null,
      "height": null,
      "justify_content": null,
      "justify_items": null,
      "left": null,
      "margin": null,
      "max_height": null,
      "max_width": null,
      "min_height": null,
      "min_width": null,
      "object_fit": null,
      "object_position": null,
      "order": null,
      "overflow": null,
      "overflow_x": null,
      "overflow_y": null,
      "padding": null,
      "right": null,
      "top": null,
      "visibility": null,
      "width": null
     }
    },
    "b8beeabe3ded444c89692305f505774a": {
     "model_module": "@jupyter-widgets/base",
     "model_module_version": "1.2.0",
     "model_name": "LayoutModel",
     "state": {
      "_model_module": "@jupyter-widgets/base",
      "_model_module_version": "1.2.0",
      "_model_name": "LayoutModel",
      "_view_count": null,
      "_view_module": "@jupyter-widgets/base",
      "_view_module_version": "1.2.0",
      "_view_name": "LayoutView",
      "align_content": null,
      "align_items": null,
      "align_self": null,
      "border": null,
      "bottom": null,
      "display": null,
      "flex": null,
      "flex_flow": null,
      "grid_area": null,
      "grid_auto_columns": null,
      "grid_auto_flow": null,
      "grid_auto_rows": null,
      "grid_column": null,
      "grid_gap": null,
      "grid_row": null,
      "grid_template_areas": null,
      "grid_template_columns": null,
      "grid_template_rows": null,
      "height": null,
      "justify_content": null,
      "justify_items": null,
      "left": null,
      "margin": null,
      "max_height": null,
      "max_width": null,
      "min_height": null,
      "min_width": null,
      "object_fit": null,
      "object_position": null,
      "order": null,
      "overflow": null,
      "overflow_x": null,
      "overflow_y": null,
      "padding": null,
      "right": null,
      "top": null,
      "visibility": null,
      "width": null
     }
    },
    "b8e5d47f00074be6bc5f89af838da05c": {
     "model_module": "@jupyter-widgets/controls",
     "model_module_version": "1.5.0",
     "model_name": "FloatProgressModel",
     "state": {
      "_dom_classes": [],
      "_model_module": "@jupyter-widgets/controls",
      "_model_module_version": "1.5.0",
      "_model_name": "FloatProgressModel",
      "_view_count": null,
      "_view_module": "@jupyter-widgets/controls",
      "_view_module_version": "1.5.0",
      "_view_name": "ProgressView",
      "bar_style": "success",
      "description": "",
      "description_tooltip": null,
      "layout": "IPY_MODEL_11d628f4083148e1bfb563abf2f0ebe7",
      "max": 297,
      "min": 0,
      "orientation": "horizontal",
      "style": "IPY_MODEL_34d9666b7eee47b5888e97073f926cbb",
      "value": 297
     }
    },
    "b91aacd07e16499aa7c8b03c639ef7c7": {
     "model_module": "@jupyter-widgets/base",
     "model_module_version": "1.2.0",
     "model_name": "LayoutModel",
     "state": {
      "_model_module": "@jupyter-widgets/base",
      "_model_module_version": "1.2.0",
      "_model_name": "LayoutModel",
      "_view_count": null,
      "_view_module": "@jupyter-widgets/base",
      "_view_module_version": "1.2.0",
      "_view_name": "LayoutView",
      "align_content": null,
      "align_items": null,
      "align_self": null,
      "border": null,
      "bottom": null,
      "display": null,
      "flex": null,
      "flex_flow": null,
      "grid_area": null,
      "grid_auto_columns": null,
      "grid_auto_flow": null,
      "grid_auto_rows": null,
      "grid_column": null,
      "grid_gap": null,
      "grid_row": null,
      "grid_template_areas": null,
      "grid_template_columns": null,
      "grid_template_rows": null,
      "height": null,
      "justify_content": null,
      "justify_items": null,
      "left": null,
      "margin": null,
      "max_height": null,
      "max_width": null,
      "min_height": null,
      "min_width": null,
      "object_fit": null,
      "object_position": null,
      "order": null,
      "overflow": null,
      "overflow_x": null,
      "overflow_y": null,
      "padding": null,
      "right": null,
      "top": null,
      "visibility": null,
      "width": null
     }
    },
    "ba3bfe7423414820b1ad6c79feb437fa": {
     "model_module": "@jupyter-widgets/controls",
     "model_module_version": "1.5.0",
     "model_name": "DescriptionStyleModel",
     "state": {
      "_model_module": "@jupyter-widgets/controls",
      "_model_module_version": "1.5.0",
      "_model_name": "DescriptionStyleModel",
      "_view_count": null,
      "_view_module": "@jupyter-widgets/base",
      "_view_module_version": "1.2.0",
      "_view_name": "StyleView",
      "description_width": ""
     }
    },
    "bb8ca3374f0a43ea8a202bcf72c473f1": {
     "model_module": "@jupyter-widgets/base",
     "model_module_version": "1.2.0",
     "model_name": "LayoutModel",
     "state": {
      "_model_module": "@jupyter-widgets/base",
      "_model_module_version": "1.2.0",
      "_model_name": "LayoutModel",
      "_view_count": null,
      "_view_module": "@jupyter-widgets/base",
      "_view_module_version": "1.2.0",
      "_view_name": "LayoutView",
      "align_content": null,
      "align_items": null,
      "align_self": null,
      "border": null,
      "bottom": null,
      "display": null,
      "flex": null,
      "flex_flow": null,
      "grid_area": null,
      "grid_auto_columns": null,
      "grid_auto_flow": null,
      "grid_auto_rows": null,
      "grid_column": null,
      "grid_gap": null,
      "grid_row": null,
      "grid_template_areas": null,
      "grid_template_columns": null,
      "grid_template_rows": null,
      "height": null,
      "justify_content": null,
      "justify_items": null,
      "left": null,
      "margin": null,
      "max_height": null,
      "max_width": null,
      "min_height": null,
      "min_width": null,
      "object_fit": null,
      "object_position": null,
      "order": null,
      "overflow": null,
      "overflow_x": null,
      "overflow_y": null,
      "padding": null,
      "right": null,
      "top": null,
      "visibility": null,
      "width": null
     }
    },
    "bc2133e4df074f4290be59f628d60b21": {
     "model_module": "@jupyter-widgets/base",
     "model_module_version": "1.2.0",
     "model_name": "LayoutModel",
     "state": {
      "_model_module": "@jupyter-widgets/base",
      "_model_module_version": "1.2.0",
      "_model_name": "LayoutModel",
      "_view_count": null,
      "_view_module": "@jupyter-widgets/base",
      "_view_module_version": "1.2.0",
      "_view_name": "LayoutView",
      "align_content": null,
      "align_items": null,
      "align_self": null,
      "border": null,
      "bottom": null,
      "display": null,
      "flex": null,
      "flex_flow": null,
      "grid_area": null,
      "grid_auto_columns": null,
      "grid_auto_flow": null,
      "grid_auto_rows": null,
      "grid_column": null,
      "grid_gap": null,
      "grid_row": null,
      "grid_template_areas": null,
      "grid_template_columns": null,
      "grid_template_rows": null,
      "height": null,
      "justify_content": null,
      "justify_items": null,
      "left": null,
      "margin": null,
      "max_height": null,
      "max_width": null,
      "min_height": null,
      "min_width": null,
      "object_fit": null,
      "object_position": null,
      "order": null,
      "overflow": null,
      "overflow_x": null,
      "overflow_y": null,
      "padding": null,
      "right": null,
      "top": null,
      "visibility": null,
      "width": null
     }
    },
    "bcce290f39b94eaaa795a29b845ff68a": {
     "model_module": "@jupyter-widgets/controls",
     "model_module_version": "1.5.0",
     "model_name": "DescriptionStyleModel",
     "state": {
      "_model_module": "@jupyter-widgets/controls",
      "_model_module_version": "1.5.0",
      "_model_name": "DescriptionStyleModel",
      "_view_count": null,
      "_view_module": "@jupyter-widgets/base",
      "_view_module_version": "1.2.0",
      "_view_name": "StyleView",
      "description_width": ""
     }
    },
    "bf38b0f5db41471a971d993b83be182b": {
     "model_module": "@jupyter-widgets/controls",
     "model_module_version": "1.5.0",
     "model_name": "DescriptionStyleModel",
     "state": {
      "_model_module": "@jupyter-widgets/controls",
      "_model_module_version": "1.5.0",
      "_model_name": "DescriptionStyleModel",
      "_view_count": null,
      "_view_module": "@jupyter-widgets/base",
      "_view_module_version": "1.2.0",
      "_view_name": "StyleView",
      "description_width": ""
     }
    },
    "c0cfdbae9fc74bf2a3b017d54a85f48f": {
     "model_module": "@jupyter-widgets/controls",
     "model_module_version": "1.5.0",
     "model_name": "ProgressStyleModel",
     "state": {
      "_model_module": "@jupyter-widgets/controls",
      "_model_module_version": "1.5.0",
      "_model_name": "ProgressStyleModel",
      "_view_count": null,
      "_view_module": "@jupyter-widgets/base",
      "_view_module_version": "1.2.0",
      "_view_name": "StyleView",
      "bar_color": null,
      "description_width": ""
     }
    },
    "c245fa11a9e647a89ef64aaa203d06d6": {
     "model_module": "@jupyter-widgets/controls",
     "model_module_version": "1.5.0",
     "model_name": "HBoxModel",
     "state": {
      "_dom_classes": [],
      "_model_module": "@jupyter-widgets/controls",
      "_model_module_version": "1.5.0",
      "_model_name": "HBoxModel",
      "_view_count": null,
      "_view_module": "@jupyter-widgets/controls",
      "_view_module_version": "1.5.0",
      "_view_name": "HBoxView",
      "box_style": "",
      "children": [
       "IPY_MODEL_f1f8d335417c48cda06b824566fb9e6b",
       "IPY_MODEL_fcc325b56ad947aa8ec39ef771ec5593",
       "IPY_MODEL_fc167b067ef247ab8cf66a09ecc8a6ee"
      ],
      "layout": "IPY_MODEL_0288d9ef38dd4d598aaa4ce9d572e9b2"
     }
    },
    "c27a377f33c14d498fe0cc40a2e3a80f": {
     "model_module": "@jupyter-widgets/base",
     "model_module_version": "1.2.0",
     "model_name": "LayoutModel",
     "state": {
      "_model_module": "@jupyter-widgets/base",
      "_model_module_version": "1.2.0",
      "_model_name": "LayoutModel",
      "_view_count": null,
      "_view_module": "@jupyter-widgets/base",
      "_view_module_version": "1.2.0",
      "_view_name": "LayoutView",
      "align_content": null,
      "align_items": null,
      "align_self": null,
      "border": null,
      "bottom": null,
      "display": null,
      "flex": null,
      "flex_flow": null,
      "grid_area": null,
      "grid_auto_columns": null,
      "grid_auto_flow": null,
      "grid_auto_rows": null,
      "grid_column": null,
      "grid_gap": null,
      "grid_row": null,
      "grid_template_areas": null,
      "grid_template_columns": null,
      "grid_template_rows": null,
      "height": null,
      "justify_content": null,
      "justify_items": null,
      "left": null,
      "margin": null,
      "max_height": null,
      "max_width": null,
      "min_height": null,
      "min_width": null,
      "object_fit": null,
      "object_position": null,
      "order": null,
      "overflow": null,
      "overflow_x": null,
      "overflow_y": null,
      "padding": null,
      "right": null,
      "top": null,
      "visibility": null,
      "width": null
     }
    },
    "c4937334115b4d02892eec29cac80b8e": {
     "model_module": "@jupyter-widgets/controls",
     "model_module_version": "1.5.0",
     "model_name": "DescriptionStyleModel",
     "state": {
      "_model_module": "@jupyter-widgets/controls",
      "_model_module_version": "1.5.0",
      "_model_name": "DescriptionStyleModel",
      "_view_count": null,
      "_view_module": "@jupyter-widgets/base",
      "_view_module_version": "1.2.0",
      "_view_name": "StyleView",
      "description_width": ""
     }
    },
    "c7b4cc234b08450db13dac08984a43c6": {
     "model_module": "@jupyter-widgets/controls",
     "model_module_version": "1.5.0",
     "model_name": "HTMLModel",
     "state": {
      "_dom_classes": [],
      "_model_module": "@jupyter-widgets/controls",
      "_model_module_version": "1.5.0",
      "_model_name": "HTMLModel",
      "_view_count": null,
      "_view_module": "@jupyter-widgets/controls",
      "_view_module_version": "1.5.0",
      "_view_name": "HTMLView",
      "description": "",
      "description_tooltip": null,
      "layout": "IPY_MODEL_b3ed484bf6964a08887d11e3cd9774d0",
      "placeholder": "​",
      "style": "IPY_MODEL_a566a8fdb847417185ce2c8e102d71bf",
      "value": "Map: 100%"
     }
    },
    "c7ca0af92db8426aa54d4b4d7de8b587": {
     "model_module": "@jupyter-widgets/controls",
     "model_module_version": "1.5.0",
     "model_name": "HTMLModel",
     "state": {
      "_dom_classes": [],
      "_model_module": "@jupyter-widgets/controls",
      "_model_module_version": "1.5.0",
      "_model_name": "HTMLModel",
      "_view_count": null,
      "_view_module": "@jupyter-widgets/controls",
      "_view_module_version": "1.5.0",
      "_view_name": "HTMLView",
      "description": "",
      "description_tooltip": null,
      "layout": "IPY_MODEL_37620d1fb2c34449b2088a01e36b9f28",
      "placeholder": "​",
      "style": "IPY_MODEL_c81713915b824329ac1423db7ce8b166",
      "value": " 1982/1982 [00:01&lt;00:00, 1076.41 examples/s]"
     }
    },
    "c81713915b824329ac1423db7ce8b166": {
     "model_module": "@jupyter-widgets/controls",
     "model_module_version": "1.5.0",
     "model_name": "DescriptionStyleModel",
     "state": {
      "_model_module": "@jupyter-widgets/controls",
      "_model_module_version": "1.5.0",
      "_model_name": "DescriptionStyleModel",
      "_view_count": null,
      "_view_module": "@jupyter-widgets/base",
      "_view_module_version": "1.2.0",
      "_view_name": "StyleView",
      "description_width": ""
     }
    },
    "c946d5ac6caa414e95ec44199c5b5114": {
     "model_module": "@jupyter-widgets/base",
     "model_module_version": "1.2.0",
     "model_name": "LayoutModel",
     "state": {
      "_model_module": "@jupyter-widgets/base",
      "_model_module_version": "1.2.0",
      "_model_name": "LayoutModel",
      "_view_count": null,
      "_view_module": "@jupyter-widgets/base",
      "_view_module_version": "1.2.0",
      "_view_name": "LayoutView",
      "align_content": null,
      "align_items": null,
      "align_self": null,
      "border": null,
      "bottom": null,
      "display": null,
      "flex": null,
      "flex_flow": null,
      "grid_area": null,
      "grid_auto_columns": null,
      "grid_auto_flow": null,
      "grid_auto_rows": null,
      "grid_column": null,
      "grid_gap": null,
      "grid_row": null,
      "grid_template_areas": null,
      "grid_template_columns": null,
      "grid_template_rows": null,
      "height": null,
      "justify_content": null,
      "justify_items": null,
      "left": null,
      "margin": null,
      "max_height": null,
      "max_width": null,
      "min_height": null,
      "min_width": null,
      "object_fit": null,
      "object_position": null,
      "order": null,
      "overflow": null,
      "overflow_x": null,
      "overflow_y": null,
      "padding": null,
      "right": null,
      "top": null,
      "visibility": null,
      "width": null
     }
    },
    "ca8a8333042048a19f3a35dfd9417c8d": {
     "model_module": "@jupyter-widgets/controls",
     "model_module_version": "1.5.0",
     "model_name": "FloatProgressModel",
     "state": {
      "_dom_classes": [],
      "_model_module": "@jupyter-widgets/controls",
      "_model_module_version": "1.5.0",
      "_model_name": "FloatProgressModel",
      "_view_count": null,
      "_view_module": "@jupyter-widgets/controls",
      "_view_module_version": "1.5.0",
      "_view_name": "ProgressView",
      "bar_style": "success",
      "description": "",
      "description_tooltip": null,
      "layout": "IPY_MODEL_d4674e9615b74615a55130d014baa89d",
      "max": 206,
      "min": 0,
      "orientation": "horizontal",
      "style": "IPY_MODEL_1e71836ba78b47408cefeb022014de53",
      "value": 206
     }
    },
    "cb30fbd0722848c5bfb398fbe51db32b": {
     "model_module": "@jupyter-widgets/base",
     "model_module_version": "1.2.0",
     "model_name": "LayoutModel",
     "state": {
      "_model_module": "@jupyter-widgets/base",
      "_model_module_version": "1.2.0",
      "_model_name": "LayoutModel",
      "_view_count": null,
      "_view_module": "@jupyter-widgets/base",
      "_view_module_version": "1.2.0",
      "_view_name": "LayoutView",
      "align_content": null,
      "align_items": null,
      "align_self": null,
      "border": null,
      "bottom": null,
      "display": null,
      "flex": null,
      "flex_flow": null,
      "grid_area": null,
      "grid_auto_columns": null,
      "grid_auto_flow": null,
      "grid_auto_rows": null,
      "grid_column": null,
      "grid_gap": null,
      "grid_row": null,
      "grid_template_areas": null,
      "grid_template_columns": null,
      "grid_template_rows": null,
      "height": null,
      "justify_content": null,
      "justify_items": null,
      "left": null,
      "margin": null,
      "max_height": null,
      "max_width": null,
      "min_height": null,
      "min_width": null,
      "object_fit": null,
      "object_position": null,
      "order": null,
      "overflow": null,
      "overflow_x": null,
      "overflow_y": null,
      "padding": null,
      "right": null,
      "top": null,
      "visibility": null,
      "width": null
     }
    },
    "cc4eea19dd054d42aec56cf0112b2c6e": {
     "model_module": "@jupyter-widgets/controls",
     "model_module_version": "1.5.0",
     "model_name": "FloatProgressModel",
     "state": {
      "_dom_classes": [],
      "_model_module": "@jupyter-widgets/controls",
      "_model_module_version": "1.5.0",
      "_model_name": "FloatProgressModel",
      "_view_count": null,
      "_view_module": "@jupyter-widgets/controls",
      "_view_module_version": "1.5.0",
      "_view_name": "ProgressView",
      "bar_style": "success",
      "description": "",
      "description_tooltip": null,
      "layout": "IPY_MODEL_52de9186921f495ebf2af42d073a2b50",
      "max": 667,
      "min": 0,
      "orientation": "horizontal",
      "style": "IPY_MODEL_ac25db6c023b474aa40ab6b4a9ab194a",
      "value": 667
     }
    },
    "cc95a555611e408ebe76342609a44fe4": {
     "model_module": "@jupyter-widgets/base",
     "model_module_version": "1.2.0",
     "model_name": "LayoutModel",
     "state": {
      "_model_module": "@jupyter-widgets/base",
      "_model_module_version": "1.2.0",
      "_model_name": "LayoutModel",
      "_view_count": null,
      "_view_module": "@jupyter-widgets/base",
      "_view_module_version": "1.2.0",
      "_view_name": "LayoutView",
      "align_content": null,
      "align_items": null,
      "align_self": null,
      "border": null,
      "bottom": null,
      "display": null,
      "flex": null,
      "flex_flow": null,
      "grid_area": null,
      "grid_auto_columns": null,
      "grid_auto_flow": null,
      "grid_auto_rows": null,
      "grid_column": null,
      "grid_gap": null,
      "grid_row": null,
      "grid_template_areas": null,
      "grid_template_columns": null,
      "grid_template_rows": null,
      "height": null,
      "justify_content": null,
      "justify_items": null,
      "left": null,
      "margin": null,
      "max_height": null,
      "max_width": null,
      "min_height": null,
      "min_width": null,
      "object_fit": null,
      "object_position": null,
      "order": null,
      "overflow": null,
      "overflow_x": null,
      "overflow_y": null,
      "padding": null,
      "right": null,
      "top": null,
      "visibility": null,
      "width": null
     }
    },
    "cd01e307d1cc44a3a562c567a6448564": {
     "model_module": "@jupyter-widgets/controls",
     "model_module_version": "1.5.0",
     "model_name": "FloatProgressModel",
     "state": {
      "_dom_classes": [],
      "_model_module": "@jupyter-widgets/controls",
      "_model_module_version": "1.5.0",
      "_model_name": "FloatProgressModel",
      "_view_count": null,
      "_view_module": "@jupyter-widgets/controls",
      "_view_module_version": "1.5.0",
      "_view_name": "ProgressView",
      "bar_style": "success",
      "description": "",
      "description_tooltip": null,
      "layout": "IPY_MODEL_3bab9a09763c4293b4718a24e5f9ebdf",
      "max": 830,
      "min": 0,
      "orientation": "horizontal",
      "style": "IPY_MODEL_337990a984d04047ab1019f359785601",
      "value": 830
     }
    },
    "cd3afefc92db49b39f6d3c7aa6f6a5d0": {
     "model_module": "@jupyter-widgets/controls",
     "model_module_version": "1.5.0",
     "model_name": "HBoxModel",
     "state": {
      "_dom_classes": [],
      "_model_module": "@jupyter-widgets/controls",
      "_model_module_version": "1.5.0",
      "_model_name": "HBoxModel",
      "_view_count": null,
      "_view_module": "@jupyter-widgets/controls",
      "_view_module_version": "1.5.0",
      "_view_name": "HBoxView",
      "box_style": "",
      "children": [
       "IPY_MODEL_b410578c22914de1884e75b83e11d662",
       "IPY_MODEL_5520d1d5b8d645d7905002abe4e8843d",
       "IPY_MODEL_f4c627b240cd44c9ac763773ab22db5c"
      ],
      "layout": "IPY_MODEL_f85c5a29aa864e89ab0ceaf0f13804c2"
     }
    },
    "cf8bab278b5747bd96f680c756fa50b9": {
     "model_module": "@jupyter-widgets/base",
     "model_module_version": "1.2.0",
     "model_name": "LayoutModel",
     "state": {
      "_model_module": "@jupyter-widgets/base",
      "_model_module_version": "1.2.0",
      "_model_name": "LayoutModel",
      "_view_count": null,
      "_view_module": "@jupyter-widgets/base",
      "_view_module_version": "1.2.0",
      "_view_name": "LayoutView",
      "align_content": null,
      "align_items": null,
      "align_self": null,
      "border": null,
      "bottom": null,
      "display": null,
      "flex": null,
      "flex_flow": null,
      "grid_area": null,
      "grid_auto_columns": null,
      "grid_auto_flow": null,
      "grid_auto_rows": null,
      "grid_column": null,
      "grid_gap": null,
      "grid_row": null,
      "grid_template_areas": null,
      "grid_template_columns": null,
      "grid_template_rows": null,
      "height": null,
      "justify_content": null,
      "justify_items": null,
      "left": null,
      "margin": null,
      "max_height": null,
      "max_width": null,
      "min_height": null,
      "min_width": null,
      "object_fit": null,
      "object_position": null,
      "order": null,
      "overflow": null,
      "overflow_x": null,
      "overflow_y": null,
      "padding": null,
      "right": null,
      "top": null,
      "visibility": null,
      "width": null
     }
    },
    "d012a2875e6a4815a02ea110858b7b09": {
     "model_module": "@jupyter-widgets/controls",
     "model_module_version": "1.5.0",
     "model_name": "HTMLModel",
     "state": {
      "_dom_classes": [],
      "_model_module": "@jupyter-widgets/controls",
      "_model_module_version": "1.5.0",
      "_model_name": "HTMLModel",
      "_view_count": null,
      "_view_module": "@jupyter-widgets/controls",
      "_view_module_version": "1.5.0",
      "_view_name": "HTMLView",
      "description": "",
      "description_tooltip": null,
      "layout": "IPY_MODEL_f7318637c92545b5a5720c144bbb808f",
      "placeholder": "​",
      "style": "IPY_MODEL_9194856c0859425c882e5ceeb66b5f75",
      "value": " 1.96M/1.96M [00:00&lt;00:00, 22.2MB/s]"
     }
    },
    "d0317bce53284066a0d7f0f4fe4ef575": {
     "model_module": "@jupyter-widgets/controls",
     "model_module_version": "1.5.0",
     "model_name": "DescriptionStyleModel",
     "state": {
      "_model_module": "@jupyter-widgets/controls",
      "_model_module_version": "1.5.0",
      "_model_name": "DescriptionStyleModel",
      "_view_count": null,
      "_view_module": "@jupyter-widgets/base",
      "_view_module_version": "1.2.0",
      "_view_name": "StyleView",
      "description_width": ""
     }
    },
    "d103f8d490c74d309c235536efaec7a2": {
     "model_module": "@jupyter-widgets/controls",
     "model_module_version": "1.5.0",
     "model_name": "DescriptionStyleModel",
     "state": {
      "_model_module": "@jupyter-widgets/controls",
      "_model_module_version": "1.5.0",
      "_model_name": "DescriptionStyleModel",
      "_view_count": null,
      "_view_module": "@jupyter-widgets/base",
      "_view_module_version": "1.2.0",
      "_view_name": "StyleView",
      "description_width": ""
     }
    },
    "d2d972404d394d9c84de1cb194c92429": {
     "model_module": "@jupyter-widgets/controls",
     "model_module_version": "1.5.0",
     "model_name": "DescriptionStyleModel",
     "state": {
      "_model_module": "@jupyter-widgets/controls",
      "_model_module_version": "1.5.0",
      "_model_name": "DescriptionStyleModel",
      "_view_count": null,
      "_view_module": "@jupyter-widgets/base",
      "_view_module_version": "1.2.0",
      "_view_name": "StyleView",
      "description_width": ""
     }
    },
    "d4674e9615b74615a55130d014baa89d": {
     "model_module": "@jupyter-widgets/base",
     "model_module_version": "1.2.0",
     "model_name": "LayoutModel",
     "state": {
      "_model_module": "@jupyter-widgets/base",
      "_model_module_version": "1.2.0",
      "_model_name": "LayoutModel",
      "_view_count": null,
      "_view_module": "@jupyter-widgets/base",
      "_view_module_version": "1.2.0",
      "_view_name": "LayoutView",
      "align_content": null,
      "align_items": null,
      "align_self": null,
      "border": null,
      "bottom": null,
      "display": null,
      "flex": null,
      "flex_flow": null,
      "grid_area": null,
      "grid_auto_columns": null,
      "grid_auto_flow": null,
      "grid_auto_rows": null,
      "grid_column": null,
      "grid_gap": null,
      "grid_row": null,
      "grid_template_areas": null,
      "grid_template_columns": null,
      "grid_template_rows": null,
      "height": null,
      "justify_content": null,
      "justify_items": null,
      "left": null,
      "margin": null,
      "max_height": null,
      "max_width": null,
      "min_height": null,
      "min_width": null,
      "object_fit": null,
      "object_position": null,
      "order": null,
      "overflow": null,
      "overflow_x": null,
      "overflow_y": null,
      "padding": null,
      "right": null,
      "top": null,
      "visibility": null,
      "width": null
     }
    },
    "d4ad774b9ecc40dbb03e1b17936f680f": {
     "model_module": "@jupyter-widgets/controls",
     "model_module_version": "1.5.0",
     "model_name": "HTMLModel",
     "state": {
      "_dom_classes": [],
      "_model_module": "@jupyter-widgets/controls",
      "_model_module_version": "1.5.0",
      "_model_name": "HTMLModel",
      "_view_count": null,
      "_view_module": "@jupyter-widgets/controls",
      "_view_module_version": "1.5.0",
      "_view_name": "HTMLView",
      "description": "",
      "description_tooltip": null,
      "layout": "IPY_MODEL_dfa4860e94be42409936c04585fe4b9d",
      "placeholder": "​",
      "style": "IPY_MODEL_31b3e7636f8245c293210b4ee6e0bee9",
      "value": "Map: 100%"
     }
    },
    "d4d06a3a104b444ebca2734c60fa7705": {
     "model_module": "@jupyter-widgets/base",
     "model_module_version": "1.2.0",
     "model_name": "LayoutModel",
     "state": {
      "_model_module": "@jupyter-widgets/base",
      "_model_module_version": "1.2.0",
      "_model_name": "LayoutModel",
      "_view_count": null,
      "_view_module": "@jupyter-widgets/base",
      "_view_module_version": "1.2.0",
      "_view_name": "LayoutView",
      "align_content": null,
      "align_items": null,
      "align_self": null,
      "border": null,
      "bottom": null,
      "display": null,
      "flex": null,
      "flex_flow": null,
      "grid_area": null,
      "grid_auto_columns": null,
      "grid_auto_flow": null,
      "grid_auto_rows": null,
      "grid_column": null,
      "grid_gap": null,
      "grid_row": null,
      "grid_template_areas": null,
      "grid_template_columns": null,
      "grid_template_rows": null,
      "height": null,
      "justify_content": null,
      "justify_items": null,
      "left": null,
      "margin": null,
      "max_height": null,
      "max_width": null,
      "min_height": null,
      "min_width": null,
      "object_fit": null,
      "object_position": null,
      "order": null,
      "overflow": null,
      "overflow_x": null,
      "overflow_y": null,
      "padding": null,
      "right": null,
      "top": null,
      "visibility": null,
      "width": null
     }
    },
    "d52e491a0b1048878cc7101cb3848d77": {
     "model_module": "@jupyter-widgets/controls",
     "model_module_version": "1.5.0",
     "model_name": "ProgressStyleModel",
     "state": {
      "_model_module": "@jupyter-widgets/controls",
      "_model_module_version": "1.5.0",
      "_model_name": "ProgressStyleModel",
      "_view_count": null,
      "_view_module": "@jupyter-widgets/base",
      "_view_module_version": "1.2.0",
      "_view_name": "StyleView",
      "bar_color": null,
      "description_width": ""
     }
    },
    "d53f498aa02c40b8a82e8be842d5494d": {
     "model_module": "@jupyter-widgets/base",
     "model_module_version": "1.2.0",
     "model_name": "LayoutModel",
     "state": {
      "_model_module": "@jupyter-widgets/base",
      "_model_module_version": "1.2.0",
      "_model_name": "LayoutModel",
      "_view_count": null,
      "_view_module": "@jupyter-widgets/base",
      "_view_module_version": "1.2.0",
      "_view_name": "LayoutView",
      "align_content": null,
      "align_items": null,
      "align_self": null,
      "border": null,
      "bottom": null,
      "display": null,
      "flex": null,
      "flex_flow": null,
      "grid_area": null,
      "grid_auto_columns": null,
      "grid_auto_flow": null,
      "grid_auto_rows": null,
      "grid_column": null,
      "grid_gap": null,
      "grid_row": null,
      "grid_template_areas": null,
      "grid_template_columns": null,
      "grid_template_rows": null,
      "height": null,
      "justify_content": null,
      "justify_items": null,
      "left": null,
      "margin": null,
      "max_height": null,
      "max_width": null,
      "min_height": null,
      "min_width": null,
      "object_fit": null,
      "object_position": null,
      "order": null,
      "overflow": null,
      "overflow_x": null,
      "overflow_y": null,
      "padding": null,
      "right": null,
      "top": null,
      "visibility": null,
      "width": null
     }
    },
    "d553374ce0074d7990a40d7e8bb300be": {
     "model_module": "@jupyter-widgets/base",
     "model_module_version": "1.2.0",
     "model_name": "LayoutModel",
     "state": {
      "_model_module": "@jupyter-widgets/base",
      "_model_module_version": "1.2.0",
      "_model_name": "LayoutModel",
      "_view_count": null,
      "_view_module": "@jupyter-widgets/base",
      "_view_module_version": "1.2.0",
      "_view_name": "LayoutView",
      "align_content": null,
      "align_items": null,
      "align_self": null,
      "border": null,
      "bottom": null,
      "display": null,
      "flex": null,
      "flex_flow": null,
      "grid_area": null,
      "grid_auto_columns": null,
      "grid_auto_flow": null,
      "grid_auto_rows": null,
      "grid_column": null,
      "grid_gap": null,
      "grid_row": null,
      "grid_template_areas": null,
      "grid_template_columns": null,
      "grid_template_rows": null,
      "height": null,
      "justify_content": null,
      "justify_items": null,
      "left": null,
      "margin": null,
      "max_height": null,
      "max_width": null,
      "min_height": null,
      "min_width": null,
      "object_fit": null,
      "object_position": null,
      "order": null,
      "overflow": null,
      "overflow_x": null,
      "overflow_y": null,
      "padding": null,
      "right": null,
      "top": null,
      "visibility": null,
      "width": null
     }
    },
    "d765642caeb74588a954a3fe24491bea": {
     "model_module": "@jupyter-widgets/controls",
     "model_module_version": "1.5.0",
     "model_name": "ProgressStyleModel",
     "state": {
      "_model_module": "@jupyter-widgets/controls",
      "_model_module_version": "1.5.0",
      "_model_name": "ProgressStyleModel",
      "_view_count": null,
      "_view_module": "@jupyter-widgets/base",
      "_view_module_version": "1.2.0",
      "_view_name": "StyleView",
      "bar_color": null,
      "description_width": ""
     }
    },
    "d8e564f3fa394c348e3d8f1dabc8279f": {
     "model_module": "@jupyter-widgets/controls",
     "model_module_version": "1.5.0",
     "model_name": "FloatProgressModel",
     "state": {
      "_dom_classes": [],
      "_model_module": "@jupyter-widgets/controls",
      "_model_module_version": "1.5.0",
      "_model_name": "FloatProgressModel",
      "_view_count": null,
      "_view_module": "@jupyter-widgets/controls",
      "_view_module_version": "1.5.0",
      "_view_name": "ProgressView",
      "bar_style": "success",
      "description": "",
      "description_tooltip": null,
      "layout": "IPY_MODEL_3b3985c11e0745b3af09451668671ecb",
      "max": 2393,
      "min": 0,
      "orientation": "horizontal",
      "style": "IPY_MODEL_6565dd484c4849c8a870d01bfa3b17e5",
      "value": 2393
     }
    },
    "dc3c1bc01de64e2da0a45fb286b0cac6": {
     "model_module": "@jupyter-widgets/controls",
     "model_module_version": "1.5.0",
     "model_name": "FloatProgressModel",
     "state": {
      "_dom_classes": [],
      "_model_module": "@jupyter-widgets/controls",
      "_model_module_version": "1.5.0",
      "_model_name": "FloatProgressModel",
      "_view_count": null,
      "_view_module": "@jupyter-widgets/controls",
      "_view_module_version": "1.5.0",
      "_view_name": "ProgressView",
      "bar_style": "success",
      "description": "",
      "description_tooltip": null,
      "layout": "IPY_MODEL_a549414727014797831716c76e29f4a9",
      "max": 351,
      "min": 0,
      "orientation": "horizontal",
      "style": "IPY_MODEL_1f362b84317d4fcaa9bc3ee4d292e305",
      "value": 351
     }
    },
    "dcb0a5d2af4644cabb187a8734f5d976": {
     "model_module": "@jupyter-widgets/controls",
     "model_module_version": "1.5.0",
     "model_name": "DescriptionStyleModel",
     "state": {
      "_model_module": "@jupyter-widgets/controls",
      "_model_module_version": "1.5.0",
      "_model_name": "DescriptionStyleModel",
      "_view_count": null,
      "_view_module": "@jupyter-widgets/base",
      "_view_module_version": "1.2.0",
      "_view_name": "StyleView",
      "description_width": ""
     }
    },
    "dd241b749e6947459e309756532a1d0d": {
     "model_module": "@jupyter-widgets/base",
     "model_module_version": "1.2.0",
     "model_name": "LayoutModel",
     "state": {
      "_model_module": "@jupyter-widgets/base",
      "_model_module_version": "1.2.0",
      "_model_name": "LayoutModel",
      "_view_count": null,
      "_view_module": "@jupyter-widgets/base",
      "_view_module_version": "1.2.0",
      "_view_name": "LayoutView",
      "align_content": null,
      "align_items": null,
      "align_self": null,
      "border": null,
      "bottom": null,
      "display": null,
      "flex": null,
      "flex_flow": null,
      "grid_area": null,
      "grid_auto_columns": null,
      "grid_auto_flow": null,
      "grid_auto_rows": null,
      "grid_column": null,
      "grid_gap": null,
      "grid_row": null,
      "grid_template_areas": null,
      "grid_template_columns": null,
      "grid_template_rows": null,
      "height": null,
      "justify_content": null,
      "justify_items": null,
      "left": null,
      "margin": null,
      "max_height": null,
      "max_width": null,
      "min_height": null,
      "min_width": null,
      "object_fit": null,
      "object_position": null,
      "order": null,
      "overflow": null,
      "overflow_x": null,
      "overflow_y": null,
      "padding": null,
      "right": null,
      "top": null,
      "visibility": null,
      "width": null
     }
    },
    "dd6d4ac82b61430f80ff47461035db49": {
     "model_module": "@jupyter-widgets/base",
     "model_module_version": "1.2.0",
     "model_name": "LayoutModel",
     "state": {
      "_model_module": "@jupyter-widgets/base",
      "_model_module_version": "1.2.0",
      "_model_name": "LayoutModel",
      "_view_count": null,
      "_view_module": "@jupyter-widgets/base",
      "_view_module_version": "1.2.0",
      "_view_name": "LayoutView",
      "align_content": null,
      "align_items": null,
      "align_self": null,
      "border": null,
      "bottom": null,
      "display": null,
      "flex": null,
      "flex_flow": null,
      "grid_area": null,
      "grid_auto_columns": null,
      "grid_auto_flow": null,
      "grid_auto_rows": null,
      "grid_column": null,
      "grid_gap": null,
      "grid_row": null,
      "grid_template_areas": null,
      "grid_template_columns": null,
      "grid_template_rows": null,
      "height": null,
      "justify_content": null,
      "justify_items": null,
      "left": null,
      "margin": null,
      "max_height": null,
      "max_width": null,
      "min_height": null,
      "min_width": null,
      "object_fit": null,
      "object_position": null,
      "order": null,
      "overflow": null,
      "overflow_x": null,
      "overflow_y": null,
      "padding": null,
      "right": null,
      "top": null,
      "visibility": null,
      "width": null
     }
    },
    "ddaefb468a24458888c43f688991bcee": {
     "model_module": "@jupyter-widgets/base",
     "model_module_version": "1.2.0",
     "model_name": "LayoutModel",
     "state": {
      "_model_module": "@jupyter-widgets/base",
      "_model_module_version": "1.2.0",
      "_model_name": "LayoutModel",
      "_view_count": null,
      "_view_module": "@jupyter-widgets/base",
      "_view_module_version": "1.2.0",
      "_view_name": "LayoutView",
      "align_content": null,
      "align_items": null,
      "align_self": null,
      "border": null,
      "bottom": null,
      "display": null,
      "flex": null,
      "flex_flow": null,
      "grid_area": null,
      "grid_auto_columns": null,
      "grid_auto_flow": null,
      "grid_auto_rows": null,
      "grid_column": null,
      "grid_gap": null,
      "grid_row": null,
      "grid_template_areas": null,
      "grid_template_columns": null,
      "grid_template_rows": null,
      "height": null,
      "justify_content": null,
      "justify_items": null,
      "left": null,
      "margin": null,
      "max_height": null,
      "max_width": null,
      "min_height": null,
      "min_width": null,
      "object_fit": null,
      "object_position": null,
      "order": null,
      "overflow": null,
      "overflow_x": null,
      "overflow_y": null,
      "padding": null,
      "right": null,
      "top": null,
      "visibility": null,
      "width": null
     }
    },
    "de59cfc3b2f640f6942d1776e3cdc811": {
     "model_module": "@jupyter-widgets/base",
     "model_module_version": "1.2.0",
     "model_name": "LayoutModel",
     "state": {
      "_model_module": "@jupyter-widgets/base",
      "_model_module_version": "1.2.0",
      "_model_name": "LayoutModel",
      "_view_count": null,
      "_view_module": "@jupyter-widgets/base",
      "_view_module_version": "1.2.0",
      "_view_name": "LayoutView",
      "align_content": null,
      "align_items": null,
      "align_self": null,
      "border": null,
      "bottom": null,
      "display": null,
      "flex": null,
      "flex_flow": null,
      "grid_area": null,
      "grid_auto_columns": null,
      "grid_auto_flow": null,
      "grid_auto_rows": null,
      "grid_column": null,
      "grid_gap": null,
      "grid_row": null,
      "grid_template_areas": null,
      "grid_template_columns": null,
      "grid_template_rows": null,
      "height": null,
      "justify_content": null,
      "justify_items": null,
      "left": null,
      "margin": null,
      "max_height": null,
      "max_width": null,
      "min_height": null,
      "min_width": null,
      "object_fit": null,
      "object_position": null,
      "order": null,
      "overflow": null,
      "overflow_x": null,
      "overflow_y": null,
      "padding": null,
      "right": null,
      "top": null,
      "visibility": null,
      "width": null
     }
    },
    "df35b55370a24405af447dcdda74322b": {
     "model_module": "@jupyter-widgets/controls",
     "model_module_version": "1.5.0",
     "model_name": "FloatProgressModel",
     "state": {
      "_dom_classes": [],
      "_model_module": "@jupyter-widgets/controls",
      "_model_module_version": "1.5.0",
      "_model_name": "FloatProgressModel",
      "_view_count": null,
      "_view_module": "@jupyter-widgets/controls",
      "_view_module_version": "1.5.0",
      "_view_name": "ProgressView",
      "bar_style": "success",
      "description": "",
      "description_tooltip": null,
      "layout": "IPY_MODEL_dd241b749e6947459e309756532a1d0d",
      "max": 541795680,
      "min": 0,
      "orientation": "horizontal",
      "style": "IPY_MODEL_56f9f47e441d45908e7c21d3989209e2",
      "value": 541795680
     }
    },
    "dfa224a289844c19a47900de6af51c0c": {
     "model_module": "@jupyter-widgets/controls",
     "model_module_version": "1.5.0",
     "model_name": "HTMLModel",
     "state": {
      "_dom_classes": [],
      "_model_module": "@jupyter-widgets/controls",
      "_model_module_version": "1.5.0",
      "_model_name": "HTMLModel",
      "_view_count": null,
      "_view_module": "@jupyter-widgets/controls",
      "_view_module_version": "1.5.0",
      "_view_name": "HTMLView",
      "description": "",
      "description_tooltip": null,
      "layout": "IPY_MODEL_2614a607bcab413198583c91cce20654",
      "placeholder": "​",
      "style": "IPY_MODEL_e37b64f751d64fd6baf1395d5ef424a7",
      "value": "model.safetensors: 100%"
     }
    },
    "dfa4860e94be42409936c04585fe4b9d": {
     "model_module": "@jupyter-widgets/base",
     "model_module_version": "1.2.0",
     "model_name": "LayoutModel",
     "state": {
      "_model_module": "@jupyter-widgets/base",
      "_model_module_version": "1.2.0",
      "_model_name": "LayoutModel",
      "_view_count": null,
      "_view_module": "@jupyter-widgets/base",
      "_view_module_version": "1.2.0",
      "_view_name": "LayoutView",
      "align_content": null,
      "align_items": null,
      "align_self": null,
      "border": null,
      "bottom": null,
      "display": null,
      "flex": null,
      "flex_flow": null,
      "grid_area": null,
      "grid_auto_columns": null,
      "grid_auto_flow": null,
      "grid_auto_rows": null,
      "grid_column": null,
      "grid_gap": null,
      "grid_row": null,
      "grid_template_areas": null,
      "grid_template_columns": null,
      "grid_template_rows": null,
      "height": null,
      "justify_content": null,
      "justify_items": null,
      "left": null,
      "margin": null,
      "max_height": null,
      "max_width": null,
      "min_height": null,
      "min_width": null,
      "object_fit": null,
      "object_position": null,
      "order": null,
      "overflow": null,
      "overflow_x": null,
      "overflow_y": null,
      "padding": null,
      "right": null,
      "top": null,
      "visibility": null,
      "width": null
     }
    },
    "e0eb194321f64cef848690f1cb92c66d": {
     "model_module": "@jupyter-widgets/base",
     "model_module_version": "1.2.0",
     "model_name": "LayoutModel",
     "state": {
      "_model_module": "@jupyter-widgets/base",
      "_model_module_version": "1.2.0",
      "_model_name": "LayoutModel",
      "_view_count": null,
      "_view_module": "@jupyter-widgets/base",
      "_view_module_version": "1.2.0",
      "_view_name": "LayoutView",
      "align_content": null,
      "align_items": null,
      "align_self": null,
      "border": null,
      "bottom": null,
      "display": null,
      "flex": null,
      "flex_flow": null,
      "grid_area": null,
      "grid_auto_columns": null,
      "grid_auto_flow": null,
      "grid_auto_rows": null,
      "grid_column": null,
      "grid_gap": null,
      "grid_row": null,
      "grid_template_areas": null,
      "grid_template_columns": null,
      "grid_template_rows": null,
      "height": null,
      "justify_content": null,
      "justify_items": null,
      "left": null,
      "margin": null,
      "max_height": null,
      "max_width": null,
      "min_height": null,
      "min_width": null,
      "object_fit": null,
      "object_position": null,
      "order": null,
      "overflow": null,
      "overflow_x": null,
      "overflow_y": null,
      "padding": null,
      "right": null,
      "top": null,
      "visibility": null,
      "width": null
     }
    },
    "e1bd6aba8b7549bfa00c792e62aa0503": {
     "model_module": "@jupyter-widgets/controls",
     "model_module_version": "1.5.0",
     "model_name": "HTMLModel",
     "state": {
      "_dom_classes": [],
      "_model_module": "@jupyter-widgets/controls",
      "_model_module_version": "1.5.0",
      "_model_name": "HTMLModel",
      "_view_count": null,
      "_view_module": "@jupyter-widgets/controls",
      "_view_module_version": "1.5.0",
      "_view_name": "HTMLView",
      "description": "",
      "description_tooltip": null,
      "layout": "IPY_MODEL_b8beeabe3ded444c89692305f505774a",
      "placeholder": "​",
      "style": "IPY_MODEL_f8a65891582c44b79b8c113ba09d76dd",
      "value": "Map: 100%"
     }
    },
    "e37b64f751d64fd6baf1395d5ef424a7": {
     "model_module": "@jupyter-widgets/controls",
     "model_module_version": "1.5.0",
     "model_name": "DescriptionStyleModel",
     "state": {
      "_model_module": "@jupyter-widgets/controls",
      "_model_module_version": "1.5.0",
      "_model_name": "DescriptionStyleModel",
      "_view_count": null,
      "_view_module": "@jupyter-widgets/base",
      "_view_module_version": "1.2.0",
      "_view_name": "StyleView",
      "description_width": ""
     }
    },
    "e4125f8aa1d2458b83483c8f93fa132e": {
     "model_module": "@jupyter-widgets/controls",
     "model_module_version": "1.5.0",
     "model_name": "DescriptionStyleModel",
     "state": {
      "_model_module": "@jupyter-widgets/controls",
      "_model_module_version": "1.5.0",
      "_model_name": "DescriptionStyleModel",
      "_view_count": null,
      "_view_module": "@jupyter-widgets/base",
      "_view_module_version": "1.2.0",
      "_view_name": "StyleView",
      "description_width": ""
     }
    },
    "e42f8558c3f7438f9c3fd6b1fe53f23d": {
     "model_module": "@jupyter-widgets/controls",
     "model_module_version": "1.5.0",
     "model_name": "DescriptionStyleModel",
     "state": {
      "_model_module": "@jupyter-widgets/controls",
      "_model_module_version": "1.5.0",
      "_model_name": "DescriptionStyleModel",
      "_view_count": null,
      "_view_module": "@jupyter-widgets/base",
      "_view_module_version": "1.2.0",
      "_view_name": "StyleView",
      "description_width": ""
     }
    },
    "e4ce3c7b95c445d3978edaf5a6714faa": {
     "model_module": "@jupyter-widgets/controls",
     "model_module_version": "1.5.0",
     "model_name": "FloatProgressModel",
     "state": {
      "_dom_classes": [],
      "_model_module": "@jupyter-widgets/controls",
      "_model_module_version": "1.5.0",
      "_model_name": "FloatProgressModel",
      "_view_count": null,
      "_view_module": "@jupyter-widgets/controls",
      "_view_module_version": "1.5.0",
      "_view_name": "ProgressView",
      "bar_style": "success",
      "description": "",
      "description_tooltip": null,
      "layout": "IPY_MODEL_cf8bab278b5747bd96f680c756fa50b9",
      "max": 49,
      "min": 0,
      "orientation": "horizontal",
      "style": "IPY_MODEL_d52e491a0b1048878cc7101cb3848d77",
      "value": 49
     }
    },
    "e70b1d35ec534213a37c5ce791d9b4e5": {
     "model_module": "@jupyter-widgets/controls",
     "model_module_version": "1.5.0",
     "model_name": "ProgressStyleModel",
     "state": {
      "_model_module": "@jupyter-widgets/controls",
      "_model_module_version": "1.5.0",
      "_model_name": "ProgressStyleModel",
      "_view_count": null,
      "_view_module": "@jupyter-widgets/base",
      "_view_module_version": "1.2.0",
      "_view_name": "StyleView",
      "bar_color": null,
      "description_width": ""
     }
    },
    "eb00d062488b41f0afe3f2fbde1911e1": {
     "model_module": "@jupyter-widgets/base",
     "model_module_version": "1.2.0",
     "model_name": "LayoutModel",
     "state": {
      "_model_module": "@jupyter-widgets/base",
      "_model_module_version": "1.2.0",
      "_model_name": "LayoutModel",
      "_view_count": null,
      "_view_module": "@jupyter-widgets/base",
      "_view_module_version": "1.2.0",
      "_view_name": "LayoutView",
      "align_content": null,
      "align_items": null,
      "align_self": null,
      "border": null,
      "bottom": null,
      "display": null,
      "flex": null,
      "flex_flow": null,
      "grid_area": null,
      "grid_auto_columns": null,
      "grid_auto_flow": null,
      "grid_auto_rows": null,
      "grid_column": null,
      "grid_gap": null,
      "grid_row": null,
      "grid_template_areas": null,
      "grid_template_columns": null,
      "grid_template_rows": null,
      "height": null,
      "justify_content": null,
      "justify_items": null,
      "left": null,
      "margin": null,
      "max_height": null,
      "max_width": null,
      "min_height": null,
      "min_width": null,
      "object_fit": null,
      "object_position": null,
      "order": null,
      "overflow": null,
      "overflow_x": null,
      "overflow_y": null,
      "padding": null,
      "right": null,
      "top": null,
      "visibility": null,
      "width": null
     }
    },
    "eb785ed5e17e48488601ee5a82d114cb": {
     "model_module": "@jupyter-widgets/base",
     "model_module_version": "1.2.0",
     "model_name": "LayoutModel",
     "state": {
      "_model_module": "@jupyter-widgets/base",
      "_model_module_version": "1.2.0",
      "_model_name": "LayoutModel",
      "_view_count": null,
      "_view_module": "@jupyter-widgets/base",
      "_view_module_version": "1.2.0",
      "_view_name": "LayoutView",
      "align_content": null,
      "align_items": null,
      "align_self": null,
      "border": null,
      "bottom": null,
      "display": null,
      "flex": null,
      "flex_flow": null,
      "grid_area": null,
      "grid_auto_columns": null,
      "grid_auto_flow": null,
      "grid_auto_rows": null,
      "grid_column": null,
      "grid_gap": null,
      "grid_row": null,
      "grid_template_areas": null,
      "grid_template_columns": null,
      "grid_template_rows": null,
      "height": null,
      "justify_content": null,
      "justify_items": null,
      "left": null,
      "margin": null,
      "max_height": null,
      "max_width": null,
      "min_height": null,
      "min_width": null,
      "object_fit": null,
      "object_position": null,
      "order": null,
      "overflow": null,
      "overflow_x": null,
      "overflow_y": null,
      "padding": null,
      "right": null,
      "top": null,
      "visibility": null,
      "width": null
     }
    },
    "ed5d00a360d944cdbdc86daf5f8439e8": {
     "model_module": "@jupyter-widgets/base",
     "model_module_version": "1.2.0",
     "model_name": "LayoutModel",
     "state": {
      "_model_module": "@jupyter-widgets/base",
      "_model_module_version": "1.2.0",
      "_model_name": "LayoutModel",
      "_view_count": null,
      "_view_module": "@jupyter-widgets/base",
      "_view_module_version": "1.2.0",
      "_view_name": "LayoutView",
      "align_content": null,
      "align_items": null,
      "align_self": null,
      "border": null,
      "bottom": null,
      "display": null,
      "flex": null,
      "flex_flow": null,
      "grid_area": null,
      "grid_auto_columns": null,
      "grid_auto_flow": null,
      "grid_auto_rows": null,
      "grid_column": null,
      "grid_gap": null,
      "grid_row": null,
      "grid_template_areas": null,
      "grid_template_columns": null,
      "grid_template_rows": null,
      "height": null,
      "justify_content": null,
      "justify_items": null,
      "left": null,
      "margin": null,
      "max_height": null,
      "max_width": null,
      "min_height": null,
      "min_width": null,
      "object_fit": null,
      "object_position": null,
      "order": null,
      "overflow": null,
      "overflow_x": null,
      "overflow_y": null,
      "padding": null,
      "right": null,
      "top": null,
      "visibility": null,
      "width": null
     }
    },
    "ee63ab83a571425b8e43bdb0fce3e9ec": {
     "model_module": "@jupyter-widgets/controls",
     "model_module_version": "1.5.0",
     "model_name": "HBoxModel",
     "state": {
      "_dom_classes": [],
      "_model_module": "@jupyter-widgets/controls",
      "_model_module_version": "1.5.0",
      "_model_name": "HBoxModel",
      "_view_count": null,
      "_view_module": "@jupyter-widgets/controls",
      "_view_module_version": "1.5.0",
      "_view_name": "HBoxView",
      "box_style": "",
      "children": [
       "IPY_MODEL_3bfe621551aa4daba1c908cb88bf973b",
       "IPY_MODEL_b8e5d47f00074be6bc5f89af838da05c",
       "IPY_MODEL_579a850685b844ca87a9b0af3d6fad7e"
      ],
      "layout": "IPY_MODEL_eb00d062488b41f0afe3f2fbde1911e1"
     }
    },
    "eeb91dfcf0e14fe4ac58f2ecafdb39d3": {
     "model_module": "@jupyter-widgets/base",
     "model_module_version": "1.2.0",
     "model_name": "LayoutModel",
     "state": {
      "_model_module": "@jupyter-widgets/base",
      "_model_module_version": "1.2.0",
      "_model_name": "LayoutModel",
      "_view_count": null,
      "_view_module": "@jupyter-widgets/base",
      "_view_module_version": "1.2.0",
      "_view_name": "LayoutView",
      "align_content": null,
      "align_items": null,
      "align_self": null,
      "border": null,
      "bottom": null,
      "display": null,
      "flex": null,
      "flex_flow": null,
      "grid_area": null,
      "grid_auto_columns": null,
      "grid_auto_flow": null,
      "grid_auto_rows": null,
      "grid_column": null,
      "grid_gap": null,
      "grid_row": null,
      "grid_template_areas": null,
      "grid_template_columns": null,
      "grid_template_rows": null,
      "height": null,
      "justify_content": null,
      "justify_items": null,
      "left": null,
      "margin": null,
      "max_height": null,
      "max_width": null,
      "min_height": null,
      "min_width": null,
      "object_fit": null,
      "object_position": null,
      "order": null,
      "overflow": null,
      "overflow_x": null,
      "overflow_y": null,
      "padding": null,
      "right": null,
      "top": null,
      "visibility": null,
      "width": null
     }
    },
    "f00ecb8df9a44a949e34cbba0348c166": {
     "model_module": "@jupyter-widgets/controls",
     "model_module_version": "1.5.0",
     "model_name": "HTMLModel",
     "state": {
      "_dom_classes": [],
      "_model_module": "@jupyter-widgets/controls",
      "_model_module_version": "1.5.0",
      "_model_name": "HTMLModel",
      "_view_count": null,
      "_view_module": "@jupyter-widgets/controls",
      "_view_module_version": "1.5.0",
      "_view_name": "HTMLView",
      "description": "",
      "description_tooltip": null,
      "layout": "IPY_MODEL_cc95a555611e408ebe76342609a44fe4",
      "placeholder": "​",
      "style": "IPY_MODEL_4e4df20bcde143e0b138723da511bd5b",
      "value": " 49.0/49.0 [00:00&lt;00:00, 2.14kB/s]"
     }
    },
    "f1f8d335417c48cda06b824566fb9e6b": {
     "model_module": "@jupyter-widgets/controls",
     "model_module_version": "1.5.0",
     "model_name": "HTMLModel",
     "state": {
      "_dom_classes": [],
      "_model_module": "@jupyter-widgets/controls",
      "_model_module_version": "1.5.0",
      "_model_name": "HTMLModel",
      "_view_count": null,
      "_view_module": "@jupyter-widgets/controls",
      "_view_module_version": "1.5.0",
      "_view_name": "HTMLView",
      "description": "",
      "description_tooltip": null,
      "layout": "IPY_MODEL_9e3031cef9244699b769c52d913c0414",
      "placeholder": "​",
      "style": "IPY_MODEL_e42f8558c3f7438f9c3fd6b1fe53f23d",
      "value": "Downloading builder script: 100%"
     }
    },
    "f29e1d719e7f45e684b9956f1886dfd5": {
     "model_module": "@jupyter-widgets/controls",
     "model_module_version": "1.5.0",
     "model_name": "DescriptionStyleModel",
     "state": {
      "_model_module": "@jupyter-widgets/controls",
      "_model_module_version": "1.5.0",
      "_model_name": "DescriptionStyleModel",
      "_view_count": null,
      "_view_module": "@jupyter-widgets/base",
      "_view_module_version": "1.2.0",
      "_view_name": "StyleView",
      "description_width": ""
     }
    },
    "f2ab2e6483e44cb194a9c5f1e798d765": {
     "model_module": "@jupyter-widgets/controls",
     "model_module_version": "1.5.0",
     "model_name": "DescriptionStyleModel",
     "state": {
      "_model_module": "@jupyter-widgets/controls",
      "_model_module_version": "1.5.0",
      "_model_name": "DescriptionStyleModel",
      "_view_count": null,
      "_view_module": "@jupyter-widgets/base",
      "_view_module_version": "1.2.0",
      "_view_name": "StyleView",
      "description_width": ""
     }
    },
    "f49e505b56694ead847695f886709acf": {
     "model_module": "@jupyter-widgets/base",
     "model_module_version": "1.2.0",
     "model_name": "LayoutModel",
     "state": {
      "_model_module": "@jupyter-widgets/base",
      "_model_module_version": "1.2.0",
      "_model_name": "LayoutModel",
      "_view_count": null,
      "_view_module": "@jupyter-widgets/base",
      "_view_module_version": "1.2.0",
      "_view_name": "LayoutView",
      "align_content": null,
      "align_items": null,
      "align_self": null,
      "border": null,
      "bottom": null,
      "display": null,
      "flex": null,
      "flex_flow": null,
      "grid_area": null,
      "grid_auto_columns": null,
      "grid_auto_flow": null,
      "grid_auto_rows": null,
      "grid_column": null,
      "grid_gap": null,
      "grid_row": null,
      "grid_template_areas": null,
      "grid_template_columns": null,
      "grid_template_rows": null,
      "height": null,
      "justify_content": null,
      "justify_items": null,
      "left": null,
      "margin": null,
      "max_height": null,
      "max_width": null,
      "min_height": null,
      "min_width": null,
      "object_fit": null,
      "object_position": null,
      "order": null,
      "overflow": null,
      "overflow_x": null,
      "overflow_y": null,
      "padding": null,
      "right": null,
      "top": null,
      "visibility": null,
      "width": null
     }
    },
    "f4c627b240cd44c9ac763773ab22db5c": {
     "model_module": "@jupyter-widgets/controls",
     "model_module_version": "1.5.0",
     "model_name": "HTMLModel",
     "state": {
      "_dom_classes": [],
      "_model_module": "@jupyter-widgets/controls",
      "_model_module_version": "1.5.0",
      "_model_name": "HTMLModel",
      "_view_count": null,
      "_view_module": "@jupyter-widgets/controls",
      "_view_module_version": "1.5.0",
      "_view_name": "HTMLView",
      "description": "",
      "description_tooltip": null,
      "layout": "IPY_MODEL_fe208a748c2d4b8f8a02d67812485f31",
      "placeholder": "​",
      "style": "IPY_MODEL_76cfe1c8f85c4ac9ad80a6dffed825b0",
      "value": " 996k/996k [00:00&lt;00:00, 4.62MB/s]"
     }
    },
    "f7318637c92545b5a5720c144bbb808f": {
     "model_module": "@jupyter-widgets/base",
     "model_module_version": "1.2.0",
     "model_name": "LayoutModel",
     "state": {
      "_model_module": "@jupyter-widgets/base",
      "_model_module_version": "1.2.0",
      "_model_name": "LayoutModel",
      "_view_count": null,
      "_view_module": "@jupyter-widgets/base",
      "_view_module_version": "1.2.0",
      "_view_name": "LayoutView",
      "align_content": null,
      "align_items": null,
      "align_self": null,
      "border": null,
      "bottom": null,
      "display": null,
      "flex": null,
      "flex_flow": null,
      "grid_area": null,
      "grid_auto_columns": null,
      "grid_auto_flow": null,
      "grid_auto_rows": null,
      "grid_column": null,
      "grid_gap": null,
      "grid_row": null,
      "grid_template_areas": null,
      "grid_template_columns": null,
      "grid_template_rows": null,
      "height": null,
      "justify_content": null,
      "justify_items": null,
      "left": null,
      "margin": null,
      "max_height": null,
      "max_width": null,
      "min_height": null,
      "min_width": null,
      "object_fit": null,
      "object_position": null,
      "order": null,
      "overflow": null,
      "overflow_x": null,
      "overflow_y": null,
      "padding": null,
      "right": null,
      "top": null,
      "visibility": null,
      "width": null
     }
    },
    "f7cc5c58d7244dbeb0ff5b02d6f111f2": {
     "model_module": "@jupyter-widgets/controls",
     "model_module_version": "1.5.0",
     "model_name": "FloatProgressModel",
     "state": {
      "_dom_classes": [],
      "_model_module": "@jupyter-widgets/controls",
      "_model_module_version": "1.5.0",
      "_model_name": "FloatProgressModel",
      "_view_count": null,
      "_view_module": "@jupyter-widgets/controls",
      "_view_module_version": "1.5.0",
      "_view_name": "ProgressView",
      "bar_style": "success",
      "description": "",
      "description_tooltip": null,
      "layout": "IPY_MODEL_d553374ce0074d7990a40d7e8bb300be",
      "max": 1613,
      "min": 0,
      "orientation": "horizontal",
      "style": "IPY_MODEL_0d270763cf5549189d861706c0bdc93b",
      "value": 1613
     }
    },
    "f85085c4157244a8956424444455a76c": {
     "model_module": "@jupyter-widgets/controls",
     "model_module_version": "1.5.0",
     "model_name": "HBoxModel",
     "state": {
      "_dom_classes": [],
      "_model_module": "@jupyter-widgets/controls",
      "_model_module_version": "1.5.0",
      "_model_name": "HBoxModel",
      "_view_count": null,
      "_view_module": "@jupyter-widgets/controls",
      "_view_module_version": "1.5.0",
      "_view_name": "HBoxView",
      "box_style": "",
      "children": [
       "IPY_MODEL_f8e6d941d83d49ae8064a8cab24546a8",
       "IPY_MODEL_5a8035223106430c963d952b8c240701",
       "IPY_MODEL_fe8f1e5f531f407f8a75f411918a7c2a"
      ],
      "layout": "IPY_MODEL_956a3f4b0fe54906bbbba22e4631aa0a"
     }
    },
    "f85c5a29aa864e89ab0ceaf0f13804c2": {
     "model_module": "@jupyter-widgets/base",
     "model_module_version": "1.2.0",
     "model_name": "LayoutModel",
     "state": {
      "_model_module": "@jupyter-widgets/base",
      "_model_module_version": "1.2.0",
      "_model_name": "LayoutModel",
      "_view_count": null,
      "_view_module": "@jupyter-widgets/base",
      "_view_module_version": "1.2.0",
      "_view_name": "LayoutView",
      "align_content": null,
      "align_items": null,
      "align_self": null,
      "border": null,
      "bottom": null,
      "display": null,
      "flex": null,
      "flex_flow": null,
      "grid_area": null,
      "grid_auto_columns": null,
      "grid_auto_flow": null,
      "grid_auto_rows": null,
      "grid_column": null,
      "grid_gap": null,
      "grid_row": null,
      "grid_template_areas": null,
      "grid_template_columns": null,
      "grid_template_rows": null,
      "height": null,
      "justify_content": null,
      "justify_items": null,
      "left": null,
      "margin": null,
      "max_height": null,
      "max_width": null,
      "min_height": null,
      "min_width": null,
      "object_fit": null,
      "object_position": null,
      "order": null,
      "overflow": null,
      "overflow_x": null,
      "overflow_y": null,
      "padding": null,
      "right": null,
      "top": null,
      "visibility": null,
      "width": null
     }
    },
    "f8a65891582c44b79b8c113ba09d76dd": {
     "model_module": "@jupyter-widgets/controls",
     "model_module_version": "1.5.0",
     "model_name": "DescriptionStyleModel",
     "state": {
      "_model_module": "@jupyter-widgets/controls",
      "_model_module_version": "1.5.0",
      "_model_name": "DescriptionStyleModel",
      "_view_count": null,
      "_view_module": "@jupyter-widgets/base",
      "_view_module_version": "1.2.0",
      "_view_name": "StyleView",
      "description_width": ""
     }
    },
    "f8e6d941d83d49ae8064a8cab24546a8": {
     "model_module": "@jupyter-widgets/controls",
     "model_module_version": "1.5.0",
     "model_name": "HTMLModel",
     "state": {
      "_dom_classes": [],
      "_model_module": "@jupyter-widgets/controls",
      "_model_module_version": "1.5.0",
      "_model_name": "HTMLModel",
      "_view_count": null,
      "_view_module": "@jupyter-widgets/controls",
      "_view_module_version": "1.5.0",
      "_view_name": "HTMLView",
      "description": "",
      "description_tooltip": null,
      "layout": "IPY_MODEL_293af5555fbf45819c48946d2f4bd3b8",
      "placeholder": "​",
      "style": "IPY_MODEL_29f17fb6755f465f9c65a5e2539b269d",
      "value": "Map: 100%"
     }
    },
    "f9a08af8837b48f2839e20e5f9b69d4a": {
     "model_module": "@jupyter-widgets/controls",
     "model_module_version": "1.5.0",
     "model_name": "HBoxModel",
     "state": {
      "_dom_classes": [],
      "_model_module": "@jupyter-widgets/controls",
      "_model_module_version": "1.5.0",
      "_model_name": "HBoxModel",
      "_view_count": null,
      "_view_module": "@jupyter-widgets/controls",
      "_view_module_version": "1.5.0",
      "_view_name": "HBoxView",
      "box_style": "",
      "children": [
       "IPY_MODEL_e1bd6aba8b7549bfa00c792e62aa0503",
       "IPY_MODEL_f7cc5c58d7244dbeb0ff5b02d6f111f2",
       "IPY_MODEL_8cbf91f09559455bb391613f391d4f45"
      ],
      "layout": "IPY_MODEL_d4d06a3a104b444ebca2734c60fa7705"
     }
    },
    "fb8afee6cfa04a349b9c317e5c3e3edb": {
     "model_module": "@jupyter-widgets/controls",
     "model_module_version": "1.5.0",
     "model_name": "DescriptionStyleModel",
     "state": {
      "_model_module": "@jupyter-widgets/controls",
      "_model_module_version": "1.5.0",
      "_model_name": "DescriptionStyleModel",
      "_view_count": null,
      "_view_module": "@jupyter-widgets/base",
      "_view_module_version": "1.2.0",
      "_view_name": "StyleView",
      "description_width": ""
     }
    },
    "fbbf8fd67c894d62bd80c0a4323c0ade": {
     "model_module": "@jupyter-widgets/controls",
     "model_module_version": "1.5.0",
     "model_name": "HTMLModel",
     "state": {
      "_dom_classes": [],
      "_model_module": "@jupyter-widgets/controls",
      "_model_module_version": "1.5.0",
      "_model_name": "HTMLModel",
      "_view_count": null,
      "_view_module": "@jupyter-widgets/controls",
      "_view_module_version": "1.5.0",
      "_view_name": "HTMLView",
      "description": "",
      "description_tooltip": null,
      "layout": "IPY_MODEL_bc2133e4df074f4290be59f628d60b21",
      "placeholder": "​",
      "style": "IPY_MODEL_bf38b0f5db41471a971d993b83be182b",
      "value": " 299/299 [00:00&lt;00:00, 3916.52 examples/s]"
     }
    },
    "fc167b067ef247ab8cf66a09ecc8a6ee": {
     "model_module": "@jupyter-widgets/controls",
     "model_module_version": "1.5.0",
     "model_name": "HTMLModel",
     "state": {
      "_dom_classes": [],
      "_model_module": "@jupyter-widgets/controls",
      "_model_module_version": "1.5.0",
      "_model_name": "HTMLModel",
      "_view_count": null,
      "_view_module": "@jupyter-widgets/controls",
      "_view_module_version": "1.5.0",
      "_view_name": "HTMLView",
      "description": "",
      "description_tooltip": null,
      "layout": "IPY_MODEL_41f78634806b4c22af7c2ba5e9a71579",
      "placeholder": "​",
      "style": "IPY_MODEL_99365f3ca008464eb08d839f49156354",
      "value": " 6.79k/6.79k [00:00&lt;00:00, 88.9kB/s]"
     }
    },
    "fcc325b56ad947aa8ec39ef771ec5593": {
     "model_module": "@jupyter-widgets/controls",
     "model_module_version": "1.5.0",
     "model_name": "FloatProgressModel",
     "state": {
      "_dom_classes": [],
      "_model_module": "@jupyter-widgets/controls",
      "_model_module_version": "1.5.0",
      "_model_name": "FloatProgressModel",
      "_view_count": null,
      "_view_module": "@jupyter-widgets/controls",
      "_view_module_version": "1.5.0",
      "_view_name": "ProgressView",
      "bar_style": "success",
      "description": "",
      "description_tooltip": null,
      "layout": "IPY_MODEL_c27a377f33c14d498fe0cc40a2e3a80f",
      "max": 6785,
      "min": 0,
      "orientation": "horizontal",
      "style": "IPY_MODEL_8a875ca608a747468d006a9629af8179",
      "value": 6785
     }
    },
    "fe208a748c2d4b8f8a02d67812485f31": {
     "model_module": "@jupyter-widgets/base",
     "model_module_version": "1.2.0",
     "model_name": "LayoutModel",
     "state": {
      "_model_module": "@jupyter-widgets/base",
      "_model_module_version": "1.2.0",
      "_model_name": "LayoutModel",
      "_view_count": null,
      "_view_module": "@jupyter-widgets/base",
      "_view_module_version": "1.2.0",
      "_view_name": "LayoutView",
      "align_content": null,
      "align_items": null,
      "align_self": null,
      "border": null,
      "bottom": null,
      "display": null,
      "flex": null,
      "flex_flow": null,
      "grid_area": null,
      "grid_auto_columns": null,
      "grid_auto_flow": null,
      "grid_auto_rows": null,
      "grid_column": null,
      "grid_gap": null,
      "grid_row": null,
      "grid_template_areas": null,
      "grid_template_columns": null,
      "grid_template_rows": null,
      "height": null,
      "justify_content": null,
      "justify_items": null,
      "left": null,
      "margin": null,
      "max_height": null,
      "max_width": null,
      "min_height": null,
      "min_width": null,
      "object_fit": null,
      "object_position": null,
      "order": null,
      "overflow": null,
      "overflow_x": null,
      "overflow_y": null,
      "padding": null,
      "right": null,
      "top": null,
      "visibility": null,
      "width": null
     }
    },
    "fe8f1e5f531f407f8a75f411918a7c2a": {
     "model_module": "@jupyter-widgets/controls",
     "model_module_version": "1.5.0",
     "model_name": "HTMLModel",
     "state": {
      "_dom_classes": [],
      "_model_module": "@jupyter-widgets/controls",
      "_model_module_version": "1.5.0",
      "_model_name": "HTMLModel",
      "_view_count": null,
      "_view_module": "@jupyter-widgets/controls",
      "_view_module_version": "1.5.0",
      "_view_name": "HTMLView",
      "description": "",
      "description_tooltip": null,
      "layout": "IPY_MODEL_9334654d7580478ba058fb0d6a0ede41",
      "placeholder": "​",
      "style": "IPY_MODEL_935c89f7300e41a79ba003daf306c17a",
      "value": " 462/462 [00:00&lt;00:00, 2113.62 examples/s]"
     }
    },
    "ff238001caf14315a875987b799c78de": {
     "model_module": "@jupyter-widgets/controls",
     "model_module_version": "1.5.0",
     "model_name": "HTMLModel",
     "state": {
      "_dom_classes": [],
      "_model_module": "@jupyter-widgets/controls",
      "_model_module_version": "1.5.0",
      "_model_name": "HTMLModel",
      "_view_count": null,
      "_view_module": "@jupyter-widgets/controls",
      "_view_module_version": "1.5.0",
      "_view_name": "HTMLView",
      "description": "",
      "description_tooltip": null,
      "layout": "IPY_MODEL_ed5d00a360d944cdbdc86daf5f8439e8",
      "placeholder": "​",
      "style": "IPY_MODEL_643cdaf7be8f4f0b9f628976cb1b8d89",
      "value": " 830/830 [00:00&lt;00:00, 1478.56 examples/s]"
     }
    },
    "ff496238237340c2a42e1d329983dfc4": {
     "model_module": "@jupyter-widgets/base",
     "model_module_version": "1.2.0",
     "model_name": "LayoutModel",
     "state": {
      "_model_module": "@jupyter-widgets/base",
      "_model_module_version": "1.2.0",
      "_model_name": "LayoutModel",
      "_view_count": null,
      "_view_module": "@jupyter-widgets/base",
      "_view_module_version": "1.2.0",
      "_view_name": "LayoutView",
      "align_content": null,
      "align_items": null,
      "align_self": null,
      "border": null,
      "bottom": null,
      "display": null,
      "flex": null,
      "flex_flow": null,
      "grid_area": null,
      "grid_auto_columns": null,
      "grid_auto_flow": null,
      "grid_auto_rows": null,
      "grid_column": null,
      "grid_gap": null,
      "grid_row": null,
      "grid_template_areas": null,
      "grid_template_columns": null,
      "grid_template_rows": null,
      "height": null,
      "justify_content": null,
      "justify_items": null,
      "left": null,
      "margin": null,
      "max_height": null,
      "max_width": null,
      "min_height": null,
      "min_width": null,
      "object_fit": null,
      "object_position": null,
      "order": null,
      "overflow": null,
      "overflow_x": null,
      "overflow_y": null,
      "padding": null,
      "right": null,
      "top": null,
      "visibility": null,
      "width": null
     }
    }
   }
  }
 },
 "nbformat": 4,
 "nbformat_minor": 5
}
