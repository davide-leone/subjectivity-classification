{
 "cells": [
  {
   "cell_type": "markdown",
   "id": "aee7ec87-d449-43ab-838a-2867b9986036",
   "metadata": {
    "id": "aee7ec87-d449-43ab-838a-2867b9986036"
   },
   "source": [
    "# Task 1: Subjectivity in News Articles"
   ]
  },
  {
   "cell_type": "markdown",
   "id": "6e1fc62d-9b04-4147-b715-b5160a450172",
   "metadata": {
    "id": "6e1fc62d-9b04-4147-b715-b5160a450172"
   },
   "source": [
    "## Task Description"
   ]
  },
  {
   "cell_type": "markdown",
   "id": "be8d832e-c55d-4c4e-a915-3c4ffbf45527",
   "metadata": {
    "id": "be8d832e-c55d-4c4e-a915-3c4ffbf45527"
   },
   "source": [
    "Systems are challenged to distinguish whether a sentence from a news article expresses the subjective view of the author behind it or presents an objective view on the covered topic instead.\n",
    "This is a binary classification tasks in which systems have to identify whether a text sequence (a sentence or a paragraph) is subjective (SUBJ) or objective (OBJ).\n",
    "The task comprises three settings:\n",
    "\n",
    "* Monolingual: train and test on data in a given language L\n",
    "\n",
    "* Multilingual: train and test on data comprising several languages\n",
    "\n",
    "* Zero-shot: train on several languages and test on unseen languages\n",
    "\n",
    "### Contents of the Task 1 Directory\n",
    "\n",
    "* Main folder: data\n",
    "\n",
    "  Contains a subfolder for each language which contain the data as TSV format with .tsv extension (train_LANG.tsv, dev_LANG.tsv, dev_test_LANG.tsv, test_LANG.tsv). As LANG we used standard language code for each language.\n",
    "\n",
    "* Main folder: baseline\n",
    "\n",
    "  Contains a single file, baseline.py, used to train a baseline and provide predictions.\n",
    "\n",
    "* Main folder: scorer\n",
    "\n",
    "  Contains a single file, evaluate.py, that checks the format of a submission and evaluate the various metrics.\n",
    "\n",
    "### Input Data Format\n",
    "The data will be provided as a TSV file with three columns:\n",
    "\n",
    "    sentence_id  sentence  label\n",
    "\n",
    "Where:\n",
    "\n",
    "* sentence_id: sentence id for a given sentence in a news article\n",
    "\n",
    "* sentence: sentence's text\n",
    "\n",
    "* label: OBJ and SUBJ\n",
    "\n",
    "\n",
    "Examples:\n",
    "\n",
    "    b9e1635a-72aa-467f-86d6-f56ef09f62c3  Gone are the days when they led the world in recession-busting SUBJ\n",
    "    f99b5143-70d2-494a-a2f5-c68f10d09d0a  The trend is expected to reverse as soon as next month.  OBJ\n",
    "\n",
    "### Output Data Format\n",
    "The output must be a TSV format with two columns: sentence_id and label.\n",
    "\n",
    "### Evaluation Metrics\n",
    "This task is evaluated as a classification task. We will use the F1-macro measure for the ranking of teams.\n",
    "We will also measure Precision, Recall, and F1 of the SUBJ class and the macro-averaged scores.\n",
    "\n",
    "\n",
    "### Scorers\n",
    "To evaluate the output of your model which should be in the output format required, please run the script below:\n",
    "\n",
    "    python evaluate.py -g dev_truth.tsv -p dev_predicted.tsv\n",
    "\n",
    "where dev_predicted.tsv is the output of your model on the dev set, and dev_truth.tsv is the golden label file provided by us.\n",
    "The file can be used also to validate the format of the submission, simply use the provided test file as gold data.\n",
    "The evaluation will not be performed, but the format of your input will be checked.\n",
    "\n",
    "### Baselines\n",
    "The script to train the baseline is provided in the related directory.\n",
    "The script can be run as follow:\n",
    "\n",
    "    python baseline.py -trp train_data.tsv -ttp dev_data.tsv\n",
    "\n",
    "where train_data.tsv is the file to be used for training and dev_data.tsv is the file on which doing the prediction.\n",
    "The baseline is a logistic regressor trained on a Sentence-BERT multilingual representation of the data."
   ]
  },
  {
   "cell_type": "markdown",
   "id": "87e6f77f-93cb-4da1-b047-4b5d26a8ec84",
   "metadata": {
    "id": "87e6f77f-93cb-4da1-b047-4b5d26a8ec84"
   },
   "source": [
    "## Data Loading"
   ]
  },
  {
   "cell_type": "code",
   "execution_count": 1,
   "id": "z7Rmzm5IB6oC",
   "metadata": {
    "colab": {
     "base_uri": "https://localhost:8080/"
    },
    "id": "z7Rmzm5IB6oC",
    "outputId": "b36307af-7a88-4a56-f03a-ad37e651611b"
   },
   "outputs": [
    {
     "name": "stdout",
     "output_type": "stream",
     "text": [
      "Reading package lists... Done\n",
      "Building dependency tree... Done\n",
      "Reading state information... Done\n",
      "git-lfs is already the newest version (3.0.2-1ubuntu0.3).\n",
      "0 upgraded, 0 newly installed, 0 to remove and 35 not upgraded.\n"
     ]
    }
   ],
   "source": [
    "!apt-get install git-lfs -y"
   ]
  },
  {
   "cell_type": "code",
   "execution_count": 2,
   "id": "orAEyXZWB3uU",
   "metadata": {
    "colab": {
     "base_uri": "https://localhost:8080/"
    },
    "id": "orAEyXZWB3uU",
    "outputId": "0044baba-4bcb-4398-b478-64de0bf69105"
   },
   "outputs": [
    {
     "name": "stdout",
     "output_type": "stream",
     "text": [
      "Cloning into 'clef2025-checkthat-lab'...\n",
      "remote: Enumerating objects: 862, done.\u001b[K\n",
      "remote: Counting objects: 100% (841/841), done.\u001b[K\n",
      "remote: Compressing objects: 100% (422/422), done.\u001b[K\n",
      "remote: Total 862 (delta 410), reused 831 (delta 406), pack-reused 21 (from 1)\u001b[K\n",
      "Receiving objects: 100% (862/862), 78.96 MiB | 10.77 MiB/s, done.\n",
      "Resolving deltas: 100% (414/414), done.\n",
      "Updating files: 100% (181/181), done.\n"
     ]
    }
   ],
   "source": [
    "!git clone https://gitlab.com/checkthat_lab/clef2025-checkthat-lab.git"
   ]
  },
  {
   "cell_type": "code",
   "execution_count": 3,
   "id": "f97e05a6-3fb6-48c8-840a-72b1984c30b8",
   "metadata": {
    "id": "f97e05a6-3fb6-48c8-840a-72b1984c30b8"
   },
   "outputs": [],
   "source": [
    "# !pip install pandas"
   ]
  },
  {
   "cell_type": "code",
   "execution_count": 4,
   "id": "JoxRrnoGB_NH",
   "metadata": {
    "id": "JoxRrnoGB_NH"
   },
   "outputs": [],
   "source": [
    "DATA_PATH = \"clef2025-checkthat-lab/task1/data\"\n",
    "SCORER_PATH = \"clef2025-checkthat-lab/task1/scorer\""
   ]
  },
  {
   "cell_type": "code",
   "execution_count": 5,
   "id": "929c7d52-6438-4722-a13c-e6a46806b33a",
   "metadata": {
    "id": "929c7d52-6438-4722-a13c-e6a46806b33a"
   },
   "outputs": [],
   "source": [
    "import pandas as pd"
   ]
  },
  {
   "cell_type": "code",
   "execution_count": 6,
   "id": "a8f91dd1-a5de-4669-80b8-0af805e19297",
   "metadata": {
    "id": "a8f91dd1-a5de-4669-80b8-0af805e19297"
   },
   "outputs": [],
   "source": [
    "# ARABIC\n",
    "train_path = f'{DATA_PATH}/arabic/train_ar.tsv'\n",
    "dev_path = f'{DATA_PATH}/arabic/dev_ar.tsv'\n",
    "\n",
    "df_train_ar = pd.read_csv(train_path, sep='\\t')\n",
    "df_dev_ar = pd.read_csv(dev_path, sep='\\t')\n",
    "\n",
    "# BULGARIAN\n",
    "train_path = f'{DATA_PATH}/bulgarian/train_bg.tsv'\n",
    "dev_path = f'{DATA_PATH}/bulgarian/dev_bg.tsv'\n",
    "\n",
    "df_train_bg = pd.read_csv(train_path, sep='\\t')\n",
    "df_dev_bg = pd.read_csv(dev_path, sep='\\t')\n",
    "\n",
    "# ENGLISH\n",
    "train_path = f'{DATA_PATH}/english/train_en.tsv'\n",
    "dev_path = f'{DATA_PATH}/english/dev_en.tsv'\n",
    "\n",
    "df_train_en = pd.read_csv(train_path, sep='\\t')\n",
    "df_dev_en = pd.read_csv(dev_path, sep='\\t')\n",
    "\n",
    "# GERMAN\n",
    "train_path = f'{DATA_PATH}/german/train_de.tsv'\n",
    "dev_path = f'{DATA_PATH}/german/dev_de.tsv'\n",
    "\n",
    "df_train_de = pd.read_csv(train_path, sep='\\t')\n",
    "df_dev_de = pd.read_csv(dev_path, sep='\\t')\n",
    "\n",
    "# ITALIAN\n",
    "train_path = f'{DATA_PATH}/italian/train_it.tsv'\n",
    "dev_path = f'{DATA_PATH}/italian/dev_it.tsv'\n",
    "\n",
    "df_train_it = pd.read_csv(train_path, sep='\\t')\n",
    "df_dev_it = pd.read_csv(dev_path, sep='\\t')\n",
    "\n",
    "# MONOLINGUAL - TEST ON ENGLISH AND ITALIAN\n",
    "test_path = f'{DATA_PATH}/english/test_en_labeled.tsv'\n",
    "df_test_en = pd.read_csv(test_path, sep='\\t')\n",
    "\n",
    "test_path = f'{DATA_PATH}/italian/test_it_labeled.tsv'\n",
    "df_test_it = pd.read_csv(test_path, sep='\\t')\n",
    "\n",
    "# MULTILINGUAL - TEST ON ARABIC, BULGARIAN, ENGLISH, GERMAN AND ITALIAN\n",
    "test_path = f'{DATA_PATH}/multilingual/test_multilingual_labeled.tsv'\n",
    "\n",
    "df_test_multi = pd.read_csv(test_path, sep='\\t')\n",
    "\n",
    "# ZERO-SHOT - TEST ON GREEK, POLISH, ROMANIAN AND UKRAINIAN\n",
    "test_path = f'{DATA_PATH}/greek/test_gr_labeled.tsv'\n",
    "df_test_gr = pd.read_csv(test_path, sep='\\t')\n",
    "\n",
    "test_path = f'{DATA_PATH}/polish/test_pol_labeled.tsv'\n",
    "df_test_pol = pd.read_csv(test_path, sep='\\t')\n",
    "\n",
    "test_path = f'{DATA_PATH}/romanian/test_ro_labeled.tsv'\n",
    "df_test_ro = pd.read_csv(test_path, sep='\\t')\n",
    "\n",
    "test_path = f'{DATA_PATH}/ukrainian/test_ukr_labeled.tsv'\n",
    "df_test_ukr = pd.read_csv(test_path, sep='\\t')"
   ]
  },
  {
   "cell_type": "code",
   "execution_count": 7,
   "id": "956e8470-1242-423a-9cb6-da57c6b80efb",
   "metadata": {
    "colab": {
     "base_uri": "https://localhost:8080/"
    },
    "id": "956e8470-1242-423a-9cb6-da57c6b80efb",
    "outputId": "ed3c7365-806b-45b4-c9c9-bbe5a9ca8c4c"
   },
   "outputs": [
    {
     "name": "stderr",
     "output_type": "stream",
     "text": [
      "<ipython-input-7-42071ef08fce>:12: SettingWithCopyWarning: \n",
      "A value is trying to be set on a copy of a slice from a DataFrame.\n",
      "Try using .loc[row_indexer,col_indexer] = value instead\n",
      "\n",
      "See the caveats in the documentation: https://pandas.pydata.org/pandas-docs/stable/user_guide/indexing.html#returning-a-view-versus-a-copy\n",
      "  df_train_en['label'] = df_train_en['label'].map({'OBJ': 1, 'SUBJ': 0})\n",
      "<ipython-input-7-42071ef08fce>:13: SettingWithCopyWarning: \n",
      "A value is trying to be set on a copy of a slice from a DataFrame.\n",
      "Try using .loc[row_indexer,col_indexer] = value instead\n",
      "\n",
      "See the caveats in the documentation: https://pandas.pydata.org/pandas-docs/stable/user_guide/indexing.html#returning-a-view-versus-a-copy\n",
      "  df_dev_en['label'] = df_dev_en['label'].map({'OBJ': 1, 'SUBJ': 0})\n"
     ]
    }
   ],
   "source": [
    "# Keep only the required columns\n",
    "df_train_en = df_train_en[['sentence_id', 'sentence', 'label']]\n",
    "df_dev_en = df_dev_en[['sentence_id', 'sentence', 'label']]\n",
    "\n",
    "# Encode labels: OBJ -> 1, SUBJ -> 0\n",
    "df_train_ar['label'] = df_train_ar['label'].map({'OBJ': 1, 'SUBJ': 0})\n",
    "df_dev_ar['label'] = df_dev_ar['label'].map({'OBJ': 1, 'SUBJ': 0})\n",
    "\n",
    "df_train_bg['label'] = df_train_bg['label'].map({'OBJ': 1, 'SUBJ': 0})\n",
    "df_dev_bg['label'] = df_dev_bg['label'].map({'OBJ': 1, 'SUBJ': 0})\n",
    "\n",
    "df_train_en['label'] = df_train_en['label'].map({'OBJ': 1, 'SUBJ': 0})\n",
    "df_dev_en['label'] = df_dev_en['label'].map({'OBJ': 1, 'SUBJ': 0})\n",
    "df_test_en['label'] = df_test_en['label'].map({'OBJ': 1, 'SUBJ': 0})\n",
    "\n",
    "df_train_de['label'] = df_train_de['label'].map({'OBJ': 1, 'SUBJ': 0})\n",
    "df_dev_de['label'] = df_dev_de['label'].map({'OBJ': 1, 'SUBJ': 0})\n",
    "\n",
    "df_train_it['label'] = df_train_it['label'].map({'OBJ': 1, 'SUBJ': 0})\n",
    "df_dev_it['label'] = df_dev_it['label'].map({'OBJ': 1, 'SUBJ': 0})\n",
    "df_test_it['label'] = df_test_it['label'].map({'OBJ': 1, 'SUBJ': 0})\n",
    "\n",
    "df_test_multi['label'] = df_test_multi['label'].map({'OBJ': 1, 'SUBJ': 0})\n",
    "\n",
    "df_test_gr['label'] = df_test_gr['label'].map({'OBJ': 1, 'SUBJ': 0})\n",
    "\n",
    "df_test_pol['label'] = df_test_pol['label'].map({'OBJ': 1, 'SUBJ': 0})\n",
    "\n",
    "df_test_ro['label'] = df_test_ro['label'].map({'OBJ': 1, 'SUBJ': 0})\n",
    "\n",
    "df_test_ukr['label'] = df_test_ukr['label'].map({'OBJ': 1, 'SUBJ': 0})"
   ]
  },
  {
   "cell_type": "code",
   "execution_count": 8,
   "id": "48d593e4-7aa1-4264-ae2f-270116f8571a",
   "metadata": {
    "id": "48d593e4-7aa1-4264-ae2f-270116f8571a"
   },
   "outputs": [],
   "source": [
    "def print_shape(df1, df2, df3):\n",
    "    \"\"\"\n",
    "    Utility function to print the shape of the three dataframes\n",
    "    \"\"\"\n",
    "    if df1 is not None:\n",
    "        print(\"Train dataframe:    {} rows and {} columns\".format(df1.shape[0], df1.shape[1]))\n",
    "    if df2 is not None:\n",
    "        print(\"Dev dataframe:       {} rows and {} columns\".format(df2.shape[0], df2.shape[1]))\n",
    "    if df3 is not None:\n",
    "        print(\"Test dataframe:      {} rows and {} columns\".format(df3.shape[0], df3.shape[1]))\n",
    "    print(\"--------------------------------------------\")"
   ]
  },
  {
   "cell_type": "code",
   "execution_count": 9,
   "id": "5b86540b-c9c2-4e64-81ac-28b65a2b592b",
   "metadata": {
    "colab": {
     "base_uri": "https://localhost:8080/"
    },
    "id": "5b86540b-c9c2-4e64-81ac-28b65a2b592b",
    "outputId": "175f11c1-fec4-436d-f951-d32e1955776b"
   },
   "outputs": [
    {
     "name": "stdout",
     "output_type": "stream",
     "text": [
      "ARABIC\n",
      "Train dataframe:    2446 rows and 3 columns\n",
      "Dev dataframe:       467 rows and 3 columns\n",
      "--------------------------------------------\n",
      "BULGARIAN\n",
      "Train dataframe:    691 rows and 3 columns\n",
      "Dev dataframe:       306 rows and 3 columns\n",
      "--------------------------------------------\n",
      "ENGLISH\n",
      "Train dataframe:    830 rows and 3 columns\n",
      "Dev dataframe:       462 rows and 3 columns\n",
      "Test dataframe:      300 rows and 3 columns\n",
      "--------------------------------------------\n",
      "GERMAN\n",
      "Train dataframe:    800 rows and 3 columns\n",
      "Dev dataframe:       491 rows and 3 columns\n",
      "--------------------------------------------\n",
      "ITALIAN\n",
      "Train dataframe:    1613 rows and 3 columns\n",
      "Dev dataframe:       667 rows and 3 columns\n",
      "Test dataframe:      299 rows and 3 columns\n",
      "--------------------------------------------\n",
      "MULTILINGUAL\n",
      "Test dataframe:      1982 rows and 3 columns\n",
      "--------------------------------------------\n",
      "GREEK\n",
      "Test dataframe:      284 rows and 3 columns\n",
      "--------------------------------------------\n",
      "POLISH\n",
      "Test dataframe:      351 rows and 3 columns\n",
      "--------------------------------------------\n",
      "ROMANIAN\n",
      "Test dataframe:      206 rows and 3 columns\n",
      "--------------------------------------------\n",
      "UKRAINIAN\n",
      "Test dataframe:      297 rows and 3 columns\n",
      "--------------------------------------------\n"
     ]
    }
   ],
   "source": [
    "print(\"ARABIC\")\n",
    "print_shape(df_train_ar, df_dev_ar, None)\n",
    "print(\"BULGARIAN\")\n",
    "print_shape(df_train_bg, df_dev_bg, None)\n",
    "print(\"ENGLISH\")\n",
    "print_shape(df_train_en, df_dev_en, df_test_en)\n",
    "print(\"GERMAN\")\n",
    "print_shape(df_train_de, df_dev_de, None)\n",
    "print(\"ITALIAN\")\n",
    "print_shape(df_train_it, df_dev_it, df_test_it)\n",
    "print(\"MULTILINGUAL\")\n",
    "print_shape(None, None, df_test_multi)\n",
    "print(\"GREEK\")\n",
    "print_shape(None, None, df_test_gr)\n",
    "print(\"POLISH\")\n",
    "print_shape(None, None, df_test_pol)\n",
    "print(\"ROMANIAN\")\n",
    "print_shape(None, None, df_test_ro)\n",
    "print(\"UKRAINIAN\")\n",
    "print_shape(None, None, df_test_ukr)"
   ]
  },
  {
   "cell_type": "code",
   "execution_count": 10,
   "id": "8ebff4fe-418f-4c84-b600-4726fde0082e",
   "metadata": {
    "id": "8ebff4fe-418f-4c84-b600-4726fde0082e"
   },
   "outputs": [],
   "source": [
    "# Keep the original sentence for error analysis\n",
    "original_sentence_en = df_test_en[\"sentence\"]\n",
    "# Keep the original sentence for error analysis\n",
    "original_sentence_it = df_test_it[\"sentence\"]"
   ]
  },
  {
   "cell_type": "markdown",
   "id": "iUFKhQyuL-IQ",
   "metadata": {
    "id": "iUFKhQyuL-IQ"
   },
   "source": [
    "### Utils"
   ]
  },
  {
   "cell_type": "code",
   "execution_count": 11,
   "id": "d02eb092-62f5-4fd4-b741-ae9d112175f5",
   "metadata": {
    "id": "d02eb092-62f5-4fd4-b741-ae9d112175f5"
   },
   "outputs": [],
   "source": [
    "def plot_confusion_matrix(model, results):\n",
    "    cm = confusion_matrix(results[\"true_label\"], results[\"predicted_label\"], labels=[0, 1])\n",
    "    cmd = ConfusionMatrixDisplay(cm, display_labels=[\"Subjective\", \"Objective\"])\n",
    "    cmd.plot(cmap=\"Blues\")\n",
    "    plt.xlabel('Predicted Label', fontsize=18, labelpad=14)\n",
    "    plt.ylabel('True Label', fontsize=18, labelpad=14)\n",
    "    plt.xticks(fontsize=14)\n",
    "    plt.yticks(fontsize=14)\n",
    "#    plt.title(f\"{model}: Confusion Matrix\")\n",
    "#    plt.savefig(f\"outputs/cm_{model}.png\", bbox_inches='tight')\n",
    "    plt.show()\n",
    "\n",
    "    cm = confusion_matrix(results[\"true_label\"], results[\"predicted_label\"], labels=[0, 1], normalize='all')\n",
    "    cmd = ConfusionMatrixDisplay(cm, display_labels=[\"Subjective\", \"Objective\"])\n",
    "    cmd.plot(cmap=\"Blues\")\n",
    "    plt.xlabel('Predicted Label', fontsize=18, labelpad=14)\n",
    "    plt.ylabel('True Label', fontsize=18, labelpad=14)\n",
    "    plt.xticks(fontsize=14)\n",
    "    plt.yticks(fontsize=14)\n",
    "#    plt.title(f\"{model}: Normalized Confusion Matrix\")\n",
    "#    plt.savefig(f\"outputs/cm_{model}_norm.png\", bbox_inches='tight')\n",
    "    plt.show()\n",
    "\n",
    "def plot_precision_recall_curve(model, precision, recall, average_precision):\n",
    "    # Plot the Precision-Recall curve\n",
    "    plt.figure()\n",
    "    plt.step(recall, precision, color='b', alpha=0.2, where='post')\n",
    "    plt.fill_between(recall, precision, step='post', alpha=0.2, color='b')\n",
    "    plt.xlabel('Recall')\n",
    "    plt.ylabel('Precision')\n",
    "    plt.title(f'{model}: Precision-Recall Curve (AP = {average_precision:.2f})')\n",
    "    # plt.savefig(f\"outputs/pr_curve_{model}.png\")\n",
    "    plt.show()"
   ]
  },
  {
   "cell_type": "markdown",
   "id": "dd247422-f7b5-4c36-9902-1ffa63e0bae7",
   "metadata": {
    "id": "dd247422-f7b5-4c36-9902-1ffa63e0bae7"
   },
   "source": [
    "## Solution 1: Transformer"
   ]
  },
  {
   "cell_type": "markdown",
   "id": "e0eae923-21b7-433d-8c09-2e793f56d30c",
   "metadata": {
    "id": "e0eae923-21b7-433d-8c09-2e793f56d30c"
   },
   "source": [
    "### Utils"
   ]
  },
  {
   "cell_type": "code",
   "execution_count": 13,
   "id": "3baf96a5-d69c-49a5-8149-479312910895",
   "metadata": {
    "colab": {
     "base_uri": "https://localhost:8080/"
    },
    "id": "3baf96a5-d69c-49a5-8149-479312910895",
    "outputId": "c517a9ac-2ed2-4e7f-b24c-d1faccfa1be5"
   },
   "outputs": [
    {
     "name": "stdout",
     "output_type": "stream",
     "text": [
      "Collecting evaluate\n",
      "  Downloading evaluate-0.4.3-py3-none-any.whl.metadata (9.2 kB)\n",
      "Requirement already satisfied: datasets>=2.0.0 in /usr/local/lib/python3.11/dist-packages (from evaluate) (2.14.4)\n",
      "Requirement already satisfied: numpy>=1.17 in /usr/local/lib/python3.11/dist-packages (from evaluate) (2.0.2)\n",
      "Requirement already satisfied: dill in /usr/local/lib/python3.11/dist-packages (from evaluate) (0.3.7)\n",
      "Requirement already satisfied: pandas in /usr/local/lib/python3.11/dist-packages (from evaluate) (2.2.2)\n",
      "Requirement already satisfied: requests>=2.19.0 in /usr/local/lib/python3.11/dist-packages (from evaluate) (2.32.3)\n",
      "Requirement already satisfied: tqdm>=4.62.1 in /usr/local/lib/python3.11/dist-packages (from evaluate) (4.67.1)\n",
      "Requirement already satisfied: xxhash in /usr/local/lib/python3.11/dist-packages (from evaluate) (3.5.0)\n",
      "Requirement already satisfied: multiprocess in /usr/local/lib/python3.11/dist-packages (from evaluate) (0.70.15)\n",
      "Requirement already satisfied: fsspec>=2021.05.0 in /usr/local/lib/python3.11/dist-packages (from fsspec[http]>=2021.05.0->evaluate) (2025.3.2)\n",
      "Requirement already satisfied: huggingface-hub>=0.7.0 in /usr/local/lib/python3.11/dist-packages (from evaluate) (0.31.4)\n",
      "Requirement already satisfied: packaging in /usr/local/lib/python3.11/dist-packages (from evaluate) (24.2)\n",
      "Requirement already satisfied: pyarrow>=8.0.0 in /usr/local/lib/python3.11/dist-packages (from datasets>=2.0.0->evaluate) (18.1.0)\n",
      "Requirement already satisfied: aiohttp in /usr/local/lib/python3.11/dist-packages (from datasets>=2.0.0->evaluate) (3.11.15)\n",
      "Requirement already satisfied: pyyaml>=5.1 in /usr/local/lib/python3.11/dist-packages (from datasets>=2.0.0->evaluate) (6.0.2)\n",
      "Requirement already satisfied: filelock in /usr/local/lib/python3.11/dist-packages (from huggingface-hub>=0.7.0->evaluate) (3.18.0)\n",
      "Requirement already satisfied: typing-extensions>=3.7.4.3 in /usr/local/lib/python3.11/dist-packages (from huggingface-hub>=0.7.0->evaluate) (4.13.2)\n",
      "Requirement already satisfied: charset-normalizer<4,>=2 in /usr/local/lib/python3.11/dist-packages (from requests>=2.19.0->evaluate) (3.4.2)\n",
      "Requirement already satisfied: idna<4,>=2.5 in /usr/local/lib/python3.11/dist-packages (from requests>=2.19.0->evaluate) (3.10)\n",
      "Requirement already satisfied: urllib3<3,>=1.21.1 in /usr/local/lib/python3.11/dist-packages (from requests>=2.19.0->evaluate) (2.4.0)\n",
      "Requirement already satisfied: certifi>=2017.4.17 in /usr/local/lib/python3.11/dist-packages (from requests>=2.19.0->evaluate) (2025.4.26)\n",
      "Requirement already satisfied: python-dateutil>=2.8.2 in /usr/local/lib/python3.11/dist-packages (from pandas->evaluate) (2.9.0.post0)\n",
      "Requirement already satisfied: pytz>=2020.1 in /usr/local/lib/python3.11/dist-packages (from pandas->evaluate) (2025.2)\n",
      "Requirement already satisfied: tzdata>=2022.7 in /usr/local/lib/python3.11/dist-packages (from pandas->evaluate) (2025.2)\n",
      "Requirement already satisfied: aiohappyeyeballs>=2.3.0 in /usr/local/lib/python3.11/dist-packages (from aiohttp->datasets>=2.0.0->evaluate) (2.6.1)\n",
      "Requirement already satisfied: aiosignal>=1.1.2 in /usr/local/lib/python3.11/dist-packages (from aiohttp->datasets>=2.0.0->evaluate) (1.3.2)\n",
      "Requirement already satisfied: attrs>=17.3.0 in /usr/local/lib/python3.11/dist-packages (from aiohttp->datasets>=2.0.0->evaluate) (25.3.0)\n",
      "Requirement already satisfied: frozenlist>=1.1.1 in /usr/local/lib/python3.11/dist-packages (from aiohttp->datasets>=2.0.0->evaluate) (1.6.0)\n",
      "Requirement already satisfied: multidict<7.0,>=4.5 in /usr/local/lib/python3.11/dist-packages (from aiohttp->datasets>=2.0.0->evaluate) (6.4.4)\n",
      "Requirement already satisfied: propcache>=0.2.0 in /usr/local/lib/python3.11/dist-packages (from aiohttp->datasets>=2.0.0->evaluate) (0.3.1)\n",
      "Requirement already satisfied: yarl<2.0,>=1.17.0 in /usr/local/lib/python3.11/dist-packages (from aiohttp->datasets>=2.0.0->evaluate) (1.20.0)\n",
      "Requirement already satisfied: six>=1.5 in /usr/local/lib/python3.11/dist-packages (from python-dateutil>=2.8.2->pandas->evaluate) (1.17.0)\n",
      "Downloading evaluate-0.4.3-py3-none-any.whl (84 kB)\n",
      "\u001b[2K   \u001b[90m━━━━━━━━━━━━━━━━━━━━━━━━━━━━━━━━━━━━━━━━\u001b[0m \u001b[32m84.0/84.0 kB\u001b[0m \u001b[31m8.3 MB/s\u001b[0m eta \u001b[36m0:00:00\u001b[0m\n",
      "\u001b[?25hInstalling collected packages: evaluate\n",
      "Successfully installed evaluate-0.4.3\n"
     ]
    }
   ],
   "source": [
    "# !pip install transformers\n",
    "# !pip install datasets\n",
    "# !pip install accelerate -U\n",
    "!pip install evaluate\n",
    "# !pip install bitsandbytes\n",
    "# !pip install tf-keras\n",
    "# !pip install sentencepiece\n",
    "# !pip install sentence_transformers"
   ]
  },
  {
   "cell_type": "code",
   "execution_count": 14,
   "id": "af16334d-c3f6-4e63-b4fd-14e54934ea68",
   "metadata": {
    "id": "af16334d-c3f6-4e63-b4fd-14e54934ea68"
   },
   "outputs": [],
   "source": [
    "import evaluate\n",
    "import matplotlib.pyplot as plt\n",
    "import numpy as np\n",
    "import os\n",
    "import seaborn as sns\n",
    "import shutil\n",
    "import torch\n",
    "\n",
    "from datasets import Dataset\n",
    "from transformers import (\n",
    "    AutoTokenizer,\n",
    "    AutoModelForSequenceClassification,\n",
    "    Trainer,\n",
    "    TrainingArguments,\n",
    "    DataCollatorWithPadding\n",
    ")\n",
    "from sklearn.metrics import classification_report\n",
    "from sklearn.metrics import confusion_matrix, ConfusionMatrixDisplay\n",
    "from sklearn.metrics import precision_recall_curve, average_precision_score, auc"
   ]
  },
  {
   "cell_type": "code",
   "execution_count": 15,
   "id": "6b6b1d5f-7aad-449e-b794-5a5843b4ba4c",
   "metadata": {
    "colab": {
     "base_uri": "https://localhost:8080/",
     "height": 173,
     "referenced_widgets": [
      "5624717c848c415689874b77efce864a",
      "206284f0d1aa4b60a6bb8c28b7ca4747",
      "98eb1473520547cb85976d45babefbd0",
      "8c4c94bef9da4b4bb415ac26bd414d02",
      "d34c924d6be44289bc7779af3b1db5f0",
      "77d49eac6e6244198c074f2975423632",
      "acf6efe1bce84f90aa43b8376a75d1a0",
      "a7743f990159483db7054d3446689d5c",
      "ba6c1517b8ab4f2dbbbc47d983ac9a4e",
      "00730734725a473db059e25e29967fef",
      "77610a0ea910437e87d32047fdaeb6d0"
     ]
    },
    "id": "6b6b1d5f-7aad-449e-b794-5a5843b4ba4c",
    "outputId": "73b61533-06e7-442c-e3f6-431b9d4bc8ef"
   },
   "outputs": [
    {
     "name": "stderr",
     "output_type": "stream",
     "text": [
      "/usr/local/lib/python3.11/dist-packages/huggingface_hub/utils/_auth.py:94: UserWarning: \n",
      "The secret `HF_TOKEN` does not exist in your Colab secrets.\n",
      "To authenticate with the Hugging Face Hub, create a token in your settings tab (https://huggingface.co/settings/tokens), set it as secret in your Google Colab and restart your session.\n",
      "You will be able to reuse this secret in all of your notebooks.\n",
      "Please note that authentication is recommended but still optional to access public models or datasets.\n",
      "  warnings.warn(\n"
     ]
    },
    {
     "data": {
      "application/vnd.jupyter.widget-view+json": {
       "model_id": "5624717c848c415689874b77efce864a",
       "version_major": 2,
       "version_minor": 0
      },
      "text/plain": [
       "Downloading builder script:   0%|          | 0.00/6.79k [00:00<?, ?B/s]"
      ]
     },
     "metadata": {},
     "output_type": "display_data"
    }
   ],
   "source": [
    "def preprocess_function(examples):\n",
    "    return tokenizer(examples[\"sentence\"], truncation=True, padding=True)\n",
    "\n",
    "# Metrics\n",
    "f1_metric = evaluate.load(\"f1\")\n",
    "def compute_metrics(eval_pred):\n",
    "    logits, labels = eval_pred\n",
    "    preds = np.argmax(logits, axis=-1)\n",
    "    result = f1_metric.compute(predictions=preds, references=labels, average=\"macro\")\n",
    "    return {\"f1_macro\": result[\"f1\"]}"
   ]
  },
  {
   "cell_type": "code",
   "execution_count": 16,
   "id": "bWDeOVb3_Yya",
   "metadata": {
    "colab": {
     "base_uri": "https://localhost:8080/"
    },
    "id": "bWDeOVb3_Yya",
    "outputId": "2adfd783-9faa-4494-8cbf-8d5e019d621e"
   },
   "outputs": [
    {
     "name": "stdout",
     "output_type": "stream",
     "text": [
      "GPU is available: Tesla T4\n"
     ]
    }
   ],
   "source": [
    "import torch\n",
    "\n",
    "if torch.cuda.is_available():\n",
    "    print(f\"GPU is available: {torch.cuda.get_device_name(0)}\")\n",
    "else:\n",
    "    print(\"GPU not available.\")"
   ]
  },
  {
   "cell_type": "markdown",
   "id": "82806704-06b2-4141-8544-b080e8245e3c",
   "metadata": {
    "id": "82806704-06b2-4141-8544-b080e8245e3c"
   },
   "source": [
    "### Monolingual"
   ]
  },
  {
   "cell_type": "markdown",
   "id": "04e18a9d-1ccf-4dd8-9b7f-6d9cfadd2c19",
   "metadata": {
    "id": "04e18a9d-1ccf-4dd8-9b7f-6d9cfadd2c19"
   },
   "source": [
    "#### English"
   ]
  },
  {
   "cell_type": "code",
   "execution_count": 17,
   "id": "1cc0b29d-b4e8-43b5-94c3-7f39503c6c9a",
   "metadata": {
    "id": "1cc0b29d-b4e8-43b5-94c3-7f39503c6c9a"
   },
   "outputs": [],
   "source": [
    "dataset_train = Dataset.from_pandas(df_train_en)\n",
    "dataset_val = Dataset.from_pandas(df_dev_en)\n",
    "dataset_test = Dataset.from_pandas(df_test_en)"
   ]
  },
  {
   "cell_type": "code",
   "execution_count": 18,
   "id": "198a117a-6127-458a-b509-33c82aef076d",
   "metadata": {
    "colab": {
     "base_uri": "https://localhost:8080/",
     "height": 241,
     "referenced_widgets": [
      "4f5c2546862b4a5e84aef302fe2763a2",
      "4119f1c2867e41f295f65aa50ae72d33",
      "af9253efd72b45ccb5e65e07bb64d9bb",
      "bfd8565181c3468ea19e497ff1ffa066",
      "1f46b7a8b35249d39d8b9e45e29a0e73",
      "4bd5be1d9e0c4e80bbb3e5bb21deb889",
      "154354ca22f640158d1c656b977aa1dd",
      "b23368bdbba2428dac2df7395217141c",
      "ea358f38c75b43bfb123e0b75b4fb0bc",
      "082ae5c396e54a6f8ddc2fee2d579020",
      "529ab68d88974404885a2c12d95c45f6",
      "8fa73322f0594c58b9524485feb4d5f8",
      "d42c0c919c0d4a0abcdaa0bdca360e48",
      "7f3987349e3e4f0387f5730410a8c544",
      "6d2f82e7ba6d44429fc9d7def5aecd0d",
      "3206c51d243843e4960785663dab31e1",
      "4adbdc817ea94be790357fe84c23aa24",
      "a4140334b1e049939f804f0588554d50",
      "3c1871872c134698b6bb1bcc14ae6c05",
      "89f686c9b6f64f5da30def5a0c3dfebc",
      "679d6a83015340f599dfbf52fbabe3a6",
      "454e6a1b65fa47dc8e8eddcfc0ab9aac",
      "c501cad2cb8d4fa39c384d709e8bd093",
      "60f6a12df3b14ee59850554e03f1af94",
      "095b6d00356244258c9a8d74a663b9d7",
      "aeb0c01df3c2448d9ccc6558fe91cdbb",
      "9da59f51f9cc43d49462ad9162056292",
      "eface0f25ccf4dbba23881a6f266af1f",
      "573a051a38fb4c918c053349dbe0b48a",
      "766b66c3c4694a80a10f1163f36a2f31",
      "192fe0c2004b43c9a66e732c176ed9c5",
      "08c434660dab447aaa3d7ad9041c43fb",
      "5c89797cce78466ba3ea3d1d29c39bef",
      "6bd695cc9f9144ad90d1e5dedd5ae3e3",
      "1f1176f663f94cd0938b09109c79ca9d",
      "2efa93cd656a427aa55fe85a35b002b6",
      "81e6f4a7e2ae4483b133aa8196393a60",
      "985211316cdb46e7b80caa32b2d97690",
      "fc56d2edc68147aea7b273618779624a",
      "687fb2161a8b4b0ca95a7aca863206af",
      "e5128b36c28d4bfaa1decd016bde1792",
      "9e05567b08cc4a3c9d001b3b22f7371d",
      "258c4b2e08fe49e6beb6661b888a9cae",
      "49d4363d942f44e7af8c3b56437e709a",
      "2b692b34eac14e6294da2b187af7ec3c",
      "5ce41c97d8d148a692093473a7866106",
      "f49f96419ca749558effd42ba2601795",
      "0a647404b3304d2eb8a14524aacdd351",
      "973e95ab7ea74c9e85f93bf748076605",
      "9a53cb63d02944fab09c60825aa42d7b",
      "54b6a571b61643babb938dd04c39efdf",
      "19fdf0e838d440a9b2d3ee9fdf6136d8",
      "21bb9876809c45ecb05344337eef4acf",
      "a1fb02d66d6040ceb28af9fe3e123a96",
      "b0b303ff5ce24fdd8624fe95518564ee",
      "cd14b0ca3bf540bdb860f7bedb642a0c",
      "3290756b5d664e37bf7563ff0fdd73a4",
      "0ef677603a0e4ffaaebd53a40f248816",
      "6200fe883caa4e659cb349815d6d3ed3",
      "d48cf2594874405caa3ab150b9835df3",
      "b8f15359ec684f96932b9fe4f1954dd2",
      "279c0ab6757a499c9121af75a10cbf7d",
      "541a96c3e6ea4bf3afab8385e6be1071",
      "16675cfa310f42829e1eb65be0bda367",
      "c256909dae4a49898a70914ffc6559b3",
      "f0e4c3cbae8c421eb3397aa9092b8d35",
      "ce2ac83781fa4d969dbfbdfda5a279f0",
      "10a62f9522a84476a3329da25823d0b4",
      "97d7e08a56ac4611a4c214523899f890",
      "d9a0d4568eaa45899ee18a9fcfb0e2d0",
      "9548ec838dd64f0c861e78742095a9c8",
      "c5520e8a0c044a28a3c31cbf0314b350",
      "86e70085d9b44937aa2e75b316f71e46",
      "f660fdb517624db0a7666e69c9ef3274",
      "99bdaa9d41004b5fa39fb1ba7b27589f",
      "4979de10b20d4162915629c704ddf11f",
      "6da18395ef434ee0a3de37a2b169dfa2"
     ]
    },
    "id": "198a117a-6127-458a-b509-33c82aef076d",
    "outputId": "0cf44301-7372-4020-8cdc-ab75692ed26c"
   },
   "outputs": [
    {
     "data": {
      "application/vnd.jupyter.widget-view+json": {
       "model_id": "4f5c2546862b4a5e84aef302fe2763a2",
       "version_major": 2,
       "version_minor": 0
      },
      "text/plain": [
       "tokenizer_config.json:   0%|          | 0.00/49.0 [00:00<?, ?B/s]"
      ]
     },
     "metadata": {},
     "output_type": "display_data"
    },
    {
     "data": {
      "application/vnd.jupyter.widget-view+json": {
       "model_id": "8fa73322f0594c58b9524485feb4d5f8",
       "version_major": 2,
       "version_minor": 0
      },
      "text/plain": [
       "config.json:   0%|          | 0.00/625 [00:00<?, ?B/s]"
      ]
     },
     "metadata": {},
     "output_type": "display_data"
    },
    {
     "data": {
      "application/vnd.jupyter.widget-view+json": {
       "model_id": "c501cad2cb8d4fa39c384d709e8bd093",
       "version_major": 2,
       "version_minor": 0
      },
      "text/plain": [
       "vocab.txt:   0%|          | 0.00/996k [00:00<?, ?B/s]"
      ]
     },
     "metadata": {},
     "output_type": "display_data"
    },
    {
     "data": {
      "application/vnd.jupyter.widget-view+json": {
       "model_id": "6bd695cc9f9144ad90d1e5dedd5ae3e3",
       "version_major": 2,
       "version_minor": 0
      },
      "text/plain": [
       "tokenizer.json:   0%|          | 0.00/1.96M [00:00<?, ?B/s]"
      ]
     },
     "metadata": {},
     "output_type": "display_data"
    },
    {
     "data": {
      "application/vnd.jupyter.widget-view+json": {
       "model_id": "2b692b34eac14e6294da2b187af7ec3c",
       "version_major": 2,
       "version_minor": 0
      },
      "text/plain": [
       "Map:   0%|          | 0/830 [00:00<?, ? examples/s]"
      ]
     },
     "metadata": {},
     "output_type": "display_data"
    },
    {
     "data": {
      "application/vnd.jupyter.widget-view+json": {
       "model_id": "cd14b0ca3bf540bdb860f7bedb642a0c",
       "version_major": 2,
       "version_minor": 0
      },
      "text/plain": [
       "Map:   0%|          | 0/462 [00:00<?, ? examples/s]"
      ]
     },
     "metadata": {},
     "output_type": "display_data"
    },
    {
     "data": {
      "application/vnd.jupyter.widget-view+json": {
       "model_id": "ce2ac83781fa4d969dbfbdfda5a279f0",
       "version_major": 2,
       "version_minor": 0
      },
      "text/plain": [
       "Map:   0%|          | 0/300 [00:00<?, ? examples/s]"
      ]
     },
     "metadata": {},
     "output_type": "display_data"
    }
   ],
   "source": [
    "# Load tokenizer\n",
    "tokenizer = AutoTokenizer.from_pretrained(\"bert-base-multilingual-cased\")\n",
    "\n",
    "tokenized_train = dataset_train.map(preprocess_function, batched=True)\n",
    "tokenized_val = dataset_val.map(preprocess_function, batched=True)\n",
    "tokenized_test = dataset_test.map(preprocess_function, batched=True)"
   ]
  },
  {
   "cell_type": "code",
   "execution_count": 19,
   "id": "d39472c2-a8f2-4493-b815-f360616fa2d5",
   "metadata": {
    "colab": {
     "base_uri": "https://localhost:8080/",
     "height": 138,
     "referenced_widgets": [
      "015a52dfbfe04973b619f464e1fa5fab",
      "c5716ed11b66495d89f6f969a51655d5",
      "8f12c1d502534d82807a19415542ee67",
      "4149d612557842c0991b8427a29af501",
      "fb3629ebe7ea4d2490f25072c52609a3",
      "bda790e985ed4ade93628d988900da06",
      "3d395caa3e9740b8b971af5798bad9b1",
      "89fe748cce10496c8241a13a96b56df5",
      "c853df2b6504424d974f84bd5ced04d7",
      "f5372a2a57c549ebad42cbdf09fca782",
      "acb5f47540474a59a58f1fa98a36df47"
     ]
    },
    "id": "d39472c2-a8f2-4493-b815-f360616fa2d5",
    "outputId": "3d999783-c79d-493c-e7e6-5f48ee75b832"
   },
   "outputs": [
    {
     "name": "stderr",
     "output_type": "stream",
     "text": [
      "Xet Storage is enabled for this repo, but the 'hf_xet' package is not installed. Falling back to regular HTTP download. For better performance, install the package with: `pip install huggingface_hub[hf_xet]` or `pip install hf_xet`\n",
      "WARNING:huggingface_hub.file_download:Xet Storage is enabled for this repo, but the 'hf_xet' package is not installed. Falling back to regular HTTP download. For better performance, install the package with: `pip install huggingface_hub[hf_xet]` or `pip install hf_xet`\n"
     ]
    },
    {
     "data": {
      "application/vnd.jupyter.widget-view+json": {
       "model_id": "015a52dfbfe04973b619f464e1fa5fab",
       "version_major": 2,
       "version_minor": 0
      },
      "text/plain": [
       "model.safetensors:   0%|          | 0.00/714M [00:00<?, ?B/s]"
      ]
     },
     "metadata": {},
     "output_type": "display_data"
    },
    {
     "name": "stderr",
     "output_type": "stream",
     "text": [
      "Some weights of BertForSequenceClassification were not initialized from the model checkpoint at bert-base-multilingual-cased and are newly initialized: ['classifier.bias', 'classifier.weight']\n",
      "You should probably TRAIN this model on a down-stream task to be able to use it for predictions and inference.\n"
     ]
    }
   ],
   "source": [
    "# Load model\n",
    "model = AutoModelForSequenceClassification.from_pretrained(\"bert-base-multilingual-cased\", num_labels=2)"
   ]
  },
  {
   "cell_type": "code",
   "execution_count": 20,
   "id": "031455a1-033b-453d-845a-d92540302d4e",
   "metadata": {
    "id": "031455a1-033b-453d-845a-d92540302d4e"
   },
   "outputs": [],
   "source": [
    "# Training Arguments\n",
    "training_args = TrainingArguments(\n",
    "    output_dir=\"results\",\n",
    "    eval_strategy=\"epoch\",\n",
    "    save_strategy=\"epoch\",\n",
    "    logging_dir=\"logs\",\n",
    "    learning_rate=2e-5,\n",
    "    per_device_train_batch_size=16,\n",
    "    per_device_eval_batch_size=16,\n",
    "    num_train_epochs=3,\n",
    "    weight_decay=0.01,\n",
    "    load_best_model_at_end=True,\n",
    "    metric_for_best_model=\"f1_macro\",\n",
    "    report_to=\"none\",\n",
    ")"
   ]
  },
  {
   "cell_type": "code",
   "execution_count": 21,
   "id": "eaa3fe75-0432-41d1-b6bc-1ef2c86177c7",
   "metadata": {
    "id": "eaa3fe75-0432-41d1-b6bc-1ef2c86177c7"
   },
   "outputs": [],
   "source": [
    "# Data collator for dynamic padding\n",
    "data_collator = DataCollatorWithPadding(tokenizer=tokenizer)"
   ]
  },
  {
   "cell_type": "code",
   "execution_count": 22,
   "id": "b3b782d2-094c-49af-995e-cf2255db07a5",
   "metadata": {
    "id": "b3b782d2-094c-49af-995e-cf2255db07a5"
   },
   "outputs": [],
   "source": [
    "# Trainer\n",
    "trainer = Trainer(\n",
    "    model=model,\n",
    "    args=training_args,\n",
    "    train_dataset=tokenized_train,\n",
    "    eval_dataset=tokenized_val,\n",
    "    processing_class=tokenizer,\n",
    "    data_collator=data_collator,\n",
    "    compute_metrics=compute_metrics\n",
    ")"
   ]
  },
  {
   "cell_type": "code",
   "execution_count": 23,
   "id": "1f1fc150-5ddd-4ef9-b2b7-16edf971d0c6",
   "metadata": {
    "id": "1f1fc150-5ddd-4ef9-b2b7-16edf971d0c6"
   },
   "outputs": [],
   "source": [
    "log_dir = \"logs\"\n",
    "\n",
    "if os.path.exists(log_dir):\n",
    "    shutil.rmtree(log_dir)  # Remove old logs entirely"
   ]
  },
  {
   "cell_type": "code",
   "execution_count": 23,
   "id": "031f31f7-3cf3-4535-adce-eff71c871a8f",
   "metadata": {
    "colab": {
     "base_uri": "https://localhost:8080/",
     "height": 204
    },
    "id": "031f31f7-3cf3-4535-adce-eff71c871a8f",
    "outputId": "744888b9-674d-4bea-fedd-04ba7192997a"
   },
   "outputs": [
    {
     "data": {
      "text/html": [
       "\n",
       "    <div>\n",
       "      \n",
       "      <progress value='156' max='156' style='width:300px; height:20px; vertical-align: middle;'></progress>\n",
       "      [156/156 1:16:57, Epoch 3/3]\n",
       "    </div>\n",
       "    <table border=\"1\" class=\"dataframe\">\n",
       "  <thead>\n",
       " <tr style=\"text-align: left;\">\n",
       "      <th>Epoch</th>\n",
       "      <th>Training Loss</th>\n",
       "      <th>Validation Loss</th>\n",
       "      <th>F1 Macro</th>\n",
       "    </tr>\n",
       "  </thead>\n",
       "  <tbody>\n",
       "    <tr>\n",
       "      <td>1</td>\n",
       "      <td>No log</td>\n",
       "      <td>0.563810</td>\n",
       "      <td>0.747707</td>\n",
       "    </tr>\n",
       "    <tr>\n",
       "      <td>2</td>\n",
       "      <td>No log</td>\n",
       "      <td>0.532847</td>\n",
       "      <td>0.756256</td>\n",
       "    </tr>\n",
       "    <tr>\n",
       "      <td>3</td>\n",
       "      <td>No log</td>\n",
       "      <td>0.579390</td>\n",
       "      <td>0.758353</td>\n",
       "    </tr>\n",
       "  </tbody>\n",
       "</table><p>"
      ],
      "text/plain": [
       "<IPython.core.display.HTML object>"
      ]
     },
     "metadata": {},
     "output_type": "display_data"
    },
    {
     "data": {
      "text/plain": [
       "TrainOutput(global_step=156, training_loss=0.41407198783678884, metrics={'train_runtime': 4672.6479, 'train_samples_per_second': 0.533, 'train_steps_per_second': 0.033, 'total_flos': 200894540765400.0, 'train_loss': 0.41407198783678884, 'epoch': 3.0})"
      ]
     },
     "execution_count": 23,
     "metadata": {},
     "output_type": "execute_result"
    }
   ],
   "source": [
    "# Training\n",
    "trainer.train()"
   ]
  },
  {
   "cell_type": "code",
   "execution_count": 24,
   "id": "07951cb5-5dc8-4715-9abf-d3604252dbea",
   "metadata": {
    "colab": {
     "base_uri": "https://localhost:8080/",
     "height": 74
    },
    "id": "07951cb5-5dc8-4715-9abf-d3604252dbea",
    "outputId": "7277db18-2616-4c43-9b6d-7afd94b97e38"
   },
   "outputs": [
    {
     "data": {
      "text/html": [
       "\n",
       "    <div>\n",
       "      \n",
       "      <progress value='29' max='29' style='width:300px; height:20px; vertical-align: middle;'></progress>\n",
       "      [29/29 01:59]\n",
       "    </div>\n",
       "    "
      ],
      "text/plain": [
       "<IPython.core.display.HTML object>"
      ]
     },
     "metadata": {},
     "output_type": "display_data"
    },
    {
     "name": "stdout",
     "output_type": "stream",
     "text": [
      "Validation Metrics: {'eval_loss': 0.5793901085853577, 'eval_f1_macro': 0.7583533990830227, 'eval_runtime': 123.6526, 'eval_samples_per_second': 3.736, 'eval_steps_per_second': 0.235, 'epoch': 3.0}\n"
     ]
    }
   ],
   "source": [
    "# Evaluation\n",
    "val_metrics = trainer.evaluate()\n",
    "print(\"Validation Metrics:\", val_metrics)"
   ]
  },
  {
   "cell_type": "code",
   "execution_count": 25,
   "id": "5cc54841-73c9-48c2-bc45-cf4e7de861ba",
   "metadata": {
    "id": "5cc54841-73c9-48c2-bc45-cf4e7de861ba"
   },
   "outputs": [],
   "source": [
    "# Save model\n",
    "trainer.save_model(\"mbert-subjectivity-en\")"
   ]
  },
  {
   "cell_type": "code",
   "execution_count": 26,
   "id": "1c94d49a-90dd-41d3-bf05-bd28bfc93559",
   "metadata": {
    "colab": {
     "base_uri": "https://localhost:8080/",
     "height": 17
    },
    "id": "1c94d49a-90dd-41d3-bf05-bd28bfc93559",
    "outputId": "391d748a-37c3-4873-d3d4-de2af8c16b13"
   },
   "outputs": [
    {
     "data": {
      "text/html": [],
      "text/plain": [
       "<IPython.core.display.HTML object>"
      ]
     },
     "metadata": {},
     "output_type": "display_data"
    }
   ],
   "source": [
    "# Test Evaluation\n",
    "predictions = trainer.predict(tokenized_test)\n",
    "pred_labels = np.argmax(predictions.predictions, axis=1)\n",
    "\n",
    "submission = pd.DataFrame({\n",
    "    \"sentence_id\": df_test_en[\"sentence_id\"],\n",
    "    \"label\": [\"OBJ\" if l == 1 else \"SUBJ\" for l in pred_labels]\n",
    "})\n",
    "submission.to_csv(\"mono_en_test_predictions.tsv\", sep=\"\\t\", index=False)"
   ]
  },
  {
   "cell_type": "code",
   "execution_count": 27,
   "id": "91ac66f9-9d06-41d1-8507-ae106ef0d802",
   "metadata": {
    "colab": {
     "base_uri": "https://localhost:8080/"
    },
    "id": "91ac66f9-9d06-41d1-8507-ae106ef0d802",
    "outputId": "fdeff168-d6b0-438a-b0dc-72b7aa4bea6b"
   },
   "outputs": [
    {
     "name": "stdout",
     "output_type": "stream",
     "text": [
      "INFO : The file is properly formatted\n",
      "INFO : Started evaluating results for Task 1...\n",
      "INFO : \n",
      "            macro-F1: 0.6993\n",
      "            macro-P: 0.7001\n",
      "            macro-R: 0.6986\n",
      "            \n",
      "            SUBJ-F1: 0.5680\n",
      "            SUBJ-P: 0.5714\n",
      "            SUBJ-R: 0.5647\n",
      "            \n",
      "            accuracy: 0.7567\n",
      "        \n"
     ]
    }
   ],
   "source": [
    "# Run scorer\n",
    "# !python scorer/evaluate.py -g data/english/test_en_labeled.tsv -p mono_en_test_predictions.tsv\n",
    "!python clef2025-checkthat-lab/task1/scorer/evaluate.py \\\n",
    "    -g clef2025-checkthat-lab/task1/data/english/test_en_labeled.tsv \\\n",
    "    -p mono_en_test_predictions.tsv"
   ]
  },
  {
   "cell_type": "markdown",
   "id": "C6xHVTH-IM2d",
   "metadata": {
    "id": "C6xHVTH-IM2d"
   },
   "source": [
    "#### Error Analysis"
   ]
  },
  {
   "cell_type": "code",
   "execution_count": 28,
   "id": "l3_9WKOcJDCy",
   "metadata": {
    "id": "l3_9WKOcJDCy"
   },
   "outputs": [],
   "source": [
    "test_predictions, test_labels = predictions.predictions, predictions.label_ids"
   ]
  },
  {
   "cell_type": "code",
   "execution_count": 29,
   "id": "6jxqPhA9G6cD",
   "metadata": {
    "id": "6jxqPhA9G6cD"
   },
   "outputs": [],
   "source": [
    "# Convert predictions and labels to pandas DataFrame (Transformer)\n",
    "test_results = pd.DataFrame({\n",
    "    \"sentence\": df_test_en[\"sentence\"],\n",
    "    \"true_label\": test_labels,\n",
    "    \"predicted_label\": pred_labels\n",
    "})\n",
    "\n",
    "# Add a column to classify error types\n",
    "test_results[\"error_type\"] = np.where(\n",
    "    test_results[\"true_label\"] == test_results[\"predicted_label\"],\n",
    "    \"Correct\",\n",
    "    np.where(\n",
    "        (test_results[\"true_label\"] == 1) & (test_results[\"predicted_label\"] == 0),\n",
    "        \"False Negative\",\n",
    "        \"False Positive\"\n",
    "    )\n",
    ")"
   ]
  },
  {
   "cell_type": "code",
   "execution_count": 30,
   "id": "N3WgtgD3G_EC",
   "metadata": {
    "colab": {
     "base_uri": "https://localhost:8080/"
    },
    "id": "N3WgtgD3G_EC",
    "outputId": "15a37a26-4c97-414c-9ff2-779a5bbf8a0b"
   },
   "outputs": [
    {
     "name": "stdout",
     "output_type": "stream",
     "text": [
      "Number of False Positives (mbert): 37\n",
      "\n",
      "EXAMPLES:\n",
      "\n",
      "\tThe release this week of the new Chinese artificial intelligence (AI) tool, DeepSeek-R1, is one such moment.\n",
      "\n",
      "\tShe complains of an ‘illness’, though we’re not sure whether it’s physical or mental: it seems porous, like it has seeped into every cell of her body.\n",
      "\n",
      "\tCuba Sí, Bloqueo No\n",
      "\n",
      "\tThese examples are indicative, however, of what Labour could actually be doing — rebuilding state capacity after decades of austerity and privatisation.\n",
      "\n",
      "\tHS2 was not a failure because it included a tunnel or because it attempted to protect animal life; it failed because rail privatisation stripped the UK of the skills and public capacity to develop large-scale projects.\n",
      "\n",
      "\tAndersson is rigidly focused on the ‘stuff people care about.’\n",
      "\n",
      "\tArbitrary cuts to migration, which Reeves touted in her speech, pose challenges for sectors where there are already labour shortages, including construction.\n",
      "\n",
      "\tIn his films set in the present day, Leighs characters are stewed in the societal rot of their time.\n",
      "\n",
      "\tHer brother Maurice, played with great empathy by Timothy Spall, has patience for his family’s struggles to work through their problems, until he doesn’t:\n",
      "\n",
      "\tThe impact is staggering.\n",
      "\n"
     ]
    }
   ],
   "source": [
    "false_positives = test_results[test_results[\"error_type\"] == \"False Positive\"]\n",
    "print(f\"Number of False Positives (mbert): {false_positives.shape[0]}\")\n",
    "print(\"\\nEXAMPLES:\\n\")\n",
    "for ex in false_positives.head(10).sentence:\n",
    "    print(f\"\\t{ex}\\n\")"
   ]
  },
  {
   "cell_type": "code",
   "execution_count": 31,
   "id": "z_4PZ3wYHBHr",
   "metadata": {
    "colab": {
     "base_uri": "https://localhost:8080/"
    },
    "id": "z_4PZ3wYHBHr",
    "outputId": "c3ab945b-0d02-42a6-f8d0-268507cf4bd5"
   },
   "outputs": [
    {
     "name": "stdout",
     "output_type": "stream",
     "text": [
      "Number of False Negatives (mbert): 36\n",
      "\n",
      "EXAMPLES:\n",
      "\n",
      "\tI need  no, crave  more silence in my life.\n",
      "\n",
      "\tI would soothe my loneliness and isolation in the evenings by playing endless hours of Law & Order: Special Victims Unit just for the ambient sound – the comfort of Detectives Olivia Benson and Elliot Stabler bringing criminals of the worst kind to justice.\n",
      "\n",
      "\tAnother opponent then is still a dissenter now.\n",
      "\n",
      "\tIt must look elsewhere to make up for lost Russian gas.\n",
      "\n",
      "\tBut here we can really see what these parties do when they are in power.\n",
      "\n",
      "\tYou might have read the quote Unemployment hurts governments, inflation kills them.\n",
      "\n",
      "\tAnd because of everything that has happened [with the far-right government], we now have a lot in common in terms of policy.\n",
      "\n",
      "\tThe fuel for the far right comes from disillusionment.\n",
      "\n",
      "\tIt is wishing into existence a UK ‘Silicon Valley’ in Oxford and Cambridge, dogged by infighting, trying to get a controversial Heathrow expansion over the line, and leaning into right-wing thinktanks’ demands for planning liberalisation.\n",
      "\n",
      "\tHis actors create their characters initially based on people they know, then flesh them out through a long process of development, rehearsal and improvisation — a method pioneered on the clock of the 1970s BBC that today makes his films unusually hard to finance.\n",
      "\n"
     ]
    }
   ],
   "source": [
    "false_negatives = test_results[test_results[\"error_type\"] == \"False Negative\"]\n",
    "print(f\"Number of False Negatives (mbert): {false_negatives.shape[0]}\")\n",
    "print(\"\\nEXAMPLES:\\n\")\n",
    "for ex in false_negatives.head(10).sentence:\n",
    "    print(f\"\\t{ex}\\n\")"
   ]
  },
  {
   "cell_type": "code",
   "execution_count": 32,
   "id": "0T8cyTh7HX6m",
   "metadata": {
    "colab": {
     "base_uri": "https://localhost:8080/",
     "height": 939
    },
    "id": "0T8cyTh7HX6m",
    "outputId": "36917aaf-d000-41da-f15a-4cdb17e53313"
   },
   "outputs": [
    {
     "data": {
      "image/png": "[encoded data removed]",
      "text/plain": [
       "<Figure size 640x480 with 2 Axes>"
      ]
     },
     "metadata": {},
     "output_type": "display_data"
    },
    {
     "data": {
      "image/png": "[encoded data removed]",
      "text/plain": [
       "<Figure size 640x480 with 2 Axes>"
      ]
     },
     "metadata": {},
     "output_type": "display_data"
    }
   ],
   "source": [
    "plot_confusion_matrix(\"mbert\", test_results)"
   ]
  },
  {
   "cell_type": "code",
   "execution_count": 33,
   "id": "4uGux18rHlIa",
   "metadata": {
    "colab": {
     "base_uri": "https://localhost:8080/",
     "height": 472
    },
    "id": "4uGux18rHlIa",
    "outputId": "e16a54b3-2906-4d51-b343-d1096933a2a2"
   },
   "outputs": [
    {
     "data": {
      "image/png": "[encoded data removed]",
      "text/plain": [
       "<Figure size 640x480 with 1 Axes>"
      ]
     },
     "metadata": {},
     "output_type": "display_data"
    }
   ],
   "source": [
    "precision, recall, thresholds = precision_recall_curve(test_labels, test_predictions[:, 1])\n",
    "average_precision = average_precision_score(test_labels, test_predictions[:, 1])\n",
    "\n",
    "# Plot the Precision-Recall curve\n",
    "plot_precision_recall_curve(\"mbert\", precision, recall, average_precision)"
   ]
  },
  {
   "cell_type": "markdown",
   "id": "c9355524-9627-4924-9da0-fd20277af3c7",
   "metadata": {
    "id": "c9355524-9627-4924-9da0-fd20277af3c7"
   },
   "source": [
    "#### Italian"
   ]
  },
  {
   "cell_type": "code",
   "execution_count": 34,
   "id": "e3b55102-5f77-4b82-a5df-4dfc402d3b60",
   "metadata": {
    "id": "e3b55102-5f77-4b82-a5df-4dfc402d3b60"
   },
   "outputs": [],
   "source": [
    "dataset_train = Dataset.from_pandas(df_train_it)\n",
    "dataset_val = Dataset.from_pandas(df_dev_it)\n",
    "dataset_test = Dataset.from_pandas(df_test_it)"
   ]
  },
  {
   "cell_type": "code",
   "execution_count": 35,
   "id": "46f3f382-2aeb-4739-8ba8-70095d9ef8b8",
   "metadata": {
    "colab": {
     "base_uri": "https://localhost:8080/",
     "height": 113,
     "referenced_widgets": [
      "cf989deebbf74c4f8b243ca82c5391e2",
      "2c1b87426f1d44f2a764bdf4d8ae4517",
      "d53236ca02734db3af3f56439c9391f3",
      "504b50f7ad8f4ea0a33ea2c2b0969455",
      "8fe4dece1922424abba2eb0aa74fb93b",
      "b3238dede1534eb0a6d040e16fb40988",
      "a6c162d5630e4843ab8d5daa54d55fd7",
      "265c8b0a8235428ea6c8e7f60c4ad46e",
      "a3199dbbcd8b4469be3c46b2069c6d0a",
      "ae2040d06fa143d1952887f4d1119fbb",
      "3fbf40faf62946b08a43b9af7d55dd58",
      "0180bafb29aa48dd932e10ba134dd9df",
      "e09679e5ab5343e68cd40c35686a36e9",
      "0ea10d423464459988c5d72e61272e69",
      "f5fb1b39a3764068aa9fe49c76d441ef",
      "196e6765274c4172a5c58d0d42ee4b58",
      "3e464414491d4b178a7aaa92c3843e88",
      "ebb9cf6d745040a8bf98c290e7033cc2",
      "a64eb83311c745e0817a7b8a6c854a0d",
      "61c3299ce3c84a8bbf99653cccc5be06",
      "4294da0ed1664df5874515d164e89116",
      "1686fbca90f541a2a21ff8567fffae1d",
      "4d691a19b83a40b1a1ccd1c4b74814e9",
      "31628ed092ce4f5e9d653cb0576bb479",
      "9893f3fa33d14d0092cb1805e998364a",
      "329d12f80c634ece9887a1a3c01812b9",
      "7f8073cdc1b243da913ac548c652a455",
      "76de685948324b429757440f48bc7b52",
      "8aff9b807110486fb5ab05405239f385",
      "790712a4497243589e722f1579362a67",
      "2198db602e3f4ef3ac23eb0a6cd90f30",
      "b289fa207f4b4c8a8e81fd84bb4621a7",
      "6d6be3ffc7494013aa15422706dabcd2"
     ]
    },
    "id": "46f3f382-2aeb-4739-8ba8-70095d9ef8b8",
    "outputId": "41203edf-13f7-401b-9ccb-8b1c3911b58d"
   },
   "outputs": [
    {
     "data": {
      "application/vnd.jupyter.widget-view+json": {
       "model_id": "cf989deebbf74c4f8b243ca82c5391e2",
       "version_major": 2,
       "version_minor": 0
      },
      "text/plain": [
       "Map:   0%|          | 0/1613 [00:00<?, ? examples/s]"
      ]
     },
     "metadata": {},
     "output_type": "display_data"
    },
    {
     "data": {
      "application/vnd.jupyter.widget-view+json": {
       "model_id": "0180bafb29aa48dd932e10ba134dd9df",
       "version_major": 2,
       "version_minor": 0
      },
      "text/plain": [
       "Map:   0%|          | 0/667 [00:00<?, ? examples/s]"
      ]
     },
     "metadata": {},
     "output_type": "display_data"
    },
    {
     "data": {
      "application/vnd.jupyter.widget-view+json": {
       "model_id": "4d691a19b83a40b1a1ccd1c4b74814e9",
       "version_major": 2,
       "version_minor": 0
      },
      "text/plain": [
       "Map:   0%|          | 0/299 [00:00<?, ? examples/s]"
      ]
     },
     "metadata": {},
     "output_type": "display_data"
    }
   ],
   "source": [
    "# Tokenization\n",
    "tokenized_train = dataset_train.map(preprocess_function, batched=True)\n",
    "tokenized_val = dataset_val.map(preprocess_function, batched=True)\n",
    "tokenized_test = dataset_test.map(preprocess_function, batched=True)"
   ]
  },
  {
   "cell_type": "code",
   "execution_count": 36,
   "id": "14feb79e-c38d-4d7e-98dc-eb432de87699",
   "metadata": {
    "id": "14feb79e-c38d-4d7e-98dc-eb432de87699"
   },
   "outputs": [],
   "source": [
    "# Trainer\n",
    "trainer = Trainer(\n",
    "    model=model,\n",
    "    args=training_args,\n",
    "    train_dataset=tokenized_train,\n",
    "    eval_dataset=tokenized_val,\n",
    "    processing_class=tokenizer,\n",
    "    data_collator=data_collator,\n",
    "    compute_metrics=compute_metrics\n",
    ")"
   ]
  },
  {
   "cell_type": "code",
   "execution_count": 37,
   "id": "d0c100c6-c7b7-4e21-aa85-ca925daba7f6",
   "metadata": {
    "colab": {
     "base_uri": "https://localhost:8080/",
     "height": 204
    },
    "id": "d0c100c6-c7b7-4e21-aa85-ca925daba7f6",
    "outputId": "4b317fb9-9746-46f6-e9f1-ce29b15e6269"
   },
   "outputs": [
    {
     "data": {
      "text/html": [
       "\n",
       "    <div>\n",
       "      \n",
       "      <progress value='303' max='303' style='width:300px; height:20px; vertical-align: middle;'></progress>\n",
       "      [303/303 2:29:35, Epoch 3/3]\n",
       "    </div>\n",
       "    <table border=\"1\" class=\"dataframe\">\n",
       "  <thead>\n",
       " <tr style=\"text-align: left;\">\n",
       "      <th>Epoch</th>\n",
       "      <th>Training Loss</th>\n",
       "      <th>Validation Loss</th>\n",
       "      <th>F1 Macro</th>\n",
       "    </tr>\n",
       "  </thead>\n",
       "  <tbody>\n",
       "    <tr>\n",
       "      <td>1</td>\n",
       "      <td>No log</td>\n",
       "      <td>0.507518</td>\n",
       "      <td>0.706371</td>\n",
       "    </tr>\n",
       "    <tr>\n",
       "      <td>2</td>\n",
       "      <td>No log</td>\n",
       "      <td>0.577388</td>\n",
       "      <td>0.688811</td>\n",
       "    </tr>\n",
       "    <tr>\n",
       "      <td>3</td>\n",
       "      <td>No log</td>\n",
       "      <td>0.712009</td>\n",
       "      <td>0.709241</td>\n",
       "    </tr>\n",
       "  </tbody>\n",
       "</table><p>"
      ],
      "text/plain": [
       "<IPython.core.display.HTML object>"
      ]
     },
     "metadata": {},
     "output_type": "display_data"
    },
    {
     "data": {
      "text/plain": [
       "TrainOutput(global_step=303, training_loss=0.3009332084026274, metrics={'train_runtime': 8999.6326, 'train_samples_per_second': 0.538, 'train_steps_per_second': 0.034, 'total_flos': 365546047543740.0, 'train_loss': 0.3009332084026274, 'epoch': 3.0})"
      ]
     },
     "execution_count": 37,
     "metadata": {},
     "output_type": "execute_result"
    }
   ],
   "source": [
    "# Training\n",
    "trainer.train()"
   ]
  },
  {
   "cell_type": "code",
   "execution_count": 38,
   "id": "89119ae9-00fc-4275-965f-d8d0cf31c9b3",
   "metadata": {
    "id": "89119ae9-00fc-4275-965f-d8d0cf31c9b3"
   },
   "outputs": [],
   "source": [
    "log_dir = \"logs\"\n",
    "\n",
    "if os.path.exists(log_dir):\n",
    "    shutil.rmtree(log_dir)  # Remove old logs entirely"
   ]
  },
  {
   "cell_type": "code",
   "execution_count": 39,
   "id": "050f8f3f-f71c-46e3-b67c-dfd126ec40cb",
   "metadata": {
    "colab": {
     "base_uri": "https://localhost:8080/",
     "height": 74
    },
    "id": "050f8f3f-f71c-46e3-b67c-dfd126ec40cb",
    "outputId": "261137e3-4fff-4986-9f4f-51b1b5b8e4db"
   },
   "outputs": [
    {
     "data": {
      "text/html": [
       "\n",
       "    <div>\n",
       "      \n",
       "      <progress value='42' max='42' style='width:300px; height:20px; vertical-align: middle;'></progress>\n",
       "      [42/42 08:09]\n",
       "    </div>\n",
       "    "
      ],
      "text/plain": [
       "<IPython.core.display.HTML object>"
      ]
     },
     "metadata": {},
     "output_type": "display_data"
    },
    {
     "name": "stdout",
     "output_type": "stream",
     "text": [
      "Validation Metrics: {'eval_loss': 0.7120088934898376, 'eval_f1_macro': 0.7092414995640802, 'eval_runtime': 501.0687, 'eval_samples_per_second': 1.331, 'eval_steps_per_second': 0.084, 'epoch': 3.0}\n"
     ]
    }
   ],
   "source": [
    "# Evaluation\n",
    "val_metrics = trainer.evaluate()\n",
    "print(\"Validation Metrics:\", val_metrics)"
   ]
  },
  {
   "cell_type": "code",
   "execution_count": 40,
   "id": "8741f522-b1b2-4d51-9c41-a7422e5f0db9",
   "metadata": {
    "id": "8741f522-b1b2-4d51-9c41-a7422e5f0db9"
   },
   "outputs": [],
   "source": [
    "# Save model\n",
    "trainer.save_model(\"mbert-subjectivity-it\")"
   ]
  },
  {
   "cell_type": "code",
   "execution_count": 41,
   "id": "6e0f02bb-359b-460a-9b9a-77bf1ed84cc6",
   "metadata": {
    "colab": {
     "base_uri": "https://localhost:8080/",
     "height": 17
    },
    "id": "6e0f02bb-359b-460a-9b9a-77bf1ed84cc6",
    "outputId": "41191875-0f9c-4d92-d4c2-1b3c38f4b4ce"
   },
   "outputs": [
    {
     "data": {
      "text/html": [],
      "text/plain": [
       "<IPython.core.display.HTML object>"
      ]
     },
     "metadata": {},
     "output_type": "display_data"
    }
   ],
   "source": [
    "# Test Evaluation\n",
    "predictions = trainer.predict(tokenized_test)\n",
    "pred_labels = np.argmax(predictions.predictions, axis=1)\n",
    "\n",
    "submission = pd.DataFrame({\n",
    "    \"sentence_id\": df_test_it[\"sentence_id\"],\n",
    "    \"label\": [\"OBJ\" if l == 1 else \"SUBJ\" for l in pred_labels]\n",
    "})\n",
    "submission.to_csv(\"mono_it_test_predictions.tsv\", sep=\"\\t\", index=False)"
   ]
  },
  {
   "cell_type": "code",
   "execution_count": 42,
   "id": "20934fc6-916d-4d8d-bfc2-dd5f9d0d6160",
   "metadata": {
    "colab": {
     "base_uri": "https://localhost:8080/"
    },
    "id": "20934fc6-916d-4d8d-bfc2-dd5f9d0d6160",
    "outputId": "227adc72-7b30-472b-f5a6-2e684d98eeed"
   },
   "outputs": [
    {
     "name": "stdout",
     "output_type": "stream",
     "text": [
      "INFO : The file is properly formatted\n",
      "INFO : Started evaluating results for Task 1...\n",
      "INFO : \n",
      "            macro-F1: 0.7129\n",
      "            macro-P: 0.7198\n",
      "            macro-R: 0.7085\n",
      "            \n",
      "            SUBJ-F1: 0.6207\n",
      "            SUBJ-P: 0.6562\n",
      "            SUBJ-R: 0.5888\n",
      "            \n",
      "            accuracy: 0.7425\n",
      "        \n"
     ]
    }
   ],
   "source": [
    "# Run scorer\n",
    "# !python scorer/evaluate.py -g data/italian/test_it_labeled.tsv -p mono_it_test_predictions.tsv\n",
    "!python clef2025-checkthat-lab/task1/scorer/evaluate.py \\\n",
    "    -g clef2025-checkthat-lab/task1/data/italian/test_it_labeled.tsv \\\n",
    "    -p mono_it_test_predictions.tsv"
   ]
  },
  {
   "cell_type": "markdown",
   "id": "kZqqr-bLMdYR",
   "metadata": {
    "id": "kZqqr-bLMdYR"
   },
   "source": [
    "#### Error Analysis"
   ]
  },
  {
   "cell_type": "code",
   "execution_count": 43,
   "id": "2XDk2ArgMc44",
   "metadata": {
    "id": "2XDk2ArgMc44"
   },
   "outputs": [],
   "source": [
    "test_predictions, test_labels = predictions.predictions, predictions.label_ids"
   ]
  },
  {
   "cell_type": "code",
   "execution_count": 44,
   "id": "zV-K-N2GMwkw",
   "metadata": {
    "id": "zV-K-N2GMwkw"
   },
   "outputs": [],
   "source": [
    "# Convert predictions and labels to pandas DataFrame (Transformer)\n",
    "test_results = pd.DataFrame({\n",
    "    \"sentence\": df_test_it[\"sentence\"],\n",
    "    \"true_label\": test_labels,\n",
    "    \"predicted_label\": pred_labels\n",
    "})\n",
    "\n",
    "# Add a column to classify error types\n",
    "test_results[\"error_type\"] = np.where(\n",
    "    test_results[\"true_label\"] == test_results[\"predicted_label\"],\n",
    "    \"Correct\",\n",
    "    np.where(\n",
    "        (test_results[\"true_label\"] == 1) & (test_results[\"predicted_label\"] == 0),\n",
    "        \"False Negative\",\n",
    "        \"False Positive\"\n",
    "    )\n",
    ")"
   ]
  },
  {
   "cell_type": "code",
   "execution_count": 45,
   "id": "IdEqILAkMwcd",
   "metadata": {
    "colab": {
     "base_uri": "https://localhost:8080/"
    },
    "id": "IdEqILAkMwcd",
    "outputId": "c671e2af-3d20-458f-c685-ed19348b1b40"
   },
   "outputs": [
    {
     "name": "stdout",
     "output_type": "stream",
     "text": [
      "Number of False Positives (mbert): 44\n",
      "\n",
      "EXAMPLES:\n",
      "\n",
      "\tTempo al tempo vedremo.\n",
      "\n",
      "\tNelle dolomiti c'è posto per tutti.\n",
      "\n",
      "\tL'ostentazione della burineria e servizi montani penosi.\n",
      "\n",
      "\tPoi il leader M5S è durissimo con il ministro Nordio:\n",
      "\n",
      "\tConte infanga Meloni?\n",
      "\n",
      "\tIl Repower-EU ha provato a tracciare la rotta in merito all’indipendenza energetica, che tutto è tranne che autosufficienza dell’UE.\n",
      "\n",
      "\tPoi fatte le olimpiadi verrà abbondonata.\n",
      "\n",
      "\tIl sindaco Gianluca Lorenzi (domani a Milano per la festa dei -365 giorni alle Olimpiadi) si toglie un sassolino dalla scarpa («Tutti esaltavano il ghiaccio naturale di St. Moritz e volevano spostare i Giochi lì, ma la prova di Coppa del Mondo è stata appena cancellata per il caldo») e poi delinea un cronoprogramma super ambizioso:\n",
      "\n",
      "\tCapisco le polemiche, i soldi in gioco sono tanti, ma se c’è un luogo nelle Alpi che merita una pista è Cortina con i suoi cent’anni di tradizione bobbistica».\n",
      "\n",
      "\tl’offerta di Lake Placid che aveva ingolosito il Cio e umiliato noi italiani (viaggi e alberghi per gli Usa regalati dagli zii d’America, premiazione a New York) è respinta al mittente, i Giochi 2026 saranno tutti tricolori.\n",
      "\n"
     ]
    }
   ],
   "source": [
    "false_positives = test_results[test_results[\"error_type\"] == \"False Positive\"]\n",
    "print(f\"Number of False Positives (mbert): {false_positives.shape[0]}\")\n",
    "print(\"\\nEXAMPLES:\\n\")\n",
    "for ex in false_positives.head(10).sentence:\n",
    "    print(f\"\\t{ex}\\n\")"
   ]
  },
  {
   "cell_type": "code",
   "execution_count": 46,
   "id": "DF53wxzZMwVG",
   "metadata": {
    "colab": {
     "base_uri": "https://localhost:8080/"
    },
    "id": "DF53wxzZMwVG",
    "outputId": "05965467-923a-458e-fa2e-58fbc23b4944"
   },
   "outputs": [
    {
     "name": "stdout",
     "output_type": "stream",
     "text": [
      "Number of False Negatives (mbert): 33\n",
      "\n",
      "EXAMPLES:\n",
      "\n",
      "\tDalla premier \"viltà istituzionale\".\n",
      "\n",
      "\tUna possibile soluzione, e attuabile nell’immediato, è quella proposta dall’economista Gabriel Zucman.\n",
      "\n",
      "\tL'aumento del dollaro ha fanno uno sgambetto all'oro, in calo anche se marginale, dopo che settimana scorsa aveva toccato i nuovi massimi storici.\n",
      "\n",
      "\tDare del tu e chiamarsi per nome, a seconda del contesto, della relazione esistente tra i parlanti, e di molti altri fattori variabili, possono essere un modo per esprimere empatia oppure un modo di interloquire inappropriato e irrispettoso.\n",
      "\n",
      "\tIn questo quadro di competizione e guerra che coinvolge innanzitutto il mercato energetico, la narrazione Italiana costruita dal Governo Meloni sulla “sicurezza energetica” si inserisce perfettamente.\n",
      "\n",
      "\tE' quindi ipotizzabile che si assista a una fase in cui oro e dollaro si muovono nella stessa direzione, senza necessariamente influenzarsi a vicenda.\n",
      "\n",
      "\tL’attitudine a darsi del tu e chiamarsi per nome più spesso che in passato non implica che sia sempre appropriato e inoffensivo farlo\n",
      "\n",
      "\tLa spesa che non c'è\n",
      "\n",
      "\tquando il dollaro si rafforza, loro tende a indebolirsi.\n",
      "\n",
      "\tSarebbe quindi una coalizione contro cui la Svizzera non avrebbe interesse a combattere.\n",
      "\n"
     ]
    }
   ],
   "source": [
    "false_negatives = test_results[test_results[\"error_type\"] == \"False Negative\"]\n",
    "print(f\"Number of False Negatives (mbert): {false_negatives.shape[0]}\")\n",
    "print(\"\\nEXAMPLES:\\n\")\n",
    "for ex in false_negatives.head(10).sentence:\n",
    "    print(f\"\\t{ex}\\n\")"
   ]
  },
  {
   "cell_type": "code",
   "execution_count": 47,
   "id": "C9qeY_WvMwMy",
   "metadata": {
    "colab": {
     "base_uri": "https://localhost:8080/",
     "height": 939
    },
    "id": "C9qeY_WvMwMy",
    "outputId": "6ef4ac0c-7271-42d2-a6ca-60cd7c94ac56"
   },
   "outputs": [
    {
     "data": {
      "image/png": "[encoded data removed]",
      "text/plain": [
       "<Figure size 640x480 with 2 Axes>"
      ]
     },
     "metadata": {},
     "output_type": "display_data"
    },
    {
     "data": {
      "image/png": "[encoded data removed]",
      "text/plain": [
       "<Figure size 640x480 with 2 Axes>"
      ]
     },
     "metadata": {},
     "output_type": "display_data"
    }
   ],
   "source": [
    "plot_confusion_matrix(\"mbert\", test_results)"
   ]
  },
  {
   "cell_type": "code",
   "execution_count": 48,
   "id": "WEx1RdcPMwFL",
   "metadata": {
    "colab": {
     "base_uri": "https://localhost:8080/",
     "height": 472
    },
    "id": "WEx1RdcPMwFL",
    "outputId": "8591a026-20b9-438a-cf61-d72bfd1b7ff9"
   },
   "outputs": [
    {
     "data": {
      "image/png": "[encoded data removed]",
      "text/plain": [
       "<Figure size 640x480 with 1 Axes>"
      ]
     },
     "metadata": {},
     "output_type": "display_data"
    }
   ],
   "source": [
    "precision, recall, thresholds = precision_recall_curve(test_labels, test_predictions[:, 1])\n",
    "average_precision = average_precision_score(test_labels, test_predictions[:, 1])\n",
    "\n",
    "# Plot the Precision-Recall curve\n",
    "plot_precision_recall_curve(\"mbert\", precision, recall, average_precision)"
   ]
  },
  {
   "cell_type": "markdown",
   "id": "a2f6df95-c02d-438f-83df-e868227dc048",
   "metadata": {
    "id": "a2f6df95-c02d-438f-83df-e868227dc048"
   },
   "source": [
    "### Multilungual"
   ]
  },
  {
   "cell_type": "code",
   "execution_count": 24,
   "id": "f29026c5-6a8d-4176-a0e4-46ced3d3ed28",
   "metadata": {
    "id": "f29026c5-6a8d-4176-a0e4-46ced3d3ed28"
   },
   "outputs": [],
   "source": [
    "# Combine Multilingual Training Data\n",
    "df_train_multi = pd.concat([df_train_ar, df_train_bg, df_train_en, df_train_de, df_train_it])\n",
    "df_dev_multi = pd.concat([df_dev_ar, df_dev_bg, df_dev_en, df_dev_de, df_dev_it])"
   ]
  },
  {
   "cell_type": "code",
   "execution_count": 25,
   "id": "de8c9563-d44f-4247-84bb-0089f373cd68",
   "metadata": {
    "id": "de8c9563-d44f-4247-84bb-0089f373cd68"
   },
   "outputs": [],
   "source": [
    "dataset_train = Dataset.from_pandas(df_train_multi)\n",
    "dataset_val = Dataset.from_pandas(df_dev_multi)\n",
    "dataset_test = Dataset.from_pandas(df_test_multi)"
   ]
  },
  {
   "cell_type": "code",
   "execution_count": 26,
   "id": "24a96301-0307-47a2-a170-7ae3dd9a54c5",
   "metadata": {
    "colab": {
     "base_uri": "https://localhost:8080/",
     "height": 113,
     "referenced_widgets": [
      "4bce56f768844dcfbad725cad43ba434",
      "ff60b9ef45924b82b2b75f03e06f6457",
      "9d6339f0825a4a738ba5d65abb6786c4",
      "f37f72bf662447edb0991f15b0930405",
      "f80c329a78b24bf085f2894faf331823",
      "f30de19488034ccd99e337db28fc3d3b",
      "50db1fcddec04d62b907ae58eb0f0cbc",
      "4743b427613040a09426bace8b1b69ad",
      "778da1157ed54fae9650c81f574bfb02",
      "708948218d0c4de58cbc842b978d96d6",
      "f01a8d32077740d397b4f2031f6d76fe",
      "38a3450efaf24bae8a437ffe17a56421",
      "8d56e6544e084544ba20fcad1907fdd8",
      "1d8a6710d03c4fdbb34de502c255e560",
      "9430d139fcc343b2a88d32e62dbfdde8",
      "6e7d258f42b94ec385f8aa742da488af",
      "d535a27abfad4651817b3e7bcf50c195",
      "128a2635d07841c694d440cb5c32a6d9",
      "385114dc0f6b49ef9e7d43b901907ae7",
      "d1bccd3d9f7f45f1ab195f7a929e7ca0",
      "67daff4f82f349e186de38fbc21461ce",
      "a22960c49cf74b449415aafd32fcef12",
      "3a6d67635b994ec885c9784dbe38d015",
      "ed55684f18cf459db32ca2a1b713141a",
      "3939e34a9b8149a2b9aa40cc4ae8e78b",
      "d4132a4865234b248609ce1779fd6c5f",
      "b66dcff8aeb34ed39220785d3c2b1664",
      "fdfd4d29b72c455f833bed32c95a1b45",
      "3a9e6f0a23574af283322392c70df2c6",
      "5a0985a72ac54f17848fd5e654385646",
      "4e2e25dc6e0b4c31b5c2f43f4bedb152",
      "be80a3cdbc5740eebc5640dea499a753",
      "604b0934488b4aa89503b99ab925a9ca"
     ]
    },
    "id": "24a96301-0307-47a2-a170-7ae3dd9a54c5",
    "outputId": "6f82fcdc-fa4f-4052-cc34-40314d3a659e"
   },
   "outputs": [
    {
     "data": {
      "application/vnd.jupyter.widget-view+json": {
       "model_id": "4bce56f768844dcfbad725cad43ba434",
       "version_major": 2,
       "version_minor": 0
      },
      "text/plain": [
       "Map:   0%|          | 0/6380 [00:00<?, ? examples/s]"
      ]
     },
     "metadata": {},
     "output_type": "display_data"
    },
    {
     "data": {
      "application/vnd.jupyter.widget-view+json": {
       "model_id": "38a3450efaf24bae8a437ffe17a56421",
       "version_major": 2,
       "version_minor": 0
      },
      "text/plain": [
       "Map:   0%|          | 0/2393 [00:00<?, ? examples/s]"
      ]
     },
     "metadata": {},
     "output_type": "display_data"
    },
    {
     "data": {
      "application/vnd.jupyter.widget-view+json": {
       "model_id": "3a6d67635b994ec885c9784dbe38d015",
       "version_major": 2,
       "version_minor": 0
      },
      "text/plain": [
       "Map:   0%|          | 0/1982 [00:00<?, ? examples/s]"
      ]
     },
     "metadata": {},
     "output_type": "display_data"
    }
   ],
   "source": [
    "# Tokenization\n",
    "tokenized_train = dataset_train.map(preprocess_function, batched=True)\n",
    "tokenized_val = dataset_val.map(preprocess_function, batched=True)\n",
    "tokenized_test = dataset_test.map(preprocess_function, batched=True)"
   ]
  },
  {
   "cell_type": "code",
   "execution_count": 28,
   "id": "506b79e3-5db9-4ae9-84e1-06f502586a9b",
   "metadata": {
    "id": "506b79e3-5db9-4ae9-84e1-06f502586a9b"
   },
   "outputs": [],
   "source": [
    "# Trainer\n",
    "trainer = Trainer(\n",
    "    model=model,\n",
    "    args=training_args,\n",
    "    train_dataset=tokenized_train,\n",
    "    eval_dataset=tokenized_val,\n",
    "    processing_class=tokenizer,\n",
    "    data_collator=data_collator,\n",
    "    compute_metrics=compute_metrics\n",
    ")"
   ]
  },
  {
   "cell_type": "code",
   "execution_count": 29,
   "id": "ddf11308-3b68-4033-be94-7f94f6d69665",
   "metadata": {
    "colab": {
     "base_uri": "https://localhost:8080/",
     "height": 204
    },
    "id": "ddf11308-3b68-4033-be94-7f94f6d69665",
    "outputId": "81449633-1ac4-4f6d-8dcf-7d6874ef3c8e"
   },
   "outputs": [
    {
     "data": {
      "text/html": [
       "\n",
       "    <div>\n",
       "      \n",
       "      <progress value='1197' max='1197' style='width:300px; height:20px; vertical-align: middle;'></progress>\n",
       "      [1197/1197 32:18, Epoch 3/3]\n",
       "    </div>\n",
       "    <table border=\"1\" class=\"dataframe\">\n",
       "  <thead>\n",
       " <tr style=\"text-align: left;\">\n",
       "      <th>Epoch</th>\n",
       "      <th>Training Loss</th>\n",
       "      <th>Validation Loss</th>\n",
       "      <th>F1 Macro</th>\n",
       "    </tr>\n",
       "  </thead>\n",
       "  <tbody>\n",
       "    <tr>\n",
       "      <td>1</td>\n",
       "      <td>No log</td>\n",
       "      <td>0.570592</td>\n",
       "      <td>0.681777</td>\n",
       "    </tr>\n",
       "    <tr>\n",
       "      <td>2</td>\n",
       "      <td>0.564800</td>\n",
       "      <td>0.560129</td>\n",
       "      <td>0.707916</td>\n",
       "    </tr>\n",
       "    <tr>\n",
       "      <td>3</td>\n",
       "      <td>0.419800</td>\n",
       "      <td>0.750581</td>\n",
       "      <td>0.697819</td>\n",
       "    </tr>\n",
       "  </tbody>\n",
       "</table><p>"
      ],
      "text/plain": [
       "<IPython.core.display.HTML object>"
      ]
     },
     "metadata": {},
     "output_type": "display_data"
    },
    {
     "data": {
      "text/plain": [
       "TrainOutput(global_step=1197, training_loss=0.4657855436218313, metrics={'train_runtime': 1941.5627, 'train_samples_per_second': 9.858, 'train_steps_per_second': 0.617, 'total_flos': 5027460268055040.0, 'train_loss': 0.4657855436218313, 'epoch': 3.0})"
      ]
     },
     "execution_count": 29,
     "metadata": {},
     "output_type": "execute_result"
    }
   ],
   "source": [
    "# Training\n",
    "trainer.train()"
   ]
  },
  {
   "cell_type": "code",
   "execution_count": 30,
   "id": "69e459fa-b305-40bd-859e-1a803f02d7bd",
   "metadata": {
    "id": "69e459fa-b305-40bd-859e-1a803f02d7bd"
   },
   "outputs": [],
   "source": [
    "log_dir = \"logs\"\n",
    "\n",
    "if os.path.exists(log_dir):\n",
    "    shutil.rmtree(log_dir)  # Remove old logs entirely"
   ]
  },
  {
   "cell_type": "code",
   "execution_count": 31,
   "id": "72d59f8c-9ec0-46b1-90a3-3015d7b1ac36",
   "metadata": {
    "colab": {
     "base_uri": "https://localhost:8080/",
     "height": 74
    },
    "id": "72d59f8c-9ec0-46b1-90a3-3015d7b1ac36",
    "outputId": "9c4f6276-f6f3-4e7a-dcec-491caf62ed25"
   },
   "outputs": [
    {
     "data": {
      "text/html": [
       "\n",
       "    <div>\n",
       "      \n",
       "      <progress value='150' max='150' style='width:300px; height:20px; vertical-align: middle;'></progress>\n",
       "      [150/150 00:34]\n",
       "    </div>\n",
       "    "
      ],
      "text/plain": [
       "<IPython.core.display.HTML object>"
      ]
     },
     "metadata": {},
     "output_type": "display_data"
    },
    {
     "name": "stdout",
     "output_type": "stream",
     "text": [
      "Validation Metrics: {'eval_loss': 0.5601294040679932, 'eval_f1_macro': 0.7079160487498246, 'eval_runtime': 35.3423, 'eval_samples_per_second': 67.709, 'eval_steps_per_second': 4.244, 'epoch': 3.0}\n"
     ]
    }
   ],
   "source": [
    "# Evaluation\n",
    "val_metrics = trainer.evaluate()\n",
    "print(\"Validation Metrics:\", val_metrics)"
   ]
  },
  {
   "cell_type": "code",
   "execution_count": 32,
   "id": "524e36c3-f10c-47ff-94de-958898da5e7d",
   "metadata": {
    "id": "524e36c3-f10c-47ff-94de-958898da5e7d"
   },
   "outputs": [],
   "source": [
    "# Save model\n",
    "trainer.save_model(\"mbert-subjectivity-multi\")"
   ]
  },
  {
   "cell_type": "code",
   "execution_count": 33,
   "id": "6ce9cc7e-3956-4299-a470-72d70d00b0d2",
   "metadata": {
    "colab": {
     "base_uri": "https://localhost:8080/",
     "height": 17
    },
    "id": "6ce9cc7e-3956-4299-a470-72d70d00b0d2",
    "outputId": "812e1581-c935-4bc4-a518-7efff3988a32"
   },
   "outputs": [
    {
     "data": {
      "text/html": [],
      "text/plain": [
       "<IPython.core.display.HTML object>"
      ]
     },
     "metadata": {},
     "output_type": "display_data"
    }
   ],
   "source": [
    "# Multilingual Test Predictions\n",
    "predictions = trainer.predict(tokenized_test)\n",
    "pred_labels = np.argmax(predictions.predictions, axis=1)\n",
    "\n",
    "submission = pd.DataFrame({\n",
    "    \"sentence_id\": df_test_multi[\"sentence_id\"],\n",
    "    \"label\": [\"OBJ\" if l == 1 else \"SUBJ\" for l in pred_labels]\n",
    "})\n",
    "submission.to_csv(\"multilingual_test_predictions.tsv\", sep=\"\\t\", index=False)"
   ]
  },
  {
   "cell_type": "code",
   "execution_count": 34,
   "id": "e188784d-9493-48d0-9e1b-4fb8d391e5bb",
   "metadata": {
    "colab": {
     "base_uri": "https://localhost:8080/"
    },
    "id": "e188784d-9493-48d0-9e1b-4fb8d391e5bb",
    "outputId": "c575bacc-34a0-47f8-b4e2-caecaf95c2b6"
   },
   "outputs": [
    {
     "name": "stdout",
     "output_type": "stream",
     "text": [
      "INFO : The file is properly formatted\n",
      "INFO : Started evaluating results for Task 1...\n",
      "INFO : \n",
      "            macro-F1: 0.6473\n",
      "            macro-P: 0.6920\n",
      "            macro-R: 0.6377\n",
      "            \n",
      "            SUBJ-F1: 0.4719\n",
      "            SUBJ-P: 0.6233\n",
      "            SUBJ-R: 0.3796\n",
      "            \n",
      "            accuracy: 0.7346\n",
      "        \n"
     ]
    }
   ],
   "source": [
    "# Run scorer\n",
    "# !python scorer/evaluate.py -g data/multilingual/test_multilingual_labeled.tsv -p multilingual_test_predictions.tsv\n",
    "!python clef2025-checkthat-lab/task1/scorer/evaluate.py \\\n",
    "    -g clef2025-checkthat-lab/task1/data/multilingual/test_multilingual_labeled.tsv \\\n",
    "    -p multilingual_test_predictions.tsv"
   ]
  },
  {
   "cell_type": "markdown",
   "id": "ZscyDjGcPP8p",
   "metadata": {
    "id": "ZscyDjGcPP8p"
   },
   "source": [
    "#### Error Analysis"
   ]
  },
  {
   "cell_type": "code",
   "execution_count": 35,
   "id": "YdvDKMoKPDO6",
   "metadata": {
    "id": "YdvDKMoKPDO6"
   },
   "outputs": [],
   "source": [
    "test_predictions, test_labels = predictions.predictions, predictions.label_ids"
   ]
  },
  {
   "cell_type": "code",
   "execution_count": 36,
   "id": "V8phXTHFPWzb",
   "metadata": {
    "id": "V8phXTHFPWzb"
   },
   "outputs": [],
   "source": [
    "# Convert predictions and labels to pandas DataFrame (Transformer)\n",
    "test_results = pd.DataFrame({\n",
    "    \"sentence\": df_test_multi[\"sentence\"],\n",
    "    \"true_label\": test_labels,\n",
    "    \"predicted_label\": pred_labels\n",
    "})\n",
    "\n",
    "# Add a column to classify error types\n",
    "test_results[\"error_type\"] = np.where(\n",
    "    test_results[\"true_label\"] == test_results[\"predicted_label\"],\n",
    "    \"Correct\",\n",
    "    np.where(\n",
    "        (test_results[\"true_label\"] == 1) & (test_results[\"predicted_label\"] == 0),\n",
    "        \"False Negative\",\n",
    "        \"False Positive\"\n",
    "    )\n",
    ")"
   ]
  },
  {
   "cell_type": "code",
   "execution_count": 37,
   "id": "NEwxVmBQPZRJ",
   "metadata": {
    "colab": {
     "base_uri": "https://localhost:8080/"
    },
    "id": "NEwxVmBQPZRJ",
    "outputId": "8f6f6575-41aa-464d-fb4d-da69d886f41c"
   },
   "outputs": [
    {
     "name": "stdout",
     "output_type": "stream",
     "text": [
      "Number of False Positives (mbert): 384\n",
      "\n",
      "EXAMPLES:\n",
      "\n",
      "\tهل يصمد الاقتصاد الإيراني أمام حرب مع إسرائيل ؟\n",
      "\n",
      "\tEcco ad esempio che la Regione Liguria, guidata dalla destra, ha pensato bene di stanziare 220mila euro per un progetto di educazione allaffettività nelle parrocchie e negli oratori.\n",
      "\n",
      "\tويتطرق عمار إلى التأثيرات المحتملة لموقف ماسك ،  أن ذلك الموقف قد يفاقم التوتر بين واشنطن وبرلين ، خاصة في ظل حساسية المرحلة الحالية مع اقتراب الانتخابات في ألمانيا.\n",
      "\n",
      "\tIl fronte delle opposizioni va durissimo all'attacco della premier Giorgia Meloni e del governo nel dibattito alla Camera dopo le informative dei ministri Carlo Nordio e Matteo Piantedosi sul caso Almasri.\n",
      "\n",
      "\tLone shoppers lined the aisles in preparation for a Government-mandated 24-hour indoors, with several baskets piled with more food, booze and toilet rolls than any household could conceivably need during such a short time.\n",
      "\n",
      "\tويبدو أن مستوى الدوري الإنجليزي بشكل عام ونسق مانشستر يونايتد القوي هو السبب الأول في تعثر خطوات المجبري في فريق الشياطين الحمر وعدم قدرته على إثبات نفسه حتى ضمن التشكيلة الاحتياطية بحسب رأي المدير الفني السابق للاتحاد التونسي لكرة القدم كمال القلصي.\n",
      "\n",
      "\tعلى سبيل المثال ، أصبحت بكين تتوقع من زعماء العالم النامي الموافقة  على مبادرة الأمن العالمي ، التي تتعارض مبادئها مع المثل العليا والممارسات في الشؤون الدولية التي تفضلها الولايات المتحدة وحلفاؤها.\n",
      "\n",
      "\tوأضاف الركابي : تزداد مخاوف المستثمرين والشركات بزيادة الضرائب ما يؤثر  على الربحية.\n",
      "\n",
      "\tSia chiaro:\n",
      "\n",
      "\tومثال على ذلك السياسات الحمائية التي ينوي اتباعها في فرض الرسوم الجمركية على جميع المنتجات المستوردة من الخارج ، وخاصة من الصين ، إذ ينوي فرض رسوم تصل إلى 60 بالمئة.\n",
      "\n"
     ]
    }
   ],
   "source": [
    "false_positives = test_results[test_results[\"error_type\"] == \"False Positive\"]\n",
    "print(f\"Number of False Positives (mbert): {false_positives.shape[0]}\")\n",
    "print(\"\\nEXAMPLES:\\n\")\n",
    "for ex in false_positives.head(10).sentence:\n",
    "    print(f\"\\t{ex}\\n\")"
   ]
  },
  {
   "cell_type": "code",
   "execution_count": 38,
   "id": "1HARItR9PZm6",
   "metadata": {
    "colab": {
     "base_uri": "https://localhost:8080/"
    },
    "id": "1HARItR9PZm6",
    "outputId": "da2e21e2-4e2e-41ec-d6ae-887286205e7b"
   },
   "outputs": [
    {
     "name": "stdout",
     "output_type": "stream",
     "text": [
      "Number of False Negatives (mbert): 142\n",
      "\n",
      "EXAMPLES:\n",
      "\n",
      "\tFrom the lack of vision, the lack of hope.\n",
      "\n",
      "\tThe fuel for the far right comes from disillusionment.\n",
      "\n",
      "\tI felt like I’d accomplished something creative for the first time in a long time.\n",
      "\n",
      "\tI started writing fiction again for the first time in more than a decade, and it felt incredible.\n",
      "\n",
      "\t«Caro compagno, dammi pure del lei».\n",
      "\n",
      "\tYet nothing really changes.\n",
      "\n",
      "\tأخبار ذات صلة اتهام دول وتجاهل أخرى.\n",
      "\n",
      "\tIn den großen Medien dominiert ein Steinwurf in Richtung eines ARD-Teams die Berichterstattung über die Corona-Großkundgebung.\n",
      "\n",
      "\tDen Gesetzentwurf zur Reform des Stiftungsrechts und den stiftungsrechtlichen Teil des Änderungsantrags begrüße man grundsätzlich, müsse ihn aber auf Grund der dargelegten Argumente in der Gänze ablehnen.\n",
      "\n",
      "\t«Posso aiutarla?\n",
      "\n"
     ]
    }
   ],
   "source": [
    "false_negatives = test_results[test_results[\"error_type\"] == \"False Negative\"]\n",
    "print(f\"Number of False Negatives (mbert): {false_negatives.shape[0]}\")\n",
    "print(\"\\nEXAMPLES:\\n\")\n",
    "for ex in false_negatives.head(10).sentence:\n",
    "    print(f\"\\t{ex}\\n\")"
   ]
  },
  {
   "cell_type": "code",
   "execution_count": 39,
   "id": "uEvnBn32PZ2a",
   "metadata": {
    "colab": {
     "base_uri": "https://localhost:8080/",
     "height": 939
    },
    "id": "uEvnBn32PZ2a",
    "outputId": "4d88c2a7-31f9-4075-b6e9-df948c130f09"
   },
   "outputs": [
    {
     "data": {
      "image/png": "[encoded data removed]",
      "text/plain": [
       "<Figure size 640x480 with 2 Axes>"
      ]
     },
     "metadata": {},
     "output_type": "display_data"
    },
    {
     "data": {
      "image/png": "[encoded data removed]",
      "text/plain": [
       "<Figure size 640x480 with 2 Axes>"
      ]
     },
     "metadata": {},
     "output_type": "display_data"
    }
   ],
   "source": [
    "plot_confusion_matrix(\"mbert\", test_results)"
   ]
  },
  {
   "cell_type": "code",
   "execution_count": 40,
   "id": "8bK5eBLWPaGh",
   "metadata": {
    "colab": {
     "base_uri": "https://localhost:8080/",
     "height": 472
    },
    "id": "8bK5eBLWPaGh",
    "outputId": "f3802183-c187-4f32-a66c-76b740e53985"
   },
   "outputs": [
    {
     "data": {
      "image/png": "[encoded data removed]",
      "text/plain": [
       "<Figure size 640x480 with 1 Axes>"
      ]
     },
     "metadata": {},
     "output_type": "display_data"
    }
   ],
   "source": [
    "precision, recall, thresholds = precision_recall_curve(test_labels, test_predictions[:, 1])\n",
    "average_precision = average_precision_score(test_labels, test_predictions[:, 1])\n",
    "\n",
    "# Plot the Precision-Recall curve\n",
    "plot_precision_recall_curve(\"mbert\", precision, recall, average_precision)"
   ]
  },
  {
   "cell_type": "markdown",
   "id": "87f5127d-f5d9-4369-a056-598679ff6da7",
   "metadata": {
    "id": "87f5127d-f5d9-4369-a056-598679ff6da7"
   },
   "source": [
    "### Zero-Shot"
   ]
  },
  {
   "cell_type": "code",
   "execution_count": 41,
   "id": "0E2tZ6iPQZCc",
   "metadata": {
    "id": "0E2tZ6iPQZCc"
   },
   "outputs": [],
   "source": [
    "# GREEK"
   ]
  },
  {
   "cell_type": "code",
   "execution_count": 42,
   "id": "SuzPCALvbv4k",
   "metadata": {
    "id": "SuzPCALvbv4k"
   },
   "outputs": [],
   "source": [
    "# During testing we found that two examples are classified as \"Uncertain\", so we decided to not consider these results."
   ]
  },
  {
   "cell_type": "code",
   "execution_count": 51,
   "id": "TbpDl24xQaok",
   "metadata": {
    "id": "TbpDl24xQaok"
   },
   "outputs": [],
   "source": [
    "# POLISH"
   ]
  },
  {
   "cell_type": "code",
   "execution_count": 52,
   "id": "7ygEnCEqQ7ZD",
   "metadata": {
    "colab": {
     "base_uri": "https://localhost:8080/",
     "height": 275,
     "referenced_widgets": [
      "cee40074bb7344009156b4d1dc1ccfe1",
      "3bccc7d62e184ccbb7ae7caf2a92c7a4",
      "1ffeb28b6fa044ce880020964493b08c",
      "d72dc3d1bd674af59311e524a2beda09",
      "ceef689bfe95449790632efcd94e29f1",
      "fd416facc39948ada83940d9f42914d3",
      "2f42470382b34e6eaccb3d3adcac08d3",
      "834d321688034beba54b20f5211158f5",
      "9762eed03b284428a9b241b222396d6d",
      "ed084494bc82473d90810e7d15852b2b",
      "a43899fb1b8d4dd09f9052760200f1af"
     ]
    },
    "id": "7ygEnCEqQ7ZD",
    "outputId": "fd9132ec-6dfc-42c4-8312-7e51880ba9ff"
   },
   "outputs": [
    {
     "data": {
      "application/vnd.jupyter.widget-view+json": {
       "model_id": "cee40074bb7344009156b4d1dc1ccfe1",
       "version_major": 2,
       "version_minor": 0
      },
      "text/plain": [
       "Map:   0%|          | 0/351 [00:00<?, ? examples/s]"
      ]
     },
     "metadata": {},
     "output_type": "display_data"
    },
    {
     "data": {
      "text/html": [],
      "text/plain": [
       "<IPython.core.display.HTML object>"
      ]
     },
     "metadata": {},
     "output_type": "display_data"
    },
    {
     "name": "stdout",
     "output_type": "stream",
     "text": [
      "INFO : The file is properly formatted\n",
      "INFO : Started evaluating results for Task 1...\n",
      "INFO : \n",
      "            macro-F1: 0.5669\n",
      "            macro-P: 0.7669\n",
      "            macro-R: 0.6132\n",
      "            \n",
      "            SUBJ-F1: 0.3842\n",
      "            SUBJ-P: 0.9286\n",
      "            SUBJ-R: 0.2422\n",
      "            \n",
      "            accuracy: 0.6439\n",
      "        \n"
     ]
    }
   ],
   "source": [
    "dataset_test = Dataset.from_pandas(df_test_pol)\n",
    "tokenized_test = dataset_test.map(preprocess_function, batched=True)\n",
    "\n",
    "predictions = trainer.predict(tokenized_test)\n",
    "pred_labels = np.argmax(predictions.predictions, axis=1)\n",
    "\n",
    "submission = pd.DataFrame({\n",
    "    \"sentence_id\": df_test_pol[\"sentence_id\"],\n",
    "    \"label\": [\"OBJ\" if l == 1 else \"SUBJ\" for l in pred_labels]\n",
    "})\n",
    "submission_path = \"zero_shot_pol_predictions.tsv\"\n",
    "submission.to_csv(submission_path, sep=\"\\t\", index=False)\n",
    "\n",
    "ground_truth_path = \"clef2025-checkthat-lab/task1/data/polish/test_pol_labeled.tsv\"\n",
    "!python clef2025-checkthat-lab/task1/scorer/evaluate.py -g {ground_truth_path} -p {submission_path}"
   ]
  },
  {
   "cell_type": "code",
   "execution_count": 53,
   "id": "KTo7HBvyTGQS",
   "metadata": {
    "id": "KTo7HBvyTGQS"
   },
   "outputs": [],
   "source": [
    "test_predictions, test_labels = predictions.predictions, predictions.label_ids\n",
    "\n",
    "# Convert predictions and labels to pandas DataFrame (Transformer)\n",
    "test_results = pd.DataFrame({\n",
    "    \"sentence\": df_test_pol[\"sentence\"],\n",
    "    \"true_label\": test_labels,\n",
    "    \"predicted_label\": pred_labels\n",
    "})\n",
    "\n",
    "# Add a column to classify error types\n",
    "test_results[\"error_type\"] = np.where(\n",
    "    test_results[\"true_label\"] == test_results[\"predicted_label\"],\n",
    "    \"Correct\",\n",
    "    np.where(\n",
    "        (test_results[\"true_label\"] == 1) & (test_results[\"predicted_label\"] == 0),\n",
    "        \"False Negative\",\n",
    "        \"False Positive\"\n",
    "    )\n",
    ")"
   ]
  },
  {
   "cell_type": "code",
   "execution_count": 54,
   "id": "YRP4CSqZS6j2",
   "metadata": {
    "colab": {
     "base_uri": "https://localhost:8080/",
     "height": 939
    },
    "id": "YRP4CSqZS6j2",
    "outputId": "80effbe1-4aea-4e49-85d9-63ba680838b2"
   },
   "outputs": [
    {
     "data": {
      "image/png": "[encoded data removed]",
      "text/plain": [
       "<Figure size 640x480 with 2 Axes>"
      ]
     },
     "metadata": {},
     "output_type": "display_data"
    },
    {
     "data": {
      "image/png": "[encoded data removed]",
      "text/plain": [
       "<Figure size 640x480 with 2 Axes>"
      ]
     },
     "metadata": {},
     "output_type": "display_data"
    }
   ],
   "source": [
    "plot_confusion_matrix(\"mbert\", test_results)"
   ]
  },
  {
   "cell_type": "code",
   "execution_count": 55,
   "id": "tB1g9D94TSTY",
   "metadata": {
    "colab": {
     "base_uri": "https://localhost:8080/",
     "height": 472
    },
    "id": "tB1g9D94TSTY",
    "outputId": "fddc4337-94f0-43a8-d4c3-8aeffce87cf0"
   },
   "outputs": [
    {
     "data": {
      "image/png": "[encoded data removed]",
      "text/plain": [
       "<Figure size 640x480 with 1 Axes>"
      ]
     },
     "metadata": {},
     "output_type": "display_data"
    }
   ],
   "source": [
    "precision, recall, thresholds = precision_recall_curve(test_labels, test_predictions[:, 1])\n",
    "average_precision = average_precision_score(test_labels, test_predictions[:, 1])\n",
    "\n",
    "# Plot the Precision-Recall curve\n",
    "plot_precision_recall_curve(\"mbert\", precision, recall, average_precision)"
   ]
  },
  {
   "cell_type": "code",
   "execution_count": 56,
   "id": "iX3uxmoPQbwk",
   "metadata": {
    "id": "iX3uxmoPQbwk"
   },
   "outputs": [],
   "source": [
    "# ROMANIAN"
   ]
  },
  {
   "cell_type": "code",
   "execution_count": 57,
   "id": "xUJn4nmaQ7sU",
   "metadata": {
    "colab": {
     "base_uri": "https://localhost:8080/",
     "height": 275,
     "referenced_widgets": [
      "91fe51c49c3a4757acdb6339cf2363ec",
      "062f6ae75b78458f9336413ea5ae4725",
      "cc1c77df6fab45acbae78f2e67c932ae",
      "93f09908088a41618bbb6d423a9bf20b",
      "0c3a935a18ee4f1184420fbd41200811",
      "887a23605b9a47699a1bdbd371e507a7",
      "d8c2abc751b4453da16b6480e2a6629e",
      "57c295c5020d4153bcbb117e173e2053",
      "fb28a5abc8b04810bc0213d07109091f",
      "f303ac7175044f1c82388d3da8dd6ecf",
      "9169ee49bbc546249bbbda1ade8556ce"
     ]
    },
    "id": "xUJn4nmaQ7sU",
    "outputId": "9de64071-1dfe-450a-d0df-d5ef6913045a"
   },
   "outputs": [
    {
     "data": {
      "application/vnd.jupyter.widget-view+json": {
       "model_id": "91fe51c49c3a4757acdb6339cf2363ec",
       "version_major": 2,
       "version_minor": 0
      },
      "text/plain": [
       "Map:   0%|          | 0/206 [00:00<?, ? examples/s]"
      ]
     },
     "metadata": {},
     "output_type": "display_data"
    },
    {
     "data": {
      "text/html": [],
      "text/plain": [
       "<IPython.core.display.HTML object>"
      ]
     },
     "metadata": {},
     "output_type": "display_data"
    },
    {
     "name": "stdout",
     "output_type": "stream",
     "text": [
      "INFO : The file is properly formatted\n",
      "INFO : Started evaluating results for Task 1...\n",
      "INFO : \n",
      "            macro-F1: 0.7387\n",
      "            macro-P: 0.7267\n",
      "            macro-R: 0.7616\n",
      "            \n",
      "            SUBJ-F1: 0.6271\n",
      "            SUBJ-P: 0.5606\n",
      "            SUBJ-R: 0.7115\n",
      "            \n",
      "            accuracy: 0.7864\n",
      "        \n"
     ]
    }
   ],
   "source": [
    "dataset_test = Dataset.from_pandas(df_test_ro)\n",
    "tokenized_test = dataset_test.map(preprocess_function, batched=True)\n",
    "\n",
    "predictions = trainer.predict(tokenized_test)\n",
    "pred_labels = np.argmax(predictions.predictions, axis=1)\n",
    "\n",
    "submission = pd.DataFrame({\n",
    "    \"sentence_id\": df_test_ro[\"sentence_id\"],\n",
    "    \"label\": [\"OBJ\" if l == 1 else \"SUBJ\" for l in pred_labels]\n",
    "})\n",
    "submission_path = \"zero_shot_ro_predictions.tsv\"\n",
    "submission.to_csv(submission_path, sep=\"\\t\", index=False)\n",
    "\n",
    "ground_truth_path = \"clef2025-checkthat-lab/task1/data/romanian/test_ro_labeled.tsv\"\n",
    "!python clef2025-checkthat-lab/task1/scorer/evaluate.py -g {ground_truth_path} -p {submission_path}"
   ]
  },
  {
   "cell_type": "code",
   "execution_count": 58,
   "id": "vzICwksWTHNd",
   "metadata": {
    "id": "vzICwksWTHNd"
   },
   "outputs": [],
   "source": [
    "test_predictions, test_labels = predictions.predictions, predictions.label_ids\n",
    "\n",
    "# Convert predictions and labels to pandas DataFrame (Transformer)\n",
    "test_results = pd.DataFrame({\n",
    "    \"sentence\": df_test_ro[\"sentence\"],\n",
    "    \"true_label\": test_labels,\n",
    "    \"predicted_label\": pred_labels\n",
    "})\n",
    "\n",
    "# Add a column to classify error types\n",
    "test_results[\"error_type\"] = np.where(\n",
    "    test_results[\"true_label\"] == test_results[\"predicted_label\"],\n",
    "    \"Correct\",\n",
    "    np.where(\n",
    "        (test_results[\"true_label\"] == 1) & (test_results[\"predicted_label\"] == 0),\n",
    "        \"False Negative\",\n",
    "        \"False Positive\"\n",
    "    )\n",
    ")"
   ]
  },
  {
   "cell_type": "code",
   "execution_count": 59,
   "id": "SAQsdYFLTLgK",
   "metadata": {
    "colab": {
     "base_uri": "https://localhost:8080/",
     "height": 940
    },
    "id": "SAQsdYFLTLgK",
    "outputId": "ad23c3ef-392c-407e-d347-6f911592bac1"
   },
   "outputs": [
    {
     "data": {
      "image/png": "[encoded data removed]",
      "text/plain": [
       "<Figure size 640x480 with 2 Axes>"
      ]
     },
     "metadata": {},
     "output_type": "display_data"
    },
    {
     "data": {
      "image/png": "[encoded data removed]",
      "text/plain": [
       "<Figure size 640x480 with 2 Axes>"
      ]
     },
     "metadata": {},
     "output_type": "display_data"
    }
   ],
   "source": [
    "plot_confusion_matrix(\"mbert\", test_results)"
   ]
  },
  {
   "cell_type": "code",
   "execution_count": 60,
   "id": "p-c1X6JqTTKq",
   "metadata": {
    "colab": {
     "base_uri": "https://localhost:8080/",
     "height": 472
    },
    "id": "p-c1X6JqTTKq",
    "outputId": "6fbaf6ec-22d9-41ee-f84c-5c7a03f224c3"
   },
   "outputs": [
    {
     "data": {
      "image/png": "[encoded data removed]",
      "text/plain": [
       "<Figure size 640x480 with 1 Axes>"
      ]
     },
     "metadata": {},
     "output_type": "display_data"
    }
   ],
   "source": [
    "precision, recall, thresholds = precision_recall_curve(test_labels, test_predictions[:, 1])\n",
    "average_precision = average_precision_score(test_labels, test_predictions[:, 1])\n",
    "\n",
    "# Plot the Precision-Recall curve\n",
    "plot_precision_recall_curve(\"mbert\", precision, recall, average_precision)"
   ]
  },
  {
   "cell_type": "code",
   "execution_count": 61,
   "id": "9b2NiKKdQbho",
   "metadata": {
    "id": "9b2NiKKdQbho"
   },
   "outputs": [],
   "source": [
    "# UKRAINIAN"
   ]
  },
  {
   "cell_type": "code",
   "execution_count": 62,
   "id": "f7bad2f5-d362-4594-8c55-e08ce725bd25",
   "metadata": {
    "colab": {
     "base_uri": "https://localhost:8080/",
     "height": 275,
     "referenced_widgets": [
      "a548bc8516804ee5a3c2991085d85b99",
      "42621652e30c4e97b94ca628ffcbb4c7",
      "3e1ef42d54924a13843dafd58d61568e",
      "dc851a35d23b487c85d4300eae5b9f85",
      "21a74741a9af4e61af8328f405080f45",
      "ba13b9f022d64625adacb4dac06f920b",
      "7eaea27856294e539d6fafd06baa8441",
      "2468d1b511304ec9928ba1fd6814e557",
      "38992f783f0d4309b728521acccc62f1",
      "12be50f343b94c4db57db0189aa50d29",
      "43b0cd069cf74bd5a8f82f6f6fa9ceb7"
     ]
    },
    "id": "f7bad2f5-d362-4594-8c55-e08ce725bd25",
    "outputId": "a5c6aa0f-9658-4313-c6fb-074a855bed79"
   },
   "outputs": [
    {
     "data": {
      "application/vnd.jupyter.widget-view+json": {
       "model_id": "a548bc8516804ee5a3c2991085d85b99",
       "version_major": 2,
       "version_minor": 0
      },
      "text/plain": [
       "Map:   0%|          | 0/297 [00:00<?, ? examples/s]"
      ]
     },
     "metadata": {},
     "output_type": "display_data"
    },
    {
     "data": {
      "text/html": [],
      "text/plain": [
       "<IPython.core.display.HTML object>"
      ]
     },
     "metadata": {},
     "output_type": "display_data"
    },
    {
     "name": "stdout",
     "output_type": "stream",
     "text": [
      "INFO : The file is properly formatted\n",
      "INFO : Started evaluating results for Task 1...\n",
      "INFO : \n",
      "            macro-F1: 0.5879\n",
      "            macro-P: 0.5869\n",
      "            macro-R: 0.6034\n",
      "            \n",
      "            SUBJ-F1: 0.4324\n",
      "            SUBJ-P: 0.3738\n",
      "            SUBJ-R: 0.5128\n",
      "            \n",
      "            accuracy: 0.6465\n",
      "        \n"
     ]
    }
   ],
   "source": [
    "dataset_test = Dataset.from_pandas(df_test_ukr)\n",
    "tokenized_test = dataset_test.map(preprocess_function, batched=True)\n",
    "\n",
    "predictions = trainer.predict(tokenized_test)\n",
    "pred_labels = np.argmax(predictions.predictions, axis=1)\n",
    "\n",
    "submission = pd.DataFrame({\n",
    "    \"sentence_id\": df_test_ukr[\"sentence_id\"],\n",
    "    \"label\": [\"OBJ\" if l == 1 else \"SUBJ\" for l in pred_labels]\n",
    "})\n",
    "submission_path = \"zero_shot_ukr_predictions.tsv\"\n",
    "submission.to_csv(submission_path, sep=\"\\t\", index=False)\n",
    "\n",
    "ground_truth_path = \"clef2025-checkthat-lab/task1/data/ukrainian/test_ukr_labeled.tsv\"\n",
    "!python clef2025-checkthat-lab/task1/scorer/evaluate.py -g {ground_truth_path} -p {submission_path}"
   ]
  },
  {
   "cell_type": "code",
   "execution_count": 63,
   "id": "1BLVtCiWTH_I",
   "metadata": {
    "id": "1BLVtCiWTH_I"
   },
   "outputs": [],
   "source": [
    "test_predictions, test_labels = predictions.predictions, predictions.label_ids\n",
    "\n",
    "# Convert predictions and labels to pandas DataFrame (Transformer)\n",
    "test_results = pd.DataFrame({\n",
    "    \"sentence\": df_test_ukr[\"sentence\"],\n",
    "    \"true_label\": test_labels,\n",
    "    \"predicted_label\": pred_labels\n",
    "})\n",
    "\n",
    "# Add a column to classify error types\n",
    "test_results[\"error_type\"] = np.where(\n",
    "    test_results[\"true_label\"] == test_results[\"predicted_label\"],\n",
    "    \"Correct\",\n",
    "    np.where(\n",
    "        (test_results[\"true_label\"] == 1) & (test_results[\"predicted_label\"] == 0),\n",
    "        \"False Negative\",\n",
    "        \"False Positive\"\n",
    "    )\n",
    ")"
   ]
  },
  {
   "cell_type": "code",
   "execution_count": 64,
   "id": "HH5-wgq1TMYd",
   "metadata": {
    "colab": {
     "base_uri": "https://localhost:8080/",
     "height": 939
    },
    "id": "HH5-wgq1TMYd",
    "outputId": "47085bb8-6015-41c4-dc44-6d1ee9d31fb6"
   },
   "outputs": [
    {
     "data": {
      "image/png": "[encoded data removed]",
      "text/plain": [
       "<Figure size 640x480 with 2 Axes>"
      ]
     },
     "metadata": {},
     "output_type": "display_data"
    },
    {
     "data": {
      "image/png": "[encoded data removed]",
      "text/plain": [
       "<Figure size 640x480 with 2 Axes>"
      ]
     },
     "metadata": {},
     "output_type": "display_data"
    }
   ],
   "source": [
    "plot_confusion_matrix(\"mbert\", test_results)"
   ]
  },
  {
   "cell_type": "code",
   "execution_count": 65,
   "id": "uukbd1CbTT3h",
   "metadata": {
    "colab": {
     "base_uri": "https://localhost:8080/",
     "height": 472
    },
    "id": "uukbd1CbTT3h",
    "outputId": "827daeba-6c27-4323-ef8a-b789e4abefd0"
   },
   "outputs": [
    {
     "data": {
      "image/png": "[encoded data removed]",
      "text/plain": [
       "<Figure size 640x480 with 1 Axes>"
      ]
     },
     "metadata": {},
     "output_type": "display_data"
    }
   ],
   "source": [
    "precision, recall, thresholds = precision_recall_curve(test_labels, test_predictions[:, 1])\n",
    "average_precision = average_precision_score(test_labels, test_predictions[:, 1])\n",
    "\n",
    "# Plot the Precision-Recall curve\n",
    "plot_precision_recall_curve(\"mbert\", precision, recall, average_precision)"
   ]
  },
  {
   "cell_type": "markdown",
   "id": "aT_da9preClg",
   "metadata": {
    "id": "aT_da9preClg"
   },
   "source": [
    "## Solution Download"
   ]
  },
  {
   "cell_type": "code",
   "execution_count": 66,
   "id": "hvCRMy-rQ_eq",
   "metadata": {
    "colab": {
     "base_uri": "https://localhost:8080/"
    },
    "id": "hvCRMy-rQ_eq",
    "outputId": "122eef0a-e553-4213-848b-a6798a0ca0ce"
   },
   "outputs": [
    {
     "name": "stdout",
     "output_type": "stream",
     "text": [
      "\tzip warning: name not matched: mbert-subjectivity-en\n",
      "\tzip warning: name not matched: mbert-subjectivity-it\n",
      "\n",
      "zip error: Nothing to do! (try: zip -r xlm_roberta_models.zip . -i mbert-subjectivity-en mbert-subjectivity-it)\n"
     ]
    }
   ],
   "source": [
    "!zip -r xlm_roberta_models.zip mbert-subjectivity-en mbert-subjectivity-it"
   ]
  },
  {
   "cell_type": "code",
   "execution_count": 67,
   "id": "8M5OgY4jeB-z",
   "metadata": {
    "colab": {
     "base_uri": "https://localhost:8080/"
    },
    "id": "8M5OgY4jeB-z",
    "outputId": "959a2d59-12c4-49e5-d57f-7b6b3826104c"
   },
   "outputs": [
    {
     "name": "stdout",
     "output_type": "stream",
     "text": [
      "\tzip warning: name not matched: mbert-subjectivity-en\n",
      "\tzip warning: name not matched: mbert-subjectivity-it\n",
      "  adding: mbert-subjectivity-multi/ (stored 0%)\n",
      "  adding: mbert-subjectivity-multi/special_tokens_map.json (deflated 42%)\n",
      "  adding: mbert-subjectivity-multi/tokenizer_config.json (deflated 75%)\n",
      "  adding: mbert-subjectivity-multi/model.safetensors (deflated 7%)\n",
      "  adding: mbert-subjectivity-multi/training_args.bin (deflated 52%)\n",
      "  adding: mbert-subjectivity-multi/config.json (deflated 54%)\n",
      "  adding: mbert-subjectivity-multi/tokenizer.json (deflated 67%)\n",
      "  adding: mbert-subjectivity-multi/vocab.txt (deflated 45%)\n"
     ]
    }
   ],
   "source": [
    "!zip -r xlm_roberta_models.zip mbert-subjectivity-en mbert-subjectivity-it mbert-subjectivity-multi"
   ]
  },
  {
   "cell_type": "code",
   "execution_count": 68,
   "id": "mlInw13aRB2y",
   "metadata": {
    "colab": {
     "base_uri": "https://localhost:8080/"
    },
    "id": "mlInw13aRB2y",
    "outputId": "503654de-efa8-4f7d-b75f-71677deef0d4"
   },
   "outputs": [
    {
     "name": "stdout",
     "output_type": "stream",
     "text": [
      "\tzip warning: name not matched: mono_en_test_predictions.tsv\n",
      "\tzip warning: name not matched: mono_it_test_predictions.tsv\n",
      "\n",
      "zip error: Nothing to do! (prediction_files.zip)\n"
     ]
    }
   ],
   "source": [
    "!zip prediction_files.zip \\\n",
    "mono_en_test_predictions.tsv \\\n",
    "mono_it_test_predictions.tsv"
   ]
  },
  {
   "cell_type": "code",
   "execution_count": 69,
   "id": "W0TVn2HKeIQY",
   "metadata": {
    "colab": {
     "base_uri": "https://localhost:8080/"
    },
    "id": "W0TVn2HKeIQY",
    "outputId": "7cda7cdb-3605-4d6f-f985-5761b0975568"
   },
   "outputs": [
    {
     "name": "stdout",
     "output_type": "stream",
     "text": [
      "\tzip warning: name not matched: mono_en_test_predictions.tsv\n",
      "\tzip warning: name not matched: mono_it_test_predictions.tsv\n",
      "  adding: multilingual_test_predictions.tsv (deflated 45%)\n",
      "  adding: zero_shot_gr_predictions.tsv (deflated 45%)\n",
      "  adding: zero_shot_pol_predictions.tsv (deflated 45%)\n",
      "  adding: zero_shot_ro_predictions.tsv (deflated 45%)\n",
      "  adding: zero_shot_ukr_predictions.tsv (deflated 46%)\n"
     ]
    }
   ],
   "source": [
    "!zip prediction_files.zip \\\n",
    "mono_en_test_predictions.tsv \\\n",
    "mono_it_test_predictions.tsv \\\n",
    "multilingual_test_predictions.tsv \\\n",
    "zero_shot_gr_predictions.tsv \\\n",
    "zero_shot_pol_predictions.tsv \\\n",
    "zero_shot_ro_predictions.tsv \\\n",
    "zero_shot_ukr_predictions.tsv"
   ]
  },
  {
   "cell_type": "code",
   "execution_count": 70,
   "id": "oZeLka5beK_z",
   "metadata": {
    "colab": {
     "base_uri": "https://localhost:8080/",
     "height": 17
    },
    "id": "oZeLka5beK_z",
    "outputId": "205dddac-93a4-40ba-d949-b030b34f656d"
   },
   "outputs": [
    {
     "data": {
      "application/javascript": [
       "\n",
       "    async function download(id, filename, size) {\n",
       "      if (!google.colab.kernel.accessAllowed) {\n",
       "        return;\n",
       "      }\n",
       "      const div = document.createElement('div');\n",
       "      const label = document.createElement('label');\n",
       "      label.textContent = `Downloading \"${filename}\": `;\n",
       "      div.appendChild(label);\n",
       "      const progress = document.createElement('progress');\n",
       "      progress.max = size;\n",
       "      div.appendChild(progress);\n",
       "      document.body.appendChild(div);\n",
       "\n",
       "      const buffers = [];\n",
       "      let downloaded = 0;\n",
       "\n",
       "      const channel = await google.colab.kernel.comms.open(id);\n",
       "      // Send a message to notify the kernel that we're ready.\n",
       "      channel.send({})\n",
       "\n",
       "      for await (const message of channel.messages) {\n",
       "        // Send a message to notify the kernel that we're ready.\n",
       "        channel.send({})\n",
       "        if (message.buffers) {\n",
       "          for (const buffer of message.buffers) {\n",
       "            buffers.push(buffer);\n",
       "            downloaded += buffer.byteLength;\n",
       "            progress.value = downloaded;\n",
       "          }\n",
       "        }\n",
       "      }\n",
       "      const blob = new Blob(buffers, {type: 'application/binary'});\n",
       "      const a = document.createElement('a');\n",
       "      a.href = window.URL.createObjectURL(blob);\n",
       "      a.download = filename;\n",
       "      div.appendChild(a);\n",
       "      a.click();\n",
       "      div.remove();\n",
       "    }\n",
       "  "
      ],
      "text/plain": [
       "<IPython.core.display.Javascript object>"
      ]
     },
     "metadata": {},
     "output_type": "display_data"
    },
    {
     "data": {
      "application/javascript": [
       "download(\"download_a7d12216-e50f-42bc-a233-0b1d1896f841\", \"xlm_roberta_models.zip\", 661176557)"
      ],
      "text/plain": [
       "<IPython.core.display.Javascript object>"
      ]
     },
     "metadata": {},
     "output_type": "display_data"
    },
    {
     "data": {
      "application/javascript": [
       "\n",
       "    async function download(id, filename, size) {\n",
       "      if (!google.colab.kernel.accessAllowed) {\n",
       "        return;\n",
       "      }\n",
       "      const div = document.createElement('div');\n",
       "      const label = document.createElement('label');\n",
       "      label.textContent = `Downloading \"${filename}\": `;\n",
       "      div.appendChild(label);\n",
       "      const progress = document.createElement('progress');\n",
       "      progress.max = size;\n",
       "      div.appendChild(progress);\n",
       "      document.body.appendChild(div);\n",
       "\n",
       "      const buffers = [];\n",
       "      let downloaded = 0;\n",
       "\n",
       "      const channel = await google.colab.kernel.comms.open(id);\n",
       "      // Send a message to notify the kernel that we're ready.\n",
       "      channel.send({})\n",
       "\n",
       "      for await (const message of channel.messages) {\n",
       "        // Send a message to notify the kernel that we're ready.\n",
       "        channel.send({})\n",
       "        if (message.buffers) {\n",
       "          for (const buffer of message.buffers) {\n",
       "            buffers.push(buffer);\n",
       "            downloaded += buffer.byteLength;\n",
       "            progress.value = downloaded;\n",
       "          }\n",
       "        }\n",
       "      }\n",
       "      const blob = new Blob(buffers, {type: 'application/binary'});\n",
       "      const a = document.createElement('a');\n",
       "      a.href = window.URL.createObjectURL(blob);\n",
       "      a.download = filename;\n",
       "      div.appendChild(a);\n",
       "      a.click();\n",
       "      div.remove();\n",
       "    }\n",
       "  "
      ],
      "text/plain": [
       "<IPython.core.display.Javascript object>"
      ]
     },
     "metadata": {},
     "output_type": "display_data"
    },
    {
     "data": {
      "application/javascript": [
       "download(\"download_777ec4d2-bc1d-4e14-bb12-19f407ca2c2a\", \"prediction_files.zip\", 70117)"
      ],
      "text/plain": [
       "<IPython.core.display.Javascript object>"
      ]
     },
     "metadata": {},
     "output_type": "display_data"
    }
   ],
   "source": [
    "from google.colab import files\n",
    "\n",
    "# Download the zipped folders\n",
    "files.download(\"xlm_roberta_models.zip\")\n",
    "\n",
    "# Download the zipped predictions\n",
    "files.download(\"prediction_files.zip\")"
   ]
  },
  {
   "cell_type": "code",
   "execution_count": null,
   "id": "KN3MksWgRO3V",
   "metadata": {
    "id": "KN3MksWgRO3V"
   },
   "outputs": [],
   "source": []
  }
 ],
 "metadata": {
  "accelerator": "GPU",
  "colab": {
   "gpuType": "T4",
   "provenance": []
  },
  "kernelspec": {
   "display_name": "Python 3 (ipykernel)",
   "language": "python",
   "name": "python3"
  },
  "language_info": {
   "codemirror_mode": {
    "name": "ipython",
    "version": 3
   },
   "file_extension": ".py",
   "mimetype": "text/x-python",
   "name": "python",
   "nbconvert_exporter": "python",
   "pygments_lexer": "ipython3",
   "version": "3.13.2"
  },
  "widgets": {
   "application/vnd.jupyter.widget-state+json": {
    "00730734725a473db059e25e29967fef": {
     "model_module": "@jupyter-widgets/base",
     "model_module_version": "1.2.0",
     "model_name": "LayoutModel",
     "state": {
      "_model_module": "@jupyter-widgets/base",
      "_model_module_version": "1.2.0",
      "_model_name": "LayoutModel",
      "_view_count": null,
      "_view_module": "@jupyter-widgets/base",
      "_view_module_version": "1.2.0",
      "_view_name": "LayoutView",
      "align_content": null,
      "align_items": null,
      "align_self": null,
      "border": null,
      "bottom": null,
      "display": null,
      "flex": null,
      "flex_flow": null,
      "grid_area": null,
      "grid_auto_columns": null,
      "grid_auto_flow": null,
      "grid_auto_rows": null,
      "grid_column": null,
      "grid_gap": null,
      "grid_row": null,
      "grid_template_areas": null,
      "grid_template_columns": null,
      "grid_template_rows": null,
      "height": null,
      "justify_content": null,
      "justify_items": null,
      "left": null,
      "margin": null,
      "max_height": null,
      "max_width": null,
      "min_height": null,
      "min_width": null,
      "object_fit": null,
      "object_position": null,
      "order": null,
      "overflow": null,
      "overflow_x": null,
      "overflow_y": null,
      "padding": null,
      "right": null,
      "top": null,
      "visibility": null,
      "width": null
     }
    },
    "012fe7b7b62243cba0fda75d3119e5a9": {
     "model_module": "@jupyter-widgets/controls",
     "model_module_version": "1.5.0",
     "model_name": "FloatProgressModel",
     "state": {
      "_dom_classes": [],
      "_model_module": "@jupyter-widgets/controls",
      "_model_module_version": "1.5.0",
      "_model_name": "FloatProgressModel",
      "_view_count": null,
      "_view_module": "@jupyter-widgets/controls",
      "_view_module_version": "1.5.0",
      "_view_name": "ProgressView",
      "bar_style": "success",
      "description": "",
      "description_tooltip": null,
      "layout": "IPY_MODEL_a3722d31b297474c8dab03d85b8c2023",
      "max": 282,
      "min": 0,
      "orientation": "horizontal",
      "style": "IPY_MODEL_db30be138cc24b0ba8323bc323404f93",
      "value": 282
     }
    },
    "015a52dfbfe04973b619f464e1fa5fab": {
     "model_module": "@jupyter-widgets/controls",
     "model_module_version": "1.5.0",
     "model_name": "HBoxModel",
     "state": {
      "_dom_classes": [],
      "_model_module": "@jupyter-widgets/controls",
      "_model_module_version": "1.5.0",
      "_model_name": "HBoxModel",
      "_view_count": null,
      "_view_module": "@jupyter-widgets/controls",
      "_view_module_version": "1.5.0",
      "_view_name": "HBoxView",
      "box_style": "",
      "children": [
       "IPY_MODEL_c5716ed11b66495d89f6f969a51655d5",
       "IPY_MODEL_8f12c1d502534d82807a19415542ee67",
       "IPY_MODEL_4149d612557842c0991b8427a29af501"
      ],
      "layout": "IPY_MODEL_fb3629ebe7ea4d2490f25072c52609a3"
     }
    },
    "0180bafb29aa48dd932e10ba134dd9df": {
     "model_module": "@jupyter-widgets/controls",
     "model_module_version": "1.5.0",
     "model_name": "HBoxModel",
     "state": {
      "_dom_classes": [],
      "_model_module": "@jupyter-widgets/controls",
      "_model_module_version": "1.5.0",
      "_model_name": "HBoxModel",
      "_view_count": null,
      "_view_module": "@jupyter-widgets/controls",
      "_view_module_version": "1.5.0",
      "_view_name": "HBoxView",
      "box_style": "",
      "children": [
       "IPY_MODEL_e09679e5ab5343e68cd40c35686a36e9",
       "IPY_MODEL_0ea10d423464459988c5d72e61272e69",
       "IPY_MODEL_f5fb1b39a3764068aa9fe49c76d441ef"
      ],
      "layout": "IPY_MODEL_196e6765274c4172a5c58d0d42ee4b58"
     }
    },
    "062f6ae75b78458f9336413ea5ae4725": {
     "model_module": "@jupyter-widgets/controls",
     "model_module_version": "1.5.0",
     "model_name": "HTMLModel",
     "state": {
      "_dom_classes": [],
      "_model_module": "@jupyter-widgets/controls",
      "_model_module_version": "1.5.0",
      "_model_name": "HTMLModel",
      "_view_count": null,
      "_view_module": "@jupyter-widgets/controls",
      "_view_module_version": "1.5.0",
      "_view_name": "HTMLView",
      "description": "",
      "description_tooltip": null,
      "layout": "IPY_MODEL_887a23605b9a47699a1bdbd371e507a7",
      "placeholder": "​",
      "style": "IPY_MODEL_d8c2abc751b4453da16b6480e2a6629e",
      "value": "Map: 100%"
     }
    },
    "082ae5c396e54a6f8ddc2fee2d579020": {
     "model_module": "@jupyter-widgets/base",
     "model_module_version": "1.2.0",
     "model_name": "LayoutModel",
     "state": {
      "_model_module": "@jupyter-widgets/base",
      "_model_module_version": "1.2.0",
      "_model_name": "LayoutModel",
      "_view_count": null,
      "_view_module": "@jupyter-widgets/base",
      "_view_module_version": "1.2.0",
      "_view_name": "LayoutView",
      "align_content": null,
      "align_items": null,
      "align_self": null,
      "border": null,
      "bottom": null,
      "display": null,
      "flex": null,
      "flex_flow": null,
      "grid_area": null,
      "grid_auto_columns": null,
      "grid_auto_flow": null,
      "grid_auto_rows": null,
      "grid_column": null,
      "grid_gap": null,
      "grid_row": null,
      "grid_template_areas": null,
      "grid_template_columns": null,
      "grid_template_rows": null,
      "height": null,
      "justify_content": null,
      "justify_items": null,
      "left": null,
      "margin": null,
      "max_height": null,
      "max_width": null,
      "min_height": null,
      "min_width": null,
      "object_fit": null,
      "object_position": null,
      "order": null,
      "overflow": null,
      "overflow_x": null,
      "overflow_y": null,
      "padding": null,
      "right": null,
      "top": null,
      "visibility": null,
      "width": null
     }
    },
    "08c434660dab447aaa3d7ad9041c43fb": {
     "model_module": "@jupyter-widgets/base",
     "model_module_version": "1.2.0",
     "model_name": "LayoutModel",
     "state": {
      "_model_module": "@jupyter-widgets/base",
      "_model_module_version": "1.2.0",
      "_model_name": "LayoutModel",
      "_view_count": null,
      "_view_module": "@jupyter-widgets/base",
      "_view_module_version": "1.2.0",
      "_view_name": "LayoutView",
      "align_content": null,
      "align_items": null,
      "align_self": null,
      "border": null,
      "bottom": null,
      "display": null,
      "flex": null,
      "flex_flow": null,
      "grid_area": null,
      "grid_auto_columns": null,
      "grid_auto_flow": null,
      "grid_auto_rows": null,
      "grid_column": null,
      "grid_gap": null,
      "grid_row": null,
      "grid_template_areas": null,
      "grid_template_columns": null,
      "grid_template_rows": null,
      "height": null,
      "justify_content": null,
      "justify_items": null,
      "left": null,
      "margin": null,
      "max_height": null,
      "max_width": null,
      "min_height": null,
      "min_width": null,
      "object_fit": null,
      "object_position": null,
      "order": null,
      "overflow": null,
      "overflow_x": null,
      "overflow_y": null,
      "padding": null,
      "right": null,
      "top": null,
      "visibility": null,
      "width": null
     }
    },
    "095b6d00356244258c9a8d74a663b9d7": {
     "model_module": "@jupyter-widgets/controls",
     "model_module_version": "1.5.0",
     "model_name": "FloatProgressModel",
     "state": {
      "_dom_classes": [],
      "_model_module": "@jupyter-widgets/controls",
      "_model_module_version": "1.5.0",
      "_model_name": "FloatProgressModel",
      "_view_count": null,
      "_view_module": "@jupyter-widgets/controls",
      "_view_module_version": "1.5.0",
      "_view_name": "ProgressView",
      "bar_style": "success",
      "description": "",
      "description_tooltip": null,
      "layout": "IPY_MODEL_766b66c3c4694a80a10f1163f36a2f31",
      "max": 995526,
      "min": 0,
      "orientation": "horizontal",
      "style": "IPY_MODEL_192fe0c2004b43c9a66e732c176ed9c5",
      "value": 995526
     }
    },
    "0a647404b3304d2eb8a14524aacdd351": {
     "model_module": "@jupyter-widgets/controls",
     "model_module_version": "1.5.0",
     "model_name": "HTMLModel",
     "state": {
      "_dom_classes": [],
      "_model_module": "@jupyter-widgets/controls",
      "_model_module_version": "1.5.0",
      "_model_name": "HTMLModel",
      "_view_count": null,
      "_view_module": "@jupyter-widgets/controls",
      "_view_module_version": "1.5.0",
      "_view_name": "HTMLView",
      "description": "",
      "description_tooltip": null,
      "layout": "IPY_MODEL_a1fb02d66d6040ceb28af9fe3e123a96",
      "placeholder": "​",
      "style": "IPY_MODEL_b0b303ff5ce24fdd8624fe95518564ee",
      "value": " 830/830 [00:00&lt;00:00, 1656.46 examples/s]"
     }
    },
    "0c3a935a18ee4f1184420fbd41200811": {
     "model_module": "@jupyter-widgets/base",
     "model_module_version": "1.2.0",
     "model_name": "LayoutModel",
     "state": {
      "_model_module": "@jupyter-widgets/base",
      "_model_module_version": "1.2.0",
      "_model_name": "LayoutModel",
      "_view_count": null,
      "_view_module": "@jupyter-widgets/base",
      "_view_module_version": "1.2.0",
      "_view_name": "LayoutView",
      "align_content": null,
      "align_items": null,
      "align_self": null,
      "border": null,
      "bottom": null,
      "display": null,
      "flex": null,
      "flex_flow": null,
      "grid_area": null,
      "grid_auto_columns": null,
      "grid_auto_flow": null,
      "grid_auto_rows": null,
      "grid_column": null,
      "grid_gap": null,
      "grid_row": null,
      "grid_template_areas": null,
      "grid_template_columns": null,
      "grid_template_rows": null,
      "height": null,
      "justify_content": null,
      "justify_items": null,
      "left": null,
      "margin": null,
      "max_height": null,
      "max_width": null,
      "min_height": null,
      "min_width": null,
      "object_fit": null,
      "object_position": null,
      "order": null,
      "overflow": null,
      "overflow_x": null,
      "overflow_y": null,
      "padding": null,
      "right": null,
      "top": null,
      "visibility": null,
      "width": null
     }
    },
    "0ea10d423464459988c5d72e61272e69": {
     "model_module": "@jupyter-widgets/controls",
     "model_module_version": "1.5.0",
     "model_name": "FloatProgressModel",
     "state": {
      "_dom_classes": [],
      "_model_module": "@jupyter-widgets/controls",
      "_model_module_version": "1.5.0",
      "_model_name": "FloatProgressModel",
      "_view_count": null,
      "_view_module": "@jupyter-widgets/controls",
      "_view_module_version": "1.5.0",
      "_view_name": "ProgressView",
      "bar_style": "success",
      "description": "",
      "description_tooltip": null,
      "layout": "IPY_MODEL_a64eb83311c745e0817a7b8a6c854a0d",
      "max": 667,
      "min": 0,
      "orientation": "horizontal",
      "style": "IPY_MODEL_61c3299ce3c84a8bbf99653cccc5be06",
      "value": 667
     }
    },
    "0ef677603a0e4ffaaebd53a40f248816": {
     "model_module": "@jupyter-widgets/controls",
     "model_module_version": "1.5.0",
     "model_name": "FloatProgressModel",
     "state": {
      "_dom_classes": [],
      "_model_module": "@jupyter-widgets/controls",
      "_model_module_version": "1.5.0",
      "_model_name": "FloatProgressModel",
      "_view_count": null,
      "_view_module": "@jupyter-widgets/controls",
      "_view_module_version": "1.5.0",
      "_view_name": "ProgressView",
      "bar_style": "success",
      "description": "",
      "description_tooltip": null,
      "layout": "IPY_MODEL_541a96c3e6ea4bf3afab8385e6be1071",
      "max": 462,
      "min": 0,
      "orientation": "horizontal",
      "style": "IPY_MODEL_16675cfa310f42829e1eb65be0bda367",
      "value": 462
     }
    },
    "10a62f9522a84476a3329da25823d0b4": {
     "model_module": "@jupyter-widgets/controls",
     "model_module_version": "1.5.0",
     "model_name": "HTMLModel",
     "state": {
      "_dom_classes": [],
      "_model_module": "@jupyter-widgets/controls",
      "_model_module_version": "1.5.0",
      "_model_name": "HTMLModel",
      "_view_count": null,
      "_view_module": "@jupyter-widgets/controls",
      "_view_module_version": "1.5.0",
      "_view_name": "HTMLView",
      "description": "",
      "description_tooltip": null,
      "layout": "IPY_MODEL_c5520e8a0c044a28a3c31cbf0314b350",
      "placeholder": "​",
      "style": "IPY_MODEL_86e70085d9b44937aa2e75b316f71e46",
      "value": "Map: 100%"
     }
    },
    "128a2635d07841c694d440cb5c32a6d9": {
     "model_module": "@jupyter-widgets/controls",
     "model_module_version": "1.5.0",
     "model_name": "DescriptionStyleModel",
     "state": {
      "_model_module": "@jupyter-widgets/controls",
      "_model_module_version": "1.5.0",
      "_model_name": "DescriptionStyleModel",
      "_view_count": null,
      "_view_module": "@jupyter-widgets/base",
      "_view_module_version": "1.2.0",
      "_view_name": "StyleView",
      "description_width": ""
     }
    },
    "12be50f343b94c4db57db0189aa50d29": {
     "model_module": "@jupyter-widgets/base",
     "model_module_version": "1.2.0",
     "model_name": "LayoutModel",
     "state": {
      "_model_module": "@jupyter-widgets/base",
      "_model_module_version": "1.2.0",
      "_model_name": "LayoutModel",
      "_view_count": null,
      "_view_module": "@jupyter-widgets/base",
      "_view_module_version": "1.2.0",
      "_view_name": "LayoutView",
      "align_content": null,
      "align_items": null,
      "align_self": null,
      "border": null,
      "bottom": null,
      "display": null,
      "flex": null,
      "flex_flow": null,
      "grid_area": null,
      "grid_auto_columns": null,
      "grid_auto_flow": null,
      "grid_auto_rows": null,
      "grid_column": null,
      "grid_gap": null,
      "grid_row": null,
      "grid_template_areas": null,
      "grid_template_columns": null,
      "grid_template_rows": null,
      "height": null,
      "justify_content": null,
      "justify_items": null,
      "left": null,
      "margin": null,
      "max_height": null,
      "max_width": null,
      "min_height": null,
      "min_width": null,
      "object_fit": null,
      "object_position": null,
      "order": null,
      "overflow": null,
      "overflow_x": null,
      "overflow_y": null,
      "padding": null,
      "right": null,
      "top": null,
      "visibility": null,
      "width": null
     }
    },
    "154354ca22f640158d1c656b977aa1dd": {
     "model_module": "@jupyter-widgets/controls",
     "model_module_version": "1.5.0",
     "model_name": "DescriptionStyleModel",
     "state": {
      "_model_module": "@jupyter-widgets/controls",
      "_model_module_version": "1.5.0",
      "_model_name": "DescriptionStyleModel",
      "_view_count": null,
      "_view_module": "@jupyter-widgets/base",
      "_view_module_version": "1.2.0",
      "_view_name": "StyleView",
      "description_width": ""
     }
    },
    "16675cfa310f42829e1eb65be0bda367": {
     "model_module": "@jupyter-widgets/controls",
     "model_module_version": "1.5.0",
     "model_name": "ProgressStyleModel",
     "state": {
      "_model_module": "@jupyter-widgets/controls",
      "_model_module_version": "1.5.0",
      "_model_name": "ProgressStyleModel",
      "_view_count": null,
      "_view_module": "@jupyter-widgets/base",
      "_view_module_version": "1.2.0",
      "_view_name": "StyleView",
      "bar_color": null,
      "description_width": ""
     }
    },
    "1686fbca90f541a2a21ff8567fffae1d": {
     "model_module": "@jupyter-widgets/controls",
     "model_module_version": "1.5.0",
     "model_name": "DescriptionStyleModel",
     "state": {
      "_model_module": "@jupyter-widgets/controls",
      "_model_module_version": "1.5.0",
      "_model_name": "DescriptionStyleModel",
      "_view_count": null,
      "_view_module": "@jupyter-widgets/base",
      "_view_module_version": "1.2.0",
      "_view_name": "StyleView",
      "description_width": ""
     }
    },
    "192fe0c2004b43c9a66e732c176ed9c5": {
     "model_module": "@jupyter-widgets/controls",
     "model_module_version": "1.5.0",
     "model_name": "ProgressStyleModel",
     "state": {
      "_model_module": "@jupyter-widgets/controls",
      "_model_module_version": "1.5.0",
      "_model_name": "ProgressStyleModel",
      "_view_count": null,
      "_view_module": "@jupyter-widgets/base",
      "_view_module_version": "1.2.0",
      "_view_name": "StyleView",
      "bar_color": null,
      "description_width": ""
     }
    },
    "196e6765274c4172a5c58d0d42ee4b58": {
     "model_module": "@jupyter-widgets/base",
     "model_module_version": "1.2.0",
     "model_name": "LayoutModel",
     "state": {
      "_model_module": "@jupyter-widgets/base",
      "_model_module_version": "1.2.0",
      "_model_name": "LayoutModel",
      "_view_count": null,
      "_view_module": "@jupyter-widgets/base",
      "_view_module_version": "1.2.0",
      "_view_name": "LayoutView",
      "align_content": null,
      "align_items": null,
      "align_self": null,
      "border": null,
      "bottom": null,
      "display": null,
      "flex": null,
      "flex_flow": null,
      "grid_area": null,
      "grid_auto_columns": null,
      "grid_auto_flow": null,
      "grid_auto_rows": null,
      "grid_column": null,
      "grid_gap": null,
      "grid_row": null,
      "grid_template_areas": null,
      "grid_template_columns": null,
      "grid_template_rows": null,
      "height": null,
      "justify_content": null,
      "justify_items": null,
      "left": null,
      "margin": null,
      "max_height": null,
      "max_width": null,
      "min_height": null,
      "min_width": null,
      "object_fit": null,
      "object_position": null,
      "order": null,
      "overflow": null,
      "overflow_x": null,
      "overflow_y": null,
      "padding": null,
      "right": null,
      "top": null,
      "visibility": null,
      "width": null
     }
    },
    "19fdf0e838d440a9b2d3ee9fdf6136d8": {
     "model_module": "@jupyter-widgets/base",
     "model_module_version": "1.2.0",
     "model_name": "LayoutModel",
     "state": {
      "_model_module": "@jupyter-widgets/base",
      "_model_module_version": "1.2.0",
      "_model_name": "LayoutModel",
      "_view_count": null,
      "_view_module": "@jupyter-widgets/base",
      "_view_module_version": "1.2.0",
      "_view_name": "LayoutView",
      "align_content": null,
      "align_items": null,
      "align_self": null,
      "border": null,
      "bottom": null,
      "display": null,
      "flex": null,
      "flex_flow": null,
      "grid_area": null,
      "grid_auto_columns": null,
      "grid_auto_flow": null,
      "grid_auto_rows": null,
      "grid_column": null,
      "grid_gap": null,
      "grid_row": null,
      "grid_template_areas": null,
      "grid_template_columns": null,
      "grid_template_rows": null,
      "height": null,
      "justify_content": null,
      "justify_items": null,
      "left": null,
      "margin": null,
      "max_height": null,
      "max_width": null,
      "min_height": null,
      "min_width": null,
      "object_fit": null,
      "object_position": null,
      "order": null,
      "overflow": null,
      "overflow_x": null,
      "overflow_y": null,
      "padding": null,
      "right": null,
      "top": null,
      "visibility": null,
      "width": null
     }
    },
    "1d8a6710d03c4fdbb34de502c255e560": {
     "model_module": "@jupyter-widgets/controls",
     "model_module_version": "1.5.0",
     "model_name": "FloatProgressModel",
     "state": {
      "_dom_classes": [],
      "_model_module": "@jupyter-widgets/controls",
      "_model_module_version": "1.5.0",
      "_model_name": "FloatProgressModel",
      "_view_count": null,
      "_view_module": "@jupyter-widgets/controls",
      "_view_module_version": "1.5.0",
      "_view_name": "ProgressView",
      "bar_style": "success",
      "description": "",
      "description_tooltip": null,
      "layout": "IPY_MODEL_385114dc0f6b49ef9e7d43b901907ae7",
      "max": 2393,
      "min": 0,
      "orientation": "horizontal",
      "style": "IPY_MODEL_d1bccd3d9f7f45f1ab195f7a929e7ca0",
      "value": 2393
     }
    },
    "1f1176f663f94cd0938b09109c79ca9d": {
     "model_module": "@jupyter-widgets/controls",
     "model_module_version": "1.5.0",
     "model_name": "HTMLModel",
     "state": {
      "_dom_classes": [],
      "_model_module": "@jupyter-widgets/controls",
      "_model_module_version": "1.5.0",
      "_model_name": "HTMLModel",
      "_view_count": null,
      "_view_module": "@jupyter-widgets/controls",
      "_view_module_version": "1.5.0",
      "_view_name": "HTMLView",
      "description": "",
      "description_tooltip": null,
      "layout": "IPY_MODEL_fc56d2edc68147aea7b273618779624a",
      "placeholder": "​",
      "style": "IPY_MODEL_687fb2161a8b4b0ca95a7aca863206af",
      "value": "tokenizer.json: 100%"
     }
    },
    "1f46b7a8b35249d39d8b9e45e29a0e73": {
     "model_module": "@jupyter-widgets/base",
     "model_module_version": "1.2.0",
     "model_name": "LayoutModel",
     "state": {
      "_model_module": "@jupyter-widgets/base",
      "_model_module_version": "1.2.0",
      "_model_name": "LayoutModel",
      "_view_count": null,
      "_view_module": "@jupyter-widgets/base",
      "_view_module_version": "1.2.0",
      "_view_name": "LayoutView",
      "align_content": null,
      "align_items": null,
      "align_self": null,
      "border": null,
      "bottom": null,
      "display": null,
      "flex": null,
      "flex_flow": null,
      "grid_area": null,
      "grid_auto_columns": null,
      "grid_auto_flow": null,
      "grid_auto_rows": null,
      "grid_column": null,
      "grid_gap": null,
      "grid_row": null,
      "grid_template_areas": null,
      "grid_template_columns": null,
      "grid_template_rows": null,
      "height": null,
      "justify_content": null,
      "justify_items": null,
      "left": null,
      "margin": null,
      "max_height": null,
      "max_width": null,
      "min_height": null,
      "min_width": null,
      "object_fit": null,
      "object_position": null,
      "order": null,
      "overflow": null,
      "overflow_x": null,
      "overflow_y": null,
      "padding": null,
      "right": null,
      "top": null,
      "visibility": null,
      "width": null
     }
    },
    "1ffeb28b6fa044ce880020964493b08c": {
     "model_module": "@jupyter-widgets/controls",
     "model_module_version": "1.5.0",
     "model_name": "FloatProgressModel",
     "state": {
      "_dom_classes": [],
      "_model_module": "@jupyter-widgets/controls",
      "_model_module_version": "1.5.0",
      "_model_name": "FloatProgressModel",
      "_view_count": null,
      "_view_module": "@jupyter-widgets/controls",
      "_view_module_version": "1.5.0",
      "_view_name": "ProgressView",
      "bar_style": "success",
      "description": "",
      "description_tooltip": null,
      "layout": "IPY_MODEL_834d321688034beba54b20f5211158f5",
      "max": 351,
      "min": 0,
      "orientation": "horizontal",
      "style": "IPY_MODEL_9762eed03b284428a9b241b222396d6d",
      "value": 351
     }
    },
    "206284f0d1aa4b60a6bb8c28b7ca4747": {
     "model_module": "@jupyter-widgets/controls",
     "model_module_version": "1.5.0",
     "model_name": "HTMLModel",
     "state": {
      "_dom_classes": [],
      "_model_module": "@jupyter-widgets/controls",
      "_model_module_version": "1.5.0",
      "_model_name": "HTMLModel",
      "_view_count": null,
      "_view_module": "@jupyter-widgets/controls",
      "_view_module_version": "1.5.0",
      "_view_name": "HTMLView",
      "description": "",
      "description_tooltip": null,
      "layout": "IPY_MODEL_77d49eac6e6244198c074f2975423632",
      "placeholder": "​",
      "style": "IPY_MODEL_acf6efe1bce84f90aa43b8376a75d1a0",
      "value": "Downloading builder script: 100%"
     }
    },
    "2198db602e3f4ef3ac23eb0a6cd90f30": {
     "model_module": "@jupyter-widgets/controls",
     "model_module_version": "1.5.0",
     "model_name": "ProgressStyleModel",
     "state": {
      "_model_module": "@jupyter-widgets/controls",
      "_model_module_version": "1.5.0",
      "_model_name": "ProgressStyleModel",
      "_view_count": null,
      "_view_module": "@jupyter-widgets/base",
      "_view_module_version": "1.2.0",
      "_view_name": "StyleView",
      "bar_color": null,
      "description_width": ""
     }
    },
    "21a74741a9af4e61af8328f405080f45": {
     "model_module": "@jupyter-widgets/base",
     "model_module_version": "1.2.0",
     "model_name": "LayoutModel",
     "state": {
      "_model_module": "@jupyter-widgets/base",
      "_model_module_version": "1.2.0",
      "_model_name": "LayoutModel",
      "_view_count": null,
      "_view_module": "@jupyter-widgets/base",
      "_view_module_version": "1.2.0",
      "_view_name": "LayoutView",
      "align_content": null,
      "align_items": null,
      "align_self": null,
      "border": null,
      "bottom": null,
      "display": null,
      "flex": null,
      "flex_flow": null,
      "grid_area": null,
      "grid_auto_columns": null,
      "grid_auto_flow": null,
      "grid_auto_rows": null,
      "grid_column": null,
      "grid_gap": null,
      "grid_row": null,
      "grid_template_areas": null,
      "grid_template_columns": null,
      "grid_template_rows": null,
      "height": null,
      "justify_content": null,
      "justify_items": null,
      "left": null,
      "margin": null,
      "max_height": null,
      "max_width": null,
      "min_height": null,
      "min_width": null,
      "object_fit": null,
      "object_position": null,
      "order": null,
      "overflow": null,
      "overflow_x": null,
      "overflow_y": null,
      "padding": null,
      "right": null,
      "top": null,
      "visibility": null,
      "width": null
     }
    },
    "21bb9876809c45ecb05344337eef4acf": {
     "model_module": "@jupyter-widgets/controls",
     "model_module_version": "1.5.0",
     "model_name": "ProgressStyleModel",
     "state": {
      "_model_module": "@jupyter-widgets/controls",
      "_model_module_version": "1.5.0",
      "_model_name": "ProgressStyleModel",
      "_view_count": null,
      "_view_module": "@jupyter-widgets/base",
      "_view_module_version": "1.2.0",
      "_view_name": "StyleView",
      "bar_color": null,
      "description_width": ""
     }
    },
    "2468d1b511304ec9928ba1fd6814e557": {
     "model_module": "@jupyter-widgets/base",
     "model_module_version": "1.2.0",
     "model_name": "LayoutModel",
     "state": {
      "_model_module": "@jupyter-widgets/base",
      "_model_module_version": "1.2.0",
      "_model_name": "LayoutModel",
      "_view_count": null,
      "_view_module": "@jupyter-widgets/base",
      "_view_module_version": "1.2.0",
      "_view_name": "LayoutView",
      "align_content": null,
      "align_items": null,
      "align_self": null,
      "border": null,
      "bottom": null,
      "display": null,
      "flex": null,
      "flex_flow": null,
      "grid_area": null,
      "grid_auto_columns": null,
      "grid_auto_flow": null,
      "grid_auto_rows": null,
      "grid_column": null,
      "grid_gap": null,
      "grid_row": null,
      "grid_template_areas": null,
      "grid_template_columns": null,
      "grid_template_rows": null,
      "height": null,
      "justify_content": null,
      "justify_items": null,
      "left": null,
      "margin": null,
      "max_height": null,
      "max_width": null,
      "min_height": null,
      "min_width": null,
      "object_fit": null,
      "object_position": null,
      "order": null,
      "overflow": null,
      "overflow_x": null,
      "overflow_y": null,
      "padding": null,
      "right": null,
      "top": null,
      "visibility": null,
      "width": null
     }
    },
    "258c4b2e08fe49e6beb6661b888a9cae": {
     "model_module": "@jupyter-widgets/base",
     "model_module_version": "1.2.0",
     "model_name": "LayoutModel",
     "state": {
      "_model_module": "@jupyter-widgets/base",
      "_model_module_version": "1.2.0",
      "_model_name": "LayoutModel",
      "_view_count": null,
      "_view_module": "@jupyter-widgets/base",
      "_view_module_version": "1.2.0",
      "_view_name": "LayoutView",
      "align_content": null,
      "align_items": null,
      "align_self": null,
      "border": null,
      "bottom": null,
      "display": null,
      "flex": null,
      "flex_flow": null,
      "grid_area": null,
      "grid_auto_columns": null,
      "grid_auto_flow": null,
      "grid_auto_rows": null,
      "grid_column": null,
      "grid_gap": null,
      "grid_row": null,
      "grid_template_areas": null,
      "grid_template_columns": null,
      "grid_template_rows": null,
      "height": null,
      "justify_content": null,
      "justify_items": null,
      "left": null,
      "margin": null,
      "max_height": null,
      "max_width": null,
      "min_height": null,
      "min_width": null,
      "object_fit": null,
      "object_position": null,
      "order": null,
      "overflow": null,
      "overflow_x": null,
      "overflow_y": null,
      "padding": null,
      "right": null,
      "top": null,
      "visibility": null,
      "width": null
     }
    },
    "265c8b0a8235428ea6c8e7f60c4ad46e": {
     "model_module": "@jupyter-widgets/base",
     "model_module_version": "1.2.0",
     "model_name": "LayoutModel",
     "state": {
      "_model_module": "@jupyter-widgets/base",
      "_model_module_version": "1.2.0",
      "_model_name": "LayoutModel",
      "_view_count": null,
      "_view_module": "@jupyter-widgets/base",
      "_view_module_version": "1.2.0",
      "_view_name": "LayoutView",
      "align_content": null,
      "align_items": null,
      "align_self": null,
      "border": null,
      "bottom": null,
      "display": null,
      "flex": null,
      "flex_flow": null,
      "grid_area": null,
      "grid_auto_columns": null,
      "grid_auto_flow": null,
      "grid_auto_rows": null,
      "grid_column": null,
      "grid_gap": null,
      "grid_row": null,
      "grid_template_areas": null,
      "grid_template_columns": null,
      "grid_template_rows": null,
      "height": null,
      "justify_content": null,
      "justify_items": null,
      "left": null,
      "margin": null,
      "max_height": null,
      "max_width": null,
      "min_height": null,
      "min_width": null,
      "object_fit": null,
      "object_position": null,
      "order": null,
      "overflow": null,
      "overflow_x": null,
      "overflow_y": null,
      "padding": null,
      "right": null,
      "top": null,
      "visibility": null,
      "width": null
     }
    },
    "279c0ab6757a499c9121af75a10cbf7d": {
     "model_module": "@jupyter-widgets/controls",
     "model_module_version": "1.5.0",
     "model_name": "DescriptionStyleModel",
     "state": {
      "_model_module": "@jupyter-widgets/controls",
      "_model_module_version": "1.5.0",
      "_model_name": "DescriptionStyleModel",
      "_view_count": null,
      "_view_module": "@jupyter-widgets/base",
      "_view_module_version": "1.2.0",
      "_view_name": "StyleView",
      "description_width": ""
     }
    },
    "2a7be64016f74fcfb9900c1ae1e92235": {
     "model_module": "@jupyter-widgets/controls",
     "model_module_version": "1.5.0",
     "model_name": "DescriptionStyleModel",
     "state": {
      "_model_module": "@jupyter-widgets/controls",
      "_model_module_version": "1.5.0",
      "_model_name": "DescriptionStyleModel",
      "_view_count": null,
      "_view_module": "@jupyter-widgets/base",
      "_view_module_version": "1.2.0",
      "_view_name": "StyleView",
      "description_width": ""
     }
    },
    "2b692b34eac14e6294da2b187af7ec3c": {
     "model_module": "@jupyter-widgets/controls",
     "model_module_version": "1.5.0",
     "model_name": "HBoxModel",
     "state": {
      "_dom_classes": [],
      "_model_module": "@jupyter-widgets/controls",
      "_model_module_version": "1.5.0",
      "_model_name": "HBoxModel",
      "_view_count": null,
      "_view_module": "@jupyter-widgets/controls",
      "_view_module_version": "1.5.0",
      "_view_name": "HBoxView",
      "box_style": "",
      "children": [
       "IPY_MODEL_5ce41c97d8d148a692093473a7866106",
       "IPY_MODEL_f49f96419ca749558effd42ba2601795",
       "IPY_MODEL_0a647404b3304d2eb8a14524aacdd351"
      ],
      "layout": "IPY_MODEL_973e95ab7ea74c9e85f93bf748076605"
     }
    },
    "2c1b87426f1d44f2a764bdf4d8ae4517": {
     "model_module": "@jupyter-widgets/controls",
     "model_module_version": "1.5.0",
     "model_name": "HTMLModel",
     "state": {
      "_dom_classes": [],
      "_model_module": "@jupyter-widgets/controls",
      "_model_module_version": "1.5.0",
      "_model_name": "HTMLModel",
      "_view_count": null,
      "_view_module": "@jupyter-widgets/controls",
      "_view_module_version": "1.5.0",
      "_view_name": "HTMLView",
      "description": "",
      "description_tooltip": null,
      "layout": "IPY_MODEL_b3238dede1534eb0a6d040e16fb40988",
      "placeholder": "​",
      "style": "IPY_MODEL_a6c162d5630e4843ab8d5daa54d55fd7",
      "value": "Map: 100%"
     }
    },
    "2efa93cd656a427aa55fe85a35b002b6": {
     "model_module": "@jupyter-widgets/controls",
     "model_module_version": "1.5.0",
     "model_name": "FloatProgressModel",
     "state": {
      "_dom_classes": [],
      "_model_module": "@jupyter-widgets/controls",
      "_model_module_version": "1.5.0",
      "_model_name": "FloatProgressModel",
      "_view_count": null,
      "_view_module": "@jupyter-widgets/controls",
      "_view_module_version": "1.5.0",
      "_view_name": "ProgressView",
      "bar_style": "success",
      "description": "",
      "description_tooltip": null,
      "layout": "IPY_MODEL_e5128b36c28d4bfaa1decd016bde1792",
      "max": 1961828,
      "min": 0,
      "orientation": "horizontal",
      "style": "IPY_MODEL_9e05567b08cc4a3c9d001b3b22f7371d",
      "value": 1961828
     }
    },
    "2f42470382b34e6eaccb3d3adcac08d3": {
     "model_module": "@jupyter-widgets/controls",
     "model_module_version": "1.5.0",
     "model_name": "DescriptionStyleModel",
     "state": {
      "_model_module": "@jupyter-widgets/controls",
      "_model_module_version": "1.5.0",
      "_model_name": "DescriptionStyleModel",
      "_view_count": null,
      "_view_module": "@jupyter-widgets/base",
      "_view_module_version": "1.2.0",
      "_view_name": "StyleView",
      "description_width": ""
     }
    },
    "31628ed092ce4f5e9d653cb0576bb479": {
     "model_module": "@jupyter-widgets/controls",
     "model_module_version": "1.5.0",
     "model_name": "HTMLModel",
     "state": {
      "_dom_classes": [],
      "_model_module": "@jupyter-widgets/controls",
      "_model_module_version": "1.5.0",
      "_model_name": "HTMLModel",
      "_view_count": null,
      "_view_module": "@jupyter-widgets/controls",
      "_view_module_version": "1.5.0",
      "_view_name": "HTMLView",
      "description": "",
      "description_tooltip": null,
      "layout": "IPY_MODEL_76de685948324b429757440f48bc7b52",
      "placeholder": "​",
      "style": "IPY_MODEL_8aff9b807110486fb5ab05405239f385",
      "value": "Map: 100%"
     }
    },
    "3206c51d243843e4960785663dab31e1": {
     "model_module": "@jupyter-widgets/base",
     "model_module_version": "1.2.0",
     "model_name": "LayoutModel",
     "state": {
      "_model_module": "@jupyter-widgets/base",
      "_model_module_version": "1.2.0",
      "_model_name": "LayoutModel",
      "_view_count": null,
      "_view_module": "@jupyter-widgets/base",
      "_view_module_version": "1.2.0",
      "_view_name": "LayoutView",
      "align_content": null,
      "align_items": null,
      "align_self": null,
      "border": null,
      "bottom": null,
      "display": null,
      "flex": null,
      "flex_flow": null,
      "grid_area": null,
      "grid_auto_columns": null,
      "grid_auto_flow": null,
      "grid_auto_rows": null,
      "grid_column": null,
      "grid_gap": null,
      "grid_row": null,
      "grid_template_areas": null,
      "grid_template_columns": null,
      "grid_template_rows": null,
      "height": null,
      "justify_content": null,
      "justify_items": null,
      "left": null,
      "margin": null,
      "max_height": null,
      "max_width": null,
      "min_height": null,
      "min_width": null,
      "object_fit": null,
      "object_position": null,
      "order": null,
      "overflow": null,
      "overflow_x": null,
      "overflow_y": null,
      "padding": null,
      "right": null,
      "top": null,
      "visibility": null,
      "width": null
     }
    },
    "3290756b5d664e37bf7563ff0fdd73a4": {
     "model_module": "@jupyter-widgets/controls",
     "model_module_version": "1.5.0",
     "model_name": "HTMLModel",
     "state": {
      "_dom_classes": [],
      "_model_module": "@jupyter-widgets/controls",
      "_model_module_version": "1.5.0",
      "_model_name": "HTMLModel",
      "_view_count": null,
      "_view_module": "@jupyter-widgets/controls",
      "_view_module_version": "1.5.0",
      "_view_name": "HTMLView",
      "description": "",
      "description_tooltip": null,
      "layout": "IPY_MODEL_b8f15359ec684f96932b9fe4f1954dd2",
      "placeholder": "​",
      "style": "IPY_MODEL_279c0ab6757a499c9121af75a10cbf7d",
      "value": "Map: 100%"
     }
    },
    "329d12f80c634ece9887a1a3c01812b9": {
     "model_module": "@jupyter-widgets/controls",
     "model_module_version": "1.5.0",
     "model_name": "HTMLModel",
     "state": {
      "_dom_classes": [],
      "_model_module": "@jupyter-widgets/controls",
      "_model_module_version": "1.5.0",
      "_model_name": "HTMLModel",
      "_view_count": null,
      "_view_module": "@jupyter-widgets/controls",
      "_view_module_version": "1.5.0",
      "_view_name": "HTMLView",
      "description": "",
      "description_tooltip": null,
      "layout": "IPY_MODEL_b289fa207f4b4c8a8e81fd84bb4621a7",
      "placeholder": "​",
      "style": "IPY_MODEL_6d6be3ffc7494013aa15422706dabcd2",
      "value": " 299/299 [00:00&lt;00:00, 2522.05 examples/s]"
     }
    },
    "385114dc0f6b49ef9e7d43b901907ae7": {
     "model_module": "@jupyter-widgets/base",
     "model_module_version": "1.2.0",
     "model_name": "LayoutModel",
     "state": {
      "_model_module": "@jupyter-widgets/base",
      "_model_module_version": "1.2.0",
      "_model_name": "LayoutModel",
      "_view_count": null,
      "_view_module": "@jupyter-widgets/base",
      "_view_module_version": "1.2.0",
      "_view_name": "LayoutView",
      "align_content": null,
      "align_items": null,
      "align_self": null,
      "border": null,
      "bottom": null,
      "display": null,
      "flex": null,
      "flex_flow": null,
      "grid_area": null,
      "grid_auto_columns": null,
      "grid_auto_flow": null,
      "grid_auto_rows": null,
      "grid_column": null,
      "grid_gap": null,
      "grid_row": null,
      "grid_template_areas": null,
      "grid_template_columns": null,
      "grid_template_rows": null,
      "height": null,
      "justify_content": null,
      "justify_items": null,
      "left": null,
      "margin": null,
      "max_height": null,
      "max_width": null,
      "min_height": null,
      "min_width": null,
      "object_fit": null,
      "object_position": null,
      "order": null,
      "overflow": null,
      "overflow_x": null,
      "overflow_y": null,
      "padding": null,
      "right": null,
      "top": null,
      "visibility": null,
      "width": null
     }
    },
    "38992f783f0d4309b728521acccc62f1": {
     "model_module": "@jupyter-widgets/controls",
     "model_module_version": "1.5.0",
     "model_name": "ProgressStyleModel",
     "state": {
      "_model_module": "@jupyter-widgets/controls",
      "_model_module_version": "1.5.0",
      "_model_name": "ProgressStyleModel",
      "_view_count": null,
      "_view_module": "@jupyter-widgets/base",
      "_view_module_version": "1.2.0",
      "_view_name": "StyleView",
      "bar_color": null,
      "description_width": ""
     }
    },
    "38a3450efaf24bae8a437ffe17a56421": {
     "model_module": "@jupyter-widgets/controls",
     "model_module_version": "1.5.0",
     "model_name": "HBoxModel",
     "state": {
      "_dom_classes": [],
      "_model_module": "@jupyter-widgets/controls",
      "_model_module_version": "1.5.0",
      "_model_name": "HBoxModel",
      "_view_count": null,
      "_view_module": "@jupyter-widgets/controls",
      "_view_module_version": "1.5.0",
      "_view_name": "HBoxView",
      "box_style": "",
      "children": [
       "IPY_MODEL_8d56e6544e084544ba20fcad1907fdd8",
       "IPY_MODEL_1d8a6710d03c4fdbb34de502c255e560",
       "IPY_MODEL_9430d139fcc343b2a88d32e62dbfdde8"
      ],
      "layout": "IPY_MODEL_6e7d258f42b94ec385f8aa742da488af"
     }
    },
    "3939e34a9b8149a2b9aa40cc4ae8e78b": {
     "model_module": "@jupyter-widgets/controls",
     "model_module_version": "1.5.0",
     "model_name": "FloatProgressModel",
     "state": {
      "_dom_classes": [],
      "_model_module": "@jupyter-widgets/controls",
      "_model_module_version": "1.5.0",
      "_model_name": "FloatProgressModel",
      "_view_count": null,
      "_view_module": "@jupyter-widgets/controls",
      "_view_module_version": "1.5.0",
      "_view_name": "ProgressView",
      "bar_style": "success",
      "description": "",
      "description_tooltip": null,
      "layout": "IPY_MODEL_5a0985a72ac54f17848fd5e654385646",
      "max": 1982,
      "min": 0,
      "orientation": "horizontal",
      "style": "IPY_MODEL_4e2e25dc6e0b4c31b5c2f43f4bedb152",
      "value": 1982
     }
    },
    "3a6d67635b994ec885c9784dbe38d015": {
     "model_module": "@jupyter-widgets/controls",
     "model_module_version": "1.5.0",
     "model_name": "HBoxModel",
     "state": {
      "_dom_classes": [],
      "_model_module": "@jupyter-widgets/controls",
      "_model_module_version": "1.5.0",
      "_model_name": "HBoxModel",
      "_view_count": null,
      "_view_module": "@jupyter-widgets/controls",
      "_view_module_version": "1.5.0",
      "_view_name": "HBoxView",
      "box_style": "",
      "children": [
       "IPY_MODEL_ed55684f18cf459db32ca2a1b713141a",
       "IPY_MODEL_3939e34a9b8149a2b9aa40cc4ae8e78b",
       "IPY_MODEL_d4132a4865234b248609ce1779fd6c5f"
      ],
      "layout": "IPY_MODEL_b66dcff8aeb34ed39220785d3c2b1664"
     }
    },
    "3a9e6f0a23574af283322392c70df2c6": {
     "model_module": "@jupyter-widgets/controls",
     "model_module_version": "1.5.0",
     "model_name": "DescriptionStyleModel",
     "state": {
      "_model_module": "@jupyter-widgets/controls",
      "_model_module_version": "1.5.0",
      "_model_name": "DescriptionStyleModel",
      "_view_count": null,
      "_view_module": "@jupyter-widgets/base",
      "_view_module_version": "1.2.0",
      "_view_name": "StyleView",
      "description_width": ""
     }
    },
    "3bccc7d62e184ccbb7ae7caf2a92c7a4": {
     "model_module": "@jupyter-widgets/controls",
     "model_module_version": "1.5.0",
     "model_name": "HTMLModel",
     "state": {
      "_dom_classes": [],
      "_model_module": "@jupyter-widgets/controls",
      "_model_module_version": "1.5.0",
      "_model_name": "HTMLModel",
      "_view_count": null,
      "_view_module": "@jupyter-widgets/controls",
      "_view_module_version": "1.5.0",
      "_view_name": "HTMLView",
      "description": "",
      "description_tooltip": null,
      "layout": "IPY_MODEL_fd416facc39948ada83940d9f42914d3",
      "placeholder": "​",
      "style": "IPY_MODEL_2f42470382b34e6eaccb3d3adcac08d3",
      "value": "Map: 100%"
     }
    },
    "3c1871872c134698b6bb1bcc14ae6c05": {
     "model_module": "@jupyter-widgets/base",
     "model_module_version": "1.2.0",
     "model_name": "LayoutModel",
     "state": {
      "_model_module": "@jupyter-widgets/base",
      "_model_module_version": "1.2.0",
      "_model_name": "LayoutModel",
      "_view_count": null,
      "_view_module": "@jupyter-widgets/base",
      "_view_module_version": "1.2.0",
      "_view_name": "LayoutView",
      "align_content": null,
      "align_items": null,
      "align_self": null,
      "border": null,
      "bottom": null,
      "display": null,
      "flex": null,
      "flex_flow": null,
      "grid_area": null,
      "grid_auto_columns": null,
      "grid_auto_flow": null,
      "grid_auto_rows": null,
      "grid_column": null,
      "grid_gap": null,
      "grid_row": null,
      "grid_template_areas": null,
      "grid_template_columns": null,
      "grid_template_rows": null,
      "height": null,
      "justify_content": null,
      "justify_items": null,
      "left": null,
      "margin": null,
      "max_height": null,
      "max_width": null,
      "min_height": null,
      "min_width": null,
      "object_fit": null,
      "object_position": null,
      "order": null,
      "overflow": null,
      "overflow_x": null,
      "overflow_y": null,
      "padding": null,
      "right": null,
      "top": null,
      "visibility": null,
      "width": null
     }
    },
    "3d395caa3e9740b8b971af5798bad9b1": {
     "model_module": "@jupyter-widgets/controls",
     "model_module_version": "1.5.0",
     "model_name": "DescriptionStyleModel",
     "state": {
      "_model_module": "@jupyter-widgets/controls",
      "_model_module_version": "1.5.0",
      "_model_name": "DescriptionStyleModel",
      "_view_count": null,
      "_view_module": "@jupyter-widgets/base",
      "_view_module_version": "1.2.0",
      "_view_name": "StyleView",
      "description_width": ""
     }
    },
    "3e1ef42d54924a13843dafd58d61568e": {
     "model_module": "@jupyter-widgets/controls",
     "model_module_version": "1.5.0",
     "model_name": "FloatProgressModel",
     "state": {
      "_dom_classes": [],
      "_model_module": "@jupyter-widgets/controls",
      "_model_module_version": "1.5.0",
      "_model_name": "FloatProgressModel",
      "_view_count": null,
      "_view_module": "@jupyter-widgets/controls",
      "_view_module_version": "1.5.0",
      "_view_name": "ProgressView",
      "bar_style": "success",
      "description": "",
      "description_tooltip": null,
      "layout": "IPY_MODEL_2468d1b511304ec9928ba1fd6814e557",
      "max": 297,
      "min": 0,
      "orientation": "horizontal",
      "style": "IPY_MODEL_38992f783f0d4309b728521acccc62f1",
      "value": 297
     }
    },
    "3e464414491d4b178a7aaa92c3843e88": {
     "model_module": "@jupyter-widgets/base",
     "model_module_version": "1.2.0",
     "model_name": "LayoutModel",
     "state": {
      "_model_module": "@jupyter-widgets/base",
      "_model_module_version": "1.2.0",
      "_model_name": "LayoutModel",
      "_view_count": null,
      "_view_module": "@jupyter-widgets/base",
      "_view_module_version": "1.2.0",
      "_view_name": "LayoutView",
      "align_content": null,
      "align_items": null,
      "align_self": null,
      "border": null,
      "bottom": null,
      "display": null,
      "flex": null,
      "flex_flow": null,
      "grid_area": null,
      "grid_auto_columns": null,
      "grid_auto_flow": null,
      "grid_auto_rows": null,
      "grid_column": null,
      "grid_gap": null,
      "grid_row": null,
      "grid_template_areas": null,
      "grid_template_columns": null,
      "grid_template_rows": null,
      "height": null,
      "justify_content": null,
      "justify_items": null,
      "left": null,
      "margin": null,
      "max_height": null,
      "max_width": null,
      "min_height": null,
      "min_width": null,
      "object_fit": null,
      "object_position": null,
      "order": null,
      "overflow": null,
      "overflow_x": null,
      "overflow_y": null,
      "padding": null,
      "right": null,
      "top": null,
      "visibility": null,
      "width": null
     }
    },
    "3e620b8cd3fb43ac8d88bd91fe406015": {
     "model_module": "@jupyter-widgets/base",
     "model_module_version": "1.2.0",
     "model_name": "LayoutModel",
     "state": {
      "_model_module": "@jupyter-widgets/base",
      "_model_module_version": "1.2.0",
      "_model_name": "LayoutModel",
      "_view_count": null,
      "_view_module": "@jupyter-widgets/base",
      "_view_module_version": "1.2.0",
      "_view_name": "LayoutView",
      "align_content": null,
      "align_items": null,
      "align_self": null,
      "border": null,
      "bottom": null,
      "display": null,
      "flex": null,
      "flex_flow": null,
      "grid_area": null,
      "grid_auto_columns": null,
      "grid_auto_flow": null,
      "grid_auto_rows": null,
      "grid_column": null,
      "grid_gap": null,
      "grid_row": null,
      "grid_template_areas": null,
      "grid_template_columns": null,
      "grid_template_rows": null,
      "height": null,
      "justify_content": null,
      "justify_items": null,
      "left": null,
      "margin": null,
      "max_height": null,
      "max_width": null,
      "min_height": null,
      "min_width": null,
      "object_fit": null,
      "object_position": null,
      "order": null,
      "overflow": null,
      "overflow_x": null,
      "overflow_y": null,
      "padding": null,
      "right": null,
      "top": null,
      "visibility": null,
      "width": null
     }
    },
    "3fbf40faf62946b08a43b9af7d55dd58": {
     "model_module": "@jupyter-widgets/controls",
     "model_module_version": "1.5.0",
     "model_name": "DescriptionStyleModel",
     "state": {
      "_model_module": "@jupyter-widgets/controls",
      "_model_module_version": "1.5.0",
      "_model_name": "DescriptionStyleModel",
      "_view_count": null,
      "_view_module": "@jupyter-widgets/base",
      "_view_module_version": "1.2.0",
      "_view_name": "StyleView",
      "description_width": ""
     }
    },
    "4119f1c2867e41f295f65aa50ae72d33": {
     "model_module": "@jupyter-widgets/controls",
     "model_module_version": "1.5.0",
     "model_name": "HTMLModel",
     "state": {
      "_dom_classes": [],
      "_model_module": "@jupyter-widgets/controls",
      "_model_module_version": "1.5.0",
      "_model_name": "HTMLModel",
      "_view_count": null,
      "_view_module": "@jupyter-widgets/controls",
      "_view_module_version": "1.5.0",
      "_view_name": "HTMLView",
      "description": "",
      "description_tooltip": null,
      "layout": "IPY_MODEL_4bd5be1d9e0c4e80bbb3e5bb21deb889",
      "placeholder": "​",
      "style": "IPY_MODEL_154354ca22f640158d1c656b977aa1dd",
      "value": "tokenizer_config.json: 100%"
     }
    },
    "4149d612557842c0991b8427a29af501": {
     "model_module": "@jupyter-widgets/controls",
     "model_module_version": "1.5.0",
     "model_name": "HTMLModel",
     "state": {
      "_dom_classes": [],
      "_model_module": "@jupyter-widgets/controls",
      "_model_module_version": "1.5.0",
      "_model_name": "HTMLModel",
      "_view_count": null,
      "_view_module": "@jupyter-widgets/controls",
      "_view_module_version": "1.5.0",
      "_view_name": "HTMLView",
      "description": "",
      "description_tooltip": null,
      "layout": "IPY_MODEL_f5372a2a57c549ebad42cbdf09fca782",
      "placeholder": "​",
      "style": "IPY_MODEL_acb5f47540474a59a58f1fa98a36df47",
      "value": " 714M/714M [00:08&lt;00:00, 134MB/s]"
     }
    },
    "42621652e30c4e97b94ca628ffcbb4c7": {
     "model_module": "@jupyter-widgets/controls",
     "model_module_version": "1.5.0",
     "model_name": "HTMLModel",
     "state": {
      "_dom_classes": [],
      "_model_module": "@jupyter-widgets/controls",
      "_model_module_version": "1.5.0",
      "_model_name": "HTMLModel",
      "_view_count": null,
      "_view_module": "@jupyter-widgets/controls",
      "_view_module_version": "1.5.0",
      "_view_name": "HTMLView",
      "description": "",
      "description_tooltip": null,
      "layout": "IPY_MODEL_ba13b9f022d64625adacb4dac06f920b",
      "placeholder": "​",
      "style": "IPY_MODEL_7eaea27856294e539d6fafd06baa8441",
      "value": "Map: 100%"
     }
    },
    "4294da0ed1664df5874515d164e89116": {
     "model_module": "@jupyter-widgets/base",
     "model_module_version": "1.2.0",
     "model_name": "LayoutModel",
     "state": {
      "_model_module": "@jupyter-widgets/base",
      "_model_module_version": "1.2.0",
      "_model_name": "LayoutModel",
      "_view_count": null,
      "_view_module": "@jupyter-widgets/base",
      "_view_module_version": "1.2.0",
      "_view_name": "LayoutView",
      "align_content": null,
      "align_items": null,
      "align_self": null,
      "border": null,
      "bottom": null,
      "display": null,
      "flex": null,
      "flex_flow": null,
      "grid_area": null,
      "grid_auto_columns": null,
      "grid_auto_flow": null,
      "grid_auto_rows": null,
      "grid_column": null,
      "grid_gap": null,
      "grid_row": null,
      "grid_template_areas": null,
      "grid_template_columns": null,
      "grid_template_rows": null,
      "height": null,
      "justify_content": null,
      "justify_items": null,
      "left": null,
      "margin": null,
      "max_height": null,
      "max_width": null,
      "min_height": null,
      "min_width": null,
      "object_fit": null,
      "object_position": null,
      "order": null,
      "overflow": null,
      "overflow_x": null,
      "overflow_y": null,
      "padding": null,
      "right": null,
      "top": null,
      "visibility": null,
      "width": null
     }
    },
    "43b0cd069cf74bd5a8f82f6f6fa9ceb7": {
     "model_module": "@jupyter-widgets/controls",
     "model_module_version": "1.5.0",
     "model_name": "DescriptionStyleModel",
     "state": {
      "_model_module": "@jupyter-widgets/controls",
      "_model_module_version": "1.5.0",
      "_model_name": "DescriptionStyleModel",
      "_view_count": null,
      "_view_module": "@jupyter-widgets/base",
      "_view_module_version": "1.2.0",
      "_view_name": "StyleView",
      "description_width": ""
     }
    },
    "454e6a1b65fa47dc8e8eddcfc0ab9aac": {
     "model_module": "@jupyter-widgets/controls",
     "model_module_version": "1.5.0",
     "model_name": "DescriptionStyleModel",
     "state": {
      "_model_module": "@jupyter-widgets/controls",
      "_model_module_version": "1.5.0",
      "_model_name": "DescriptionStyleModel",
      "_view_count": null,
      "_view_module": "@jupyter-widgets/base",
      "_view_module_version": "1.2.0",
      "_view_name": "StyleView",
      "description_width": ""
     }
    },
    "4743b427613040a09426bace8b1b69ad": {
     "model_module": "@jupyter-widgets/base",
     "model_module_version": "1.2.0",
     "model_name": "LayoutModel",
     "state": {
      "_model_module": "@jupyter-widgets/base",
      "_model_module_version": "1.2.0",
      "_model_name": "LayoutModel",
      "_view_count": null,
      "_view_module": "@jupyter-widgets/base",
      "_view_module_version": "1.2.0",
      "_view_name": "LayoutView",
      "align_content": null,
      "align_items": null,
      "align_self": null,
      "border": null,
      "bottom": null,
      "display": null,
      "flex": null,
      "flex_flow": null,
      "grid_area": null,
      "grid_auto_columns": null,
      "grid_auto_flow": null,
      "grid_auto_rows": null,
      "grid_column": null,
      "grid_gap": null,
      "grid_row": null,
      "grid_template_areas": null,
      "grid_template_columns": null,
      "grid_template_rows": null,
      "height": null,
      "justify_content": null,
      "justify_items": null,
      "left": null,
      "margin": null,
      "max_height": null,
      "max_width": null,
      "min_height": null,
      "min_width": null,
      "object_fit": null,
      "object_position": null,
      "order": null,
      "overflow": null,
      "overflow_x": null,
      "overflow_y": null,
      "padding": null,
      "right": null,
      "top": null,
      "visibility": null,
      "width": null
     }
    },
    "4979de10b20d4162915629c704ddf11f": {
     "model_module": "@jupyter-widgets/base",
     "model_module_version": "1.2.0",
     "model_name": "LayoutModel",
     "state": {
      "_model_module": "@jupyter-widgets/base",
      "_model_module_version": "1.2.0",
      "_model_name": "LayoutModel",
      "_view_count": null,
      "_view_module": "@jupyter-widgets/base",
      "_view_module_version": "1.2.0",
      "_view_name": "LayoutView",
      "align_content": null,
      "align_items": null,
      "align_self": null,
      "border": null,
      "bottom": null,
      "display": null,
      "flex": null,
      "flex_flow": null,
      "grid_area": null,
      "grid_auto_columns": null,
      "grid_auto_flow": null,
      "grid_auto_rows": null,
      "grid_column": null,
      "grid_gap": null,
      "grid_row": null,
      "grid_template_areas": null,
      "grid_template_columns": null,
      "grid_template_rows": null,
      "height": null,
      "justify_content": null,
      "justify_items": null,
      "left": null,
      "margin": null,
      "max_height": null,
      "max_width": null,
      "min_height": null,
      "min_width": null,
      "object_fit": null,
      "object_position": null,
      "order": null,
      "overflow": null,
      "overflow_x": null,
      "overflow_y": null,
      "padding": null,
      "right": null,
      "top": null,
      "visibility": null,
      "width": null
     }
    },
    "49d4363d942f44e7af8c3b56437e709a": {
     "model_module": "@jupyter-widgets/controls",
     "model_module_version": "1.5.0",
     "model_name": "DescriptionStyleModel",
     "state": {
      "_model_module": "@jupyter-widgets/controls",
      "_model_module_version": "1.5.0",
      "_model_name": "DescriptionStyleModel",
      "_view_count": null,
      "_view_module": "@jupyter-widgets/base",
      "_view_module_version": "1.2.0",
      "_view_name": "StyleView",
      "description_width": ""
     }
    },
    "4adbdc817ea94be790357fe84c23aa24": {
     "model_module": "@jupyter-widgets/base",
     "model_module_version": "1.2.0",
     "model_name": "LayoutModel",
     "state": {
      "_model_module": "@jupyter-widgets/base",
      "_model_module_version": "1.2.0",
      "_model_name": "LayoutModel",
      "_view_count": null,
      "_view_module": "@jupyter-widgets/base",
      "_view_module_version": "1.2.0",
      "_view_name": "LayoutView",
      "align_content": null,
      "align_items": null,
      "align_self": null,
      "border": null,
      "bottom": null,
      "display": null,
      "flex": null,
      "flex_flow": null,
      "grid_area": null,
      "grid_auto_columns": null,
      "grid_auto_flow": null,
      "grid_auto_rows": null,
      "grid_column": null,
      "grid_gap": null,
      "grid_row": null,
      "grid_template_areas": null,
      "grid_template_columns": null,
      "grid_template_rows": null,
      "height": null,
      "justify_content": null,
      "justify_items": null,
      "left": null,
      "margin": null,
      "max_height": null,
      "max_width": null,
      "min_height": null,
      "min_width": null,
      "object_fit": null,
      "object_position": null,
      "order": null,
      "overflow": null,
      "overflow_x": null,
      "overflow_y": null,
      "padding": null,
      "right": null,
      "top": null,
      "visibility": null,
      "width": null
     }
    },
    "4bce56f768844dcfbad725cad43ba434": {
     "model_module": "@jupyter-widgets/controls",
     "model_module_version": "1.5.0",
     "model_name": "HBoxModel",
     "state": {
      "_dom_classes": [],
      "_model_module": "@jupyter-widgets/controls",
      "_model_module_version": "1.5.0",
      "_model_name": "HBoxModel",
      "_view_count": null,
      "_view_module": "@jupyter-widgets/controls",
      "_view_module_version": "1.5.0",
      "_view_name": "HBoxView",
      "box_style": "",
      "children": [
       "IPY_MODEL_ff60b9ef45924b82b2b75f03e06f6457",
       "IPY_MODEL_9d6339f0825a4a738ba5d65abb6786c4",
       "IPY_MODEL_f37f72bf662447edb0991f15b0930405"
      ],
      "layout": "IPY_MODEL_f80c329a78b24bf085f2894faf331823"
     }
    },
    "4bd5be1d9e0c4e80bbb3e5bb21deb889": {
     "model_module": "@jupyter-widgets/base",
     "model_module_version": "1.2.0",
     "model_name": "LayoutModel",
     "state": {
      "_model_module": "@jupyter-widgets/base",
      "_model_module_version": "1.2.0",
      "_model_name": "LayoutModel",
      "_view_count": null,
      "_view_module": "@jupyter-widgets/base",
      "_view_module_version": "1.2.0",
      "_view_name": "LayoutView",
      "align_content": null,
      "align_items": null,
      "align_self": null,
      "border": null,
      "bottom": null,
      "display": null,
      "flex": null,
      "flex_flow": null,
      "grid_area": null,
      "grid_auto_columns": null,
      "grid_auto_flow": null,
      "grid_auto_rows": null,
      "grid_column": null,
      "grid_gap": null,
      "grid_row": null,
      "grid_template_areas": null,
      "grid_template_columns": null,
      "grid_template_rows": null,
      "height": null,
      "justify_content": null,
      "justify_items": null,
      "left": null,
      "margin": null,
      "max_height": null,
      "max_width": null,
      "min_height": null,
      "min_width": null,
      "object_fit": null,
      "object_position": null,
      "order": null,
      "overflow": null,
      "overflow_x": null,
      "overflow_y": null,
      "padding": null,
      "right": null,
      "top": null,
      "visibility": null,
      "width": null
     }
    },
    "4d691a19b83a40b1a1ccd1c4b74814e9": {
     "model_module": "@jupyter-widgets/controls",
     "model_module_version": "1.5.0",
     "model_name": "HBoxModel",
     "state": {
      "_dom_classes": [],
      "_model_module": "@jupyter-widgets/controls",
      "_model_module_version": "1.5.0",
      "_model_name": "HBoxModel",
      "_view_count": null,
      "_view_module": "@jupyter-widgets/controls",
      "_view_module_version": "1.5.0",
      "_view_name": "HBoxView",
      "box_style": "",
      "children": [
       "IPY_MODEL_31628ed092ce4f5e9d653cb0576bb479",
       "IPY_MODEL_9893f3fa33d14d0092cb1805e998364a",
       "IPY_MODEL_329d12f80c634ece9887a1a3c01812b9"
      ],
      "layout": "IPY_MODEL_7f8073cdc1b243da913ac548c652a455"
     }
    },
    "4e2e25dc6e0b4c31b5c2f43f4bedb152": {
     "model_module": "@jupyter-widgets/controls",
     "model_module_version": "1.5.0",
     "model_name": "ProgressStyleModel",
     "state": {
      "_model_module": "@jupyter-widgets/controls",
      "_model_module_version": "1.5.0",
      "_model_name": "ProgressStyleModel",
      "_view_count": null,
      "_view_module": "@jupyter-widgets/base",
      "_view_module_version": "1.2.0",
      "_view_name": "StyleView",
      "bar_color": null,
      "description_width": ""
     }
    },
    "4f5c2546862b4a5e84aef302fe2763a2": {
     "model_module": "@jupyter-widgets/controls",
     "model_module_version": "1.5.0",
     "model_name": "HBoxModel",
     "state": {
      "_dom_classes": [],
      "_model_module": "@jupyter-widgets/controls",
      "_model_module_version": "1.5.0",
      "_model_name": "HBoxModel",
      "_view_count": null,
      "_view_module": "@jupyter-widgets/controls",
      "_view_module_version": "1.5.0",
      "_view_name": "HBoxView",
      "box_style": "",
      "children": [
       "IPY_MODEL_4119f1c2867e41f295f65aa50ae72d33",
       "IPY_MODEL_af9253efd72b45ccb5e65e07bb64d9bb",
       "IPY_MODEL_bfd8565181c3468ea19e497ff1ffa066"
      ],
      "layout": "IPY_MODEL_1f46b7a8b35249d39d8b9e45e29a0e73"
     }
    },
    "504b50f7ad8f4ea0a33ea2c2b0969455": {
     "model_module": "@jupyter-widgets/controls",
     "model_module_version": "1.5.0",
     "model_name": "HTMLModel",
     "state": {
      "_dom_classes": [],
      "_model_module": "@jupyter-widgets/controls",
      "_model_module_version": "1.5.0",
      "_model_name": "HTMLModel",
      "_view_count": null,
      "_view_module": "@jupyter-widgets/controls",
      "_view_module_version": "1.5.0",
      "_view_name": "HTMLView",
      "description": "",
      "description_tooltip": null,
      "layout": "IPY_MODEL_ae2040d06fa143d1952887f4d1119fbb",
      "placeholder": "​",
      "style": "IPY_MODEL_3fbf40faf62946b08a43b9af7d55dd58",
      "value": " 1613/1613 [00:00&lt;00:00, 4790.50 examples/s]"
     }
    },
    "50db1fcddec04d62b907ae58eb0f0cbc": {
     "model_module": "@jupyter-widgets/controls",
     "model_module_version": "1.5.0",
     "model_name": "DescriptionStyleModel",
     "state": {
      "_model_module": "@jupyter-widgets/controls",
      "_model_module_version": "1.5.0",
      "_model_name": "DescriptionStyleModel",
      "_view_count": null,
      "_view_module": "@jupyter-widgets/base",
      "_view_module_version": "1.2.0",
      "_view_name": "StyleView",
      "description_width": ""
     }
    },
    "529ab68d88974404885a2c12d95c45f6": {
     "model_module": "@jupyter-widgets/controls",
     "model_module_version": "1.5.0",
     "model_name": "DescriptionStyleModel",
     "state": {
      "_model_module": "@jupyter-widgets/controls",
      "_model_module_version": "1.5.0",
      "_model_name": "DescriptionStyleModel",
      "_view_count": null,
      "_view_module": "@jupyter-widgets/base",
      "_view_module_version": "1.2.0",
      "_view_name": "StyleView",
      "description_width": ""
     }
    },
    "541a96c3e6ea4bf3afab8385e6be1071": {
     "model_module": "@jupyter-widgets/base",
     "model_module_version": "1.2.0",
     "model_name": "LayoutModel",
     "state": {
      "_model_module": "@jupyter-widgets/base",
      "_model_module_version": "1.2.0",
      "_model_name": "LayoutModel",
      "_view_count": null,
      "_view_module": "@jupyter-widgets/base",
      "_view_module_version": "1.2.0",
      "_view_name": "LayoutView",
      "align_content": null,
      "align_items": null,
      "align_self": null,
      "border": null,
      "bottom": null,
      "display": null,
      "flex": null,
      "flex_flow": null,
      "grid_area": null,
      "grid_auto_columns": null,
      "grid_auto_flow": null,
      "grid_auto_rows": null,
      "grid_column": null,
      "grid_gap": null,
      "grid_row": null,
      "grid_template_areas": null,
      "grid_template_columns": null,
      "grid_template_rows": null,
      "height": null,
      "justify_content": null,
      "justify_items": null,
      "left": null,
      "margin": null,
      "max_height": null,
      "max_width": null,
      "min_height": null,
      "min_width": null,
      "object_fit": null,
      "object_position": null,
      "order": null,
      "overflow": null,
      "overflow_x": null,
      "overflow_y": null,
      "padding": null,
      "right": null,
      "top": null,
      "visibility": null,
      "width": null
     }
    },
    "54b6a571b61643babb938dd04c39efdf": {
     "model_module": "@jupyter-widgets/controls",
     "model_module_version": "1.5.0",
     "model_name": "DescriptionStyleModel",
     "state": {
      "_model_module": "@jupyter-widgets/controls",
      "_model_module_version": "1.5.0",
      "_model_name": "DescriptionStyleModel",
      "_view_count": null,
      "_view_module": "@jupyter-widgets/base",
      "_view_module_version": "1.2.0",
      "_view_name": "StyleView",
      "description_width": ""
     }
    },
    "5624717c848c415689874b77efce864a": {
     "model_module": "@jupyter-widgets/controls",
     "model_module_version": "1.5.0",
     "model_name": "HBoxModel",
     "state": {
      "_dom_classes": [],
      "_model_module": "@jupyter-widgets/controls",
      "_model_module_version": "1.5.0",
      "_model_name": "HBoxModel",
      "_view_count": null,
      "_view_module": "@jupyter-widgets/controls",
      "_view_module_version": "1.5.0",
      "_view_name": "HBoxView",
      "box_style": "",
      "children": [
       "IPY_MODEL_206284f0d1aa4b60a6bb8c28b7ca4747",
       "IPY_MODEL_98eb1473520547cb85976d45babefbd0",
       "IPY_MODEL_8c4c94bef9da4b4bb415ac26bd414d02"
      ],
      "layout": "IPY_MODEL_d34c924d6be44289bc7779af3b1db5f0"
     }
    },
    "573a051a38fb4c918c053349dbe0b48a": {
     "model_module": "@jupyter-widgets/controls",
     "model_module_version": "1.5.0",
     "model_name": "DescriptionStyleModel",
     "state": {
      "_model_module": "@jupyter-widgets/controls",
      "_model_module_version": "1.5.0",
      "_model_name": "DescriptionStyleModel",
      "_view_count": null,
      "_view_module": "@jupyter-widgets/base",
      "_view_module_version": "1.2.0",
      "_view_name": "StyleView",
      "description_width": ""
     }
    },
    "57c295c5020d4153bcbb117e173e2053": {
     "model_module": "@jupyter-widgets/base",
     "model_module_version": "1.2.0",
     "model_name": "LayoutModel",
     "state": {
      "_model_module": "@jupyter-widgets/base",
      "_model_module_version": "1.2.0",
      "_model_name": "LayoutModel",
      "_view_count": null,
      "_view_module": "@jupyter-widgets/base",
      "_view_module_version": "1.2.0",
      "_view_name": "LayoutView",
      "align_content": null,
      "align_items": null,
      "align_self": null,
      "border": null,
      "bottom": null,
      "display": null,
      "flex": null,
      "flex_flow": null,
      "grid_area": null,
      "grid_auto_columns": null,
      "grid_auto_flow": null,
      "grid_auto_rows": null,
      "grid_column": null,
      "grid_gap": null,
      "grid_row": null,
      "grid_template_areas": null,
      "grid_template_columns": null,
      "grid_template_rows": null,
      "height": null,
      "justify_content": null,
      "justify_items": null,
      "left": null,
      "margin": null,
      "max_height": null,
      "max_width": null,
      "min_height": null,
      "min_width": null,
      "object_fit": null,
      "object_position": null,
      "order": null,
      "overflow": null,
      "overflow_x": null,
      "overflow_y": null,
      "padding": null,
      "right": null,
      "top": null,
      "visibility": null,
      "width": null
     }
    },
    "5a0985a72ac54f17848fd5e654385646": {
     "model_module": "@jupyter-widgets/base",
     "model_module_version": "1.2.0",
     "model_name": "LayoutModel",
     "state": {
      "_model_module": "@jupyter-widgets/base",
      "_model_module_version": "1.2.0",
      "_model_name": "LayoutModel",
      "_view_count": null,
      "_view_module": "@jupyter-widgets/base",
      "_view_module_version": "1.2.0",
      "_view_name": "LayoutView",
      "align_content": null,
      "align_items": null,
      "align_self": null,
      "border": null,
      "bottom": null,
      "display": null,
      "flex": null,
      "flex_flow": null,
      "grid_area": null,
      "grid_auto_columns": null,
      "grid_auto_flow": null,
      "grid_auto_rows": null,
      "grid_column": null,
      "grid_gap": null,
      "grid_row": null,
      "grid_template_areas": null,
      "grid_template_columns": null,
      "grid_template_rows": null,
      "height": null,
      "justify_content": null,
      "justify_items": null,
      "left": null,
      "margin": null,
      "max_height": null,
      "max_width": null,
      "min_height": null,
      "min_width": null,
      "object_fit": null,
      "object_position": null,
      "order": null,
      "overflow": null,
      "overflow_x": null,
      "overflow_y": null,
      "padding": null,
      "right": null,
      "top": null,
      "visibility": null,
      "width": null
     }
    },
    "5c89797cce78466ba3ea3d1d29c39bef": {
     "model_module": "@jupyter-widgets/controls",
     "model_module_version": "1.5.0",
     "model_name": "DescriptionStyleModel",
     "state": {
      "_model_module": "@jupyter-widgets/controls",
      "_model_module_version": "1.5.0",
      "_model_name": "DescriptionStyleModel",
      "_view_count": null,
      "_view_module": "@jupyter-widgets/base",
      "_view_module_version": "1.2.0",
      "_view_name": "StyleView",
      "description_width": ""
     }
    },
    "5ce41c97d8d148a692093473a7866106": {
     "model_module": "@jupyter-widgets/controls",
     "model_module_version": "1.5.0",
     "model_name": "HTMLModel",
     "state": {
      "_dom_classes": [],
      "_model_module": "@jupyter-widgets/controls",
      "_model_module_version": "1.5.0",
      "_model_name": "HTMLModel",
      "_view_count": null,
      "_view_module": "@jupyter-widgets/controls",
      "_view_module_version": "1.5.0",
      "_view_name": "HTMLView",
      "description": "",
      "description_tooltip": null,
      "layout": "IPY_MODEL_9a53cb63d02944fab09c60825aa42d7b",
      "placeholder": "​",
      "style": "IPY_MODEL_54b6a571b61643babb938dd04c39efdf",
      "value": "Map: 100%"
     }
    },
    "604b0934488b4aa89503b99ab925a9ca": {
     "model_module": "@jupyter-widgets/controls",
     "model_module_version": "1.5.0",
     "model_name": "DescriptionStyleModel",
     "state": {
      "_model_module": "@jupyter-widgets/controls",
      "_model_module_version": "1.5.0",
      "_model_name": "DescriptionStyleModel",
      "_view_count": null,
      "_view_module": "@jupyter-widgets/base",
      "_view_module_version": "1.2.0",
      "_view_name": "StyleView",
      "description_width": ""
     }
    },
    "60f6a12df3b14ee59850554e03f1af94": {
     "model_module": "@jupyter-widgets/controls",
     "model_module_version": "1.5.0",
     "model_name": "HTMLModel",
     "state": {
      "_dom_classes": [],
      "_model_module": "@jupyter-widgets/controls",
      "_model_module_version": "1.5.0",
      "_model_name": "HTMLModel",
      "_view_count": null,
      "_view_module": "@jupyter-widgets/controls",
      "_view_module_version": "1.5.0",
      "_view_name": "HTMLView",
      "description": "",
      "description_tooltip": null,
      "layout": "IPY_MODEL_eface0f25ccf4dbba23881a6f266af1f",
      "placeholder": "​",
      "style": "IPY_MODEL_573a051a38fb4c918c053349dbe0b48a",
      "value": "vocab.txt: 100%"
     }
    },
    "61c3299ce3c84a8bbf99653cccc5be06": {
     "model_module": "@jupyter-widgets/controls",
     "model_module_version": "1.5.0",
     "model_name": "ProgressStyleModel",
     "state": {
      "_model_module": "@jupyter-widgets/controls",
      "_model_module_version": "1.5.0",
      "_model_name": "ProgressStyleModel",
      "_view_count": null,
      "_view_module": "@jupyter-widgets/base",
      "_view_module_version": "1.2.0",
      "_view_name": "StyleView",
      "bar_color": null,
      "description_width": ""
     }
    },
    "6200fe883caa4e659cb349815d6d3ed3": {
     "model_module": "@jupyter-widgets/controls",
     "model_module_version": "1.5.0",
     "model_name": "HTMLModel",
     "state": {
      "_dom_classes": [],
      "_model_module": "@jupyter-widgets/controls",
      "_model_module_version": "1.5.0",
      "_model_name": "HTMLModel",
      "_view_count": null,
      "_view_module": "@jupyter-widgets/controls",
      "_view_module_version": "1.5.0",
      "_view_name": "HTMLView",
      "description": "",
      "description_tooltip": null,
      "layout": "IPY_MODEL_c256909dae4a49898a70914ffc6559b3",
      "placeholder": "​",
      "style": "IPY_MODEL_f0e4c3cbae8c421eb3397aa9092b8d35",
      "value": " 462/462 [00:00&lt;00:00, 1872.06 examples/s]"
     }
    },
    "679d6a83015340f599dfbf52fbabe3a6": {
     "model_module": "@jupyter-widgets/base",
     "model_module_version": "1.2.0",
     "model_name": "LayoutModel",
     "state": {
      "_model_module": "@jupyter-widgets/base",
      "_model_module_version": "1.2.0",
      "_model_name": "LayoutModel",
      "_view_count": null,
      "_view_module": "@jupyter-widgets/base",
      "_view_module_version": "1.2.0",
      "_view_name": "LayoutView",
      "align_content": null,
      "align_items": null,
      "align_self": null,
      "border": null,
      "bottom": null,
      "display": null,
      "flex": null,
      "flex_flow": null,
      "grid_area": null,
      "grid_auto_columns": null,
      "grid_auto_flow": null,
      "grid_auto_rows": null,
      "grid_column": null,
      "grid_gap": null,
      "grid_row": null,
      "grid_template_areas": null,
      "grid_template_columns": null,
      "grid_template_rows": null,
      "height": null,
      "justify_content": null,
      "justify_items": null,
      "left": null,
      "margin": null,
      "max_height": null,
      "max_width": null,
      "min_height": null,
      "min_width": null,
      "object_fit": null,
      "object_position": null,
      "order": null,
      "overflow": null,
      "overflow_x": null,
      "overflow_y": null,
      "padding": null,
      "right": null,
      "top": null,
      "visibility": null,
      "width": null
     }
    },
    "67daff4f82f349e186de38fbc21461ce": {
     "model_module": "@jupyter-widgets/base",
     "model_module_version": "1.2.0",
     "model_name": "LayoutModel",
     "state": {
      "_model_module": "@jupyter-widgets/base",
      "_model_module_version": "1.2.0",
      "_model_name": "LayoutModel",
      "_view_count": null,
      "_view_module": "@jupyter-widgets/base",
      "_view_module_version": "1.2.0",
      "_view_name": "LayoutView",
      "align_content": null,
      "align_items": null,
      "align_self": null,
      "border": null,
      "bottom": null,
      "display": null,
      "flex": null,
      "flex_flow": null,
      "grid_area": null,
      "grid_auto_columns": null,
      "grid_auto_flow": null,
      "grid_auto_rows": null,
      "grid_column": null,
      "grid_gap": null,
      "grid_row": null,
      "grid_template_areas": null,
      "grid_template_columns": null,
      "grid_template_rows": null,
      "height": null,
      "justify_content": null,
      "justify_items": null,
      "left": null,
      "margin": null,
      "max_height": null,
      "max_width": null,
      "min_height": null,
      "min_width": null,
      "object_fit": null,
      "object_position": null,
      "order": null,
      "overflow": null,
      "overflow_x": null,
      "overflow_y": null,
      "padding": null,
      "right": null,
      "top": null,
      "visibility": null,
      "width": null
     }
    },
    "687fb2161a8b4b0ca95a7aca863206af": {
     "model_module": "@jupyter-widgets/controls",
     "model_module_version": "1.5.0",
     "model_name": "DescriptionStyleModel",
     "state": {
      "_model_module": "@jupyter-widgets/controls",
      "_model_module_version": "1.5.0",
      "_model_name": "DescriptionStyleModel",
      "_view_count": null,
      "_view_module": "@jupyter-widgets/base",
      "_view_module_version": "1.2.0",
      "_view_name": "StyleView",
      "description_width": ""
     }
    },
    "68cd9cd8974a4e6c873b46171fbd8431": {
     "model_module": "@jupyter-widgets/controls",
     "model_module_version": "1.5.0",
     "model_name": "DescriptionStyleModel",
     "state": {
      "_model_module": "@jupyter-widgets/controls",
      "_model_module_version": "1.5.0",
      "_model_name": "DescriptionStyleModel",
      "_view_count": null,
      "_view_module": "@jupyter-widgets/base",
      "_view_module_version": "1.2.0",
      "_view_name": "StyleView",
      "description_width": ""
     }
    },
    "6bd695cc9f9144ad90d1e5dedd5ae3e3": {
     "model_module": "@jupyter-widgets/controls",
     "model_module_version": "1.5.0",
     "model_name": "HBoxModel",
     "state": {
      "_dom_classes": [],
      "_model_module": "@jupyter-widgets/controls",
      "_model_module_version": "1.5.0",
      "_model_name": "HBoxModel",
      "_view_count": null,
      "_view_module": "@jupyter-widgets/controls",
      "_view_module_version": "1.5.0",
      "_view_name": "HBoxView",
      "box_style": "",
      "children": [
       "IPY_MODEL_1f1176f663f94cd0938b09109c79ca9d",
       "IPY_MODEL_2efa93cd656a427aa55fe85a35b002b6",
       "IPY_MODEL_81e6f4a7e2ae4483b133aa8196393a60"
      ],
      "layout": "IPY_MODEL_985211316cdb46e7b80caa32b2d97690"
     }
    },
    "6d2f82e7ba6d44429fc9d7def5aecd0d": {
     "model_module": "@jupyter-widgets/controls",
     "model_module_version": "1.5.0",
     "model_name": "HTMLModel",
     "state": {
      "_dom_classes": [],
      "_model_module": "@jupyter-widgets/controls",
      "_model_module_version": "1.5.0",
      "_model_name": "HTMLModel",
      "_view_count": null,
      "_view_module": "@jupyter-widgets/controls",
      "_view_module_version": "1.5.0",
      "_view_name": "HTMLView",
      "description": "",
      "description_tooltip": null,
      "layout": "IPY_MODEL_679d6a83015340f599dfbf52fbabe3a6",
      "placeholder": "​",
      "style": "IPY_MODEL_454e6a1b65fa47dc8e8eddcfc0ab9aac",
      "value": " 625/625 [00:00&lt;00:00, 26.7kB/s]"
     }
    },
    "6d6be3ffc7494013aa15422706dabcd2": {
     "model_module": "@jupyter-widgets/controls",
     "model_module_version": "1.5.0",
     "model_name": "DescriptionStyleModel",
     "state": {
      "_model_module": "@jupyter-widgets/controls",
      "_model_module_version": "1.5.0",
      "_model_name": "DescriptionStyleModel",
      "_view_count": null,
      "_view_module": "@jupyter-widgets/base",
      "_view_module_version": "1.2.0",
      "_view_name": "StyleView",
      "description_width": ""
     }
    },
    "6da18395ef434ee0a3de37a2b169dfa2": {
     "model_module": "@jupyter-widgets/controls",
     "model_module_version": "1.5.0",
     "model_name": "DescriptionStyleModel",
     "state": {
      "_model_module": "@jupyter-widgets/controls",
      "_model_module_version": "1.5.0",
      "_model_name": "DescriptionStyleModel",
      "_view_count": null,
      "_view_module": "@jupyter-widgets/base",
      "_view_module_version": "1.2.0",
      "_view_name": "StyleView",
      "description_width": ""
     }
    },
    "6e7d258f42b94ec385f8aa742da488af": {
     "model_module": "@jupyter-widgets/base",
     "model_module_version": "1.2.0",
     "model_name": "LayoutModel",
     "state": {
      "_model_module": "@jupyter-widgets/base",
      "_model_module_version": "1.2.0",
      "_model_name": "LayoutModel",
      "_view_count": null,
      "_view_module": "@jupyter-widgets/base",
      "_view_module_version": "1.2.0",
      "_view_name": "LayoutView",
      "align_content": null,
      "align_items": null,
      "align_self": null,
      "border": null,
      "bottom": null,
      "display": null,
      "flex": null,
      "flex_flow": null,
      "grid_area": null,
      "grid_auto_columns": null,
      "grid_auto_flow": null,
      "grid_auto_rows": null,
      "grid_column": null,
      "grid_gap": null,
      "grid_row": null,
      "grid_template_areas": null,
      "grid_template_columns": null,
      "grid_template_rows": null,
      "height": null,
      "justify_content": null,
      "justify_items": null,
      "left": null,
      "margin": null,
      "max_height": null,
      "max_width": null,
      "min_height": null,
      "min_width": null,
      "object_fit": null,
      "object_position": null,
      "order": null,
      "overflow": null,
      "overflow_x": null,
      "overflow_y": null,
      "padding": null,
      "right": null,
      "top": null,
      "visibility": null,
      "width": null
     }
    },
    "708948218d0c4de58cbc842b978d96d6": {
     "model_module": "@jupyter-widgets/base",
     "model_module_version": "1.2.0",
     "model_name": "LayoutModel",
     "state": {
      "_model_module": "@jupyter-widgets/base",
      "_model_module_version": "1.2.0",
      "_model_name": "LayoutModel",
      "_view_count": null,
      "_view_module": "@jupyter-widgets/base",
      "_view_module_version": "1.2.0",
      "_view_name": "LayoutView",
      "align_content": null,
      "align_items": null,
      "align_self": null,
      "border": null,
      "bottom": null,
      "display": null,
      "flex": null,
      "flex_flow": null,
      "grid_area": null,
      "grid_auto_columns": null,
      "grid_auto_flow": null,
      "grid_auto_rows": null,
      "grid_column": null,
      "grid_gap": null,
      "grid_row": null,
      "grid_template_areas": null,
      "grid_template_columns": null,
      "grid_template_rows": null,
      "height": null,
      "justify_content": null,
      "justify_items": null,
      "left": null,
      "margin": null,
      "max_height": null,
      "max_width": null,
      "min_height": null,
      "min_width": null,
      "object_fit": null,
      "object_position": null,
      "order": null,
      "overflow": null,
      "overflow_x": null,
      "overflow_y": null,
      "padding": null,
      "right": null,
      "top": null,
      "visibility": null,
      "width": null
     }
    },
    "74716d051b754c0389e5c96049b77fe0": {
     "model_module": "@jupyter-widgets/controls",
     "model_module_version": "1.5.0",
     "model_name": "HTMLModel",
     "state": {
      "_dom_classes": [],
      "_model_module": "@jupyter-widgets/controls",
      "_model_module_version": "1.5.0",
      "_model_name": "HTMLModel",
      "_view_count": null,
      "_view_module": "@jupyter-widgets/controls",
      "_view_module_version": "1.5.0",
      "_view_name": "HTMLView",
      "description": "",
      "description_tooltip": null,
      "layout": "IPY_MODEL_b0d0ba274ac44a04ad6d52bbe0cd931f",
      "placeholder": "​",
      "style": "IPY_MODEL_68cd9cd8974a4e6c873b46171fbd8431",
      "value": "Map: 100%"
     }
    },
    "766b66c3c4694a80a10f1163f36a2f31": {
     "model_module": "@jupyter-widgets/base",
     "model_module_version": "1.2.0",
     "model_name": "LayoutModel",
     "state": {
      "_model_module": "@jupyter-widgets/base",
      "_model_module_version": "1.2.0",
      "_model_name": "LayoutModel",
      "_view_count": null,
      "_view_module": "@jupyter-widgets/base",
      "_view_module_version": "1.2.0",
      "_view_name": "LayoutView",
      "align_content": null,
      "align_items": null,
      "align_self": null,
      "border": null,
      "bottom": null,
      "display": null,
      "flex": null,
      "flex_flow": null,
      "grid_area": null,
      "grid_auto_columns": null,
      "grid_auto_flow": null,
      "grid_auto_rows": null,
      "grid_column": null,
      "grid_gap": null,
      "grid_row": null,
      "grid_template_areas": null,
      "grid_template_columns": null,
      "grid_template_rows": null,
      "height": null,
      "justify_content": null,
      "justify_items": null,
      "left": null,
      "margin": null,
      "max_height": null,
      "max_width": null,
      "min_height": null,
      "min_width": null,
      "object_fit": null,
      "object_position": null,
      "order": null,
      "overflow": null,
      "overflow_x": null,
      "overflow_y": null,
      "padding": null,
      "right": null,
      "top": null,
      "visibility": null,
      "width": null
     }
    },
    "76de685948324b429757440f48bc7b52": {
     "model_module": "@jupyter-widgets/base",
     "model_module_version": "1.2.0",
     "model_name": "LayoutModel",
     "state": {
      "_model_module": "@jupyter-widgets/base",
      "_model_module_version": "1.2.0",
      "_model_name": "LayoutModel",
      "_view_count": null,
      "_view_module": "@jupyter-widgets/base",
      "_view_module_version": "1.2.0",
      "_view_name": "LayoutView",
      "align_content": null,
      "align_items": null,
      "align_self": null,
      "border": null,
      "bottom": null,
      "display": null,
      "flex": null,
      "flex_flow": null,
      "grid_area": null,
      "grid_auto_columns": null,
      "grid_auto_flow": null,
      "grid_auto_rows": null,
      "grid_column": null,
      "grid_gap": null,
      "grid_row": null,
      "grid_template_areas": null,
      "grid_template_columns": null,
      "grid_template_rows": null,
      "height": null,
      "justify_content": null,
      "justify_items": null,
      "left": null,
      "margin": null,
      "max_height": null,
      "max_width": null,
      "min_height": null,
      "min_width": null,
      "object_fit": null,
      "object_position": null,
      "order": null,
      "overflow": null,
      "overflow_x": null,
      "overflow_y": null,
      "padding": null,
      "right": null,
      "top": null,
      "visibility": null,
      "width": null
     }
    },
    "77610a0ea910437e87d32047fdaeb6d0": {
     "model_module": "@jupyter-widgets/controls",
     "model_module_version": "1.5.0",
     "model_name": "DescriptionStyleModel",
     "state": {
      "_model_module": "@jupyter-widgets/controls",
      "_model_module_version": "1.5.0",
      "_model_name": "DescriptionStyleModel",
      "_view_count": null,
      "_view_module": "@jupyter-widgets/base",
      "_view_module_version": "1.2.0",
      "_view_name": "StyleView",
      "description_width": ""
     }
    },
    "778da1157ed54fae9650c81f574bfb02": {
     "model_module": "@jupyter-widgets/controls",
     "model_module_version": "1.5.0",
     "model_name": "ProgressStyleModel",
     "state": {
      "_model_module": "@jupyter-widgets/controls",
      "_model_module_version": "1.5.0",
      "_model_name": "ProgressStyleModel",
      "_view_count": null,
      "_view_module": "@jupyter-widgets/base",
      "_view_module_version": "1.2.0",
      "_view_name": "StyleView",
      "bar_color": null,
      "description_width": ""
     }
    },
    "77d49eac6e6244198c074f2975423632": {
     "model_module": "@jupyter-widgets/base",
     "model_module_version": "1.2.0",
     "model_name": "LayoutModel",
     "state": {
      "_model_module": "@jupyter-widgets/base",
      "_model_module_version": "1.2.0",
      "_model_name": "LayoutModel",
      "_view_count": null,
      "_view_module": "@jupyter-widgets/base",
      "_view_module_version": "1.2.0",
      "_view_name": "LayoutView",
      "align_content": null,
      "align_items": null,
      "align_self": null,
      "border": null,
      "bottom": null,
      "display": null,
      "flex": null,
      "flex_flow": null,
      "grid_area": null,
      "grid_auto_columns": null,
      "grid_auto_flow": null,
      "grid_auto_rows": null,
      "grid_column": null,
      "grid_gap": null,
      "grid_row": null,
      "grid_template_areas": null,
      "grid_template_columns": null,
      "grid_template_rows": null,
      "height": null,
      "justify_content": null,
      "justify_items": null,
      "left": null,
      "margin": null,
      "max_height": null,
      "max_width": null,
      "min_height": null,
      "min_width": null,
      "object_fit": null,
      "object_position": null,
      "order": null,
      "overflow": null,
      "overflow_x": null,
      "overflow_y": null,
      "padding": null,
      "right": null,
      "top": null,
      "visibility": null,
      "width": null
     }
    },
    "790712a4497243589e722f1579362a67": {
     "model_module": "@jupyter-widgets/base",
     "model_module_version": "1.2.0",
     "model_name": "LayoutModel",
     "state": {
      "_model_module": "@jupyter-widgets/base",
      "_model_module_version": "1.2.0",
      "_model_name": "LayoutModel",
      "_view_count": null,
      "_view_module": "@jupyter-widgets/base",
      "_view_module_version": "1.2.0",
      "_view_name": "LayoutView",
      "align_content": null,
      "align_items": null,
      "align_self": null,
      "border": null,
      "bottom": null,
      "display": null,
      "flex": null,
      "flex_flow": null,
      "grid_area": null,
      "grid_auto_columns": null,
      "grid_auto_flow": null,
      "grid_auto_rows": null,
      "grid_column": null,
      "grid_gap": null,
      "grid_row": null,
      "grid_template_areas": null,
      "grid_template_columns": null,
      "grid_template_rows": null,
      "height": null,
      "justify_content": null,
      "justify_items": null,
      "left": null,
      "margin": null,
      "max_height": null,
      "max_width": null,
      "min_height": null,
      "min_width": null,
      "object_fit": null,
      "object_position": null,
      "order": null,
      "overflow": null,
      "overflow_x": null,
      "overflow_y": null,
      "padding": null,
      "right": null,
      "top": null,
      "visibility": null,
      "width": null
     }
    },
    "7eaea27856294e539d6fafd06baa8441": {
     "model_module": "@jupyter-widgets/controls",
     "model_module_version": "1.5.0",
     "model_name": "DescriptionStyleModel",
     "state": {
      "_model_module": "@jupyter-widgets/controls",
      "_model_module_version": "1.5.0",
      "_model_name": "DescriptionStyleModel",
      "_view_count": null,
      "_view_module": "@jupyter-widgets/base",
      "_view_module_version": "1.2.0",
      "_view_name": "StyleView",
      "description_width": ""
     }
    },
    "7f3987349e3e4f0387f5730410a8c544": {
     "model_module": "@jupyter-widgets/controls",
     "model_module_version": "1.5.0",
     "model_name": "FloatProgressModel",
     "state": {
      "_dom_classes": [],
      "_model_module": "@jupyter-widgets/controls",
      "_model_module_version": "1.5.0",
      "_model_name": "FloatProgressModel",
      "_view_count": null,
      "_view_module": "@jupyter-widgets/controls",
      "_view_module_version": "1.5.0",
      "_view_name": "ProgressView",
      "bar_style": "success",
      "description": "",
      "description_tooltip": null,
      "layout": "IPY_MODEL_3c1871872c134698b6bb1bcc14ae6c05",
      "max": 625,
      "min": 0,
      "orientation": "horizontal",
      "style": "IPY_MODEL_89f686c9b6f64f5da30def5a0c3dfebc",
      "value": 625
     }
    },
    "7f8073cdc1b243da913ac548c652a455": {
     "model_module": "@jupyter-widgets/base",
     "model_module_version": "1.2.0",
     "model_name": "LayoutModel",
     "state": {
      "_model_module": "@jupyter-widgets/base",
      "_model_module_version": "1.2.0",
      "_model_name": "LayoutModel",
      "_view_count": null,
      "_view_module": "@jupyter-widgets/base",
      "_view_module_version": "1.2.0",
      "_view_name": "LayoutView",
      "align_content": null,
      "align_items": null,
      "align_self": null,
      "border": null,
      "bottom": null,
      "display": null,
      "flex": null,
      "flex_flow": null,
      "grid_area": null,
      "grid_auto_columns": null,
      "grid_auto_flow": null,
      "grid_auto_rows": null,
      "grid_column": null,
      "grid_gap": null,
      "grid_row": null,
      "grid_template_areas": null,
      "grid_template_columns": null,
      "grid_template_rows": null,
      "height": null,
      "justify_content": null,
      "justify_items": null,
      "left": null,
      "margin": null,
      "max_height": null,
      "max_width": null,
      "min_height": null,
      "min_width": null,
      "object_fit": null,
      "object_position": null,
      "order": null,
      "overflow": null,
      "overflow_x": null,
      "overflow_y": null,
      "padding": null,
      "right": null,
      "top": null,
      "visibility": null,
      "width": null
     }
    },
    "81e6f4a7e2ae4483b133aa8196393a60": {
     "model_module": "@jupyter-widgets/controls",
     "model_module_version": "1.5.0",
     "model_name": "HTMLModel",
     "state": {
      "_dom_classes": [],
      "_model_module": "@jupyter-widgets/controls",
      "_model_module_version": "1.5.0",
      "_model_name": "HTMLModel",
      "_view_count": null,
      "_view_module": "@jupyter-widgets/controls",
      "_view_module_version": "1.5.0",
      "_view_name": "HTMLView",
      "description": "",
      "description_tooltip": null,
      "layout": "IPY_MODEL_258c4b2e08fe49e6beb6661b888a9cae",
      "placeholder": "​",
      "style": "IPY_MODEL_49d4363d942f44e7af8c3b56437e709a",
      "value": " 1.96M/1.96M [00:00&lt;00:00, 16.1MB/s]"
     }
    },
    "834d321688034beba54b20f5211158f5": {
     "model_module": "@jupyter-widgets/base",
     "model_module_version": "1.2.0",
     "model_name": "LayoutModel",
     "state": {
      "_model_module": "@jupyter-widgets/base",
      "_model_module_version": "1.2.0",
      "_model_name": "LayoutModel",
      "_view_count": null,
      "_view_module": "@jupyter-widgets/base",
      "_view_module_version": "1.2.0",
      "_view_name": "LayoutView",
      "align_content": null,
      "align_items": null,
      "align_self": null,
      "border": null,
      "bottom": null,
      "display": null,
      "flex": null,
      "flex_flow": null,
      "grid_area": null,
      "grid_auto_columns": null,
      "grid_auto_flow": null,
      "grid_auto_rows": null,
      "grid_column": null,
      "grid_gap": null,
      "grid_row": null,
      "grid_template_areas": null,
      "grid_template_columns": null,
      "grid_template_rows": null,
      "height": null,
      "justify_content": null,
      "justify_items": null,
      "left": null,
      "margin": null,
      "max_height": null,
      "max_width": null,
      "min_height": null,
      "min_width": null,
      "object_fit": null,
      "object_position": null,
      "order": null,
      "overflow": null,
      "overflow_x": null,
      "overflow_y": null,
      "padding": null,
      "right": null,
      "top": null,
      "visibility": null,
      "width": null
     }
    },
    "86e70085d9b44937aa2e75b316f71e46": {
     "model_module": "@jupyter-widgets/controls",
     "model_module_version": "1.5.0",
     "model_name": "DescriptionStyleModel",
     "state": {
      "_model_module": "@jupyter-widgets/controls",
      "_model_module_version": "1.5.0",
      "_model_name": "DescriptionStyleModel",
      "_view_count": null,
      "_view_module": "@jupyter-widgets/base",
      "_view_module_version": "1.2.0",
      "_view_name": "StyleView",
      "description_width": ""
     }
    },
    "887a23605b9a47699a1bdbd371e507a7": {
     "model_module": "@jupyter-widgets/base",
     "model_module_version": "1.2.0",
     "model_name": "LayoutModel",
     "state": {
      "_model_module": "@jupyter-widgets/base",
      "_model_module_version": "1.2.0",
      "_model_name": "LayoutModel",
      "_view_count": null,
      "_view_module": "@jupyter-widgets/base",
      "_view_module_version": "1.2.0",
      "_view_name": "LayoutView",
      "align_content": null,
      "align_items": null,
      "align_self": null,
      "border": null,
      "bottom": null,
      "display": null,
      "flex": null,
      "flex_flow": null,
      "grid_area": null,
      "grid_auto_columns": null,
      "grid_auto_flow": null,
      "grid_auto_rows": null,
      "grid_column": null,
      "grid_gap": null,
      "grid_row": null,
      "grid_template_areas": null,
      "grid_template_columns": null,
      "grid_template_rows": null,
      "height": null,
      "justify_content": null,
      "justify_items": null,
      "left": null,
      "margin": null,
      "max_height": null,
      "max_width": null,
      "min_height": null,
      "min_width": null,
      "object_fit": null,
      "object_position": null,
      "order": null,
      "overflow": null,
      "overflow_x": null,
      "overflow_y": null,
      "padding": null,
      "right": null,
      "top": null,
      "visibility": null,
      "width": null
     }
    },
    "89f686c9b6f64f5da30def5a0c3dfebc": {
     "model_module": "@jupyter-widgets/controls",
     "model_module_version": "1.5.0",
     "model_name": "ProgressStyleModel",
     "state": {
      "_model_module": "@jupyter-widgets/controls",
      "_model_module_version": "1.5.0",
      "_model_name": "ProgressStyleModel",
      "_view_count": null,
      "_view_module": "@jupyter-widgets/base",
      "_view_module_version": "1.2.0",
      "_view_name": "StyleView",
      "bar_color": null,
      "description_width": ""
     }
    },
    "89fe748cce10496c8241a13a96b56df5": {
     "model_module": "@jupyter-widgets/base",
     "model_module_version": "1.2.0",
     "model_name": "LayoutModel",
     "state": {
      "_model_module": "@jupyter-widgets/base",
      "_model_module_version": "1.2.0",
      "_model_name": "LayoutModel",
      "_view_count": null,
      "_view_module": "@jupyter-widgets/base",
      "_view_module_version": "1.2.0",
      "_view_name": "LayoutView",
      "align_content": null,
      "align_items": null,
      "align_self": null,
      "border": null,
      "bottom": null,
      "display": null,
      "flex": null,
      "flex_flow": null,
      "grid_area": null,
      "grid_auto_columns": null,
      "grid_auto_flow": null,
      "grid_auto_rows": null,
      "grid_column": null,
      "grid_gap": null,
      "grid_row": null,
      "grid_template_areas": null,
      "grid_template_columns": null,
      "grid_template_rows": null,
      "height": null,
      "justify_content": null,
      "justify_items": null,
      "left": null,
      "margin": null,
      "max_height": null,
      "max_width": null,
      "min_height": null,
      "min_width": null,
      "object_fit": null,
      "object_position": null,
      "order": null,
      "overflow": null,
      "overflow_x": null,
      "overflow_y": null,
      "padding": null,
      "right": null,
      "top": null,
      "visibility": null,
      "width": null
     }
    },
    "8aff9b807110486fb5ab05405239f385": {
     "model_module": "@jupyter-widgets/controls",
     "model_module_version": "1.5.0",
     "model_name": "DescriptionStyleModel",
     "state": {
      "_model_module": "@jupyter-widgets/controls",
      "_model_module_version": "1.5.0",
      "_model_name": "DescriptionStyleModel",
      "_view_count": null,
      "_view_module": "@jupyter-widgets/base",
      "_view_module_version": "1.2.0",
      "_view_name": "StyleView",
      "description_width": ""
     }
    },
    "8c4c94bef9da4b4bb415ac26bd414d02": {
     "model_module": "@jupyter-widgets/controls",
     "model_module_version": "1.5.0",
     "model_name": "HTMLModel",
     "state": {
      "_dom_classes": [],
      "_model_module": "@jupyter-widgets/controls",
      "_model_module_version": "1.5.0",
      "_model_name": "HTMLModel",
      "_view_count": null,
      "_view_module": "@jupyter-widgets/controls",
      "_view_module_version": "1.5.0",
      "_view_name": "HTMLView",
      "description": "",
      "description_tooltip": null,
      "layout": "IPY_MODEL_00730734725a473db059e25e29967fef",
      "placeholder": "​",
      "style": "IPY_MODEL_77610a0ea910437e87d32047fdaeb6d0",
      "value": " 6.79k/6.79k [00:00&lt;00:00, 458kB/s]"
     }
    },
    "8d56e6544e084544ba20fcad1907fdd8": {
     "model_module": "@jupyter-widgets/controls",
     "model_module_version": "1.5.0",
     "model_name": "HTMLModel",
     "state": {
      "_dom_classes": [],
      "_model_module": "@jupyter-widgets/controls",
      "_model_module_version": "1.5.0",
      "_model_name": "HTMLModel",
      "_view_count": null,
      "_view_module": "@jupyter-widgets/controls",
      "_view_module_version": "1.5.0",
      "_view_name": "HTMLView",
      "description": "",
      "description_tooltip": null,
      "layout": "IPY_MODEL_d535a27abfad4651817b3e7bcf50c195",
      "placeholder": "​",
      "style": "IPY_MODEL_128a2635d07841c694d440cb5c32a6d9",
      "value": "Map: 100%"
     }
    },
    "8f12c1d502534d82807a19415542ee67": {
     "model_module": "@jupyter-widgets/controls",
     "model_module_version": "1.5.0",
     "model_name": "FloatProgressModel",
     "state": {
      "_dom_classes": [],
      "_model_module": "@jupyter-widgets/controls",
      "_model_module_version": "1.5.0",
      "_model_name": "FloatProgressModel",
      "_view_count": null,
      "_view_module": "@jupyter-widgets/controls",
      "_view_module_version": "1.5.0",
      "_view_name": "ProgressView",
      "bar_style": "success",
      "description": "",
      "description_tooltip": null,
      "layout": "IPY_MODEL_89fe748cce10496c8241a13a96b56df5",
      "max": 714290682,
      "min": 0,
      "orientation": "horizontal",
      "style": "IPY_MODEL_c853df2b6504424d974f84bd5ced04d7",
      "value": 714290682
     }
    },
    "8fa73322f0594c58b9524485feb4d5f8": {
     "model_module": "@jupyter-widgets/controls",
     "model_module_version": "1.5.0",
     "model_name": "HBoxModel",
     "state": {
      "_dom_classes": [],
      "_model_module": "@jupyter-widgets/controls",
      "_model_module_version": "1.5.0",
      "_model_name": "HBoxModel",
      "_view_count": null,
      "_view_module": "@jupyter-widgets/controls",
      "_view_module_version": "1.5.0",
      "_view_name": "HBoxView",
      "box_style": "",
      "children": [
       "IPY_MODEL_d42c0c919c0d4a0abcdaa0bdca360e48",
       "IPY_MODEL_7f3987349e3e4f0387f5730410a8c544",
       "IPY_MODEL_6d2f82e7ba6d44429fc9d7def5aecd0d"
      ],
      "layout": "IPY_MODEL_3206c51d243843e4960785663dab31e1"
     }
    },
    "8fe4dece1922424abba2eb0aa74fb93b": {
     "model_module": "@jupyter-widgets/base",
     "model_module_version": "1.2.0",
     "model_name": "LayoutModel",
     "state": {
      "_model_module": "@jupyter-widgets/base",
      "_model_module_version": "1.2.0",
      "_model_name": "LayoutModel",
      "_view_count": null,
      "_view_module": "@jupyter-widgets/base",
      "_view_module_version": "1.2.0",
      "_view_name": "LayoutView",
      "align_content": null,
      "align_items": null,
      "align_self": null,
      "border": null,
      "bottom": null,
      "display": null,
      "flex": null,
      "flex_flow": null,
      "grid_area": null,
      "grid_auto_columns": null,
      "grid_auto_flow": null,
      "grid_auto_rows": null,
      "grid_column": null,
      "grid_gap": null,
      "grid_row": null,
      "grid_template_areas": null,
      "grid_template_columns": null,
      "grid_template_rows": null,
      "height": null,
      "justify_content": null,
      "justify_items": null,
      "left": null,
      "margin": null,
      "max_height": null,
      "max_width": null,
      "min_height": null,
      "min_width": null,
      "object_fit": null,
      "object_position": null,
      "order": null,
      "overflow": null,
      "overflow_x": null,
      "overflow_y": null,
      "padding": null,
      "right": null,
      "top": null,
      "visibility": null,
      "width": null
     }
    },
    "9169ee49bbc546249bbbda1ade8556ce": {
     "model_module": "@jupyter-widgets/controls",
     "model_module_version": "1.5.0",
     "model_name": "DescriptionStyleModel",
     "state": {
      "_model_module": "@jupyter-widgets/controls",
      "_model_module_version": "1.5.0",
      "_model_name": "DescriptionStyleModel",
      "_view_count": null,
      "_view_module": "@jupyter-widgets/base",
      "_view_module_version": "1.2.0",
      "_view_name": "StyleView",
      "description_width": ""
     }
    },
    "91fe51c49c3a4757acdb6339cf2363ec": {
     "model_module": "@jupyter-widgets/controls",
     "model_module_version": "1.5.0",
     "model_name": "HBoxModel",
     "state": {
      "_dom_classes": [],
      "_model_module": "@jupyter-widgets/controls",
      "_model_module_version": "1.5.0",
      "_model_name": "HBoxModel",
      "_view_count": null,
      "_view_module": "@jupyter-widgets/controls",
      "_view_module_version": "1.5.0",
      "_view_name": "HBoxView",
      "box_style": "",
      "children": [
       "IPY_MODEL_062f6ae75b78458f9336413ea5ae4725",
       "IPY_MODEL_cc1c77df6fab45acbae78f2e67c932ae",
       "IPY_MODEL_93f09908088a41618bbb6d423a9bf20b"
      ],
      "layout": "IPY_MODEL_0c3a935a18ee4f1184420fbd41200811"
     }
    },
    "93f09908088a41618bbb6d423a9bf20b": {
     "model_module": "@jupyter-widgets/controls",
     "model_module_version": "1.5.0",
     "model_name": "HTMLModel",
     "state": {
      "_dom_classes": [],
      "_model_module": "@jupyter-widgets/controls",
      "_model_module_version": "1.5.0",
      "_model_name": "HTMLModel",
      "_view_count": null,
      "_view_module": "@jupyter-widgets/controls",
      "_view_module_version": "1.5.0",
      "_view_name": "HTMLView",
      "description": "",
      "description_tooltip": null,
      "layout": "IPY_MODEL_f303ac7175044f1c82388d3da8dd6ecf",
      "placeholder": "​",
      "style": "IPY_MODEL_9169ee49bbc546249bbbda1ade8556ce",
      "value": " 206/206 [00:00&lt;00:00, 3251.64 examples/s]"
     }
    },
    "9430d139fcc343b2a88d32e62dbfdde8": {
     "model_module": "@jupyter-widgets/controls",
     "model_module_version": "1.5.0",
     "model_name": "HTMLModel",
     "state": {
      "_dom_classes": [],
      "_model_module": "@jupyter-widgets/controls",
      "_model_module_version": "1.5.0",
      "_model_name": "HTMLModel",
      "_view_count": null,
      "_view_module": "@jupyter-widgets/controls",
      "_view_module_version": "1.5.0",
      "_view_name": "HTMLView",
      "description": "",
      "description_tooltip": null,
      "layout": "IPY_MODEL_67daff4f82f349e186de38fbc21461ce",
      "placeholder": "​",
      "style": "IPY_MODEL_a22960c49cf74b449415aafd32fcef12",
      "value": " 2393/2393 [00:00&lt;00:00, 4655.67 examples/s]"
     }
    },
    "9548ec838dd64f0c861e78742095a9c8": {
     "model_module": "@jupyter-widgets/base",
     "model_module_version": "1.2.0",
     "model_name": "LayoutModel",
     "state": {
      "_model_module": "@jupyter-widgets/base",
      "_model_module_version": "1.2.0",
      "_model_name": "LayoutModel",
      "_view_count": null,
      "_view_module": "@jupyter-widgets/base",
      "_view_module_version": "1.2.0",
      "_view_name": "LayoutView",
      "align_content": null,
      "align_items": null,
      "align_self": null,
      "border": null,
      "bottom": null,
      "display": null,
      "flex": null,
      "flex_flow": null,
      "grid_area": null,
      "grid_auto_columns": null,
      "grid_auto_flow": null,
      "grid_auto_rows": null,
      "grid_column": null,
      "grid_gap": null,
      "grid_row": null,
      "grid_template_areas": null,
      "grid_template_columns": null,
      "grid_template_rows": null,
      "height": null,
      "justify_content": null,
      "justify_items": null,
      "left": null,
      "margin": null,
      "max_height": null,
      "max_width": null,
      "min_height": null,
      "min_width": null,
      "object_fit": null,
      "object_position": null,
      "order": null,
      "overflow": null,
      "overflow_x": null,
      "overflow_y": null,
      "padding": null,
      "right": null,
      "top": null,
      "visibility": null,
      "width": null
     }
    },
    "973e95ab7ea74c9e85f93bf748076605": {
     "model_module": "@jupyter-widgets/base",
     "model_module_version": "1.2.0",
     "model_name": "LayoutModel",
     "state": {
      "_model_module": "@jupyter-widgets/base",
      "_model_module_version": "1.2.0",
      "_model_name": "LayoutModel",
      "_view_count": null,
      "_view_module": "@jupyter-widgets/base",
      "_view_module_version": "1.2.0",
      "_view_name": "LayoutView",
      "align_content": null,
      "align_items": null,
      "align_self": null,
      "border": null,
      "bottom": null,
      "display": null,
      "flex": null,
      "flex_flow": null,
      "grid_area": null,
      "grid_auto_columns": null,
      "grid_auto_flow": null,
      "grid_auto_rows": null,
      "grid_column": null,
      "grid_gap": null,
      "grid_row": null,
      "grid_template_areas": null,
      "grid_template_columns": null,
      "grid_template_rows": null,
      "height": null,
      "justify_content": null,
      "justify_items": null,
      "left": null,
      "margin": null,
      "max_height": null,
      "max_width": null,
      "min_height": null,
      "min_width": null,
      "object_fit": null,
      "object_position": null,
      "order": null,
      "overflow": null,
      "overflow_x": null,
      "overflow_y": null,
      "padding": null,
      "right": null,
      "top": null,
      "visibility": null,
      "width": null
     }
    },
    "975138a3c45749fc9b1b04e962fa6efe": {
     "model_module": "@jupyter-widgets/controls",
     "model_module_version": "1.5.0",
     "model_name": "HBoxModel",
     "state": {
      "_dom_classes": [],
      "_model_module": "@jupyter-widgets/controls",
      "_model_module_version": "1.5.0",
      "_model_name": "HBoxModel",
      "_view_count": null,
      "_view_module": "@jupyter-widgets/controls",
      "_view_module_version": "1.5.0",
      "_view_name": "HBoxView",
      "box_style": "",
      "children": [
       "IPY_MODEL_74716d051b754c0389e5c96049b77fe0",
       "IPY_MODEL_012fe7b7b62243cba0fda75d3119e5a9",
       "IPY_MODEL_d6f276af654343f6b07bbe48b9c93d45"
      ],
      "layout": "IPY_MODEL_b8fecf26df59494188832a5355f04de9"
     }
    },
    "9762eed03b284428a9b241b222396d6d": {
     "model_module": "@jupyter-widgets/controls",
     "model_module_version": "1.5.0",
     "model_name": "ProgressStyleModel",
     "state": {
      "_model_module": "@jupyter-widgets/controls",
      "_model_module_version": "1.5.0",
      "_model_name": "ProgressStyleModel",
      "_view_count": null,
      "_view_module": "@jupyter-widgets/base",
      "_view_module_version": "1.2.0",
      "_view_name": "StyleView",
      "bar_color": null,
      "description_width": ""
     }
    },
    "97d7e08a56ac4611a4c214523899f890": {
     "model_module": "@jupyter-widgets/controls",
     "model_module_version": "1.5.0",
     "model_name": "FloatProgressModel",
     "state": {
      "_dom_classes": [],
      "_model_module": "@jupyter-widgets/controls",
      "_model_module_version": "1.5.0",
      "_model_name": "FloatProgressModel",
      "_view_count": null,
      "_view_module": "@jupyter-widgets/controls",
      "_view_module_version": "1.5.0",
      "_view_name": "ProgressView",
      "bar_style": "success",
      "description": "",
      "description_tooltip": null,
      "layout": "IPY_MODEL_f660fdb517624db0a7666e69c9ef3274",
      "max": 300,
      "min": 0,
      "orientation": "horizontal",
      "style": "IPY_MODEL_99bdaa9d41004b5fa39fb1ba7b27589f",
      "value": 300
     }
    },
    "985211316cdb46e7b80caa32b2d97690": {
     "model_module": "@jupyter-widgets/base",
     "model_module_version": "1.2.0",
     "model_name": "LayoutModel",
     "state": {
      "_model_module": "@jupyter-widgets/base",
      "_model_module_version": "1.2.0",
      "_model_name": "LayoutModel",
      "_view_count": null,
      "_view_module": "@jupyter-widgets/base",
      "_view_module_version": "1.2.0",
      "_view_name": "LayoutView",
      "align_content": null,
      "align_items": null,
      "align_self": null,
      "border": null,
      "bottom": null,
      "display": null,
      "flex": null,
      "flex_flow": null,
      "grid_area": null,
      "grid_auto_columns": null,
      "grid_auto_flow": null,
      "grid_auto_rows": null,
      "grid_column": null,
      "grid_gap": null,
      "grid_row": null,
      "grid_template_areas": null,
      "grid_template_columns": null,
      "grid_template_rows": null,
      "height": null,
      "justify_content": null,
      "justify_items": null,
      "left": null,
      "margin": null,
      "max_height": null,
      "max_width": null,
      "min_height": null,
      "min_width": null,
      "object_fit": null,
      "object_position": null,
      "order": null,
      "overflow": null,
      "overflow_x": null,
      "overflow_y": null,
      "padding": null,
      "right": null,
      "top": null,
      "visibility": null,
      "width": null
     }
    },
    "9893f3fa33d14d0092cb1805e998364a": {
     "model_module": "@jupyter-widgets/controls",
     "model_module_version": "1.5.0",
     "model_name": "FloatProgressModel",
     "state": {
      "_dom_classes": [],
      "_model_module": "@jupyter-widgets/controls",
      "_model_module_version": "1.5.0",
      "_model_name": "FloatProgressModel",
      "_view_count": null,
      "_view_module": "@jupyter-widgets/controls",
      "_view_module_version": "1.5.0",
      "_view_name": "ProgressView",
      "bar_style": "success",
      "description": "",
      "description_tooltip": null,
      "layout": "IPY_MODEL_790712a4497243589e722f1579362a67",
      "max": 299,
      "min": 0,
      "orientation": "horizontal",
      "style": "IPY_MODEL_2198db602e3f4ef3ac23eb0a6cd90f30",
      "value": 299
     }
    },
    "98eb1473520547cb85976d45babefbd0": {
     "model_module": "@jupyter-widgets/controls",
     "model_module_version": "1.5.0",
     "model_name": "FloatProgressModel",
     "state": {
      "_dom_classes": [],
      "_model_module": "@jupyter-widgets/controls",
      "_model_module_version": "1.5.0",
      "_model_name": "FloatProgressModel",
      "_view_count": null,
      "_view_module": "@jupyter-widgets/controls",
      "_view_module_version": "1.5.0",
      "_view_name": "ProgressView",
      "bar_style": "success",
      "description": "",
      "description_tooltip": null,
      "layout": "IPY_MODEL_a7743f990159483db7054d3446689d5c",
      "max": 6785,
      "min": 0,
      "orientation": "horizontal",
      "style": "IPY_MODEL_ba6c1517b8ab4f2dbbbc47d983ac9a4e",
      "value": 6785
     }
    },
    "99bdaa9d41004b5fa39fb1ba7b27589f": {
     "model_module": "@jupyter-widgets/controls",
     "model_module_version": "1.5.0",
     "model_name": "ProgressStyleModel",
     "state": {
      "_model_module": "@jupyter-widgets/controls",
      "_model_module_version": "1.5.0",
      "_model_name": "ProgressStyleModel",
      "_view_count": null,
      "_view_module": "@jupyter-widgets/base",
      "_view_module_version": "1.2.0",
      "_view_name": "StyleView",
      "bar_color": null,
      "description_width": ""
     }
    },
    "9a53cb63d02944fab09c60825aa42d7b": {
     "model_module": "@jupyter-widgets/base",
     "model_module_version": "1.2.0",
     "model_name": "LayoutModel",
     "state": {
      "_model_module": "@jupyter-widgets/base",
      "_model_module_version": "1.2.0",
      "_model_name": "LayoutModel",
      "_view_count": null,
      "_view_module": "@jupyter-widgets/base",
      "_view_module_version": "1.2.0",
      "_view_name": "LayoutView",
      "align_content": null,
      "align_items": null,
      "align_self": null,
      "border": null,
      "bottom": null,
      "display": null,
      "flex": null,
      "flex_flow": null,
      "grid_area": null,
      "grid_auto_columns": null,
      "grid_auto_flow": null,
      "grid_auto_rows": null,
      "grid_column": null,
      "grid_gap": null,
      "grid_row": null,
      "grid_template_areas": null,
      "grid_template_columns": null,
      "grid_template_rows": null,
      "height": null,
      "justify_content": null,
      "justify_items": null,
      "left": null,
      "margin": null,
      "max_height": null,
      "max_width": null,
      "min_height": null,
      "min_width": null,
      "object_fit": null,
      "object_position": null,
      "order": null,
      "overflow": null,
      "overflow_x": null,
      "overflow_y": null,
      "padding": null,
      "right": null,
      "top": null,
      "visibility": null,
      "width": null
     }
    },
    "9d6339f0825a4a738ba5d65abb6786c4": {
     "model_module": "@jupyter-widgets/controls",
     "model_module_version": "1.5.0",
     "model_name": "FloatProgressModel",
     "state": {
      "_dom_classes": [],
      "_model_module": "@jupyter-widgets/controls",
      "_model_module_version": "1.5.0",
      "_model_name": "FloatProgressModel",
      "_view_count": null,
      "_view_module": "@jupyter-widgets/controls",
      "_view_module_version": "1.5.0",
      "_view_name": "ProgressView",
      "bar_style": "success",
      "description": "",
      "description_tooltip": null,
      "layout": "IPY_MODEL_4743b427613040a09426bace8b1b69ad",
      "max": 6380,
      "min": 0,
      "orientation": "horizontal",
      "style": "IPY_MODEL_778da1157ed54fae9650c81f574bfb02",
      "value": 6380
     }
    },
    "9da59f51f9cc43d49462ad9162056292": {
     "model_module": "@jupyter-widgets/base",
     "model_module_version": "1.2.0",
     "model_name": "LayoutModel",
     "state": {
      "_model_module": "@jupyter-widgets/base",
      "_model_module_version": "1.2.0",
      "_model_name": "LayoutModel",
      "_view_count": null,
      "_view_module": "@jupyter-widgets/base",
      "_view_module_version": "1.2.0",
      "_view_name": "LayoutView",
      "align_content": null,
      "align_items": null,
      "align_self": null,
      "border": null,
      "bottom": null,
      "display": null,
      "flex": null,
      "flex_flow": null,
      "grid_area": null,
      "grid_auto_columns": null,
      "grid_auto_flow": null,
      "grid_auto_rows": null,
      "grid_column": null,
      "grid_gap": null,
      "grid_row": null,
      "grid_template_areas": null,
      "grid_template_columns": null,
      "grid_template_rows": null,
      "height": null,
      "justify_content": null,
      "justify_items": null,
      "left": null,
      "margin": null,
      "max_height": null,
      "max_width": null,
      "min_height": null,
      "min_width": null,
      "object_fit": null,
      "object_position": null,
      "order": null,
      "overflow": null,
      "overflow_x": null,
      "overflow_y": null,
      "padding": null,
      "right": null,
      "top": null,
      "visibility": null,
      "width": null
     }
    },
    "9e05567b08cc4a3c9d001b3b22f7371d": {
     "model_module": "@jupyter-widgets/controls",
     "model_module_version": "1.5.0",
     "model_name": "ProgressStyleModel",
     "state": {
      "_model_module": "@jupyter-widgets/controls",
      "_model_module_version": "1.5.0",
      "_model_name": "ProgressStyleModel",
      "_view_count": null,
      "_view_module": "@jupyter-widgets/base",
      "_view_module_version": "1.2.0",
      "_view_name": "StyleView",
      "bar_color": null,
      "description_width": ""
     }
    },
    "a1fb02d66d6040ceb28af9fe3e123a96": {
     "model_module": "@jupyter-widgets/base",
     "model_module_version": "1.2.0",
     "model_name": "LayoutModel",
     "state": {
      "_model_module": "@jupyter-widgets/base",
      "_model_module_version": "1.2.0",
      "_model_name": "LayoutModel",
      "_view_count": null,
      "_view_module": "@jupyter-widgets/base",
      "_view_module_version": "1.2.0",
      "_view_name": "LayoutView",
      "align_content": null,
      "align_items": null,
      "align_self": null,
      "border": null,
      "bottom": null,
      "display": null,
      "flex": null,
      "flex_flow": null,
      "grid_area": null,
      "grid_auto_columns": null,
      "grid_auto_flow": null,
      "grid_auto_rows": null,
      "grid_column": null,
      "grid_gap": null,
      "grid_row": null,
      "grid_template_areas": null,
      "grid_template_columns": null,
      "grid_template_rows": null,
      "height": null,
      "justify_content": null,
      "justify_items": null,
      "left": null,
      "margin": null,
      "max_height": null,
      "max_width": null,
      "min_height": null,
      "min_width": null,
      "object_fit": null,
      "object_position": null,
      "order": null,
      "overflow": null,
      "overflow_x": null,
      "overflow_y": null,
      "padding": null,
      "right": null,
      "top": null,
      "visibility": null,
      "width": null
     }
    },
    "a22960c49cf74b449415aafd32fcef12": {
     "model_module": "@jupyter-widgets/controls",
     "model_module_version": "1.5.0",
     "model_name": "DescriptionStyleModel",
     "state": {
      "_model_module": "@jupyter-widgets/controls",
      "_model_module_version": "1.5.0",
      "_model_name": "DescriptionStyleModel",
      "_view_count": null,
      "_view_module": "@jupyter-widgets/base",
      "_view_module_version": "1.2.0",
      "_view_name": "StyleView",
      "description_width": ""
     }
    },
    "a3199dbbcd8b4469be3c46b2069c6d0a": {
     "model_module": "@jupyter-widgets/controls",
     "model_module_version": "1.5.0",
     "model_name": "ProgressStyleModel",
     "state": {
      "_model_module": "@jupyter-widgets/controls",
      "_model_module_version": "1.5.0",
      "_model_name": "ProgressStyleModel",
      "_view_count": null,
      "_view_module": "@jupyter-widgets/base",
      "_view_module_version": "1.2.0",
      "_view_name": "StyleView",
      "bar_color": null,
      "description_width": ""
     }
    },
    "a3722d31b297474c8dab03d85b8c2023": {
     "model_module": "@jupyter-widgets/base",
     "model_module_version": "1.2.0",
     "model_name": "LayoutModel",
     "state": {
      "_model_module": "@jupyter-widgets/base",
      "_model_module_version": "1.2.0",
      "_model_name": "LayoutModel",
      "_view_count": null,
      "_view_module": "@jupyter-widgets/base",
      "_view_module_version": "1.2.0",
      "_view_name": "LayoutView",
      "align_content": null,
      "align_items": null,
      "align_self": null,
      "border": null,
      "bottom": null,
      "display": null,
      "flex": null,
      "flex_flow": null,
      "grid_area": null,
      "grid_auto_columns": null,
      "grid_auto_flow": null,
      "grid_auto_rows": null,
      "grid_column": null,
      "grid_gap": null,
      "grid_row": null,
      "grid_template_areas": null,
      "grid_template_columns": null,
      "grid_template_rows": null,
      "height": null,
      "justify_content": null,
      "justify_items": null,
      "left": null,
      "margin": null,
      "max_height": null,
      "max_width": null,
      "min_height": null,
      "min_width": null,
      "object_fit": null,
      "object_position": null,
      "order": null,
      "overflow": null,
      "overflow_x": null,
      "overflow_y": null,
      "padding": null,
      "right": null,
      "top": null,
      "visibility": null,
      "width": null
     }
    },
    "a4140334b1e049939f804f0588554d50": {
     "model_module": "@jupyter-widgets/controls",
     "model_module_version": "1.5.0",
     "model_name": "DescriptionStyleModel",
     "state": {
      "_model_module": "@jupyter-widgets/controls",
      "_model_module_version": "1.5.0",
      "_model_name": "DescriptionStyleModel",
      "_view_count": null,
      "_view_module": "@jupyter-widgets/base",
      "_view_module_version": "1.2.0",
      "_view_name": "StyleView",
      "description_width": ""
     }
    },
    "a43899fb1b8d4dd09f9052760200f1af": {
     "model_module": "@jupyter-widgets/controls",
     "model_module_version": "1.5.0",
     "model_name": "DescriptionStyleModel",
     "state": {
      "_model_module": "@jupyter-widgets/controls",
      "_model_module_version": "1.5.0",
      "_model_name": "DescriptionStyleModel",
      "_view_count": null,
      "_view_module": "@jupyter-widgets/base",
      "_view_module_version": "1.2.0",
      "_view_name": "StyleView",
      "description_width": ""
     }
    },
    "a548bc8516804ee5a3c2991085d85b99": {
     "model_module": "@jupyter-widgets/controls",
     "model_module_version": "1.5.0",
     "model_name": "HBoxModel",
     "state": {
      "_dom_classes": [],
      "_model_module": "@jupyter-widgets/controls",
      "_model_module_version": "1.5.0",
      "_model_name": "HBoxModel",
      "_view_count": null,
      "_view_module": "@jupyter-widgets/controls",
      "_view_module_version": "1.5.0",
      "_view_name": "HBoxView",
      "box_style": "",
      "children": [
       "IPY_MODEL_42621652e30c4e97b94ca628ffcbb4c7",
       "IPY_MODEL_3e1ef42d54924a13843dafd58d61568e",
       "IPY_MODEL_dc851a35d23b487c85d4300eae5b9f85"
      ],
      "layout": "IPY_MODEL_21a74741a9af4e61af8328f405080f45"
     }
    },
    "a64eb83311c745e0817a7b8a6c854a0d": {
     "model_module": "@jupyter-widgets/base",
     "model_module_version": "1.2.0",
     "model_name": "LayoutModel",
     "state": {
      "_model_module": "@jupyter-widgets/base",
      "_model_module_version": "1.2.0",
      "_model_name": "LayoutModel",
      "_view_count": null,
      "_view_module": "@jupyter-widgets/base",
      "_view_module_version": "1.2.0",
      "_view_name": "LayoutView",
      "align_content": null,
      "align_items": null,
      "align_self": null,
      "border": null,
      "bottom": null,
      "display": null,
      "flex": null,
      "flex_flow": null,
      "grid_area": null,
      "grid_auto_columns": null,
      "grid_auto_flow": null,
      "grid_auto_rows": null,
      "grid_column": null,
      "grid_gap": null,
      "grid_row": null,
      "grid_template_areas": null,
      "grid_template_columns": null,
      "grid_template_rows": null,
      "height": null,
      "justify_content": null,
      "justify_items": null,
      "left": null,
      "margin": null,
      "max_height": null,
      "max_width": null,
      "min_height": null,
      "min_width": null,
      "object_fit": null,
      "object_position": null,
      "order": null,
      "overflow": null,
      "overflow_x": null,
      "overflow_y": null,
      "padding": null,
      "right": null,
      "top": null,
      "visibility": null,
      "width": null
     }
    },
    "a6c162d5630e4843ab8d5daa54d55fd7": {
     "model_module": "@jupyter-widgets/controls",
     "model_module_version": "1.5.0",
     "model_name": "DescriptionStyleModel",
     "state": {
      "_model_module": "@jupyter-widgets/controls",
      "_model_module_version": "1.5.0",
      "_model_name": "DescriptionStyleModel",
      "_view_count": null,
      "_view_module": "@jupyter-widgets/base",
      "_view_module_version": "1.2.0",
      "_view_name": "StyleView",
      "description_width": ""
     }
    },
    "a7743f990159483db7054d3446689d5c": {
     "model_module": "@jupyter-widgets/base",
     "model_module_version": "1.2.0",
     "model_name": "LayoutModel",
     "state": {
      "_model_module": "@jupyter-widgets/base",
      "_model_module_version": "1.2.0",
      "_model_name": "LayoutModel",
      "_view_count": null,
      "_view_module": "@jupyter-widgets/base",
      "_view_module_version": "1.2.0",
      "_view_name": "LayoutView",
      "align_content": null,
      "align_items": null,
      "align_self": null,
      "border": null,
      "bottom": null,
      "display": null,
      "flex": null,
      "flex_flow": null,
      "grid_area": null,
      "grid_auto_columns": null,
      "grid_auto_flow": null,
      "grid_auto_rows": null,
      "grid_column": null,
      "grid_gap": null,
      "grid_row": null,
      "grid_template_areas": null,
      "grid_template_columns": null,
      "grid_template_rows": null,
      "height": null,
      "justify_content": null,
      "justify_items": null,
      "left": null,
      "margin": null,
      "max_height": null,
      "max_width": null,
      "min_height": null,
      "min_width": null,
      "object_fit": null,
      "object_position": null,
      "order": null,
      "overflow": null,
      "overflow_x": null,
      "overflow_y": null,
      "padding": null,
      "right": null,
      "top": null,
      "visibility": null,
      "width": null
     }
    },
    "acb5f47540474a59a58f1fa98a36df47": {
     "model_module": "@jupyter-widgets/controls",
     "model_module_version": "1.5.0",
     "model_name": "DescriptionStyleModel",
     "state": {
      "_model_module": "@jupyter-widgets/controls",
      "_model_module_version": "1.5.0",
      "_model_name": "DescriptionStyleModel",
      "_view_count": null,
      "_view_module": "@jupyter-widgets/base",
      "_view_module_version": "1.2.0",
      "_view_name": "StyleView",
      "description_width": ""
     }
    },
    "acf6efe1bce84f90aa43b8376a75d1a0": {
     "model_module": "@jupyter-widgets/controls",
     "model_module_version": "1.5.0",
     "model_name": "DescriptionStyleModel",
     "state": {
      "_model_module": "@jupyter-widgets/controls",
      "_model_module_version": "1.5.0",
      "_model_name": "DescriptionStyleModel",
      "_view_count": null,
      "_view_module": "@jupyter-widgets/base",
      "_view_module_version": "1.2.0",
      "_view_name": "StyleView",
      "description_width": ""
     }
    },
    "ae2040d06fa143d1952887f4d1119fbb": {
     "model_module": "@jupyter-widgets/base",
     "model_module_version": "1.2.0",
     "model_name": "LayoutModel",
     "state": {
      "_model_module": "@jupyter-widgets/base",
      "_model_module_version": "1.2.0",
      "_model_name": "LayoutModel",
      "_view_count": null,
      "_view_module": "@jupyter-widgets/base",
      "_view_module_version": "1.2.0",
      "_view_name": "LayoutView",
      "align_content": null,
      "align_items": null,
      "align_self": null,
      "border": null,
      "bottom": null,
      "display": null,
      "flex": null,
      "flex_flow": null,
      "grid_area": null,
      "grid_auto_columns": null,
      "grid_auto_flow": null,
      "grid_auto_rows": null,
      "grid_column": null,
      "grid_gap": null,
      "grid_row": null,
      "grid_template_areas": null,
      "grid_template_columns": null,
      "grid_template_rows": null,
      "height": null,
      "justify_content": null,
      "justify_items": null,
      "left": null,
      "margin": null,
      "max_height": null,
      "max_width": null,
      "min_height": null,
      "min_width": null,
      "object_fit": null,
      "object_position": null,
      "order": null,
      "overflow": null,
      "overflow_x": null,
      "overflow_y": null,
      "padding": null,
      "right": null,
      "top": null,
      "visibility": null,
      "width": null
     }
    },
    "aeb0c01df3c2448d9ccc6558fe91cdbb": {
     "model_module": "@jupyter-widgets/controls",
     "model_module_version": "1.5.0",
     "model_name": "HTMLModel",
     "state": {
      "_dom_classes": [],
      "_model_module": "@jupyter-widgets/controls",
      "_model_module_version": "1.5.0",
      "_model_name": "HTMLModel",
      "_view_count": null,
      "_view_module": "@jupyter-widgets/controls",
      "_view_module_version": "1.5.0",
      "_view_name": "HTMLView",
      "description": "",
      "description_tooltip": null,
      "layout": "IPY_MODEL_08c434660dab447aaa3d7ad9041c43fb",
      "placeholder": "​",
      "style": "IPY_MODEL_5c89797cce78466ba3ea3d1d29c39bef",
      "value": " 996k/996k [00:00&lt;00:00, 9.74MB/s]"
     }
    },
    "af9253efd72b45ccb5e65e07bb64d9bb": {
     "model_module": "@jupyter-widgets/controls",
     "model_module_version": "1.5.0",
     "model_name": "FloatProgressModel",
     "state": {
      "_dom_classes": [],
      "_model_module": "@jupyter-widgets/controls",
      "_model_module_version": "1.5.0",
      "_model_name": "FloatProgressModel",
      "_view_count": null,
      "_view_module": "@jupyter-widgets/controls",
      "_view_module_version": "1.5.0",
      "_view_name": "ProgressView",
      "bar_style": "success",
      "description": "",
      "description_tooltip": null,
      "layout": "IPY_MODEL_b23368bdbba2428dac2df7395217141c",
      "max": 49,
      "min": 0,
      "orientation": "horizontal",
      "style": "IPY_MODEL_ea358f38c75b43bfb123e0b75b4fb0bc",
      "value": 49
     }
    },
    "b0b303ff5ce24fdd8624fe95518564ee": {
     "model_module": "@jupyter-widgets/controls",
     "model_module_version": "1.5.0",
     "model_name": "DescriptionStyleModel",
     "state": {
      "_model_module": "@jupyter-widgets/controls",
      "_model_module_version": "1.5.0",
      "_model_name": "DescriptionStyleModel",
      "_view_count": null,
      "_view_module": "@jupyter-widgets/base",
      "_view_module_version": "1.2.0",
      "_view_name": "StyleView",
      "description_width": ""
     }
    },
    "b0d0ba274ac44a04ad6d52bbe0cd931f": {
     "model_module": "@jupyter-widgets/base",
     "model_module_version": "1.2.0",
     "model_name": "LayoutModel",
     "state": {
      "_model_module": "@jupyter-widgets/base",
      "_model_module_version": "1.2.0",
      "_model_name": "LayoutModel",
      "_view_count": null,
      "_view_module": "@jupyter-widgets/base",
      "_view_module_version": "1.2.0",
      "_view_name": "LayoutView",
      "align_content": null,
      "align_items": null,
      "align_self": null,
      "border": null,
      "bottom": null,
      "display": null,
      "flex": null,
      "flex_flow": null,
      "grid_area": null,
      "grid_auto_columns": null,
      "grid_auto_flow": null,
      "grid_auto_rows": null,
      "grid_column": null,
      "grid_gap": null,
      "grid_row": null,
      "grid_template_areas": null,
      "grid_template_columns": null,
      "grid_template_rows": null,
      "height": null,
      "justify_content": null,
      "justify_items": null,
      "left": null,
      "margin": null,
      "max_height": null,
      "max_width": null,
      "min_height": null,
      "min_width": null,
      "object_fit": null,
      "object_position": null,
      "order": null,
      "overflow": null,
      "overflow_x": null,
      "overflow_y": null,
      "padding": null,
      "right": null,
      "top": null,
      "visibility": null,
      "width": null
     }
    },
    "b23368bdbba2428dac2df7395217141c": {
     "model_module": "@jupyter-widgets/base",
     "model_module_version": "1.2.0",
     "model_name": "LayoutModel",
     "state": {
      "_model_module": "@jupyter-widgets/base",
      "_model_module_version": "1.2.0",
      "_model_name": "LayoutModel",
      "_view_count": null,
      "_view_module": "@jupyter-widgets/base",
      "_view_module_version": "1.2.0",
      "_view_name": "LayoutView",
      "align_content": null,
      "align_items": null,
      "align_self": null,
      "border": null,
      "bottom": null,
      "display": null,
      "flex": null,
      "flex_flow": null,
      "grid_area": null,
      "grid_auto_columns": null,
      "grid_auto_flow": null,
      "grid_auto_rows": null,
      "grid_column": null,
      "grid_gap": null,
      "grid_row": null,
      "grid_template_areas": null,
      "grid_template_columns": null,
      "grid_template_rows": null,
      "height": null,
      "justify_content": null,
      "justify_items": null,
      "left": null,
      "margin": null,
      "max_height": null,
      "max_width": null,
      "min_height": null,
      "min_width": null,
      "object_fit": null,
      "object_position": null,
      "order": null,
      "overflow": null,
      "overflow_x": null,
      "overflow_y": null,
      "padding": null,
      "right": null,
      "top": null,
      "visibility": null,
      "width": null
     }
    },
    "b289fa207f4b4c8a8e81fd84bb4621a7": {
     "model_module": "@jupyter-widgets/base",
     "model_module_version": "1.2.0",
     "model_name": "LayoutModel",
     "state": {
      "_model_module": "@jupyter-widgets/base",
      "_model_module_version": "1.2.0",
      "_model_name": "LayoutModel",
      "_view_count": null,
      "_view_module": "@jupyter-widgets/base",
      "_view_module_version": "1.2.0",
      "_view_name": "LayoutView",
      "align_content": null,
      "align_items": null,
      "align_self": null,
      "border": null,
      "bottom": null,
      "display": null,
      "flex": null,
      "flex_flow": null,
      "grid_area": null,
      "grid_auto_columns": null,
      "grid_auto_flow": null,
      "grid_auto_rows": null,
      "grid_column": null,
      "grid_gap": null,
      "grid_row": null,
      "grid_template_areas": null,
      "grid_template_columns": null,
      "grid_template_rows": null,
      "height": null,
      "justify_content": null,
      "justify_items": null,
      "left": null,
      "margin": null,
      "max_height": null,
      "max_width": null,
      "min_height": null,
      "min_width": null,
      "object_fit": null,
      "object_position": null,
      "order": null,
      "overflow": null,
      "overflow_x": null,
      "overflow_y": null,
      "padding": null,
      "right": null,
      "top": null,
      "visibility": null,
      "width": null
     }
    },
    "b3238dede1534eb0a6d040e16fb40988": {
     "model_module": "@jupyter-widgets/base",
     "model_module_version": "1.2.0",
     "model_name": "LayoutModel",
     "state": {
      "_model_module": "@jupyter-widgets/base",
      "_model_module_version": "1.2.0",
      "_model_name": "LayoutModel",
      "_view_count": null,
      "_view_module": "@jupyter-widgets/base",
      "_view_module_version": "1.2.0",
      "_view_name": "LayoutView",
      "align_content": null,
      "align_items": null,
      "align_self": null,
      "border": null,
      "bottom": null,
      "display": null,
      "flex": null,
      "flex_flow": null,
      "grid_area": null,
      "grid_auto_columns": null,
      "grid_auto_flow": null,
      "grid_auto_rows": null,
      "grid_column": null,
      "grid_gap": null,
      "grid_row": null,
      "grid_template_areas": null,
      "grid_template_columns": null,
      "grid_template_rows": null,
      "height": null,
      "justify_content": null,
      "justify_items": null,
      "left": null,
      "margin": null,
      "max_height": null,
      "max_width": null,
      "min_height": null,
      "min_width": null,
      "object_fit": null,
      "object_position": null,
      "order": null,
      "overflow": null,
      "overflow_x": null,
      "overflow_y": null,
      "padding": null,
      "right": null,
      "top": null,
      "visibility": null,
      "width": null
     }
    },
    "b66dcff8aeb34ed39220785d3c2b1664": {
     "model_module": "@jupyter-widgets/base",
     "model_module_version": "1.2.0",
     "model_name": "LayoutModel",
     "state": {
      "_model_module": "@jupyter-widgets/base",
      "_model_module_version": "1.2.0",
      "_model_name": "LayoutModel",
      "_view_count": null,
      "_view_module": "@jupyter-widgets/base",
      "_view_module_version": "1.2.0",
      "_view_name": "LayoutView",
      "align_content": null,
      "align_items": null,
      "align_self": null,
      "border": null,
      "bottom": null,
      "display": null,
      "flex": null,
      "flex_flow": null,
      "grid_area": null,
      "grid_auto_columns": null,
      "grid_auto_flow": null,
      "grid_auto_rows": null,
      "grid_column": null,
      "grid_gap": null,
      "grid_row": null,
      "grid_template_areas": null,
      "grid_template_columns": null,
      "grid_template_rows": null,
      "height": null,
      "justify_content": null,
      "justify_items": null,
      "left": null,
      "margin": null,
      "max_height": null,
      "max_width": null,
      "min_height": null,
      "min_width": null,
      "object_fit": null,
      "object_position": null,
      "order": null,
      "overflow": null,
      "overflow_x": null,
      "overflow_y": null,
      "padding": null,
      "right": null,
      "top": null,
      "visibility": null,
      "width": null
     }
    },
    "b8f15359ec684f96932b9fe4f1954dd2": {
     "model_module": "@jupyter-widgets/base",
     "model_module_version": "1.2.0",
     "model_name": "LayoutModel",
     "state": {
      "_model_module": "@jupyter-widgets/base",
      "_model_module_version": "1.2.0",
      "_model_name": "LayoutModel",
      "_view_count": null,
      "_view_module": "@jupyter-widgets/base",
      "_view_module_version": "1.2.0",
      "_view_name": "LayoutView",
      "align_content": null,
      "align_items": null,
      "align_self": null,
      "border": null,
      "bottom": null,
      "display": null,
      "flex": null,
      "flex_flow": null,
      "grid_area": null,
      "grid_auto_columns": null,
      "grid_auto_flow": null,
      "grid_auto_rows": null,
      "grid_column": null,
      "grid_gap": null,
      "grid_row": null,
      "grid_template_areas": null,
      "grid_template_columns": null,
      "grid_template_rows": null,
      "height": null,
      "justify_content": null,
      "justify_items": null,
      "left": null,
      "margin": null,
      "max_height": null,
      "max_width": null,
      "min_height": null,
      "min_width": null,
      "object_fit": null,
      "object_position": null,
      "order": null,
      "overflow": null,
      "overflow_x": null,
      "overflow_y": null,
      "padding": null,
      "right": null,
      "top": null,
      "visibility": null,
      "width": null
     }
    },
    "b8fecf26df59494188832a5355f04de9": {
     "model_module": "@jupyter-widgets/base",
     "model_module_version": "1.2.0",
     "model_name": "LayoutModel",
     "state": {
      "_model_module": "@jupyter-widgets/base",
      "_model_module_version": "1.2.0",
      "_model_name": "LayoutModel",
      "_view_count": null,
      "_view_module": "@jupyter-widgets/base",
      "_view_module_version": "1.2.0",
      "_view_name": "LayoutView",
      "align_content": null,
      "align_items": null,
      "align_self": null,
      "border": null,
      "bottom": null,
      "display": null,
      "flex": null,
      "flex_flow": null,
      "grid_area": null,
      "grid_auto_columns": null,
      "grid_auto_flow": null,
      "grid_auto_rows": null,
      "grid_column": null,
      "grid_gap": null,
      "grid_row": null,
      "grid_template_areas": null,
      "grid_template_columns": null,
      "grid_template_rows": null,
      "height": null,
      "justify_content": null,
      "justify_items": null,
      "left": null,
      "margin": null,
      "max_height": null,
      "max_width": null,
      "min_height": null,
      "min_width": null,
      "object_fit": null,
      "object_position": null,
      "order": null,
      "overflow": null,
      "overflow_x": null,
      "overflow_y": null,
      "padding": null,
      "right": null,
      "top": null,
      "visibility": null,
      "width": null
     }
    },
    "ba13b9f022d64625adacb4dac06f920b": {
     "model_module": "@jupyter-widgets/base",
     "model_module_version": "1.2.0",
     "model_name": "LayoutModel",
     "state": {
      "_model_module": "@jupyter-widgets/base",
      "_model_module_version": "1.2.0",
      "_model_name": "LayoutModel",
      "_view_count": null,
      "_view_module": "@jupyter-widgets/base",
      "_view_module_version": "1.2.0",
      "_view_name": "LayoutView",
      "align_content": null,
      "align_items": null,
      "align_self": null,
      "border": null,
      "bottom": null,
      "display": null,
      "flex": null,
      "flex_flow": null,
      "grid_area": null,
      "grid_auto_columns": null,
      "grid_auto_flow": null,
      "grid_auto_rows": null,
      "grid_column": null,
      "grid_gap": null,
      "grid_row": null,
      "grid_template_areas": null,
      "grid_template_columns": null,
      "grid_template_rows": null,
      "height": null,
      "justify_content": null,
      "justify_items": null,
      "left": null,
      "margin": null,
      "max_height": null,
      "max_width": null,
      "min_height": null,
      "min_width": null,
      "object_fit": null,
      "object_position": null,
      "order": null,
      "overflow": null,
      "overflow_x": null,
      "overflow_y": null,
      "padding": null,
      "right": null,
      "top": null,
      "visibility": null,
      "width": null
     }
    },
    "ba6c1517b8ab4f2dbbbc47d983ac9a4e": {
     "model_module": "@jupyter-widgets/controls",
     "model_module_version": "1.5.0",
     "model_name": "ProgressStyleModel",
     "state": {
      "_model_module": "@jupyter-widgets/controls",
      "_model_module_version": "1.5.0",
      "_model_name": "ProgressStyleModel",
      "_view_count": null,
      "_view_module": "@jupyter-widgets/base",
      "_view_module_version": "1.2.0",
      "_view_name": "StyleView",
      "bar_color": null,
      "description_width": ""
     }
    },
    "bda790e985ed4ade93628d988900da06": {
     "model_module": "@jupyter-widgets/base",
     "model_module_version": "1.2.0",
     "model_name": "LayoutModel",
     "state": {
      "_model_module": "@jupyter-widgets/base",
      "_model_module_version": "1.2.0",
      "_model_name": "LayoutModel",
      "_view_count": null,
      "_view_module": "@jupyter-widgets/base",
      "_view_module_version": "1.2.0",
      "_view_name": "LayoutView",
      "align_content": null,
      "align_items": null,
      "align_self": null,
      "border": null,
      "bottom": null,
      "display": null,
      "flex": null,
      "flex_flow": null,
      "grid_area": null,
      "grid_auto_columns": null,
      "grid_auto_flow": null,
      "grid_auto_rows": null,
      "grid_column": null,
      "grid_gap": null,
      "grid_row": null,
      "grid_template_areas": null,
      "grid_template_columns": null,
      "grid_template_rows": null,
      "height": null,
      "justify_content": null,
      "justify_items": null,
      "left": null,
      "margin": null,
      "max_height": null,
      "max_width": null,
      "min_height": null,
      "min_width": null,
      "object_fit": null,
      "object_position": null,
      "order": null,
      "overflow": null,
      "overflow_x": null,
      "overflow_y": null,
      "padding": null,
      "right": null,
      "top": null,
      "visibility": null,
      "width": null
     }
    },
    "be80a3cdbc5740eebc5640dea499a753": {
     "model_module": "@jupyter-widgets/base",
     "model_module_version": "1.2.0",
     "model_name": "LayoutModel",
     "state": {
      "_model_module": "@jupyter-widgets/base",
      "_model_module_version": "1.2.0",
      "_model_name": "LayoutModel",
      "_view_count": null,
      "_view_module": "@jupyter-widgets/base",
      "_view_module_version": "1.2.0",
      "_view_name": "LayoutView",
      "align_content": null,
      "align_items": null,
      "align_self": null,
      "border": null,
      "bottom": null,
      "display": null,
      "flex": null,
      "flex_flow": null,
      "grid_area": null,
      "grid_auto_columns": null,
      "grid_auto_flow": null,
      "grid_auto_rows": null,
      "grid_column": null,
      "grid_gap": null,
      "grid_row": null,
      "grid_template_areas": null,
      "grid_template_columns": null,
      "grid_template_rows": null,
      "height": null,
      "justify_content": null,
      "justify_items": null,
      "left": null,
      "margin": null,
      "max_height": null,
      "max_width": null,
      "min_height": null,
      "min_width": null,
      "object_fit": null,
      "object_position": null,
      "order": null,
      "overflow": null,
      "overflow_x": null,
      "overflow_y": null,
      "padding": null,
      "right": null,
      "top": null,
      "visibility": null,
      "width": null
     }
    },
    "bfd8565181c3468ea19e497ff1ffa066": {
     "model_module": "@jupyter-widgets/controls",
     "model_module_version": "1.5.0",
     "model_name": "HTMLModel",
     "state": {
      "_dom_classes": [],
      "_model_module": "@jupyter-widgets/controls",
      "_model_module_version": "1.5.0",
      "_model_name": "HTMLModel",
      "_view_count": null,
      "_view_module": "@jupyter-widgets/controls",
      "_view_module_version": "1.5.0",
      "_view_name": "HTMLView",
      "description": "",
      "description_tooltip": null,
      "layout": "IPY_MODEL_082ae5c396e54a6f8ddc2fee2d579020",
      "placeholder": "​",
      "style": "IPY_MODEL_529ab68d88974404885a2c12d95c45f6",
      "value": " 49.0/49.0 [00:00&lt;00:00, 1.25kB/s]"
     }
    },
    "c256909dae4a49898a70914ffc6559b3": {
     "model_module": "@jupyter-widgets/base",
     "model_module_version": "1.2.0",
     "model_name": "LayoutModel",
     "state": {
      "_model_module": "@jupyter-widgets/base",
      "_model_module_version": "1.2.0",
      "_model_name": "LayoutModel",
      "_view_count": null,
      "_view_module": "@jupyter-widgets/base",
      "_view_module_version": "1.2.0",
      "_view_name": "LayoutView",
      "align_content": null,
      "align_items": null,
      "align_self": null,
      "border": null,
      "bottom": null,
      "display": null,
      "flex": null,
      "flex_flow": null,
      "grid_area": null,
      "grid_auto_columns": null,
      "grid_auto_flow": null,
      "grid_auto_rows": null,
      "grid_column": null,
      "grid_gap": null,
      "grid_row": null,
      "grid_template_areas": null,
      "grid_template_columns": null,
      "grid_template_rows": null,
      "height": null,
      "justify_content": null,
      "justify_items": null,
      "left": null,
      "margin": null,
      "max_height": null,
      "max_width": null,
      "min_height": null,
      "min_width": null,
      "object_fit": null,
      "object_position": null,
      "order": null,
      "overflow": null,
      "overflow_x": null,
      "overflow_y": null,
      "padding": null,
      "right": null,
      "top": null,
      "visibility": null,
      "width": null
     }
    },
    "c501cad2cb8d4fa39c384d709e8bd093": {
     "model_module": "@jupyter-widgets/controls",
     "model_module_version": "1.5.0",
     "model_name": "HBoxModel",
     "state": {
      "_dom_classes": [],
      "_model_module": "@jupyter-widgets/controls",
      "_model_module_version": "1.5.0",
      "_model_name": "HBoxModel",
      "_view_count": null,
      "_view_module": "@jupyter-widgets/controls",
      "_view_module_version": "1.5.0",
      "_view_name": "HBoxView",
      "box_style": "",
      "children": [
       "IPY_MODEL_60f6a12df3b14ee59850554e03f1af94",
       "IPY_MODEL_095b6d00356244258c9a8d74a663b9d7",
       "IPY_MODEL_aeb0c01df3c2448d9ccc6558fe91cdbb"
      ],
      "layout": "IPY_MODEL_9da59f51f9cc43d49462ad9162056292"
     }
    },
    "c5520e8a0c044a28a3c31cbf0314b350": {
     "model_module": "@jupyter-widgets/base",
     "model_module_version": "1.2.0",
     "model_name": "LayoutModel",
     "state": {
      "_model_module": "@jupyter-widgets/base",
      "_model_module_version": "1.2.0",
      "_model_name": "LayoutModel",
      "_view_count": null,
      "_view_module": "@jupyter-widgets/base",
      "_view_module_version": "1.2.0",
      "_view_name": "LayoutView",
      "align_content": null,
      "align_items": null,
      "align_self": null,
      "border": null,
      "bottom": null,
      "display": null,
      "flex": null,
      "flex_flow": null,
      "grid_area": null,
      "grid_auto_columns": null,
      "grid_auto_flow": null,
      "grid_auto_rows": null,
      "grid_column": null,
      "grid_gap": null,
      "grid_row": null,
      "grid_template_areas": null,
      "grid_template_columns": null,
      "grid_template_rows": null,
      "height": null,
      "justify_content": null,
      "justify_items": null,
      "left": null,
      "margin": null,
      "max_height": null,
      "max_width": null,
      "min_height": null,
      "min_width": null,
      "object_fit": null,
      "object_position": null,
      "order": null,
      "overflow": null,
      "overflow_x": null,
      "overflow_y": null,
      "padding": null,
      "right": null,
      "top": null,
      "visibility": null,
      "width": null
     }
    },
    "c5716ed11b66495d89f6f969a51655d5": {
     "model_module": "@jupyter-widgets/controls",
     "model_module_version": "1.5.0",
     "model_name": "HTMLModel",
     "state": {
      "_dom_classes": [],
      "_model_module": "@jupyter-widgets/controls",
      "_model_module_version": "1.5.0",
      "_model_name": "HTMLModel",
      "_view_count": null,
      "_view_module": "@jupyter-widgets/controls",
      "_view_module_version": "1.5.0",
      "_view_name": "HTMLView",
      "description": "",
      "description_tooltip": null,
      "layout": "IPY_MODEL_bda790e985ed4ade93628d988900da06",
      "placeholder": "​",
      "style": "IPY_MODEL_3d395caa3e9740b8b971af5798bad9b1",
      "value": "model.safetensors: 100%"
     }
    },
    "c853df2b6504424d974f84bd5ced04d7": {
     "model_module": "@jupyter-widgets/controls",
     "model_module_version": "1.5.0",
     "model_name": "ProgressStyleModel",
     "state": {
      "_model_module": "@jupyter-widgets/controls",
      "_model_module_version": "1.5.0",
      "_model_name": "ProgressStyleModel",
      "_view_count": null,
      "_view_module": "@jupyter-widgets/base",
      "_view_module_version": "1.2.0",
      "_view_name": "StyleView",
      "bar_color": null,
      "description_width": ""
     }
    },
    "cc1c77df6fab45acbae78f2e67c932ae": {
     "model_module": "@jupyter-widgets/controls",
     "model_module_version": "1.5.0",
     "model_name": "FloatProgressModel",
     "state": {
      "_dom_classes": [],
      "_model_module": "@jupyter-widgets/controls",
      "_model_module_version": "1.5.0",
      "_model_name": "FloatProgressModel",
      "_view_count": null,
      "_view_module": "@jupyter-widgets/controls",
      "_view_module_version": "1.5.0",
      "_view_name": "ProgressView",
      "bar_style": "success",
      "description": "",
      "description_tooltip": null,
      "layout": "IPY_MODEL_57c295c5020d4153bcbb117e173e2053",
      "max": 206,
      "min": 0,
      "orientation": "horizontal",
      "style": "IPY_MODEL_fb28a5abc8b04810bc0213d07109091f",
      "value": 206
     }
    },
    "cd14b0ca3bf540bdb860f7bedb642a0c": {
     "model_module": "@jupyter-widgets/controls",
     "model_module_version": "1.5.0",
     "model_name": "HBoxModel",
     "state": {
      "_dom_classes": [],
      "_model_module": "@jupyter-widgets/controls",
      "_model_module_version": "1.5.0",
      "_model_name": "HBoxModel",
      "_view_count": null,
      "_view_module": "@jupyter-widgets/controls",
      "_view_module_version": "1.5.0",
      "_view_name": "HBoxView",
      "box_style": "",
      "children": [
       "IPY_MODEL_3290756b5d664e37bf7563ff0fdd73a4",
       "IPY_MODEL_0ef677603a0e4ffaaebd53a40f248816",
       "IPY_MODEL_6200fe883caa4e659cb349815d6d3ed3"
      ],
      "layout": "IPY_MODEL_d48cf2594874405caa3ab150b9835df3"
     }
    },
    "ce2ac83781fa4d969dbfbdfda5a279f0": {
     "model_module": "@jupyter-widgets/controls",
     "model_module_version": "1.5.0",
     "model_name": "HBoxModel",
     "state": {
      "_dom_classes": [],
      "_model_module": "@jupyter-widgets/controls",
      "_model_module_version": "1.5.0",
      "_model_name": "HBoxModel",
      "_view_count": null,
      "_view_module": "@jupyter-widgets/controls",
      "_view_module_version": "1.5.0",
      "_view_name": "HBoxView",
      "box_style": "",
      "children": [
       "IPY_MODEL_10a62f9522a84476a3329da25823d0b4",
       "IPY_MODEL_97d7e08a56ac4611a4c214523899f890",
       "IPY_MODEL_d9a0d4568eaa45899ee18a9fcfb0e2d0"
      ],
      "layout": "IPY_MODEL_9548ec838dd64f0c861e78742095a9c8"
     }
    },
    "cee40074bb7344009156b4d1dc1ccfe1": {
     "model_module": "@jupyter-widgets/controls",
     "model_module_version": "1.5.0",
     "model_name": "HBoxModel",
     "state": {
      "_dom_classes": [],
      "_model_module": "@jupyter-widgets/controls",
      "_model_module_version": "1.5.0",
      "_model_name": "HBoxModel",
      "_view_count": null,
      "_view_module": "@jupyter-widgets/controls",
      "_view_module_version": "1.5.0",
      "_view_name": "HBoxView",
      "box_style": "",
      "children": [
       "IPY_MODEL_3bccc7d62e184ccbb7ae7caf2a92c7a4",
       "IPY_MODEL_1ffeb28b6fa044ce880020964493b08c",
       "IPY_MODEL_d72dc3d1bd674af59311e524a2beda09"
      ],
      "layout": "IPY_MODEL_ceef689bfe95449790632efcd94e29f1"
     }
    },
    "ceef689bfe95449790632efcd94e29f1": {
     "model_module": "@jupyter-widgets/base",
     "model_module_version": "1.2.0",
     "model_name": "LayoutModel",
     "state": {
      "_model_module": "@jupyter-widgets/base",
      "_model_module_version": "1.2.0",
      "_model_name": "LayoutModel",
      "_view_count": null,
      "_view_module": "@jupyter-widgets/base",
      "_view_module_version": "1.2.0",
      "_view_name": "LayoutView",
      "align_content": null,
      "align_items": null,
      "align_self": null,
      "border": null,
      "bottom": null,
      "display": null,
      "flex": null,
      "flex_flow": null,
      "grid_area": null,
      "grid_auto_columns": null,
      "grid_auto_flow": null,
      "grid_auto_rows": null,
      "grid_column": null,
      "grid_gap": null,
      "grid_row": null,
      "grid_template_areas": null,
      "grid_template_columns": null,
      "grid_template_rows": null,
      "height": null,
      "justify_content": null,
      "justify_items": null,
      "left": null,
      "margin": null,
      "max_height": null,
      "max_width": null,
      "min_height": null,
      "min_width": null,
      "object_fit": null,
      "object_position": null,
      "order": null,
      "overflow": null,
      "overflow_x": null,
      "overflow_y": null,
      "padding": null,
      "right": null,
      "top": null,
      "visibility": null,
      "width": null
     }
    },
    "cf989deebbf74c4f8b243ca82c5391e2": {
     "model_module": "@jupyter-widgets/controls",
     "model_module_version": "1.5.0",
     "model_name": "HBoxModel",
     "state": {
      "_dom_classes": [],
      "_model_module": "@jupyter-widgets/controls",
      "_model_module_version": "1.5.0",
      "_model_name": "HBoxModel",
      "_view_count": null,
      "_view_module": "@jupyter-widgets/controls",
      "_view_module_version": "1.5.0",
      "_view_name": "HBoxView",
      "box_style": "",
      "children": [
       "IPY_MODEL_2c1b87426f1d44f2a764bdf4d8ae4517",
       "IPY_MODEL_d53236ca02734db3af3f56439c9391f3",
       "IPY_MODEL_504b50f7ad8f4ea0a33ea2c2b0969455"
      ],
      "layout": "IPY_MODEL_8fe4dece1922424abba2eb0aa74fb93b"
     }
    },
    "d1bccd3d9f7f45f1ab195f7a929e7ca0": {
     "model_module": "@jupyter-widgets/controls",
     "model_module_version": "1.5.0",
     "model_name": "ProgressStyleModel",
     "state": {
      "_model_module": "@jupyter-widgets/controls",
      "_model_module_version": "1.5.0",
      "_model_name": "ProgressStyleModel",
      "_view_count": null,
      "_view_module": "@jupyter-widgets/base",
      "_view_module_version": "1.2.0",
      "_view_name": "StyleView",
      "bar_color": null,
      "description_width": ""
     }
    },
    "d34c924d6be44289bc7779af3b1db5f0": {
     "model_module": "@jupyter-widgets/base",
     "model_module_version": "1.2.0",
     "model_name": "LayoutModel",
     "state": {
      "_model_module": "@jupyter-widgets/base",
      "_model_module_version": "1.2.0",
      "_model_name": "LayoutModel",
      "_view_count": null,
      "_view_module": "@jupyter-widgets/base",
      "_view_module_version": "1.2.0",
      "_view_name": "LayoutView",
      "align_content": null,
      "align_items": null,
      "align_self": null,
      "border": null,
      "bottom": null,
      "display": null,
      "flex": null,
      "flex_flow": null,
      "grid_area": null,
      "grid_auto_columns": null,
      "grid_auto_flow": null,
      "grid_auto_rows": null,
      "grid_column": null,
      "grid_gap": null,
      "grid_row": null,
      "grid_template_areas": null,
      "grid_template_columns": null,
      "grid_template_rows": null,
      "height": null,
      "justify_content": null,
      "justify_items": null,
      "left": null,
      "margin": null,
      "max_height": null,
      "max_width": null,
      "min_height": null,
      "min_width": null,
      "object_fit": null,
      "object_position": null,
      "order": null,
      "overflow": null,
      "overflow_x": null,
      "overflow_y": null,
      "padding": null,
      "right": null,
      "top": null,
      "visibility": null,
      "width": null
     }
    },
    "d4132a4865234b248609ce1779fd6c5f": {
     "model_module": "@jupyter-widgets/controls",
     "model_module_version": "1.5.0",
     "model_name": "HTMLModel",
     "state": {
      "_dom_classes": [],
      "_model_module": "@jupyter-widgets/controls",
      "_model_module_version": "1.5.0",
      "_model_name": "HTMLModel",
      "_view_count": null,
      "_view_module": "@jupyter-widgets/controls",
      "_view_module_version": "1.5.0",
      "_view_name": "HTMLView",
      "description": "",
      "description_tooltip": null,
      "layout": "IPY_MODEL_be80a3cdbc5740eebc5640dea499a753",
      "placeholder": "​",
      "style": "IPY_MODEL_604b0934488b4aa89503b99ab925a9ca",
      "value": " 1982/1982 [00:00&lt;00:00, 4895.44 examples/s]"
     }
    },
    "d42c0c919c0d4a0abcdaa0bdca360e48": {
     "model_module": "@jupyter-widgets/controls",
     "model_module_version": "1.5.0",
     "model_name": "HTMLModel",
     "state": {
      "_dom_classes": [],
      "_model_module": "@jupyter-widgets/controls",
      "_model_module_version": "1.5.0",
      "_model_name": "HTMLModel",
      "_view_count": null,
      "_view_module": "@jupyter-widgets/controls",
      "_view_module_version": "1.5.0",
      "_view_name": "HTMLView",
      "description": "",
      "description_tooltip": null,
      "layout": "IPY_MODEL_4adbdc817ea94be790357fe84c23aa24",
      "placeholder": "​",
      "style": "IPY_MODEL_a4140334b1e049939f804f0588554d50",
      "value": "config.json: 100%"
     }
    },
    "d48cf2594874405caa3ab150b9835df3": {
     "model_module": "@jupyter-widgets/base",
     "model_module_version": "1.2.0",
     "model_name": "LayoutModel",
     "state": {
      "_model_module": "@jupyter-widgets/base",
      "_model_module_version": "1.2.0",
      "_model_name": "LayoutModel",
      "_view_count": null,
      "_view_module": "@jupyter-widgets/base",
      "_view_module_version": "1.2.0",
      "_view_name": "LayoutView",
      "align_content": null,
      "align_items": null,
      "align_self": null,
      "border": null,
      "bottom": null,
      "display": null,
      "flex": null,
      "flex_flow": null,
      "grid_area": null,
      "grid_auto_columns": null,
      "grid_auto_flow": null,
      "grid_auto_rows": null,
      "grid_column": null,
      "grid_gap": null,
      "grid_row": null,
      "grid_template_areas": null,
      "grid_template_columns": null,
      "grid_template_rows": null,
      "height": null,
      "justify_content": null,
      "justify_items": null,
      "left": null,
      "margin": null,
      "max_height": null,
      "max_width": null,
      "min_height": null,
      "min_width": null,
      "object_fit": null,
      "object_position": null,
      "order": null,
      "overflow": null,
      "overflow_x": null,
      "overflow_y": null,
      "padding": null,
      "right": null,
      "top": null,
      "visibility": null,
      "width": null
     }
    },
    "d53236ca02734db3af3f56439c9391f3": {
     "model_module": "@jupyter-widgets/controls",
     "model_module_version": "1.5.0",
     "model_name": "FloatProgressModel",
     "state": {
      "_dom_classes": [],
      "_model_module": "@jupyter-widgets/controls",
      "_model_module_version": "1.5.0",
      "_model_name": "FloatProgressModel",
      "_view_count": null,
      "_view_module": "@jupyter-widgets/controls",
      "_view_module_version": "1.5.0",
      "_view_name": "ProgressView",
      "bar_style": "success",
      "description": "",
      "description_tooltip": null,
      "layout": "IPY_MODEL_265c8b0a8235428ea6c8e7f60c4ad46e",
      "max": 1613,
      "min": 0,
      "orientation": "horizontal",
      "style": "IPY_MODEL_a3199dbbcd8b4469be3c46b2069c6d0a",
      "value": 1613
     }
    },
    "d535a27abfad4651817b3e7bcf50c195": {
     "model_module": "@jupyter-widgets/base",
     "model_module_version": "1.2.0",
     "model_name": "LayoutModel",
     "state": {
      "_model_module": "@jupyter-widgets/base",
      "_model_module_version": "1.2.0",
      "_model_name": "LayoutModel",
      "_view_count": null,
      "_view_module": "@jupyter-widgets/base",
      "_view_module_version": "1.2.0",
      "_view_name": "LayoutView",
      "align_content": null,
      "align_items": null,
      "align_self": null,
      "border": null,
      "bottom": null,
      "display": null,
      "flex": null,
      "flex_flow": null,
      "grid_area": null,
      "grid_auto_columns": null,
      "grid_auto_flow": null,
      "grid_auto_rows": null,
      "grid_column": null,
      "grid_gap": null,
      "grid_row": null,
      "grid_template_areas": null,
      "grid_template_columns": null,
      "grid_template_rows": null,
      "height": null,
      "justify_content": null,
      "justify_items": null,
      "left": null,
      "margin": null,
      "max_height": null,
      "max_width": null,
      "min_height": null,
      "min_width": null,
      "object_fit": null,
      "object_position": null,
      "order": null,
      "overflow": null,
      "overflow_x": null,
      "overflow_y": null,
      "padding": null,
      "right": null,
      "top": null,
      "visibility": null,
      "width": null
     }
    },
    "d6f276af654343f6b07bbe48b9c93d45": {
     "model_module": "@jupyter-widgets/controls",
     "model_module_version": "1.5.0",
     "model_name": "HTMLModel",
     "state": {
      "_dom_classes": [],
      "_model_module": "@jupyter-widgets/controls",
      "_model_module_version": "1.5.0",
      "_model_name": "HTMLModel",
      "_view_count": null,
      "_view_module": "@jupyter-widgets/controls",
      "_view_module_version": "1.5.0",
      "_view_name": "HTMLView",
      "description": "",
      "description_tooltip": null,
      "layout": "IPY_MODEL_3e620b8cd3fb43ac8d88bd91fe406015",
      "placeholder": "​",
      "style": "IPY_MODEL_2a7be64016f74fcfb9900c1ae1e92235",
      "value": " 282/282 [00:00&lt;00:00, 2847.23 examples/s]"
     }
    },
    "d72dc3d1bd674af59311e524a2beda09": {
     "model_module": "@jupyter-widgets/controls",
     "model_module_version": "1.5.0",
     "model_name": "HTMLModel",
     "state": {
      "_dom_classes": [],
      "_model_module": "@jupyter-widgets/controls",
      "_model_module_version": "1.5.0",
      "_model_name": "HTMLModel",
      "_view_count": null,
      "_view_module": "@jupyter-widgets/controls",
      "_view_module_version": "1.5.0",
      "_view_name": "HTMLView",
      "description": "",
      "description_tooltip": null,
      "layout": "IPY_MODEL_ed084494bc82473d90810e7d15852b2b",
      "placeholder": "​",
      "style": "IPY_MODEL_a43899fb1b8d4dd09f9052760200f1af",
      "value": " 351/351 [00:00&lt;00:00, 4418.94 examples/s]"
     }
    },
    "d8c2abc751b4453da16b6480e2a6629e": {
     "model_module": "@jupyter-widgets/controls",
     "model_module_version": "1.5.0",
     "model_name": "DescriptionStyleModel",
     "state": {
      "_model_module": "@jupyter-widgets/controls",
      "_model_module_version": "1.5.0",
      "_model_name": "DescriptionStyleModel",
      "_view_count": null,
      "_view_module": "@jupyter-widgets/base",
      "_view_module_version": "1.2.0",
      "_view_name": "StyleView",
      "description_width": ""
     }
    },
    "d9a0d4568eaa45899ee18a9fcfb0e2d0": {
     "model_module": "@jupyter-widgets/controls",
     "model_module_version": "1.5.0",
     "model_name": "HTMLModel",
     "state": {
      "_dom_classes": [],
      "_model_module": "@jupyter-widgets/controls",
      "_model_module_version": "1.5.0",
      "_model_name": "HTMLModel",
      "_view_count": null,
      "_view_module": "@jupyter-widgets/controls",
      "_view_module_version": "1.5.0",
      "_view_name": "HTMLView",
      "description": "",
      "description_tooltip": null,
      "layout": "IPY_MODEL_4979de10b20d4162915629c704ddf11f",
      "placeholder": "​",
      "style": "IPY_MODEL_6da18395ef434ee0a3de37a2b169dfa2",
      "value": " 300/300 [00:00&lt;00:00, 1759.64 examples/s]"
     }
    },
    "db30be138cc24b0ba8323bc323404f93": {
     "model_module": "@jupyter-widgets/controls",
     "model_module_version": "1.5.0",
     "model_name": "ProgressStyleModel",
     "state": {
      "_model_module": "@jupyter-widgets/controls",
      "_model_module_version": "1.5.0",
      "_model_name": "ProgressStyleModel",
      "_view_count": null,
      "_view_module": "@jupyter-widgets/base",
      "_view_module_version": "1.2.0",
      "_view_name": "StyleView",
      "bar_color": null,
      "description_width": ""
     }
    },
    "dc851a35d23b487c85d4300eae5b9f85": {
     "model_module": "@jupyter-widgets/controls",
     "model_module_version": "1.5.0",
     "model_name": "HTMLModel",
     "state": {
      "_dom_classes": [],
      "_model_module": "@jupyter-widgets/controls",
      "_model_module_version": "1.5.0",
      "_model_name": "HTMLModel",
      "_view_count": null,
      "_view_module": "@jupyter-widgets/controls",
      "_view_module_version": "1.5.0",
      "_view_name": "HTMLView",
      "description": "",
      "description_tooltip": null,
      "layout": "IPY_MODEL_12be50f343b94c4db57db0189aa50d29",
      "placeholder": "​",
      "style": "IPY_MODEL_43b0cd069cf74bd5a8f82f6f6fa9ceb7",
      "value": " 297/297 [00:00&lt;00:00, 3753.49 examples/s]"
     }
    },
    "e09679e5ab5343e68cd40c35686a36e9": {
     "model_module": "@jupyter-widgets/controls",
     "model_module_version": "1.5.0",
     "model_name": "HTMLModel",
     "state": {
      "_dom_classes": [],
      "_model_module": "@jupyter-widgets/controls",
      "_model_module_version": "1.5.0",
      "_model_name": "HTMLModel",
      "_view_count": null,
      "_view_module": "@jupyter-widgets/controls",
      "_view_module_version": "1.5.0",
      "_view_name": "HTMLView",
      "description": "",
      "description_tooltip": null,
      "layout": "IPY_MODEL_3e464414491d4b178a7aaa92c3843e88",
      "placeholder": "​",
      "style": "IPY_MODEL_ebb9cf6d745040a8bf98c290e7033cc2",
      "value": "Map: 100%"
     }
    },
    "e5128b36c28d4bfaa1decd016bde1792": {
     "model_module": "@jupyter-widgets/base",
     "model_module_version": "1.2.0",
     "model_name": "LayoutModel",
     "state": {
      "_model_module": "@jupyter-widgets/base",
      "_model_module_version": "1.2.0",
      "_model_name": "LayoutModel",
      "_view_count": null,
      "_view_module": "@jupyter-widgets/base",
      "_view_module_version": "1.2.0",
      "_view_name": "LayoutView",
      "align_content": null,
      "align_items": null,
      "align_self": null,
      "border": null,
      "bottom": null,
      "display": null,
      "flex": null,
      "flex_flow": null,
      "grid_area": null,
      "grid_auto_columns": null,
      "grid_auto_flow": null,
      "grid_auto_rows": null,
      "grid_column": null,
      "grid_gap": null,
      "grid_row": null,
      "grid_template_areas": null,
      "grid_template_columns": null,
      "grid_template_rows": null,
      "height": null,
      "justify_content": null,
      "justify_items": null,
      "left": null,
      "margin": null,
      "max_height": null,
      "max_width": null,
      "min_height": null,
      "min_width": null,
      "object_fit": null,
      "object_position": null,
      "order": null,
      "overflow": null,
      "overflow_x": null,
      "overflow_y": null,
      "padding": null,
      "right": null,
      "top": null,
      "visibility": null,
      "width": null
     }
    },
    "ea358f38c75b43bfb123e0b75b4fb0bc": {
     "model_module": "@jupyter-widgets/controls",
     "model_module_version": "1.5.0",
     "model_name": "ProgressStyleModel",
     "state": {
      "_model_module": "@jupyter-widgets/controls",
      "_model_module_version": "1.5.0",
      "_model_name": "ProgressStyleModel",
      "_view_count": null,
      "_view_module": "@jupyter-widgets/base",
      "_view_module_version": "1.2.0",
      "_view_name": "StyleView",
      "bar_color": null,
      "description_width": ""
     }
    },
    "ebb9cf6d745040a8bf98c290e7033cc2": {
     "model_module": "@jupyter-widgets/controls",
     "model_module_version": "1.5.0",
     "model_name": "DescriptionStyleModel",
     "state": {
      "_model_module": "@jupyter-widgets/controls",
      "_model_module_version": "1.5.0",
      "_model_name": "DescriptionStyleModel",
      "_view_count": null,
      "_view_module": "@jupyter-widgets/base",
      "_view_module_version": "1.2.0",
      "_view_name": "StyleView",
      "description_width": ""
     }
    },
    "ed084494bc82473d90810e7d15852b2b": {
     "model_module": "@jupyter-widgets/base",
     "model_module_version": "1.2.0",
     "model_name": "LayoutModel",
     "state": {
      "_model_module": "@jupyter-widgets/base",
      "_model_module_version": "1.2.0",
      "_model_name": "LayoutModel",
      "_view_count": null,
      "_view_module": "@jupyter-widgets/base",
      "_view_module_version": "1.2.0",
      "_view_name": "LayoutView",
      "align_content": null,
      "align_items": null,
      "align_self": null,
      "border": null,
      "bottom": null,
      "display": null,
      "flex": null,
      "flex_flow": null,
      "grid_area": null,
      "grid_auto_columns": null,
      "grid_auto_flow": null,
      "grid_auto_rows": null,
      "grid_column": null,
      "grid_gap": null,
      "grid_row": null,
      "grid_template_areas": null,
      "grid_template_columns": null,
      "grid_template_rows": null,
      "height": null,
      "justify_content": null,
      "justify_items": null,
      "left": null,
      "margin": null,
      "max_height": null,
      "max_width": null,
      "min_height": null,
      "min_width": null,
      "object_fit": null,
      "object_position": null,
      "order": null,
      "overflow": null,
      "overflow_x": null,
      "overflow_y": null,
      "padding": null,
      "right": null,
      "top": null,
      "visibility": null,
      "width": null
     }
    },
    "ed55684f18cf459db32ca2a1b713141a": {
     "model_module": "@jupyter-widgets/controls",
     "model_module_version": "1.5.0",
     "model_name": "HTMLModel",
     "state": {
      "_dom_classes": [],
      "_model_module": "@jupyter-widgets/controls",
      "_model_module_version": "1.5.0",
      "_model_name": "HTMLModel",
      "_view_count": null,
      "_view_module": "@jupyter-widgets/controls",
      "_view_module_version": "1.5.0",
      "_view_name": "HTMLView",
      "description": "",
      "description_tooltip": null,
      "layout": "IPY_MODEL_fdfd4d29b72c455f833bed32c95a1b45",
      "placeholder": "​",
      "style": "IPY_MODEL_3a9e6f0a23574af283322392c70df2c6",
      "value": "Map: 100%"
     }
    },
    "eface0f25ccf4dbba23881a6f266af1f": {
     "model_module": "@jupyter-widgets/base",
     "model_module_version": "1.2.0",
     "model_name": "LayoutModel",
     "state": {
      "_model_module": "@jupyter-widgets/base",
      "_model_module_version": "1.2.0",
      "_model_name": "LayoutModel",
      "_view_count": null,
      "_view_module": "@jupyter-widgets/base",
      "_view_module_version": "1.2.0",
      "_view_name": "LayoutView",
      "align_content": null,
      "align_items": null,
      "align_self": null,
      "border": null,
      "bottom": null,
      "display": null,
      "flex": null,
      "flex_flow": null,
      "grid_area": null,
      "grid_auto_columns": null,
      "grid_auto_flow": null,
      "grid_auto_rows": null,
      "grid_column": null,
      "grid_gap": null,
      "grid_row": null,
      "grid_template_areas": null,
      "grid_template_columns": null,
      "grid_template_rows": null,
      "height": null,
      "justify_content": null,
      "justify_items": null,
      "left": null,
      "margin": null,
      "max_height": null,
      "max_width": null,
      "min_height": null,
      "min_width": null,
      "object_fit": null,
      "object_position": null,
      "order": null,
      "overflow": null,
      "overflow_x": null,
      "overflow_y": null,
      "padding": null,
      "right": null,
      "top": null,
      "visibility": null,
      "width": null
     }
    },
    "f01a8d32077740d397b4f2031f6d76fe": {
     "model_module": "@jupyter-widgets/controls",
     "model_module_version": "1.5.0",
     "model_name": "DescriptionStyleModel",
     "state": {
      "_model_module": "@jupyter-widgets/controls",
      "_model_module_version": "1.5.0",
      "_model_name": "DescriptionStyleModel",
      "_view_count": null,
      "_view_module": "@jupyter-widgets/base",
      "_view_module_version": "1.2.0",
      "_view_name": "StyleView",
      "description_width": ""
     }
    },
    "f0e4c3cbae8c421eb3397aa9092b8d35": {
     "model_module": "@jupyter-widgets/controls",
     "model_module_version": "1.5.0",
     "model_name": "DescriptionStyleModel",
     "state": {
      "_model_module": "@jupyter-widgets/controls",
      "_model_module_version": "1.5.0",
      "_model_name": "DescriptionStyleModel",
      "_view_count": null,
      "_view_module": "@jupyter-widgets/base",
      "_view_module_version": "1.2.0",
      "_view_name": "StyleView",
      "description_width": ""
     }
    },
    "f303ac7175044f1c82388d3da8dd6ecf": {
     "model_module": "@jupyter-widgets/base",
     "model_module_version": "1.2.0",
     "model_name": "LayoutModel",
     "state": {
      "_model_module": "@jupyter-widgets/base",
      "_model_module_version": "1.2.0",
      "_model_name": "LayoutModel",
      "_view_count": null,
      "_view_module": "@jupyter-widgets/base",
      "_view_module_version": "1.2.0",
      "_view_name": "LayoutView",
      "align_content": null,
      "align_items": null,
      "align_self": null,
      "border": null,
      "bottom": null,
      "display": null,
      "flex": null,
      "flex_flow": null,
      "grid_area": null,
      "grid_auto_columns": null,
      "grid_auto_flow": null,
      "grid_auto_rows": null,
      "grid_column": null,
      "grid_gap": null,
      "grid_row": null,
      "grid_template_areas": null,
      "grid_template_columns": null,
      "grid_template_rows": null,
      "height": null,
      "justify_content": null,
      "justify_items": null,
      "left": null,
      "margin": null,
      "max_height": null,
      "max_width": null,
      "min_height": null,
      "min_width": null,
      "object_fit": null,
      "object_position": null,
      "order": null,
      "overflow": null,
      "overflow_x": null,
      "overflow_y": null,
      "padding": null,
      "right": null,
      "top": null,
      "visibility": null,
      "width": null
     }
    },
    "f30de19488034ccd99e337db28fc3d3b": {
     "model_module": "@jupyter-widgets/base",
     "model_module_version": "1.2.0",
     "model_name": "LayoutModel",
     "state": {
      "_model_module": "@jupyter-widgets/base",
      "_model_module_version": "1.2.0",
      "_model_name": "LayoutModel",
      "_view_count": null,
      "_view_module": "@jupyter-widgets/base",
      "_view_module_version": "1.2.0",
      "_view_name": "LayoutView",
      "align_content": null,
      "align_items": null,
      "align_self": null,
      "border": null,
      "bottom": null,
      "display": null,
      "flex": null,
      "flex_flow": null,
      "grid_area": null,
      "grid_auto_columns": null,
      "grid_auto_flow": null,
      "grid_auto_rows": null,
      "grid_column": null,
      "grid_gap": null,
      "grid_row": null,
      "grid_template_areas": null,
      "grid_template_columns": null,
      "grid_template_rows": null,
      "height": null,
      "justify_content": null,
      "justify_items": null,
      "left": null,
      "margin": null,
      "max_height": null,
      "max_width": null,
      "min_height": null,
      "min_width": null,
      "object_fit": null,
      "object_position": null,
      "order": null,
      "overflow": null,
      "overflow_x": null,
      "overflow_y": null,
      "padding": null,
      "right": null,
      "top": null,
      "visibility": null,
      "width": null
     }
    },
    "f37f72bf662447edb0991f15b0930405": {
     "model_module": "@jupyter-widgets/controls",
     "model_module_version": "1.5.0",
     "model_name": "HTMLModel",
     "state": {
      "_dom_classes": [],
      "_model_module": "@jupyter-widgets/controls",
      "_model_module_version": "1.5.0",
      "_model_name": "HTMLModel",
      "_view_count": null,
      "_view_module": "@jupyter-widgets/controls",
      "_view_module_version": "1.5.0",
      "_view_name": "HTMLView",
      "description": "",
      "description_tooltip": null,
      "layout": "IPY_MODEL_708948218d0c4de58cbc842b978d96d6",
      "placeholder": "​",
      "style": "IPY_MODEL_f01a8d32077740d397b4f2031f6d76fe",
      "value": " 6380/6380 [00:01&lt;00:00, 4647.68 examples/s]"
     }
    },
    "f49f96419ca749558effd42ba2601795": {
     "model_module": "@jupyter-widgets/controls",
     "model_module_version": "1.5.0",
     "model_name": "FloatProgressModel",
     "state": {
      "_dom_classes": [],
      "_model_module": "@jupyter-widgets/controls",
      "_model_module_version": "1.5.0",
      "_model_name": "FloatProgressModel",
      "_view_count": null,
      "_view_module": "@jupyter-widgets/controls",
      "_view_module_version": "1.5.0",
      "_view_name": "ProgressView",
      "bar_style": "success",
      "description": "",
      "description_tooltip": null,
      "layout": "IPY_MODEL_19fdf0e838d440a9b2d3ee9fdf6136d8",
      "max": 830,
      "min": 0,
      "orientation": "horizontal",
      "style": "IPY_MODEL_21bb9876809c45ecb05344337eef4acf",
      "value": 830
     }
    },
    "f5372a2a57c549ebad42cbdf09fca782": {
     "model_module": "@jupyter-widgets/base",
     "model_module_version": "1.2.0",
     "model_name": "LayoutModel",
     "state": {
      "_model_module": "@jupyter-widgets/base",
      "_model_module_version": "1.2.0",
      "_model_name": "LayoutModel",
      "_view_count": null,
      "_view_module": "@jupyter-widgets/base",
      "_view_module_version": "1.2.0",
      "_view_name": "LayoutView",
      "align_content": null,
      "align_items": null,
      "align_self": null,
      "border": null,
      "bottom": null,
      "display": null,
      "flex": null,
      "flex_flow": null,
      "grid_area": null,
      "grid_auto_columns": null,
      "grid_auto_flow": null,
      "grid_auto_rows": null,
      "grid_column": null,
      "grid_gap": null,
      "grid_row": null,
      "grid_template_areas": null,
      "grid_template_columns": null,
      "grid_template_rows": null,
      "height": null,
      "justify_content": null,
      "justify_items": null,
      "left": null,
      "margin": null,
      "max_height": null,
      "max_width": null,
      "min_height": null,
      "min_width": null,
      "object_fit": null,
      "object_position": null,
      "order": null,
      "overflow": null,
      "overflow_x": null,
      "overflow_y": null,
      "padding": null,
      "right": null,
      "top": null,
      "visibility": null,
      "width": null
     }
    },
    "f5fb1b39a3764068aa9fe49c76d441ef": {
     "model_module": "@jupyter-widgets/controls",
     "model_module_version": "1.5.0",
     "model_name": "HTMLModel",
     "state": {
      "_dom_classes": [],
      "_model_module": "@jupyter-widgets/controls",
      "_model_module_version": "1.5.0",
      "_model_name": "HTMLModel",
      "_view_count": null,
      "_view_module": "@jupyter-widgets/controls",
      "_view_module_version": "1.5.0",
      "_view_name": "HTMLView",
      "description": "",
      "description_tooltip": null,
      "layout": "IPY_MODEL_4294da0ed1664df5874515d164e89116",
      "placeholder": "​",
      "style": "IPY_MODEL_1686fbca90f541a2a21ff8567fffae1d",
      "value": " 667/667 [00:00&lt;00:00, 2060.93 examples/s]"
     }
    },
    "f660fdb517624db0a7666e69c9ef3274": {
     "model_module": "@jupyter-widgets/base",
     "model_module_version": "1.2.0",
     "model_name": "LayoutModel",
     "state": {
      "_model_module": "@jupyter-widgets/base",
      "_model_module_version": "1.2.0",
      "_model_name": "LayoutModel",
      "_view_count": null,
      "_view_module": "@jupyter-widgets/base",
      "_view_module_version": "1.2.0",
      "_view_name": "LayoutView",
      "align_content": null,
      "align_items": null,
      "align_self": null,
      "border": null,
      "bottom": null,
      "display": null,
      "flex": null,
      "flex_flow": null,
      "grid_area": null,
      "grid_auto_columns": null,
      "grid_auto_flow": null,
      "grid_auto_rows": null,
      "grid_column": null,
      "grid_gap": null,
      "grid_row": null,
      "grid_template_areas": null,
      "grid_template_columns": null,
      "grid_template_rows": null,
      "height": null,
      "justify_content": null,
      "justify_items": null,
      "left": null,
      "margin": null,
      "max_height": null,
      "max_width": null,
      "min_height": null,
      "min_width": null,
      "object_fit": null,
      "object_position": null,
      "order": null,
      "overflow": null,
      "overflow_x": null,
      "overflow_y": null,
      "padding": null,
      "right": null,
      "top": null,
      "visibility": null,
      "width": null
     }
    },
    "f80c329a78b24bf085f2894faf331823": {
     "model_module": "@jupyter-widgets/base",
     "model_module_version": "1.2.0",
     "model_name": "LayoutModel",
     "state": {
      "_model_module": "@jupyter-widgets/base",
      "_model_module_version": "1.2.0",
      "_model_name": "LayoutModel",
      "_view_count": null,
      "_view_module": "@jupyter-widgets/base",
      "_view_module_version": "1.2.0",
      "_view_name": "LayoutView",
      "align_content": null,
      "align_items": null,
      "align_self": null,
      "border": null,
      "bottom": null,
      "display": null,
      "flex": null,
      "flex_flow": null,
      "grid_area": null,
      "grid_auto_columns": null,
      "grid_auto_flow": null,
      "grid_auto_rows": null,
      "grid_column": null,
      "grid_gap": null,
      "grid_row": null,
      "grid_template_areas": null,
      "grid_template_columns": null,
      "grid_template_rows": null,
      "height": null,
      "justify_content": null,
      "justify_items": null,
      "left": null,
      "margin": null,
      "max_height": null,
      "max_width": null,
      "min_height": null,
      "min_width": null,
      "object_fit": null,
      "object_position": null,
      "order": null,
      "overflow": null,
      "overflow_x": null,
      "overflow_y": null,
      "padding": null,
      "right": null,
      "top": null,
      "visibility": null,
      "width": null
     }
    },
    "fb28a5abc8b04810bc0213d07109091f": {
     "model_module": "@jupyter-widgets/controls",
     "model_module_version": "1.5.0",
     "model_name": "ProgressStyleModel",
     "state": {
      "_model_module": "@jupyter-widgets/controls",
      "_model_module_version": "1.5.0",
      "_model_name": "ProgressStyleModel",
      "_view_count": null,
      "_view_module": "@jupyter-widgets/base",
      "_view_module_version": "1.2.0",
      "_view_name": "StyleView",
      "bar_color": null,
      "description_width": ""
     }
    },
    "fb3629ebe7ea4d2490f25072c52609a3": {
     "model_module": "@jupyter-widgets/base",
     "model_module_version": "1.2.0",
     "model_name": "LayoutModel",
     "state": {
      "_model_module": "@jupyter-widgets/base",
      "_model_module_version": "1.2.0",
      "_model_name": "LayoutModel",
      "_view_count": null,
      "_view_module": "@jupyter-widgets/base",
      "_view_module_version": "1.2.0",
      "_view_name": "LayoutView",
      "align_content": null,
      "align_items": null,
      "align_self": null,
      "border": null,
      "bottom": null,
      "display": null,
      "flex": null,
      "flex_flow": null,
      "grid_area": null,
      "grid_auto_columns": null,
      "grid_auto_flow": null,
      "grid_auto_rows": null,
      "grid_column": null,
      "grid_gap": null,
      "grid_row": null,
      "grid_template_areas": null,
      "grid_template_columns": null,
      "grid_template_rows": null,
      "height": null,
      "justify_content": null,
      "justify_items": null,
      "left": null,
      "margin": null,
      "max_height": null,
      "max_width": null,
      "min_height": null,
      "min_width": null,
      "object_fit": null,
      "object_position": null,
      "order": null,
      "overflow": null,
      "overflow_x": null,
      "overflow_y": null,
      "padding": null,
      "right": null,
      "top": null,
      "visibility": null,
      "width": null
     }
    },
    "fc56d2edc68147aea7b273618779624a": {
     "model_module": "@jupyter-widgets/base",
     "model_module_version": "1.2.0",
     "model_name": "LayoutModel",
     "state": {
      "_model_module": "@jupyter-widgets/base",
      "_model_module_version": "1.2.0",
      "_model_name": "LayoutModel",
      "_view_count": null,
      "_view_module": "@jupyter-widgets/base",
      "_view_module_version": "1.2.0",
      "_view_name": "LayoutView",
      "align_content": null,
      "align_items": null,
      "align_self": null,
      "border": null,
      "bottom": null,
      "display": null,
      "flex": null,
      "flex_flow": null,
      "grid_area": null,
      "grid_auto_columns": null,
      "grid_auto_flow": null,
      "grid_auto_rows": null,
      "grid_column": null,
      "grid_gap": null,
      "grid_row": null,
      "grid_template_areas": null,
      "grid_template_columns": null,
      "grid_template_rows": null,
      "height": null,
      "justify_content": null,
      "justify_items": null,
      "left": null,
      "margin": null,
      "max_height": null,
      "max_width": null,
      "min_height": null,
      "min_width": null,
      "object_fit": null,
      "object_position": null,
      "order": null,
      "overflow": null,
      "overflow_x": null,
      "overflow_y": null,
      "padding": null,
      "right": null,
      "top": null,
      "visibility": null,
      "width": null
     }
    },
    "fd416facc39948ada83940d9f42914d3": {
     "model_module": "@jupyter-widgets/base",
     "model_module_version": "1.2.0",
     "model_name": "LayoutModel",
     "state": {
      "_model_module": "@jupyter-widgets/base",
      "_model_module_version": "1.2.0",
      "_model_name": "LayoutModel",
      "_view_count": null,
      "_view_module": "@jupyter-widgets/base",
      "_view_module_version": "1.2.0",
      "_view_name": "LayoutView",
      "align_content": null,
      "align_items": null,
      "align_self": null,
      "border": null,
      "bottom": null,
      "display": null,
      "flex": null,
      "flex_flow": null,
      "grid_area": null,
      "grid_auto_columns": null,
      "grid_auto_flow": null,
      "grid_auto_rows": null,
      "grid_column": null,
      "grid_gap": null,
      "grid_row": null,
      "grid_template_areas": null,
      "grid_template_columns": null,
      "grid_template_rows": null,
      "height": null,
      "justify_content": null,
      "justify_items": null,
      "left": null,
      "margin": null,
      "max_height": null,
      "max_width": null,
      "min_height": null,
      "min_width": null,
      "object_fit": null,
      "object_position": null,
      "order": null,
      "overflow": null,
      "overflow_x": null,
      "overflow_y": null,
      "padding": null,
      "right": null,
      "top": null,
      "visibility": null,
      "width": null
     }
    },
    "fdfd4d29b72c455f833bed32c95a1b45": {
     "model_module": "@jupyter-widgets/base",
     "model_module_version": "1.2.0",
     "model_name": "LayoutModel",
     "state": {
      "_model_module": "@jupyter-widgets/base",
      "_model_module_version": "1.2.0",
      "_model_name": "LayoutModel",
      "_view_count": null,
      "_view_module": "@jupyter-widgets/base",
      "_view_module_version": "1.2.0",
      "_view_name": "LayoutView",
      "align_content": null,
      "align_items": null,
      "align_self": null,
      "border": null,
      "bottom": null,
      "display": null,
      "flex": null,
      "flex_flow": null,
      "grid_area": null,
      "grid_auto_columns": null,
      "grid_auto_flow": null,
      "grid_auto_rows": null,
      "grid_column": null,
      "grid_gap": null,
      "grid_row": null,
      "grid_template_areas": null,
      "grid_template_columns": null,
      "grid_template_rows": null,
      "height": null,
      "justify_content": null,
      "justify_items": null,
      "left": null,
      "margin": null,
      "max_height": null,
      "max_width": null,
      "min_height": null,
      "min_width": null,
      "object_fit": null,
      "object_position": null,
      "order": null,
      "overflow": null,
      "overflow_x": null,
      "overflow_y": null,
      "padding": null,
      "right": null,
      "top": null,
      "visibility": null,
      "width": null
     }
    },
    "ff60b9ef45924b82b2b75f03e06f6457": {
     "model_module": "@jupyter-widgets/controls",
     "model_module_version": "1.5.0",
     "model_name": "HTMLModel",
     "state": {
      "_dom_classes": [],
      "_model_module": "@jupyter-widgets/controls",
      "_model_module_version": "1.5.0",
      "_model_name": "HTMLModel",
      "_view_count": null,
      "_view_module": "@jupyter-widgets/controls",
      "_view_module_version": "1.5.0",
      "_view_name": "HTMLView",
      "description": "",
      "description_tooltip": null,
      "layout": "IPY_MODEL_f30de19488034ccd99e337db28fc3d3b",
      "placeholder": "​",
      "style": "IPY_MODEL_50db1fcddec04d62b907ae58eb0f0cbc",
      "value": "Map: 100%"
     }
    }
   }
  }
 },
 "nbformat": 4,
 "nbformat_minor": 5
}
