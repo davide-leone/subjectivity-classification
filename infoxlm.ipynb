{
 "cells": [
  {
   "cell_type": "markdown",
   "id": "aee7ec87-d449-43ab-838a-2867b9986036",
   "metadata": {
    "id": "aee7ec87-d449-43ab-838a-2867b9986036"
   },
   "source": [
    "# Task 1: Subjectivity in News Articles"
   ]
  },
  {
   "cell_type": "markdown",
   "id": "6e1fc62d-9b04-4147-b715-b5160a450172",
   "metadata": {
    "id": "6e1fc62d-9b04-4147-b715-b5160a450172"
   },
   "source": [
    "## Task Description"
   ]
  },
  {
   "cell_type": "markdown",
   "id": "be8d832e-c55d-4c4e-a915-3c4ffbf45527",
   "metadata": {
    "id": "be8d832e-c55d-4c4e-a915-3c4ffbf45527"
   },
   "source": [
    "Systems are challenged to distinguish whether a sentence from a news article expresses the subjective view of the author behind it or presents an objective view on the covered topic instead.\n",
    "This is a binary classification tasks in which systems have to identify whether a text sequence (a sentence or a paragraph) is subjective (SUBJ) or objective (OBJ).\n",
    "The task comprises three settings:\n",
    "\n",
    "* Monolingual: train and test on data in a given language L\n",
    "\n",
    "* Multilingual: train and test on data comprising several languages\n",
    "\n",
    "* Zero-shot: train on several languages and test on unseen languages\n",
    "\n",
    "### Contents of the Task 1 Directory\n",
    "\n",
    "* Main folder: data\n",
    "\n",
    "  Contains a subfolder for each language which contain the data as TSV format with .tsv extension (train_LANG.tsv, dev_LANG.tsv, dev_test_LANG.tsv, test_LANG.tsv). As LANG we used standard language code for each language.\n",
    "\n",
    "* Main folder: baseline\n",
    "\n",
    "  Contains a single file, baseline.py, used to train a baseline and provide predictions.\n",
    "\n",
    "* Main folder: scorer\n",
    "\n",
    "  Contains a single file, evaluate.py, that checks the format of a submission and evaluate the various metrics.\n",
    "\n",
    "### Input Data Format\n",
    "The data will be provided as a TSV file with three columns:\n",
    "\n",
    "    sentence_id  sentence  label\n",
    "\n",
    "Where:\n",
    "\n",
    "* sentence_id: sentence id for a given sentence in a news article\n",
    "\n",
    "* sentence: sentence's text\n",
    "\n",
    "* label: OBJ and SUBJ\n",
    "\n",
    "\n",
    "Examples:\n",
    "\n",
    "    b9e1635a-72aa-467f-86d6-f56ef09f62c3  Gone are the days when they led the world in recession-busting SUBJ\n",
    "    f99b5143-70d2-494a-a2f5-c68f10d09d0a  The trend is expected to reverse as soon as next month.  OBJ\n",
    "\n",
    "### Output Data Format\n",
    "The output must be a TSV format with two columns: sentence_id and label.\n",
    "\n",
    "### Evaluation Metrics\n",
    "This task is evaluated as a classification task. We will use the F1-macro measure for the ranking of teams.\n",
    "We will also measure Precision, Recall, and F1 of the SUBJ class and the macro-averaged scores.\n",
    "\n",
    "\n",
    "### Scorers\n",
    "To evaluate the output of your model which should be in the output format required, please run the script below:\n",
    "\n",
    "    python evaluate.py -g dev_truth.tsv -p dev_predicted.tsv\n",
    "\n",
    "where dev_predicted.tsv is the output of your model on the dev set, and dev_truth.tsv is the golden label file provided by us.\n",
    "The file can be used also to validate the format of the submission, simply use the provided test file as gold data.\n",
    "The evaluation will not be performed, but the format of your input will be checked.\n",
    "\n",
    "### Baselines\n",
    "The script to train the baseline is provided in the related directory.\n",
    "The script can be run as follow:\n",
    "\n",
    "    python baseline.py -trp train_data.tsv -ttp dev_data.tsv\n",
    "\n",
    "where train_data.tsv is the file to be used for training and dev_data.tsv is the file on which doing the prediction.\n",
    "The baseline is a logistic regressor trained on a Sentence-BERT multilingual representation of the data."
   ]
  },
  {
   "cell_type": "markdown",
   "id": "87e6f77f-93cb-4da1-b047-4b5d26a8ec84",
   "metadata": {
    "id": "87e6f77f-93cb-4da1-b047-4b5d26a8ec84"
   },
   "source": [
    "## Data Loading"
   ]
  },
  {
   "cell_type": "code",
   "execution_count": 1,
   "id": "z7Rmzm5IB6oC",
   "metadata": {
    "colab": {
     "base_uri": "https://localhost:8080/"
    },
    "id": "z7Rmzm5IB6oC",
    "outputId": "b3c794e5-89aa-4020-f145-25aaf5c34e8e"
   },
   "outputs": [
    {
     "name": "stdout",
     "output_type": "stream",
     "text": [
      "Reading package lists... Done\n",
      "Building dependency tree... Done\n",
      "Reading state information... Done\n",
      "git-lfs is already the newest version (3.0.2-1ubuntu0.3).\n",
      "0 upgraded, 0 newly installed, 0 to remove and 35 not upgraded.\n"
     ]
    }
   ],
   "source": [
    "!apt-get install git-lfs -y"
   ]
  },
  {
   "cell_type": "code",
   "execution_count": 2,
   "id": "orAEyXZWB3uU",
   "metadata": {
    "colab": {
     "base_uri": "https://localhost:8080/"
    },
    "id": "orAEyXZWB3uU",
    "outputId": "bdb4a666-df86-48fe-8d52-8add9d4bf980"
   },
   "outputs": [
    {
     "name": "stdout",
     "output_type": "stream",
     "text": [
      "Cloning into 'clef2025-checkthat-lab'...\n",
      "remote: Enumerating objects: 866, done.\u001b[K\n",
      "remote: Counting objects: 100% (845/845), done.\u001b[K\n",
      "remote: Compressing objects: 100% (426/426), done.\u001b[K\n",
      "remote: Total 866 (delta 413), reused 829 (delta 406), pack-reused 21 (from 1)\u001b[K\n",
      "Receiving objects: 100% (866/866), 78.96 MiB | 12.23 MiB/s, done.\n",
      "Resolving deltas: 100% (417/417), done.\n",
      "Updating files: 100% (181/181), done.\n"
     ]
    }
   ],
   "source": [
    "!git clone https://gitlab.com/checkthat_lab/clef2025-checkthat-lab.git"
   ]
  },
  {
   "cell_type": "code",
   "execution_count": 3,
   "id": "f97e05a6-3fb6-48c8-840a-72b1984c30b8",
   "metadata": {
    "id": "f97e05a6-3fb6-48c8-840a-72b1984c30b8"
   },
   "outputs": [],
   "source": [
    "# !pip install pandas"
   ]
  },
  {
   "cell_type": "code",
   "execution_count": 4,
   "id": "JoxRrnoGB_NH",
   "metadata": {
    "id": "JoxRrnoGB_NH"
   },
   "outputs": [],
   "source": [
    "DATA_PATH = \"clef2025-checkthat-lab/task1/data\"\n",
    "SCORER_PATH = \"clef2025-checkthat-lab/task1/scorer\""
   ]
  },
  {
   "cell_type": "code",
   "execution_count": 5,
   "id": "929c7d52-6438-4722-a13c-e6a46806b33a",
   "metadata": {
    "id": "929c7d52-6438-4722-a13c-e6a46806b33a"
   },
   "outputs": [],
   "source": [
    "import pandas as pd"
   ]
  },
  {
   "cell_type": "code",
   "execution_count": 6,
   "id": "a8f91dd1-a5de-4669-80b8-0af805e19297",
   "metadata": {
    "id": "a8f91dd1-a5de-4669-80b8-0af805e19297"
   },
   "outputs": [],
   "source": [
    "# ARABIC\n",
    "train_path = f'{DATA_PATH}/arabic/train_ar.tsv'\n",
    "dev_path = f'{DATA_PATH}/arabic/dev_ar.tsv'\n",
    "\n",
    "df_train_ar = pd.read_csv(train_path, sep='\\t')\n",
    "df_dev_ar = pd.read_csv(dev_path, sep='\\t')\n",
    "\n",
    "# BULGARIAN\n",
    "train_path = f'{DATA_PATH}/bulgarian/train_bg.tsv'\n",
    "dev_path = f'{DATA_PATH}/bulgarian/dev_bg.tsv'\n",
    "\n",
    "df_train_bg = pd.read_csv(train_path, sep='\\t')\n",
    "df_dev_bg = pd.read_csv(dev_path, sep='\\t')\n",
    "\n",
    "# ENGLISH\n",
    "train_path = f'{DATA_PATH}/english/train_en.tsv'\n",
    "dev_path = f'{DATA_PATH}/english/dev_en.tsv'\n",
    "\n",
    "df_train_en = pd.read_csv(train_path, sep='\\t')\n",
    "df_dev_en = pd.read_csv(dev_path, sep='\\t')\n",
    "\n",
    "# GERMAN\n",
    "train_path = f'{DATA_PATH}/german/train_de.tsv'\n",
    "dev_path = f'{DATA_PATH}/german/dev_de.tsv'\n",
    "\n",
    "df_train_de = pd.read_csv(train_path, sep='\\t')\n",
    "df_dev_de = pd.read_csv(dev_path, sep='\\t')\n",
    "\n",
    "# ITALIAN\n",
    "train_path = f'{DATA_PATH}/italian/train_it.tsv'\n",
    "dev_path = f'{DATA_PATH}/italian/dev_it.tsv'\n",
    "\n",
    "df_train_it = pd.read_csv(train_path, sep='\\t')\n",
    "df_dev_it = pd.read_csv(dev_path, sep='\\t')\n",
    "\n",
    "# MONOLINGUAL - TEST ON ENGLISH AND ITALIAN\n",
    "test_path = f'{DATA_PATH}/english/test_en_labeled.tsv'\n",
    "df_test_en = pd.read_csv(test_path, sep='\\t')\n",
    "\n",
    "test_path = f'{DATA_PATH}/italian/test_it_labeled.tsv'\n",
    "df_test_it = pd.read_csv(test_path, sep='\\t')\n",
    "\n",
    "# MULTILINGUAL - TEST ON ARABIC, BULGARIAN, ENGLISH, GERMAN AND ITALIAN\n",
    "test_path = f'{DATA_PATH}/multilingual/test_multilingual_labeled.tsv'\n",
    "\n",
    "df_test_multi = pd.read_csv(test_path, sep='\\t')\n",
    "\n",
    "# ZERO-SHOT - TEST ON GREEK, POLISH, ROMANIAN AND UKRAINIAN\n",
    "test_path = f'{DATA_PATH}/greek/test_gr_labeled.tsv'\n",
    "df_test_gr = pd.read_csv(test_path, sep='\\t')\n",
    "\n",
    "test_path = f'{DATA_PATH}/polish/test_pol_labeled.tsv'\n",
    "df_test_pol = pd.read_csv(test_path, sep='\\t')\n",
    "\n",
    "test_path = f'{DATA_PATH}/romanian/test_ro_labeled.tsv'\n",
    "df_test_ro = pd.read_csv(test_path, sep='\\t')\n",
    "\n",
    "test_path = f'{DATA_PATH}/ukrainian/test_ukr_labeled.tsv'\n",
    "df_test_ukr = pd.read_csv(test_path, sep='\\t')"
   ]
  },
  {
   "cell_type": "code",
   "execution_count": 7,
   "id": "956e8470-1242-423a-9cb6-da57c6b80efb",
   "metadata": {
    "colab": {
     "base_uri": "https://localhost:8080/"
    },
    "id": "956e8470-1242-423a-9cb6-da57c6b80efb",
    "outputId": "e9cf818d-ae95-433d-acd3-c49114de5ffb"
   },
   "outputs": [
    {
     "name": "stderr",
     "output_type": "stream",
     "text": [
      "<ipython-input-7-42071ef08fce>:12: SettingWithCopyWarning: \n",
      "A value is trying to be set on a copy of a slice from a DataFrame.\n",
      "Try using .loc[row_indexer,col_indexer] = value instead\n",
      "\n",
      "See the caveats in the documentation: https://pandas.pydata.org/pandas-docs/stable/user_guide/indexing.html#returning-a-view-versus-a-copy\n",
      "  df_train_en['label'] = df_train_en['label'].map({'OBJ': 1, 'SUBJ': 0})\n",
      "<ipython-input-7-42071ef08fce>:13: SettingWithCopyWarning: \n",
      "A value is trying to be set on a copy of a slice from a DataFrame.\n",
      "Try using .loc[row_indexer,col_indexer] = value instead\n",
      "\n",
      "See the caveats in the documentation: https://pandas.pydata.org/pandas-docs/stable/user_guide/indexing.html#returning-a-view-versus-a-copy\n",
      "  df_dev_en['label'] = df_dev_en['label'].map({'OBJ': 1, 'SUBJ': 0})\n"
     ]
    }
   ],
   "source": [
    "# Keep only the required columns\n",
    "df_train_en = df_train_en[['sentence_id', 'sentence', 'label']]\n",
    "df_dev_en = df_dev_en[['sentence_id', 'sentence', 'label']]\n",
    "\n",
    "# Encode labels: OBJ -> 1, SUBJ -> 0\n",
    "df_train_ar['label'] = df_train_ar['label'].map({'OBJ': 1, 'SUBJ': 0})\n",
    "df_dev_ar['label'] = df_dev_ar['label'].map({'OBJ': 1, 'SUBJ': 0})\n",
    "\n",
    "df_train_bg['label'] = df_train_bg['label'].map({'OBJ': 1, 'SUBJ': 0})\n",
    "df_dev_bg['label'] = df_dev_bg['label'].map({'OBJ': 1, 'SUBJ': 0})\n",
    "\n",
    "df_train_en['label'] = df_train_en['label'].map({'OBJ': 1, 'SUBJ': 0})\n",
    "df_dev_en['label'] = df_dev_en['label'].map({'OBJ': 1, 'SUBJ': 0})\n",
    "df_test_en['label'] = df_test_en['label'].map({'OBJ': 1, 'SUBJ': 0})\n",
    "\n",
    "df_train_de['label'] = df_train_de['label'].map({'OBJ': 1, 'SUBJ': 0})\n",
    "df_dev_de['label'] = df_dev_de['label'].map({'OBJ': 1, 'SUBJ': 0})\n",
    "\n",
    "df_train_it['label'] = df_train_it['label'].map({'OBJ': 1, 'SUBJ': 0})\n",
    "df_dev_it['label'] = df_dev_it['label'].map({'OBJ': 1, 'SUBJ': 0})\n",
    "df_test_it['label'] = df_test_it['label'].map({'OBJ': 1, 'SUBJ': 0})\n",
    "\n",
    "df_test_multi['label'] = df_test_multi['label'].map({'OBJ': 1, 'SUBJ': 0})\n",
    "\n",
    "df_test_gr['label'] = df_test_gr['label'].map({'OBJ': 1, 'SUBJ': 0})\n",
    "\n",
    "df_test_pol['label'] = df_test_pol['label'].map({'OBJ': 1, 'SUBJ': 0})\n",
    "\n",
    "df_test_ro['label'] = df_test_ro['label'].map({'OBJ': 1, 'SUBJ': 0})\n",
    "\n",
    "df_test_ukr['label'] = df_test_ukr['label'].map({'OBJ': 1, 'SUBJ': 0})"
   ]
  },
  {
   "cell_type": "code",
   "execution_count": 8,
   "id": "48d593e4-7aa1-4264-ae2f-270116f8571a",
   "metadata": {
    "id": "48d593e4-7aa1-4264-ae2f-270116f8571a"
   },
   "outputs": [],
   "source": [
    "def print_shape(df1, df2, df3):\n",
    "    \"\"\"\n",
    "    Utility function to print the shape of the three dataframes\n",
    "    \"\"\"\n",
    "    if df1 is not None:\n",
    "        print(\"Train dataframe:    {} rows and {} columns\".format(df1.shape[0], df1.shape[1]))\n",
    "    if df2 is not None:\n",
    "        print(\"Dev dataframe:       {} rows and {} columns\".format(df2.shape[0], df2.shape[1]))\n",
    "    if df3 is not None:\n",
    "        print(\"Test dataframe:      {} rows and {} columns\".format(df3.shape[0], df3.shape[1]))\n",
    "    print(\"--------------------------------------------\")"
   ]
  },
  {
   "cell_type": "code",
   "execution_count": 9,
   "id": "5b86540b-c9c2-4e64-81ac-28b65a2b592b",
   "metadata": {
    "colab": {
     "base_uri": "https://localhost:8080/"
    },
    "id": "5b86540b-c9c2-4e64-81ac-28b65a2b592b",
    "outputId": "b3451732-fdda-4eee-c6a5-601ed51bb1f9"
   },
   "outputs": [
    {
     "name": "stdout",
     "output_type": "stream",
     "text": [
      "ARABIC\n",
      "Train dataframe:    2446 rows and 3 columns\n",
      "Dev dataframe:       467 rows and 3 columns\n",
      "--------------------------------------------\n",
      "BULGARIAN\n",
      "Train dataframe:    691 rows and 3 columns\n",
      "Dev dataframe:       306 rows and 3 columns\n",
      "--------------------------------------------\n",
      "ENGLISH\n",
      "Train dataframe:    830 rows and 3 columns\n",
      "Dev dataframe:       462 rows and 3 columns\n",
      "Test dataframe:      300 rows and 3 columns\n",
      "--------------------------------------------\n",
      "GERMAN\n",
      "Train dataframe:    800 rows and 3 columns\n",
      "Dev dataframe:       491 rows and 3 columns\n",
      "--------------------------------------------\n",
      "ITALIAN\n",
      "Train dataframe:    1613 rows and 3 columns\n",
      "Dev dataframe:       667 rows and 3 columns\n",
      "Test dataframe:      299 rows and 3 columns\n",
      "--------------------------------------------\n",
      "MULTILINGUAL\n",
      "Test dataframe:      1982 rows and 3 columns\n",
      "--------------------------------------------\n",
      "GREEK\n",
      "Test dataframe:      284 rows and 3 columns\n",
      "--------------------------------------------\n",
      "POLISH\n",
      "Test dataframe:      351 rows and 3 columns\n",
      "--------------------------------------------\n",
      "ROMANIAN\n",
      "Test dataframe:      206 rows and 3 columns\n",
      "--------------------------------------------\n",
      "UKRAINIAN\n",
      "Test dataframe:      297 rows and 3 columns\n",
      "--------------------------------------------\n"
     ]
    }
   ],
   "source": [
    "print(\"ARABIC\")\n",
    "print_shape(df_train_ar, df_dev_ar, None)\n",
    "print(\"BULGARIAN\")\n",
    "print_shape(df_train_bg, df_dev_bg, None)\n",
    "print(\"ENGLISH\")\n",
    "print_shape(df_train_en, df_dev_en, df_test_en)\n",
    "print(\"GERMAN\")\n",
    "print_shape(df_train_de, df_dev_de, None)\n",
    "print(\"ITALIAN\")\n",
    "print_shape(df_train_it, df_dev_it, df_test_it)\n",
    "print(\"MULTILINGUAL\")\n",
    "print_shape(None, None, df_test_multi)\n",
    "print(\"GREEK\")\n",
    "print_shape(None, None, df_test_gr)\n",
    "print(\"POLISH\")\n",
    "print_shape(None, None, df_test_pol)\n",
    "print(\"ROMANIAN\")\n",
    "print_shape(None, None, df_test_ro)\n",
    "print(\"UKRAINIAN\")\n",
    "print_shape(None, None, df_test_ukr)"
   ]
  },
  {
   "cell_type": "code",
   "execution_count": 10,
   "id": "8ebff4fe-418f-4c84-b600-4726fde0082e",
   "metadata": {
    "id": "8ebff4fe-418f-4c84-b600-4726fde0082e"
   },
   "outputs": [],
   "source": [
    "# Keep the original sentence for error analysis\n",
    "original_sentence_en = df_test_en[\"sentence\"]\n",
    "# Keep the original sentence for error analysis\n",
    "original_sentence_it = df_test_it[\"sentence\"]"
   ]
  },
  {
   "cell_type": "markdown",
   "id": "iUFKhQyuL-IQ",
   "metadata": {
    "id": "iUFKhQyuL-IQ"
   },
   "source": [
    "### Utils"
   ]
  },
  {
   "cell_type": "code",
   "execution_count": 11,
   "id": "d02eb092-62f5-4fd4-b741-ae9d112175f5",
   "metadata": {
    "id": "d02eb092-62f5-4fd4-b741-ae9d112175f5"
   },
   "outputs": [],
   "source": [
    "def plot_confusion_matrix(model, results):\n",
    "    cm = confusion_matrix(results[\"true_label\"], results[\"predicted_label\"], labels=[0, 1])\n",
    "    cmd = ConfusionMatrixDisplay(cm, display_labels=[\"Subjective\", \"Objective\"])\n",
    "    cmd.plot(cmap=\"Blues\")\n",
    "    plt.xlabel('Predicted Label', fontsize=18, labelpad=14)\n",
    "    plt.ylabel('True Label', fontsize=18, labelpad=14)\n",
    "    plt.xticks(fontsize=14)\n",
    "    plt.yticks(fontsize=14)\n",
    "#    plt.title(f\"{model}: Confusion Matrix\")\n",
    "#    plt.savefig(f\"outputs/cm_{model}.png\", bbox_inches='tight')\n",
    "    plt.show()\n",
    "\n",
    "    cm = confusion_matrix(results[\"true_label\"], results[\"predicted_label\"], labels=[0, 1], normalize='all')\n",
    "    cmd = ConfusionMatrixDisplay(cm, display_labels=[\"Subjective\", \"Objective\"])\n",
    "    cmd.plot(cmap=\"Blues\")\n",
    "    plt.xlabel('Predicted Label', fontsize=18, labelpad=14)\n",
    "    plt.ylabel('True Label', fontsize=18, labelpad=14)\n",
    "    plt.xticks(fontsize=14)\n",
    "    plt.yticks(fontsize=14)\n",
    "#    plt.title(f\"{model}: Normalized Confusion Matrix\")\n",
    "#    plt.savefig(f\"outputs/cm_{model}_norm.png\", bbox_inches='tight')\n",
    "    plt.show()\n",
    "\n",
    "def plot_precision_recall_curve(model, precision, recall, average_precision):\n",
    "    # Plot the Precision-Recall curve\n",
    "    plt.figure()\n",
    "    plt.step(recall, precision, color='b', alpha=0.2, where='post')\n",
    "    plt.fill_between(recall, precision, step='post', alpha=0.2, color='b')\n",
    "    plt.xlabel('Recall')\n",
    "    plt.ylabel('Precision')\n",
    "    plt.title(f'{model}: Precision-Recall Curve (AP = {average_precision:.2f})')\n",
    "    # plt.savefig(f\"outputs/pr_curve_{model}.png\")\n",
    "    plt.show()"
   ]
  },
  {
   "cell_type": "markdown",
   "id": "dd247422-f7b5-4c36-9902-1ffa63e0bae7",
   "metadata": {
    "id": "dd247422-f7b5-4c36-9902-1ffa63e0bae7"
   },
   "source": [
    "## Solution 1: Transformer"
   ]
  },
  {
   "cell_type": "markdown",
   "id": "e0eae923-21b7-433d-8c09-2e793f56d30c",
   "metadata": {
    "id": "e0eae923-21b7-433d-8c09-2e793f56d30c"
   },
   "source": [
    "### Utils"
   ]
  },
  {
   "cell_type": "code",
   "execution_count": 12,
   "id": "3baf96a5-d69c-49a5-8149-479312910895",
   "metadata": {
    "colab": {
     "base_uri": "https://localhost:8080/"
    },
    "id": "3baf96a5-d69c-49a5-8149-479312910895",
    "outputId": "7a5483ac-d2e1-437c-9b9e-618e704c51ae"
   },
   "outputs": [
    {
     "name": "stdout",
     "output_type": "stream",
     "text": [
      "Collecting evaluate\n",
      "  Downloading evaluate-0.4.3-py3-none-any.whl.metadata (9.2 kB)\n",
      "Requirement already satisfied: datasets>=2.0.0 in /usr/local/lib/python3.11/dist-packages (from evaluate) (2.14.4)\n",
      "Requirement already satisfied: numpy>=1.17 in /usr/local/lib/python3.11/dist-packages (from evaluate) (2.0.2)\n",
      "Requirement already satisfied: dill in /usr/local/lib/python3.11/dist-packages (from evaluate) (0.3.7)\n",
      "Requirement already satisfied: pandas in /usr/local/lib/python3.11/dist-packages (from evaluate) (2.2.2)\n",
      "Requirement already satisfied: requests>=2.19.0 in /usr/local/lib/python3.11/dist-packages (from evaluate) (2.32.3)\n",
      "Requirement already satisfied: tqdm>=4.62.1 in /usr/local/lib/python3.11/dist-packages (from evaluate) (4.67.1)\n",
      "Requirement already satisfied: xxhash in /usr/local/lib/python3.11/dist-packages (from evaluate) (3.5.0)\n",
      "Requirement already satisfied: multiprocess in /usr/local/lib/python3.11/dist-packages (from evaluate) (0.70.15)\n",
      "Requirement already satisfied: fsspec>=2021.05.0 in /usr/local/lib/python3.11/dist-packages (from fsspec[http]>=2021.05.0->evaluate) (2025.3.2)\n",
      "Requirement already satisfied: huggingface-hub>=0.7.0 in /usr/local/lib/python3.11/dist-packages (from evaluate) (0.31.4)\n",
      "Requirement already satisfied: packaging in /usr/local/lib/python3.11/dist-packages (from evaluate) (24.2)\n",
      "Requirement already satisfied: pyarrow>=8.0.0 in /usr/local/lib/python3.11/dist-packages (from datasets>=2.0.0->evaluate) (18.1.0)\n",
      "Requirement already satisfied: aiohttp in /usr/local/lib/python3.11/dist-packages (from datasets>=2.0.0->evaluate) (3.11.15)\n",
      "Requirement already satisfied: pyyaml>=5.1 in /usr/local/lib/python3.11/dist-packages (from datasets>=2.0.0->evaluate) (6.0.2)\n",
      "Requirement already satisfied: filelock in /usr/local/lib/python3.11/dist-packages (from huggingface-hub>=0.7.0->evaluate) (3.18.0)\n",
      "Requirement already satisfied: typing-extensions>=3.7.4.3 in /usr/local/lib/python3.11/dist-packages (from huggingface-hub>=0.7.0->evaluate) (4.13.2)\n",
      "Requirement already satisfied: charset-normalizer<4,>=2 in /usr/local/lib/python3.11/dist-packages (from requests>=2.19.0->evaluate) (3.4.2)\n",
      "Requirement already satisfied: idna<4,>=2.5 in /usr/local/lib/python3.11/dist-packages (from requests>=2.19.0->evaluate) (3.10)\n",
      "Requirement already satisfied: urllib3<3,>=1.21.1 in /usr/local/lib/python3.11/dist-packages (from requests>=2.19.0->evaluate) (2.4.0)\n",
      "Requirement already satisfied: certifi>=2017.4.17 in /usr/local/lib/python3.11/dist-packages (from requests>=2.19.0->evaluate) (2025.4.26)\n",
      "Requirement already satisfied: python-dateutil>=2.8.2 in /usr/local/lib/python3.11/dist-packages (from pandas->evaluate) (2.9.0.post0)\n",
      "Requirement already satisfied: pytz>=2020.1 in /usr/local/lib/python3.11/dist-packages (from pandas->evaluate) (2025.2)\n",
      "Requirement already satisfied: tzdata>=2022.7 in /usr/local/lib/python3.11/dist-packages (from pandas->evaluate) (2025.2)\n",
      "Requirement already satisfied: aiohappyeyeballs>=2.3.0 in /usr/local/lib/python3.11/dist-packages (from aiohttp->datasets>=2.0.0->evaluate) (2.6.1)\n",
      "Requirement already satisfied: aiosignal>=1.1.2 in /usr/local/lib/python3.11/dist-packages (from aiohttp->datasets>=2.0.0->evaluate) (1.3.2)\n",
      "Requirement already satisfied: attrs>=17.3.0 in /usr/local/lib/python3.11/dist-packages (from aiohttp->datasets>=2.0.0->evaluate) (25.3.0)\n",
      "Requirement already satisfied: frozenlist>=1.1.1 in /usr/local/lib/python3.11/dist-packages (from aiohttp->datasets>=2.0.0->evaluate) (1.6.0)\n",
      "Requirement already satisfied: multidict<7.0,>=4.5 in /usr/local/lib/python3.11/dist-packages (from aiohttp->datasets>=2.0.0->evaluate) (6.4.4)\n",
      "Requirement already satisfied: propcache>=0.2.0 in /usr/local/lib/python3.11/dist-packages (from aiohttp->datasets>=2.0.0->evaluate) (0.3.1)\n",
      "Requirement already satisfied: yarl<2.0,>=1.17.0 in /usr/local/lib/python3.11/dist-packages (from aiohttp->datasets>=2.0.0->evaluate) (1.20.0)\n",
      "Requirement already satisfied: six>=1.5 in /usr/local/lib/python3.11/dist-packages (from python-dateutil>=2.8.2->pandas->evaluate) (1.17.0)\n",
      "Downloading evaluate-0.4.3-py3-none-any.whl (84 kB)\n",
      "\u001b[2K   \u001b[90m━━━━━━━━━━━━━━━━━━━━━━━━━━━━━━━━━━━━━━━━\u001b[0m \u001b[32m84.0/84.0 kB\u001b[0m \u001b[31m4.5 MB/s\u001b[0m eta \u001b[36m0:00:00\u001b[0m\n",
      "\u001b[?25hInstalling collected packages: evaluate\n",
      "Successfully installed evaluate-0.4.3\n"
     ]
    }
   ],
   "source": [
    "# !pip install transformers\n",
    "# !pip install datasets\n",
    "# !pip install accelerate -U\n",
    "!pip install evaluate\n",
    "# !pip install bitsandbytes\n",
    "# !pip install tf-keras\n",
    "# !pip install sentencepiece\n",
    "# !pip install sentence_transformers"
   ]
  },
  {
   "cell_type": "code",
   "execution_count": 13,
   "id": "af16334d-c3f6-4e63-b4fd-14e54934ea68",
   "metadata": {
    "id": "af16334d-c3f6-4e63-b4fd-14e54934ea68"
   },
   "outputs": [],
   "source": [
    "import evaluate\n",
    "import matplotlib.pyplot as plt\n",
    "import numpy as np\n",
    "import os\n",
    "import seaborn as sns\n",
    "import shutil\n",
    "import torch\n",
    "\n",
    "from datasets import Dataset\n",
    "from transformers import (\n",
    "    AutoTokenizer,\n",
    "    AutoModelForSequenceClassification,\n",
    "    Trainer,\n",
    "    TrainingArguments,\n",
    "    DataCollatorWithPadding\n",
    ")\n",
    "from sklearn.metrics import classification_report\n",
    "from sklearn.metrics import confusion_matrix, ConfusionMatrixDisplay\n",
    "from sklearn.metrics import precision_recall_curve, average_precision_score, auc"
   ]
  },
  {
   "cell_type": "code",
   "execution_count": 14,
   "id": "6b6b1d5f-7aad-449e-b794-5a5843b4ba4c",
   "metadata": {
    "colab": {
     "base_uri": "https://localhost:8080/",
     "height": 173,
     "referenced_widgets": [
      "46375fe24bbe44d19dd0dee75408fa45",
      "b3b255f6a20a4db9a0ef4d207e7f3024",
      "5b04149283f947d58d486cc9a7709210",
      "7a4a76eea10548f9942b835a37dce308",
      "4302bb890aa24b9091d4cf6db59d2723",
      "ab0ea291a9d34f1f8320141cf396ea1c",
      "6161dd7ad87341f4b272e63d511a4924",
      "cf3ad7fc8865421f896bc8646de83958",
      "40eef59865ef40dab1652249a669a406",
      "d9a35ba3075840fb90c767c364b506e0",
      "3f0f6d6aad384fc999a0a2866bae0a95"
     ]
    },
    "id": "6b6b1d5f-7aad-449e-b794-5a5843b4ba4c",
    "outputId": "3da3c017-c426-4226-e45e-d3a6442663f6"
   },
   "outputs": [
    {
     "name": "stderr",
     "output_type": "stream",
     "text": [
      "/usr/local/lib/python3.11/dist-packages/huggingface_hub/utils/_auth.py:94: UserWarning: \n",
      "The secret `HF_TOKEN` does not exist in your Colab secrets.\n",
      "To authenticate with the Hugging Face Hub, create a token in your settings tab (https://huggingface.co/settings/tokens), set it as secret in your Google Colab and restart your session.\n",
      "You will be able to reuse this secret in all of your notebooks.\n",
      "Please note that authentication is recommended but still optional to access public models or datasets.\n",
      "  warnings.warn(\n"
     ]
    },
    {
     "data": {
      "application/vnd.jupyter.widget-view+json": {
       "model_id": "46375fe24bbe44d19dd0dee75408fa45",
       "version_major": 2,
       "version_minor": 0
      },
      "text/plain": [
       "Downloading builder script:   0%|          | 0.00/6.79k [00:00<?, ?B/s]"
      ]
     },
     "metadata": {},
     "output_type": "display_data"
    }
   ],
   "source": [
    "def preprocess_function(examples):\n",
    "    return tokenizer(examples[\"sentence\"], truncation=True, padding=True)\n",
    "\n",
    "# Metrics\n",
    "f1_metric = evaluate.load(\"f1\")\n",
    "def compute_metrics(eval_pred):\n",
    "    logits, labels = eval_pred\n",
    "    preds = np.argmax(logits, axis=-1)\n",
    "    result = f1_metric.compute(predictions=preds, references=labels, average=\"macro\")\n",
    "    return {\"f1_macro\": result[\"f1\"]}"
   ]
  },
  {
   "cell_type": "code",
   "execution_count": 15,
   "id": "bWDeOVb3_Yya",
   "metadata": {
    "colab": {
     "base_uri": "https://localhost:8080/"
    },
    "id": "bWDeOVb3_Yya",
    "outputId": "b7a5e770-e604-48a2-8bcf-ac9f22b58ab9"
   },
   "outputs": [
    {
     "name": "stdout",
     "output_type": "stream",
     "text": [
      "GPU is available: Tesla T4\n"
     ]
    }
   ],
   "source": [
    "import torch\n",
    "\n",
    "if torch.cuda.is_available():\n",
    "    print(f\"GPU is available: {torch.cuda.get_device_name(0)}\")\n",
    "else:\n",
    "    print(\"GPU not available.\")"
   ]
  },
  {
   "cell_type": "markdown",
   "id": "82806704-06b2-4141-8544-b080e8245e3c",
   "metadata": {
    "id": "82806704-06b2-4141-8544-b080e8245e3c"
   },
   "source": [
    "### Monolingual"
   ]
  },
  {
   "cell_type": "markdown",
   "id": "04e18a9d-1ccf-4dd8-9b7f-6d9cfadd2c19",
   "metadata": {
    "id": "04e18a9d-1ccf-4dd8-9b7f-6d9cfadd2c19"
   },
   "source": [
    "#### English"
   ]
  },
  {
   "cell_type": "code",
   "execution_count": 16,
   "id": "1cc0b29d-b4e8-43b5-94c3-7f39503c6c9a",
   "metadata": {
    "id": "1cc0b29d-b4e8-43b5-94c3-7f39503c6c9a"
   },
   "outputs": [],
   "source": [
    "dataset_train = Dataset.from_pandas(df_train_en)\n",
    "dataset_val = Dataset.from_pandas(df_dev_en)\n",
    "dataset_test = Dataset.from_pandas(df_test_en)"
   ]
  },
  {
   "cell_type": "code",
   "execution_count": 17,
   "id": "198a117a-6127-458a-b509-33c82aef076d",
   "metadata": {
    "colab": {
     "base_uri": "https://localhost:8080/",
     "height": 226,
     "referenced_widgets": [
      "5e2b8f255bcf457687c35aae3f4b006d",
      "7fb99c8c8d614dac944fb460d5b284d8",
      "d161e3806fcd4cff9d252ffb19f45768",
      "886ba1f74cbf4d7fafae0e797d38ae64",
      "f328ad478b8a466cbf86f3159378e907",
      "b099b5ee26cd46e38936ea698204da7e",
      "0a7396cd42464e5792c8e503215b5873",
      "14c335745cf94f8fb364fc90b1486916",
      "ab47b4855f2e486bad94b4de469dd6ce",
      "ab35c4c2d31940919e5db12ea5970e38",
      "aabaedc5e0af4a658a38625e343d70df",
      "df696730211a4a49b779db70efdf5265",
      "091fcc51af3a478e8cab7afb51f3ddb3",
      "67d171f6c85d4df0a99bb090404eaab3",
      "0aab315928d94dcfba49cc123da53222",
      "647e1e26dbb344c28fb74a85c2c9eb42",
      "a2f1c8b42932437ab79774413d0cd06c",
      "d523054854e94f64adc39e4250e8c9de",
      "8c9a0f8c509445d5b3e0ae439f7d770b",
      "4c6484199d3a45cab1a2dace9dccc774",
      "c725c5f7e7fa4a4bb5954cc933aa1819",
      "6eadf165619e4d349b5322fad07b86a5",
      "7c1cb21c27904135afcc165829c57b56",
      "305bb4ce12ef4533939267964b66394b",
      "1687fb61f1d14f0eb99f451c51fc1f37",
      "f4a95ed5d629468a91fc389c044716b1",
      "419c2859d6c24114b70978fd83b59237",
      "91a0e290e626423ba418aaf73986551e",
      "05b100303c2842f39b5fece1368daed8",
      "5702aba2c59c4d5b94dc121b9c4cc323",
      "b9f54dd2d27743e98bba36c8d36c2e10",
      "ef48546c77a14262892e582b30d409f7",
      "8dede352512b4506b184692d648317ec",
      "1b858cce2099410190d99d75470d57d2",
      "5e3108583e63472cae4161354af30971",
      "1f3dd8e5eed04b8a8c55b1fa1978160c",
      "4970604c9f6c46be89fe199de11130e3",
      "6cd4db2a79214f038f31b6484210f23c",
      "44809fd3c25a4d838c8cd98286540b04",
      "4a4535fdccff4cf7b50d2ec89d57d147",
      "fecf531a2c9f485daee848e263bc4c0a",
      "2bdf3c77c472459291ce2ee3fa25a2b7",
      "274197ff7e644d2a8d858aa699eb409e",
      "8e3a6baf2bbd47789e942e9f6e0c3eb9",
      "8ebb334a624d4661b463aceff86afc68",
      "4040cee381ec4d36a7e1824035fa5451",
      "422c5957bb6a472d838dfe65419ea7cd",
      "6cafa5dada1a42ceae2401db79acdf69",
      "934b25f854bc43ba826dadddbc2bfc15",
      "21e0e9580423481f9ce1034051c86961",
      "02ef8cccf8fd40c8a6d3eb3ac1a36d4a",
      "c6043a7bf04645149976064090b68f4b",
      "5ad1394e2cd145adab21e3acdfa9b1a2",
      "fb3d1b5db0b042e893c9e8d10719d7af",
      "e0eca42ef9fa42429fd9d377372cbf92",
      "c1cde9f2e58d4fd4b8b2ef21915ced5b",
      "86950963b5954b8eb7aa30a00cdb1683",
      "32f40acd8b134b479a9a3a05dc80680d",
      "9a03cbea5e224de1b97fff58ad451752",
      "7aae0aa993254946b5db49db49ceb0e2",
      "5d43b64b91604a409bd8a0d19dd5103c",
      "b5ccc8fb253e40b28541ff4457029380",
      "38c3daa2c084412b931331a3904d8c0b",
      "f165b96a1b8b410b9c7804ffe54d427d",
      "d991d91c2a284f53adacc4a75ef75dd3",
      "1169098d053f461a8fd73db487aadf54"
     ]
    },
    "id": "198a117a-6127-458a-b509-33c82aef076d",
    "outputId": "915562cc-7524-4758-f659-6a8a6a64db4d"
   },
   "outputs": [
    {
     "data": {
      "application/vnd.jupyter.widget-view+json": {
       "model_id": "5e2b8f255bcf457687c35aae3f4b006d",
       "version_major": 2,
       "version_minor": 0
      },
      "text/plain": [
       "config.json:   0%|          | 0.00/512 [00:00<?, ?B/s]"
      ]
     },
     "metadata": {},
     "output_type": "display_data"
    },
    {
     "data": {
      "application/vnd.jupyter.widget-view+json": {
       "model_id": "df696730211a4a49b779db70efdf5265",
       "version_major": 2,
       "version_minor": 0
      },
      "text/plain": [
       "sentencepiece.bpe.model:   0%|          | 0.00/5.07M [00:00<?, ?B/s]"
      ]
     },
     "metadata": {},
     "output_type": "display_data"
    },
    {
     "data": {
      "application/vnd.jupyter.widget-view+json": {
       "model_id": "7c1cb21c27904135afcc165829c57b56",
       "version_major": 2,
       "version_minor": 0
      },
      "text/plain": [
       "tokenizer.json:   0%|          | 0.00/9.10M [00:00<?, ?B/s]"
      ]
     },
     "metadata": {},
     "output_type": "display_data"
    },
    {
     "data": {
      "application/vnd.jupyter.widget-view+json": {
       "model_id": "1b858cce2099410190d99d75470d57d2",
       "version_major": 2,
       "version_minor": 0
      },
      "text/plain": [
       "Map:   0%|          | 0/830 [00:00<?, ? examples/s]"
      ]
     },
     "metadata": {},
     "output_type": "display_data"
    },
    {
     "name": "stderr",
     "output_type": "stream",
     "text": [
      "Asking to truncate to max_length but no maximum length is provided and the model has no predefined maximum length. Default to no truncation.\n"
     ]
    },
    {
     "data": {
      "application/vnd.jupyter.widget-view+json": {
       "model_id": "8ebb334a624d4661b463aceff86afc68",
       "version_major": 2,
       "version_minor": 0
      },
      "text/plain": [
       "Map:   0%|          | 0/462 [00:00<?, ? examples/s]"
      ]
     },
     "metadata": {},
     "output_type": "display_data"
    },
    {
     "data": {
      "application/vnd.jupyter.widget-view+json": {
       "model_id": "c1cde9f2e58d4fd4b8b2ef21915ced5b",
       "version_major": 2,
       "version_minor": 0
      },
      "text/plain": [
       "Map:   0%|          | 0/300 [00:00<?, ? examples/s]"
      ]
     },
     "metadata": {},
     "output_type": "display_data"
    }
   ],
   "source": [
    "# Load tokenizer\n",
    "tokenizer = AutoTokenizer.from_pretrained(\"microsoft/infoxlm-base\")\n",
    "\n",
    "tokenized_train = dataset_train.map(preprocess_function, batched=True)\n",
    "tokenized_val = dataset_val.map(preprocess_function, batched=True)\n",
    "tokenized_test = dataset_test.map(preprocess_function, batched=True)"
   ]
  },
  {
   "cell_type": "code",
   "execution_count": 18,
   "id": "d39472c2-a8f2-4493-b815-f360616fa2d5",
   "metadata": {
    "colab": {
     "base_uri": "https://localhost:8080/",
     "height": 136,
     "referenced_widgets": [
      "ecf1aa9189c34ce7968b5dcb860d2075",
      "5e3627c3d1fd43878b5393e74bf16c2d",
      "bcaf6e6e702d4f218152b19f781c8727",
      "a73b0bbe89e44829bbf5de0ea1d19b98",
      "baced56eac214b58afe5153752a434c0",
      "75e18faf01c24f118a01dcceb9a156bd",
      "66d3d75500b34d8ba6506b0f6adc2165",
      "5746057dcfec44eea15bb459dd99e666",
      "7bc94aea297a4dbdbd7e2d5571216e15",
      "36e4ab82c56a48edb7604c6649593472",
      "38ebf99b11294d1886c5860fa944804c",
      "a7ef859299fe4704a2ce566fb5c21649",
      "62aa5320eea84bcf89f4735583e9a5f9",
      "cb9c8467659f4910bd6039e93edb96aa",
      "fbf254dcf852414182422ff44820e2ab",
      "c54dc1e03d254637bf46effc1a848626",
      "36f7418dd32344a2a4ff49f46c2c3174",
      "d7813459ddd147e2851e0acb2de49c8b",
      "be7a8d98fd7e42319d6b9dcf5d980ef1",
      "dd1e40b7d0f64f2484baa20686451a20",
      "547e41c39e8146d48615224a0a9881f8",
      "3cfc2887f64f40fb9a684389664601cb"
     ]
    },
    "id": "d39472c2-a8f2-4493-b815-f360616fa2d5",
    "outputId": "91b05b14-b1b7-407b-bbd5-c1311433a391"
   },
   "outputs": [
    {
     "data": {
      "application/vnd.jupyter.widget-view+json": {
       "model_id": "ecf1aa9189c34ce7968b5dcb860d2075",
       "version_major": 2,
       "version_minor": 0
      },
      "text/plain": [
       "pytorch_model.bin:   0%|          | 0.00/942M [00:00<?, ?B/s]"
      ]
     },
     "metadata": {},
     "output_type": "display_data"
    },
    {
     "data": {
      "application/vnd.jupyter.widget-view+json": {
       "model_id": "a7ef859299fe4704a2ce566fb5c21649",
       "version_major": 2,
       "version_minor": 0
      },
      "text/plain": [
       "model.safetensors:   0%|          | 0.00/942M [00:00<?, ?B/s]"
      ]
     },
     "metadata": {},
     "output_type": "display_data"
    },
    {
     "name": "stderr",
     "output_type": "stream",
     "text": [
      "Some weights of XLMRobertaForSequenceClassification were not initialized from the model checkpoint at microsoft/infoxlm-base and are newly initialized: ['classifier.dense.bias', 'classifier.dense.weight', 'classifier.out_proj.bias', 'classifier.out_proj.weight']\n",
      "You should probably TRAIN this model on a down-stream task to be able to use it for predictions and inference.\n"
     ]
    }
   ],
   "source": [
    "# Load model\n",
    "model = AutoModelForSequenceClassification.from_pretrained(\"microsoft/infoxlm-base\", num_labels=2)"
   ]
  },
  {
   "cell_type": "code",
   "execution_count": 19,
   "id": "031455a1-033b-453d-845a-d92540302d4e",
   "metadata": {
    "id": "031455a1-033b-453d-845a-d92540302d4e"
   },
   "outputs": [],
   "source": [
    "# Training Arguments\n",
    "training_args = TrainingArguments(\n",
    "    output_dir=\"results\",\n",
    "    eval_strategy=\"epoch\",\n",
    "    save_strategy=\"epoch\",\n",
    "    logging_dir=\"logs\",\n",
    "    learning_rate=2e-5,\n",
    "    per_device_train_batch_size=16,\n",
    "    per_device_eval_batch_size=16,\n",
    "    num_train_epochs=3,\n",
    "    weight_decay=0.01,\n",
    "    load_best_model_at_end=True,\n",
    "    metric_for_best_model=\"f1_macro\",\n",
    "    report_to=\"none\",\n",
    ")"
   ]
  },
  {
   "cell_type": "code",
   "execution_count": 20,
   "id": "eaa3fe75-0432-41d1-b6bc-1ef2c86177c7",
   "metadata": {
    "id": "eaa3fe75-0432-41d1-b6bc-1ef2c86177c7"
   },
   "outputs": [],
   "source": [
    "# Data collator for dynamic padding\n",
    "data_collator = DataCollatorWithPadding(tokenizer=tokenizer)"
   ]
  },
  {
   "cell_type": "code",
   "execution_count": 21,
   "id": "b3b782d2-094c-49af-995e-cf2255db07a5",
   "metadata": {
    "id": "b3b782d2-094c-49af-995e-cf2255db07a5"
   },
   "outputs": [],
   "source": [
    "# Trainer\n",
    "trainer = Trainer(\n",
    "    model=model,\n",
    "    args=training_args,\n",
    "    train_dataset=tokenized_train,\n",
    "    eval_dataset=tokenized_val,\n",
    "    processing_class=tokenizer,\n",
    "    data_collator=data_collator,\n",
    "    compute_metrics=compute_metrics\n",
    ")"
   ]
  },
  {
   "cell_type": "code",
   "execution_count": 22,
   "id": "1f1fc150-5ddd-4ef9-b2b7-16edf971d0c6",
   "metadata": {
    "id": "1f1fc150-5ddd-4ef9-b2b7-16edf971d0c6"
   },
   "outputs": [],
   "source": [
    "log_dir = \"logs\"\n",
    "\n",
    "if os.path.exists(log_dir):\n",
    "    shutil.rmtree(log_dir)  # Remove old logs entirely"
   ]
  },
  {
   "cell_type": "code",
   "execution_count": null,
   "id": "031f31f7-3cf3-4535-adce-eff71c871a8f",
   "metadata": {
    "colab": {
     "base_uri": "https://localhost:8080/",
     "height": 204
    },
    "id": "031f31f7-3cf3-4535-adce-eff71c871a8f",
    "outputId": "57b099f6-3113-4781-e03f-ef92048d2d1a"
   },
   "outputs": [
    {
     "data": {
      "text/html": [
       "\n",
       "    <div>\n",
       "      \n",
       "      <progress value='156' max='156' style='width:300px; height:20px; vertical-align: middle;'></progress>\n",
       "      [156/156 1:34:33, Epoch 3/3]\n",
       "    </div>\n",
       "    <table border=\"1\" class=\"dataframe\">\n",
       "  <thead>\n",
       " <tr style=\"text-align: left;\">\n",
       "      <th>Epoch</th>\n",
       "      <th>Training Loss</th>\n",
       "      <th>Validation Loss</th>\n",
       "      <th>F1 Macro</th>\n",
       "    </tr>\n",
       "  </thead>\n",
       "  <tbody>\n",
       "    <tr>\n",
       "      <td>1</td>\n",
       "      <td>No log</td>\n",
       "      <td>0.709340</td>\n",
       "      <td>0.324561</td>\n",
       "    </tr>\n",
       "    <tr>\n",
       "      <td>2</td>\n",
       "      <td>No log</td>\n",
       "      <td>0.780278</td>\n",
       "      <td>0.324561</td>\n",
       "    </tr>\n",
       "    <tr>\n",
       "      <td>3</td>\n",
       "      <td>No log</td>\n",
       "      <td>0.701764</td>\n",
       "      <td>0.324561</td>\n",
       "    </tr>\n",
       "  </tbody>\n",
       "</table><p>"
      ],
      "text/plain": [
       "<IPython.core.display.HTML object>"
      ]
     },
     "metadata": {},
     "output_type": "display_data"
    },
    {
     "data": {
      "text/plain": [
       "TrainOutput(global_step=156, training_loss=0.6464801690517328, metrics={'train_runtime': 5710.0012, 'train_samples_per_second': 0.436, 'train_steps_per_second': 0.027, 'total_flos': 202174123827600.0, 'train_loss': 0.6464801690517328, 'epoch': 3.0})"
      ]
     },
     "execution_count": 26,
     "metadata": {},
     "output_type": "execute_result"
    }
   ],
   "source": [
    "# Training\n",
    "trainer.train()"
   ]
  },
  {
   "cell_type": "code",
   "execution_count": null,
   "id": "07951cb5-5dc8-4715-9abf-d3604252dbea",
   "metadata": {
    "colab": {
     "base_uri": "https://localhost:8080/",
     "height": 74
    },
    "id": "07951cb5-5dc8-4715-9abf-d3604252dbea",
    "outputId": "30f8ce29-3731-4a72-ba20-b6cd073500b1"
   },
   "outputs": [
    {
     "data": {
      "text/html": [
       "\n",
       "    <div>\n",
       "      \n",
       "      <progress value='29' max='29' style='width:300px; height:20px; vertical-align: middle;'></progress>\n",
       "      [29/29 02:18]\n",
       "    </div>\n",
       "    "
      ],
      "text/plain": [
       "<IPython.core.display.HTML object>"
      ]
     },
     "metadata": {},
     "output_type": "display_data"
    },
    {
     "name": "stdout",
     "output_type": "stream",
     "text": [
      "Validation Metrics: {'eval_loss': 0.7093403339385986, 'eval_f1_macro': 0.32456140350877194, 'eval_runtime': 143.8223, 'eval_samples_per_second': 3.212, 'eval_steps_per_second': 0.202, 'epoch': 3.0}\n"
     ]
    }
   ],
   "source": [
    "# Evaluation\n",
    "val_metrics = trainer.evaluate()\n",
    "print(\"Validation Metrics:\", val_metrics)"
   ]
  },
  {
   "cell_type": "code",
   "execution_count": null,
   "id": "5cc54841-73c9-48c2-bc45-cf4e7de861ba",
   "metadata": {
    "id": "5cc54841-73c9-48c2-bc45-cf4e7de861ba"
   },
   "outputs": [],
   "source": [
    "# Save model\n",
    "trainer.save_model(\"infoxml-subjectivity-en\")"
   ]
  },
  {
   "cell_type": "code",
   "execution_count": null,
   "id": "1c94d49a-90dd-41d3-bf05-bd28bfc93559",
   "metadata": {
    "colab": {
     "base_uri": "https://localhost:8080/",
     "height": 17
    },
    "id": "1c94d49a-90dd-41d3-bf05-bd28bfc93559",
    "outputId": "ec986e2e-cd11-4402-f848-d575e4ab5e09"
   },
   "outputs": [
    {
     "data": {
      "text/html": [],
      "text/plain": [
       "<IPython.core.display.HTML object>"
      ]
     },
     "metadata": {},
     "output_type": "display_data"
    }
   ],
   "source": [
    "# Test Evaluation\n",
    "predictions = trainer.predict(tokenized_test)\n",
    "pred_labels = np.argmax(predictions.predictions, axis=1)\n",
    "\n",
    "submission = pd.DataFrame({\n",
    "    \"sentence_id\": df_test_en[\"sentence_id\"],\n",
    "    \"label\": [\"OBJ\" if l == 1 else \"SUBJ\" for l in pred_labels]\n",
    "})\n",
    "submission.to_csv(\"mono_en_test_predictions.tsv\", sep=\"\\t\", index=False)"
   ]
  },
  {
   "cell_type": "code",
   "execution_count": null,
   "id": "91ac66f9-9d06-41d1-8507-ae106ef0d802",
   "metadata": {
    "colab": {
     "base_uri": "https://localhost:8080/"
    },
    "id": "91ac66f9-9d06-41d1-8507-ae106ef0d802",
    "outputId": "92e56e58-7671-4f7d-a813-5c7e842eef11"
   },
   "outputs": [
    {
     "name": "stdout",
     "output_type": "stream",
     "text": [
      "INFO : The file is properly formatted\n",
      "INFO : Started evaluating results for Task 1...\n",
      "INFO : \n",
      "            macro-F1: 0.4175\n",
      "            macro-P: 0.3583\n",
      "            macro-R: 0.5000\n",
      "            \n",
      "            SUBJ-F1: 0.0000\n",
      "            SUBJ-P: 0.0000\n",
      "            SUBJ-R: 0.0000\n",
      "            \n",
      "            accuracy: 0.7167\n",
      "        \n"
     ]
    }
   ],
   "source": [
    "# Run scorer\n",
    "# !python scorer/evaluate.py -g data/english/test_en_labeled.tsv -p mono_en_test_predictions.tsv\n",
    "!python clef2025-checkthat-lab/task1/scorer/evaluate.py \\\n",
    "    -g clef2025-checkthat-lab/task1/data/english/test_en_labeled.tsv \\\n",
    "    -p mono_en_test_predictions.tsv"
   ]
  },
  {
   "cell_type": "markdown",
   "id": "C6xHVTH-IM2d",
   "metadata": {
    "id": "C6xHVTH-IM2d"
   },
   "source": [
    "#### Error Analysis"
   ]
  },
  {
   "cell_type": "code",
   "execution_count": null,
   "id": "l3_9WKOcJDCy",
   "metadata": {
    "id": "l3_9WKOcJDCy"
   },
   "outputs": [],
   "source": [
    "test_predictions, test_labels = predictions.predictions, predictions.label_ids"
   ]
  },
  {
   "cell_type": "code",
   "execution_count": null,
   "id": "6jxqPhA9G6cD",
   "metadata": {
    "id": "6jxqPhA9G6cD"
   },
   "outputs": [],
   "source": [
    "# Convert predictions and labels to pandas DataFrame (Transformer)\n",
    "test_results = pd.DataFrame({\n",
    "    \"sentence\": df_test_en[\"sentence\"],\n",
    "    \"true_label\": test_labels,\n",
    "    \"predicted_label\": pred_labels\n",
    "})\n",
    "\n",
    "# Add a column to classify error types\n",
    "test_results[\"error_type\"] = np.where(\n",
    "    test_results[\"true_label\"] == test_results[\"predicted_label\"],\n",
    "    \"Correct\",\n",
    "    np.where(\n",
    "        (test_results[\"true_label\"] == 1) & (test_results[\"predicted_label\"] == 0),\n",
    "        \"False Negative\",\n",
    "        \"False Positive\"\n",
    "    )\n",
    ")"
   ]
  },
  {
   "cell_type": "code",
   "execution_count": null,
   "id": "N3WgtgD3G_EC",
   "metadata": {
    "colab": {
     "base_uri": "https://localhost:8080/"
    },
    "id": "N3WgtgD3G_EC",
    "outputId": "125c5ebc-8e62-4220-eabb-5df7050b6dee"
   },
   "outputs": [
    {
     "name": "stdout",
     "output_type": "stream",
     "text": [
      "Number of False Positives (infoxml): 85\n",
      "\n",
      "EXAMPLES:\n",
      "\n",
      "\tThat sounds worryingly similar to the vainglorious delivery timetable once claimed during the sorry saga called HS2.\n",
      "\n",
      "\tIf Timbaland releases a number one hit soon, we can get the full 2006 experience again.\n",
      "\n",
      "\tShe is treating opposition as a compliment to her steely determination to implement her new doctrine of growth-at-any-cost.\n",
      "\n",
      "\tHostile fire was instant, will be continuous for years ahead and comes from several camps with which Labour has wanted to be friendly.\n",
      "\n",
      "\tsince the US failed to confront it head-on during the Bay of Pigs invasion, it has instead kept Cuba in stasis, trapped in that moment before the celebrations can truly begin.\n",
      "\n",
      "\tA serious rebuilding programme would scare those who have the Chancellor’s ear.\n",
      "\n",
      "\tI suspect that the Net Zero Secretary thinks that resignation would be a pointless gesture of opposition to something that may well not happen and certainly not anytime soon.\n",
      "\n",
      "\tBoth are young, charismatic, intelligent women seen as modernisers within their respective parties.\n",
      "\n",
      "\tFor the incandescent environmentalists, Heathrow is a litmus test of whether or not the government is authentically committed to addressing the climate crisis.\n",
      "\n",
      "\tThe release this week of the new Chinese artificial intelligence (AI) tool, DeepSeek-R1, is one such moment.\n",
      "\n"
     ]
    }
   ],
   "source": [
    "false_positives = test_results[test_results[\"error_type\"] == \"False Positive\"]\n",
    "print(f\"Number of False Positives (infoxml): {false_positives.shape[0]}\")\n",
    "print(\"\\nEXAMPLES:\\n\")\n",
    "for ex in false_positives.head(10).sentence:\n",
    "    print(f\"\\t{ex}\\n\")"
   ]
  },
  {
   "cell_type": "code",
   "execution_count": null,
   "id": "z_4PZ3wYHBHr",
   "metadata": {
    "colab": {
     "base_uri": "https://localhost:8080/"
    },
    "id": "z_4PZ3wYHBHr",
    "outputId": "34c3088b-92a6-49fb-b553-6c3349f1adac"
   },
   "outputs": [
    {
     "name": "stdout",
     "output_type": "stream",
     "text": [
      "Number of False Negatives (infoxml): 0\n",
      "\n",
      "EXAMPLES:\n",
      "\n"
     ]
    }
   ],
   "source": [
    "false_negatives = test_results[test_results[\"error_type\"] == \"False Negative\"]\n",
    "print(f\"Number of False Negatives (infoxml): {false_negatives.shape[0]}\")\n",
    "print(\"\\nEXAMPLES:\\n\")\n",
    "for ex in false_negatives.head(10).sentence:\n",
    "    print(f\"\\t{ex}\\n\")"
   ]
  },
  {
   "cell_type": "code",
   "execution_count": null,
   "id": "0T8cyTh7HX6m",
   "metadata": {
    "colab": {
     "base_uri": "https://localhost:8080/",
     "height": 939
    },
    "id": "0T8cyTh7HX6m",
    "outputId": "5d503fda-8149-4e4d-dfb5-9bb636dda98d"
   },
   "outputs": [
    {
     "data": {
      "image/png": "[encoded data removed]",
      "text/plain": [
       "<Figure size 640x480 with 2 Axes>"
      ]
     },
     "metadata": {},
     "output_type": "display_data"
    },
    {
     "data": {
      "image/png": "[encoded data removed]",
      "text/plain": [
       "<Figure size 640x480 with 2 Axes>"
      ]
     },
     "metadata": {},
     "output_type": "display_data"
    }
   ],
   "source": [
    "plot_confusion_matrix(\"infoxml\", test_results)"
   ]
  },
  {
   "cell_type": "code",
   "execution_count": null,
   "id": "4uGux18rHlIa",
   "metadata": {
    "colab": {
     "base_uri": "https://localhost:8080/",
     "height": 472
    },
    "id": "4uGux18rHlIa",
    "outputId": "4df4582b-fd70-4d86-8a7c-19088212e3fa"
   },
   "outputs": [
    {
     "data": {
      "image/png": "[encoded data removed]",
      "text/plain": [
       "<Figure size 640x480 with 1 Axes>"
      ]
     },
     "metadata": {},
     "output_type": "display_data"
    }
   ],
   "source": [
    "precision, recall, thresholds = precision_recall_curve(test_labels, test_predictions[:, 1])\n",
    "average_precision = average_precision_score(test_labels, test_predictions[:, 1])\n",
    "\n",
    "# Plot the Precision-Recall curve\n",
    "plot_precision_recall_curve(\"infoxml\", precision, recall, average_precision)"
   ]
  },
  {
   "cell_type": "markdown",
   "id": "c9355524-9627-4924-9da0-fd20277af3c7",
   "metadata": {
    "id": "c9355524-9627-4924-9da0-fd20277af3c7"
   },
   "source": [
    "#### Italian"
   ]
  },
  {
   "cell_type": "code",
   "execution_count": null,
   "id": "e3b55102-5f77-4b82-a5df-4dfc402d3b60",
   "metadata": {
    "id": "e3b55102-5f77-4b82-a5df-4dfc402d3b60"
   },
   "outputs": [],
   "source": [
    "dataset_train = Dataset.from_pandas(df_train_it)\n",
    "dataset_val = Dataset.from_pandas(df_dev_it)\n",
    "dataset_test = Dataset.from_pandas(df_test_it)"
   ]
  },
  {
   "cell_type": "code",
   "execution_count": null,
   "id": "46f3f382-2aeb-4739-8ba8-70095d9ef8b8",
   "metadata": {
    "colab": {
     "base_uri": "https://localhost:8080/",
     "height": 113,
     "referenced_widgets": [
      "0a405cb1fb1e43beb042c9a778889e22",
      "da86b37393de4c7e92e4245069c8d2d9",
      "7205c1ce06804e648feafb3c5822c0fb",
      "50c0ae0d03fa44b6b8ae7c51bcf2a970",
      "e2b4d443cb884204ba4377b53c7161e0",
      "2c85860013514be2809b48f1a650e98c",
      "7bfbfd655237407d9512182483e63da2",
      "d0dc1f95f58747f59603fd180f81a9ee",
      "6fdf6d4984a84c6ea5b48b498b19a805",
      "3ab9676d6d2a43489465205a0def140a",
      "22ec2f2846f6400884c897e5467b29a7",
      "187abf4c7e0342f5b61fbe985a3bf881",
      "a570ad57258c446289d3793b94038661",
      "56edd9cff6184f52a687fb6f4334faf3",
      "5636ce4fabc949829aecff3edaec5642",
      "d656337f85f246de94f190224c4e6587",
      "e61666a0d42b448185b51acc7c7f4df6",
      "647a9b3e2fe44afdaa10ae6a2479e551",
      "f07342397c094221bfd18dd34dfa04fe",
      "2da7a73ae4bf4df7af31083fbbf5c7f2",
      "c7ef8f9e381d448ebb5a12880b6b52a4",
      "76d183ae2f1b4313bafc57e14cb9ba95",
      "4ba10baef386445d968a8dbc823e8470",
      "faa287580cc24acdb64d6c8fa1b03042",
      "13453f14cddf435fbf14144071fb2327",
      "29fa76d000bb4d8c9897850ab95e7cc6",
      "43cf1b630577404cbed58c6c34c62366",
      "b08fa6941b314568bbfc47cb3b3509f2",
      "39dc6c2bdfd04b7c99e9af2f83c55f48",
      "cbd280482cd34a86bfe74e7040e3f592",
      "dc53db7dfae749fc89986a57484b23f4",
      "77534dd7709c494c8c682b11c74c0341",
      "179c4fadfffe4022a2d8713ad4369267"
     ]
    },
    "id": "46f3f382-2aeb-4739-8ba8-70095d9ef8b8",
    "outputId": "0f2b08f1-8269-4f23-97d4-6674372ec715"
   },
   "outputs": [
    {
     "data": {
      "application/vnd.jupyter.widget-view+json": {
       "model_id": "0a405cb1fb1e43beb042c9a778889e22",
       "version_major": 2,
       "version_minor": 0
      },
      "text/plain": [
       "Map:   0%|          | 0/1613 [00:00<?, ? examples/s]"
      ]
     },
     "metadata": {},
     "output_type": "display_data"
    },
    {
     "data": {
      "application/vnd.jupyter.widget-view+json": {
       "model_id": "187abf4c7e0342f5b61fbe985a3bf881",
       "version_major": 2,
       "version_minor": 0
      },
      "text/plain": [
       "Map:   0%|          | 0/667 [00:00<?, ? examples/s]"
      ]
     },
     "metadata": {},
     "output_type": "display_data"
    },
    {
     "data": {
      "application/vnd.jupyter.widget-view+json": {
       "model_id": "4ba10baef386445d968a8dbc823e8470",
       "version_major": 2,
       "version_minor": 0
      },
      "text/plain": [
       "Map:   0%|          | 0/299 [00:00<?, ? examples/s]"
      ]
     },
     "metadata": {},
     "output_type": "display_data"
    }
   ],
   "source": [
    "# Tokenization\n",
    "tokenized_train = dataset_train.map(preprocess_function, batched=True)\n",
    "tokenized_val = dataset_val.map(preprocess_function, batched=True)\n",
    "tokenized_test = dataset_test.map(preprocess_function, batched=True)"
   ]
  },
  {
   "cell_type": "code",
   "execution_count": null,
   "id": "14feb79e-c38d-4d7e-98dc-eb432de87699",
   "metadata": {
    "id": "14feb79e-c38d-4d7e-98dc-eb432de87699"
   },
   "outputs": [],
   "source": [
    "# Trainer\n",
    "trainer = Trainer(\n",
    "    model=model,\n",
    "    args=training_args,\n",
    "    train_dataset=tokenized_train,\n",
    "    eval_dataset=tokenized_val,\n",
    "    processing_class=tokenizer,\n",
    "    data_collator=data_collator,\n",
    "    compute_metrics=compute_metrics\n",
    ")"
   ]
  },
  {
   "cell_type": "code",
   "execution_count": null,
   "id": "d0c100c6-c7b7-4e21-aa85-ca925daba7f6",
   "metadata": {
    "colab": {
     "base_uri": "https://localhost:8080/",
     "height": 204
    },
    "id": "d0c100c6-c7b7-4e21-aa85-ca925daba7f6",
    "outputId": "663b751c-5037-4804-a2a9-92c2fec99278"
   },
   "outputs": [
    {
     "data": {
      "text/html": [
       "\n",
       "    <div>\n",
       "      \n",
       "      <progress value='303' max='303' style='width:300px; height:20px; vertical-align: middle;'></progress>\n",
       "      [303/303 2:47:47, Epoch 3/3]\n",
       "    </div>\n",
       "    <table border=\"1\" class=\"dataframe\">\n",
       "  <thead>\n",
       " <tr style=\"text-align: left;\">\n",
       "      <th>Epoch</th>\n",
       "      <th>Training Loss</th>\n",
       "      <th>Validation Loss</th>\n",
       "      <th>F1 Macro</th>\n",
       "    </tr>\n",
       "  </thead>\n",
       "  <tbody>\n",
       "    <tr>\n",
       "      <td>1</td>\n",
       "      <td>No log</td>\n",
       "      <td>0.508260</td>\n",
       "      <td>0.423509</td>\n",
       "    </tr>\n",
       "    <tr>\n",
       "      <td>2</td>\n",
       "      <td>No log</td>\n",
       "      <td>0.480476</td>\n",
       "      <td>0.573101</td>\n",
       "    </tr>\n",
       "    <tr>\n",
       "      <td>3</td>\n",
       "      <td>No log</td>\n",
       "      <td>0.479270</td>\n",
       "      <td>0.644405</td>\n",
       "    </tr>\n",
       "  </tbody>\n",
       "</table><p>"
      ],
      "text/plain": [
       "<IPython.core.display.HTML object>"
      ]
     },
     "metadata": {},
     "output_type": "display_data"
    },
    {
     "data": {
      "text/plain": [
       "TrainOutput(global_step=303, training_loss=0.5122883107402537, metrics={'train_runtime': 10094.8598, 'train_samples_per_second': 0.479, 'train_steps_per_second': 0.03, 'total_flos': 335705553866700.0, 'train_loss': 0.5122883107402537, 'epoch': 3.0})"
      ]
     },
     "execution_count": 40,
     "metadata": {},
     "output_type": "execute_result"
    }
   ],
   "source": [
    "# Training\n",
    "trainer.train()"
   ]
  },
  {
   "cell_type": "code",
   "execution_count": null,
   "id": "89119ae9-00fc-4275-965f-d8d0cf31c9b3",
   "metadata": {
    "id": "89119ae9-00fc-4275-965f-d8d0cf31c9b3"
   },
   "outputs": [],
   "source": [
    "log_dir = \"logs\"\n",
    "\n",
    "if os.path.exists(log_dir):\n",
    "    shutil.rmtree(log_dir)  # Remove old logs entirely"
   ]
  },
  {
   "cell_type": "code",
   "execution_count": null,
   "id": "050f8f3f-f71c-46e3-b67c-dfd126ec40cb",
   "metadata": {
    "colab": {
     "base_uri": "https://localhost:8080/",
     "height": 74
    },
    "id": "050f8f3f-f71c-46e3-b67c-dfd126ec40cb",
    "outputId": "c9b25655-4ab3-43f0-af30-6fe0627238f1"
   },
   "outputs": [
    {
     "data": {
      "text/html": [
       "\n",
       "    <div>\n",
       "      \n",
       "      <progress value='42' max='42' style='width:300px; height:20px; vertical-align: middle;'></progress>\n",
       "      [42/42 08:34]\n",
       "    </div>\n",
       "    "
      ],
      "text/plain": [
       "<IPython.core.display.HTML object>"
      ]
     },
     "metadata": {},
     "output_type": "display_data"
    },
    {
     "name": "stdout",
     "output_type": "stream",
     "text": [
      "Validation Metrics: {'eval_loss': 0.4792702794075012, 'eval_f1_macro': 0.6444050603728999, 'eval_runtime': 527.8245, 'eval_samples_per_second': 1.264, 'eval_steps_per_second': 0.08, 'epoch': 3.0}\n"
     ]
    }
   ],
   "source": [
    "# Evaluation\n",
    "val_metrics = trainer.evaluate()\n",
    "print(\"Validation Metrics:\", val_metrics)"
   ]
  },
  {
   "cell_type": "code",
   "execution_count": null,
   "id": "8741f522-b1b2-4d51-9c41-a7422e5f0db9",
   "metadata": {
    "id": "8741f522-b1b2-4d51-9c41-a7422e5f0db9"
   },
   "outputs": [],
   "source": [
    "# Save model\n",
    "trainer.save_model(\"infoxml-subjectivity-it\")"
   ]
  },
  {
   "cell_type": "code",
   "execution_count": null,
   "id": "6e0f02bb-359b-460a-9b9a-77bf1ed84cc6",
   "metadata": {
    "colab": {
     "base_uri": "https://localhost:8080/",
     "height": 17
    },
    "id": "6e0f02bb-359b-460a-9b9a-77bf1ed84cc6",
    "outputId": "3e651f31-67f2-40bd-cb72-09dc0d5a58ea"
   },
   "outputs": [
    {
     "data": {
      "text/html": [],
      "text/plain": [
       "<IPython.core.display.HTML object>"
      ]
     },
     "metadata": {},
     "output_type": "display_data"
    }
   ],
   "source": [
    "# Test Evaluation\n",
    "predictions = trainer.predict(tokenized_test)\n",
    "pred_labels = np.argmax(predictions.predictions, axis=1)\n",
    "\n",
    "submission = pd.DataFrame({\n",
    "    \"sentence_id\": df_test_it[\"sentence_id\"],\n",
    "    \"label\": [\"OBJ\" if l == 1 else \"SUBJ\" for l in pred_labels]\n",
    "})\n",
    "submission.to_csv(\"mono_it_test_predictions.tsv\", sep=\"\\t\", index=False)"
   ]
  },
  {
   "cell_type": "code",
   "execution_count": null,
   "id": "20934fc6-916d-4d8d-bfc2-dd5f9d0d6160",
   "metadata": {
    "colab": {
     "base_uri": "https://localhost:8080/"
    },
    "id": "20934fc6-916d-4d8d-bfc2-dd5f9d0d6160",
    "outputId": "5afee70b-a396-43df-aa9c-e780dfc5cffe"
   },
   "outputs": [
    {
     "name": "stdout",
     "output_type": "stream",
     "text": [
      "INFO : The file is properly formatted\n",
      "INFO : Started evaluating results for Task 1...\n",
      "INFO : \n",
      "            macro-F1: 0.6067\n",
      "            macro-P: 0.7430\n",
      "            macro-R: 0.6147\n",
      "            \n",
      "            SUBJ-F1: 0.4028\n",
      "            SUBJ-P: 0.7838\n",
      "            SUBJ-R: 0.2710\n",
      "            \n",
      "            accuracy: 0.7124\n",
      "        \n"
     ]
    }
   ],
   "source": [
    "# Run scorer\n",
    "# !python scorer/evaluate.py -g data/italian/test_it_labeled.tsv -p mono_it_test_predictions.tsv\n",
    "!python clef2025-checkthat-lab/task1/scorer/evaluate.py \\\n",
    "    -g clef2025-checkthat-lab/task1/data/italian/test_it_labeled.tsv \\\n",
    "    -p mono_it_test_predictions.tsv"
   ]
  },
  {
   "cell_type": "markdown",
   "id": "kZqqr-bLMdYR",
   "metadata": {
    "id": "kZqqr-bLMdYR"
   },
   "source": [
    "#### Error Analysis"
   ]
  },
  {
   "cell_type": "code",
   "execution_count": null,
   "id": "2XDk2ArgMc44",
   "metadata": {
    "id": "2XDk2ArgMc44"
   },
   "outputs": [],
   "source": [
    "test_predictions, test_labels = predictions.predictions, predictions.label_ids"
   ]
  },
  {
   "cell_type": "code",
   "execution_count": null,
   "id": "zV-K-N2GMwkw",
   "metadata": {
    "id": "zV-K-N2GMwkw"
   },
   "outputs": [],
   "source": [
    "# Convert predictions and labels to pandas DataFrame (Transformer)\n",
    "test_results = pd.DataFrame({\n",
    "    \"sentence\": df_test_it[\"sentence\"],\n",
    "    \"true_label\": test_labels,\n",
    "    \"predicted_label\": pred_labels\n",
    "})\n",
    "\n",
    "# Add a column to classify error types\n",
    "test_results[\"error_type\"] = np.where(\n",
    "    test_results[\"true_label\"] == test_results[\"predicted_label\"],\n",
    "    \"Correct\",\n",
    "    np.where(\n",
    "        (test_results[\"true_label\"] == 1) & (test_results[\"predicted_label\"] == 0),\n",
    "        \"False Negative\",\n",
    "        \"False Positive\"\n",
    "    )\n",
    ")"
   ]
  },
  {
   "cell_type": "code",
   "execution_count": null,
   "id": "IdEqILAkMwcd",
   "metadata": {
    "colab": {
     "base_uri": "https://localhost:8080/"
    },
    "id": "IdEqILAkMwcd",
    "outputId": "a7bd2d9c-950a-4485-af03-3bd5b610977f"
   },
   "outputs": [
    {
     "name": "stdout",
     "output_type": "stream",
     "text": [
      "Number of False Positives (infoxml): 78\n",
      "\n",
      "EXAMPLES:\n",
      "\n",
      "\tMeglio che di sinistra.\n",
      "\n",
      "\tTempo al tempo vedremo.\n",
      "\n",
      "\tNelle dolomiti c'è posto per tutti.\n",
      "\n",
      "\tNon siamo mai contenti\n",
      "\n",
      "\tL'ostentazione della burineria e servizi montani penosi.\n",
      "\n",
      "\tPoi il leader M5S è durissimo con il ministro Nordio:\n",
      "\n",
      "\tConte infanga Meloni?\n",
      "\n",
      "\tIl Repower-EU ha provato a tracciare la rotta in merito all’indipendenza energetica, che tutto è tranne che autosufficienza dell’UE.\n",
      "\n",
      "\tCapisco il senso di appartenenza... ma addirittura masochisti purché sia di Destra,\n",
      "\n",
      "\tIn questi anni ci siamo battuti contro gli striscianti tentativi di riavviare nel nostro Paese un percorso di ritorno all’energia da fissione nucleare, una fonte insostenibile sotto tutti i punti di vista, la fantomatica quarta generazione – pur efficientando alcuni aspetti delle esperienze precedenti – non supera i problemi già noti e su cui in ben due occasioni in Italia ha vinto un forte “NO” referendario.\n",
      "\n"
     ]
    }
   ],
   "source": [
    "false_positives = test_results[test_results[\"error_type\"] == \"False Positive\"]\n",
    "print(f\"Number of False Positives (infoxml): {false_positives.shape[0]}\")\n",
    "print(\"\\nEXAMPLES:\\n\")\n",
    "for ex in false_positives.head(10).sentence:\n",
    "    print(f\"\\t{ex}\\n\")"
   ]
  },
  {
   "cell_type": "code",
   "execution_count": null,
   "id": "DF53wxzZMwVG",
   "metadata": {
    "colab": {
     "base_uri": "https://localhost:8080/"
    },
    "id": "DF53wxzZMwVG",
    "outputId": "06a39fd5-e908-4836-bf76-0b1ba7e788d7"
   },
   "outputs": [
    {
     "name": "stdout",
     "output_type": "stream",
     "text": [
      "Number of False Negatives (infoxml): 8\n",
      "\n",
      "EXAMPLES:\n",
      "\n",
      "\tIn questo quadro di competizione e guerra che coinvolge innanzitutto il mercato energetico, la narrazione Italiana costruita dal Governo Meloni sulla “sicurezza energetica” si inserisce perfettamente.\n",
      "\n",
      "\tE' quindi ipotizzabile che si assista a una fase in cui oro e dollaro si muovono nella stessa direzione, senza necessariamente influenzarsi a vicenda.\n",
      "\n",
      "\t\"Sappiate che quando manca la politica i magistrati si prendono quello spazio e vogliono governare, accade da trent’anni almeno\":\n",
      "\n",
      "\tL’attitudine a darsi del tu e chiamarsi per nome più spesso che in passato non implica che sia sempre appropriato e inoffensivo farlo\n",
      "\n",
      "\tLa spesa che non c'è\n",
      "\n",
      "\tChe problema è?\n",
      "\n",
      "\tNon possiamo ancora fare delle valitazioni serie.\n",
      "\n",
      "\tGiù anche l'oro, asset rifugio per eccellenza.\n",
      "\n"
     ]
    }
   ],
   "source": [
    "false_negatives = test_results[test_results[\"error_type\"] == \"False Negative\"]\n",
    "print(f\"Number of False Negatives (infoxml): {false_negatives.shape[0]}\")\n",
    "print(\"\\nEXAMPLES:\\n\")\n",
    "for ex in false_negatives.head(10).sentence:\n",
    "    print(f\"\\t{ex}\\n\")"
   ]
  },
  {
   "cell_type": "code",
   "execution_count": null,
   "id": "C9qeY_WvMwMy",
   "metadata": {
    "colab": {
     "base_uri": "https://localhost:8080/",
     "height": 939
    },
    "id": "C9qeY_WvMwMy",
    "outputId": "22fd757f-5a1b-422a-b3ee-5370e00be4f3"
   },
   "outputs": [
    {
     "data": {
      "image/png": "[encoded data removed]",
      "text/plain": [
       "<Figure size 640x480 with 2 Axes>"
      ]
     },
     "metadata": {},
     "output_type": "display_data"
    },
    {
     "data": {
      "image/png": "[encoded data removed]",
      "text/plain": [
       "<Figure size 640x480 with 2 Axes>"
      ]
     },
     "metadata": {},
     "output_type": "display_data"
    }
   ],
   "source": [
    "plot_confusion_matrix(\"infoxml\", test_results)"
   ]
  },
  {
   "cell_type": "code",
   "execution_count": null,
   "id": "WEx1RdcPMwFL",
   "metadata": {
    "colab": {
     "base_uri": "https://localhost:8080/",
     "height": 472
    },
    "id": "WEx1RdcPMwFL",
    "outputId": "62346092-423a-485b-889d-78111dadf27d"
   },
   "outputs": [
    {
     "data": {
      "image/png": "[encoded data removed]",
      "text/plain": [
       "<Figure size 640x480 with 1 Axes>"
      ]
     },
     "metadata": {},
     "output_type": "display_data"
    }
   ],
   "source": [
    "precision, recall, thresholds = precision_recall_curve(test_labels, test_predictions[:, 1])\n",
    "average_precision = average_precision_score(test_labels, test_predictions[:, 1])\n",
    "\n",
    "# Plot the Precision-Recall curve\n",
    "plot_precision_recall_curve(\"infoxml\", precision, recall, average_precision)"
   ]
  },
  {
   "cell_type": "markdown",
   "id": "a2f6df95-c02d-438f-83df-e868227dc048",
   "metadata": {
    "id": "a2f6df95-c02d-438f-83df-e868227dc048"
   },
   "source": [
    "### Multilungual"
   ]
  },
  {
   "cell_type": "code",
   "execution_count": 28,
   "id": "f29026c5-6a8d-4176-a0e4-46ced3d3ed28",
   "metadata": {
    "id": "f29026c5-6a8d-4176-a0e4-46ced3d3ed28"
   },
   "outputs": [],
   "source": [
    "# Combine Multilingual Training Data\n",
    "df_train_multi = pd.concat([df_train_ar, df_train_bg, df_train_en, df_train_de, df_train_it])\n",
    "df_dev_multi = pd.concat([df_dev_ar, df_dev_bg, df_dev_en, df_dev_de, df_dev_it])"
   ]
  },
  {
   "cell_type": "code",
   "execution_count": 29,
   "id": "de8c9563-d44f-4247-84bb-0089f373cd68",
   "metadata": {
    "id": "de8c9563-d44f-4247-84bb-0089f373cd68"
   },
   "outputs": [],
   "source": [
    "dataset_train = Dataset.from_pandas(df_train_multi)\n",
    "dataset_val = Dataset.from_pandas(df_dev_multi)\n",
    "dataset_test = Dataset.from_pandas(df_test_multi)"
   ]
  },
  {
   "cell_type": "code",
   "execution_count": 30,
   "id": "FVC0XSSWk_Jj",
   "metadata": {
    "id": "FVC0XSSWk_Jj"
   },
   "outputs": [],
   "source": [
    "def preprocess_function_with_max_length(examples):\n",
    "        return tokenizer(examples[\"sentence\"], truncation=True, padding=\"max_length\", max_length=512) # You can adjust max_length"
   ]
  },
  {
   "cell_type": "code",
   "execution_count": 31,
   "id": "24a96301-0307-47a2-a170-7ae3dd9a54c5",
   "metadata": {
    "colab": {
     "base_uri": "https://localhost:8080/",
     "height": 113,
     "referenced_widgets": [
      "30a5a1ee141a4d7fb6ec6c90030e7d8a",
      "2c8a6ce1199b4a5b93f1077950a7d049",
      "b1e47c4fba8940388a8395c405870c54",
      "bf815138cc614f65a39417888fdf22d7",
      "15aedb64dcf74c38bbe1ba93ad04ccf3",
      "3d23ada8739f49bd90ef98dee85b89ee",
      "33ad4fcad8124091a530a3c5fc3a39c0",
      "bbab8851353d450489ce142d7f08b804",
      "5cc71daa66b7454d9d6f865ad13044f0",
      "4fa2f3e32cd0441bb88ad18031adcdcb",
      "8f6e7e8ed5c14026b68c178d702c1763",
      "56f31a2e660642318bb5ec0487c0c8eb",
      "7ae2d966a3944aa58e66adea5efa26e6",
      "fc61022e18c84bcdb5dd00b387209ee6",
      "534f40fefcc24f15853934876dca6bbe",
      "b8b5dbc973fd428bafae183de4a4c8ce",
      "95955d66636c458593d0ef98a4a8ae12",
      "23136030df2e489493fc9e90f6fba534",
      "2d29954e917141d596f7bc730c66844f",
      "9fbf9bcc0f46407d8451eb274fa59f95",
      "4bcfcc59cc554731b0ed481366f23424",
      "ee87c723e25548ddb32e4102d39a5fac",
      "2f857f20a8d140f9b36a259555d0e518",
      "7e70934fe1474b0ebe6ebf47d7cb38a2",
      "badcbac18a6f4e6ab4caa5e5ebbd24f9",
      "27f75c7a418a4edb80c9ed64ddfc69de",
      "4f2badf48f7b40daa51cb2f0c4fd393e",
      "2a9200954a264506a81c86da8edeb195",
      "11fc856a664e4464abf8c552bac1922f",
      "21e77b96adfb45bdb84acdf688c15eb6",
      "13928ba4c75042129294640bb22e4aa5",
      "20a2ae159ab24279b4e77e15ecf1c02e",
      "1a0bc6f2c25a4565bfe69d79517f1806"
     ]
    },
    "id": "24a96301-0307-47a2-a170-7ae3dd9a54c5",
    "outputId": "1ac8ced3-4987-4075-f5d6-f6063eb4d374"
   },
   "outputs": [
    {
     "data": {
      "application/vnd.jupyter.widget-view+json": {
       "model_id": "30a5a1ee141a4d7fb6ec6c90030e7d8a",
       "version_major": 2,
       "version_minor": 0
      },
      "text/plain": [
       "Map:   0%|          | 0/6380 [00:00<?, ? examples/s]"
      ]
     },
     "metadata": {},
     "output_type": "display_data"
    },
    {
     "data": {
      "application/vnd.jupyter.widget-view+json": {
       "model_id": "56f31a2e660642318bb5ec0487c0c8eb",
       "version_major": 2,
       "version_minor": 0
      },
      "text/plain": [
       "Map:   0%|          | 0/2393 [00:00<?, ? examples/s]"
      ]
     },
     "metadata": {},
     "output_type": "display_data"
    },
    {
     "data": {
      "application/vnd.jupyter.widget-view+json": {
       "model_id": "2f857f20a8d140f9b36a259555d0e518",
       "version_major": 2,
       "version_minor": 0
      },
      "text/plain": [
       "Map:   0%|          | 0/1982 [00:00<?, ? examples/s]"
      ]
     },
     "metadata": {},
     "output_type": "display_data"
    }
   ],
   "source": [
    "# Tokenization\n",
    "tokenized_train = dataset_train.map(preprocess_function_with_max_length, batched=True)\n",
    "tokenized_val = dataset_val.map(preprocess_function_with_max_length, batched=True)\n",
    "tokenized_test = dataset_test.map(preprocess_function_with_max_length, batched=True)"
   ]
  },
  {
   "cell_type": "code",
   "execution_count": 32,
   "id": "506b79e3-5db9-4ae9-84e1-06f502586a9b",
   "metadata": {
    "id": "506b79e3-5db9-4ae9-84e1-06f502586a9b"
   },
   "outputs": [],
   "source": [
    "# Trainer\n",
    "trainer = Trainer(\n",
    "    model=model,\n",
    "    args=training_args,\n",
    "    train_dataset=tokenized_train,\n",
    "    eval_dataset=tokenized_val,\n",
    "    processing_class=tokenizer,\n",
    "    data_collator=data_collator,\n",
    "    compute_metrics=compute_metrics\n",
    ")"
   ]
  },
  {
   "cell_type": "code",
   "execution_count": 33,
   "id": "ddf11308-3b68-4033-be94-7f94f6d69665",
   "metadata": {
    "colab": {
     "base_uri": "https://localhost:8080/",
     "height": 204
    },
    "id": "ddf11308-3b68-4033-be94-7f94f6d69665",
    "outputId": "12c22ed6-73bf-4f0c-cce2-67990a2d61e2"
   },
   "outputs": [
    {
     "data": {
      "text/html": [
       "\n",
       "    <div>\n",
       "      \n",
       "      <progress value='1197' max='1197' style='width:300px; height:20px; vertical-align: middle;'></progress>\n",
       "      [1197/1197 36:49, Epoch 3/3]\n",
       "    </div>\n",
       "    <table border=\"1\" class=\"dataframe\">\n",
       "  <thead>\n",
       " <tr style=\"text-align: left;\">\n",
       "      <th>Epoch</th>\n",
       "      <th>Training Loss</th>\n",
       "      <th>Validation Loss</th>\n",
       "      <th>F1 Macro</th>\n",
       "    </tr>\n",
       "  </thead>\n",
       "  <tbody>\n",
       "    <tr>\n",
       "      <td>1</td>\n",
       "      <td>No log</td>\n",
       "      <td>0.607740</td>\n",
       "      <td>0.674294</td>\n",
       "    </tr>\n",
       "    <tr>\n",
       "      <td>2</td>\n",
       "      <td>0.649600</td>\n",
       "      <td>0.558929</td>\n",
       "      <td>0.687775</td>\n",
       "    </tr>\n",
       "    <tr>\n",
       "      <td>3</td>\n",
       "      <td>0.582200</td>\n",
       "      <td>0.521589</td>\n",
       "      <td>0.713451</td>\n",
       "    </tr>\n",
       "  </tbody>\n",
       "</table><p>"
      ],
      "text/plain": [
       "<IPython.core.display.HTML object>"
      ]
     },
     "metadata": {},
     "output_type": "display_data"
    },
    {
     "data": {
      "text/plain": [
       "TrainOutput(global_step=1197, training_loss=0.6060600121417639, metrics={'train_runtime': 2212.1665, 'train_samples_per_second': 8.652, 'train_steps_per_second': 0.541, 'total_flos': 5035945599590400.0, 'train_loss': 0.6060600121417639, 'epoch': 3.0})"
      ]
     },
     "execution_count": 33,
     "metadata": {},
     "output_type": "execute_result"
    }
   ],
   "source": [
    "# Training\n",
    "trainer.train()"
   ]
  },
  {
   "cell_type": "code",
   "execution_count": 34,
   "id": "69e459fa-b305-40bd-859e-1a803f02d7bd",
   "metadata": {
    "id": "69e459fa-b305-40bd-859e-1a803f02d7bd"
   },
   "outputs": [],
   "source": [
    "log_dir = \"logs\"\n",
    "\n",
    "if os.path.exists(log_dir):\n",
    "    shutil.rmtree(log_dir)  # Remove old logs entirely"
   ]
  },
  {
   "cell_type": "code",
   "execution_count": 35,
   "id": "72d59f8c-9ec0-46b1-90a3-3015d7b1ac36",
   "metadata": {
    "colab": {
     "base_uri": "https://localhost:8080/",
     "height": 74
    },
    "id": "72d59f8c-9ec0-46b1-90a3-3015d7b1ac36",
    "outputId": "7526b0bc-5dc7-4978-f97d-b03194227dbd"
   },
   "outputs": [
    {
     "data": {
      "text/html": [
       "\n",
       "    <div>\n",
       "      \n",
       "      <progress value='150' max='150' style='width:300px; height:20px; vertical-align: middle;'></progress>\n",
       "      [150/150 01:03]\n",
       "    </div>\n",
       "    "
      ],
      "text/plain": [
       "<IPython.core.display.HTML object>"
      ]
     },
     "metadata": {},
     "output_type": "display_data"
    },
    {
     "name": "stdout",
     "output_type": "stream",
     "text": [
      "Validation Metrics: {'eval_loss': 0.5215888619422913, 'eval_f1_macro': 0.7134510563188629, 'eval_runtime': 63.9757, 'eval_samples_per_second': 37.405, 'eval_steps_per_second': 2.345, 'epoch': 3.0}\n"
     ]
    }
   ],
   "source": [
    "# Evaluation\n",
    "val_metrics = trainer.evaluate()\n",
    "print(\"Validation Metrics:\", val_metrics)"
   ]
  },
  {
   "cell_type": "code",
   "execution_count": 36,
   "id": "524e36c3-f10c-47ff-94de-958898da5e7d",
   "metadata": {
    "id": "524e36c3-f10c-47ff-94de-958898da5e7d"
   },
   "outputs": [],
   "source": [
    "# Save model\n",
    "trainer.save_model(\"infoxml-subjectivity-multi\")"
   ]
  },
  {
   "cell_type": "code",
   "execution_count": 37,
   "id": "6ce9cc7e-3956-4299-a470-72d70d00b0d2",
   "metadata": {
    "colab": {
     "base_uri": "https://localhost:8080/",
     "height": 17
    },
    "id": "6ce9cc7e-3956-4299-a470-72d70d00b0d2",
    "outputId": "2e183d4e-57a5-4285-e6ba-8e4e3416b5bf"
   },
   "outputs": [
    {
     "data": {
      "text/html": [],
      "text/plain": [
       "<IPython.core.display.HTML object>"
      ]
     },
     "metadata": {},
     "output_type": "display_data"
    }
   ],
   "source": [
    "# Multilingual Test Predictions\n",
    "predictions = trainer.predict(tokenized_test)\n",
    "pred_labels = np.argmax(predictions.predictions, axis=1)\n",
    "\n",
    "submission = pd.DataFrame({\n",
    "    \"sentence_id\": df_test_multi[\"sentence_id\"],\n",
    "    \"label\": [\"OBJ\" if l == 1 else \"SUBJ\" for l in pred_labels]\n",
    "})\n",
    "submission.to_csv(\"multilingual_test_predictions.tsv\", sep=\"\\t\", index=False)"
   ]
  },
  {
   "cell_type": "code",
   "execution_count": 38,
   "id": "e188784d-9493-48d0-9e1b-4fb8d391e5bb",
   "metadata": {
    "colab": {
     "base_uri": "https://localhost:8080/"
    },
    "id": "e188784d-9493-48d0-9e1b-4fb8d391e5bb",
    "outputId": "62f675f9-18b6-4ad6-f2d9-84c27eab9a07"
   },
   "outputs": [
    {
     "name": "stdout",
     "output_type": "stream",
     "text": [
      "INFO : The file is properly formatted\n",
      "INFO : Started evaluating results for Task 1...\n",
      "INFO : \n",
      "            macro-F1: 0.6982\n",
      "            macro-P: 0.7528\n",
      "            macro-R: 0.6824\n",
      "            \n",
      "            SUBJ-F1: 0.5485\n",
      "            SUBJ-P: 0.7211\n",
      "            SUBJ-R: 0.4426\n",
      "            \n",
      "            accuracy: 0.7725\n",
      "        \n"
     ]
    }
   ],
   "source": [
    "# Run scorer\n",
    "# !python scorer/evaluate.py -g data/multilingual/test_multilingual_labeled.tsv -p multilingual_test_predictions.tsv\n",
    "!python clef2025-checkthat-lab/task1/scorer/evaluate.py \\\n",
    "    -g clef2025-checkthat-lab/task1/data/multilingual/test_multilingual_labeled.tsv \\\n",
    "    -p multilingual_test_predictions.tsv"
   ]
  },
  {
   "cell_type": "markdown",
   "id": "ZscyDjGcPP8p",
   "metadata": {
    "id": "ZscyDjGcPP8p"
   },
   "source": [
    "#### Error Analysis"
   ]
  },
  {
   "cell_type": "code",
   "execution_count": 39,
   "id": "YdvDKMoKPDO6",
   "metadata": {
    "id": "YdvDKMoKPDO6"
   },
   "outputs": [],
   "source": [
    "test_predictions, test_labels = predictions.predictions, predictions.label_ids"
   ]
  },
  {
   "cell_type": "code",
   "execution_count": 40,
   "id": "V8phXTHFPWzb",
   "metadata": {
    "id": "V8phXTHFPWzb"
   },
   "outputs": [],
   "source": [
    "# Convert predictions and labels to pandas DataFrame (Transformer)\n",
    "test_results = pd.DataFrame({\n",
    "    \"sentence\": df_test_multi[\"sentence\"],\n",
    "    \"true_label\": test_labels,\n",
    "    \"predicted_label\": pred_labels\n",
    "})\n",
    "\n",
    "# Add a column to classify error types\n",
    "test_results[\"error_type\"] = np.where(\n",
    "    test_results[\"true_label\"] == test_results[\"predicted_label\"],\n",
    "    \"Correct\",\n",
    "    np.where(\n",
    "        (test_results[\"true_label\"] == 1) & (test_results[\"predicted_label\"] == 0),\n",
    "        \"False Negative\",\n",
    "        \"False Positive\"\n",
    "    )\n",
    ")"
   ]
  },
  {
   "cell_type": "code",
   "execution_count": 41,
   "id": "NEwxVmBQPZRJ",
   "metadata": {
    "colab": {
     "base_uri": "https://localhost:8080/"
    },
    "id": "NEwxVmBQPZRJ",
    "outputId": "29864d51-c8de-4530-8f88-2f2cef0fd6bb"
   },
   "outputs": [
    {
     "name": "stdout",
     "output_type": "stream",
     "text": [
      "Number of False Positives (infoxml): 345\n",
      "\n",
      "EXAMPLES:\n",
      "\n",
      "\tEcco ad esempio che la Regione Liguria, guidata dalla destra, ha pensato bene di stanziare 220mila euro per un progetto di educazione allaffettività nelle parrocchie e negli oratori.\n",
      "\n",
      "\tويتطرق عمار إلى التأثيرات المحتملة لموقف ماسك ،  أن ذلك الموقف قد يفاقم التوتر بين واشنطن وبرلين ، خاصة في ظل حساسية المرحلة الحالية مع اقتراب الانتخابات في ألمانيا.\n",
      "\n",
      "\tIl fronte delle opposizioni va durissimo all'attacco della premier Giorgia Meloni e del governo nel dibattito alla Camera dopo le informative dei ministri Carlo Nordio e Matteo Piantedosi sul caso Almasri.\n",
      "\n",
      "\tAlles dank eines experimentellen Impfstoffs, der nur für den Notfall zugelassen ist.\n",
      "\n",
      "\tLone shoppers lined the aisles in preparation for a Government-mandated 24-hour indoors, with several baskets piled with more food, booze and toilet rolls than any household could conceivably need during such a short time.\n",
      "\n",
      "\tويبدو أن مستوى الدوري الإنجليزي بشكل عام ونسق مانشستر يونايتد القوي هو السبب الأول في تعثر خطوات المجبري في فريق الشياطين الحمر وعدم قدرته على إثبات نفسه حتى ضمن التشكيلة الاحتياطية بحسب رأي المدير الفني السابق للاتحاد التونسي لكرة القدم كمال القلصي.\n",
      "\n",
      "\tعلى سبيل المثال ، أصبحت بكين تتوقع من زعماء العالم النامي الموافقة  على مبادرة الأمن العالمي ، التي تتعارض مبادئها مع المثل العليا والممارسات في الشؤون الدولية التي تفضلها الولايات المتحدة وحلفاؤها.\n",
      "\n",
      "\tThe release this week of the new Chinese artificial intelligence (AI) tool, DeepSeek-R1, is one such moment.\n",
      "\n",
      "\tوأضاف الركابي : تزداد مخاوف المستثمرين والشركات بزيادة الضرائب ما يؤثر  على الربحية.\n",
      "\n",
      "\tSia chiaro:\n",
      "\n"
     ]
    }
   ],
   "source": [
    "false_positives = test_results[test_results[\"error_type\"] == \"False Positive\"]\n",
    "print(f\"Number of False Positives (infoxml): {false_positives.shape[0]}\")\n",
    "print(\"\\nEXAMPLES:\\n\")\n",
    "for ex in false_positives.head(10).sentence:\n",
    "    print(f\"\\t{ex}\\n\")"
   ]
  },
  {
   "cell_type": "code",
   "execution_count": 42,
   "id": "1HARItR9PZm6",
   "metadata": {
    "colab": {
     "base_uri": "https://localhost:8080/"
    },
    "id": "1HARItR9PZm6",
    "outputId": "cad14f02-e20b-4631-d716-16243d6f12c4"
   },
   "outputs": [
    {
     "name": "stdout",
     "output_type": "stream",
     "text": [
      "Number of False Negatives (infoxml): 106\n",
      "\n",
      "EXAMPLES:\n",
      "\n",
      "\tFrom the lack of vision, the lack of hope.\n",
      "\n",
      "\tBack in the room he’s squatting in, he curls around himself, rejecting the world with his physicality.\n",
      "\n",
      "\tالتحول الذي يقوده شي لقد بدأ التحول في نهج شي يصبح واضحا مع اندلاع الحرب في أوكرانيا.\n",
      "\n",
      "\tAnche per effetto dellinfluenza dellinglese, il tu e i verbi alla seconda persona singolare sono da sempre le forme dominanti dellitaliano su Internet e nei contesti digitali.\n",
      "\n",
      "\tI felt like I’d accomplished something creative for the first time in a long time.\n",
      "\n",
      "\tReading about post-revolutionary cities, one often learns about the tension between the anticipation of the people and the dilapidation around them.\n",
      "\n",
      "\tهل هي طموحات توسعية غير مسبوقة ، أم أنها مجرد أدوات تفاوضية تثير الجدل الإعلامي وتضغط على الخصوم لتحقيق مكاسب ؟\n",
      "\n",
      "\tIn den großen Medien dominiert ein Steinwurf in Richtung eines ARD-Teams die Berichterstattung über die Corona-Großkundgebung.\n",
      "\n",
      "\tأصبح ممكنا النظر بجدية إلى وقف إطلاق النار على جبهة غزة الفلسطينية الحمساوية وإسرائيل.\n",
      "\n",
      "\tDare del tu e chiamarsi per nome, a seconda del contesto, della relazione esistente tra i parlanti, e di molti altri fattori variabili, possono essere un modo per esprimere empatia oppure un modo di interloquire inappropriato e irrispettoso.\n",
      "\n"
     ]
    }
   ],
   "source": [
    "false_negatives = test_results[test_results[\"error_type\"] == \"False Negative\"]\n",
    "print(f\"Number of False Negatives (infoxml): {false_negatives.shape[0]}\")\n",
    "print(\"\\nEXAMPLES:\\n\")\n",
    "for ex in false_negatives.head(10).sentence:\n",
    "    print(f\"\\t{ex}\\n\")"
   ]
  },
  {
   "cell_type": "code",
   "execution_count": 43,
   "id": "uEvnBn32PZ2a",
   "metadata": {
    "colab": {
     "base_uri": "https://localhost:8080/",
     "height": 939
    },
    "id": "uEvnBn32PZ2a",
    "outputId": "c66c7bc9-f614-4a69-e4f3-adbb338decca"
   },
   "outputs": [
    {
     "data": {
      "image/png": "[encoded data removed]",
      "text/plain": [
       "<Figure size 640x480 with 2 Axes>"
      ]
     },
     "metadata": {},
     "output_type": "display_data"
    },
    {
     "data": {
      "image/png": "[encoded data removed]",
      "text/plain": [
       "<Figure size 640x480 with 2 Axes>"
      ]
     },
     "metadata": {},
     "output_type": "display_data"
    }
   ],
   "source": [
    "plot_confusion_matrix(\"infoxml\", test_results)"
   ]
  },
  {
   "cell_type": "code",
   "execution_count": 44,
   "id": "8bK5eBLWPaGh",
   "metadata": {
    "colab": {
     "base_uri": "https://localhost:8080/",
     "height": 472
    },
    "id": "8bK5eBLWPaGh",
    "outputId": "8155c69d-e625-4a51-ac74-11405e48b777"
   },
   "outputs": [
    {
     "data": {
      "image/png": "[encoded data removed]",
      "text/plain": [
       "<Figure size 640x480 with 1 Axes>"
      ]
     },
     "metadata": {},
     "output_type": "display_data"
    }
   ],
   "source": [
    "precision, recall, thresholds = precision_recall_curve(test_labels, test_predictions[:, 1])\n",
    "average_precision = average_precision_score(test_labels, test_predictions[:, 1])\n",
    "\n",
    "# Plot the Precision-Recall curve\n",
    "plot_precision_recall_curve(\"infoxml\", precision, recall, average_precision)"
   ]
  },
  {
   "cell_type": "markdown",
   "id": "87f5127d-f5d9-4369-a056-598679ff6da7",
   "metadata": {
    "id": "87f5127d-f5d9-4369-a056-598679ff6da7"
   },
   "source": [
    "### Zero-Shot"
   ]
  },
  {
   "cell_type": "code",
   "execution_count": 45,
   "id": "0E2tZ6iPQZCc",
   "metadata": {
    "id": "0E2tZ6iPQZCc"
   },
   "outputs": [],
   "source": [
    "# GREEK"
   ]
  },
  {
   "cell_type": "code",
   "execution_count": 46,
   "id": "SuzPCALvbv4k",
   "metadata": {
    "id": "SuzPCALvbv4k"
   },
   "outputs": [],
   "source": [
    "# During testing we found that two examples are classified as \"Uncertain\", so we decided to not consider these results."
   ]
  },
  {
   "cell_type": "code",
   "execution_count": 55,
   "id": "TbpDl24xQaok",
   "metadata": {
    "id": "TbpDl24xQaok"
   },
   "outputs": [],
   "source": [
    "# POLISH"
   ]
  },
  {
   "cell_type": "code",
   "execution_count": 56,
   "id": "7ygEnCEqQ7ZD",
   "metadata": {
    "colab": {
     "base_uri": "https://localhost:8080/",
     "height": 275,
     "referenced_widgets": [
      "6a9b05874e95413e96eff3c015565adc",
      "ba300c807aae4be298315825e9dac9a4",
      "7d56b0860b214a20a88275bb216de671",
      "74248347425949ae89e01c0853847401",
      "83e31c9eeebf444c9deb6da94eebc1ca",
      "1304ece3bef0474ab93210955e6859a9",
      "3a59124e027a44aa962661c045c2cf81",
      "6f5a7886eaa5467eb8dcdeb7a3851786",
      "29702b08b3e84dc2837e60a5a1f285a5",
      "b1673f29bcda4049ab221f222f26f154",
      "b277a7e4f8b14e419029def350dce32a"
     ]
    },
    "id": "7ygEnCEqQ7ZD",
    "outputId": "8bc5d3f2-e8f4-4b4c-d077-b38057d600a2"
   },
   "outputs": [
    {
     "data": {
      "application/vnd.jupyter.widget-view+json": {
       "model_id": "6a9b05874e95413e96eff3c015565adc",
       "version_major": 2,
       "version_minor": 0
      },
      "text/plain": [
       "Map:   0%|          | 0/351 [00:00<?, ? examples/s]"
      ]
     },
     "metadata": {},
     "output_type": "display_data"
    },
    {
     "data": {
      "text/html": [],
      "text/plain": [
       "<IPython.core.display.HTML object>"
      ]
     },
     "metadata": {},
     "output_type": "display_data"
    },
    {
     "name": "stdout",
     "output_type": "stream",
     "text": [
      "INFO : The file is properly formatted\n",
      "INFO : Started evaluating results for Task 1...\n",
      "INFO : \n",
      "            macro-F1: 0.5807\n",
      "            macro-P: 0.7939\n",
      "            macro-R: 0.6247\n",
      "            \n",
      "            SUBJ-F1: 0.4039\n",
      "            SUBJ-P: 0.9762\n",
      "            SUBJ-R: 0.2547\n",
      "            \n",
      "            accuracy: 0.6553\n",
      "        \n"
     ]
    }
   ],
   "source": [
    "dataset_test = Dataset.from_pandas(df_test_pol)\n",
    "tokenized_test = dataset_test.map(preprocess_function, batched=True)\n",
    "\n",
    "predictions = trainer.predict(tokenized_test)\n",
    "pred_labels = np.argmax(predictions.predictions, axis=1)\n",
    "\n",
    "submission = pd.DataFrame({\n",
    "    \"sentence_id\": df_test_pol[\"sentence_id\"],\n",
    "    \"label\": [\"OBJ\" if l == 1 else \"SUBJ\" for l in pred_labels]\n",
    "})\n",
    "submission_path = \"zero_shot_pol_predictions.tsv\"\n",
    "submission.to_csv(submission_path, sep=\"\\t\", index=False)\n",
    "\n",
    "ground_truth_path = \"clef2025-checkthat-lab/task1/data/polish/test_pol_labeled.tsv\"\n",
    "!python clef2025-checkthat-lab/task1/scorer/evaluate.py -g {ground_truth_path} -p {submission_path}"
   ]
  },
  {
   "cell_type": "code",
   "execution_count": 57,
   "id": "KTo7HBvyTGQS",
   "metadata": {
    "id": "KTo7HBvyTGQS"
   },
   "outputs": [],
   "source": [
    "test_predictions, test_labels = predictions.predictions, predictions.label_ids\n",
    "\n",
    "# Convert predictions and labels to pandas DataFrame (Transformer)\n",
    "test_results = pd.DataFrame({\n",
    "    \"sentence\": df_test_pol[\"sentence\"],\n",
    "    \"true_label\": test_labels,\n",
    "    \"predicted_label\": pred_labels\n",
    "})\n",
    "\n",
    "# Add a column to classify error types\n",
    "test_results[\"error_type\"] = np.where(\n",
    "    test_results[\"true_label\"] == test_results[\"predicted_label\"],\n",
    "    \"Correct\",\n",
    "    np.where(\n",
    "        (test_results[\"true_label\"] == 1) & (test_results[\"predicted_label\"] == 0),\n",
    "        \"False Negative\",\n",
    "        \"False Positive\"\n",
    "    )\n",
    ")"
   ]
  },
  {
   "cell_type": "code",
   "execution_count": 58,
   "id": "YRP4CSqZS6j2",
   "metadata": {
    "colab": {
     "base_uri": "https://localhost:8080/",
     "height": 939
    },
    "id": "YRP4CSqZS6j2",
    "outputId": "4dfad085-23e7-48e1-db40-0cdfebfb2804"
   },
   "outputs": [
    {
     "data": {
      "image/png": "[encoded data removed]",
      "text/plain": [
       "<Figure size 640x480 with 2 Axes>"
      ]
     },
     "metadata": {},
     "output_type": "display_data"
    },
    {
     "data": {
      "image/png": "[encoded data removed]",
      "text/plain": [
       "<Figure size 640x480 with 2 Axes>"
      ]
     },
     "metadata": {},
     "output_type": "display_data"
    }
   ],
   "source": [
    "plot_confusion_matrix(\"infoxml\", test_results)"
   ]
  },
  {
   "cell_type": "code",
   "execution_count": 59,
   "id": "tB1g9D94TSTY",
   "metadata": {
    "colab": {
     "base_uri": "https://localhost:8080/",
     "height": 472
    },
    "id": "tB1g9D94TSTY",
    "outputId": "de640d60-740a-416a-a455-86ff4c3537f4"
   },
   "outputs": [
    {
     "data": {
      "image/png": "[encoded data removed]",
      "text/plain": [
       "<Figure size 640x480 with 1 Axes>"
      ]
     },
     "metadata": {},
     "output_type": "display_data"
    }
   ],
   "source": [
    "precision, recall, thresholds = precision_recall_curve(test_labels, test_predictions[:, 1])\n",
    "average_precision = average_precision_score(test_labels, test_predictions[:, 1])\n",
    "\n",
    "# Plot the Precision-Recall curve\n",
    "plot_precision_recall_curve(\"infoxml\", precision, recall, average_precision)"
   ]
  },
  {
   "cell_type": "code",
   "execution_count": 60,
   "id": "iX3uxmoPQbwk",
   "metadata": {
    "id": "iX3uxmoPQbwk"
   },
   "outputs": [],
   "source": [
    "# ROMANIAN"
   ]
  },
  {
   "cell_type": "code",
   "execution_count": 61,
   "id": "xUJn4nmaQ7sU",
   "metadata": {
    "colab": {
     "base_uri": "https://localhost:8080/",
     "height": 275,
     "referenced_widgets": [
      "f6a9847e7c29498f87d2a0d55427fec5",
      "c383548ff3f246b48ff34a40f9ba42a7",
      "af9e066524ea4da5a2346a22c3f6c237",
      "c6eb3d30e7434f0fb92c8c6af64c41e4",
      "72cc2b4338634721824b2e096aaeb4e9",
      "47955ffbfef44197b85d5a2479e5afb8",
      "5b67669629e546bda9083841ff181535",
      "d04a4e8d44384edd88b83c022c400c68",
      "c08f64f9c288469e9685c808eb5ff482",
      "6ca88a84c04549fab6defe74828e72cf",
      "54f419be0c114d1bb7cd80ccbe712393"
     ]
    },
    "id": "xUJn4nmaQ7sU",
    "outputId": "9a20a39a-b640-4386-ad13-98097c0c53a0"
   },
   "outputs": [
    {
     "data": {
      "application/vnd.jupyter.widget-view+json": {
       "model_id": "f6a9847e7c29498f87d2a0d55427fec5",
       "version_major": 2,
       "version_minor": 0
      },
      "text/plain": [
       "Map:   0%|          | 0/206 [00:00<?, ? examples/s]"
      ]
     },
     "metadata": {},
     "output_type": "display_data"
    },
    {
     "data": {
      "text/html": [],
      "text/plain": [
       "<IPython.core.display.HTML object>"
      ]
     },
     "metadata": {},
     "output_type": "display_data"
    },
    {
     "name": "stdout",
     "output_type": "stream",
     "text": [
      "INFO : The file is properly formatted\n",
      "INFO : Started evaluating results for Task 1...\n",
      "INFO : \n",
      "            macro-F1: 0.7243\n",
      "            macro-P: 0.7452\n",
      "            macro-R: 0.7109\n",
      "            \n",
      "            SUBJ-F1: 0.5745\n",
      "            SUBJ-P: 0.6429\n",
      "            SUBJ-R: 0.5192\n",
      "            \n",
      "            accuracy: 0.8058\n",
      "        \n"
     ]
    }
   ],
   "source": [
    "dataset_test = Dataset.from_pandas(df_test_ro)\n",
    "tokenized_test = dataset_test.map(preprocess_function, batched=True)\n",
    "\n",
    "predictions = trainer.predict(tokenized_test)\n",
    "pred_labels = np.argmax(predictions.predictions, axis=1)\n",
    "\n",
    "submission = pd.DataFrame({\n",
    "    \"sentence_id\": df_test_ro[\"sentence_id\"],\n",
    "    \"label\": [\"OBJ\" if l == 1 else \"SUBJ\" for l in pred_labels]\n",
    "})\n",
    "submission_path = \"zero_shot_ro_predictions.tsv\"\n",
    "submission.to_csv(submission_path, sep=\"\\t\", index=False)\n",
    "\n",
    "ground_truth_path = \"clef2025-checkthat-lab/task1/data/romanian/test_ro_labeled.tsv\"\n",
    "!python clef2025-checkthat-lab/task1/scorer/evaluate.py -g {ground_truth_path} -p {submission_path}"
   ]
  },
  {
   "cell_type": "code",
   "execution_count": 62,
   "id": "vzICwksWTHNd",
   "metadata": {
    "id": "vzICwksWTHNd"
   },
   "outputs": [],
   "source": [
    "test_predictions, test_labels = predictions.predictions, predictions.label_ids\n",
    "\n",
    "# Convert predictions and labels to pandas DataFrame (Transformer)\n",
    "test_results = pd.DataFrame({\n",
    "    \"sentence\": df_test_ro[\"sentence\"],\n",
    "    \"true_label\": test_labels,\n",
    "    \"predicted_label\": pred_labels\n",
    "})\n",
    "\n",
    "# Add a column to classify error types\n",
    "test_results[\"error_type\"] = np.where(\n",
    "    test_results[\"true_label\"] == test_results[\"predicted_label\"],\n",
    "    \"Correct\",\n",
    "    np.where(\n",
    "        (test_results[\"true_label\"] == 1) & (test_results[\"predicted_label\"] == 0),\n",
    "        \"False Negative\",\n",
    "        \"False Positive\"\n",
    "    )\n",
    ")"
   ]
  },
  {
   "cell_type": "code",
   "execution_count": 63,
   "id": "SAQsdYFLTLgK",
   "metadata": {
    "colab": {
     "base_uri": "https://localhost:8080/",
     "height": 939
    },
    "id": "SAQsdYFLTLgK",
    "outputId": "a5e559e2-f19f-45d4-815b-c87b7f991b62"
   },
   "outputs": [
    {
     "data": {
      "image/png": "[encoded data removed]",
      "text/plain": [
       "<Figure size 640x480 with 2 Axes>"
      ]
     },
     "metadata": {},
     "output_type": "display_data"
    },
    {
     "data": {
      "image/png": "[encoded data removed]",
      "text/plain": [
       "<Figure size 640x480 with 2 Axes>"
      ]
     },
     "metadata": {},
     "output_type": "display_data"
    }
   ],
   "source": [
    "plot_confusion_matrix(\"infoxml\", test_results)"
   ]
  },
  {
   "cell_type": "code",
   "execution_count": 64,
   "id": "p-c1X6JqTTKq",
   "metadata": {
    "colab": {
     "base_uri": "https://localhost:8080/",
     "height": 472
    },
    "id": "p-c1X6JqTTKq",
    "outputId": "6d99392e-7863-41eb-ce57-b5e6b40e64d6"
   },
   "outputs": [
    {
     "data": {
      "image/png": "[encoded data removed]",
      "text/plain": [
       "<Figure size 640x480 with 1 Axes>"
      ]
     },
     "metadata": {},
     "output_type": "display_data"
    }
   ],
   "source": [
    "precision, recall, thresholds = precision_recall_curve(test_labels, test_predictions[:, 1])\n",
    "average_precision = average_precision_score(test_labels, test_predictions[:, 1])\n",
    "\n",
    "# Plot the Precision-Recall curve\n",
    "plot_precision_recall_curve(\"infoxml\", precision, recall, average_precision)"
   ]
  },
  {
   "cell_type": "code",
   "execution_count": 65,
   "id": "9b2NiKKdQbho",
   "metadata": {
    "id": "9b2NiKKdQbho"
   },
   "outputs": [],
   "source": [
    "# UKRAINIAN"
   ]
  },
  {
   "cell_type": "code",
   "execution_count": 66,
   "id": "f7bad2f5-d362-4594-8c55-e08ce725bd25",
   "metadata": {
    "colab": {
     "base_uri": "https://localhost:8080/",
     "height": 275,
     "referenced_widgets": [
      "137b89a7e28649189fc791cbb40b1678",
      "1feaffc2ae9d4952bcea181afb6b966c",
      "1a15e0213033497cb12acae67182e3f2",
      "c26eb271c3a54331bb911b55daf05562",
      "0992cec442764791acaf1128de002e53",
      "a0f81f6446d8495384af51ab64454b02",
      "1004051f5d0d44e496c0e6c00a583f9e",
      "e50b1be87b1746c0b18acfe630596689",
      "636a845d84b6400daeda827613fad8a9",
      "552756b82e6c430fb3bd06437ed871b1",
      "ecc1fc42e5c441ca9b16af6403635237"
     ]
    },
    "id": "f7bad2f5-d362-4594-8c55-e08ce725bd25",
    "outputId": "ffefc5d9-8e9b-49e5-db6b-d0cd9e053860"
   },
   "outputs": [
    {
     "data": {
      "application/vnd.jupyter.widget-view+json": {
       "model_id": "137b89a7e28649189fc791cbb40b1678",
       "version_major": 2,
       "version_minor": 0
      },
      "text/plain": [
       "Map:   0%|          | 0/297 [00:00<?, ? examples/s]"
      ]
     },
     "metadata": {},
     "output_type": "display_data"
    },
    {
     "data": {
      "text/html": [],
      "text/plain": [
       "<IPython.core.display.HTML object>"
      ]
     },
     "metadata": {},
     "output_type": "display_data"
    },
    {
     "name": "stdout",
     "output_type": "stream",
     "text": [
      "INFO : The file is properly formatted\n",
      "INFO : Started evaluating results for Task 1...\n",
      "INFO : \n",
      "            macro-F1: 0.6286\n",
      "            macro-P: 0.6238\n",
      "            macro-R: 0.6414\n",
      "            \n",
      "            SUBJ-F1: 0.4773\n",
      "            SUBJ-P: 0.4286\n",
      "            SUBJ-R: 0.5385\n",
      "            \n",
      "            accuracy: 0.6902\n",
      "        \n"
     ]
    }
   ],
   "source": [
    "dataset_test = Dataset.from_pandas(df_test_ukr)\n",
    "tokenized_test = dataset_test.map(preprocess_function, batched=True)\n",
    "\n",
    "predictions = trainer.predict(tokenized_test)\n",
    "pred_labels = np.argmax(predictions.predictions, axis=1)\n",
    "\n",
    "submission = pd.DataFrame({\n",
    "    \"sentence_id\": df_test_ukr[\"sentence_id\"],\n",
    "    \"label\": [\"OBJ\" if l == 1 else \"SUBJ\" for l in pred_labels]\n",
    "})\n",
    "submission_path = \"zero_shot_ukr_predictions.tsv\"\n",
    "submission.to_csv(submission_path, sep=\"\\t\", index=False)\n",
    "\n",
    "ground_truth_path = \"clef2025-checkthat-lab/task1/data/ukrainian/test_ukr_labeled.tsv\"\n",
    "!python clef2025-checkthat-lab/task1/scorer/evaluate.py -g {ground_truth_path} -p {submission_path}"
   ]
  },
  {
   "cell_type": "code",
   "execution_count": 67,
   "id": "1BLVtCiWTH_I",
   "metadata": {
    "id": "1BLVtCiWTH_I"
   },
   "outputs": [],
   "source": [
    "test_predictions, test_labels = predictions.predictions, predictions.label_ids\n",
    "\n",
    "# Convert predictions and labels to pandas DataFrame (Transformer)\n",
    "test_results = pd.DataFrame({\n",
    "    \"sentence\": df_test_ukr[\"sentence\"],\n",
    "    \"true_label\": test_labels,\n",
    "    \"predicted_label\": pred_labels\n",
    "})\n",
    "\n",
    "# Add a column to classify error types\n",
    "test_results[\"error_type\"] = np.where(\n",
    "    test_results[\"true_label\"] == test_results[\"predicted_label\"],\n",
    "    \"Correct\",\n",
    "    np.where(\n",
    "        (test_results[\"true_label\"] == 1) & (test_results[\"predicted_label\"] == 0),\n",
    "        \"False Negative\",\n",
    "        \"False Positive\"\n",
    "    )\n",
    ")"
   ]
  },
  {
   "cell_type": "code",
   "execution_count": 68,
   "id": "HH5-wgq1TMYd",
   "metadata": {
    "colab": {
     "base_uri": "https://localhost:8080/",
     "height": 939
    },
    "id": "HH5-wgq1TMYd",
    "outputId": "035ed39c-8017-484b-ea54-52090e4f32d6"
   },
   "outputs": [
    {
     "data": {
      "image/png": "[encoded data removed]",
      "text/plain": [
       "<Figure size 640x480 with 2 Axes>"
      ]
     },
     "metadata": {},
     "output_type": "display_data"
    },
    {
     "data": {
      "image/png": "[encoded data removed]",
      "text/plain": [
       "<Figure size 640x480 with 2 Axes>"
      ]
     },
     "metadata": {},
     "output_type": "display_data"
    }
   ],
   "source": [
    "plot_confusion_matrix(\"infoxml\", test_results)"
   ]
  },
  {
   "cell_type": "code",
   "execution_count": 69,
   "id": "uukbd1CbTT3h",
   "metadata": {
    "colab": {
     "base_uri": "https://localhost:8080/",
     "height": 472
    },
    "id": "uukbd1CbTT3h",
    "outputId": "c76ea1e8-8e8a-4f74-fa41-355e3b8f76af"
   },
   "outputs": [
    {
     "data": {
      "image/png": "[encoded data removed]",
      "text/plain": [
       "<Figure size 640x480 with 1 Axes>"
      ]
     },
     "metadata": {},
     "output_type": "display_data"
    }
   ],
   "source": [
    "precision, recall, thresholds = precision_recall_curve(test_labels, test_predictions[:, 1])\n",
    "average_precision = average_precision_score(test_labels, test_predictions[:, 1])\n",
    "\n",
    "# Plot the Precision-Recall curve\n",
    "plot_precision_recall_curve(\"infoxml\", precision, recall, average_precision)"
   ]
  },
  {
   "cell_type": "markdown",
   "id": "aT_da9preClg",
   "metadata": {
    "id": "aT_da9preClg"
   },
   "source": [
    "## Solution Download"
   ]
  },
  {
   "cell_type": "code",
   "execution_count": 70,
   "id": "8M5OgY4jeB-z",
   "metadata": {
    "colab": {
     "base_uri": "https://localhost:8080/"
    },
    "id": "8M5OgY4jeB-z",
    "outputId": "a41e7bf7-064d-4689-af76-6de420e10df4"
   },
   "outputs": [
    {
     "name": "stdout",
     "output_type": "stream",
     "text": [
      "\tzip warning: name not matched: infoxml-subjectivity-en\n",
      "\tzip warning: name not matched: infoxml-subjectivity-it\n",
      "  adding: infoxml-subjectivity-multi/ (stored 0%)\n",
      "  adding: infoxml-subjectivity-multi/special_tokens_map.json (deflated 52%)\n",
      "  adding: infoxml-subjectivity-multi/sentencepiece.bpe.model (deflated 49%)\n",
      "  adding: infoxml-subjectivity-multi/tokenizer_config.json (deflated 76%)\n",
      "  adding: infoxml-subjectivity-multi/model.safetensors (deflated 26%)\n",
      "  adding: infoxml-subjectivity-multi/training_args.bin (deflated 52%)\n",
      "  adding: infoxml-subjectivity-multi/config.json (deflated 50%)\n",
      "  adding: infoxml-subjectivity-multi/tokenizer.json (deflated 76%)\n"
     ]
    }
   ],
   "source": [
    "!zip -r infoxml_models.zip infoxml-subjectivity-en infoxml-subjectivity-it infoxml-subjectivity-multi"
   ]
  },
  {
   "cell_type": "code",
   "execution_count": 71,
   "id": "W0TVn2HKeIQY",
   "metadata": {
    "colab": {
     "base_uri": "https://localhost:8080/"
    },
    "id": "W0TVn2HKeIQY",
    "outputId": "39870569-5214-404d-9ed8-d1d2fa584d5d"
   },
   "outputs": [
    {
     "name": "stdout",
     "output_type": "stream",
     "text": [
      "\tzip warning: name not matched: mono_en_test_predictions.tsv\n",
      "\tzip warning: name not matched: mono_it_test_predictions.tsv\n",
      "  adding: multilingual_test_predictions.tsv (deflated 45%)\n",
      "  adding: zero_shot_gr_predictions.tsv (deflated 45%)\n",
      "  adding: zero_shot_pol_predictions.tsv (deflated 46%)\n",
      "  adding: zero_shot_ro_predictions.tsv (deflated 45%)\n",
      "  adding: zero_shot_ukr_predictions.tsv (deflated 46%)\n"
     ]
    }
   ],
   "source": [
    "!zip infoxml_predictions.zip \\\n",
    "mono_en_test_predictions.tsv \\\n",
    "mono_it_test_predictions.tsv \\\n",
    "multilingual_test_predictions.tsv \\\n",
    "zero_shot_gr_predictions.tsv \\\n",
    "zero_shot_pol_predictions.tsv \\\n",
    "zero_shot_ro_predictions.tsv \\\n",
    "zero_shot_ukr_predictions.tsv"
   ]
  },
  {
   "cell_type": "code",
   "execution_count": 72,
   "id": "oZeLka5beK_z",
   "metadata": {
    "colab": {
     "base_uri": "https://localhost:8080/",
     "height": 17
    },
    "id": "oZeLka5beK_z",
    "outputId": "3031293d-28f4-4766-f86b-78f33e019c80"
   },
   "outputs": [
    {
     "data": {
      "application/javascript": [
       "\n",
       "    async function download(id, filename, size) {\n",
       "      if (!google.colab.kernel.accessAllowed) {\n",
       "        return;\n",
       "      }\n",
       "      const div = document.createElement('div');\n",
       "      const label = document.createElement('label');\n",
       "      label.textContent = `Downloading \"${filename}\": `;\n",
       "      div.appendChild(label);\n",
       "      const progress = document.createElement('progress');\n",
       "      progress.max = size;\n",
       "      div.appendChild(progress);\n",
       "      document.body.appendChild(div);\n",
       "\n",
       "      const buffers = [];\n",
       "      let downloaded = 0;\n",
       "\n",
       "      const channel = await google.colab.kernel.comms.open(id);\n",
       "      // Send a message to notify the kernel that we're ready.\n",
       "      channel.send({})\n",
       "\n",
       "      for await (const message of channel.messages) {\n",
       "        // Send a message to notify the kernel that we're ready.\n",
       "        channel.send({})\n",
       "        if (message.buffers) {\n",
       "          for (const buffer of message.buffers) {\n",
       "            buffers.push(buffer);\n",
       "            downloaded += buffer.byteLength;\n",
       "            progress.value = downloaded;\n",
       "          }\n",
       "        }\n",
       "      }\n",
       "      const blob = new Blob(buffers, {type: 'application/binary'});\n",
       "      const a = document.createElement('a');\n",
       "      a.href = window.URL.createObjectURL(blob);\n",
       "      a.download = filename;\n",
       "      div.appendChild(a);\n",
       "      a.click();\n",
       "      div.remove();\n",
       "    }\n",
       "  "
      ],
      "text/plain": [
       "<IPython.core.display.Javascript object>"
      ]
     },
     "metadata": {},
     "output_type": "display_data"
    },
    {
     "data": {
      "application/javascript": [
       "download(\"download_ef10f574-56ac-4373-bbf8-d75b2f01be83\", \"infoxml_models.zip\", 835191531)"
      ],
      "text/plain": [
       "<IPython.core.display.Javascript object>"
      ]
     },
     "metadata": {},
     "output_type": "display_data"
    },
    {
     "data": {
      "application/javascript": [
       "\n",
       "    async function download(id, filename, size) {\n",
       "      if (!google.colab.kernel.accessAllowed) {\n",
       "        return;\n",
       "      }\n",
       "      const div = document.createElement('div');\n",
       "      const label = document.createElement('label');\n",
       "      label.textContent = `Downloading \"${filename}\": `;\n",
       "      div.appendChild(label);\n",
       "      const progress = document.createElement('progress');\n",
       "      progress.max = size;\n",
       "      div.appendChild(progress);\n",
       "      document.body.appendChild(div);\n",
       "\n",
       "      const buffers = [];\n",
       "      let downloaded = 0;\n",
       "\n",
       "      const channel = await google.colab.kernel.comms.open(id);\n",
       "      // Send a message to notify the kernel that we're ready.\n",
       "      channel.send({})\n",
       "\n",
       "      for await (const message of channel.messages) {\n",
       "        // Send a message to notify the kernel that we're ready.\n",
       "        channel.send({})\n",
       "        if (message.buffers) {\n",
       "          for (const buffer of message.buffers) {\n",
       "            buffers.push(buffer);\n",
       "            downloaded += buffer.byteLength;\n",
       "            progress.value = downloaded;\n",
       "          }\n",
       "        }\n",
       "      }\n",
       "      const blob = new Blob(buffers, {type: 'application/binary'});\n",
       "      const a = document.createElement('a');\n",
       "      a.href = window.URL.createObjectURL(blob);\n",
       "      a.download = filename;\n",
       "      div.appendChild(a);\n",
       "      a.click();\n",
       "      div.remove();\n",
       "    }\n",
       "  "
      ],
      "text/plain": [
       "<IPython.core.display.Javascript object>"
      ]
     },
     "metadata": {},
     "output_type": "display_data"
    },
    {
     "data": {
      "application/javascript": [
       "download(\"download_95c37be7-4c51-4bc3-aad4-bbc44b90556e\", \"infoxml_predictions.zip\", 70089)"
      ],
      "text/plain": [
       "<IPython.core.display.Javascript object>"
      ]
     },
     "metadata": {},
     "output_type": "display_data"
    }
   ],
   "source": [
    "from google.colab import files\n",
    "\n",
    "# Download the zipped folders\n",
    "files.download(\"infoxml_models.zip\")\n",
    "\n",
    "# Download the zipped predictions\n",
    "files.download(\"infoxml_predictions.zip\")\n"
   ]
  },
  {
   "cell_type": "code",
   "execution_count": null,
   "id": "KVhGTlqZprlZ",
   "metadata": {
    "id": "KVhGTlqZprlZ"
   },
   "outputs": [],
   "source": []
  }
 ],
 "metadata": {
  "accelerator": "GPU",
  "colab": {
   "gpuType": "T4",
   "provenance": []
  },
  "kernelspec": {
   "display_name": "Python 3.10 (Custom)",
   "language": "python",
   "name": "py310"
  },
  "language_info": {
   "codemirror_mode": {
    "name": "ipython",
    "version": 3
   },
   "file_extension": ".py",
   "mimetype": "text/x-python",
   "name": "python",
   "nbconvert_exporter": "python",
   "pygments_lexer": "ipython3",
   "version": "3.10.9"
  },
  "widgets": {
   "application/vnd.jupyter.widget-state+json": {
    "02ef8cccf8fd40c8a6d3eb3ac1a36d4a": {
     "model_module": "@jupyter-widgets/controls",
     "model_module_version": "1.5.0",
     "model_name": "DescriptionStyleModel",
     "state": {
      "_model_module": "@jupyter-widgets/controls",
      "_model_module_version": "1.5.0",
      "_model_name": "DescriptionStyleModel",
      "_view_count": null,
      "_view_module": "@jupyter-widgets/base",
      "_view_module_version": "1.2.0",
      "_view_name": "StyleView",
      "description_width": ""
     }
    },
    "05b100303c2842f39b5fece1368daed8": {
     "model_module": "@jupyter-widgets/controls",
     "model_module_version": "1.5.0",
     "model_name": "DescriptionStyleModel",
     "state": {
      "_model_module": "@jupyter-widgets/controls",
      "_model_module_version": "1.5.0",
      "_model_name": "DescriptionStyleModel",
      "_view_count": null,
      "_view_module": "@jupyter-widgets/base",
      "_view_module_version": "1.2.0",
      "_view_name": "StyleView",
      "description_width": ""
     }
    },
    "091fcc51af3a478e8cab7afb51f3ddb3": {
     "model_module": "@jupyter-widgets/controls",
     "model_module_version": "1.5.0",
     "model_name": "HTMLModel",
     "state": {
      "_dom_classes": [],
      "_model_module": "@jupyter-widgets/controls",
      "_model_module_version": "1.5.0",
      "_model_name": "HTMLModel",
      "_view_count": null,
      "_view_module": "@jupyter-widgets/controls",
      "_view_module_version": "1.5.0",
      "_view_name": "HTMLView",
      "description": "",
      "description_tooltip": null,
      "layout": "IPY_MODEL_a2f1c8b42932437ab79774413d0cd06c",
      "placeholder": "​",
      "style": "IPY_MODEL_d523054854e94f64adc39e4250e8c9de",
      "value": "sentencepiece.bpe.model: 100%"
     }
    },
    "0992cec442764791acaf1128de002e53": {
     "model_module": "@jupyter-widgets/base",
     "model_module_version": "1.2.0",
     "model_name": "LayoutModel",
     "state": {
      "_model_module": "@jupyter-widgets/base",
      "_model_module_version": "1.2.0",
      "_model_name": "LayoutModel",
      "_view_count": null,
      "_view_module": "@jupyter-widgets/base",
      "_view_module_version": "1.2.0",
      "_view_name": "LayoutView",
      "align_content": null,
      "align_items": null,
      "align_self": null,
      "border": null,
      "bottom": null,
      "display": null,
      "flex": null,
      "flex_flow": null,
      "grid_area": null,
      "grid_auto_columns": null,
      "grid_auto_flow": null,
      "grid_auto_rows": null,
      "grid_column": null,
      "grid_gap": null,
      "grid_row": null,
      "grid_template_areas": null,
      "grid_template_columns": null,
      "grid_template_rows": null,
      "height": null,
      "justify_content": null,
      "justify_items": null,
      "left": null,
      "margin": null,
      "max_height": null,
      "max_width": null,
      "min_height": null,
      "min_width": null,
      "object_fit": null,
      "object_position": null,
      "order": null,
      "overflow": null,
      "overflow_x": null,
      "overflow_y": null,
      "padding": null,
      "right": null,
      "top": null,
      "visibility": null,
      "width": null
     }
    },
    "0a405cb1fb1e43beb042c9a778889e22": {
     "model_module": "@jupyter-widgets/controls",
     "model_module_version": "1.5.0",
     "model_name": "HBoxModel",
     "state": {
      "_dom_classes": [],
      "_model_module": "@jupyter-widgets/controls",
      "_model_module_version": "1.5.0",
      "_model_name": "HBoxModel",
      "_view_count": null,
      "_view_module": "@jupyter-widgets/controls",
      "_view_module_version": "1.5.0",
      "_view_name": "HBoxView",
      "box_style": "",
      "children": [
       "IPY_MODEL_da86b37393de4c7e92e4245069c8d2d9",
       "IPY_MODEL_7205c1ce06804e648feafb3c5822c0fb",
       "IPY_MODEL_50c0ae0d03fa44b6b8ae7c51bcf2a970"
      ],
      "layout": "IPY_MODEL_e2b4d443cb884204ba4377b53c7161e0"
     }
    },
    "0a7396cd42464e5792c8e503215b5873": {
     "model_module": "@jupyter-widgets/controls",
     "model_module_version": "1.5.0",
     "model_name": "DescriptionStyleModel",
     "state": {
      "_model_module": "@jupyter-widgets/controls",
      "_model_module_version": "1.5.0",
      "_model_name": "DescriptionStyleModel",
      "_view_count": null,
      "_view_module": "@jupyter-widgets/base",
      "_view_module_version": "1.2.0",
      "_view_name": "StyleView",
      "description_width": ""
     }
    },
    "0aab315928d94dcfba49cc123da53222": {
     "model_module": "@jupyter-widgets/controls",
     "model_module_version": "1.5.0",
     "model_name": "HTMLModel",
     "state": {
      "_dom_classes": [],
      "_model_module": "@jupyter-widgets/controls",
      "_model_module_version": "1.5.0",
      "_model_name": "HTMLModel",
      "_view_count": null,
      "_view_module": "@jupyter-widgets/controls",
      "_view_module_version": "1.5.0",
      "_view_name": "HTMLView",
      "description": "",
      "description_tooltip": null,
      "layout": "IPY_MODEL_c725c5f7e7fa4a4bb5954cc933aa1819",
      "placeholder": "​",
      "style": "IPY_MODEL_6eadf165619e4d349b5322fad07b86a5",
      "value": " 5.07M/5.07M [00:00&lt;00:00, 14.1MB/s]"
     }
    },
    "1004051f5d0d44e496c0e6c00a583f9e": {
     "model_module": "@jupyter-widgets/controls",
     "model_module_version": "1.5.0",
     "model_name": "DescriptionStyleModel",
     "state": {
      "_model_module": "@jupyter-widgets/controls",
      "_model_module_version": "1.5.0",
      "_model_name": "DescriptionStyleModel",
      "_view_count": null,
      "_view_module": "@jupyter-widgets/base",
      "_view_module_version": "1.2.0",
      "_view_name": "StyleView",
      "description_width": ""
     }
    },
    "1169098d053f461a8fd73db487aadf54": {
     "model_module": "@jupyter-widgets/controls",
     "model_module_version": "1.5.0",
     "model_name": "DescriptionStyleModel",
     "state": {
      "_model_module": "@jupyter-widgets/controls",
      "_model_module_version": "1.5.0",
      "_model_name": "DescriptionStyleModel",
      "_view_count": null,
      "_view_module": "@jupyter-widgets/base",
      "_view_module_version": "1.2.0",
      "_view_name": "StyleView",
      "description_width": ""
     }
    },
    "11fc856a664e4464abf8c552bac1922f": {
     "model_module": "@jupyter-widgets/controls",
     "model_module_version": "1.5.0",
     "model_name": "DescriptionStyleModel",
     "state": {
      "_model_module": "@jupyter-widgets/controls",
      "_model_module_version": "1.5.0",
      "_model_name": "DescriptionStyleModel",
      "_view_count": null,
      "_view_module": "@jupyter-widgets/base",
      "_view_module_version": "1.2.0",
      "_view_name": "StyleView",
      "description_width": ""
     }
    },
    "1304ece3bef0474ab93210955e6859a9": {
     "model_module": "@jupyter-widgets/base",
     "model_module_version": "1.2.0",
     "model_name": "LayoutModel",
     "state": {
      "_model_module": "@jupyter-widgets/base",
      "_model_module_version": "1.2.0",
      "_model_name": "LayoutModel",
      "_view_count": null,
      "_view_module": "@jupyter-widgets/base",
      "_view_module_version": "1.2.0",
      "_view_name": "LayoutView",
      "align_content": null,
      "align_items": null,
      "align_self": null,
      "border": null,
      "bottom": null,
      "display": null,
      "flex": null,
      "flex_flow": null,
      "grid_area": null,
      "grid_auto_columns": null,
      "grid_auto_flow": null,
      "grid_auto_rows": null,
      "grid_column": null,
      "grid_gap": null,
      "grid_row": null,
      "grid_template_areas": null,
      "grid_template_columns": null,
      "grid_template_rows": null,
      "height": null,
      "justify_content": null,
      "justify_items": null,
      "left": null,
      "margin": null,
      "max_height": null,
      "max_width": null,
      "min_height": null,
      "min_width": null,
      "object_fit": null,
      "object_position": null,
      "order": null,
      "overflow": null,
      "overflow_x": null,
      "overflow_y": null,
      "padding": null,
      "right": null,
      "top": null,
      "visibility": null,
      "width": null
     }
    },
    "13453f14cddf435fbf14144071fb2327": {
     "model_module": "@jupyter-widgets/controls",
     "model_module_version": "1.5.0",
     "model_name": "FloatProgressModel",
     "state": {
      "_dom_classes": [],
      "_model_module": "@jupyter-widgets/controls",
      "_model_module_version": "1.5.0",
      "_model_name": "FloatProgressModel",
      "_view_count": null,
      "_view_module": "@jupyter-widgets/controls",
      "_view_module_version": "1.5.0",
      "_view_name": "ProgressView",
      "bar_style": "success",
      "description": "",
      "description_tooltip": null,
      "layout": "IPY_MODEL_cbd280482cd34a86bfe74e7040e3f592",
      "max": 299,
      "min": 0,
      "orientation": "horizontal",
      "style": "IPY_MODEL_dc53db7dfae749fc89986a57484b23f4",
      "value": 299
     }
    },
    "137b89a7e28649189fc791cbb40b1678": {
     "model_module": "@jupyter-widgets/controls",
     "model_module_version": "1.5.0",
     "model_name": "HBoxModel",
     "state": {
      "_dom_classes": [],
      "_model_module": "@jupyter-widgets/controls",
      "_model_module_version": "1.5.0",
      "_model_name": "HBoxModel",
      "_view_count": null,
      "_view_module": "@jupyter-widgets/controls",
      "_view_module_version": "1.5.0",
      "_view_name": "HBoxView",
      "box_style": "",
      "children": [
       "IPY_MODEL_1feaffc2ae9d4952bcea181afb6b966c",
       "IPY_MODEL_1a15e0213033497cb12acae67182e3f2",
       "IPY_MODEL_c26eb271c3a54331bb911b55daf05562"
      ],
      "layout": "IPY_MODEL_0992cec442764791acaf1128de002e53"
     }
    },
    "13928ba4c75042129294640bb22e4aa5": {
     "model_module": "@jupyter-widgets/controls",
     "model_module_version": "1.5.0",
     "model_name": "ProgressStyleModel",
     "state": {
      "_model_module": "@jupyter-widgets/controls",
      "_model_module_version": "1.5.0",
      "_model_name": "ProgressStyleModel",
      "_view_count": null,
      "_view_module": "@jupyter-widgets/base",
      "_view_module_version": "1.2.0",
      "_view_name": "StyleView",
      "bar_color": null,
      "description_width": ""
     }
    },
    "14c335745cf94f8fb364fc90b1486916": {
     "model_module": "@jupyter-widgets/base",
     "model_module_version": "1.2.0",
     "model_name": "LayoutModel",
     "state": {
      "_model_module": "@jupyter-widgets/base",
      "_model_module_version": "1.2.0",
      "_model_name": "LayoutModel",
      "_view_count": null,
      "_view_module": "@jupyter-widgets/base",
      "_view_module_version": "1.2.0",
      "_view_name": "LayoutView",
      "align_content": null,
      "align_items": null,
      "align_self": null,
      "border": null,
      "bottom": null,
      "display": null,
      "flex": null,
      "flex_flow": null,
      "grid_area": null,
      "grid_auto_columns": null,
      "grid_auto_flow": null,
      "grid_auto_rows": null,
      "grid_column": null,
      "grid_gap": null,
      "grid_row": null,
      "grid_template_areas": null,
      "grid_template_columns": null,
      "grid_template_rows": null,
      "height": null,
      "justify_content": null,
      "justify_items": null,
      "left": null,
      "margin": null,
      "max_height": null,
      "max_width": null,
      "min_height": null,
      "min_width": null,
      "object_fit": null,
      "object_position": null,
      "order": null,
      "overflow": null,
      "overflow_x": null,
      "overflow_y": null,
      "padding": null,
      "right": null,
      "top": null,
      "visibility": null,
      "width": null
     }
    },
    "15aedb64dcf74c38bbe1ba93ad04ccf3": {
     "model_module": "@jupyter-widgets/base",
     "model_module_version": "1.2.0",
     "model_name": "LayoutModel",
     "state": {
      "_model_module": "@jupyter-widgets/base",
      "_model_module_version": "1.2.0",
      "_model_name": "LayoutModel",
      "_view_count": null,
      "_view_module": "@jupyter-widgets/base",
      "_view_module_version": "1.2.0",
      "_view_name": "LayoutView",
      "align_content": null,
      "align_items": null,
      "align_self": null,
      "border": null,
      "bottom": null,
      "display": null,
      "flex": null,
      "flex_flow": null,
      "grid_area": null,
      "grid_auto_columns": null,
      "grid_auto_flow": null,
      "grid_auto_rows": null,
      "grid_column": null,
      "grid_gap": null,
      "grid_row": null,
      "grid_template_areas": null,
      "grid_template_columns": null,
      "grid_template_rows": null,
      "height": null,
      "justify_content": null,
      "justify_items": null,
      "left": null,
      "margin": null,
      "max_height": null,
      "max_width": null,
      "min_height": null,
      "min_width": null,
      "object_fit": null,
      "object_position": null,
      "order": null,
      "overflow": null,
      "overflow_x": null,
      "overflow_y": null,
      "padding": null,
      "right": null,
      "top": null,
      "visibility": null,
      "width": null
     }
    },
    "1687fb61f1d14f0eb99f451c51fc1f37": {
     "model_module": "@jupyter-widgets/controls",
     "model_module_version": "1.5.0",
     "model_name": "FloatProgressModel",
     "state": {
      "_dom_classes": [],
      "_model_module": "@jupyter-widgets/controls",
      "_model_module_version": "1.5.0",
      "_model_name": "FloatProgressModel",
      "_view_count": null,
      "_view_module": "@jupyter-widgets/controls",
      "_view_module_version": "1.5.0",
      "_view_name": "ProgressView",
      "bar_style": "success",
      "description": "",
      "description_tooltip": null,
      "layout": "IPY_MODEL_5702aba2c59c4d5b94dc121b9c4cc323",
      "max": 9096718,
      "min": 0,
      "orientation": "horizontal",
      "style": "IPY_MODEL_b9f54dd2d27743e98bba36c8d36c2e10",
      "value": 9096718
     }
    },
    "179c4fadfffe4022a2d8713ad4369267": {
     "model_module": "@jupyter-widgets/controls",
     "model_module_version": "1.5.0",
     "model_name": "DescriptionStyleModel",
     "state": {
      "_model_module": "@jupyter-widgets/controls",
      "_model_module_version": "1.5.0",
      "_model_name": "DescriptionStyleModel",
      "_view_count": null,
      "_view_module": "@jupyter-widgets/base",
      "_view_module_version": "1.2.0",
      "_view_name": "StyleView",
      "description_width": ""
     }
    },
    "187abf4c7e0342f5b61fbe985a3bf881": {
     "model_module": "@jupyter-widgets/controls",
     "model_module_version": "1.5.0",
     "model_name": "HBoxModel",
     "state": {
      "_dom_classes": [],
      "_model_module": "@jupyter-widgets/controls",
      "_model_module_version": "1.5.0",
      "_model_name": "HBoxModel",
      "_view_count": null,
      "_view_module": "@jupyter-widgets/controls",
      "_view_module_version": "1.5.0",
      "_view_name": "HBoxView",
      "box_style": "",
      "children": [
       "IPY_MODEL_a570ad57258c446289d3793b94038661",
       "IPY_MODEL_56edd9cff6184f52a687fb6f4334faf3",
       "IPY_MODEL_5636ce4fabc949829aecff3edaec5642"
      ],
      "layout": "IPY_MODEL_d656337f85f246de94f190224c4e6587"
     }
    },
    "1a0bc6f2c25a4565bfe69d79517f1806": {
     "model_module": "@jupyter-widgets/controls",
     "model_module_version": "1.5.0",
     "model_name": "DescriptionStyleModel",
     "state": {
      "_model_module": "@jupyter-widgets/controls",
      "_model_module_version": "1.5.0",
      "_model_name": "DescriptionStyleModel",
      "_view_count": null,
      "_view_module": "@jupyter-widgets/base",
      "_view_module_version": "1.2.0",
      "_view_name": "StyleView",
      "description_width": ""
     }
    },
    "1a15e0213033497cb12acae67182e3f2": {
     "model_module": "@jupyter-widgets/controls",
     "model_module_version": "1.5.0",
     "model_name": "FloatProgressModel",
     "state": {
      "_dom_classes": [],
      "_model_module": "@jupyter-widgets/controls",
      "_model_module_version": "1.5.0",
      "_model_name": "FloatProgressModel",
      "_view_count": null,
      "_view_module": "@jupyter-widgets/controls",
      "_view_module_version": "1.5.0",
      "_view_name": "ProgressView",
      "bar_style": "success",
      "description": "",
      "description_tooltip": null,
      "layout": "IPY_MODEL_e50b1be87b1746c0b18acfe630596689",
      "max": 297,
      "min": 0,
      "orientation": "horizontal",
      "style": "IPY_MODEL_636a845d84b6400daeda827613fad8a9",
      "value": 297
     }
    },
    "1b858cce2099410190d99d75470d57d2": {
     "model_module": "@jupyter-widgets/controls",
     "model_module_version": "1.5.0",
     "model_name": "HBoxModel",
     "state": {
      "_dom_classes": [],
      "_model_module": "@jupyter-widgets/controls",
      "_model_module_version": "1.5.0",
      "_model_name": "HBoxModel",
      "_view_count": null,
      "_view_module": "@jupyter-widgets/controls",
      "_view_module_version": "1.5.0",
      "_view_name": "HBoxView",
      "box_style": "",
      "children": [
       "IPY_MODEL_5e3108583e63472cae4161354af30971",
       "IPY_MODEL_1f3dd8e5eed04b8a8c55b1fa1978160c",
       "IPY_MODEL_4970604c9f6c46be89fe199de11130e3"
      ],
      "layout": "IPY_MODEL_6cd4db2a79214f038f31b6484210f23c"
     }
    },
    "1f3dd8e5eed04b8a8c55b1fa1978160c": {
     "model_module": "@jupyter-widgets/controls",
     "model_module_version": "1.5.0",
     "model_name": "FloatProgressModel",
     "state": {
      "_dom_classes": [],
      "_model_module": "@jupyter-widgets/controls",
      "_model_module_version": "1.5.0",
      "_model_name": "FloatProgressModel",
      "_view_count": null,
      "_view_module": "@jupyter-widgets/controls",
      "_view_module_version": "1.5.0",
      "_view_name": "ProgressView",
      "bar_style": "success",
      "description": "",
      "description_tooltip": null,
      "layout": "IPY_MODEL_fecf531a2c9f485daee848e263bc4c0a",
      "max": 830,
      "min": 0,
      "orientation": "horizontal",
      "style": "IPY_MODEL_2bdf3c77c472459291ce2ee3fa25a2b7",
      "value": 830
     }
    },
    "1feaffc2ae9d4952bcea181afb6b966c": {
     "model_module": "@jupyter-widgets/controls",
     "model_module_version": "1.5.0",
     "model_name": "HTMLModel",
     "state": {
      "_dom_classes": [],
      "_model_module": "@jupyter-widgets/controls",
      "_model_module_version": "1.5.0",
      "_model_name": "HTMLModel",
      "_view_count": null,
      "_view_module": "@jupyter-widgets/controls",
      "_view_module_version": "1.5.0",
      "_view_name": "HTMLView",
      "description": "",
      "description_tooltip": null,
      "layout": "IPY_MODEL_a0f81f6446d8495384af51ab64454b02",
      "placeholder": "​",
      "style": "IPY_MODEL_1004051f5d0d44e496c0e6c00a583f9e",
      "value": "Map: 100%"
     }
    },
    "1feefa33dd434a7e954c49b8b32d09f7": {
     "model_module": "@jupyter-widgets/controls",
     "model_module_version": "1.5.0",
     "model_name": "FloatProgressModel",
     "state": {
      "_dom_classes": [],
      "_model_module": "@jupyter-widgets/controls",
      "_model_module_version": "1.5.0",
      "_model_name": "FloatProgressModel",
      "_view_count": null,
      "_view_module": "@jupyter-widgets/controls",
      "_view_module_version": "1.5.0",
      "_view_name": "ProgressView",
      "bar_style": "success",
      "description": "",
      "description_tooltip": null,
      "layout": "IPY_MODEL_b7a0f03543cb491e9f88c354e76ad9f2",
      "max": 282,
      "min": 0,
      "orientation": "horizontal",
      "style": "IPY_MODEL_e6633db246274bd8a084a0d207e20f46",
      "value": 282
     }
    },
    "20a2ae159ab24279b4e77e15ecf1c02e": {
     "model_module": "@jupyter-widgets/base",
     "model_module_version": "1.2.0",
     "model_name": "LayoutModel",
     "state": {
      "_model_module": "@jupyter-widgets/base",
      "_model_module_version": "1.2.0",
      "_model_name": "LayoutModel",
      "_view_count": null,
      "_view_module": "@jupyter-widgets/base",
      "_view_module_version": "1.2.0",
      "_view_name": "LayoutView",
      "align_content": null,
      "align_items": null,
      "align_self": null,
      "border": null,
      "bottom": null,
      "display": null,
      "flex": null,
      "flex_flow": null,
      "grid_area": null,
      "grid_auto_columns": null,
      "grid_auto_flow": null,
      "grid_auto_rows": null,
      "grid_column": null,
      "grid_gap": null,
      "grid_row": null,
      "grid_template_areas": null,
      "grid_template_columns": null,
      "grid_template_rows": null,
      "height": null,
      "justify_content": null,
      "justify_items": null,
      "left": null,
      "margin": null,
      "max_height": null,
      "max_width": null,
      "min_height": null,
      "min_width": null,
      "object_fit": null,
      "object_position": null,
      "order": null,
      "overflow": null,
      "overflow_x": null,
      "overflow_y": null,
      "padding": null,
      "right": null,
      "top": null,
      "visibility": null,
      "width": null
     }
    },
    "21e0e9580423481f9ce1034051c86961": {
     "model_module": "@jupyter-widgets/base",
     "model_module_version": "1.2.0",
     "model_name": "LayoutModel",
     "state": {
      "_model_module": "@jupyter-widgets/base",
      "_model_module_version": "1.2.0",
      "_model_name": "LayoutModel",
      "_view_count": null,
      "_view_module": "@jupyter-widgets/base",
      "_view_module_version": "1.2.0",
      "_view_name": "LayoutView",
      "align_content": null,
      "align_items": null,
      "align_self": null,
      "border": null,
      "bottom": null,
      "display": null,
      "flex": null,
      "flex_flow": null,
      "grid_area": null,
      "grid_auto_columns": null,
      "grid_auto_flow": null,
      "grid_auto_rows": null,
      "grid_column": null,
      "grid_gap": null,
      "grid_row": null,
      "grid_template_areas": null,
      "grid_template_columns": null,
      "grid_template_rows": null,
      "height": null,
      "justify_content": null,
      "justify_items": null,
      "left": null,
      "margin": null,
      "max_height": null,
      "max_width": null,
      "min_height": null,
      "min_width": null,
      "object_fit": null,
      "object_position": null,
      "order": null,
      "overflow": null,
      "overflow_x": null,
      "overflow_y": null,
      "padding": null,
      "right": null,
      "top": null,
      "visibility": null,
      "width": null
     }
    },
    "21e77b96adfb45bdb84acdf688c15eb6": {
     "model_module": "@jupyter-widgets/base",
     "model_module_version": "1.2.0",
     "model_name": "LayoutModel",
     "state": {
      "_model_module": "@jupyter-widgets/base",
      "_model_module_version": "1.2.0",
      "_model_name": "LayoutModel",
      "_view_count": null,
      "_view_module": "@jupyter-widgets/base",
      "_view_module_version": "1.2.0",
      "_view_name": "LayoutView",
      "align_content": null,
      "align_items": null,
      "align_self": null,
      "border": null,
      "bottom": null,
      "display": null,
      "flex": null,
      "flex_flow": null,
      "grid_area": null,
      "grid_auto_columns": null,
      "grid_auto_flow": null,
      "grid_auto_rows": null,
      "grid_column": null,
      "grid_gap": null,
      "grid_row": null,
      "grid_template_areas": null,
      "grid_template_columns": null,
      "grid_template_rows": null,
      "height": null,
      "justify_content": null,
      "justify_items": null,
      "left": null,
      "margin": null,
      "max_height": null,
      "max_width": null,
      "min_height": null,
      "min_width": null,
      "object_fit": null,
      "object_position": null,
      "order": null,
      "overflow": null,
      "overflow_x": null,
      "overflow_y": null,
      "padding": null,
      "right": null,
      "top": null,
      "visibility": null,
      "width": null
     }
    },
    "22ec2f2846f6400884c897e5467b29a7": {
     "model_module": "@jupyter-widgets/controls",
     "model_module_version": "1.5.0",
     "model_name": "DescriptionStyleModel",
     "state": {
      "_model_module": "@jupyter-widgets/controls",
      "_model_module_version": "1.5.0",
      "_model_name": "DescriptionStyleModel",
      "_view_count": null,
      "_view_module": "@jupyter-widgets/base",
      "_view_module_version": "1.2.0",
      "_view_name": "StyleView",
      "description_width": ""
     }
    },
    "23136030df2e489493fc9e90f6fba534": {
     "model_module": "@jupyter-widgets/controls",
     "model_module_version": "1.5.0",
     "model_name": "DescriptionStyleModel",
     "state": {
      "_model_module": "@jupyter-widgets/controls",
      "_model_module_version": "1.5.0",
      "_model_name": "DescriptionStyleModel",
      "_view_count": null,
      "_view_module": "@jupyter-widgets/base",
      "_view_module_version": "1.2.0",
      "_view_name": "StyleView",
      "description_width": ""
     }
    },
    "2676cb76ecdd4f6aa32245bae24243a2": {
     "model_module": "@jupyter-widgets/controls",
     "model_module_version": "1.5.0",
     "model_name": "DescriptionStyleModel",
     "state": {
      "_model_module": "@jupyter-widgets/controls",
      "_model_module_version": "1.5.0",
      "_model_name": "DescriptionStyleModel",
      "_view_count": null,
      "_view_module": "@jupyter-widgets/base",
      "_view_module_version": "1.2.0",
      "_view_name": "StyleView",
      "description_width": ""
     }
    },
    "274197ff7e644d2a8d858aa699eb409e": {
     "model_module": "@jupyter-widgets/base",
     "model_module_version": "1.2.0",
     "model_name": "LayoutModel",
     "state": {
      "_model_module": "@jupyter-widgets/base",
      "_model_module_version": "1.2.0",
      "_model_name": "LayoutModel",
      "_view_count": null,
      "_view_module": "@jupyter-widgets/base",
      "_view_module_version": "1.2.0",
      "_view_name": "LayoutView",
      "align_content": null,
      "align_items": null,
      "align_self": null,
      "border": null,
      "bottom": null,
      "display": null,
      "flex": null,
      "flex_flow": null,
      "grid_area": null,
      "grid_auto_columns": null,
      "grid_auto_flow": null,
      "grid_auto_rows": null,
      "grid_column": null,
      "grid_gap": null,
      "grid_row": null,
      "grid_template_areas": null,
      "grid_template_columns": null,
      "grid_template_rows": null,
      "height": null,
      "justify_content": null,
      "justify_items": null,
      "left": null,
      "margin": null,
      "max_height": null,
      "max_width": null,
      "min_height": null,
      "min_width": null,
      "object_fit": null,
      "object_position": null,
      "order": null,
      "overflow": null,
      "overflow_x": null,
      "overflow_y": null,
      "padding": null,
      "right": null,
      "top": null,
      "visibility": null,
      "width": null
     }
    },
    "27f75c7a418a4edb80c9ed64ddfc69de": {
     "model_module": "@jupyter-widgets/controls",
     "model_module_version": "1.5.0",
     "model_name": "HTMLModel",
     "state": {
      "_dom_classes": [],
      "_model_module": "@jupyter-widgets/controls",
      "_model_module_version": "1.5.0",
      "_model_name": "HTMLModel",
      "_view_count": null,
      "_view_module": "@jupyter-widgets/controls",
      "_view_module_version": "1.5.0",
      "_view_name": "HTMLView",
      "description": "",
      "description_tooltip": null,
      "layout": "IPY_MODEL_20a2ae159ab24279b4e77e15ecf1c02e",
      "placeholder": "​",
      "style": "IPY_MODEL_1a0bc6f2c25a4565bfe69d79517f1806",
      "value": " 1982/1982 [00:01&lt;00:00, 1095.01 examples/s]"
     }
    },
    "29702b08b3e84dc2837e60a5a1f285a5": {
     "model_module": "@jupyter-widgets/controls",
     "model_module_version": "1.5.0",
     "model_name": "ProgressStyleModel",
     "state": {
      "_model_module": "@jupyter-widgets/controls",
      "_model_module_version": "1.5.0",
      "_model_name": "ProgressStyleModel",
      "_view_count": null,
      "_view_module": "@jupyter-widgets/base",
      "_view_module_version": "1.2.0",
      "_view_name": "StyleView",
      "bar_color": null,
      "description_width": ""
     }
    },
    "29fa76d000bb4d8c9897850ab95e7cc6": {
     "model_module": "@jupyter-widgets/controls",
     "model_module_version": "1.5.0",
     "model_name": "HTMLModel",
     "state": {
      "_dom_classes": [],
      "_model_module": "@jupyter-widgets/controls",
      "_model_module_version": "1.5.0",
      "_model_name": "HTMLModel",
      "_view_count": null,
      "_view_module": "@jupyter-widgets/controls",
      "_view_module_version": "1.5.0",
      "_view_name": "HTMLView",
      "description": "",
      "description_tooltip": null,
      "layout": "IPY_MODEL_77534dd7709c494c8c682b11c74c0341",
      "placeholder": "​",
      "style": "IPY_MODEL_179c4fadfffe4022a2d8713ad4369267",
      "value": " 299/299 [00:00&lt;00:00, 3112.96 examples/s]"
     }
    },
    "2a9200954a264506a81c86da8edeb195": {
     "model_module": "@jupyter-widgets/base",
     "model_module_version": "1.2.0",
     "model_name": "LayoutModel",
     "state": {
      "_model_module": "@jupyter-widgets/base",
      "_model_module_version": "1.2.0",
      "_model_name": "LayoutModel",
      "_view_count": null,
      "_view_module": "@jupyter-widgets/base",
      "_view_module_version": "1.2.0",
      "_view_name": "LayoutView",
      "align_content": null,
      "align_items": null,
      "align_self": null,
      "border": null,
      "bottom": null,
      "display": null,
      "flex": null,
      "flex_flow": null,
      "grid_area": null,
      "grid_auto_columns": null,
      "grid_auto_flow": null,
      "grid_auto_rows": null,
      "grid_column": null,
      "grid_gap": null,
      "grid_row": null,
      "grid_template_areas": null,
      "grid_template_columns": null,
      "grid_template_rows": null,
      "height": null,
      "justify_content": null,
      "justify_items": null,
      "left": null,
      "margin": null,
      "max_height": null,
      "max_width": null,
      "min_height": null,
      "min_width": null,
      "object_fit": null,
      "object_position": null,
      "order": null,
      "overflow": null,
      "overflow_x": null,
      "overflow_y": null,
      "padding": null,
      "right": null,
      "top": null,
      "visibility": null,
      "width": null
     }
    },
    "2bdf3c77c472459291ce2ee3fa25a2b7": {
     "model_module": "@jupyter-widgets/controls",
     "model_module_version": "1.5.0",
     "model_name": "ProgressStyleModel",
     "state": {
      "_model_module": "@jupyter-widgets/controls",
      "_model_module_version": "1.5.0",
      "_model_name": "ProgressStyleModel",
      "_view_count": null,
      "_view_module": "@jupyter-widgets/base",
      "_view_module_version": "1.2.0",
      "_view_name": "StyleView",
      "bar_color": null,
      "description_width": ""
     }
    },
    "2c85860013514be2809b48f1a650e98c": {
     "model_module": "@jupyter-widgets/base",
     "model_module_version": "1.2.0",
     "model_name": "LayoutModel",
     "state": {
      "_model_module": "@jupyter-widgets/base",
      "_model_module_version": "1.2.0",
      "_model_name": "LayoutModel",
      "_view_count": null,
      "_view_module": "@jupyter-widgets/base",
      "_view_module_version": "1.2.0",
      "_view_name": "LayoutView",
      "align_content": null,
      "align_items": null,
      "align_self": null,
      "border": null,
      "bottom": null,
      "display": null,
      "flex": null,
      "flex_flow": null,
      "grid_area": null,
      "grid_auto_columns": null,
      "grid_auto_flow": null,
      "grid_auto_rows": null,
      "grid_column": null,
      "grid_gap": null,
      "grid_row": null,
      "grid_template_areas": null,
      "grid_template_columns": null,
      "grid_template_rows": null,
      "height": null,
      "justify_content": null,
      "justify_items": null,
      "left": null,
      "margin": null,
      "max_height": null,
      "max_width": null,
      "min_height": null,
      "min_width": null,
      "object_fit": null,
      "object_position": null,
      "order": null,
      "overflow": null,
      "overflow_x": null,
      "overflow_y": null,
      "padding": null,
      "right": null,
      "top": null,
      "visibility": null,
      "width": null
     }
    },
    "2c8a6ce1199b4a5b93f1077950a7d049": {
     "model_module": "@jupyter-widgets/controls",
     "model_module_version": "1.5.0",
     "model_name": "HTMLModel",
     "state": {
      "_dom_classes": [],
      "_model_module": "@jupyter-widgets/controls",
      "_model_module_version": "1.5.0",
      "_model_name": "HTMLModel",
      "_view_count": null,
      "_view_module": "@jupyter-widgets/controls",
      "_view_module_version": "1.5.0",
      "_view_name": "HTMLView",
      "description": "",
      "description_tooltip": null,
      "layout": "IPY_MODEL_3d23ada8739f49bd90ef98dee85b89ee",
      "placeholder": "​",
      "style": "IPY_MODEL_33ad4fcad8124091a530a3c5fc3a39c0",
      "value": "Map: 100%"
     }
    },
    "2d29954e917141d596f7bc730c66844f": {
     "model_module": "@jupyter-widgets/base",
     "model_module_version": "1.2.0",
     "model_name": "LayoutModel",
     "state": {
      "_model_module": "@jupyter-widgets/base",
      "_model_module_version": "1.2.0",
      "_model_name": "LayoutModel",
      "_view_count": null,
      "_view_module": "@jupyter-widgets/base",
      "_view_module_version": "1.2.0",
      "_view_name": "LayoutView",
      "align_content": null,
      "align_items": null,
      "align_self": null,
      "border": null,
      "bottom": null,
      "display": null,
      "flex": null,
      "flex_flow": null,
      "grid_area": null,
      "grid_auto_columns": null,
      "grid_auto_flow": null,
      "grid_auto_rows": null,
      "grid_column": null,
      "grid_gap": null,
      "grid_row": null,
      "grid_template_areas": null,
      "grid_template_columns": null,
      "grid_template_rows": null,
      "height": null,
      "justify_content": null,
      "justify_items": null,
      "left": null,
      "margin": null,
      "max_height": null,
      "max_width": null,
      "min_height": null,
      "min_width": null,
      "object_fit": null,
      "object_position": null,
      "order": null,
      "overflow": null,
      "overflow_x": null,
      "overflow_y": null,
      "padding": null,
      "right": null,
      "top": null,
      "visibility": null,
      "width": null
     }
    },
    "2da7a73ae4bf4df7af31083fbbf5c7f2": {
     "model_module": "@jupyter-widgets/controls",
     "model_module_version": "1.5.0",
     "model_name": "ProgressStyleModel",
     "state": {
      "_model_module": "@jupyter-widgets/controls",
      "_model_module_version": "1.5.0",
      "_model_name": "ProgressStyleModel",
      "_view_count": null,
      "_view_module": "@jupyter-widgets/base",
      "_view_module_version": "1.2.0",
      "_view_name": "StyleView",
      "bar_color": null,
      "description_width": ""
     }
    },
    "2f857f20a8d140f9b36a259555d0e518": {
     "model_module": "@jupyter-widgets/controls",
     "model_module_version": "1.5.0",
     "model_name": "HBoxModel",
     "state": {
      "_dom_classes": [],
      "_model_module": "@jupyter-widgets/controls",
      "_model_module_version": "1.5.0",
      "_model_name": "HBoxModel",
      "_view_count": null,
      "_view_module": "@jupyter-widgets/controls",
      "_view_module_version": "1.5.0",
      "_view_name": "HBoxView",
      "box_style": "",
      "children": [
       "IPY_MODEL_7e70934fe1474b0ebe6ebf47d7cb38a2",
       "IPY_MODEL_badcbac18a6f4e6ab4caa5e5ebbd24f9",
       "IPY_MODEL_27f75c7a418a4edb80c9ed64ddfc69de"
      ],
      "layout": "IPY_MODEL_4f2badf48f7b40daa51cb2f0c4fd393e"
     }
    },
    "305bb4ce12ef4533939267964b66394b": {
     "model_module": "@jupyter-widgets/controls",
     "model_module_version": "1.5.0",
     "model_name": "HTMLModel",
     "state": {
      "_dom_classes": [],
      "_model_module": "@jupyter-widgets/controls",
      "_model_module_version": "1.5.0",
      "_model_name": "HTMLModel",
      "_view_count": null,
      "_view_module": "@jupyter-widgets/controls",
      "_view_module_version": "1.5.0",
      "_view_name": "HTMLView",
      "description": "",
      "description_tooltip": null,
      "layout": "IPY_MODEL_91a0e290e626423ba418aaf73986551e",
      "placeholder": "​",
      "style": "IPY_MODEL_05b100303c2842f39b5fece1368daed8",
      "value": "tokenizer.json: 100%"
     }
    },
    "30a5a1ee141a4d7fb6ec6c90030e7d8a": {
     "model_module": "@jupyter-widgets/controls",
     "model_module_version": "1.5.0",
     "model_name": "HBoxModel",
     "state": {
      "_dom_classes": [],
      "_model_module": "@jupyter-widgets/controls",
      "_model_module_version": "1.5.0",
      "_model_name": "HBoxModel",
      "_view_count": null,
      "_view_module": "@jupyter-widgets/controls",
      "_view_module_version": "1.5.0",
      "_view_name": "HBoxView",
      "box_style": "",
      "children": [
       "IPY_MODEL_2c8a6ce1199b4a5b93f1077950a7d049",
       "IPY_MODEL_b1e47c4fba8940388a8395c405870c54",
       "IPY_MODEL_bf815138cc614f65a39417888fdf22d7"
      ],
      "layout": "IPY_MODEL_15aedb64dcf74c38bbe1ba93ad04ccf3"
     }
    },
    "32f40acd8b134b479a9a3a05dc80680d": {
     "model_module": "@jupyter-widgets/controls",
     "model_module_version": "1.5.0",
     "model_name": "FloatProgressModel",
     "state": {
      "_dom_classes": [],
      "_model_module": "@jupyter-widgets/controls",
      "_model_module_version": "1.5.0",
      "_model_name": "FloatProgressModel",
      "_view_count": null,
      "_view_module": "@jupyter-widgets/controls",
      "_view_module_version": "1.5.0",
      "_view_name": "ProgressView",
      "bar_style": "success",
      "description": "",
      "description_tooltip": null,
      "layout": "IPY_MODEL_38c3daa2c084412b931331a3904d8c0b",
      "max": 300,
      "min": 0,
      "orientation": "horizontal",
      "style": "IPY_MODEL_f165b96a1b8b410b9c7804ffe54d427d",
      "value": 300
     }
    },
    "33ad4fcad8124091a530a3c5fc3a39c0": {
     "model_module": "@jupyter-widgets/controls",
     "model_module_version": "1.5.0",
     "model_name": "DescriptionStyleModel",
     "state": {
      "_model_module": "@jupyter-widgets/controls",
      "_model_module_version": "1.5.0",
      "_model_name": "DescriptionStyleModel",
      "_view_count": null,
      "_view_module": "@jupyter-widgets/base",
      "_view_module_version": "1.2.0",
      "_view_name": "StyleView",
      "description_width": ""
     }
    },
    "36e4ab82c56a48edb7604c6649593472": {
     "model_module": "@jupyter-widgets/base",
     "model_module_version": "1.2.0",
     "model_name": "LayoutModel",
     "state": {
      "_model_module": "@jupyter-widgets/base",
      "_model_module_version": "1.2.0",
      "_model_name": "LayoutModel",
      "_view_count": null,
      "_view_module": "@jupyter-widgets/base",
      "_view_module_version": "1.2.0",
      "_view_name": "LayoutView",
      "align_content": null,
      "align_items": null,
      "align_self": null,
      "border": null,
      "bottom": null,
      "display": null,
      "flex": null,
      "flex_flow": null,
      "grid_area": null,
      "grid_auto_columns": null,
      "grid_auto_flow": null,
      "grid_auto_rows": null,
      "grid_column": null,
      "grid_gap": null,
      "grid_row": null,
      "grid_template_areas": null,
      "grid_template_columns": null,
      "grid_template_rows": null,
      "height": null,
      "justify_content": null,
      "justify_items": null,
      "left": null,
      "margin": null,
      "max_height": null,
      "max_width": null,
      "min_height": null,
      "min_width": null,
      "object_fit": null,
      "object_position": null,
      "order": null,
      "overflow": null,
      "overflow_x": null,
      "overflow_y": null,
      "padding": null,
      "right": null,
      "top": null,
      "visibility": null,
      "width": null
     }
    },
    "36f7418dd32344a2a4ff49f46c2c3174": {
     "model_module": "@jupyter-widgets/base",
     "model_module_version": "1.2.0",
     "model_name": "LayoutModel",
     "state": {
      "_model_module": "@jupyter-widgets/base",
      "_model_module_version": "1.2.0",
      "_model_name": "LayoutModel",
      "_view_count": null,
      "_view_module": "@jupyter-widgets/base",
      "_view_module_version": "1.2.0",
      "_view_name": "LayoutView",
      "align_content": null,
      "align_items": null,
      "align_self": null,
      "border": null,
      "bottom": null,
      "display": null,
      "flex": null,
      "flex_flow": null,
      "grid_area": null,
      "grid_auto_columns": null,
      "grid_auto_flow": null,
      "grid_auto_rows": null,
      "grid_column": null,
      "grid_gap": null,
      "grid_row": null,
      "grid_template_areas": null,
      "grid_template_columns": null,
      "grid_template_rows": null,
      "height": null,
      "justify_content": null,
      "justify_items": null,
      "left": null,
      "margin": null,
      "max_height": null,
      "max_width": null,
      "min_height": null,
      "min_width": null,
      "object_fit": null,
      "object_position": null,
      "order": null,
      "overflow": null,
      "overflow_x": null,
      "overflow_y": null,
      "padding": null,
      "right": null,
      "top": null,
      "visibility": null,
      "width": null
     }
    },
    "38c3daa2c084412b931331a3904d8c0b": {
     "model_module": "@jupyter-widgets/base",
     "model_module_version": "1.2.0",
     "model_name": "LayoutModel",
     "state": {
      "_model_module": "@jupyter-widgets/base",
      "_model_module_version": "1.2.0",
      "_model_name": "LayoutModel",
      "_view_count": null,
      "_view_module": "@jupyter-widgets/base",
      "_view_module_version": "1.2.0",
      "_view_name": "LayoutView",
      "align_content": null,
      "align_items": null,
      "align_self": null,
      "border": null,
      "bottom": null,
      "display": null,
      "flex": null,
      "flex_flow": null,
      "grid_area": null,
      "grid_auto_columns": null,
      "grid_auto_flow": null,
      "grid_auto_rows": null,
      "grid_column": null,
      "grid_gap": null,
      "grid_row": null,
      "grid_template_areas": null,
      "grid_template_columns": null,
      "grid_template_rows": null,
      "height": null,
      "justify_content": null,
      "justify_items": null,
      "left": null,
      "margin": null,
      "max_height": null,
      "max_width": null,
      "min_height": null,
      "min_width": null,
      "object_fit": null,
      "object_position": null,
      "order": null,
      "overflow": null,
      "overflow_x": null,
      "overflow_y": null,
      "padding": null,
      "right": null,
      "top": null,
      "visibility": null,
      "width": null
     }
    },
    "38ebf99b11294d1886c5860fa944804c": {
     "model_module": "@jupyter-widgets/controls",
     "model_module_version": "1.5.0",
     "model_name": "DescriptionStyleModel",
     "state": {
      "_model_module": "@jupyter-widgets/controls",
      "_model_module_version": "1.5.0",
      "_model_name": "DescriptionStyleModel",
      "_view_count": null,
      "_view_module": "@jupyter-widgets/base",
      "_view_module_version": "1.2.0",
      "_view_name": "StyleView",
      "description_width": ""
     }
    },
    "39dc6c2bdfd04b7c99e9af2f83c55f48": {
     "model_module": "@jupyter-widgets/controls",
     "model_module_version": "1.5.0",
     "model_name": "DescriptionStyleModel",
     "state": {
      "_model_module": "@jupyter-widgets/controls",
      "_model_module_version": "1.5.0",
      "_model_name": "DescriptionStyleModel",
      "_view_count": null,
      "_view_module": "@jupyter-widgets/base",
      "_view_module_version": "1.2.0",
      "_view_name": "StyleView",
      "description_width": ""
     }
    },
    "3a59124e027a44aa962661c045c2cf81": {
     "model_module": "@jupyter-widgets/controls",
     "model_module_version": "1.5.0",
     "model_name": "DescriptionStyleModel",
     "state": {
      "_model_module": "@jupyter-widgets/controls",
      "_model_module_version": "1.5.0",
      "_model_name": "DescriptionStyleModel",
      "_view_count": null,
      "_view_module": "@jupyter-widgets/base",
      "_view_module_version": "1.2.0",
      "_view_name": "StyleView",
      "description_width": ""
     }
    },
    "3ab9676d6d2a43489465205a0def140a": {
     "model_module": "@jupyter-widgets/base",
     "model_module_version": "1.2.0",
     "model_name": "LayoutModel",
     "state": {
      "_model_module": "@jupyter-widgets/base",
      "_model_module_version": "1.2.0",
      "_model_name": "LayoutModel",
      "_view_count": null,
      "_view_module": "@jupyter-widgets/base",
      "_view_module_version": "1.2.0",
      "_view_name": "LayoutView",
      "align_content": null,
      "align_items": null,
      "align_self": null,
      "border": null,
      "bottom": null,
      "display": null,
      "flex": null,
      "flex_flow": null,
      "grid_area": null,
      "grid_auto_columns": null,
      "grid_auto_flow": null,
      "grid_auto_rows": null,
      "grid_column": null,
      "grid_gap": null,
      "grid_row": null,
      "grid_template_areas": null,
      "grid_template_columns": null,
      "grid_template_rows": null,
      "height": null,
      "justify_content": null,
      "justify_items": null,
      "left": null,
      "margin": null,
      "max_height": null,
      "max_width": null,
      "min_height": null,
      "min_width": null,
      "object_fit": null,
      "object_position": null,
      "order": null,
      "overflow": null,
      "overflow_x": null,
      "overflow_y": null,
      "padding": null,
      "right": null,
      "top": null,
      "visibility": null,
      "width": null
     }
    },
    "3cfc2887f64f40fb9a684389664601cb": {
     "model_module": "@jupyter-widgets/controls",
     "model_module_version": "1.5.0",
     "model_name": "DescriptionStyleModel",
     "state": {
      "_model_module": "@jupyter-widgets/controls",
      "_model_module_version": "1.5.0",
      "_model_name": "DescriptionStyleModel",
      "_view_count": null,
      "_view_module": "@jupyter-widgets/base",
      "_view_module_version": "1.2.0",
      "_view_name": "StyleView",
      "description_width": ""
     }
    },
    "3d23ada8739f49bd90ef98dee85b89ee": {
     "model_module": "@jupyter-widgets/base",
     "model_module_version": "1.2.0",
     "model_name": "LayoutModel",
     "state": {
      "_model_module": "@jupyter-widgets/base",
      "_model_module_version": "1.2.0",
      "_model_name": "LayoutModel",
      "_view_count": null,
      "_view_module": "@jupyter-widgets/base",
      "_view_module_version": "1.2.0",
      "_view_name": "LayoutView",
      "align_content": null,
      "align_items": null,
      "align_self": null,
      "border": null,
      "bottom": null,
      "display": null,
      "flex": null,
      "flex_flow": null,
      "grid_area": null,
      "grid_auto_columns": null,
      "grid_auto_flow": null,
      "grid_auto_rows": null,
      "grid_column": null,
      "grid_gap": null,
      "grid_row": null,
      "grid_template_areas": null,
      "grid_template_columns": null,
      "grid_template_rows": null,
      "height": null,
      "justify_content": null,
      "justify_items": null,
      "left": null,
      "margin": null,
      "max_height": null,
      "max_width": null,
      "min_height": null,
      "min_width": null,
      "object_fit": null,
      "object_position": null,
      "order": null,
      "overflow": null,
      "overflow_x": null,
      "overflow_y": null,
      "padding": null,
      "right": null,
      "top": null,
      "visibility": null,
      "width": null
     }
    },
    "3f0f6d6aad384fc999a0a2866bae0a95": {
     "model_module": "@jupyter-widgets/controls",
     "model_module_version": "1.5.0",
     "model_name": "DescriptionStyleModel",
     "state": {
      "_model_module": "@jupyter-widgets/controls",
      "_model_module_version": "1.5.0",
      "_model_name": "DescriptionStyleModel",
      "_view_count": null,
      "_view_module": "@jupyter-widgets/base",
      "_view_module_version": "1.2.0",
      "_view_name": "StyleView",
      "description_width": ""
     }
    },
    "4040cee381ec4d36a7e1824035fa5451": {
     "model_module": "@jupyter-widgets/controls",
     "model_module_version": "1.5.0",
     "model_name": "HTMLModel",
     "state": {
      "_dom_classes": [],
      "_model_module": "@jupyter-widgets/controls",
      "_model_module_version": "1.5.0",
      "_model_name": "HTMLModel",
      "_view_count": null,
      "_view_module": "@jupyter-widgets/controls",
      "_view_module_version": "1.5.0",
      "_view_name": "HTMLView",
      "description": "",
      "description_tooltip": null,
      "layout": "IPY_MODEL_21e0e9580423481f9ce1034051c86961",
      "placeholder": "​",
      "style": "IPY_MODEL_02ef8cccf8fd40c8a6d3eb3ac1a36d4a",
      "value": "Map: 100%"
     }
    },
    "40eef59865ef40dab1652249a669a406": {
     "model_module": "@jupyter-widgets/controls",
     "model_module_version": "1.5.0",
     "model_name": "ProgressStyleModel",
     "state": {
      "_model_module": "@jupyter-widgets/controls",
      "_model_module_version": "1.5.0",
      "_model_name": "ProgressStyleModel",
      "_view_count": null,
      "_view_module": "@jupyter-widgets/base",
      "_view_module_version": "1.2.0",
      "_view_name": "StyleView",
      "bar_color": null,
      "description_width": ""
     }
    },
    "412ab1effef14573b0fadbdb786cec95": {
     "model_module": "@jupyter-widgets/controls",
     "model_module_version": "1.5.0",
     "model_name": "DescriptionStyleModel",
     "state": {
      "_model_module": "@jupyter-widgets/controls",
      "_model_module_version": "1.5.0",
      "_model_name": "DescriptionStyleModel",
      "_view_count": null,
      "_view_module": "@jupyter-widgets/base",
      "_view_module_version": "1.2.0",
      "_view_name": "StyleView",
      "description_width": ""
     }
    },
    "419c2859d6c24114b70978fd83b59237": {
     "model_module": "@jupyter-widgets/base",
     "model_module_version": "1.2.0",
     "model_name": "LayoutModel",
     "state": {
      "_model_module": "@jupyter-widgets/base",
      "_model_module_version": "1.2.0",
      "_model_name": "LayoutModel",
      "_view_count": null,
      "_view_module": "@jupyter-widgets/base",
      "_view_module_version": "1.2.0",
      "_view_name": "LayoutView",
      "align_content": null,
      "align_items": null,
      "align_self": null,
      "border": null,
      "bottom": null,
      "display": null,
      "flex": null,
      "flex_flow": null,
      "grid_area": null,
      "grid_auto_columns": null,
      "grid_auto_flow": null,
      "grid_auto_rows": null,
      "grid_column": null,
      "grid_gap": null,
      "grid_row": null,
      "grid_template_areas": null,
      "grid_template_columns": null,
      "grid_template_rows": null,
      "height": null,
      "justify_content": null,
      "justify_items": null,
      "left": null,
      "margin": null,
      "max_height": null,
      "max_width": null,
      "min_height": null,
      "min_width": null,
      "object_fit": null,
      "object_position": null,
      "order": null,
      "overflow": null,
      "overflow_x": null,
      "overflow_y": null,
      "padding": null,
      "right": null,
      "top": null,
      "visibility": null,
      "width": null
     }
    },
    "422c5957bb6a472d838dfe65419ea7cd": {
     "model_module": "@jupyter-widgets/controls",
     "model_module_version": "1.5.0",
     "model_name": "FloatProgressModel",
     "state": {
      "_dom_classes": [],
      "_model_module": "@jupyter-widgets/controls",
      "_model_module_version": "1.5.0",
      "_model_name": "FloatProgressModel",
      "_view_count": null,
      "_view_module": "@jupyter-widgets/controls",
      "_view_module_version": "1.5.0",
      "_view_name": "ProgressView",
      "bar_style": "success",
      "description": "",
      "description_tooltip": null,
      "layout": "IPY_MODEL_c6043a7bf04645149976064090b68f4b",
      "max": 462,
      "min": 0,
      "orientation": "horizontal",
      "style": "IPY_MODEL_5ad1394e2cd145adab21e3acdfa9b1a2",
      "value": 462
     }
    },
    "4302bb890aa24b9091d4cf6db59d2723": {
     "model_module": "@jupyter-widgets/base",
     "model_module_version": "1.2.0",
     "model_name": "LayoutModel",
     "state": {
      "_model_module": "@jupyter-widgets/base",
      "_model_module_version": "1.2.0",
      "_model_name": "LayoutModel",
      "_view_count": null,
      "_view_module": "@jupyter-widgets/base",
      "_view_module_version": "1.2.0",
      "_view_name": "LayoutView",
      "align_content": null,
      "align_items": null,
      "align_self": null,
      "border": null,
      "bottom": null,
      "display": null,
      "flex": null,
      "flex_flow": null,
      "grid_area": null,
      "grid_auto_columns": null,
      "grid_auto_flow": null,
      "grid_auto_rows": null,
      "grid_column": null,
      "grid_gap": null,
      "grid_row": null,
      "grid_template_areas": null,
      "grid_template_columns": null,
      "grid_template_rows": null,
      "height": null,
      "justify_content": null,
      "justify_items": null,
      "left": null,
      "margin": null,
      "max_height": null,
      "max_width": null,
      "min_height": null,
      "min_width": null,
      "object_fit": null,
      "object_position": null,
      "order": null,
      "overflow": null,
      "overflow_x": null,
      "overflow_y": null,
      "padding": null,
      "right": null,
      "top": null,
      "visibility": null,
      "width": null
     }
    },
    "43cf1b630577404cbed58c6c34c62366": {
     "model_module": "@jupyter-widgets/base",
     "model_module_version": "1.2.0",
     "model_name": "LayoutModel",
     "state": {
      "_model_module": "@jupyter-widgets/base",
      "_model_module_version": "1.2.0",
      "_model_name": "LayoutModel",
      "_view_count": null,
      "_view_module": "@jupyter-widgets/base",
      "_view_module_version": "1.2.0",
      "_view_name": "LayoutView",
      "align_content": null,
      "align_items": null,
      "align_self": null,
      "border": null,
      "bottom": null,
      "display": null,
      "flex": null,
      "flex_flow": null,
      "grid_area": null,
      "grid_auto_columns": null,
      "grid_auto_flow": null,
      "grid_auto_rows": null,
      "grid_column": null,
      "grid_gap": null,
      "grid_row": null,
      "grid_template_areas": null,
      "grid_template_columns": null,
      "grid_template_rows": null,
      "height": null,
      "justify_content": null,
      "justify_items": null,
      "left": null,
      "margin": null,
      "max_height": null,
      "max_width": null,
      "min_height": null,
      "min_width": null,
      "object_fit": null,
      "object_position": null,
      "order": null,
      "overflow": null,
      "overflow_x": null,
      "overflow_y": null,
      "padding": null,
      "right": null,
      "top": null,
      "visibility": null,
      "width": null
     }
    },
    "44809fd3c25a4d838c8cd98286540b04": {
     "model_module": "@jupyter-widgets/base",
     "model_module_version": "1.2.0",
     "model_name": "LayoutModel",
     "state": {
      "_model_module": "@jupyter-widgets/base",
      "_model_module_version": "1.2.0",
      "_model_name": "LayoutModel",
      "_view_count": null,
      "_view_module": "@jupyter-widgets/base",
      "_view_module_version": "1.2.0",
      "_view_name": "LayoutView",
      "align_content": null,
      "align_items": null,
      "align_self": null,
      "border": null,
      "bottom": null,
      "display": null,
      "flex": null,
      "flex_flow": null,
      "grid_area": null,
      "grid_auto_columns": null,
      "grid_auto_flow": null,
      "grid_auto_rows": null,
      "grid_column": null,
      "grid_gap": null,
      "grid_row": null,
      "grid_template_areas": null,
      "grid_template_columns": null,
      "grid_template_rows": null,
      "height": null,
      "justify_content": null,
      "justify_items": null,
      "left": null,
      "margin": null,
      "max_height": null,
      "max_width": null,
      "min_height": null,
      "min_width": null,
      "object_fit": null,
      "object_position": null,
      "order": null,
      "overflow": null,
      "overflow_x": null,
      "overflow_y": null,
      "padding": null,
      "right": null,
      "top": null,
      "visibility": null,
      "width": null
     }
    },
    "46375fe24bbe44d19dd0dee75408fa45": {
     "model_module": "@jupyter-widgets/controls",
     "model_module_version": "1.5.0",
     "model_name": "HBoxModel",
     "state": {
      "_dom_classes": [],
      "_model_module": "@jupyter-widgets/controls",
      "_model_module_version": "1.5.0",
      "_model_name": "HBoxModel",
      "_view_count": null,
      "_view_module": "@jupyter-widgets/controls",
      "_view_module_version": "1.5.0",
      "_view_name": "HBoxView",
      "box_style": "",
      "children": [
       "IPY_MODEL_b3b255f6a20a4db9a0ef4d207e7f3024",
       "IPY_MODEL_5b04149283f947d58d486cc9a7709210",
       "IPY_MODEL_7a4a76eea10548f9942b835a37dce308"
      ],
      "layout": "IPY_MODEL_4302bb890aa24b9091d4cf6db59d2723"
     }
    },
    "47955ffbfef44197b85d5a2479e5afb8": {
     "model_module": "@jupyter-widgets/base",
     "model_module_version": "1.2.0",
     "model_name": "LayoutModel",
     "state": {
      "_model_module": "@jupyter-widgets/base",
      "_model_module_version": "1.2.0",
      "_model_name": "LayoutModel",
      "_view_count": null,
      "_view_module": "@jupyter-widgets/base",
      "_view_module_version": "1.2.0",
      "_view_name": "LayoutView",
      "align_content": null,
      "align_items": null,
      "align_self": null,
      "border": null,
      "bottom": null,
      "display": null,
      "flex": null,
      "flex_flow": null,
      "grid_area": null,
      "grid_auto_columns": null,
      "grid_auto_flow": null,
      "grid_auto_rows": null,
      "grid_column": null,
      "grid_gap": null,
      "grid_row": null,
      "grid_template_areas": null,
      "grid_template_columns": null,
      "grid_template_rows": null,
      "height": null,
      "justify_content": null,
      "justify_items": null,
      "left": null,
      "margin": null,
      "max_height": null,
      "max_width": null,
      "min_height": null,
      "min_width": null,
      "object_fit": null,
      "object_position": null,
      "order": null,
      "overflow": null,
      "overflow_x": null,
      "overflow_y": null,
      "padding": null,
      "right": null,
      "top": null,
      "visibility": null,
      "width": null
     }
    },
    "4970604c9f6c46be89fe199de11130e3": {
     "model_module": "@jupyter-widgets/controls",
     "model_module_version": "1.5.0",
     "model_name": "HTMLModel",
     "state": {
      "_dom_classes": [],
      "_model_module": "@jupyter-widgets/controls",
      "_model_module_version": "1.5.0",
      "_model_name": "HTMLModel",
      "_view_count": null,
      "_view_module": "@jupyter-widgets/controls",
      "_view_module_version": "1.5.0",
      "_view_name": "HTMLView",
      "description": "",
      "description_tooltip": null,
      "layout": "IPY_MODEL_274197ff7e644d2a8d858aa699eb409e",
      "placeholder": "​",
      "style": "IPY_MODEL_8e3a6baf2bbd47789e942e9f6e0c3eb9",
      "value": " 830/830 [00:00&lt;00:00, 1703.62 examples/s]"
     }
    },
    "4a4535fdccff4cf7b50d2ec89d57d147": {
     "model_module": "@jupyter-widgets/controls",
     "model_module_version": "1.5.0",
     "model_name": "DescriptionStyleModel",
     "state": {
      "_model_module": "@jupyter-widgets/controls",
      "_model_module_version": "1.5.0",
      "_model_name": "DescriptionStyleModel",
      "_view_count": null,
      "_view_module": "@jupyter-widgets/base",
      "_view_module_version": "1.2.0",
      "_view_name": "StyleView",
      "description_width": ""
     }
    },
    "4ba10baef386445d968a8dbc823e8470": {
     "model_module": "@jupyter-widgets/controls",
     "model_module_version": "1.5.0",
     "model_name": "HBoxModel",
     "state": {
      "_dom_classes": [],
      "_model_module": "@jupyter-widgets/controls",
      "_model_module_version": "1.5.0",
      "_model_name": "HBoxModel",
      "_view_count": null,
      "_view_module": "@jupyter-widgets/controls",
      "_view_module_version": "1.5.0",
      "_view_name": "HBoxView",
      "box_style": "",
      "children": [
       "IPY_MODEL_faa287580cc24acdb64d6c8fa1b03042",
       "IPY_MODEL_13453f14cddf435fbf14144071fb2327",
       "IPY_MODEL_29fa76d000bb4d8c9897850ab95e7cc6"
      ],
      "layout": "IPY_MODEL_43cf1b630577404cbed58c6c34c62366"
     }
    },
    "4bcfcc59cc554731b0ed481366f23424": {
     "model_module": "@jupyter-widgets/base",
     "model_module_version": "1.2.0",
     "model_name": "LayoutModel",
     "state": {
      "_model_module": "@jupyter-widgets/base",
      "_model_module_version": "1.2.0",
      "_model_name": "LayoutModel",
      "_view_count": null,
      "_view_module": "@jupyter-widgets/base",
      "_view_module_version": "1.2.0",
      "_view_name": "LayoutView",
      "align_content": null,
      "align_items": null,
      "align_self": null,
      "border": null,
      "bottom": null,
      "display": null,
      "flex": null,
      "flex_flow": null,
      "grid_area": null,
      "grid_auto_columns": null,
      "grid_auto_flow": null,
      "grid_auto_rows": null,
      "grid_column": null,
      "grid_gap": null,
      "grid_row": null,
      "grid_template_areas": null,
      "grid_template_columns": null,
      "grid_template_rows": null,
      "height": null,
      "justify_content": null,
      "justify_items": null,
      "left": null,
      "margin": null,
      "max_height": null,
      "max_width": null,
      "min_height": null,
      "min_width": null,
      "object_fit": null,
      "object_position": null,
      "order": null,
      "overflow": null,
      "overflow_x": null,
      "overflow_y": null,
      "padding": null,
      "right": null,
      "top": null,
      "visibility": null,
      "width": null
     }
    },
    "4c6484199d3a45cab1a2dace9dccc774": {
     "model_module": "@jupyter-widgets/controls",
     "model_module_version": "1.5.0",
     "model_name": "ProgressStyleModel",
     "state": {
      "_model_module": "@jupyter-widgets/controls",
      "_model_module_version": "1.5.0",
      "_model_name": "ProgressStyleModel",
      "_view_count": null,
      "_view_module": "@jupyter-widgets/base",
      "_view_module_version": "1.2.0",
      "_view_name": "StyleView",
      "bar_color": null,
      "description_width": ""
     }
    },
    "4f2badf48f7b40daa51cb2f0c4fd393e": {
     "model_module": "@jupyter-widgets/base",
     "model_module_version": "1.2.0",
     "model_name": "LayoutModel",
     "state": {
      "_model_module": "@jupyter-widgets/base",
      "_model_module_version": "1.2.0",
      "_model_name": "LayoutModel",
      "_view_count": null,
      "_view_module": "@jupyter-widgets/base",
      "_view_module_version": "1.2.0",
      "_view_name": "LayoutView",
      "align_content": null,
      "align_items": null,
      "align_self": null,
      "border": null,
      "bottom": null,
      "display": null,
      "flex": null,
      "flex_flow": null,
      "grid_area": null,
      "grid_auto_columns": null,
      "grid_auto_flow": null,
      "grid_auto_rows": null,
      "grid_column": null,
      "grid_gap": null,
      "grid_row": null,
      "grid_template_areas": null,
      "grid_template_columns": null,
      "grid_template_rows": null,
      "height": null,
      "justify_content": null,
      "justify_items": null,
      "left": null,
      "margin": null,
      "max_height": null,
      "max_width": null,
      "min_height": null,
      "min_width": null,
      "object_fit": null,
      "object_position": null,
      "order": null,
      "overflow": null,
      "overflow_x": null,
      "overflow_y": null,
      "padding": null,
      "right": null,
      "top": null,
      "visibility": null,
      "width": null
     }
    },
    "4fa2f3e32cd0441bb88ad18031adcdcb": {
     "model_module": "@jupyter-widgets/base",
     "model_module_version": "1.2.0",
     "model_name": "LayoutModel",
     "state": {
      "_model_module": "@jupyter-widgets/base",
      "_model_module_version": "1.2.0",
      "_model_name": "LayoutModel",
      "_view_count": null,
      "_view_module": "@jupyter-widgets/base",
      "_view_module_version": "1.2.0",
      "_view_name": "LayoutView",
      "align_content": null,
      "align_items": null,
      "align_self": null,
      "border": null,
      "bottom": null,
      "display": null,
      "flex": null,
      "flex_flow": null,
      "grid_area": null,
      "grid_auto_columns": null,
      "grid_auto_flow": null,
      "grid_auto_rows": null,
      "grid_column": null,
      "grid_gap": null,
      "grid_row": null,
      "grid_template_areas": null,
      "grid_template_columns": null,
      "grid_template_rows": null,
      "height": null,
      "justify_content": null,
      "justify_items": null,
      "left": null,
      "margin": null,
      "max_height": null,
      "max_width": null,
      "min_height": null,
      "min_width": null,
      "object_fit": null,
      "object_position": null,
      "order": null,
      "overflow": null,
      "overflow_x": null,
      "overflow_y": null,
      "padding": null,
      "right": null,
      "top": null,
      "visibility": null,
      "width": null
     }
    },
    "50c0ae0d03fa44b6b8ae7c51bcf2a970": {
     "model_module": "@jupyter-widgets/controls",
     "model_module_version": "1.5.0",
     "model_name": "HTMLModel",
     "state": {
      "_dom_classes": [],
      "_model_module": "@jupyter-widgets/controls",
      "_model_module_version": "1.5.0",
      "_model_name": "HTMLModel",
      "_view_count": null,
      "_view_module": "@jupyter-widgets/controls",
      "_view_module_version": "1.5.0",
      "_view_name": "HTMLView",
      "description": "",
      "description_tooltip": null,
      "layout": "IPY_MODEL_3ab9676d6d2a43489465205a0def140a",
      "placeholder": "​",
      "style": "IPY_MODEL_22ec2f2846f6400884c897e5467b29a7",
      "value": " 1613/1613 [00:00&lt;00:00, 3390.35 examples/s]"
     }
    },
    "534f40fefcc24f15853934876dca6bbe": {
     "model_module": "@jupyter-widgets/controls",
     "model_module_version": "1.5.0",
     "model_name": "HTMLModel",
     "state": {
      "_dom_classes": [],
      "_model_module": "@jupyter-widgets/controls",
      "_model_module_version": "1.5.0",
      "_model_name": "HTMLModel",
      "_view_count": null,
      "_view_module": "@jupyter-widgets/controls",
      "_view_module_version": "1.5.0",
      "_view_name": "HTMLView",
      "description": "",
      "description_tooltip": null,
      "layout": "IPY_MODEL_4bcfcc59cc554731b0ed481366f23424",
      "placeholder": "​",
      "style": "IPY_MODEL_ee87c723e25548ddb32e4102d39a5fac",
      "value": " 2393/2393 [00:01&lt;00:00, 1349.43 examples/s]"
     }
    },
    "547e41c39e8146d48615224a0a9881f8": {
     "model_module": "@jupyter-widgets/base",
     "model_module_version": "1.2.0",
     "model_name": "LayoutModel",
     "state": {
      "_model_module": "@jupyter-widgets/base",
      "_model_module_version": "1.2.0",
      "_model_name": "LayoutModel",
      "_view_count": null,
      "_view_module": "@jupyter-widgets/base",
      "_view_module_version": "1.2.0",
      "_view_name": "LayoutView",
      "align_content": null,
      "align_items": null,
      "align_self": null,
      "border": null,
      "bottom": null,
      "display": null,
      "flex": null,
      "flex_flow": null,
      "grid_area": null,
      "grid_auto_columns": null,
      "grid_auto_flow": null,
      "grid_auto_rows": null,
      "grid_column": null,
      "grid_gap": null,
      "grid_row": null,
      "grid_template_areas": null,
      "grid_template_columns": null,
      "grid_template_rows": null,
      "height": null,
      "justify_content": null,
      "justify_items": null,
      "left": null,
      "margin": null,
      "max_height": null,
      "max_width": null,
      "min_height": null,
      "min_width": null,
      "object_fit": null,
      "object_position": null,
      "order": null,
      "overflow": null,
      "overflow_x": null,
      "overflow_y": null,
      "padding": null,
      "right": null,
      "top": null,
      "visibility": null,
      "width": null
     }
    },
    "54f419be0c114d1bb7cd80ccbe712393": {
     "model_module": "@jupyter-widgets/controls",
     "model_module_version": "1.5.0",
     "model_name": "DescriptionStyleModel",
     "state": {
      "_model_module": "@jupyter-widgets/controls",
      "_model_module_version": "1.5.0",
      "_model_name": "DescriptionStyleModel",
      "_view_count": null,
      "_view_module": "@jupyter-widgets/base",
      "_view_module_version": "1.2.0",
      "_view_name": "StyleView",
      "description_width": ""
     }
    },
    "552756b82e6c430fb3bd06437ed871b1": {
     "model_module": "@jupyter-widgets/base",
     "model_module_version": "1.2.0",
     "model_name": "LayoutModel",
     "state": {
      "_model_module": "@jupyter-widgets/base",
      "_model_module_version": "1.2.0",
      "_model_name": "LayoutModel",
      "_view_count": null,
      "_view_module": "@jupyter-widgets/base",
      "_view_module_version": "1.2.0",
      "_view_name": "LayoutView",
      "align_content": null,
      "align_items": null,
      "align_self": null,
      "border": null,
      "bottom": null,
      "display": null,
      "flex": null,
      "flex_flow": null,
      "grid_area": null,
      "grid_auto_columns": null,
      "grid_auto_flow": null,
      "grid_auto_rows": null,
      "grid_column": null,
      "grid_gap": null,
      "grid_row": null,
      "grid_template_areas": null,
      "grid_template_columns": null,
      "grid_template_rows": null,
      "height": null,
      "justify_content": null,
      "justify_items": null,
      "left": null,
      "margin": null,
      "max_height": null,
      "max_width": null,
      "min_height": null,
      "min_width": null,
      "object_fit": null,
      "object_position": null,
      "order": null,
      "overflow": null,
      "overflow_x": null,
      "overflow_y": null,
      "padding": null,
      "right": null,
      "top": null,
      "visibility": null,
      "width": null
     }
    },
    "5636ce4fabc949829aecff3edaec5642": {
     "model_module": "@jupyter-widgets/controls",
     "model_module_version": "1.5.0",
     "model_name": "HTMLModel",
     "state": {
      "_dom_classes": [],
      "_model_module": "@jupyter-widgets/controls",
      "_model_module_version": "1.5.0",
      "_model_name": "HTMLModel",
      "_view_count": null,
      "_view_module": "@jupyter-widgets/controls",
      "_view_module_version": "1.5.0",
      "_view_name": "HTMLView",
      "description": "",
      "description_tooltip": null,
      "layout": "IPY_MODEL_c7ef8f9e381d448ebb5a12880b6b52a4",
      "placeholder": "​",
      "style": "IPY_MODEL_76d183ae2f1b4313bafc57e14cb9ba95",
      "value": " 667/667 [00:00&lt;00:00, 2856.51 examples/s]"
     }
    },
    "56edd9cff6184f52a687fb6f4334faf3": {
     "model_module": "@jupyter-widgets/controls",
     "model_module_version": "1.5.0",
     "model_name": "FloatProgressModel",
     "state": {
      "_dom_classes": [],
      "_model_module": "@jupyter-widgets/controls",
      "_model_module_version": "1.5.0",
      "_model_name": "FloatProgressModel",
      "_view_count": null,
      "_view_module": "@jupyter-widgets/controls",
      "_view_module_version": "1.5.0",
      "_view_name": "ProgressView",
      "bar_style": "success",
      "description": "",
      "description_tooltip": null,
      "layout": "IPY_MODEL_f07342397c094221bfd18dd34dfa04fe",
      "max": 667,
      "min": 0,
      "orientation": "horizontal",
      "style": "IPY_MODEL_2da7a73ae4bf4df7af31083fbbf5c7f2",
      "value": 667
     }
    },
    "56f31a2e660642318bb5ec0487c0c8eb": {
     "model_module": "@jupyter-widgets/controls",
     "model_module_version": "1.5.0",
     "model_name": "HBoxModel",
     "state": {
      "_dom_classes": [],
      "_model_module": "@jupyter-widgets/controls",
      "_model_module_version": "1.5.0",
      "_model_name": "HBoxModel",
      "_view_count": null,
      "_view_module": "@jupyter-widgets/controls",
      "_view_module_version": "1.5.0",
      "_view_name": "HBoxView",
      "box_style": "",
      "children": [
       "IPY_MODEL_7ae2d966a3944aa58e66adea5efa26e6",
       "IPY_MODEL_fc61022e18c84bcdb5dd00b387209ee6",
       "IPY_MODEL_534f40fefcc24f15853934876dca6bbe"
      ],
      "layout": "IPY_MODEL_b8b5dbc973fd428bafae183de4a4c8ce"
     }
    },
    "5702aba2c59c4d5b94dc121b9c4cc323": {
     "model_module": "@jupyter-widgets/base",
     "model_module_version": "1.2.0",
     "model_name": "LayoutModel",
     "state": {
      "_model_module": "@jupyter-widgets/base",
      "_model_module_version": "1.2.0",
      "_model_name": "LayoutModel",
      "_view_count": null,
      "_view_module": "@jupyter-widgets/base",
      "_view_module_version": "1.2.0",
      "_view_name": "LayoutView",
      "align_content": null,
      "align_items": null,
      "align_self": null,
      "border": null,
      "bottom": null,
      "display": null,
      "flex": null,
      "flex_flow": null,
      "grid_area": null,
      "grid_auto_columns": null,
      "grid_auto_flow": null,
      "grid_auto_rows": null,
      "grid_column": null,
      "grid_gap": null,
      "grid_row": null,
      "grid_template_areas": null,
      "grid_template_columns": null,
      "grid_template_rows": null,
      "height": null,
      "justify_content": null,
      "justify_items": null,
      "left": null,
      "margin": null,
      "max_height": null,
      "max_width": null,
      "min_height": null,
      "min_width": null,
      "object_fit": null,
      "object_position": null,
      "order": null,
      "overflow": null,
      "overflow_x": null,
      "overflow_y": null,
      "padding": null,
      "right": null,
      "top": null,
      "visibility": null,
      "width": null
     }
    },
    "5746057dcfec44eea15bb459dd99e666": {
     "model_module": "@jupyter-widgets/base",
     "model_module_version": "1.2.0",
     "model_name": "LayoutModel",
     "state": {
      "_model_module": "@jupyter-widgets/base",
      "_model_module_version": "1.2.0",
      "_model_name": "LayoutModel",
      "_view_count": null,
      "_view_module": "@jupyter-widgets/base",
      "_view_module_version": "1.2.0",
      "_view_name": "LayoutView",
      "align_content": null,
      "align_items": null,
      "align_self": null,
      "border": null,
      "bottom": null,
      "display": null,
      "flex": null,
      "flex_flow": null,
      "grid_area": null,
      "grid_auto_columns": null,
      "grid_auto_flow": null,
      "grid_auto_rows": null,
      "grid_column": null,
      "grid_gap": null,
      "grid_row": null,
      "grid_template_areas": null,
      "grid_template_columns": null,
      "grid_template_rows": null,
      "height": null,
      "justify_content": null,
      "justify_items": null,
      "left": null,
      "margin": null,
      "max_height": null,
      "max_width": null,
      "min_height": null,
      "min_width": null,
      "object_fit": null,
      "object_position": null,
      "order": null,
      "overflow": null,
      "overflow_x": null,
      "overflow_y": null,
      "padding": null,
      "right": null,
      "top": null,
      "visibility": null,
      "width": null
     }
    },
    "5ad1394e2cd145adab21e3acdfa9b1a2": {
     "model_module": "@jupyter-widgets/controls",
     "model_module_version": "1.5.0",
     "model_name": "ProgressStyleModel",
     "state": {
      "_model_module": "@jupyter-widgets/controls",
      "_model_module_version": "1.5.0",
      "_model_name": "ProgressStyleModel",
      "_view_count": null,
      "_view_module": "@jupyter-widgets/base",
      "_view_module_version": "1.2.0",
      "_view_name": "StyleView",
      "bar_color": null,
      "description_width": ""
     }
    },
    "5b04149283f947d58d486cc9a7709210": {
     "model_module": "@jupyter-widgets/controls",
     "model_module_version": "1.5.0",
     "model_name": "FloatProgressModel",
     "state": {
      "_dom_classes": [],
      "_model_module": "@jupyter-widgets/controls",
      "_model_module_version": "1.5.0",
      "_model_name": "FloatProgressModel",
      "_view_count": null,
      "_view_module": "@jupyter-widgets/controls",
      "_view_module_version": "1.5.0",
      "_view_name": "ProgressView",
      "bar_style": "success",
      "description": "",
      "description_tooltip": null,
      "layout": "IPY_MODEL_cf3ad7fc8865421f896bc8646de83958",
      "max": 6785,
      "min": 0,
      "orientation": "horizontal",
      "style": "IPY_MODEL_40eef59865ef40dab1652249a669a406",
      "value": 6785
     }
    },
    "5b67669629e546bda9083841ff181535": {
     "model_module": "@jupyter-widgets/controls",
     "model_module_version": "1.5.0",
     "model_name": "DescriptionStyleModel",
     "state": {
      "_model_module": "@jupyter-widgets/controls",
      "_model_module_version": "1.5.0",
      "_model_name": "DescriptionStyleModel",
      "_view_count": null,
      "_view_module": "@jupyter-widgets/base",
      "_view_module_version": "1.2.0",
      "_view_name": "StyleView",
      "description_width": ""
     }
    },
    "5cc71daa66b7454d9d6f865ad13044f0": {
     "model_module": "@jupyter-widgets/controls",
     "model_module_version": "1.5.0",
     "model_name": "ProgressStyleModel",
     "state": {
      "_model_module": "@jupyter-widgets/controls",
      "_model_module_version": "1.5.0",
      "_model_name": "ProgressStyleModel",
      "_view_count": null,
      "_view_module": "@jupyter-widgets/base",
      "_view_module_version": "1.2.0",
      "_view_name": "StyleView",
      "bar_color": null,
      "description_width": ""
     }
    },
    "5d43b64b91604a409bd8a0d19dd5103c": {
     "model_module": "@jupyter-widgets/base",
     "model_module_version": "1.2.0",
     "model_name": "LayoutModel",
     "state": {
      "_model_module": "@jupyter-widgets/base",
      "_model_module_version": "1.2.0",
      "_model_name": "LayoutModel",
      "_view_count": null,
      "_view_module": "@jupyter-widgets/base",
      "_view_module_version": "1.2.0",
      "_view_name": "LayoutView",
      "align_content": null,
      "align_items": null,
      "align_self": null,
      "border": null,
      "bottom": null,
      "display": null,
      "flex": null,
      "flex_flow": null,
      "grid_area": null,
      "grid_auto_columns": null,
      "grid_auto_flow": null,
      "grid_auto_rows": null,
      "grid_column": null,
      "grid_gap": null,
      "grid_row": null,
      "grid_template_areas": null,
      "grid_template_columns": null,
      "grid_template_rows": null,
      "height": null,
      "justify_content": null,
      "justify_items": null,
      "left": null,
      "margin": null,
      "max_height": null,
      "max_width": null,
      "min_height": null,
      "min_width": null,
      "object_fit": null,
      "object_position": null,
      "order": null,
      "overflow": null,
      "overflow_x": null,
      "overflow_y": null,
      "padding": null,
      "right": null,
      "top": null,
      "visibility": null,
      "width": null
     }
    },
    "5e2b8f255bcf457687c35aae3f4b006d": {
     "model_module": "@jupyter-widgets/controls",
     "model_module_version": "1.5.0",
     "model_name": "HBoxModel",
     "state": {
      "_dom_classes": [],
      "_model_module": "@jupyter-widgets/controls",
      "_model_module_version": "1.5.0",
      "_model_name": "HBoxModel",
      "_view_count": null,
      "_view_module": "@jupyter-widgets/controls",
      "_view_module_version": "1.5.0",
      "_view_name": "HBoxView",
      "box_style": "",
      "children": [
       "IPY_MODEL_7fb99c8c8d614dac944fb460d5b284d8",
       "IPY_MODEL_d161e3806fcd4cff9d252ffb19f45768",
       "IPY_MODEL_886ba1f74cbf4d7fafae0e797d38ae64"
      ],
      "layout": "IPY_MODEL_f328ad478b8a466cbf86f3159378e907"
     }
    },
    "5e3108583e63472cae4161354af30971": {
     "model_module": "@jupyter-widgets/controls",
     "model_module_version": "1.5.0",
     "model_name": "HTMLModel",
     "state": {
      "_dom_classes": [],
      "_model_module": "@jupyter-widgets/controls",
      "_model_module_version": "1.5.0",
      "_model_name": "HTMLModel",
      "_view_count": null,
      "_view_module": "@jupyter-widgets/controls",
      "_view_module_version": "1.5.0",
      "_view_name": "HTMLView",
      "description": "",
      "description_tooltip": null,
      "layout": "IPY_MODEL_44809fd3c25a4d838c8cd98286540b04",
      "placeholder": "​",
      "style": "IPY_MODEL_4a4535fdccff4cf7b50d2ec89d57d147",
      "value": "Map: 100%"
     }
    },
    "5e3627c3d1fd43878b5393e74bf16c2d": {
     "model_module": "@jupyter-widgets/controls",
     "model_module_version": "1.5.0",
     "model_name": "HTMLModel",
     "state": {
      "_dom_classes": [],
      "_model_module": "@jupyter-widgets/controls",
      "_model_module_version": "1.5.0",
      "_model_name": "HTMLModel",
      "_view_count": null,
      "_view_module": "@jupyter-widgets/controls",
      "_view_module_version": "1.5.0",
      "_view_name": "HTMLView",
      "description": "",
      "description_tooltip": null,
      "layout": "IPY_MODEL_75e18faf01c24f118a01dcceb9a156bd",
      "placeholder": "​",
      "style": "IPY_MODEL_66d3d75500b34d8ba6506b0f6adc2165",
      "value": "pytorch_model.bin: 100%"
     }
    },
    "6047ab7b3fb44ab99afffd57e1874f59": {
     "model_module": "@jupyter-widgets/controls",
     "model_module_version": "1.5.0",
     "model_name": "HTMLModel",
     "state": {
      "_dom_classes": [],
      "_model_module": "@jupyter-widgets/controls",
      "_model_module_version": "1.5.0",
      "_model_name": "HTMLModel",
      "_view_count": null,
      "_view_module": "@jupyter-widgets/controls",
      "_view_module_version": "1.5.0",
      "_view_name": "HTMLView",
      "description": "",
      "description_tooltip": null,
      "layout": "IPY_MODEL_bc5f6ae5e1984c609048e1b5a093cafa",
      "placeholder": "​",
      "style": "IPY_MODEL_2676cb76ecdd4f6aa32245bae24243a2",
      "value": " 282/282 [00:00&lt;00:00, 2976.77 examples/s]"
     }
    },
    "6161dd7ad87341f4b272e63d511a4924": {
     "model_module": "@jupyter-widgets/controls",
     "model_module_version": "1.5.0",
     "model_name": "DescriptionStyleModel",
     "state": {
      "_model_module": "@jupyter-widgets/controls",
      "_model_module_version": "1.5.0",
      "_model_name": "DescriptionStyleModel",
      "_view_count": null,
      "_view_module": "@jupyter-widgets/base",
      "_view_module_version": "1.2.0",
      "_view_name": "StyleView",
      "description_width": ""
     }
    },
    "62aa5320eea84bcf89f4735583e9a5f9": {
     "model_module": "@jupyter-widgets/controls",
     "model_module_version": "1.5.0",
     "model_name": "HTMLModel",
     "state": {
      "_dom_classes": [],
      "_model_module": "@jupyter-widgets/controls",
      "_model_module_version": "1.5.0",
      "_model_name": "HTMLModel",
      "_view_count": null,
      "_view_module": "@jupyter-widgets/controls",
      "_view_module_version": "1.5.0",
      "_view_name": "HTMLView",
      "description": "",
      "description_tooltip": null,
      "layout": "IPY_MODEL_36f7418dd32344a2a4ff49f46c2c3174",
      "placeholder": "​",
      "style": "IPY_MODEL_d7813459ddd147e2851e0acb2de49c8b",
      "value": "model.safetensors: 100%"
     }
    },
    "636a845d84b6400daeda827613fad8a9": {
     "model_module": "@jupyter-widgets/controls",
     "model_module_version": "1.5.0",
     "model_name": "ProgressStyleModel",
     "state": {
      "_model_module": "@jupyter-widgets/controls",
      "_model_module_version": "1.5.0",
      "_model_name": "ProgressStyleModel",
      "_view_count": null,
      "_view_module": "@jupyter-widgets/base",
      "_view_module_version": "1.2.0",
      "_view_name": "StyleView",
      "bar_color": null,
      "description_width": ""
     }
    },
    "647a9b3e2fe44afdaa10ae6a2479e551": {
     "model_module": "@jupyter-widgets/controls",
     "model_module_version": "1.5.0",
     "model_name": "DescriptionStyleModel",
     "state": {
      "_model_module": "@jupyter-widgets/controls",
      "_model_module_version": "1.5.0",
      "_model_name": "DescriptionStyleModel",
      "_view_count": null,
      "_view_module": "@jupyter-widgets/base",
      "_view_module_version": "1.2.0",
      "_view_name": "StyleView",
      "description_width": ""
     }
    },
    "647e1e26dbb344c28fb74a85c2c9eb42": {
     "model_module": "@jupyter-widgets/base",
     "model_module_version": "1.2.0",
     "model_name": "LayoutModel",
     "state": {
      "_model_module": "@jupyter-widgets/base",
      "_model_module_version": "1.2.0",
      "_model_name": "LayoutModel",
      "_view_count": null,
      "_view_module": "@jupyter-widgets/base",
      "_view_module_version": "1.2.0",
      "_view_name": "LayoutView",
      "align_content": null,
      "align_items": null,
      "align_self": null,
      "border": null,
      "bottom": null,
      "display": null,
      "flex": null,
      "flex_flow": null,
      "grid_area": null,
      "grid_auto_columns": null,
      "grid_auto_flow": null,
      "grid_auto_rows": null,
      "grid_column": null,
      "grid_gap": null,
      "grid_row": null,
      "grid_template_areas": null,
      "grid_template_columns": null,
      "grid_template_rows": null,
      "height": null,
      "justify_content": null,
      "justify_items": null,
      "left": null,
      "margin": null,
      "max_height": null,
      "max_width": null,
      "min_height": null,
      "min_width": null,
      "object_fit": null,
      "object_position": null,
      "order": null,
      "overflow": null,
      "overflow_x": null,
      "overflow_y": null,
      "padding": null,
      "right": null,
      "top": null,
      "visibility": null,
      "width": null
     }
    },
    "66d3d75500b34d8ba6506b0f6adc2165": {
     "model_module": "@jupyter-widgets/controls",
     "model_module_version": "1.5.0",
     "model_name": "DescriptionStyleModel",
     "state": {
      "_model_module": "@jupyter-widgets/controls",
      "_model_module_version": "1.5.0",
      "_model_name": "DescriptionStyleModel",
      "_view_count": null,
      "_view_module": "@jupyter-widgets/base",
      "_view_module_version": "1.2.0",
      "_view_name": "StyleView",
      "description_width": ""
     }
    },
    "67d171f6c85d4df0a99bb090404eaab3": {
     "model_module": "@jupyter-widgets/controls",
     "model_module_version": "1.5.0",
     "model_name": "FloatProgressModel",
     "state": {
      "_dom_classes": [],
      "_model_module": "@jupyter-widgets/controls",
      "_model_module_version": "1.5.0",
      "_model_name": "FloatProgressModel",
      "_view_count": null,
      "_view_module": "@jupyter-widgets/controls",
      "_view_module_version": "1.5.0",
      "_view_name": "ProgressView",
      "bar_style": "success",
      "description": "",
      "description_tooltip": null,
      "layout": "IPY_MODEL_8c9a0f8c509445d5b3e0ae439f7d770b",
      "max": 5069051,
      "min": 0,
      "orientation": "horizontal",
      "style": "IPY_MODEL_4c6484199d3a45cab1a2dace9dccc774",
      "value": 5069051
     }
    },
    "6a9b05874e95413e96eff3c015565adc": {
     "model_module": "@jupyter-widgets/controls",
     "model_module_version": "1.5.0",
     "model_name": "HBoxModel",
     "state": {
      "_dom_classes": [],
      "_model_module": "@jupyter-widgets/controls",
      "_model_module_version": "1.5.0",
      "_model_name": "HBoxModel",
      "_view_count": null,
      "_view_module": "@jupyter-widgets/controls",
      "_view_module_version": "1.5.0",
      "_view_name": "HBoxView",
      "box_style": "",
      "children": [
       "IPY_MODEL_ba300c807aae4be298315825e9dac9a4",
       "IPY_MODEL_7d56b0860b214a20a88275bb216de671",
       "IPY_MODEL_74248347425949ae89e01c0853847401"
      ],
      "layout": "IPY_MODEL_83e31c9eeebf444c9deb6da94eebc1ca"
     }
    },
    "6ca88a84c04549fab6defe74828e72cf": {
     "model_module": "@jupyter-widgets/base",
     "model_module_version": "1.2.0",
     "model_name": "LayoutModel",
     "state": {
      "_model_module": "@jupyter-widgets/base",
      "_model_module_version": "1.2.0",
      "_model_name": "LayoutModel",
      "_view_count": null,
      "_view_module": "@jupyter-widgets/base",
      "_view_module_version": "1.2.0",
      "_view_name": "LayoutView",
      "align_content": null,
      "align_items": null,
      "align_self": null,
      "border": null,
      "bottom": null,
      "display": null,
      "flex": null,
      "flex_flow": null,
      "grid_area": null,
      "grid_auto_columns": null,
      "grid_auto_flow": null,
      "grid_auto_rows": null,
      "grid_column": null,
      "grid_gap": null,
      "grid_row": null,
      "grid_template_areas": null,
      "grid_template_columns": null,
      "grid_template_rows": null,
      "height": null,
      "justify_content": null,
      "justify_items": null,
      "left": null,
      "margin": null,
      "max_height": null,
      "max_width": null,
      "min_height": null,
      "min_width": null,
      "object_fit": null,
      "object_position": null,
      "order": null,
      "overflow": null,
      "overflow_x": null,
      "overflow_y": null,
      "padding": null,
      "right": null,
      "top": null,
      "visibility": null,
      "width": null
     }
    },
    "6cafa5dada1a42ceae2401db79acdf69": {
     "model_module": "@jupyter-widgets/controls",
     "model_module_version": "1.5.0",
     "model_name": "HTMLModel",
     "state": {
      "_dom_classes": [],
      "_model_module": "@jupyter-widgets/controls",
      "_model_module_version": "1.5.0",
      "_model_name": "HTMLModel",
      "_view_count": null,
      "_view_module": "@jupyter-widgets/controls",
      "_view_module_version": "1.5.0",
      "_view_name": "HTMLView",
      "description": "",
      "description_tooltip": null,
      "layout": "IPY_MODEL_fb3d1b5db0b042e893c9e8d10719d7af",
      "placeholder": "​",
      "style": "IPY_MODEL_e0eca42ef9fa42429fd9d377372cbf92",
      "value": " 462/462 [00:00&lt;00:00, 2839.79 examples/s]"
     }
    },
    "6cd4db2a79214f038f31b6484210f23c": {
     "model_module": "@jupyter-widgets/base",
     "model_module_version": "1.2.0",
     "model_name": "LayoutModel",
     "state": {
      "_model_module": "@jupyter-widgets/base",
      "_model_module_version": "1.2.0",
      "_model_name": "LayoutModel",
      "_view_count": null,
      "_view_module": "@jupyter-widgets/base",
      "_view_module_version": "1.2.0",
      "_view_name": "LayoutView",
      "align_content": null,
      "align_items": null,
      "align_self": null,
      "border": null,
      "bottom": null,
      "display": null,
      "flex": null,
      "flex_flow": null,
      "grid_area": null,
      "grid_auto_columns": null,
      "grid_auto_flow": null,
      "grid_auto_rows": null,
      "grid_column": null,
      "grid_gap": null,
      "grid_row": null,
      "grid_template_areas": null,
      "grid_template_columns": null,
      "grid_template_rows": null,
      "height": null,
      "justify_content": null,
      "justify_items": null,
      "left": null,
      "margin": null,
      "max_height": null,
      "max_width": null,
      "min_height": null,
      "min_width": null,
      "object_fit": null,
      "object_position": null,
      "order": null,
      "overflow": null,
      "overflow_x": null,
      "overflow_y": null,
      "padding": null,
      "right": null,
      "top": null,
      "visibility": null,
      "width": null
     }
    },
    "6eadf165619e4d349b5322fad07b86a5": {
     "model_module": "@jupyter-widgets/controls",
     "model_module_version": "1.5.0",
     "model_name": "DescriptionStyleModel",
     "state": {
      "_model_module": "@jupyter-widgets/controls",
      "_model_module_version": "1.5.0",
      "_model_name": "DescriptionStyleModel",
      "_view_count": null,
      "_view_module": "@jupyter-widgets/base",
      "_view_module_version": "1.2.0",
      "_view_name": "StyleView",
      "description_width": ""
     }
    },
    "6f5a7886eaa5467eb8dcdeb7a3851786": {
     "model_module": "@jupyter-widgets/base",
     "model_module_version": "1.2.0",
     "model_name": "LayoutModel",
     "state": {
      "_model_module": "@jupyter-widgets/base",
      "_model_module_version": "1.2.0",
      "_model_name": "LayoutModel",
      "_view_count": null,
      "_view_module": "@jupyter-widgets/base",
      "_view_module_version": "1.2.0",
      "_view_name": "LayoutView",
      "align_content": null,
      "align_items": null,
      "align_self": null,
      "border": null,
      "bottom": null,
      "display": null,
      "flex": null,
      "flex_flow": null,
      "grid_area": null,
      "grid_auto_columns": null,
      "grid_auto_flow": null,
      "grid_auto_rows": null,
      "grid_column": null,
      "grid_gap": null,
      "grid_row": null,
      "grid_template_areas": null,
      "grid_template_columns": null,
      "grid_template_rows": null,
      "height": null,
      "justify_content": null,
      "justify_items": null,
      "left": null,
      "margin": null,
      "max_height": null,
      "max_width": null,
      "min_height": null,
      "min_width": null,
      "object_fit": null,
      "object_position": null,
      "order": null,
      "overflow": null,
      "overflow_x": null,
      "overflow_y": null,
      "padding": null,
      "right": null,
      "top": null,
      "visibility": null,
      "width": null
     }
    },
    "6fdf6d4984a84c6ea5b48b498b19a805": {
     "model_module": "@jupyter-widgets/controls",
     "model_module_version": "1.5.0",
     "model_name": "ProgressStyleModel",
     "state": {
      "_model_module": "@jupyter-widgets/controls",
      "_model_module_version": "1.5.0",
      "_model_name": "ProgressStyleModel",
      "_view_count": null,
      "_view_module": "@jupyter-widgets/base",
      "_view_module_version": "1.2.0",
      "_view_name": "StyleView",
      "bar_color": null,
      "description_width": ""
     }
    },
    "7205c1ce06804e648feafb3c5822c0fb": {
     "model_module": "@jupyter-widgets/controls",
     "model_module_version": "1.5.0",
     "model_name": "FloatProgressModel",
     "state": {
      "_dom_classes": [],
      "_model_module": "@jupyter-widgets/controls",
      "_model_module_version": "1.5.0",
      "_model_name": "FloatProgressModel",
      "_view_count": null,
      "_view_module": "@jupyter-widgets/controls",
      "_view_module_version": "1.5.0",
      "_view_name": "ProgressView",
      "bar_style": "success",
      "description": "",
      "description_tooltip": null,
      "layout": "IPY_MODEL_d0dc1f95f58747f59603fd180f81a9ee",
      "max": 1613,
      "min": 0,
      "orientation": "horizontal",
      "style": "IPY_MODEL_6fdf6d4984a84c6ea5b48b498b19a805",
      "value": 1613
     }
    },
    "72cc2b4338634721824b2e096aaeb4e9": {
     "model_module": "@jupyter-widgets/base",
     "model_module_version": "1.2.0",
     "model_name": "LayoutModel",
     "state": {
      "_model_module": "@jupyter-widgets/base",
      "_model_module_version": "1.2.0",
      "_model_name": "LayoutModel",
      "_view_count": null,
      "_view_module": "@jupyter-widgets/base",
      "_view_module_version": "1.2.0",
      "_view_name": "LayoutView",
      "align_content": null,
      "align_items": null,
      "align_self": null,
      "border": null,
      "bottom": null,
      "display": null,
      "flex": null,
      "flex_flow": null,
      "grid_area": null,
      "grid_auto_columns": null,
      "grid_auto_flow": null,
      "grid_auto_rows": null,
      "grid_column": null,
      "grid_gap": null,
      "grid_row": null,
      "grid_template_areas": null,
      "grid_template_columns": null,
      "grid_template_rows": null,
      "height": null,
      "justify_content": null,
      "justify_items": null,
      "left": null,
      "margin": null,
      "max_height": null,
      "max_width": null,
      "min_height": null,
      "min_width": null,
      "object_fit": null,
      "object_position": null,
      "order": null,
      "overflow": null,
      "overflow_x": null,
      "overflow_y": null,
      "padding": null,
      "right": null,
      "top": null,
      "visibility": null,
      "width": null
     }
    },
    "74248347425949ae89e01c0853847401": {
     "model_module": "@jupyter-widgets/controls",
     "model_module_version": "1.5.0",
     "model_name": "HTMLModel",
     "state": {
      "_dom_classes": [],
      "_model_module": "@jupyter-widgets/controls",
      "_model_module_version": "1.5.0",
      "_model_name": "HTMLModel",
      "_view_count": null,
      "_view_module": "@jupyter-widgets/controls",
      "_view_module_version": "1.5.0",
      "_view_name": "HTMLView",
      "description": "",
      "description_tooltip": null,
      "layout": "IPY_MODEL_b1673f29bcda4049ab221f222f26f154",
      "placeholder": "​",
      "style": "IPY_MODEL_b277a7e4f8b14e419029def350dce32a",
      "value": " 351/351 [00:00&lt;00:00, 4489.28 examples/s]"
     }
    },
    "75e18faf01c24f118a01dcceb9a156bd": {
     "model_module": "@jupyter-widgets/base",
     "model_module_version": "1.2.0",
     "model_name": "LayoutModel",
     "state": {
      "_model_module": "@jupyter-widgets/base",
      "_model_module_version": "1.2.0",
      "_model_name": "LayoutModel",
      "_view_count": null,
      "_view_module": "@jupyter-widgets/base",
      "_view_module_version": "1.2.0",
      "_view_name": "LayoutView",
      "align_content": null,
      "align_items": null,
      "align_self": null,
      "border": null,
      "bottom": null,
      "display": null,
      "flex": null,
      "flex_flow": null,
      "grid_area": null,
      "grid_auto_columns": null,
      "grid_auto_flow": null,
      "grid_auto_rows": null,
      "grid_column": null,
      "grid_gap": null,
      "grid_row": null,
      "grid_template_areas": null,
      "grid_template_columns": null,
      "grid_template_rows": null,
      "height": null,
      "justify_content": null,
      "justify_items": null,
      "left": null,
      "margin": null,
      "max_height": null,
      "max_width": null,
      "min_height": null,
      "min_width": null,
      "object_fit": null,
      "object_position": null,
      "order": null,
      "overflow": null,
      "overflow_x": null,
      "overflow_y": null,
      "padding": null,
      "right": null,
      "top": null,
      "visibility": null,
      "width": null
     }
    },
    "76d183ae2f1b4313bafc57e14cb9ba95": {
     "model_module": "@jupyter-widgets/controls",
     "model_module_version": "1.5.0",
     "model_name": "DescriptionStyleModel",
     "state": {
      "_model_module": "@jupyter-widgets/controls",
      "_model_module_version": "1.5.0",
      "_model_name": "DescriptionStyleModel",
      "_view_count": null,
      "_view_module": "@jupyter-widgets/base",
      "_view_module_version": "1.2.0",
      "_view_name": "StyleView",
      "description_width": ""
     }
    },
    "77534dd7709c494c8c682b11c74c0341": {
     "model_module": "@jupyter-widgets/base",
     "model_module_version": "1.2.0",
     "model_name": "LayoutModel",
     "state": {
      "_model_module": "@jupyter-widgets/base",
      "_model_module_version": "1.2.0",
      "_model_name": "LayoutModel",
      "_view_count": null,
      "_view_module": "@jupyter-widgets/base",
      "_view_module_version": "1.2.0",
      "_view_name": "LayoutView",
      "align_content": null,
      "align_items": null,
      "align_self": null,
      "border": null,
      "bottom": null,
      "display": null,
      "flex": null,
      "flex_flow": null,
      "grid_area": null,
      "grid_auto_columns": null,
      "grid_auto_flow": null,
      "grid_auto_rows": null,
      "grid_column": null,
      "grid_gap": null,
      "grid_row": null,
      "grid_template_areas": null,
      "grid_template_columns": null,
      "grid_template_rows": null,
      "height": null,
      "justify_content": null,
      "justify_items": null,
      "left": null,
      "margin": null,
      "max_height": null,
      "max_width": null,
      "min_height": null,
      "min_width": null,
      "object_fit": null,
      "object_position": null,
      "order": null,
      "overflow": null,
      "overflow_x": null,
      "overflow_y": null,
      "padding": null,
      "right": null,
      "top": null,
      "visibility": null,
      "width": null
     }
    },
    "7a4a76eea10548f9942b835a37dce308": {
     "model_module": "@jupyter-widgets/controls",
     "model_module_version": "1.5.0",
     "model_name": "HTMLModel",
     "state": {
      "_dom_classes": [],
      "_model_module": "@jupyter-widgets/controls",
      "_model_module_version": "1.5.0",
      "_model_name": "HTMLModel",
      "_view_count": null,
      "_view_module": "@jupyter-widgets/controls",
      "_view_module_version": "1.5.0",
      "_view_name": "HTMLView",
      "description": "",
      "description_tooltip": null,
      "layout": "IPY_MODEL_d9a35ba3075840fb90c767c364b506e0",
      "placeholder": "​",
      "style": "IPY_MODEL_3f0f6d6aad384fc999a0a2866bae0a95",
      "value": " 6.79k/6.79k [00:00&lt;00:00, 706kB/s]"
     }
    },
    "7aae0aa993254946b5db49db49ceb0e2": {
     "model_module": "@jupyter-widgets/base",
     "model_module_version": "1.2.0",
     "model_name": "LayoutModel",
     "state": {
      "_model_module": "@jupyter-widgets/base",
      "_model_module_version": "1.2.0",
      "_model_name": "LayoutModel",
      "_view_count": null,
      "_view_module": "@jupyter-widgets/base",
      "_view_module_version": "1.2.0",
      "_view_name": "LayoutView",
      "align_content": null,
      "align_items": null,
      "align_self": null,
      "border": null,
      "bottom": null,
      "display": null,
      "flex": null,
      "flex_flow": null,
      "grid_area": null,
      "grid_auto_columns": null,
      "grid_auto_flow": null,
      "grid_auto_rows": null,
      "grid_column": null,
      "grid_gap": null,
      "grid_row": null,
      "grid_template_areas": null,
      "grid_template_columns": null,
      "grid_template_rows": null,
      "height": null,
      "justify_content": null,
      "justify_items": null,
      "left": null,
      "margin": null,
      "max_height": null,
      "max_width": null,
      "min_height": null,
      "min_width": null,
      "object_fit": null,
      "object_position": null,
      "order": null,
      "overflow": null,
      "overflow_x": null,
      "overflow_y": null,
      "padding": null,
      "right": null,
      "top": null,
      "visibility": null,
      "width": null
     }
    },
    "7ae2d966a3944aa58e66adea5efa26e6": {
     "model_module": "@jupyter-widgets/controls",
     "model_module_version": "1.5.0",
     "model_name": "HTMLModel",
     "state": {
      "_dom_classes": [],
      "_model_module": "@jupyter-widgets/controls",
      "_model_module_version": "1.5.0",
      "_model_name": "HTMLModel",
      "_view_count": null,
      "_view_module": "@jupyter-widgets/controls",
      "_view_module_version": "1.5.0",
      "_view_name": "HTMLView",
      "description": "",
      "description_tooltip": null,
      "layout": "IPY_MODEL_95955d66636c458593d0ef98a4a8ae12",
      "placeholder": "​",
      "style": "IPY_MODEL_23136030df2e489493fc9e90f6fba534",
      "value": "Map: 100%"
     }
    },
    "7bc94aea297a4dbdbd7e2d5571216e15": {
     "model_module": "@jupyter-widgets/controls",
     "model_module_version": "1.5.0",
     "model_name": "ProgressStyleModel",
     "state": {
      "_model_module": "@jupyter-widgets/controls",
      "_model_module_version": "1.5.0",
      "_model_name": "ProgressStyleModel",
      "_view_count": null,
      "_view_module": "@jupyter-widgets/base",
      "_view_module_version": "1.2.0",
      "_view_name": "StyleView",
      "bar_color": null,
      "description_width": ""
     }
    },
    "7bfbfd655237407d9512182483e63da2": {
     "model_module": "@jupyter-widgets/controls",
     "model_module_version": "1.5.0",
     "model_name": "DescriptionStyleModel",
     "state": {
      "_model_module": "@jupyter-widgets/controls",
      "_model_module_version": "1.5.0",
      "_model_name": "DescriptionStyleModel",
      "_view_count": null,
      "_view_module": "@jupyter-widgets/base",
      "_view_module_version": "1.2.0",
      "_view_name": "StyleView",
      "description_width": ""
     }
    },
    "7c1cb21c27904135afcc165829c57b56": {
     "model_module": "@jupyter-widgets/controls",
     "model_module_version": "1.5.0",
     "model_name": "HBoxModel",
     "state": {
      "_dom_classes": [],
      "_model_module": "@jupyter-widgets/controls",
      "_model_module_version": "1.5.0",
      "_model_name": "HBoxModel",
      "_view_count": null,
      "_view_module": "@jupyter-widgets/controls",
      "_view_module_version": "1.5.0",
      "_view_name": "HBoxView",
      "box_style": "",
      "children": [
       "IPY_MODEL_305bb4ce12ef4533939267964b66394b",
       "IPY_MODEL_1687fb61f1d14f0eb99f451c51fc1f37",
       "IPY_MODEL_f4a95ed5d629468a91fc389c044716b1"
      ],
      "layout": "IPY_MODEL_419c2859d6c24114b70978fd83b59237"
     }
    },
    "7d56b0860b214a20a88275bb216de671": {
     "model_module": "@jupyter-widgets/controls",
     "model_module_version": "1.5.0",
     "model_name": "FloatProgressModel",
     "state": {
      "_dom_classes": [],
      "_model_module": "@jupyter-widgets/controls",
      "_model_module_version": "1.5.0",
      "_model_name": "FloatProgressModel",
      "_view_count": null,
      "_view_module": "@jupyter-widgets/controls",
      "_view_module_version": "1.5.0",
      "_view_name": "ProgressView",
      "bar_style": "success",
      "description": "",
      "description_tooltip": null,
      "layout": "IPY_MODEL_6f5a7886eaa5467eb8dcdeb7a3851786",
      "max": 351,
      "min": 0,
      "orientation": "horizontal",
      "style": "IPY_MODEL_29702b08b3e84dc2837e60a5a1f285a5",
      "value": 351
     }
    },
    "7e70934fe1474b0ebe6ebf47d7cb38a2": {
     "model_module": "@jupyter-widgets/controls",
     "model_module_version": "1.5.0",
     "model_name": "HTMLModel",
     "state": {
      "_dom_classes": [],
      "_model_module": "@jupyter-widgets/controls",
      "_model_module_version": "1.5.0",
      "_model_name": "HTMLModel",
      "_view_count": null,
      "_view_module": "@jupyter-widgets/controls",
      "_view_module_version": "1.5.0",
      "_view_name": "HTMLView",
      "description": "",
      "description_tooltip": null,
      "layout": "IPY_MODEL_2a9200954a264506a81c86da8edeb195",
      "placeholder": "​",
      "style": "IPY_MODEL_11fc856a664e4464abf8c552bac1922f",
      "value": "Map: 100%"
     }
    },
    "7fb99c8c8d614dac944fb460d5b284d8": {
     "model_module": "@jupyter-widgets/controls",
     "model_module_version": "1.5.0",
     "model_name": "HTMLModel",
     "state": {
      "_dom_classes": [],
      "_model_module": "@jupyter-widgets/controls",
      "_model_module_version": "1.5.0",
      "_model_name": "HTMLModel",
      "_view_count": null,
      "_view_module": "@jupyter-widgets/controls",
      "_view_module_version": "1.5.0",
      "_view_name": "HTMLView",
      "description": "",
      "description_tooltip": null,
      "layout": "IPY_MODEL_b099b5ee26cd46e38936ea698204da7e",
      "placeholder": "​",
      "style": "IPY_MODEL_0a7396cd42464e5792c8e503215b5873",
      "value": "config.json: 100%"
     }
    },
    "839d6f430f7849dfbba65a904af8206a": {
     "model_module": "@jupyter-widgets/base",
     "model_module_version": "1.2.0",
     "model_name": "LayoutModel",
     "state": {
      "_model_module": "@jupyter-widgets/base",
      "_model_module_version": "1.2.0",
      "_model_name": "LayoutModel",
      "_view_count": null,
      "_view_module": "@jupyter-widgets/base",
      "_view_module_version": "1.2.0",
      "_view_name": "LayoutView",
      "align_content": null,
      "align_items": null,
      "align_self": null,
      "border": null,
      "bottom": null,
      "display": null,
      "flex": null,
      "flex_flow": null,
      "grid_area": null,
      "grid_auto_columns": null,
      "grid_auto_flow": null,
      "grid_auto_rows": null,
      "grid_column": null,
      "grid_gap": null,
      "grid_row": null,
      "grid_template_areas": null,
      "grid_template_columns": null,
      "grid_template_rows": null,
      "height": null,
      "justify_content": null,
      "justify_items": null,
      "left": null,
      "margin": null,
      "max_height": null,
      "max_width": null,
      "min_height": null,
      "min_width": null,
      "object_fit": null,
      "object_position": null,
      "order": null,
      "overflow": null,
      "overflow_x": null,
      "overflow_y": null,
      "padding": null,
      "right": null,
      "top": null,
      "visibility": null,
      "width": null
     }
    },
    "83e31c9eeebf444c9deb6da94eebc1ca": {
     "model_module": "@jupyter-widgets/base",
     "model_module_version": "1.2.0",
     "model_name": "LayoutModel",
     "state": {
      "_model_module": "@jupyter-widgets/base",
      "_model_module_version": "1.2.0",
      "_model_name": "LayoutModel",
      "_view_count": null,
      "_view_module": "@jupyter-widgets/base",
      "_view_module_version": "1.2.0",
      "_view_name": "LayoutView",
      "align_content": null,
      "align_items": null,
      "align_self": null,
      "border": null,
      "bottom": null,
      "display": null,
      "flex": null,
      "flex_flow": null,
      "grid_area": null,
      "grid_auto_columns": null,
      "grid_auto_flow": null,
      "grid_auto_rows": null,
      "grid_column": null,
      "grid_gap": null,
      "grid_row": null,
      "grid_template_areas": null,
      "grid_template_columns": null,
      "grid_template_rows": null,
      "height": null,
      "justify_content": null,
      "justify_items": null,
      "left": null,
      "margin": null,
      "max_height": null,
      "max_width": null,
      "min_height": null,
      "min_width": null,
      "object_fit": null,
      "object_position": null,
      "order": null,
      "overflow": null,
      "overflow_x": null,
      "overflow_y": null,
      "padding": null,
      "right": null,
      "top": null,
      "visibility": null,
      "width": null
     }
    },
    "86950963b5954b8eb7aa30a00cdb1683": {
     "model_module": "@jupyter-widgets/controls",
     "model_module_version": "1.5.0",
     "model_name": "HTMLModel",
     "state": {
      "_dom_classes": [],
      "_model_module": "@jupyter-widgets/controls",
      "_model_module_version": "1.5.0",
      "_model_name": "HTMLModel",
      "_view_count": null,
      "_view_module": "@jupyter-widgets/controls",
      "_view_module_version": "1.5.0",
      "_view_name": "HTMLView",
      "description": "",
      "description_tooltip": null,
      "layout": "IPY_MODEL_5d43b64b91604a409bd8a0d19dd5103c",
      "placeholder": "​",
      "style": "IPY_MODEL_b5ccc8fb253e40b28541ff4457029380",
      "value": "Map: 100%"
     }
    },
    "886ba1f74cbf4d7fafae0e797d38ae64": {
     "model_module": "@jupyter-widgets/controls",
     "model_module_version": "1.5.0",
     "model_name": "HTMLModel",
     "state": {
      "_dom_classes": [],
      "_model_module": "@jupyter-widgets/controls",
      "_model_module_version": "1.5.0",
      "_model_name": "HTMLModel",
      "_view_count": null,
      "_view_module": "@jupyter-widgets/controls",
      "_view_module_version": "1.5.0",
      "_view_name": "HTMLView",
      "description": "",
      "description_tooltip": null,
      "layout": "IPY_MODEL_ab35c4c2d31940919e5db12ea5970e38",
      "placeholder": "​",
      "style": "IPY_MODEL_aabaedc5e0af4a658a38625e343d70df",
      "value": " 512/512 [00:00&lt;00:00, 54.7kB/s]"
     }
    },
    "8c9a0f8c509445d5b3e0ae439f7d770b": {
     "model_module": "@jupyter-widgets/base",
     "model_module_version": "1.2.0",
     "model_name": "LayoutModel",
     "state": {
      "_model_module": "@jupyter-widgets/base",
      "_model_module_version": "1.2.0",
      "_model_name": "LayoutModel",
      "_view_count": null,
      "_view_module": "@jupyter-widgets/base",
      "_view_module_version": "1.2.0",
      "_view_name": "LayoutView",
      "align_content": null,
      "align_items": null,
      "align_self": null,
      "border": null,
      "bottom": null,
      "display": null,
      "flex": null,
      "flex_flow": null,
      "grid_area": null,
      "grid_auto_columns": null,
      "grid_auto_flow": null,
      "grid_auto_rows": null,
      "grid_column": null,
      "grid_gap": null,
      "grid_row": null,
      "grid_template_areas": null,
      "grid_template_columns": null,
      "grid_template_rows": null,
      "height": null,
      "justify_content": null,
      "justify_items": null,
      "left": null,
      "margin": null,
      "max_height": null,
      "max_width": null,
      "min_height": null,
      "min_width": null,
      "object_fit": null,
      "object_position": null,
      "order": null,
      "overflow": null,
      "overflow_x": null,
      "overflow_y": null,
      "padding": null,
      "right": null,
      "top": null,
      "visibility": null,
      "width": null
     }
    },
    "8dede352512b4506b184692d648317ec": {
     "model_module": "@jupyter-widgets/controls",
     "model_module_version": "1.5.0",
     "model_name": "DescriptionStyleModel",
     "state": {
      "_model_module": "@jupyter-widgets/controls",
      "_model_module_version": "1.5.0",
      "_model_name": "DescriptionStyleModel",
      "_view_count": null,
      "_view_module": "@jupyter-widgets/base",
      "_view_module_version": "1.2.0",
      "_view_name": "StyleView",
      "description_width": ""
     }
    },
    "8e3a6baf2bbd47789e942e9f6e0c3eb9": {
     "model_module": "@jupyter-widgets/controls",
     "model_module_version": "1.5.0",
     "model_name": "DescriptionStyleModel",
     "state": {
      "_model_module": "@jupyter-widgets/controls",
      "_model_module_version": "1.5.0",
      "_model_name": "DescriptionStyleModel",
      "_view_count": null,
      "_view_module": "@jupyter-widgets/base",
      "_view_module_version": "1.2.0",
      "_view_name": "StyleView",
      "description_width": ""
     }
    },
    "8ebb334a624d4661b463aceff86afc68": {
     "model_module": "@jupyter-widgets/controls",
     "model_module_version": "1.5.0",
     "model_name": "HBoxModel",
     "state": {
      "_dom_classes": [],
      "_model_module": "@jupyter-widgets/controls",
      "_model_module_version": "1.5.0",
      "_model_name": "HBoxModel",
      "_view_count": null,
      "_view_module": "@jupyter-widgets/controls",
      "_view_module_version": "1.5.0",
      "_view_name": "HBoxView",
      "box_style": "",
      "children": [
       "IPY_MODEL_4040cee381ec4d36a7e1824035fa5451",
       "IPY_MODEL_422c5957bb6a472d838dfe65419ea7cd",
       "IPY_MODEL_6cafa5dada1a42ceae2401db79acdf69"
      ],
      "layout": "IPY_MODEL_934b25f854bc43ba826dadddbc2bfc15"
     }
    },
    "8f6e7e8ed5c14026b68c178d702c1763": {
     "model_module": "@jupyter-widgets/controls",
     "model_module_version": "1.5.0",
     "model_name": "DescriptionStyleModel",
     "state": {
      "_model_module": "@jupyter-widgets/controls",
      "_model_module_version": "1.5.0",
      "_model_name": "DescriptionStyleModel",
      "_view_count": null,
      "_view_module": "@jupyter-widgets/base",
      "_view_module_version": "1.2.0",
      "_view_name": "StyleView",
      "description_width": ""
     }
    },
    "91a0e290e626423ba418aaf73986551e": {
     "model_module": "@jupyter-widgets/base",
     "model_module_version": "1.2.0",
     "model_name": "LayoutModel",
     "state": {
      "_model_module": "@jupyter-widgets/base",
      "_model_module_version": "1.2.0",
      "_model_name": "LayoutModel",
      "_view_count": null,
      "_view_module": "@jupyter-widgets/base",
      "_view_module_version": "1.2.0",
      "_view_name": "LayoutView",
      "align_content": null,
      "align_items": null,
      "align_self": null,
      "border": null,
      "bottom": null,
      "display": null,
      "flex": null,
      "flex_flow": null,
      "grid_area": null,
      "grid_auto_columns": null,
      "grid_auto_flow": null,
      "grid_auto_rows": null,
      "grid_column": null,
      "grid_gap": null,
      "grid_row": null,
      "grid_template_areas": null,
      "grid_template_columns": null,
      "grid_template_rows": null,
      "height": null,
      "justify_content": null,
      "justify_items": null,
      "left": null,
      "margin": null,
      "max_height": null,
      "max_width": null,
      "min_height": null,
      "min_width": null,
      "object_fit": null,
      "object_position": null,
      "order": null,
      "overflow": null,
      "overflow_x": null,
      "overflow_y": null,
      "padding": null,
      "right": null,
      "top": null,
      "visibility": null,
      "width": null
     }
    },
    "934b25f854bc43ba826dadddbc2bfc15": {
     "model_module": "@jupyter-widgets/base",
     "model_module_version": "1.2.0",
     "model_name": "LayoutModel",
     "state": {
      "_model_module": "@jupyter-widgets/base",
      "_model_module_version": "1.2.0",
      "_model_name": "LayoutModel",
      "_view_count": null,
      "_view_module": "@jupyter-widgets/base",
      "_view_module_version": "1.2.0",
      "_view_name": "LayoutView",
      "align_content": null,
      "align_items": null,
      "align_self": null,
      "border": null,
      "bottom": null,
      "display": null,
      "flex": null,
      "flex_flow": null,
      "grid_area": null,
      "grid_auto_columns": null,
      "grid_auto_flow": null,
      "grid_auto_rows": null,
      "grid_column": null,
      "grid_gap": null,
      "grid_row": null,
      "grid_template_areas": null,
      "grid_template_columns": null,
      "grid_template_rows": null,
      "height": null,
      "justify_content": null,
      "justify_items": null,
      "left": null,
      "margin": null,
      "max_height": null,
      "max_width": null,
      "min_height": null,
      "min_width": null,
      "object_fit": null,
      "object_position": null,
      "order": null,
      "overflow": null,
      "overflow_x": null,
      "overflow_y": null,
      "padding": null,
      "right": null,
      "top": null,
      "visibility": null,
      "width": null
     }
    },
    "95955d66636c458593d0ef98a4a8ae12": {
     "model_module": "@jupyter-widgets/base",
     "model_module_version": "1.2.0",
     "model_name": "LayoutModel",
     "state": {
      "_model_module": "@jupyter-widgets/base",
      "_model_module_version": "1.2.0",
      "_model_name": "LayoutModel",
      "_view_count": null,
      "_view_module": "@jupyter-widgets/base",
      "_view_module_version": "1.2.0",
      "_view_name": "LayoutView",
      "align_content": null,
      "align_items": null,
      "align_self": null,
      "border": null,
      "bottom": null,
      "display": null,
      "flex": null,
      "flex_flow": null,
      "grid_area": null,
      "grid_auto_columns": null,
      "grid_auto_flow": null,
      "grid_auto_rows": null,
      "grid_column": null,
      "grid_gap": null,
      "grid_row": null,
      "grid_template_areas": null,
      "grid_template_columns": null,
      "grid_template_rows": null,
      "height": null,
      "justify_content": null,
      "justify_items": null,
      "left": null,
      "margin": null,
      "max_height": null,
      "max_width": null,
      "min_height": null,
      "min_width": null,
      "object_fit": null,
      "object_position": null,
      "order": null,
      "overflow": null,
      "overflow_x": null,
      "overflow_y": null,
      "padding": null,
      "right": null,
      "top": null,
      "visibility": null,
      "width": null
     }
    },
    "9a03cbea5e224de1b97fff58ad451752": {
     "model_module": "@jupyter-widgets/controls",
     "model_module_version": "1.5.0",
     "model_name": "HTMLModel",
     "state": {
      "_dom_classes": [],
      "_model_module": "@jupyter-widgets/controls",
      "_model_module_version": "1.5.0",
      "_model_name": "HTMLModel",
      "_view_count": null,
      "_view_module": "@jupyter-widgets/controls",
      "_view_module_version": "1.5.0",
      "_view_name": "HTMLView",
      "description": "",
      "description_tooltip": null,
      "layout": "IPY_MODEL_d991d91c2a284f53adacc4a75ef75dd3",
      "placeholder": "​",
      "style": "IPY_MODEL_1169098d053f461a8fd73db487aadf54",
      "value": " 300/300 [00:00&lt;00:00, 2328.93 examples/s]"
     }
    },
    "9fbf9bcc0f46407d8451eb274fa59f95": {
     "model_module": "@jupyter-widgets/controls",
     "model_module_version": "1.5.0",
     "model_name": "ProgressStyleModel",
     "state": {
      "_model_module": "@jupyter-widgets/controls",
      "_model_module_version": "1.5.0",
      "_model_name": "ProgressStyleModel",
      "_view_count": null,
      "_view_module": "@jupyter-widgets/base",
      "_view_module_version": "1.2.0",
      "_view_name": "StyleView",
      "bar_color": null,
      "description_width": ""
     }
    },
    "a0f81f6446d8495384af51ab64454b02": {
     "model_module": "@jupyter-widgets/base",
     "model_module_version": "1.2.0",
     "model_name": "LayoutModel",
     "state": {
      "_model_module": "@jupyter-widgets/base",
      "_model_module_version": "1.2.0",
      "_model_name": "LayoutModel",
      "_view_count": null,
      "_view_module": "@jupyter-widgets/base",
      "_view_module_version": "1.2.0",
      "_view_name": "LayoutView",
      "align_content": null,
      "align_items": null,
      "align_self": null,
      "border": null,
      "bottom": null,
      "display": null,
      "flex": null,
      "flex_flow": null,
      "grid_area": null,
      "grid_auto_columns": null,
      "grid_auto_flow": null,
      "grid_auto_rows": null,
      "grid_column": null,
      "grid_gap": null,
      "grid_row": null,
      "grid_template_areas": null,
      "grid_template_columns": null,
      "grid_template_rows": null,
      "height": null,
      "justify_content": null,
      "justify_items": null,
      "left": null,
      "margin": null,
      "max_height": null,
      "max_width": null,
      "min_height": null,
      "min_width": null,
      "object_fit": null,
      "object_position": null,
      "order": null,
      "overflow": null,
      "overflow_x": null,
      "overflow_y": null,
      "padding": null,
      "right": null,
      "top": null,
      "visibility": null,
      "width": null
     }
    },
    "a2f1c8b42932437ab79774413d0cd06c": {
     "model_module": "@jupyter-widgets/base",
     "model_module_version": "1.2.0",
     "model_name": "LayoutModel",
     "state": {
      "_model_module": "@jupyter-widgets/base",
      "_model_module_version": "1.2.0",
      "_model_name": "LayoutModel",
      "_view_count": null,
      "_view_module": "@jupyter-widgets/base",
      "_view_module_version": "1.2.0",
      "_view_name": "LayoutView",
      "align_content": null,
      "align_items": null,
      "align_self": null,
      "border": null,
      "bottom": null,
      "display": null,
      "flex": null,
      "flex_flow": null,
      "grid_area": null,
      "grid_auto_columns": null,
      "grid_auto_flow": null,
      "grid_auto_rows": null,
      "grid_column": null,
      "grid_gap": null,
      "grid_row": null,
      "grid_template_areas": null,
      "grid_template_columns": null,
      "grid_template_rows": null,
      "height": null,
      "justify_content": null,
      "justify_items": null,
      "left": null,
      "margin": null,
      "max_height": null,
      "max_width": null,
      "min_height": null,
      "min_width": null,
      "object_fit": null,
      "object_position": null,
      "order": null,
      "overflow": null,
      "overflow_x": null,
      "overflow_y": null,
      "padding": null,
      "right": null,
      "top": null,
      "visibility": null,
      "width": null
     }
    },
    "a570ad57258c446289d3793b94038661": {
     "model_module": "@jupyter-widgets/controls",
     "model_module_version": "1.5.0",
     "model_name": "HTMLModel",
     "state": {
      "_dom_classes": [],
      "_model_module": "@jupyter-widgets/controls",
      "_model_module_version": "1.5.0",
      "_model_name": "HTMLModel",
      "_view_count": null,
      "_view_module": "@jupyter-widgets/controls",
      "_view_module_version": "1.5.0",
      "_view_name": "HTMLView",
      "description": "",
      "description_tooltip": null,
      "layout": "IPY_MODEL_e61666a0d42b448185b51acc7c7f4df6",
      "placeholder": "​",
      "style": "IPY_MODEL_647a9b3e2fe44afdaa10ae6a2479e551",
      "value": "Map: 100%"
     }
    },
    "a73b0bbe89e44829bbf5de0ea1d19b98": {
     "model_module": "@jupyter-widgets/controls",
     "model_module_version": "1.5.0",
     "model_name": "HTMLModel",
     "state": {
      "_dom_classes": [],
      "_model_module": "@jupyter-widgets/controls",
      "_model_module_version": "1.5.0",
      "_model_name": "HTMLModel",
      "_view_count": null,
      "_view_module": "@jupyter-widgets/controls",
      "_view_module_version": "1.5.0",
      "_view_name": "HTMLView",
      "description": "",
      "description_tooltip": null,
      "layout": "IPY_MODEL_36e4ab82c56a48edb7604c6649593472",
      "placeholder": "​",
      "style": "IPY_MODEL_38ebf99b11294d1886c5860fa944804c",
      "value": " 942M/942M [00:09&lt;00:00, 155MB/s]"
     }
    },
    "a7ef859299fe4704a2ce566fb5c21649": {
     "model_module": "@jupyter-widgets/controls",
     "model_module_version": "1.5.0",
     "model_name": "HBoxModel",
     "state": {
      "_dom_classes": [],
      "_model_module": "@jupyter-widgets/controls",
      "_model_module_version": "1.5.0",
      "_model_name": "HBoxModel",
      "_view_count": null,
      "_view_module": "@jupyter-widgets/controls",
      "_view_module_version": "1.5.0",
      "_view_name": "HBoxView",
      "box_style": "",
      "children": [
       "IPY_MODEL_62aa5320eea84bcf89f4735583e9a5f9",
       "IPY_MODEL_cb9c8467659f4910bd6039e93edb96aa",
       "IPY_MODEL_fbf254dcf852414182422ff44820e2ab"
      ],
      "layout": "IPY_MODEL_c54dc1e03d254637bf46effc1a848626"
     }
    },
    "aabaedc5e0af4a658a38625e343d70df": {
     "model_module": "@jupyter-widgets/controls",
     "model_module_version": "1.5.0",
     "model_name": "DescriptionStyleModel",
     "state": {
      "_model_module": "@jupyter-widgets/controls",
      "_model_module_version": "1.5.0",
      "_model_name": "DescriptionStyleModel",
      "_view_count": null,
      "_view_module": "@jupyter-widgets/base",
      "_view_module_version": "1.2.0",
      "_view_name": "StyleView",
      "description_width": ""
     }
    },
    "ab0ea291a9d34f1f8320141cf396ea1c": {
     "model_module": "@jupyter-widgets/base",
     "model_module_version": "1.2.0",
     "model_name": "LayoutModel",
     "state": {
      "_model_module": "@jupyter-widgets/base",
      "_model_module_version": "1.2.0",
      "_model_name": "LayoutModel",
      "_view_count": null,
      "_view_module": "@jupyter-widgets/base",
      "_view_module_version": "1.2.0",
      "_view_name": "LayoutView",
      "align_content": null,
      "align_items": null,
      "align_self": null,
      "border": null,
      "bottom": null,
      "display": null,
      "flex": null,
      "flex_flow": null,
      "grid_area": null,
      "grid_auto_columns": null,
      "grid_auto_flow": null,
      "grid_auto_rows": null,
      "grid_column": null,
      "grid_gap": null,
      "grid_row": null,
      "grid_template_areas": null,
      "grid_template_columns": null,
      "grid_template_rows": null,
      "height": null,
      "justify_content": null,
      "justify_items": null,
      "left": null,
      "margin": null,
      "max_height": null,
      "max_width": null,
      "min_height": null,
      "min_width": null,
      "object_fit": null,
      "object_position": null,
      "order": null,
      "overflow": null,
      "overflow_x": null,
      "overflow_y": null,
      "padding": null,
      "right": null,
      "top": null,
      "visibility": null,
      "width": null
     }
    },
    "ab35c4c2d31940919e5db12ea5970e38": {
     "model_module": "@jupyter-widgets/base",
     "model_module_version": "1.2.0",
     "model_name": "LayoutModel",
     "state": {
      "_model_module": "@jupyter-widgets/base",
      "_model_module_version": "1.2.0",
      "_model_name": "LayoutModel",
      "_view_count": null,
      "_view_module": "@jupyter-widgets/base",
      "_view_module_version": "1.2.0",
      "_view_name": "LayoutView",
      "align_content": null,
      "align_items": null,
      "align_self": null,
      "border": null,
      "bottom": null,
      "display": null,
      "flex": null,
      "flex_flow": null,
      "grid_area": null,
      "grid_auto_columns": null,
      "grid_auto_flow": null,
      "grid_auto_rows": null,
      "grid_column": null,
      "grid_gap": null,
      "grid_row": null,
      "grid_template_areas": null,
      "grid_template_columns": null,
      "grid_template_rows": null,
      "height": null,
      "justify_content": null,
      "justify_items": null,
      "left": null,
      "margin": null,
      "max_height": null,
      "max_width": null,
      "min_height": null,
      "min_width": null,
      "object_fit": null,
      "object_position": null,
      "order": null,
      "overflow": null,
      "overflow_x": null,
      "overflow_y": null,
      "padding": null,
      "right": null,
      "top": null,
      "visibility": null,
      "width": null
     }
    },
    "ab47b4855f2e486bad94b4de469dd6ce": {
     "model_module": "@jupyter-widgets/controls",
     "model_module_version": "1.5.0",
     "model_name": "ProgressStyleModel",
     "state": {
      "_model_module": "@jupyter-widgets/controls",
      "_model_module_version": "1.5.0",
      "_model_name": "ProgressStyleModel",
      "_view_count": null,
      "_view_module": "@jupyter-widgets/base",
      "_view_module_version": "1.2.0",
      "_view_name": "StyleView",
      "bar_color": null,
      "description_width": ""
     }
    },
    "af9e066524ea4da5a2346a22c3f6c237": {
     "model_module": "@jupyter-widgets/controls",
     "model_module_version": "1.5.0",
     "model_name": "FloatProgressModel",
     "state": {
      "_dom_classes": [],
      "_model_module": "@jupyter-widgets/controls",
      "_model_module_version": "1.5.0",
      "_model_name": "FloatProgressModel",
      "_view_count": null,
      "_view_module": "@jupyter-widgets/controls",
      "_view_module_version": "1.5.0",
      "_view_name": "ProgressView",
      "bar_style": "success",
      "description": "",
      "description_tooltip": null,
      "layout": "IPY_MODEL_d04a4e8d44384edd88b83c022c400c68",
      "max": 206,
      "min": 0,
      "orientation": "horizontal",
      "style": "IPY_MODEL_c08f64f9c288469e9685c808eb5ff482",
      "value": 206
     }
    },
    "b08fa6941b314568bbfc47cb3b3509f2": {
     "model_module": "@jupyter-widgets/base",
     "model_module_version": "1.2.0",
     "model_name": "LayoutModel",
     "state": {
      "_model_module": "@jupyter-widgets/base",
      "_model_module_version": "1.2.0",
      "_model_name": "LayoutModel",
      "_view_count": null,
      "_view_module": "@jupyter-widgets/base",
      "_view_module_version": "1.2.0",
      "_view_name": "LayoutView",
      "align_content": null,
      "align_items": null,
      "align_self": null,
      "border": null,
      "bottom": null,
      "display": null,
      "flex": null,
      "flex_flow": null,
      "grid_area": null,
      "grid_auto_columns": null,
      "grid_auto_flow": null,
      "grid_auto_rows": null,
      "grid_column": null,
      "grid_gap": null,
      "grid_row": null,
      "grid_template_areas": null,
      "grid_template_columns": null,
      "grid_template_rows": null,
      "height": null,
      "justify_content": null,
      "justify_items": null,
      "left": null,
      "margin": null,
      "max_height": null,
      "max_width": null,
      "min_height": null,
      "min_width": null,
      "object_fit": null,
      "object_position": null,
      "order": null,
      "overflow": null,
      "overflow_x": null,
      "overflow_y": null,
      "padding": null,
      "right": null,
      "top": null,
      "visibility": null,
      "width": null
     }
    },
    "b099b5ee26cd46e38936ea698204da7e": {
     "model_module": "@jupyter-widgets/base",
     "model_module_version": "1.2.0",
     "model_name": "LayoutModel",
     "state": {
      "_model_module": "@jupyter-widgets/base",
      "_model_module_version": "1.2.0",
      "_model_name": "LayoutModel",
      "_view_count": null,
      "_view_module": "@jupyter-widgets/base",
      "_view_module_version": "1.2.0",
      "_view_name": "LayoutView",
      "align_content": null,
      "align_items": null,
      "align_self": null,
      "border": null,
      "bottom": null,
      "display": null,
      "flex": null,
      "flex_flow": null,
      "grid_area": null,
      "grid_auto_columns": null,
      "grid_auto_flow": null,
      "grid_auto_rows": null,
      "grid_column": null,
      "grid_gap": null,
      "grid_row": null,
      "grid_template_areas": null,
      "grid_template_columns": null,
      "grid_template_rows": null,
      "height": null,
      "justify_content": null,
      "justify_items": null,
      "left": null,
      "margin": null,
      "max_height": null,
      "max_width": null,
      "min_height": null,
      "min_width": null,
      "object_fit": null,
      "object_position": null,
      "order": null,
      "overflow": null,
      "overflow_x": null,
      "overflow_y": null,
      "padding": null,
      "right": null,
      "top": null,
      "visibility": null,
      "width": null
     }
    },
    "b1673f29bcda4049ab221f222f26f154": {
     "model_module": "@jupyter-widgets/base",
     "model_module_version": "1.2.0",
     "model_name": "LayoutModel",
     "state": {
      "_model_module": "@jupyter-widgets/base",
      "_model_module_version": "1.2.0",
      "_model_name": "LayoutModel",
      "_view_count": null,
      "_view_module": "@jupyter-widgets/base",
      "_view_module_version": "1.2.0",
      "_view_name": "LayoutView",
      "align_content": null,
      "align_items": null,
      "align_self": null,
      "border": null,
      "bottom": null,
      "display": null,
      "flex": null,
      "flex_flow": null,
      "grid_area": null,
      "grid_auto_columns": null,
      "grid_auto_flow": null,
      "grid_auto_rows": null,
      "grid_column": null,
      "grid_gap": null,
      "grid_row": null,
      "grid_template_areas": null,
      "grid_template_columns": null,
      "grid_template_rows": null,
      "height": null,
      "justify_content": null,
      "justify_items": null,
      "left": null,
      "margin": null,
      "max_height": null,
      "max_width": null,
      "min_height": null,
      "min_width": null,
      "object_fit": null,
      "object_position": null,
      "order": null,
      "overflow": null,
      "overflow_x": null,
      "overflow_y": null,
      "padding": null,
      "right": null,
      "top": null,
      "visibility": null,
      "width": null
     }
    },
    "b1e47c4fba8940388a8395c405870c54": {
     "model_module": "@jupyter-widgets/controls",
     "model_module_version": "1.5.0",
     "model_name": "FloatProgressModel",
     "state": {
      "_dom_classes": [],
      "_model_module": "@jupyter-widgets/controls",
      "_model_module_version": "1.5.0",
      "_model_name": "FloatProgressModel",
      "_view_count": null,
      "_view_module": "@jupyter-widgets/controls",
      "_view_module_version": "1.5.0",
      "_view_name": "ProgressView",
      "bar_style": "success",
      "description": "",
      "description_tooltip": null,
      "layout": "IPY_MODEL_bbab8851353d450489ce142d7f08b804",
      "max": 6380,
      "min": 0,
      "orientation": "horizontal",
      "style": "IPY_MODEL_5cc71daa66b7454d9d6f865ad13044f0",
      "value": 6380
     }
    },
    "b277a7e4f8b14e419029def350dce32a": {
     "model_module": "@jupyter-widgets/controls",
     "model_module_version": "1.5.0",
     "model_name": "DescriptionStyleModel",
     "state": {
      "_model_module": "@jupyter-widgets/controls",
      "_model_module_version": "1.5.0",
      "_model_name": "DescriptionStyleModel",
      "_view_count": null,
      "_view_module": "@jupyter-widgets/base",
      "_view_module_version": "1.2.0",
      "_view_name": "StyleView",
      "description_width": ""
     }
    },
    "b3b255f6a20a4db9a0ef4d207e7f3024": {
     "model_module": "@jupyter-widgets/controls",
     "model_module_version": "1.5.0",
     "model_name": "HTMLModel",
     "state": {
      "_dom_classes": [],
      "_model_module": "@jupyter-widgets/controls",
      "_model_module_version": "1.5.0",
      "_model_name": "HTMLModel",
      "_view_count": null,
      "_view_module": "@jupyter-widgets/controls",
      "_view_module_version": "1.5.0",
      "_view_name": "HTMLView",
      "description": "",
      "description_tooltip": null,
      "layout": "IPY_MODEL_ab0ea291a9d34f1f8320141cf396ea1c",
      "placeholder": "​",
      "style": "IPY_MODEL_6161dd7ad87341f4b272e63d511a4924",
      "value": "Downloading builder script: 100%"
     }
    },
    "b5ccc8fb253e40b28541ff4457029380": {
     "model_module": "@jupyter-widgets/controls",
     "model_module_version": "1.5.0",
     "model_name": "DescriptionStyleModel",
     "state": {
      "_model_module": "@jupyter-widgets/controls",
      "_model_module_version": "1.5.0",
      "_model_name": "DescriptionStyleModel",
      "_view_count": null,
      "_view_module": "@jupyter-widgets/base",
      "_view_module_version": "1.2.0",
      "_view_name": "StyleView",
      "description_width": ""
     }
    },
    "b7337b01f75d464fa3b9ba3599209e12": {
     "model_module": "@jupyter-widgets/controls",
     "model_module_version": "1.5.0",
     "model_name": "HTMLModel",
     "state": {
      "_dom_classes": [],
      "_model_module": "@jupyter-widgets/controls",
      "_model_module_version": "1.5.0",
      "_model_name": "HTMLModel",
      "_view_count": null,
      "_view_module": "@jupyter-widgets/controls",
      "_view_module_version": "1.5.0",
      "_view_name": "HTMLView",
      "description": "",
      "description_tooltip": null,
      "layout": "IPY_MODEL_d606bda15c98402c8f476873d70a3a8d",
      "placeholder": "​",
      "style": "IPY_MODEL_412ab1effef14573b0fadbdb786cec95",
      "value": "Map: 100%"
     }
    },
    "b7a0f03543cb491e9f88c354e76ad9f2": {
     "model_module": "@jupyter-widgets/base",
     "model_module_version": "1.2.0",
     "model_name": "LayoutModel",
     "state": {
      "_model_module": "@jupyter-widgets/base",
      "_model_module_version": "1.2.0",
      "_model_name": "LayoutModel",
      "_view_count": null,
      "_view_module": "@jupyter-widgets/base",
      "_view_module_version": "1.2.0",
      "_view_name": "LayoutView",
      "align_content": null,
      "align_items": null,
      "align_self": null,
      "border": null,
      "bottom": null,
      "display": null,
      "flex": null,
      "flex_flow": null,
      "grid_area": null,
      "grid_auto_columns": null,
      "grid_auto_flow": null,
      "grid_auto_rows": null,
      "grid_column": null,
      "grid_gap": null,
      "grid_row": null,
      "grid_template_areas": null,
      "grid_template_columns": null,
      "grid_template_rows": null,
      "height": null,
      "justify_content": null,
      "justify_items": null,
      "left": null,
      "margin": null,
      "max_height": null,
      "max_width": null,
      "min_height": null,
      "min_width": null,
      "object_fit": null,
      "object_position": null,
      "order": null,
      "overflow": null,
      "overflow_x": null,
      "overflow_y": null,
      "padding": null,
      "right": null,
      "top": null,
      "visibility": null,
      "width": null
     }
    },
    "b8b5dbc973fd428bafae183de4a4c8ce": {
     "model_module": "@jupyter-widgets/base",
     "model_module_version": "1.2.0",
     "model_name": "LayoutModel",
     "state": {
      "_model_module": "@jupyter-widgets/base",
      "_model_module_version": "1.2.0",
      "_model_name": "LayoutModel",
      "_view_count": null,
      "_view_module": "@jupyter-widgets/base",
      "_view_module_version": "1.2.0",
      "_view_name": "LayoutView",
      "align_content": null,
      "align_items": null,
      "align_self": null,
      "border": null,
      "bottom": null,
      "display": null,
      "flex": null,
      "flex_flow": null,
      "grid_area": null,
      "grid_auto_columns": null,
      "grid_auto_flow": null,
      "grid_auto_rows": null,
      "grid_column": null,
      "grid_gap": null,
      "grid_row": null,
      "grid_template_areas": null,
      "grid_template_columns": null,
      "grid_template_rows": null,
      "height": null,
      "justify_content": null,
      "justify_items": null,
      "left": null,
      "margin": null,
      "max_height": null,
      "max_width": null,
      "min_height": null,
      "min_width": null,
      "object_fit": null,
      "object_position": null,
      "order": null,
      "overflow": null,
      "overflow_x": null,
      "overflow_y": null,
      "padding": null,
      "right": null,
      "top": null,
      "visibility": null,
      "width": null
     }
    },
    "b9f54dd2d27743e98bba36c8d36c2e10": {
     "model_module": "@jupyter-widgets/controls",
     "model_module_version": "1.5.0",
     "model_name": "ProgressStyleModel",
     "state": {
      "_model_module": "@jupyter-widgets/controls",
      "_model_module_version": "1.5.0",
      "_model_name": "ProgressStyleModel",
      "_view_count": null,
      "_view_module": "@jupyter-widgets/base",
      "_view_module_version": "1.2.0",
      "_view_name": "StyleView",
      "bar_color": null,
      "description_width": ""
     }
    },
    "ba300c807aae4be298315825e9dac9a4": {
     "model_module": "@jupyter-widgets/controls",
     "model_module_version": "1.5.0",
     "model_name": "HTMLModel",
     "state": {
      "_dom_classes": [],
      "_model_module": "@jupyter-widgets/controls",
      "_model_module_version": "1.5.0",
      "_model_name": "HTMLModel",
      "_view_count": null,
      "_view_module": "@jupyter-widgets/controls",
      "_view_module_version": "1.5.0",
      "_view_name": "HTMLView",
      "description": "",
      "description_tooltip": null,
      "layout": "IPY_MODEL_1304ece3bef0474ab93210955e6859a9",
      "placeholder": "​",
      "style": "IPY_MODEL_3a59124e027a44aa962661c045c2cf81",
      "value": "Map: 100%"
     }
    },
    "baced56eac214b58afe5153752a434c0": {
     "model_module": "@jupyter-widgets/base",
     "model_module_version": "1.2.0",
     "model_name": "LayoutModel",
     "state": {
      "_model_module": "@jupyter-widgets/base",
      "_model_module_version": "1.2.0",
      "_model_name": "LayoutModel",
      "_view_count": null,
      "_view_module": "@jupyter-widgets/base",
      "_view_module_version": "1.2.0",
      "_view_name": "LayoutView",
      "align_content": null,
      "align_items": null,
      "align_self": null,
      "border": null,
      "bottom": null,
      "display": null,
      "flex": null,
      "flex_flow": null,
      "grid_area": null,
      "grid_auto_columns": null,
      "grid_auto_flow": null,
      "grid_auto_rows": null,
      "grid_column": null,
      "grid_gap": null,
      "grid_row": null,
      "grid_template_areas": null,
      "grid_template_columns": null,
      "grid_template_rows": null,
      "height": null,
      "justify_content": null,
      "justify_items": null,
      "left": null,
      "margin": null,
      "max_height": null,
      "max_width": null,
      "min_height": null,
      "min_width": null,
      "object_fit": null,
      "object_position": null,
      "order": null,
      "overflow": null,
      "overflow_x": null,
      "overflow_y": null,
      "padding": null,
      "right": null,
      "top": null,
      "visibility": null,
      "width": null
     }
    },
    "badcbac18a6f4e6ab4caa5e5ebbd24f9": {
     "model_module": "@jupyter-widgets/controls",
     "model_module_version": "1.5.0",
     "model_name": "FloatProgressModel",
     "state": {
      "_dom_classes": [],
      "_model_module": "@jupyter-widgets/controls",
      "_model_module_version": "1.5.0",
      "_model_name": "FloatProgressModel",
      "_view_count": null,
      "_view_module": "@jupyter-widgets/controls",
      "_view_module_version": "1.5.0",
      "_view_name": "ProgressView",
      "bar_style": "success",
      "description": "",
      "description_tooltip": null,
      "layout": "IPY_MODEL_21e77b96adfb45bdb84acdf688c15eb6",
      "max": 1982,
      "min": 0,
      "orientation": "horizontal",
      "style": "IPY_MODEL_13928ba4c75042129294640bb22e4aa5",
      "value": 1982
     }
    },
    "bbab8851353d450489ce142d7f08b804": {
     "model_module": "@jupyter-widgets/base",
     "model_module_version": "1.2.0",
     "model_name": "LayoutModel",
     "state": {
      "_model_module": "@jupyter-widgets/base",
      "_model_module_version": "1.2.0",
      "_model_name": "LayoutModel",
      "_view_count": null,
      "_view_module": "@jupyter-widgets/base",
      "_view_module_version": "1.2.0",
      "_view_name": "LayoutView",
      "align_content": null,
      "align_items": null,
      "align_self": null,
      "border": null,
      "bottom": null,
      "display": null,
      "flex": null,
      "flex_flow": null,
      "grid_area": null,
      "grid_auto_columns": null,
      "grid_auto_flow": null,
      "grid_auto_rows": null,
      "grid_column": null,
      "grid_gap": null,
      "grid_row": null,
      "grid_template_areas": null,
      "grid_template_columns": null,
      "grid_template_rows": null,
      "height": null,
      "justify_content": null,
      "justify_items": null,
      "left": null,
      "margin": null,
      "max_height": null,
      "max_width": null,
      "min_height": null,
      "min_width": null,
      "object_fit": null,
      "object_position": null,
      "order": null,
      "overflow": null,
      "overflow_x": null,
      "overflow_y": null,
      "padding": null,
      "right": null,
      "top": null,
      "visibility": null,
      "width": null
     }
    },
    "bc5f6ae5e1984c609048e1b5a093cafa": {
     "model_module": "@jupyter-widgets/base",
     "model_module_version": "1.2.0",
     "model_name": "LayoutModel",
     "state": {
      "_model_module": "@jupyter-widgets/base",
      "_model_module_version": "1.2.0",
      "_model_name": "LayoutModel",
      "_view_count": null,
      "_view_module": "@jupyter-widgets/base",
      "_view_module_version": "1.2.0",
      "_view_name": "LayoutView",
      "align_content": null,
      "align_items": null,
      "align_self": null,
      "border": null,
      "bottom": null,
      "display": null,
      "flex": null,
      "flex_flow": null,
      "grid_area": null,
      "grid_auto_columns": null,
      "grid_auto_flow": null,
      "grid_auto_rows": null,
      "grid_column": null,
      "grid_gap": null,
      "grid_row": null,
      "grid_template_areas": null,
      "grid_template_columns": null,
      "grid_template_rows": null,
      "height": null,
      "justify_content": null,
      "justify_items": null,
      "left": null,
      "margin": null,
      "max_height": null,
      "max_width": null,
      "min_height": null,
      "min_width": null,
      "object_fit": null,
      "object_position": null,
      "order": null,
      "overflow": null,
      "overflow_x": null,
      "overflow_y": null,
      "padding": null,
      "right": null,
      "top": null,
      "visibility": null,
      "width": null
     }
    },
    "bcaf6e6e702d4f218152b19f781c8727": {
     "model_module": "@jupyter-widgets/controls",
     "model_module_version": "1.5.0",
     "model_name": "FloatProgressModel",
     "state": {
      "_dom_classes": [],
      "_model_module": "@jupyter-widgets/controls",
      "_model_module_version": "1.5.0",
      "_model_name": "FloatProgressModel",
      "_view_count": null,
      "_view_module": "@jupyter-widgets/controls",
      "_view_module_version": "1.5.0",
      "_view_name": "ProgressView",
      "bar_style": "success",
      "description": "",
      "description_tooltip": null,
      "layout": "IPY_MODEL_5746057dcfec44eea15bb459dd99e666",
      "max": 941810198,
      "min": 0,
      "orientation": "horizontal",
      "style": "IPY_MODEL_7bc94aea297a4dbdbd7e2d5571216e15",
      "value": 941810198
     }
    },
    "be7a8d98fd7e42319d6b9dcf5d980ef1": {
     "model_module": "@jupyter-widgets/base",
     "model_module_version": "1.2.0",
     "model_name": "LayoutModel",
     "state": {
      "_model_module": "@jupyter-widgets/base",
      "_model_module_version": "1.2.0",
      "_model_name": "LayoutModel",
      "_view_count": null,
      "_view_module": "@jupyter-widgets/base",
      "_view_module_version": "1.2.0",
      "_view_name": "LayoutView",
      "align_content": null,
      "align_items": null,
      "align_self": null,
      "border": null,
      "bottom": null,
      "display": null,
      "flex": null,
      "flex_flow": null,
      "grid_area": null,
      "grid_auto_columns": null,
      "grid_auto_flow": null,
      "grid_auto_rows": null,
      "grid_column": null,
      "grid_gap": null,
      "grid_row": null,
      "grid_template_areas": null,
      "grid_template_columns": null,
      "grid_template_rows": null,
      "height": null,
      "justify_content": null,
      "justify_items": null,
      "left": null,
      "margin": null,
      "max_height": null,
      "max_width": null,
      "min_height": null,
      "min_width": null,
      "object_fit": null,
      "object_position": null,
      "order": null,
      "overflow": null,
      "overflow_x": null,
      "overflow_y": null,
      "padding": null,
      "right": null,
      "top": null,
      "visibility": null,
      "width": null
     }
    },
    "bf815138cc614f65a39417888fdf22d7": {
     "model_module": "@jupyter-widgets/controls",
     "model_module_version": "1.5.0",
     "model_name": "HTMLModel",
     "state": {
      "_dom_classes": [],
      "_model_module": "@jupyter-widgets/controls",
      "_model_module_version": "1.5.0",
      "_model_name": "HTMLModel",
      "_view_count": null,
      "_view_module": "@jupyter-widgets/controls",
      "_view_module_version": "1.5.0",
      "_view_name": "HTMLView",
      "description": "",
      "description_tooltip": null,
      "layout": "IPY_MODEL_4fa2f3e32cd0441bb88ad18031adcdcb",
      "placeholder": "​",
      "style": "IPY_MODEL_8f6e7e8ed5c14026b68c178d702c1763",
      "value": " 6380/6380 [00:05&lt;00:00, 1146.50 examples/s]"
     }
    },
    "c08f64f9c288469e9685c808eb5ff482": {
     "model_module": "@jupyter-widgets/controls",
     "model_module_version": "1.5.0",
     "model_name": "ProgressStyleModel",
     "state": {
      "_model_module": "@jupyter-widgets/controls",
      "_model_module_version": "1.5.0",
      "_model_name": "ProgressStyleModel",
      "_view_count": null,
      "_view_module": "@jupyter-widgets/base",
      "_view_module_version": "1.2.0",
      "_view_name": "StyleView",
      "bar_color": null,
      "description_width": ""
     }
    },
    "c1cde9f2e58d4fd4b8b2ef21915ced5b": {
     "model_module": "@jupyter-widgets/controls",
     "model_module_version": "1.5.0",
     "model_name": "HBoxModel",
     "state": {
      "_dom_classes": [],
      "_model_module": "@jupyter-widgets/controls",
      "_model_module_version": "1.5.0",
      "_model_name": "HBoxModel",
      "_view_count": null,
      "_view_module": "@jupyter-widgets/controls",
      "_view_module_version": "1.5.0",
      "_view_name": "HBoxView",
      "box_style": "",
      "children": [
       "IPY_MODEL_86950963b5954b8eb7aa30a00cdb1683",
       "IPY_MODEL_32f40acd8b134b479a9a3a05dc80680d",
       "IPY_MODEL_9a03cbea5e224de1b97fff58ad451752"
      ],
      "layout": "IPY_MODEL_7aae0aa993254946b5db49db49ceb0e2"
     }
    },
    "c26eb271c3a54331bb911b55daf05562": {
     "model_module": "@jupyter-widgets/controls",
     "model_module_version": "1.5.0",
     "model_name": "HTMLModel",
     "state": {
      "_dom_classes": [],
      "_model_module": "@jupyter-widgets/controls",
      "_model_module_version": "1.5.0",
      "_model_name": "HTMLModel",
      "_view_count": null,
      "_view_module": "@jupyter-widgets/controls",
      "_view_module_version": "1.5.0",
      "_view_name": "HTMLView",
      "description": "",
      "description_tooltip": null,
      "layout": "IPY_MODEL_552756b82e6c430fb3bd06437ed871b1",
      "placeholder": "​",
      "style": "IPY_MODEL_ecc1fc42e5c441ca9b16af6403635237",
      "value": " 297/297 [00:00&lt;00:00, 2877.97 examples/s]"
     }
    },
    "c383548ff3f246b48ff34a40f9ba42a7": {
     "model_module": "@jupyter-widgets/controls",
     "model_module_version": "1.5.0",
     "model_name": "HTMLModel",
     "state": {
      "_dom_classes": [],
      "_model_module": "@jupyter-widgets/controls",
      "_model_module_version": "1.5.0",
      "_model_name": "HTMLModel",
      "_view_count": null,
      "_view_module": "@jupyter-widgets/controls",
      "_view_module_version": "1.5.0",
      "_view_name": "HTMLView",
      "description": "",
      "description_tooltip": null,
      "layout": "IPY_MODEL_47955ffbfef44197b85d5a2479e5afb8",
      "placeholder": "​",
      "style": "IPY_MODEL_5b67669629e546bda9083841ff181535",
      "value": "Map: 100%"
     }
    },
    "c54dc1e03d254637bf46effc1a848626": {
     "model_module": "@jupyter-widgets/base",
     "model_module_version": "1.2.0",
     "model_name": "LayoutModel",
     "state": {
      "_model_module": "@jupyter-widgets/base",
      "_model_module_version": "1.2.0",
      "_model_name": "LayoutModel",
      "_view_count": null,
      "_view_module": "@jupyter-widgets/base",
      "_view_module_version": "1.2.0",
      "_view_name": "LayoutView",
      "align_content": null,
      "align_items": null,
      "align_self": null,
      "border": null,
      "bottom": null,
      "display": null,
      "flex": null,
      "flex_flow": null,
      "grid_area": null,
      "grid_auto_columns": null,
      "grid_auto_flow": null,
      "grid_auto_rows": null,
      "grid_column": null,
      "grid_gap": null,
      "grid_row": null,
      "grid_template_areas": null,
      "grid_template_columns": null,
      "grid_template_rows": null,
      "height": null,
      "justify_content": null,
      "justify_items": null,
      "left": null,
      "margin": null,
      "max_height": null,
      "max_width": null,
      "min_height": null,
      "min_width": null,
      "object_fit": null,
      "object_position": null,
      "order": null,
      "overflow": null,
      "overflow_x": null,
      "overflow_y": null,
      "padding": null,
      "right": null,
      "top": null,
      "visibility": null,
      "width": null
     }
    },
    "c6043a7bf04645149976064090b68f4b": {
     "model_module": "@jupyter-widgets/base",
     "model_module_version": "1.2.0",
     "model_name": "LayoutModel",
     "state": {
      "_model_module": "@jupyter-widgets/base",
      "_model_module_version": "1.2.0",
      "_model_name": "LayoutModel",
      "_view_count": null,
      "_view_module": "@jupyter-widgets/base",
      "_view_module_version": "1.2.0",
      "_view_name": "LayoutView",
      "align_content": null,
      "align_items": null,
      "align_self": null,
      "border": null,
      "bottom": null,
      "display": null,
      "flex": null,
      "flex_flow": null,
      "grid_area": null,
      "grid_auto_columns": null,
      "grid_auto_flow": null,
      "grid_auto_rows": null,
      "grid_column": null,
      "grid_gap": null,
      "grid_row": null,
      "grid_template_areas": null,
      "grid_template_columns": null,
      "grid_template_rows": null,
      "height": null,
      "justify_content": null,
      "justify_items": null,
      "left": null,
      "margin": null,
      "max_height": null,
      "max_width": null,
      "min_height": null,
      "min_width": null,
      "object_fit": null,
      "object_position": null,
      "order": null,
      "overflow": null,
      "overflow_x": null,
      "overflow_y": null,
      "padding": null,
      "right": null,
      "top": null,
      "visibility": null,
      "width": null
     }
    },
    "c6eb3d30e7434f0fb92c8c6af64c41e4": {
     "model_module": "@jupyter-widgets/controls",
     "model_module_version": "1.5.0",
     "model_name": "HTMLModel",
     "state": {
      "_dom_classes": [],
      "_model_module": "@jupyter-widgets/controls",
      "_model_module_version": "1.5.0",
      "_model_name": "HTMLModel",
      "_view_count": null,
      "_view_module": "@jupyter-widgets/controls",
      "_view_module_version": "1.5.0",
      "_view_name": "HTMLView",
      "description": "",
      "description_tooltip": null,
      "layout": "IPY_MODEL_6ca88a84c04549fab6defe74828e72cf",
      "placeholder": "​",
      "style": "IPY_MODEL_54f419be0c114d1bb7cd80ccbe712393",
      "value": " 206/206 [00:00&lt;00:00, 3103.45 examples/s]"
     }
    },
    "c725c5f7e7fa4a4bb5954cc933aa1819": {
     "model_module": "@jupyter-widgets/base",
     "model_module_version": "1.2.0",
     "model_name": "LayoutModel",
     "state": {
      "_model_module": "@jupyter-widgets/base",
      "_model_module_version": "1.2.0",
      "_model_name": "LayoutModel",
      "_view_count": null,
      "_view_module": "@jupyter-widgets/base",
      "_view_module_version": "1.2.0",
      "_view_name": "LayoutView",
      "align_content": null,
      "align_items": null,
      "align_self": null,
      "border": null,
      "bottom": null,
      "display": null,
      "flex": null,
      "flex_flow": null,
      "grid_area": null,
      "grid_auto_columns": null,
      "grid_auto_flow": null,
      "grid_auto_rows": null,
      "grid_column": null,
      "grid_gap": null,
      "grid_row": null,
      "grid_template_areas": null,
      "grid_template_columns": null,
      "grid_template_rows": null,
      "height": null,
      "justify_content": null,
      "justify_items": null,
      "left": null,
      "margin": null,
      "max_height": null,
      "max_width": null,
      "min_height": null,
      "min_width": null,
      "object_fit": null,
      "object_position": null,
      "order": null,
      "overflow": null,
      "overflow_x": null,
      "overflow_y": null,
      "padding": null,
      "right": null,
      "top": null,
      "visibility": null,
      "width": null
     }
    },
    "c7ef8f9e381d448ebb5a12880b6b52a4": {
     "model_module": "@jupyter-widgets/base",
     "model_module_version": "1.2.0",
     "model_name": "LayoutModel",
     "state": {
      "_model_module": "@jupyter-widgets/base",
      "_model_module_version": "1.2.0",
      "_model_name": "LayoutModel",
      "_view_count": null,
      "_view_module": "@jupyter-widgets/base",
      "_view_module_version": "1.2.0",
      "_view_name": "LayoutView",
      "align_content": null,
      "align_items": null,
      "align_self": null,
      "border": null,
      "bottom": null,
      "display": null,
      "flex": null,
      "flex_flow": null,
      "grid_area": null,
      "grid_auto_columns": null,
      "grid_auto_flow": null,
      "grid_auto_rows": null,
      "grid_column": null,
      "grid_gap": null,
      "grid_row": null,
      "grid_template_areas": null,
      "grid_template_columns": null,
      "grid_template_rows": null,
      "height": null,
      "justify_content": null,
      "justify_items": null,
      "left": null,
      "margin": null,
      "max_height": null,
      "max_width": null,
      "min_height": null,
      "min_width": null,
      "object_fit": null,
      "object_position": null,
      "order": null,
      "overflow": null,
      "overflow_x": null,
      "overflow_y": null,
      "padding": null,
      "right": null,
      "top": null,
      "visibility": null,
      "width": null
     }
    },
    "cb9c8467659f4910bd6039e93edb96aa": {
     "model_module": "@jupyter-widgets/controls",
     "model_module_version": "1.5.0",
     "model_name": "FloatProgressModel",
     "state": {
      "_dom_classes": [],
      "_model_module": "@jupyter-widgets/controls",
      "_model_module_version": "1.5.0",
      "_model_name": "FloatProgressModel",
      "_view_count": null,
      "_view_module": "@jupyter-widgets/controls",
      "_view_module_version": "1.5.0",
      "_view_name": "ProgressView",
      "bar_style": "success",
      "description": "",
      "description_tooltip": null,
      "layout": "IPY_MODEL_be7a8d98fd7e42319d6b9dcf5d980ef1",
      "max": 941799172,
      "min": 0,
      "orientation": "horizontal",
      "style": "IPY_MODEL_dd1e40b7d0f64f2484baa20686451a20",
      "value": 941799172
     }
    },
    "cbd280482cd34a86bfe74e7040e3f592": {
     "model_module": "@jupyter-widgets/base",
     "model_module_version": "1.2.0",
     "model_name": "LayoutModel",
     "state": {
      "_model_module": "@jupyter-widgets/base",
      "_model_module_version": "1.2.0",
      "_model_name": "LayoutModel",
      "_view_count": null,
      "_view_module": "@jupyter-widgets/base",
      "_view_module_version": "1.2.0",
      "_view_name": "LayoutView",
      "align_content": null,
      "align_items": null,
      "align_self": null,
      "border": null,
      "bottom": null,
      "display": null,
      "flex": null,
      "flex_flow": null,
      "grid_area": null,
      "grid_auto_columns": null,
      "grid_auto_flow": null,
      "grid_auto_rows": null,
      "grid_column": null,
      "grid_gap": null,
      "grid_row": null,
      "grid_template_areas": null,
      "grid_template_columns": null,
      "grid_template_rows": null,
      "height": null,
      "justify_content": null,
      "justify_items": null,
      "left": null,
      "margin": null,
      "max_height": null,
      "max_width": null,
      "min_height": null,
      "min_width": null,
      "object_fit": null,
      "object_position": null,
      "order": null,
      "overflow": null,
      "overflow_x": null,
      "overflow_y": null,
      "padding": null,
      "right": null,
      "top": null,
      "visibility": null,
      "width": null
     }
    },
    "cf3ad7fc8865421f896bc8646de83958": {
     "model_module": "@jupyter-widgets/base",
     "model_module_version": "1.2.0",
     "model_name": "LayoutModel",
     "state": {
      "_model_module": "@jupyter-widgets/base",
      "_model_module_version": "1.2.0",
      "_model_name": "LayoutModel",
      "_view_count": null,
      "_view_module": "@jupyter-widgets/base",
      "_view_module_version": "1.2.0",
      "_view_name": "LayoutView",
      "align_content": null,
      "align_items": null,
      "align_self": null,
      "border": null,
      "bottom": null,
      "display": null,
      "flex": null,
      "flex_flow": null,
      "grid_area": null,
      "grid_auto_columns": null,
      "grid_auto_flow": null,
      "grid_auto_rows": null,
      "grid_column": null,
      "grid_gap": null,
      "grid_row": null,
      "grid_template_areas": null,
      "grid_template_columns": null,
      "grid_template_rows": null,
      "height": null,
      "justify_content": null,
      "justify_items": null,
      "left": null,
      "margin": null,
      "max_height": null,
      "max_width": null,
      "min_height": null,
      "min_width": null,
      "object_fit": null,
      "object_position": null,
      "order": null,
      "overflow": null,
      "overflow_x": null,
      "overflow_y": null,
      "padding": null,
      "right": null,
      "top": null,
      "visibility": null,
      "width": null
     }
    },
    "d04a4e8d44384edd88b83c022c400c68": {
     "model_module": "@jupyter-widgets/base",
     "model_module_version": "1.2.0",
     "model_name": "LayoutModel",
     "state": {
      "_model_module": "@jupyter-widgets/base",
      "_model_module_version": "1.2.0",
      "_model_name": "LayoutModel",
      "_view_count": null,
      "_view_module": "@jupyter-widgets/base",
      "_view_module_version": "1.2.0",
      "_view_name": "LayoutView",
      "align_content": null,
      "align_items": null,
      "align_self": null,
      "border": null,
      "bottom": null,
      "display": null,
      "flex": null,
      "flex_flow": null,
      "grid_area": null,
      "grid_auto_columns": null,
      "grid_auto_flow": null,
      "grid_auto_rows": null,
      "grid_column": null,
      "grid_gap": null,
      "grid_row": null,
      "grid_template_areas": null,
      "grid_template_columns": null,
      "grid_template_rows": null,
      "height": null,
      "justify_content": null,
      "justify_items": null,
      "left": null,
      "margin": null,
      "max_height": null,
      "max_width": null,
      "min_height": null,
      "min_width": null,
      "object_fit": null,
      "object_position": null,
      "order": null,
      "overflow": null,
      "overflow_x": null,
      "overflow_y": null,
      "padding": null,
      "right": null,
      "top": null,
      "visibility": null,
      "width": null
     }
    },
    "d0dc1f95f58747f59603fd180f81a9ee": {
     "model_module": "@jupyter-widgets/base",
     "model_module_version": "1.2.0",
     "model_name": "LayoutModel",
     "state": {
      "_model_module": "@jupyter-widgets/base",
      "_model_module_version": "1.2.0",
      "_model_name": "LayoutModel",
      "_view_count": null,
      "_view_module": "@jupyter-widgets/base",
      "_view_module_version": "1.2.0",
      "_view_name": "LayoutView",
      "align_content": null,
      "align_items": null,
      "align_self": null,
      "border": null,
      "bottom": null,
      "display": null,
      "flex": null,
      "flex_flow": null,
      "grid_area": null,
      "grid_auto_columns": null,
      "grid_auto_flow": null,
      "grid_auto_rows": null,
      "grid_column": null,
      "grid_gap": null,
      "grid_row": null,
      "grid_template_areas": null,
      "grid_template_columns": null,
      "grid_template_rows": null,
      "height": null,
      "justify_content": null,
      "justify_items": null,
      "left": null,
      "margin": null,
      "max_height": null,
      "max_width": null,
      "min_height": null,
      "min_width": null,
      "object_fit": null,
      "object_position": null,
      "order": null,
      "overflow": null,
      "overflow_x": null,
      "overflow_y": null,
      "padding": null,
      "right": null,
      "top": null,
      "visibility": null,
      "width": null
     }
    },
    "d161e3806fcd4cff9d252ffb19f45768": {
     "model_module": "@jupyter-widgets/controls",
     "model_module_version": "1.5.0",
     "model_name": "FloatProgressModel",
     "state": {
      "_dom_classes": [],
      "_model_module": "@jupyter-widgets/controls",
      "_model_module_version": "1.5.0",
      "_model_name": "FloatProgressModel",
      "_view_count": null,
      "_view_module": "@jupyter-widgets/controls",
      "_view_module_version": "1.5.0",
      "_view_name": "ProgressView",
      "bar_style": "success",
      "description": "",
      "description_tooltip": null,
      "layout": "IPY_MODEL_14c335745cf94f8fb364fc90b1486916",
      "max": 512,
      "min": 0,
      "orientation": "horizontal",
      "style": "IPY_MODEL_ab47b4855f2e486bad94b4de469dd6ce",
      "value": 512
     }
    },
    "d523054854e94f64adc39e4250e8c9de": {
     "model_module": "@jupyter-widgets/controls",
     "model_module_version": "1.5.0",
     "model_name": "DescriptionStyleModel",
     "state": {
      "_model_module": "@jupyter-widgets/controls",
      "_model_module_version": "1.5.0",
      "_model_name": "DescriptionStyleModel",
      "_view_count": null,
      "_view_module": "@jupyter-widgets/base",
      "_view_module_version": "1.2.0",
      "_view_name": "StyleView",
      "description_width": ""
     }
    },
    "d606bda15c98402c8f476873d70a3a8d": {
     "model_module": "@jupyter-widgets/base",
     "model_module_version": "1.2.0",
     "model_name": "LayoutModel",
     "state": {
      "_model_module": "@jupyter-widgets/base",
      "_model_module_version": "1.2.0",
      "_model_name": "LayoutModel",
      "_view_count": null,
      "_view_module": "@jupyter-widgets/base",
      "_view_module_version": "1.2.0",
      "_view_name": "LayoutView",
      "align_content": null,
      "align_items": null,
      "align_self": null,
      "border": null,
      "bottom": null,
      "display": null,
      "flex": null,
      "flex_flow": null,
      "grid_area": null,
      "grid_auto_columns": null,
      "grid_auto_flow": null,
      "grid_auto_rows": null,
      "grid_column": null,
      "grid_gap": null,
      "grid_row": null,
      "grid_template_areas": null,
      "grid_template_columns": null,
      "grid_template_rows": null,
      "height": null,
      "justify_content": null,
      "justify_items": null,
      "left": null,
      "margin": null,
      "max_height": null,
      "max_width": null,
      "min_height": null,
      "min_width": null,
      "object_fit": null,
      "object_position": null,
      "order": null,
      "overflow": null,
      "overflow_x": null,
      "overflow_y": null,
      "padding": null,
      "right": null,
      "top": null,
      "visibility": null,
      "width": null
     }
    },
    "d656337f85f246de94f190224c4e6587": {
     "model_module": "@jupyter-widgets/base",
     "model_module_version": "1.2.0",
     "model_name": "LayoutModel",
     "state": {
      "_model_module": "@jupyter-widgets/base",
      "_model_module_version": "1.2.0",
      "_model_name": "LayoutModel",
      "_view_count": null,
      "_view_module": "@jupyter-widgets/base",
      "_view_module_version": "1.2.0",
      "_view_name": "LayoutView",
      "align_content": null,
      "align_items": null,
      "align_self": null,
      "border": null,
      "bottom": null,
      "display": null,
      "flex": null,
      "flex_flow": null,
      "grid_area": null,
      "grid_auto_columns": null,
      "grid_auto_flow": null,
      "grid_auto_rows": null,
      "grid_column": null,
      "grid_gap": null,
      "grid_row": null,
      "grid_template_areas": null,
      "grid_template_columns": null,
      "grid_template_rows": null,
      "height": null,
      "justify_content": null,
      "justify_items": null,
      "left": null,
      "margin": null,
      "max_height": null,
      "max_width": null,
      "min_height": null,
      "min_width": null,
      "object_fit": null,
      "object_position": null,
      "order": null,
      "overflow": null,
      "overflow_x": null,
      "overflow_y": null,
      "padding": null,
      "right": null,
      "top": null,
      "visibility": null,
      "width": null
     }
    },
    "d7813459ddd147e2851e0acb2de49c8b": {
     "model_module": "@jupyter-widgets/controls",
     "model_module_version": "1.5.0",
     "model_name": "DescriptionStyleModel",
     "state": {
      "_model_module": "@jupyter-widgets/controls",
      "_model_module_version": "1.5.0",
      "_model_name": "DescriptionStyleModel",
      "_view_count": null,
      "_view_module": "@jupyter-widgets/base",
      "_view_module_version": "1.2.0",
      "_view_name": "StyleView",
      "description_width": ""
     }
    },
    "d991d91c2a284f53adacc4a75ef75dd3": {
     "model_module": "@jupyter-widgets/base",
     "model_module_version": "1.2.0",
     "model_name": "LayoutModel",
     "state": {
      "_model_module": "@jupyter-widgets/base",
      "_model_module_version": "1.2.0",
      "_model_name": "LayoutModel",
      "_view_count": null,
      "_view_module": "@jupyter-widgets/base",
      "_view_module_version": "1.2.0",
      "_view_name": "LayoutView",
      "align_content": null,
      "align_items": null,
      "align_self": null,
      "border": null,
      "bottom": null,
      "display": null,
      "flex": null,
      "flex_flow": null,
      "grid_area": null,
      "grid_auto_columns": null,
      "grid_auto_flow": null,
      "grid_auto_rows": null,
      "grid_column": null,
      "grid_gap": null,
      "grid_row": null,
      "grid_template_areas": null,
      "grid_template_columns": null,
      "grid_template_rows": null,
      "height": null,
      "justify_content": null,
      "justify_items": null,
      "left": null,
      "margin": null,
      "max_height": null,
      "max_width": null,
      "min_height": null,
      "min_width": null,
      "object_fit": null,
      "object_position": null,
      "order": null,
      "overflow": null,
      "overflow_x": null,
      "overflow_y": null,
      "padding": null,
      "right": null,
      "top": null,
      "visibility": null,
      "width": null
     }
    },
    "d9a35ba3075840fb90c767c364b506e0": {
     "model_module": "@jupyter-widgets/base",
     "model_module_version": "1.2.0",
     "model_name": "LayoutModel",
     "state": {
      "_model_module": "@jupyter-widgets/base",
      "_model_module_version": "1.2.0",
      "_model_name": "LayoutModel",
      "_view_count": null,
      "_view_module": "@jupyter-widgets/base",
      "_view_module_version": "1.2.0",
      "_view_name": "LayoutView",
      "align_content": null,
      "align_items": null,
      "align_self": null,
      "border": null,
      "bottom": null,
      "display": null,
      "flex": null,
      "flex_flow": null,
      "grid_area": null,
      "grid_auto_columns": null,
      "grid_auto_flow": null,
      "grid_auto_rows": null,
      "grid_column": null,
      "grid_gap": null,
      "grid_row": null,
      "grid_template_areas": null,
      "grid_template_columns": null,
      "grid_template_rows": null,
      "height": null,
      "justify_content": null,
      "justify_items": null,
      "left": null,
      "margin": null,
      "max_height": null,
      "max_width": null,
      "min_height": null,
      "min_width": null,
      "object_fit": null,
      "object_position": null,
      "order": null,
      "overflow": null,
      "overflow_x": null,
      "overflow_y": null,
      "padding": null,
      "right": null,
      "top": null,
      "visibility": null,
      "width": null
     }
    },
    "da86b37393de4c7e92e4245069c8d2d9": {
     "model_module": "@jupyter-widgets/controls",
     "model_module_version": "1.5.0",
     "model_name": "HTMLModel",
     "state": {
      "_dom_classes": [],
      "_model_module": "@jupyter-widgets/controls",
      "_model_module_version": "1.5.0",
      "_model_name": "HTMLModel",
      "_view_count": null,
      "_view_module": "@jupyter-widgets/controls",
      "_view_module_version": "1.5.0",
      "_view_name": "HTMLView",
      "description": "",
      "description_tooltip": null,
      "layout": "IPY_MODEL_2c85860013514be2809b48f1a650e98c",
      "placeholder": "​",
      "style": "IPY_MODEL_7bfbfd655237407d9512182483e63da2",
      "value": "Map: 100%"
     }
    },
    "dc53db7dfae749fc89986a57484b23f4": {
     "model_module": "@jupyter-widgets/controls",
     "model_module_version": "1.5.0",
     "model_name": "ProgressStyleModel",
     "state": {
      "_model_module": "@jupyter-widgets/controls",
      "_model_module_version": "1.5.0",
      "_model_name": "ProgressStyleModel",
      "_view_count": null,
      "_view_module": "@jupyter-widgets/base",
      "_view_module_version": "1.2.0",
      "_view_name": "StyleView",
      "bar_color": null,
      "description_width": ""
     }
    },
    "dd1e40b7d0f64f2484baa20686451a20": {
     "model_module": "@jupyter-widgets/controls",
     "model_module_version": "1.5.0",
     "model_name": "ProgressStyleModel",
     "state": {
      "_model_module": "@jupyter-widgets/controls",
      "_model_module_version": "1.5.0",
      "_model_name": "ProgressStyleModel",
      "_view_count": null,
      "_view_module": "@jupyter-widgets/base",
      "_view_module_version": "1.2.0",
      "_view_name": "StyleView",
      "bar_color": null,
      "description_width": ""
     }
    },
    "df696730211a4a49b779db70efdf5265": {
     "model_module": "@jupyter-widgets/controls",
     "model_module_version": "1.5.0",
     "model_name": "HBoxModel",
     "state": {
      "_dom_classes": [],
      "_model_module": "@jupyter-widgets/controls",
      "_model_module_version": "1.5.0",
      "_model_name": "HBoxModel",
      "_view_count": null,
      "_view_module": "@jupyter-widgets/controls",
      "_view_module_version": "1.5.0",
      "_view_name": "HBoxView",
      "box_style": "",
      "children": [
       "IPY_MODEL_091fcc51af3a478e8cab7afb51f3ddb3",
       "IPY_MODEL_67d171f6c85d4df0a99bb090404eaab3",
       "IPY_MODEL_0aab315928d94dcfba49cc123da53222"
      ],
      "layout": "IPY_MODEL_647e1e26dbb344c28fb74a85c2c9eb42"
     }
    },
    "e0eca42ef9fa42429fd9d377372cbf92": {
     "model_module": "@jupyter-widgets/controls",
     "model_module_version": "1.5.0",
     "model_name": "DescriptionStyleModel",
     "state": {
      "_model_module": "@jupyter-widgets/controls",
      "_model_module_version": "1.5.0",
      "_model_name": "DescriptionStyleModel",
      "_view_count": null,
      "_view_module": "@jupyter-widgets/base",
      "_view_module_version": "1.2.0",
      "_view_name": "StyleView",
      "description_width": ""
     }
    },
    "e2b4d443cb884204ba4377b53c7161e0": {
     "model_module": "@jupyter-widgets/base",
     "model_module_version": "1.2.0",
     "model_name": "LayoutModel",
     "state": {
      "_model_module": "@jupyter-widgets/base",
      "_model_module_version": "1.2.0",
      "_model_name": "LayoutModel",
      "_view_count": null,
      "_view_module": "@jupyter-widgets/base",
      "_view_module_version": "1.2.0",
      "_view_name": "LayoutView",
      "align_content": null,
      "align_items": null,
      "align_self": null,
      "border": null,
      "bottom": null,
      "display": null,
      "flex": null,
      "flex_flow": null,
      "grid_area": null,
      "grid_auto_columns": null,
      "grid_auto_flow": null,
      "grid_auto_rows": null,
      "grid_column": null,
      "grid_gap": null,
      "grid_row": null,
      "grid_template_areas": null,
      "grid_template_columns": null,
      "grid_template_rows": null,
      "height": null,
      "justify_content": null,
      "justify_items": null,
      "left": null,
      "margin": null,
      "max_height": null,
      "max_width": null,
      "min_height": null,
      "min_width": null,
      "object_fit": null,
      "object_position": null,
      "order": null,
      "overflow": null,
      "overflow_x": null,
      "overflow_y": null,
      "padding": null,
      "right": null,
      "top": null,
      "visibility": null,
      "width": null
     }
    },
    "e50b1be87b1746c0b18acfe630596689": {
     "model_module": "@jupyter-widgets/base",
     "model_module_version": "1.2.0",
     "model_name": "LayoutModel",
     "state": {
      "_model_module": "@jupyter-widgets/base",
      "_model_module_version": "1.2.0",
      "_model_name": "LayoutModel",
      "_view_count": null,
      "_view_module": "@jupyter-widgets/base",
      "_view_module_version": "1.2.0",
      "_view_name": "LayoutView",
      "align_content": null,
      "align_items": null,
      "align_self": null,
      "border": null,
      "bottom": null,
      "display": null,
      "flex": null,
      "flex_flow": null,
      "grid_area": null,
      "grid_auto_columns": null,
      "grid_auto_flow": null,
      "grid_auto_rows": null,
      "grid_column": null,
      "grid_gap": null,
      "grid_row": null,
      "grid_template_areas": null,
      "grid_template_columns": null,
      "grid_template_rows": null,
      "height": null,
      "justify_content": null,
      "justify_items": null,
      "left": null,
      "margin": null,
      "max_height": null,
      "max_width": null,
      "min_height": null,
      "min_width": null,
      "object_fit": null,
      "object_position": null,
      "order": null,
      "overflow": null,
      "overflow_x": null,
      "overflow_y": null,
      "padding": null,
      "right": null,
      "top": null,
      "visibility": null,
      "width": null
     }
    },
    "e61666a0d42b448185b51acc7c7f4df6": {
     "model_module": "@jupyter-widgets/base",
     "model_module_version": "1.2.0",
     "model_name": "LayoutModel",
     "state": {
      "_model_module": "@jupyter-widgets/base",
      "_model_module_version": "1.2.0",
      "_model_name": "LayoutModel",
      "_view_count": null,
      "_view_module": "@jupyter-widgets/base",
      "_view_module_version": "1.2.0",
      "_view_name": "LayoutView",
      "align_content": null,
      "align_items": null,
      "align_self": null,
      "border": null,
      "bottom": null,
      "display": null,
      "flex": null,
      "flex_flow": null,
      "grid_area": null,
      "grid_auto_columns": null,
      "grid_auto_flow": null,
      "grid_auto_rows": null,
      "grid_column": null,
      "grid_gap": null,
      "grid_row": null,
      "grid_template_areas": null,
      "grid_template_columns": null,
      "grid_template_rows": null,
      "height": null,
      "justify_content": null,
      "justify_items": null,
      "left": null,
      "margin": null,
      "max_height": null,
      "max_width": null,
      "min_height": null,
      "min_width": null,
      "object_fit": null,
      "object_position": null,
      "order": null,
      "overflow": null,
      "overflow_x": null,
      "overflow_y": null,
      "padding": null,
      "right": null,
      "top": null,
      "visibility": null,
      "width": null
     }
    },
    "e6633db246274bd8a084a0d207e20f46": {
     "model_module": "@jupyter-widgets/controls",
     "model_module_version": "1.5.0",
     "model_name": "ProgressStyleModel",
     "state": {
      "_model_module": "@jupyter-widgets/controls",
      "_model_module_version": "1.5.0",
      "_model_name": "ProgressStyleModel",
      "_view_count": null,
      "_view_module": "@jupyter-widgets/base",
      "_view_module_version": "1.2.0",
      "_view_name": "StyleView",
      "bar_color": null,
      "description_width": ""
     }
    },
    "e6c624a45d61470fa2061d9bb185b18e": {
     "model_module": "@jupyter-widgets/controls",
     "model_module_version": "1.5.0",
     "model_name": "HBoxModel",
     "state": {
      "_dom_classes": [],
      "_model_module": "@jupyter-widgets/controls",
      "_model_module_version": "1.5.0",
      "_model_name": "HBoxModel",
      "_view_count": null,
      "_view_module": "@jupyter-widgets/controls",
      "_view_module_version": "1.5.0",
      "_view_name": "HBoxView",
      "box_style": "",
      "children": [
       "IPY_MODEL_b7337b01f75d464fa3b9ba3599209e12",
       "IPY_MODEL_1feefa33dd434a7e954c49b8b32d09f7",
       "IPY_MODEL_6047ab7b3fb44ab99afffd57e1874f59"
      ],
      "layout": "IPY_MODEL_839d6f430f7849dfbba65a904af8206a"
     }
    },
    "ecc1fc42e5c441ca9b16af6403635237": {
     "model_module": "@jupyter-widgets/controls",
     "model_module_version": "1.5.0",
     "model_name": "DescriptionStyleModel",
     "state": {
      "_model_module": "@jupyter-widgets/controls",
      "_model_module_version": "1.5.0",
      "_model_name": "DescriptionStyleModel",
      "_view_count": null,
      "_view_module": "@jupyter-widgets/base",
      "_view_module_version": "1.2.0",
      "_view_name": "StyleView",
      "description_width": ""
     }
    },
    "ecf1aa9189c34ce7968b5dcb860d2075": {
     "model_module": "@jupyter-widgets/controls",
     "model_module_version": "1.5.0",
     "model_name": "HBoxModel",
     "state": {
      "_dom_classes": [],
      "_model_module": "@jupyter-widgets/controls",
      "_model_module_version": "1.5.0",
      "_model_name": "HBoxModel",
      "_view_count": null,
      "_view_module": "@jupyter-widgets/controls",
      "_view_module_version": "1.5.0",
      "_view_name": "HBoxView",
      "box_style": "",
      "children": [
       "IPY_MODEL_5e3627c3d1fd43878b5393e74bf16c2d",
       "IPY_MODEL_bcaf6e6e702d4f218152b19f781c8727",
       "IPY_MODEL_a73b0bbe89e44829bbf5de0ea1d19b98"
      ],
      "layout": "IPY_MODEL_baced56eac214b58afe5153752a434c0"
     }
    },
    "ee87c723e25548ddb32e4102d39a5fac": {
     "model_module": "@jupyter-widgets/controls",
     "model_module_version": "1.5.0",
     "model_name": "DescriptionStyleModel",
     "state": {
      "_model_module": "@jupyter-widgets/controls",
      "_model_module_version": "1.5.0",
      "_model_name": "DescriptionStyleModel",
      "_view_count": null,
      "_view_module": "@jupyter-widgets/base",
      "_view_module_version": "1.2.0",
      "_view_name": "StyleView",
      "description_width": ""
     }
    },
    "ef48546c77a14262892e582b30d409f7": {
     "model_module": "@jupyter-widgets/base",
     "model_module_version": "1.2.0",
     "model_name": "LayoutModel",
     "state": {
      "_model_module": "@jupyter-widgets/base",
      "_model_module_version": "1.2.0",
      "_model_name": "LayoutModel",
      "_view_count": null,
      "_view_module": "@jupyter-widgets/base",
      "_view_module_version": "1.2.0",
      "_view_name": "LayoutView",
      "align_content": null,
      "align_items": null,
      "align_self": null,
      "border": null,
      "bottom": null,
      "display": null,
      "flex": null,
      "flex_flow": null,
      "grid_area": null,
      "grid_auto_columns": null,
      "grid_auto_flow": null,
      "grid_auto_rows": null,
      "grid_column": null,
      "grid_gap": null,
      "grid_row": null,
      "grid_template_areas": null,
      "grid_template_columns": null,
      "grid_template_rows": null,
      "height": null,
      "justify_content": null,
      "justify_items": null,
      "left": null,
      "margin": null,
      "max_height": null,
      "max_width": null,
      "min_height": null,
      "min_width": null,
      "object_fit": null,
      "object_position": null,
      "order": null,
      "overflow": null,
      "overflow_x": null,
      "overflow_y": null,
      "padding": null,
      "right": null,
      "top": null,
      "visibility": null,
      "width": null
     }
    },
    "f07342397c094221bfd18dd34dfa04fe": {
     "model_module": "@jupyter-widgets/base",
     "model_module_version": "1.2.0",
     "model_name": "LayoutModel",
     "state": {
      "_model_module": "@jupyter-widgets/base",
      "_model_module_version": "1.2.0",
      "_model_name": "LayoutModel",
      "_view_count": null,
      "_view_module": "@jupyter-widgets/base",
      "_view_module_version": "1.2.0",
      "_view_name": "LayoutView",
      "align_content": null,
      "align_items": null,
      "align_self": null,
      "border": null,
      "bottom": null,
      "display": null,
      "flex": null,
      "flex_flow": null,
      "grid_area": null,
      "grid_auto_columns": null,
      "grid_auto_flow": null,
      "grid_auto_rows": null,
      "grid_column": null,
      "grid_gap": null,
      "grid_row": null,
      "grid_template_areas": null,
      "grid_template_columns": null,
      "grid_template_rows": null,
      "height": null,
      "justify_content": null,
      "justify_items": null,
      "left": null,
      "margin": null,
      "max_height": null,
      "max_width": null,
      "min_height": null,
      "min_width": null,
      "object_fit": null,
      "object_position": null,
      "order": null,
      "overflow": null,
      "overflow_x": null,
      "overflow_y": null,
      "padding": null,
      "right": null,
      "top": null,
      "visibility": null,
      "width": null
     }
    },
    "f165b96a1b8b410b9c7804ffe54d427d": {
     "model_module": "@jupyter-widgets/controls",
     "model_module_version": "1.5.0",
     "model_name": "ProgressStyleModel",
     "state": {
      "_model_module": "@jupyter-widgets/controls",
      "_model_module_version": "1.5.0",
      "_model_name": "ProgressStyleModel",
      "_view_count": null,
      "_view_module": "@jupyter-widgets/base",
      "_view_module_version": "1.2.0",
      "_view_name": "StyleView",
      "bar_color": null,
      "description_width": ""
     }
    },
    "f328ad478b8a466cbf86f3159378e907": {
     "model_module": "@jupyter-widgets/base",
     "model_module_version": "1.2.0",
     "model_name": "LayoutModel",
     "state": {
      "_model_module": "@jupyter-widgets/base",
      "_model_module_version": "1.2.0",
      "_model_name": "LayoutModel",
      "_view_count": null,
      "_view_module": "@jupyter-widgets/base",
      "_view_module_version": "1.2.0",
      "_view_name": "LayoutView",
      "align_content": null,
      "align_items": null,
      "align_self": null,
      "border": null,
      "bottom": null,
      "display": null,
      "flex": null,
      "flex_flow": null,
      "grid_area": null,
      "grid_auto_columns": null,
      "grid_auto_flow": null,
      "grid_auto_rows": null,
      "grid_column": null,
      "grid_gap": null,
      "grid_row": null,
      "grid_template_areas": null,
      "grid_template_columns": null,
      "grid_template_rows": null,
      "height": null,
      "justify_content": null,
      "justify_items": null,
      "left": null,
      "margin": null,
      "max_height": null,
      "max_width": null,
      "min_height": null,
      "min_width": null,
      "object_fit": null,
      "object_position": null,
      "order": null,
      "overflow": null,
      "overflow_x": null,
      "overflow_y": null,
      "padding": null,
      "right": null,
      "top": null,
      "visibility": null,
      "width": null
     }
    },
    "f4a95ed5d629468a91fc389c044716b1": {
     "model_module": "@jupyter-widgets/controls",
     "model_module_version": "1.5.0",
     "model_name": "HTMLModel",
     "state": {
      "_dom_classes": [],
      "_model_module": "@jupyter-widgets/controls",
      "_model_module_version": "1.5.0",
      "_model_name": "HTMLModel",
      "_view_count": null,
      "_view_module": "@jupyter-widgets/controls",
      "_view_module_version": "1.5.0",
      "_view_name": "HTMLView",
      "description": "",
      "description_tooltip": null,
      "layout": "IPY_MODEL_ef48546c77a14262892e582b30d409f7",
      "placeholder": "​",
      "style": "IPY_MODEL_8dede352512b4506b184692d648317ec",
      "value": " 9.10M/9.10M [00:00&lt;00:00, 26.1MB/s]"
     }
    },
    "f6a9847e7c29498f87d2a0d55427fec5": {
     "model_module": "@jupyter-widgets/controls",
     "model_module_version": "1.5.0",
     "model_name": "HBoxModel",
     "state": {
      "_dom_classes": [],
      "_model_module": "@jupyter-widgets/controls",
      "_model_module_version": "1.5.0",
      "_model_name": "HBoxModel",
      "_view_count": null,
      "_view_module": "@jupyter-widgets/controls",
      "_view_module_version": "1.5.0",
      "_view_name": "HBoxView",
      "box_style": "",
      "children": [
       "IPY_MODEL_c383548ff3f246b48ff34a40f9ba42a7",
       "IPY_MODEL_af9e066524ea4da5a2346a22c3f6c237",
       "IPY_MODEL_c6eb3d30e7434f0fb92c8c6af64c41e4"
      ],
      "layout": "IPY_MODEL_72cc2b4338634721824b2e096aaeb4e9"
     }
    },
    "faa287580cc24acdb64d6c8fa1b03042": {
     "model_module": "@jupyter-widgets/controls",
     "model_module_version": "1.5.0",
     "model_name": "HTMLModel",
     "state": {
      "_dom_classes": [],
      "_model_module": "@jupyter-widgets/controls",
      "_model_module_version": "1.5.0",
      "_model_name": "HTMLModel",
      "_view_count": null,
      "_view_module": "@jupyter-widgets/controls",
      "_view_module_version": "1.5.0",
      "_view_name": "HTMLView",
      "description": "",
      "description_tooltip": null,
      "layout": "IPY_MODEL_b08fa6941b314568bbfc47cb3b3509f2",
      "placeholder": "​",
      "style": "IPY_MODEL_39dc6c2bdfd04b7c99e9af2f83c55f48",
      "value": "Map: 100%"
     }
    },
    "fb3d1b5db0b042e893c9e8d10719d7af": {
     "model_module": "@jupyter-widgets/base",
     "model_module_version": "1.2.0",
     "model_name": "LayoutModel",
     "state": {
      "_model_module": "@jupyter-widgets/base",
      "_model_module_version": "1.2.0",
      "_model_name": "LayoutModel",
      "_view_count": null,
      "_view_module": "@jupyter-widgets/base",
      "_view_module_version": "1.2.0",
      "_view_name": "LayoutView",
      "align_content": null,
      "align_items": null,
      "align_self": null,
      "border": null,
      "bottom": null,
      "display": null,
      "flex": null,
      "flex_flow": null,
      "grid_area": null,
      "grid_auto_columns": null,
      "grid_auto_flow": null,
      "grid_auto_rows": null,
      "grid_column": null,
      "grid_gap": null,
      "grid_row": null,
      "grid_template_areas": null,
      "grid_template_columns": null,
      "grid_template_rows": null,
      "height": null,
      "justify_content": null,
      "justify_items": null,
      "left": null,
      "margin": null,
      "max_height": null,
      "max_width": null,
      "min_height": null,
      "min_width": null,
      "object_fit": null,
      "object_position": null,
      "order": null,
      "overflow": null,
      "overflow_x": null,
      "overflow_y": null,
      "padding": null,
      "right": null,
      "top": null,
      "visibility": null,
      "width": null
     }
    },
    "fbf254dcf852414182422ff44820e2ab": {
     "model_module": "@jupyter-widgets/controls",
     "model_module_version": "1.5.0",
     "model_name": "HTMLModel",
     "state": {
      "_dom_classes": [],
      "_model_module": "@jupyter-widgets/controls",
      "_model_module_version": "1.5.0",
      "_model_name": "HTMLModel",
      "_view_count": null,
      "_view_module": "@jupyter-widgets/controls",
      "_view_module_version": "1.5.0",
      "_view_name": "HTMLView",
      "description": "",
      "description_tooltip": null,
      "layout": "IPY_MODEL_547e41c39e8146d48615224a0a9881f8",
      "placeholder": "​",
      "style": "IPY_MODEL_3cfc2887f64f40fb9a684389664601cb",
      "value": " 942M/942M [00:11&lt;00:00, 63.8MB/s]"
     }
    },
    "fc61022e18c84bcdb5dd00b387209ee6": {
     "model_module": "@jupyter-widgets/controls",
     "model_module_version": "1.5.0",
     "model_name": "FloatProgressModel",
     "state": {
      "_dom_classes": [],
      "_model_module": "@jupyter-widgets/controls",
      "_model_module_version": "1.5.0",
      "_model_name": "FloatProgressModel",
      "_view_count": null,
      "_view_module": "@jupyter-widgets/controls",
      "_view_module_version": "1.5.0",
      "_view_name": "ProgressView",
      "bar_style": "success",
      "description": "",
      "description_tooltip": null,
      "layout": "IPY_MODEL_2d29954e917141d596f7bc730c66844f",
      "max": 2393,
      "min": 0,
      "orientation": "horizontal",
      "style": "IPY_MODEL_9fbf9bcc0f46407d8451eb274fa59f95",
      "value": 2393
     }
    },
    "fecf531a2c9f485daee848e263bc4c0a": {
     "model_module": "@jupyter-widgets/base",
     "model_module_version": "1.2.0",
     "model_name": "LayoutModel",
     "state": {
      "_model_module": "@jupyter-widgets/base",
      "_model_module_version": "1.2.0",
      "_model_name": "LayoutModel",
      "_view_count": null,
      "_view_module": "@jupyter-widgets/base",
      "_view_module_version": "1.2.0",
      "_view_name": "LayoutView",
      "align_content": null,
      "align_items": null,
      "align_self": null,
      "border": null,
      "bottom": null,
      "display": null,
      "flex": null,
      "flex_flow": null,
      "grid_area": null,
      "grid_auto_columns": null,
      "grid_auto_flow": null,
      "grid_auto_rows": null,
      "grid_column": null,
      "grid_gap": null,
      "grid_row": null,
      "grid_template_areas": null,
      "grid_template_columns": null,
      "grid_template_rows": null,
      "height": null,
      "justify_content": null,
      "justify_items": null,
      "left": null,
      "margin": null,
      "max_height": null,
      "max_width": null,
      "min_height": null,
      "min_width": null,
      "object_fit": null,
      "object_position": null,
      "order": null,
      "overflow": null,
      "overflow_x": null,
      "overflow_y": null,
      "padding": null,
      "right": null,
      "top": null,
      "visibility": null,
      "width": null
     }
    }
   }
  }
 },
 "nbformat": 4,
 "nbformat_minor": 5
}
